{
 "cells": [
  {
   "cell_type": "code",
   "execution_count": 3,
   "id": "57c072ae",
   "metadata": {},
   "outputs": [
    {
     "name": "stderr",
     "output_type": "stream",
     "text": [
      "[nltk_data] Downloading package stopwords to\n",
      "[nltk_data]     C:\\Users\\FIRAS\\AppData\\Roaming\\nltk_data...\n",
      "[nltk_data]   Package stopwords is already up-to-date!\n",
      "[nltk_data] Downloading package wordnet to\n",
      "[nltk_data]     C:\\Users\\FIRAS\\AppData\\Roaming\\nltk_data...\n",
      "[nltk_data]   Package wordnet is already up-to-date!\n"
     ]
    },
    {
     "data": {
      "text/plain": [
       "True"
      ]
     },
     "execution_count": 3,
     "metadata": {},
     "output_type": "execute_result"
    }
   ],
   "source": [
    "from tensorflow import keras\n",
    "import numpy as np\n",
    "import re\n",
    "import nltk\n",
    "from nltk.corpus import stopwords\n",
    "import string\n",
    "import pandas as pd\n",
    "from nltk.stem import WordNetLemmatizer\n",
    "from nltk.corpus import stopwords\n",
    "nltk.download('stopwords')\n",
    "nltk.download('wordnet')"
   ]
  },
  {
   "cell_type": "code",
   "execution_count": 4,
   "id": "40160bad",
   "metadata": {},
   "outputs": [
    {
     "data": {
      "text/html": [
       "<div>\n",
       "<style scoped>\n",
       "    .dataframe tbody tr th:only-of-type {\n",
       "        vertical-align: middle;\n",
       "    }\n",
       "\n",
       "    .dataframe tbody tr th {\n",
       "        vertical-align: top;\n",
       "    }\n",
       "\n",
       "    .dataframe thead th {\n",
       "        text-align: right;\n",
       "    }\n",
       "</style>\n",
       "<table border=\"1\" class=\"dataframe\">\n",
       "  <thead>\n",
       "    <tr style=\"text-align: right;\">\n",
       "      <th></th>\n",
       "      <th>Commentaire</th>\n",
       "      <th>Classe</th>\n",
       "    </tr>\n",
       "  </thead>\n",
       "  <tbody>\n",
       "    <tr>\n",
       "      <th>0</th>\n",
       "      <td>محند اعطيك الاختيارات ههههه و انت احسن الظن ف...</td>\n",
       "      <td>normal</td>\n",
       "    </tr>\n",
       "    <tr>\n",
       "      <th>1</th>\n",
       "      <td>إبراهيم الجعفري رئيس وزراء العراق إلتون جون...</td>\n",
       "      <td>abusive</td>\n",
       "    </tr>\n",
       "    <tr>\n",
       "      <th>2</th>\n",
       "      <td>لماذا عندما نتصفح الإنترنت نشعر أن الكل من نف...</td>\n",
       "      <td>normal</td>\n",
       "    </tr>\n",
       "    <tr>\n",
       "      <th>3</th>\n",
       "      <td>تريد دابا كنقادو بروغرام ديال الصيف ههه بنادم ...</td>\n",
       "      <td>normal</td>\n",
       "    </tr>\n",
       "    <tr>\n",
       "      <th>4</th>\n",
       "      <td>مكنهدرش على باغي الفلوس على ود راحة البال اه...</td>\n",
       "      <td>hate</td>\n",
       "    </tr>\n",
       "  </tbody>\n",
       "</table>\n",
       "</div>"
      ],
      "text/plain": [
       "                                         Commentaire   Classe\n",
       "0   محند اعطيك الاختيارات ههههه و انت احسن الظن ف...   normal\n",
       "1     إبراهيم الجعفري رئيس وزراء العراق إلتون جون...  abusive\n",
       "2   لماذا عندما نتصفح الإنترنت نشعر أن الكل من نف...   normal\n",
       "3  تريد دابا كنقادو بروغرام ديال الصيف ههه بنادم ...   normal\n",
       "4    مكنهدرش على باغي الفلوس على ود راحة البال اه...     hate"
      ]
     },
     "execution_count": 4,
     "metadata": {},
     "output_type": "execute_result"
    }
   ],
   "source": [
    "df = pd.read_excel('C:/Users/FIRAS/Desktop/Ref NLP/work/dataset_marrocain.xlsx')\n",
    "df.head()"
   ]
  },
  {
   "cell_type": "code",
   "execution_count": 5,
   "id": "963a07ea",
   "metadata": {},
   "outputs": [
    {
     "data": {
      "text/plain": [
       "(1549, 2)"
      ]
     },
     "execution_count": 5,
     "metadata": {},
     "output_type": "execute_result"
    }
   ],
   "source": [
    "df.shape"
   ]
  },
  {
   "cell_type": "code",
   "execution_count": 6,
   "id": "8d1ab98e",
   "metadata": {},
   "outputs": [
    {
     "data": {
      "text/html": [
       "<div>\n",
       "<style scoped>\n",
       "    .dataframe tbody tr th:only-of-type {\n",
       "        vertical-align: middle;\n",
       "    }\n",
       "\n",
       "    .dataframe tbody tr th {\n",
       "        vertical-align: top;\n",
       "    }\n",
       "\n",
       "    .dataframe thead th {\n",
       "        text-align: right;\n",
       "    }\n",
       "</style>\n",
       "<table border=\"1\" class=\"dataframe\">\n",
       "  <thead>\n",
       "    <tr style=\"text-align: right;\">\n",
       "      <th></th>\n",
       "      <th>Commentaire</th>\n",
       "      <th>Classe</th>\n",
       "    </tr>\n",
       "  </thead>\n",
       "  <tbody>\n",
       "    <tr>\n",
       "      <th>count</th>\n",
       "      <td>1548</td>\n",
       "      <td>1549</td>\n",
       "    </tr>\n",
       "    <tr>\n",
       "      <th>unique</th>\n",
       "      <td>1485</td>\n",
       "      <td>3</td>\n",
       "    </tr>\n",
       "    <tr>\n",
       "      <th>top</th>\n",
       "      <td>هاد ناس برشيد عالام تحية للعنصرية النسوي</td>\n",
       "      <td>normal</td>\n",
       "    </tr>\n",
       "    <tr>\n",
       "      <th>freq</th>\n",
       "      <td>12</td>\n",
       "      <td>1361</td>\n",
       "    </tr>\n",
       "  </tbody>\n",
       "</table>\n",
       "</div>"
      ],
      "text/plain": [
       "                                      Commentaire  Classe\n",
       "count                                        1548    1549\n",
       "unique                                       1485       3\n",
       "top     هاد ناس برشيد عالام تحية للعنصرية النسوي   normal\n",
       "freq                                           12    1361"
      ]
     },
     "execution_count": 6,
     "metadata": {},
     "output_type": "execute_result"
    }
   ],
   "source": [
    "df.describe()"
   ]
  },
  {
   "cell_type": "code",
   "execution_count": 7,
   "id": "c96628c8",
   "metadata": {},
   "outputs": [
    {
     "data": {
      "text/plain": [
       "Commentaire    1\n",
       "Classe         0\n",
       "dtype: int64"
      ]
     },
     "execution_count": 7,
     "metadata": {},
     "output_type": "execute_result"
    }
   ],
   "source": [
    "df.isnull().sum()"
   ]
  },
  {
   "cell_type": "code",
   "execution_count": 8,
   "id": "1171569f",
   "metadata": {},
   "outputs": [],
   "source": [
    "df=df.dropna()"
   ]
  },
  {
   "cell_type": "code",
   "execution_count": 9,
   "id": "f2c4e425",
   "metadata": {},
   "outputs": [
    {
     "data": {
      "text/plain": [
       "Commentaire    False\n",
       "Classe         False\n",
       "dtype: bool"
      ]
     },
     "execution_count": 9,
     "metadata": {},
     "output_type": "execute_result"
    }
   ],
   "source": [
    "df.isnull().any()"
   ]
  },
  {
   "cell_type": "code",
   "execution_count": 10,
   "id": "8eb496e6",
   "metadata": {},
   "outputs": [
    {
     "data": {
      "text/plain": [
       "normal     1360\n",
       "hate        166\n",
       "abusive      22\n",
       "Name: Classe, dtype: int64"
      ]
     },
     "execution_count": 10,
     "metadata": {},
     "output_type": "execute_result"
    }
   ],
   "source": [
    "df['Classe'].value_counts()"
   ]
  },
  {
   "cell_type": "code",
   "execution_count": 11,
   "id": "e14ee35b",
   "metadata": {},
   "outputs": [
    {
     "data": {
      "text/plain": [
       "<AxesSubplot:title={'center':'Classe Distribution'}>"
      ]
     },
     "execution_count": 11,
     "metadata": {},
     "output_type": "execute_result"
    },
    {
     "data": {
      "image/png": "[encoded data removed]",
      "text/plain": [
       "<Figure size 432x288 with 1 Axes>"
      ]
     },
     "metadata": {
      "needs_background": "light"
     },
     "output_type": "display_data"
    }
   ],
   "source": [
    "df.Classe.value_counts().plot.bar(x=df.Classe.unique(), title='Classe Distribution')"
   ]
  },
  {
   "cell_type": "code",
   "execution_count": 12,
   "id": "5c7efbb7",
   "metadata": {},
   "outputs": [
    {
     "data": {
      "text/html": [
       "<div>\n",
       "<style scoped>\n",
       "    .dataframe tbody tr th:only-of-type {\n",
       "        vertical-align: middle;\n",
       "    }\n",
       "\n",
       "    .dataframe tbody tr th {\n",
       "        vertical-align: top;\n",
       "    }\n",
       "\n",
       "    .dataframe thead th {\n",
       "        text-align: right;\n",
       "    }\n",
       "</style>\n",
       "<table border=\"1\" class=\"dataframe\">\n",
       "  <thead>\n",
       "    <tr style=\"text-align: right;\">\n",
       "      <th></th>\n",
       "      <th>Commentaire</th>\n",
       "      <th>Classe</th>\n",
       "      <th>Label</th>\n",
       "    </tr>\n",
       "  </thead>\n",
       "  <tbody>\n",
       "    <tr>\n",
       "      <th>0</th>\n",
       "      <td>محند اعطيك الاختيارات ههههه و انت احسن الظن ف...</td>\n",
       "      <td>normal</td>\n",
       "      <td>2</td>\n",
       "    </tr>\n",
       "    <tr>\n",
       "      <th>1</th>\n",
       "      <td>إبراهيم الجعفري رئيس وزراء العراق إلتون جون...</td>\n",
       "      <td>abusive</td>\n",
       "      <td>0</td>\n",
       "    </tr>\n",
       "    <tr>\n",
       "      <th>2</th>\n",
       "      <td>لماذا عندما نتصفح الإنترنت نشعر أن الكل من نف...</td>\n",
       "      <td>normal</td>\n",
       "      <td>2</td>\n",
       "    </tr>\n",
       "    <tr>\n",
       "      <th>3</th>\n",
       "      <td>تريد دابا كنقادو بروغرام ديال الصيف ههه بنادم ...</td>\n",
       "      <td>normal</td>\n",
       "      <td>2</td>\n",
       "    </tr>\n",
       "    <tr>\n",
       "      <th>4</th>\n",
       "      <td>مكنهدرش على باغي الفلوس على ود راحة البال اه...</td>\n",
       "      <td>hate</td>\n",
       "      <td>1</td>\n",
       "    </tr>\n",
       "    <tr>\n",
       "      <th>5</th>\n",
       "      <td>راه لي  مقتنع بلي هاد التضامن على  المواقع حام...</td>\n",
       "      <td>hate</td>\n",
       "      <td>1</td>\n",
       "    </tr>\n",
       "  </tbody>\n",
       "</table>\n",
       "</div>"
      ],
      "text/plain": [
       "                                         Commentaire   Classe  Label\n",
       "0   محند اعطيك الاختيارات ههههه و انت احسن الظن ف...   normal      2\n",
       "1     إبراهيم الجعفري رئيس وزراء العراق إلتون جون...  abusive      0\n",
       "2   لماذا عندما نتصفح الإنترنت نشعر أن الكل من نف...   normal      2\n",
       "3  تريد دابا كنقادو بروغرام ديال الصيف ههه بنادم ...   normal      2\n",
       "4    مكنهدرش على باغي الفلوس على ود راحة البال اه...     hate      1\n",
       "5  راه لي  مقتنع بلي هاد التضامن على  المواقع حام...     hate      1"
      ]
     },
     "execution_count": 12,
     "metadata": {},
     "output_type": "execute_result"
    }
   ],
   "source": [
    "from sklearn.preprocessing import LabelEncoder\n",
    "le=LabelEncoder()\n",
    "df['Label']=le.fit_transform(df['Classe'])\n",
    "df.head(6)"
   ]
  },
  {
   "cell_type": "code",
   "execution_count": 13,
   "id": "ab5d4622",
   "metadata": {
    "scrolled": true
   },
   "outputs": [
    {
     "data": {
      "text/html": [
       "<div>\n",
       "<style scoped>\n",
       "    .dataframe tbody tr th:only-of-type {\n",
       "        vertical-align: middle;\n",
       "    }\n",
       "\n",
       "    .dataframe tbody tr th {\n",
       "        vertical-align: top;\n",
       "    }\n",
       "\n",
       "    .dataframe thead th {\n",
       "        text-align: right;\n",
       "    }\n",
       "</style>\n",
       "<table border=\"1\" class=\"dataframe\">\n",
       "  <thead>\n",
       "    <tr style=\"text-align: right;\">\n",
       "      <th></th>\n",
       "      <th>Commentaire</th>\n",
       "      <th>Classe</th>\n",
       "      <th>Label</th>\n",
       "      <th>word_count</th>\n",
       "    </tr>\n",
       "  </thead>\n",
       "  <tbody>\n",
       "    <tr>\n",
       "      <th>0</th>\n",
       "      <td>محند اعطيك الاختيارات ههههه و انت احسن الظن ف...</td>\n",
       "      <td>normal</td>\n",
       "      <td>2</td>\n",
       "      <td>47</td>\n",
       "    </tr>\n",
       "    <tr>\n",
       "      <th>1</th>\n",
       "      <td>إبراهيم الجعفري رئيس وزراء العراق إلتون جون...</td>\n",
       "      <td>abusive</td>\n",
       "      <td>0</td>\n",
       "      <td>117</td>\n",
       "    </tr>\n",
       "    <tr>\n",
       "      <th>2</th>\n",
       "      <td>لماذا عندما نتصفح الإنترنت نشعر أن الكل من نف...</td>\n",
       "      <td>normal</td>\n",
       "      <td>2</td>\n",
       "      <td>345</td>\n",
       "    </tr>\n",
       "    <tr>\n",
       "      <th>3</th>\n",
       "      <td>تريد دابا كنقادو بروغرام ديال الصيف ههه بنادم ...</td>\n",
       "      <td>normal</td>\n",
       "      <td>2</td>\n",
       "      <td>17</td>\n",
       "    </tr>\n",
       "    <tr>\n",
       "      <th>4</th>\n",
       "      <td>مكنهدرش على باغي الفلوس على ود راحة البال اه...</td>\n",
       "      <td>hate</td>\n",
       "      <td>1</td>\n",
       "      <td>44</td>\n",
       "    </tr>\n",
       "  </tbody>\n",
       "</table>\n",
       "</div>"
      ],
      "text/plain": [
       "                                         Commentaire   Classe  Label  \\\n",
       "0   محند اعطيك الاختيارات ههههه و انت احسن الظن ف...   normal      2   \n",
       "1     إبراهيم الجعفري رئيس وزراء العراق إلتون جون...  abusive      0   \n",
       "2   لماذا عندما نتصفح الإنترنت نشعر أن الكل من نف...   normal      2   \n",
       "3  تريد دابا كنقادو بروغرام ديال الصيف ههه بنادم ...   normal      2   \n",
       "4    مكنهدرش على باغي الفلوس على ود راحة البال اه...     hate      1   \n",
       "\n",
       "   word_count  \n",
       "0          47  \n",
       "1         117  \n",
       "2         345  \n",
       "3          17  \n",
       "4          44  "
      ]
     },
     "execution_count": 13,
     "metadata": {},
     "output_type": "execute_result"
    }
   ],
   "source": [
    "df['word_count'] = df['Commentaire'].apply(lambda x : len(x.split()))\n",
    "df.head()"
   ]
  },
  {
   "cell_type": "code",
   "execution_count": 14,
   "id": "403c20b0",
   "metadata": {},
   "outputs": [],
   "source": [
    "df['normal'] = df['Classe'].apply(lambda x : 1 if x==\"normal\" else 0 )"
   ]
  },
  {
   "cell_type": "code",
   "execution_count": 15,
   "id": "0aebe062",
   "metadata": {},
   "outputs": [
    {
     "data": {
      "text/html": [
       "<div>\n",
       "<style scoped>\n",
       "    .dataframe tbody tr th:only-of-type {\n",
       "        vertical-align: middle;\n",
       "    }\n",
       "\n",
       "    .dataframe tbody tr th {\n",
       "        vertical-align: top;\n",
       "    }\n",
       "\n",
       "    .dataframe thead th {\n",
       "        text-align: right;\n",
       "    }\n",
       "</style>\n",
       "<table border=\"1\" class=\"dataframe\">\n",
       "  <thead>\n",
       "    <tr style=\"text-align: right;\">\n",
       "      <th></th>\n",
       "      <th>Commentaire</th>\n",
       "      <th>Classe</th>\n",
       "      <th>Label</th>\n",
       "      <th>word_count</th>\n",
       "      <th>normal</th>\n",
       "    </tr>\n",
       "  </thead>\n",
       "  <tbody>\n",
       "    <tr>\n",
       "      <th>0</th>\n",
       "      <td>محند اعطيك الاختيارات ههههه و انت احسن الظن ف...</td>\n",
       "      <td>normal</td>\n",
       "      <td>2</td>\n",
       "      <td>47</td>\n",
       "      <td>1</td>\n",
       "    </tr>\n",
       "    <tr>\n",
       "      <th>1</th>\n",
       "      <td>إبراهيم الجعفري رئيس وزراء العراق إلتون جون...</td>\n",
       "      <td>abusive</td>\n",
       "      <td>0</td>\n",
       "      <td>117</td>\n",
       "      <td>0</td>\n",
       "    </tr>\n",
       "    <tr>\n",
       "      <th>2</th>\n",
       "      <td>لماذا عندما نتصفح الإنترنت نشعر أن الكل من نف...</td>\n",
       "      <td>normal</td>\n",
       "      <td>2</td>\n",
       "      <td>345</td>\n",
       "      <td>1</td>\n",
       "    </tr>\n",
       "    <tr>\n",
       "      <th>3</th>\n",
       "      <td>تريد دابا كنقادو بروغرام ديال الصيف ههه بنادم ...</td>\n",
       "      <td>normal</td>\n",
       "      <td>2</td>\n",
       "      <td>17</td>\n",
       "      <td>1</td>\n",
       "    </tr>\n",
       "    <tr>\n",
       "      <th>4</th>\n",
       "      <td>مكنهدرش على باغي الفلوس على ود راحة البال اه...</td>\n",
       "      <td>hate</td>\n",
       "      <td>1</td>\n",
       "      <td>44</td>\n",
       "      <td>0</td>\n",
       "    </tr>\n",
       "  </tbody>\n",
       "</table>\n",
       "</div>"
      ],
      "text/plain": [
       "                                         Commentaire   Classe  Label  \\\n",
       "0   محند اعطيك الاختيارات ههههه و انت احسن الظن ف...   normal      2   \n",
       "1     إبراهيم الجعفري رئيس وزراء العراق إلتون جون...  abusive      0   \n",
       "2   لماذا عندما نتصفح الإنترنت نشعر أن الكل من نف...   normal      2   \n",
       "3  تريد دابا كنقادو بروغرام ديال الصيف ههه بنادم ...   normal      2   \n",
       "4    مكنهدرش على باغي الفلوس على ود راحة البال اه...     hate      1   \n",
       "\n",
       "   word_count  normal  \n",
       "0          47       1  \n",
       "1         117       0  \n",
       "2         345       1  \n",
       "3          17       1  \n",
       "4          44       0  "
      ]
     },
     "execution_count": 15,
     "metadata": {},
     "output_type": "execute_result"
    }
   ],
   "source": [
    "df.head()"
   ]
  },
  {
   "cell_type": "code",
   "execution_count": 12,
   "id": "46a676b3",
   "metadata": {},
   "outputs": [],
   "source": [
    "PRE_TRAINED_MODEL_NAME = 'bert-base-cased'"
   ]
  },
  {
   "cell_type": "code",
   "execution_count": 13,
   "id": "238ae3a0",
   "metadata": {},
   "outputs": [],
   "source": [
    "import re\n",
    "import pyarabic.araby as araby\n",
    "\n",
    "prefix_list = [\n",
    "    \"ال\",\n",
    "    \"و\",\n",
    "    \"ف\",\n",
    "    \"ب\",\n",
    "    \"ك\",\n",
    "    \"ل\",\n",
    "    \"لل\",\n",
    "    \"\\u0627\\u0644\",\n",
    "    \"\\u0648\",\n",
    "    \"\\u0641\",\n",
    "    \"\\u0628\",\n",
    "    \"\\u0643\",\n",
    "    \"\\u0644\",\n",
    "    \"\\u0644\\u0644\",\n",
    "    \"س\",\n",
    "]\n",
    "suffix_list = [\n",
    "    \"ه\",\n",
    "    \"ها\",\n",
    "    \"ك\",\n",
    "    \"ي\",\n",
    "    \"هما\",\n",
    "    \"كما\",\n",
    "    \"نا\",\n",
    "    \"كم\",\n",
    "    \"هم\",\n",
    "    \"هن\",\n",
    "    \"كن\",\n",
    "    \"ا\",\n",
    "    \"ان\",\n",
    "    \"ين\",\n",
    "    \"ون\",\n",
    "    \"وا\",\n",
    "    \"ات\",\n",
    "    \"ت\",\n",
    "    \"ن\",\n",
    "    \"ة\",\n",
    "    \"\\u0647\",\n",
    "    \"\\u0647\\u0627\",\n",
    "    \"\\u0643\",\n",
    "    \"\\u064a\",\n",
    "    \"\\u0647\\u0645\\u0627\",\n",
    "    \"\\u0643\\u0645\\u0627\",\n",
    "    \"\\u0646\\u0627\",\n",
    "    \"\\u0643\\u0645\",\n",
    "    \"\\u0647\\u0645\",\n",
    "    \"\\u0647\\u0646\",\n",
    "    \"\\u0643\\u0646\",\n",
    "    \"\\u0627\",\n",
    "    \"\\u0627\\u0646\",\n",
    "    \"\\u064a\\u0646\",\n",
    "    \"\\u0648\\u0646\",\n",
    "    \"\\u0648\\u0627\",\n",
    "    \"\\u0627\\u062a\",\n",
    "    \"\\u062a\",\n",
    "    \"\\u0646\",\n",
    "    \"\\u0629\",\n",
    "]\n",
    "other_tokens = [\"[رابط]\", \"[مستخدم]\", \"[بريد]\"]\n",
    "\n",
    "# the never_split list is ussed with the transformers library\n",
    "prefix_symbols = [x + \"+\" for x in prefix_list]\n",
    "suffix_symblos = [\"+\" + x for x in suffix_list]\n",
    "never_split_tokens = list(set(prefix_symbols + suffix_symblos + other_tokens))\n",
    "\n",
    "regex_url_step1 = r\"(?=http)[^\\s]+\"\n",
    "regex_url_step2 = r\"(?=www)[^\\s]+\"\n",
    "regex_url = r\"(http(s)?:\\/\\/.)?(www\\.)?[-a-zA-Z0-9@:%._\\+~#=]{2,256}\\.[a-z]{2,6}\\b([-a-zA-Z0-9@:%_\\+.~#?&//=]*)\"\n",
    "regex_mention = r\"@[\\w\\d]+\"\n",
    "regex_email = r\"\\S+@\\S+\"\n",
    "redundant_punct_pattern = (\n",
    "    r\"([!\\\"#\\$%\\'\\(\\)\\*\\+,\\.:;\\-<=·>?@\\[\\\\\\]\\^_ـ`{\\|}~—٪’،؟`୍“؛”ۚ【»؛\\s+«–…‘]{2,})\"\n",
    ")\n",
    "\n",
    "\n",
    "def remove_elongation(word):\n",
    "    \"\"\"\n",
    "\t:param word:  the input word to remove elongation\n",
    "\t:return: delongated word\n",
    "\t\"\"\"\n",
    "    regex_tatweel = r\"(\\w)\\1{2,}\"\n",
    "    # loop over the number of times the regex matched the word\n",
    "    for index_ in range(len(re.findall(regex_tatweel, word))):\n",
    "        if re.search(regex_tatweel, word):\n",
    "            elongation_found = re.search(regex_tatweel, word)\n",
    "            elongation_replacement = elongation_found.group()[0]\n",
    "            elongation_pattern = elongation_found.group()\n",
    "            word = re.sub(\n",
    "                elongation_pattern, elongation_replacement, word, flags=re.MULTILINE\n",
    "            )\n",
    "        else:\n",
    "            break\n",
    "    return word\n",
    "\n",
    "\n",
    "def tokenize_arabic_words_farasa(line_input, farasa_segmenter, use_farasapy):\n",
    "    if use_farasapy:\n",
    "        if type(farasa_segmenter).__name__ == \"FarasaSegmenter\":\n",
    "            line_farasa = farasa_segmenter.segment(line_input).split()\n",
    "        else:\n",
    "            raise TypeError(\n",
    "                'use_farsapy is set to True. farasa must be a \"py4j.java_gateway.JavaObject\"'\n",
    "            )\n",
    "    else:\n",
    "        if type(farasa_segmenter).__name__ == \"JavaObject\":\n",
    "            line_farasa = farasa_segmenter.segmentLine(line_input)\n",
    "        else:\n",
    "            raise TypeError(\n",
    "                'use_farsapy is set to False. farasa must be a \"FarasaSegmenter\" instance from farasapy.segmenter'\n",
    "            )\n",
    "    segmented_line = []\n",
    "    for index, word in enumerate(line_farasa):\n",
    "        if word in [\"[\", \"]\"]:\n",
    "            continue\n",
    "        if word in [\"رابط\", \"بريد\", \"مستخدم\"] and line_farasa[index - 1] in [\"[\", \"]\"]:\n",
    "            segmented_line.append(\"[\" + word + \"]\")\n",
    "            continue\n",
    "        segmented_word = []\n",
    "        for token in word.split(\"+\"):\n",
    "            if token in prefix_list:\n",
    "                segmented_word.append(token + \"+\")\n",
    "            elif token in suffix_list:\n",
    "                segmented_word.append(\"+\" + token)\n",
    "            else:\n",
    "                segmented_word.append(token)\n",
    "        segmented_line.extend(segmented_word)\n",
    "    return \" \".join(segmented_line)\n",
    "\n",
    "\n",
    "def remove_redundant_punct(text):\n",
    "    text_ = text\n",
    "    result = re.search(redundant_punct_pattern, text)\n",
    "    dif = 0\n",
    "    while result:\n",
    "        sub = result.group()\n",
    "        sub = sorted(set(sub), key=sub.index)\n",
    "        sub = \" \" + \"\".join(list(sub)) + \" \"\n",
    "        text = \"\".join(\n",
    "            (text[: result.span()[0] + dif], sub, text[result.span()[1] + dif :])\n",
    "        )\n",
    "        text_ = \"\".join((text_[: result.span()[0]], text_[result.span()[1] :])).strip()\n",
    "        dif = abs(len(text) - len(text_))\n",
    "        result = re.search(redundant_punct_pattern, text_)\n",
    "    text = re.sub(r\"\\s+\", \" \", text)\n",
    "    return text.strip()\n",
    "\n",
    "\n",
    "def preprocess(text, do_farasa_tokenization=True, farasa=None, use_farasapy=False):\n",
    "    \"\"\"\n",
    "\tPreprocess takes an input text line an applies the same preprocessing used in araBERT \n",
    "\t\t\t\tpretraining\n",
    "\t\n",
    "\tNote: a farasapy segmenter is ~6x faster than the py4j.java_gateway, consider setting use_farasapy=True\n",
    "\tFarsa Segmentation will soon be fully migrated to farasapy, and support for the py4j.java_gateway.JavaObject will be removed\n",
    "\tArgs:\n",
    "\t\ttext (string): inout text string\n",
    "\t\tfarasa (JavaGateway): pass a \"py4j.java_gateway.JavaObject\" to the FarasaSegmenter.jar file \n",
    "\t\tfarasa (FarasaSegmenter): pass a FarasaSegmenter instance from farasapy.segmenter\n",
    "\t\tuse_farasapy (boolean): set it to True when using a FarasaSegmenter instance from farasapy.segmenter\n",
    "\tExample: \n",
    "\t\tfrom py4j.java_gateway import JavaGateway\n",
    "\t\tgateway = JavaGateway.launch_gateway(classpath='./FarasaSegmenterJar.jar')\n",
    "\t\tfarasa = gateway.jvm.com.qcri.farasa.segmenter.Farasa()\n",
    "\t\tprocessed_text = preprocess(\"Some_Text\",do_farasa_tokenization=True , farasa=farasa)\n",
    "\t\"\"\"\n",
    "    text = str(text)\n",
    "    processing_tweet = araby.strip_tashkeel(text)\n",
    "    processing_tweet = re.sub(r\"\\d+\\/[ء-ي]+\\/\\d+\\]\", \"\", processing_tweet)\n",
    "    processing_tweet = re.sub(\"ـ\", \"\", processing_tweet)\n",
    "    processing_tweet = re.sub(\"[«»]\", ' \" ', processing_tweet)\n",
    "    # replace the [رابط] token with space if you want to clean links\n",
    "    processing_tweet = re.sub(regex_url_step1, \"[رابط]\", processing_tweet)\n",
    "    processing_tweet = re.sub(regex_url_step2, \"[رابط]\", processing_tweet)\n",
    "    processing_tweet = re.sub(regex_url, \"[رابط]\", processing_tweet)\n",
    "    processing_tweet = re.sub(regex_email, \"[بريد]\", processing_tweet)\n",
    "    processing_tweet = re.sub(regex_mention, \"[مستخدم]\", processing_tweet)\n",
    "    processing_tweet = re.sub(\"…\", r\"\\.\", processing_tweet).strip()\n",
    "    processing_tweet = remove_redundant_punct(processing_tweet)\n",
    "\n",
    "    processing_tweet = re.sub(\n",
    "        r\"\\[ رابط \\]|\\[ رابط\\]|\\[رابط \\]\", \" [رابط] \", processing_tweet\n",
    "    )\n",
    "    processing_tweet = re.sub(\n",
    "        r\"\\[ بريد \\]|\\[ بريد\\]|\\[بريد \\]\", \" [بريد] \", processing_tweet\n",
    "    )\n",
    "    processing_tweet = re.sub(\n",
    "        r\"\\[ مستخدم \\]|\\[ مستخدم\\]|\\[مستخدم \\]\", \" [مستخدم] \", processing_tweet\n",
    "    )\n",
    "\n",
    "    processing_tweet = remove_elongation(processing_tweet)\n",
    "    if do_farasa_tokenization and farasa is not None:\n",
    "        processing_tweet = tokenize_arabic_words_farasa(\n",
    "            processing_tweet, farasa, use_farasapy\n",
    "        )\n",
    "    return processing_tweet.strip()"
   ]
  },
  {
   "cell_type": "code",
   "execution_count": 14,
   "id": "86ff4451",
   "metadata": {},
   "outputs": [],
   "source": [
    "import pandas as pd \n",
    "\n",
    "from sklearn.model_selection import train_test_split\n",
    "\n",
    "from pathlib import Path\n",
    "\n",
    "import torch\n",
    "import torch.nn as nn\n",
    "from torch.utils.data import Dataset, DataLoader\n",
    "\n",
    "import pytorch_lightning as pl\n",
    "\n",
    "import transformers\n",
    "from transformers import BertTokenizer, BertModel, Trainer, TrainingArguments, AdamW, get_linear_schedule_with_warmup"
   ]
  },
  {
   "cell_type": "code",
   "execution_count": 15,
   "id": "8381ca8a",
   "metadata": {},
   "outputs": [],
   "source": [
    "tokenizer = BertTokenizer.from_pretrained(PRE_TRAINED_MODEL_NAME)"
   ]
  },
  {
   "cell_type": "code",
   "execution_count": 16,
   "id": "1ec54ddc",
   "metadata": {},
   "outputs": [],
   "source": [
    "class_names = ['abusive', 'hate', 'normal']"
   ]
  },
  {
   "cell_type": "code",
   "execution_count": 17,
   "id": "53008a3f",
   "metadata": {},
   "outputs": [],
   "source": [
    "MAX_LEN = 160"
   ]
  },
  {
   "cell_type": "code",
   "execution_count": 18,
   "id": "89498774",
   "metadata": {},
   "outputs": [],
   "source": [
    "class GPReviewDataset(Dataset):\n",
    "\n",
    "    def __init__(self, reviews, targets, tokenizer, max_len):\n",
    "        self.reviews = reviews\n",
    "        self.targets = targets\n",
    "        self.tokenizer = tokenizer\n",
    "        self.max_len = max_len\n",
    "  \n",
    "    def __len__(self):\n",
    "        return len(self.reviews)\n",
    "  \n",
    "    def __getitem__(self, item):\n",
    "        review = str(self.reviews[item])\n",
    "        target = self.targets[item]\n",
    "\n",
    "        encoding = self.tokenizer.encode_plus(\n",
    "          review,\n",
    "          add_special_tokens=True,\n",
    "          max_length=self.max_len,\n",
    "          return_token_type_ids=False,\n",
    "          pad_to_max_length=True,\n",
    "          return_attention_mask=True,\n",
    "          return_tensors='pt',\n",
    "        )\n",
    "\n",
    "        return {\n",
    "          'review_text': review,\n",
    "          'input_ids': encoding['input_ids'].flatten(),\n",
    "          'attention_mask': encoding['attention_mask'].flatten(),\n",
    "          'targets': torch.tensor(target, dtype=torch.long)\n",
    "        }"
   ]
  },
  {
   "cell_type": "code",
   "execution_count": 19,
   "id": "12974a93",
   "metadata": {},
   "outputs": [],
   "source": [
    "df_train, df_test = train_test_split(df, test_size=0.1, random_state=42)\n",
    "df_val, df_test = train_test_split(df_test, test_size=0.5, random_state=42)"
   ]
  },
  {
   "cell_type": "code",
   "execution_count": 20,
   "id": "b028f80b",
   "metadata": {},
   "outputs": [
    {
     "data": {
      "text/plain": [
       "((1393, 4), (77, 4), (78, 4))"
      ]
     },
     "execution_count": 20,
     "metadata": {},
     "output_type": "execute_result"
    }
   ],
   "source": [
    "df_train.shape, df_val.shape, df_test.shape"
   ]
  },
  {
   "cell_type": "code",
   "execution_count": 21,
   "id": "35214921",
   "metadata": {},
   "outputs": [],
   "source": [
    "def create_data_loader(df, tokenizer, max_len, batch_size):\n",
    "  ds = GPReviewDataset(\n",
    "    reviews=df.Commentaire.to_numpy(),\n",
    "    targets=df.Classe.to_numpy(),\n",
    "    tokenizer=tokenizer,\n",
    "    max_len=max_len\n",
    "  )\n",
    "  return DataLoader(\n",
    "    ds,\n",
    "    batch_size=batch_size,\n",
    "    num_workers=4\n",
    "  )"
   ]
  },
  {
   "cell_type": "code",
   "execution_count": 22,
   "id": "48804bae",
   "metadata": {},
   "outputs": [],
   "source": [
    "BATCH_SIZE = 16\n",
    "\n",
    "train_data_loader = create_data_loader(df_train, tokenizer, MAX_LEN, BATCH_SIZE)\n",
    "val_data_loader = create_data_loader(df_val, tokenizer, MAX_LEN, BATCH_SIZE)\n",
    "test_data_loader = create_data_loader(df_test, tokenizer, MAX_LEN, BATCH_SIZE)"
   ]
  },
  {
   "cell_type": "code",
   "execution_count": 23,
   "id": "2c1f8602",
   "metadata": {},
   "outputs": [],
   "source": [
    "sample_txt = 'When was I last outside? I am stuck at home for 2 weeks.'"
   ]
  },
  {
   "cell_type": "code",
   "execution_count": 24,
   "id": "7776bdfc",
   "metadata": {},
   "outputs": [
    {
     "name": "stderr",
     "output_type": "stream",
     "text": [
      "Truncation was not explicitly activated but `max_length` is provided a specific value, please use `truncation=True` to explicitly truncate examples to max length. Defaulting to 'longest_first' truncation strategy. If you encode pairs of sequences (GLUE-style) with the tokenizer you can select this strategy more precisely by providing a specific strategy to `truncation`.\n",
      "C:\\Users\\FIRAS\\AppData\\Local\\Programs\\Python\\Python310\\lib\\site-packages\\transformers\\tokenization_utils_base.py:2301: FutureWarning: The `pad_to_max_length` argument is deprecated and will be removed in a future version, use `padding=True` or `padding='longest'` to pad to the longest sequence in the batch, or use `padding='max_length'` to pad to a max length. In this case, you can give a specific length with `max_length` (e.g. `max_length=45`) or leave max_length to None to pad to the maximal input size of the model (e.g. 512 for Bert).\n",
      "  warnings.warn(\n"
     ]
    },
    {
     "data": {
      "text/plain": [
       "dict_keys(['input_ids', 'attention_mask'])"
      ]
     },
     "execution_count": 24,
     "metadata": {},
     "output_type": "execute_result"
    }
   ],
   "source": [
    "encoding = tokenizer.encode_plus(\n",
    "  sample_txt,\n",
    "  max_length=32,\n",
    "  add_special_tokens=True, # Add '[CLS]' and '[SEP]'\n",
    "  return_token_type_ids=False,\n",
    "  pad_to_max_length=True,\n",
    "  return_attention_mask=True,\n",
    "  return_tensors='pt',  # Return PyTorch tensors\n",
    ")\n",
    "\n",
    "encoding.keys()"
   ]
  },
  {
   "cell_type": "code",
   "execution_count": 25,
   "id": "ba1b64d1",
   "metadata": {},
   "outputs": [
    {
     "name": "stdout",
     "output_type": "stream",
     "text": [
      "32\n"
     ]
    },
    {
     "data": {
      "text/plain": [
       "tensor([ 101, 1332, 1108,  146, 1314, 1796,  136,  146, 1821, 5342, 1120, 1313,\n",
       "        1111,  123, 2277,  119,  102,    0,    0,    0,    0,    0,    0,    0,\n",
       "           0,    0,    0,    0,    0,    0,    0,    0])"
      ]
     },
     "execution_count": 25,
     "metadata": {},
     "output_type": "execute_result"
    }
   ],
   "source": [
    "print(len(encoding['input_ids'][0]))\n",
    "encoding['input_ids'][0]"
   ]
  },
  {
   "cell_type": "code",
   "execution_count": null,
   "id": "5cf5f643",
   "metadata": {},
   "outputs": [],
   "source": [
    "data = next(iter(train_data_loader))\n",
    "data.keys()"
   ]
  },
  {
   "cell_type": "code",
   "execution_count": null,
   "id": "720fe761",
   "metadata": {},
   "outputs": [],
   "source": []
  }
 ],
 "metadata": {
  "kernelspec": {
   "display_name": "Python 3 (ipykernel)",
   "language": "python",
   "name": "python3"
  },
  "language_info": {
   "codemirror_mode": {
    "name": "ipython",
    "version": 3
   },
   "file_extension": ".py",
   "mimetype": "text/x-python",
   "name": "python",
   "nbconvert_exporter": "python",
   "pygments_lexer": "ipython3",
   "version": "3.10.3"
  }
 },
 "nbformat": 4,
 "nbformat_minor": 5
}
