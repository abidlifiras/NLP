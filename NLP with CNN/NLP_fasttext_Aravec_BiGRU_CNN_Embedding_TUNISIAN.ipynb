{
  "nbformat": 4,
  "nbformat_minor": 0,
  "metadata": {
    "colab": {
      "name": "NLP_fasttext_Aravec_BiGRU-CNN-Embedding_TUNISIAN.ipynb",
      "provenance": [],
      "collapsed_sections": [
        "ZwFFlBGFR2tv",
        "Bpb35nPlTI1g",
        "HiwoyTsPL1PG"
      ]
    },
    "kernelspec": {
      "name": "python3",
      "display_name": "Python 3"
    },
    "accelerator": "GPU"
  },
  "cells": [
    {
      "cell_type": "markdown",
      "source": [
        "# Tunisian Dataset"
      ],
      "metadata": {
        "id": "Phxed_BSSB7-"
      }
    },
    {
      "cell_type": "code",
      "metadata": {
        "id": "6pkvGyUqqCMG",
        "colab": {
          "base_uri": "https://localhost:8080/"
        },
        "outputId": "22eb7254-0716-4e37-eb04-74ab3002c949"
      },
      "source": [
        "from google.colab import drive\n",
        "drive._mount('/content/drive')"
      ],
      "execution_count": null,
      "outputs": [
        {
          "output_type": "stream",
          "name": "stdout",
          "text": [
            "Mounted at /content/drive\n"
          ]
        }
      ]
    },
    {
      "cell_type": "code",
      "metadata": {
        "id": "fnOwTGAXpLvI",
        "colab": {
          "base_uri": "https://localhost:8080/"
        },
        "outputId": "9b6bf042-90fb-40cb-ec04-b42e2b95cfd8"
      },
      "source": [
        "from tensorflow import keras\n",
        "import numpy as np\n",
        "import re\n",
        "import nltk\n",
        "from nltk.corpus import stopwords\n",
        "import string\n",
        "import pandas as pd\n",
        "from nltk.stem import WordNetLemmatizer\n",
        "from nltk.corpus import stopwords\n",
        "nltk.download('stopwords')\n",
        "nltk.download('wordnet')"
      ],
      "execution_count": null,
      "outputs": [
        {
          "output_type": "stream",
          "name": "stdout",
          "text": [
            "[nltk_data] Downloading package stopwords to /root/nltk_data...\n",
            "[nltk_data]   Unzipping corpora/stopwords.zip.\n",
            "[nltk_data] Downloading package wordnet to /root/nltk_data...\n",
            "[nltk_data]   Unzipping corpora/wordnet.zip.\n"
          ]
        },
        {
          "output_type": "execute_result",
          "data": {
            "text/plain": [
              "True"
            ]
          },
          "metadata": {},
          "execution_count": 2
        }
      ]
    },
    {
      "cell_type": "code",
      "metadata": {
        "id": "qpYZxDnjpo32"
      },
      "source": [
        "train=pd.read_excel('/content/drive/MyDrive/FastText_Aravec_Arabic_embeddings/dataset1and2.xlsx')\n",
        "# test=pd.read_excel('/content/drive/MyDrive/kaggle-nabil-badri/Text Classification Notebooks/BI-GRU/MyArticle-dataset-arabe/dataset1and2.xlsx')\n",
        "label=pd.read_excel('/content/drive/MyDrive/FastText_Aravec_Arabic_embeddings/dataset1and2.xlsx',header=None).iloc[:,-1]\n",
        "#OFF=0 \n",
        "#NOT=1"
      ],
      "execution_count": null,
      "outputs": []
    },
    {
      "cell_type": "code",
      "source": [
        "train['word_count'] = train['commentaire'].apply(lambda x : len(x.split()))\n",
        "train"
      ],
      "metadata": {
        "colab": {
          "base_uri": "https://localhost:8080/",
          "height": 423
        },
        "id": "NLkeXb_2qC2T",
        "outputId": "6da56a8e-70ea-4568-9646-cb187ae0b399"
      },
      "execution_count": null,
      "outputs": [
        {
          "output_type": "execute_result",
          "data": {
            "text/html": [
              "\n",
              "  <div id=\"df-663e2b6e-62b8-4f2d-a9be-6b1fd4a85585\">\n",
              "    <div class=\"colab-df-container\">\n",
              "      <div>\n",
              "<style scoped>\n",
              "    .dataframe tbody tr th:only-of-type {\n",
              "        vertical-align: middle;\n",
              "    }\n",
              "\n",
              "    .dataframe tbody tr th {\n",
              "        vertical-align: top;\n",
              "    }\n",
              "\n",
              "    .dataframe thead th {\n",
              "        text-align: right;\n",
              "    }\n",
              "</style>\n",
              "<table border=\"1\" class=\"dataframe\">\n",
              "  <thead>\n",
              "    <tr style=\"text-align: right;\">\n",
              "      <th></th>\n",
              "      <th>Unnamed: 0</th>\n",
              "      <th>commentaire</th>\n",
              "      <th>classe</th>\n",
              "      <th>word_count</th>\n",
              "    </tr>\n",
              "  </thead>\n",
              "  <tbody>\n",
              "    <tr>\n",
              "      <th>0</th>\n",
              "      <td>0</td>\n",
              "      <td>اسغي ياشعب تونس تدعوا بالاسلام كفار الحمدلله ن...</td>\n",
              "      <td>hate</td>\n",
              "      <td>11</td>\n",
              "    </tr>\n",
              "    <tr>\n",
              "      <th>1</th>\n",
              "      <td>1</td>\n",
              "      <td>قطع يد السارق توفرت الشروط شرط الحد الأدنى قيم...</td>\n",
              "      <td>normal</td>\n",
              "      <td>14</td>\n",
              "    </tr>\n",
              "    <tr>\n",
              "      <th>2</th>\n",
              "      <td>2</td>\n",
              "      <td>تلوموش لطفي لعبدلي شرف</td>\n",
              "      <td>normal</td>\n",
              "      <td>4</td>\n",
              "    </tr>\n",
              "    <tr>\n",
              "      <th>3</th>\n",
              "      <td>3</td>\n",
              "      <td>مستغرب شعب يسمع تفاهة شانو لى الدرجة الشعب تاف...</td>\n",
              "      <td>normal</td>\n",
              "      <td>20</td>\n",
              "    </tr>\n",
              "    <tr>\n",
              "      <th>4</th>\n",
              "      <td>4</td>\n",
              "      <td>هههخ غزلتني مافهمتش شمدخلها الموضوع تتنطر وحده...</td>\n",
              "      <td>normal</td>\n",
              "      <td>9</td>\n",
              "    </tr>\n",
              "    <tr>\n",
              "      <th>...</th>\n",
              "      <td>...</td>\n",
              "      <td>...</td>\n",
              "      <td>...</td>\n",
              "      <td>...</td>\n",
              "    </tr>\n",
              "    <tr>\n",
              "      <th>6455</th>\n",
              "      <td>431</td>\n",
              "      <td>وجهو وجه الطحين ورخس</td>\n",
              "      <td>abusive</td>\n",
              "      <td>4</td>\n",
              "    </tr>\n",
              "    <tr>\n",
              "      <th>6456</th>\n",
              "      <td>432</td>\n",
              "      <td>الله لا يبارك فيكم و في الي تزرعوا فيه اليوم ل...</td>\n",
              "      <td>hate</td>\n",
              "      <td>20</td>\n",
              "    </tr>\n",
              "    <tr>\n",
              "      <th>6457</th>\n",
              "      <td>433</td>\n",
              "      <td>ملا حثالة مستدعيه ، قواد ولحاس ، طيح مستوى الب...</td>\n",
              "      <td>hate</td>\n",
              "      <td>15</td>\n",
              "    </tr>\n",
              "    <tr>\n",
              "      <th>6458</th>\n",
              "      <td>434</td>\n",
              "      <td>شبعة خمج.اينما يقيم الجهل</td>\n",
              "      <td>hate</td>\n",
              "      <td>4</td>\n",
              "    </tr>\n",
              "    <tr>\n",
              "      <th>6459</th>\n",
              "      <td>435</td>\n",
              "      <td>عدم إحترام المشاهد من جميع الأطراف هي قلة حياء</td>\n",
              "      <td>hate</td>\n",
              "      <td>9</td>\n",
              "    </tr>\n",
              "  </tbody>\n",
              "</table>\n",
              "<p>6460 rows × 4 columns</p>\n",
              "</div>\n",
              "      <button class=\"colab-df-convert\" onclick=\"convertToInteractive('df-663e2b6e-62b8-4f2d-a9be-6b1fd4a85585')\"\n",
              "              title=\"Convert this dataframe to an interactive table.\"\n",
              "              style=\"display:none;\">\n",
              "        \n",
              "  <svg xmlns=\"http://www.w3.org/2000/svg\" height=\"24px\"viewBox=\"0 0 24 24\"\n",
              "       width=\"24px\">\n",
              "    <path d=\"M0 0h24v24H0V0z\" fill=\"none\"/>\n",
              "    <path d=\"M18.56 5.44l.94 2.06.94-2.06 2.06-.94-2.06-.94-.94-2.06-.94 2.06-2.06.94zm-11 1L8.5 8.5l.94-2.06 2.06-.94-2.06-.94L8.5 2.5l-.94 2.06-2.06.94zm10 10l.94 2.06.94-2.06 2.06-.94-2.06-.94-.94-2.06-.94 2.06-2.06.94z\"/><path d=\"M17.41 7.96l-1.37-1.37c-.4-.4-.92-.59-1.43-.59-.52 0-1.04.2-1.43.59L10.3 9.45l-7.72 7.72c-.78.78-.78 2.05 0 2.83L4 21.41c.39.39.9.59 1.41.59.51 0 1.02-.2 1.41-.59l7.78-7.78 2.81-2.81c.8-.78.8-2.07 0-2.86zM5.41 20L4 18.59l7.72-7.72 1.47 1.35L5.41 20z\"/>\n",
              "  </svg>\n",
              "      </button>\n",
              "      \n",
              "  <style>\n",
              "    .colab-df-container {\n",
              "      display:flex;\n",
              "      flex-wrap:wrap;\n",
              "      gap: 12px;\n",
              "    }\n",
              "\n",
              "    .colab-df-convert {\n",
              "      background-color: #E8F0FE;\n",
              "      border: none;\n",
              "      border-radius: 50%;\n",
              "      cursor: pointer;\n",
              "      display: none;\n",
              "      fill: #1967D2;\n",
              "      height: 32px;\n",
              "      padding: 0 0 0 0;\n",
              "      width: 32px;\n",
              "    }\n",
              "\n",
              "    .colab-df-convert:hover {\n",
              "      background-color: #E2EBFA;\n",
              "      box-shadow: 0px 1px 2px rgba(60, 64, 67, 0.3), 0px 1px 3px 1px rgba(60, 64, 67, 0.15);\n",
              "      fill: #174EA6;\n",
              "    }\n",
              "\n",
              "    [theme=dark] .colab-df-convert {\n",
              "      background-color: #3B4455;\n",
              "      fill: #D2E3FC;\n",
              "    }\n",
              "\n",
              "    [theme=dark] .colab-df-convert:hover {\n",
              "      background-color: #434B5C;\n",
              "      box-shadow: 0px 1px 3px 1px rgba(0, 0, 0, 0.15);\n",
              "      filter: drop-shadow(0px 1px 2px rgba(0, 0, 0, 0.3));\n",
              "      fill: #FFFFFF;\n",
              "    }\n",
              "  </style>\n",
              "\n",
              "      <script>\n",
              "        const buttonEl =\n",
              "          document.querySelector('#df-663e2b6e-62b8-4f2d-a9be-6b1fd4a85585 button.colab-df-convert');\n",
              "        buttonEl.style.display =\n",
              "          google.colab.kernel.accessAllowed ? 'block' : 'none';\n",
              "\n",
              "        async function convertToInteractive(key) {\n",
              "          const element = document.querySelector('#df-663e2b6e-62b8-4f2d-a9be-6b1fd4a85585');\n",
              "          const dataTable =\n",
              "            await google.colab.kernel.invokeFunction('convertToInteractive',\n",
              "                                                     [key], {});\n",
              "          if (!dataTable) return;\n",
              "\n",
              "          const docLinkHtml = 'Like what you see? Visit the ' +\n",
              "            '<a target=\"_blank\" href=https://colab.research.google.com/notebooks/data_table.ipynb>data table notebook</a>'\n",
              "            + ' to learn more about interactive tables.';\n",
              "          element.innerHTML = '';\n",
              "          dataTable['output_type'] = 'display_data';\n",
              "          await google.colab.output.renderOutput(dataTable, element);\n",
              "          const docLink = document.createElement('div');\n",
              "          docLink.innerHTML = docLinkHtml;\n",
              "          element.appendChild(docLink);\n",
              "        }\n",
              "      </script>\n",
              "    </div>\n",
              "  </div>\n",
              "  "
            ],
            "text/plain": [
              "      Unnamed: 0  ... word_count\n",
              "0              0  ...         11\n",
              "1              1  ...         14\n",
              "2              2  ...          4\n",
              "3              3  ...         20\n",
              "4              4  ...          9\n",
              "...          ...  ...        ...\n",
              "6455         431  ...          4\n",
              "6456         432  ...         20\n",
              "6457         433  ...         15\n",
              "6458         434  ...          4\n",
              "6459         435  ...          9\n",
              "\n",
              "[6460 rows x 4 columns]"
            ]
          },
          "metadata": {},
          "execution_count": 4
        }
      ]
    },
    {
      "cell_type": "code",
      "source": [
        "# #Encoding\n",
        "# df.label.replace({'normal':0,'abusive':1,'spam':2,'hateful':3},inplace=True)\n",
        "# df.head()"
      ],
      "metadata": {
        "id": "y34AftTfjFPS"
      },
      "execution_count": null,
      "outputs": []
    },
    {
      "cell_type": "code",
      "source": [
        "train[train['word_count'] == 388]"
      ],
      "metadata": {
        "colab": {
          "base_uri": "https://localhost:8080/",
          "height": 112
        },
        "id": "g8D5pStLqgzi",
        "outputId": "fd93a2b5-3436-44de-ee3b-cd413fffe6ec"
      },
      "execution_count": null,
      "outputs": [
        {
          "output_type": "execute_result",
          "data": {
            "text/html": [
              "\n",
              "  <div id=\"df-8e84f03a-a96d-4d56-b511-afc67ef4f9d0\">\n",
              "    <div class=\"colab-df-container\">\n",
              "      <div>\n",
              "<style scoped>\n",
              "    .dataframe tbody tr th:only-of-type {\n",
              "        vertical-align: middle;\n",
              "    }\n",
              "\n",
              "    .dataframe tbody tr th {\n",
              "        vertical-align: top;\n",
              "    }\n",
              "\n",
              "    .dataframe thead th {\n",
              "        text-align: right;\n",
              "    }\n",
              "</style>\n",
              "<table border=\"1\" class=\"dataframe\">\n",
              "  <thead>\n",
              "    <tr style=\"text-align: right;\">\n",
              "      <th></th>\n",
              "      <th>Unnamed: 0</th>\n",
              "      <th>commentaire</th>\n",
              "      <th>classe</th>\n",
              "      <th>word_count</th>\n",
              "    </tr>\n",
              "  </thead>\n",
              "  <tbody>\n",
              "    <tr>\n",
              "      <th>3335</th>\n",
              "      <td>3335</td>\n",
              "      <td>صديقتي أمال اقرئي تعليقي سمحتي صدقيني صدقيني ا...</td>\n",
              "      <td>normal</td>\n",
              "      <td>388</td>\n",
              "    </tr>\n",
              "    <tr>\n",
              "      <th>4583</th>\n",
              "      <td>4583</td>\n",
              "      <td>صديقتي أمال اقرئي تعليقي سمحتي صدقيني صدقيني ا...</td>\n",
              "      <td>normal</td>\n",
              "      <td>388</td>\n",
              "    </tr>\n",
              "  </tbody>\n",
              "</table>\n",
              "</div>\n",
              "      <button class=\"colab-df-convert\" onclick=\"convertToInteractive('df-8e84f03a-a96d-4d56-b511-afc67ef4f9d0')\"\n",
              "              title=\"Convert this dataframe to an interactive table.\"\n",
              "              style=\"display:none;\">\n",
              "        \n",
              "  <svg xmlns=\"http://www.w3.org/2000/svg\" height=\"24px\"viewBox=\"0 0 24 24\"\n",
              "       width=\"24px\">\n",
              "    <path d=\"M0 0h24v24H0V0z\" fill=\"none\"/>\n",
              "    <path d=\"M18.56 5.44l.94 2.06.94-2.06 2.06-.94-2.06-.94-.94-2.06-.94 2.06-2.06.94zm-11 1L8.5 8.5l.94-2.06 2.06-.94-2.06-.94L8.5 2.5l-.94 2.06-2.06.94zm10 10l.94 2.06.94-2.06 2.06-.94-2.06-.94-.94-2.06-.94 2.06-2.06.94z\"/><path d=\"M17.41 7.96l-1.37-1.37c-.4-.4-.92-.59-1.43-.59-.52 0-1.04.2-1.43.59L10.3 9.45l-7.72 7.72c-.78.78-.78 2.05 0 2.83L4 21.41c.39.39.9.59 1.41.59.51 0 1.02-.2 1.41-.59l7.78-7.78 2.81-2.81c.8-.78.8-2.07 0-2.86zM5.41 20L4 18.59l7.72-7.72 1.47 1.35L5.41 20z\"/>\n",
              "  </svg>\n",
              "      </button>\n",
              "      \n",
              "  <style>\n",
              "    .colab-df-container {\n",
              "      display:flex;\n",
              "      flex-wrap:wrap;\n",
              "      gap: 12px;\n",
              "    }\n",
              "\n",
              "    .colab-df-convert {\n",
              "      background-color: #E8F0FE;\n",
              "      border: none;\n",
              "      border-radius: 50%;\n",
              "      cursor: pointer;\n",
              "      display: none;\n",
              "      fill: #1967D2;\n",
              "      height: 32px;\n",
              "      padding: 0 0 0 0;\n",
              "      width: 32px;\n",
              "    }\n",
              "\n",
              "    .colab-df-convert:hover {\n",
              "      background-color: #E2EBFA;\n",
              "      box-shadow: 0px 1px 2px rgba(60, 64, 67, 0.3), 0px 1px 3px 1px rgba(60, 64, 67, 0.15);\n",
              "      fill: #174EA6;\n",
              "    }\n",
              "\n",
              "    [theme=dark] .colab-df-convert {\n",
              "      background-color: #3B4455;\n",
              "      fill: #D2E3FC;\n",
              "    }\n",
              "\n",
              "    [theme=dark] .colab-df-convert:hover {\n",
              "      background-color: #434B5C;\n",
              "      box-shadow: 0px 1px 3px 1px rgba(0, 0, 0, 0.15);\n",
              "      filter: drop-shadow(0px 1px 2px rgba(0, 0, 0, 0.3));\n",
              "      fill: #FFFFFF;\n",
              "    }\n",
              "  </style>\n",
              "\n",
              "      <script>\n",
              "        const buttonEl =\n",
              "          document.querySelector('#df-8e84f03a-a96d-4d56-b511-afc67ef4f9d0 button.colab-df-convert');\n",
              "        buttonEl.style.display =\n",
              "          google.colab.kernel.accessAllowed ? 'block' : 'none';\n",
              "\n",
              "        async function convertToInteractive(key) {\n",
              "          const element = document.querySelector('#df-8e84f03a-a96d-4d56-b511-afc67ef4f9d0');\n",
              "          const dataTable =\n",
              "            await google.colab.kernel.invokeFunction('convertToInteractive',\n",
              "                                                     [key], {});\n",
              "          if (!dataTable) return;\n",
              "\n",
              "          const docLinkHtml = 'Like what you see? Visit the ' +\n",
              "            '<a target=\"_blank\" href=https://colab.research.google.com/notebooks/data_table.ipynb>data table notebook</a>'\n",
              "            + ' to learn more about interactive tables.';\n",
              "          element.innerHTML = '';\n",
              "          dataTable['output_type'] = 'display_data';\n",
              "          await google.colab.output.renderOutput(dataTable, element);\n",
              "          const docLink = document.createElement('div');\n",
              "          docLink.innerHTML = docLinkHtml;\n",
              "          element.appendChild(docLink);\n",
              "        }\n",
              "      </script>\n",
              "    </div>\n",
              "  </div>\n",
              "  "
            ],
            "text/plain": [
              "      Unnamed: 0  ... word_count\n",
              "3335        3335  ...        388\n",
              "4583        4583  ...        388\n",
              "\n",
              "[2 rows x 4 columns]"
            ]
          },
          "metadata": {},
          "execution_count": 5
        }
      ]
    },
    {
      "cell_type": "code",
      "source": [
        "train['commentaire'][3335]"
      ],
      "metadata": {
        "colab": {
          "base_uri": "https://localhost:8080/",
          "height": 91
        },
        "id": "N2lLrbnqqsFk",
        "outputId": "66071837-95f2-4d72-ed13-d3fffcf9c252"
      },
      "execution_count": null,
      "outputs": [
        {
          "output_type": "execute_result",
          "data": {
            "application/vnd.google.colaboratory.intrinsic+json": {
              "type": "string"
            },
            "text/plain": [
              "'صديقتي أمال اقرئي تعليقي سمحتي صدقيني صدقيني القضية أوسع تتخيلين أدري مواكبون لعصركم تعلمون يتم توجيهكم تفهمون السطور أنكم سقطتم شراك فخاخهم بساطة صديقتي تلاحظين الثقافة الأخلاق المصطلحات الجذابة يأكلونها جاعوا يستعملونها وقت الحاجة تريدين إقناعي مايا القصوري تعرف معنى الاحترام أخلاق تتعامل الناس احترام مايا القصوري قالت جهارا آنسة تلبس نوعا الحجاب تنشط كمذيعة التلفاز بأنها تتاجر بشكلها بحجابها يقوله محترم محترم مسلم شارلي إيبدو الحق تصوير النبي الصلاة السلام غيره شكل يريدونه المحترم أمورا هاته المحترم يجب يجعل اضحوكة الناس محل جدال الناس محل جذب يسوى يسوى محترمة الكثير الناس مشكلة معها نأتي للثقافة صديقتي العزيزة أمال الثقافة دخل العلم الثقافة طريقة عيش طريقة تفكير طريقة تعامل أكثر نقول مايا مثقفة العلاني جاهل دخل الجهل الثقافة الجهل قبالته العلم الثقافة ملاحظة مايا القصوري تتكلم أمور فلسفية نفسها تناقش شخص بنفس طريقتها تسقط التناقض تعتمد ضوابط معايير كلامها داس فكرها يكن يقصد تبغضه تحاول تجرعه كأس الاستهزاء تظنين مشكلة الشاب مشكلتها المرأة صوتها عورة فكرهته مباشرة تجد عذرا بسيطا فقررت تؤدبه الشرذمة ترينها أختي مشكلتها الدين علمانيون أقحاح تعرفين معنى أقحاح سأوضح تفهمين الوضع الواقع تستطيعين الاستمرار مشاهدتهم سترين كلامي صحيح العلمانية عصرنا نفسها علمانية العصور الوسطى تأسست غطرسة الكنيسة بلاد الغرب العلمانية حينها ردة فعل غطرسة الكنيسة فطبيعي نفسها متغطرسة المتدينين ردة فعل ردة الفعل بقوة الفعل العلمانية صديقتي أحبها الكثير الكثير الناس المنقذ الكبير غطرسة الكنيسة تعطي حريات كبيرة قلنا متغطرسة تراهم مستبدين المتدينون فجعلت الدين البيت دين الحياة العامة عصرنا العلمانية بتلك المعايير يعيش الناس وفقها العالم يعيش حروب قرروا تقليم العلمانية علمانية تستطيع تترك الناس يتكلمون الدين ينشطون يسمونها التعايش وفق حدود وضعوها مثلا للمتدين يتكلم فرض الحكم بشرع أمرنا يفعل يعتبر أكبر المتطرفين العالم الديمقراطية قاموا بتقليمها الديمقراطية تقوم رأي الاغلبية الأغلبية قالت دائما رأيها يسود طبعا هاته المعايير يعيش الناس وفقها عصرنا العالم بتحريم أمور كثيرة تتماشى أفكار حاكميه خرج شعب طالب بإرجاع الشريعة الإسلامية بالديمقراطية أكيد وجب العالم ينصاع للابتعاد هاته الورطة وضعوا قوانين لحقوق الإنسان عقولهم وجعلوا الديمقراطية وفقا لأفكارهم وضعوا قوانين عقولهم كمنعهم الناس لاختيار الشريعة مثلا جعلوا الشعوب تستعمل الديمقراطية وفق القوانين الحقوق الحريات فجعلوا الشعوب تبدو ديمقراطية متعايشة الحقيقة الشعوب تختار يريده المستبدين مايا باقي الشلة علمانيون أقحاح نتزع عقولهم صدورهم العلمانية الأولى قلنا ردة فعل الكنيسة وفقا العصر يعتبرون المتطرفين يتعايشون غيرهم ممن يخالفهم النوع التطرف يشكل خطرا العصر الدين خصوصا الإسلام أرجو تبحثي تفهمي أهداف الكلاب تكوني مستهلكة باقي الشعوب تسقطي شراكهم آسف الإطالة'"
            ]
          },
          "metadata": {},
          "execution_count": 6
        }
      ]
    },
    {
      "cell_type": "code",
      "metadata": {
        "id": "reTRftvWpUJk",
        "colab": {
          "base_uri": "https://localhost:8080/"
        },
        "outputId": "59ff342a-ee98-4111-8645-cea4a959139d"
      },
      "source": [
        "y_train=train['classe']\n",
        "X_train=train['commentaire']\n",
        "#test=test['comm']\n",
        "y_train=pd.factorize(y_train)[0]\n",
        "# y_test=pd.factorize(y_test)[0]\n",
        "train['labels'] = pd.factorize(y_train)[0]\n",
        "\n",
        "import collections\n",
        "collections.Counter(y_train)\n",
        "\n",
        "#Counter({0: 4400, 1: 8840})"
      ],
      "execution_count": null,
      "outputs": [
        {
          "output_type": "execute_result",
          "data": {
            "text/plain": [
              "Counter({0: 1399, 1: 3857, 2: 1204})"
            ]
          },
          "metadata": {},
          "execution_count": 7
        }
      ]
    },
    {
      "cell_type": "code",
      "source": [
        "train"
      ],
      "metadata": {
        "colab": {
          "base_uri": "https://localhost:8080/",
          "height": 423
        },
        "id": "gJDueK0Uh9kN",
        "outputId": "421ceada-bfea-443e-fe9b-d5593a2bdc7e"
      },
      "execution_count": null,
      "outputs": [
        {
          "output_type": "execute_result",
          "data": {
            "text/html": [
              "\n",
              "  <div id=\"df-7ed9404b-c395-46ab-9d89-5babd9d310ef\">\n",
              "    <div class=\"colab-df-container\">\n",
              "      <div>\n",
              "<style scoped>\n",
              "    .dataframe tbody tr th:only-of-type {\n",
              "        vertical-align: middle;\n",
              "    }\n",
              "\n",
              "    .dataframe tbody tr th {\n",
              "        vertical-align: top;\n",
              "    }\n",
              "\n",
              "    .dataframe thead th {\n",
              "        text-align: right;\n",
              "    }\n",
              "</style>\n",
              "<table border=\"1\" class=\"dataframe\">\n",
              "  <thead>\n",
              "    <tr style=\"text-align: right;\">\n",
              "      <th></th>\n",
              "      <th>Unnamed: 0</th>\n",
              "      <th>commentaire</th>\n",
              "      <th>classe</th>\n",
              "      <th>word_count</th>\n",
              "      <th>labels</th>\n",
              "    </tr>\n",
              "  </thead>\n",
              "  <tbody>\n",
              "    <tr>\n",
              "      <th>0</th>\n",
              "      <td>0</td>\n",
              "      <td>اسغي ياشعب تونس تدعوا بالاسلام كفار الحمدلله ن...</td>\n",
              "      <td>hate</td>\n",
              "      <td>11</td>\n",
              "      <td>0</td>\n",
              "    </tr>\n",
              "    <tr>\n",
              "      <th>1</th>\n",
              "      <td>1</td>\n",
              "      <td>قطع يد السارق توفرت الشروط شرط الحد الأدنى قيم...</td>\n",
              "      <td>normal</td>\n",
              "      <td>14</td>\n",
              "      <td>1</td>\n",
              "    </tr>\n",
              "    <tr>\n",
              "      <th>2</th>\n",
              "      <td>2</td>\n",
              "      <td>تلوموش لطفي لعبدلي شرف</td>\n",
              "      <td>normal</td>\n",
              "      <td>4</td>\n",
              "      <td>1</td>\n",
              "    </tr>\n",
              "    <tr>\n",
              "      <th>3</th>\n",
              "      <td>3</td>\n",
              "      <td>مستغرب شعب يسمع تفاهة شانو لى الدرجة الشعب تاف...</td>\n",
              "      <td>normal</td>\n",
              "      <td>20</td>\n",
              "      <td>1</td>\n",
              "    </tr>\n",
              "    <tr>\n",
              "      <th>4</th>\n",
              "      <td>4</td>\n",
              "      <td>هههخ غزلتني مافهمتش شمدخلها الموضوع تتنطر وحده...</td>\n",
              "      <td>normal</td>\n",
              "      <td>9</td>\n",
              "      <td>1</td>\n",
              "    </tr>\n",
              "    <tr>\n",
              "      <th>...</th>\n",
              "      <td>...</td>\n",
              "      <td>...</td>\n",
              "      <td>...</td>\n",
              "      <td>...</td>\n",
              "      <td>...</td>\n",
              "    </tr>\n",
              "    <tr>\n",
              "      <th>6455</th>\n",
              "      <td>431</td>\n",
              "      <td>وجهو وجه الطحين ورخس</td>\n",
              "      <td>abusive</td>\n",
              "      <td>4</td>\n",
              "      <td>2</td>\n",
              "    </tr>\n",
              "    <tr>\n",
              "      <th>6456</th>\n",
              "      <td>432</td>\n",
              "      <td>الله لا يبارك فيكم و في الي تزرعوا فيه اليوم ل...</td>\n",
              "      <td>hate</td>\n",
              "      <td>20</td>\n",
              "      <td>0</td>\n",
              "    </tr>\n",
              "    <tr>\n",
              "      <th>6457</th>\n",
              "      <td>433</td>\n",
              "      <td>ملا حثالة مستدعيه ، قواد ولحاس ، طيح مستوى الب...</td>\n",
              "      <td>hate</td>\n",
              "      <td>15</td>\n",
              "      <td>0</td>\n",
              "    </tr>\n",
              "    <tr>\n",
              "      <th>6458</th>\n",
              "      <td>434</td>\n",
              "      <td>شبعة خمج.اينما يقيم الجهل</td>\n",
              "      <td>hate</td>\n",
              "      <td>4</td>\n",
              "      <td>0</td>\n",
              "    </tr>\n",
              "    <tr>\n",
              "      <th>6459</th>\n",
              "      <td>435</td>\n",
              "      <td>عدم إحترام المشاهد من جميع الأطراف هي قلة حياء</td>\n",
              "      <td>hate</td>\n",
              "      <td>9</td>\n",
              "      <td>0</td>\n",
              "    </tr>\n",
              "  </tbody>\n",
              "</table>\n",
              "<p>6460 rows × 5 columns</p>\n",
              "</div>\n",
              "      <button class=\"colab-df-convert\" onclick=\"convertToInteractive('df-7ed9404b-c395-46ab-9d89-5babd9d310ef')\"\n",
              "              title=\"Convert this dataframe to an interactive table.\"\n",
              "              style=\"display:none;\">\n",
              "        \n",
              "  <svg xmlns=\"http://www.w3.org/2000/svg\" height=\"24px\"viewBox=\"0 0 24 24\"\n",
              "       width=\"24px\">\n",
              "    <path d=\"M0 0h24v24H0V0z\" fill=\"none\"/>\n",
              "    <path d=\"M18.56 5.44l.94 2.06.94-2.06 2.06-.94-2.06-.94-.94-2.06-.94 2.06-2.06.94zm-11 1L8.5 8.5l.94-2.06 2.06-.94-2.06-.94L8.5 2.5l-.94 2.06-2.06.94zm10 10l.94 2.06.94-2.06 2.06-.94-2.06-.94-.94-2.06-.94 2.06-2.06.94z\"/><path d=\"M17.41 7.96l-1.37-1.37c-.4-.4-.92-.59-1.43-.59-.52 0-1.04.2-1.43.59L10.3 9.45l-7.72 7.72c-.78.78-.78 2.05 0 2.83L4 21.41c.39.39.9.59 1.41.59.51 0 1.02-.2 1.41-.59l7.78-7.78 2.81-2.81c.8-.78.8-2.07 0-2.86zM5.41 20L4 18.59l7.72-7.72 1.47 1.35L5.41 20z\"/>\n",
              "  </svg>\n",
              "      </button>\n",
              "      \n",
              "  <style>\n",
              "    .colab-df-container {\n",
              "      display:flex;\n",
              "      flex-wrap:wrap;\n",
              "      gap: 12px;\n",
              "    }\n",
              "\n",
              "    .colab-df-convert {\n",
              "      background-color: #E8F0FE;\n",
              "      border: none;\n",
              "      border-radius: 50%;\n",
              "      cursor: pointer;\n",
              "      display: none;\n",
              "      fill: #1967D2;\n",
              "      height: 32px;\n",
              "      padding: 0 0 0 0;\n",
              "      width: 32px;\n",
              "    }\n",
              "\n",
              "    .colab-df-convert:hover {\n",
              "      background-color: #E2EBFA;\n",
              "      box-shadow: 0px 1px 2px rgba(60, 64, 67, 0.3), 0px 1px 3px 1px rgba(60, 64, 67, 0.15);\n",
              "      fill: #174EA6;\n",
              "    }\n",
              "\n",
              "    [theme=dark] .colab-df-convert {\n",
              "      background-color: #3B4455;\n",
              "      fill: #D2E3FC;\n",
              "    }\n",
              "\n",
              "    [theme=dark] .colab-df-convert:hover {\n",
              "      background-color: #434B5C;\n",
              "      box-shadow: 0px 1px 3px 1px rgba(0, 0, 0, 0.15);\n",
              "      filter: drop-shadow(0px 1px 2px rgba(0, 0, 0, 0.3));\n",
              "      fill: #FFFFFF;\n",
              "    }\n",
              "  </style>\n",
              "\n",
              "      <script>\n",
              "        const buttonEl =\n",
              "          document.querySelector('#df-7ed9404b-c395-46ab-9d89-5babd9d310ef button.colab-df-convert');\n",
              "        buttonEl.style.display =\n",
              "          google.colab.kernel.accessAllowed ? 'block' : 'none';\n",
              "\n",
              "        async function convertToInteractive(key) {\n",
              "          const element = document.querySelector('#df-7ed9404b-c395-46ab-9d89-5babd9d310ef');\n",
              "          const dataTable =\n",
              "            await google.colab.kernel.invokeFunction('convertToInteractive',\n",
              "                                                     [key], {});\n",
              "          if (!dataTable) return;\n",
              "\n",
              "          const docLinkHtml = 'Like what you see? Visit the ' +\n",
              "            '<a target=\"_blank\" href=https://colab.research.google.com/notebooks/data_table.ipynb>data table notebook</a>'\n",
              "            + ' to learn more about interactive tables.';\n",
              "          element.innerHTML = '';\n",
              "          dataTable['output_type'] = 'display_data';\n",
              "          await google.colab.output.renderOutput(dataTable, element);\n",
              "          const docLink = document.createElement('div');\n",
              "          docLink.innerHTML = docLinkHtml;\n",
              "          element.appendChild(docLink);\n",
              "        }\n",
              "      </script>\n",
              "    </div>\n",
              "  </div>\n",
              "  "
            ],
            "text/plain": [
              "      Unnamed: 0  ... labels\n",
              "0              0  ...      0\n",
              "1              1  ...      1\n",
              "2              2  ...      1\n",
              "3              3  ...      1\n",
              "4              4  ...      1\n",
              "...          ...  ...    ...\n",
              "6455         431  ...      2\n",
              "6456         432  ...      0\n",
              "6457         433  ...      0\n",
              "6458         434  ...      0\n",
              "6459         435  ...      0\n",
              "\n",
              "[6460 rows x 5 columns]"
            ]
          },
          "metadata": {},
          "execution_count": 8
        }
      ]
    },
    {
      "cell_type": "code",
      "source": [
        "import nltk\n",
        "nltk.download('stopwords')\n",
        "nltk.download('wordnet')\n",
        "from nltk.corpus import stopwords\n",
        "stopwords_list = stopwords.words('arabic')"
      ],
      "metadata": {
        "colab": {
          "base_uri": "https://localhost:8080/"
        },
        "id": "oGLoYOBGcQLC",
        "outputId": "bfc12b38-a4fe-484e-97ef-6888fb13398e"
      },
      "execution_count": null,
      "outputs": [
        {
          "output_type": "stream",
          "name": "stdout",
          "text": [
            "[nltk_data] Downloading package stopwords to /root/nltk_data...\n",
            "[nltk_data]   Package stopwords is already up-to-date!\n",
            "[nltk_data] Downloading package wordnet to /root/nltk_data...\n",
            "[nltk_data]   Package wordnet is already up-to-date!\n"
          ]
        }
      ]
    },
    {
      "cell_type": "code",
      "source": [
        "#cleaning data\n",
        "import re\n",
        "from nltk.stem.porter import PorterStemmer\n",
        "tokenizer=nltk.tokenize.WhitespaceTokenizer()\n",
        "from nltk.stem.isri import ISRIStemmer\n",
        "st = ISRIStemmer()\n",
        "from snowballstemmer import stemmer\n",
        "ar_stemmer = stemmer(\"arabic\")\n",
        "\n",
        "def preprocess(review):\n",
        "   review = re.sub('[^ا-ي]', ' ', review)\n",
        " \n",
        "   review = tokenizer.tokenize(review)\n",
        "   review = [ar_stemmer.stemWord(word) for word in review if not word in set(stopwords_list )]\n",
        "   review = ' '.join(review)\n",
        "   return review"
      ],
      "metadata": {
        "id": "eTokWOWpbiMT"
      },
      "execution_count": null,
      "outputs": []
    },
    {
      "cell_type": "code",
      "source": [
        "# X_train = train['commentaire'].apply(preprocess)\n",
        "X_train = X_train.apply(preprocess)\n"
      ],
      "metadata": {
        "id": "0fUSTtv_b2Tj"
      },
      "execution_count": null,
      "outputs": []
    },
    {
      "cell_type": "code",
      "source": [
        "X_train[0] ### Après preprocessing"
      ],
      "metadata": {
        "colab": {
          "base_uri": "https://localhost:8080/",
          "height": 36
        },
        "id": "pHWUrV9_cchK",
        "outputId": "8991df58-7da2-4a19-d38c-e415dbcb9fe4"
      },
      "execution_count": null,
      "outputs": [
        {
          "output_type": "execute_result",
          "data": {
            "application/vnd.google.colaboratory.intrinsic+json": {
              "type": "string"
            },
            "text/plain": [
              "'اسغ ياشعب تونس تدع اسلام كفار حمدلله نعم اسلام بلد جزاير'"
            ]
          },
          "metadata": {},
          "execution_count": 12
        }
      ]
    },
    {
      "cell_type": "code",
      "source": [
        "train['commentaire'][0] ### Originale"
      ],
      "metadata": {
        "colab": {
          "base_uri": "https://localhost:8080/",
          "height": 36
        },
        "id": "TNY4hgF8dEM6",
        "outputId": "fef58de3-a28e-4f90-a2de-216283dab14c"
      },
      "execution_count": null,
      "outputs": [
        {
          "output_type": "execute_result",
          "data": {
            "application/vnd.google.colaboratory.intrinsic+json": {
              "type": "string"
            },
            "text/plain": [
              "'اسغي ياشعب تونس تدعوا بالاسلام كفار الحمدلله نعمة الاسلام بلدنا الجزاير'"
            ]
          },
          "metadata": {},
          "execution_count": 13
        }
      ]
    },
    {
      "cell_type": "code",
      "metadata": {
        "id": "qMwojEJFiiBY"
      },
      "source": [
        "# x=train[323].lower().replace('@user','').replace('url','')\n",
        "# x=re.sub('[^A-Za-z]', ' ', x)\n",
        "# re.sub('http[s]?://(?:[a-zA-Z]|[0-9]|[$-_@.&+]|'\n",
        "#         '[!*\\(\\),]|(?:%[0-9a-fA-F][0-9a-fA-F]))+','',x)"
      ],
      "execution_count": null,
      "outputs": []
    },
    {
      "cell_type": "code",
      "metadata": {
        "id": "0KkTgzF_q4s1"
      },
      "source": [
        "# # Creating the training corpus\n",
        "# stop_words = set(stopwords.words(\"english\")) \n",
        "# lemmatizer = WordNetLemmatizer()\n",
        "# corpus_train = []\n",
        "# for i in train:\n",
        "#     x=i.lower()\n",
        "#     x=x.replace('@user','')\n",
        "#     x=x.replace('@[\\w\\-]+','')\n",
        "#     #x=x.translate(str.maketrans('', '', string.punctuation))\n",
        "#     x = re.sub('[^A-Za-z]', ' ', x)\n",
        "#     #x=re.sub('\\s+',' ',x)\n",
        "#     x=re.sub('http[s]?://(?:[a-zA-Z]|[0-9]|[$-_@.&+]|'\n",
        "#         '[!*\\(\\),]|(?:%[0-9a-fA-F][0-9a-fA-F]))+','',x) #url\n",
        "#     #x = [lemmatizer.lemmatize(token) for token in x.split(\" \")]\n",
        "#     #x = [word for word in x if not word in stop_words]\n",
        "#     #x=\" \".join(x)\n",
        "#     corpus_train.append(x)    \n",
        "# # Creating the training corpus\n",
        "# corpus_test = []\n",
        "# for i in test:\n",
        "#     x=i.lower()\n",
        "#     x=x.replace('@user','')\n",
        "#     x=x.replace('@[\\w\\-]+','')\n",
        "#     #x=x.translate(str.maketrans('', '', string.punctuation))\n",
        "#     x = re.sub('[^A-Za-z]', ' ', x)\n",
        "#     #x=re.sub('\\s+',' ',x)\n",
        "#     x=re.sub('http[s]?://(?:[a-zA-Z]|[0-9]|[$-_@.&+]|'\n",
        "#         '[!*\\(\\),]|(?:%[0-9a-fA-F][0-9a-fA-F]))+','',x) #url\n",
        "#     #x = [lemmatizer.lemmatize(token) for token in x.split(\" \")]\n",
        "#     #x = [word for word in x if not word in stop_words]\n",
        "#     #x=\" \".join(x)\n",
        "#     corpus_test.append(x) "
      ],
      "execution_count": null,
      "outputs": []
    },
    {
      "cell_type": "code",
      "metadata": {
        "id": "GyyHvozBq7kf"
      },
      "source": [
        "# from keras.preprocessing.text import Tokenizer\n",
        "# from keras.preprocessing import sequence\n",
        "# max_words = 5000 #frequency of words to be kept\n",
        "# max_len = 200\n",
        "# tokenize = Tokenizer(num_words=max_words)\n",
        "# tokenize.fit_on_texts(corpus_train)\n",
        "# sequences = tokenize.texts_to_sequences(corpus_train)\n",
        "# word_index = tokenize.word_index\n",
        "# sequences_matrix = sequence.pad_sequences(sequences,maxlen=max_len)"
      ],
      "execution_count": null,
      "outputs": []
    },
    {
      "cell_type": "code",
      "source": [
        "# splitting the data into target and feature\n",
        "from sklearn.model_selection import train_test_split\n",
        "from keras.preprocessing.text import Tokenizer\n",
        "from keras.preprocessing.sequence import pad_sequences \n",
        "\n",
        "X_train, X_test, y_train, y_test = train_test_split(X_train, y_train ,test_size = 0.1, random_state=0)\n",
        "tokenizer = Tokenizer(lower=True)\n",
        "tokenizer.fit_on_texts(X_train)\n",
        "\n",
        "X_train = tokenizer.texts_to_sequences(X_train)\n",
        "X_test = tokenizer.texts_to_sequences(X_test)\n",
        "\n",
        "vocab_size = len(tokenizer.word_index) + 1 \n",
        "vocab_size # Adding 1 because of reserved 0 index"
      ],
      "metadata": {
        "colab": {
          "base_uri": "https://localhost:8080/"
        },
        "id": "DUs3GSQ9e6lq",
        "outputId": "20438141-0b09-491e-97d2-8ccb822cccfc"
      },
      "execution_count": null,
      "outputs": [
        {
          "output_type": "execute_result",
          "data": {
            "text/plain": [
              "14667"
            ]
          },
          "metadata": {},
          "execution_count": 14
        }
      ]
    },
    {
      "cell_type": "code",
      "source": [
        "word_index = tokenizer.word_index\n"
      ],
      "metadata": {
        "id": "_Ae1X0N6mtK1"
      },
      "execution_count": null,
      "outputs": []
    },
    {
      "cell_type": "code",
      "source": [
        "lens_train = [len(i) for i in X_train]\n",
        "lens_test = [len(i) for i in X_test]\n",
        "lens = lens_train + lens_test\n",
        "\n",
        "maxlen = np.max(lens)\n",
        "print('Max len:', maxlen)"
      ],
      "metadata": {
        "colab": {
          "base_uri": "https://localhost:8080/"
        },
        "id": "gm9MD9MKgew-",
        "outputId": "5b9af21c-c0d9-4cbb-d287-06ed2e2c4f10"
      },
      "execution_count": null,
      "outputs": [
        {
          "output_type": "stream",
          "name": "stdout",
          "text": [
            "Max len: 388\n"
          ]
        }
      ]
    },
    {
      "cell_type": "code",
      "source": [
        "# len(x.split())\n",
        "\n",
        "# lens_train = [len(i.split()) for i in list(train['commentaire'])]\n",
        "# lens_test = [len(i.split()) for i in X_test]\n",
        "# lens = lens_train + lens_test\n",
        "\n",
        "# maxlen_ = np.max(train['word_count'])\n",
        "# print('Max len:', maxlen_)\n"
      ],
      "metadata": {
        "id": "MHCkOuIlo0Bc"
      },
      "execution_count": null,
      "outputs": []
    },
    {
      "cell_type": "code",
      "metadata": {
        "id": "sYN-06rwkCyJ"
      },
      "source": [
        "# num_words = min(max_words, len(word_index)) + 1\n",
        "# print(num_words)"
      ],
      "execution_count": null,
      "outputs": []
    },
    {
      "cell_type": "code",
      "source": [
        "### AraVec embeddings\n",
        "# !wget https://bakrianoo.ewr1.vultrobjects.com/aravec/full_grams_cbow_300_twitter.zip"
      ],
      "metadata": {
        "id": "DO1yndKJiXxl"
      },
      "execution_count": null,
      "outputs": []
    },
    {
      "cell_type": "code",
      "metadata": {
        "id": "vNP3UOz1djK_"
      },
      "source": [
        "### Unzip AraVec \n",
        "# !unzip /content/full_grams_cbow_300_twitter.zip"
      ],
      "execution_count": null,
      "outputs": []
    },
    {
      "cell_type": "code",
      "source": [
        "# !mv /content/full_grams_cbow_300_twitter.mdl.trainables.syn1neg.npy /content/drive/MyDrive/FastText_Aravec_Arabic_embeddings/full_grams_cbow_300_twitter.mdl.trainables.syn1neg.npy\n",
        "# !mv /content/full_grams_cbow_300_twitter.mdl.wv.vectors.npy /content/drive/MyDrive/FastText_Aravec_Arabic_embeddings/full_grams_cbow_300_twitter.mdl.wv.vectors.npy"
      ],
      "metadata": {
        "id": "N4cXkMapTl0M"
      },
      "execution_count": null,
      "outputs": []
    },
    {
      "cell_type": "code",
      "source": [
        "### FastText Arabic embeddings\n",
        "# !wget https://dl.fbaipublicfiles.com/fasttext/vectors-crawl/cc.ar.300.vec.gz"
      ],
      "metadata": {
        "id": "N9NhnutckY-C"
      },
      "execution_count": null,
      "outputs": []
    },
    {
      "cell_type": "code",
      "source": [
        "### Unzip FastText Arabic\n",
        "# !gzip -d /content/cc.ar.300.vec.gz"
      ],
      "metadata": {
        "id": "bPzCEayqk0o0"
      },
      "execution_count": null,
      "outputs": []
    },
    {
      "cell_type": "code",
      "metadata": {
        "id": "vlMA1Qwfg0EA"
      },
      "source": [
        "embedding_path1 = \"/content/drive/MyDrive/FastText_Aravec_Arabic_embeddings/cc.ar.300.vec\" ### FadText Arabic\n",
        "embedding_path2 = \"/content/drive/MyDrive/FastText_Aravec_Arabic_embeddings/full_grams_cbow_300_twitter.mdl.wv.vectors.npy\" ### AraVec\n",
        "#embedding_path2 = \"/content/full_grams_cbow_300_twitter.mdl.wv.vectors.npy\" ### AraVec\n",
        "\n",
        "embed_size = 300"
      ],
      "execution_count": null,
      "outputs": []
    },
    {
      "cell_type": "code",
      "metadata": {
        "id": "TyxVJQ45rSW3"
      },
      "source": [
        "def get_coefs(word,*arr):\n",
        "    return word, np.asarray(arr, dtype='float32')\n",
        "\n",
        "def build_matrix(embedding_path, word_index):\n",
        "    embedding_index = dict(get_coefs(*o.strip().split(\" \")) for o in open(embedding_path))\n",
        "\n",
        "    nb_words = min(maxlen, len(word_index))\n",
        "    # embedding_matrix = np.zeros((nb_words + 1, embed_size))\n",
        "    embedding_matrix = np.zeros((vocab_size + 1, embed_size))\n",
        "    for word, i in word_index.items():\n",
        "        if i >= maxlen:\n",
        "            continue\n",
        "        embedding_vector = embedding_index.get(word)\n",
        "        if embedding_vector is not None:\n",
        "            embedding_matrix[i] = embedding_vector\n",
        "    return embedding_matrix\n"
      ],
      "execution_count": null,
      "outputs": []
    },
    {
      "cell_type": "code",
      "metadata": {
        "id": "zYUKY8LXkIoK"
      },
      "source": [
        "fasttext_arabic_emb = build_matrix(embedding_path1, word_index)\n",
        "# aravec_emb = build_matrix(embedding_path2, word_index)"
      ],
      "execution_count": null,
      "outputs": []
    },
    {
      "cell_type": "code",
      "metadata": {
        "colab": {
          "base_uri": "https://localhost:8080/"
        },
        "id": "ujFHFjvZgbri",
        "outputId": "2fb5e686-2769-467d-f0b6-2b568f912b7c"
      },
      "source": [
        "fasttext_arabic_emb.shape"
      ],
      "execution_count": null,
      "outputs": [
        {
          "output_type": "execute_result",
          "data": {
            "text/plain": [
              "(14668, 300)"
            ]
          },
          "metadata": {},
          "execution_count": 20
        }
      ]
    },
    {
      "cell_type": "code",
      "source": [
        "import gensim\n",
        "\n",
        "t_model = gensim.models.Word2Vec.load('/content/drive/MyDrive/FastText_Aravec_Arabic_embeddings/full_grams_cbow_300_twitter.mdl')"
      ],
      "metadata": {
        "id": "Tla3YBh1xpBK"
      },
      "execution_count": null,
      "outputs": []
    },
    {
      "cell_type": "code",
      "source": [
        "# word_vector = t_model.wv[ token ]\n",
        "\n",
        "def build_aravec_matrix(embedding_path, word_index):\n",
        "\n",
        "    nb_words = min(maxlen, len(word_index))\n",
        "    # embedding_matrix = np.zeros((nb_words + 1, embed_size))\n",
        "    embedding_matrix = np.zeros((vocab_size + 1, embed_size))\n",
        "    for word, i in word_index.items():\n",
        "        if i >= maxlen:\n",
        "            continue\n",
        "        try:\n",
        "          embedding_vector = t_model.wv[word]\n",
        "        except KeyError:\n",
        "          continue\n",
        "        if embedding_vector is not None:\n",
        "            embedding_matrix[i] = t_model.wv[word]\n",
        "    return embedding_matrix"
      ],
      "metadata": {
        "id": "VPIk72dXx4rz"
      },
      "execution_count": null,
      "outputs": []
    },
    {
      "cell_type": "code",
      "source": [
        "aravec_emb = build_aravec_matrix(embedding_path2, word_index)"
      ],
      "metadata": {
        "id": "jPT-r20-vv3L"
      },
      "execution_count": null,
      "outputs": []
    },
    {
      "cell_type": "code",
      "source": [
        "aravec_emb.shape"
      ],
      "metadata": {
        "colab": {
          "base_uri": "https://localhost:8080/"
        },
        "id": "-GfJTGLH9GiR",
        "outputId": "2baec0ba-e947-450a-c810-d088ef5ca550"
      },
      "execution_count": null,
      "outputs": [
        {
          "output_type": "execute_result",
          "data": {
            "text/plain": [
              "(14668, 300)"
            ]
          },
          "metadata": {},
          "execution_count": 24
        }
      ]
    },
    {
      "cell_type": "code",
      "source": [
        "aravec_emb"
      ],
      "metadata": {
        "colab": {
          "base_uri": "https://localhost:8080/"
        },
        "id": "ywE3rEY3AvVS",
        "outputId": "5525820c-9e6d-42ae-a87c-e27950f5cbf6"
      },
      "execution_count": null,
      "outputs": [
        {
          "output_type": "execute_result",
          "data": {
            "text/plain": [
              "array([[ 0.        ,  0.        ,  0.        , ...,  0.        ,\n",
              "         0.        ,  0.        ],\n",
              "       [ 0.52427763, -0.17721991, -0.67358071, ..., -1.02551579,\n",
              "        -1.43612766,  0.11169961],\n",
              "       [ 0.16235431, -1.00791025, -0.86719418, ..., -0.01928542,\n",
              "        -1.11376536, -1.04606497],\n",
              "       ...,\n",
              "       [ 0.        ,  0.        ,  0.        , ...,  0.        ,\n",
              "         0.        ,  0.        ],\n",
              "       [ 0.        ,  0.        ,  0.        , ...,  0.        ,\n",
              "         0.        ,  0.        ],\n",
              "       [ 0.        ,  0.        ,  0.        , ...,  0.        ,\n",
              "         0.        ,  0.        ]])"
            ]
          },
          "metadata": {},
          "execution_count": 25
        }
      ]
    },
    {
      "cell_type": "markdown",
      "metadata": {
        "id": "uiArU6WLwghI"
      },
      "source": [
        "ccombinaison des deux embedding\n"
      ]
    },
    {
      "cell_type": "code",
      "metadata": {
        "id": "v7uZ-HJ4ln2_",
        "colab": {
          "base_uri": "https://localhost:8080/"
        },
        "outputId": "2ecb2f64-ef0d-4e17-a44a-126f22bdd262"
      },
      "source": [
        "embedding_matrix2=np.mean((fasttext_arabic_emb, aravec_emb),axis=0)\n",
        "embedding_matrix2.shape"
      ],
      "execution_count": null,
      "outputs": [
        {
          "output_type": "execute_result",
          "data": {
            "text/plain": [
              "(14668, 300)"
            ]
          },
          "metadata": {},
          "execution_count": 26
        }
      ]
    },
    {
      "cell_type": "code",
      "metadata": {
        "id": "dLnt7QKJ8WzH"
      },
      "source": [
        "from keras.preprocessing import sequence\n",
        "\n",
        "# test_sequences = tokenize.texts_to_sequences(corpus_test)\n",
        "X_train_pad = sequence.pad_sequences(X_train, maxlen=maxlen)\n",
        "X_test_pad  = sequence.pad_sequences(X_test, maxlen=maxlen)"
      ],
      "execution_count": null,
      "outputs": []
    },
    {
      "cell_type": "code",
      "metadata": {
        "id": "EVwNl2COnOTt"
      },
      "source": [
        "from keras import backend as K\n",
        "def f1(y_true, y_pred):\n",
        "    \n",
        "    def recall(y_true, y_pred):\n",
        "        \"\"\"Recall metric.\n",
        "\n",
        "        Only computes a batch-wise average of recall.\n",
        "\n",
        "        Computes the recall, a metric for multi-label classification of\n",
        "        how many relevant items are selected.\n",
        "        \"\"\"\n",
        "        true_positives = K.sum(K.round(K.clip(y_true * y_pred, 0, 1)))\n",
        "        possible_positives = K.sum(K.round(K.clip(y_true, 0, 1)))\n",
        "        recall = true_positives / (possible_positives + K.epsilon())\n",
        "        return recall\n",
        "\n",
        "    def precision(y_true, y_pred):\n",
        "        \"\"\"Precision metric.\n",
        "\n",
        "        Only computes a batch-wise average of precision.\n",
        "\n",
        "        Computes the precision, a metric for multi-label classification of\n",
        "        how many selected items are relevant.\n",
        "        \"\"\"\n",
        "        true_positives = K.sum(K.round(K.clip(y_true * y_pred, 0, 1)))\n",
        "        predicted_positives = K.sum(K.round(K.clip(y_pred, 0, 1)))\n",
        "        precision = true_positives / (predicted_positives + K.epsilon())\n",
        "        return precision\n",
        "    precision = precision(y_true, y_pred)\n",
        "    recall = recall(y_true, y_pred)\n",
        "    return 2*((precision*recall)/(precision+recall+K.epsilon()))"
      ],
      "execution_count": null,
      "outputs": []
    },
    {
      "cell_type": "code",
      "metadata": {
        "id": "9QwiUz7VFJPz"
      },
      "source": [
        "callbacks = keras.callbacks.EarlyStopping(monitor='val_f1', mode='max', verbose=1,\n",
        "                                          patience=8,restore_best_weights = True)"
      ],
      "execution_count": null,
      "outputs": []
    },
    {
      "cell_type": "code",
      "metadata": {
        "id": "HkMkKWsJrzeN"
      },
      "source": [
        "from keras.models import Sequential,Model\n",
        "from tensorflow.compat.v1.keras.layers import CuDNNGRU\n",
        "from keras.layers import Embedding,Dense,GRU, Conv1D\n",
        "from keras.layers import Dropout,Bidirectional,GlobalMaxPool1D,GlobalAveragePooling1D\n",
        "from keras.layers import SpatialDropout1D,concatenate,Input\n",
        "# from keras.optimizers import RMSprop\n",
        "from keras.initializers import Constant\n",
        "from sklearn.utils import class_weight\n",
        "from keras.callbacks import ModelCheckpoint\n",
        "import tensorflow as tf\n",
        "#tf.logging.set_verbosity(tf.logging.ERROR)"
      ],
      "execution_count": null,
      "outputs": []
    },
    {
      "cell_type": "code",
      "metadata": {
        "id": "Il9FI8EkTTBh"
      },
      "source": [
        "from sklearn.metrics import classification_report\n",
        "from sklearn.metrics import confusion_matrix, f1_score, precision_score, recall_score\n",
        "import matplotlib.pyplot as plt\n",
        "import seaborn as sns"
      ],
      "execution_count": null,
      "outputs": []
    },
    {
      "cell_type": "code",
      "metadata": {
        "id": "fL-leK_jTorh"
      },
      "source": [
        "class_weights = class_weight.compute_class_weight(class_weight='balanced', classes=np.unique(y_train), y=y_train)\n",
        "class_weights=dict(enumerate(class_weights))"
      ],
      "execution_count": null,
      "outputs": []
    },
    {
      "cell_type": "code",
      "source": [
        "from tensorflow.keras.utils import to_categorical\n",
        "\n",
        "y_train = to_categorical(y_train, 3)\n",
        "y_test  = to_categorical(y_test, 3)"
      ],
      "metadata": {
        "id": "khxVuHQQENNR"
      },
      "execution_count": null,
      "outputs": []
    },
    {
      "cell_type": "markdown",
      "metadata": {
        "id": "StHob8uHVS2A"
      },
      "source": [
        "# CNN Model and BiGRU model"
      ]
    },
    {
      "cell_type": "markdown",
      "metadata": {
        "id": "ZwFFlBGFR2tv"
      },
      "source": [
        "### Training a model with aravec and Fasttext embedding"
      ]
    },
    {
      "cell_type": "code",
      "metadata": {
        "id": "EIRQc1aLRhHg"
      },
      "source": [
        "inp=Input((maxlen,))\n",
        "#Embedding Layer \n",
        "x=Embedding(vocab_size + 1,embed_size,embeddings_initializer=Constant(embedding_matrix2),\n",
        "            input_length=maxlen,trainable=True)(inp)\n",
        "x = SpatialDropout1D(0.2)(x)\n",
        "### Couche CNN-BiGRU \n",
        "x=Conv1D(filters=32, kernel_size=3, padding='valid', activation='relu')(x) \n",
        "x=Bidirectional(GRU(150, return_sequences = True))(x)\n",
        "\n",
        "avg_pool = GlobalAveragePooling1D()(x)\n",
        "max_pool = GlobalMaxPool1D()(x)\n",
        "conc = concatenate([avg_pool, max_pool])\n",
        "\n",
        " \n",
        "x=Dropout(0.2)(conc)\n",
        "out=Dense(16, activation=\"relu\")(x)\n",
        "out=Dense(8, activation=\"relu\")(out)\n",
        "\n",
        "out=Dense(3, activation=\"softmax\")(out)\n",
        "\n",
        "model=Model(inp,out)\n",
        "\n",
        "mcp_save = ModelCheckpoint('model.mdl_wts.hdf5', save_best_only=True,\n",
        "                           monitor='val_loss', mode='min',patience = 5)\n",
        "\n"
      ],
      "execution_count": null,
      "outputs": []
    },
    {
      "cell_type": "code",
      "metadata": {
        "id": "hCVvlC7ARlLY"
      },
      "source": [
        "model.compile(loss=tf.keras.losses.CategoricalCrossentropy(), optimizer=tf.keras.optimizers.Adam(), metrics=[f1])"
      ],
      "execution_count": null,
      "outputs": []
    },
    {
      "cell_type": "code",
      "metadata": {
        "id": "LBDAzDdwRpeJ",
        "colab": {
          "base_uri": "https://localhost:8080/"
        },
        "outputId": "d40a5376-2f87-4a44-dd90-a300d7558355"
      },
      "source": [
        "model.summary()"
      ],
      "execution_count": null,
      "outputs": [
        {
          "output_type": "stream",
          "name": "stdout",
          "text": [
            "Model: \"model\"\n",
            "__________________________________________________________________________________________________\n",
            " Layer (type)                   Output Shape         Param #     Connected to                     \n",
            "==================================================================================================\n",
            " input_1 (InputLayer)           [(None, 388)]        0           []                               \n",
            "                                                                                                  \n",
            " embedding (Embedding)          (None, 388, 300)     4400400     ['input_1[0][0]']                \n",
            "                                                                                                  \n",
            " spatial_dropout1d (SpatialDrop  (None, 388, 300)    0           ['embedding[0][0]']              \n",
            " out1D)                                                                                           \n",
            "                                                                                                  \n",
            " conv1d (Conv1D)                (None, 386, 32)      28832       ['spatial_dropout1d[0][0]']      \n",
            "                                                                                                  \n",
            " bidirectional (Bidirectional)  (None, 386, 300)     165600      ['conv1d[0][0]']                 \n",
            "                                                                                                  \n",
            " global_average_pooling1d (Glob  (None, 300)         0           ['bidirectional[0][0]']          \n",
            " alAveragePooling1D)                                                                              \n",
            "                                                                                                  \n",
            " global_max_pooling1d (GlobalMa  (None, 300)         0           ['bidirectional[0][0]']          \n",
            " xPooling1D)                                                                                      \n",
            "                                                                                                  \n",
            " concatenate (Concatenate)      (None, 600)          0           ['global_average_pooling1d[0][0]'\n",
            "                                                                 , 'global_max_pooling1d[0][0]']  \n",
            "                                                                                                  \n",
            " dropout (Dropout)              (None, 600)          0           ['concatenate[0][0]']            \n",
            "                                                                                                  \n",
            " dense (Dense)                  (None, 16)           9616        ['dropout[0][0]']                \n",
            "                                                                                                  \n",
            " dense_1 (Dense)                (None, 8)            136         ['dense[0][0]']                  \n",
            "                                                                                                  \n",
            " dense_2 (Dense)                (None, 3)            27          ['dense_1[0][0]']                \n",
            "                                                                                                  \n",
            "==================================================================================================\n",
            "Total params: 4,604,611\n",
            "Trainable params: 4,604,611\n",
            "Non-trainable params: 0\n",
            "__________________________________________________________________________________________________\n"
          ]
        }
      ]
    },
    {
      "cell_type": "code",
      "metadata": {
        "colab": {
          "base_uri": "https://localhost:8080/",
          "height": 1000
        },
        "id": "dAjMWY-nmAeL",
        "outputId": "7c946730-cc66-4341-ff0d-fa3810ab4c87"
      },
      "source": [
        "tf.keras.utils.plot_model(model, show_shapes=True)"
      ],
      "execution_count": null,
      "outputs": [
        {
          "output_type": "execute_result",
          "data": {
            "image/png": "[encoded data removed]",
            "text/plain": [
              "<IPython.core.display.Image object>"
            ]
          },
          "metadata": {},
          "execution_count": 37
        }
      ]
    },
    {
      "cell_type": "code",
      "metadata": {
        "id": "SFa5d1PhR__j",
        "colab": {
          "base_uri": "https://localhost:8080/"
        },
        "outputId": "59cb2f0b-1661-4ca8-c32f-81bca09be1e7"
      },
      "source": [
        "model.fit(X_train_pad, y_train, batch_size=128, epochs=30, verbose=1, class_weight=class_weights,\n",
        "          validation_split = 0.2, callbacks=[callbacks])"
      ],
      "execution_count": null,
      "outputs": [
        {
          "output_type": "stream",
          "name": "stdout",
          "text": [
            "Epoch 1/30\n",
            "37/37 [==============================] - 23s 260ms/step - loss: 1.0886 - f1: 4.1902e-04 - val_loss: 1.0594 - val_f1: 0.0000e+00\n",
            "Epoch 2/30\n",
            "37/37 [==============================] - 8s 228ms/step - loss: 1.0420 - f1: 0.0877 - val_loss: 0.9733 - val_f1: 0.1500\n",
            "Epoch 3/30\n",
            "37/37 [==============================] - 8s 228ms/step - loss: 0.9221 - f1: 0.4078 - val_loss: 0.8944 - val_f1: 0.4783\n",
            "Epoch 4/30\n",
            "37/37 [==============================] - 8s 226ms/step - loss: 0.7453 - f1: 0.6412 - val_loss: 0.8186 - val_f1: 0.5938\n",
            "Epoch 5/30\n",
            "37/37 [==============================] - 8s 227ms/step - loss: 0.5349 - f1: 0.7826 - val_loss: 0.8599 - val_f1: 0.6144\n",
            "Epoch 6/30\n",
            "37/37 [==============================] - 8s 230ms/step - loss: 0.3643 - f1: 0.8590 - val_loss: 0.8525 - val_f1: 0.6678\n",
            "Epoch 7/30\n",
            "37/37 [==============================] - 8s 229ms/step - loss: 0.2348 - f1: 0.9089 - val_loss: 0.9232 - val_f1: 0.6767\n",
            "Epoch 8/30\n",
            "37/37 [==============================] - 8s 227ms/step - loss: 0.1511 - f1: 0.9419 - val_loss: 1.0926 - val_f1: 0.6556\n",
            "Epoch 9/30\n",
            "37/37 [==============================] - 8s 227ms/step - loss: 0.0945 - f1: 0.9630 - val_loss: 1.2139 - val_f1: 0.6716\n",
            "Epoch 10/30\n",
            "37/37 [==============================] - 8s 228ms/step - loss: 0.0684 - f1: 0.9757 - val_loss: 1.3284 - val_f1: 0.6843\n",
            "Epoch 11/30\n",
            "37/37 [==============================] - 8s 228ms/step - loss: 0.0556 - f1: 0.9791 - val_loss: 1.4383 - val_f1: 0.6858\n",
            "Epoch 12/30\n",
            "37/37 [==============================] - 8s 225ms/step - loss: 0.0465 - f1: 0.9833 - val_loss: 1.4576 - val_f1: 0.6758\n",
            "Epoch 13/30\n",
            "37/37 [==============================] - 8s 227ms/step - loss: 0.0350 - f1: 0.9866 - val_loss: 1.6104 - val_f1: 0.6709\n",
            "Epoch 14/30\n",
            "37/37 [==============================] - 8s 229ms/step - loss: 0.0488 - f1: 0.9848 - val_loss: 1.5475 - val_f1: 0.6954\n",
            "Epoch 15/30\n",
            "37/37 [==============================] - 8s 226ms/step - loss: 0.0273 - f1: 0.9914 - val_loss: 1.6569 - val_f1: 0.6615\n",
            "Epoch 16/30\n",
            "37/37 [==============================] - 8s 228ms/step - loss: 0.0308 - f1: 0.9892 - val_loss: 1.6784 - val_f1: 0.6856\n",
            "Epoch 17/30\n",
            "37/37 [==============================] - 8s 225ms/step - loss: 0.0228 - f1: 0.9922 - val_loss: 1.7393 - val_f1: 0.6801\n",
            "Epoch 18/30\n",
            "37/37 [==============================] - 8s 226ms/step - loss: 0.0226 - f1: 0.9943 - val_loss: 1.7503 - val_f1: 0.6783\n",
            "Epoch 19/30\n",
            "37/37 [==============================] - 8s 228ms/step - loss: 0.0207 - f1: 0.9928 - val_loss: 1.8548 - val_f1: 0.6744\n",
            "Epoch 20/30\n",
            "37/37 [==============================] - 8s 226ms/step - loss: 0.0199 - f1: 0.9929 - val_loss: 1.8594 - val_f1: 0.6867\n",
            "Epoch 21/30\n",
            "37/37 [==============================] - 8s 226ms/step - loss: 0.0146 - f1: 0.9936 - val_loss: 1.9567 - val_f1: 0.6828\n",
            "Epoch 22/30\n",
            "37/37 [==============================] - ETA: 0s - loss: 0.0244 - f1: 0.9919Restoring model weights from the end of the best epoch: 14.\n",
            "37/37 [==============================] - 8s 226ms/step - loss: 0.0244 - f1: 0.9919 - val_loss: 1.8208 - val_f1: 0.6849\n",
            "Epoch 00022: early stopping\n"
          ]
        },
        {
          "output_type": "execute_result",
          "data": {
            "text/plain": [
              "<keras.callbacks.History at 0x7fd661f13790>"
            ]
          },
          "metadata": {},
          "execution_count": 38
        }
      ]
    },
    {
      "cell_type": "code",
      "metadata": {
        "id": "1BD-ntr8rznW",
        "colab": {
          "base_uri": "https://localhost:8080/"
        },
        "outputId": "3af32c25-212e-4e80-80f2-11b7b24a2aa0"
      },
      "source": [
        "print(model.evaluate(X_test_pad, y_test))"
      ],
      "execution_count": null,
      "outputs": [
        {
          "output_type": "stream",
          "name": "stdout",
          "text": [
            "21/21 [==============================] - 2s 73ms/step - loss: 1.5726 - f1: 0.7179\n",
            "[1.572636604309082, 0.7178760170936584]\n"
          ]
        }
      ]
    },
    {
      "cell_type": "code",
      "metadata": {
        "id": "u-fKEe-4rzp4",
        "colab": {
          "base_uri": "https://localhost:8080/"
        },
        "outputId": "68ce960d-103d-407b-a73e-b028f329295a"
      },
      "source": [
        "y_pred = model.predict(X_test_pad, batch_size=128, verbose=1)\n",
        "y_pred_bool = np.argmax(y_pred, axis=1)\n",
        "y_pred = (y_pred > 0.5)\n",
        "\n",
        "print(classification_report(y_test, y_pred, target_names=(['Hate','Normal','Abusive'])))\n"
      ],
      "execution_count": null,
      "outputs": [
        {
          "output_type": "stream",
          "name": "stdout",
          "text": [
            "6/6 [==============================] - 1s 76ms/step\n",
            "              precision    recall  f1-score   support\n",
            "\n",
            "        Hate       0.59      0.48      0.53       155\n",
            "      Normal       0.77      0.85      0.81       371\n",
            "     Abusive       0.62      0.53      0.57       120\n",
            "\n",
            "   micro avg       0.71      0.71      0.71       646\n",
            "   macro avg       0.66      0.62      0.64       646\n",
            "weighted avg       0.70      0.71      0.70       646\n",
            " samples avg       0.71      0.71      0.71       646\n",
            "\n"
          ]
        },
        {
          "output_type": "stream",
          "name": "stderr",
          "text": [
            "/usr/local/lib/python3.7/dist-packages/sklearn/metrics/_classification.py:1308: UndefinedMetricWarning: Precision and F-score are ill-defined and being set to 0.0 in samples with no predicted labels. Use `zero_division` parameter to control this behavior.\n",
            "  _warn_prf(average, modifier, msg_start, len(result))\n"
          ]
        }
      ]
    },
    {
      "cell_type": "code",
      "metadata": {
        "id": "4LtnRxVRmNcl",
        "colab": {
          "base_uri": "https://localhost:8080/"
        },
        "outputId": "ec884091-cfa1-4b0d-90c3-860bea0cb127"
      },
      "source": [
        "f1_score(y_test, y_pred, average=\"weighted\")"
      ],
      "execution_count": null,
      "outputs": [
        {
          "output_type": "execute_result",
          "data": {
            "text/plain": [
              "0.6976066654363402"
            ]
          },
          "metadata": {},
          "execution_count": 41
        }
      ]
    },
    {
      "cell_type": "code",
      "metadata": {
        "id": "72QjwwRRrzsu"
      },
      "source": [
        "from tensorflow import keras\n",
        "keras.backend.clear_session()"
      ],
      "execution_count": null,
      "outputs": []
    },
    {
      "cell_type": "code",
      "metadata": {
        "id": "4o9xT3kjyc7W"
      },
      "source": [
        "from sklearn import metrics\n",
        "metric = metrics.accuracy_score(y_test, y_pred), metrics.f1_score(y_test, y_pred, average='weighted'), metrics.recall_score(y_test, y_pred, average='weighted'), metrics.precision_score(y_test, y_pred, average='weighted')"
      ],
      "execution_count": null,
      "outputs": []
    },
    {
      "cell_type": "code",
      "metadata": {
        "id": "czSMQdvTQZs_",
        "colab": {
          "base_uri": "https://localhost:8080/",
          "height": 226
        },
        "outputId": "f2259559-e885-4458-f78e-1f533aaa0c5b"
      },
      "source": [
        "fig = plt.figure()\n",
        "fig.set_size_inches(8,2)\n",
        "ax = fig.add_axes([0,0,1,1])\n",
        "rect1 = ax.bar(0.00,round(metric[0], 2), color = 'b', width = 0.05)\n",
        "rect2 = ax.bar(0.20, round(metric[1], 2), color = 'g', width = 0.05)\n",
        "rect3 = ax.bar(0.40, round(metric[2], 2) , color = 'r', width = 0.05)\n",
        "rect4 = ax.bar(0.60, round(metric[3], 2) , color = (1, 0, 1), width = 0.05)\n",
        "\n",
        "ax.set_ylabel('Scores')\n",
        "ax.set_title('metrics')\n",
        "def autolabel(rects):\n",
        "  \"\"\"Attach a text label above each bar in *rects*, displaying its height.\"\"\"\n",
        "  for rect in rects:\n",
        "      height = rect.get_height()\n",
        "      ax.annotate('{}'.format(height),\n",
        "                  xy=(rect.get_x() + rect.get_width() / 2, height),\n",
        "                  xytext=(0, 3),  # 3 points vertical offset\n",
        "                  textcoords=\"offset points\",\n",
        "                  ha='center', va='bottom')\n",
        "\n",
        "autolabel(rect1)\n",
        "autolabel(rect2)\n",
        "autolabel(rect3)\n",
        "autolabel(rect4)\n",
        "ax.legend(labels=['accuracy', 'f1_score', 'recall', 'precision'],loc='best')\n",
        "plt.ylim(0, 1)"
      ],
      "execution_count": null,
      "outputs": [
        {
          "output_type": "execute_result",
          "data": {
            "text/plain": [
              "(0.0, 1.0)"
            ]
          },
          "metadata": {},
          "execution_count": 44
        },
        {
          "output_type": "display_data",
          "data": {
            "image/png": "[encoded data removed]",
            "text/plain": [
              "<Figure size 576x144 with 1 Axes>"
            ]
          },
          "metadata": {
            "needs_background": "light"
          }
        }
      ]
    },
    {
      "cell_type": "markdown",
      "metadata": {
        "id": "Bpb35nPlTI1g"
      },
      "source": [
        "### Training on Fasttext Embedding Only"
      ]
    },
    {
      "cell_type": "code",
      "metadata": {
        "id": "ext78JdGVwvv"
      },
      "source": [
        "keras.backend.clear_session()"
      ],
      "execution_count": null,
      "outputs": []
    },
    {
      "cell_type": "code",
      "metadata": {
        "id": "dleDGpLYU_3V"
      },
      "source": [
        "inp=Input(shape=(maxlen, ))\n",
        "x=Embedding(vocab_size + 1,embed_size,embeddings_initializer=Constant(fasttext_arabic_emb),#Set Fasttext Embedding\n",
        "            input_length=maxlen,trainable=True)(inp)\n",
        "x = SpatialDropout1D(0.2)(x)\n",
        "### Couche CNN-BiGRU \n",
        "x=Conv1D(filters=32, kernel_size=3, padding='valid', activation='relu')(x) \n",
        "x=Bidirectional(GRU(150, return_sequences = True))(x)\n",
        "avg_pool = GlobalAveragePooling1D()(x)\n",
        "max_pool = GlobalMaxPool1D()(x)\n",
        "conc = concatenate([avg_pool, max_pool])\n",
        "\n",
        "\n",
        "x=Dropout(0.1)(conc)\n",
        "out=Dense(64, activation=\"relu\")(x)\n",
        "out=Dense(32, activation=\"relu\")(x)\n",
        "\n",
        "out=Dense(3, activation=\"softmax\")(x)\n",
        "\n",
        "model_ft=Model(inp,out)\n",
        "\n",
        "mcp_save = ModelCheckpoint('model_fasttext.mdl_wts.hdf5', save_best_only=True,\n",
        "                           monitor='val_loss', mode='min',patience = 5)\n"
      ],
      "execution_count": null,
      "outputs": []
    },
    {
      "cell_type": "code",
      "metadata": {
        "id": "y8TojWn4Tijn"
      },
      "source": [
        "model_ft.compile(loss=tf.keras.losses.CategoricalCrossentropy(), optimizer=tf.keras.optimizers.Adam(), metrics=[f1])"
      ],
      "execution_count": null,
      "outputs": []
    },
    {
      "cell_type": "code",
      "metadata": {
        "id": "NhdxZk9cTm3X",
        "colab": {
          "base_uri": "https://localhost:8080/"
        },
        "outputId": "78a39985-6702-430c-cf68-4f00725fe11b"
      },
      "source": [
        "model_ft.summary()"
      ],
      "execution_count": null,
      "outputs": [
        {
          "output_type": "stream",
          "name": "stdout",
          "text": [
            "Model: \"model\"\n",
            "__________________________________________________________________________________________________\n",
            " Layer (type)                   Output Shape         Param #     Connected to                     \n",
            "==================================================================================================\n",
            " input_1 (InputLayer)           [(None, 388)]        0           []                               \n",
            "                                                                                                  \n",
            " embedding (Embedding)          (None, 388, 300)     4400400     ['input_1[0][0]']                \n",
            "                                                                                                  \n",
            " spatial_dropout1d (SpatialDrop  (None, 388, 300)    0           ['embedding[0][0]']              \n",
            " out1D)                                                                                           \n",
            "                                                                                                  \n",
            " conv1d (Conv1D)                (None, 386, 32)      28832       ['spatial_dropout1d[0][0]']      \n",
            "                                                                                                  \n",
            " bidirectional (Bidirectional)  (None, 386, 300)     165600      ['conv1d[0][0]']                 \n",
            "                                                                                                  \n",
            " global_average_pooling1d (Glob  (None, 300)         0           ['bidirectional[0][0]']          \n",
            " alAveragePooling1D)                                                                              \n",
            "                                                                                                  \n",
            " global_max_pooling1d (GlobalMa  (None, 300)         0           ['bidirectional[0][0]']          \n",
            " xPooling1D)                                                                                      \n",
            "                                                                                                  \n",
            " concatenate (Concatenate)      (None, 600)          0           ['global_average_pooling1d[0][0]'\n",
            "                                                                 , 'global_max_pooling1d[0][0]']  \n",
            "                                                                                                  \n",
            " dropout (Dropout)              (None, 600)          0           ['concatenate[0][0]']            \n",
            "                                                                                                  \n",
            " dense_2 (Dense)                (None, 3)            1803        ['dropout[0][0]']                \n",
            "                                                                                                  \n",
            "==================================================================================================\n",
            "Total params: 4,596,635\n",
            "Trainable params: 4,596,635\n",
            "Non-trainable params: 0\n",
            "__________________________________________________________________________________________________\n"
          ]
        }
      ]
    },
    {
      "cell_type": "code",
      "metadata": {
        "id": "Et2g6vcQT29F",
        "colab": {
          "base_uri": "https://localhost:8080/"
        },
        "outputId": "c3b373f6-afce-49b6-e0fc-b934129db9fc"
      },
      "source": [
        "model_ft.fit(X_train_pad, \n",
        "             y_train, \n",
        "             batch_size=128,\n",
        "             epochs=20,\n",
        "             verbose=1,\n",
        "             class_weight=class_weights,\n",
        "             validation_split=0.2,\n",
        "             callbacks=[callbacks])"
      ],
      "execution_count": null,
      "outputs": [
        {
          "output_type": "stream",
          "name": "stdout",
          "text": [
            "Epoch 1/20\n",
            "37/37 [==============================] - 14s 250ms/step - loss: 1.0653 - f1: 0.0242 - val_loss: 1.0063 - val_f1: 0.1426\n",
            "Epoch 2/20\n",
            "37/37 [==============================] - 8s 227ms/step - loss: 0.7930 - f1: 0.5396 - val_loss: 0.8120 - val_f1: 0.6346\n",
            "Epoch 3/20\n",
            "37/37 [==============================] - 8s 225ms/step - loss: 0.4109 - f1: 0.8624 - val_loss: 0.7916 - val_f1: 0.7237\n",
            "Epoch 4/20\n",
            "37/37 [==============================] - 8s 226ms/step - loss: 0.1873 - f1: 0.9370 - val_loss: 0.9791 - val_f1: 0.7269\n",
            "Epoch 5/20\n",
            "37/37 [==============================] - 8s 228ms/step - loss: 0.0908 - f1: 0.9751 - val_loss: 1.0909 - val_f1: 0.7120\n",
            "Epoch 6/20\n",
            "37/37 [==============================] - 8s 228ms/step - loss: 0.0547 - f1: 0.9840 - val_loss: 1.2159 - val_f1: 0.7140\n",
            "Epoch 7/20\n",
            "37/37 [==============================] - 8s 227ms/step - loss: 0.0333 - f1: 0.9903 - val_loss: 1.3987 - val_f1: 0.7258\n",
            "Epoch 8/20\n",
            "37/37 [==============================] - 8s 226ms/step - loss: 0.0293 - f1: 0.9906 - val_loss: 1.4478 - val_f1: 0.7239\n",
            "Epoch 9/20\n",
            "37/37 [==============================] - 8s 227ms/step - loss: 0.0299 - f1: 0.9910 - val_loss: 1.5664 - val_f1: 0.6936\n",
            "Epoch 10/20\n",
            "37/37 [==============================] - 8s 226ms/step - loss: 0.0261 - f1: 0.9933 - val_loss: 1.5817 - val_f1: 0.7140\n",
            "Epoch 11/20\n",
            "37/37 [==============================] - 8s 226ms/step - loss: 0.0170 - f1: 0.9950 - val_loss: 1.6611 - val_f1: 0.7146\n",
            "Epoch 12/20\n",
            "37/37 [==============================] - ETA: 0s - loss: 0.0137 - f1: 0.9960Restoring model weights from the end of the best epoch: 4.\n",
            "37/37 [==============================] - 8s 227ms/step - loss: 0.0137 - f1: 0.9960 - val_loss: 1.6799 - val_f1: 0.7057\n",
            "Epoch 00012: early stopping\n"
          ]
        },
        {
          "output_type": "execute_result",
          "data": {
            "text/plain": [
              "<keras.callbacks.History at 0x7fd6583beb10>"
            ]
          },
          "metadata": {},
          "execution_count": 49
        }
      ]
    },
    {
      "cell_type": "code",
      "metadata": {
        "id": "wCLLX3EAT4NO",
        "colab": {
          "base_uri": "https://localhost:8080/"
        },
        "outputId": "09656166-ff99-41b0-957f-4911a9db5676"
      },
      "source": [
        "print(model_ft.evaluate(X_test_pad, y_test))"
      ],
      "execution_count": null,
      "outputs": [
        {
          "output_type": "stream",
          "name": "stdout",
          "text": [
            "21/21 [==============================] - 2s 71ms/step - loss: 0.9787 - f1: 0.7294\n",
            "[0.978745698928833, 0.7294188141822815]\n"
          ]
        }
      ]
    },
    {
      "cell_type": "code",
      "metadata": {
        "id": "KE9mBrlcUiTH",
        "colab": {
          "base_uri": "https://localhost:8080/"
        },
        "outputId": "51cf8734-a8e7-4ffb-8dab-de9a1c287850"
      },
      "source": [
        "y_pred_ft = model_ft.predict(X_test_pad, batch_size=128, verbose=1)\n",
        "y_pred_bool_ft = np.argmax(y_pred, axis=1)\n",
        "y_pred_ft = (y_pred_ft > 0.5)\n",
        "\n",
        "print(classification_report(y_test, y_pred_ft, target_names=(['Hate','Normal','Abusive'])))\n"
      ],
      "execution_count": null,
      "outputs": [
        {
          "output_type": "stream",
          "name": "stdout",
          "text": [
            "6/6 [==============================] - 1s 72ms/step\n",
            "              precision    recall  f1-score   support\n",
            "\n",
            "        Hate       0.61      0.45      0.52       155\n",
            "      Normal       0.80      0.85      0.82       371\n",
            "     Abusive       0.60      0.62      0.61       120\n",
            "\n",
            "   micro avg       0.73      0.71      0.72       646\n",
            "   macro avg       0.67      0.64      0.65       646\n",
            "weighted avg       0.72      0.71      0.71       646\n",
            " samples avg       0.71      0.71      0.71       646\n",
            "\n"
          ]
        },
        {
          "output_type": "stream",
          "name": "stderr",
          "text": [
            "/usr/local/lib/python3.7/dist-packages/sklearn/metrics/_classification.py:1308: UndefinedMetricWarning: Precision and F-score are ill-defined and being set to 0.0 in samples with no predicted labels. Use `zero_division` parameter to control this behavior.\n",
            "  _warn_prf(average, modifier, msg_start, len(result))\n"
          ]
        }
      ]
    },
    {
      "cell_type": "code",
      "metadata": {
        "id": "sXj5owf2Ut0W"
      },
      "source": [
        "from sklearn import metrics\n",
        "metric_ft = metrics.accuracy_score(y_test, y_pred_ft), metrics.f1_score(y_test, y_pred_ft, average='weighted'), metrics.recall_score(y_test, y_pred_ft, average='weighted'), metrics.precision_score(y_test, y_pred_ft, average='weighted')"
      ],
      "execution_count": null,
      "outputs": []
    },
    {
      "cell_type": "code",
      "metadata": {
        "id": "N49Fe5YsU7NE",
        "colab": {
          "base_uri": "https://localhost:8080/",
          "height": 226
        },
        "outputId": "ae65a872-05ba-411d-ee9a-eea3ae34c329"
      },
      "source": [
        "fig = plt.figure()\n",
        "fig.set_size_inches(8,2)\n",
        "ax = fig.add_axes([0,0,1,1])\n",
        "rect1 = ax.bar(0.00,round(metric_ft[0], 2), color = 'b', width = 0.05)\n",
        "rect2 = ax.bar(0.20, round(metric_ft[1], 2), color = 'g', width = 0.05)\n",
        "rect3 = ax.bar(0.40, round(metric_ft[2], 2) , color = 'r', width = 0.05)\n",
        "rect4 = ax.bar(0.60, round(metric_ft[3], 2) , color = (1, 0, 1), width = 0.05)\n",
        "\n",
        "ax.set_ylabel('Scores')\n",
        "ax.set_title('metrics')\n",
        "\n",
        "\n",
        "autolabel(rect1)\n",
        "autolabel(rect2)\n",
        "autolabel(rect3)\n",
        "autolabel(rect4)\n",
        "ax.legend(labels=['accuracy', 'f1_score', 'recall', 'precision'],loc='best')\n",
        "plt.ylim(0, 1)"
      ],
      "execution_count": null,
      "outputs": [
        {
          "output_type": "execute_result",
          "data": {
            "text/plain": [
              "(0.0, 1.0)"
            ]
          },
          "metadata": {},
          "execution_count": 53
        },
        {
          "output_type": "display_data",
          "data": {
            "image/png": "[encoded data removed]",
            "text/plain": [
              "<Figure size 576x144 with 1 Axes>"
            ]
          },
          "metadata": {
            "needs_background": "light"
          }
        }
      ]
    },
    {
      "cell_type": "markdown",
      "metadata": {
        "id": "HiwoyTsPL1PG"
      },
      "source": [
        "### Training on Aravec Embedding Only"
      ]
    },
    {
      "cell_type": "code",
      "metadata": {
        "id": "vTBADyXfL1PN"
      },
      "source": [
        "keras.backend.clear_session()"
      ],
      "execution_count": null,
      "outputs": []
    },
    {
      "cell_type": "code",
      "metadata": {
        "id": "lglZwmCfL1PO"
      },
      "source": [
        "inp=Input(shape=(maxlen, ))\n",
        "x=Embedding(vocab_size + 1,embed_size,embeddings_initializer=Constant(aravec_emb),#Set Fasttext Embedding\n",
        "            input_length=maxlen,trainable=True)(inp)\n",
        "x = SpatialDropout1D(0.2)(x)\n",
        "### Couche CNN-BiGRU \n",
        "x=Conv1D(filters=32, kernel_size=3, padding='valid', activation='relu')(x) \n",
        "x=Bidirectional(GRU(150, return_sequences = True))(x)\n",
        "avg_pool = GlobalAveragePooling1D()(x)\n",
        "max_pool = GlobalMaxPool1D()(x)\n",
        "conc = concatenate([avg_pool, max_pool])\n",
        "\n",
        "\n",
        "x=Dropout(0.1)(conc)\n",
        "out=Dense(64, activation=\"relu\")(x)\n",
        "out=Dense(32, activation=\"relu\")(x)\n",
        "\n",
        "out=Dense(3, activation=\"softmax\")(x)\n",
        "\n",
        "model_arav=Model(inp,out)\n",
        "\n",
        "mcp_save = ModelCheckpoint('model_aravec.mdl_wts.hdf5', save_best_only=True,\n",
        "                           monitor='val_loss', mode='min',patience = 5)\n"
      ],
      "execution_count": null,
      "outputs": []
    },
    {
      "cell_type": "code",
      "metadata": {
        "id": "FvKap_oBL1PO"
      },
      "source": [
        "model_arav.compile(loss=tf.keras.losses.CategoricalCrossentropy(), optimizer=tf.keras.optimizers.Adam(), metrics=[f1])"
      ],
      "execution_count": null,
      "outputs": []
    },
    {
      "cell_type": "code",
      "metadata": {
        "colab": {
          "base_uri": "https://localhost:8080/"
        },
        "outputId": "ea6b7340-e148-4205-ae31-489da2230ab3",
        "id": "5lo1wLfQL1PO"
      },
      "source": [
        "model_arav.summary()"
      ],
      "execution_count": null,
      "outputs": [
        {
          "output_type": "stream",
          "name": "stdout",
          "text": [
            "Model: \"model\"\n",
            "__________________________________________________________________________________________________\n",
            " Layer (type)                   Output Shape         Param #     Connected to                     \n",
            "==================================================================================================\n",
            " input_1 (InputLayer)           [(None, 388)]        0           []                               \n",
            "                                                                                                  \n",
            " embedding (Embedding)          (None, 388, 300)     4400400     ['input_1[0][0]']                \n",
            "                                                                                                  \n",
            " spatial_dropout1d (SpatialDrop  (None, 388, 300)    0           ['embedding[0][0]']              \n",
            " out1D)                                                                                           \n",
            "                                                                                                  \n",
            " conv1d (Conv1D)                (None, 386, 32)      28832       ['spatial_dropout1d[0][0]']      \n",
            "                                                                                                  \n",
            " bidirectional (Bidirectional)  (None, 386, 300)     165600      ['conv1d[0][0]']                 \n",
            "                                                                                                  \n",
            " global_average_pooling1d (Glob  (None, 300)         0           ['bidirectional[0][0]']          \n",
            " alAveragePooling1D)                                                                              \n",
            "                                                                                                  \n",
            " global_max_pooling1d (GlobalMa  (None, 300)         0           ['bidirectional[0][0]']          \n",
            " xPooling1D)                                                                                      \n",
            "                                                                                                  \n",
            " concatenate (Concatenate)      (None, 600)          0           ['global_average_pooling1d[0][0]'\n",
            "                                                                 , 'global_max_pooling1d[0][0]']  \n",
            "                                                                                                  \n",
            " dropout (Dropout)              (None, 600)          0           ['concatenate[0][0]']            \n",
            "                                                                                                  \n",
            " dense_2 (Dense)                (None, 3)            1803        ['dropout[0][0]']                \n",
            "                                                                                                  \n",
            "==================================================================================================\n",
            "Total params: 4,596,635\n",
            "Trainable params: 4,596,635\n",
            "Non-trainable params: 0\n",
            "__________________________________________________________________________________________________\n"
          ]
        }
      ]
    },
    {
      "cell_type": "code",
      "metadata": {
        "colab": {
          "base_uri": "https://localhost:8080/"
        },
        "outputId": "ccd02fac-1f41-4d60-e846-5b8d3200b30b",
        "id": "2OEErZqOL1PO"
      },
      "source": [
        "model_arav.fit(X_train_pad, \n",
        "             y_train, \n",
        "             batch_size=128,\n",
        "             epochs=20,\n",
        "             verbose=1,\n",
        "             class_weight=class_weights,\n",
        "             validation_split=0.2,\n",
        "             callbacks=[callbacks])"
      ],
      "execution_count": null,
      "outputs": [
        {
          "output_type": "stream",
          "name": "stdout",
          "text": [
            "Epoch 1/20\n",
            "37/37 [==============================] - 13s 253ms/step - loss: 1.0372 - f1: 0.1105 - val_loss: 0.9514 - val_f1: 0.3838\n",
            "Epoch 2/20\n",
            "37/37 [==============================] - 8s 227ms/step - loss: 0.9028 - f1: 0.4701 - val_loss: 0.8688 - val_f1: 0.5377\n",
            "Epoch 3/20\n",
            "37/37 [==============================] - 8s 228ms/step - loss: 0.7889 - f1: 0.6125 - val_loss: 0.8217 - val_f1: 0.5890\n",
            "Epoch 4/20\n",
            "37/37 [==============================] - 8s 227ms/step - loss: 0.6615 - f1: 0.7046 - val_loss: 0.7653 - val_f1: 0.6802\n",
            "Epoch 5/20\n",
            "37/37 [==============================] - 8s 226ms/step - loss: 0.5156 - f1: 0.8188 - val_loss: 0.8218 - val_f1: 0.6821\n",
            "Epoch 6/20\n",
            "37/37 [==============================] - 8s 227ms/step - loss: 0.3832 - f1: 0.8662 - val_loss: 0.8503 - val_f1: 0.6631\n",
            "Epoch 7/20\n",
            "37/37 [==============================] - 8s 227ms/step - loss: 0.2624 - f1: 0.9182 - val_loss: 0.9207 - val_f1: 0.6896\n",
            "Epoch 8/20\n",
            "37/37 [==============================] - 8s 226ms/step - loss: 0.1909 - f1: 0.9375 - val_loss: 0.9937 - val_f1: 0.7146\n",
            "Epoch 9/20\n",
            "37/37 [==============================] - 8s 226ms/step - loss: 0.1521 - f1: 0.9502 - val_loss: 1.0086 - val_f1: 0.7348\n",
            "Epoch 10/20\n",
            "37/37 [==============================] - 8s 225ms/step - loss: 0.1095 - f1: 0.9636 - val_loss: 1.1042 - val_f1: 0.7178\n",
            "Epoch 11/20\n",
            "37/37 [==============================] - 8s 226ms/step - loss: 0.0792 - f1: 0.9721 - val_loss: 1.2169 - val_f1: 0.7202\n",
            "Epoch 12/20\n",
            "37/37 [==============================] - 8s 226ms/step - loss: 0.0649 - f1: 0.9803 - val_loss: 1.2929 - val_f1: 0.7030\n",
            "Epoch 13/20\n",
            "37/37 [==============================] - 8s 227ms/step - loss: 0.0536 - f1: 0.9826 - val_loss: 1.3425 - val_f1: 0.7224\n",
            "Epoch 14/20\n",
            "37/37 [==============================] - 8s 226ms/step - loss: 0.0493 - f1: 0.9836 - val_loss: 1.3481 - val_f1: 0.7210\n",
            "Epoch 15/20\n",
            "37/37 [==============================] - 8s 227ms/step - loss: 0.0448 - f1: 0.9859 - val_loss: 1.4280 - val_f1: 0.7120\n",
            "Epoch 16/20\n",
            "37/37 [==============================] - 8s 226ms/step - loss: 0.0532 - f1: 0.9820 - val_loss: 1.3479 - val_f1: 0.7274\n",
            "Epoch 17/20\n",
            "37/37 [==============================] - ETA: 0s - loss: 0.0401 - f1: 0.9862Restoring model weights from the end of the best epoch: 9.\n",
            "37/37 [==============================] - 8s 226ms/step - loss: 0.0401 - f1: 0.9862 - val_loss: 1.3819 - val_f1: 0.7237\n",
            "Epoch 00017: early stopping\n"
          ]
        },
        {
          "output_type": "execute_result",
          "data": {
            "text/plain": [
              "<keras.callbacks.History at 0x7fd6450ef390>"
            ]
          },
          "metadata": {},
          "execution_count": 58
        }
      ]
    },
    {
      "cell_type": "code",
      "metadata": {
        "colab": {
          "base_uri": "https://localhost:8080/"
        },
        "outputId": "6b531f46-6f21-4629-f73b-37767fc5cb0d",
        "id": "wbfQt6KkL1PO"
      },
      "source": [
        "print(model_arav.evaluate(X_test_pad, y_test))"
      ],
      "execution_count": null,
      "outputs": [
        {
          "output_type": "stream",
          "name": "stdout",
          "text": [
            "21/21 [==============================] - 2s 72ms/step - loss: 1.0617 - f1: 0.7168\n",
            "[1.0617345571517944, 0.7167612910270691]\n"
          ]
        }
      ]
    },
    {
      "cell_type": "code",
      "metadata": {
        "colab": {
          "base_uri": "https://localhost:8080/"
        },
        "outputId": "c6043dc8-cece-4f54-bd2d-fdca12a373ad",
        "id": "010SEUGvL1PO"
      },
      "source": [
        "y_pred_arav = model_arav.predict(X_test_pad, batch_size=128, verbose=1)\n",
        "y_pred_bool_ft = np.argmax(y_pred, axis=1)\n",
        "y_pred_arav = (y_pred_arav > 0.5)\n",
        "\n",
        "print(classification_report(y_test, y_pred_arav, target_names=(['Hate','Normal','Abusive'])))\n"
      ],
      "execution_count": null,
      "outputs": [
        {
          "output_type": "stream",
          "name": "stdout",
          "text": [
            "6/6 [==============================] - 1s 75ms/step\n",
            "              precision    recall  f1-score   support\n",
            "\n",
            "        Hate       0.56      0.48      0.52       155\n",
            "      Normal       0.77      0.85      0.81       371\n",
            "     Abusive       0.69      0.49      0.57       120\n",
            "\n",
            "   micro avg       0.72      0.70      0.71       646\n",
            "   macro avg       0.67      0.61      0.63       646\n",
            "weighted avg       0.71      0.70      0.70       646\n",
            " samples avg       0.70      0.70      0.70       646\n",
            "\n"
          ]
        },
        {
          "output_type": "stream",
          "name": "stderr",
          "text": [
            "/usr/local/lib/python3.7/dist-packages/sklearn/metrics/_classification.py:1308: UndefinedMetricWarning: Precision and F-score are ill-defined and being set to 0.0 in samples with no predicted labels. Use `zero_division` parameter to control this behavior.\n",
            "  _warn_prf(average, modifier, msg_start, len(result))\n"
          ]
        }
      ]
    },
    {
      "cell_type": "code",
      "metadata": {
        "id": "2684IryML1PO"
      },
      "source": [
        "from sklearn import metrics\n",
        "metric_arav = metrics.accuracy_score(y_test, y_pred_arav), metrics.f1_score(y_test, y_pred_arav, average='weighted'), metrics.recall_score(y_test, y_pred_arav, average='weighted'), metrics.precision_score(y_test, y_pred_arav, average='weighted')"
      ],
      "execution_count": null,
      "outputs": []
    },
    {
      "cell_type": "code",
      "metadata": {
        "colab": {
          "base_uri": "https://localhost:8080/",
          "height": 226
        },
        "outputId": "1aaf34eb-255a-4b26-897c-cbaa889f0094",
        "id": "a969R2UNL1PO"
      },
      "source": [
        "fig = plt.figure()\n",
        "fig.set_size_inches(8,2)\n",
        "ax = fig.add_axes([0,0,1,1])\n",
        "rect1 = ax.bar(0.00,round(metric_arav[0], 2), color = 'b', width = 0.05)\n",
        "rect2 = ax.bar(0.20, round(metric_arav[1], 2), color = 'g', width = 0.05)\n",
        "rect3 = ax.bar(0.40, round(metric_arav[2], 2) , color = 'r', width = 0.05)\n",
        "rect4 = ax.bar(0.60, round(metric_arav[3], 2) , color = (1, 0, 1), width = 0.05)\n",
        "\n",
        "ax.set_ylabel('Scores')\n",
        "ax.set_title('metrics')\n",
        "\n",
        "\n",
        "autolabel(rect1)\n",
        "autolabel(rect2)\n",
        "autolabel(rect3)\n",
        "autolabel(rect4)\n",
        "ax.legend(labels=['accuracy', 'f1_score', 'recall', 'precision'],loc='best')\n",
        "plt.ylim(0, 1)"
      ],
      "execution_count": null,
      "outputs": [
        {
          "output_type": "execute_result",
          "data": {
            "text/plain": [
              "(0.0, 1.0)"
            ]
          },
          "metadata": {},
          "execution_count": 62
        },
        {
          "output_type": "display_data",
          "data": {
            "image/png": "[encoded data removed]",
            "text/plain": [
              "<Figure size 576x144 with 1 Axes>"
            ]
          },
          "metadata": {
            "needs_background": "light"
          }
        }
      ]
    },
    {
      "cell_type": "markdown",
      "metadata": {
        "id": "l6ud_gVNWd4a"
      },
      "source": [
        "### Comparing the three results"
      ]
    },
    {
      "cell_type": "code",
      "metadata": {
        "id": "UAPfKBxEYLV5"
      },
      "source": [
        "Data = [('Fasttext',) + metric_ft  ,\n",
        "        ('AraVec',)+ metric_arav ,\n",
        "         ('Fasttext + AraVec',)+ metric ]"
      ],
      "execution_count": null,
      "outputs": []
    },
    {
      "cell_type": "code",
      "metadata": {
        "id": "d6UM1nPKWkH6"
      },
      "source": [
        "Results = pd.DataFrame(data =  Data , columns=['Embedding','Accuracy','F1_score','Recall','Precision'])"
      ],
      "execution_count": null,
      "outputs": []
    },
    {
      "cell_type": "code",
      "metadata": {
        "id": "lDLH9XzeXAUp",
        "colab": {
          "base_uri": "https://localhost:8080/",
          "height": 143
        },
        "outputId": "e089a289-283c-4cab-badc-f73e6b0905e1"
      },
      "source": [
        "Results"
      ],
      "execution_count": null,
      "outputs": [
        {
          "output_type": "execute_result",
          "data": {
            "text/html": [
              "\n",
              "  <div id=\"df-b602cde4-6c3c-47c0-ac1b-69dd242a62ef\">\n",
              "    <div class=\"colab-df-container\">\n",
              "      <div>\n",
              "<style scoped>\n",
              "    .dataframe tbody tr th:only-of-type {\n",
              "        vertical-align: middle;\n",
              "    }\n",
              "\n",
              "    .dataframe tbody tr th {\n",
              "        vertical-align: top;\n",
              "    }\n",
              "\n",
              "    .dataframe thead th {\n",
              "        text-align: right;\n",
              "    }\n",
              "</style>\n",
              "<table border=\"1\" class=\"dataframe\">\n",
              "  <thead>\n",
              "    <tr style=\"text-align: right;\">\n",
              "      <th></th>\n",
              "      <th>Embedding</th>\n",
              "      <th>Accuracy</th>\n",
              "      <th>F1_score</th>\n",
              "      <th>Recall</th>\n",
              "      <th>Precision</th>\n",
              "    </tr>\n",
              "  </thead>\n",
              "  <tbody>\n",
              "    <tr>\n",
              "      <th>0</th>\n",
              "      <td>Fasttext</td>\n",
              "      <td>0.710526</td>\n",
              "      <td>0.710504</td>\n",
              "      <td>0.710526</td>\n",
              "      <td>0.717337</td>\n",
              "    </tr>\n",
              "    <tr>\n",
              "      <th>1</th>\n",
              "      <td>AraVec</td>\n",
              "      <td>0.695046</td>\n",
              "      <td>0.695306</td>\n",
              "      <td>0.695046</td>\n",
              "      <td>0.705610</td>\n",
              "    </tr>\n",
              "    <tr>\n",
              "      <th>2</th>\n",
              "      <td>Fasttext + AraVec</td>\n",
              "      <td>0.705882</td>\n",
              "      <td>0.697607</td>\n",
              "      <td>0.705882</td>\n",
              "      <td>0.695753</td>\n",
              "    </tr>\n",
              "  </tbody>\n",
              "</table>\n",
              "</div>\n",
              "      <button class=\"colab-df-convert\" onclick=\"convertToInteractive('df-b602cde4-6c3c-47c0-ac1b-69dd242a62ef')\"\n",
              "              title=\"Convert this dataframe to an interactive table.\"\n",
              "              style=\"display:none;\">\n",
              "        \n",
              "  <svg xmlns=\"http://www.w3.org/2000/svg\" height=\"24px\"viewBox=\"0 0 24 24\"\n",
              "       width=\"24px\">\n",
              "    <path d=\"M0 0h24v24H0V0z\" fill=\"none\"/>\n",
              "    <path d=\"M18.56 5.44l.94 2.06.94-2.06 2.06-.94-2.06-.94-.94-2.06-.94 2.06-2.06.94zm-11 1L8.5 8.5l.94-2.06 2.06-.94-2.06-.94L8.5 2.5l-.94 2.06-2.06.94zm10 10l.94 2.06.94-2.06 2.06-.94-2.06-.94-.94-2.06-.94 2.06-2.06.94z\"/><path d=\"M17.41 7.96l-1.37-1.37c-.4-.4-.92-.59-1.43-.59-.52 0-1.04.2-1.43.59L10.3 9.45l-7.72 7.72c-.78.78-.78 2.05 0 2.83L4 21.41c.39.39.9.59 1.41.59.51 0 1.02-.2 1.41-.59l7.78-7.78 2.81-2.81c.8-.78.8-2.07 0-2.86zM5.41 20L4 18.59l7.72-7.72 1.47 1.35L5.41 20z\"/>\n",
              "  </svg>\n",
              "      </button>\n",
              "      \n",
              "  <style>\n",
              "    .colab-df-container {\n",
              "      display:flex;\n",
              "      flex-wrap:wrap;\n",
              "      gap: 12px;\n",
              "    }\n",
              "\n",
              "    .colab-df-convert {\n",
              "      background-color: #E8F0FE;\n",
              "      border: none;\n",
              "      border-radius: 50%;\n",
              "      cursor: pointer;\n",
              "      display: none;\n",
              "      fill: #1967D2;\n",
              "      height: 32px;\n",
              "      padding: 0 0 0 0;\n",
              "      width: 32px;\n",
              "    }\n",
              "\n",
              "    .colab-df-convert:hover {\n",
              "      background-color: #E2EBFA;\n",
              "      box-shadow: 0px 1px 2px rgba(60, 64, 67, 0.3), 0px 1px 3px 1px rgba(60, 64, 67, 0.15);\n",
              "      fill: #174EA6;\n",
              "    }\n",
              "\n",
              "    [theme=dark] .colab-df-convert {\n",
              "      background-color: #3B4455;\n",
              "      fill: #D2E3FC;\n",
              "    }\n",
              "\n",
              "    [theme=dark] .colab-df-convert:hover {\n",
              "      background-color: #434B5C;\n",
              "      box-shadow: 0px 1px 3px 1px rgba(0, 0, 0, 0.15);\n",
              "      filter: drop-shadow(0px 1px 2px rgba(0, 0, 0, 0.3));\n",
              "      fill: #FFFFFF;\n",
              "    }\n",
              "  </style>\n",
              "\n",
              "      <script>\n",
              "        const buttonEl =\n",
              "          document.querySelector('#df-b602cde4-6c3c-47c0-ac1b-69dd242a62ef button.colab-df-convert');\n",
              "        buttonEl.style.display =\n",
              "          google.colab.kernel.accessAllowed ? 'block' : 'none';\n",
              "\n",
              "        async function convertToInteractive(key) {\n",
              "          const element = document.querySelector('#df-b602cde4-6c3c-47c0-ac1b-69dd242a62ef');\n",
              "          const dataTable =\n",
              "            await google.colab.kernel.invokeFunction('convertToInteractive',\n",
              "                                                     [key], {});\n",
              "          if (!dataTable) return;\n",
              "\n",
              "          const docLinkHtml = 'Like what you see? Visit the ' +\n",
              "            '<a target=\"_blank\" href=https://colab.research.google.com/notebooks/data_table.ipynb>data table notebook</a>'\n",
              "            + ' to learn more about interactive tables.';\n",
              "          element.innerHTML = '';\n",
              "          dataTable['output_type'] = 'display_data';\n",
              "          await google.colab.output.renderOutput(dataTable, element);\n",
              "          const docLink = document.createElement('div');\n",
              "          docLink.innerHTML = docLinkHtml;\n",
              "          element.appendChild(docLink);\n",
              "        }\n",
              "      </script>\n",
              "    </div>\n",
              "  </div>\n",
              "  "
            ],
            "text/plain": [
              "           Embedding  Accuracy  F1_score    Recall  Precision\n",
              "0           Fasttext  0.710526  0.710504  0.710526   0.717337\n",
              "1             AraVec  0.695046  0.695306  0.695046   0.705610\n",
              "2  Fasttext + AraVec  0.705882  0.697607  0.705882   0.695753"
            ]
          },
          "metadata": {},
          "execution_count": 65
        }
      ]
    }
  ]
}