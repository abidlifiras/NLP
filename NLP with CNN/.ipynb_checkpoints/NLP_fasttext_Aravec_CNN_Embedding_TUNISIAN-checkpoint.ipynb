{
 "cells": [
  {
   "cell_type": "markdown",
   "metadata": {
    "id": "Phxed_BSSB7-"
   },
   "source": [
    "# TUNisian Dataset"
   ]
  },
  {
   "cell_type": "code",
   "execution_count": null,
   "metadata": {
    "colab": {
     "base_uri": "https://localhost:8080/"
    },
    "id": "6pkvGyUqqCMG",
    "outputId": "9f3d1b60-b1f6-4c7a-8526-e2648d6e3b2a"
   },
   "outputs": [
    {
     "name": "stdout",
     "output_type": "stream",
     "text": [
      "Mounted at /content/drive\n"
     ]
    }
   ],
   "source": [
    "from google.colab import drive\n",
    "drive._mount('/content/drive')"
   ]
  },
  {
   "cell_type": "code",
   "execution_count": null,
   "metadata": {
    "colab": {
     "base_uri": "https://localhost:8080/"
    },
    "id": "fnOwTGAXpLvI",
    "outputId": "4cee1a34-c2da-4601-97e5-d8c4adb13b9d"
   },
   "outputs": [
    {
     "name": "stdout",
     "output_type": "stream",
     "text": [
      "[nltk_data] Downloading package stopwords to /root/nltk_data...\n",
      "[nltk_data]   Unzipping corpora/stopwords.zip.\n",
      "[nltk_data] Downloading package wordnet to /root/nltk_data...\n",
      "[nltk_data]   Unzipping corpora/wordnet.zip.\n"
     ]
    },
    {
     "data": {
      "text/plain": [
       "True"
      ]
     },
     "execution_count": 2,
     "metadata": {},
     "output_type": "execute_result"
    }
   ],
   "source": [
    "from tensorflow import keras\n",
    "import numpy as np\n",
    "import re\n",
    "import nltk\n",
    "from nltk.corpus import stopwords\n",
    "import string\n",
    "import pandas as pd\n",
    "from nltk.stem import WordNetLemmatizer\n",
    "from nltk.corpus import stopwords\n",
    "nltk.download('stopwords')\n",
    "nltk.download('wordnet')"
   ]
  },
  {
   "cell_type": "code",
   "execution_count": null,
   "metadata": {
    "id": "qpYZxDnjpo32"
   },
   "outputs": [],
   "source": [
    "train=pd.read_excel('/content/drive/MyDrive/FastText_Aravec_Arabic_embeddings/dataset1and2.xlsx')\n",
    "# test=pd.read_excel('/content/drive/MyDrive/kaggle-nabil-badri/Text Classification Notebooks/BI-GRU/MyArticle-dataset-arabe/dataset1and2.xlsx')\n",
    "label=pd.read_excel('/content/drive/MyDrive/FastText_Aravec_Arabic_embeddings/dataset1and2.xlsx',header=None).iloc[:,-1]\n",
    "#OFF=0 \n",
    "#NOT=1"
   ]
  },
  {
   "cell_type": "code",
   "execution_count": null,
   "metadata": {
    "colab": {
     "base_uri": "https://localhost:8080/",
     "height": 423
    },
    "id": "NLkeXb_2qC2T",
    "outputId": "a24fa122-3198-4b16-d276-811474bb5cba"
   },
   "outputs": [
    {
     "data": {
      "text/html": [
       "\n",
       "  <div id=\"df-ba7873d4-4c88-4a49-8ab1-ca58275dfec8\">\n",
       "    <div class=\"colab-df-container\">\n",
       "      <div>\n",
       "<style scoped>\n",
       "    .dataframe tbody tr th:only-of-type {\n",
       "        vertical-align: middle;\n",
       "    }\n",
       "\n",
       "    .dataframe tbody tr th {\n",
       "        vertical-align: top;\n",
       "    }\n",
       "\n",
       "    .dataframe thead th {\n",
       "        text-align: right;\n",
       "    }\n",
       "</style>\n",
       "<table border=\"1\" class=\"dataframe\">\n",
       "  <thead>\n",
       "    <tr style=\"text-align: right;\">\n",
       "      <th></th>\n",
       "      <th>Unnamed: 0</th>\n",
       "      <th>commentaire</th>\n",
       "      <th>classe</th>\n",
       "      <th>word_count</th>\n",
       "    </tr>\n",
       "  </thead>\n",
       "  <tbody>\n",
       "    <tr>\n",
       "      <th>0</th>\n",
       "      <td>0</td>\n",
       "      <td>اسغي ياشعب تونس تدعوا بالاسلام كفار الحمدلله ن...</td>\n",
       "      <td>hate</td>\n",
       "      <td>11</td>\n",
       "    </tr>\n",
       "    <tr>\n",
       "      <th>1</th>\n",
       "      <td>1</td>\n",
       "      <td>قطع يد السارق توفرت الشروط شرط الحد الأدنى قيم...</td>\n",
       "      <td>normal</td>\n",
       "      <td>14</td>\n",
       "    </tr>\n",
       "    <tr>\n",
       "      <th>2</th>\n",
       "      <td>2</td>\n",
       "      <td>تلوموش لطفي لعبدلي شرف</td>\n",
       "      <td>normal</td>\n",
       "      <td>4</td>\n",
       "    </tr>\n",
       "    <tr>\n",
       "      <th>3</th>\n",
       "      <td>3</td>\n",
       "      <td>مستغرب شعب يسمع تفاهة شانو لى الدرجة الشعب تاف...</td>\n",
       "      <td>normal</td>\n",
       "      <td>20</td>\n",
       "    </tr>\n",
       "    <tr>\n",
       "      <th>4</th>\n",
       "      <td>4</td>\n",
       "      <td>هههخ غزلتني مافهمتش شمدخلها الموضوع تتنطر وحده...</td>\n",
       "      <td>normal</td>\n",
       "      <td>9</td>\n",
       "    </tr>\n",
       "    <tr>\n",
       "      <th>...</th>\n",
       "      <td>...</td>\n",
       "      <td>...</td>\n",
       "      <td>...</td>\n",
       "      <td>...</td>\n",
       "    </tr>\n",
       "    <tr>\n",
       "      <th>6455</th>\n",
       "      <td>431</td>\n",
       "      <td>وجهو وجه الطحين ورخس</td>\n",
       "      <td>abusive</td>\n",
       "      <td>4</td>\n",
       "    </tr>\n",
       "    <tr>\n",
       "      <th>6456</th>\n",
       "      <td>432</td>\n",
       "      <td>الله لا يبارك فيكم و في الي تزرعوا فيه اليوم ل...</td>\n",
       "      <td>hate</td>\n",
       "      <td>20</td>\n",
       "    </tr>\n",
       "    <tr>\n",
       "      <th>6457</th>\n",
       "      <td>433</td>\n",
       "      <td>ملا حثالة مستدعيه ، قواد ولحاس ، طيح مستوى الب...</td>\n",
       "      <td>hate</td>\n",
       "      <td>15</td>\n",
       "    </tr>\n",
       "    <tr>\n",
       "      <th>6458</th>\n",
       "      <td>434</td>\n",
       "      <td>شبعة خمج.اينما يقيم الجهل</td>\n",
       "      <td>hate</td>\n",
       "      <td>4</td>\n",
       "    </tr>\n",
       "    <tr>\n",
       "      <th>6459</th>\n",
       "      <td>435</td>\n",
       "      <td>عدم إحترام المشاهد من جميع الأطراف هي قلة حياء</td>\n",
       "      <td>hate</td>\n",
       "      <td>9</td>\n",
       "    </tr>\n",
       "  </tbody>\n",
       "</table>\n",
       "<p>6460 rows × 4 columns</p>\n",
       "</div>\n",
       "      <button class=\"colab-df-convert\" onclick=\"convertToInteractive('df-ba7873d4-4c88-4a49-8ab1-ca58275dfec8')\"\n",
       "              title=\"Convert this dataframe to an interactive table.\"\n",
       "              style=\"display:none;\">\n",
       "        \n",
       "  <svg xmlns=\"http://www.w3.org/2000/svg\" height=\"24px\"viewBox=\"0 0 24 24\"\n",
       "       width=\"24px\">\n",
       "    <path d=\"M0 0h24v24H0V0z\" fill=\"none\"/>\n",
       "    <path d=\"M18.56 5.44l.94 2.06.94-2.06 2.06-.94-2.06-.94-.94-2.06-.94 2.06-2.06.94zm-11 1L8.5 8.5l.94-2.06 2.06-.94-2.06-.94L8.5 2.5l-.94 2.06-2.06.94zm10 10l.94 2.06.94-2.06 2.06-.94-2.06-.94-.94-2.06-.94 2.06-2.06.94z\"/><path d=\"M17.41 7.96l-1.37-1.37c-.4-.4-.92-.59-1.43-.59-.52 0-1.04.2-1.43.59L10.3 9.45l-7.72 7.72c-.78.78-.78 2.05 0 2.83L4 21.41c.39.39.9.59 1.41.59.51 0 1.02-.2 1.41-.59l7.78-7.78 2.81-2.81c.8-.78.8-2.07 0-2.86zM5.41 20L4 18.59l7.72-7.72 1.47 1.35L5.41 20z\"/>\n",
       "  </svg>\n",
       "      </button>\n",
       "      \n",
       "  <style>\n",
       "    .colab-df-container {\n",
       "      display:flex;\n",
       "      flex-wrap:wrap;\n",
       "      gap: 12px;\n",
       "    }\n",
       "\n",
       "    .colab-df-convert {\n",
       "      background-color: #E8F0FE;\n",
       "      border: none;\n",
       "      border-radius: 50%;\n",
       "      cursor: pointer;\n",
       "      display: none;\n",
       "      fill: #1967D2;\n",
       "      height: 32px;\n",
       "      padding: 0 0 0 0;\n",
       "      width: 32px;\n",
       "    }\n",
       "\n",
       "    .colab-df-convert:hover {\n",
       "      background-color: #E2EBFA;\n",
       "      box-shadow: 0px 1px 2px rgba(60, 64, 67, 0.3), 0px 1px 3px 1px rgba(60, 64, 67, 0.15);\n",
       "      fill: #174EA6;\n",
       "    }\n",
       "\n",
       "    [theme=dark] .colab-df-convert {\n",
       "      background-color: #3B4455;\n",
       "      fill: #D2E3FC;\n",
       "    }\n",
       "\n",
       "    [theme=dark] .colab-df-convert:hover {\n",
       "      background-color: #434B5C;\n",
       "      box-shadow: 0px 1px 3px 1px rgba(0, 0, 0, 0.15);\n",
       "      filter: drop-shadow(0px 1px 2px rgba(0, 0, 0, 0.3));\n",
       "      fill: #FFFFFF;\n",
       "    }\n",
       "  </style>\n",
       "\n",
       "      <script>\n",
       "        const buttonEl =\n",
       "          document.querySelector('#df-ba7873d4-4c88-4a49-8ab1-ca58275dfec8 button.colab-df-convert');\n",
       "        buttonEl.style.display =\n",
       "          google.colab.kernel.accessAllowed ? 'block' : 'none';\n",
       "\n",
       "        async function convertToInteractive(key) {\n",
       "          const element = document.querySelector('#df-ba7873d4-4c88-4a49-8ab1-ca58275dfec8');\n",
       "          const dataTable =\n",
       "            await google.colab.kernel.invokeFunction('convertToInteractive',\n",
       "                                                     [key], {});\n",
       "          if (!dataTable) return;\n",
       "\n",
       "          const docLinkHtml = 'Like what you see? Visit the ' +\n",
       "            '<a target=\"_blank\" href=https://colab.research.google.com/notebooks/data_table.ipynb>data table notebook</a>'\n",
       "            + ' to learn more about interactive tables.';\n",
       "          element.innerHTML = '';\n",
       "          dataTable['output_type'] = 'display_data';\n",
       "          await google.colab.output.renderOutput(dataTable, element);\n",
       "          const docLink = document.createElement('div');\n",
       "          docLink.innerHTML = docLinkHtml;\n",
       "          element.appendChild(docLink);\n",
       "        }\n",
       "      </script>\n",
       "    </div>\n",
       "  </div>\n",
       "  "
      ],
      "text/plain": [
       "      Unnamed: 0  ... word_count\n",
       "0              0  ...         11\n",
       "1              1  ...         14\n",
       "2              2  ...          4\n",
       "3              3  ...         20\n",
       "4              4  ...          9\n",
       "...          ...  ...        ...\n",
       "6455         431  ...          4\n",
       "6456         432  ...         20\n",
       "6457         433  ...         15\n",
       "6458         434  ...          4\n",
       "6459         435  ...          9\n",
       "\n",
       "[6460 rows x 4 columns]"
      ]
     },
     "execution_count": 4,
     "metadata": {},
     "output_type": "execute_result"
    }
   ],
   "source": [
    "train['word_count'] = train['commentaire'].apply(lambda x : len(x.split()))\n",
    "train"
   ]
  },
  {
   "cell_type": "code",
   "execution_count": null,
   "metadata": {
    "id": "y34AftTfjFPS"
   },
   "outputs": [],
   "source": [
    "# #Encoding\n",
    "# df.label.replace({'normal':0,'abusive':1,'spam':2,'hateful':3},inplace=True)\n",
    "# df.head()"
   ]
  },
  {
   "cell_type": "code",
   "execution_count": null,
   "metadata": {
    "colab": {
     "base_uri": "https://localhost:8080/",
     "height": 1000
    },
    "id": "g8D5pStLqgzi",
    "outputId": "fdad586e-21b9-4a62-8246-b2b4fc57a0a4"
   },
   "outputs": [
    {
     "data": {
      "text/html": [
       "\n",
       "  <div id=\"df-10f7522a-6ee7-4fee-876e-663842637fff\">\n",
       "    <div class=\"colab-df-container\">\n",
       "      <div>\n",
       "<style scoped>\n",
       "    .dataframe tbody tr th:only-of-type {\n",
       "        vertical-align: middle;\n",
       "    }\n",
       "\n",
       "    .dataframe tbody tr th {\n",
       "        vertical-align: top;\n",
       "    }\n",
       "\n",
       "    .dataframe thead th {\n",
       "        text-align: right;\n",
       "    }\n",
       "</style>\n",
       "<table border=\"1\" class=\"dataframe\">\n",
       "  <thead>\n",
       "    <tr style=\"text-align: right;\">\n",
       "      <th></th>\n",
       "      <th>Unnamed: 0</th>\n",
       "      <th>commentaire</th>\n",
       "      <th>classe</th>\n",
       "      <th>word_count</th>\n",
       "    </tr>\n",
       "  </thead>\n",
       "  <tbody>\n",
       "    <tr>\n",
       "      <th>865</th>\n",
       "      <td>865</td>\n",
       "      <td>شهر قالت تونس مافيها رجال طلعت وباقي دافعوا رد...</td>\n",
       "      <td>normal</td>\n",
       "      <td>30</td>\n",
       "    </tr>\n",
       "    <tr>\n",
       "      <th>1182</th>\n",
       "      <td>1182</td>\n",
       "      <td>قابسي باين لهجتو قريت قابس وفما ناس شبعانة للت...</td>\n",
       "      <td>normal</td>\n",
       "      <td>30</td>\n",
       "    </tr>\n",
       "    <tr>\n",
       "      <th>1370</th>\n",
       "      <td>1370</td>\n",
       "      <td>طفح الكيل يريدون فرض العلمنة الغربية بلاد المس...</td>\n",
       "      <td>hate</td>\n",
       "      <td>30</td>\n",
       "    </tr>\n",
       "    <tr>\n",
       "      <th>1654</th>\n",
       "      <td>1654</td>\n",
       "      <td>رعاية الاطفال ختصاص الطرفين النص بالنص مصاريف ...</td>\n",
       "      <td>normal</td>\n",
       "      <td>30</td>\n",
       "    </tr>\n",
       "    <tr>\n",
       "      <th>1898</th>\n",
       "      <td>1898</td>\n",
       "      <td>جماعة شمس متربي شكلكم موبنة كيفو تنجم ميبون وم...</td>\n",
       "      <td>abusive</td>\n",
       "      <td>30</td>\n",
       "    </tr>\n",
       "    <tr>\n",
       "      <th>1921</th>\n",
       "      <td>1921</td>\n",
       "      <td>يعملو الديانة نتاعو بطاقة التعريف الهوية حالة ...</td>\n",
       "      <td>normal</td>\n",
       "      <td>30</td>\n",
       "    </tr>\n",
       "    <tr>\n",
       "      <th>1952</th>\n",
       "      <td>1952</td>\n",
       "      <td>دحمي القرعاني توانسة امازيغ اصحاب الارض السود ...</td>\n",
       "      <td>hate</td>\n",
       "      <td>30</td>\n",
       "    </tr>\n",
       "    <tr>\n",
       "      <th>2028</th>\n",
       "      <td>2028</td>\n",
       "      <td>أخرس مسلم عالم مرتزقة حثالة الأمم نياك صرم أمك...</td>\n",
       "      <td>hate</td>\n",
       "      <td>30</td>\n",
       "    </tr>\n",
       "    <tr>\n",
       "      <th>2413</th>\n",
       "      <td>2413</td>\n",
       "      <td>نفهم نبدل التلفزة الوليدات الصغار عائلة يفهمو ...</td>\n",
       "      <td>normal</td>\n",
       "      <td>30</td>\n",
       "    </tr>\n",
       "    <tr>\n",
       "      <th>2683</th>\n",
       "      <td>2683</td>\n",
       "      <td>مايا نابغة عصرها وانا افكارها وتوجهاتها تحية ل...</td>\n",
       "      <td>normal</td>\n",
       "      <td>30</td>\n",
       "    </tr>\n",
       "    <tr>\n",
       "      <th>2789</th>\n",
       "      <td>2789</td>\n",
       "      <td>تصور الاخت تزوجت والاخ يعمل والدو مدة طويلة تو...</td>\n",
       "      <td>normal</td>\n",
       "      <td>30</td>\n",
       "    </tr>\n",
       "    <tr>\n",
       "      <th>2795</th>\n",
       "      <td>2795</td>\n",
       "      <td>الحلال والحرام القرآن الكريم ظبطنا أمور حياتنا...</td>\n",
       "      <td>normal</td>\n",
       "      <td>30</td>\n",
       "    </tr>\n",
       "    <tr>\n",
       "      <th>2867</th>\n",
       "      <td>2867</td>\n",
       "      <td>جزاءري شاء تونس بخير اغلب شعبها مسلمين ويحبون ...</td>\n",
       "      <td>normal</td>\n",
       "      <td>30</td>\n",
       "    </tr>\n",
       "    <tr>\n",
       "      <th>2882</th>\n",
       "      <td>2882</td>\n",
       "      <td>وتحية خويا هدو لبيين متقدر تفهمهم يخمو مجرميين...</td>\n",
       "      <td>hate</td>\n",
       "      <td>30</td>\n",
       "    </tr>\n",
       "    <tr>\n",
       "      <th>2913</th>\n",
       "      <td>2913</td>\n",
       "      <td>الجهل شعب تونس بدينكم مسلمين بالاسم معاد عذر و...</td>\n",
       "      <td>normal</td>\n",
       "      <td>30</td>\n",
       "    </tr>\n",
       "    <tr>\n",
       "      <th>3378</th>\n",
       "      <td>3378</td>\n",
       "      <td>فكرة تحكي الاجرام الحكام والرؤساء تقوم بالاجرا...</td>\n",
       "      <td>normal</td>\n",
       "      <td>30</td>\n",
       "    </tr>\n",
       "    <tr>\n",
       "      <th>3696</th>\n",
       "      <td>3696</td>\n",
       "      <td>اعوذ بالله الشيطان الرجيم ربي يسترنا ويعافينا ...</td>\n",
       "      <td>hate</td>\n",
       "      <td>30</td>\n",
       "    </tr>\n",
       "    <tr>\n",
       "      <th>3753</th>\n",
       "      <td>3753</td>\n",
       "      <td>كرهت توانسة ميا مريم دباغ البغلة وجياحة تجيبو ...</td>\n",
       "      <td>hate</td>\n",
       "      <td>30</td>\n",
       "    </tr>\n",
       "    <tr>\n",
       "      <th>3758</th>\n",
       "      <td>3758</td>\n",
       "      <td>لايوجد شئ اسمو تيار سلفي لايفقه شئ السلفي اتبع...</td>\n",
       "      <td>normal</td>\n",
       "      <td>30</td>\n",
       "    </tr>\n",
       "    <tr>\n",
       "      <th>3967</th>\n",
       "      <td>3967</td>\n",
       "      <td>مايا لقصوري لاتعيش داخل الحمأ الحشرات تتغذى ال...</td>\n",
       "      <td>hate</td>\n",
       "      <td>30</td>\n",
       "    </tr>\n",
       "    <tr>\n",
       "      <th>3997</th>\n",
       "      <td>3997</td>\n",
       "      <td>يكفي يفهم الشرع يعطي رأيه ارجوكم المسلم فالعقل...</td>\n",
       "      <td>normal</td>\n",
       "      <td>30</td>\n",
       "    </tr>\n",
       "    <tr>\n",
       "      <th>4801</th>\n",
       "      <td>4801</td>\n",
       "      <td>يبدو أنك مريض نفسي تستطيع تكتب جملة مفيدة ومفه...</td>\n",
       "      <td>normal</td>\n",
       "      <td>30</td>\n",
       "    </tr>\n",
       "    <tr>\n",
       "      <th>4909</th>\n",
       "      <td>4909</td>\n",
       "      <td>خرااااا المسخ خيييت شحقرتوا الفازه داخل عود فر...</td>\n",
       "      <td>abusive</td>\n",
       "      <td>30</td>\n",
       "    </tr>\n",
       "    <tr>\n",
       "      <th>5003</th>\n",
       "      <td>5003</td>\n",
       "      <td>فهموني مريم الدباغ مريم مولاهم أمين ووووو دوره...</td>\n",
       "      <td>abusive</td>\n",
       "      <td>30</td>\n",
       "    </tr>\n",
       "    <tr>\n",
       "      <th>5146</th>\n",
       "      <td>5146</td>\n",
       "      <td>ولدي حر يحب عورة يحب خرية مدخلكم أناهو المستوى...</td>\n",
       "      <td>abusive</td>\n",
       "      <td>30</td>\n",
       "    </tr>\n",
       "    <tr>\n",
       "      <th>5288</th>\n",
       "      <td>5288</td>\n",
       "      <td>ياجزايري لمسخ يالقيط لاتعمم تونس اناس يعرفو رب...</td>\n",
       "      <td>hate</td>\n",
       "      <td>30</td>\n",
       "    </tr>\n",
       "    <tr>\n",
       "      <th>5311</th>\n",
       "      <td>5311</td>\n",
       "      <td>نباح الكلاب استاذ معندهاش جنسية تونسيه اولا مو...</td>\n",
       "      <td>normal</td>\n",
       "      <td>30</td>\n",
       "    </tr>\n",
       "    <tr>\n",
       "      <th>5395</th>\n",
       "      <td>5395</td>\n",
       "      <td>قانون يمثل المرأة البرجوازية يمثلش نساء تونس ا...</td>\n",
       "      <td>normal</td>\n",
       "      <td>30</td>\n",
       "    </tr>\n",
       "    <tr>\n",
       "      <th>5404</th>\n",
       "      <td>5404</td>\n",
       "      <td>شعب جاهل يطول الأمر يحلل الزنا بالقانون زواج ا...</td>\n",
       "      <td>hate</td>\n",
       "      <td>30</td>\n",
       "    </tr>\n",
       "    <tr>\n",
       "      <th>5660</th>\n",
       "      <td>5660</td>\n",
       "      <td>سي زبي توة قاعد تحكيلي امك معروفة يازبي مصخة ب...</td>\n",
       "      <td>abusive</td>\n",
       "      <td>30</td>\n",
       "    </tr>\n",
       "    <tr>\n",
       "      <th>5941</th>\n",
       "      <td>5941</td>\n",
       "      <td>ملك قرطاج ردي حقولك عوضنا العرب الجرب ذيك ماهو...</td>\n",
       "      <td>hate</td>\n",
       "      <td>30</td>\n",
       "    </tr>\n",
       "    <tr>\n",
       "      <th>5949</th>\n",
       "      <td>5949</td>\n",
       "      <td>بعل آمون الليبين اشرف ياكلب يمجاهر باكل رمضان ...</td>\n",
       "      <td>hate</td>\n",
       "      <td>30</td>\n",
       "    </tr>\n",
       "  </tbody>\n",
       "</table>\n",
       "</div>\n",
       "      <button class=\"colab-df-convert\" onclick=\"convertToInteractive('df-10f7522a-6ee7-4fee-876e-663842637fff')\"\n",
       "              title=\"Convert this dataframe to an interactive table.\"\n",
       "              style=\"display:none;\">\n",
       "        \n",
       "  <svg xmlns=\"http://www.w3.org/2000/svg\" height=\"24px\"viewBox=\"0 0 24 24\"\n",
       "       width=\"24px\">\n",
       "    <path d=\"M0 0h24v24H0V0z\" fill=\"none\"/>\n",
       "    <path d=\"M18.56 5.44l.94 2.06.94-2.06 2.06-.94-2.06-.94-.94-2.06-.94 2.06-2.06.94zm-11 1L8.5 8.5l.94-2.06 2.06-.94-2.06-.94L8.5 2.5l-.94 2.06-2.06.94zm10 10l.94 2.06.94-2.06 2.06-.94-2.06-.94-.94-2.06-.94 2.06-2.06.94z\"/><path d=\"M17.41 7.96l-1.37-1.37c-.4-.4-.92-.59-1.43-.59-.52 0-1.04.2-1.43.59L10.3 9.45l-7.72 7.72c-.78.78-.78 2.05 0 2.83L4 21.41c.39.39.9.59 1.41.59.51 0 1.02-.2 1.41-.59l7.78-7.78 2.81-2.81c.8-.78.8-2.07 0-2.86zM5.41 20L4 18.59l7.72-7.72 1.47 1.35L5.41 20z\"/>\n",
       "  </svg>\n",
       "      </button>\n",
       "      \n",
       "  <style>\n",
       "    .colab-df-container {\n",
       "      display:flex;\n",
       "      flex-wrap:wrap;\n",
       "      gap: 12px;\n",
       "    }\n",
       "\n",
       "    .colab-df-convert {\n",
       "      background-color: #E8F0FE;\n",
       "      border: none;\n",
       "      border-radius: 50%;\n",
       "      cursor: pointer;\n",
       "      display: none;\n",
       "      fill: #1967D2;\n",
       "      height: 32px;\n",
       "      padding: 0 0 0 0;\n",
       "      width: 32px;\n",
       "    }\n",
       "\n",
       "    .colab-df-convert:hover {\n",
       "      background-color: #E2EBFA;\n",
       "      box-shadow: 0px 1px 2px rgba(60, 64, 67, 0.3), 0px 1px 3px 1px rgba(60, 64, 67, 0.15);\n",
       "      fill: #174EA6;\n",
       "    }\n",
       "\n",
       "    [theme=dark] .colab-df-convert {\n",
       "      background-color: #3B4455;\n",
       "      fill: #D2E3FC;\n",
       "    }\n",
       "\n",
       "    [theme=dark] .colab-df-convert:hover {\n",
       "      background-color: #434B5C;\n",
       "      box-shadow: 0px 1px 3px 1px rgba(0, 0, 0, 0.15);\n",
       "      filter: drop-shadow(0px 1px 2px rgba(0, 0, 0, 0.3));\n",
       "      fill: #FFFFFF;\n",
       "    }\n",
       "  </style>\n",
       "\n",
       "      <script>\n",
       "        const buttonEl =\n",
       "          document.querySelector('#df-10f7522a-6ee7-4fee-876e-663842637fff button.colab-df-convert');\n",
       "        buttonEl.style.display =\n",
       "          google.colab.kernel.accessAllowed ? 'block' : 'none';\n",
       "\n",
       "        async function convertToInteractive(key) {\n",
       "          const element = document.querySelector('#df-10f7522a-6ee7-4fee-876e-663842637fff');\n",
       "          const dataTable =\n",
       "            await google.colab.kernel.invokeFunction('convertToInteractive',\n",
       "                                                     [key], {});\n",
       "          if (!dataTable) return;\n",
       "\n",
       "          const docLinkHtml = 'Like what you see? Visit the ' +\n",
       "            '<a target=\"_blank\" href=https://colab.research.google.com/notebooks/data_table.ipynb>data table notebook</a>'\n",
       "            + ' to learn more about interactive tables.';\n",
       "          element.innerHTML = '';\n",
       "          dataTable['output_type'] = 'display_data';\n",
       "          await google.colab.output.renderOutput(dataTable, element);\n",
       "          const docLink = document.createElement('div');\n",
       "          docLink.innerHTML = docLinkHtml;\n",
       "          element.appendChild(docLink);\n",
       "        }\n",
       "      </script>\n",
       "    </div>\n",
       "  </div>\n",
       "  "
      ],
      "text/plain": [
       "      Unnamed: 0  ... word_count\n",
       "865          865  ...         30\n",
       "1182        1182  ...         30\n",
       "1370        1370  ...         30\n",
       "1654        1654  ...         30\n",
       "1898        1898  ...         30\n",
       "1921        1921  ...         30\n",
       "1952        1952  ...         30\n",
       "2028        2028  ...         30\n",
       "2413        2413  ...         30\n",
       "2683        2683  ...         30\n",
       "2789        2789  ...         30\n",
       "2795        2795  ...         30\n",
       "2867        2867  ...         30\n",
       "2882        2882  ...         30\n",
       "2913        2913  ...         30\n",
       "3378        3378  ...         30\n",
       "3696        3696  ...         30\n",
       "3753        3753  ...         30\n",
       "3758        3758  ...         30\n",
       "3967        3967  ...         30\n",
       "3997        3997  ...         30\n",
       "4801        4801  ...         30\n",
       "4909        4909  ...         30\n",
       "5003        5003  ...         30\n",
       "5146        5146  ...         30\n",
       "5288        5288  ...         30\n",
       "5311        5311  ...         30\n",
       "5395        5395  ...         30\n",
       "5404        5404  ...         30\n",
       "5660        5660  ...         30\n",
       "5941        5941  ...         30\n",
       "5949        5949  ...         30\n",
       "\n",
       "[32 rows x 4 columns]"
      ]
     },
     "execution_count": 6,
     "metadata": {},
     "output_type": "execute_result"
    }
   ],
   "source": [
    "train[train['word_count'] == 30]"
   ]
  },
  {
   "cell_type": "code",
   "execution_count": null,
   "metadata": {
    "colab": {
     "base_uri": "https://localhost:8080/",
     "height": 36
    },
    "id": "N2lLrbnqqsFk",
    "outputId": "1d357a5b-1671-49d3-b30d-3e0728271965"
   },
   "outputs": [
    {
     "data": {
      "application/vnd.google.colaboratory.intrinsic+json": {
       "type": "string"
      },
      "text/plain": [
       "'غناية مخرجها'"
      ]
     },
     "execution_count": 7,
     "metadata": {},
     "output_type": "execute_result"
    }
   ],
   "source": [
    "train['commentaire'][335]"
   ]
  },
  {
   "cell_type": "code",
   "execution_count": null,
   "metadata": {
    "colab": {
     "base_uri": "https://localhost:8080/"
    },
    "id": "reTRftvWpUJk",
    "outputId": "1767203a-1718-4aec-d0ff-e5c5757a4b40"
   },
   "outputs": [
    {
     "data": {
      "text/plain": [
       "Counter({0: 1399, 1: 3857, 2: 1204})"
      ]
     },
     "execution_count": 8,
     "metadata": {},
     "output_type": "execute_result"
    }
   ],
   "source": [
    "y_train=train['classe']\n",
    "X_train=train['commentaire']\n",
    "#test=test['comm']\n",
    "y_train=pd.factorize(y_train)[0]\n",
    "# y_test=pd.factorize(y_test)[0]\n",
    "train['labels'] = pd.factorize(y_train)[0]\n",
    "\n",
    "import collections\n",
    "collections.Counter(y_train)\n",
    "\n",
    "#Counter({0: 4400, 1: 8840})"
   ]
  },
  {
   "cell_type": "code",
   "execution_count": null,
   "metadata": {
    "colab": {
     "base_uri": "https://localhost:8080/",
     "height": 423
    },
    "id": "gJDueK0Uh9kN",
    "outputId": "a41a5dad-bab9-4e25-c892-0394f119e65c"
   },
   "outputs": [
    {
     "data": {
      "text/html": [
       "\n",
       "  <div id=\"df-1ae4274f-3f65-46b7-b399-f98939c72dc7\">\n",
       "    <div class=\"colab-df-container\">\n",
       "      <div>\n",
       "<style scoped>\n",
       "    .dataframe tbody tr th:only-of-type {\n",
       "        vertical-align: middle;\n",
       "    }\n",
       "\n",
       "    .dataframe tbody tr th {\n",
       "        vertical-align: top;\n",
       "    }\n",
       "\n",
       "    .dataframe thead th {\n",
       "        text-align: right;\n",
       "    }\n",
       "</style>\n",
       "<table border=\"1\" class=\"dataframe\">\n",
       "  <thead>\n",
       "    <tr style=\"text-align: right;\">\n",
       "      <th></th>\n",
       "      <th>Unnamed: 0</th>\n",
       "      <th>commentaire</th>\n",
       "      <th>classe</th>\n",
       "      <th>word_count</th>\n",
       "      <th>labels</th>\n",
       "    </tr>\n",
       "  </thead>\n",
       "  <tbody>\n",
       "    <tr>\n",
       "      <th>0</th>\n",
       "      <td>0</td>\n",
       "      <td>اسغي ياشعب تونس تدعوا بالاسلام كفار الحمدلله ن...</td>\n",
       "      <td>hate</td>\n",
       "      <td>11</td>\n",
       "      <td>0</td>\n",
       "    </tr>\n",
       "    <tr>\n",
       "      <th>1</th>\n",
       "      <td>1</td>\n",
       "      <td>قطع يد السارق توفرت الشروط شرط الحد الأدنى قيم...</td>\n",
       "      <td>normal</td>\n",
       "      <td>14</td>\n",
       "      <td>1</td>\n",
       "    </tr>\n",
       "    <tr>\n",
       "      <th>2</th>\n",
       "      <td>2</td>\n",
       "      <td>تلوموش لطفي لعبدلي شرف</td>\n",
       "      <td>normal</td>\n",
       "      <td>4</td>\n",
       "      <td>1</td>\n",
       "    </tr>\n",
       "    <tr>\n",
       "      <th>3</th>\n",
       "      <td>3</td>\n",
       "      <td>مستغرب شعب يسمع تفاهة شانو لى الدرجة الشعب تاف...</td>\n",
       "      <td>normal</td>\n",
       "      <td>20</td>\n",
       "      <td>1</td>\n",
       "    </tr>\n",
       "    <tr>\n",
       "      <th>4</th>\n",
       "      <td>4</td>\n",
       "      <td>هههخ غزلتني مافهمتش شمدخلها الموضوع تتنطر وحده...</td>\n",
       "      <td>normal</td>\n",
       "      <td>9</td>\n",
       "      <td>1</td>\n",
       "    </tr>\n",
       "    <tr>\n",
       "      <th>...</th>\n",
       "      <td>...</td>\n",
       "      <td>...</td>\n",
       "      <td>...</td>\n",
       "      <td>...</td>\n",
       "      <td>...</td>\n",
       "    </tr>\n",
       "    <tr>\n",
       "      <th>6455</th>\n",
       "      <td>431</td>\n",
       "      <td>وجهو وجه الطحين ورخس</td>\n",
       "      <td>abusive</td>\n",
       "      <td>4</td>\n",
       "      <td>2</td>\n",
       "    </tr>\n",
       "    <tr>\n",
       "      <th>6456</th>\n",
       "      <td>432</td>\n",
       "      <td>الله لا يبارك فيكم و في الي تزرعوا فيه اليوم ل...</td>\n",
       "      <td>hate</td>\n",
       "      <td>20</td>\n",
       "      <td>0</td>\n",
       "    </tr>\n",
       "    <tr>\n",
       "      <th>6457</th>\n",
       "      <td>433</td>\n",
       "      <td>ملا حثالة مستدعيه ، قواد ولحاس ، طيح مستوى الب...</td>\n",
       "      <td>hate</td>\n",
       "      <td>15</td>\n",
       "      <td>0</td>\n",
       "    </tr>\n",
       "    <tr>\n",
       "      <th>6458</th>\n",
       "      <td>434</td>\n",
       "      <td>شبعة خمج.اينما يقيم الجهل</td>\n",
       "      <td>hate</td>\n",
       "      <td>4</td>\n",
       "      <td>0</td>\n",
       "    </tr>\n",
       "    <tr>\n",
       "      <th>6459</th>\n",
       "      <td>435</td>\n",
       "      <td>عدم إحترام المشاهد من جميع الأطراف هي قلة حياء</td>\n",
       "      <td>hate</td>\n",
       "      <td>9</td>\n",
       "      <td>0</td>\n",
       "    </tr>\n",
       "  </tbody>\n",
       "</table>\n",
       "<p>6460 rows × 5 columns</p>\n",
       "</div>\n",
       "      <button class=\"colab-df-convert\" onclick=\"convertToInteractive('df-1ae4274f-3f65-46b7-b399-f98939c72dc7')\"\n",
       "              title=\"Convert this dataframe to an interactive table.\"\n",
       "              style=\"display:none;\">\n",
       "        \n",
       "  <svg xmlns=\"http://www.w3.org/2000/svg\" height=\"24px\"viewBox=\"0 0 24 24\"\n",
       "       width=\"24px\">\n",
       "    <path d=\"M0 0h24v24H0V0z\" fill=\"none\"/>\n",
       "    <path d=\"M18.56 5.44l.94 2.06.94-2.06 2.06-.94-2.06-.94-.94-2.06-.94 2.06-2.06.94zm-11 1L8.5 8.5l.94-2.06 2.06-.94-2.06-.94L8.5 2.5l-.94 2.06-2.06.94zm10 10l.94 2.06.94-2.06 2.06-.94-2.06-.94-.94-2.06-.94 2.06-2.06.94z\"/><path d=\"M17.41 7.96l-1.37-1.37c-.4-.4-.92-.59-1.43-.59-.52 0-1.04.2-1.43.59L10.3 9.45l-7.72 7.72c-.78.78-.78 2.05 0 2.83L4 21.41c.39.39.9.59 1.41.59.51 0 1.02-.2 1.41-.59l7.78-7.78 2.81-2.81c.8-.78.8-2.07 0-2.86zM5.41 20L4 18.59l7.72-7.72 1.47 1.35L5.41 20z\"/>\n",
       "  </svg>\n",
       "      </button>\n",
       "      \n",
       "  <style>\n",
       "    .colab-df-container {\n",
       "      display:flex;\n",
       "      flex-wrap:wrap;\n",
       "      gap: 12px;\n",
       "    }\n",
       "\n",
       "    .colab-df-convert {\n",
       "      background-color: #E8F0FE;\n",
       "      border: none;\n",
       "      border-radius: 50%;\n",
       "      cursor: pointer;\n",
       "      display: none;\n",
       "      fill: #1967D2;\n",
       "      height: 32px;\n",
       "      padding: 0 0 0 0;\n",
       "      width: 32px;\n",
       "    }\n",
       "\n",
       "    .colab-df-convert:hover {\n",
       "      background-color: #E2EBFA;\n",
       "      box-shadow: 0px 1px 2px rgba(60, 64, 67, 0.3), 0px 1px 3px 1px rgba(60, 64, 67, 0.15);\n",
       "      fill: #174EA6;\n",
       "    }\n",
       "\n",
       "    [theme=dark] .colab-df-convert {\n",
       "      background-color: #3B4455;\n",
       "      fill: #D2E3FC;\n",
       "    }\n",
       "\n",
       "    [theme=dark] .colab-df-convert:hover {\n",
       "      background-color: #434B5C;\n",
       "      box-shadow: 0px 1px 3px 1px rgba(0, 0, 0, 0.15);\n",
       "      filter: drop-shadow(0px 1px 2px rgba(0, 0, 0, 0.3));\n",
       "      fill: #FFFFFF;\n",
       "    }\n",
       "  </style>\n",
       "\n",
       "      <script>\n",
       "        const buttonEl =\n",
       "          document.querySelector('#df-1ae4274f-3f65-46b7-b399-f98939c72dc7 button.colab-df-convert');\n",
       "        buttonEl.style.display =\n",
       "          google.colab.kernel.accessAllowed ? 'block' : 'none';\n",
       "\n",
       "        async function convertToInteractive(key) {\n",
       "          const element = document.querySelector('#df-1ae4274f-3f65-46b7-b399-f98939c72dc7');\n",
       "          const dataTable =\n",
       "            await google.colab.kernel.invokeFunction('convertToInteractive',\n",
       "                                                     [key], {});\n",
       "          if (!dataTable) return;\n",
       "\n",
       "          const docLinkHtml = 'Like what you see? Visit the ' +\n",
       "            '<a target=\"_blank\" href=https://colab.research.google.com/notebooks/data_table.ipynb>data table notebook</a>'\n",
       "            + ' to learn more about interactive tables.';\n",
       "          element.innerHTML = '';\n",
       "          dataTable['output_type'] = 'display_data';\n",
       "          await google.colab.output.renderOutput(dataTable, element);\n",
       "          const docLink = document.createElement('div');\n",
       "          docLink.innerHTML = docLinkHtml;\n",
       "          element.appendChild(docLink);\n",
       "        }\n",
       "      </script>\n",
       "    </div>\n",
       "  </div>\n",
       "  "
      ],
      "text/plain": [
       "      Unnamed: 0  ... labels\n",
       "0              0  ...      0\n",
       "1              1  ...      1\n",
       "2              2  ...      1\n",
       "3              3  ...      1\n",
       "4              4  ...      1\n",
       "...          ...  ...    ...\n",
       "6455         431  ...      2\n",
       "6456         432  ...      0\n",
       "6457         433  ...      0\n",
       "6458         434  ...      0\n",
       "6459         435  ...      0\n",
       "\n",
       "[6460 rows x 5 columns]"
      ]
     },
     "execution_count": 9,
     "metadata": {},
     "output_type": "execute_result"
    }
   ],
   "source": [
    "train"
   ]
  },
  {
   "cell_type": "code",
   "execution_count": null,
   "metadata": {
    "colab": {
     "base_uri": "https://localhost:8080/"
    },
    "id": "oGLoYOBGcQLC",
    "outputId": "1752f4ba-377e-4015-bdff-fe52e760da3d"
   },
   "outputs": [
    {
     "name": "stdout",
     "output_type": "stream",
     "text": [
      "[nltk_data] Downloading package stopwords to /root/nltk_data...\n",
      "[nltk_data]   Package stopwords is already up-to-date!\n",
      "[nltk_data] Downloading package wordnet to /root/nltk_data...\n",
      "[nltk_data]   Package wordnet is already up-to-date!\n"
     ]
    }
   ],
   "source": [
    "import nltk\n",
    "nltk.download('stopwords')\n",
    "nltk.download('wordnet')\n",
    "from nltk.corpus import stopwords\n",
    "stopwords_list = stopwords.words('arabic')"
   ]
  },
  {
   "cell_type": "code",
   "execution_count": null,
   "metadata": {
    "id": "eTokWOWpbiMT"
   },
   "outputs": [],
   "source": [
    "#cleaning data\n",
    "import re\n",
    "from nltk.stem.porter import PorterStemmer\n",
    "tokenizer=nltk.tokenize.WhitespaceTokenizer()\n",
    "from nltk.stem.isri import ISRIStemmer\n",
    "st = ISRIStemmer()\n",
    "from snowballstemmer import stemmer\n",
    "ar_stemmer = stemmer(\"arabic\")\n",
    "\n",
    "def preprocess(review):\n",
    "   review = re.sub('[^ا-ي]', ' ', review)\n",
    " \n",
    "   review = tokenizer.tokenize(review)\n",
    "   review = [ar_stemmer.stemWord(word) for word in review if not word in set(stopwords_list )]\n",
    "   review = ' '.join(review)\n",
    "   return review"
   ]
  },
  {
   "cell_type": "code",
   "execution_count": null,
   "metadata": {
    "id": "0fUSTtv_b2Tj"
   },
   "outputs": [],
   "source": [
    "# X_train = train['commentaire'].apply(preprocess)\n",
    "X_train = X_train.apply(preprocess)\n"
   ]
  },
  {
   "cell_type": "code",
   "execution_count": null,
   "metadata": {
    "colab": {
     "base_uri": "https://localhost:8080/",
     "height": 36
    },
    "id": "pHWUrV9_cchK",
    "outputId": "68b513f6-3472-45d0-c1c5-e36aaf35e2a5"
   },
   "outputs": [
    {
     "data": {
      "application/vnd.google.colaboratory.intrinsic+json": {
       "type": "string"
      },
      "text/plain": [
       "'اسغ ياشعب تونس تدع اسلام كفار حمدلله نعم اسلام بلد جزاير'"
      ]
     },
     "execution_count": 13,
     "metadata": {},
     "output_type": "execute_result"
    }
   ],
   "source": [
    "X_train[0] ### Après preprocessing"
   ]
  },
  {
   "cell_type": "code",
   "execution_count": null,
   "metadata": {
    "colab": {
     "base_uri": "https://localhost:8080/",
     "height": 36
    },
    "id": "TNY4hgF8dEM6",
    "outputId": "4e31ec61-6d97-48e3-baa1-a76ad58283ce"
   },
   "outputs": [
    {
     "data": {
      "application/vnd.google.colaboratory.intrinsic+json": {
       "type": "string"
      },
      "text/plain": [
       "'اسغي ياشعب تونس تدعوا بالاسلام كفار الحمدلله نعمة الاسلام بلدنا الجزاير'"
      ]
     },
     "execution_count": 14,
     "metadata": {},
     "output_type": "execute_result"
    }
   ],
   "source": [
    "train['commentaire'][0] ### Originale"
   ]
  },
  {
   "cell_type": "code",
   "execution_count": null,
   "metadata": {
    "id": "qMwojEJFiiBY"
   },
   "outputs": [],
   "source": [
    "# x=train[323].lower().replace('@user','').replace('url','')\n",
    "# x=re.sub('[^A-Za-z]', ' ', x)\n",
    "# re.sub('http[s]?://(?:[a-zA-Z]|[0-9]|[$-_@.&+]|'\n",
    "#         '[!*\\(\\),]|(?:%[0-9a-fA-F][0-9a-fA-F]))+','',x)"
   ]
  },
  {
   "cell_type": "code",
   "execution_count": null,
   "metadata": {
    "id": "0KkTgzF_q4s1"
   },
   "outputs": [],
   "source": [
    "# # Creating the training corpus\n",
    "# stop_words = set(stopwords.words(\"english\")) \n",
    "# lemmatizer = WordNetLemmatizer()\n",
    "# corpus_train = []\n",
    "# for i in train:\n",
    "#     x=i.lower()\n",
    "#     x=x.replace('@user','')\n",
    "#     x=x.replace('@[\\w\\-]+','')\n",
    "#     #x=x.translate(str.maketrans('', '', string.punctuation))\n",
    "#     x = re.sub('[^A-Za-z]', ' ', x)\n",
    "#     #x=re.sub('\\s+',' ',x)\n",
    "#     x=re.sub('http[s]?://(?:[a-zA-Z]|[0-9]|[$-_@.&+]|'\n",
    "#         '[!*\\(\\),]|(?:%[0-9a-fA-F][0-9a-fA-F]))+','',x) #url\n",
    "#     #x = [lemmatizer.lemmatize(token) for token in x.split(\" \")]\n",
    "#     #x = [word for word in x if not word in stop_words]\n",
    "#     #x=\" \".join(x)\n",
    "#     corpus_train.append(x)    \n",
    "# # Creating the training corpus\n",
    "# corpus_test = []\n",
    "# for i in test:\n",
    "#     x=i.lower()\n",
    "#     x=x.replace('@user','')\n",
    "#     x=x.replace('@[\\w\\-]+','')\n",
    "#     #x=x.translate(str.maketrans('', '', string.punctuation))\n",
    "#     x = re.sub('[^A-Za-z]', ' ', x)\n",
    "#     #x=re.sub('\\s+',' ',x)\n",
    "#     x=re.sub('http[s]?://(?:[a-zA-Z]|[0-9]|[$-_@.&+]|'\n",
    "#         '[!*\\(\\),]|(?:%[0-9a-fA-F][0-9a-fA-F]))+','',x) #url\n",
    "#     #x = [lemmatizer.lemmatize(token) for token in x.split(\" \")]\n",
    "#     #x = [word for word in x if not word in stop_words]\n",
    "#     #x=\" \".join(x)\n",
    "#     corpus_test.append(x) "
   ]
  },
  {
   "cell_type": "code",
   "execution_count": null,
   "metadata": {
    "id": "GyyHvozBq7kf"
   },
   "outputs": [],
   "source": [
    "# from keras.preprocessing.text import Tokenizer\n",
    "# from keras.preprocessing import sequence\n",
    "# max_words = 5000 #frequency of words to be kept\n",
    "# max_len = 200\n",
    "# tokenize = Tokenizer(num_words=max_words)\n",
    "# tokenize.fit_on_texts(corpus_train)\n",
    "# sequences = tokenize.texts_to_sequences(corpus_train)\n",
    "# word_index = tokenize.word_index\n",
    "# sequences_matrix = sequence.pad_sequences(sequences,maxlen=max_len)"
   ]
  },
  {
   "cell_type": "code",
   "execution_count": null,
   "metadata": {
    "colab": {
     "base_uri": "https://localhost:8080/"
    },
    "id": "DUs3GSQ9e6lq",
    "outputId": "b5aa2545-5f26-490f-e439-ca700e9e55a0"
   },
   "outputs": [
    {
     "data": {
      "text/plain": [
       "14667"
      ]
     },
     "execution_count": 18,
     "metadata": {},
     "output_type": "execute_result"
    }
   ],
   "source": [
    "# splitting the data into target and feature\n",
    "from sklearn.model_selection import train_test_split\n",
    "from keras.preprocessing.text import Tokenizer\n",
    "from keras.preprocessing.sequence import pad_sequences \n",
    "\n",
    "X_train, X_test, y_train, y_test = train_test_split(X_train, y_train ,test_size = 0.1, random_state=0)\n",
    "tokenizer = Tokenizer(lower=True)\n",
    "tokenizer.fit_on_texts(X_train)\n",
    "\n",
    "X_train = tokenizer.texts_to_sequences(X_train)\n",
    "X_test = tokenizer.texts_to_sequences(X_test)\n",
    "\n",
    "vocab_size = len(tokenizer.word_index) + 1 \n",
    "vocab_size # Adding 1 because of reserved 0 index"
   ]
  },
  {
   "cell_type": "code",
   "execution_count": null,
   "metadata": {
    "id": "_Ae1X0N6mtK1"
   },
   "outputs": [],
   "source": [
    "word_index = tokenizer.word_index\n"
   ]
  },
  {
   "cell_type": "code",
   "execution_count": null,
   "metadata": {
    "colab": {
     "base_uri": "https://localhost:8080/"
    },
    "id": "gm9MD9MKgew-",
    "outputId": "a3969497-bc3b-47e3-c107-df5bef7c9fe7"
   },
   "outputs": [
    {
     "name": "stdout",
     "output_type": "stream",
     "text": [
      "Max len: 388\n"
     ]
    }
   ],
   "source": [
    "lens_train = [len(i) for i in X_train]\n",
    "lens_test = [len(i) for i in X_test]\n",
    "lens = lens_train + lens_test\n",
    "\n",
    "maxlen = np.max(lens)\n",
    "print('Max len:', maxlen)"
   ]
  },
  {
   "cell_type": "code",
   "execution_count": null,
   "metadata": {
    "id": "MHCkOuIlo0Bc"
   },
   "outputs": [],
   "source": [
    "# len(x.split())\n",
    "\n",
    "# lens_train = [len(i.split()) for i in list(train['commentaire'])]\n",
    "# lens_test = [len(i.split()) for i in X_test]\n",
    "# lens = lens_train + lens_test\n",
    "\n",
    "# maxlen_ = np.max(train['word_count'])\n",
    "# print('Max len:', maxlen_)\n"
   ]
  },
  {
   "cell_type": "code",
   "execution_count": null,
   "metadata": {
    "id": "sYN-06rwkCyJ"
   },
   "outputs": [],
   "source": [
    "# num_words = min(max_words, len(word_index)) + 1\n",
    "# print(num_words)"
   ]
  },
  {
   "cell_type": "code",
   "execution_count": null,
   "metadata": {
    "id": "DO1yndKJiXxl"
   },
   "outputs": [],
   "source": [
    "### AraVec embeddings\n",
    "# !wget https://bakrianoo.ewr1.vultrobjects.com/aravec/full_grams_cbow_300_twitter.zip"
   ]
  },
  {
   "cell_type": "code",
   "execution_count": null,
   "metadata": {
    "id": "vNP3UOz1djK_"
   },
   "outputs": [],
   "source": [
    "### Unzip AraVec \n",
    "# !unzip /content/full_grams_cbow_300_twitter.zip"
   ]
  },
  {
   "cell_type": "code",
   "execution_count": null,
   "metadata": {
    "id": "N4cXkMapTl0M"
   },
   "outputs": [],
   "source": [
    "# !mv /content/full_grams_cbow_300_twitter.mdl.trainables.syn1neg.npy /content/drive/MyDrive/FastText_Aravec_Arabic_embeddings/full_grams_cbow_300_twitter.mdl.trainables.syn1neg.npy\n",
    "# !mv /content/full_grams_cbow_300_twitter.mdl.wv.vectors.npy /content/drive/MyDrive/FastText_Aravec_Arabic_embeddings/full_grams_cbow_300_twitter.mdl.wv.vectors.npy"
   ]
  },
  {
   "cell_type": "code",
   "execution_count": null,
   "metadata": {
    "id": "N9NhnutckY-C"
   },
   "outputs": [],
   "source": [
    "### FastText Arabic embeddings\n",
    "# !wget https://dl.fbaipublicfiles.com/fasttext/vectors-crawl/cc.ar.300.vec.gz"
   ]
  },
  {
   "cell_type": "code",
   "execution_count": null,
   "metadata": {
    "id": "bPzCEayqk0o0"
   },
   "outputs": [],
   "source": [
    "### Unzip FastText Arabic\n",
    "# !gzip -d /content/cc.ar.300.vec.gz"
   ]
  },
  {
   "cell_type": "code",
   "execution_count": null,
   "metadata": {
    "id": "vlMA1Qwfg0EA"
   },
   "outputs": [],
   "source": [
    "embedding_path1 = \"/content/drive/MyDrive/FastText_Aravec_Arabic_embeddings/cc.ar.300.vec\" ### FadText Arabic\n",
    "embedding_path2 = \"/content/drive/MyDrive/FastText_Aravec_Arabic_embeddings/full_grams_cbow_300_twitter.mdl.wv.vectors.npy\" ### AraVec\n",
    "#embedding_path2 = \"/content/full_grams_cbow_300_twitter.mdl.wv.vectors.npy\" ### AraVec\n",
    "\n",
    "embed_size = 300"
   ]
  },
  {
   "cell_type": "code",
   "execution_count": null,
   "metadata": {
    "id": "TyxVJQ45rSW3"
   },
   "outputs": [],
   "source": [
    "def get_coefs(word,*arr):\n",
    "    return word, np.asarray(arr, dtype='float32')\n",
    "\n",
    "def build_matrix(embedding_path, word_index):\n",
    "    embedding_index = dict(get_coefs(*o.strip().split(\" \")) for o in open(embedding_path))\n",
    "\n",
    "    nb_words = min(maxlen, len(word_index))\n",
    "    # embedding_matrix = np.zeros((nb_words + 1, embed_size))\n",
    "    embedding_matrix = np.zeros((vocab_size + 1, embed_size))\n",
    "    for word, i in word_index.items():\n",
    "        if i >= maxlen:\n",
    "            continue\n",
    "        embedding_vector = embedding_index.get(word)\n",
    "        if embedding_vector is not None:\n",
    "            embedding_matrix[i] = embedding_vector\n",
    "    return embedding_matrix\n"
   ]
  },
  {
   "cell_type": "code",
   "execution_count": null,
   "metadata": {
    "id": "zYUKY8LXkIoK"
   },
   "outputs": [],
   "source": [
    "fasttext_arabic_emb = build_matrix(embedding_path1, word_index)\n",
    "# aravec_emb = build_matrix(embedding_path2, word_index)"
   ]
  },
  {
   "cell_type": "code",
   "execution_count": null,
   "metadata": {
    "colab": {
     "base_uri": "https://localhost:8080/"
    },
    "id": "ujFHFjvZgbri",
    "outputId": "076b5d0e-8aae-4308-b609-f13293da6a6d"
   },
   "outputs": [
    {
     "data": {
      "text/plain": [
       "(14668, 300)"
      ]
     },
     "execution_count": 31,
     "metadata": {},
     "output_type": "execute_result"
    }
   ],
   "source": [
    "fasttext_arabic_emb.shape"
   ]
  },
  {
   "cell_type": "code",
   "execution_count": null,
   "metadata": {
    "id": "Tla3YBh1xpBK"
   },
   "outputs": [],
   "source": [
    "import gensim\n",
    "\n",
    "t_model = gensim.models.Word2Vec.load('/content/drive/MyDrive/FastText_Aravec_Arabic_embeddings/full_grams_cbow_300_twitter.mdl')"
   ]
  },
  {
   "cell_type": "code",
   "execution_count": null,
   "metadata": {
    "id": "VPIk72dXx4rz"
   },
   "outputs": [],
   "source": [
    "# word_vector = t_model.wv[ token ]\n",
    "\n",
    "def build_aravec_matrix(embedding_path, word_index):\n",
    "\n",
    "    nb_words = min(maxlen, len(word_index))\n",
    "    # embedding_matrix = np.zeros((nb_words + 1, embed_size))\n",
    "    embedding_matrix = np.zeros((vocab_size + 1, embed_size))\n",
    "    for word, i in word_index.items():\n",
    "        if i >= maxlen:\n",
    "            continue\n",
    "        try:\n",
    "          embedding_vector = t_model.wv[word]\n",
    "        except KeyError:\n",
    "          continue\n",
    "        if embedding_vector is not None:\n",
    "            embedding_matrix[i] = t_model.wv[word]\n",
    "    return embedding_matrix"
   ]
  },
  {
   "cell_type": "code",
   "execution_count": null,
   "metadata": {
    "id": "jPT-r20-vv3L"
   },
   "outputs": [],
   "source": [
    "aravec_emb = build_aravec_matrix(embedding_path2, word_index)"
   ]
  },
  {
   "cell_type": "code",
   "execution_count": null,
   "metadata": {
    "colab": {
     "base_uri": "https://localhost:8080/"
    },
    "id": "-GfJTGLH9GiR",
    "outputId": "a66a7b9c-3116-4b17-8b91-e45f2ba84ce3"
   },
   "outputs": [
    {
     "data": {
      "text/plain": [
       "(14668, 300)"
      ]
     },
     "execution_count": 35,
     "metadata": {},
     "output_type": "execute_result"
    }
   ],
   "source": [
    "aravec_emb.shape"
   ]
  },
  {
   "cell_type": "code",
   "execution_count": null,
   "metadata": {
    "colab": {
     "base_uri": "https://localhost:8080/"
    },
    "id": "ywE3rEY3AvVS",
    "outputId": "5d9b3d6a-6b46-4c13-e32b-ffcfe248fd1c"
   },
   "outputs": [
    {
     "data": {
      "text/plain": [
       "array([[ 0.        ,  0.        ,  0.        , ...,  0.        ,\n",
       "         0.        ,  0.        ],\n",
       "       [ 0.52427763, -0.17721991, -0.67358071, ..., -1.02551579,\n",
       "        -1.43612766,  0.11169961],\n",
       "       [ 0.16235431, -1.00791025, -0.86719418, ..., -0.01928542,\n",
       "        -1.11376536, -1.04606497],\n",
       "       ...,\n",
       "       [ 0.        ,  0.        ,  0.        , ...,  0.        ,\n",
       "         0.        ,  0.        ],\n",
       "       [ 0.        ,  0.        ,  0.        , ...,  0.        ,\n",
       "         0.        ,  0.        ],\n",
       "       [ 0.        ,  0.        ,  0.        , ...,  0.        ,\n",
       "         0.        ,  0.        ]])"
      ]
     },
     "execution_count": 36,
     "metadata": {},
     "output_type": "execute_result"
    }
   ],
   "source": [
    "aravec_emb"
   ]
  },
  {
   "cell_type": "markdown",
   "metadata": {
    "id": "uiArU6WLwghI"
   },
   "source": [
    "ccombinaison des deux embedding\n"
   ]
  },
  {
   "cell_type": "code",
   "execution_count": null,
   "metadata": {
    "colab": {
     "base_uri": "https://localhost:8080/"
    },
    "id": "v7uZ-HJ4ln2_",
    "outputId": "734066b6-1b03-4c2b-c298-412f6d5849ad"
   },
   "outputs": [
    {
     "data": {
      "text/plain": [
       "(14668, 300)"
      ]
     },
     "execution_count": 37,
     "metadata": {},
     "output_type": "execute_result"
    }
   ],
   "source": [
    "embedding_matrix2=np.mean((fasttext_arabic_emb, aravec_emb),axis=0)\n",
    "embedding_matrix2.shape"
   ]
  },
  {
   "cell_type": "code",
   "execution_count": null,
   "metadata": {
    "id": "dLnt7QKJ8WzH"
   },
   "outputs": [],
   "source": [
    "from keras.preprocessing import sequence\n",
    "\n",
    "# test_sequences = tokenize.texts_to_sequences(corpus_test)\n",
    "X_train_pad = sequence.pad_sequences(X_train, maxlen=maxlen)\n",
    "X_test_pad  = sequence.pad_sequences(X_test, maxlen=maxlen)"
   ]
  },
  {
   "cell_type": "code",
   "execution_count": null,
   "metadata": {
    "id": "EVwNl2COnOTt"
   },
   "outputs": [],
   "source": [
    "from keras import backend as K\n",
    "def f1(y_true, y_pred):\n",
    "    \n",
    "    def recall(y_true, y_pred):\n",
    "        \"\"\"Recall metric.\n",
    "\n",
    "        Only computes a batch-wise average of recall.\n",
    "\n",
    "        Computes the recall, a metric for multi-label classification of\n",
    "        how many relevant items are selected.\n",
    "        \"\"\"\n",
    "        true_positives = K.sum(K.round(K.clip(y_true * y_pred, 0, 1)))\n",
    "        possible_positives = K.sum(K.round(K.clip(y_true, 0, 1)))\n",
    "        recall = true_positives / (possible_positives + K.epsilon())\n",
    "        return recall\n",
    "\n",
    "    def precision(y_true, y_pred):\n",
    "        \"\"\"Precision metric.\n",
    "\n",
    "        Only computes a batch-wise average of precision.\n",
    "\n",
    "        Computes the precision, a metric for multi-label classification of\n",
    "        how many selected items are relevant.\n",
    "        \"\"\"\n",
    "        true_positives = K.sum(K.round(K.clip(y_true * y_pred, 0, 1)))\n",
    "        predicted_positives = K.sum(K.round(K.clip(y_pred, 0, 1)))\n",
    "        precision = true_positives / (predicted_positives + K.epsilon())\n",
    "        return precision\n",
    "    precision = precision(y_true, y_pred)\n",
    "    recall = recall(y_true, y_pred)\n",
    "    return 2*((precision*recall)/(precision+recall+K.epsilon()))"
   ]
  },
  {
   "cell_type": "code",
   "execution_count": null,
   "metadata": {
    "id": "9QwiUz7VFJPz"
   },
   "outputs": [],
   "source": [
    "callbacks = keras.callbacks.EarlyStopping(monitor='val_f1', mode='max', verbose=1,\n",
    "                                          patience=8,restore_best_weights = True)"
   ]
  },
  {
   "cell_type": "code",
   "execution_count": null,
   "metadata": {
    "id": "HkMkKWsJrzeN"
   },
   "outputs": [],
   "source": [
    "from keras.models import Sequential,Model\n",
    "from tensorflow.compat.v1.keras.layers import CuDNNGRU\n",
    "from keras.layers import Embedding,Dense,GRU, Conv1D\n",
    "from keras.layers import Dropout,Bidirectional,GlobalMaxPool1D,GlobalAveragePooling1D\n",
    "from keras.layers import SpatialDropout1D,concatenate,Input\n",
    "# from keras.optimizers import RMSprop\n",
    "from keras.initializers import Constant\n",
    "from sklearn.utils import class_weight\n",
    "from keras.callbacks import ModelCheckpoint\n",
    "import tensorflow as tf\n",
    "#tf.logging.set_verbosity(tf.logging.ERROR)"
   ]
  },
  {
   "cell_type": "code",
   "execution_count": null,
   "metadata": {
    "id": "Il9FI8EkTTBh"
   },
   "outputs": [],
   "source": [
    "from sklearn.metrics import classification_report\n",
    "from sklearn.metrics import confusion_matrix, f1_score, precision_score, recall_score\n",
    "import matplotlib.pyplot as plt\n",
    "import seaborn as sns"
   ]
  },
  {
   "cell_type": "code",
   "execution_count": null,
   "metadata": {
    "id": "fL-leK_jTorh"
   },
   "outputs": [],
   "source": [
    "class_weights = class_weight.compute_class_weight(class_weight='balanced', classes=np.unique(y_train), y=y_train)\n",
    "class_weights=dict(enumerate(class_weights))"
   ]
  },
  {
   "cell_type": "code",
   "execution_count": null,
   "metadata": {
    "id": "khxVuHQQENNR"
   },
   "outputs": [],
   "source": [
    "from tensorflow.keras.utils import to_categorical\n",
    "\n",
    "y_train = to_categorical(y_train, 3)\n",
    "y_test  = to_categorical(y_test, 3)"
   ]
  },
  {
   "cell_type": "markdown",
   "metadata": {
    "id": "StHob8uHVS2A"
   },
   "source": [
    "# CNN Model"
   ]
  },
  {
   "cell_type": "markdown",
   "metadata": {
    "id": "ZwFFlBGFR2tv"
   },
   "source": [
    "### Training a model with aravec and Fasttext embedding"
   ]
  },
  {
   "cell_type": "code",
   "execution_count": null,
   "metadata": {
    "id": "EIRQc1aLRhHg"
   },
   "outputs": [],
   "source": [
    "inp=Input((maxlen,))\n",
    "#Embedding Layer \n",
    "x=Embedding(vocab_size + 1,embed_size,embeddings_initializer=Constant(embedding_matrix2),\n",
    "            input_length=maxlen,trainable=True)(inp)\n",
    "x = SpatialDropout1D(0.2)(x)\n",
    "#GRU Bidrirectionnel (si vous voulez activer CNN, mettez en commentaire cette ligne)\n",
    "#x=Bidirectional(GRU(150, return_sequences = True))(x)\n",
    "\n",
    "### Couche CNN \n",
    "x=Conv1D(filters=32, kernel_size=3, padding='valid', activation='relu')(x) \n",
    "\n",
    "avg_pool = GlobalAveragePooling1D()(x)\n",
    "max_pool = GlobalMaxPool1D()(x)\n",
    "conc = concatenate([avg_pool, max_pool])\n",
    "\n",
    " \n",
    "x=Dropout(0.2)(conc)\n",
    "out=Dense(16, activation=\"relu\")(x)\n",
    "out=Dense(8, activation=\"relu\")(out)\n",
    "\n",
    "out=Dense(3, activation=\"softmax\")(out)\n",
    "\n",
    "model=Model(inp,out)\n",
    "\n",
    "mcp_save = ModelCheckpoint('model.mdl_wts.hdf5', save_best_only=True,\n",
    "                           monitor='val_loss', mode='min',patience = 5)\n",
    "\n"
   ]
  },
  {
   "cell_type": "code",
   "execution_count": null,
   "metadata": {
    "id": "hCVvlC7ARlLY"
   },
   "outputs": [],
   "source": [
    "model.compile(loss=tf.keras.losses.CategoricalCrossentropy(), optimizer=tf.keras.optimizers.Adam(), metrics=[f1])"
   ]
  },
  {
   "cell_type": "code",
   "execution_count": null,
   "metadata": {
    "colab": {
     "base_uri": "https://localhost:8080/"
    },
    "id": "LBDAzDdwRpeJ",
    "outputId": "cde1500a-0410-4cbc-cb84-0ee42d695b43"
   },
   "outputs": [
    {
     "name": "stdout",
     "output_type": "stream",
     "text": [
      "Model: \"model\"\n",
      "__________________________________________________________________________________________________\n",
      " Layer (type)                   Output Shape         Param #     Connected to                     \n",
      "==================================================================================================\n",
      " input_1 (InputLayer)           [(None, 388)]        0           []                               \n",
      "                                                                                                  \n",
      " embedding (Embedding)          (None, 388, 300)     4400400     ['input_1[0][0]']                \n",
      "                                                                                                  \n",
      " spatial_dropout1d (SpatialDrop  (None, 388, 300)    0           ['embedding[0][0]']              \n",
      " out1D)                                                                                           \n",
      "                                                                                                  \n",
      " conv1d (Conv1D)                (None, 386, 32)      28832       ['spatial_dropout1d[0][0]']      \n",
      "                                                                                                  \n",
      " global_average_pooling1d (Glob  (None, 32)          0           ['conv1d[0][0]']                 \n",
      " alAveragePooling1D)                                                                              \n",
      "                                                                                                  \n",
      " global_max_pooling1d (GlobalMa  (None, 32)          0           ['conv1d[0][0]']                 \n",
      " xPooling1D)                                                                                      \n",
      "                                                                                                  \n",
      " concatenate (Concatenate)      (None, 64)           0           ['global_average_pooling1d[0][0]'\n",
      "                                                                 , 'global_max_pooling1d[0][0]']  \n",
      "                                                                                                  \n",
      " dropout (Dropout)              (None, 64)           0           ['concatenate[0][0]']            \n",
      "                                                                                                  \n",
      " dense (Dense)                  (None, 16)           1040        ['dropout[0][0]']                \n",
      "                                                                                                  \n",
      " dense_1 (Dense)                (None, 8)            136         ['dense[0][0]']                  \n",
      "                                                                                                  \n",
      " dense_2 (Dense)                (None, 3)            27          ['dense_1[0][0]']                \n",
      "                                                                                                  \n",
      "==================================================================================================\n",
      "Total params: 4,430,435\n",
      "Trainable params: 4,430,435\n",
      "Non-trainable params: 0\n",
      "__________________________________________________________________________________________________\n"
     ]
    }
   ],
   "source": [
    "model.summary()"
   ]
  },
  {
   "cell_type": "code",
   "execution_count": null,
   "metadata": {
    "colab": {
     "base_uri": "https://localhost:8080/",
     "height": 1000
    },
    "id": "dAjMWY-nmAeL",
    "outputId": "b04626ca-83ee-4423-852b-30793cffa4a0"
   },
   "outputs": [
    {
     "data": {
      "image/png": "[encoded data removed]",
      "text/plain": [
       "<IPython.core.display.Image object>"
      ]
     },
     "execution_count": 48,
     "metadata": {},
     "output_type": "execute_result"
    }
   ],
   "source": [
    "tf.keras.utils.plot_model(model, show_shapes=True)"
   ]
  },
  {
   "cell_type": "code",
   "execution_count": null,
   "metadata": {
    "colab": {
     "base_uri": "https://localhost:8080/"
    },
    "id": "SFa5d1PhR__j",
    "outputId": "39c100df-9996-488d-e8b3-34c8a0851a81"
   },
   "outputs": [
    {
     "name": "stdout",
     "output_type": "stream",
     "text": [
      "Epoch 1/30\n",
      "37/37 [==============================] - 15s 47ms/step - loss: 1.1034 - f1: 0.0296 - val_loss: 1.0687 - val_f1: 0.0031\n",
      "Epoch 2/30\n",
      "37/37 [==============================] - 1s 34ms/step - loss: 1.0312 - f1: 0.0860 - val_loss: 1.0435 - val_f1: 0.1470\n",
      "Epoch 3/30\n",
      "37/37 [==============================] - 1s 31ms/step - loss: 0.9597 - f1: 0.2461 - val_loss: 0.9154 - val_f1: 0.3821\n",
      "Epoch 4/30\n",
      "37/37 [==============================] - 1s 31ms/step - loss: 0.8655 - f1: 0.4638 - val_loss: 0.9704 - val_f1: 0.4004\n",
      "Epoch 5/30\n",
      "37/37 [==============================] - 1s 33ms/step - loss: 0.7774 - f1: 0.5710 - val_loss: 0.8316 - val_f1: 0.5685\n",
      "Epoch 6/30\n",
      "37/37 [==============================] - 1s 31ms/step - loss: 0.6868 - f1: 0.6586 - val_loss: 0.8314 - val_f1: 0.5773\n",
      "Epoch 7/30\n",
      "37/37 [==============================] - 1s 31ms/step - loss: 0.5768 - f1: 0.7847 - val_loss: 0.7620 - val_f1: 0.6731\n",
      "Epoch 8/30\n",
      "37/37 [==============================] - 1s 30ms/step - loss: 0.4757 - f1: 0.8394 - val_loss: 0.7972 - val_f1: 0.6626\n",
      "Epoch 9/30\n",
      "37/37 [==============================] - 1s 33ms/step - loss: 0.3552 - f1: 0.8863 - val_loss: 0.7504 - val_f1: 0.6978\n",
      "Epoch 10/30\n",
      "37/37 [==============================] - 1s 33ms/step - loss: 0.2900 - f1: 0.9099 - val_loss: 0.7524 - val_f1: 0.7173\n",
      "Epoch 11/30\n",
      "37/37 [==============================] - 1s 30ms/step - loss: 0.2183 - f1: 0.9332 - val_loss: 0.7945 - val_f1: 0.6988\n",
      "Epoch 12/30\n",
      "37/37 [==============================] - 1s 34ms/step - loss: 0.1789 - f1: 0.9447 - val_loss: 0.7946 - val_f1: 0.7142\n",
      "Epoch 13/30\n",
      "37/37 [==============================] - 1s 31ms/step - loss: 0.1528 - f1: 0.9515 - val_loss: 0.8411 - val_f1: 0.6963\n",
      "Epoch 14/30\n",
      "37/37 [==============================] - 1s 33ms/step - loss: 0.1253 - f1: 0.9646 - val_loss: 0.8506 - val_f1: 0.7151\n",
      "Epoch 15/30\n",
      "37/37 [==============================] - 1s 31ms/step - loss: 0.1087 - f1: 0.9665 - val_loss: 0.9006 - val_f1: 0.7087\n",
      "Epoch 16/30\n",
      "37/37 [==============================] - 1s 34ms/step - loss: 0.1011 - f1: 0.9661 - val_loss: 0.9139 - val_f1: 0.7131\n",
      "Epoch 17/30\n",
      "37/37 [==============================] - 1s 32ms/step - loss: 0.0845 - f1: 0.9761 - val_loss: 0.9442 - val_f1: 0.7206\n",
      "Epoch 18/30\n",
      "37/37 [==============================] - 1s 31ms/step - loss: 0.0780 - f1: 0.9768 - val_loss: 0.9844 - val_f1: 0.7198\n",
      "Epoch 19/30\n",
      "37/37 [==============================] - 1s 33ms/step - loss: 0.0715 - f1: 0.9776 - val_loss: 0.9970 - val_f1: 0.7151\n",
      "Epoch 20/30\n",
      "37/37 [==============================] - 1s 31ms/step - loss: 0.0683 - f1: 0.9790 - val_loss: 1.0565 - val_f1: 0.6870\n",
      "Epoch 21/30\n",
      "37/37 [==============================] - 1s 31ms/step - loss: 0.0535 - f1: 0.9818 - val_loss: 1.0824 - val_f1: 0.7110\n",
      "Epoch 22/30\n",
      "37/37 [==============================] - 1s 30ms/step - loss: 0.0501 - f1: 0.9851 - val_loss: 1.0775 - val_f1: 0.7156\n",
      "Epoch 23/30\n",
      "37/37 [==============================] - 1s 33ms/step - loss: 0.0432 - f1: 0.9869 - val_loss: 1.0937 - val_f1: 0.7157\n",
      "Epoch 24/30\n",
      "37/37 [==============================] - 1s 32ms/step - loss: 0.0452 - f1: 0.9878 - val_loss: 1.1586 - val_f1: 0.6951\n",
      "Epoch 25/30\n",
      "35/37 [===========================>..] - ETA: 0s - loss: 0.0407 - f1: 0.9880Restoring model weights from the end of the best epoch: 17.\n",
      "37/37 [==============================] - 1s 33ms/step - loss: 0.0412 - f1: 0.9882 - val_loss: 1.1474 - val_f1: 0.7128\n",
      "Epoch 00025: early stopping\n"
     ]
    },
    {
     "data": {
      "text/plain": [
       "<keras.callbacks.History at 0x7fb1b6ec5e50>"
      ]
     },
     "execution_count": 49,
     "metadata": {},
     "output_type": "execute_result"
    }
   ],
   "source": [
    "model.fit(X_train_pad, y_train, batch_size=128, epochs=30, verbose=1, class_weight=class_weights,\n",
    "          validation_split = 0.2, callbacks=[callbacks])"
   ]
  },
  {
   "cell_type": "code",
   "execution_count": null,
   "metadata": {
    "colab": {
     "base_uri": "https://localhost:8080/"
    },
    "id": "1BD-ntr8rznW",
    "outputId": "b2fa1d51-83c8-4097-a106-1c84312a88e4"
   },
   "outputs": [
    {
     "name": "stdout",
     "output_type": "stream",
     "text": [
      "21/21 [==============================] - 0s 6ms/step - loss: 0.9186 - f1: 0.7352\n",
      "[0.918645977973938, 0.7352007031440735]\n"
     ]
    }
   ],
   "source": [
    "print(model.evaluate(X_test_pad, y_test))"
   ]
  },
  {
   "cell_type": "code",
   "execution_count": null,
   "metadata": {
    "colab": {
     "base_uri": "https://localhost:8080/"
    },
    "id": "u-fKEe-4rzp4",
    "outputId": "96d8e8af-96c8-4b75-eb2b-39f97dedf051"
   },
   "outputs": [
    {
     "name": "stdout",
     "output_type": "stream",
     "text": [
      "6/6 [==============================] - 0s 8ms/step\n",
      "              precision    recall  f1-score   support\n",
      "\n",
      "        Hate       0.59      0.54      0.57       155\n",
      "      Normal       0.81      0.83      0.82       371\n",
      "     Abusive       0.68      0.62      0.65       120\n",
      "\n",
      "   micro avg       0.74      0.72      0.73       646\n",
      "   macro avg       0.69      0.66      0.68       646\n",
      "weighted avg       0.74      0.72      0.73       646\n",
      " samples avg       0.72      0.72      0.72       646\n",
      "\n"
     ]
    },
    {
     "name": "stderr",
     "output_type": "stream",
     "text": [
      "/usr/local/lib/python3.7/dist-packages/sklearn/metrics/_classification.py:1308: UndefinedMetricWarning: Precision and F-score are ill-defined and being set to 0.0 in samples with no predicted labels. Use `zero_division` parameter to control this behavior.\n",
      "  _warn_prf(average, modifier, msg_start, len(result))\n"
     ]
    }
   ],
   "source": [
    "y_pred = model.predict(X_test_pad, batch_size=128, verbose=1)\n",
    "y_pred_bool = np.argmax(y_pred, axis=1)\n",
    "y_pred = (y_pred > 0.5)\n",
    "\n",
    "print(classification_report(y_test, y_pred, target_names=(['Hate','Normal','Abusive'])))\n"
   ]
  },
  {
   "cell_type": "code",
   "execution_count": null,
   "metadata": {
    "colab": {
     "base_uri": "https://localhost:8080/"
    },
    "id": "4LtnRxVRmNcl",
    "outputId": "fba3b52d-ea15-44f2-a20c-ac633489ff79"
   },
   "outputs": [
    {
     "data": {
      "text/plain": [
       "0.7283719663256715"
      ]
     },
     "execution_count": 52,
     "metadata": {},
     "output_type": "execute_result"
    }
   ],
   "source": [
    "f1_score(y_test, y_pred, average=\"weighted\")"
   ]
  },
  {
   "cell_type": "code",
   "execution_count": null,
   "metadata": {
    "id": "72QjwwRRrzsu"
   },
   "outputs": [],
   "source": [
    "from tensorflow import keras\n",
    "keras.backend.clear_session()"
   ]
  },
  {
   "cell_type": "code",
   "execution_count": null,
   "metadata": {
    "id": "4o9xT3kjyc7W"
   },
   "outputs": [],
   "source": [
    "from sklearn import metrics\n",
    "metric = metrics.accuracy_score(y_test, y_pred), metrics.f1_score(y_test, y_pred, average='weighted'), metrics.recall_score(y_test, y_pred, average='weighted'), metrics.precision_score(y_test, y_pred, average='weighted')"
   ]
  },
  {
   "cell_type": "code",
   "execution_count": null,
   "metadata": {
    "colab": {
     "base_uri": "https://localhost:8080/",
     "height": 226
    },
    "id": "czSMQdvTQZs_",
    "outputId": "7a4fdd86-1e1c-42a6-824f-a551828d89a5"
   },
   "outputs": [
    {
     "data": {
      "text/plain": [
       "(0.0, 1.0)"
      ]
     },
     "execution_count": 55,
     "metadata": {},
     "output_type": "execute_result"
    },
    {
     "data": {
      "image/png": "[encoded data removed]",
      "text/plain": [
       "<Figure size 576x144 with 1 Axes>"
      ]
     },
     "metadata": {
      "needs_background": "light"
     },
     "output_type": "display_data"
    }
   ],
   "source": [
    "fig = plt.figure()\n",
    "fig.set_size_inches(8,2)\n",
    "ax = fig.add_axes([0,0,1,1])\n",
    "rect1 = ax.bar(0.00,round(metric[0], 2), color = 'b', width = 0.05)\n",
    "rect2 = ax.bar(0.20, round(metric[1], 2), color = 'g', width = 0.05)\n",
    "rect3 = ax.bar(0.40, round(metric[2], 2) , color = 'r', width = 0.05)\n",
    "rect4 = ax.bar(0.60, round(metric[3], 2) , color = (1, 0, 1), width = 0.05)\n",
    "\n",
    "ax.set_ylabel('Scores')\n",
    "ax.set_title('metrics')\n",
    "def autolabel(rects):\n",
    "  \"\"\"Attach a text label above each bar in *rects*, displaying its height.\"\"\"\n",
    "  for rect in rects:\n",
    "      height = rect.get_height()\n",
    "      ax.annotate('{}'.format(height),\n",
    "                  xy=(rect.get_x() + rect.get_width() / 2, height),\n",
    "                  xytext=(0, 3),  # 3 points vertical offset\n",
    "                  textcoords=\"offset points\",\n",
    "                  ha='center', va='bottom')\n",
    "\n",
    "autolabel(rect1)\n",
    "autolabel(rect2)\n",
    "autolabel(rect3)\n",
    "autolabel(rect4)\n",
    "ax.legend(labels=['accuracy', 'f1_score', 'recall', 'precision'],loc='best')\n",
    "plt.ylim(0, 1)"
   ]
  },
  {
   "cell_type": "markdown",
   "metadata": {
    "id": "Bpb35nPlTI1g"
   },
   "source": [
    "### Training on Fasttext Embedding Only"
   ]
  },
  {
   "cell_type": "code",
   "execution_count": null,
   "metadata": {
    "id": "ext78JdGVwvv"
   },
   "outputs": [],
   "source": [
    "keras.backend.clear_session()"
   ]
  },
  {
   "cell_type": "code",
   "execution_count": null,
   "metadata": {
    "id": "dleDGpLYU_3V"
   },
   "outputs": [],
   "source": [
    "inp=Input(shape=(maxlen, ))\n",
    "x=Embedding(vocab_size + 1,embed_size,embeddings_initializer=Constant(fasttext_arabic_emb),#Set Fasttext Embedding\n",
    "            input_length=maxlen,trainable=True)(inp)\n",
    "x = SpatialDropout1D(0.2)(x)\n",
    "# x=Bidirectional(GRU(150, return_sequences = True))(x)\n",
    "x=Conv1D(filters=32, kernel_size=3, padding='valid', activation='relu')(x) \n",
    "avg_pool = GlobalAveragePooling1D()(x)\n",
    "max_pool = GlobalMaxPool1D()(x)\n",
    "conc = concatenate([avg_pool, max_pool])\n",
    "\n",
    "\n",
    "x=Dropout(0.1)(conc)\n",
    "out=Dense(64, activation=\"relu\")(x)\n",
    "out=Dense(32, activation=\"relu\")(x)\n",
    "\n",
    "out=Dense(3, activation=\"softmax\")(x)\n",
    "\n",
    "model_ft=Model(inp,out)\n",
    "\n",
    "mcp_save = ModelCheckpoint('model_fasttext.mdl_wts.hdf5', save_best_only=True,\n",
    "                           monitor='val_loss', mode='min',patience = 5)\n"
   ]
  },
  {
   "cell_type": "code",
   "execution_count": null,
   "metadata": {
    "id": "y8TojWn4Tijn"
   },
   "outputs": [],
   "source": [
    "model_ft.compile(loss=tf.keras.losses.CategoricalCrossentropy(), optimizer=tf.keras.optimizers.Adam(), metrics=[f1])"
   ]
  },
  {
   "cell_type": "code",
   "execution_count": null,
   "metadata": {
    "colab": {
     "base_uri": "https://localhost:8080/"
    },
    "id": "NhdxZk9cTm3X",
    "outputId": "030b83c8-8d1a-4f47-bc3b-d34e93603f7e"
   },
   "outputs": [
    {
     "name": "stdout",
     "output_type": "stream",
     "text": [
      "Model: \"model\"\n",
      "__________________________________________________________________________________________________\n",
      " Layer (type)                   Output Shape         Param #     Connected to                     \n",
      "==================================================================================================\n",
      " input_1 (InputLayer)           [(None, 388)]        0           []                               \n",
      "                                                                                                  \n",
      " embedding (Embedding)          (None, 388, 300)     4400400     ['input_1[0][0]']                \n",
      "                                                                                                  \n",
      " spatial_dropout1d (SpatialDrop  (None, 388, 300)    0           ['embedding[0][0]']              \n",
      " out1D)                                                                                           \n",
      "                                                                                                  \n",
      " conv1d (Conv1D)                (None, 386, 32)      28832       ['spatial_dropout1d[0][0]']      \n",
      "                                                                                                  \n",
      " global_average_pooling1d (Glob  (None, 32)          0           ['conv1d[0][0]']                 \n",
      " alAveragePooling1D)                                                                              \n",
      "                                                                                                  \n",
      " global_max_pooling1d (GlobalMa  (None, 32)          0           ['conv1d[0][0]']                 \n",
      " xPooling1D)                                                                                      \n",
      "                                                                                                  \n",
      " concatenate (Concatenate)      (None, 64)           0           ['global_average_pooling1d[0][0]'\n",
      "                                                                 , 'global_max_pooling1d[0][0]']  \n",
      "                                                                                                  \n",
      " dropout (Dropout)              (None, 64)           0           ['concatenate[0][0]']            \n",
      "                                                                                                  \n",
      " dense_2 (Dense)                (None, 3)            195         ['dropout[0][0]']                \n",
      "                                                                                                  \n",
      "==================================================================================================\n",
      "Total params: 4,429,427\n",
      "Trainable params: 4,429,427\n",
      "Non-trainable params: 0\n",
      "__________________________________________________________________________________________________\n"
     ]
    }
   ],
   "source": [
    "model_ft.summary()"
   ]
  },
  {
   "cell_type": "code",
   "execution_count": null,
   "metadata": {
    "colab": {
     "base_uri": "https://localhost:8080/"
    },
    "id": "Et2g6vcQT29F",
    "outputId": "cec7063e-fd74-4621-c55c-8983aad6cc85"
   },
   "outputs": [
    {
     "name": "stdout",
     "output_type": "stream",
     "text": [
      "Epoch 1/20\n",
      "37/37 [==============================] - 2s 43ms/step - loss: 1.0482 - f1: 0.0331 - val_loss: 0.9921 - val_f1: 0.1201\n",
      "Epoch 2/20\n",
      "37/37 [==============================] - 1s 32ms/step - loss: 0.8944 - f1: 0.2990 - val_loss: 0.8794 - val_f1: 0.4249\n",
      "Epoch 3/20\n",
      "37/37 [==============================] - 1s 31ms/step - loss: 0.7142 - f1: 0.6284 - val_loss: 0.8074 - val_f1: 0.5784\n",
      "Epoch 4/20\n",
      "37/37 [==============================] - 1s 31ms/step - loss: 0.5126 - f1: 0.8339 - val_loss: 0.7474 - val_f1: 0.6453\n",
      "Epoch 5/20\n",
      "37/37 [==============================] - 1s 34ms/step - loss: 0.3497 - f1: 0.9055 - val_loss: 0.6950 - val_f1: 0.6925\n",
      "Epoch 6/20\n",
      "37/37 [==============================] - 1s 33ms/step - loss: 0.2271 - f1: 0.9473 - val_loss: 0.6773 - val_f1: 0.7138\n",
      "Epoch 7/20\n",
      "37/37 [==============================] - 1s 31ms/step - loss: 0.1469 - f1: 0.9698 - val_loss: 0.7063 - val_f1: 0.6968\n",
      "Epoch 8/20\n",
      "37/37 [==============================] - 1s 31ms/step - loss: 0.1042 - f1: 0.9768 - val_loss: 0.7294 - val_f1: 0.7147\n",
      "Epoch 9/20\n",
      "37/37 [==============================] - 1s 33ms/step - loss: 0.0777 - f1: 0.9838 - val_loss: 0.7419 - val_f1: 0.7205\n",
      "Epoch 10/20\n",
      "37/37 [==============================] - 1s 31ms/step - loss: 0.0562 - f1: 0.9896 - val_loss: 0.7820 - val_f1: 0.7250\n",
      "Epoch 11/20\n",
      "37/37 [==============================] - 1s 30ms/step - loss: 0.0424 - f1: 0.9910 - val_loss: 0.8017 - val_f1: 0.7280\n",
      "Epoch 12/20\n",
      "37/37 [==============================] - 1s 30ms/step - loss: 0.0386 - f1: 0.9922 - val_loss: 0.8328 - val_f1: 0.7158\n",
      "Epoch 13/20\n",
      "37/37 [==============================] - 1s 30ms/step - loss: 0.0302 - f1: 0.9945 - val_loss: 0.8483 - val_f1: 0.7267\n",
      "Epoch 14/20\n",
      "37/37 [==============================] - 1s 33ms/step - loss: 0.0285 - f1: 0.9950 - val_loss: 0.8731 - val_f1: 0.7242\n",
      "Epoch 15/20\n",
      "37/37 [==============================] - 1s 31ms/step - loss: 0.0265 - f1: 0.9950 - val_loss: 0.8970 - val_f1: 0.7217\n",
      "Epoch 16/20\n",
      "37/37 [==============================] - 1s 33ms/step - loss: 0.0220 - f1: 0.9950 - val_loss: 0.9184 - val_f1: 0.7194\n",
      "Epoch 17/20\n",
      "37/37 [==============================] - 1s 32ms/step - loss: 0.0191 - f1: 0.9957 - val_loss: 0.9419 - val_f1: 0.7240\n",
      "Epoch 18/20\n",
      "37/37 [==============================] - 1s 31ms/step - loss: 0.0195 - f1: 0.9949 - val_loss: 0.9659 - val_f1: 0.7146\n",
      "Epoch 19/20\n",
      "35/37 [===========================>..] - ETA: 0s - loss: 0.0168 - f1: 0.9959Restoring model weights from the end of the best epoch: 11.\n",
      "37/37 [==============================] - 1s 31ms/step - loss: 0.0171 - f1: 0.9959 - val_loss: 0.9797 - val_f1: 0.7183\n",
      "Epoch 00019: early stopping\n"
     ]
    },
    {
     "data": {
      "text/plain": [
       "<keras.callbacks.History at 0x7fb1b4f22e50>"
      ]
     },
     "execution_count": 60,
     "metadata": {},
     "output_type": "execute_result"
    }
   ],
   "source": [
    "model_ft.fit(X_train_pad, \n",
    "             y_train, \n",
    "             batch_size=128,\n",
    "             epochs=20,\n",
    "             verbose=1,\n",
    "             class_weight=class_weights,\n",
    "             validation_split=0.2,\n",
    "             callbacks=[callbacks])"
   ]
  },
  {
   "cell_type": "code",
   "execution_count": null,
   "metadata": {
    "colab": {
     "base_uri": "https://localhost:8080/"
    },
    "id": "wCLLX3EAT4NO",
    "outputId": "3a530651-ee39-4d5c-8b0c-74027c6d0ff1"
   },
   "outputs": [
    {
     "name": "stdout",
     "output_type": "stream",
     "text": [
      "21/21 [==============================] - 0s 6ms/step - loss: 0.8139 - f1: 0.7324\n",
      "[0.8139183521270752, 0.7324271202087402]\n"
     ]
    }
   ],
   "source": [
    "print(model_ft.evaluate(X_test_pad, y_test))"
   ]
  },
  {
   "cell_type": "code",
   "execution_count": null,
   "metadata": {
    "colab": {
     "base_uri": "https://localhost:8080/"
    },
    "id": "KE9mBrlcUiTH",
    "outputId": "f8407ad8-29a7-44bb-ab11-969db97aec18"
   },
   "outputs": [
    {
     "name": "stdout",
     "output_type": "stream",
     "text": [
      "6/6 [==============================] - 0s 8ms/step\n",
      "              precision    recall  f1-score   support\n",
      "\n",
      "        Hate       0.59      0.55      0.57       155\n",
      "      Normal       0.83      0.81      0.82       371\n",
      "     Abusive       0.64      0.57      0.60       120\n",
      "\n",
      "   micro avg       0.74      0.71      0.72       646\n",
      "   macro avg       0.68      0.65      0.66       646\n",
      "weighted avg       0.73      0.71      0.72       646\n",
      " samples avg       0.71      0.71      0.71       646\n",
      "\n"
     ]
    },
    {
     "name": "stderr",
     "output_type": "stream",
     "text": [
      "/usr/local/lib/python3.7/dist-packages/sklearn/metrics/_classification.py:1308: UndefinedMetricWarning: Precision and F-score are ill-defined and being set to 0.0 in samples with no predicted labels. Use `zero_division` parameter to control this behavior.\n",
      "  _warn_prf(average, modifier, msg_start, len(result))\n"
     ]
    }
   ],
   "source": [
    "y_pred_ft = model_ft.predict(X_test_pad, batch_size=128, verbose=1)\n",
    "y_pred_bool_ft = np.argmax(y_pred, axis=1)\n",
    "y_pred_ft = (y_pred_ft > 0.5)\n",
    "\n",
    "print(classification_report(y_test, y_pred_ft, target_names=(['Hate','Normal','Abusive'])))\n"
   ]
  },
  {
   "cell_type": "code",
   "execution_count": null,
   "metadata": {
    "id": "sXj5owf2Ut0W"
   },
   "outputs": [],
   "source": [
    "from sklearn import metrics\n",
    "metric_ft = metrics.accuracy_score(y_test, y_pred_ft), metrics.f1_score(y_test, y_pred_ft, average='weighted'), metrics.recall_score(y_test, y_pred_ft, average='weighted'), metrics.precision_score(y_test, y_pred_ft, average='weighted')"
   ]
  },
  {
   "cell_type": "code",
   "execution_count": null,
   "metadata": {
    "colab": {
     "base_uri": "https://localhost:8080/",
     "height": 226
    },
    "id": "N49Fe5YsU7NE",
    "outputId": "6a4363a3-191a-4c31-a117-7642df224680"
   },
   "outputs": [
    {
     "data": {
      "text/plain": [
       "(0.0, 1.0)"
      ]
     },
     "execution_count": 64,
     "metadata": {},
     "output_type": "execute_result"
    },
    {
     "data": {
      "image/png": "[encoded data removed]",
      "text/plain": [
       "<Figure size 576x144 with 1 Axes>"
      ]
     },
     "metadata": {
      "needs_background": "light"
     },
     "output_type": "display_data"
    }
   ],
   "source": [
    "fig = plt.figure()\n",
    "fig.set_size_inches(8,2)\n",
    "ax = fig.add_axes([0,0,1,1])\n",
    "rect1 = ax.bar(0.00,round(metric_ft[0], 2), color = 'b', width = 0.05)\n",
    "rect2 = ax.bar(0.20, round(metric_ft[1], 2), color = 'g', width = 0.05)\n",
    "rect3 = ax.bar(0.40, round(metric_ft[2], 2) , color = 'r', width = 0.05)\n",
    "rect4 = ax.bar(0.60, round(metric_ft[3], 2) , color = (1, 0, 1), width = 0.05)\n",
    "\n",
    "ax.set_ylabel('Scores')\n",
    "ax.set_title('metrics')\n",
    "\n",
    "\n",
    "autolabel(rect1)\n",
    "autolabel(rect2)\n",
    "autolabel(rect3)\n",
    "autolabel(rect4)\n",
    "ax.legend(labels=['accuracy', 'f1_score', 'recall', 'precision'],loc='best')\n",
    "plt.ylim(0, 1)"
   ]
  },
  {
   "cell_type": "markdown",
   "metadata": {
    "id": "HiwoyTsPL1PG"
   },
   "source": [
    "### Training on Aravec Embedding Only"
   ]
  },
  {
   "cell_type": "code",
   "execution_count": null,
   "metadata": {
    "id": "vTBADyXfL1PN"
   },
   "outputs": [],
   "source": [
    "keras.backend.clear_session()"
   ]
  },
  {
   "cell_type": "code",
   "execution_count": null,
   "metadata": {
    "id": "lglZwmCfL1PO"
   },
   "outputs": [],
   "source": [
    "inp=Input(shape=(maxlen, ))\n",
    "x=Embedding(vocab_size + 1,embed_size,embeddings_initializer=Constant(aravec_emb),#Set Fasttext Embedding\n",
    "            input_length=maxlen,trainable=True)(inp)\n",
    "x = SpatialDropout1D(0.2)(x)\n",
    "# x=Bidirectional(GRU(150, return_sequences = True))(x)\n",
    "x=Conv1D(filters=32, kernel_size=3, padding='valid', activation='relu')(x) \n",
    "avg_pool = GlobalAveragePooling1D()(x)\n",
    "max_pool = GlobalMaxPool1D()(x)\n",
    "conc = concatenate([avg_pool, max_pool])\n",
    "\n",
    "\n",
    "x=Dropout(0.1)(conc)\n",
    "out=Dense(64, activation=\"relu\")(x)\n",
    "out=Dense(32, activation=\"relu\")(x)\n",
    "\n",
    "out=Dense(3, activation=\"softmax\")(x)\n",
    "\n",
    "model_arav=Model(inp,out)\n",
    "\n",
    "mcp_save = ModelCheckpoint('model_aravec.mdl_wts.hdf5', save_best_only=True,\n",
    "                           monitor='val_loss', mode='min',patience = 5)\n"
   ]
  },
  {
   "cell_type": "code",
   "execution_count": null,
   "metadata": {
    "id": "FvKap_oBL1PO"
   },
   "outputs": [],
   "source": [
    "model_arav.compile(loss=tf.keras.losses.CategoricalCrossentropy(), optimizer=tf.keras.optimizers.Adam(), metrics=[f1])"
   ]
  },
  {
   "cell_type": "code",
   "execution_count": null,
   "metadata": {
    "colab": {
     "base_uri": "https://localhost:8080/"
    },
    "id": "5lo1wLfQL1PO",
    "outputId": "9d6ea489-bc92-4925-85be-06843033a656"
   },
   "outputs": [
    {
     "name": "stdout",
     "output_type": "stream",
     "text": [
      "Model: \"model\"\n",
      "__________________________________________________________________________________________________\n",
      " Layer (type)                   Output Shape         Param #     Connected to                     \n",
      "==================================================================================================\n",
      " input_1 (InputLayer)           [(None, 388)]        0           []                               \n",
      "                                                                                                  \n",
      " embedding (Embedding)          (None, 388, 300)     4400400     ['input_1[0][0]']                \n",
      "                                                                                                  \n",
      " spatial_dropout1d (SpatialDrop  (None, 388, 300)    0           ['embedding[0][0]']              \n",
      " out1D)                                                                                           \n",
      "                                                                                                  \n",
      " conv1d (Conv1D)                (None, 386, 32)      28832       ['spatial_dropout1d[0][0]']      \n",
      "                                                                                                  \n",
      " global_average_pooling1d (Glob  (None, 32)          0           ['conv1d[0][0]']                 \n",
      " alAveragePooling1D)                                                                              \n",
      "                                                                                                  \n",
      " global_max_pooling1d (GlobalMa  (None, 32)          0           ['conv1d[0][0]']                 \n",
      " xPooling1D)                                                                                      \n",
      "                                                                                                  \n",
      " concatenate (Concatenate)      (None, 64)           0           ['global_average_pooling1d[0][0]'\n",
      "                                                                 , 'global_max_pooling1d[0][0]']  \n",
      "                                                                                                  \n",
      " dropout (Dropout)              (None, 64)           0           ['concatenate[0][0]']            \n",
      "                                                                                                  \n",
      " dense_2 (Dense)                (None, 3)            195         ['dropout[0][0]']                \n",
      "                                                                                                  \n",
      "==================================================================================================\n",
      "Total params: 4,429,427\n",
      "Trainable params: 4,429,427\n",
      "Non-trainable params: 0\n",
      "__________________________________________________________________________________________________\n"
     ]
    }
   ],
   "source": [
    "model_arav.summary()"
   ]
  },
  {
   "cell_type": "code",
   "execution_count": null,
   "metadata": {
    "colab": {
     "base_uri": "https://localhost:8080/"
    },
    "id": "2OEErZqOL1PO",
    "outputId": "b6a48705-7ffe-4734-f9f6-0cdad7605e03"
   },
   "outputs": [
    {
     "name": "stdout",
     "output_type": "stream",
     "text": [
      "Epoch 1/20\n",
      "37/37 [==============================] - 2s 42ms/step - loss: 1.1594 - f1: 0.3511 - val_loss: 0.9754 - val_f1: 0.4113\n",
      "Epoch 2/20\n",
      "37/37 [==============================] - 1s 32ms/step - loss: 0.9353 - f1: 0.4663 - val_loss: 0.9270 - val_f1: 0.4903\n",
      "Epoch 3/20\n",
      "37/37 [==============================] - 1s 32ms/step - loss: 0.8412 - f1: 0.5425 - val_loss: 0.8664 - val_f1: 0.5439\n",
      "Epoch 4/20\n",
      "37/37 [==============================] - 1s 31ms/step - loss: 0.7667 - f1: 0.6005 - val_loss: 0.8261 - val_f1: 0.5919\n",
      "Epoch 5/20\n",
      "37/37 [==============================] - 1s 31ms/step - loss: 0.7162 - f1: 0.6504 - val_loss: 0.8617 - val_f1: 0.5774\n",
      "Epoch 6/20\n",
      "37/37 [==============================] - 1s 31ms/step - loss: 0.6531 - f1: 0.6880 - val_loss: 0.8228 - val_f1: 0.6104\n",
      "Epoch 7/20\n",
      "37/37 [==============================] - 1s 30ms/step - loss: 0.5957 - f1: 0.7358 - val_loss: 0.8269 - val_f1: 0.6058\n",
      "Epoch 8/20\n",
      "37/37 [==============================] - 1s 30ms/step - loss: 0.5422 - f1: 0.7894 - val_loss: 0.8205 - val_f1: 0.6090\n",
      "Epoch 9/20\n",
      "37/37 [==============================] - 1s 33ms/step - loss: 0.4778 - f1: 0.8290 - val_loss: 0.8051 - val_f1: 0.6543\n",
      "Epoch 10/20\n",
      "37/37 [==============================] - 1s 32ms/step - loss: 0.4409 - f1: 0.8510 - val_loss: 0.8197 - val_f1: 0.6255\n",
      "Epoch 11/20\n",
      "37/37 [==============================] - 1s 33ms/step - loss: 0.3840 - f1: 0.8779 - val_loss: 0.7837 - val_f1: 0.6674\n",
      "Epoch 12/20\n",
      "37/37 [==============================] - 1s 32ms/step - loss: 0.3355 - f1: 0.8969 - val_loss: 0.8109 - val_f1: 0.6614\n",
      "Epoch 13/20\n",
      "37/37 [==============================] - 1s 30ms/step - loss: 0.2882 - f1: 0.9142 - val_loss: 0.7682 - val_f1: 0.6985\n",
      "Epoch 14/20\n",
      "37/37 [==============================] - 1s 31ms/step - loss: 0.2647 - f1: 0.9218 - val_loss: 0.7886 - val_f1: 0.6848\n",
      "Epoch 15/20\n",
      "37/37 [==============================] - 1s 32ms/step - loss: 0.2267 - f1: 0.9344 - val_loss: 0.7762 - val_f1: 0.6972\n",
      "Epoch 16/20\n",
      "37/37 [==============================] - 1s 30ms/step - loss: 0.1918 - f1: 0.9469 - val_loss: 0.8123 - val_f1: 0.6783\n",
      "Epoch 17/20\n",
      "37/37 [==============================] - 1s 33ms/step - loss: 0.1722 - f1: 0.9519 - val_loss: 0.8032 - val_f1: 0.6918\n",
      "Epoch 18/20\n",
      "37/37 [==============================] - 1s 31ms/step - loss: 0.1601 - f1: 0.9549 - val_loss: 0.8329 - val_f1: 0.6807\n",
      "Epoch 19/20\n",
      "37/37 [==============================] - 1s 31ms/step - loss: 0.1303 - f1: 0.9649 - val_loss: 0.7996 - val_f1: 0.6994\n",
      "Epoch 20/20\n",
      "37/37 [==============================] - 1s 33ms/step - loss: 0.1219 - f1: 0.9682 - val_loss: 0.8016 - val_f1: 0.7029\n"
     ]
    },
    {
     "data": {
      "text/plain": [
       "<keras.callbacks.History at 0x7fb1b3b8cf50>"
      ]
     },
     "execution_count": 69,
     "metadata": {},
     "output_type": "execute_result"
    }
   ],
   "source": [
    "model_arav.fit(X_train_pad, \n",
    "             y_train, \n",
    "             batch_size=128,\n",
    "             epochs=20,\n",
    "             verbose=1,\n",
    "             class_weight=class_weights,\n",
    "             validation_split=0.2,\n",
    "             callbacks=[callbacks])"
   ]
  },
  {
   "cell_type": "code",
   "execution_count": null,
   "metadata": {
    "colab": {
     "base_uri": "https://localhost:8080/"
    },
    "id": "wbfQt6KkL1PO",
    "outputId": "a064e779-f69b-415e-f283-cfac576e266f"
   },
   "outputs": [
    {
     "name": "stdout",
     "output_type": "stream",
     "text": [
      "21/21 [==============================] - 0s 5ms/step - loss: 0.8381 - f1: 0.7246\n",
      "[0.8380617499351501, 0.724568247795105]\n"
     ]
    }
   ],
   "source": [
    "print(model_arav.evaluate(X_test_pad, y_test))"
   ]
  },
  {
   "cell_type": "code",
   "execution_count": null,
   "metadata": {
    "colab": {
     "base_uri": "https://localhost:8080/"
    },
    "id": "010SEUGvL1PO",
    "outputId": "9087a6ad-a0f0-48ab-d97d-ac9530a89baf"
   },
   "outputs": [
    {
     "name": "stdout",
     "output_type": "stream",
     "text": [
      "6/6 [==============================] - 0s 8ms/step\n",
      "              precision    recall  f1-score   support\n",
      "\n",
      "        Hate       0.60      0.52      0.55       155\n",
      "      Normal       0.80      0.81      0.81       371\n",
      "     Abusive       0.66      0.57      0.61       120\n",
      "\n",
      "   micro avg       0.73      0.70      0.71       646\n",
      "   macro avg       0.69      0.63      0.66       646\n",
      "weighted avg       0.73      0.70      0.71       646\n",
      " samples avg       0.70      0.70      0.70       646\n",
      "\n"
     ]
    },
    {
     "name": "stderr",
     "output_type": "stream",
     "text": [
      "/usr/local/lib/python3.7/dist-packages/sklearn/metrics/_classification.py:1308: UndefinedMetricWarning: Precision and F-score are ill-defined and being set to 0.0 in samples with no predicted labels. Use `zero_division` parameter to control this behavior.\n",
      "  _warn_prf(average, modifier, msg_start, len(result))\n"
     ]
    }
   ],
   "source": [
    "y_pred_arav = model_arav.predict(X_test_pad, batch_size=128, verbose=1)\n",
    "y_pred_bool_ft = np.argmax(y_pred, axis=1)\n",
    "y_pred_arav = (y_pred_arav > 0.5)\n",
    "\n",
    "print(classification_report(y_test, y_pred_arav, target_names=(['Hate','Normal','Abusive'])))\n"
   ]
  },
  {
   "cell_type": "code",
   "execution_count": null,
   "metadata": {
    "id": "2684IryML1PO"
   },
   "outputs": [],
   "source": [
    "from sklearn import metrics\n",
    "metric_arav = metrics.accuracy_score(y_test, y_pred_arav), metrics.f1_score(y_test, y_pred_arav, average='weighted'), metrics.recall_score(y_test, y_pred_arav, average='weighted'), metrics.precision_score(y_test, y_pred_arav, average='weighted')"
   ]
  },
  {
   "cell_type": "code",
   "execution_count": null,
   "metadata": {
    "colab": {
     "base_uri": "https://localhost:8080/"
    },
    "id": "a969R2UNL1PO",
    "outputId": "52816724-61e6-476e-e1ab-e25255a18f83"
   },
   "outputs": [
    {
     "data": {
      "text/plain": [
       "(0.0, 1.0)"
      ]
     },
     "execution_count": 73,
     "metadata": {},
     "output_type": "execute_result"
    },
    {
     "data": {
      "image/png": "[encoded data removed]",
      "text/plain": [
       "<Figure size 576x144 with 1 Axes>"
      ]
     },
     "metadata": {
      "needs_background": "light"
     },
     "output_type": "display_data"
    }
   ],
   "source": [
    "fig = plt.figure()\n",
    "fig.set_size_inches(8,2)\n",
    "ax = fig.add_axes([0,0,1,1])\n",
    "rect1 = ax.bar(0.00,round(metric_arav[0], 2), color = 'b', width = 0.05)\n",
    "rect2 = ax.bar(0.20, round(metric_arav[1], 2), color = 'g', width = 0.05)\n",
    "rect3 = ax.bar(0.40, round(metric_arav[2], 2) , color = 'r', width = 0.05)\n",
    "rect4 = ax.bar(0.60, round(metric_arav[3], 2) , color = (1, 0, 1), width = 0.05)\n",
    "\n",
    "ax.set_ylabel('Scores')\n",
    "ax.set_title('metrics')\n",
    "\n",
    "\n",
    "autolabel(rect1)\n",
    "autolabel(rect2)\n",
    "autolabel(rect3)\n",
    "autolabel(rect4)\n",
    "ax.legend(labels=['accuracy', 'f1_score', 'recall', 'precision'],loc='best')\n",
    "plt.ylim(0, 1)"
   ]
  },
  {
   "cell_type": "markdown",
   "metadata": {
    "id": "l6ud_gVNWd4a"
   },
   "source": [
    "### Comparing the three results"
   ]
  },
  {
   "cell_type": "code",
   "execution_count": null,
   "metadata": {
    "id": "UAPfKBxEYLV5"
   },
   "outputs": [],
   "source": [
    "Data = [('Fasttext',) + metric_ft  ,\n",
    "        ('AraVec',)+ metric_arav ,\n",
    "         ('Fasttext + AraVec',)+ metric ]"
   ]
  },
  {
   "cell_type": "code",
   "execution_count": null,
   "metadata": {
    "id": "d6UM1nPKWkH6"
   },
   "outputs": [],
   "source": [
    "Results = pd.DataFrame(data =  Data , columns=['Embedding','Accuracy','F1_score','Recall','Precision'])"
   ]
  },
  {
   "cell_type": "code",
   "execution_count": null,
   "metadata": {
    "colab": {
     "base_uri": "https://localhost:8080/",
     "height": 143
    },
    "id": "lDLH9XzeXAUp",
    "outputId": "052ee62e-8824-4272-920d-836f67dee005"
   },
   "outputs": [
    {
     "data": {
      "text/html": [
       "\n",
       "  <div id=\"df-21f2a37d-84e8-4d11-bd73-32b21805aad0\">\n",
       "    <div class=\"colab-df-container\">\n",
       "      <div>\n",
       "<style scoped>\n",
       "    .dataframe tbody tr th:only-of-type {\n",
       "        vertical-align: middle;\n",
       "    }\n",
       "\n",
       "    .dataframe tbody tr th {\n",
       "        vertical-align: top;\n",
       "    }\n",
       "\n",
       "    .dataframe thead th {\n",
       "        text-align: right;\n",
       "    }\n",
       "</style>\n",
       "<table border=\"1\" class=\"dataframe\">\n",
       "  <thead>\n",
       "    <tr style=\"text-align: right;\">\n",
       "      <th></th>\n",
       "      <th>Embedding</th>\n",
       "      <th>Accuracy</th>\n",
       "      <th>F1_score</th>\n",
       "      <th>Recall</th>\n",
       "      <th>Precision</th>\n",
       "    </tr>\n",
       "  </thead>\n",
       "  <tbody>\n",
       "    <tr>\n",
       "      <th>0</th>\n",
       "      <td>Fasttext</td>\n",
       "      <td>0.705882</td>\n",
       "      <td>0.719702</td>\n",
       "      <td>0.705882</td>\n",
       "      <td>0.734563</td>\n",
       "    </tr>\n",
       "    <tr>\n",
       "      <th>1</th>\n",
       "      <td>AraVec</td>\n",
       "      <td>0.695046</td>\n",
       "      <td>0.709296</td>\n",
       "      <td>0.695046</td>\n",
       "      <td>0.725988</td>\n",
       "    </tr>\n",
       "    <tr>\n",
       "      <th>2</th>\n",
       "      <td>Fasttext + AraVec</td>\n",
       "      <td>0.722910</td>\n",
       "      <td>0.728372</td>\n",
       "      <td>0.722910</td>\n",
       "      <td>0.735046</td>\n",
       "    </tr>\n",
       "  </tbody>\n",
       "</table>\n",
       "</div>\n",
       "      <button class=\"colab-df-convert\" onclick=\"convertToInteractive('df-21f2a37d-84e8-4d11-bd73-32b21805aad0')\"\n",
       "              title=\"Convert this dataframe to an interactive table.\"\n",
       "              style=\"display:none;\">\n",
       "        \n",
       "  <svg xmlns=\"http://www.w3.org/2000/svg\" height=\"24px\"viewBox=\"0 0 24 24\"\n",
       "       width=\"24px\">\n",
       "    <path d=\"M0 0h24v24H0V0z\" fill=\"none\"/>\n",
       "    <path d=\"M18.56 5.44l.94 2.06.94-2.06 2.06-.94-2.06-.94-.94-2.06-.94 2.06-2.06.94zm-11 1L8.5 8.5l.94-2.06 2.06-.94-2.06-.94L8.5 2.5l-.94 2.06-2.06.94zm10 10l.94 2.06.94-2.06 2.06-.94-2.06-.94-.94-2.06-.94 2.06-2.06.94z\"/><path d=\"M17.41 7.96l-1.37-1.37c-.4-.4-.92-.59-1.43-.59-.52 0-1.04.2-1.43.59L10.3 9.45l-7.72 7.72c-.78.78-.78 2.05 0 2.83L4 21.41c.39.39.9.59 1.41.59.51 0 1.02-.2 1.41-.59l7.78-7.78 2.81-2.81c.8-.78.8-2.07 0-2.86zM5.41 20L4 18.59l7.72-7.72 1.47 1.35L5.41 20z\"/>\n",
       "  </svg>\n",
       "      </button>\n",
       "      \n",
       "  <style>\n",
       "    .colab-df-container {\n",
       "      display:flex;\n",
       "      flex-wrap:wrap;\n",
       "      gap: 12px;\n",
       "    }\n",
       "\n",
       "    .colab-df-convert {\n",
       "      background-color: #E8F0FE;\n",
       "      border: none;\n",
       "      border-radius: 50%;\n",
       "      cursor: pointer;\n",
       "      display: none;\n",
       "      fill: #1967D2;\n",
       "      height: 32px;\n",
       "      padding: 0 0 0 0;\n",
       "      width: 32px;\n",
       "    }\n",
       "\n",
       "    .colab-df-convert:hover {\n",
       "      background-color: #E2EBFA;\n",
       "      box-shadow: 0px 1px 2px rgba(60, 64, 67, 0.3), 0px 1px 3px 1px rgba(60, 64, 67, 0.15);\n",
       "      fill: #174EA6;\n",
       "    }\n",
       "\n",
       "    [theme=dark] .colab-df-convert {\n",
       "      background-color: #3B4455;\n",
       "      fill: #D2E3FC;\n",
       "    }\n",
       "\n",
       "    [theme=dark] .colab-df-convert:hover {\n",
       "      background-color: #434B5C;\n",
       "      box-shadow: 0px 1px 3px 1px rgba(0, 0, 0, 0.15);\n",
       "      filter: drop-shadow(0px 1px 2px rgba(0, 0, 0, 0.3));\n",
       "      fill: #FFFFFF;\n",
       "    }\n",
       "  </style>\n",
       "\n",
       "      <script>\n",
       "        const buttonEl =\n",
       "          document.querySelector('#df-21f2a37d-84e8-4d11-bd73-32b21805aad0 button.colab-df-convert');\n",
       "        buttonEl.style.display =\n",
       "          google.colab.kernel.accessAllowed ? 'block' : 'none';\n",
       "\n",
       "        async function convertToInteractive(key) {\n",
       "          const element = document.querySelector('#df-21f2a37d-84e8-4d11-bd73-32b21805aad0');\n",
       "          const dataTable =\n",
       "            await google.colab.kernel.invokeFunction('convertToInteractive',\n",
       "                                                     [key], {});\n",
       "          if (!dataTable) return;\n",
       "\n",
       "          const docLinkHtml = 'Like what you see? Visit the ' +\n",
       "            '<a target=\"_blank\" href=https://colab.research.google.com/notebooks/data_table.ipynb>data table notebook</a>'\n",
       "            + ' to learn more about interactive tables.';\n",
       "          element.innerHTML = '';\n",
       "          dataTable['output_type'] = 'display_data';\n",
       "          await google.colab.output.renderOutput(dataTable, element);\n",
       "          const docLink = document.createElement('div');\n",
       "          docLink.innerHTML = docLinkHtml;\n",
       "          element.appendChild(docLink);\n",
       "        }\n",
       "      </script>\n",
       "    </div>\n",
       "  </div>\n",
       "  "
      ],
      "text/plain": [
       "           Embedding  Accuracy  F1_score    Recall  Precision\n",
       "0           Fasttext  0.705882  0.719702  0.705882   0.734563\n",
       "1             AraVec  0.695046  0.709296  0.695046   0.725988\n",
       "2  Fasttext + AraVec  0.722910  0.728372  0.722910   0.735046"
      ]
     },
     "execution_count": 76,
     "metadata": {},
     "output_type": "execute_result"
    }
   ],
   "source": [
    "Results"
   ]
  }
 ],
 "metadata": {
  "accelerator": "GPU",
  "colab": {
   "collapsed_sections": [
    "ZwFFlBGFR2tv",
    "Bpb35nPlTI1g",
    "HiwoyTsPL1PG"
   ],
   "name": "NLP_fasttext_Aravec_CNN-Embedding_TUNISIAN.ipynb",
   "provenance": []
  },
  "kernelspec": {
   "display_name": "Python 3 (ipykernel)",
   "language": "python",
   "name": "python3"
  },
  "language_info": {
   "codemirror_mode": {
    "name": "ipython",
    "version": 3
   },
   "file_extension": ".py",
   "mimetype": "text/x-python",
   "name": "python",
   "nbconvert_exporter": "python",
   "pygments_lexer": "ipython3",
   "version": "3.10.3"
  }
 },
 "nbformat": 4,
 "nbformat_minor": 1
}
