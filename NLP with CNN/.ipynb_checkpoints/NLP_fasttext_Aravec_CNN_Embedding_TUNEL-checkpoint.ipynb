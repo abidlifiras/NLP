{
 "cells": [
  {
   "cell_type": "markdown",
   "metadata": {
    "id": "Phxed_BSSB7-"
   },
   "source": [
    "# TUNEL Dataset"
   ]
  },
  {
   "cell_type": "code",
   "execution_count": null,
   "metadata": {
    "colab": {
     "base_uri": "https://localhost:8080/"
    },
    "id": "6pkvGyUqqCMG",
    "outputId": "7534a256-8a7c-4407-8fc3-a01d77f88c95"
   },
   "outputs": [
    {
     "name": "stdout",
     "output_type": "stream",
     "text": [
      "Mounted at /content/drive\n"
     ]
    }
   ],
   "source": [
    "from google.colab import drive\n",
    "drive._mount('/content/drive')"
   ]
  },
  {
   "cell_type": "code",
   "execution_count": null,
   "metadata": {
    "colab": {
     "base_uri": "https://localhost:8080/"
    },
    "id": "fnOwTGAXpLvI",
    "outputId": "32675ed8-66a6-422f-853d-2ce8f3250059"
   },
   "outputs": [
    {
     "name": "stdout",
     "output_type": "stream",
     "text": [
      "[nltk_data] Downloading package stopwords to /root/nltk_data...\n",
      "[nltk_data]   Unzipping corpora/stopwords.zip.\n",
      "[nltk_data] Downloading package wordnet to /root/nltk_data...\n",
      "[nltk_data]   Unzipping corpora/wordnet.zip.\n"
     ]
    },
    {
     "data": {
      "text/plain": [
       "True"
      ]
     },
     "execution_count": 2,
     "metadata": {},
     "output_type": "execute_result"
    }
   ],
   "source": [
    "from tensorflow import keras\n",
    "import numpy as np\n",
    "import re\n",
    "import nltk\n",
    "from nltk.corpus import stopwords\n",
    "import string\n",
    "import pandas as pd\n",
    "from nltk.stem import WordNetLemmatizer\n",
    "from nltk.corpus import stopwords\n",
    "nltk.download('stopwords')\n",
    "nltk.download('wordnet')"
   ]
  },
  {
   "cell_type": "code",
   "execution_count": null,
   "metadata": {
    "id": "qpYZxDnjpo32"
   },
   "outputs": [],
   "source": [
    "train=pd.read_excel('/content/drive/MyDrive/FastText_Aravec_Arabic_embeddings/final-dataset.xlsx')\n",
    "# test=pd.read_excel('/content/drive/MyDrive/kaggle-nabil-badri/Text Classification Notebooks/BI-GRU/MyArticle-dataset-arabe/dataset1and2.xlsx')\n",
    "label=pd.read_excel('/content/drive/MyDrive/FastText_Aravec_Arabic_embeddings/final-dataset.xlsx',header=None).iloc[:,-1]\n",
    "#OFF=0 \n",
    "#NOT=1"
   ]
  },
  {
   "cell_type": "code",
   "execution_count": null,
   "metadata": {
    "colab": {
     "base_uri": "https://localhost:8080/",
     "height": 423
    },
    "id": "NLkeXb_2qC2T",
    "outputId": "52d73d46-4310-44e2-cb42-2697083fec73"
   },
   "outputs": [
    {
     "data": {
      "text/html": [
       "\n",
       "  <div id=\"df-89058426-6d80-4bbb-86b8-48209d7440ec\">\n",
       "    <div class=\"colab-df-container\">\n",
       "      <div>\n",
       "<style scoped>\n",
       "    .dataframe tbody tr th:only-of-type {\n",
       "        vertical-align: middle;\n",
       "    }\n",
       "\n",
       "    .dataframe tbody tr th {\n",
       "        vertical-align: top;\n",
       "    }\n",
       "\n",
       "    .dataframe thead th {\n",
       "        text-align: right;\n",
       "    }\n",
       "</style>\n",
       "<table border=\"1\" class=\"dataframe\">\n",
       "  <thead>\n",
       "    <tr style=\"text-align: right;\">\n",
       "      <th></th>\n",
       "      <th>commentaire</th>\n",
       "      <th>classe</th>\n",
       "      <th>word_count</th>\n",
       "    </tr>\n",
       "  </thead>\n",
       "  <tbody>\n",
       "    <tr>\n",
       "      <th>0</th>\n",
       "      <td>مبروك و سامحونا لعجزنا التام. عقبال اللي جوه. ...</td>\n",
       "      <td>normal</td>\n",
       "      <td>16</td>\n",
       "    </tr>\n",
       "    <tr>\n",
       "      <th>1</th>\n",
       "      <td>كلنا بره ومش هنبطل نزايد على العجايز الي جابون...</td>\n",
       "      <td>hate</td>\n",
       "      <td>10</td>\n",
       "    </tr>\n",
       "    <tr>\n",
       "      <th>2</th>\n",
       "      <td>بدل ما انت قاعد بره كده تعالي ازرع الصحرا</td>\n",
       "      <td>normal</td>\n",
       "      <td>9</td>\n",
       "    </tr>\n",
       "    <tr>\n",
       "      <th>3</th>\n",
       "      <td>قذر اتفووو ماتيجى مصر وتورينا نفسك كدا ياجبان</td>\n",
       "      <td>hate</td>\n",
       "      <td>8</td>\n",
       "    </tr>\n",
       "    <tr>\n",
       "      <th>4</th>\n",
       "      <td>وهكذا رجال الشو اللي محرومين من عمل برنامج الغ...</td>\n",
       "      <td>hate</td>\n",
       "      <td>16</td>\n",
       "    </tr>\n",
       "    <tr>\n",
       "      <th>...</th>\n",
       "      <td>...</td>\n",
       "      <td>...</td>\n",
       "      <td>...</td>\n",
       "    </tr>\n",
       "    <tr>\n",
       "      <th>23028</th>\n",
       "      <td>يلا ولا خنزير الله يرحم صدام حسين لي كان داعسكن</td>\n",
       "      <td>hate</td>\n",
       "      <td>10</td>\n",
       "    </tr>\n",
       "    <tr>\n",
       "      <th>23029</th>\n",
       "      <td>وبلدك سوريا لا تبغي سوا القتل والاجرام</td>\n",
       "      <td>hate</td>\n",
       "      <td>7</td>\n",
       "    </tr>\n",
       "    <tr>\n",
       "      <th>23030</th>\n",
       "      <td>معالي الوزير نؤمن بك دائما لأنك الدرع المنيع ف...</td>\n",
       "      <td>normal</td>\n",
       "      <td>14</td>\n",
       "    </tr>\n",
       "    <tr>\n",
       "      <th>23031</th>\n",
       "      <td>حياة سندي مستشارة امين عام الامم المتحدة بان ك...</td>\n",
       "      <td>normal</td>\n",
       "      <td>13</td>\n",
       "    </tr>\n",
       "    <tr>\n",
       "      <th>23032</th>\n",
       "      <td>انت يا جبران باسيل بعقليتك الفجة النتنة تقولرب...</td>\n",
       "      <td>hate</td>\n",
       "      <td>11</td>\n",
       "    </tr>\n",
       "  </tbody>\n",
       "</table>\n",
       "<p>23033 rows × 3 columns</p>\n",
       "</div>\n",
       "      <button class=\"colab-df-convert\" onclick=\"convertToInteractive('df-89058426-6d80-4bbb-86b8-48209d7440ec')\"\n",
       "              title=\"Convert this dataframe to an interactive table.\"\n",
       "              style=\"display:none;\">\n",
       "        \n",
       "  <svg xmlns=\"http://www.w3.org/2000/svg\" height=\"24px\"viewBox=\"0 0 24 24\"\n",
       "       width=\"24px\">\n",
       "    <path d=\"M0 0h24v24H0V0z\" fill=\"none\"/>\n",
       "    <path d=\"M18.56 5.44l.94 2.06.94-2.06 2.06-.94-2.06-.94-.94-2.06-.94 2.06-2.06.94zm-11 1L8.5 8.5l.94-2.06 2.06-.94-2.06-.94L8.5 2.5l-.94 2.06-2.06.94zm10 10l.94 2.06.94-2.06 2.06-.94-2.06-.94-.94-2.06-.94 2.06-2.06.94z\"/><path d=\"M17.41 7.96l-1.37-1.37c-.4-.4-.92-.59-1.43-.59-.52 0-1.04.2-1.43.59L10.3 9.45l-7.72 7.72c-.78.78-.78 2.05 0 2.83L4 21.41c.39.39.9.59 1.41.59.51 0 1.02-.2 1.41-.59l7.78-7.78 2.81-2.81c.8-.78.8-2.07 0-2.86zM5.41 20L4 18.59l7.72-7.72 1.47 1.35L5.41 20z\"/>\n",
       "  </svg>\n",
       "      </button>\n",
       "      \n",
       "  <style>\n",
       "    .colab-df-container {\n",
       "      display:flex;\n",
       "      flex-wrap:wrap;\n",
       "      gap: 12px;\n",
       "    }\n",
       "\n",
       "    .colab-df-convert {\n",
       "      background-color: #E8F0FE;\n",
       "      border: none;\n",
       "      border-radius: 50%;\n",
       "      cursor: pointer;\n",
       "      display: none;\n",
       "      fill: #1967D2;\n",
       "      height: 32px;\n",
       "      padding: 0 0 0 0;\n",
       "      width: 32px;\n",
       "    }\n",
       "\n",
       "    .colab-df-convert:hover {\n",
       "      background-color: #E2EBFA;\n",
       "      box-shadow: 0px 1px 2px rgba(60, 64, 67, 0.3), 0px 1px 3px 1px rgba(60, 64, 67, 0.15);\n",
       "      fill: #174EA6;\n",
       "    }\n",
       "\n",
       "    [theme=dark] .colab-df-convert {\n",
       "      background-color: #3B4455;\n",
       "      fill: #D2E3FC;\n",
       "    }\n",
       "\n",
       "    [theme=dark] .colab-df-convert:hover {\n",
       "      background-color: #434B5C;\n",
       "      box-shadow: 0px 1px 3px 1px rgba(0, 0, 0, 0.15);\n",
       "      filter: drop-shadow(0px 1px 2px rgba(0, 0, 0, 0.3));\n",
       "      fill: #FFFFFF;\n",
       "    }\n",
       "  </style>\n",
       "\n",
       "      <script>\n",
       "        const buttonEl =\n",
       "          document.querySelector('#df-89058426-6d80-4bbb-86b8-48209d7440ec button.colab-df-convert');\n",
       "        buttonEl.style.display =\n",
       "          google.colab.kernel.accessAllowed ? 'block' : 'none';\n",
       "\n",
       "        async function convertToInteractive(key) {\n",
       "          const element = document.querySelector('#df-89058426-6d80-4bbb-86b8-48209d7440ec');\n",
       "          const dataTable =\n",
       "            await google.colab.kernel.invokeFunction('convertToInteractive',\n",
       "                                                     [key], {});\n",
       "          if (!dataTable) return;\n",
       "\n",
       "          const docLinkHtml = 'Like what you see? Visit the ' +\n",
       "            '<a target=\"_blank\" href=https://colab.research.google.com/notebooks/data_table.ipynb>data table notebook</a>'\n",
       "            + ' to learn more about interactive tables.';\n",
       "          element.innerHTML = '';\n",
       "          dataTable['output_type'] = 'display_data';\n",
       "          await google.colab.output.renderOutput(dataTable, element);\n",
       "          const docLink = document.createElement('div');\n",
       "          docLink.innerHTML = docLinkHtml;\n",
       "          element.appendChild(docLink);\n",
       "        }\n",
       "      </script>\n",
       "    </div>\n",
       "  </div>\n",
       "  "
      ],
      "text/plain": [
       "                                             commentaire  classe  word_count\n",
       "0      مبروك و سامحونا لعجزنا التام. عقبال اللي جوه. ...  normal          16\n",
       "1      كلنا بره ومش هنبطل نزايد على العجايز الي جابون...    hate          10\n",
       "2              بدل ما انت قاعد بره كده تعالي ازرع الصحرا  normal           9\n",
       "3          قذر اتفووو ماتيجى مصر وتورينا نفسك كدا ياجبان    hate           8\n",
       "4      وهكذا رجال الشو اللي محرومين من عمل برنامج الغ...    hate          16\n",
       "...                                                  ...     ...         ...\n",
       "23028    يلا ولا خنزير الله يرحم صدام حسين لي كان داعسكن    hate          10\n",
       "23029            وبلدك سوريا لا تبغي سوا القتل والاجرام     hate           7\n",
       "23030  معالي الوزير نؤمن بك دائما لأنك الدرع المنيع ف...  normal          14\n",
       "23031  حياة سندي مستشارة امين عام الامم المتحدة بان ك...  normal          13\n",
       "23032  انت يا جبران باسيل بعقليتك الفجة النتنة تقولرب...    hate          11\n",
       "\n",
       "[23033 rows x 3 columns]"
      ]
     },
     "execution_count": 4,
     "metadata": {},
     "output_type": "execute_result"
    }
   ],
   "source": [
    "train['word_count'] = train['commentaire'].apply(lambda x : len(x.split()))\n",
    "train"
   ]
  },
  {
   "cell_type": "code",
   "execution_count": null,
   "metadata": {
    "id": "y34AftTfjFPS"
   },
   "outputs": [],
   "source": [
    "# #Encoding\n",
    "# df.label.replace({'normal':0,'abusive':1,'spam':2,'hateful':3},inplace=True)\n",
    "# df.head()"
   ]
  },
  {
   "cell_type": "code",
   "execution_count": null,
   "metadata": {
    "colab": {
     "base_uri": "https://localhost:8080/",
     "height": 112
    },
    "id": "g8D5pStLqgzi",
    "outputId": "1f0471df-c418-45e8-ffcc-7155f3d58693"
   },
   "outputs": [
    {
     "data": {
      "text/html": [
       "\n",
       "  <div id=\"df-b6a83e73-365b-4054-a81e-129ad9e29c54\">\n",
       "    <div class=\"colab-df-container\">\n",
       "      <div>\n",
       "<style scoped>\n",
       "    .dataframe tbody tr th:only-of-type {\n",
       "        vertical-align: middle;\n",
       "    }\n",
       "\n",
       "    .dataframe tbody tr th {\n",
       "        vertical-align: top;\n",
       "    }\n",
       "\n",
       "    .dataframe thead th {\n",
       "        text-align: right;\n",
       "    }\n",
       "</style>\n",
       "<table border=\"1\" class=\"dataframe\">\n",
       "  <thead>\n",
       "    <tr style=\"text-align: right;\">\n",
       "      <th></th>\n",
       "      <th>commentaire</th>\n",
       "      <th>classe</th>\n",
       "      <th>word_count</th>\n",
       "    </tr>\n",
       "  </thead>\n",
       "  <tbody>\n",
       "    <tr>\n",
       "      <th>8233</th>\n",
       "      <td>صديقتي أمال اقرئي تعليقي سمحتي صدقيني صدقيني ا...</td>\n",
       "      <td>normal</td>\n",
       "      <td>388</td>\n",
       "    </tr>\n",
       "    <tr>\n",
       "      <th>9481</th>\n",
       "      <td>صديقتي أمال اقرئي تعليقي سمحتي صدقيني صدقيني ا...</td>\n",
       "      <td>normal</td>\n",
       "      <td>388</td>\n",
       "    </tr>\n",
       "  </tbody>\n",
       "</table>\n",
       "</div>\n",
       "      <button class=\"colab-df-convert\" onclick=\"convertToInteractive('df-b6a83e73-365b-4054-a81e-129ad9e29c54')\"\n",
       "              title=\"Convert this dataframe to an interactive table.\"\n",
       "              style=\"display:none;\">\n",
       "        \n",
       "  <svg xmlns=\"http://www.w3.org/2000/svg\" height=\"24px\"viewBox=\"0 0 24 24\"\n",
       "       width=\"24px\">\n",
       "    <path d=\"M0 0h24v24H0V0z\" fill=\"none\"/>\n",
       "    <path d=\"M18.56 5.44l.94 2.06.94-2.06 2.06-.94-2.06-.94-.94-2.06-.94 2.06-2.06.94zm-11 1L8.5 8.5l.94-2.06 2.06-.94-2.06-.94L8.5 2.5l-.94 2.06-2.06.94zm10 10l.94 2.06.94-2.06 2.06-.94-2.06-.94-.94-2.06-.94 2.06-2.06.94z\"/><path d=\"M17.41 7.96l-1.37-1.37c-.4-.4-.92-.59-1.43-.59-.52 0-1.04.2-1.43.59L10.3 9.45l-7.72 7.72c-.78.78-.78 2.05 0 2.83L4 21.41c.39.39.9.59 1.41.59.51 0 1.02-.2 1.41-.59l7.78-7.78 2.81-2.81c.8-.78.8-2.07 0-2.86zM5.41 20L4 18.59l7.72-7.72 1.47 1.35L5.41 20z\"/>\n",
       "  </svg>\n",
       "      </button>\n",
       "      \n",
       "  <style>\n",
       "    .colab-df-container {\n",
       "      display:flex;\n",
       "      flex-wrap:wrap;\n",
       "      gap: 12px;\n",
       "    }\n",
       "\n",
       "    .colab-df-convert {\n",
       "      background-color: #E8F0FE;\n",
       "      border: none;\n",
       "      border-radius: 50%;\n",
       "      cursor: pointer;\n",
       "      display: none;\n",
       "      fill: #1967D2;\n",
       "      height: 32px;\n",
       "      padding: 0 0 0 0;\n",
       "      width: 32px;\n",
       "    }\n",
       "\n",
       "    .colab-df-convert:hover {\n",
       "      background-color: #E2EBFA;\n",
       "      box-shadow: 0px 1px 2px rgba(60, 64, 67, 0.3), 0px 1px 3px 1px rgba(60, 64, 67, 0.15);\n",
       "      fill: #174EA6;\n",
       "    }\n",
       "\n",
       "    [theme=dark] .colab-df-convert {\n",
       "      background-color: #3B4455;\n",
       "      fill: #D2E3FC;\n",
       "    }\n",
       "\n",
       "    [theme=dark] .colab-df-convert:hover {\n",
       "      background-color: #434B5C;\n",
       "      box-shadow: 0px 1px 3px 1px rgba(0, 0, 0, 0.15);\n",
       "      filter: drop-shadow(0px 1px 2px rgba(0, 0, 0, 0.3));\n",
       "      fill: #FFFFFF;\n",
       "    }\n",
       "  </style>\n",
       "\n",
       "      <script>\n",
       "        const buttonEl =\n",
       "          document.querySelector('#df-b6a83e73-365b-4054-a81e-129ad9e29c54 button.colab-df-convert');\n",
       "        buttonEl.style.display =\n",
       "          google.colab.kernel.accessAllowed ? 'block' : 'none';\n",
       "\n",
       "        async function convertToInteractive(key) {\n",
       "          const element = document.querySelector('#df-b6a83e73-365b-4054-a81e-129ad9e29c54');\n",
       "          const dataTable =\n",
       "            await google.colab.kernel.invokeFunction('convertToInteractive',\n",
       "                                                     [key], {});\n",
       "          if (!dataTable) return;\n",
       "\n",
       "          const docLinkHtml = 'Like what you see? Visit the ' +\n",
       "            '<a target=\"_blank\" href=https://colab.research.google.com/notebooks/data_table.ipynb>data table notebook</a>'\n",
       "            + ' to learn more about interactive tables.';\n",
       "          element.innerHTML = '';\n",
       "          dataTable['output_type'] = 'display_data';\n",
       "          await google.colab.output.renderOutput(dataTable, element);\n",
       "          const docLink = document.createElement('div');\n",
       "          docLink.innerHTML = docLinkHtml;\n",
       "          element.appendChild(docLink);\n",
       "        }\n",
       "      </script>\n",
       "    </div>\n",
       "  </div>\n",
       "  "
      ],
      "text/plain": [
       "                                            commentaire  classe  word_count\n",
       "8233  صديقتي أمال اقرئي تعليقي سمحتي صدقيني صدقيني ا...  normal         388\n",
       "9481  صديقتي أمال اقرئي تعليقي سمحتي صدقيني صدقيني ا...  normal         388"
      ]
     },
     "execution_count": 6,
     "metadata": {},
     "output_type": "execute_result"
    }
   ],
   "source": [
    "train[train['word_count'] == 388]"
   ]
  },
  {
   "cell_type": "code",
   "execution_count": null,
   "metadata": {
    "colab": {
     "base_uri": "https://localhost:8080/",
     "height": 36
    },
    "id": "N2lLrbnqqsFk",
    "outputId": "2bb46660-72cd-406b-b606-f0963fbc00b0"
   },
   "outputs": [
    {
     "data": {
      "application/vnd.google.colaboratory.intrinsic+json": {
       "type": "string"
      },
      "text/plain": [
       "'   نعم ، على القول بوجوب النقاب ، لأن التبرج معناه الظهور فلما تكون ساترة لوجهها وتظهره فهذه متبرجة'"
      ]
     },
     "execution_count": 7,
     "metadata": {},
     "output_type": "execute_result"
    }
   ],
   "source": [
    "train['commentaire'][3335]"
   ]
  },
  {
   "cell_type": "code",
   "execution_count": null,
   "metadata": {
    "colab": {
     "base_uri": "https://localhost:8080/"
    },
    "id": "reTRftvWpUJk",
    "outputId": "a67d3e43-c435-45ca-f647-29792bed52b1"
   },
   "outputs": [
    {
     "data": {
      "text/plain": [
       "Counter({0: 12353, 1: 6830, 2: 3850})"
      ]
     },
     "execution_count": 8,
     "metadata": {},
     "output_type": "execute_result"
    }
   ],
   "source": [
    "y_train=train['classe']\n",
    "X_train=train['commentaire']\n",
    "#test=test['comm']\n",
    "y_train=pd.factorize(y_train)[0]\n",
    "# y_test=pd.factorize(y_test)[0]\n",
    "train['labels'] = pd.factorize(y_train)[0]\n",
    "\n",
    "import collections\n",
    "collections.Counter(y_train)\n",
    "\n",
    "#Counter({0: 4400, 1: 8840})"
   ]
  },
  {
   "cell_type": "code",
   "execution_count": null,
   "metadata": {
    "colab": {
     "base_uri": "https://localhost:8080/",
     "height": 423
    },
    "id": "gJDueK0Uh9kN",
    "outputId": "be414fe7-0868-4802-ef66-157b476f1646"
   },
   "outputs": [
    {
     "data": {
      "text/html": [
       "\n",
       "  <div id=\"df-d7065b15-4b83-4516-9e93-3ebd079e476f\">\n",
       "    <div class=\"colab-df-container\">\n",
       "      <div>\n",
       "<style scoped>\n",
       "    .dataframe tbody tr th:only-of-type {\n",
       "        vertical-align: middle;\n",
       "    }\n",
       "\n",
       "    .dataframe tbody tr th {\n",
       "        vertical-align: top;\n",
       "    }\n",
       "\n",
       "    .dataframe thead th {\n",
       "        text-align: right;\n",
       "    }\n",
       "</style>\n",
       "<table border=\"1\" class=\"dataframe\">\n",
       "  <thead>\n",
       "    <tr style=\"text-align: right;\">\n",
       "      <th></th>\n",
       "      <th>commentaire</th>\n",
       "      <th>classe</th>\n",
       "      <th>word_count</th>\n",
       "      <th>labels</th>\n",
       "    </tr>\n",
       "  </thead>\n",
       "  <tbody>\n",
       "    <tr>\n",
       "      <th>0</th>\n",
       "      <td>مبروك و سامحونا لعجزنا التام. عقبال اللي جوه. ...</td>\n",
       "      <td>normal</td>\n",
       "      <td>16</td>\n",
       "      <td>0</td>\n",
       "    </tr>\n",
       "    <tr>\n",
       "      <th>1</th>\n",
       "      <td>كلنا بره ومش هنبطل نزايد على العجايز الي جابون...</td>\n",
       "      <td>hate</td>\n",
       "      <td>10</td>\n",
       "      <td>1</td>\n",
       "    </tr>\n",
       "    <tr>\n",
       "      <th>2</th>\n",
       "      <td>بدل ما انت قاعد بره كده تعالي ازرع الصحرا</td>\n",
       "      <td>normal</td>\n",
       "      <td>9</td>\n",
       "      <td>0</td>\n",
       "    </tr>\n",
       "    <tr>\n",
       "      <th>3</th>\n",
       "      <td>قذر اتفووو ماتيجى مصر وتورينا نفسك كدا ياجبان</td>\n",
       "      <td>hate</td>\n",
       "      <td>8</td>\n",
       "      <td>1</td>\n",
       "    </tr>\n",
       "    <tr>\n",
       "      <th>4</th>\n",
       "      <td>وهكذا رجال الشو اللي محرومين من عمل برنامج الغ...</td>\n",
       "      <td>hate</td>\n",
       "      <td>16</td>\n",
       "      <td>1</td>\n",
       "    </tr>\n",
       "    <tr>\n",
       "      <th>...</th>\n",
       "      <td>...</td>\n",
       "      <td>...</td>\n",
       "      <td>...</td>\n",
       "      <td>...</td>\n",
       "    </tr>\n",
       "    <tr>\n",
       "      <th>23028</th>\n",
       "      <td>يلا ولا خنزير الله يرحم صدام حسين لي كان داعسكن</td>\n",
       "      <td>hate</td>\n",
       "      <td>10</td>\n",
       "      <td>1</td>\n",
       "    </tr>\n",
       "    <tr>\n",
       "      <th>23029</th>\n",
       "      <td>وبلدك سوريا لا تبغي سوا القتل والاجرام</td>\n",
       "      <td>hate</td>\n",
       "      <td>7</td>\n",
       "      <td>1</td>\n",
       "    </tr>\n",
       "    <tr>\n",
       "      <th>23030</th>\n",
       "      <td>معالي الوزير نؤمن بك دائما لأنك الدرع المنيع ف...</td>\n",
       "      <td>normal</td>\n",
       "      <td>14</td>\n",
       "      <td>0</td>\n",
       "    </tr>\n",
       "    <tr>\n",
       "      <th>23031</th>\n",
       "      <td>حياة سندي مستشارة امين عام الامم المتحدة بان ك...</td>\n",
       "      <td>normal</td>\n",
       "      <td>13</td>\n",
       "      <td>0</td>\n",
       "    </tr>\n",
       "    <tr>\n",
       "      <th>23032</th>\n",
       "      <td>انت يا جبران باسيل بعقليتك الفجة النتنة تقولرب...</td>\n",
       "      <td>hate</td>\n",
       "      <td>11</td>\n",
       "      <td>1</td>\n",
       "    </tr>\n",
       "  </tbody>\n",
       "</table>\n",
       "<p>23033 rows × 4 columns</p>\n",
       "</div>\n",
       "      <button class=\"colab-df-convert\" onclick=\"convertToInteractive('df-d7065b15-4b83-4516-9e93-3ebd079e476f')\"\n",
       "              title=\"Convert this dataframe to an interactive table.\"\n",
       "              style=\"display:none;\">\n",
       "        \n",
       "  <svg xmlns=\"http://www.w3.org/2000/svg\" height=\"24px\"viewBox=\"0 0 24 24\"\n",
       "       width=\"24px\">\n",
       "    <path d=\"M0 0h24v24H0V0z\" fill=\"none\"/>\n",
       "    <path d=\"M18.56 5.44l.94 2.06.94-2.06 2.06-.94-2.06-.94-.94-2.06-.94 2.06-2.06.94zm-11 1L8.5 8.5l.94-2.06 2.06-.94-2.06-.94L8.5 2.5l-.94 2.06-2.06.94zm10 10l.94 2.06.94-2.06 2.06-.94-2.06-.94-.94-2.06-.94 2.06-2.06.94z\"/><path d=\"M17.41 7.96l-1.37-1.37c-.4-.4-.92-.59-1.43-.59-.52 0-1.04.2-1.43.59L10.3 9.45l-7.72 7.72c-.78.78-.78 2.05 0 2.83L4 21.41c.39.39.9.59 1.41.59.51 0 1.02-.2 1.41-.59l7.78-7.78 2.81-2.81c.8-.78.8-2.07 0-2.86zM5.41 20L4 18.59l7.72-7.72 1.47 1.35L5.41 20z\"/>\n",
       "  </svg>\n",
       "      </button>\n",
       "      \n",
       "  <style>\n",
       "    .colab-df-container {\n",
       "      display:flex;\n",
       "      flex-wrap:wrap;\n",
       "      gap: 12px;\n",
       "    }\n",
       "\n",
       "    .colab-df-convert {\n",
       "      background-color: #E8F0FE;\n",
       "      border: none;\n",
       "      border-radius: 50%;\n",
       "      cursor: pointer;\n",
       "      display: none;\n",
       "      fill: #1967D2;\n",
       "      height: 32px;\n",
       "      padding: 0 0 0 0;\n",
       "      width: 32px;\n",
       "    }\n",
       "\n",
       "    .colab-df-convert:hover {\n",
       "      background-color: #E2EBFA;\n",
       "      box-shadow: 0px 1px 2px rgba(60, 64, 67, 0.3), 0px 1px 3px 1px rgba(60, 64, 67, 0.15);\n",
       "      fill: #174EA6;\n",
       "    }\n",
       "\n",
       "    [theme=dark] .colab-df-convert {\n",
       "      background-color: #3B4455;\n",
       "      fill: #D2E3FC;\n",
       "    }\n",
       "\n",
       "    [theme=dark] .colab-df-convert:hover {\n",
       "      background-color: #434B5C;\n",
       "      box-shadow: 0px 1px 3px 1px rgba(0, 0, 0, 0.15);\n",
       "      filter: drop-shadow(0px 1px 2px rgba(0, 0, 0, 0.3));\n",
       "      fill: #FFFFFF;\n",
       "    }\n",
       "  </style>\n",
       "\n",
       "      <script>\n",
       "        const buttonEl =\n",
       "          document.querySelector('#df-d7065b15-4b83-4516-9e93-3ebd079e476f button.colab-df-convert');\n",
       "        buttonEl.style.display =\n",
       "          google.colab.kernel.accessAllowed ? 'block' : 'none';\n",
       "\n",
       "        async function convertToInteractive(key) {\n",
       "          const element = document.querySelector('#df-d7065b15-4b83-4516-9e93-3ebd079e476f');\n",
       "          const dataTable =\n",
       "            await google.colab.kernel.invokeFunction('convertToInteractive',\n",
       "                                                     [key], {});\n",
       "          if (!dataTable) return;\n",
       "\n",
       "          const docLinkHtml = 'Like what you see? Visit the ' +\n",
       "            '<a target=\"_blank\" href=https://colab.research.google.com/notebooks/data_table.ipynb>data table notebook</a>'\n",
       "            + ' to learn more about interactive tables.';\n",
       "          element.innerHTML = '';\n",
       "          dataTable['output_type'] = 'display_data';\n",
       "          await google.colab.output.renderOutput(dataTable, element);\n",
       "          const docLink = document.createElement('div');\n",
       "          docLink.innerHTML = docLinkHtml;\n",
       "          element.appendChild(docLink);\n",
       "        }\n",
       "      </script>\n",
       "    </div>\n",
       "  </div>\n",
       "  "
      ],
      "text/plain": [
       "                                             commentaire  ... labels\n",
       "0      مبروك و سامحونا لعجزنا التام. عقبال اللي جوه. ...  ...      0\n",
       "1      كلنا بره ومش هنبطل نزايد على العجايز الي جابون...  ...      1\n",
       "2              بدل ما انت قاعد بره كده تعالي ازرع الصحرا  ...      0\n",
       "3          قذر اتفووو ماتيجى مصر وتورينا نفسك كدا ياجبان  ...      1\n",
       "4      وهكذا رجال الشو اللي محرومين من عمل برنامج الغ...  ...      1\n",
       "...                                                  ...  ...    ...\n",
       "23028    يلا ولا خنزير الله يرحم صدام حسين لي كان داعسكن  ...      1\n",
       "23029            وبلدك سوريا لا تبغي سوا القتل والاجرام   ...      1\n",
       "23030  معالي الوزير نؤمن بك دائما لأنك الدرع المنيع ف...  ...      0\n",
       "23031  حياة سندي مستشارة امين عام الامم المتحدة بان ك...  ...      0\n",
       "23032  انت يا جبران باسيل بعقليتك الفجة النتنة تقولرب...  ...      1\n",
       "\n",
       "[23033 rows x 4 columns]"
      ]
     },
     "execution_count": 9,
     "metadata": {},
     "output_type": "execute_result"
    }
   ],
   "source": [
    "train"
   ]
  },
  {
   "cell_type": "code",
   "execution_count": null,
   "metadata": {
    "colab": {
     "base_uri": "https://localhost:8080/"
    },
    "id": "oGLoYOBGcQLC",
    "outputId": "323d221c-6398-4a76-ba75-e80afd78721f"
   },
   "outputs": [
    {
     "name": "stdout",
     "output_type": "stream",
     "text": [
      "[nltk_data] Downloading package stopwords to /root/nltk_data...\n",
      "[nltk_data]   Package stopwords is already up-to-date!\n",
      "[nltk_data] Downloading package wordnet to /root/nltk_data...\n",
      "[nltk_data]   Package wordnet is already up-to-date!\n"
     ]
    }
   ],
   "source": [
    "import nltk\n",
    "nltk.download('stopwords')\n",
    "nltk.download('wordnet')\n",
    "from nltk.corpus import stopwords\n",
    "stopwords_list = stopwords.words('arabic')"
   ]
  },
  {
   "cell_type": "code",
   "execution_count": null,
   "metadata": {
    "id": "eTokWOWpbiMT"
   },
   "outputs": [],
   "source": [
    "#cleaning data\n",
    "import re\n",
    "from nltk.stem.porter import PorterStemmer\n",
    "tokenizer=nltk.tokenize.WhitespaceTokenizer()\n",
    "from nltk.stem.isri import ISRIStemmer\n",
    "st = ISRIStemmer()\n",
    "from snowballstemmer import stemmer\n",
    "ar_stemmer = stemmer(\"arabic\")\n",
    "\n",
    "def preprocess(review):\n",
    "   review = re.sub('[^ا-ي]', ' ', review)\n",
    " \n",
    "   review = tokenizer.tokenize(review)\n",
    "   review = [ar_stemmer.stemWord(word) for word in review if not word in set(stopwords_list )]\n",
    "   review = ' '.join(review)\n",
    "   return review"
   ]
  },
  {
   "cell_type": "code",
   "execution_count": null,
   "metadata": {
    "id": "0fUSTtv_b2Tj"
   },
   "outputs": [],
   "source": [
    "# X_train = train['commentaire'].apply(preprocess)\n",
    "X_train = X_train.apply(preprocess)\n"
   ]
  },
  {
   "cell_type": "code",
   "execution_count": null,
   "metadata": {
    "colab": {
     "base_uri": "https://localhost:8080/",
     "height": 36
    },
    "id": "pHWUrV9_cchK",
    "outputId": "39cf3108-67bc-47bb-86a9-68c3fa0c9ad0"
   },
   "outputs": [
    {
     "data": {
      "application/vnd.google.colaboratory.intrinsic+json": {
       "type": "string"
      },
      "text/plain": [
       "'مبر سامح لعجز تام عقبال الل جوه الل بره عاجز يزايد عاجز'"
      ]
     },
     "execution_count": 13,
     "metadata": {},
     "output_type": "execute_result"
    }
   ],
   "source": [
    "X_train[0] ### Après preprocessing"
   ]
  },
  {
   "cell_type": "code",
   "execution_count": null,
   "metadata": {
    "colab": {
     "base_uri": "https://localhost:8080/",
     "height": 36
    },
    "id": "TNY4hgF8dEM6",
    "outputId": "7f9dd28e-2e05-493e-c54b-14186d7b2613"
   },
   "outputs": [
    {
     "data": {
      "application/vnd.google.colaboratory.intrinsic+json": {
       "type": "string"
      },
      "text/plain": [
       "'مبروك و سامحونا لعجزنا التام. عقبال اللي جوه. اللي بره يا عاجز يا بيزايد على العاجز'"
      ]
     },
     "execution_count": 14,
     "metadata": {},
     "output_type": "execute_result"
    }
   ],
   "source": [
    "train['commentaire'][0] ### Originale"
   ]
  },
  {
   "cell_type": "code",
   "execution_count": null,
   "metadata": {
    "id": "qMwojEJFiiBY"
   },
   "outputs": [],
   "source": [
    "# x=train[323].lower().replace('@user','').replace('url','')\n",
    "# x=re.sub('[^A-Za-z]', ' ', x)\n",
    "# re.sub('http[s]?://(?:[a-zA-Z]|[0-9]|[$-_@.&+]|'\n",
    "#         '[!*\\(\\),]|(?:%[0-9a-fA-F][0-9a-fA-F]))+','',x)"
   ]
  },
  {
   "cell_type": "code",
   "execution_count": null,
   "metadata": {
    "id": "0KkTgzF_q4s1"
   },
   "outputs": [],
   "source": [
    "# # Creating the training corpus\n",
    "# stop_words = set(stopwords.words(\"english\")) \n",
    "# lemmatizer = WordNetLemmatizer()\n",
    "# corpus_train = []\n",
    "# for i in train:\n",
    "#     x=i.lower()\n",
    "#     x=x.replace('@user','')\n",
    "#     x=x.replace('@[\\w\\-]+','')\n",
    "#     #x=x.translate(str.maketrans('', '', string.punctuation))\n",
    "#     x = re.sub('[^A-Za-z]', ' ', x)\n",
    "#     #x=re.sub('\\s+',' ',x)\n",
    "#     x=re.sub('http[s]?://(?:[a-zA-Z]|[0-9]|[$-_@.&+]|'\n",
    "#         '[!*\\(\\),]|(?:%[0-9a-fA-F][0-9a-fA-F]))+','',x) #url\n",
    "#     #x = [lemmatizer.lemmatize(token) for token in x.split(\" \")]\n",
    "#     #x = [word for word in x if not word in stop_words]\n",
    "#     #x=\" \".join(x)\n",
    "#     corpus_train.append(x)    \n",
    "# # Creating the training corpus\n",
    "# corpus_test = []\n",
    "# for i in test:\n",
    "#     x=i.lower()\n",
    "#     x=x.replace('@user','')\n",
    "#     x=x.replace('@[\\w\\-]+','')\n",
    "#     #x=x.translate(str.maketrans('', '', string.punctuation))\n",
    "#     x = re.sub('[^A-Za-z]', ' ', x)\n",
    "#     #x=re.sub('\\s+',' ',x)\n",
    "#     x=re.sub('http[s]?://(?:[a-zA-Z]|[0-9]|[$-_@.&+]|'\n",
    "#         '[!*\\(\\),]|(?:%[0-9a-fA-F][0-9a-fA-F]))+','',x) #url\n",
    "#     #x = [lemmatizer.lemmatize(token) for token in x.split(\" \")]\n",
    "#     #x = [word for word in x if not word in stop_words]\n",
    "#     #x=\" \".join(x)\n",
    "#     corpus_test.append(x) "
   ]
  },
  {
   "cell_type": "code",
   "execution_count": null,
   "metadata": {
    "id": "GyyHvozBq7kf"
   },
   "outputs": [],
   "source": [
    "# from keras.preprocessing.text import Tokenizer\n",
    "# from keras.preprocessing import sequence\n",
    "# max_words = 5000 #frequency of words to be kept\n",
    "# max_len = 200\n",
    "# tokenize = Tokenizer(num_words=max_words)\n",
    "# tokenize.fit_on_texts(corpus_train)\n",
    "# sequences = tokenize.texts_to_sequences(corpus_train)\n",
    "# word_index = tokenize.word_index\n",
    "# sequences_matrix = sequence.pad_sequences(sequences,maxlen=max_len)"
   ]
  },
  {
   "cell_type": "code",
   "execution_count": null,
   "metadata": {
    "colab": {
     "base_uri": "https://localhost:8080/"
    },
    "id": "DUs3GSQ9e6lq",
    "outputId": "d06fda2a-5473-416e-aa53-ed474c449adf"
   },
   "outputs": [
    {
     "data": {
      "text/plain": [
       "23966"
      ]
     },
     "execution_count": 18,
     "metadata": {},
     "output_type": "execute_result"
    }
   ],
   "source": [
    "# splitting the data into target and feature\n",
    "from sklearn.model_selection import train_test_split\n",
    "from keras.preprocessing.text import Tokenizer\n",
    "from keras.preprocessing.sequence import pad_sequences \n",
    "\n",
    "X_train, X_test, y_train, y_test = train_test_split(X_train, y_train ,test_size = 0.1, random_state=0)\n",
    "tokenizer = Tokenizer(lower=True)\n",
    "tokenizer.fit_on_texts(X_train)\n",
    "\n",
    "X_train = tokenizer.texts_to_sequences(X_train)\n",
    "X_test = tokenizer.texts_to_sequences(X_test)\n",
    "\n",
    "vocab_size = len(tokenizer.word_index) + 1 \n",
    "vocab_size # Adding 1 because of reserved 0 index"
   ]
  },
  {
   "cell_type": "code",
   "execution_count": null,
   "metadata": {
    "id": "_Ae1X0N6mtK1"
   },
   "outputs": [],
   "source": [
    "word_index = tokenizer.word_index\n"
   ]
  },
  {
   "cell_type": "code",
   "execution_count": null,
   "metadata": {
    "colab": {
     "base_uri": "https://localhost:8080/"
    },
    "id": "gm9MD9MKgew-",
    "outputId": "74522f86-dae6-45ec-a77c-50d7109aaa04"
   },
   "outputs": [
    {
     "name": "stdout",
     "output_type": "stream",
     "text": [
      "Max len: 388\n"
     ]
    }
   ],
   "source": [
    "lens_train = [len(i) for i in X_train]\n",
    "lens_test = [len(i) for i in X_test]\n",
    "lens = lens_train + lens_test\n",
    "\n",
    "maxlen = np.max(lens)\n",
    "print('Max len:', maxlen)"
   ]
  },
  {
   "cell_type": "code",
   "execution_count": null,
   "metadata": {
    "id": "MHCkOuIlo0Bc"
   },
   "outputs": [],
   "source": [
    "# len(x.split())\n",
    "\n",
    "# lens_train = [len(i.split()) for i in list(train['commentaire'])]\n",
    "# lens_test = [len(i.split()) for i in X_test]\n",
    "# lens = lens_train + lens_test\n",
    "\n",
    "# maxlen_ = np.max(train['word_count'])\n",
    "# print('Max len:', maxlen_)\n"
   ]
  },
  {
   "cell_type": "code",
   "execution_count": null,
   "metadata": {
    "id": "sYN-06rwkCyJ"
   },
   "outputs": [],
   "source": [
    "# num_words = min(max_words, len(word_index)) + 1\n",
    "# print(num_words)"
   ]
  },
  {
   "cell_type": "code",
   "execution_count": null,
   "metadata": {
    "id": "DO1yndKJiXxl"
   },
   "outputs": [],
   "source": [
    "### AraVec embeddings\n",
    "# !wget https://bakrianoo.ewr1.vultrobjects.com/aravec/full_grams_cbow_300_twitter.zip"
   ]
  },
  {
   "cell_type": "code",
   "execution_count": null,
   "metadata": {
    "id": "vNP3UOz1djK_"
   },
   "outputs": [],
   "source": [
    "### Unzip AraVec \n",
    "# !unzip /content/full_grams_cbow_300_twitter.zip"
   ]
  },
  {
   "cell_type": "code",
   "execution_count": null,
   "metadata": {
    "id": "N4cXkMapTl0M"
   },
   "outputs": [],
   "source": [
    "# !mv /content/full_grams_cbow_300_twitter.mdl.trainables.syn1neg.npy /content/drive/MyDrive/FastText_Aravec_Arabic_embeddings/full_grams_cbow_300_twitter.mdl.trainables.syn1neg.npy\n",
    "# !mv /content/full_grams_cbow_300_twitter.mdl.wv.vectors.npy /content/drive/MyDrive/FastText_Aravec_Arabic_embeddings/full_grams_cbow_300_twitter.mdl.wv.vectors.npy"
   ]
  },
  {
   "cell_type": "code",
   "execution_count": null,
   "metadata": {
    "id": "N9NhnutckY-C"
   },
   "outputs": [],
   "source": [
    "### FastText Arabic embeddings\n",
    "# !wget https://dl.fbaipublicfiles.com/fasttext/vectors-crawl/cc.ar.300.vec.gz"
   ]
  },
  {
   "cell_type": "code",
   "execution_count": null,
   "metadata": {
    "id": "bPzCEayqk0o0"
   },
   "outputs": [],
   "source": [
    "### Unzip FastText Arabic\n",
    "# !gzip -d /content/cc.ar.300.vec.gz"
   ]
  },
  {
   "cell_type": "code",
   "execution_count": null,
   "metadata": {
    "id": "vlMA1Qwfg0EA"
   },
   "outputs": [],
   "source": [
    "embedding_path1 = \"/content/drive/MyDrive/FastText_Aravec_Arabic_embeddings/cc.ar.300.vec\" ### FadText Arabic\n",
    "embedding_path2 = \"/content/drive/MyDrive/FastText_Aravec_Arabic_embeddings/full_grams_cbow_300_twitter.mdl.wv.vectors.npy\" ### AraVec\n",
    "#embedding_path2 = \"/content/full_grams_cbow_300_twitter.mdl.wv.vectors.npy\" ### AraVec\n",
    "\n",
    "embed_size = 300"
   ]
  },
  {
   "cell_type": "code",
   "execution_count": null,
   "metadata": {
    "id": "TyxVJQ45rSW3"
   },
   "outputs": [],
   "source": [
    "def get_coefs(word,*arr):\n",
    "    return word, np.asarray(arr, dtype='float32')\n",
    "\n",
    "def build_matrix(embedding_path, word_index):\n",
    "    embedding_index = dict(get_coefs(*o.strip().split(\" \")) for o in open(embedding_path))\n",
    "\n",
    "    nb_words = min(maxlen, len(word_index))\n",
    "    # embedding_matrix = np.zeros((nb_words + 1, embed_size))\n",
    "    embedding_matrix = np.zeros((vocab_size + 1, embed_size))\n",
    "    for word, i in word_index.items():\n",
    "        if i >= maxlen:\n",
    "            continue\n",
    "        embedding_vector = embedding_index.get(word)\n",
    "        if embedding_vector is not None:\n",
    "            embedding_matrix[i] = embedding_vector\n",
    "    return embedding_matrix\n"
   ]
  },
  {
   "cell_type": "code",
   "execution_count": null,
   "metadata": {
    "id": "zYUKY8LXkIoK"
   },
   "outputs": [],
   "source": [
    "fasttext_arabic_emb = build_matrix(embedding_path1, word_index)\n",
    "# aravec_emb = build_matrix(embedding_path2, word_index)"
   ]
  },
  {
   "cell_type": "code",
   "execution_count": null,
   "metadata": {
    "colab": {
     "base_uri": "https://localhost:8080/"
    },
    "id": "ujFHFjvZgbri",
    "outputId": "68ff6fc5-6a45-4e5f-9040-4e39945d4545"
   },
   "outputs": [
    {
     "data": {
      "text/plain": [
       "(23967, 300)"
      ]
     },
     "execution_count": 31,
     "metadata": {},
     "output_type": "execute_result"
    }
   ],
   "source": [
    "fasttext_arabic_emb.shape"
   ]
  },
  {
   "cell_type": "code",
   "execution_count": null,
   "metadata": {
    "id": "Tla3YBh1xpBK"
   },
   "outputs": [],
   "source": [
    "import gensim\n",
    "\n",
    "t_model = gensim.models.Word2Vec.load('/content/drive/MyDrive/FastText_Aravec_Arabic_embeddings/full_grams_cbow_300_twitter.mdl')"
   ]
  },
  {
   "cell_type": "code",
   "execution_count": null,
   "metadata": {
    "id": "VPIk72dXx4rz"
   },
   "outputs": [],
   "source": [
    "# word_vector = t_model.wv[ token ]\n",
    "\n",
    "def build_aravec_matrix(embedding_path, word_index):\n",
    "\n",
    "    nb_words = min(maxlen, len(word_index))\n",
    "    # embedding_matrix = np.zeros((nb_words + 1, embed_size))\n",
    "    embedding_matrix = np.zeros((vocab_size + 1, embed_size))\n",
    "    for word, i in word_index.items():\n",
    "        if i >= maxlen:\n",
    "            continue\n",
    "        try:\n",
    "          embedding_vector = t_model.wv[word]\n",
    "        except KeyError:\n",
    "          continue\n",
    "        if embedding_vector is not None:\n",
    "            embedding_matrix[i] = t_model.wv[word]\n",
    "    return embedding_matrix"
   ]
  },
  {
   "cell_type": "code",
   "execution_count": null,
   "metadata": {
    "id": "jPT-r20-vv3L"
   },
   "outputs": [],
   "source": [
    "aravec_emb = build_aravec_matrix(embedding_path2, word_index)"
   ]
  },
  {
   "cell_type": "code",
   "execution_count": null,
   "metadata": {
    "colab": {
     "base_uri": "https://localhost:8080/"
    },
    "id": "-GfJTGLH9GiR",
    "outputId": "e59acff3-cac4-4a62-e4b7-f753ff6002a0"
   },
   "outputs": [
    {
     "data": {
      "text/plain": [
       "(23967, 300)"
      ]
     },
     "execution_count": 35,
     "metadata": {},
     "output_type": "execute_result"
    }
   ],
   "source": [
    "aravec_emb.shape"
   ]
  },
  {
   "cell_type": "code",
   "execution_count": null,
   "metadata": {
    "colab": {
     "base_uri": "https://localhost:8080/"
    },
    "id": "ywE3rEY3AvVS",
    "outputId": "da2397e4-bd5d-491e-97bc-fd75e3249026"
   },
   "outputs": [
    {
     "data": {
      "text/plain": [
       "array([[ 0.        ,  0.        ,  0.        , ...,  0.        ,\n",
       "         0.        ,  0.        ],\n",
       "       [ 0.16235431, -1.00791025, -0.86719418, ..., -0.01928542,\n",
       "        -1.11376536, -1.04606497],\n",
       "       [ 0.14556547,  0.42558247,  0.31349891, ...,  0.99427533,\n",
       "        -0.72583079,  2.37648702],\n",
       "       ...,\n",
       "       [ 0.        ,  0.        ,  0.        , ...,  0.        ,\n",
       "         0.        ,  0.        ],\n",
       "       [ 0.        ,  0.        ,  0.        , ...,  0.        ,\n",
       "         0.        ,  0.        ],\n",
       "       [ 0.        ,  0.        ,  0.        , ...,  0.        ,\n",
       "         0.        ,  0.        ]])"
      ]
     },
     "execution_count": 36,
     "metadata": {},
     "output_type": "execute_result"
    }
   ],
   "source": [
    "aravec_emb"
   ]
  },
  {
   "cell_type": "markdown",
   "metadata": {
    "id": "uiArU6WLwghI"
   },
   "source": [
    "ccombinaison des deux embedding\n"
   ]
  },
  {
   "cell_type": "code",
   "execution_count": null,
   "metadata": {
    "colab": {
     "base_uri": "https://localhost:8080/"
    },
    "id": "v7uZ-HJ4ln2_",
    "outputId": "bbeb4a37-ce54-425d-ccc7-cb92717b9034"
   },
   "outputs": [
    {
     "data": {
      "text/plain": [
       "(23967, 300)"
      ]
     },
     "execution_count": 37,
     "metadata": {},
     "output_type": "execute_result"
    }
   ],
   "source": [
    "embedding_matrix2=np.mean((fasttext_arabic_emb, aravec_emb),axis=0)\n",
    "embedding_matrix2.shape"
   ]
  },
  {
   "cell_type": "code",
   "execution_count": null,
   "metadata": {
    "id": "dLnt7QKJ8WzH"
   },
   "outputs": [],
   "source": [
    "from keras.preprocessing import sequence\n",
    "\n",
    "# test_sequences = tokenize.texts_to_sequences(corpus_test)\n",
    "X_train_pad = sequence.pad_sequences(X_train, maxlen=maxlen)\n",
    "X_test_pad  = sequence.pad_sequences(X_test, maxlen=maxlen)"
   ]
  },
  {
   "cell_type": "code",
   "execution_count": null,
   "metadata": {
    "id": "EVwNl2COnOTt"
   },
   "outputs": [],
   "source": [
    "from keras import backend as K\n",
    "def f1(y_true, y_pred):\n",
    "    \n",
    "    def recall(y_true, y_pred):\n",
    "        \"\"\"Recall metric.\n",
    "\n",
    "        Only computes a batch-wise average of recall.\n",
    "\n",
    "        Computes the recall, a metric for multi-label classification of\n",
    "        how many relevant items are selected.\n",
    "        \"\"\"\n",
    "        true_positives = K.sum(K.round(K.clip(y_true * y_pred, 0, 1)))\n",
    "        possible_positives = K.sum(K.round(K.clip(y_true, 0, 1)))\n",
    "        recall = true_positives / (possible_positives + K.epsilon())\n",
    "        return recall\n",
    "\n",
    "    def precision(y_true, y_pred):\n",
    "        \"\"\"Precision metric.\n",
    "\n",
    "        Only computes a batch-wise average of precision.\n",
    "\n",
    "        Computes the precision, a metric for multi-label classification of\n",
    "        how many selected items are relevant.\n",
    "        \"\"\"\n",
    "        true_positives = K.sum(K.round(K.clip(y_true * y_pred, 0, 1)))\n",
    "        predicted_positives = K.sum(K.round(K.clip(y_pred, 0, 1)))\n",
    "        precision = true_positives / (predicted_positives + K.epsilon())\n",
    "        return precision\n",
    "    precision = precision(y_true, y_pred)\n",
    "    recall = recall(y_true, y_pred)\n",
    "    return 2*((precision*recall)/(precision+recall+K.epsilon()))"
   ]
  },
  {
   "cell_type": "code",
   "execution_count": null,
   "metadata": {
    "id": "9QwiUz7VFJPz"
   },
   "outputs": [],
   "source": [
    "callbacks = keras.callbacks.EarlyStopping(monitor='val_f1', mode='max', verbose=1,\n",
    "                                          patience=8,restore_best_weights = True)"
   ]
  },
  {
   "cell_type": "code",
   "execution_count": null,
   "metadata": {
    "id": "HkMkKWsJrzeN"
   },
   "outputs": [],
   "source": [
    "from keras.models import Sequential,Model\n",
    "from tensorflow.compat.v1.keras.layers import CuDNNGRU\n",
    "from keras.layers import Embedding,Dense,GRU, Conv1D\n",
    "from keras.layers import Dropout,Bidirectional,GlobalMaxPool1D,GlobalAveragePooling1D\n",
    "from keras.layers import SpatialDropout1D,concatenate,Input\n",
    "# from keras.optimizers import RMSprop\n",
    "from keras.initializers import Constant\n",
    "from sklearn.utils import class_weight\n",
    "from keras.callbacks import ModelCheckpoint\n",
    "import tensorflow as tf\n",
    "#tf.logging.set_verbosity(tf.logging.ERROR)"
   ]
  },
  {
   "cell_type": "code",
   "execution_count": null,
   "metadata": {
    "id": "Il9FI8EkTTBh"
   },
   "outputs": [],
   "source": [
    "from sklearn.metrics import classification_report\n",
    "from sklearn.metrics import confusion_matrix, f1_score, precision_score, recall_score\n",
    "import matplotlib.pyplot as plt\n",
    "import seaborn as sns"
   ]
  },
  {
   "cell_type": "code",
   "execution_count": null,
   "metadata": {
    "id": "fL-leK_jTorh"
   },
   "outputs": [],
   "source": [
    "class_weights = class_weight.compute_class_weight(class_weight='balanced', classes=np.unique(y_train), y=y_train)\n",
    "class_weights=dict(enumerate(class_weights))"
   ]
  },
  {
   "cell_type": "code",
   "execution_count": null,
   "metadata": {
    "id": "khxVuHQQENNR"
   },
   "outputs": [],
   "source": [
    "from tensorflow.keras.utils import to_categorical\n",
    "\n",
    "y_train = to_categorical(y_train, 3)\n",
    "y_test  = to_categorical(y_test, 3)"
   ]
  },
  {
   "cell_type": "markdown",
   "metadata": {
    "id": "StHob8uHVS2A"
   },
   "source": [
    "# CNN Model"
   ]
  },
  {
   "cell_type": "markdown",
   "metadata": {
    "id": "ZwFFlBGFR2tv"
   },
   "source": [
    "### Training a model with aravec and Fasttext embedding"
   ]
  },
  {
   "cell_type": "code",
   "execution_count": null,
   "metadata": {
    "id": "EIRQc1aLRhHg"
   },
   "outputs": [],
   "source": [
    "inp=Input((maxlen,))\n",
    "#Embedding Layer \n",
    "x=Embedding(vocab_size + 1,embed_size,embeddings_initializer=Constant(embedding_matrix2),\n",
    "            input_length=maxlen,trainable=True)(inp)\n",
    "x = SpatialDropout1D(0.2)(x)\n",
    "#GRU Bidrirectionnel (si vous voulez activer CNN, mettez en commentaire cette ligne)\n",
    "#x=Bidirectional(GRU(150, return_sequences = True))(x)\n",
    "\n",
    "### Couche CNN \n",
    "x=Conv1D(filters=32, kernel_size=3, padding='valid', activation='relu')(x) \n",
    "\n",
    "avg_pool = GlobalAveragePooling1D()(x)\n",
    "max_pool = GlobalMaxPool1D()(x)\n",
    "conc = concatenate([avg_pool, max_pool])\n",
    "\n",
    " \n",
    "x=Dropout(0.2)(conc)\n",
    "out=Dense(16, activation=\"relu\")(x)\n",
    "out=Dense(8, activation=\"relu\")(out)\n",
    "\n",
    "out=Dense(3, activation=\"softmax\")(out)\n",
    "\n",
    "model=Model(inp,out)\n",
    "\n",
    "mcp_save = ModelCheckpoint('model.mdl_wts.hdf5', save_best_only=True,\n",
    "                           monitor='val_loss', mode='min',patience = 5)\n",
    "\n"
   ]
  },
  {
   "cell_type": "code",
   "execution_count": null,
   "metadata": {
    "id": "hCVvlC7ARlLY"
   },
   "outputs": [],
   "source": [
    "model.compile(loss=tf.keras.losses.CategoricalCrossentropy(), optimizer=tf.keras.optimizers.Adam(), metrics=[f1])"
   ]
  },
  {
   "cell_type": "code",
   "execution_count": null,
   "metadata": {
    "colab": {
     "base_uri": "https://localhost:8080/"
    },
    "id": "LBDAzDdwRpeJ",
    "outputId": "c7dadda3-2bd3-4e00-959a-e66bd7d80eb2"
   },
   "outputs": [
    {
     "name": "stdout",
     "output_type": "stream",
     "text": [
      "Model: \"model\"\n",
      "__________________________________________________________________________________________________\n",
      " Layer (type)                   Output Shape         Param #     Connected to                     \n",
      "==================================================================================================\n",
      " input_1 (InputLayer)           [(None, 388)]        0           []                               \n",
      "                                                                                                  \n",
      " embedding (Embedding)          (None, 388, 300)     7190100     ['input_1[0][0]']                \n",
      "                                                                                                  \n",
      " spatial_dropout1d (SpatialDrop  (None, 388, 300)    0           ['embedding[0][0]']              \n",
      " out1D)                                                                                           \n",
      "                                                                                                  \n",
      " conv1d (Conv1D)                (None, 386, 32)      28832       ['spatial_dropout1d[0][0]']      \n",
      "                                                                                                  \n",
      " global_average_pooling1d (Glob  (None, 32)          0           ['conv1d[0][0]']                 \n",
      " alAveragePooling1D)                                                                              \n",
      "                                                                                                  \n",
      " global_max_pooling1d (GlobalMa  (None, 32)          0           ['conv1d[0][0]']                 \n",
      " xPooling1D)                                                                                      \n",
      "                                                                                                  \n",
      " concatenate (Concatenate)      (None, 64)           0           ['global_average_pooling1d[0][0]'\n",
      "                                                                 , 'global_max_pooling1d[0][0]']  \n",
      "                                                                                                  \n",
      " dropout (Dropout)              (None, 64)           0           ['concatenate[0][0]']            \n",
      "                                                                                                  \n",
      " dense (Dense)                  (None, 16)           1040        ['dropout[0][0]']                \n",
      "                                                                                                  \n",
      " dense_1 (Dense)                (None, 8)            136         ['dense[0][0]']                  \n",
      "                                                                                                  \n",
      " dense_2 (Dense)                (None, 3)            27          ['dense_1[0][0]']                \n",
      "                                                                                                  \n",
      "==================================================================================================\n",
      "Total params: 7,220,135\n",
      "Trainable params: 7,220,135\n",
      "Non-trainable params: 0\n",
      "__________________________________________________________________________________________________\n"
     ]
    }
   ],
   "source": [
    "model.summary()"
   ]
  },
  {
   "cell_type": "code",
   "execution_count": null,
   "metadata": {
    "colab": {
     "base_uri": "https://localhost:8080/",
     "height": 1000
    },
    "id": "dAjMWY-nmAeL",
    "outputId": "0e16250a-6f08-4e3a-8c39-478c1a59118c"
   },
   "outputs": [
    {
     "data": {
      "image/png": "[encoded data removed]",
      "text/plain": [
       "<IPython.core.display.Image object>"
      ]
     },
     "execution_count": 48,
     "metadata": {},
     "output_type": "execute_result"
    }
   ],
   "source": [
    "tf.keras.utils.plot_model(model, show_shapes=True)"
   ]
  },
  {
   "cell_type": "code",
   "execution_count": null,
   "metadata": {
    "colab": {
     "base_uri": "https://localhost:8080/"
    },
    "id": "SFa5d1PhR__j",
    "outputId": "2d832817-259d-4975-d356-f9a3fb8729bf"
   },
   "outputs": [
    {
     "name": "stdout",
     "output_type": "stream",
     "text": [
      "Epoch 1/30\n",
      "130/130 [==============================] - 18s 37ms/step - loss: 1.0486 - f1: 0.0912 - val_loss: 0.9329 - val_f1: 0.2918\n",
      "Epoch 2/30\n",
      "130/130 [==============================] - 4s 33ms/step - loss: 0.8385 - f1: 0.5118 - val_loss: 0.7307 - val_f1: 0.6595\n",
      "Epoch 3/30\n",
      "130/130 [==============================] - 4s 33ms/step - loss: 0.6709 - f1: 0.6961 - val_loss: 0.6323 - val_f1: 0.7364\n",
      "Epoch 4/30\n",
      "130/130 [==============================] - 4s 33ms/step - loss: 0.5179 - f1: 0.8026 - val_loss: 0.5531 - val_f1: 0.7886\n",
      "Epoch 5/30\n",
      "130/130 [==============================] - 4s 32ms/step - loss: 0.3896 - f1: 0.8587 - val_loss: 0.5478 - val_f1: 0.7936\n",
      "Epoch 6/30\n",
      "130/130 [==============================] - 4s 33ms/step - loss: 0.2986 - f1: 0.8945 - val_loss: 0.5381 - val_f1: 0.8087\n",
      "Epoch 7/30\n",
      "130/130 [==============================] - 4s 32ms/step - loss: 0.2384 - f1: 0.9164 - val_loss: 0.5686 - val_f1: 0.8082\n",
      "Epoch 8/30\n",
      "130/130 [==============================] - 4s 33ms/step - loss: 0.1924 - f1: 0.9333 - val_loss: 0.5898 - val_f1: 0.8106\n",
      "Epoch 9/30\n",
      "130/130 [==============================] - 4s 32ms/step - loss: 0.1754 - f1: 0.9402 - val_loss: 0.6122 - val_f1: 0.8067\n",
      "Epoch 10/30\n",
      "130/130 [==============================] - 4s 32ms/step - loss: 0.1533 - f1: 0.9483 - val_loss: 0.6623 - val_f1: 0.8021\n",
      "Epoch 11/30\n",
      "130/130 [==============================] - 4s 33ms/step - loss: 0.1369 - f1: 0.9532 - val_loss: 0.6774 - val_f1: 0.8024\n",
      "Epoch 12/30\n",
      "130/130 [==============================] - 4s 33ms/step - loss: 0.1256 - f1: 0.9574 - val_loss: 0.7143 - val_f1: 0.7999\n",
      "Epoch 13/30\n",
      "130/130 [==============================] - 4s 32ms/step - loss: 0.1211 - f1: 0.9610 - val_loss: 0.7082 - val_f1: 0.7965\n",
      "Epoch 14/30\n",
      "130/130 [==============================] - 4s 32ms/step - loss: 0.1086 - f1: 0.9633 - val_loss: 0.7574 - val_f1: 0.7956\n",
      "Epoch 15/30\n",
      "130/130 [==============================] - 4s 32ms/step - loss: 0.1035 - f1: 0.9658 - val_loss: 0.8067 - val_f1: 0.7892\n",
      "Epoch 16/30\n",
      "129/130 [============================>.] - ETA: 0s - loss: 0.1006 - f1: 0.9652Restoring model weights from the end of the best epoch: 8.\n",
      "130/130 [==============================] - 4s 33ms/step - loss: 0.1009 - f1: 0.9651 - val_loss: 0.8043 - val_f1: 0.7909\n",
      "Epoch 00016: early stopping\n"
     ]
    },
    {
     "data": {
      "text/plain": [
       "<keras.callbacks.History at 0x7f0273e18d90>"
      ]
     },
     "execution_count": 49,
     "metadata": {},
     "output_type": "execute_result"
    }
   ],
   "source": [
    "model.fit(X_train_pad, y_train, batch_size=128, epochs=30, verbose=1, class_weight=class_weights,\n",
    "          validation_split = 0.2, callbacks=[callbacks])"
   ]
  },
  {
   "cell_type": "code",
   "execution_count": null,
   "metadata": {
    "colab": {
     "base_uri": "https://localhost:8080/"
    },
    "id": "1BD-ntr8rznW",
    "outputId": "3478c0c9-af25-46ed-b517-4914e1945e0b"
   },
   "outputs": [
    {
     "name": "stdout",
     "output_type": "stream",
     "text": [
      "72/72 [==============================] - 1s 5ms/step - loss: 0.6349 - f1: 0.7951\n",
      "[0.6349266767501831, 0.7951047420501709]\n"
     ]
    }
   ],
   "source": [
    "print(model.evaluate(X_test_pad, y_test))"
   ]
  },
  {
   "cell_type": "code",
   "execution_count": null,
   "metadata": {
    "colab": {
     "base_uri": "https://localhost:8080/"
    },
    "id": "u-fKEe-4rzp4",
    "outputId": "9c7a4359-053f-45b5-a77d-26e82cfaa46b"
   },
   "outputs": [
    {
     "name": "stdout",
     "output_type": "stream",
     "text": [
      "18/18 [==============================] - 0s 7ms/step\n",
      "              precision    recall  f1-score   support\n",
      "\n",
      "        Hate       0.85      0.84      0.85      1231\n",
      "      Normal       0.72      0.70      0.71       680\n",
      "     Abusive       0.78      0.79      0.78       393\n",
      "\n",
      "   micro avg       0.80      0.79      0.80      2304\n",
      "   macro avg       0.78      0.78      0.78      2304\n",
      "weighted avg       0.80      0.79      0.79      2304\n",
      " samples avg       0.79      0.79      0.79      2304\n",
      "\n"
     ]
    },
    {
     "name": "stderr",
     "output_type": "stream",
     "text": [
      "/usr/local/lib/python3.7/dist-packages/sklearn/metrics/_classification.py:1308: UndefinedMetricWarning: Precision and F-score are ill-defined and being set to 0.0 in samples with no predicted labels. Use `zero_division` parameter to control this behavior.\n",
      "  _warn_prf(average, modifier, msg_start, len(result))\n"
     ]
    }
   ],
   "source": [
    "y_pred = model.predict(X_test_pad, batch_size=128, verbose=1)\n",
    "y_pred_bool = np.argmax(y_pred, axis=1)\n",
    "y_pred = (y_pred > 0.5)\n",
    "\n",
    "print(classification_report(y_test, y_pred, target_names=(['Hate','Normal','Abusive'])))\n"
   ]
  },
  {
   "cell_type": "code",
   "execution_count": null,
   "metadata": {
    "colab": {
     "base_uri": "https://localhost:8080/"
    },
    "id": "4LtnRxVRmNcl",
    "outputId": "fbe6db5b-e26b-42e3-a7c9-baed34ebca3c"
   },
   "outputs": [
    {
     "data": {
      "text/plain": [
       "0.7949460867292079"
      ]
     },
     "execution_count": 52,
     "metadata": {},
     "output_type": "execute_result"
    }
   ],
   "source": [
    "f1_score(y_test, y_pred, average=\"weighted\")"
   ]
  },
  {
   "cell_type": "code",
   "execution_count": null,
   "metadata": {
    "id": "72QjwwRRrzsu"
   },
   "outputs": [],
   "source": [
    "from tensorflow import keras\n",
    "keras.backend.clear_session()"
   ]
  },
  {
   "cell_type": "code",
   "execution_count": null,
   "metadata": {
    "id": "4o9xT3kjyc7W"
   },
   "outputs": [],
   "source": [
    "from sklearn import metrics\n",
    "metric = metrics.accuracy_score(y_test, y_pred), metrics.f1_score(y_test, y_pred, average='weighted'), metrics.recall_score(y_test, y_pred, average='weighted'), metrics.precision_score(y_test, y_pred, average='weighted')"
   ]
  },
  {
   "cell_type": "code",
   "execution_count": null,
   "metadata": {
    "colab": {
     "base_uri": "https://localhost:8080/",
     "height": 226
    },
    "id": "czSMQdvTQZs_",
    "outputId": "0d090292-3dfa-4301-d922-07b8a639d60f"
   },
   "outputs": [
    {
     "data": {
      "text/plain": [
       "(0.0, 1.0)"
      ]
     },
     "execution_count": 55,
     "metadata": {},
     "output_type": "execute_result"
    },
    {
     "data": {
      "image/png": "[encoded data removed]",
      "text/plain": [
       "<Figure size 576x144 with 1 Axes>"
      ]
     },
     "metadata": {
      "needs_background": "light"
     },
     "output_type": "display_data"
    }
   ],
   "source": [
    "fig = plt.figure()\n",
    "fig.set_size_inches(8,2)\n",
    "ax = fig.add_axes([0,0,1,1])\n",
    "rect1 = ax.bar(0.00,round(metric[0], 2), color = 'b', width = 0.05)\n",
    "rect2 = ax.bar(0.20, round(metric[1], 2), color = 'g', width = 0.05)\n",
    "rect3 = ax.bar(0.40, round(metric[2], 2) , color = 'r', width = 0.05)\n",
    "rect4 = ax.bar(0.60, round(metric[3], 2) , color = (1, 0, 1), width = 0.05)\n",
    "\n",
    "ax.set_ylabel('Scores')\n",
    "ax.set_title('metrics')\n",
    "def autolabel(rects):\n",
    "  \"\"\"Attach a text label above each bar in *rects*, displaying its height.\"\"\"\n",
    "  for rect in rects:\n",
    "      height = rect.get_height()\n",
    "      ax.annotate('{}'.format(height),\n",
    "                  xy=(rect.get_x() + rect.get_width() / 2, height),\n",
    "                  xytext=(0, 3),  # 3 points vertical offset\n",
    "                  textcoords=\"offset points\",\n",
    "                  ha='center', va='bottom')\n",
    "\n",
    "autolabel(rect1)\n",
    "autolabel(rect2)\n",
    "autolabel(rect3)\n",
    "autolabel(rect4)\n",
    "ax.legend(labels=['accuracy', 'f1_score', 'recall', 'precision'],loc='best')\n",
    "plt.ylim(0, 1)"
   ]
  },
  {
   "cell_type": "markdown",
   "metadata": {
    "id": "Bpb35nPlTI1g"
   },
   "source": [
    "### Training on Fasttext Embedding Only"
   ]
  },
  {
   "cell_type": "code",
   "execution_count": null,
   "metadata": {
    "id": "ext78JdGVwvv"
   },
   "outputs": [],
   "source": [
    "keras.backend.clear_session()"
   ]
  },
  {
   "cell_type": "code",
   "execution_count": null,
   "metadata": {
    "id": "dleDGpLYU_3V"
   },
   "outputs": [],
   "source": [
    "inp=Input(shape=(maxlen, ))\n",
    "x=Embedding(vocab_size + 1,embed_size,embeddings_initializer=Constant(fasttext_arabic_emb),#Set Fasttext Embedding\n",
    "            input_length=maxlen,trainable=True)(inp)\n",
    "x = SpatialDropout1D(0.2)(x)\n",
    "# x=Bidirectional(GRU(150, return_sequences = True))(x)\n",
    "x=Conv1D(filters=32, kernel_size=3, padding='valid', activation='relu')(x) \n",
    "avg_pool = GlobalAveragePooling1D()(x)\n",
    "max_pool = GlobalMaxPool1D()(x)\n",
    "conc = concatenate([avg_pool, max_pool])\n",
    "\n",
    "\n",
    "x=Dropout(0.1)(conc)\n",
    "out=Dense(64, activation=\"relu\")(x)\n",
    "out=Dense(32, activation=\"relu\")(x)\n",
    "\n",
    "out=Dense(3, activation=\"softmax\")(x)\n",
    "\n",
    "model_ft=Model(inp,out)\n",
    "\n",
    "mcp_save = ModelCheckpoint('model_fasttext.mdl_wts.hdf5', save_best_only=True,\n",
    "                           monitor='val_loss', mode='min',patience = 5)\n"
   ]
  },
  {
   "cell_type": "code",
   "execution_count": null,
   "metadata": {
    "id": "y8TojWn4Tijn"
   },
   "outputs": [],
   "source": [
    "model_ft.compile(loss=tf.keras.losses.CategoricalCrossentropy(), optimizer=tf.keras.optimizers.Adam(), metrics=[f1])"
   ]
  },
  {
   "cell_type": "code",
   "execution_count": null,
   "metadata": {
    "colab": {
     "base_uri": "https://localhost:8080/"
    },
    "id": "NhdxZk9cTm3X",
    "outputId": "c602114e-4b8f-4a94-fa8e-6e5cdceb5931"
   },
   "outputs": [
    {
     "name": "stdout",
     "output_type": "stream",
     "text": [
      "Model: \"model\"\n",
      "__________________________________________________________________________________________________\n",
      " Layer (type)                   Output Shape         Param #     Connected to                     \n",
      "==================================================================================================\n",
      " input_1 (InputLayer)           [(None, 388)]        0           []                               \n",
      "                                                                                                  \n",
      " embedding (Embedding)          (None, 388, 300)     7190100     ['input_1[0][0]']                \n",
      "                                                                                                  \n",
      " spatial_dropout1d (SpatialDrop  (None, 388, 300)    0           ['embedding[0][0]']              \n",
      " out1D)                                                                                           \n",
      "                                                                                                  \n",
      " conv1d (Conv1D)                (None, 386, 32)      28832       ['spatial_dropout1d[0][0]']      \n",
      "                                                                                                  \n",
      " global_average_pooling1d (Glob  (None, 32)          0           ['conv1d[0][0]']                 \n",
      " alAveragePooling1D)                                                                              \n",
      "                                                                                                  \n",
      " global_max_pooling1d (GlobalMa  (None, 32)          0           ['conv1d[0][0]']                 \n",
      " xPooling1D)                                                                                      \n",
      "                                                                                                  \n",
      " concatenate (Concatenate)      (None, 64)           0           ['global_average_pooling1d[0][0]'\n",
      "                                                                 , 'global_max_pooling1d[0][0]']  \n",
      "                                                                                                  \n",
      " dropout (Dropout)              (None, 64)           0           ['concatenate[0][0]']            \n",
      "                                                                                                  \n",
      " dense_2 (Dense)                (None, 3)            195         ['dropout[0][0]']                \n",
      "                                                                                                  \n",
      "==================================================================================================\n",
      "Total params: 7,219,127\n",
      "Trainable params: 7,219,127\n",
      "Non-trainable params: 0\n",
      "__________________________________________________________________________________________________\n"
     ]
    }
   ],
   "source": [
    "model_ft.summary()"
   ]
  },
  {
   "cell_type": "code",
   "execution_count": null,
   "metadata": {
    "colab": {
     "base_uri": "https://localhost:8080/"
    },
    "id": "Et2g6vcQT29F",
    "outputId": "a01ec3a2-fa74-4712-9ea1-4b0c493f02dd"
   },
   "outputs": [
    {
     "name": "stdout",
     "output_type": "stream",
     "text": [
      "Epoch 1/20\n",
      "130/130 [==============================] - 5s 34ms/step - loss: 0.8991 - f1: 0.3608 - val_loss: 0.6831 - val_f1: 0.6894\n",
      "Epoch 2/20\n",
      "130/130 [==============================] - 4s 32ms/step - loss: 0.5360 - f1: 0.7922 - val_loss: 0.5300 - val_f1: 0.7999\n",
      "Epoch 3/20\n",
      "130/130 [==============================] - 4s 32ms/step - loss: 0.3208 - f1: 0.8911 - val_loss: 0.5196 - val_f1: 0.8102\n",
      "Epoch 4/20\n",
      "130/130 [==============================] - 4s 32ms/step - loss: 0.2030 - f1: 0.9348 - val_loss: 0.5395 - val_f1: 0.8124\n",
      "Epoch 5/20\n",
      "130/130 [==============================] - 4s 32ms/step - loss: 0.1421 - f1: 0.9555 - val_loss: 0.5799 - val_f1: 0.8121\n",
      "Epoch 6/20\n",
      "130/130 [==============================] - 4s 32ms/step - loss: 0.1130 - f1: 0.9654 - val_loss: 0.6069 - val_f1: 0.8099\n",
      "Epoch 7/20\n",
      "130/130 [==============================] - 4s 32ms/step - loss: 0.0964 - f1: 0.9697 - val_loss: 0.6421 - val_f1: 0.8089\n",
      "Epoch 8/20\n",
      "130/130 [==============================] - 4s 32ms/step - loss: 0.0878 - f1: 0.9721 - val_loss: 0.6604 - val_f1: 0.8088\n",
      "Epoch 9/20\n",
      "130/130 [==============================] - 4s 32ms/step - loss: 0.0807 - f1: 0.9740 - val_loss: 0.6878 - val_f1: 0.8076\n",
      "Epoch 10/20\n",
      "130/130 [==============================] - 4s 32ms/step - loss: 0.0783 - f1: 0.9746 - val_loss: 0.7255 - val_f1: 0.8027\n",
      "Epoch 11/20\n",
      "130/130 [==============================] - 4s 32ms/step - loss: 0.0792 - f1: 0.9752 - val_loss: 0.7207 - val_f1: 0.8046\n",
      "Epoch 12/20\n",
      "129/130 [============================>.] - ETA: 0s - loss: 0.0697 - f1: 0.9767Restoring model weights from the end of the best epoch: 4.\n",
      "130/130 [==============================] - 4s 32ms/step - loss: 0.0696 - f1: 0.9767 - val_loss: 0.7381 - val_f1: 0.7996\n",
      "Epoch 00012: early stopping\n"
     ]
    },
    {
     "data": {
      "text/plain": [
       "<keras.callbacks.History at 0x7f0271dd4110>"
      ]
     },
     "execution_count": 60,
     "metadata": {},
     "output_type": "execute_result"
    }
   ],
   "source": [
    "model_ft.fit(X_train_pad, \n",
    "             y_train, \n",
    "             batch_size=128,\n",
    "             epochs=20,\n",
    "             verbose=1,\n",
    "             class_weight=class_weights,\n",
    "             validation_split=0.2,\n",
    "             callbacks=[callbacks])"
   ]
  },
  {
   "cell_type": "code",
   "execution_count": null,
   "metadata": {
    "colab": {
     "base_uri": "https://localhost:8080/"
    },
    "id": "wCLLX3EAT4NO",
    "outputId": "196707ad-2363-499c-8ba3-e433a31620c7"
   },
   "outputs": [
    {
     "name": "stdout",
     "output_type": "stream",
     "text": [
      "72/72 [==============================] - 1s 5ms/step - loss: 0.5768 - f1: 0.8053\n",
      "[0.5768049955368042, 0.8052881360054016]\n"
     ]
    }
   ],
   "source": [
    "print(model_ft.evaluate(X_test_pad, y_test))"
   ]
  },
  {
   "cell_type": "code",
   "execution_count": null,
   "metadata": {
    "colab": {
     "base_uri": "https://localhost:8080/"
    },
    "id": "KE9mBrlcUiTH",
    "outputId": "ba8f49b2-7393-482c-8093-825d13532c1e"
   },
   "outputs": [
    {
     "name": "stdout",
     "output_type": "stream",
     "text": [
      "18/18 [==============================] - 0s 8ms/step\n",
      "              precision    recall  f1-score   support\n",
      "\n",
      "        Hate       0.87      0.84      0.86      1231\n",
      "      Normal       0.76      0.68      0.72       680\n",
      "     Abusive       0.76      0.83      0.80       393\n",
      "\n",
      "   micro avg       0.82      0.79      0.81      2304\n",
      "   macro avg       0.80      0.79      0.79      2304\n",
      "weighted avg       0.82      0.79      0.80      2304\n",
      " samples avg       0.79      0.79      0.79      2304\n",
      "\n"
     ]
    },
    {
     "name": "stderr",
     "output_type": "stream",
     "text": [
      "/usr/local/lib/python3.7/dist-packages/sklearn/metrics/_classification.py:1308: UndefinedMetricWarning: Precision and F-score are ill-defined and being set to 0.0 in samples with no predicted labels. Use `zero_division` parameter to control this behavior.\n",
      "  _warn_prf(average, modifier, msg_start, len(result))\n"
     ]
    }
   ],
   "source": [
    "y_pred_ft = model_ft.predict(X_test_pad, batch_size=128, verbose=1)\n",
    "y_pred_bool_ft = np.argmax(y_pred, axis=1)\n",
    "y_pred_ft = (y_pred_ft > 0.5)\n",
    "\n",
    "print(classification_report(y_test, y_pred_ft, target_names=(['Hate','Normal','Abusive'])))\n"
   ]
  },
  {
   "cell_type": "code",
   "execution_count": null,
   "metadata": {
    "id": "sXj5owf2Ut0W"
   },
   "outputs": [],
   "source": [
    "from sklearn import metrics\n",
    "metric_ft = metrics.accuracy_score(y_test, y_pred_ft), metrics.f1_score(y_test, y_pred_ft, average='weighted'), metrics.recall_score(y_test, y_pred_ft, average='weighted'), metrics.precision_score(y_test, y_pred_ft, average='weighted')"
   ]
  },
  {
   "cell_type": "code",
   "execution_count": null,
   "metadata": {
    "colab": {
     "base_uri": "https://localhost:8080/",
     "height": 226
    },
    "id": "N49Fe5YsU7NE",
    "outputId": "353739a2-8a27-43de-8245-c42224a98e96"
   },
   "outputs": [
    {
     "data": {
      "text/plain": [
       "(0.0, 1.0)"
      ]
     },
     "execution_count": 64,
     "metadata": {},
     "output_type": "execute_result"
    },
    {
     "data": {
      "image/png": "[encoded data removed]",
      "text/plain": [
       "<Figure size 576x144 with 1 Axes>"
      ]
     },
     "metadata": {
      "needs_background": "light"
     },
     "output_type": "display_data"
    }
   ],
   "source": [
    "fig = plt.figure()\n",
    "fig.set_size_inches(8,2)\n",
    "ax = fig.add_axes([0,0,1,1])\n",
    "rect1 = ax.bar(0.00,round(metric_ft[0], 2), color = 'b', width = 0.05)\n",
    "rect2 = ax.bar(0.20, round(metric_ft[1], 2), color = 'g', width = 0.05)\n",
    "rect3 = ax.bar(0.40, round(metric_ft[2], 2) , color = 'r', width = 0.05)\n",
    "rect4 = ax.bar(0.60, round(metric_ft[3], 2) , color = (1, 0, 1), width = 0.05)\n",
    "\n",
    "ax.set_ylabel('Scores')\n",
    "ax.set_title('metrics')\n",
    "\n",
    "\n",
    "autolabel(rect1)\n",
    "autolabel(rect2)\n",
    "autolabel(rect3)\n",
    "autolabel(rect4)\n",
    "ax.legend(labels=['accuracy', 'f1_score', 'recall', 'precision'],loc='best')\n",
    "plt.ylim(0, 1)"
   ]
  },
  {
   "cell_type": "markdown",
   "metadata": {
    "id": "HiwoyTsPL1PG"
   },
   "source": [
    "### Training on Aravec Embedding Only"
   ]
  },
  {
   "cell_type": "code",
   "execution_count": null,
   "metadata": {
    "id": "vTBADyXfL1PN"
   },
   "outputs": [],
   "source": [
    "keras.backend.clear_session()"
   ]
  },
  {
   "cell_type": "code",
   "execution_count": null,
   "metadata": {
    "id": "lglZwmCfL1PO"
   },
   "outputs": [],
   "source": [
    "inp=Input(shape=(maxlen, ))\n",
    "x=Embedding(vocab_size + 1,embed_size,embeddings_initializer=Constant(aravec_emb),#Set Fasttext Embedding\n",
    "            input_length=maxlen,trainable=True)(inp)\n",
    "x = SpatialDropout1D(0.2)(x)\n",
    "# x=Bidirectional(GRU(150, return_sequences = True))(x)\n",
    "x=Conv1D(filters=32, kernel_size=3, padding='valid', activation='relu')(x) \n",
    "avg_pool = GlobalAveragePooling1D()(x)\n",
    "max_pool = GlobalMaxPool1D()(x)\n",
    "conc = concatenate([avg_pool, max_pool])\n",
    "\n",
    "\n",
    "x=Dropout(0.1)(conc)\n",
    "out=Dense(64, activation=\"relu\")(x)\n",
    "out=Dense(32, activation=\"relu\")(x)\n",
    "\n",
    "out=Dense(3, activation=\"softmax\")(x)\n",
    "\n",
    "model_arav=Model(inp,out)\n",
    "\n",
    "mcp_save = ModelCheckpoint('model_aravec.mdl_wts.hdf5', save_best_only=True,\n",
    "                           monitor='val_loss', mode='min',patience = 5)\n"
   ]
  },
  {
   "cell_type": "code",
   "execution_count": null,
   "metadata": {
    "id": "FvKap_oBL1PO"
   },
   "outputs": [],
   "source": [
    "model_arav.compile(loss=tf.keras.losses.CategoricalCrossentropy(), optimizer=tf.keras.optimizers.Adam(), metrics=[f1])"
   ]
  },
  {
   "cell_type": "code",
   "execution_count": null,
   "metadata": {
    "colab": {
     "base_uri": "https://localhost:8080/"
    },
    "id": "5lo1wLfQL1PO",
    "outputId": "1d432153-556a-47fc-d1d3-d8e6ae62f526"
   },
   "outputs": [
    {
     "name": "stdout",
     "output_type": "stream",
     "text": [
      "Model: \"model\"\n",
      "__________________________________________________________________________________________________\n",
      " Layer (type)                   Output Shape         Param #     Connected to                     \n",
      "==================================================================================================\n",
      " input_1 (InputLayer)           [(None, 388)]        0           []                               \n",
      "                                                                                                  \n",
      " embedding (Embedding)          (None, 388, 300)     7190100     ['input_1[0][0]']                \n",
      "                                                                                                  \n",
      " spatial_dropout1d (SpatialDrop  (None, 388, 300)    0           ['embedding[0][0]']              \n",
      " out1D)                                                                                           \n",
      "                                                                                                  \n",
      " conv1d (Conv1D)                (None, 386, 32)      28832       ['spatial_dropout1d[0][0]']      \n",
      "                                                                                                  \n",
      " global_average_pooling1d (Glob  (None, 32)          0           ['conv1d[0][0]']                 \n",
      " alAveragePooling1D)                                                                              \n",
      "                                                                                                  \n",
      " global_max_pooling1d (GlobalMa  (None, 32)          0           ['conv1d[0][0]']                 \n",
      " xPooling1D)                                                                                      \n",
      "                                                                                                  \n",
      " concatenate (Concatenate)      (None, 64)           0           ['global_average_pooling1d[0][0]'\n",
      "                                                                 , 'global_max_pooling1d[0][0]']  \n",
      "                                                                                                  \n",
      " dropout (Dropout)              (None, 64)           0           ['concatenate[0][0]']            \n",
      "                                                                                                  \n",
      " dense_2 (Dense)                (None, 3)            195         ['dropout[0][0]']                \n",
      "                                                                                                  \n",
      "==================================================================================================\n",
      "Total params: 7,219,127\n",
      "Trainable params: 7,219,127\n",
      "Non-trainable params: 0\n",
      "__________________________________________________________________________________________________\n"
     ]
    }
   ],
   "source": [
    "model_arav.summary()"
   ]
  },
  {
   "cell_type": "code",
   "execution_count": null,
   "metadata": {
    "colab": {
     "base_uri": "https://localhost:8080/"
    },
    "id": "2OEErZqOL1PO",
    "outputId": "b3e3e665-006d-41bd-d6da-bcc51cf0b509"
   },
   "outputs": [
    {
     "name": "stdout",
     "output_type": "stream",
     "text": [
      "Epoch 1/20\n",
      "130/130 [==============================] - 5s 35ms/step - loss: 1.0249 - f1: 0.4627 - val_loss: 0.8474 - val_f1: 0.5277\n",
      "Epoch 2/20\n",
      "130/130 [==============================] - 4s 33ms/step - loss: 0.8033 - f1: 0.5907 - val_loss: 0.7606 - val_f1: 0.6054\n",
      "Epoch 3/20\n",
      "130/130 [==============================] - 4s 32ms/step - loss: 0.6946 - f1: 0.6690 - val_loss: 0.6969 - val_f1: 0.6760\n",
      "Epoch 4/20\n",
      "130/130 [==============================] - 4s 33ms/step - loss: 0.5825 - f1: 0.7550 - val_loss: 0.6357 - val_f1: 0.7268\n",
      "Epoch 5/20\n",
      "130/130 [==============================] - 4s 32ms/step - loss: 0.4682 - f1: 0.8252 - val_loss: 0.5724 - val_f1: 0.7662\n",
      "Epoch 6/20\n",
      "130/130 [==============================] - 4s 32ms/step - loss: 0.3594 - f1: 0.8741 - val_loss: 0.5309 - val_f1: 0.7892\n",
      "Epoch 7/20\n",
      "130/130 [==============================] - 4s 32ms/step - loss: 0.2887 - f1: 0.9020 - val_loss: 0.5384 - val_f1: 0.7915\n",
      "Epoch 8/20\n",
      "130/130 [==============================] - 4s 32ms/step - loss: 0.2279 - f1: 0.9226 - val_loss: 0.5376 - val_f1: 0.8052\n",
      "Epoch 9/20\n",
      "130/130 [==============================] - 4s 31ms/step - loss: 0.1955 - f1: 0.9345 - val_loss: 0.5768 - val_f1: 0.7996\n",
      "Epoch 10/20\n",
      "130/130 [==============================] - 4s 32ms/step - loss: 0.1675 - f1: 0.9448 - val_loss: 0.5958 - val_f1: 0.7963\n",
      "Epoch 11/20\n",
      "130/130 [==============================] - 4s 32ms/step - loss: 0.1468 - f1: 0.9520 - val_loss: 0.6216 - val_f1: 0.7939\n",
      "Epoch 12/20\n",
      "130/130 [==============================] - 4s 32ms/step - loss: 0.1366 - f1: 0.9550 - val_loss: 0.6387 - val_f1: 0.8010\n",
      "Epoch 13/20\n",
      "130/130 [==============================] - 4s 32ms/step - loss: 0.1232 - f1: 0.9608 - val_loss: 0.6627 - val_f1: 0.7975\n",
      "Epoch 14/20\n",
      "130/130 [==============================] - 4s 32ms/step - loss: 0.1143 - f1: 0.9622 - val_loss: 0.6750 - val_f1: 0.7969\n",
      "Epoch 15/20\n",
      "130/130 [==============================] - 4s 32ms/step - loss: 0.1118 - f1: 0.9648 - val_loss: 0.7093 - val_f1: 0.7973\n",
      "Epoch 16/20\n",
      "129/130 [============================>.] - ETA: 0s - loss: 0.1021 - f1: 0.9675Restoring model weights from the end of the best epoch: 8.\n",
      "130/130 [==============================] - 4s 32ms/step - loss: 0.1019 - f1: 0.9677 - val_loss: 0.7456 - val_f1: 0.7987\n",
      "Epoch 00016: early stopping\n"
     ]
    },
    {
     "data": {
      "text/plain": [
       "<keras.callbacks.History at 0x7f02707f38d0>"
      ]
     },
     "execution_count": 69,
     "metadata": {},
     "output_type": "execute_result"
    }
   ],
   "source": [
    "model_arav.fit(X_train_pad, \n",
    "             y_train, \n",
    "             batch_size=128,\n",
    "             epochs=20,\n",
    "             verbose=1,\n",
    "             class_weight=class_weights,\n",
    "             validation_split=0.2,\n",
    "             callbacks=[callbacks])"
   ]
  },
  {
   "cell_type": "code",
   "execution_count": null,
   "metadata": {
    "colab": {
     "base_uri": "https://localhost:8080/"
    },
    "id": "wbfQt6KkL1PO",
    "outputId": "c97c8a1e-b068-428f-fe7c-30a59cba0b15"
   },
   "outputs": [
    {
     "name": "stdout",
     "output_type": "stream",
     "text": [
      "72/72 [==============================] - 1s 4ms/step - loss: 0.5967 - f1: 0.7870\n",
      "[0.5967130661010742, 0.7870326042175293]\n"
     ]
    }
   ],
   "source": [
    "print(model_arav.evaluate(X_test_pad, y_test))"
   ]
  },
  {
   "cell_type": "code",
   "execution_count": null,
   "metadata": {
    "colab": {
     "base_uri": "https://localhost:8080/"
    },
    "id": "010SEUGvL1PO",
    "outputId": "be77fe02-aaf1-4d1f-bd2a-0afd4ea398a0"
   },
   "outputs": [
    {
     "name": "stdout",
     "output_type": "stream",
     "text": [
      "18/18 [==============================] - 0s 6ms/step\n",
      "              precision    recall  f1-score   support\n",
      "\n",
      "        Hate       0.86      0.82      0.84      1231\n",
      "      Normal       0.72      0.67      0.70       680\n",
      "     Abusive       0.78      0.77      0.78       393\n",
      "\n",
      "   micro avg       0.80      0.77      0.79      2304\n",
      "   macro avg       0.79      0.76      0.77      2304\n",
      "weighted avg       0.80      0.77      0.79      2304\n",
      " samples avg       0.77      0.77      0.77      2304\n",
      "\n"
     ]
    },
    {
     "name": "stderr",
     "output_type": "stream",
     "text": [
      "/usr/local/lib/python3.7/dist-packages/sklearn/metrics/_classification.py:1308: UndefinedMetricWarning: Precision and F-score are ill-defined and being set to 0.0 in samples with no predicted labels. Use `zero_division` parameter to control this behavior.\n",
      "  _warn_prf(average, modifier, msg_start, len(result))\n"
     ]
    }
   ],
   "source": [
    "y_pred_arav = model_arav.predict(X_test_pad, batch_size=128, verbose=1)\n",
    "y_pred_bool_ft = np.argmax(y_pred, axis=1)\n",
    "y_pred_arav = (y_pred_arav > 0.5)\n",
    "\n",
    "print(classification_report(y_test, y_pred_arav, target_names=(['Hate','Normal','Abusive'])))\n"
   ]
  },
  {
   "cell_type": "code",
   "execution_count": null,
   "metadata": {
    "id": "2684IryML1PO"
   },
   "outputs": [],
   "source": [
    "from sklearn import metrics\n",
    "metric_arav = metrics.accuracy_score(y_test, y_pred_arav), metrics.f1_score(y_test, y_pred_arav, average='weighted'), metrics.recall_score(y_test, y_pred_arav, average='weighted'), metrics.precision_score(y_test, y_pred_arav, average='weighted')"
   ]
  },
  {
   "cell_type": "code",
   "execution_count": null,
   "metadata": {
    "colab": {
     "base_uri": "https://localhost:8080/",
     "height": 226
    },
    "id": "a969R2UNL1PO",
    "outputId": "988a43ef-4999-4697-f536-af6ed3646c3d"
   },
   "outputs": [
    {
     "data": {
      "text/plain": [
       "(0.0, 1.0)"
      ]
     },
     "execution_count": 73,
     "metadata": {},
     "output_type": "execute_result"
    },
    {
     "data": {
      "image/png": "[encoded data removed]",
      "text/plain": [
       "<Figure size 576x144 with 1 Axes>"
      ]
     },
     "metadata": {
      "needs_background": "light"
     },
     "output_type": "display_data"
    }
   ],
   "source": [
    "fig = plt.figure()\n",
    "fig.set_size_inches(8,2)\n",
    "ax = fig.add_axes([0,0,1,1])\n",
    "rect1 = ax.bar(0.00,round(metric_arav[0], 2), color = 'b', width = 0.05)\n",
    "rect2 = ax.bar(0.20, round(metric_arav[1], 2), color = 'g', width = 0.05)\n",
    "rect3 = ax.bar(0.40, round(metric_arav[2], 2) , color = 'r', width = 0.05)\n",
    "rect4 = ax.bar(0.60, round(metric_arav[3], 2) , color = (1, 0, 1), width = 0.05)\n",
    "\n",
    "ax.set_ylabel('Scores')\n",
    "ax.set_title('metrics')\n",
    "\n",
    "\n",
    "autolabel(rect1)\n",
    "autolabel(rect2)\n",
    "autolabel(rect3)\n",
    "autolabel(rect4)\n",
    "ax.legend(labels=['accuracy', 'f1_score', 'recall', 'precision'],loc='best')\n",
    "plt.ylim(0, 1)"
   ]
  },
  {
   "cell_type": "markdown",
   "metadata": {
    "id": "l6ud_gVNWd4a"
   },
   "source": [
    "### Comparing the three results"
   ]
  },
  {
   "cell_type": "code",
   "execution_count": null,
   "metadata": {
    "id": "UAPfKBxEYLV5"
   },
   "outputs": [],
   "source": [
    "Data = [('Fasttext',) + metric_ft  ,\n",
    "        ('AraVec',)+ metric_arav ,\n",
    "         ('Fasttext + AraVec',)+ metric ]"
   ]
  },
  {
   "cell_type": "code",
   "execution_count": null,
   "metadata": {
    "id": "d6UM1nPKWkH6"
   },
   "outputs": [],
   "source": [
    "Results = pd.DataFrame(data =  Data , columns=['Embedding','Accuracy','F1_score','Recall','Precision'])"
   ]
  },
  {
   "cell_type": "code",
   "execution_count": null,
   "metadata": {
    "colab": {
     "base_uri": "https://localhost:8080/",
     "height": 143
    },
    "id": "lDLH9XzeXAUp",
    "outputId": "160306ba-b2e9-4fcb-a8ed-53f1b7ddf1f8"
   },
   "outputs": [
    {
     "data": {
      "text/html": [
       "\n",
       "  <div id=\"df-04dee3e1-b785-4cbc-bb0c-8fe9074c3572\">\n",
       "    <div class=\"colab-df-container\">\n",
       "      <div>\n",
       "<style scoped>\n",
       "    .dataframe tbody tr th:only-of-type {\n",
       "        vertical-align: middle;\n",
       "    }\n",
       "\n",
       "    .dataframe tbody tr th {\n",
       "        vertical-align: top;\n",
       "    }\n",
       "\n",
       "    .dataframe thead th {\n",
       "        text-align: right;\n",
       "    }\n",
       "</style>\n",
       "<table border=\"1\" class=\"dataframe\">\n",
       "  <thead>\n",
       "    <tr style=\"text-align: right;\">\n",
       "      <th></th>\n",
       "      <th>Embedding</th>\n",
       "      <th>Accuracy</th>\n",
       "      <th>F1_score</th>\n",
       "      <th>Recall</th>\n",
       "      <th>Precision</th>\n",
       "    </tr>\n",
       "  </thead>\n",
       "  <tbody>\n",
       "    <tr>\n",
       "      <th>0</th>\n",
       "      <td>Fasttext</td>\n",
       "      <td>0.792969</td>\n",
       "      <td>0.804699</td>\n",
       "      <td>0.792969</td>\n",
       "      <td>0.818447</td>\n",
       "    </tr>\n",
       "    <tr>\n",
       "      <th>1</th>\n",
       "      <td>AraVec</td>\n",
       "      <td>0.770399</td>\n",
       "      <td>0.786580</td>\n",
       "      <td>0.770399</td>\n",
       "      <td>0.803601</td>\n",
       "    </tr>\n",
       "    <tr>\n",
       "      <th>2</th>\n",
       "      <td>Fasttext + AraVec</td>\n",
       "      <td>0.788628</td>\n",
       "      <td>0.794946</td>\n",
       "      <td>0.788628</td>\n",
       "      <td>0.801426</td>\n",
       "    </tr>\n",
       "  </tbody>\n",
       "</table>\n",
       "</div>\n",
       "      <button class=\"colab-df-convert\" onclick=\"convertToInteractive('df-04dee3e1-b785-4cbc-bb0c-8fe9074c3572')\"\n",
       "              title=\"Convert this dataframe to an interactive table.\"\n",
       "              style=\"display:none;\">\n",
       "        \n",
       "  <svg xmlns=\"http://www.w3.org/2000/svg\" height=\"24px\"viewBox=\"0 0 24 24\"\n",
       "       width=\"24px\">\n",
       "    <path d=\"M0 0h24v24H0V0z\" fill=\"none\"/>\n",
       "    <path d=\"M18.56 5.44l.94 2.06.94-2.06 2.06-.94-2.06-.94-.94-2.06-.94 2.06-2.06.94zm-11 1L8.5 8.5l.94-2.06 2.06-.94-2.06-.94L8.5 2.5l-.94 2.06-2.06.94zm10 10l.94 2.06.94-2.06 2.06-.94-2.06-.94-.94-2.06-.94 2.06-2.06.94z\"/><path d=\"M17.41 7.96l-1.37-1.37c-.4-.4-.92-.59-1.43-.59-.52 0-1.04.2-1.43.59L10.3 9.45l-7.72 7.72c-.78.78-.78 2.05 0 2.83L4 21.41c.39.39.9.59 1.41.59.51 0 1.02-.2 1.41-.59l7.78-7.78 2.81-2.81c.8-.78.8-2.07 0-2.86zM5.41 20L4 18.59l7.72-7.72 1.47 1.35L5.41 20z\"/>\n",
       "  </svg>\n",
       "      </button>\n",
       "      \n",
       "  <style>\n",
       "    .colab-df-container {\n",
       "      display:flex;\n",
       "      flex-wrap:wrap;\n",
       "      gap: 12px;\n",
       "    }\n",
       "\n",
       "    .colab-df-convert {\n",
       "      background-color: #E8F0FE;\n",
       "      border: none;\n",
       "      border-radius: 50%;\n",
       "      cursor: pointer;\n",
       "      display: none;\n",
       "      fill: #1967D2;\n",
       "      height: 32px;\n",
       "      padding: 0 0 0 0;\n",
       "      width: 32px;\n",
       "    }\n",
       "\n",
       "    .colab-df-convert:hover {\n",
       "      background-color: #E2EBFA;\n",
       "      box-shadow: 0px 1px 2px rgba(60, 64, 67, 0.3), 0px 1px 3px 1px rgba(60, 64, 67, 0.15);\n",
       "      fill: #174EA6;\n",
       "    }\n",
       "\n",
       "    [theme=dark] .colab-df-convert {\n",
       "      background-color: #3B4455;\n",
       "      fill: #D2E3FC;\n",
       "    }\n",
       "\n",
       "    [theme=dark] .colab-df-convert:hover {\n",
       "      background-color: #434B5C;\n",
       "      box-shadow: 0px 1px 3px 1px rgba(0, 0, 0, 0.15);\n",
       "      filter: drop-shadow(0px 1px 2px rgba(0, 0, 0, 0.3));\n",
       "      fill: #FFFFFF;\n",
       "    }\n",
       "  </style>\n",
       "\n",
       "      <script>\n",
       "        const buttonEl =\n",
       "          document.querySelector('#df-04dee3e1-b785-4cbc-bb0c-8fe9074c3572 button.colab-df-convert');\n",
       "        buttonEl.style.display =\n",
       "          google.colab.kernel.accessAllowed ? 'block' : 'none';\n",
       "\n",
       "        async function convertToInteractive(key) {\n",
       "          const element = document.querySelector('#df-04dee3e1-b785-4cbc-bb0c-8fe9074c3572');\n",
       "          const dataTable =\n",
       "            await google.colab.kernel.invokeFunction('convertToInteractive',\n",
       "                                                     [key], {});\n",
       "          if (!dataTable) return;\n",
       "\n",
       "          const docLinkHtml = 'Like what you see? Visit the ' +\n",
       "            '<a target=\"_blank\" href=https://colab.research.google.com/notebooks/data_table.ipynb>data table notebook</a>'\n",
       "            + ' to learn more about interactive tables.';\n",
       "          element.innerHTML = '';\n",
       "          dataTable['output_type'] = 'display_data';\n",
       "          await google.colab.output.renderOutput(dataTable, element);\n",
       "          const docLink = document.createElement('div');\n",
       "          docLink.innerHTML = docLinkHtml;\n",
       "          element.appendChild(docLink);\n",
       "        }\n",
       "      </script>\n",
       "    </div>\n",
       "  </div>\n",
       "  "
      ],
      "text/plain": [
       "           Embedding  Accuracy  F1_score    Recall  Precision\n",
       "0           Fasttext  0.792969  0.804699  0.792969   0.818447\n",
       "1             AraVec  0.770399  0.786580  0.770399   0.803601\n",
       "2  Fasttext + AraVec  0.788628  0.794946  0.788628   0.801426"
      ]
     },
     "execution_count": 76,
     "metadata": {},
     "output_type": "execute_result"
    }
   ],
   "source": [
    "Results"
   ]
  }
 ],
 "metadata": {
  "accelerator": "GPU",
  "colab": {
   "collapsed_sections": [],
   "name": "NLP_fasttext_Aravec_CNN-Embedding_TUNEL.ipynb",
   "provenance": []
  },
  "kernelspec": {
   "display_name": "Python 3 (ipykernel)",
   "language": "python",
   "name": "python3"
  },
  "language_info": {
   "codemirror_mode": {
    "name": "ipython",
    "version": 3
   },
   "file_extension": ".py",
   "mimetype": "text/x-python",
   "name": "python",
   "nbconvert_exporter": "python",
   "pygments_lexer": "ipython3",
   "version": "3.10.3"
  }
 },
 "nbformat": 4,
 "nbformat_minor": 1
}
