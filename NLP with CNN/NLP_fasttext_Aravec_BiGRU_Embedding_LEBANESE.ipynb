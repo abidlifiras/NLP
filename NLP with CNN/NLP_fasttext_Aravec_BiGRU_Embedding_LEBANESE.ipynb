{
  "nbformat": 4,
  "nbformat_minor": 0,
  "metadata": {
    "colab": {
      "name": "NLP_fasttext_Aravec-BiGRU_Embedding_LEBANESE.ipynb",
      "provenance": [],
      "collapsed_sections": []
    },
    "kernelspec": {
      "name": "python3",
      "display_name": "Python 3"
    },
    "accelerator": "GPU"
  },
  "cells": [
    {
      "cell_type": "markdown",
      "source": [
        "# LEBENESE Dataset"
      ],
      "metadata": {
        "id": "Phxed_BSSB7-"
      }
    },
    {
      "cell_type": "code",
      "metadata": {
        "id": "6pkvGyUqqCMG",
        "colab": {
          "base_uri": "https://localhost:8080/"
        },
        "outputId": "321d0791-9e9d-4672-da61-8c4a596003ee"
      },
      "source": [
        "from google.colab import drive\n",
        "drive._mount('/content/drive')"
      ],
      "execution_count": null,
      "outputs": [
        {
          "output_type": "stream",
          "name": "stdout",
          "text": [
            "Mounted at /content/drive\n"
          ]
        }
      ]
    },
    {
      "cell_type": "code",
      "metadata": {
        "id": "fnOwTGAXpLvI",
        "colab": {
          "base_uri": "https://localhost:8080/"
        },
        "outputId": "1180a15c-57a4-48db-a4e5-b5c12b1465a6"
      },
      "source": [
        "from tensorflow import keras\n",
        "import numpy as np\n",
        "import re\n",
        "import nltk\n",
        "from nltk.corpus import stopwords\n",
        "import string\n",
        "import pandas as pd\n",
        "from nltk.stem import WordNetLemmatizer\n",
        "from nltk.corpus import stopwords\n",
        "nltk.download('stopwords')\n",
        "nltk.download('wordnet')"
      ],
      "execution_count": null,
      "outputs": [
        {
          "output_type": "stream",
          "name": "stdout",
          "text": [
            "[nltk_data] Downloading package stopwords to /root/nltk_data...\n",
            "[nltk_data]   Unzipping corpora/stopwords.zip.\n",
            "[nltk_data] Downloading package wordnet to /root/nltk_data...\n",
            "[nltk_data]   Unzipping corpora/wordnet.zip.\n"
          ]
        },
        {
          "output_type": "execute_result",
          "data": {
            "text/plain": [
              "True"
            ]
          },
          "metadata": {},
          "execution_count": 2
        }
      ]
    },
    {
      "cell_type": "code",
      "metadata": {
        "id": "qpYZxDnjpo32"
      },
      "source": [
        "train=pd.read_excel('/content/drive/MyDrive/FastText_Aravec_Arabic_embeddings/dataset3and4.xlsx')\n",
        "# test=pd.read_excel('/content/drive/MyDrive/kaggle-nabil-badri/Text Classification Notebooks/BI-GRU/MyArticle-dataset-arabe/dataset1and2.xlsx')\n",
        "label=pd.read_excel('/content/drive/MyDrive/FastText_Aravec_Arabic_embeddings/dataset3and4.xlsx',header=None).iloc[:,-1]\n",
        "#OFF=0 \n",
        "#NOT=1"
      ],
      "execution_count": null,
      "outputs": []
    },
    {
      "cell_type": "code",
      "source": [
        "train['word_count'] = train['commentaire'].apply(lambda x : len(x.split()))\n",
        "train"
      ],
      "metadata": {
        "id": "NLkeXb_2qC2T",
        "colab": {
          "base_uri": "https://localhost:8080/",
          "height": 423
        },
        "outputId": "c953e4fd-fe22-482b-8b00-9670425de168"
      },
      "execution_count": null,
      "outputs": [
        {
          "output_type": "execute_result",
          "data": {
            "text/html": [
              "\n",
              "  <div id=\"df-d24aa6a9-91bc-4f34-be96-4e538cac423c\">\n",
              "    <div class=\"colab-df-container\">\n",
              "      <div>\n",
              "<style scoped>\n",
              "    .dataframe tbody tr th:only-of-type {\n",
              "        vertical-align: middle;\n",
              "    }\n",
              "\n",
              "    .dataframe tbody tr th {\n",
              "        vertical-align: top;\n",
              "    }\n",
              "\n",
              "    .dataframe thead th {\n",
              "        text-align: right;\n",
              "    }\n",
              "</style>\n",
              "<table border=\"1\" class=\"dataframe\">\n",
              "  <thead>\n",
              "    <tr style=\"text-align: right;\">\n",
              "      <th></th>\n",
              "      <th>Unnamed: 0</th>\n",
              "      <th>commentaire</th>\n",
              "      <th>classe</th>\n",
              "      <th>word_count</th>\n",
              "    </tr>\n",
              "  </thead>\n",
              "  <tbody>\n",
              "    <tr>\n",
              "      <th>0</th>\n",
              "      <td>0</td>\n",
              "      <td>الوزير جبران باسيل تاج راسك يا جربان ممنوع بعد...</td>\n",
              "      <td>abusive</td>\n",
              "      <td>17</td>\n",
              "    </tr>\n",
              "    <tr>\n",
              "      <th>1</th>\n",
              "      <td>1</td>\n",
              "      <td>صديقي انت ابن جامعه اللعبه اكبر من داعش اللعبه...</td>\n",
              "      <td>normal</td>\n",
              "      <td>15</td>\n",
              "    </tr>\n",
              "    <tr>\n",
              "      <th>2</th>\n",
              "      <td>2</td>\n",
              "      <td>و مصلحة لبنان تبدأ باستخراج النفط و الغاز لوقف...</td>\n",
              "      <td>normal</td>\n",
              "      <td>20</td>\n",
              "    </tr>\n",
              "    <tr>\n",
              "      <th>3</th>\n",
              "      <td>3</td>\n",
              "      <td>وليد جنبلاط كاتب الحكمة يا قذر</td>\n",
              "      <td>abusive</td>\n",
              "      <td>6</td>\n",
              "    </tr>\n",
              "    <tr>\n",
              "      <th>4</th>\n",
              "      <td>4</td>\n",
              "      <td>شو بتلبقلك كلمة خنزير بتجي مفصله على قياسك وشك...</td>\n",
              "      <td>abusive</td>\n",
              "      <td>9</td>\n",
              "    </tr>\n",
              "    <tr>\n",
              "      <th>...</th>\n",
              "      <td>...</td>\n",
              "      <td>...</td>\n",
              "      <td>...</td>\n",
              "      <td>...</td>\n",
              "    </tr>\n",
              "    <tr>\n",
              "      <th>9191</th>\n",
              "      <td>3348</td>\n",
              "      <td>يمشي بخطا ادارتها قيد من الأمريكان ونهب اسرائ...</td>\n",
              "      <td>hate</td>\n",
              "      <td>20</td>\n",
              "    </tr>\n",
              "    <tr>\n",
              "      <th>9192</th>\n",
              "      <td>3349</td>\n",
              "      <td>مهما حصل هندوس عليهم شويه الرويبضه بس نخلص ال...</td>\n",
              "      <td>hate</td>\n",
              "      <td>11</td>\n",
              "    </tr>\n",
              "    <tr>\n",
              "      <th>9193</th>\n",
              "      <td>3350</td>\n",
              "      <td>الكلب لا يعض اذن اخوه كذابين خنازير</td>\n",
              "      <td>hate</td>\n",
              "      <td>7</td>\n",
              "    </tr>\n",
              "    <tr>\n",
              "      <th>9194</th>\n",
              "      <td>3351</td>\n",
              "      <td>لأنه صغير ويكتب في قناة خنازير فلن نقرأ مقاله.</td>\n",
              "      <td>hate</td>\n",
              "      <td>9</td>\n",
              "    </tr>\n",
              "    <tr>\n",
              "      <th>9195</th>\n",
              "      <td>3352</td>\n",
              "      <td>الحريم أجمع افلوس وايفون قديم وواتساب ٢٤ ساعة</td>\n",
              "      <td>normal</td>\n",
              "      <td>8</td>\n",
              "    </tr>\n",
              "  </tbody>\n",
              "</table>\n",
              "<p>9196 rows × 4 columns</p>\n",
              "</div>\n",
              "      <button class=\"colab-df-convert\" onclick=\"convertToInteractive('df-d24aa6a9-91bc-4f34-be96-4e538cac423c')\"\n",
              "              title=\"Convert this dataframe to an interactive table.\"\n",
              "              style=\"display:none;\">\n",
              "        \n",
              "  <svg xmlns=\"http://www.w3.org/2000/svg\" height=\"24px\"viewBox=\"0 0 24 24\"\n",
              "       width=\"24px\">\n",
              "    <path d=\"M0 0h24v24H0V0z\" fill=\"none\"/>\n",
              "    <path d=\"M18.56 5.44l.94 2.06.94-2.06 2.06-.94-2.06-.94-.94-2.06-.94 2.06-2.06.94zm-11 1L8.5 8.5l.94-2.06 2.06-.94-2.06-.94L8.5 2.5l-.94 2.06-2.06.94zm10 10l.94 2.06.94-2.06 2.06-.94-2.06-.94-.94-2.06-.94 2.06-2.06.94z\"/><path d=\"M17.41 7.96l-1.37-1.37c-.4-.4-.92-.59-1.43-.59-.52 0-1.04.2-1.43.59L10.3 9.45l-7.72 7.72c-.78.78-.78 2.05 0 2.83L4 21.41c.39.39.9.59 1.41.59.51 0 1.02-.2 1.41-.59l7.78-7.78 2.81-2.81c.8-.78.8-2.07 0-2.86zM5.41 20L4 18.59l7.72-7.72 1.47 1.35L5.41 20z\"/>\n",
              "  </svg>\n",
              "      </button>\n",
              "      \n",
              "  <style>\n",
              "    .colab-df-container {\n",
              "      display:flex;\n",
              "      flex-wrap:wrap;\n",
              "      gap: 12px;\n",
              "    }\n",
              "\n",
              "    .colab-df-convert {\n",
              "      background-color: #E8F0FE;\n",
              "      border: none;\n",
              "      border-radius: 50%;\n",
              "      cursor: pointer;\n",
              "      display: none;\n",
              "      fill: #1967D2;\n",
              "      height: 32px;\n",
              "      padding: 0 0 0 0;\n",
              "      width: 32px;\n",
              "    }\n",
              "\n",
              "    .colab-df-convert:hover {\n",
              "      background-color: #E2EBFA;\n",
              "      box-shadow: 0px 1px 2px rgba(60, 64, 67, 0.3), 0px 1px 3px 1px rgba(60, 64, 67, 0.15);\n",
              "      fill: #174EA6;\n",
              "    }\n",
              "\n",
              "    [theme=dark] .colab-df-convert {\n",
              "      background-color: #3B4455;\n",
              "      fill: #D2E3FC;\n",
              "    }\n",
              "\n",
              "    [theme=dark] .colab-df-convert:hover {\n",
              "      background-color: #434B5C;\n",
              "      box-shadow: 0px 1px 3px 1px rgba(0, 0, 0, 0.15);\n",
              "      filter: drop-shadow(0px 1px 2px rgba(0, 0, 0, 0.3));\n",
              "      fill: #FFFFFF;\n",
              "    }\n",
              "  </style>\n",
              "\n",
              "      <script>\n",
              "        const buttonEl =\n",
              "          document.querySelector('#df-d24aa6a9-91bc-4f34-be96-4e538cac423c button.colab-df-convert');\n",
              "        buttonEl.style.display =\n",
              "          google.colab.kernel.accessAllowed ? 'block' : 'none';\n",
              "\n",
              "        async function convertToInteractive(key) {\n",
              "          const element = document.querySelector('#df-d24aa6a9-91bc-4f34-be96-4e538cac423c');\n",
              "          const dataTable =\n",
              "            await google.colab.kernel.invokeFunction('convertToInteractive',\n",
              "                                                     [key], {});\n",
              "          if (!dataTable) return;\n",
              "\n",
              "          const docLinkHtml = 'Like what you see? Visit the ' +\n",
              "            '<a target=\"_blank\" href=https://colab.research.google.com/notebooks/data_table.ipynb>data table notebook</a>'\n",
              "            + ' to learn more about interactive tables.';\n",
              "          element.innerHTML = '';\n",
              "          dataTable['output_type'] = 'display_data';\n",
              "          await google.colab.output.renderOutput(dataTable, element);\n",
              "          const docLink = document.createElement('div');\n",
              "          docLink.innerHTML = docLinkHtml;\n",
              "          element.appendChild(docLink);\n",
              "        }\n",
              "      </script>\n",
              "    </div>\n",
              "  </div>\n",
              "  "
            ],
            "text/plain": [
              "      Unnamed: 0  ... word_count\n",
              "0              0  ...         17\n",
              "1              1  ...         15\n",
              "2              2  ...         20\n",
              "3              3  ...          6\n",
              "4              4  ...          9\n",
              "...          ...  ...        ...\n",
              "9191        3348  ...         20\n",
              "9192        3349  ...         11\n",
              "9193        3350  ...          7\n",
              "9194        3351  ...          9\n",
              "9195        3352  ...          8\n",
              "\n",
              "[9196 rows x 4 columns]"
            ]
          },
          "metadata": {},
          "execution_count": 4
        }
      ]
    },
    {
      "cell_type": "code",
      "source": [
        "# #Encoding\n",
        "# df.label.replace({'normal':0,'abusive':1,'spam':2,'hateful':3},inplace=True)\n",
        "# df.head()"
      ],
      "metadata": {
        "id": "y34AftTfjFPS"
      },
      "execution_count": null,
      "outputs": []
    },
    {
      "cell_type": "code",
      "source": [
        "train[train['word_count'] == 30]"
      ],
      "metadata": {
        "id": "g8D5pStLqgzi",
        "colab": {
          "base_uri": "https://localhost:8080/",
          "height": 300
        },
        "outputId": "c02a38eb-16e9-4607-c3ed-d71738c204f5"
      },
      "execution_count": null,
      "outputs": [
        {
          "output_type": "execute_result",
          "data": {
            "text/html": [
              "\n",
              "  <div id=\"df-c6292e81-62c9-4e51-a60b-4f3994f5eb91\">\n",
              "    <div class=\"colab-df-container\">\n",
              "      <div>\n",
              "<style scoped>\n",
              "    .dataframe tbody tr th:only-of-type {\n",
              "        vertical-align: middle;\n",
              "    }\n",
              "\n",
              "    .dataframe tbody tr th {\n",
              "        vertical-align: top;\n",
              "    }\n",
              "\n",
              "    .dataframe thead th {\n",
              "        text-align: right;\n",
              "    }\n",
              "</style>\n",
              "<table border=\"1\" class=\"dataframe\">\n",
              "  <thead>\n",
              "    <tr style=\"text-align: right;\">\n",
              "      <th></th>\n",
              "      <th>Unnamed: 0</th>\n",
              "      <th>commentaire</th>\n",
              "      <th>classe</th>\n",
              "      <th>word_count</th>\n",
              "    </tr>\n",
              "  </thead>\n",
              "  <tbody>\n",
              "    <tr>\n",
              "      <th>777</th>\n",
              "      <td>777</td>\n",
              "      <td>بغل بني عثمان بيعتقل صحافيين متل بوتين وأوربان...</td>\n",
              "      <td>abusive</td>\n",
              "      <td>30</td>\n",
              "    </tr>\n",
              "    <tr>\n",
              "      <th>3591</th>\n",
              "      <td>3591</td>\n",
              "      <td>بغض النظر عن إنه كلهن كلاب بس حتى الإمارات وصل...</td>\n",
              "      <td>abusive</td>\n",
              "      <td>30</td>\n",
              "    </tr>\n",
              "    <tr>\n",
              "      <th>4645</th>\n",
              "      <td>4645</td>\n",
              "      <td>صار كل كلب عوني بدو ينشهر على تويتر  بيتطاول ع...</td>\n",
              "      <td>hate</td>\n",
              "      <td>30</td>\n",
              "    </tr>\n",
              "    <tr>\n",
              "      <th>4997</th>\n",
              "      <td>4997</td>\n",
              "      <td>اه يا فاشل افتخر ولا يهمك لأنك انسان انتهازي ح...</td>\n",
              "      <td>abusive</td>\n",
              "      <td>30</td>\n",
              "    </tr>\n",
              "    <tr>\n",
              "      <th>5038</th>\n",
              "      <td>5038</td>\n",
              "      <td>يا بغل العلم الي حضرتك حاطه هو علم تركيا يا طش...</td>\n",
              "      <td>hate</td>\n",
              "      <td>30</td>\n",
              "    </tr>\n",
              "    <tr>\n",
              "      <th>5122</th>\n",
              "      <td>5122</td>\n",
              "      <td>يا فهمان يا مقاوم حرر القدس وشو بدك بل الخزعبل...</td>\n",
              "      <td>normal</td>\n",
              "      <td>30</td>\n",
              "    </tr>\n",
              "    <tr>\n",
              "      <th>5225</th>\n",
              "      <td>5225</td>\n",
              "      <td>مارسيل غانم انتحر إعلامياً للتو ظهر عن طريق ال...</td>\n",
              "      <td>hate</td>\n",
              "      <td>30</td>\n",
              "    </tr>\n",
              "    <tr>\n",
              "      <th>5743</th>\n",
              "      <td>5743</td>\n",
              "      <td>جابتله سيرة الطاقة النووية بالغلط بلش يشرح ليه...</td>\n",
              "      <td>normal</td>\n",
              "      <td>30</td>\n",
              "    </tr>\n",
              "  </tbody>\n",
              "</table>\n",
              "</div>\n",
              "      <button class=\"colab-df-convert\" onclick=\"convertToInteractive('df-c6292e81-62c9-4e51-a60b-4f3994f5eb91')\"\n",
              "              title=\"Convert this dataframe to an interactive table.\"\n",
              "              style=\"display:none;\">\n",
              "        \n",
              "  <svg xmlns=\"http://www.w3.org/2000/svg\" height=\"24px\"viewBox=\"0 0 24 24\"\n",
              "       width=\"24px\">\n",
              "    <path d=\"M0 0h24v24H0V0z\" fill=\"none\"/>\n",
              "    <path d=\"M18.56 5.44l.94 2.06.94-2.06 2.06-.94-2.06-.94-.94-2.06-.94 2.06-2.06.94zm-11 1L8.5 8.5l.94-2.06 2.06-.94-2.06-.94L8.5 2.5l-.94 2.06-2.06.94zm10 10l.94 2.06.94-2.06 2.06-.94-2.06-.94-.94-2.06-.94 2.06-2.06.94z\"/><path d=\"M17.41 7.96l-1.37-1.37c-.4-.4-.92-.59-1.43-.59-.52 0-1.04.2-1.43.59L10.3 9.45l-7.72 7.72c-.78.78-.78 2.05 0 2.83L4 21.41c.39.39.9.59 1.41.59.51 0 1.02-.2 1.41-.59l7.78-7.78 2.81-2.81c.8-.78.8-2.07 0-2.86zM5.41 20L4 18.59l7.72-7.72 1.47 1.35L5.41 20z\"/>\n",
              "  </svg>\n",
              "      </button>\n",
              "      \n",
              "  <style>\n",
              "    .colab-df-container {\n",
              "      display:flex;\n",
              "      flex-wrap:wrap;\n",
              "      gap: 12px;\n",
              "    }\n",
              "\n",
              "    .colab-df-convert {\n",
              "      background-color: #E8F0FE;\n",
              "      border: none;\n",
              "      border-radius: 50%;\n",
              "      cursor: pointer;\n",
              "      display: none;\n",
              "      fill: #1967D2;\n",
              "      height: 32px;\n",
              "      padding: 0 0 0 0;\n",
              "      width: 32px;\n",
              "    }\n",
              "\n",
              "    .colab-df-convert:hover {\n",
              "      background-color: #E2EBFA;\n",
              "      box-shadow: 0px 1px 2px rgba(60, 64, 67, 0.3), 0px 1px 3px 1px rgba(60, 64, 67, 0.15);\n",
              "      fill: #174EA6;\n",
              "    }\n",
              "\n",
              "    [theme=dark] .colab-df-convert {\n",
              "      background-color: #3B4455;\n",
              "      fill: #D2E3FC;\n",
              "    }\n",
              "\n",
              "    [theme=dark] .colab-df-convert:hover {\n",
              "      background-color: #434B5C;\n",
              "      box-shadow: 0px 1px 3px 1px rgba(0, 0, 0, 0.15);\n",
              "      filter: drop-shadow(0px 1px 2px rgba(0, 0, 0, 0.3));\n",
              "      fill: #FFFFFF;\n",
              "    }\n",
              "  </style>\n",
              "\n",
              "      <script>\n",
              "        const buttonEl =\n",
              "          document.querySelector('#df-c6292e81-62c9-4e51-a60b-4f3994f5eb91 button.colab-df-convert');\n",
              "        buttonEl.style.display =\n",
              "          google.colab.kernel.accessAllowed ? 'block' : 'none';\n",
              "\n",
              "        async function convertToInteractive(key) {\n",
              "          const element = document.querySelector('#df-c6292e81-62c9-4e51-a60b-4f3994f5eb91');\n",
              "          const dataTable =\n",
              "            await google.colab.kernel.invokeFunction('convertToInteractive',\n",
              "                                                     [key], {});\n",
              "          if (!dataTable) return;\n",
              "\n",
              "          const docLinkHtml = 'Like what you see? Visit the ' +\n",
              "            '<a target=\"_blank\" href=https://colab.research.google.com/notebooks/data_table.ipynb>data table notebook</a>'\n",
              "            + ' to learn more about interactive tables.';\n",
              "          element.innerHTML = '';\n",
              "          dataTable['output_type'] = 'display_data';\n",
              "          await google.colab.output.renderOutput(dataTable, element);\n",
              "          const docLink = document.createElement('div');\n",
              "          docLink.innerHTML = docLinkHtml;\n",
              "          element.appendChild(docLink);\n",
              "        }\n",
              "      </script>\n",
              "    </div>\n",
              "  </div>\n",
              "  "
            ],
            "text/plain": [
              "      Unnamed: 0  ... word_count\n",
              "777          777  ...         30\n",
              "3591        3591  ...         30\n",
              "4645        4645  ...         30\n",
              "4997        4997  ...         30\n",
              "5038        5038  ...         30\n",
              "5122        5122  ...         30\n",
              "5225        5225  ...         30\n",
              "5743        5743  ...         30\n",
              "\n",
              "[8 rows x 4 columns]"
            ]
          },
          "metadata": {},
          "execution_count": 6
        }
      ]
    },
    {
      "cell_type": "code",
      "source": [
        "train['commentaire'][3335]"
      ],
      "metadata": {
        "id": "N2lLrbnqqsFk",
        "colab": {
          "base_uri": "https://localhost:8080/",
          "height": 36
        },
        "outputId": "98b1e4c8-2ec0-4c9f-df98-08719b017049"
      },
      "execution_count": null,
      "outputs": [
        {
          "output_type": "execute_result",
          "data": {
            "application/vnd.google.colaboratory.intrinsic+json": {
              "type": "string"
            },
            "text/plain": [
              "'لازم يغَيرولا إسما من وزارة الطاقة ل وزارة كان بدنا ننجز بس ما خلّونا'"
            ]
          },
          "metadata": {},
          "execution_count": 7
        }
      ]
    },
    {
      "cell_type": "code",
      "metadata": {
        "id": "reTRftvWpUJk",
        "colab": {
          "base_uri": "https://localhost:8080/"
        },
        "outputId": "e27e3699-c26b-4d29-c740-845f8ad4132d"
      },
      "source": [
        "y_train=train['classe']\n",
        "X_train=train['commentaire']\n",
        "#test=test['comm']\n",
        "y_train=pd.factorize(y_train)[0]\n",
        "# y_test=pd.factorize(y_test)[0]\n",
        "train['labels'] = pd.factorize(y_train)[0]\n",
        "\n",
        "import collections\n",
        "collections.Counter(y_train)\n",
        "\n",
        "#Counter({0: 4400, 1: 8840})"
      ],
      "execution_count": null,
      "outputs": [
        {
          "output_type": "execute_result",
          "data": {
            "text/plain": [
              "Counter({0: 1746, 1: 4565, 2: 2885})"
            ]
          },
          "metadata": {},
          "execution_count": 8
        }
      ]
    },
    {
      "cell_type": "code",
      "source": [
        "train"
      ],
      "metadata": {
        "id": "gJDueK0Uh9kN",
        "colab": {
          "base_uri": "https://localhost:8080/",
          "height": 423
        },
        "outputId": "496ce71e-333c-47b9-f2d0-4e51646890da"
      },
      "execution_count": null,
      "outputs": [
        {
          "output_type": "execute_result",
          "data": {
            "text/html": [
              "\n",
              "  <div id=\"df-07a81d41-6062-4a18-a602-b3ae92b1504f\">\n",
              "    <div class=\"colab-df-container\">\n",
              "      <div>\n",
              "<style scoped>\n",
              "    .dataframe tbody tr th:only-of-type {\n",
              "        vertical-align: middle;\n",
              "    }\n",
              "\n",
              "    .dataframe tbody tr th {\n",
              "        vertical-align: top;\n",
              "    }\n",
              "\n",
              "    .dataframe thead th {\n",
              "        text-align: right;\n",
              "    }\n",
              "</style>\n",
              "<table border=\"1\" class=\"dataframe\">\n",
              "  <thead>\n",
              "    <tr style=\"text-align: right;\">\n",
              "      <th></th>\n",
              "      <th>Unnamed: 0</th>\n",
              "      <th>commentaire</th>\n",
              "      <th>classe</th>\n",
              "      <th>word_count</th>\n",
              "      <th>labels</th>\n",
              "    </tr>\n",
              "  </thead>\n",
              "  <tbody>\n",
              "    <tr>\n",
              "      <th>0</th>\n",
              "      <td>0</td>\n",
              "      <td>الوزير جبران باسيل تاج راسك يا جربان ممنوع بعد...</td>\n",
              "      <td>abusive</td>\n",
              "      <td>17</td>\n",
              "      <td>0</td>\n",
              "    </tr>\n",
              "    <tr>\n",
              "      <th>1</th>\n",
              "      <td>1</td>\n",
              "      <td>صديقي انت ابن جامعه اللعبه اكبر من داعش اللعبه...</td>\n",
              "      <td>normal</td>\n",
              "      <td>15</td>\n",
              "      <td>1</td>\n",
              "    </tr>\n",
              "    <tr>\n",
              "      <th>2</th>\n",
              "      <td>2</td>\n",
              "      <td>و مصلحة لبنان تبدأ باستخراج النفط و الغاز لوقف...</td>\n",
              "      <td>normal</td>\n",
              "      <td>20</td>\n",
              "      <td>1</td>\n",
              "    </tr>\n",
              "    <tr>\n",
              "      <th>3</th>\n",
              "      <td>3</td>\n",
              "      <td>وليد جنبلاط كاتب الحكمة يا قذر</td>\n",
              "      <td>abusive</td>\n",
              "      <td>6</td>\n",
              "      <td>0</td>\n",
              "    </tr>\n",
              "    <tr>\n",
              "      <th>4</th>\n",
              "      <td>4</td>\n",
              "      <td>شو بتلبقلك كلمة خنزير بتجي مفصله على قياسك وشك...</td>\n",
              "      <td>abusive</td>\n",
              "      <td>9</td>\n",
              "      <td>0</td>\n",
              "    </tr>\n",
              "    <tr>\n",
              "      <th>...</th>\n",
              "      <td>...</td>\n",
              "      <td>...</td>\n",
              "      <td>...</td>\n",
              "      <td>...</td>\n",
              "      <td>...</td>\n",
              "    </tr>\n",
              "    <tr>\n",
              "      <th>9191</th>\n",
              "      <td>3348</td>\n",
              "      <td>يمشي بخطا ادارتها قيد من الأمريكان ونهب اسرائ...</td>\n",
              "      <td>hate</td>\n",
              "      <td>20</td>\n",
              "      <td>2</td>\n",
              "    </tr>\n",
              "    <tr>\n",
              "      <th>9192</th>\n",
              "      <td>3349</td>\n",
              "      <td>مهما حصل هندوس عليهم شويه الرويبضه بس نخلص ال...</td>\n",
              "      <td>hate</td>\n",
              "      <td>11</td>\n",
              "      <td>2</td>\n",
              "    </tr>\n",
              "    <tr>\n",
              "      <th>9193</th>\n",
              "      <td>3350</td>\n",
              "      <td>الكلب لا يعض اذن اخوه كذابين خنازير</td>\n",
              "      <td>hate</td>\n",
              "      <td>7</td>\n",
              "      <td>2</td>\n",
              "    </tr>\n",
              "    <tr>\n",
              "      <th>9194</th>\n",
              "      <td>3351</td>\n",
              "      <td>لأنه صغير ويكتب في قناة خنازير فلن نقرأ مقاله.</td>\n",
              "      <td>hate</td>\n",
              "      <td>9</td>\n",
              "      <td>2</td>\n",
              "    </tr>\n",
              "    <tr>\n",
              "      <th>9195</th>\n",
              "      <td>3352</td>\n",
              "      <td>الحريم أجمع افلوس وايفون قديم وواتساب ٢٤ ساعة</td>\n",
              "      <td>normal</td>\n",
              "      <td>8</td>\n",
              "      <td>1</td>\n",
              "    </tr>\n",
              "  </tbody>\n",
              "</table>\n",
              "<p>9196 rows × 5 columns</p>\n",
              "</div>\n",
              "      <button class=\"colab-df-convert\" onclick=\"convertToInteractive('df-07a81d41-6062-4a18-a602-b3ae92b1504f')\"\n",
              "              title=\"Convert this dataframe to an interactive table.\"\n",
              "              style=\"display:none;\">\n",
              "        \n",
              "  <svg xmlns=\"http://www.w3.org/2000/svg\" height=\"24px\"viewBox=\"0 0 24 24\"\n",
              "       width=\"24px\">\n",
              "    <path d=\"M0 0h24v24H0V0z\" fill=\"none\"/>\n",
              "    <path d=\"M18.56 5.44l.94 2.06.94-2.06 2.06-.94-2.06-.94-.94-2.06-.94 2.06-2.06.94zm-11 1L8.5 8.5l.94-2.06 2.06-.94-2.06-.94L8.5 2.5l-.94 2.06-2.06.94zm10 10l.94 2.06.94-2.06 2.06-.94-2.06-.94-.94-2.06-.94 2.06-2.06.94z\"/><path d=\"M17.41 7.96l-1.37-1.37c-.4-.4-.92-.59-1.43-.59-.52 0-1.04.2-1.43.59L10.3 9.45l-7.72 7.72c-.78.78-.78 2.05 0 2.83L4 21.41c.39.39.9.59 1.41.59.51 0 1.02-.2 1.41-.59l7.78-7.78 2.81-2.81c.8-.78.8-2.07 0-2.86zM5.41 20L4 18.59l7.72-7.72 1.47 1.35L5.41 20z\"/>\n",
              "  </svg>\n",
              "      </button>\n",
              "      \n",
              "  <style>\n",
              "    .colab-df-container {\n",
              "      display:flex;\n",
              "      flex-wrap:wrap;\n",
              "      gap: 12px;\n",
              "    }\n",
              "\n",
              "    .colab-df-convert {\n",
              "      background-color: #E8F0FE;\n",
              "      border: none;\n",
              "      border-radius: 50%;\n",
              "      cursor: pointer;\n",
              "      display: none;\n",
              "      fill: #1967D2;\n",
              "      height: 32px;\n",
              "      padding: 0 0 0 0;\n",
              "      width: 32px;\n",
              "    }\n",
              "\n",
              "    .colab-df-convert:hover {\n",
              "      background-color: #E2EBFA;\n",
              "      box-shadow: 0px 1px 2px rgba(60, 64, 67, 0.3), 0px 1px 3px 1px rgba(60, 64, 67, 0.15);\n",
              "      fill: #174EA6;\n",
              "    }\n",
              "\n",
              "    [theme=dark] .colab-df-convert {\n",
              "      background-color: #3B4455;\n",
              "      fill: #D2E3FC;\n",
              "    }\n",
              "\n",
              "    [theme=dark] .colab-df-convert:hover {\n",
              "      background-color: #434B5C;\n",
              "      box-shadow: 0px 1px 3px 1px rgba(0, 0, 0, 0.15);\n",
              "      filter: drop-shadow(0px 1px 2px rgba(0, 0, 0, 0.3));\n",
              "      fill: #FFFFFF;\n",
              "    }\n",
              "  </style>\n",
              "\n",
              "      <script>\n",
              "        const buttonEl =\n",
              "          document.querySelector('#df-07a81d41-6062-4a18-a602-b3ae92b1504f button.colab-df-convert');\n",
              "        buttonEl.style.display =\n",
              "          google.colab.kernel.accessAllowed ? 'block' : 'none';\n",
              "\n",
              "        async function convertToInteractive(key) {\n",
              "          const element = document.querySelector('#df-07a81d41-6062-4a18-a602-b3ae92b1504f');\n",
              "          const dataTable =\n",
              "            await google.colab.kernel.invokeFunction('convertToInteractive',\n",
              "                                                     [key], {});\n",
              "          if (!dataTable) return;\n",
              "\n",
              "          const docLinkHtml = 'Like what you see? Visit the ' +\n",
              "            '<a target=\"_blank\" href=https://colab.research.google.com/notebooks/data_table.ipynb>data table notebook</a>'\n",
              "            + ' to learn more about interactive tables.';\n",
              "          element.innerHTML = '';\n",
              "          dataTable['output_type'] = 'display_data';\n",
              "          await google.colab.output.renderOutput(dataTable, element);\n",
              "          const docLink = document.createElement('div');\n",
              "          docLink.innerHTML = docLinkHtml;\n",
              "          element.appendChild(docLink);\n",
              "        }\n",
              "      </script>\n",
              "    </div>\n",
              "  </div>\n",
              "  "
            ],
            "text/plain": [
              "      Unnamed: 0  ... labels\n",
              "0              0  ...      0\n",
              "1              1  ...      1\n",
              "2              2  ...      1\n",
              "3              3  ...      0\n",
              "4              4  ...      0\n",
              "...          ...  ...    ...\n",
              "9191        3348  ...      2\n",
              "9192        3349  ...      2\n",
              "9193        3350  ...      2\n",
              "9194        3351  ...      2\n",
              "9195        3352  ...      1\n",
              "\n",
              "[9196 rows x 5 columns]"
            ]
          },
          "metadata": {},
          "execution_count": 9
        }
      ]
    },
    {
      "cell_type": "code",
      "source": [
        "import nltk\n",
        "nltk.download('stopwords')\n",
        "nltk.download('wordnet')\n",
        "from nltk.corpus import stopwords\n",
        "stopwords_list = stopwords.words('arabic')"
      ],
      "metadata": {
        "id": "oGLoYOBGcQLC",
        "colab": {
          "base_uri": "https://localhost:8080/"
        },
        "outputId": "9b04f91e-a90f-4bea-c70b-8c7e553029bc"
      },
      "execution_count": null,
      "outputs": [
        {
          "output_type": "stream",
          "name": "stdout",
          "text": [
            "[nltk_data] Downloading package stopwords to /root/nltk_data...\n",
            "[nltk_data]   Package stopwords is already up-to-date!\n",
            "[nltk_data] Downloading package wordnet to /root/nltk_data...\n",
            "[nltk_data]   Package wordnet is already up-to-date!\n"
          ]
        }
      ]
    },
    {
      "cell_type": "code",
      "source": [
        "#cleaning data\n",
        "import re\n",
        "from nltk.stem.porter import PorterStemmer\n",
        "tokenizer=nltk.tokenize.WhitespaceTokenizer()\n",
        "from nltk.stem.isri import ISRIStemmer\n",
        "st = ISRIStemmer()\n",
        "from snowballstemmer import stemmer\n",
        "ar_stemmer = stemmer(\"arabic\")\n",
        "def preprocess(review):\n",
        "   review = re.sub('[^ا-ي]', ' ', review)\n",
        " \n",
        "   review = tokenizer.tokenize(review)\n",
        "   review = [ar_stemmer.stemWord(word) for word in review if not word in set(stopwords_list )]\n",
        "   review = ' '.join(review)\n",
        "   return review"
      ],
      "metadata": {
        "id": "eTokWOWpbiMT"
      },
      "execution_count": null,
      "outputs": []
    },
    {
      "cell_type": "code",
      "source": [
        "# X_train = train['commentaire'].apply(preprocess)\n",
        "X_train = X_train.apply(preprocess)\n"
      ],
      "metadata": {
        "id": "0fUSTtv_b2Tj"
      },
      "execution_count": null,
      "outputs": []
    },
    {
      "cell_type": "code",
      "source": [
        "X_train[0] ### Après preprocessing"
      ],
      "metadata": {
        "id": "pHWUrV9_cchK",
        "colab": {
          "base_uri": "https://localhost:8080/",
          "height": 36
        },
        "outputId": "5cef6c43-f75a-493a-ae0e-258c6013f9af"
      },
      "execution_count": null,
      "outputs": [
        {
          "output_type": "execute_result",
          "data": {
            "application/vnd.google.colaboratory.intrinsic+json": {
              "type": "string"
            },
            "text/plain": [
              "'وزير جبران باسيل تاج راس جربان ممنوع يوم مساس مقدسا ربنا وال يسوع مسيح'"
            ]
          },
          "metadata": {},
          "execution_count": 13
        }
      ]
    },
    {
      "cell_type": "code",
      "source": [
        "train['commentaire'][0] ### Originale"
      ],
      "metadata": {
        "id": "TNY4hgF8dEM6",
        "colab": {
          "base_uri": "https://localhost:8080/",
          "height": 36
        },
        "outputId": "6c7e8184-00f6-4a62-90f5-3145852e00d2"
      },
      "execution_count": null,
      "outputs": [
        {
          "output_type": "execute_result",
          "data": {
            "application/vnd.google.colaboratory.intrinsic+json": {
              "type": "string"
            },
            "text/plain": [
              "'الوزير جبران باسيل تاج راسك يا جربان ممنوع بعد اليوم المساس بمقدساتنا من ربنا والهنا يسوع المسيح'"
            ]
          },
          "metadata": {},
          "execution_count": 14
        }
      ]
    },
    {
      "cell_type": "code",
      "metadata": {
        "id": "qMwojEJFiiBY"
      },
      "source": [
        "# x=train[323].lower().replace('@user','').replace('url','')\n",
        "# x=re.sub('[^A-Za-z]', ' ', x)\n",
        "# re.sub('http[s]?://(?:[a-zA-Z]|[0-9]|[$-_@.&+]|'\n",
        "#         '[!*\\(\\),]|(?:%[0-9a-fA-F][0-9a-fA-F]))+','',x)"
      ],
      "execution_count": null,
      "outputs": []
    },
    {
      "cell_type": "code",
      "metadata": {
        "id": "0KkTgzF_q4s1"
      },
      "source": [
        "# # Creating the training corpus\n",
        "# stop_words = set(stopwords.words(\"english\")) \n",
        "# lemmatizer = WordNetLemmatizer()\n",
        "# corpus_train = []\n",
        "# for i in train:\n",
        "#     x=i.lower()\n",
        "#     x=x.replace('@user','')\n",
        "#     x=x.replace('@[\\w\\-]+','')\n",
        "#     #x=x.translate(str.maketrans('', '', string.punctuation))\n",
        "#     x = re.sub('[^A-Za-z]', ' ', x)\n",
        "#     #x=re.sub('\\s+',' ',x)\n",
        "#     x=re.sub('http[s]?://(?:[a-zA-Z]|[0-9]|[$-_@.&+]|'\n",
        "#         '[!*\\(\\),]|(?:%[0-9a-fA-F][0-9a-fA-F]))+','',x) #url\n",
        "#     #x = [lemmatizer.lemmatize(token) for token in x.split(\" \")]\n",
        "#     #x = [word for word in x if not word in stop_words]\n",
        "#     #x=\" \".join(x)\n",
        "#     corpus_train.append(x)    \n",
        "# # Creating the training corpus\n",
        "# corpus_test = []\n",
        "# for i in test:\n",
        "#     x=i.lower()\n",
        "#     x=x.replace('@user','')\n",
        "#     x=x.replace('@[\\w\\-]+','')\n",
        "#     #x=x.translate(str.maketrans('', '', string.punctuation))\n",
        "#     x = re.sub('[^A-Za-z]', ' ', x)\n",
        "#     #x=re.sub('\\s+',' ',x)\n",
        "#     x=re.sub('http[s]?://(?:[a-zA-Z]|[0-9]|[$-_@.&+]|'\n",
        "#         '[!*\\(\\),]|(?:%[0-9a-fA-F][0-9a-fA-F]))+','',x) #url\n",
        "#     #x = [lemmatizer.lemmatize(token) for token in x.split(\" \")]\n",
        "#     #x = [word for word in x if not word in stop_words]\n",
        "#     #x=\" \".join(x)\n",
        "#     corpus_test.append(x) "
      ],
      "execution_count": null,
      "outputs": []
    },
    {
      "cell_type": "code",
      "metadata": {
        "id": "GyyHvozBq7kf"
      },
      "source": [
        "# from keras.preprocessing.text import Tokenizer\n",
        "# from keras.preprocessing import sequence\n",
        "# max_words = 5000 #frequency of words to be kept\n",
        "# max_len = 200\n",
        "# tokenize = Tokenizer(num_words=max_words)\n",
        "# tokenize.fit_on_texts(corpus_train)\n",
        "# sequences = tokenize.texts_to_sequences(corpus_train)\n",
        "# word_index = tokenize.word_index\n",
        "# sequences_matrix = sequence.pad_sequences(sequences,maxlen=max_len)"
      ],
      "execution_count": null,
      "outputs": []
    },
    {
      "cell_type": "code",
      "source": [
        "# splitting the data into target and feature\n",
        "from sklearn.model_selection import train_test_split\n",
        "from keras.preprocessing.text import Tokenizer\n",
        "from keras.preprocessing.sequence import pad_sequences \n",
        "\n",
        "X_train, X_test, y_train, y_test = train_test_split(X_train, y_train ,test_size = 0.1, random_state=0)\n",
        "tokenizer = Tokenizer(lower=True)\n",
        "tokenizer.fit_on_texts(X_train)\n",
        "\n",
        "X_train = tokenizer.texts_to_sequences(X_train)\n",
        "X_test = tokenizer.texts_to_sequences(X_test)\n",
        "\n",
        "vocab_size = len(tokenizer.word_index) + 1 \n",
        "vocab_size # Adding 1 because of reserved 0 index"
      ],
      "metadata": {
        "id": "DUs3GSQ9e6lq",
        "colab": {
          "base_uri": "https://localhost:8080/"
        },
        "outputId": "15d83998-8875-447f-a791-5cecefcd03f6"
      },
      "execution_count": null,
      "outputs": [
        {
          "output_type": "execute_result",
          "data": {
            "text/plain": [
              "15289"
            ]
          },
          "metadata": {},
          "execution_count": 18
        }
      ]
    },
    {
      "cell_type": "code",
      "source": [
        "word_index = tokenizer.word_index\n"
      ],
      "metadata": {
        "id": "_Ae1X0N6mtK1"
      },
      "execution_count": null,
      "outputs": []
    },
    {
      "cell_type": "code",
      "source": [
        "lens_train = [len(i) for i in X_train]\n",
        "lens_test = [len(i) for i in X_test]\n",
        "lens = lens_train + lens_test\n",
        "\n",
        "maxlen = np.max(lens)\n",
        "print('Max len:', maxlen)"
      ],
      "metadata": {
        "id": "gm9MD9MKgew-",
        "colab": {
          "base_uri": "https://localhost:8080/"
        },
        "outputId": "c3981f30-a3df-4563-9f4c-502ddfe6f4d4"
      },
      "execution_count": null,
      "outputs": [
        {
          "output_type": "stream",
          "name": "stdout",
          "text": [
            "Max len: 46\n"
          ]
        }
      ]
    },
    {
      "cell_type": "code",
      "source": [
        "# len(x.split())\n",
        "\n",
        "# lens_train = [len(i.split()) for i in list(train['commentaire'])]\n",
        "# lens_test = [len(i.split()) for i in X_test]\n",
        "# lens = lens_train + lens_test\n",
        "\n",
        "# maxlen_ = np.max(train['word_count'])\n",
        "# print('Max len:', maxlen_)\n"
      ],
      "metadata": {
        "id": "MHCkOuIlo0Bc"
      },
      "execution_count": null,
      "outputs": []
    },
    {
      "cell_type": "code",
      "metadata": {
        "id": "sYN-06rwkCyJ"
      },
      "source": [
        "# num_words = min(max_words, len(word_index)) + 1\n",
        "# print(num_words)"
      ],
      "execution_count": null,
      "outputs": []
    },
    {
      "cell_type": "code",
      "source": [
        "### AraVec embeddings\n",
        "#!wget https://bakrianoo.ewr1.vultrobjects.com/aravec/full_grams_cbow_300_twitter.zip"
      ],
      "metadata": {
        "id": "DO1yndKJiXxl"
      },
      "execution_count": null,
      "outputs": []
    },
    {
      "cell_type": "code",
      "source": [
        "### FastText Arabic embeddings\n",
        "#!wget https://dl.fbaipublicfiles.com/fasttext/vectors-crawl/cc.ar.300.vec.gz"
      ],
      "metadata": {
        "id": "N9NhnutckY-C"
      },
      "execution_count": null,
      "outputs": []
    },
    {
      "cell_type": "code",
      "metadata": {
        "id": "vNP3UOz1djK_"
      },
      "source": [
        "### Unzip AraVec \n",
        "#!unzip /content/full_grams_cbow_300_twitter.zip"
      ],
      "execution_count": null,
      "outputs": []
    },
    {
      "cell_type": "code",
      "source": [
        "### Unzip FastText Arabic\n",
        "#!gzip -d /content/cc.ar.300.vec.gz"
      ],
      "metadata": {
        "id": "bPzCEayqk0o0"
      },
      "execution_count": null,
      "outputs": []
    },
    {
      "cell_type": "code",
      "metadata": {
        "id": "vlMA1Qwfg0EA"
      },
      "source": [
        "embedding_path1 = \"/content/drive/MyDrive/FastText_Aravec_Arabic_embeddings/cc.ar.300.vec\" ### FadText Arabic\n",
        "embedding_path2 = \"/content/drive/MyDrive/FastText_Aravec_Arabic_embeddings/full_grams_cbow_300_twitter.mdl.wv.vectors.npy\" ### AraVec\n",
        "embed_size = 300"
      ],
      "execution_count": null,
      "outputs": []
    },
    {
      "cell_type": "code",
      "metadata": {
        "id": "TyxVJQ45rSW3"
      },
      "source": [
        "def get_coefs(word,*arr):\n",
        "    return word, np.asarray(arr, dtype='float32')\n",
        "\n",
        "def build_matrix(embedding_path, word_index):\n",
        "    embedding_index = dict(get_coefs(*o.strip().split(\" \")) for o in open(embedding_path))\n",
        "\n",
        "    nb_words = min(maxlen, len(word_index))\n",
        "    # embedding_matrix = np.zeros((nb_words + 1, embed_size))\n",
        "    embedding_matrix = np.zeros((vocab_size + 1, embed_size))\n",
        "    for word, i in word_index.items():\n",
        "        if i >= maxlen:\n",
        "            continue\n",
        "        embedding_vector = embedding_index.get(word)\n",
        "        if embedding_vector is not None:\n",
        "            embedding_matrix[i] = embedding_vector\n",
        "    return embedding_matrix\n"
      ],
      "execution_count": null,
      "outputs": []
    },
    {
      "cell_type": "code",
      "metadata": {
        "id": "zYUKY8LXkIoK"
      },
      "source": [
        "fasttext_arabic_emb = build_matrix(embedding_path1, word_index)\n",
        "# aravec_emb = build_matrix(embedding_path2, word_index)"
      ],
      "execution_count": null,
      "outputs": []
    },
    {
      "cell_type": "code",
      "metadata": {
        "id": "ujFHFjvZgbri",
        "colab": {
          "base_uri": "https://localhost:8080/"
        },
        "outputId": "21ae95ec-dc38-4024-f548-b79dd1797024"
      },
      "source": [
        "fasttext_arabic_emb.shape"
      ],
      "execution_count": null,
      "outputs": [
        {
          "output_type": "execute_result",
          "data": {
            "text/plain": [
              "(15290, 300)"
            ]
          },
          "metadata": {},
          "execution_count": 30
        }
      ]
    },
    {
      "cell_type": "code",
      "source": [
        "import gensim\n",
        "\n",
        "t_model = gensim.models.Word2Vec.load('/content/drive/MyDrive/FastText_Aravec_Arabic_embeddings/full_grams_cbow_300_twitter.mdl')"
      ],
      "metadata": {
        "id": "Tla3YBh1xpBK"
      },
      "execution_count": null,
      "outputs": []
    },
    {
      "cell_type": "code",
      "source": [
        "# word_vector = t_model.wv[ token ]\n",
        "\n",
        "def build_aravec_matrix(embedding_path, word_index):\n",
        "\n",
        "    nb_words = min(maxlen, len(word_index))\n",
        "    # embedding_matrix = np.zeros((nb_words + 1, embed_size))\n",
        "    embedding_matrix = np.zeros((vocab_size + 1, embed_size))\n",
        "    for word, i in word_index.items():\n",
        "        if i >= maxlen:\n",
        "            continue\n",
        "        try:\n",
        "          embedding_vector = t_model.wv[word]\n",
        "        except KeyError:\n",
        "          continue\n",
        "        if embedding_vector is not None:\n",
        "            embedding_matrix[i] = t_model.wv[word]\n",
        "    return embedding_matrix"
      ],
      "metadata": {
        "id": "VPIk72dXx4rz"
      },
      "execution_count": null,
      "outputs": []
    },
    {
      "cell_type": "code",
      "source": [
        "aravec_emb = build_aravec_matrix(embedding_path2, word_index)"
      ],
      "metadata": {
        "id": "jPT-r20-vv3L"
      },
      "execution_count": null,
      "outputs": []
    },
    {
      "cell_type": "code",
      "source": [
        "aravec_emb.shape"
      ],
      "metadata": {
        "id": "-GfJTGLH9GiR",
        "colab": {
          "base_uri": "https://localhost:8080/"
        },
        "outputId": "ee76a020-bfa3-4300-c564-9dd3d1f3431d"
      },
      "execution_count": null,
      "outputs": [
        {
          "output_type": "execute_result",
          "data": {
            "text/plain": [
              "(15290, 300)"
            ]
          },
          "metadata": {},
          "execution_count": 34
        }
      ]
    },
    {
      "cell_type": "code",
      "source": [
        "aravec_emb"
      ],
      "metadata": {
        "id": "ywE3rEY3AvVS",
        "colab": {
          "base_uri": "https://localhost:8080/"
        },
        "outputId": "adb977d8-2e26-447a-aa04-9e1b6e81e0c3"
      },
      "execution_count": null,
      "outputs": [
        {
          "output_type": "execute_result",
          "data": {
            "text/plain": [
              "array([[ 0.        ,  0.        ,  0.        , ...,  0.        ,\n",
              "         0.        ,  0.        ],\n",
              "       [ 0.14556547,  0.42558247,  0.31349891, ...,  0.99427533,\n",
              "        -0.72583079,  2.37648702],\n",
              "       [-0.38673455,  0.33680117,  1.18331623, ..., -0.91360921,\n",
              "        -1.73035276,  0.03432675],\n",
              "       ...,\n",
              "       [ 0.        ,  0.        ,  0.        , ...,  0.        ,\n",
              "         0.        ,  0.        ],\n",
              "       [ 0.        ,  0.        ,  0.        , ...,  0.        ,\n",
              "         0.        ,  0.        ],\n",
              "       [ 0.        ,  0.        ,  0.        , ...,  0.        ,\n",
              "         0.        ,  0.        ]])"
            ]
          },
          "metadata": {},
          "execution_count": 35
        }
      ]
    },
    {
      "cell_type": "markdown",
      "metadata": {
        "id": "uiArU6WLwghI"
      },
      "source": [
        "ccombinaison des deux embedding\n"
      ]
    },
    {
      "cell_type": "code",
      "metadata": {
        "id": "v7uZ-HJ4ln2_",
        "colab": {
          "base_uri": "https://localhost:8080/"
        },
        "outputId": "fff64854-aec4-4918-c21e-b9c1da46a2e7"
      },
      "source": [
        "embedding_matrix2=np.mean((fasttext_arabic_emb, aravec_emb),axis=0)\n",
        "embedding_matrix2.shape"
      ],
      "execution_count": null,
      "outputs": [
        {
          "output_type": "execute_result",
          "data": {
            "text/plain": [
              "(15290, 300)"
            ]
          },
          "metadata": {},
          "execution_count": 36
        }
      ]
    },
    {
      "cell_type": "code",
      "metadata": {
        "id": "dLnt7QKJ8WzH"
      },
      "source": [
        "from keras.preprocessing import sequence\n",
        "\n",
        "# test_sequences = tokenize.texts_to_sequences(corpus_test)\n",
        "X_train_pad = sequence.pad_sequences(X_train, maxlen=maxlen)\n",
        "X_test_pad  = sequence.pad_sequences(X_test, maxlen=maxlen)"
      ],
      "execution_count": null,
      "outputs": []
    },
    {
      "cell_type": "code",
      "metadata": {
        "id": "EVwNl2COnOTt"
      },
      "source": [
        "from keras import backend as K\n",
        "def f1(y_true, y_pred):\n",
        "    \n",
        "    def recall(y_true, y_pred):\n",
        "        \"\"\"Recall metric.\n",
        "\n",
        "        Only computes a batch-wise average of recall.\n",
        "\n",
        "        Computes the recall, a metric for multi-label classification of\n",
        "        how many relevant items are selected.\n",
        "        \"\"\"\n",
        "        true_positives = K.sum(K.round(K.clip(y_true * y_pred, 0, 1)))\n",
        "        possible_positives = K.sum(K.round(K.clip(y_true, 0, 1)))\n",
        "        recall = true_positives / (possible_positives + K.epsilon())\n",
        "        return recall\n",
        "\n",
        "    def precision(y_true, y_pred):\n",
        "        \"\"\"Precision metric.\n",
        "\n",
        "        Only computes a batch-wise average of precision.\n",
        "\n",
        "        Computes the precision, a metric for multi-label classification of\n",
        "        how many selected items are relevant.\n",
        "        \"\"\"\n",
        "        true_positives = K.sum(K.round(K.clip(y_true * y_pred, 0, 1)))\n",
        "        predicted_positives = K.sum(K.round(K.clip(y_pred, 0, 1)))\n",
        "        precision = true_positives / (predicted_positives + K.epsilon())\n",
        "        return precision\n",
        "    precision = precision(y_true, y_pred)\n",
        "    recall = recall(y_true, y_pred)\n",
        "    return 2*((precision*recall)/(precision+recall+K.epsilon()))"
      ],
      "execution_count": null,
      "outputs": []
    },
    {
      "cell_type": "code",
      "metadata": {
        "id": "9QwiUz7VFJPz"
      },
      "source": [
        "callbacks = keras.callbacks.EarlyStopping(monitor='val_f1', mode='max', verbose=1,\n",
        "                                          patience=8,restore_best_weights = True)"
      ],
      "execution_count": null,
      "outputs": []
    },
    {
      "cell_type": "code",
      "metadata": {
        "id": "HkMkKWsJrzeN"
      },
      "source": [
        "from keras.models import Sequential,Model\n",
        "from tensorflow.compat.v1.keras.layers import CuDNNGRU\n",
        "from keras.layers import Embedding,Dense,GRU\n",
        "from keras.layers import Dropout,Bidirectional,GlobalMaxPool1D,GlobalAveragePooling1D\n",
        "from keras.layers import SpatialDropout1D,concatenate,Input\n",
        "# from keras.optimizers import RMSprop\n",
        "from keras.initializers import Constant\n",
        "from sklearn.utils import class_weight\n",
        "from keras.callbacks import ModelCheckpoint\n",
        "import tensorflow as tf\n",
        "#tf.logging.set_verbosity(tf.logging.ERROR)"
      ],
      "execution_count": null,
      "outputs": []
    },
    {
      "cell_type": "code",
      "metadata": {
        "id": "Il9FI8EkTTBh"
      },
      "source": [
        "from sklearn.metrics import classification_report\n",
        "from sklearn.metrics import confusion_matrix, f1_score, precision_score, recall_score\n",
        "import matplotlib.pyplot as plt\n",
        "import seaborn as sns"
      ],
      "execution_count": null,
      "outputs": []
    },
    {
      "cell_type": "code",
      "metadata": {
        "id": "fL-leK_jTorh"
      },
      "source": [
        "class_weights = class_weight.compute_class_weight(class_weight='balanced', classes=np.unique(y_train), y=y_train)\n",
        "class_weights=dict(enumerate(class_weights))"
      ],
      "execution_count": null,
      "outputs": []
    },
    {
      "cell_type": "markdown",
      "metadata": {
        "id": "StHob8uHVS2A"
      },
      "source": [
        "# BIGRUs Model"
      ]
    },
    {
      "cell_type": "markdown",
      "metadata": {
        "id": "ZwFFlBGFR2tv"
      },
      "source": [
        "### Training a model with Aravec and Fasttext embedding\n"
      ]
    },
    {
      "cell_type": "code",
      "metadata": {
        "id": "EIRQc1aLRhHg"
      },
      "source": [
        "inp=Input((maxlen,))\n",
        "#Embedding Layer \n",
        "x=Embedding(vocab_size + 1,embed_size,embeddings_initializer=Constant(embedding_matrix2),\n",
        "            input_length=maxlen,trainable=True)(inp)\n",
        "x = SpatialDropout1D(0.2)(x)\n",
        "#GRU Bidrirectionnel\n",
        "x=Bidirectional(GRU(150, return_sequences = True))(x)\n",
        "avg_pool = GlobalAveragePooling1D()(x)\n",
        "max_pool = GlobalMaxPool1D()(x)\n",
        "conc = concatenate([avg_pool, max_pool])\n",
        "\n",
        " \n",
        "x=Dropout(0.1)(conc)\n",
        "out=Dense(64, activation=\"relu\")(x)\n",
        "out=Dense(32, activation=\"relu\")(out)\n",
        "\n",
        "out=Dense(3, activation=\"softmax\")(out)\n",
        "\n",
        "model=Model(inp,out)\n",
        "\n",
        "mcp_save = ModelCheckpoint('model.mdl_wts.hdf5', save_best_only=True,\n",
        "                           monitor='val_loss', mode='min',patience = 5)\n",
        "\n"
      ],
      "execution_count": null,
      "outputs": []
    },
    {
      "cell_type": "code",
      "metadata": {
        "id": "hCVvlC7ARlLY"
      },
      "source": [
        "model.compile(loss=tf.keras.losses.CategoricalCrossentropy(), optimizer=tf.keras.optimizers.Adam(), metrics=[f1])"
      ],
      "execution_count": null,
      "outputs": []
    },
    {
      "cell_type": "code",
      "metadata": {
        "id": "LBDAzDdwRpeJ",
        "colab": {
          "base_uri": "https://localhost:8080/"
        },
        "outputId": "6af844e1-d9c6-45c5-d5bb-004da742d2f7"
      },
      "source": [
        "model.summary()"
      ],
      "execution_count": null,
      "outputs": [
        {
          "output_type": "stream",
          "name": "stdout",
          "text": [
            "Model: \"model\"\n",
            "__________________________________________________________________________________________________\n",
            " Layer (type)                   Output Shape         Param #     Connected to                     \n",
            "==================================================================================================\n",
            " input_1 (InputLayer)           [(None, 46)]         0           []                               \n",
            "                                                                                                  \n",
            " embedding (Embedding)          (None, 46, 300)      4587000     ['input_1[0][0]']                \n",
            "                                                                                                  \n",
            " spatial_dropout1d (SpatialDrop  (None, 46, 300)     0           ['embedding[0][0]']              \n",
            " out1D)                                                                                           \n",
            "                                                                                                  \n",
            " bidirectional (Bidirectional)  (None, 46, 300)      406800      ['spatial_dropout1d[0][0]']      \n",
            "                                                                                                  \n",
            " global_average_pooling1d (Glob  (None, 300)         0           ['bidirectional[0][0]']          \n",
            " alAveragePooling1D)                                                                              \n",
            "                                                                                                  \n",
            " global_max_pooling1d (GlobalMa  (None, 300)         0           ['bidirectional[0][0]']          \n",
            " xPooling1D)                                                                                      \n",
            "                                                                                                  \n",
            " concatenate (Concatenate)      (None, 600)          0           ['global_average_pooling1d[0][0]'\n",
            "                                                                 , 'global_max_pooling1d[0][0]']  \n",
            "                                                                                                  \n",
            " dropout (Dropout)              (None, 600)          0           ['concatenate[0][0]']            \n",
            "                                                                                                  \n",
            " dense (Dense)                  (None, 64)           38464       ['dropout[0][0]']                \n",
            "                                                                                                  \n",
            " dense_1 (Dense)                (None, 32)           2080        ['dense[0][0]']                  \n",
            "                                                                                                  \n",
            " dense_2 (Dense)                (None, 3)            99          ['dense_1[0][0]']                \n",
            "                                                                                                  \n",
            "==================================================================================================\n",
            "Total params: 5,034,443\n",
            "Trainable params: 5,034,443\n",
            "Non-trainable params: 0\n",
            "__________________________________________________________________________________________________\n"
          ]
        }
      ]
    },
    {
      "cell_type": "code",
      "metadata": {
        "id": "dAjMWY-nmAeL",
        "colab": {
          "base_uri": "https://localhost:8080/",
          "height": 1000
        },
        "outputId": "c3193bbe-fe15-4c98-88a0-fda2614399ca"
      },
      "source": [
        "tf.keras.utils.plot_model(model, show_shapes=True)"
      ],
      "execution_count": null,
      "outputs": [
        {
          "output_type": "execute_result",
          "data": {
            "image/png": "[encoded data removed]",
            "text/plain": [
              "<IPython.core.display.Image object>"
            ]
          },
          "metadata": {},
          "execution_count": 46
        }
      ]
    },
    {
      "cell_type": "code",
      "source": [
        "from tensorflow.keras.utils import to_categorical\n",
        "\n",
        "y_train = to_categorical(y_train, 3)\n",
        "y_test  = to_categorical(y_test, 3)"
      ],
      "metadata": {
        "id": "khxVuHQQENNR"
      },
      "execution_count": null,
      "outputs": []
    },
    {
      "cell_type": "code",
      "metadata": {
        "id": "SFa5d1PhR__j",
        "colab": {
          "base_uri": "https://localhost:8080/"
        },
        "outputId": "0797e968-82ea-4e01-b0ca-b8b8fd3d5635"
      },
      "source": [
        "model.fit(X_train_pad, y_train, batch_size=128, epochs=30, verbose=1, class_weight=class_weights,\n",
        "          validation_split = 0.2, callbacks=[callbacks])"
      ],
      "execution_count": null,
      "outputs": [
        {
          "output_type": "stream",
          "name": "stdout",
          "text": [
            "Epoch 1/30\n",
            "52/52 [==============================] - 12s 65ms/step - loss: 0.8502 - f1: 0.4823 - val_loss: 0.8129 - val_f1: 0.5602\n",
            "Epoch 2/30\n",
            "52/52 [==============================] - 2s 42ms/step - loss: 0.6958 - f1: 0.6386 - val_loss: 0.6258 - val_f1: 0.7401\n",
            "Epoch 3/30\n",
            "52/52 [==============================] - 2s 42ms/step - loss: 0.4035 - f1: 0.8400 - val_loss: 0.7108 - val_f1: 0.7169\n",
            "Epoch 4/30\n",
            "52/52 [==============================] - 2s 42ms/step - loss: 0.1745 - f1: 0.9319 - val_loss: 0.7841 - val_f1: 0.7377\n",
            "Epoch 5/30\n",
            "52/52 [==============================] - 2s 42ms/step - loss: 0.0854 - f1: 0.9685 - val_loss: 0.9872 - val_f1: 0.7203\n",
            "Epoch 6/30\n",
            "52/52 [==============================] - 2s 42ms/step - loss: 0.0451 - f1: 0.9850 - val_loss: 1.0573 - val_f1: 0.7217\n",
            "Epoch 7/30\n",
            "52/52 [==============================] - 2s 42ms/step - loss: 0.0261 - f1: 0.9915 - val_loss: 1.2165 - val_f1: 0.7139\n",
            "Epoch 8/30\n",
            "52/52 [==============================] - 2s 42ms/step - loss: 0.0176 - f1: 0.9933 - val_loss: 1.3432 - val_f1: 0.7170\n",
            "Epoch 9/30\n",
            "52/52 [==============================] - 2s 42ms/step - loss: 0.0156 - f1: 0.9945 - val_loss: 1.3786 - val_f1: 0.7040\n",
            "Epoch 10/30\n",
            "51/52 [============================>.] - ETA: 0s - loss: 0.0128 - f1: 0.9951Restoring model weights from the end of the best epoch: 2.\n",
            "52/52 [==============================] - 2s 42ms/step - loss: 0.0127 - f1: 0.9952 - val_loss: 1.5282 - val_f1: 0.7012\n",
            "Epoch 00010: early stopping\n"
          ]
        },
        {
          "output_type": "execute_result",
          "data": {
            "text/plain": [
              "<keras.callbacks.History at 0x7fefad166b10>"
            ]
          },
          "metadata": {},
          "execution_count": 48
        }
      ]
    },
    {
      "cell_type": "code",
      "metadata": {
        "id": "1BD-ntr8rznW",
        "colab": {
          "base_uri": "https://localhost:8080/"
        },
        "outputId": "86b717b0-44b0-40d3-b33e-e882e584874d"
      },
      "source": [
        "print(model.evaluate(X_test_pad, y_test))"
      ],
      "execution_count": null,
      "outputs": [
        {
          "output_type": "stream",
          "name": "stdout",
          "text": [
            "29/29 [==============================] - 0s 10ms/step - loss: 0.6240 - f1: 0.7304\n",
            "[0.6239882111549377, 0.7304367423057556]\n"
          ]
        }
      ]
    },
    {
      "cell_type": "code",
      "metadata": {
        "id": "u-fKEe-4rzp4",
        "colab": {
          "base_uri": "https://localhost:8080/"
        },
        "outputId": "3639246c-1a71-4b02-d23f-cebcd2e3c1da"
      },
      "source": [
        "y_pred = model.predict(X_test_pad, batch_size=128, verbose=1)\n",
        "y_pred_bool = np.argmax(y_pred, axis=1)\n",
        "y_pred = (y_pred > 0.5)\n",
        "\n",
        "print(classification_report(y_test, y_pred, target_names=(['Hate','Normal','Abusive'])))\n"
      ],
      "execution_count": null,
      "outputs": [
        {
          "output_type": "stream",
          "name": "stdout",
          "text": [
            "8/8 [==============================] - 1s 11ms/step\n",
            "              precision    recall  f1-score   support\n",
            "\n",
            "        Hate       0.70      0.48      0.57       176\n",
            "      Normal       0.81      0.74      0.77       445\n",
            "     Abusive       0.76      0.77      0.76       299\n",
            "\n",
            "   micro avg       0.77      0.70      0.73       920\n",
            "   macro avg       0.75      0.66      0.70       920\n",
            "weighted avg       0.77      0.70      0.73       920\n",
            " samples avg       0.70      0.70      0.70       920\n",
            "\n"
          ]
        },
        {
          "output_type": "stream",
          "name": "stderr",
          "text": [
            "/usr/local/lib/python3.7/dist-packages/sklearn/metrics/_classification.py:1308: UndefinedMetricWarning: Precision and F-score are ill-defined and being set to 0.0 in samples with no predicted labels. Use `zero_division` parameter to control this behavior.\n",
            "  _warn_prf(average, modifier, msg_start, len(result))\n"
          ]
        }
      ]
    },
    {
      "cell_type": "code",
      "metadata": {
        "id": "4LtnRxVRmNcl",
        "colab": {
          "base_uri": "https://localhost:8080/"
        },
        "outputId": "1cba20bb-644a-4502-f898-4a937a4b2f57"
      },
      "source": [
        "f1_score(y_test, y_pred, average=\"weighted\")"
      ],
      "execution_count": null,
      "outputs": [
        {
          "output_type": "execute_result",
          "data": {
            "text/plain": [
              "0.728957724040475"
            ]
          },
          "metadata": {},
          "execution_count": 51
        }
      ]
    },
    {
      "cell_type": "code",
      "metadata": {
        "id": "72QjwwRRrzsu"
      },
      "source": [
        "from tensorflow import keras\n",
        "keras.backend.clear_session()"
      ],
      "execution_count": null,
      "outputs": []
    },
    {
      "cell_type": "code",
      "metadata": {
        "id": "4o9xT3kjyc7W"
      },
      "source": [
        "from sklearn import metrics\n",
        "metric = metrics.accuracy_score(y_test, y_pred), metrics.f1_score(y_test, y_pred, average='weighted'), metrics.recall_score(y_test, y_pred, average='weighted'), metrics.precision_score(y_test, y_pred, average='weighted')"
      ],
      "execution_count": null,
      "outputs": []
    },
    {
      "cell_type": "code",
      "metadata": {
        "id": "czSMQdvTQZs_",
        "colab": {
          "base_uri": "https://localhost:8080/",
          "height": 226
        },
        "outputId": "4f07ecaa-2ee7-40d4-d181-7dcc4a47a9e6"
      },
      "source": [
        "fig = plt.figure()\n",
        "fig.set_size_inches(8,2)\n",
        "ax = fig.add_axes([0,0,1,1])\n",
        "rect1 = ax.bar(0.00,round(metric[0], 2), color = 'b', width = 0.05)\n",
        "rect2 = ax.bar(0.20, round(metric[1], 2), color = 'g', width = 0.05)\n",
        "rect3 = ax.bar(0.40, round(metric[2], 2) , color = 'r', width = 0.05)\n",
        "rect4 = ax.bar(0.60, round(metric[3], 2) , color = (1, 0, 1), width = 0.05)\n",
        "\n",
        "ax.set_ylabel('Scores')\n",
        "ax.set_title('metrics')\n",
        "def autolabel(rects):\n",
        "  \"\"\"Attach a text label above each bar in *rects*, displaying its height.\"\"\"\n",
        "  for rect in rects:\n",
        "      height = rect.get_height()\n",
        "      ax.annotate('{}'.format(height),\n",
        "                  xy=(rect.get_x() + rect.get_width() / 2, height),\n",
        "                  xytext=(0, 3),  # 3 points vertical offset\n",
        "                  textcoords=\"offset points\",\n",
        "                  ha='center', va='bottom')\n",
        "\n",
        "autolabel(rect1)\n",
        "autolabel(rect2)\n",
        "autolabel(rect3)\n",
        "autolabel(rect4)\n",
        "ax.legend(labels=['accuracy', 'f1_score', 'recall', 'precision'],loc='best')\n",
        "plt.ylim(0, 1)"
      ],
      "execution_count": null,
      "outputs": [
        {
          "output_type": "execute_result",
          "data": {
            "text/plain": [
              "(0.0, 1.0)"
            ]
          },
          "metadata": {},
          "execution_count": 54
        },
        {
          "output_type": "display_data",
          "data": {
            "image/png": "[encoded data removed]",
            "text/plain": [
              "<Figure size 576x144 with 1 Axes>"
            ]
          },
          "metadata": {
            "needs_background": "light"
          }
        }
      ]
    },
    {
      "cell_type": "markdown",
      "metadata": {
        "id": "Bpb35nPlTI1g"
      },
      "source": [
        "### Training on Fasttext Embedding Only"
      ]
    },
    {
      "cell_type": "code",
      "metadata": {
        "id": "ext78JdGVwvv"
      },
      "source": [
        "keras.backend.clear_session()"
      ],
      "execution_count": null,
      "outputs": []
    },
    {
      "cell_type": "code",
      "metadata": {
        "id": "dleDGpLYU_3V"
      },
      "source": [
        "inp=Input(shape=(maxlen, ))\n",
        "x=Embedding(vocab_size + 1,embed_size,embeddings_initializer=Constant(fasttext_arabic_emb),#Set Fasttext Embedding\n",
        "            input_length=maxlen,trainable=True)(inp)\n",
        "x = SpatialDropout1D(0.2)(x)\n",
        "x=Bidirectional(GRU(150, return_sequences = True))(x)\n",
        "avg_pool = GlobalAveragePooling1D()(x)\n",
        "max_pool = GlobalMaxPool1D()(x)\n",
        "conc = concatenate([avg_pool, max_pool])\n",
        "\n",
        "\n",
        "x=Dropout(0.1)(conc)\n",
        "out=Dense(64, activation=\"relu\")(x)\n",
        "out=Dense(32, activation=\"relu\")(x)\n",
        "\n",
        "out=Dense(3, activation=\"softmax\")(x)\n",
        "\n",
        "model_ft=Model(inp,out)\n",
        "\n",
        "mcp_save = ModelCheckpoint('model_fasttext.mdl_wts.hdf5', save_best_only=True,\n",
        "                           monitor='val_loss', mode='min',patience = 5)\n"
      ],
      "execution_count": null,
      "outputs": []
    },
    {
      "cell_type": "code",
      "metadata": {
        "id": "y8TojWn4Tijn"
      },
      "source": [
        "model_ft.compile(loss=tf.keras.losses.CategoricalCrossentropy(), optimizer=tf.keras.optimizers.Adam(), metrics=[f1])"
      ],
      "execution_count": null,
      "outputs": []
    },
    {
      "cell_type": "code",
      "metadata": {
        "id": "NhdxZk9cTm3X",
        "colab": {
          "base_uri": "https://localhost:8080/"
        },
        "outputId": "7af65c25-02d4-4fb4-a5ae-5085b191d388"
      },
      "source": [
        "model_ft.summary()"
      ],
      "execution_count": null,
      "outputs": [
        {
          "output_type": "stream",
          "name": "stdout",
          "text": [
            "Model: \"model\"\n",
            "__________________________________________________________________________________________________\n",
            " Layer (type)                   Output Shape         Param #     Connected to                     \n",
            "==================================================================================================\n",
            " input_1 (InputLayer)           [(None, 46)]         0           []                               \n",
            "                                                                                                  \n",
            " embedding (Embedding)          (None, 46, 300)      4587000     ['input_1[0][0]']                \n",
            "                                                                                                  \n",
            " spatial_dropout1d (SpatialDrop  (None, 46, 300)     0           ['embedding[0][0]']              \n",
            " out1D)                                                                                           \n",
            "                                                                                                  \n",
            " bidirectional (Bidirectional)  (None, 46, 300)      406800      ['spatial_dropout1d[0][0]']      \n",
            "                                                                                                  \n",
            " global_average_pooling1d (Glob  (None, 300)         0           ['bidirectional[0][0]']          \n",
            " alAveragePooling1D)                                                                              \n",
            "                                                                                                  \n",
            " global_max_pooling1d (GlobalMa  (None, 300)         0           ['bidirectional[0][0]']          \n",
            " xPooling1D)                                                                                      \n",
            "                                                                                                  \n",
            " concatenate (Concatenate)      (None, 600)          0           ['global_average_pooling1d[0][0]'\n",
            "                                                                 , 'global_max_pooling1d[0][0]']  \n",
            "                                                                                                  \n",
            " dropout (Dropout)              (None, 600)          0           ['concatenate[0][0]']            \n",
            "                                                                                                  \n",
            " dense_2 (Dense)                (None, 3)            1803        ['dropout[0][0]']                \n",
            "                                                                                                  \n",
            "==================================================================================================\n",
            "Total params: 4,995,603\n",
            "Trainable params: 4,995,603\n",
            "Non-trainable params: 0\n",
            "__________________________________________________________________________________________________\n"
          ]
        }
      ]
    },
    {
      "cell_type": "code",
      "metadata": {
        "id": "Et2g6vcQT29F",
        "colab": {
          "base_uri": "https://localhost:8080/"
        },
        "outputId": "f40a0aad-6fdb-452d-c215-e414116b1f70"
      },
      "source": [
        "model_ft.fit(X_train_pad, \n",
        "             y_train, \n",
        "             batch_size=128,\n",
        "             epochs=20,\n",
        "             verbose=1,\n",
        "             class_weight=class_weights,\n",
        "             validation_split=0.2,\n",
        "             callbacks=[callbacks])"
      ],
      "execution_count": null,
      "outputs": [
        {
          "output_type": "stream",
          "name": "stdout",
          "text": [
            "Epoch 1/20\n",
            "52/52 [==============================] - 7s 64ms/step - loss: 0.8832 - f1: 0.3739 - val_loss: 0.7056 - val_f1: 0.6323\n",
            "Epoch 2/20\n",
            "52/52 [==============================] - 2s 42ms/step - loss: 0.5161 - f1: 0.7787 - val_loss: 0.6348 - val_f1: 0.7261\n",
            "Epoch 3/20\n",
            "52/52 [==============================] - 2s 41ms/step - loss: 0.2073 - f1: 0.9267 - val_loss: 0.7555 - val_f1: 0.7187\n",
            "Epoch 4/20\n",
            "52/52 [==============================] - 2s 42ms/step - loss: 0.0913 - f1: 0.9714 - val_loss: 0.9154 - val_f1: 0.7277\n",
            "Epoch 5/20\n",
            "52/52 [==============================] - 2s 42ms/step - loss: 0.0515 - f1: 0.9846 - val_loss: 1.0145 - val_f1: 0.7129\n",
            "Epoch 6/20\n",
            "52/52 [==============================] - 2s 42ms/step - loss: 0.0343 - f1: 0.9914 - val_loss: 1.1368 - val_f1: 0.7097\n",
            "Epoch 7/20\n",
            "52/52 [==============================] - 2s 42ms/step - loss: 0.0201 - f1: 0.9936 - val_loss: 1.2735 - val_f1: 0.7153\n",
            "Epoch 8/20\n",
            "52/52 [==============================] - 2s 42ms/step - loss: 0.0182 - f1: 0.9950 - val_loss: 1.3246 - val_f1: 0.7092\n",
            "Epoch 9/20\n",
            "52/52 [==============================] - 2s 41ms/step - loss: 0.0134 - f1: 0.9956 - val_loss: 1.3941 - val_f1: 0.7193\n",
            "Epoch 10/20\n",
            "52/52 [==============================] - 2s 42ms/step - loss: 0.0124 - f1: 0.9959 - val_loss: 1.3695 - val_f1: 0.7098\n",
            "Epoch 11/20\n",
            "52/52 [==============================] - 2s 42ms/step - loss: 0.0143 - f1: 0.9959 - val_loss: 1.3567 - val_f1: 0.7147\n",
            "Epoch 12/20\n",
            "51/52 [============================>.] - ETA: 0s - loss: 0.0109 - f1: 0.9965Restoring model weights from the end of the best epoch: 4.\n",
            "52/52 [==============================] - 2s 45ms/step - loss: 0.0108 - f1: 0.9965 - val_loss: 1.4664 - val_f1: 0.7061\n",
            "Epoch 00012: early stopping\n"
          ]
        },
        {
          "output_type": "execute_result",
          "data": {
            "text/plain": [
              "<keras.callbacks.History at 0x7fefa5c49650>"
            ]
          },
          "metadata": {},
          "execution_count": 59
        }
      ]
    },
    {
      "cell_type": "code",
      "metadata": {
        "id": "wCLLX3EAT4NO",
        "colab": {
          "base_uri": "https://localhost:8080/"
        },
        "outputId": "9841d341-7493-42ac-fd01-a62aec940089"
      },
      "source": [
        "print(model_ft.evaluate(X_test_pad, y_test))"
      ],
      "execution_count": null,
      "outputs": [
        {
          "output_type": "stream",
          "name": "stdout",
          "text": [
            "29/29 [==============================] - 0s 10ms/step - loss: 0.8600 - f1: 0.7175\n",
            "[0.8599845170974731, 0.7175134420394897]\n"
          ]
        }
      ]
    },
    {
      "cell_type": "code",
      "metadata": {
        "id": "KE9mBrlcUiTH",
        "colab": {
          "base_uri": "https://localhost:8080/"
        },
        "outputId": "06905692-b582-4f19-ee2c-695341993ed8"
      },
      "source": [
        "y_pred_ft = model_ft.predict(X_test_pad, batch_size=128, verbose=1)\n",
        "y_pred_bool_ft = np.argmax(y_pred, axis=1)\n",
        "y_pred_ft = (y_pred_ft > 0.5)\n",
        "\n",
        "print(classification_report(y_test, y_pred_ft, target_names=(['Hate','Normal','Abusive'])))\n"
      ],
      "execution_count": null,
      "outputs": [
        {
          "output_type": "stream",
          "name": "stdout",
          "text": [
            "8/8 [==============================] - 1s 10ms/step\n",
            "              precision    recall  f1-score   support\n",
            "\n",
            "        Hate       0.64      0.65      0.65       176\n",
            "      Normal       0.77      0.75      0.76       445\n",
            "     Abusive       0.71      0.69      0.70       299\n",
            "\n",
            "   micro avg       0.72      0.71      0.72       920\n",
            "   macro avg       0.71      0.70      0.70       920\n",
            "weighted avg       0.73      0.71      0.72       920\n",
            " samples avg       0.71      0.71      0.71       920\n",
            "\n"
          ]
        },
        {
          "output_type": "stream",
          "name": "stderr",
          "text": [
            "/usr/local/lib/python3.7/dist-packages/sklearn/metrics/_classification.py:1308: UndefinedMetricWarning: Precision and F-score are ill-defined and being set to 0.0 in samples with no predicted labels. Use `zero_division` parameter to control this behavior.\n",
            "  _warn_prf(average, modifier, msg_start, len(result))\n"
          ]
        }
      ]
    },
    {
      "cell_type": "code",
      "metadata": {
        "id": "sXj5owf2Ut0W"
      },
      "source": [
        "from sklearn import metrics\n",
        "metric_ft = metrics.accuracy_score(y_test, y_pred_ft), metrics.f1_score(y_test, y_pred_ft, average='weighted'), metrics.recall_score(y_test, y_pred_ft, average='weighted'), metrics.precision_score(y_test, y_pred_ft, average='weighted')"
      ],
      "execution_count": null,
      "outputs": []
    },
    {
      "cell_type": "code",
      "metadata": {
        "id": "N49Fe5YsU7NE",
        "colab": {
          "base_uri": "https://localhost:8080/",
          "height": 226
        },
        "outputId": "3f4cf15b-d971-441b-c454-c81d6e5e53fb"
      },
      "source": [
        "fig = plt.figure()\n",
        "fig.set_size_inches(8,2)\n",
        "ax = fig.add_axes([0,0,1,1])\n",
        "rect1 = ax.bar(0.00,round(metric_ft[0], 2), color = 'b', width = 0.05)\n",
        "rect2 = ax.bar(0.20, round(metric_ft[1], 2), color = 'g', width = 0.05)\n",
        "rect3 = ax.bar(0.40, round(metric_ft[2], 2) , color = 'r', width = 0.05)\n",
        "rect4 = ax.bar(0.60, round(metric_ft[3], 2) , color = (1, 0, 1), width = 0.05)\n",
        "\n",
        "ax.set_ylabel('Scores')\n",
        "ax.set_title('metrics')\n",
        "\n",
        "\n",
        "autolabel(rect1)\n",
        "autolabel(rect2)\n",
        "autolabel(rect3)\n",
        "autolabel(rect4)\n",
        "ax.legend(labels=['accuracy', 'f1_score', 'recall', 'precision'],loc='best')\n",
        "plt.ylim(0, 1)"
      ],
      "execution_count": null,
      "outputs": [
        {
          "output_type": "execute_result",
          "data": {
            "text/plain": [
              "(0.0, 1.0)"
            ]
          },
          "metadata": {},
          "execution_count": 63
        },
        {
          "output_type": "display_data",
          "data": {
            "image/png": "[encoded data removed]",
            "text/plain": [
              "<Figure size 576x144 with 1 Axes>"
            ]
          },
          "metadata": {
            "needs_background": "light"
          }
        }
      ]
    },
    {
      "cell_type": "markdown",
      "metadata": {
        "id": "HiwoyTsPL1PG"
      },
      "source": [
        "### Training on Aravec Embedding Only"
      ]
    },
    {
      "cell_type": "code",
      "metadata": {
        "id": "vTBADyXfL1PN"
      },
      "source": [
        "keras.backend.clear_session()"
      ],
      "execution_count": null,
      "outputs": []
    },
    {
      "cell_type": "code",
      "metadata": {
        "id": "lglZwmCfL1PO"
      },
      "source": [
        "inp=Input(shape=(maxlen, ))\n",
        "x=Embedding(vocab_size + 1,embed_size,embeddings_initializer=Constant(aravec_emb),#Set Fasttext Embedding\n",
        "            input_length=maxlen,trainable=True)(inp)\n",
        "x = SpatialDropout1D(0.2)(x)\n",
        "x=Bidirectional(GRU(150, return_sequences = True))(x)\n",
        "avg_pool = GlobalAveragePooling1D()(x)\n",
        "max_pool = GlobalMaxPool1D()(x)\n",
        "conc = concatenate([avg_pool, max_pool])\n",
        "\n",
        "\n",
        "x=Dropout(0.1)(conc)\n",
        "out=Dense(64, activation=\"relu\")(x)\n",
        "out=Dense(32, activation=\"relu\")(x)\n",
        "\n",
        "out=Dense(3, activation=\"softmax\")(x)\n",
        "\n",
        "model_arav=Model(inp,out)\n",
        "\n",
        "mcp_save = ModelCheckpoint('model_aravec.mdl_wts.hdf5', save_best_only=True,\n",
        "                           monitor='val_loss', mode='min',patience = 5)\n"
      ],
      "execution_count": null,
      "outputs": []
    },
    {
      "cell_type": "code",
      "metadata": {
        "id": "FvKap_oBL1PO"
      },
      "source": [
        "model_arav.compile(loss=tf.keras.losses.CategoricalCrossentropy(), optimizer=tf.keras.optimizers.Adam(), metrics=[f1])"
      ],
      "execution_count": null,
      "outputs": []
    },
    {
      "cell_type": "code",
      "metadata": {
        "id": "5lo1wLfQL1PO",
        "colab": {
          "base_uri": "https://localhost:8080/"
        },
        "outputId": "f8edb82e-941a-4a4c-a491-711bb9d1a35d"
      },
      "source": [
        "model_arav.summary()"
      ],
      "execution_count": null,
      "outputs": [
        {
          "output_type": "stream",
          "name": "stdout",
          "text": [
            "Model: \"model\"\n",
            "__________________________________________________________________________________________________\n",
            " Layer (type)                   Output Shape         Param #     Connected to                     \n",
            "==================================================================================================\n",
            " input_1 (InputLayer)           [(None, 46)]         0           []                               \n",
            "                                                                                                  \n",
            " embedding (Embedding)          (None, 46, 300)      4587000     ['input_1[0][0]']                \n",
            "                                                                                                  \n",
            " spatial_dropout1d (SpatialDrop  (None, 46, 300)     0           ['embedding[0][0]']              \n",
            " out1D)                                                                                           \n",
            "                                                                                                  \n",
            " bidirectional (Bidirectional)  (None, 46, 300)      406800      ['spatial_dropout1d[0][0]']      \n",
            "                                                                                                  \n",
            " global_average_pooling1d (Glob  (None, 300)         0           ['bidirectional[0][0]']          \n",
            " alAveragePooling1D)                                                                              \n",
            "                                                                                                  \n",
            " global_max_pooling1d (GlobalMa  (None, 300)         0           ['bidirectional[0][0]']          \n",
            " xPooling1D)                                                                                      \n",
            "                                                                                                  \n",
            " concatenate (Concatenate)      (None, 600)          0           ['global_average_pooling1d[0][0]'\n",
            "                                                                 , 'global_max_pooling1d[0][0]']  \n",
            "                                                                                                  \n",
            " dropout (Dropout)              (None, 600)          0           ['concatenate[0][0]']            \n",
            "                                                                                                  \n",
            " dense_2 (Dense)                (None, 3)            1803        ['dropout[0][0]']                \n",
            "                                                                                                  \n",
            "==================================================================================================\n",
            "Total params: 4,995,603\n",
            "Trainable params: 4,995,603\n",
            "Non-trainable params: 0\n",
            "__________________________________________________________________________________________________\n"
          ]
        }
      ]
    },
    {
      "cell_type": "code",
      "metadata": {
        "id": "2OEErZqOL1PO",
        "colab": {
          "base_uri": "https://localhost:8080/"
        },
        "outputId": "595e1d54-769d-435a-f0a1-e0ce758cf58c"
      },
      "source": [
        "model_arav.fit(X_train_pad, \n",
        "             y_train, \n",
        "             batch_size=128,\n",
        "             epochs=20,\n",
        "             verbose=1,\n",
        "             class_weight=class_weights,\n",
        "             validation_split=0.2,\n",
        "             callbacks=[callbacks])"
      ],
      "execution_count": null,
      "outputs": [
        {
          "output_type": "stream",
          "name": "stdout",
          "text": [
            "Epoch 1/20\n",
            "52/52 [==============================] - 7s 65ms/step - loss: 0.8330 - f1: 0.5207 - val_loss: 0.7796 - val_f1: 0.5826\n",
            "Epoch 2/20\n",
            "52/52 [==============================] - 2s 42ms/step - loss: 0.7314 - f1: 0.5899 - val_loss: 0.7136 - val_f1: 0.6444\n",
            "Epoch 3/20\n",
            "52/52 [==============================] - 2s 42ms/step - loss: 0.5408 - f1: 0.7601 - val_loss: 0.6203 - val_f1: 0.7400\n",
            "Epoch 4/20\n",
            "52/52 [==============================] - 2s 41ms/step - loss: 0.2821 - f1: 0.8950 - val_loss: 0.8082 - val_f1: 0.7012\n",
            "Epoch 5/20\n",
            "52/52 [==============================] - 2s 41ms/step - loss: 0.1172 - f1: 0.9576 - val_loss: 0.8438 - val_f1: 0.7229\n",
            "Epoch 6/20\n",
            "52/52 [==============================] - 2s 41ms/step - loss: 0.0764 - f1: 0.9757 - val_loss: 1.0067 - val_f1: 0.7230\n",
            "Epoch 7/20\n",
            "52/52 [==============================] - 2s 41ms/step - loss: 0.0457 - f1: 0.9835 - val_loss: 1.1296 - val_f1: 0.7285\n",
            "Epoch 8/20\n",
            "52/52 [==============================] - 2s 41ms/step - loss: 0.0350 - f1: 0.9890 - val_loss: 1.2124 - val_f1: 0.7105\n",
            "Epoch 9/20\n",
            "52/52 [==============================] - 2s 42ms/step - loss: 0.0241 - f1: 0.9916 - val_loss: 1.3134 - val_f1: 0.6993\n",
            "Epoch 10/20\n",
            "52/52 [==============================] - 2s 41ms/step - loss: 0.0196 - f1: 0.9937 - val_loss: 1.3498 - val_f1: 0.7260\n",
            "Epoch 11/20\n",
            "51/52 [============================>.] - ETA: 0s - loss: 0.0154 - f1: 0.9965Restoring model weights from the end of the best epoch: 3.\n",
            "52/52 [==============================] - 2s 42ms/step - loss: 0.0157 - f1: 0.9963 - val_loss: 1.4331 - val_f1: 0.6938\n",
            "Epoch 00011: early stopping\n"
          ]
        },
        {
          "output_type": "execute_result",
          "data": {
            "text/plain": [
              "<keras.callbacks.History at 0x7fef929f5f50>"
            ]
          },
          "metadata": {},
          "execution_count": 68
        }
      ]
    },
    {
      "cell_type": "code",
      "metadata": {
        "id": "wbfQt6KkL1PO",
        "colab": {
          "base_uri": "https://localhost:8080/"
        },
        "outputId": "5f4cd746-3879-4cee-e6f7-913c55260762"
      },
      "source": [
        "print(model_arav.evaluate(X_test_pad, y_test))"
      ],
      "execution_count": null,
      "outputs": [
        {
          "output_type": "stream",
          "name": "stdout",
          "text": [
            "29/29 [==============================] - 0s 11ms/step - loss: 0.6006 - f1: 0.7399\n",
            "[0.6006153225898743, 0.7398679852485657]\n"
          ]
        }
      ]
    },
    {
      "cell_type": "code",
      "metadata": {
        "id": "010SEUGvL1PO",
        "colab": {
          "base_uri": "https://localhost:8080/"
        },
        "outputId": "0de05ac5-84b8-4e75-e8e7-3f5ca36c55e3"
      },
      "source": [
        "y_pred_arav = model_arav.predict(X_test_pad, batch_size=128, verbose=1)\n",
        "y_pred_bool_ft = np.argmax(y_pred, axis=1)\n",
        "y_pred_arav = (y_pred_arav > 0.5)\n",
        "\n",
        "print(classification_report(y_test, y_pred_arav, target_names=(['Hate','Normal','Abusive'])))\n"
      ],
      "execution_count": null,
      "outputs": [
        {
          "output_type": "stream",
          "name": "stdout",
          "text": [
            "8/8 [==============================] - 1s 10ms/step\n",
            "              precision    recall  f1-score   support\n",
            "\n",
            "        Hate       0.68      0.68      0.68       176\n",
            "      Normal       0.83      0.72      0.77       445\n",
            "     Abusive       0.78      0.71      0.74       299\n",
            "\n",
            "   micro avg       0.78      0.71      0.74       920\n",
            "   macro avg       0.76      0.70      0.73       920\n",
            "weighted avg       0.78      0.71      0.74       920\n",
            " samples avg       0.71      0.71      0.71       920\n",
            "\n"
          ]
        },
        {
          "output_type": "stream",
          "name": "stderr",
          "text": [
            "/usr/local/lib/python3.7/dist-packages/sklearn/metrics/_classification.py:1308: UndefinedMetricWarning: Precision and F-score are ill-defined and being set to 0.0 in samples with no predicted labels. Use `zero_division` parameter to control this behavior.\n",
            "  _warn_prf(average, modifier, msg_start, len(result))\n"
          ]
        }
      ]
    },
    {
      "cell_type": "code",
      "metadata": {
        "id": "2684IryML1PO"
      },
      "source": [
        "from sklearn import metrics\n",
        "metric_arav = metrics.accuracy_score(y_test, y_pred_arav), metrics.f1_score(y_test, y_pred_arav, average='weighted'), metrics.recall_score(y_test, y_pred_arav, average='weighted'), metrics.precision_score(y_test, y_pred_arav, average='weighted')"
      ],
      "execution_count": null,
      "outputs": []
    },
    {
      "cell_type": "code",
      "metadata": {
        "id": "a969R2UNL1PO",
        "colab": {
          "base_uri": "https://localhost:8080/",
          "height": 226
        },
        "outputId": "5249f9ca-6c5e-4b33-8ada-a05c6ddd0ad2"
      },
      "source": [
        "fig = plt.figure()\n",
        "fig.set_size_inches(8,2)\n",
        "ax = fig.add_axes([0,0,1,1])\n",
        "rect1 = ax.bar(0.00,round(metric_arav[0], 2), color = 'b', width = 0.05)\n",
        "rect2 = ax.bar(0.20, round(metric_arav[1], 2), color = 'g', width = 0.05)\n",
        "rect3 = ax.bar(0.40, round(metric_arav[2], 2) , color = 'r', width = 0.05)\n",
        "rect4 = ax.bar(0.60, round(metric_arav[3], 2) , color = (1, 0, 1), width = 0.05)\n",
        "\n",
        "ax.set_ylabel('Scores')\n",
        "ax.set_title('metrics')\n",
        "\n",
        "\n",
        "autolabel(rect1)\n",
        "autolabel(rect2)\n",
        "autolabel(rect3)\n",
        "autolabel(rect4)\n",
        "ax.legend(labels=['accuracy', 'f1_score', 'recall', 'precision'],loc='best')\n",
        "plt.ylim(0, 1)"
      ],
      "execution_count": null,
      "outputs": [
        {
          "output_type": "execute_result",
          "data": {
            "text/plain": [
              "(0.0, 1.0)"
            ]
          },
          "metadata": {},
          "execution_count": 72
        },
        {
          "output_type": "display_data",
          "data": {
            "image/png": "[encoded data removed]",
            "text/plain": [
              "<Figure size 576x144 with 1 Axes>"
            ]
          },
          "metadata": {
            "needs_background": "light"
          }
        }
      ]
    },
    {
      "cell_type": "markdown",
      "metadata": {
        "id": "l6ud_gVNWd4a"
      },
      "source": [
        "### Comparing the three results"
      ]
    },
    {
      "cell_type": "code",
      "metadata": {
        "id": "UAPfKBxEYLV5"
      },
      "source": [
        "Data = [('Fasttext',) + metric_ft  ,\n",
        "        ('AraVec',)+ metric_arav ,\n",
        "         ('Fasttext + AraVec',)+ metric ]"
      ],
      "execution_count": null,
      "outputs": []
    },
    {
      "cell_type": "code",
      "metadata": {
        "id": "d6UM1nPKWkH6"
      },
      "source": [
        "Results = pd.DataFrame(data =  Data , columns=['Embedding','Accuracy','F1_score','Recall','Precision'])"
      ],
      "execution_count": null,
      "outputs": []
    },
    {
      "cell_type": "code",
      "metadata": {
        "id": "lDLH9XzeXAUp",
        "colab": {
          "base_uri": "https://localhost:8080/",
          "height": 143
        },
        "outputId": "8ddac947-6797-4390-ea87-1122196ee6d5"
      },
      "source": [
        "Results"
      ],
      "execution_count": null,
      "outputs": [
        {
          "output_type": "execute_result",
          "data": {
            "text/html": [
              "\n",
              "  <div id=\"df-4a3bdeeb-a351-4119-8abb-f33c44bf9965\">\n",
              "    <div class=\"colab-df-container\">\n",
              "      <div>\n",
              "<style scoped>\n",
              "    .dataframe tbody tr th:only-of-type {\n",
              "        vertical-align: middle;\n",
              "    }\n",
              "\n",
              "    .dataframe tbody tr th {\n",
              "        vertical-align: top;\n",
              "    }\n",
              "\n",
              "    .dataframe thead th {\n",
              "        text-align: right;\n",
              "    }\n",
              "</style>\n",
              "<table border=\"1\" class=\"dataframe\">\n",
              "  <thead>\n",
              "    <tr style=\"text-align: right;\">\n",
              "      <th></th>\n",
              "      <th>Embedding</th>\n",
              "      <th>Accuracy</th>\n",
              "      <th>F1_score</th>\n",
              "      <th>Recall</th>\n",
              "      <th>Precision</th>\n",
              "    </tr>\n",
              "  </thead>\n",
              "  <tbody>\n",
              "    <tr>\n",
              "      <th>0</th>\n",
              "      <td>Fasttext</td>\n",
              "      <td>0.710870</td>\n",
              "      <td>0.717803</td>\n",
              "      <td>0.710870</td>\n",
              "      <td>0.725014</td>\n",
              "    </tr>\n",
              "    <tr>\n",
              "      <th>1</th>\n",
              "      <td>AraVec</td>\n",
              "      <td>0.707609</td>\n",
              "      <td>0.743567</td>\n",
              "      <td>0.707609</td>\n",
              "      <td>0.784336</td>\n",
              "    </tr>\n",
              "    <tr>\n",
              "      <th>2</th>\n",
              "      <td>Fasttext + AraVec</td>\n",
              "      <td>0.697826</td>\n",
              "      <td>0.728958</td>\n",
              "      <td>0.697826</td>\n",
              "      <td>0.769579</td>\n",
              "    </tr>\n",
              "  </tbody>\n",
              "</table>\n",
              "</div>\n",
              "      <button class=\"colab-df-convert\" onclick=\"convertToInteractive('df-4a3bdeeb-a351-4119-8abb-f33c44bf9965')\"\n",
              "              title=\"Convert this dataframe to an interactive table.\"\n",
              "              style=\"display:none;\">\n",
              "        \n",
              "  <svg xmlns=\"http://www.w3.org/2000/svg\" height=\"24px\"viewBox=\"0 0 24 24\"\n",
              "       width=\"24px\">\n",
              "    <path d=\"M0 0h24v24H0V0z\" fill=\"none\"/>\n",
              "    <path d=\"M18.56 5.44l.94 2.06.94-2.06 2.06-.94-2.06-.94-.94-2.06-.94 2.06-2.06.94zm-11 1L8.5 8.5l.94-2.06 2.06-.94-2.06-.94L8.5 2.5l-.94 2.06-2.06.94zm10 10l.94 2.06.94-2.06 2.06-.94-2.06-.94-.94-2.06-.94 2.06-2.06.94z\"/><path d=\"M17.41 7.96l-1.37-1.37c-.4-.4-.92-.59-1.43-.59-.52 0-1.04.2-1.43.59L10.3 9.45l-7.72 7.72c-.78.78-.78 2.05 0 2.83L4 21.41c.39.39.9.59 1.41.59.51 0 1.02-.2 1.41-.59l7.78-7.78 2.81-2.81c.8-.78.8-2.07 0-2.86zM5.41 20L4 18.59l7.72-7.72 1.47 1.35L5.41 20z\"/>\n",
              "  </svg>\n",
              "      </button>\n",
              "      \n",
              "  <style>\n",
              "    .colab-df-container {\n",
              "      display:flex;\n",
              "      flex-wrap:wrap;\n",
              "      gap: 12px;\n",
              "    }\n",
              "\n",
              "    .colab-df-convert {\n",
              "      background-color: #E8F0FE;\n",
              "      border: none;\n",
              "      border-radius: 50%;\n",
              "      cursor: pointer;\n",
              "      display: none;\n",
              "      fill: #1967D2;\n",
              "      height: 32px;\n",
              "      padding: 0 0 0 0;\n",
              "      width: 32px;\n",
              "    }\n",
              "\n",
              "    .colab-df-convert:hover {\n",
              "      background-color: #E2EBFA;\n",
              "      box-shadow: 0px 1px 2px rgba(60, 64, 67, 0.3), 0px 1px 3px 1px rgba(60, 64, 67, 0.15);\n",
              "      fill: #174EA6;\n",
              "    }\n",
              "\n",
              "    [theme=dark] .colab-df-convert {\n",
              "      background-color: #3B4455;\n",
              "      fill: #D2E3FC;\n",
              "    }\n",
              "\n",
              "    [theme=dark] .colab-df-convert:hover {\n",
              "      background-color: #434B5C;\n",
              "      box-shadow: 0px 1px 3px 1px rgba(0, 0, 0, 0.15);\n",
              "      filter: drop-shadow(0px 1px 2px rgba(0, 0, 0, 0.3));\n",
              "      fill: #FFFFFF;\n",
              "    }\n",
              "  </style>\n",
              "\n",
              "      <script>\n",
              "        const buttonEl =\n",
              "          document.querySelector('#df-4a3bdeeb-a351-4119-8abb-f33c44bf9965 button.colab-df-convert');\n",
              "        buttonEl.style.display =\n",
              "          google.colab.kernel.accessAllowed ? 'block' : 'none';\n",
              "\n",
              "        async function convertToInteractive(key) {\n",
              "          const element = document.querySelector('#df-4a3bdeeb-a351-4119-8abb-f33c44bf9965');\n",
              "          const dataTable =\n",
              "            await google.colab.kernel.invokeFunction('convertToInteractive',\n",
              "                                                     [key], {});\n",
              "          if (!dataTable) return;\n",
              "\n",
              "          const docLinkHtml = 'Like what you see? Visit the ' +\n",
              "            '<a target=\"_blank\" href=https://colab.research.google.com/notebooks/data_table.ipynb>data table notebook</a>'\n",
              "            + ' to learn more about interactive tables.';\n",
              "          element.innerHTML = '';\n",
              "          dataTable['output_type'] = 'display_data';\n",
              "          await google.colab.output.renderOutput(dataTable, element);\n",
              "          const docLink = document.createElement('div');\n",
              "          docLink.innerHTML = docLinkHtml;\n",
              "          element.appendChild(docLink);\n",
              "        }\n",
              "      </script>\n",
              "    </div>\n",
              "  </div>\n",
              "  "
            ],
            "text/plain": [
              "           Embedding  Accuracy  F1_score    Recall  Precision\n",
              "0           Fasttext  0.710870  0.717803  0.710870   0.725014\n",
              "1             AraVec  0.707609  0.743567  0.707609   0.784336\n",
              "2  Fasttext + AraVec  0.697826  0.728958  0.697826   0.769579"
            ]
          },
          "metadata": {},
          "execution_count": 75
        }
      ]
    }
  ]
}