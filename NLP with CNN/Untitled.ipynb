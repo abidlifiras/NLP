{
 "cells": [
  {
   "cell_type": "code",
   "execution_count": 30,
   "id": "cfb2d1f4",
   "metadata": {},
   "outputs": [
    {
     "name": "stderr",
     "output_type": "stream",
     "text": [
      "[nltk_data] Downloading package stopwords to\n",
      "[nltk_data]     C:\\Users\\FIRAS\\AppData\\Roaming\\nltk_data...\n",
      "[nltk_data]   Package stopwords is already up-to-date!\n",
      "[nltk_data] Downloading package wordnet to\n",
      "[nltk_data]     C:\\Users\\FIRAS\\AppData\\Roaming\\nltk_data...\n",
      "[nltk_data]   Package wordnet is already up-to-date!\n"
     ]
    },
    {
     "data": {
      "text/plain": [
       "True"
      ]
     },
     "execution_count": 30,
     "metadata": {},
     "output_type": "execute_result"
    }
   ],
   "source": [
    "from tensorflow import keras\n",
    "import numpy as np\n",
    "import re\n",
    "import nltk\n",
    "from nltk.corpus import stopwords\n",
    "import string\n",
    "import pandas as pd\n",
    "from nltk.stem import WordNetLemmatizer\n",
    "from nltk.corpus import stopwords\n",
    "nltk.download('stopwords')\n",
    "nltk.download('wordnet')"
   ]
  },
  {
   "cell_type": "code",
   "execution_count": 59,
   "id": "6008a746",
   "metadata": {},
   "outputs": [
    {
     "data": {
      "text/plain": [
       "(1549, 2)"
      ]
     },
     "execution_count": 59,
     "metadata": {},
     "output_type": "execute_result"
    }
   ],
   "source": [
    "data_train=pd.read_excel('C:/Users/FIRAS/Desktop/Ref NLP/work/dataset_marrocain.xlsx')\n",
    "data_train.shape"
   ]
  },
  {
   "cell_type": "code",
   "execution_count": 60,
   "id": "d40b29ec",
   "metadata": {},
   "outputs": [
    {
     "data": {
      "text/plain": [
       "<bound method NDFrame.head of                                             Commentaire   Classe\n",
       "0      محند اعطيك الاختيارات ههههه و انت احسن الظن ف...   normal\n",
       "1        إبراهيم الجعفري رئيس وزراء العراق إلتون جون...  abusive\n",
       "2      لماذا عندما نتصفح الإنترنت نشعر أن الكل من نف...   normal\n",
       "3     تريد دابا كنقادو بروغرام ديال الصيف ههه بنادم ...   normal\n",
       "4       مكنهدرش على باغي الفلوس على ود راحة البال اه...     hate\n",
       "...                                                 ...      ...\n",
       "1544   يفكّرونَ رَبَّنَا الجنسيات والعربية للسعودين ...   normal\n",
       "1545                                     قل يامُسخّر لك   normal\n",
       "1546  تبغي تحماقغير الزمراوي فالاوزان المزيرية والقو...   normal\n",
       "1547  بقى برشيلونة بالقراءة المصنّفة بريطانيا الصهيو...   normal\n",
       "1548  لكن منتقلقوش كيتعرضوا والسجادة وتفرّقهم بروفاي...   normal\n",
       "\n",
       "[1549 rows x 2 columns]>"
      ]
     },
     "execution_count": 60,
     "metadata": {},
     "output_type": "execute_result"
    }
   ],
   "source": [
    "data_train.head"
   ]
  },
  {
   "cell_type": "code",
   "execution_count": 61,
   "id": "6889c47e",
   "metadata": {},
   "outputs": [
    {
     "data": {
      "text/plain": [
       "Index(['Commentaire', 'Classe'], dtype='object')"
      ]
     },
     "execution_count": 61,
     "metadata": {},
     "output_type": "execute_result"
    }
   ],
   "source": [
    "data_train.columns\n"
   ]
  },
  {
   "cell_type": "code",
   "execution_count": 69,
   "id": "6667d08c",
   "metadata": {},
   "outputs": [
    {
     "data": {
      "text/html": [
       "<div>\n",
       "<style scoped>\n",
       "    .dataframe tbody tr th:only-of-type {\n",
       "        vertical-align: middle;\n",
       "    }\n",
       "\n",
       "    .dataframe tbody tr th {\n",
       "        vertical-align: top;\n",
       "    }\n",
       "\n",
       "    .dataframe thead th {\n",
       "        text-align: right;\n",
       "    }\n",
       "</style>\n",
       "<table border=\"1\" class=\"dataframe\">\n",
       "  <thead>\n",
       "    <tr style=\"text-align: right;\">\n",
       "      <th></th>\n",
       "      <th>Commentaire</th>\n",
       "      <th>Classe</th>\n",
       "    </tr>\n",
       "  </thead>\n",
       "  <tbody>\n",
       "    <tr>\n",
       "      <th>count</th>\n",
       "      <td>1548</td>\n",
       "      <td>1549</td>\n",
       "    </tr>\n",
       "    <tr>\n",
       "      <th>unique</th>\n",
       "      <td>1485</td>\n",
       "      <td>3</td>\n",
       "    </tr>\n",
       "    <tr>\n",
       "      <th>top</th>\n",
       "      <td>هاد ناس برشيد عالام تحية للعنصرية النسوي</td>\n",
       "      <td>normal</td>\n",
       "    </tr>\n",
       "    <tr>\n",
       "      <th>freq</th>\n",
       "      <td>12</td>\n",
       "      <td>1361</td>\n",
       "    </tr>\n",
       "  </tbody>\n",
       "</table>\n",
       "</div>"
      ],
      "text/plain": [
       "                                      Commentaire  Classe\n",
       "count                                        1548    1549\n",
       "unique                                       1485       3\n",
       "top     هاد ناس برشيد عالام تحية للعنصرية النسوي   normal\n",
       "freq                                           12    1361"
      ]
     },
     "execution_count": 69,
     "metadata": {},
     "output_type": "execute_result"
    }
   ],
   "source": [
    "data_train.describe()"
   ]
  },
  {
   "cell_type": "code",
   "execution_count": 73,
   "id": "5c5167df",
   "metadata": {},
   "outputs": [
    {
     "data": {
      "text/plain": [
       "Commentaire    1\n",
       "Classe         0\n",
       "dtype: int64"
      ]
     },
     "execution_count": 73,
     "metadata": {},
     "output_type": "execute_result"
    }
   ],
   "source": [
    "data_train.isnull().sum()\n"
   ]
  },
  {
   "cell_type": "code",
   "execution_count": 77,
   "id": "dc3c28d4",
   "metadata": {},
   "outputs": [],
   "source": [
    "data_train=data_train.dropna()"
   ]
  },
  {
   "cell_type": "code",
   "execution_count": 78,
   "id": "7306601c",
   "metadata": {},
   "outputs": [
    {
     "ename": "AttributeError",
     "evalue": "'function' object has no attribute 'any'",
     "output_type": "error",
     "traceback": [
      "\u001b[1;31m---------------------------------------------------------------------------\u001b[0m",
      "\u001b[1;31mAttributeError\u001b[0m                            Traceback (most recent call last)",
      "Input \u001b[1;32mIn [78]\u001b[0m, in \u001b[0;36m<cell line: 1>\u001b[1;34m()\u001b[0m\n\u001b[1;32m----> 1\u001b[0m \u001b[43mdata_train\u001b[49m\u001b[38;5;241;43m.\u001b[39;49m\u001b[43misnull\u001b[49m\u001b[38;5;241;43m.\u001b[39;49m\u001b[43many\u001b[49m()\n",
      "\u001b[1;31mAttributeError\u001b[0m: 'function' object has no attribute 'any'"
     ]
    }
   ],
   "source": [
    "data_train.isnull.any()"
   ]
  }
 ],
 "metadata": {
  "kernelspec": {
   "display_name": "Python 3 (ipykernel)",
   "language": "python",
   "name": "python3"
  },
  "language_info": {
   "codemirror_mode": {
    "name": "ipython",
    "version": 3
   },
   "file_extension": ".py",
   "mimetype": "text/x-python",
   "name": "python",
   "nbconvert_exporter": "python",
   "pygments_lexer": "ipython3",
   "version": "3.10.3"
  }
 },
 "nbformat": 4,
 "nbformat_minor": 5
}
