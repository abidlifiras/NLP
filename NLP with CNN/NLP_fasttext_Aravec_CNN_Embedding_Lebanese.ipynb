{
  "nbformat": 4,
  "nbformat_minor": 0,
  "metadata": {
    "colab": {
      "name": "NLP_fasttext_Aravec_CNN-Embedding_Lebanese.ipynb",
      "provenance": [],
      "collapsed_sections": [
        "ZwFFlBGFR2tv",
        "Bpb35nPlTI1g",
        "HiwoyTsPL1PG"
      ]
    },
    "kernelspec": {
      "name": "python3",
      "display_name": "Python 3"
    },
    "accelerator": "GPU"
  },
  "cells": [
    {
      "cell_type": "markdown",
      "source": [
        "# Lebanese Dataset"
      ],
      "metadata": {
        "id": "Phxed_BSSB7-"
      }
    },
    {
      "cell_type": "code",
      "metadata": {
        "id": "6pkvGyUqqCMG",
        "colab": {
          "base_uri": "https://localhost:8080/"
        },
        "outputId": "bbcbfba0-e163-42f5-ab92-9f439b767bb6"
      },
      "source": [
        "from google.colab import drive\n",
        "drive._mount('/content/drive')"
      ],
      "execution_count": null,
      "outputs": [
        {
          "output_type": "stream",
          "name": "stdout",
          "text": [
            "Mounted at /content/drive\n"
          ]
        }
      ]
    },
    {
      "cell_type": "code",
      "metadata": {
        "id": "fnOwTGAXpLvI",
        "colab": {
          "base_uri": "https://localhost:8080/"
        },
        "outputId": "4159e256-ce19-44e7-83fb-06acdce7b6e4"
      },
      "source": [
        "from tensorflow import keras\n",
        "import numpy as np\n",
        "import re\n",
        "import nltk\n",
        "from nltk.corpus import stopwords\n",
        "import string\n",
        "import pandas as pd\n",
        "from nltk.stem import WordNetLemmatizer\n",
        "from nltk.corpus import stopwords\n",
        "nltk.download('stopwords')\n",
        "nltk.download('wordnet')"
      ],
      "execution_count": null,
      "outputs": [
        {
          "output_type": "stream",
          "name": "stdout",
          "text": [
            "[nltk_data] Downloading package stopwords to /root/nltk_data...\n",
            "[nltk_data]   Unzipping corpora/stopwords.zip.\n",
            "[nltk_data] Downloading package wordnet to /root/nltk_data...\n",
            "[nltk_data]   Unzipping corpora/wordnet.zip.\n"
          ]
        },
        {
          "output_type": "execute_result",
          "data": {
            "text/plain": [
              "True"
            ]
          },
          "metadata": {},
          "execution_count": 2
        }
      ]
    },
    {
      "cell_type": "code",
      "metadata": {
        "id": "qpYZxDnjpo32"
      },
      "source": [
        "train=pd.read_excel('/content/drive/MyDrive/FastText_Aravec_Arabic_embeddings/dataset3and4.xlsx')\n",
        "# test=pd.read_excel('/content/drive/MyDrive/kaggle-nabil-badri/Text Classification Notebooks/BI-GRU/MyArticle-dataset-arabe/dataset1and2.xlsx')\n",
        "label=pd.read_excel('/content/drive/MyDrive/FastText_Aravec_Arabic_embeddings/dataset3and4.xlsx',header=None).iloc[:,-1]\n",
        "#OFF=0 \n",
        "#NOT=1"
      ],
      "execution_count": null,
      "outputs": []
    },
    {
      "cell_type": "code",
      "source": [
        "train['word_count'] = train['commentaire'].apply(lambda x : len(x.split()))\n",
        "train"
      ],
      "metadata": {
        "colab": {
          "base_uri": "https://localhost:8080/",
          "height": 423
        },
        "id": "NLkeXb_2qC2T",
        "outputId": "8ea75e9e-438f-4a96-91f0-436ba7554069"
      },
      "execution_count": null,
      "outputs": [
        {
          "output_type": "execute_result",
          "data": {
            "text/html": [
              "\n",
              "  <div id=\"df-5e63cfb8-6d0c-4dbd-82e9-a46a2c9c0d35\">\n",
              "    <div class=\"colab-df-container\">\n",
              "      <div>\n",
              "<style scoped>\n",
              "    .dataframe tbody tr th:only-of-type {\n",
              "        vertical-align: middle;\n",
              "    }\n",
              "\n",
              "    .dataframe tbody tr th {\n",
              "        vertical-align: top;\n",
              "    }\n",
              "\n",
              "    .dataframe thead th {\n",
              "        text-align: right;\n",
              "    }\n",
              "</style>\n",
              "<table border=\"1\" class=\"dataframe\">\n",
              "  <thead>\n",
              "    <tr style=\"text-align: right;\">\n",
              "      <th></th>\n",
              "      <th>Unnamed: 0</th>\n",
              "      <th>commentaire</th>\n",
              "      <th>classe</th>\n",
              "      <th>word_count</th>\n",
              "    </tr>\n",
              "  </thead>\n",
              "  <tbody>\n",
              "    <tr>\n",
              "      <th>0</th>\n",
              "      <td>0</td>\n",
              "      <td>الوزير جبران باسيل تاج راسك يا جربان ممنوع بعد...</td>\n",
              "      <td>abusive</td>\n",
              "      <td>17</td>\n",
              "    </tr>\n",
              "    <tr>\n",
              "      <th>1</th>\n",
              "      <td>1</td>\n",
              "      <td>صديقي انت ابن جامعه اللعبه اكبر من داعش اللعبه...</td>\n",
              "      <td>normal</td>\n",
              "      <td>15</td>\n",
              "    </tr>\n",
              "    <tr>\n",
              "      <th>2</th>\n",
              "      <td>2</td>\n",
              "      <td>و مصلحة لبنان تبدأ باستخراج النفط و الغاز لوقف...</td>\n",
              "      <td>normal</td>\n",
              "      <td>20</td>\n",
              "    </tr>\n",
              "    <tr>\n",
              "      <th>3</th>\n",
              "      <td>3</td>\n",
              "      <td>وليد جنبلاط كاتب الحكمة يا قذر</td>\n",
              "      <td>abusive</td>\n",
              "      <td>6</td>\n",
              "    </tr>\n",
              "    <tr>\n",
              "      <th>4</th>\n",
              "      <td>4</td>\n",
              "      <td>شو بتلبقلك كلمة خنزير بتجي مفصله على قياسك وشك...</td>\n",
              "      <td>abusive</td>\n",
              "      <td>9</td>\n",
              "    </tr>\n",
              "    <tr>\n",
              "      <th>...</th>\n",
              "      <td>...</td>\n",
              "      <td>...</td>\n",
              "      <td>...</td>\n",
              "      <td>...</td>\n",
              "    </tr>\n",
              "    <tr>\n",
              "      <th>9191</th>\n",
              "      <td>3348</td>\n",
              "      <td>يمشي بخطا ادارتها قيد من الأمريكان ونهب اسرائ...</td>\n",
              "      <td>hate</td>\n",
              "      <td>20</td>\n",
              "    </tr>\n",
              "    <tr>\n",
              "      <th>9192</th>\n",
              "      <td>3349</td>\n",
              "      <td>مهما حصل هندوس عليهم شويه الرويبضه بس نخلص ال...</td>\n",
              "      <td>hate</td>\n",
              "      <td>11</td>\n",
              "    </tr>\n",
              "    <tr>\n",
              "      <th>9193</th>\n",
              "      <td>3350</td>\n",
              "      <td>الكلب لا يعض اذن اخوه كذابين خنازير</td>\n",
              "      <td>hate</td>\n",
              "      <td>7</td>\n",
              "    </tr>\n",
              "    <tr>\n",
              "      <th>9194</th>\n",
              "      <td>3351</td>\n",
              "      <td>لأنه صغير ويكتب في قناة خنازير فلن نقرأ مقاله.</td>\n",
              "      <td>hate</td>\n",
              "      <td>9</td>\n",
              "    </tr>\n",
              "    <tr>\n",
              "      <th>9195</th>\n",
              "      <td>3352</td>\n",
              "      <td>الحريم أجمع افلوس وايفون قديم وواتساب ٢٤ ساعة</td>\n",
              "      <td>normal</td>\n",
              "      <td>8</td>\n",
              "    </tr>\n",
              "  </tbody>\n",
              "</table>\n",
              "<p>9196 rows × 4 columns</p>\n",
              "</div>\n",
              "      <button class=\"colab-df-convert\" onclick=\"convertToInteractive('df-5e63cfb8-6d0c-4dbd-82e9-a46a2c9c0d35')\"\n",
              "              title=\"Convert this dataframe to an interactive table.\"\n",
              "              style=\"display:none;\">\n",
              "        \n",
              "  <svg xmlns=\"http://www.w3.org/2000/svg\" height=\"24px\"viewBox=\"0 0 24 24\"\n",
              "       width=\"24px\">\n",
              "    <path d=\"M0 0h24v24H0V0z\" fill=\"none\"/>\n",
              "    <path d=\"M18.56 5.44l.94 2.06.94-2.06 2.06-.94-2.06-.94-.94-2.06-.94 2.06-2.06.94zm-11 1L8.5 8.5l.94-2.06 2.06-.94-2.06-.94L8.5 2.5l-.94 2.06-2.06.94zm10 10l.94 2.06.94-2.06 2.06-.94-2.06-.94-.94-2.06-.94 2.06-2.06.94z\"/><path d=\"M17.41 7.96l-1.37-1.37c-.4-.4-.92-.59-1.43-.59-.52 0-1.04.2-1.43.59L10.3 9.45l-7.72 7.72c-.78.78-.78 2.05 0 2.83L4 21.41c.39.39.9.59 1.41.59.51 0 1.02-.2 1.41-.59l7.78-7.78 2.81-2.81c.8-.78.8-2.07 0-2.86zM5.41 20L4 18.59l7.72-7.72 1.47 1.35L5.41 20z\"/>\n",
              "  </svg>\n",
              "      </button>\n",
              "      \n",
              "  <style>\n",
              "    .colab-df-container {\n",
              "      display:flex;\n",
              "      flex-wrap:wrap;\n",
              "      gap: 12px;\n",
              "    }\n",
              "\n",
              "    .colab-df-convert {\n",
              "      background-color: #E8F0FE;\n",
              "      border: none;\n",
              "      border-radius: 50%;\n",
              "      cursor: pointer;\n",
              "      display: none;\n",
              "      fill: #1967D2;\n",
              "      height: 32px;\n",
              "      padding: 0 0 0 0;\n",
              "      width: 32px;\n",
              "    }\n",
              "\n",
              "    .colab-df-convert:hover {\n",
              "      background-color: #E2EBFA;\n",
              "      box-shadow: 0px 1px 2px rgba(60, 64, 67, 0.3), 0px 1px 3px 1px rgba(60, 64, 67, 0.15);\n",
              "      fill: #174EA6;\n",
              "    }\n",
              "\n",
              "    [theme=dark] .colab-df-convert {\n",
              "      background-color: #3B4455;\n",
              "      fill: #D2E3FC;\n",
              "    }\n",
              "\n",
              "    [theme=dark] .colab-df-convert:hover {\n",
              "      background-color: #434B5C;\n",
              "      box-shadow: 0px 1px 3px 1px rgba(0, 0, 0, 0.15);\n",
              "      filter: drop-shadow(0px 1px 2px rgba(0, 0, 0, 0.3));\n",
              "      fill: #FFFFFF;\n",
              "    }\n",
              "  </style>\n",
              "\n",
              "      <script>\n",
              "        const buttonEl =\n",
              "          document.querySelector('#df-5e63cfb8-6d0c-4dbd-82e9-a46a2c9c0d35 button.colab-df-convert');\n",
              "        buttonEl.style.display =\n",
              "          google.colab.kernel.accessAllowed ? 'block' : 'none';\n",
              "\n",
              "        async function convertToInteractive(key) {\n",
              "          const element = document.querySelector('#df-5e63cfb8-6d0c-4dbd-82e9-a46a2c9c0d35');\n",
              "          const dataTable =\n",
              "            await google.colab.kernel.invokeFunction('convertToInteractive',\n",
              "                                                     [key], {});\n",
              "          if (!dataTable) return;\n",
              "\n",
              "          const docLinkHtml = 'Like what you see? Visit the ' +\n",
              "            '<a target=\"_blank\" href=https://colab.research.google.com/notebooks/data_table.ipynb>data table notebook</a>'\n",
              "            + ' to learn more about interactive tables.';\n",
              "          element.innerHTML = '';\n",
              "          dataTable['output_type'] = 'display_data';\n",
              "          await google.colab.output.renderOutput(dataTable, element);\n",
              "          const docLink = document.createElement('div');\n",
              "          docLink.innerHTML = docLinkHtml;\n",
              "          element.appendChild(docLink);\n",
              "        }\n",
              "      </script>\n",
              "    </div>\n",
              "  </div>\n",
              "  "
            ],
            "text/plain": [
              "      Unnamed: 0  ... word_count\n",
              "0              0  ...         17\n",
              "1              1  ...         15\n",
              "2              2  ...         20\n",
              "3              3  ...          6\n",
              "4              4  ...          9\n",
              "...          ...  ...        ...\n",
              "9191        3348  ...         20\n",
              "9192        3349  ...         11\n",
              "9193        3350  ...          7\n",
              "9194        3351  ...          9\n",
              "9195        3352  ...          8\n",
              "\n",
              "[9196 rows x 4 columns]"
            ]
          },
          "metadata": {},
          "execution_count": 4
        }
      ]
    },
    {
      "cell_type": "code",
      "source": [
        "# #Encoding\n",
        "# df.label.replace({'normal':0,'abusive':1,'spam':2,'hateful':3},inplace=True)\n",
        "# df.head()"
      ],
      "metadata": {
        "id": "y34AftTfjFPS"
      },
      "execution_count": null,
      "outputs": []
    },
    {
      "cell_type": "code",
      "source": [
        "train[train['word_count'] == 30]"
      ],
      "metadata": {
        "colab": {
          "base_uri": "https://localhost:8080/",
          "height": 300
        },
        "id": "g8D5pStLqgzi",
        "outputId": "84b8d971-cd4a-4aba-819f-03788c44962d"
      },
      "execution_count": null,
      "outputs": [
        {
          "output_type": "execute_result",
          "data": {
            "text/html": [
              "\n",
              "  <div id=\"df-ef491db0-90e2-44ac-aaa2-913b73851d70\">\n",
              "    <div class=\"colab-df-container\">\n",
              "      <div>\n",
              "<style scoped>\n",
              "    .dataframe tbody tr th:only-of-type {\n",
              "        vertical-align: middle;\n",
              "    }\n",
              "\n",
              "    .dataframe tbody tr th {\n",
              "        vertical-align: top;\n",
              "    }\n",
              "\n",
              "    .dataframe thead th {\n",
              "        text-align: right;\n",
              "    }\n",
              "</style>\n",
              "<table border=\"1\" class=\"dataframe\">\n",
              "  <thead>\n",
              "    <tr style=\"text-align: right;\">\n",
              "      <th></th>\n",
              "      <th>Unnamed: 0</th>\n",
              "      <th>commentaire</th>\n",
              "      <th>classe</th>\n",
              "      <th>word_count</th>\n",
              "    </tr>\n",
              "  </thead>\n",
              "  <tbody>\n",
              "    <tr>\n",
              "      <th>777</th>\n",
              "      <td>777</td>\n",
              "      <td>بغل بني عثمان بيعتقل صحافيين متل بوتين وأوربان...</td>\n",
              "      <td>abusive</td>\n",
              "      <td>30</td>\n",
              "    </tr>\n",
              "    <tr>\n",
              "      <th>3591</th>\n",
              "      <td>3591</td>\n",
              "      <td>بغض النظر عن إنه كلهن كلاب بس حتى الإمارات وصل...</td>\n",
              "      <td>abusive</td>\n",
              "      <td>30</td>\n",
              "    </tr>\n",
              "    <tr>\n",
              "      <th>4645</th>\n",
              "      <td>4645</td>\n",
              "      <td>صار كل كلب عوني بدو ينشهر على تويتر  بيتطاول ع...</td>\n",
              "      <td>hate</td>\n",
              "      <td>30</td>\n",
              "    </tr>\n",
              "    <tr>\n",
              "      <th>4997</th>\n",
              "      <td>4997</td>\n",
              "      <td>اه يا فاشل افتخر ولا يهمك لأنك انسان انتهازي ح...</td>\n",
              "      <td>abusive</td>\n",
              "      <td>30</td>\n",
              "    </tr>\n",
              "    <tr>\n",
              "      <th>5038</th>\n",
              "      <td>5038</td>\n",
              "      <td>يا بغل العلم الي حضرتك حاطه هو علم تركيا يا طش...</td>\n",
              "      <td>hate</td>\n",
              "      <td>30</td>\n",
              "    </tr>\n",
              "    <tr>\n",
              "      <th>5122</th>\n",
              "      <td>5122</td>\n",
              "      <td>يا فهمان يا مقاوم حرر القدس وشو بدك بل الخزعبل...</td>\n",
              "      <td>normal</td>\n",
              "      <td>30</td>\n",
              "    </tr>\n",
              "    <tr>\n",
              "      <th>5225</th>\n",
              "      <td>5225</td>\n",
              "      <td>مارسيل غانم انتحر إعلامياً للتو ظهر عن طريق ال...</td>\n",
              "      <td>hate</td>\n",
              "      <td>30</td>\n",
              "    </tr>\n",
              "    <tr>\n",
              "      <th>5743</th>\n",
              "      <td>5743</td>\n",
              "      <td>جابتله سيرة الطاقة النووية بالغلط بلش يشرح ليه...</td>\n",
              "      <td>normal</td>\n",
              "      <td>30</td>\n",
              "    </tr>\n",
              "  </tbody>\n",
              "</table>\n",
              "</div>\n",
              "      <button class=\"colab-df-convert\" onclick=\"convertToInteractive('df-ef491db0-90e2-44ac-aaa2-913b73851d70')\"\n",
              "              title=\"Convert this dataframe to an interactive table.\"\n",
              "              style=\"display:none;\">\n",
              "        \n",
              "  <svg xmlns=\"http://www.w3.org/2000/svg\" height=\"24px\"viewBox=\"0 0 24 24\"\n",
              "       width=\"24px\">\n",
              "    <path d=\"M0 0h24v24H0V0z\" fill=\"none\"/>\n",
              "    <path d=\"M18.56 5.44l.94 2.06.94-2.06 2.06-.94-2.06-.94-.94-2.06-.94 2.06-2.06.94zm-11 1L8.5 8.5l.94-2.06 2.06-.94-2.06-.94L8.5 2.5l-.94 2.06-2.06.94zm10 10l.94 2.06.94-2.06 2.06-.94-2.06-.94-.94-2.06-.94 2.06-2.06.94z\"/><path d=\"M17.41 7.96l-1.37-1.37c-.4-.4-.92-.59-1.43-.59-.52 0-1.04.2-1.43.59L10.3 9.45l-7.72 7.72c-.78.78-.78 2.05 0 2.83L4 21.41c.39.39.9.59 1.41.59.51 0 1.02-.2 1.41-.59l7.78-7.78 2.81-2.81c.8-.78.8-2.07 0-2.86zM5.41 20L4 18.59l7.72-7.72 1.47 1.35L5.41 20z\"/>\n",
              "  </svg>\n",
              "      </button>\n",
              "      \n",
              "  <style>\n",
              "    .colab-df-container {\n",
              "      display:flex;\n",
              "      flex-wrap:wrap;\n",
              "      gap: 12px;\n",
              "    }\n",
              "\n",
              "    .colab-df-convert {\n",
              "      background-color: #E8F0FE;\n",
              "      border: none;\n",
              "      border-radius: 50%;\n",
              "      cursor: pointer;\n",
              "      display: none;\n",
              "      fill: #1967D2;\n",
              "      height: 32px;\n",
              "      padding: 0 0 0 0;\n",
              "      width: 32px;\n",
              "    }\n",
              "\n",
              "    .colab-df-convert:hover {\n",
              "      background-color: #E2EBFA;\n",
              "      box-shadow: 0px 1px 2px rgba(60, 64, 67, 0.3), 0px 1px 3px 1px rgba(60, 64, 67, 0.15);\n",
              "      fill: #174EA6;\n",
              "    }\n",
              "\n",
              "    [theme=dark] .colab-df-convert {\n",
              "      background-color: #3B4455;\n",
              "      fill: #D2E3FC;\n",
              "    }\n",
              "\n",
              "    [theme=dark] .colab-df-convert:hover {\n",
              "      background-color: #434B5C;\n",
              "      box-shadow: 0px 1px 3px 1px rgba(0, 0, 0, 0.15);\n",
              "      filter: drop-shadow(0px 1px 2px rgba(0, 0, 0, 0.3));\n",
              "      fill: #FFFFFF;\n",
              "    }\n",
              "  </style>\n",
              "\n",
              "      <script>\n",
              "        const buttonEl =\n",
              "          document.querySelector('#df-ef491db0-90e2-44ac-aaa2-913b73851d70 button.colab-df-convert');\n",
              "        buttonEl.style.display =\n",
              "          google.colab.kernel.accessAllowed ? 'block' : 'none';\n",
              "\n",
              "        async function convertToInteractive(key) {\n",
              "          const element = document.querySelector('#df-ef491db0-90e2-44ac-aaa2-913b73851d70');\n",
              "          const dataTable =\n",
              "            await google.colab.kernel.invokeFunction('convertToInteractive',\n",
              "                                                     [key], {});\n",
              "          if (!dataTable) return;\n",
              "\n",
              "          const docLinkHtml = 'Like what you see? Visit the ' +\n",
              "            '<a target=\"_blank\" href=https://colab.research.google.com/notebooks/data_table.ipynb>data table notebook</a>'\n",
              "            + ' to learn more about interactive tables.';\n",
              "          element.innerHTML = '';\n",
              "          dataTable['output_type'] = 'display_data';\n",
              "          await google.colab.output.renderOutput(dataTable, element);\n",
              "          const docLink = document.createElement('div');\n",
              "          docLink.innerHTML = docLinkHtml;\n",
              "          element.appendChild(docLink);\n",
              "        }\n",
              "      </script>\n",
              "    </div>\n",
              "  </div>\n",
              "  "
            ],
            "text/plain": [
              "      Unnamed: 0  ... word_count\n",
              "777          777  ...         30\n",
              "3591        3591  ...         30\n",
              "4645        4645  ...         30\n",
              "4997        4997  ...         30\n",
              "5038        5038  ...         30\n",
              "5122        5122  ...         30\n",
              "5225        5225  ...         30\n",
              "5743        5743  ...         30\n",
              "\n",
              "[8 rows x 4 columns]"
            ]
          },
          "metadata": {},
          "execution_count": 6
        }
      ]
    },
    {
      "cell_type": "code",
      "source": [
        "train['commentaire'][33]"
      ],
      "metadata": {
        "colab": {
          "base_uri": "https://localhost:8080/",
          "height": 36
        },
        "id": "N2lLrbnqqsFk",
        "outputId": "e42ef0b5-f5eb-4fb8-e465-57aac71b5e0f"
      },
      "execution_count": null,
      "outputs": [
        {
          "output_type": "execute_result",
          "data": {
            "application/vnd.google.colaboratory.intrinsic+json": {
              "type": "string"
            },
            "text/plain": [
              "'سمج سميك زنخ كمخة'"
            ]
          },
          "metadata": {},
          "execution_count": 7
        }
      ]
    },
    {
      "cell_type": "code",
      "metadata": {
        "id": "reTRftvWpUJk",
        "colab": {
          "base_uri": "https://localhost:8080/"
        },
        "outputId": "355b7fb1-37fc-4dd3-f06b-b1fd5dd7ec48"
      },
      "source": [
        "y_train=train['classe']\n",
        "X_train=train['commentaire']\n",
        "#test=test['comm']\n",
        "y_train=pd.factorize(y_train)[0]\n",
        "# y_test=pd.factorize(y_test)[0]\n",
        "train['labels'] = pd.factorize(y_train)[0]\n",
        "\n",
        "import collections\n",
        "collections.Counter(y_train)\n",
        "\n",
        "#Counter({0: 4400, 1: 8840})"
      ],
      "execution_count": null,
      "outputs": [
        {
          "output_type": "execute_result",
          "data": {
            "text/plain": [
              "Counter({0: 1746, 1: 4565, 2: 2885})"
            ]
          },
          "metadata": {},
          "execution_count": 8
        }
      ]
    },
    {
      "cell_type": "code",
      "source": [
        "train"
      ],
      "metadata": {
        "colab": {
          "base_uri": "https://localhost:8080/",
          "height": 423
        },
        "id": "gJDueK0Uh9kN",
        "outputId": "31fa59f5-3835-4ec1-ec68-ecd0a220bf40"
      },
      "execution_count": null,
      "outputs": [
        {
          "output_type": "execute_result",
          "data": {
            "text/html": [
              "\n",
              "  <div id=\"df-436751f9-c18c-4fb1-8ac0-243f8019ca8d\">\n",
              "    <div class=\"colab-df-container\">\n",
              "      <div>\n",
              "<style scoped>\n",
              "    .dataframe tbody tr th:only-of-type {\n",
              "        vertical-align: middle;\n",
              "    }\n",
              "\n",
              "    .dataframe tbody tr th {\n",
              "        vertical-align: top;\n",
              "    }\n",
              "\n",
              "    .dataframe thead th {\n",
              "        text-align: right;\n",
              "    }\n",
              "</style>\n",
              "<table border=\"1\" class=\"dataframe\">\n",
              "  <thead>\n",
              "    <tr style=\"text-align: right;\">\n",
              "      <th></th>\n",
              "      <th>Unnamed: 0</th>\n",
              "      <th>commentaire</th>\n",
              "      <th>classe</th>\n",
              "      <th>word_count</th>\n",
              "      <th>labels</th>\n",
              "    </tr>\n",
              "  </thead>\n",
              "  <tbody>\n",
              "    <tr>\n",
              "      <th>0</th>\n",
              "      <td>0</td>\n",
              "      <td>الوزير جبران باسيل تاج راسك يا جربان ممنوع بعد...</td>\n",
              "      <td>abusive</td>\n",
              "      <td>17</td>\n",
              "      <td>0</td>\n",
              "    </tr>\n",
              "    <tr>\n",
              "      <th>1</th>\n",
              "      <td>1</td>\n",
              "      <td>صديقي انت ابن جامعه اللعبه اكبر من داعش اللعبه...</td>\n",
              "      <td>normal</td>\n",
              "      <td>15</td>\n",
              "      <td>1</td>\n",
              "    </tr>\n",
              "    <tr>\n",
              "      <th>2</th>\n",
              "      <td>2</td>\n",
              "      <td>و مصلحة لبنان تبدأ باستخراج النفط و الغاز لوقف...</td>\n",
              "      <td>normal</td>\n",
              "      <td>20</td>\n",
              "      <td>1</td>\n",
              "    </tr>\n",
              "    <tr>\n",
              "      <th>3</th>\n",
              "      <td>3</td>\n",
              "      <td>وليد جنبلاط كاتب الحكمة يا قذر</td>\n",
              "      <td>abusive</td>\n",
              "      <td>6</td>\n",
              "      <td>0</td>\n",
              "    </tr>\n",
              "    <tr>\n",
              "      <th>4</th>\n",
              "      <td>4</td>\n",
              "      <td>شو بتلبقلك كلمة خنزير بتجي مفصله على قياسك وشك...</td>\n",
              "      <td>abusive</td>\n",
              "      <td>9</td>\n",
              "      <td>0</td>\n",
              "    </tr>\n",
              "    <tr>\n",
              "      <th>...</th>\n",
              "      <td>...</td>\n",
              "      <td>...</td>\n",
              "      <td>...</td>\n",
              "      <td>...</td>\n",
              "      <td>...</td>\n",
              "    </tr>\n",
              "    <tr>\n",
              "      <th>9191</th>\n",
              "      <td>3348</td>\n",
              "      <td>يمشي بخطا ادارتها قيد من الأمريكان ونهب اسرائ...</td>\n",
              "      <td>hate</td>\n",
              "      <td>20</td>\n",
              "      <td>2</td>\n",
              "    </tr>\n",
              "    <tr>\n",
              "      <th>9192</th>\n",
              "      <td>3349</td>\n",
              "      <td>مهما حصل هندوس عليهم شويه الرويبضه بس نخلص ال...</td>\n",
              "      <td>hate</td>\n",
              "      <td>11</td>\n",
              "      <td>2</td>\n",
              "    </tr>\n",
              "    <tr>\n",
              "      <th>9193</th>\n",
              "      <td>3350</td>\n",
              "      <td>الكلب لا يعض اذن اخوه كذابين خنازير</td>\n",
              "      <td>hate</td>\n",
              "      <td>7</td>\n",
              "      <td>2</td>\n",
              "    </tr>\n",
              "    <tr>\n",
              "      <th>9194</th>\n",
              "      <td>3351</td>\n",
              "      <td>لأنه صغير ويكتب في قناة خنازير فلن نقرأ مقاله.</td>\n",
              "      <td>hate</td>\n",
              "      <td>9</td>\n",
              "      <td>2</td>\n",
              "    </tr>\n",
              "    <tr>\n",
              "      <th>9195</th>\n",
              "      <td>3352</td>\n",
              "      <td>الحريم أجمع افلوس وايفون قديم وواتساب ٢٤ ساعة</td>\n",
              "      <td>normal</td>\n",
              "      <td>8</td>\n",
              "      <td>1</td>\n",
              "    </tr>\n",
              "  </tbody>\n",
              "</table>\n",
              "<p>9196 rows × 5 columns</p>\n",
              "</div>\n",
              "      <button class=\"colab-df-convert\" onclick=\"convertToInteractive('df-436751f9-c18c-4fb1-8ac0-243f8019ca8d')\"\n",
              "              title=\"Convert this dataframe to an interactive table.\"\n",
              "              style=\"display:none;\">\n",
              "        \n",
              "  <svg xmlns=\"http://www.w3.org/2000/svg\" height=\"24px\"viewBox=\"0 0 24 24\"\n",
              "       width=\"24px\">\n",
              "    <path d=\"M0 0h24v24H0V0z\" fill=\"none\"/>\n",
              "    <path d=\"M18.56 5.44l.94 2.06.94-2.06 2.06-.94-2.06-.94-.94-2.06-.94 2.06-2.06.94zm-11 1L8.5 8.5l.94-2.06 2.06-.94-2.06-.94L8.5 2.5l-.94 2.06-2.06.94zm10 10l.94 2.06.94-2.06 2.06-.94-2.06-.94-.94-2.06-.94 2.06-2.06.94z\"/><path d=\"M17.41 7.96l-1.37-1.37c-.4-.4-.92-.59-1.43-.59-.52 0-1.04.2-1.43.59L10.3 9.45l-7.72 7.72c-.78.78-.78 2.05 0 2.83L4 21.41c.39.39.9.59 1.41.59.51 0 1.02-.2 1.41-.59l7.78-7.78 2.81-2.81c.8-.78.8-2.07 0-2.86zM5.41 20L4 18.59l7.72-7.72 1.47 1.35L5.41 20z\"/>\n",
              "  </svg>\n",
              "      </button>\n",
              "      \n",
              "  <style>\n",
              "    .colab-df-container {\n",
              "      display:flex;\n",
              "      flex-wrap:wrap;\n",
              "      gap: 12px;\n",
              "    }\n",
              "\n",
              "    .colab-df-convert {\n",
              "      background-color: #E8F0FE;\n",
              "      border: none;\n",
              "      border-radius: 50%;\n",
              "      cursor: pointer;\n",
              "      display: none;\n",
              "      fill: #1967D2;\n",
              "      height: 32px;\n",
              "      padding: 0 0 0 0;\n",
              "      width: 32px;\n",
              "    }\n",
              "\n",
              "    .colab-df-convert:hover {\n",
              "      background-color: #E2EBFA;\n",
              "      box-shadow: 0px 1px 2px rgba(60, 64, 67, 0.3), 0px 1px 3px 1px rgba(60, 64, 67, 0.15);\n",
              "      fill: #174EA6;\n",
              "    }\n",
              "\n",
              "    [theme=dark] .colab-df-convert {\n",
              "      background-color: #3B4455;\n",
              "      fill: #D2E3FC;\n",
              "    }\n",
              "\n",
              "    [theme=dark] .colab-df-convert:hover {\n",
              "      background-color: #434B5C;\n",
              "      box-shadow: 0px 1px 3px 1px rgba(0, 0, 0, 0.15);\n",
              "      filter: drop-shadow(0px 1px 2px rgba(0, 0, 0, 0.3));\n",
              "      fill: #FFFFFF;\n",
              "    }\n",
              "  </style>\n",
              "\n",
              "      <script>\n",
              "        const buttonEl =\n",
              "          document.querySelector('#df-436751f9-c18c-4fb1-8ac0-243f8019ca8d button.colab-df-convert');\n",
              "        buttonEl.style.display =\n",
              "          google.colab.kernel.accessAllowed ? 'block' : 'none';\n",
              "\n",
              "        async function convertToInteractive(key) {\n",
              "          const element = document.querySelector('#df-436751f9-c18c-4fb1-8ac0-243f8019ca8d');\n",
              "          const dataTable =\n",
              "            await google.colab.kernel.invokeFunction('convertToInteractive',\n",
              "                                                     [key], {});\n",
              "          if (!dataTable) return;\n",
              "\n",
              "          const docLinkHtml = 'Like what you see? Visit the ' +\n",
              "            '<a target=\"_blank\" href=https://colab.research.google.com/notebooks/data_table.ipynb>data table notebook</a>'\n",
              "            + ' to learn more about interactive tables.';\n",
              "          element.innerHTML = '';\n",
              "          dataTable['output_type'] = 'display_data';\n",
              "          await google.colab.output.renderOutput(dataTable, element);\n",
              "          const docLink = document.createElement('div');\n",
              "          docLink.innerHTML = docLinkHtml;\n",
              "          element.appendChild(docLink);\n",
              "        }\n",
              "      </script>\n",
              "    </div>\n",
              "  </div>\n",
              "  "
            ],
            "text/plain": [
              "      Unnamed: 0  ... labels\n",
              "0              0  ...      0\n",
              "1              1  ...      1\n",
              "2              2  ...      1\n",
              "3              3  ...      0\n",
              "4              4  ...      0\n",
              "...          ...  ...    ...\n",
              "9191        3348  ...      2\n",
              "9192        3349  ...      2\n",
              "9193        3350  ...      2\n",
              "9194        3351  ...      2\n",
              "9195        3352  ...      1\n",
              "\n",
              "[9196 rows x 5 columns]"
            ]
          },
          "metadata": {},
          "execution_count": 9
        }
      ]
    },
    {
      "cell_type": "code",
      "source": [
        "import nltk\n",
        "nltk.download('stopwords')\n",
        "nltk.download('wordnet')\n",
        "from nltk.corpus import stopwords\n",
        "stopwords_list = stopwords.words('arabic')"
      ],
      "metadata": {
        "colab": {
          "base_uri": "https://localhost:8080/"
        },
        "id": "oGLoYOBGcQLC",
        "outputId": "a49a971d-5076-4220-ab1f-e6c34d6c52c9"
      },
      "execution_count": null,
      "outputs": [
        {
          "output_type": "stream",
          "name": "stdout",
          "text": [
            "[nltk_data] Downloading package stopwords to /root/nltk_data...\n",
            "[nltk_data]   Package stopwords is already up-to-date!\n",
            "[nltk_data] Downloading package wordnet to /root/nltk_data...\n",
            "[nltk_data]   Package wordnet is already up-to-date!\n"
          ]
        }
      ]
    },
    {
      "cell_type": "code",
      "source": [
        "#cleaning data\n",
        "import re\n",
        "from nltk.stem.porter import PorterStemmer\n",
        "tokenizer=nltk.tokenize.WhitespaceTokenizer()\n",
        "from nltk.stem.isri import ISRIStemmer\n",
        "st = ISRIStemmer()\n",
        "from snowballstemmer import stemmer\n",
        "ar_stemmer = stemmer(\"arabic\")\n",
        "\n",
        "def preprocess(review):\n",
        "   review = re.sub('[^ا-ي]', ' ', review)\n",
        " \n",
        "   review = tokenizer.tokenize(review)\n",
        "   review = [ar_stemmer.stemWord(word) for word in review if not word in set(stopwords_list )]\n",
        "   review = ' '.join(review)\n",
        "   return review"
      ],
      "metadata": {
        "id": "eTokWOWpbiMT"
      },
      "execution_count": null,
      "outputs": []
    },
    {
      "cell_type": "code",
      "source": [
        "# X_train = train['commentaire'].apply(preprocess)\n",
        "X_train = X_train.apply(preprocess)\n"
      ],
      "metadata": {
        "id": "0fUSTtv_b2Tj"
      },
      "execution_count": null,
      "outputs": []
    },
    {
      "cell_type": "code",
      "source": [
        "X_train[0] ### Après preprocessing"
      ],
      "metadata": {
        "colab": {
          "base_uri": "https://localhost:8080/",
          "height": 36
        },
        "id": "pHWUrV9_cchK",
        "outputId": "b40ad82c-fabf-4b0e-c8e0-d4831a8cccf0"
      },
      "execution_count": null,
      "outputs": [
        {
          "output_type": "execute_result",
          "data": {
            "application/vnd.google.colaboratory.intrinsic+json": {
              "type": "string"
            },
            "text/plain": [
              "'وزير جبران باسيل تاج راس جربان ممنوع يوم مساس مقدسا ربنا وال يسوع مسيح'"
            ]
          },
          "metadata": {},
          "execution_count": 13
        }
      ]
    },
    {
      "cell_type": "code",
      "source": [
        "train['commentaire'][0] ### Originale"
      ],
      "metadata": {
        "colab": {
          "base_uri": "https://localhost:8080/",
          "height": 36
        },
        "id": "TNY4hgF8dEM6",
        "outputId": "5278c277-8198-4989-a484-15c5f0b089b1"
      },
      "execution_count": null,
      "outputs": [
        {
          "output_type": "execute_result",
          "data": {
            "application/vnd.google.colaboratory.intrinsic+json": {
              "type": "string"
            },
            "text/plain": [
              "'الوزير جبران باسيل تاج راسك يا جربان ممنوع بعد اليوم المساس بمقدساتنا من ربنا والهنا يسوع المسيح'"
            ]
          },
          "metadata": {},
          "execution_count": 14
        }
      ]
    },
    {
      "cell_type": "code",
      "metadata": {
        "id": "qMwojEJFiiBY"
      },
      "source": [
        "# x=train[323].lower().replace('@user','').replace('url','')\n",
        "# x=re.sub('[^A-Za-z]', ' ', x)\n",
        "# re.sub('http[s]?://(?:[a-zA-Z]|[0-9]|[$-_@.&+]|'\n",
        "#         '[!*\\(\\),]|(?:%[0-9a-fA-F][0-9a-fA-F]))+','',x)"
      ],
      "execution_count": null,
      "outputs": []
    },
    {
      "cell_type": "code",
      "metadata": {
        "id": "0KkTgzF_q4s1"
      },
      "source": [
        "# # Creating the training corpus\n",
        "# stop_words = set(stopwords.words(\"english\")) \n",
        "# lemmatizer = WordNetLemmatizer()\n",
        "# corpus_train = []\n",
        "# for i in train:\n",
        "#     x=i.lower()\n",
        "#     x=x.replace('@user','')\n",
        "#     x=x.replace('@[\\w\\-]+','')\n",
        "#     #x=x.translate(str.maketrans('', '', string.punctuation))\n",
        "#     x = re.sub('[^A-Za-z]', ' ', x)\n",
        "#     #x=re.sub('\\s+',' ',x)\n",
        "#     x=re.sub('http[s]?://(?:[a-zA-Z]|[0-9]|[$-_@.&+]|'\n",
        "#         '[!*\\(\\),]|(?:%[0-9a-fA-F][0-9a-fA-F]))+','',x) #url\n",
        "#     #x = [lemmatizer.lemmatize(token) for token in x.split(\" \")]\n",
        "#     #x = [word for word in x if not word in stop_words]\n",
        "#     #x=\" \".join(x)\n",
        "#     corpus_train.append(x)    \n",
        "# # Creating the training corpus\n",
        "# corpus_test = []\n",
        "# for i in test:\n",
        "#     x=i.lower()\n",
        "#     x=x.replace('@user','')\n",
        "#     x=x.replace('@[\\w\\-]+','')\n",
        "#     #x=x.translate(str.maketrans('', '', string.punctuation))\n",
        "#     x = re.sub('[^A-Za-z]', ' ', x)\n",
        "#     #x=re.sub('\\s+',' ',x)\n",
        "#     x=re.sub('http[s]?://(?:[a-zA-Z]|[0-9]|[$-_@.&+]|'\n",
        "#         '[!*\\(\\),]|(?:%[0-9a-fA-F][0-9a-fA-F]))+','',x) #url\n",
        "#     #x = [lemmatizer.lemmatize(token) for token in x.split(\" \")]\n",
        "#     #x = [word for word in x if not word in stop_words]\n",
        "#     #x=\" \".join(x)\n",
        "#     corpus_test.append(x) "
      ],
      "execution_count": null,
      "outputs": []
    },
    {
      "cell_type": "code",
      "metadata": {
        "id": "GyyHvozBq7kf"
      },
      "source": [
        "# from keras.preprocessing.text import Tokenizer\n",
        "# from keras.preprocessing import sequence\n",
        "# max_words = 5000 #frequency of words to be kept\n",
        "# max_len = 200\n",
        "# tokenize = Tokenizer(num_words=max_words)\n",
        "# tokenize.fit_on_texts(corpus_train)\n",
        "# sequences = tokenize.texts_to_sequences(corpus_train)\n",
        "# word_index = tokenize.word_index\n",
        "# sequences_matrix = sequence.pad_sequences(sequences,maxlen=max_len)"
      ],
      "execution_count": null,
      "outputs": []
    },
    {
      "cell_type": "code",
      "source": [
        "# splitting the data into target and feature\n",
        "from sklearn.model_selection import train_test_split\n",
        "from keras.preprocessing.text import Tokenizer\n",
        "from keras.preprocessing.sequence import pad_sequences \n",
        "\n",
        "X_train, X_test, y_train, y_test = train_test_split(X_train, y_train ,test_size = 0.1, random_state=0)\n",
        "tokenizer = Tokenizer(lower=True)\n",
        "tokenizer.fit_on_texts(X_train)\n",
        "\n",
        "X_train = tokenizer.texts_to_sequences(X_train)\n",
        "X_test = tokenizer.texts_to_sequences(X_test)\n",
        "\n",
        "vocab_size = len(tokenizer.word_index) + 1 \n",
        "vocab_size # Adding 1 because of reserved 0 index"
      ],
      "metadata": {
        "colab": {
          "base_uri": "https://localhost:8080/"
        },
        "id": "DUs3GSQ9e6lq",
        "outputId": "d9cac376-c452-48c7-e485-b3a2bd8a1bea"
      },
      "execution_count": null,
      "outputs": [
        {
          "output_type": "execute_result",
          "data": {
            "text/plain": [
              "15289"
            ]
          },
          "metadata": {},
          "execution_count": 18
        }
      ]
    },
    {
      "cell_type": "code",
      "source": [
        "word_index = tokenizer.word_index\n"
      ],
      "metadata": {
        "id": "_Ae1X0N6mtK1"
      },
      "execution_count": null,
      "outputs": []
    },
    {
      "cell_type": "code",
      "source": [
        "lens_train = [len(i) for i in X_train]\n",
        "lens_test = [len(i) for i in X_test]\n",
        "lens = lens_train + lens_test\n",
        "\n",
        "maxlen = np.max(lens)\n",
        "print('Max len:', maxlen)"
      ],
      "metadata": {
        "colab": {
          "base_uri": "https://localhost:8080/"
        },
        "id": "gm9MD9MKgew-",
        "outputId": "6730ae4b-3c18-448e-c3de-d441d4add51f"
      },
      "execution_count": null,
      "outputs": [
        {
          "output_type": "stream",
          "name": "stdout",
          "text": [
            "Max len: 46\n"
          ]
        }
      ]
    },
    {
      "cell_type": "code",
      "source": [
        "# len(x.split())\n",
        "\n",
        "# lens_train = [len(i.split()) for i in list(train['commentaire'])]\n",
        "# lens_test = [len(i.split()) for i in X_test]\n",
        "# lens = lens_train + lens_test\n",
        "\n",
        "# maxlen_ = np.max(train['word_count'])\n",
        "# print('Max len:', maxlen_)\n"
      ],
      "metadata": {
        "id": "MHCkOuIlo0Bc"
      },
      "execution_count": null,
      "outputs": []
    },
    {
      "cell_type": "code",
      "metadata": {
        "id": "sYN-06rwkCyJ"
      },
      "source": [
        "# num_words = min(max_words, len(word_index)) + 1\n",
        "# print(num_words)"
      ],
      "execution_count": null,
      "outputs": []
    },
    {
      "cell_type": "code",
      "source": [
        "### AraVec embeddings\n",
        "# !wget https://bakrianoo.ewr1.vultrobjects.com/aravec/full_grams_cbow_300_twitter.zip"
      ],
      "metadata": {
        "id": "DO1yndKJiXxl"
      },
      "execution_count": null,
      "outputs": []
    },
    {
      "cell_type": "code",
      "metadata": {
        "id": "vNP3UOz1djK_"
      },
      "source": [
        "### Unzip AraVec \n",
        "# !unzip /content/full_grams_cbow_300_twitter.zip"
      ],
      "execution_count": null,
      "outputs": []
    },
    {
      "cell_type": "code",
      "source": [
        "# !mv /content/full_grams_cbow_300_twitter.mdl.trainables.syn1neg.npy /content/drive/MyDrive/FastText_Aravec_Arabic_embeddings/full_grams_cbow_300_twitter.mdl.trainables.syn1neg.npy\n",
        "# !mv /content/full_grams_cbow_300_twitter.mdl.wv.vectors.npy /content/drive/MyDrive/FastText_Aravec_Arabic_embeddings/full_grams_cbow_300_twitter.mdl.wv.vectors.npy"
      ],
      "metadata": {
        "id": "N4cXkMapTl0M"
      },
      "execution_count": null,
      "outputs": []
    },
    {
      "cell_type": "code",
      "source": [
        "### FastText Arabic embeddings\n",
        "# !wget https://dl.fbaipublicfiles.com/fasttext/vectors-crawl/cc.ar.300.vec.gz"
      ],
      "metadata": {
        "id": "N9NhnutckY-C"
      },
      "execution_count": null,
      "outputs": []
    },
    {
      "cell_type": "code",
      "source": [
        "### Unzip FastText Arabic\n",
        "# !gzip -d /content/cc.ar.300.vec.gz"
      ],
      "metadata": {
        "id": "bPzCEayqk0o0"
      },
      "execution_count": null,
      "outputs": []
    },
    {
      "cell_type": "code",
      "metadata": {
        "id": "vlMA1Qwfg0EA"
      },
      "source": [
        "embedding_path1 = \"/content/drive/MyDrive/FastText_Aravec_Arabic_embeddings/cc.ar.300.vec\" ### FadText Arabic\n",
        "embedding_path2 = \"/content/drive/MyDrive/FastText_Aravec_Arabic_embeddings/full_grams_cbow_300_twitter.mdl.wv.vectors.npy\" ### AraVec\n",
        "#embedding_path2 = \"/content/full_grams_cbow_300_twitter.mdl.wv.vectors.npy\" ### AraVec\n",
        "\n",
        "embed_size = 300"
      ],
      "execution_count": null,
      "outputs": []
    },
    {
      "cell_type": "code",
      "metadata": {
        "id": "TyxVJQ45rSW3"
      },
      "source": [
        "def get_coefs(word,*arr):\n",
        "    return word, np.asarray(arr, dtype='float32')\n",
        "\n",
        "def build_matrix(embedding_path, word_index):\n",
        "    embedding_index = dict(get_coefs(*o.strip().split(\" \")) for o in open(embedding_path))\n",
        "\n",
        "    nb_words = min(maxlen, len(word_index))\n",
        "    # embedding_matrix = np.zeros((nb_words + 1, embed_size))\n",
        "    embedding_matrix = np.zeros((vocab_size + 1, embed_size))\n",
        "    for word, i in word_index.items():\n",
        "        if i >= maxlen:\n",
        "            continue\n",
        "        embedding_vector = embedding_index.get(word)\n",
        "        if embedding_vector is not None:\n",
        "            embedding_matrix[i] = embedding_vector\n",
        "    return embedding_matrix\n"
      ],
      "execution_count": null,
      "outputs": []
    },
    {
      "cell_type": "code",
      "metadata": {
        "id": "zYUKY8LXkIoK"
      },
      "source": [
        "fasttext_arabic_emb = build_matrix(embedding_path1, word_index)\n",
        "# aravec_emb = build_matrix(embedding_path2, word_index)"
      ],
      "execution_count": null,
      "outputs": []
    },
    {
      "cell_type": "code",
      "metadata": {
        "colab": {
          "base_uri": "https://localhost:8080/"
        },
        "id": "ujFHFjvZgbri",
        "outputId": "4cb4d2cd-e4b3-4559-fe15-6df5a3bf9277"
      },
      "source": [
        "fasttext_arabic_emb.shape"
      ],
      "execution_count": null,
      "outputs": [
        {
          "output_type": "execute_result",
          "data": {
            "text/plain": [
              "(15290, 300)"
            ]
          },
          "metadata": {},
          "execution_count": 31
        }
      ]
    },
    {
      "cell_type": "code",
      "source": [
        "import gensim\n",
        "\n",
        "t_model = gensim.models.Word2Vec.load('/content/drive/MyDrive/FastText_Aravec_Arabic_embeddings/full_grams_cbow_300_twitter.mdl')"
      ],
      "metadata": {
        "id": "Tla3YBh1xpBK"
      },
      "execution_count": null,
      "outputs": []
    },
    {
      "cell_type": "code",
      "source": [
        "# word_vector = t_model.wv[ token ]\n",
        "\n",
        "def build_aravec_matrix(embedding_path, word_index):\n",
        "\n",
        "    nb_words = min(maxlen, len(word_index))\n",
        "    # embedding_matrix = np.zeros((nb_words + 1, embed_size))\n",
        "    embedding_matrix = np.zeros((vocab_size + 1, embed_size))\n",
        "    for word, i in word_index.items():\n",
        "        if i >= maxlen:\n",
        "            continue\n",
        "        try:\n",
        "          embedding_vector = t_model.wv[word]\n",
        "        except KeyError:\n",
        "          continue\n",
        "        if embedding_vector is not None:\n",
        "            embedding_matrix[i] = t_model.wv[word]\n",
        "    return embedding_matrix"
      ],
      "metadata": {
        "id": "VPIk72dXx4rz"
      },
      "execution_count": null,
      "outputs": []
    },
    {
      "cell_type": "code",
      "source": [
        "aravec_emb = build_aravec_matrix(embedding_path2, word_index)"
      ],
      "metadata": {
        "id": "jPT-r20-vv3L"
      },
      "execution_count": null,
      "outputs": []
    },
    {
      "cell_type": "code",
      "source": [
        "aravec_emb.shape"
      ],
      "metadata": {
        "colab": {
          "base_uri": "https://localhost:8080/"
        },
        "id": "-GfJTGLH9GiR",
        "outputId": "d4c0ee01-6569-4343-db77-151219b3f5ef"
      },
      "execution_count": null,
      "outputs": [
        {
          "output_type": "execute_result",
          "data": {
            "text/plain": [
              "(15290, 300)"
            ]
          },
          "metadata": {},
          "execution_count": 35
        }
      ]
    },
    {
      "cell_type": "code",
      "source": [
        "aravec_emb"
      ],
      "metadata": {
        "colab": {
          "base_uri": "https://localhost:8080/"
        },
        "id": "ywE3rEY3AvVS",
        "outputId": "5ae43a50-e9aa-49ec-e518-44bc087e8075"
      },
      "execution_count": null,
      "outputs": [
        {
          "output_type": "execute_result",
          "data": {
            "text/plain": [
              "array([[ 0.        ,  0.        ,  0.        , ...,  0.        ,\n",
              "         0.        ,  0.        ],\n",
              "       [ 0.14556547,  0.42558247,  0.31349891, ...,  0.99427533,\n",
              "        -0.72583079,  2.37648702],\n",
              "       [-0.38673455,  0.33680117,  1.18331623, ..., -0.91360921,\n",
              "        -1.73035276,  0.03432675],\n",
              "       ...,\n",
              "       [ 0.        ,  0.        ,  0.        , ...,  0.        ,\n",
              "         0.        ,  0.        ],\n",
              "       [ 0.        ,  0.        ,  0.        , ...,  0.        ,\n",
              "         0.        ,  0.        ],\n",
              "       [ 0.        ,  0.        ,  0.        , ...,  0.        ,\n",
              "         0.        ,  0.        ]])"
            ]
          },
          "metadata": {},
          "execution_count": 36
        }
      ]
    },
    {
      "cell_type": "markdown",
      "metadata": {
        "id": "uiArU6WLwghI"
      },
      "source": [
        "ccombinaison des deux embedding\n"
      ]
    },
    {
      "cell_type": "code",
      "metadata": {
        "id": "v7uZ-HJ4ln2_",
        "colab": {
          "base_uri": "https://localhost:8080/"
        },
        "outputId": "56d3dd85-956d-421a-81d9-8ae1c3b9ca72"
      },
      "source": [
        "embedding_matrix2=np.mean((fasttext_arabic_emb, aravec_emb),axis=0)\n",
        "embedding_matrix2.shape"
      ],
      "execution_count": null,
      "outputs": [
        {
          "output_type": "execute_result",
          "data": {
            "text/plain": [
              "(15290, 300)"
            ]
          },
          "metadata": {},
          "execution_count": 37
        }
      ]
    },
    {
      "cell_type": "code",
      "metadata": {
        "id": "dLnt7QKJ8WzH"
      },
      "source": [
        "from keras.preprocessing import sequence\n",
        "\n",
        "# test_sequences = tokenize.texts_to_sequences(corpus_test)\n",
        "X_train_pad = sequence.pad_sequences(X_train, maxlen=maxlen)\n",
        "X_test_pad  = sequence.pad_sequences(X_test, maxlen=maxlen)"
      ],
      "execution_count": null,
      "outputs": []
    },
    {
      "cell_type": "code",
      "metadata": {
        "id": "EVwNl2COnOTt"
      },
      "source": [
        "from keras import backend as K\n",
        "def f1(y_true, y_pred):\n",
        "    \n",
        "    def recall(y_true, y_pred):\n",
        "        \"\"\"Recall metric.\n",
        "\n",
        "        Only computes a batch-wise average of recall.\n",
        "\n",
        "        Computes the recall, a metric for multi-label classification of\n",
        "        how many relevant items are selected.\n",
        "        \"\"\"\n",
        "        true_positives = K.sum(K.round(K.clip(y_true * y_pred, 0, 1)))\n",
        "        possible_positives = K.sum(K.round(K.clip(y_true, 0, 1)))\n",
        "        recall = true_positives / (possible_positives + K.epsilon())\n",
        "        return recall\n",
        "\n",
        "    def precision(y_true, y_pred):\n",
        "        \"\"\"Precision metric.\n",
        "\n",
        "        Only computes a batch-wise average of precision.\n",
        "\n",
        "        Computes the precision, a metric for multi-label classification of\n",
        "        how many selected items are relevant.\n",
        "        \"\"\"\n",
        "        true_positives = K.sum(K.round(K.clip(y_true * y_pred, 0, 1)))\n",
        "        predicted_positives = K.sum(K.round(K.clip(y_pred, 0, 1)))\n",
        "        precision = true_positives / (predicted_positives + K.epsilon())\n",
        "        return precision\n",
        "    precision = precision(y_true, y_pred)\n",
        "    recall = recall(y_true, y_pred)\n",
        "    return 2*((precision*recall)/(precision+recall+K.epsilon()))"
      ],
      "execution_count": null,
      "outputs": []
    },
    {
      "cell_type": "code",
      "metadata": {
        "id": "9QwiUz7VFJPz"
      },
      "source": [
        "callbacks = keras.callbacks.EarlyStopping(monitor='val_f1', mode='max', verbose=1,\n",
        "                                          patience=8,restore_best_weights = True)"
      ],
      "execution_count": null,
      "outputs": []
    },
    {
      "cell_type": "code",
      "metadata": {
        "id": "HkMkKWsJrzeN"
      },
      "source": [
        "from keras.models import Sequential,Model\n",
        "from tensorflow.compat.v1.keras.layers import CuDNNGRU\n",
        "from keras.layers import Embedding,Dense,GRU, Conv1D\n",
        "from keras.layers import Dropout,Bidirectional,GlobalMaxPool1D,GlobalAveragePooling1D\n",
        "from keras.layers import SpatialDropout1D,concatenate,Input\n",
        "# from keras.optimizers import RMSprop\n",
        "from keras.initializers import Constant\n",
        "from sklearn.utils import class_weight\n",
        "from keras.callbacks import ModelCheckpoint\n",
        "import tensorflow as tf\n",
        "#tf.logging.set_verbosity(tf.logging.ERROR)"
      ],
      "execution_count": null,
      "outputs": []
    },
    {
      "cell_type": "code",
      "metadata": {
        "id": "Il9FI8EkTTBh"
      },
      "source": [
        "from sklearn.metrics import classification_report\n",
        "from sklearn.metrics import confusion_matrix, f1_score, precision_score, recall_score\n",
        "import matplotlib.pyplot as plt\n",
        "import seaborn as sns"
      ],
      "execution_count": null,
      "outputs": []
    },
    {
      "cell_type": "code",
      "metadata": {
        "id": "fL-leK_jTorh"
      },
      "source": [
        "class_weights = class_weight.compute_class_weight(class_weight='balanced', classes=np.unique(y_train), y=y_train)\n",
        "class_weights=dict(enumerate(class_weights))"
      ],
      "execution_count": null,
      "outputs": []
    },
    {
      "cell_type": "code",
      "source": [
        "from tensorflow.keras.utils import to_categorical\n",
        "\n",
        "y_train = to_categorical(y_train, 3)\n",
        "y_test  = to_categorical(y_test, 3)"
      ],
      "metadata": {
        "id": "khxVuHQQENNR"
      },
      "execution_count": null,
      "outputs": []
    },
    {
      "cell_type": "markdown",
      "metadata": {
        "id": "StHob8uHVS2A"
      },
      "source": [
        "# CNN Model"
      ]
    },
    {
      "cell_type": "markdown",
      "metadata": {
        "id": "ZwFFlBGFR2tv"
      },
      "source": [
        "### Training a model with aravec and Fasttext embedding"
      ]
    },
    {
      "cell_type": "code",
      "metadata": {
        "id": "EIRQc1aLRhHg"
      },
      "source": [
        "inp=Input((maxlen,))\n",
        "#Embedding Layer \n",
        "x=Embedding(vocab_size + 1,embed_size,embeddings_initializer=Constant(embedding_matrix2),\n",
        "            input_length=maxlen,trainable=True)(inp)\n",
        "x = SpatialDropout1D(0.2)(x)\n",
        "#GRU Bidrirectionnel (si vous voulez activer CNN, mettez en commentaire cette ligne)\n",
        "#x=Bidirectional(GRU(150, return_sequences = True))(x)\n",
        "\n",
        "### Couche CNN \n",
        "x=Conv1D(filters=32, kernel_size=3, padding='valid', activation='relu')(x) \n",
        "\n",
        "avg_pool = GlobalAveragePooling1D()(x)\n",
        "max_pool = GlobalMaxPool1D()(x)\n",
        "conc = concatenate([avg_pool, max_pool])\n",
        "\n",
        " \n",
        "x=Dropout(0.2)(conc)\n",
        "out=Dense(16, activation=\"relu\")(x)\n",
        "out=Dense(8, activation=\"relu\")(out)\n",
        "\n",
        "out=Dense(3, activation=\"softmax\")(out)\n",
        "\n",
        "model=Model(inp,out)\n",
        "\n",
        "mcp_save = ModelCheckpoint('model.mdl_wts.hdf5', save_best_only=True,\n",
        "                           monitor='val_loss', mode='min',patience = 5)\n",
        "\n"
      ],
      "execution_count": null,
      "outputs": []
    },
    {
      "cell_type": "code",
      "metadata": {
        "id": "hCVvlC7ARlLY"
      },
      "source": [
        "model.compile(loss=tf.keras.losses.CategoricalCrossentropy(), optimizer=tf.keras.optimizers.Adam(), metrics=[f1])"
      ],
      "execution_count": null,
      "outputs": []
    },
    {
      "cell_type": "code",
      "metadata": {
        "id": "LBDAzDdwRpeJ",
        "colab": {
          "base_uri": "https://localhost:8080/"
        },
        "outputId": "7a61f189-ea9b-431b-f116-125b0ce74d7b"
      },
      "source": [
        "model.summary()"
      ],
      "execution_count": null,
      "outputs": [
        {
          "output_type": "stream",
          "name": "stdout",
          "text": [
            "Model: \"model\"\n",
            "__________________________________________________________________________________________________\n",
            " Layer (type)                   Output Shape         Param #     Connected to                     \n",
            "==================================================================================================\n",
            " input_1 (InputLayer)           [(None, 46)]         0           []                               \n",
            "                                                                                                  \n",
            " embedding (Embedding)          (None, 46, 300)      4587000     ['input_1[0][0]']                \n",
            "                                                                                                  \n",
            " spatial_dropout1d (SpatialDrop  (None, 46, 300)     0           ['embedding[0][0]']              \n",
            " out1D)                                                                                           \n",
            "                                                                                                  \n",
            " conv1d (Conv1D)                (None, 44, 32)       28832       ['spatial_dropout1d[0][0]']      \n",
            "                                                                                                  \n",
            " global_average_pooling1d (Glob  (None, 32)          0           ['conv1d[0][0]']                 \n",
            " alAveragePooling1D)                                                                              \n",
            "                                                                                                  \n",
            " global_max_pooling1d (GlobalMa  (None, 32)          0           ['conv1d[0][0]']                 \n",
            " xPooling1D)                                                                                      \n",
            "                                                                                                  \n",
            " concatenate (Concatenate)      (None, 64)           0           ['global_average_pooling1d[0][0]'\n",
            "                                                                 , 'global_max_pooling1d[0][0]']  \n",
            "                                                                                                  \n",
            " dropout (Dropout)              (None, 64)           0           ['concatenate[0][0]']            \n",
            "                                                                                                  \n",
            " dense (Dense)                  (None, 16)           1040        ['dropout[0][0]']                \n",
            "                                                                                                  \n",
            " dense_1 (Dense)                (None, 8)            136         ['dense[0][0]']                  \n",
            "                                                                                                  \n",
            " dense_2 (Dense)                (None, 3)            27          ['dense_1[0][0]']                \n",
            "                                                                                                  \n",
            "==================================================================================================\n",
            "Total params: 4,617,035\n",
            "Trainable params: 4,617,035\n",
            "Non-trainable params: 0\n",
            "__________________________________________________________________________________________________\n"
          ]
        }
      ]
    },
    {
      "cell_type": "code",
      "metadata": {
        "colab": {
          "base_uri": "https://localhost:8080/",
          "height": 1000
        },
        "id": "dAjMWY-nmAeL",
        "outputId": "5ecd8457-9ddc-4479-f053-9b17264520ad"
      },
      "source": [
        "tf.keras.utils.plot_model(model, show_shapes=True)"
      ],
      "execution_count": null,
      "outputs": [
        {
          "output_type": "execute_result",
          "data": {
            "image/png": "[encoded data removed]",
            "text/plain": [
              "<IPython.core.display.Image object>"
            ]
          },
          "metadata": {},
          "execution_count": 48
        }
      ]
    },
    {
      "cell_type": "code",
      "metadata": {
        "id": "SFa5d1PhR__j",
        "colab": {
          "base_uri": "https://localhost:8080/"
        },
        "outputId": "49b5d59c-0785-40c2-f53e-61493808968a"
      },
      "source": [
        "model.fit(X_train_pad, y_train, batch_size=128, epochs=30, verbose=1, class_weight=class_weights,\n",
        "          validation_split = 0.2, callbacks=[callbacks])"
      ],
      "execution_count": null,
      "outputs": [
        {
          "output_type": "stream",
          "name": "stdout",
          "text": [
            "Epoch 1/30\n",
            "52/52 [==============================] - 15s 27ms/step - loss: 0.9934 - f1: 0.2885 - val_loss: 0.8626 - val_f1: 0.4603\n",
            "Epoch 2/30\n",
            "52/52 [==============================] - 1s 16ms/step - loss: 0.8509 - f1: 0.4975 - val_loss: 0.7912 - val_f1: 0.5561\n",
            "Epoch 3/30\n",
            "52/52 [==============================] - 1s 16ms/step - loss: 0.7561 - f1: 0.5847 - val_loss: 0.7417 - val_f1: 0.6164\n",
            "Epoch 4/30\n",
            "52/52 [==============================] - 1s 16ms/step - loss: 0.6619 - f1: 0.7008 - val_loss: 0.6896 - val_f1: 0.6926\n",
            "Epoch 5/30\n",
            "52/52 [==============================] - 1s 16ms/step - loss: 0.5344 - f1: 0.7978 - val_loss: 0.6625 - val_f1: 0.7166\n",
            "Epoch 6/30\n",
            "52/52 [==============================] - 1s 16ms/step - loss: 0.3774 - f1: 0.8633 - val_loss: 0.6212 - val_f1: 0.7590\n",
            "Epoch 7/30\n",
            "52/52 [==============================] - 1s 15ms/step - loss: 0.2554 - f1: 0.9156 - val_loss: 0.6703 - val_f1: 0.7467\n",
            "Epoch 8/30\n",
            "52/52 [==============================] - 1s 16ms/step - loss: 0.1599 - f1: 0.9510 - val_loss: 0.7493 - val_f1: 0.7381\n",
            "Epoch 9/30\n",
            "52/52 [==============================] - 1s 16ms/step - loss: 0.1111 - f1: 0.9631 - val_loss: 0.8067 - val_f1: 0.7458\n",
            "Epoch 10/30\n",
            "52/52 [==============================] - 1s 15ms/step - loss: 0.0774 - f1: 0.9767 - val_loss: 0.9006 - val_f1: 0.7248\n",
            "Epoch 11/30\n",
            "52/52 [==============================] - 1s 15ms/step - loss: 0.0622 - f1: 0.9793 - val_loss: 0.9549 - val_f1: 0.7259\n",
            "Epoch 12/30\n",
            "52/52 [==============================] - 1s 15ms/step - loss: 0.0539 - f1: 0.9836 - val_loss: 1.0022 - val_f1: 0.7293\n",
            "Epoch 13/30\n",
            "52/52 [==============================] - 1s 16ms/step - loss: 0.0438 - f1: 0.9859 - val_loss: 1.0414 - val_f1: 0.7352\n",
            "Epoch 14/30\n",
            "49/52 [===========================>..] - ETA: 0s - loss: 0.0366 - f1: 0.9879Restoring model weights from the end of the best epoch: 6.\n",
            "52/52 [==============================] - 1s 16ms/step - loss: 0.0361 - f1: 0.9879 - val_loss: 1.1202 - val_f1: 0.7270\n",
            "Epoch 00014: early stopping\n"
          ]
        },
        {
          "output_type": "execute_result",
          "data": {
            "text/plain": [
              "<keras.callbacks.History at 0x7fe18b317c90>"
            ]
          },
          "metadata": {},
          "execution_count": 49
        }
      ]
    },
    {
      "cell_type": "code",
      "metadata": {
        "id": "1BD-ntr8rznW",
        "colab": {
          "base_uri": "https://localhost:8080/"
        },
        "outputId": "53d3a86c-3267-4a0c-d699-4f9827ed46b1"
      },
      "source": [
        "print(model.evaluate(X_test_pad, y_test))"
      ],
      "execution_count": null,
      "outputs": [
        {
          "output_type": "stream",
          "name": "stdout",
          "text": [
            "29/29 [==============================] - 0s 5ms/step - loss: 0.5777 - f1: 0.7652\n",
            "[0.5776971578598022, 0.7652232050895691]\n"
          ]
        }
      ]
    },
    {
      "cell_type": "code",
      "metadata": {
        "id": "u-fKEe-4rzp4",
        "colab": {
          "base_uri": "https://localhost:8080/"
        },
        "outputId": "50d3f168-deda-4ca0-d532-6e7301996cca"
      },
      "source": [
        "y_pred = model.predict(X_test_pad, batch_size=128, verbose=1)\n",
        "y_pred_bool = np.argmax(y_pred, axis=1)\n",
        "y_pred = (y_pred > 0.5)\n",
        "\n",
        "print(classification_report(y_test, y_pred, target_names=(['Hate','Normal','Abusive'])))\n"
      ],
      "execution_count": null,
      "outputs": [
        {
          "output_type": "stream",
          "name": "stdout",
          "text": [
            "8/8 [==============================] - 0s 3ms/step\n",
            "              precision    recall  f1-score   support\n",
            "\n",
            "        Hate       0.71      0.72      0.71       176\n",
            "      Normal       0.79      0.81      0.80       445\n",
            "     Abusive       0.83      0.69      0.75       299\n",
            "\n",
            "   micro avg       0.78      0.75      0.77       920\n",
            "   macro avg       0.77      0.74      0.75       920\n",
            "weighted avg       0.79      0.75      0.77       920\n",
            " samples avg       0.75      0.75      0.75       920\n",
            "\n"
          ]
        },
        {
          "output_type": "stream",
          "name": "stderr",
          "text": [
            "/usr/local/lib/python3.7/dist-packages/sklearn/metrics/_classification.py:1308: UndefinedMetricWarning: Precision and F-score are ill-defined and being set to 0.0 in samples with no predicted labels. Use `zero_division` parameter to control this behavior.\n",
            "  _warn_prf(average, modifier, msg_start, len(result))\n"
          ]
        }
      ]
    },
    {
      "cell_type": "code",
      "metadata": {
        "id": "4LtnRxVRmNcl",
        "colab": {
          "base_uri": "https://localhost:8080/"
        },
        "outputId": "517f7d39-9743-4aaf-965f-3ca6ed048e0f"
      },
      "source": [
        "f1_score(y_test, y_pred, average=\"weighted\")"
      ],
      "execution_count": null,
      "outputs": [
        {
          "output_type": "execute_result",
          "data": {
            "text/plain": [
              "0.7666243467898888"
            ]
          },
          "metadata": {},
          "execution_count": 52
        }
      ]
    },
    {
      "cell_type": "code",
      "metadata": {
        "id": "72QjwwRRrzsu"
      },
      "source": [
        "from tensorflow import keras\n",
        "keras.backend.clear_session()"
      ],
      "execution_count": null,
      "outputs": []
    },
    {
      "cell_type": "code",
      "metadata": {
        "id": "4o9xT3kjyc7W"
      },
      "source": [
        "from sklearn import metrics\n",
        "metric = metrics.accuracy_score(y_test, y_pred), metrics.f1_score(y_test, y_pred, average='weighted'), metrics.recall_score(y_test, y_pred, average='weighted'), metrics.precision_score(y_test, y_pred, average='weighted')"
      ],
      "execution_count": null,
      "outputs": []
    },
    {
      "cell_type": "code",
      "metadata": {
        "id": "czSMQdvTQZs_",
        "colab": {
          "base_uri": "https://localhost:8080/",
          "height": 226
        },
        "outputId": "3ed2c1eb-f353-4e0c-fb37-3bc01e13b349"
      },
      "source": [
        "fig = plt.figure()\n",
        "fig.set_size_inches(8,2)\n",
        "ax = fig.add_axes([0,0,1,1])\n",
        "rect1 = ax.bar(0.00,round(metric[0], 2), color = 'b', width = 0.05)\n",
        "rect2 = ax.bar(0.20, round(metric[1], 2), color = 'g', width = 0.05)\n",
        "rect3 = ax.bar(0.40, round(metric[2], 2) , color = 'r', width = 0.05)\n",
        "rect4 = ax.bar(0.60, round(metric[3], 2) , color = (1, 0, 1), width = 0.05)\n",
        "\n",
        "ax.set_ylabel('Scores')\n",
        "ax.set_title('metrics')\n",
        "def autolabel(rects):\n",
        "  \"\"\"Attach a text label above each bar in *rects*, displaying its height.\"\"\"\n",
        "  for rect in rects:\n",
        "      height = rect.get_height()\n",
        "      ax.annotate('{}'.format(height),\n",
        "                  xy=(rect.get_x() + rect.get_width() / 2, height),\n",
        "                  xytext=(0, 3),  # 3 points vertical offset\n",
        "                  textcoords=\"offset points\",\n",
        "                  ha='center', va='bottom')\n",
        "\n",
        "autolabel(rect1)\n",
        "autolabel(rect2)\n",
        "autolabel(rect3)\n",
        "autolabel(rect4)\n",
        "ax.legend(labels=['accuracy', 'f1_score', 'recall', 'precision'],loc='best')\n",
        "plt.ylim(0, 1)"
      ],
      "execution_count": null,
      "outputs": [
        {
          "output_type": "execute_result",
          "data": {
            "text/plain": [
              "(0.0, 1.0)"
            ]
          },
          "metadata": {},
          "execution_count": 55
        },
        {
          "output_type": "display_data",
          "data": {
            "image/png": "[encoded data removed]",
            "text/plain": [
              "<Figure size 576x144 with 1 Axes>"
            ]
          },
          "metadata": {
            "needs_background": "light"
          }
        }
      ]
    },
    {
      "cell_type": "markdown",
      "metadata": {
        "id": "Bpb35nPlTI1g"
      },
      "source": [
        "### Training on Fasttext Embedding Only"
      ]
    },
    {
      "cell_type": "code",
      "metadata": {
        "id": "ext78JdGVwvv"
      },
      "source": [
        "keras.backend.clear_session()"
      ],
      "execution_count": null,
      "outputs": []
    },
    {
      "cell_type": "code",
      "metadata": {
        "id": "dleDGpLYU_3V"
      },
      "source": [
        "inp=Input(shape=(maxlen, ))\n",
        "x=Embedding(vocab_size + 1,embed_size,embeddings_initializer=Constant(fasttext_arabic_emb),#Set Fasttext Embedding\n",
        "            input_length=maxlen,trainable=True)(inp)\n",
        "x = SpatialDropout1D(0.2)(x)\n",
        "# x=Bidirectional(GRU(150, return_sequences = True))(x)\n",
        "x=Conv1D(filters=32, kernel_size=3, padding='valid', activation='relu')(x) \n",
        "avg_pool = GlobalAveragePooling1D()(x)\n",
        "max_pool = GlobalMaxPool1D()(x)\n",
        "conc = concatenate([avg_pool, max_pool])\n",
        "\n",
        "\n",
        "x=Dropout(0.1)(conc)\n",
        "out=Dense(64, activation=\"relu\")(x)\n",
        "out=Dense(32, activation=\"relu\")(x)\n",
        "\n",
        "out=Dense(3, activation=\"softmax\")(x)\n",
        "\n",
        "model_ft=Model(inp,out)\n",
        "\n",
        "mcp_save = ModelCheckpoint('model_fasttext.mdl_wts.hdf5', save_best_only=True,\n",
        "                           monitor='val_loss', mode='min',patience = 5)\n"
      ],
      "execution_count": null,
      "outputs": []
    },
    {
      "cell_type": "code",
      "metadata": {
        "id": "y8TojWn4Tijn"
      },
      "source": [
        "model_ft.compile(loss=tf.keras.losses.CategoricalCrossentropy(), optimizer=tf.keras.optimizers.Adam(), metrics=[f1])"
      ],
      "execution_count": null,
      "outputs": []
    },
    {
      "cell_type": "code",
      "metadata": {
        "id": "NhdxZk9cTm3X",
        "colab": {
          "base_uri": "https://localhost:8080/"
        },
        "outputId": "7c11598d-7736-496a-e98c-801c3276f7d9"
      },
      "source": [
        "model_ft.summary()"
      ],
      "execution_count": null,
      "outputs": [
        {
          "output_type": "stream",
          "name": "stdout",
          "text": [
            "Model: \"model\"\n",
            "__________________________________________________________________________________________________\n",
            " Layer (type)                   Output Shape         Param #     Connected to                     \n",
            "==================================================================================================\n",
            " input_1 (InputLayer)           [(None, 46)]         0           []                               \n",
            "                                                                                                  \n",
            " embedding (Embedding)          (None, 46, 300)      4587000     ['input_1[0][0]']                \n",
            "                                                                                                  \n",
            " spatial_dropout1d (SpatialDrop  (None, 46, 300)     0           ['embedding[0][0]']              \n",
            " out1D)                                                                                           \n",
            "                                                                                                  \n",
            " conv1d (Conv1D)                (None, 44, 32)       28832       ['spatial_dropout1d[0][0]']      \n",
            "                                                                                                  \n",
            " global_average_pooling1d (Glob  (None, 32)          0           ['conv1d[0][0]']                 \n",
            " alAveragePooling1D)                                                                              \n",
            "                                                                                                  \n",
            " global_max_pooling1d (GlobalMa  (None, 32)          0           ['conv1d[0][0]']                 \n",
            " xPooling1D)                                                                                      \n",
            "                                                                                                  \n",
            " concatenate (Concatenate)      (None, 64)           0           ['global_average_pooling1d[0][0]'\n",
            "                                                                 , 'global_max_pooling1d[0][0]']  \n",
            "                                                                                                  \n",
            " dropout (Dropout)              (None, 64)           0           ['concatenate[0][0]']            \n",
            "                                                                                                  \n",
            " dense_2 (Dense)                (None, 3)            195         ['dropout[0][0]']                \n",
            "                                                                                                  \n",
            "==================================================================================================\n",
            "Total params: 4,616,027\n",
            "Trainable params: 4,616,027\n",
            "Non-trainable params: 0\n",
            "__________________________________________________________________________________________________\n"
          ]
        }
      ]
    },
    {
      "cell_type": "code",
      "metadata": {
        "id": "Et2g6vcQT29F",
        "colab": {
          "base_uri": "https://localhost:8080/"
        },
        "outputId": "ea357e66-ebd3-4bce-85a4-369e2b8af37c"
      },
      "source": [
        "model_ft.fit(X_train_pad, \n",
        "             y_train, \n",
        "             batch_size=128,\n",
        "             epochs=20,\n",
        "             verbose=1,\n",
        "             class_weight=class_weights,\n",
        "             validation_split=0.2,\n",
        "             callbacks=[callbacks])"
      ],
      "execution_count": null,
      "outputs": [
        {
          "output_type": "stream",
          "name": "stdout",
          "text": [
            "Epoch 1/20\n",
            "52/52 [==============================] - 2s 20ms/step - loss: 0.9487 - f1: 0.2828 - val_loss: 0.8038 - val_f1: 0.5395\n",
            "Epoch 2/20\n",
            "52/52 [==============================] - 1s 16ms/step - loss: 0.7047 - f1: 0.5976 - val_loss: 0.6940 - val_f1: 0.6565\n",
            "Epoch 3/20\n",
            "52/52 [==============================] - 1s 16ms/step - loss: 0.5063 - f1: 0.8041 - val_loss: 0.6205 - val_f1: 0.7302\n",
            "Epoch 4/20\n",
            "52/52 [==============================] - 1s 15ms/step - loss: 0.3192 - f1: 0.8979 - val_loss: 0.6143 - val_f1: 0.7458\n",
            "Epoch 5/20\n",
            "52/52 [==============================] - 1s 15ms/step - loss: 0.1825 - f1: 0.9483 - val_loss: 0.6440 - val_f1: 0.7378\n",
            "Epoch 6/20\n",
            "52/52 [==============================] - 1s 15ms/step - loss: 0.1074 - f1: 0.9731 - val_loss: 0.6799 - val_f1: 0.7358\n",
            "Epoch 7/20\n",
            "52/52 [==============================] - 1s 15ms/step - loss: 0.0690 - f1: 0.9833 - val_loss: 0.7296 - val_f1: 0.7290\n",
            "Epoch 8/20\n",
            "52/52 [==============================] - 1s 15ms/step - loss: 0.0467 - f1: 0.9885 - val_loss: 0.7709 - val_f1: 0.7289\n",
            "Epoch 9/20\n",
            "52/52 [==============================] - 1s 16ms/step - loss: 0.0351 - f1: 0.9919 - val_loss: 0.8263 - val_f1: 0.7194\n",
            "Epoch 10/20\n",
            "52/52 [==============================] - 1s 15ms/step - loss: 0.0255 - f1: 0.9940 - val_loss: 0.8620 - val_f1: 0.7308\n",
            "Epoch 11/20\n",
            "52/52 [==============================] - 1s 16ms/step - loss: 0.0219 - f1: 0.9947 - val_loss: 0.9035 - val_f1: 0.7180\n",
            "Epoch 12/20\n",
            "49/52 [===========================>..] - ETA: 0s - loss: 0.0163 - f1: 0.9959Restoring model weights from the end of the best epoch: 4.\n",
            "52/52 [==============================] - 1s 15ms/step - loss: 0.0172 - f1: 0.9955 - val_loss: 0.9165 - val_f1: 0.7271\n",
            "Epoch 00012: early stopping\n"
          ]
        },
        {
          "output_type": "execute_result",
          "data": {
            "text/plain": [
              "<keras.callbacks.History at 0x7fe1895c8f50>"
            ]
          },
          "metadata": {},
          "execution_count": 60
        }
      ]
    },
    {
      "cell_type": "code",
      "metadata": {
        "id": "wCLLX3EAT4NO",
        "colab": {
          "base_uri": "https://localhost:8080/"
        },
        "outputId": "0b03a0ce-e1ae-4214-9ebd-566f1fc86c3d"
      },
      "source": [
        "print(model_ft.evaluate(X_test_pad, y_test))"
      ],
      "execution_count": null,
      "outputs": [
        {
          "output_type": "stream",
          "name": "stdout",
          "text": [
            "29/29 [==============================] - 0s 4ms/step - loss: 0.5642 - f1: 0.7534\n",
            "[0.5642499923706055, 0.7533941864967346]\n"
          ]
        }
      ]
    },
    {
      "cell_type": "code",
      "metadata": {
        "id": "KE9mBrlcUiTH",
        "colab": {
          "base_uri": "https://localhost:8080/"
        },
        "outputId": "7001faaa-d2b7-4240-c607-569e5955f2ae"
      },
      "source": [
        "y_pred_ft = model_ft.predict(X_test_pad, batch_size=128, verbose=1)\n",
        "y_pred_bool_ft = np.argmax(y_pred, axis=1)\n",
        "y_pred_ft = (y_pred_ft > 0.5)\n",
        "\n",
        "print(classification_report(y_test, y_pred_ft, target_names=(['Hate','Normal','Abusive'])))\n"
      ],
      "execution_count": null,
      "outputs": [
        {
          "output_type": "stream",
          "name": "stdout",
          "text": [
            "8/8 [==============================] - 0s 3ms/step\n",
            "              precision    recall  f1-score   support\n",
            "\n",
            "        Hate       0.72      0.71      0.72       176\n",
            "      Normal       0.83      0.71      0.77       445\n",
            "     Abusive       0.76      0.76      0.76       299\n",
            "\n",
            "   micro avg       0.78      0.73      0.75       920\n",
            "   macro avg       0.77      0.73      0.75       920\n",
            "weighted avg       0.79      0.73      0.75       920\n",
            " samples avg       0.73      0.73      0.73       920\n",
            "\n"
          ]
        },
        {
          "output_type": "stream",
          "name": "stderr",
          "text": [
            "/usr/local/lib/python3.7/dist-packages/sklearn/metrics/_classification.py:1308: UndefinedMetricWarning: Precision and F-score are ill-defined and being set to 0.0 in samples with no predicted labels. Use `zero_division` parameter to control this behavior.\n",
            "  _warn_prf(average, modifier, msg_start, len(result))\n"
          ]
        }
      ]
    },
    {
      "cell_type": "code",
      "metadata": {
        "id": "sXj5owf2Ut0W"
      },
      "source": [
        "from sklearn import metrics\n",
        "metric_ft = metrics.accuracy_score(y_test, y_pred_ft), metrics.f1_score(y_test, y_pred_ft, average='weighted'), metrics.recall_score(y_test, y_pred_ft, average='weighted'), metrics.precision_score(y_test, y_pred_ft, average='weighted')"
      ],
      "execution_count": null,
      "outputs": []
    },
    {
      "cell_type": "code",
      "metadata": {
        "id": "N49Fe5YsU7NE",
        "colab": {
          "base_uri": "https://localhost:8080/",
          "height": 226
        },
        "outputId": "c8817c7b-b325-4a41-9562-8b8c39cd2dfe"
      },
      "source": [
        "fig = plt.figure()\n",
        "fig.set_size_inches(8,2)\n",
        "ax = fig.add_axes([0,0,1,1])\n",
        "rect1 = ax.bar(0.00,round(metric_ft[0], 2), color = 'b', width = 0.05)\n",
        "rect2 = ax.bar(0.20, round(metric_ft[1], 2), color = 'g', width = 0.05)\n",
        "rect3 = ax.bar(0.40, round(metric_ft[2], 2) , color = 'r', width = 0.05)\n",
        "rect4 = ax.bar(0.60, round(metric_ft[3], 2) , color = (1, 0, 1), width = 0.05)\n",
        "\n",
        "ax.set_ylabel('Scores')\n",
        "ax.set_title('metrics')\n",
        "\n",
        "\n",
        "autolabel(rect1)\n",
        "autolabel(rect2)\n",
        "autolabel(rect3)\n",
        "autolabel(rect4)\n",
        "ax.legend(labels=['accuracy', 'f1_score', 'recall', 'precision'],loc='best')\n",
        "plt.ylim(0, 1)"
      ],
      "execution_count": null,
      "outputs": [
        {
          "output_type": "execute_result",
          "data": {
            "text/plain": [
              "(0.0, 1.0)"
            ]
          },
          "metadata": {},
          "execution_count": 64
        },
        {
          "output_type": "display_data",
          "data": {
            "image/png": "[encoded data removed]",
            "text/plain": [
              "<Figure size 576x144 with 1 Axes>"
            ]
          },
          "metadata": {
            "needs_background": "light"
          }
        }
      ]
    },
    {
      "cell_type": "markdown",
      "metadata": {
        "id": "HiwoyTsPL1PG"
      },
      "source": [
        "### Training on Aravec Embedding Only"
      ]
    },
    {
      "cell_type": "code",
      "metadata": {
        "id": "vTBADyXfL1PN"
      },
      "source": [
        "keras.backend.clear_session()"
      ],
      "execution_count": null,
      "outputs": []
    },
    {
      "cell_type": "code",
      "metadata": {
        "id": "lglZwmCfL1PO"
      },
      "source": [
        "inp=Input(shape=(maxlen, ))\n",
        "x=Embedding(vocab_size + 1,embed_size,embeddings_initializer=Constant(aravec_emb),#Set Fasttext Embedding\n",
        "            input_length=maxlen,trainable=True)(inp)\n",
        "x = SpatialDropout1D(0.2)(x)\n",
        "# x=Bidirectional(GRU(150, return_sequences = True))(x)\n",
        "x=Conv1D(filters=32, kernel_size=3, padding='valid', activation='relu')(x) \n",
        "avg_pool = GlobalAveragePooling1D()(x)\n",
        "max_pool = GlobalMaxPool1D()(x)\n",
        "conc = concatenate([avg_pool, max_pool])\n",
        "\n",
        "\n",
        "x=Dropout(0.1)(conc)\n",
        "out=Dense(64, activation=\"relu\")(x)\n",
        "out=Dense(32, activation=\"relu\")(x)\n",
        "\n",
        "out=Dense(3, activation=\"softmax\")(x)\n",
        "\n",
        "model_arav=Model(inp,out)\n",
        "\n",
        "mcp_save = ModelCheckpoint('model_aravec.mdl_wts.hdf5', save_best_only=True,\n",
        "                           monitor='val_loss', mode='min',patience = 5)\n"
      ],
      "execution_count": null,
      "outputs": []
    },
    {
      "cell_type": "code",
      "metadata": {
        "id": "FvKap_oBL1PO"
      },
      "source": [
        "model_arav.compile(loss=tf.keras.losses.CategoricalCrossentropy(), optimizer=tf.keras.optimizers.Adam(), metrics=[f1])"
      ],
      "execution_count": null,
      "outputs": []
    },
    {
      "cell_type": "code",
      "metadata": {
        "colab": {
          "base_uri": "https://localhost:8080/"
        },
        "outputId": "6ce0c275-feca-43c9-8ac2-1c4cf69a2bbe",
        "id": "5lo1wLfQL1PO"
      },
      "source": [
        "model_arav.summary()"
      ],
      "execution_count": null,
      "outputs": [
        {
          "output_type": "stream",
          "name": "stdout",
          "text": [
            "Model: \"model\"\n",
            "__________________________________________________________________________________________________\n",
            " Layer (type)                   Output Shape         Param #     Connected to                     \n",
            "==================================================================================================\n",
            " input_1 (InputLayer)           [(None, 46)]         0           []                               \n",
            "                                                                                                  \n",
            " embedding (Embedding)          (None, 46, 300)      4587000     ['input_1[0][0]']                \n",
            "                                                                                                  \n",
            " spatial_dropout1d (SpatialDrop  (None, 46, 300)     0           ['embedding[0][0]']              \n",
            " out1D)                                                                                           \n",
            "                                                                                                  \n",
            " conv1d (Conv1D)                (None, 44, 32)       28832       ['spatial_dropout1d[0][0]']      \n",
            "                                                                                                  \n",
            " global_average_pooling1d (Glob  (None, 32)          0           ['conv1d[0][0]']                 \n",
            " alAveragePooling1D)                                                                              \n",
            "                                                                                                  \n",
            " global_max_pooling1d (GlobalMa  (None, 32)          0           ['conv1d[0][0]']                 \n",
            " xPooling1D)                                                                                      \n",
            "                                                                                                  \n",
            " concatenate (Concatenate)      (None, 64)           0           ['global_average_pooling1d[0][0]'\n",
            "                                                                 , 'global_max_pooling1d[0][0]']  \n",
            "                                                                                                  \n",
            " dropout (Dropout)              (None, 64)           0           ['concatenate[0][0]']            \n",
            "                                                                                                  \n",
            " dense_2 (Dense)                (None, 3)            195         ['dropout[0][0]']                \n",
            "                                                                                                  \n",
            "==================================================================================================\n",
            "Total params: 4,616,027\n",
            "Trainable params: 4,616,027\n",
            "Non-trainable params: 0\n",
            "__________________________________________________________________________________________________\n"
          ]
        }
      ]
    },
    {
      "cell_type": "code",
      "metadata": {
        "colab": {
          "base_uri": "https://localhost:8080/"
        },
        "outputId": "64a89c92-0514-4a44-b064-2c3a6bf2badf",
        "id": "2OEErZqOL1PO"
      },
      "source": [
        "model_arav.fit(X_train_pad, \n",
        "             y_train, \n",
        "             batch_size=128,\n",
        "             epochs=20,\n",
        "             verbose=1,\n",
        "             class_weight=class_weights,\n",
        "             validation_split=0.2,\n",
        "             callbacks=[callbacks])"
      ],
      "execution_count": null,
      "outputs": [
        {
          "output_type": "stream",
          "name": "stdout",
          "text": [
            "Epoch 1/20\n",
            "52/52 [==============================] - 2s 21ms/step - loss: 0.9586 - f1: 0.4786 - val_loss: 0.7955 - val_f1: 0.5630\n",
            "Epoch 2/20\n",
            "52/52 [==============================] - 1s 15ms/step - loss: 0.7928 - f1: 0.5544 - val_loss: 0.8105 - val_f1: 0.5543\n",
            "Epoch 3/20\n",
            "52/52 [==============================] - 1s 15ms/step - loss: 0.7239 - f1: 0.5924 - val_loss: 0.7609 - val_f1: 0.5844\n",
            "Epoch 4/20\n",
            "52/52 [==============================] - 1s 15ms/step - loss: 0.6632 - f1: 0.6583 - val_loss: 0.7274 - val_f1: 0.6309\n",
            "Epoch 5/20\n",
            "52/52 [==============================] - 1s 16ms/step - loss: 0.5823 - f1: 0.7343 - val_loss: 0.6957 - val_f1: 0.6621\n",
            "Epoch 6/20\n",
            "52/52 [==============================] - 1s 15ms/step - loss: 0.4853 - f1: 0.8171 - val_loss: 0.6481 - val_f1: 0.7132\n",
            "Epoch 7/20\n",
            "52/52 [==============================] - 1s 15ms/step - loss: 0.3895 - f1: 0.8714 - val_loss: 0.6400 - val_f1: 0.7251\n",
            "Epoch 8/20\n",
            "52/52 [==============================] - 1s 15ms/step - loss: 0.3003 - f1: 0.9051 - val_loss: 0.6185 - val_f1: 0.7423\n",
            "Epoch 9/20\n",
            "52/52 [==============================] - 1s 16ms/step - loss: 0.2228 - f1: 0.9362 - val_loss: 0.6294 - val_f1: 0.7374\n",
            "Epoch 10/20\n",
            "52/52 [==============================] - 1s 15ms/step - loss: 0.1772 - f1: 0.9489 - val_loss: 0.6374 - val_f1: 0.7357\n",
            "Epoch 11/20\n",
            "52/52 [==============================] - 1s 15ms/step - loss: 0.1384 - f1: 0.9631 - val_loss: 0.6443 - val_f1: 0.7380\n",
            "Epoch 12/20\n",
            "52/52 [==============================] - 1s 15ms/step - loss: 0.1075 - f1: 0.9724 - val_loss: 0.6618 - val_f1: 0.7432\n",
            "Epoch 13/20\n",
            "52/52 [==============================] - 1s 15ms/step - loss: 0.0900 - f1: 0.9758 - val_loss: 0.6832 - val_f1: 0.7426\n",
            "Epoch 14/20\n",
            "52/52 [==============================] - 1s 15ms/step - loss: 0.0749 - f1: 0.9785 - val_loss: 0.7060 - val_f1: 0.7447\n",
            "Epoch 15/20\n",
            "52/52 [==============================] - 1s 15ms/step - loss: 0.0663 - f1: 0.9833 - val_loss: 0.7562 - val_f1: 0.7307\n",
            "Epoch 16/20\n",
            "52/52 [==============================] - 1s 15ms/step - loss: 0.0572 - f1: 0.9843 - val_loss: 0.7672 - val_f1: 0.7288\n",
            "Epoch 17/20\n",
            "52/52 [==============================] - 1s 15ms/step - loss: 0.0485 - f1: 0.9859 - val_loss: 0.7894 - val_f1: 0.7356\n",
            "Epoch 18/20\n",
            "52/52 [==============================] - 1s 15ms/step - loss: 0.0460 - f1: 0.9864 - val_loss: 0.8047 - val_f1: 0.7367\n",
            "Epoch 19/20\n",
            "52/52 [==============================] - 1s 15ms/step - loss: 0.0407 - f1: 0.9878 - val_loss: 0.8340 - val_f1: 0.7319\n",
            "Epoch 20/20\n",
            "52/52 [==============================] - 1s 15ms/step - loss: 0.0332 - f1: 0.9909 - val_loss: 0.8448 - val_f1: 0.7308\n"
          ]
        },
        {
          "output_type": "execute_result",
          "data": {
            "text/plain": [
              "<keras.callbacks.History at 0x7fe1881cf310>"
            ]
          },
          "metadata": {},
          "execution_count": 69
        }
      ]
    },
    {
      "cell_type": "code",
      "metadata": {
        "colab": {
          "base_uri": "https://localhost:8080/"
        },
        "outputId": "f0456893-d751-47dc-fb75-a5d37a09435f",
        "id": "wbfQt6KkL1PO"
      },
      "source": [
        "print(model_arav.evaluate(X_test_pad, y_test))"
      ],
      "execution_count": null,
      "outputs": [
        {
          "output_type": "stream",
          "name": "stdout",
          "text": [
            "29/29 [==============================] - 0s 4ms/step - loss: 0.8619 - f1: 0.7381\n",
            "[0.8618614673614502, 0.7380764484405518]\n"
          ]
        }
      ]
    },
    {
      "cell_type": "code",
      "metadata": {
        "colab": {
          "base_uri": "https://localhost:8080/"
        },
        "outputId": "1da443d1-6f1f-45ac-d31f-d66b87c2e937",
        "id": "010SEUGvL1PO"
      },
      "source": [
        "y_pred_arav = model_arav.predict(X_test_pad, batch_size=128, verbose=1)\n",
        "y_pred_bool_ft = np.argmax(y_pred, axis=1)\n",
        "y_pred_arav = (y_pred_arav > 0.5)\n",
        "\n",
        "print(classification_report(y_test, y_pred_arav, target_names=(['Hate','Normal','Abusive'])))\n"
      ],
      "execution_count": null,
      "outputs": [
        {
          "output_type": "stream",
          "name": "stdout",
          "text": [
            "8/8 [==============================] - 0s 3ms/step\n",
            "              precision    recall  f1-score   support\n",
            "\n",
            "        Hate       0.68      0.69      0.68       176\n",
            "      Normal       0.76      0.79      0.78       445\n",
            "     Abusive       0.78      0.66      0.71       299\n",
            "\n",
            "   micro avg       0.75      0.73      0.74       920\n",
            "   macro avg       0.74      0.71      0.72       920\n",
            "weighted avg       0.75      0.73      0.74       920\n",
            " samples avg       0.73      0.73      0.73       920\n",
            "\n"
          ]
        },
        {
          "output_type": "stream",
          "name": "stderr",
          "text": [
            "/usr/local/lib/python3.7/dist-packages/sklearn/metrics/_classification.py:1308: UndefinedMetricWarning: Precision and F-score are ill-defined and being set to 0.0 in samples with no predicted labels. Use `zero_division` parameter to control this behavior.\n",
            "  _warn_prf(average, modifier, msg_start, len(result))\n"
          ]
        }
      ]
    },
    {
      "cell_type": "code",
      "metadata": {
        "id": "2684IryML1PO"
      },
      "source": [
        "from sklearn import metrics\n",
        "metric_arav = metrics.accuracy_score(y_test, y_pred_arav), metrics.f1_score(y_test, y_pred_arav, average='weighted'), metrics.recall_score(y_test, y_pred_arav, average='weighted'), metrics.precision_score(y_test, y_pred_arav, average='weighted')"
      ],
      "execution_count": null,
      "outputs": []
    },
    {
      "cell_type": "code",
      "metadata": {
        "colab": {
          "base_uri": "https://localhost:8080/"
        },
        "outputId": "82b52001-ed83-4aaa-8d08-f23fbf20cf04",
        "id": "a969R2UNL1PO"
      },
      "source": [
        "fig = plt.figure()\n",
        "fig.set_size_inches(8,2)\n",
        "ax = fig.add_axes([0,0,1,1])\n",
        "rect1 = ax.bar(0.00,round(metric_arav[0], 2), color = 'b', width = 0.05)\n",
        "rect2 = ax.bar(0.20, round(metric_arav[1], 2), color = 'g', width = 0.05)\n",
        "rect3 = ax.bar(0.40, round(metric_arav[2], 2) , color = 'r', width = 0.05)\n",
        "rect4 = ax.bar(0.60, round(metric_arav[3], 2) , color = (1, 0, 1), width = 0.05)\n",
        "\n",
        "ax.set_ylabel('Scores')\n",
        "ax.set_title('metrics')\n",
        "\n",
        "\n",
        "autolabel(rect1)\n",
        "autolabel(rect2)\n",
        "autolabel(rect3)\n",
        "autolabel(rect4)\n",
        "ax.legend(labels=['accuracy', 'f1_score', 'recall', 'precision'],loc='best')\n",
        "plt.ylim(0, 1)"
      ],
      "execution_count": null,
      "outputs": [
        {
          "output_type": "execute_result",
          "data": {
            "text/plain": [
              "(0.0, 1.0)"
            ]
          },
          "metadata": {},
          "execution_count": 73
        },
        {
          "output_type": "display_data",
          "data": {
            "image/png": "[encoded data removed]",
            "text/plain": [
              "<Figure size 576x144 with 1 Axes>"
            ]
          },
          "metadata": {
            "needs_background": "light"
          }
        }
      ]
    },
    {
      "cell_type": "markdown",
      "metadata": {
        "id": "l6ud_gVNWd4a"
      },
      "source": [
        "### Comparing the three results"
      ]
    },
    {
      "cell_type": "code",
      "metadata": {
        "id": "UAPfKBxEYLV5"
      },
      "source": [
        "Data = [('Fasttext',) + metric_ft  ,\n",
        "        ('AraVec',)+ metric_arav ,\n",
        "         ('Fasttext + AraVec',)+ metric ]"
      ],
      "execution_count": null,
      "outputs": []
    },
    {
      "cell_type": "code",
      "metadata": {
        "id": "d6UM1nPKWkH6"
      },
      "source": [
        "Results = pd.DataFrame(data =  Data , columns=['Embedding','Accuracy','F1_score','Recall','Precision'])"
      ],
      "execution_count": null,
      "outputs": []
    },
    {
      "cell_type": "code",
      "metadata": {
        "id": "lDLH9XzeXAUp",
        "colab": {
          "base_uri": "https://localhost:8080/",
          "height": 143
        },
        "outputId": "cdcc6445-4e6f-409f-c33b-12af91a1154b"
      },
      "source": [
        "Results"
      ],
      "execution_count": null,
      "outputs": [
        {
          "output_type": "execute_result",
          "data": {
            "text/html": [
              "\n",
              "  <div id=\"df-829ed360-f906-4476-94de-e156a59057bc\">\n",
              "    <div class=\"colab-df-container\">\n",
              "      <div>\n",
              "<style scoped>\n",
              "    .dataframe tbody tr th:only-of-type {\n",
              "        vertical-align: middle;\n",
              "    }\n",
              "\n",
              "    .dataframe tbody tr th {\n",
              "        vertical-align: top;\n",
              "    }\n",
              "\n",
              "    .dataframe thead th {\n",
              "        text-align: right;\n",
              "    }\n",
              "</style>\n",
              "<table border=\"1\" class=\"dataframe\">\n",
              "  <thead>\n",
              "    <tr style=\"text-align: right;\">\n",
              "      <th></th>\n",
              "      <th>Embedding</th>\n",
              "      <th>Accuracy</th>\n",
              "      <th>F1_score</th>\n",
              "      <th>Recall</th>\n",
              "      <th>Precision</th>\n",
              "    </tr>\n",
              "  </thead>\n",
              "  <tbody>\n",
              "    <tr>\n",
              "      <th>0</th>\n",
              "      <td>Fasttext</td>\n",
              "      <td>0.728261</td>\n",
              "      <td>0.754863</td>\n",
              "      <td>0.728261</td>\n",
              "      <td>0.785525</td>\n",
              "    </tr>\n",
              "    <tr>\n",
              "      <th>1</th>\n",
              "      <td>AraVec</td>\n",
              "      <td>0.729348</td>\n",
              "      <td>0.738429</td>\n",
              "      <td>0.729348</td>\n",
              "      <td>0.751091</td>\n",
              "    </tr>\n",
              "    <tr>\n",
              "      <th>2</th>\n",
              "      <td>Fasttext + AraVec</td>\n",
              "      <td>0.752174</td>\n",
              "      <td>0.766624</td>\n",
              "      <td>0.752174</td>\n",
              "      <td>0.785323</td>\n",
              "    </tr>\n",
              "  </tbody>\n",
              "</table>\n",
              "</div>\n",
              "      <button class=\"colab-df-convert\" onclick=\"convertToInteractive('df-829ed360-f906-4476-94de-e156a59057bc')\"\n",
              "              title=\"Convert this dataframe to an interactive table.\"\n",
              "              style=\"display:none;\">\n",
              "        \n",
              "  <svg xmlns=\"http://www.w3.org/2000/svg\" height=\"24px\"viewBox=\"0 0 24 24\"\n",
              "       width=\"24px\">\n",
              "    <path d=\"M0 0h24v24H0V0z\" fill=\"none\"/>\n",
              "    <path d=\"M18.56 5.44l.94 2.06.94-2.06 2.06-.94-2.06-.94-.94-2.06-.94 2.06-2.06.94zm-11 1L8.5 8.5l.94-2.06 2.06-.94-2.06-.94L8.5 2.5l-.94 2.06-2.06.94zm10 10l.94 2.06.94-2.06 2.06-.94-2.06-.94-.94-2.06-.94 2.06-2.06.94z\"/><path d=\"M17.41 7.96l-1.37-1.37c-.4-.4-.92-.59-1.43-.59-.52 0-1.04.2-1.43.59L10.3 9.45l-7.72 7.72c-.78.78-.78 2.05 0 2.83L4 21.41c.39.39.9.59 1.41.59.51 0 1.02-.2 1.41-.59l7.78-7.78 2.81-2.81c.8-.78.8-2.07 0-2.86zM5.41 20L4 18.59l7.72-7.72 1.47 1.35L5.41 20z\"/>\n",
              "  </svg>\n",
              "      </button>\n",
              "      \n",
              "  <style>\n",
              "    .colab-df-container {\n",
              "      display:flex;\n",
              "      flex-wrap:wrap;\n",
              "      gap: 12px;\n",
              "    }\n",
              "\n",
              "    .colab-df-convert {\n",
              "      background-color: #E8F0FE;\n",
              "      border: none;\n",
              "      border-radius: 50%;\n",
              "      cursor: pointer;\n",
              "      display: none;\n",
              "      fill: #1967D2;\n",
              "      height: 32px;\n",
              "      padding: 0 0 0 0;\n",
              "      width: 32px;\n",
              "    }\n",
              "\n",
              "    .colab-df-convert:hover {\n",
              "      background-color: #E2EBFA;\n",
              "      box-shadow: 0px 1px 2px rgba(60, 64, 67, 0.3), 0px 1px 3px 1px rgba(60, 64, 67, 0.15);\n",
              "      fill: #174EA6;\n",
              "    }\n",
              "\n",
              "    [theme=dark] .colab-df-convert {\n",
              "      background-color: #3B4455;\n",
              "      fill: #D2E3FC;\n",
              "    }\n",
              "\n",
              "    [theme=dark] .colab-df-convert:hover {\n",
              "      background-color: #434B5C;\n",
              "      box-shadow: 0px 1px 3px 1px rgba(0, 0, 0, 0.15);\n",
              "      filter: drop-shadow(0px 1px 2px rgba(0, 0, 0, 0.3));\n",
              "      fill: #FFFFFF;\n",
              "    }\n",
              "  </style>\n",
              "\n",
              "      <script>\n",
              "        const buttonEl =\n",
              "          document.querySelector('#df-829ed360-f906-4476-94de-e156a59057bc button.colab-df-convert');\n",
              "        buttonEl.style.display =\n",
              "          google.colab.kernel.accessAllowed ? 'block' : 'none';\n",
              "\n",
              "        async function convertToInteractive(key) {\n",
              "          const element = document.querySelector('#df-829ed360-f906-4476-94de-e156a59057bc');\n",
              "          const dataTable =\n",
              "            await google.colab.kernel.invokeFunction('convertToInteractive',\n",
              "                                                     [key], {});\n",
              "          if (!dataTable) return;\n",
              "\n",
              "          const docLinkHtml = 'Like what you see? Visit the ' +\n",
              "            '<a target=\"_blank\" href=https://colab.research.google.com/notebooks/data_table.ipynb>data table notebook</a>'\n",
              "            + ' to learn more about interactive tables.';\n",
              "          element.innerHTML = '';\n",
              "          dataTable['output_type'] = 'display_data';\n",
              "          await google.colab.output.renderOutput(dataTable, element);\n",
              "          const docLink = document.createElement('div');\n",
              "          docLink.innerHTML = docLinkHtml;\n",
              "          element.appendChild(docLink);\n",
              "        }\n",
              "      </script>\n",
              "    </div>\n",
              "  </div>\n",
              "  "
            ],
            "text/plain": [
              "           Embedding  Accuracy  F1_score    Recall  Precision\n",
              "0           Fasttext  0.728261  0.754863  0.728261   0.785525\n",
              "1             AraVec  0.729348  0.738429  0.729348   0.751091\n",
              "2  Fasttext + AraVec  0.752174  0.766624  0.752174   0.785323"
            ]
          },
          "metadata": {},
          "execution_count": 76
        }
      ]
    }
  ]
}