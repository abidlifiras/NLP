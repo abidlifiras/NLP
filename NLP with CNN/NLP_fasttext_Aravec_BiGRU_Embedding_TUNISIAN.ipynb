{
 "cells": [
  {
   "cell_type": "markdown",
   "metadata": {
    "id": "Phxed_BSSB7-"
   },
   "source": [
    "# TUNISIAN Dataset"
   ]
  },
  {
   "cell_type": "code",
   "execution_count": null,
   "metadata": {
    "colab": {
     "base_uri": "https://localhost:8080/"
    },
    "id": "6pkvGyUqqCMG",
    "outputId": "23fca3b0-fbcf-4dff-ae5a-f45442008125"
   },
   "outputs": [
    {
     "name": "stdout",
     "output_type": "stream",
     "text": [
      "Mounted at /content/drive\n"
     ]
    }
   ],
   "source": [
    "from google.colab import drive\n",
    "drive._mount('/content/drive')"
   ]
  },
  {
   "cell_type": "code",
   "execution_count": null,
   "metadata": {
    "colab": {
     "base_uri": "https://localhost:8080/"
    },
    "id": "fnOwTGAXpLvI",
    "outputId": "04ee7f70-0f2d-4495-8e36-7b4c5b9b9401"
   },
   "outputs": [
    {
     "name": "stdout",
     "output_type": "stream",
     "text": [
      "[nltk_data] Downloading package stopwords to /root/nltk_data...\n",
      "[nltk_data]   Unzipping corpora/stopwords.zip.\n",
      "[nltk_data] Downloading package wordnet to /root/nltk_data...\n",
      "[nltk_data]   Unzipping corpora/wordnet.zip.\n"
     ]
    },
    {
     "data": {
      "text/plain": [
       "True"
      ]
     },
     "execution_count": 2,
     "metadata": {},
     "output_type": "execute_result"
    }
   ],
   "source": [
    "from tensorflow import keras\n",
    "import numpy as np\n",
    "import re\n",
    "import nltk\n",
    "from nltk.corpus import stopwords\n",
    "import string\n",
    "import pandas as pd\n",
    "from nltk.stem import WordNetLemmatizer\n",
    "from nltk.corpus import stopwords\n",
    "nltk.download('stopwords')\n",
    "nltk.download('wordnet')"
   ]
  },
  {
   "cell_type": "code",
   "execution_count": null,
   "metadata": {
    "id": "qpYZxDnjpo32"
   },
   "outputs": [],
   "source": [
    "train=pd.read_excel( '/content/drive/MyDrive/FastText_Aravec_Arabic_embeddings/dataset1and2.xlsx')\n",
    "# test=pd.read_excel('/content/drive/MyDrive/kaggle-nabil-badri/Text Classification Notebooks/BI-GRU/MyArticle-dataset-arabe/dataset1and2.xlsx')\n",
    "label=pd.read_excel( '/content/drive/MyDrive/FastText_Aravec_Arabic_embeddings/dataset1and2.xlsx',header=None).iloc[:,-1]\n",
    "#OFF=0 \n",
    "#NOT=1"
   ]
  },
  {
   "cell_type": "code",
   "execution_count": null,
   "metadata": {
    "colab": {
     "base_uri": "https://localhost:8080/",
     "height": 423
    },
    "id": "NLkeXb_2qC2T",
    "outputId": "9a127642-0120-46df-e57b-071dde2ca5d3"
   },
   "outputs": [
    {
     "data": {
      "text/html": [
       "\n",
       "  <div id=\"df-c67b9c4f-ef7f-4720-adb3-af66fc49e173\">\n",
       "    <div class=\"colab-df-container\">\n",
       "      <div>\n",
       "<style scoped>\n",
       "    .dataframe tbody tr th:only-of-type {\n",
       "        vertical-align: middle;\n",
       "    }\n",
       "\n",
       "    .dataframe tbody tr th {\n",
       "        vertical-align: top;\n",
       "    }\n",
       "\n",
       "    .dataframe thead th {\n",
       "        text-align: right;\n",
       "    }\n",
       "</style>\n",
       "<table border=\"1\" class=\"dataframe\">\n",
       "  <thead>\n",
       "    <tr style=\"text-align: right;\">\n",
       "      <th></th>\n",
       "      <th>Unnamed: 0</th>\n",
       "      <th>commentaire</th>\n",
       "      <th>classe</th>\n",
       "      <th>word_count</th>\n",
       "    </tr>\n",
       "  </thead>\n",
       "  <tbody>\n",
       "    <tr>\n",
       "      <th>0</th>\n",
       "      <td>0</td>\n",
       "      <td>اسغي ياشعب تونس تدعوا بالاسلام كفار الحمدلله ن...</td>\n",
       "      <td>hate</td>\n",
       "      <td>11</td>\n",
       "    </tr>\n",
       "    <tr>\n",
       "      <th>1</th>\n",
       "      <td>1</td>\n",
       "      <td>قطع يد السارق توفرت الشروط شرط الحد الأدنى قيم...</td>\n",
       "      <td>normal</td>\n",
       "      <td>14</td>\n",
       "    </tr>\n",
       "    <tr>\n",
       "      <th>2</th>\n",
       "      <td>2</td>\n",
       "      <td>تلوموش لطفي لعبدلي شرف</td>\n",
       "      <td>normal</td>\n",
       "      <td>4</td>\n",
       "    </tr>\n",
       "    <tr>\n",
       "      <th>3</th>\n",
       "      <td>3</td>\n",
       "      <td>مستغرب شعب يسمع تفاهة شانو لى الدرجة الشعب تاف...</td>\n",
       "      <td>normal</td>\n",
       "      <td>20</td>\n",
       "    </tr>\n",
       "    <tr>\n",
       "      <th>4</th>\n",
       "      <td>4</td>\n",
       "      <td>هههخ غزلتني مافهمتش شمدخلها الموضوع تتنطر وحده...</td>\n",
       "      <td>normal</td>\n",
       "      <td>9</td>\n",
       "    </tr>\n",
       "    <tr>\n",
       "      <th>...</th>\n",
       "      <td>...</td>\n",
       "      <td>...</td>\n",
       "      <td>...</td>\n",
       "      <td>...</td>\n",
       "    </tr>\n",
       "    <tr>\n",
       "      <th>6455</th>\n",
       "      <td>431</td>\n",
       "      <td>وجهو وجه الطحين ورخس</td>\n",
       "      <td>abusive</td>\n",
       "      <td>4</td>\n",
       "    </tr>\n",
       "    <tr>\n",
       "      <th>6456</th>\n",
       "      <td>432</td>\n",
       "      <td>الله لا يبارك فيكم و في الي تزرعوا فيه اليوم ل...</td>\n",
       "      <td>hate</td>\n",
       "      <td>20</td>\n",
       "    </tr>\n",
       "    <tr>\n",
       "      <th>6457</th>\n",
       "      <td>433</td>\n",
       "      <td>ملا حثالة مستدعيه ، قواد ولحاس ، طيح مستوى الب...</td>\n",
       "      <td>hate</td>\n",
       "      <td>15</td>\n",
       "    </tr>\n",
       "    <tr>\n",
       "      <th>6458</th>\n",
       "      <td>434</td>\n",
       "      <td>شبعة خمج.اينما يقيم الجهل</td>\n",
       "      <td>hate</td>\n",
       "      <td>4</td>\n",
       "    </tr>\n",
       "    <tr>\n",
       "      <th>6459</th>\n",
       "      <td>435</td>\n",
       "      <td>عدم إحترام المشاهد من جميع الأطراف هي قلة حياء</td>\n",
       "      <td>hate</td>\n",
       "      <td>9</td>\n",
       "    </tr>\n",
       "  </tbody>\n",
       "</table>\n",
       "<p>6460 rows × 4 columns</p>\n",
       "</div>\n",
       "      <button class=\"colab-df-convert\" onclick=\"convertToInteractive('df-c67b9c4f-ef7f-4720-adb3-af66fc49e173')\"\n",
       "              title=\"Convert this dataframe to an interactive table.\"\n",
       "              style=\"display:none;\">\n",
       "        \n",
       "  <svg xmlns=\"http://www.w3.org/2000/svg\" height=\"24px\"viewBox=\"0 0 24 24\"\n",
       "       width=\"24px\">\n",
       "    <path d=\"M0 0h24v24H0V0z\" fill=\"none\"/>\n",
       "    <path d=\"M18.56 5.44l.94 2.06.94-2.06 2.06-.94-2.06-.94-.94-2.06-.94 2.06-2.06.94zm-11 1L8.5 8.5l.94-2.06 2.06-.94-2.06-.94L8.5 2.5l-.94 2.06-2.06.94zm10 10l.94 2.06.94-2.06 2.06-.94-2.06-.94-.94-2.06-.94 2.06-2.06.94z\"/><path d=\"M17.41 7.96l-1.37-1.37c-.4-.4-.92-.59-1.43-.59-.52 0-1.04.2-1.43.59L10.3 9.45l-7.72 7.72c-.78.78-.78 2.05 0 2.83L4 21.41c.39.39.9.59 1.41.59.51 0 1.02-.2 1.41-.59l7.78-7.78 2.81-2.81c.8-.78.8-2.07 0-2.86zM5.41 20L4 18.59l7.72-7.72 1.47 1.35L5.41 20z\"/>\n",
       "  </svg>\n",
       "      </button>\n",
       "      \n",
       "  <style>\n",
       "    .colab-df-container {\n",
       "      display:flex;\n",
       "      flex-wrap:wrap;\n",
       "      gap: 12px;\n",
       "    }\n",
       "\n",
       "    .colab-df-convert {\n",
       "      background-color: #E8F0FE;\n",
       "      border: none;\n",
       "      border-radius: 50%;\n",
       "      cursor: pointer;\n",
       "      display: none;\n",
       "      fill: #1967D2;\n",
       "      height: 32px;\n",
       "      padding: 0 0 0 0;\n",
       "      width: 32px;\n",
       "    }\n",
       "\n",
       "    .colab-df-convert:hover {\n",
       "      background-color: #E2EBFA;\n",
       "      box-shadow: 0px 1px 2px rgba(60, 64, 67, 0.3), 0px 1px 3px 1px rgba(60, 64, 67, 0.15);\n",
       "      fill: #174EA6;\n",
       "    }\n",
       "\n",
       "    [theme=dark] .colab-df-convert {\n",
       "      background-color: #3B4455;\n",
       "      fill: #D2E3FC;\n",
       "    }\n",
       "\n",
       "    [theme=dark] .colab-df-convert:hover {\n",
       "      background-color: #434B5C;\n",
       "      box-shadow: 0px 1px 3px 1px rgba(0, 0, 0, 0.15);\n",
       "      filter: drop-shadow(0px 1px 2px rgba(0, 0, 0, 0.3));\n",
       "      fill: #FFFFFF;\n",
       "    }\n",
       "  </style>\n",
       "\n",
       "      <script>\n",
       "        const buttonEl =\n",
       "          document.querySelector('#df-c67b9c4f-ef7f-4720-adb3-af66fc49e173 button.colab-df-convert');\n",
       "        buttonEl.style.display =\n",
       "          google.colab.kernel.accessAllowed ? 'block' : 'none';\n",
       "\n",
       "        async function convertToInteractive(key) {\n",
       "          const element = document.querySelector('#df-c67b9c4f-ef7f-4720-adb3-af66fc49e173');\n",
       "          const dataTable =\n",
       "            await google.colab.kernel.invokeFunction('convertToInteractive',\n",
       "                                                     [key], {});\n",
       "          if (!dataTable) return;\n",
       "\n",
       "          const docLinkHtml = 'Like what you see? Visit the ' +\n",
       "            '<a target=\"_blank\" href=https://colab.research.google.com/notebooks/data_table.ipynb>data table notebook</a>'\n",
       "            + ' to learn more about interactive tables.';\n",
       "          element.innerHTML = '';\n",
       "          dataTable['output_type'] = 'display_data';\n",
       "          await google.colab.output.renderOutput(dataTable, element);\n",
       "          const docLink = document.createElement('div');\n",
       "          docLink.innerHTML = docLinkHtml;\n",
       "          element.appendChild(docLink);\n",
       "        }\n",
       "      </script>\n",
       "    </div>\n",
       "  </div>\n",
       "  "
      ],
      "text/plain": [
       "      Unnamed: 0  ... word_count\n",
       "0              0  ...         11\n",
       "1              1  ...         14\n",
       "2              2  ...          4\n",
       "3              3  ...         20\n",
       "4              4  ...          9\n",
       "...          ...  ...        ...\n",
       "6455         431  ...          4\n",
       "6456         432  ...         20\n",
       "6457         433  ...         15\n",
       "6458         434  ...          4\n",
       "6459         435  ...          9\n",
       "\n",
       "[6460 rows x 4 columns]"
      ]
     },
     "execution_count": 4,
     "metadata": {},
     "output_type": "execute_result"
    }
   ],
   "source": [
    "train['word_count'] = train['commentaire'].apply(lambda x : len(x.split()))\n",
    "train"
   ]
  },
  {
   "cell_type": "code",
   "execution_count": null,
   "metadata": {
    "id": "y34AftTfjFPS"
   },
   "outputs": [],
   "source": [
    "# #Encoding\n",
    "# df.label.replace({'normal':0,'abusive':1,'spam':2,'hateful':3},inplace=True)\n",
    "# df.head()"
   ]
  },
  {
   "cell_type": "code",
   "execution_count": null,
   "metadata": {
    "colab": {
     "base_uri": "https://localhost:8080/",
     "height": 112
    },
    "id": "g8D5pStLqgzi",
    "outputId": "fc64d110-a2a8-49d3-cd94-4ead7fa9af37"
   },
   "outputs": [
    {
     "data": {
      "text/html": [
       "\n",
       "  <div id=\"df-5279c068-922f-489b-969b-224f0ca3a4e6\">\n",
       "    <div class=\"colab-df-container\">\n",
       "      <div>\n",
       "<style scoped>\n",
       "    .dataframe tbody tr th:only-of-type {\n",
       "        vertical-align: middle;\n",
       "    }\n",
       "\n",
       "    .dataframe tbody tr th {\n",
       "        vertical-align: top;\n",
       "    }\n",
       "\n",
       "    .dataframe thead th {\n",
       "        text-align: right;\n",
       "    }\n",
       "</style>\n",
       "<table border=\"1\" class=\"dataframe\">\n",
       "  <thead>\n",
       "    <tr style=\"text-align: right;\">\n",
       "      <th></th>\n",
       "      <th>Unnamed: 0</th>\n",
       "      <th>commentaire</th>\n",
       "      <th>classe</th>\n",
       "      <th>word_count</th>\n",
       "    </tr>\n",
       "  </thead>\n",
       "  <tbody>\n",
       "    <tr>\n",
       "      <th>3335</th>\n",
       "      <td>3335</td>\n",
       "      <td>صديقتي أمال اقرئي تعليقي سمحتي صدقيني صدقيني ا...</td>\n",
       "      <td>normal</td>\n",
       "      <td>388</td>\n",
       "    </tr>\n",
       "    <tr>\n",
       "      <th>4583</th>\n",
       "      <td>4583</td>\n",
       "      <td>صديقتي أمال اقرئي تعليقي سمحتي صدقيني صدقيني ا...</td>\n",
       "      <td>normal</td>\n",
       "      <td>388</td>\n",
       "    </tr>\n",
       "  </tbody>\n",
       "</table>\n",
       "</div>\n",
       "      <button class=\"colab-df-convert\" onclick=\"convertToInteractive('df-5279c068-922f-489b-969b-224f0ca3a4e6')\"\n",
       "              title=\"Convert this dataframe to an interactive table.\"\n",
       "              style=\"display:none;\">\n",
       "        \n",
       "  <svg xmlns=\"http://www.w3.org/2000/svg\" height=\"24px\"viewBox=\"0 0 24 24\"\n",
       "       width=\"24px\">\n",
       "    <path d=\"M0 0h24v24H0V0z\" fill=\"none\"/>\n",
       "    <path d=\"M18.56 5.44l.94 2.06.94-2.06 2.06-.94-2.06-.94-.94-2.06-.94 2.06-2.06.94zm-11 1L8.5 8.5l.94-2.06 2.06-.94-2.06-.94L8.5 2.5l-.94 2.06-2.06.94zm10 10l.94 2.06.94-2.06 2.06-.94-2.06-.94-.94-2.06-.94 2.06-2.06.94z\"/><path d=\"M17.41 7.96l-1.37-1.37c-.4-.4-.92-.59-1.43-.59-.52 0-1.04.2-1.43.59L10.3 9.45l-7.72 7.72c-.78.78-.78 2.05 0 2.83L4 21.41c.39.39.9.59 1.41.59.51 0 1.02-.2 1.41-.59l7.78-7.78 2.81-2.81c.8-.78.8-2.07 0-2.86zM5.41 20L4 18.59l7.72-7.72 1.47 1.35L5.41 20z\"/>\n",
       "  </svg>\n",
       "      </button>\n",
       "      \n",
       "  <style>\n",
       "    .colab-df-container {\n",
       "      display:flex;\n",
       "      flex-wrap:wrap;\n",
       "      gap: 12px;\n",
       "    }\n",
       "\n",
       "    .colab-df-convert {\n",
       "      background-color: #E8F0FE;\n",
       "      border: none;\n",
       "      border-radius: 50%;\n",
       "      cursor: pointer;\n",
       "      display: none;\n",
       "      fill: #1967D2;\n",
       "      height: 32px;\n",
       "      padding: 0 0 0 0;\n",
       "      width: 32px;\n",
       "    }\n",
       "\n",
       "    .colab-df-convert:hover {\n",
       "      background-color: #E2EBFA;\n",
       "      box-shadow: 0px 1px 2px rgba(60, 64, 67, 0.3), 0px 1px 3px 1px rgba(60, 64, 67, 0.15);\n",
       "      fill: #174EA6;\n",
       "    }\n",
       "\n",
       "    [theme=dark] .colab-df-convert {\n",
       "      background-color: #3B4455;\n",
       "      fill: #D2E3FC;\n",
       "    }\n",
       "\n",
       "    [theme=dark] .colab-df-convert:hover {\n",
       "      background-color: #434B5C;\n",
       "      box-shadow: 0px 1px 3px 1px rgba(0, 0, 0, 0.15);\n",
       "      filter: drop-shadow(0px 1px 2px rgba(0, 0, 0, 0.3));\n",
       "      fill: #FFFFFF;\n",
       "    }\n",
       "  </style>\n",
       "\n",
       "      <script>\n",
       "        const buttonEl =\n",
       "          document.querySelector('#df-5279c068-922f-489b-969b-224f0ca3a4e6 button.colab-df-convert');\n",
       "        buttonEl.style.display =\n",
       "          google.colab.kernel.accessAllowed ? 'block' : 'none';\n",
       "\n",
       "        async function convertToInteractive(key) {\n",
       "          const element = document.querySelector('#df-5279c068-922f-489b-969b-224f0ca3a4e6');\n",
       "          const dataTable =\n",
       "            await google.colab.kernel.invokeFunction('convertToInteractive',\n",
       "                                                     [key], {});\n",
       "          if (!dataTable) return;\n",
       "\n",
       "          const docLinkHtml = 'Like what you see? Visit the ' +\n",
       "            '<a target=\"_blank\" href=https://colab.research.google.com/notebooks/data_table.ipynb>data table notebook</a>'\n",
       "            + ' to learn more about interactive tables.';\n",
       "          element.innerHTML = '';\n",
       "          dataTable['output_type'] = 'display_data';\n",
       "          await google.colab.output.renderOutput(dataTable, element);\n",
       "          const docLink = document.createElement('div');\n",
       "          docLink.innerHTML = docLinkHtml;\n",
       "          element.appendChild(docLink);\n",
       "        }\n",
       "      </script>\n",
       "    </div>\n",
       "  </div>\n",
       "  "
      ],
      "text/plain": [
       "      Unnamed: 0  ... word_count\n",
       "3335        3335  ...        388\n",
       "4583        4583  ...        388\n",
       "\n",
       "[2 rows x 4 columns]"
      ]
     },
     "execution_count": 6,
     "metadata": {},
     "output_type": "execute_result"
    }
   ],
   "source": [
    "train[train['word_count'] == 388]"
   ]
  },
  {
   "cell_type": "code",
   "execution_count": null,
   "metadata": {
    "colab": {
     "base_uri": "https://localhost:8080/",
     "height": 423
    },
    "id": "5UoivqmhJlYD",
    "outputId": "98e2afb9-e468-4761-d350-396e69c33672"
   },
   "outputs": [
    {
     "data": {
      "text/html": [
       "\n",
       "  <div id=\"df-6acb87d8-8abf-467e-ae10-5153a1b08502\">\n",
       "    <div class=\"colab-df-container\">\n",
       "      <div>\n",
       "<style scoped>\n",
       "    .dataframe tbody tr th:only-of-type {\n",
       "        vertical-align: middle;\n",
       "    }\n",
       "\n",
       "    .dataframe tbody tr th {\n",
       "        vertical-align: top;\n",
       "    }\n",
       "\n",
       "    .dataframe thead th {\n",
       "        text-align: right;\n",
       "    }\n",
       "</style>\n",
       "<table border=\"1\" class=\"dataframe\">\n",
       "  <thead>\n",
       "    <tr style=\"text-align: right;\">\n",
       "      <th></th>\n",
       "      <th>Unnamed: 0</th>\n",
       "      <th>commentaire</th>\n",
       "      <th>classe</th>\n",
       "      <th>word_count</th>\n",
       "    </tr>\n",
       "  </thead>\n",
       "  <tbody>\n",
       "    <tr>\n",
       "      <th>13</th>\n",
       "      <td>13</td>\n",
       "      <td>للاسف رجال تونس اصبحو نسوان</td>\n",
       "      <td>hate</td>\n",
       "      <td>5</td>\n",
       "    </tr>\n",
       "    <tr>\n",
       "      <th>47</th>\n",
       "      <td>47</td>\n",
       "      <td>لاحظت التوانسة كامل منحازين الفاملات</td>\n",
       "      <td>normal</td>\n",
       "      <td>5</td>\n",
       "    </tr>\n",
       "    <tr>\n",
       "      <th>67</th>\n",
       "      <td>67</td>\n",
       "      <td>زوج شمس لطفي زوج ماصطين</td>\n",
       "      <td>normal</td>\n",
       "      <td>5</td>\n",
       "    </tr>\n",
       "    <tr>\n",
       "      <th>69</th>\n",
       "      <td>69</td>\n",
       "      <td>محلاها المذيعة مرة نسمعها محلاها</td>\n",
       "      <td>normal</td>\n",
       "      <td>5</td>\n",
       "    </tr>\n",
       "    <tr>\n",
       "      <th>93</th>\n",
       "      <td>93</td>\n",
       "      <td>مساكن التوانسة ضحايا الصعلوك بورقيبة</td>\n",
       "      <td>normal</td>\n",
       "      <td>5</td>\n",
       "    </tr>\n",
       "    <tr>\n",
       "      <th>...</th>\n",
       "      <td>...</td>\n",
       "      <td>...</td>\n",
       "      <td>...</td>\n",
       "      <td>...</td>\n",
       "    </tr>\n",
       "    <tr>\n",
       "      <th>6360</th>\n",
       "      <td>336</td>\n",
       "      <td>اخيب ممثله شفتها في حياتي</td>\n",
       "      <td>hate</td>\n",
       "      <td>5</td>\n",
       "    </tr>\n",
       "    <tr>\n",
       "      <th>6365</th>\n",
       "      <td>341</td>\n",
       "      <td>انسان تافه ما عندوش مستوى</td>\n",
       "      <td>hate</td>\n",
       "      <td>5</td>\n",
       "    </tr>\n",
       "    <tr>\n",
       "      <th>6368</th>\n",
       "      <td>344</td>\n",
       "      <td>شعب ابله طحان بهيم كرااكوز\\r</td>\n",
       "      <td>abusive</td>\n",
       "      <td>5</td>\n",
       "    </tr>\n",
       "    <tr>\n",
       "      <th>6402</th>\n",
       "      <td>378</td>\n",
       "      <td>حاشاهم الڨوابسية منك يا تافه \\r</td>\n",
       "      <td>hate</td>\n",
       "      <td>5</td>\n",
       "    </tr>\n",
       "    <tr>\n",
       "      <th>6415</th>\n",
       "      <td>391</td>\n",
       "      <td>صوتها خشين و يفجع !!</td>\n",
       "      <td>hate</td>\n",
       "      <td>5</td>\n",
       "    </tr>\n",
       "  </tbody>\n",
       "</table>\n",
       "<p>521 rows × 4 columns</p>\n",
       "</div>\n",
       "      <button class=\"colab-df-convert\" onclick=\"convertToInteractive('df-6acb87d8-8abf-467e-ae10-5153a1b08502')\"\n",
       "              title=\"Convert this dataframe to an interactive table.\"\n",
       "              style=\"display:none;\">\n",
       "        \n",
       "  <svg xmlns=\"http://www.w3.org/2000/svg\" height=\"24px\"viewBox=\"0 0 24 24\"\n",
       "       width=\"24px\">\n",
       "    <path d=\"M0 0h24v24H0V0z\" fill=\"none\"/>\n",
       "    <path d=\"M18.56 5.44l.94 2.06.94-2.06 2.06-.94-2.06-.94-.94-2.06-.94 2.06-2.06.94zm-11 1L8.5 8.5l.94-2.06 2.06-.94-2.06-.94L8.5 2.5l-.94 2.06-2.06.94zm10 10l.94 2.06.94-2.06 2.06-.94-2.06-.94-.94-2.06-.94 2.06-2.06.94z\"/><path d=\"M17.41 7.96l-1.37-1.37c-.4-.4-.92-.59-1.43-.59-.52 0-1.04.2-1.43.59L10.3 9.45l-7.72 7.72c-.78.78-.78 2.05 0 2.83L4 21.41c.39.39.9.59 1.41.59.51 0 1.02-.2 1.41-.59l7.78-7.78 2.81-2.81c.8-.78.8-2.07 0-2.86zM5.41 20L4 18.59l7.72-7.72 1.47 1.35L5.41 20z\"/>\n",
       "  </svg>\n",
       "      </button>\n",
       "      \n",
       "  <style>\n",
       "    .colab-df-container {\n",
       "      display:flex;\n",
       "      flex-wrap:wrap;\n",
       "      gap: 12px;\n",
       "    }\n",
       "\n",
       "    .colab-df-convert {\n",
       "      background-color: #E8F0FE;\n",
       "      border: none;\n",
       "      border-radius: 50%;\n",
       "      cursor: pointer;\n",
       "      display: none;\n",
       "      fill: #1967D2;\n",
       "      height: 32px;\n",
       "      padding: 0 0 0 0;\n",
       "      width: 32px;\n",
       "    }\n",
       "\n",
       "    .colab-df-convert:hover {\n",
       "      background-color: #E2EBFA;\n",
       "      box-shadow: 0px 1px 2px rgba(60, 64, 67, 0.3), 0px 1px 3px 1px rgba(60, 64, 67, 0.15);\n",
       "      fill: #174EA6;\n",
       "    }\n",
       "\n",
       "    [theme=dark] .colab-df-convert {\n",
       "      background-color: #3B4455;\n",
       "      fill: #D2E3FC;\n",
       "    }\n",
       "\n",
       "    [theme=dark] .colab-df-convert:hover {\n",
       "      background-color: #434B5C;\n",
       "      box-shadow: 0px 1px 3px 1px rgba(0, 0, 0, 0.15);\n",
       "      filter: drop-shadow(0px 1px 2px rgba(0, 0, 0, 0.3));\n",
       "      fill: #FFFFFF;\n",
       "    }\n",
       "  </style>\n",
       "\n",
       "      <script>\n",
       "        const buttonEl =\n",
       "          document.querySelector('#df-6acb87d8-8abf-467e-ae10-5153a1b08502 button.colab-df-convert');\n",
       "        buttonEl.style.display =\n",
       "          google.colab.kernel.accessAllowed ? 'block' : 'none';\n",
       "\n",
       "        async function convertToInteractive(key) {\n",
       "          const element = document.querySelector('#df-6acb87d8-8abf-467e-ae10-5153a1b08502');\n",
       "          const dataTable =\n",
       "            await google.colab.kernel.invokeFunction('convertToInteractive',\n",
       "                                                     [key], {});\n",
       "          if (!dataTable) return;\n",
       "\n",
       "          const docLinkHtml = 'Like what you see? Visit the ' +\n",
       "            '<a target=\"_blank\" href=https://colab.research.google.com/notebooks/data_table.ipynb>data table notebook</a>'\n",
       "            + ' to learn more about interactive tables.';\n",
       "          element.innerHTML = '';\n",
       "          dataTable['output_type'] = 'display_data';\n",
       "          await google.colab.output.renderOutput(dataTable, element);\n",
       "          const docLink = document.createElement('div');\n",
       "          docLink.innerHTML = docLinkHtml;\n",
       "          element.appendChild(docLink);\n",
       "        }\n",
       "      </script>\n",
       "    </div>\n",
       "  </div>\n",
       "  "
      ],
      "text/plain": [
       "      Unnamed: 0                           commentaire   classe  word_count\n",
       "13            13           للاسف رجال تونس اصبحو نسوان     hate           5\n",
       "47            47  لاحظت التوانسة كامل منحازين الفاملات   normal           5\n",
       "67            67               زوج شمس لطفي زوج ماصطين   normal           5\n",
       "69            69      محلاها المذيعة مرة نسمعها محلاها   normal           5\n",
       "93            93  مساكن التوانسة ضحايا الصعلوك بورقيبة   normal           5\n",
       "...          ...                                   ...      ...         ...\n",
       "6360         336             اخيب ممثله شفتها في حياتي     hate           5\n",
       "6365         341             انسان تافه ما عندوش مستوى     hate           5\n",
       "6368         344          شعب ابله طحان بهيم كرااكوز\\r  abusive           5\n",
       "6402         378       حاشاهم الڨوابسية منك يا تافه \\r     hate           5\n",
       "6415         391                  صوتها خشين و يفجع !!     hate           5\n",
       "\n",
       "[521 rows x 4 columns]"
      ]
     },
     "execution_count": 7,
     "metadata": {},
     "output_type": "execute_result"
    }
   ],
   "source": [
    "train[train['word_count'] == 5]"
   ]
  },
  {
   "cell_type": "code",
   "execution_count": null,
   "metadata": {
    "colab": {
     "base_uri": "https://localhost:8080/",
     "height": 91
    },
    "id": "N2lLrbnqqsFk",
    "outputId": "f29c309c-b063-48f6-ae29-b1ab86bc30d4"
   },
   "outputs": [
    {
     "data": {
      "application/vnd.google.colaboratory.intrinsic+json": {
       "type": "string"
      },
      "text/plain": [
       "'صديقتي أمال اقرئي تعليقي سمحتي صدقيني صدقيني القضية أوسع تتخيلين أدري مواكبون لعصركم تعلمون يتم توجيهكم تفهمون السطور أنكم سقطتم شراك فخاخهم بساطة صديقتي تلاحظين الثقافة الأخلاق المصطلحات الجذابة يأكلونها جاعوا يستعملونها وقت الحاجة تريدين إقناعي مايا القصوري تعرف معنى الاحترام أخلاق تتعامل الناس احترام مايا القصوري قالت جهارا آنسة تلبس نوعا الحجاب تنشط كمذيعة التلفاز بأنها تتاجر بشكلها بحجابها يقوله محترم محترم مسلم شارلي إيبدو الحق تصوير النبي الصلاة السلام غيره شكل يريدونه المحترم أمورا هاته المحترم يجب يجعل اضحوكة الناس محل جدال الناس محل جذب يسوى يسوى محترمة الكثير الناس مشكلة معها نأتي للثقافة صديقتي العزيزة أمال الثقافة دخل العلم الثقافة طريقة عيش طريقة تفكير طريقة تعامل أكثر نقول مايا مثقفة العلاني جاهل دخل الجهل الثقافة الجهل قبالته العلم الثقافة ملاحظة مايا القصوري تتكلم أمور فلسفية نفسها تناقش شخص بنفس طريقتها تسقط التناقض تعتمد ضوابط معايير كلامها داس فكرها يكن يقصد تبغضه تحاول تجرعه كأس الاستهزاء تظنين مشكلة الشاب مشكلتها المرأة صوتها عورة فكرهته مباشرة تجد عذرا بسيطا فقررت تؤدبه الشرذمة ترينها أختي مشكلتها الدين علمانيون أقحاح تعرفين معنى أقحاح سأوضح تفهمين الوضع الواقع تستطيعين الاستمرار مشاهدتهم سترين كلامي صحيح العلمانية عصرنا نفسها علمانية العصور الوسطى تأسست غطرسة الكنيسة بلاد الغرب العلمانية حينها ردة فعل غطرسة الكنيسة فطبيعي نفسها متغطرسة المتدينين ردة فعل ردة الفعل بقوة الفعل العلمانية صديقتي أحبها الكثير الكثير الناس المنقذ الكبير غطرسة الكنيسة تعطي حريات كبيرة قلنا متغطرسة تراهم مستبدين المتدينون فجعلت الدين البيت دين الحياة العامة عصرنا العلمانية بتلك المعايير يعيش الناس وفقها العالم يعيش حروب قرروا تقليم العلمانية علمانية تستطيع تترك الناس يتكلمون الدين ينشطون يسمونها التعايش وفق حدود وضعوها مثلا للمتدين يتكلم فرض الحكم بشرع أمرنا يفعل يعتبر أكبر المتطرفين العالم الديمقراطية قاموا بتقليمها الديمقراطية تقوم رأي الاغلبية الأغلبية قالت دائما رأيها يسود طبعا هاته المعايير يعيش الناس وفقها عصرنا العالم بتحريم أمور كثيرة تتماشى أفكار حاكميه خرج شعب طالب بإرجاع الشريعة الإسلامية بالديمقراطية أكيد وجب العالم ينصاع للابتعاد هاته الورطة وضعوا قوانين لحقوق الإنسان عقولهم وجعلوا الديمقراطية وفقا لأفكارهم وضعوا قوانين عقولهم كمنعهم الناس لاختيار الشريعة مثلا جعلوا الشعوب تستعمل الديمقراطية وفق القوانين الحقوق الحريات فجعلوا الشعوب تبدو ديمقراطية متعايشة الحقيقة الشعوب تختار يريده المستبدين مايا باقي الشلة علمانيون أقحاح نتزع عقولهم صدورهم العلمانية الأولى قلنا ردة فعل الكنيسة وفقا العصر يعتبرون المتطرفين يتعايشون غيرهم ممن يخالفهم النوع التطرف يشكل خطرا العصر الدين خصوصا الإسلام أرجو تبحثي تفهمي أهداف الكلاب تكوني مستهلكة باقي الشعوب تسقطي شراكهم آسف الإطالة'"
      ]
     },
     "execution_count": 8,
     "metadata": {},
     "output_type": "execute_result"
    }
   ],
   "source": [
    "train['commentaire'][3335]"
   ]
  },
  {
   "cell_type": "code",
   "execution_count": null,
   "metadata": {
    "colab": {
     "base_uri": "https://localhost:8080/"
    },
    "id": "reTRftvWpUJk",
    "outputId": "592c30e7-452d-4240-c082-05c9d9d05acf"
   },
   "outputs": [
    {
     "data": {
      "text/plain": [
       "Counter({0: 1399, 1: 3857, 2: 1204})"
      ]
     },
     "execution_count": 9,
     "metadata": {},
     "output_type": "execute_result"
    }
   ],
   "source": [
    "y_train=train['classe']\n",
    "X_train=train['commentaire']\n",
    "#test=test['comm']\n",
    "y_train=pd.factorize(y_train)[0]\n",
    "# y_test=pd.factorize(y_test)[0]\n",
    "train['labels'] = pd.factorize(y_train)[0]\n",
    "\n",
    "import collections\n",
    "collections.Counter(y_train)\n",
    "\n",
    "#Counter({0: 4400, 1: 8840})"
   ]
  },
  {
   "cell_type": "code",
   "execution_count": null,
   "metadata": {
    "colab": {
     "base_uri": "https://localhost:8080/",
     "height": 423
    },
    "id": "gJDueK0Uh9kN",
    "outputId": "27defd02-1959-4974-8021-bc70815634d1"
   },
   "outputs": [
    {
     "data": {
      "text/html": [
       "\n",
       "  <div id=\"df-055976c2-fda8-406d-9263-ef6b36033c79\">\n",
       "    <div class=\"colab-df-container\">\n",
       "      <div>\n",
       "<style scoped>\n",
       "    .dataframe tbody tr th:only-of-type {\n",
       "        vertical-align: middle;\n",
       "    }\n",
       "\n",
       "    .dataframe tbody tr th {\n",
       "        vertical-align: top;\n",
       "    }\n",
       "\n",
       "    .dataframe thead th {\n",
       "        text-align: right;\n",
       "    }\n",
       "</style>\n",
       "<table border=\"1\" class=\"dataframe\">\n",
       "  <thead>\n",
       "    <tr style=\"text-align: right;\">\n",
       "      <th></th>\n",
       "      <th>Unnamed: 0</th>\n",
       "      <th>commentaire</th>\n",
       "      <th>classe</th>\n",
       "      <th>word_count</th>\n",
       "      <th>labels</th>\n",
       "    </tr>\n",
       "  </thead>\n",
       "  <tbody>\n",
       "    <tr>\n",
       "      <th>0</th>\n",
       "      <td>0</td>\n",
       "      <td>اسغي ياشعب تونس تدعوا بالاسلام كفار الحمدلله ن...</td>\n",
       "      <td>hate</td>\n",
       "      <td>11</td>\n",
       "      <td>0</td>\n",
       "    </tr>\n",
       "    <tr>\n",
       "      <th>1</th>\n",
       "      <td>1</td>\n",
       "      <td>قطع يد السارق توفرت الشروط شرط الحد الأدنى قيم...</td>\n",
       "      <td>normal</td>\n",
       "      <td>14</td>\n",
       "      <td>1</td>\n",
       "    </tr>\n",
       "    <tr>\n",
       "      <th>2</th>\n",
       "      <td>2</td>\n",
       "      <td>تلوموش لطفي لعبدلي شرف</td>\n",
       "      <td>normal</td>\n",
       "      <td>4</td>\n",
       "      <td>1</td>\n",
       "    </tr>\n",
       "    <tr>\n",
       "      <th>3</th>\n",
       "      <td>3</td>\n",
       "      <td>مستغرب شعب يسمع تفاهة شانو لى الدرجة الشعب تاف...</td>\n",
       "      <td>normal</td>\n",
       "      <td>20</td>\n",
       "      <td>1</td>\n",
       "    </tr>\n",
       "    <tr>\n",
       "      <th>4</th>\n",
       "      <td>4</td>\n",
       "      <td>هههخ غزلتني مافهمتش شمدخلها الموضوع تتنطر وحده...</td>\n",
       "      <td>normal</td>\n",
       "      <td>9</td>\n",
       "      <td>1</td>\n",
       "    </tr>\n",
       "    <tr>\n",
       "      <th>...</th>\n",
       "      <td>...</td>\n",
       "      <td>...</td>\n",
       "      <td>...</td>\n",
       "      <td>...</td>\n",
       "      <td>...</td>\n",
       "    </tr>\n",
       "    <tr>\n",
       "      <th>6455</th>\n",
       "      <td>431</td>\n",
       "      <td>وجهو وجه الطحين ورخس</td>\n",
       "      <td>abusive</td>\n",
       "      <td>4</td>\n",
       "      <td>2</td>\n",
       "    </tr>\n",
       "    <tr>\n",
       "      <th>6456</th>\n",
       "      <td>432</td>\n",
       "      <td>الله لا يبارك فيكم و في الي تزرعوا فيه اليوم ل...</td>\n",
       "      <td>hate</td>\n",
       "      <td>20</td>\n",
       "      <td>0</td>\n",
       "    </tr>\n",
       "    <tr>\n",
       "      <th>6457</th>\n",
       "      <td>433</td>\n",
       "      <td>ملا حثالة مستدعيه ، قواد ولحاس ، طيح مستوى الب...</td>\n",
       "      <td>hate</td>\n",
       "      <td>15</td>\n",
       "      <td>0</td>\n",
       "    </tr>\n",
       "    <tr>\n",
       "      <th>6458</th>\n",
       "      <td>434</td>\n",
       "      <td>شبعة خمج.اينما يقيم الجهل</td>\n",
       "      <td>hate</td>\n",
       "      <td>4</td>\n",
       "      <td>0</td>\n",
       "    </tr>\n",
       "    <tr>\n",
       "      <th>6459</th>\n",
       "      <td>435</td>\n",
       "      <td>عدم إحترام المشاهد من جميع الأطراف هي قلة حياء</td>\n",
       "      <td>hate</td>\n",
       "      <td>9</td>\n",
       "      <td>0</td>\n",
       "    </tr>\n",
       "  </tbody>\n",
       "</table>\n",
       "<p>6460 rows × 5 columns</p>\n",
       "</div>\n",
       "      <button class=\"colab-df-convert\" onclick=\"convertToInteractive('df-055976c2-fda8-406d-9263-ef6b36033c79')\"\n",
       "              title=\"Convert this dataframe to an interactive table.\"\n",
       "              style=\"display:none;\">\n",
       "        \n",
       "  <svg xmlns=\"http://www.w3.org/2000/svg\" height=\"24px\"viewBox=\"0 0 24 24\"\n",
       "       width=\"24px\">\n",
       "    <path d=\"M0 0h24v24H0V0z\" fill=\"none\"/>\n",
       "    <path d=\"M18.56 5.44l.94 2.06.94-2.06 2.06-.94-2.06-.94-.94-2.06-.94 2.06-2.06.94zm-11 1L8.5 8.5l.94-2.06 2.06-.94-2.06-.94L8.5 2.5l-.94 2.06-2.06.94zm10 10l.94 2.06.94-2.06 2.06-.94-2.06-.94-.94-2.06-.94 2.06-2.06.94z\"/><path d=\"M17.41 7.96l-1.37-1.37c-.4-.4-.92-.59-1.43-.59-.52 0-1.04.2-1.43.59L10.3 9.45l-7.72 7.72c-.78.78-.78 2.05 0 2.83L4 21.41c.39.39.9.59 1.41.59.51 0 1.02-.2 1.41-.59l7.78-7.78 2.81-2.81c.8-.78.8-2.07 0-2.86zM5.41 20L4 18.59l7.72-7.72 1.47 1.35L5.41 20z\"/>\n",
       "  </svg>\n",
       "      </button>\n",
       "      \n",
       "  <style>\n",
       "    .colab-df-container {\n",
       "      display:flex;\n",
       "      flex-wrap:wrap;\n",
       "      gap: 12px;\n",
       "    }\n",
       "\n",
       "    .colab-df-convert {\n",
       "      background-color: #E8F0FE;\n",
       "      border: none;\n",
       "      border-radius: 50%;\n",
       "      cursor: pointer;\n",
       "      display: none;\n",
       "      fill: #1967D2;\n",
       "      height: 32px;\n",
       "      padding: 0 0 0 0;\n",
       "      width: 32px;\n",
       "    }\n",
       "\n",
       "    .colab-df-convert:hover {\n",
       "      background-color: #E2EBFA;\n",
       "      box-shadow: 0px 1px 2px rgba(60, 64, 67, 0.3), 0px 1px 3px 1px rgba(60, 64, 67, 0.15);\n",
       "      fill: #174EA6;\n",
       "    }\n",
       "\n",
       "    [theme=dark] .colab-df-convert {\n",
       "      background-color: #3B4455;\n",
       "      fill: #D2E3FC;\n",
       "    }\n",
       "\n",
       "    [theme=dark] .colab-df-convert:hover {\n",
       "      background-color: #434B5C;\n",
       "      box-shadow: 0px 1px 3px 1px rgba(0, 0, 0, 0.15);\n",
       "      filter: drop-shadow(0px 1px 2px rgba(0, 0, 0, 0.3));\n",
       "      fill: #FFFFFF;\n",
       "    }\n",
       "  </style>\n",
       "\n",
       "      <script>\n",
       "        const buttonEl =\n",
       "          document.querySelector('#df-055976c2-fda8-406d-9263-ef6b36033c79 button.colab-df-convert');\n",
       "        buttonEl.style.display =\n",
       "          google.colab.kernel.accessAllowed ? 'block' : 'none';\n",
       "\n",
       "        async function convertToInteractive(key) {\n",
       "          const element = document.querySelector('#df-055976c2-fda8-406d-9263-ef6b36033c79');\n",
       "          const dataTable =\n",
       "            await google.colab.kernel.invokeFunction('convertToInteractive',\n",
       "                                                     [key], {});\n",
       "          if (!dataTable) return;\n",
       "\n",
       "          const docLinkHtml = 'Like what you see? Visit the ' +\n",
       "            '<a target=\"_blank\" href=https://colab.research.google.com/notebooks/data_table.ipynb>data table notebook</a>'\n",
       "            + ' to learn more about interactive tables.';\n",
       "          element.innerHTML = '';\n",
       "          dataTable['output_type'] = 'display_data';\n",
       "          await google.colab.output.renderOutput(dataTable, element);\n",
       "          const docLink = document.createElement('div');\n",
       "          docLink.innerHTML = docLinkHtml;\n",
       "          element.appendChild(docLink);\n",
       "        }\n",
       "      </script>\n",
       "    </div>\n",
       "  </div>\n",
       "  "
      ],
      "text/plain": [
       "      Unnamed: 0  ... labels\n",
       "0              0  ...      0\n",
       "1              1  ...      1\n",
       "2              2  ...      1\n",
       "3              3  ...      1\n",
       "4              4  ...      1\n",
       "...          ...  ...    ...\n",
       "6455         431  ...      2\n",
       "6456         432  ...      0\n",
       "6457         433  ...      0\n",
       "6458         434  ...      0\n",
       "6459         435  ...      0\n",
       "\n",
       "[6460 rows x 5 columns]"
      ]
     },
     "execution_count": 10,
     "metadata": {},
     "output_type": "execute_result"
    }
   ],
   "source": [
    "train"
   ]
  },
  {
   "cell_type": "code",
   "execution_count": null,
   "metadata": {
    "colab": {
     "base_uri": "https://localhost:8080/"
    },
    "id": "oGLoYOBGcQLC",
    "outputId": "f108ab75-6913-47cb-95c2-8ed65a63e850"
   },
   "outputs": [
    {
     "name": "stdout",
     "output_type": "stream",
     "text": [
      "[nltk_data] Downloading package stopwords to /root/nltk_data...\n",
      "[nltk_data]   Package stopwords is already up-to-date!\n",
      "[nltk_data] Downloading package wordnet to /root/nltk_data...\n",
      "[nltk_data]   Package wordnet is already up-to-date!\n"
     ]
    }
   ],
   "source": [
    "import nltk\n",
    "nltk.download('stopwords')\n",
    "nltk.download('wordnet')\n",
    "from nltk.corpus import stopwords\n",
    "stopwords_list = stopwords.words('arabic')"
   ]
  },
  {
   "cell_type": "code",
   "execution_count": null,
   "metadata": {
    "id": "eTokWOWpbiMT"
   },
   "outputs": [],
   "source": [
    "#cleaning data\n",
    "import re\n",
    "from nltk.stem.porter import PorterStemmer\n",
    "tokenizer=nltk.tokenize.WhitespaceTokenizer()\n",
    "from nltk.stem.isri import ISRIStemmer\n",
    "st = ISRIStemmer()\n",
    "from snowballstemmer import stemmer\n",
    "ar_stemmer = stemmer(\"arabic\")\n",
    "def preprocess(review):\n",
    "   review = re.sub('[^ا-ي]', ' ', review)\n",
    " \n",
    "   review = tokenizer.tokenize(review)\n",
    "   review = [ar_stemmer.stemWord(word) for word in review if not word in set(stopwords_list )]\n",
    "   review = ' '.join(review)\n",
    "   return review"
   ]
  },
  {
   "cell_type": "code",
   "execution_count": null,
   "metadata": {
    "id": "0fUSTtv_b2Tj"
   },
   "outputs": [],
   "source": [
    "# X_train = train['commentaire'].apply(preprocess)\n",
    "X_train = X_train.apply(preprocess)\n"
   ]
  },
  {
   "cell_type": "code",
   "execution_count": null,
   "metadata": {
    "colab": {
     "base_uri": "https://localhost:8080/",
     "height": 36
    },
    "id": "pHWUrV9_cchK",
    "outputId": "2796ab86-0f02-4086-b16d-db0feecc0b89"
   },
   "outputs": [
    {
     "data": {
      "application/vnd.google.colaboratory.intrinsic+json": {
       "type": "string"
      },
      "text/plain": [
       "'تكلام تونس تونس لاد دعار خماج تفووو لاد يهود سهاين رب صلاط دعش يقطعل الر'"
      ]
     },
     "execution_count": 14,
     "metadata": {},
     "output_type": "execute_result"
    }
   ],
   "source": [
    "X_train[10] ### Après preprocessing"
   ]
  },
  {
   "cell_type": "code",
   "execution_count": null,
   "metadata": {
    "colab": {
     "base_uri": "https://localhost:8080/",
     "height": 36
    },
    "id": "TNY4hgF8dEM6",
    "outputId": "6e6279b8-f5a9-4e31-a923-ee7ab3ac2cc3"
   },
   "outputs": [
    {
     "data": {
      "application/vnd.google.colaboratory.intrinsic+json": {
       "type": "string"
      },
      "text/plain": [
       "'اسغي ياشعب تونس تدعوا بالاسلام كفار الحمدلله نعمة الاسلام بلدنا الجزاير'"
      ]
     },
     "execution_count": 15,
     "metadata": {},
     "output_type": "execute_result"
    }
   ],
   "source": [
    "train['commentaire'][0] ### Originale"
   ]
  },
  {
   "cell_type": "code",
   "execution_count": null,
   "metadata": {
    "id": "qMwojEJFiiBY"
   },
   "outputs": [],
   "source": [
    "# x=train[323].lower().replace('@user','').replace('url','')\n",
    "# x=re.sub('[^A-Za-z]', ' ', x)\n",
    "# re.sub('http[s]?://(?:[a-zA-Z]|[0-9]|[$-_@.&+]|'\n",
    "#         '[!*\\(\\),]|(?:%[0-9a-fA-F][0-9a-fA-F]))+','',x)"
   ]
  },
  {
   "cell_type": "code",
   "execution_count": null,
   "metadata": {
    "id": "0KkTgzF_q4s1"
   },
   "outputs": [],
   "source": [
    "# # Creating the training corpus\n",
    "# stop_words = set(stopwords.words(\"english\")) \n",
    "# lemmatizer = WordNetLemmatizer()\n",
    "# corpus_train = []\n",
    "# for i in train:\n",
    "#     x=i.lower()\n",
    "#     x=x.replace('@user','')\n",
    "#     x=x.replace('@[\\w\\-]+','')\n",
    "#     #x=x.translate(str.maketrans('', '', string.punctuation))\n",
    "#     x = re.sub('[^A-Za-z]', ' ', x)\n",
    "#     #x=re.sub('\\s+',' ',x)\n",
    "#     x=re.sub('http[s]?://(?:[a-zA-Z]|[0-9]|[$-_@.&+]|'\n",
    "#         '[!*\\(\\),]|(?:%[0-9a-fA-F][0-9a-fA-F]))+','',x) #url\n",
    "#     #x = [lemmatizer.lemmatize(token) for token in x.split(\" \")]\n",
    "#     #x = [word for word in x if not word in stop_words]\n",
    "#     #x=\" \".join(x)\n",
    "#     corpus_train.append(x)    \n",
    "# # Creating the training corpus\n",
    "# corpus_test = []\n",
    "# for i in test:\n",
    "#     x=i.lower()\n",
    "#     x=x.replace('@user','')\n",
    "#     x=x.replace('@[\\w\\-]+','')\n",
    "#     #x=x.translate(str.maketrans('', '', string.punctuation))\n",
    "#     x = re.sub('[^A-Za-z]', ' ', x)\n",
    "#     #x=re.sub('\\s+',' ',x)\n",
    "#     x=re.sub('http[s]?://(?:[a-zA-Z]|[0-9]|[$-_@.&+]|'\n",
    "#         '[!*\\(\\),]|(?:%[0-9a-fA-F][0-9a-fA-F]))+','',x) #url\n",
    "#     #x = [lemmatizer.lemmatize(token) for token in x.split(\" \")]\n",
    "#     #x = [word for word in x if not word in stop_words]\n",
    "#     #x=\" \".join(x)\n",
    "#     corpus_test.append(x) "
   ]
  },
  {
   "cell_type": "code",
   "execution_count": null,
   "metadata": {
    "id": "GyyHvozBq7kf"
   },
   "outputs": [],
   "source": [
    "# from keras.preprocessing.text import Tokenizer\n",
    "# from keras.preprocessing import sequence\n",
    "# max_words = 5000 #frequency of words to be kept\n",
    "# max_len = 200\n",
    "# tokenize = Tokenizer(num_words=max_words)\n",
    "# tokenize.fit_on_texts(corpus_train)\n",
    "# sequences = tokenize.texts_to_sequences(corpus_train)\n",
    "# word_index = tokenize.word_index\n",
    "# sequences_matrix = sequence.pad_sequences(sequences,maxlen=max_len)"
   ]
  },
  {
   "cell_type": "code",
   "execution_count": null,
   "metadata": {
    "colab": {
     "base_uri": "https://localhost:8080/"
    },
    "id": "DUs3GSQ9e6lq",
    "outputId": "bc9b6392-a53e-494d-dfa4-58fe4f96b5fb"
   },
   "outputs": [
    {
     "data": {
      "text/plain": [
       "14667"
      ]
     },
     "execution_count": 19,
     "metadata": {},
     "output_type": "execute_result"
    }
   ],
   "source": [
    "# splitting the data into target and feature\n",
    "from sklearn.model_selection import train_test_split\n",
    "from keras.preprocessing.text import Tokenizer\n",
    "from keras.preprocessing.sequence import pad_sequences \n",
    "\n",
    "X_train, X_test, y_train, y_test = train_test_split(X_train, y_train ,test_size = 0.1, random_state=0)\n",
    "tokenizer = Tokenizer(lower=True)\n",
    "tokenizer.fit_on_texts(X_train)\n",
    "\n",
    "X_train = tokenizer.texts_to_sequences(X_train)\n",
    "X_test = tokenizer.texts_to_sequences(X_test)\n",
    "\n",
    "vocab_size = len(tokenizer.word_index) + 1 \n",
    "vocab_size # Adding 1 because of reserved 0 index"
   ]
  },
  {
   "cell_type": "code",
   "execution_count": null,
   "metadata": {
    "id": "_Ae1X0N6mtK1"
   },
   "outputs": [],
   "source": [
    "word_index = tokenizer.word_index\n"
   ]
  },
  {
   "cell_type": "code",
   "execution_count": null,
   "metadata": {
    "colab": {
     "base_uri": "https://localhost:8080/"
    },
    "id": "gm9MD9MKgew-",
    "outputId": "2ce4dc0c-5796-4ed1-e981-b964986ee762"
   },
   "outputs": [
    {
     "name": "stdout",
     "output_type": "stream",
     "text": [
      "Max len: 388\n"
     ]
    }
   ],
   "source": [
    "lens_train = [len(i) for i in X_train]\n",
    "lens_test = [len(i) for i in X_test]\n",
    "lens = lens_train + lens_test\n",
    "\n",
    "maxlen = np.max(lens)\n",
    "print('Max len:', maxlen)"
   ]
  },
  {
   "cell_type": "code",
   "execution_count": null,
   "metadata": {
    "id": "MHCkOuIlo0Bc"
   },
   "outputs": [],
   "source": [
    "# len(x.split())\n",
    "\n",
    "# lens_train = [len(i.split()) for i in list(train['commentaire'])]\n",
    "# lens_test = [len(i.split()) for i in X_test]\n",
    "# lens = lens_train + lens_test\n",
    "\n",
    "# maxlen_ = np.max(train['word_count'])\n",
    "# print('Max len:', maxlen_)\n"
   ]
  },
  {
   "cell_type": "code",
   "execution_count": null,
   "metadata": {
    "id": "sYN-06rwkCyJ"
   },
   "outputs": [],
   "source": [
    "# num_words = min(max_words, len(word_index)) + 1\n",
    "# print(num_words)"
   ]
  },
  {
   "cell_type": "code",
   "execution_count": null,
   "metadata": {
    "id": "DO1yndKJiXxl"
   },
   "outputs": [],
   "source": [
    "### AraVec embeddings\n",
    "#!wget https://bakrianoo.ewr1.vultrobjects.com/aravec/full_grams_cbow_300_twitter.zip"
   ]
  },
  {
   "cell_type": "code",
   "execution_count": null,
   "metadata": {
    "id": "N9NhnutckY-C"
   },
   "outputs": [],
   "source": [
    "### FastText Arabic embeddings\n",
    "#!wget https://dl.fbaipublicfiles.com/fasttext/vectors-crawl/cc.ar.300.vec.gz"
   ]
  },
  {
   "cell_type": "code",
   "execution_count": null,
   "metadata": {
    "id": "vNP3UOz1djK_"
   },
   "outputs": [],
   "source": [
    "### Unzip AraVec \n",
    "#!unzip /content/full_grams_cbow_300_twitter.zip"
   ]
  },
  {
   "cell_type": "code",
   "execution_count": null,
   "metadata": {
    "id": "bPzCEayqk0o0"
   },
   "outputs": [],
   "source": [
    "### Unzip FastText Arabic\n",
    "#!gzip -d /content/cc.ar.300.vec.gz"
   ]
  },
  {
   "cell_type": "code",
   "execution_count": null,
   "metadata": {
    "id": "vlMA1Qwfg0EA"
   },
   "outputs": [],
   "source": [
    "embedding_path1 = \"/content/drive/MyDrive/FastText_Aravec_Arabic_embeddings/cc.ar.300.vec\" ### FadText Arabic\n",
    "embedding_path2 = \"/content/drive/MyDrive/FastText_Aravec_Arabic_embeddings/full_grams_cbow_300_twitter.mdl.wv.vectors.npy\" ### AraVec\n",
    "embed_size = 300"
   ]
  },
  {
   "cell_type": "code",
   "execution_count": null,
   "metadata": {
    "id": "TyxVJQ45rSW3"
   },
   "outputs": [],
   "source": [
    "def get_coefs(word,*arr):\n",
    "    return word, np.asarray(arr, dtype='float32')\n",
    "\n",
    "def build_matrix(embedding_path, word_index):\n",
    "    embedding_index = dict(get_coefs(*o.strip().split(\" \")) for o in open(embedding_path))\n",
    "\n",
    "    nb_words = min(maxlen, len(word_index))\n",
    "    # embedding_matrix = np.zeros((nb_words + 1, embed_size))\n",
    "    embedding_matrix = np.zeros((vocab_size + 1, embed_size))\n",
    "    for word, i in word_index.items():\n",
    "        if i >= maxlen:\n",
    "            continue\n",
    "        embedding_vector = embedding_index.get(word)\n",
    "        if embedding_vector is not None:\n",
    "            embedding_matrix[i] = embedding_vector\n",
    "    return embedding_matrix\n"
   ]
  },
  {
   "cell_type": "code",
   "execution_count": null,
   "metadata": {
    "id": "zYUKY8LXkIoK"
   },
   "outputs": [],
   "source": [
    "fasttext_arabic_emb = build_matrix(embedding_path1, word_index)\n",
    "# aravec_emb = build_matrix(embedding_path2, word_index)"
   ]
  },
  {
   "cell_type": "code",
   "execution_count": null,
   "metadata": {
    "colab": {
     "base_uri": "https://localhost:8080/"
    },
    "id": "ujFHFjvZgbri",
    "outputId": "1a3f7bec-55dc-492b-abbc-6d08b9feb699"
   },
   "outputs": [
    {
     "data": {
      "text/plain": [
       "(14668, 300)"
      ]
     },
     "execution_count": 31,
     "metadata": {},
     "output_type": "execute_result"
    }
   ],
   "source": [
    "fasttext_arabic_emb.shape"
   ]
  },
  {
   "cell_type": "code",
   "execution_count": null,
   "metadata": {
    "id": "Tla3YBh1xpBK"
   },
   "outputs": [],
   "source": [
    "import gensim\n",
    "\n",
    "t_model = gensim.models.Word2Vec.load('/content/drive/MyDrive/FastText_Aravec_Arabic_embeddings/full_grams_cbow_300_twitter.mdl')"
   ]
  },
  {
   "cell_type": "code",
   "execution_count": null,
   "metadata": {
    "id": "VPIk72dXx4rz"
   },
   "outputs": [],
   "source": [
    "# word_vector = t_model.wv[ token ]\n",
    "\n",
    "def build_aravec_matrix(embedding_path, word_index):\n",
    "\n",
    "    nb_words = min(maxlen, len(word_index))\n",
    "    # embedding_matrix = np.zeros((nb_words + 1, embed_size))\n",
    "    embedding_matrix = np.zeros((vocab_size + 1, embed_size))\n",
    "    for word, i in word_index.items():\n",
    "        if i >= maxlen:\n",
    "            continue\n",
    "        try:\n",
    "          embedding_vector = t_model.wv[word]\n",
    "        except KeyError:\n",
    "          continue\n",
    "        if embedding_vector is not None:\n",
    "            embedding_matrix[i] = t_model.wv[word]\n",
    "    return embedding_matrix"
   ]
  },
  {
   "cell_type": "code",
   "execution_count": null,
   "metadata": {
    "id": "jPT-r20-vv3L"
   },
   "outputs": [],
   "source": [
    "aravec_emb = build_aravec_matrix(embedding_path2, word_index)"
   ]
  },
  {
   "cell_type": "code",
   "execution_count": null,
   "metadata": {
    "colab": {
     "base_uri": "https://localhost:8080/"
    },
    "id": "-GfJTGLH9GiR",
    "outputId": "b66baf18-e94c-4b44-c337-93cfeb4b86e9"
   },
   "outputs": [
    {
     "data": {
      "text/plain": [
       "(14668, 300)"
      ]
     },
     "execution_count": 35,
     "metadata": {},
     "output_type": "execute_result"
    }
   ],
   "source": [
    "aravec_emb.shape"
   ]
  },
  {
   "cell_type": "code",
   "execution_count": null,
   "metadata": {
    "colab": {
     "base_uri": "https://localhost:8080/"
    },
    "id": "ywE3rEY3AvVS",
    "outputId": "3687c1f7-3197-433e-f551-027c821b6e07"
   },
   "outputs": [
    {
     "data": {
      "text/plain": [
       "array([[ 0.        ,  0.        ,  0.        , ...,  0.        ,\n",
       "         0.        ,  0.        ],\n",
       "       [ 0.52427763, -0.17721991, -0.67358071, ..., -1.02551579,\n",
       "        -1.43612766,  0.11169961],\n",
       "       [ 0.16235431, -1.00791025, -0.86719418, ..., -0.01928542,\n",
       "        -1.11376536, -1.04606497],\n",
       "       ...,\n",
       "       [ 0.        ,  0.        ,  0.        , ...,  0.        ,\n",
       "         0.        ,  0.        ],\n",
       "       [ 0.        ,  0.        ,  0.        , ...,  0.        ,\n",
       "         0.        ,  0.        ],\n",
       "       [ 0.        ,  0.        ,  0.        , ...,  0.        ,\n",
       "         0.        ,  0.        ]])"
      ]
     },
     "execution_count": 36,
     "metadata": {},
     "output_type": "execute_result"
    }
   ],
   "source": [
    "aravec_emb"
   ]
  },
  {
   "cell_type": "markdown",
   "metadata": {
    "id": "uiArU6WLwghI"
   },
   "source": [
    "ccombinaison des deux embedding\n"
   ]
  },
  {
   "cell_type": "code",
   "execution_count": null,
   "metadata": {
    "colab": {
     "base_uri": "https://localhost:8080/"
    },
    "id": "v7uZ-HJ4ln2_",
    "outputId": "6c56c788-59bb-44b6-e2e0-6e0add0057c4"
   },
   "outputs": [
    {
     "data": {
      "text/plain": [
       "(14668, 300)"
      ]
     },
     "execution_count": 37,
     "metadata": {},
     "output_type": "execute_result"
    }
   ],
   "source": [
    "embedding_matrix2=np.mean((fasttext_arabic_emb, aravec_emb),axis=0)\n",
    "embedding_matrix2.shape"
   ]
  },
  {
   "cell_type": "code",
   "execution_count": null,
   "metadata": {
    "id": "dLnt7QKJ8WzH"
   },
   "outputs": [],
   "source": [
    "from keras.preprocessing import sequence\n",
    "\n",
    "# test_sequences = tokenize.texts_to_sequences(corpus_test)\n",
    "X_train_pad = sequence.pad_sequences(X_train, maxlen=maxlen)\n",
    "X_test_pad  = sequence.pad_sequences(X_test, maxlen=maxlen)"
   ]
  },
  {
   "cell_type": "code",
   "execution_count": null,
   "metadata": {
    "id": "EVwNl2COnOTt"
   },
   "outputs": [],
   "source": [
    "from keras import backend as K\n",
    "def f1(y_true, y_pred):\n",
    "    \n",
    "    def recall(y_true, y_pred):\n",
    "        \"\"\"Recall metric.\n",
    "\n",
    "        Only computes a batch-wise average of recall.\n",
    "\n",
    "        Computes the recall, a metric for multi-label classification of\n",
    "        how many relevant items are selected.\n",
    "        \"\"\"\n",
    "        true_positives = K.sum(K.round(K.clip(y_true * y_pred, 0, 1)))\n",
    "        possible_positives = K.sum(K.round(K.clip(y_true, 0, 1)))\n",
    "        recall = true_positives / (possible_positives + K.epsilon())\n",
    "        return recall\n",
    "\n",
    "    def precision(y_true, y_pred):\n",
    "        \"\"\"Precision metric.\n",
    "\n",
    "        Only computes a batch-wise average of precision.\n",
    "\n",
    "        Computes the precision, a metric for multi-label classification of\n",
    "        how many selected items are relevant.\n",
    "        \"\"\"\n",
    "        true_positives = K.sum(K.round(K.clip(y_true * y_pred, 0, 1)))\n",
    "        predicted_positives = K.sum(K.round(K.clip(y_pred, 0, 1)))\n",
    "        precision = true_positives / (predicted_positives + K.epsilon())\n",
    "        return precision\n",
    "    precision = precision(y_true, y_pred)\n",
    "    recall = recall(y_true, y_pred)\n",
    "    return 2*((precision*recall)/(precision+recall+K.epsilon()))"
   ]
  },
  {
   "cell_type": "code",
   "execution_count": null,
   "metadata": {
    "id": "9QwiUz7VFJPz"
   },
   "outputs": [],
   "source": [
    "callbacks = keras.callbacks.EarlyStopping(monitor='val_f1', mode='max', verbose=1,\n",
    "                                          patience=8,restore_best_weights = True)"
   ]
  },
  {
   "cell_type": "code",
   "execution_count": null,
   "metadata": {
    "id": "HkMkKWsJrzeN"
   },
   "outputs": [],
   "source": [
    "from keras.models import Sequential,Model\n",
    "from tensorflow.compat.v1.keras.layers import CuDNNGRU\n",
    "from keras.layers import Embedding,Dense,GRU\n",
    "from keras.layers import Dropout,Bidirectional,GlobalMaxPool1D,GlobalAveragePooling1D\n",
    "from keras.layers import SpatialDropout1D,concatenate,Input\n",
    "# from keras.optimizers import RMSprop\n",
    "from keras.initializers import Constant\n",
    "from sklearn.utils import class_weight\n",
    "from keras.callbacks import ModelCheckpoint\n",
    "import tensorflow as tf\n",
    "#tf.logging.set_verbosity(tf.logging.ERROR)"
   ]
  },
  {
   "cell_type": "code",
   "execution_count": null,
   "metadata": {
    "id": "Il9FI8EkTTBh"
   },
   "outputs": [],
   "source": [
    "from sklearn.metrics import classification_report\n",
    "from sklearn.metrics import confusion_matrix, f1_score, precision_score, recall_score\n",
    "import matplotlib.pyplot as plt\n",
    "import seaborn as sns"
   ]
  },
  {
   "cell_type": "code",
   "execution_count": null,
   "metadata": {
    "id": "fL-leK_jTorh"
   },
   "outputs": [],
   "source": [
    "class_weights = class_weight.compute_class_weight(class_weight='balanced', classes=np.unique(y_train), y=y_train)\n",
    "class_weights=dict(enumerate(class_weights))"
   ]
  },
  {
   "cell_type": "markdown",
   "metadata": {
    "id": "StHob8uHVS2A"
   },
   "source": [
    "# BIGRUs Model"
   ]
  },
  {
   "cell_type": "markdown",
   "metadata": {
    "id": "ZwFFlBGFR2tv"
   },
   "source": [
    "### Training a model with Aravec and Fasttext embedding"
   ]
  },
  {
   "cell_type": "code",
   "execution_count": null,
   "metadata": {
    "id": "EIRQc1aLRhHg"
   },
   "outputs": [],
   "source": [
    "inp=Input((maxlen,))\n",
    "#Embedding Layer \n",
    "x=Embedding(vocab_size + 1,embed_size,embeddings_initializer=Constant(embedding_matrix2),\n",
    "            input_length=maxlen,trainable=True)(inp)\n",
    "x = SpatialDropout1D(0.2)(x)\n",
    "#GRU Bidrirectionnel\n",
    "x=Bidirectional(GRU(150, return_sequences = True))(x)\n",
    "avg_pool = GlobalAveragePooling1D()(x)\n",
    "max_pool = GlobalMaxPool1D()(x)\n",
    "conc = concatenate([avg_pool, max_pool])\n",
    "\n",
    " \n",
    "x=Dropout(0.1)(conc)\n",
    "out=Dense(64, activation=\"relu\")(x)\n",
    "out=Dense(32, activation=\"relu\")(out)\n",
    "\n",
    "out=Dense(3, activation=\"softmax\")(out)\n",
    "\n",
    "model=Model(inp,out)\n",
    "\n",
    "mcp_save = ModelCheckpoint('model.mdl_wts.hdf5', save_best_only=True,\n",
    "                           monitor='val_loss', mode='min',patience = 5)\n",
    "\n"
   ]
  },
  {
   "cell_type": "code",
   "execution_count": null,
   "metadata": {
    "id": "hCVvlC7ARlLY"
   },
   "outputs": [],
   "source": [
    "model.compile(loss=tf.keras.losses.CategoricalCrossentropy(), optimizer=tf.keras.optimizers.Adam(), metrics=[f1])"
   ]
  },
  {
   "cell_type": "code",
   "execution_count": null,
   "metadata": {
    "colab": {
     "base_uri": "https://localhost:8080/"
    },
    "id": "LBDAzDdwRpeJ",
    "outputId": "adbf72cf-3aca-4343-c23b-02dc2744c4c3"
   },
   "outputs": [
    {
     "name": "stdout",
     "output_type": "stream",
     "text": [
      "Model: \"model\"\n",
      "__________________________________________________________________________________________________\n",
      " Layer (type)                   Output Shape         Param #     Connected to                     \n",
      "==================================================================================================\n",
      " input_1 (InputLayer)           [(None, 388)]        0           []                               \n",
      "                                                                                                  \n",
      " embedding (Embedding)          (None, 388, 300)     4400400     ['input_1[0][0]']                \n",
      "                                                                                                  \n",
      " spatial_dropout1d (SpatialDrop  (None, 388, 300)    0           ['embedding[0][0]']              \n",
      " out1D)                                                                                           \n",
      "                                                                                                  \n",
      " bidirectional (Bidirectional)  (None, 388, 300)     406800      ['spatial_dropout1d[0][0]']      \n",
      "                                                                                                  \n",
      " global_average_pooling1d (Glob  (None, 300)         0           ['bidirectional[0][0]']          \n",
      " alAveragePooling1D)                                                                              \n",
      "                                                                                                  \n",
      " global_max_pooling1d (GlobalMa  (None, 300)         0           ['bidirectional[0][0]']          \n",
      " xPooling1D)                                                                                      \n",
      "                                                                                                  \n",
      " concatenate (Concatenate)      (None, 600)          0           ['global_average_pooling1d[0][0]'\n",
      "                                                                 , 'global_max_pooling1d[0][0]']  \n",
      "                                                                                                  \n",
      " dropout (Dropout)              (None, 600)          0           ['concatenate[0][0]']            \n",
      "                                                                                                  \n",
      " dense (Dense)                  (None, 64)           38464       ['dropout[0][0]']                \n",
      "                                                                                                  \n",
      " dense_1 (Dense)                (None, 32)           2080        ['dense[0][0]']                  \n",
      "                                                                                                  \n",
      " dense_2 (Dense)                (None, 3)            99          ['dense_1[0][0]']                \n",
      "                                                                                                  \n",
      "==================================================================================================\n",
      "Total params: 4,847,843\n",
      "Trainable params: 4,847,843\n",
      "Non-trainable params: 0\n",
      "__________________________________________________________________________________________________\n"
     ]
    }
   ],
   "source": [
    "model.summary()"
   ]
  },
  {
   "cell_type": "code",
   "execution_count": null,
   "metadata": {
    "colab": {
     "base_uri": "https://localhost:8080/",
     "height": 1000
    },
    "id": "dAjMWY-nmAeL",
    "outputId": "fdf18d35-4407-4be3-ebbc-51032b8f7238"
   },
   "outputs": [
    {
     "data": {
      "image/png": "[encoded data removed]",
      "text/plain": [
       "<IPython.core.display.Image object>"
      ]
     },
     "execution_count": 47,
     "metadata": {},
     "output_type": "execute_result"
    }
   ],
   "source": [
    "tf.keras.utils.plot_model(model, show_shapes=True)"
   ]
  },
  {
   "cell_type": "code",
   "execution_count": null,
   "metadata": {
    "id": "khxVuHQQENNR"
   },
   "outputs": [],
   "source": [
    "from tensorflow.keras.utils import to_categorical\n",
    "\n",
    "y_train = to_categorical(y_train, 3)\n",
    "y_test  = to_categorical(y_test, 3)"
   ]
  },
  {
   "cell_type": "code",
   "execution_count": null,
   "metadata": {
    "colab": {
     "base_uri": "https://localhost:8080/"
    },
    "id": "SFa5d1PhR__j",
    "outputId": "d40f5733-c0c1-44f7-fdea-ee279c72cd82"
   },
   "outputs": [
    {
     "name": "stdout",
     "output_type": "stream",
     "text": [
      "Epoch 1/30\n",
      "37/37 [==============================] - 18s 289ms/step - loss: 1.0020 - f1: 0.1870 - val_loss: 0.9002 - val_f1: 0.4674\n",
      "Epoch 2/30\n",
      "37/37 [==============================] - 10s 258ms/step - loss: 0.8434 - f1: 0.5504 - val_loss: 0.9063 - val_f1: 0.5229\n",
      "Epoch 3/30\n",
      "37/37 [==============================] - 10s 259ms/step - loss: 0.6883 - f1: 0.6963 - val_loss: 0.8557 - val_f1: 0.6100\n",
      "Epoch 4/30\n",
      "37/37 [==============================] - 10s 258ms/step - loss: 0.4760 - f1: 0.8317 - val_loss: 0.7492 - val_f1: 0.7181\n",
      "Epoch 5/30\n",
      "37/37 [==============================] - 10s 258ms/step - loss: 0.2411 - f1: 0.9325 - val_loss: 0.9138 - val_f1: 0.7033\n",
      "Epoch 6/30\n",
      "37/37 [==============================] - 10s 259ms/step - loss: 0.1338 - f1: 0.9619 - val_loss: 1.0198 - val_f1: 0.7282\n",
      "Epoch 7/30\n",
      "37/37 [==============================] - 10s 259ms/step - loss: 0.0785 - f1: 0.9753 - val_loss: 1.1865 - val_f1: 0.7265\n",
      "Epoch 8/30\n",
      "37/37 [==============================] - 9s 257ms/step - loss: 0.0478 - f1: 0.9845 - val_loss: 1.2128 - val_f1: 0.7325\n",
      "Epoch 9/30\n",
      "37/37 [==============================] - 9s 257ms/step - loss: 0.0406 - f1: 0.9854 - val_loss: 1.3273 - val_f1: 0.7142\n",
      "Epoch 10/30\n",
      "37/37 [==============================] - 10s 259ms/step - loss: 0.0284 - f1: 0.9906 - val_loss: 1.3898 - val_f1: 0.7343\n",
      "Epoch 11/30\n",
      "37/37 [==============================] - 9s 257ms/step - loss: 0.0225 - f1: 0.9928 - val_loss: 1.5190 - val_f1: 0.7203\n",
      "Epoch 12/30\n",
      "37/37 [==============================] - 10s 258ms/step - loss: 0.0254 - f1: 0.9925 - val_loss: 1.4990 - val_f1: 0.7262\n",
      "Epoch 13/30\n",
      "37/37 [==============================] - 10s 258ms/step - loss: 0.0177 - f1: 0.9936 - val_loss: 1.6356 - val_f1: 0.6997\n",
      "Epoch 14/30\n",
      "37/37 [==============================] - 10s 258ms/step - loss: 0.0212 - f1: 0.9942 - val_loss: 1.6374 - val_f1: 0.7263\n",
      "Epoch 15/30\n",
      "37/37 [==============================] - 10s 258ms/step - loss: 0.0191 - f1: 0.9937 - val_loss: 1.5969 - val_f1: 0.6889\n",
      "Epoch 16/30\n",
      "37/37 [==============================] - 10s 258ms/step - loss: 0.0181 - f1: 0.9941 - val_loss: 1.5989 - val_f1: 0.7346\n",
      "Epoch 17/30\n",
      "37/37 [==============================] - 10s 258ms/step - loss: 0.0163 - f1: 0.9948 - val_loss: 1.6414 - val_f1: 0.7271\n",
      "Epoch 18/30\n",
      "37/37 [==============================] - 10s 257ms/step - loss: 0.0174 - f1: 0.9947 - val_loss: 1.5701 - val_f1: 0.7080\n",
      "Epoch 19/30\n",
      "37/37 [==============================] - 10s 257ms/step - loss: 0.0155 - f1: 0.9950 - val_loss: 1.7589 - val_f1: 0.6785\n",
      "Epoch 20/30\n",
      "37/37 [==============================] - 10s 259ms/step - loss: 0.0159 - f1: 0.9945 - val_loss: 1.6872 - val_f1: 0.7032\n",
      "Epoch 21/30\n",
      "37/37 [==============================] - 9s 257ms/step - loss: 0.0169 - f1: 0.9955 - val_loss: 1.6859 - val_f1: 0.6780\n",
      "Epoch 22/30\n",
      "37/37 [==============================] - 10s 258ms/step - loss: 0.0127 - f1: 0.9964 - val_loss: 1.6547 - val_f1: 0.7180\n",
      "Epoch 23/30\n",
      "37/37 [==============================] - 9s 257ms/step - loss: 0.0142 - f1: 0.9951 - val_loss: 1.6837 - val_f1: 0.7231\n",
      "Epoch 24/30\n",
      "37/37 [==============================] - ETA: 0s - loss: 0.0108 - f1: 0.9968Restoring model weights from the end of the best epoch: 16.\n",
      "37/37 [==============================] - 10s 260ms/step - loss: 0.0108 - f1: 0.9968 - val_loss: 1.7136 - val_f1: 0.7139\n",
      "Epoch 00024: early stopping\n"
     ]
    },
    {
     "data": {
      "text/plain": [
       "<keras.callbacks.History at 0x7f2a5e647650>"
      ]
     },
     "execution_count": 49,
     "metadata": {},
     "output_type": "execute_result"
    }
   ],
   "source": [
    "model.fit(X_train_pad, y_train, batch_size=128, epochs=30, verbose=1, class_weight=class_weights,\n",
    "          validation_split = 0.2, callbacks=[callbacks])"
   ]
  },
  {
   "cell_type": "code",
   "execution_count": null,
   "metadata": {
    "colab": {
     "base_uri": "https://localhost:8080/"
    },
    "id": "1BD-ntr8rznW",
    "outputId": "eb9765a3-a897-43e7-e277-72730ecb66dd"
   },
   "outputs": [
    {
     "name": "stdout",
     "output_type": "stream",
     "text": [
      "21/21 [==============================] - 2s 77ms/step - loss: 1.6267 - f1: 0.7135\n",
      "[1.6266769170761108, 0.7134589552879333]\n"
     ]
    }
   ],
   "source": [
    "print(model.evaluate(X_test_pad, y_test))"
   ]
  },
  {
   "cell_type": "code",
   "execution_count": null,
   "metadata": {
    "colab": {
     "base_uri": "https://localhost:8080/"
    },
    "id": "u-fKEe-4rzp4",
    "outputId": "0c2d8742-89f9-48e6-abe1-42eee85f9261"
   },
   "outputs": [
    {
     "name": "stdout",
     "output_type": "stream",
     "text": [
      "6/6 [==============================] - 1s 92ms/step\n",
      "              precision    recall  f1-score   support\n",
      "\n",
      "        Hate       0.53      0.50      0.51       155\n",
      "      Normal       0.82      0.82      0.82       371\n",
      "     Abusive       0.60      0.62      0.61       120\n",
      "\n",
      "   micro avg       0.71      0.71      0.71       646\n",
      "   macro avg       0.65      0.65      0.65       646\n",
      "weighted avg       0.71      0.71      0.71       646\n",
      " samples avg       0.71      0.71      0.71       646\n",
      "\n"
     ]
    },
    {
     "name": "stderr",
     "output_type": "stream",
     "text": [
      "/usr/local/lib/python3.7/dist-packages/sklearn/metrics/_classification.py:1308: UndefinedMetricWarning: Precision and F-score are ill-defined and being set to 0.0 in samples with no predicted labels. Use `zero_division` parameter to control this behavior.\n",
      "  _warn_prf(average, modifier, msg_start, len(result))\n"
     ]
    }
   ],
   "source": [
    "y_pred = model.predict(X_test_pad, batch_size=128, verbose=1)\n",
    "y_pred_bool = np.argmax(y_pred, axis=1)\n",
    "y_pred = (y_pred > 0.5)\n",
    "\n",
    "print(classification_report(y_test, y_pred, target_names=(['Hate','Normal','Abusive'])))\n"
   ]
  },
  {
   "cell_type": "code",
   "execution_count": null,
   "metadata": {
    "colab": {
     "base_uri": "https://localhost:8080/"
    },
    "id": "4LtnRxVRmNcl",
    "outputId": "0f37e77e-a545-45b8-c737-6eacb5010ffe"
   },
   "outputs": [
    {
     "data": {
      "text/plain": [
       "0.7071329202822069"
      ]
     },
     "execution_count": 52,
     "metadata": {},
     "output_type": "execute_result"
    }
   ],
   "source": [
    "f1_score(y_test, y_pred, average=\"weighted\")"
   ]
  },
  {
   "cell_type": "code",
   "execution_count": null,
   "metadata": {
    "id": "72QjwwRRrzsu"
   },
   "outputs": [],
   "source": [
    "from tensorflow import keras\n",
    "keras.backend.clear_session()"
   ]
  },
  {
   "cell_type": "code",
   "execution_count": null,
   "metadata": {
    "id": "4o9xT3kjyc7W"
   },
   "outputs": [],
   "source": [
    "from sklearn import metrics\n",
    "metric = metrics.accuracy_score(y_test, y_pred), metrics.f1_score(y_test, y_pred, average='weighted'), metrics.recall_score(y_test, y_pred, average='weighted'), metrics.precision_score(y_test, y_pred, average='weighted')"
   ]
  },
  {
   "cell_type": "code",
   "execution_count": null,
   "metadata": {
    "colab": {
     "base_uri": "https://localhost:8080/",
     "height": 226
    },
    "id": "czSMQdvTQZs_",
    "outputId": "79d16dd6-1846-4d58-df74-3a4a71f6b412"
   },
   "outputs": [
    {
     "data": {
      "text/plain": [
       "(0.0, 1.0)"
      ]
     },
     "execution_count": 55,
     "metadata": {},
     "output_type": "execute_result"
    },
    {
     "data": {
      "image/png": "[encoded data removed]",
      "text/plain": [
       "<Figure size 576x144 with 1 Axes>"
      ]
     },
     "metadata": {
      "needs_background": "light"
     },
     "output_type": "display_data"
    }
   ],
   "source": [
    "fig = plt.figure()\n",
    "fig.set_size_inches(8,2)\n",
    "ax = fig.add_axes([0,0,1,1])\n",
    "rect1 = ax.bar(0.00,round(metric[0], 2), color = 'b', width = 0.05)\n",
    "rect2 = ax.bar(0.20, round(metric[1], 2), color = 'g', width = 0.05)\n",
    "rect3 = ax.bar(0.40, round(metric[2], 2) , color = 'r', width = 0.05)\n",
    "rect4 = ax.bar(0.60, round(metric[3], 2) , color = (1, 0, 1), width = 0.05)\n",
    "\n",
    "ax.set_ylabel('Scores')\n",
    "ax.set_title('metrics')\n",
    "def autolabel(rects):\n",
    "  \"\"\"Attach a text label above each bar in *rects*, displaying its height.\"\"\"\n",
    "  for rect in rects:\n",
    "      height = rect.get_height()\n",
    "      ax.annotate('{}'.format(height),\n",
    "                  xy=(rect.get_x() + rect.get_width() / 2, height),\n",
    "                  xytext=(0, 3),  # 3 points vertical offset\n",
    "                  textcoords=\"offset points\",\n",
    "                  ha='center', va='bottom')\n",
    "\n",
    "autolabel(rect1)\n",
    "autolabel(rect2)\n",
    "autolabel(rect3)\n",
    "autolabel(rect4)\n",
    "ax.legend(labels=['accuracy', 'f1_score', 'recall', 'precision'],loc='best')\n",
    "plt.ylim(0, 1)"
   ]
  },
  {
   "cell_type": "markdown",
   "metadata": {
    "id": "Bpb35nPlTI1g"
   },
   "source": [
    "### Training on Fasttext Embedding Only"
   ]
  },
  {
   "cell_type": "code",
   "execution_count": null,
   "metadata": {
    "id": "ext78JdGVwvv"
   },
   "outputs": [],
   "source": [
    "keras.backend.clear_session()"
   ]
  },
  {
   "cell_type": "code",
   "execution_count": null,
   "metadata": {
    "id": "dleDGpLYU_3V"
   },
   "outputs": [],
   "source": [
    "inp=Input(shape=(maxlen, ))\n",
    "x=Embedding(vocab_size + 1,embed_size,embeddings_initializer=Constant(fasttext_arabic_emb),#Set Fasttext Embedding\n",
    "            input_length=maxlen,trainable=True)(inp)\n",
    "x = SpatialDropout1D(0.2)(x)\n",
    "x=Bidirectional(GRU(150, return_sequences = True))(x)\n",
    "avg_pool = GlobalAveragePooling1D()(x)\n",
    "max_pool = GlobalMaxPool1D()(x)\n",
    "conc = concatenate([avg_pool, max_pool])\n",
    "\n",
    "\n",
    "x=Dropout(0.1)(conc)\n",
    "out=Dense(64, activation=\"relu\")(x)\n",
    "out=Dense(32, activation=\"relu\")(x)\n",
    "\n",
    "out=Dense(3, activation=\"softmax\")(x)\n",
    "\n",
    "model_ft=Model(inp,out)\n",
    "\n",
    "mcp_save = ModelCheckpoint('model_fasttext.mdl_wts.hdf5', save_best_only=True,\n",
    "                           monitor='val_loss', mode='min',patience = 5)\n"
   ]
  },
  {
   "cell_type": "code",
   "execution_count": null,
   "metadata": {
    "id": "y8TojWn4Tijn"
   },
   "outputs": [],
   "source": [
    "model_ft.compile(loss=tf.keras.losses.CategoricalCrossentropy(), optimizer=tf.keras.optimizers.Adam(), metrics=[f1])"
   ]
  },
  {
   "cell_type": "code",
   "execution_count": null,
   "metadata": {
    "colab": {
     "base_uri": "https://localhost:8080/"
    },
    "id": "NhdxZk9cTm3X",
    "outputId": "071ee09b-825e-4c20-b9ec-357a82bbbf61"
   },
   "outputs": [
    {
     "name": "stdout",
     "output_type": "stream",
     "text": [
      "Model: \"model\"\n",
      "__________________________________________________________________________________________________\n",
      " Layer (type)                   Output Shape         Param #     Connected to                     \n",
      "==================================================================================================\n",
      " input_1 (InputLayer)           [(None, 388)]        0           []                               \n",
      "                                                                                                  \n",
      " embedding (Embedding)          (None, 388, 300)     4400400     ['input_1[0][0]']                \n",
      "                                                                                                  \n",
      " spatial_dropout1d (SpatialDrop  (None, 388, 300)    0           ['embedding[0][0]']              \n",
      " out1D)                                                                                           \n",
      "                                                                                                  \n",
      " bidirectional (Bidirectional)  (None, 388, 300)     406800      ['spatial_dropout1d[0][0]']      \n",
      "                                                                                                  \n",
      " global_average_pooling1d (Glob  (None, 300)         0           ['bidirectional[0][0]']          \n",
      " alAveragePooling1D)                                                                              \n",
      "                                                                                                  \n",
      " global_max_pooling1d (GlobalMa  (None, 300)         0           ['bidirectional[0][0]']          \n",
      " xPooling1D)                                                                                      \n",
      "                                                                                                  \n",
      " concatenate (Concatenate)      (None, 600)          0           ['global_average_pooling1d[0][0]'\n",
      "                                                                 , 'global_max_pooling1d[0][0]']  \n",
      "                                                                                                  \n",
      " dropout (Dropout)              (None, 600)          0           ['concatenate[0][0]']            \n",
      "                                                                                                  \n",
      " dense_2 (Dense)                (None, 3)            1803        ['dropout[0][0]']                \n",
      "                                                                                                  \n",
      "==================================================================================================\n",
      "Total params: 4,809,003\n",
      "Trainable params: 4,809,003\n",
      "Non-trainable params: 0\n",
      "__________________________________________________________________________________________________\n"
     ]
    }
   ],
   "source": [
    "model_ft.summary()"
   ]
  },
  {
   "cell_type": "code",
   "execution_count": null,
   "metadata": {
    "colab": {
     "base_uri": "https://localhost:8080/"
    },
    "id": "Et2g6vcQT29F",
    "outputId": "c8f4f431-0d37-4a4f-9f37-ce385bd91ab3"
   },
   "outputs": [
    {
     "name": "stdout",
     "output_type": "stream",
     "text": [
      "Epoch 1/20\n",
      "37/37 [==============================] - 14s 284ms/step - loss: 1.0240 - f1: 0.0636 - val_loss: 0.9208 - val_f1: 0.2774\n",
      "Epoch 2/20\n",
      "37/37 [==============================] - 10s 260ms/step - loss: 0.7505 - f1: 0.5796 - val_loss: 0.7197 - val_f1: 0.6861\n",
      "Epoch 3/20\n",
      "37/37 [==============================] - 10s 259ms/step - loss: 0.3786 - f1: 0.8742 - val_loss: 0.7780 - val_f1: 0.7205\n",
      "Epoch 4/20\n",
      "37/37 [==============================] - 10s 259ms/step - loss: 0.1614 - f1: 0.9512 - val_loss: 1.0139 - val_f1: 0.6944\n",
      "Epoch 5/20\n",
      "37/37 [==============================] - 10s 259ms/step - loss: 0.0839 - f1: 0.9749 - val_loss: 1.1189 - val_f1: 0.7041\n",
      "Epoch 6/20\n",
      "37/37 [==============================] - 10s 258ms/step - loss: 0.0468 - f1: 0.9858 - val_loss: 1.3025 - val_f1: 0.6964\n",
      "Epoch 7/20\n",
      "37/37 [==============================] - 10s 259ms/step - loss: 0.0332 - f1: 0.9882 - val_loss: 1.3425 - val_f1: 0.7275\n",
      "Epoch 8/20\n",
      "37/37 [==============================] - 10s 257ms/step - loss: 0.0470 - f1: 0.9884 - val_loss: 1.2280 - val_f1: 0.6884\n",
      "Epoch 9/20\n",
      "37/37 [==============================] - 10s 258ms/step - loss: 0.0328 - f1: 0.9890 - val_loss: 1.3508 - val_f1: 0.6936\n",
      "Epoch 10/20\n",
      "37/37 [==============================] - 10s 259ms/step - loss: 0.0232 - f1: 0.9924 - val_loss: 1.4709 - val_f1: 0.6941\n",
      "Epoch 11/20\n",
      "37/37 [==============================] - 10s 258ms/step - loss: 0.0212 - f1: 0.9942 - val_loss: 1.5262 - val_f1: 0.6896\n",
      "Epoch 12/20\n",
      "37/37 [==============================] - 9s 257ms/step - loss: 0.0167 - f1: 0.9954 - val_loss: 1.5794 - val_f1: 0.7116\n",
      "Epoch 13/20\n",
      "37/37 [==============================] - 9s 257ms/step - loss: 0.0123 - f1: 0.9955 - val_loss: 1.6886 - val_f1: 0.6861\n",
      "Epoch 14/20\n",
      "37/37 [==============================] - 9s 257ms/step - loss: 0.0129 - f1: 0.9955 - val_loss: 1.7022 - val_f1: 0.6995\n",
      "Epoch 15/20\n",
      "37/37 [==============================] - ETA: 0s - loss: 0.0144 - f1: 0.9952Restoring model weights from the end of the best epoch: 7.\n",
      "37/37 [==============================] - 9s 257ms/step - loss: 0.0144 - f1: 0.9952 - val_loss: 1.6946 - val_f1: 0.6919\n",
      "Epoch 00015: early stopping\n"
     ]
    },
    {
     "data": {
      "text/plain": [
       "<keras.callbacks.History at 0x7f2a5ea20ed0>"
      ]
     },
     "execution_count": 60,
     "metadata": {},
     "output_type": "execute_result"
    }
   ],
   "source": [
    "model_ft.fit(X_train_pad, \n",
    "             y_train, \n",
    "             batch_size=128,\n",
    "             epochs=20,\n",
    "             verbose=1,\n",
    "             class_weight=class_weights,\n",
    "             validation_split=0.2,\n",
    "             callbacks=[callbacks])"
   ]
  },
  {
   "cell_type": "code",
   "execution_count": null,
   "metadata": {
    "colab": {
     "base_uri": "https://localhost:8080/"
    },
    "id": "wCLLX3EAT4NO",
    "outputId": "2b120391-c5d9-4826-9aee-519eac871d07"
   },
   "outputs": [
    {
     "name": "stdout",
     "output_type": "stream",
     "text": [
      "21/21 [==============================] - 2s 73ms/step - loss: 1.4248 - f1: 0.7193\n",
      "[1.4248102903366089, 0.719340443611145]\n"
     ]
    }
   ],
   "source": [
    "print(model_ft.evaluate(X_test_pad, y_test))"
   ]
  },
  {
   "cell_type": "code",
   "execution_count": null,
   "metadata": {
    "colab": {
     "base_uri": "https://localhost:8080/"
    },
    "id": "KE9mBrlcUiTH",
    "outputId": "3301a8a5-9bad-45cd-f4db-e03a483800f9"
   },
   "outputs": [
    {
     "name": "stdout",
     "output_type": "stream",
     "text": [
      "6/6 [==============================] - 1s 86ms/step\n",
      "              precision    recall  f1-score   support\n",
      "\n",
      "        Hate       0.55      0.48      0.51       155\n",
      "      Normal       0.80      0.87      0.83       371\n",
      "     Abusive       0.58      0.51      0.54       120\n",
      "\n",
      "   micro avg       0.71      0.71      0.71       646\n",
      "   macro avg       0.64      0.62      0.63       646\n",
      "weighted avg       0.70      0.71      0.70       646\n",
      " samples avg       0.71      0.71      0.71       646\n",
      "\n"
     ]
    },
    {
     "name": "stderr",
     "output_type": "stream",
     "text": [
      "/usr/local/lib/python3.7/dist-packages/sklearn/metrics/_classification.py:1308: UndefinedMetricWarning: Precision and F-score are ill-defined and being set to 0.0 in samples with no predicted labels. Use `zero_division` parameter to control this behavior.\n",
      "  _warn_prf(average, modifier, msg_start, len(result))\n"
     ]
    }
   ],
   "source": [
    "y_pred_ft = model_ft.predict(X_test_pad, batch_size=128, verbose=1)\n",
    "y_pred_bool_ft = np.argmax(y_pred, axis=1)\n",
    "y_pred_ft = (y_pred_ft > 0.5)\n",
    "\n",
    "print(classification_report(y_test, y_pred_ft, target_names=(['Hate','Normal','Abusive'])))\n"
   ]
  },
  {
   "cell_type": "code",
   "execution_count": null,
   "metadata": {
    "id": "sXj5owf2Ut0W"
   },
   "outputs": [],
   "source": [
    "from sklearn import metrics\n",
    "metric_ft = metrics.accuracy_score(y_test, y_pred_ft), metrics.f1_score(y_test, y_pred_ft, average='weighted'), metrics.recall_score(y_test, y_pred_ft, average='weighted'), metrics.precision_score(y_test, y_pred_ft, average='weighted')"
   ]
  },
  {
   "cell_type": "code",
   "execution_count": null,
   "metadata": {
    "colab": {
     "base_uri": "https://localhost:8080/",
     "height": 226
    },
    "id": "N49Fe5YsU7NE",
    "outputId": "5d4ffd10-7cb1-4320-9b47-62f38bef553e"
   },
   "outputs": [
    {
     "data": {
      "text/plain": [
       "(0.0, 1.0)"
      ]
     },
     "execution_count": 64,
     "metadata": {},
     "output_type": "execute_result"
    },
    {
     "data": {
      "image/png": "[encoded data removed]",
      "text/plain": [
       "<Figure size 576x144 with 1 Axes>"
      ]
     },
     "metadata": {
      "needs_background": "light"
     },
     "output_type": "display_data"
    }
   ],
   "source": [
    "fig = plt.figure()\n",
    "fig.set_size_inches(8,2)\n",
    "ax = fig.add_axes([0,0,1,1])\n",
    "rect1 = ax.bar(0.00,round(metric_ft[0], 2), color = 'b', width = 0.05)\n",
    "rect2 = ax.bar(0.20, round(metric_ft[1], 2), color = 'g', width = 0.05)\n",
    "rect3 = ax.bar(0.40, round(metric_ft[2], 2) , color = 'r', width = 0.05)\n",
    "rect4 = ax.bar(0.60, round(metric_ft[3], 2) , color = (1, 0, 1), width = 0.05)\n",
    "\n",
    "ax.set_ylabel('Scores')\n",
    "ax.set_title('metrics')\n",
    "\n",
    "\n",
    "autolabel(rect1)\n",
    "autolabel(rect2)\n",
    "autolabel(rect3)\n",
    "autolabel(rect4)\n",
    "ax.legend(labels=['accuracy', 'f1_score', 'recall', 'precision'],loc='best')\n",
    "plt.ylim(0, 1)"
   ]
  },
  {
   "cell_type": "markdown",
   "metadata": {
    "id": "HiwoyTsPL1PG"
   },
   "source": [
    "### Training on Aravec Embedding Only"
   ]
  },
  {
   "cell_type": "code",
   "execution_count": null,
   "metadata": {
    "id": "vTBADyXfL1PN"
   },
   "outputs": [],
   "source": [
    "keras.backend.clear_session()"
   ]
  },
  {
   "cell_type": "code",
   "execution_count": null,
   "metadata": {
    "id": "lglZwmCfL1PO"
   },
   "outputs": [],
   "source": [
    "inp=Input(shape=(maxlen, ))\n",
    "x=Embedding(vocab_size + 1,embed_size,embeddings_initializer=Constant(aravec_emb),#Set Fasttext Embedding\n",
    "            input_length=maxlen,trainable=True)(inp)\n",
    "x = SpatialDropout1D(0.2)(x)\n",
    "x=Bidirectional(GRU(150, return_sequences = True))(x)\n",
    "avg_pool = GlobalAveragePooling1D()(x)\n",
    "max_pool = GlobalMaxPool1D()(x)\n",
    "conc = concatenate([avg_pool, max_pool])\n",
    "\n",
    "\n",
    "x=Dropout(0.1)(conc)\n",
    "out=Dense(64, activation=\"relu\")(x)\n",
    "out=Dense(32, activation=\"relu\")(x)\n",
    "\n",
    "out=Dense(3, activation=\"softmax\")(x)\n",
    "\n",
    "model_arav=Model(inp,out)\n",
    "\n",
    "mcp_save = ModelCheckpoint('model_aravec.mdl_wts.hdf5', save_best_only=True,\n",
    "                           monitor='val_loss', mode='min',patience = 5)\n"
   ]
  },
  {
   "cell_type": "code",
   "execution_count": null,
   "metadata": {
    "id": "FvKap_oBL1PO"
   },
   "outputs": [],
   "source": [
    "model_arav.compile(loss=tf.keras.losses.CategoricalCrossentropy(), optimizer=tf.keras.optimizers.Adam(), metrics=[f1])"
   ]
  },
  {
   "cell_type": "code",
   "execution_count": null,
   "metadata": {
    "colab": {
     "base_uri": "https://localhost:8080/"
    },
    "id": "5lo1wLfQL1PO",
    "outputId": "99911076-f064-4690-9f98-5d9d5e505247"
   },
   "outputs": [
    {
     "name": "stdout",
     "output_type": "stream",
     "text": [
      "Model: \"model\"\n",
      "__________________________________________________________________________________________________\n",
      " Layer (type)                   Output Shape         Param #     Connected to                     \n",
      "==================================================================================================\n",
      " input_1 (InputLayer)           [(None, 388)]        0           []                               \n",
      "                                                                                                  \n",
      " embedding (Embedding)          (None, 388, 300)     4400400     ['input_1[0][0]']                \n",
      "                                                                                                  \n",
      " spatial_dropout1d (SpatialDrop  (None, 388, 300)    0           ['embedding[0][0]']              \n",
      " out1D)                                                                                           \n",
      "                                                                                                  \n",
      " bidirectional (Bidirectional)  (None, 388, 300)     406800      ['spatial_dropout1d[0][0]']      \n",
      "                                                                                                  \n",
      " global_average_pooling1d (Glob  (None, 300)         0           ['bidirectional[0][0]']          \n",
      " alAveragePooling1D)                                                                              \n",
      "                                                                                                  \n",
      " global_max_pooling1d (GlobalMa  (None, 300)         0           ['bidirectional[0][0]']          \n",
      " xPooling1D)                                                                                      \n",
      "                                                                                                  \n",
      " concatenate (Concatenate)      (None, 600)          0           ['global_average_pooling1d[0][0]'\n",
      "                                                                 , 'global_max_pooling1d[0][0]']  \n",
      "                                                                                                  \n",
      " dropout (Dropout)              (None, 600)          0           ['concatenate[0][0]']            \n",
      "                                                                                                  \n",
      " dense_2 (Dense)                (None, 3)            1803        ['dropout[0][0]']                \n",
      "                                                                                                  \n",
      "==================================================================================================\n",
      "Total params: 4,809,003\n",
      "Trainable params: 4,809,003\n",
      "Non-trainable params: 0\n",
      "__________________________________________________________________________________________________\n"
     ]
    }
   ],
   "source": [
    "model_arav.summary()"
   ]
  },
  {
   "cell_type": "code",
   "execution_count": null,
   "metadata": {
    "colab": {
     "base_uri": "https://localhost:8080/"
    },
    "id": "2OEErZqOL1PO",
    "outputId": "c1dfb362-7d50-4358-eaa4-c32c5874ceff"
   },
   "outputs": [
    {
     "name": "stdout",
     "output_type": "stream",
     "text": [
      "Epoch 1/20\n",
      "37/37 [==============================] - 14s 285ms/step - loss: 0.9820 - f1: 0.3251 - val_loss: 0.8625 - val_f1: 0.5118\n",
      "Epoch 2/20\n",
      "37/37 [==============================] - 10s 259ms/step - loss: 0.8348 - f1: 0.5412 - val_loss: 0.8168 - val_f1: 0.6017\n",
      "Epoch 3/20\n",
      "37/37 [==============================] - 10s 259ms/step - loss: 0.7367 - f1: 0.6541 - val_loss: 0.8045 - val_f1: 0.6149\n",
      "Epoch 4/20\n",
      "37/37 [==============================] - 10s 259ms/step - loss: 0.6132 - f1: 0.7525 - val_loss: 0.7492 - val_f1: 0.6668\n",
      "Epoch 5/20\n",
      "37/37 [==============================] - 10s 259ms/step - loss: 0.4057 - f1: 0.8620 - val_loss: 0.7384 - val_f1: 0.7107\n",
      "Epoch 6/20\n",
      "37/37 [==============================] - 10s 258ms/step - loss: 0.2612 - f1: 0.9203 - val_loss: 0.7934 - val_f1: 0.7301\n",
      "Epoch 7/20\n",
      "37/37 [==============================] - 10s 258ms/step - loss: 0.1436 - f1: 0.9613 - val_loss: 0.8501 - val_f1: 0.7314\n",
      "Epoch 8/20\n",
      "37/37 [==============================] - 9s 257ms/step - loss: 0.0813 - f1: 0.9789 - val_loss: 1.0311 - val_f1: 0.7226\n",
      "Epoch 9/20\n",
      "37/37 [==============================] - 9s 257ms/step - loss: 0.0515 - f1: 0.9855 - val_loss: 1.0929 - val_f1: 0.7249\n",
      "Epoch 10/20\n",
      "37/37 [==============================] - 10s 258ms/step - loss: 0.0407 - f1: 0.9875 - val_loss: 1.1700 - val_f1: 0.7080\n",
      "Epoch 11/20\n",
      "37/37 [==============================] - 9s 257ms/step - loss: 0.0346 - f1: 0.9895 - val_loss: 1.2031 - val_f1: 0.7292\n",
      "Epoch 12/20\n",
      "37/37 [==============================] - 9s 257ms/step - loss: 0.0266 - f1: 0.9938 - val_loss: 1.2554 - val_f1: 0.7248\n",
      "Epoch 13/20\n",
      "37/37 [==============================] - 10s 258ms/step - loss: 0.0190 - f1: 0.9938 - val_loss: 1.3471 - val_f1: 0.7250\n",
      "Epoch 14/20\n",
      "37/37 [==============================] - 10s 258ms/step - loss: 0.0177 - f1: 0.9946 - val_loss: 1.4271 - val_f1: 0.7148\n",
      "Epoch 15/20\n",
      "37/37 [==============================] - ETA: 0s - loss: 0.0192 - f1: 0.9943Restoring model weights from the end of the best epoch: 7.\n",
      "37/37 [==============================] - 10s 260ms/step - loss: 0.0192 - f1: 0.9943 - val_loss: 1.3759 - val_f1: 0.7167\n",
      "Epoch 00015: early stopping\n"
     ]
    },
    {
     "data": {
      "text/plain": [
       "<keras.callbacks.History at 0x7f2a407c9e90>"
      ]
     },
     "execution_count": 69,
     "metadata": {},
     "output_type": "execute_result"
    }
   ],
   "source": [
    "model_arav.fit(X_train_pad, \n",
    "             y_train, \n",
    "             batch_size=128,\n",
    "             epochs=20,\n",
    "             verbose=1,\n",
    "             class_weight=class_weights,\n",
    "             validation_split=0.2,\n",
    "             callbacks=[callbacks])"
   ]
  },
  {
   "cell_type": "code",
   "execution_count": null,
   "metadata": {
    "colab": {
     "base_uri": "https://localhost:8080/"
    },
    "id": "wbfQt6KkL1PO",
    "outputId": "e939f78c-e8a1-4e9c-b74b-6675d6263b73"
   },
   "outputs": [
    {
     "name": "stdout",
     "output_type": "stream",
     "text": [
      "21/21 [==============================] - 2s 72ms/step - loss: 0.8530 - f1: 0.7205\n",
      "[0.85296231508255, 0.7205325365066528]\n"
     ]
    }
   ],
   "source": [
    "print(model_arav.evaluate(X_test_pad, y_test))"
   ]
  },
  {
   "cell_type": "code",
   "execution_count": null,
   "metadata": {
    "colab": {
     "base_uri": "https://localhost:8080/"
    },
    "id": "010SEUGvL1PO",
    "outputId": "36298af3-0aca-4549-b9fa-9cb830515399"
   },
   "outputs": [
    {
     "name": "stdout",
     "output_type": "stream",
     "text": [
      "6/6 [==============================] - 1s 86ms/step\n",
      "              precision    recall  f1-score   support\n",
      "\n",
      "        Hate       0.56      0.52      0.54       155\n",
      "      Normal       0.82      0.83      0.82       371\n",
      "     Abusive       0.62      0.50      0.56       120\n",
      "\n",
      "   micro avg       0.73      0.70      0.71       646\n",
      "   macro avg       0.67      0.62      0.64       646\n",
      "weighted avg       0.72      0.70      0.71       646\n",
      " samples avg       0.70      0.70      0.70       646\n",
      "\n"
     ]
    },
    {
     "name": "stderr",
     "output_type": "stream",
     "text": [
      "/usr/local/lib/python3.7/dist-packages/sklearn/metrics/_classification.py:1308: UndefinedMetricWarning: Precision and F-score are ill-defined and being set to 0.0 in samples with no predicted labels. Use `zero_division` parameter to control this behavior.\n",
      "  _warn_prf(average, modifier, msg_start, len(result))\n"
     ]
    }
   ],
   "source": [
    "y_pred_arav = model_arav.predict(X_test_pad, batch_size=128, verbose=1)\n",
    "y_pred_bool_ft = np.argmax(y_pred, axis=1)\n",
    "y_pred_arav = (y_pred_arav > 0.5)\n",
    "\n",
    "print(classification_report(y_test, y_pred_arav, target_names=(['Hate','Normal','Abusive'])))\n"
   ]
  },
  {
   "cell_type": "code",
   "execution_count": null,
   "metadata": {
    "id": "2684IryML1PO"
   },
   "outputs": [],
   "source": [
    "from sklearn import metrics\n",
    "metric_arav = metrics.accuracy_score(y_test, y_pred_arav), metrics.f1_score(y_test, y_pred_arav, average='weighted'), metrics.recall_score(y_test, y_pred_arav, average='weighted'), metrics.precision_score(y_test, y_pred_arav, average='weighted')"
   ]
  },
  {
   "cell_type": "code",
   "execution_count": null,
   "metadata": {
    "colab": {
     "base_uri": "https://localhost:8080/",
     "height": 226
    },
    "id": "a969R2UNL1PO",
    "outputId": "daa6e8d0-dc25-4958-8810-846d9c84a50a"
   },
   "outputs": [
    {
     "data": {
      "text/plain": [
       "(0.0, 1.0)"
      ]
     },
     "execution_count": 73,
     "metadata": {},
     "output_type": "execute_result"
    },
    {
     "data": {
      "image/png": "[encoded data removed]",
      "text/plain": [
       "<Figure size 576x144 with 1 Axes>"
      ]
     },
     "metadata": {
      "needs_background": "light"
     },
     "output_type": "display_data"
    }
   ],
   "source": [
    "fig = plt.figure()\n",
    "fig.set_size_inches(8,2)\n",
    "ax = fig.add_axes([0,0,1,1])\n",
    "rect1 = ax.bar(0.00,round(metric_arav[0], 2), color = 'b', width = 0.05)\n",
    "rect2 = ax.bar(0.20, round(metric_arav[1], 2), color = 'g', width = 0.05)\n",
    "rect3 = ax.bar(0.40, round(metric_arav[2], 2) , color = 'r', width = 0.05)\n",
    "rect4 = ax.bar(0.60, round(metric_arav[3], 2) , color = (1, 0, 1), width = 0.05)\n",
    "\n",
    "ax.set_ylabel('Scores')\n",
    "ax.set_title('metrics')\n",
    "\n",
    "\n",
    "autolabel(rect1)\n",
    "autolabel(rect2)\n",
    "autolabel(rect3)\n",
    "autolabel(rect4)\n",
    "ax.legend(labels=['accuracy', 'f1_score', 'recall', 'precision'],loc='best')\n",
    "plt.ylim(0, 1)"
   ]
  },
  {
   "cell_type": "markdown",
   "metadata": {
    "id": "l6ud_gVNWd4a"
   },
   "source": [
    "### Comparing the three results"
   ]
  },
  {
   "cell_type": "code",
   "execution_count": null,
   "metadata": {
    "id": "UAPfKBxEYLV5"
   },
   "outputs": [],
   "source": [
    "Data = [('Fasttext',) + metric_ft  ,\n",
    "        ('AraVec',)+ metric_arav ,\n",
    "         ('Fasttext + AraVec',)+ metric ]"
   ]
  },
  {
   "cell_type": "code",
   "execution_count": null,
   "metadata": {
    "id": "d6UM1nPKWkH6"
   },
   "outputs": [],
   "source": [
    "Results = pd.DataFrame(data =  Data , columns=['Embedding','Accuracy','F1_score','Recall','Precision'])"
   ]
  },
  {
   "cell_type": "code",
   "execution_count": null,
   "metadata": {
    "colab": {
     "base_uri": "https://localhost:8080/",
     "height": 143
    },
    "id": "lDLH9XzeXAUp",
    "outputId": "dab4942d-9023-405d-90b0-e23ac1db3bdf"
   },
   "outputs": [
    {
     "data": {
      "text/html": [
       "\n",
       "  <div id=\"df-e0008a51-ddc2-40d3-bfae-d57d00f8cb48\">\n",
       "    <div class=\"colab-df-container\">\n",
       "      <div>\n",
       "<style scoped>\n",
       "    .dataframe tbody tr th:only-of-type {\n",
       "        vertical-align: middle;\n",
       "    }\n",
       "\n",
       "    .dataframe tbody tr th {\n",
       "        vertical-align: top;\n",
       "    }\n",
       "\n",
       "    .dataframe thead th {\n",
       "        text-align: right;\n",
       "    }\n",
       "</style>\n",
       "<table border=\"1\" class=\"dataframe\">\n",
       "  <thead>\n",
       "    <tr style=\"text-align: right;\">\n",
       "      <th></th>\n",
       "      <th>Embedding</th>\n",
       "      <th>Accuracy</th>\n",
       "      <th>F1_score</th>\n",
       "      <th>Recall</th>\n",
       "      <th>Precision</th>\n",
       "    </tr>\n",
       "  </thead>\n",
       "  <tbody>\n",
       "    <tr>\n",
       "      <th>0</th>\n",
       "      <td>Fasttext</td>\n",
       "      <td>0.705882</td>\n",
       "      <td>0.700150</td>\n",
       "      <td>0.705882</td>\n",
       "      <td>0.698024</td>\n",
       "    </tr>\n",
       "    <tr>\n",
       "      <th>1</th>\n",
       "      <td>AraVec</td>\n",
       "      <td>0.695046</td>\n",
       "      <td>0.705721</td>\n",
       "      <td>0.695046</td>\n",
       "      <td>0.719326</td>\n",
       "    </tr>\n",
       "    <tr>\n",
       "      <th>2</th>\n",
       "      <td>Fasttext + AraVec</td>\n",
       "      <td>0.707430</td>\n",
       "      <td>0.707133</td>\n",
       "      <td>0.707430</td>\n",
       "      <td>0.707220</td>\n",
       "    </tr>\n",
       "  </tbody>\n",
       "</table>\n",
       "</div>\n",
       "      <button class=\"colab-df-convert\" onclick=\"convertToInteractive('df-e0008a51-ddc2-40d3-bfae-d57d00f8cb48')\"\n",
       "              title=\"Convert this dataframe to an interactive table.\"\n",
       "              style=\"display:none;\">\n",
       "        \n",
       "  <svg xmlns=\"http://www.w3.org/2000/svg\" height=\"24px\"viewBox=\"0 0 24 24\"\n",
       "       width=\"24px\">\n",
       "    <path d=\"M0 0h24v24H0V0z\" fill=\"none\"/>\n",
       "    <path d=\"M18.56 5.44l.94 2.06.94-2.06 2.06-.94-2.06-.94-.94-2.06-.94 2.06-2.06.94zm-11 1L8.5 8.5l.94-2.06 2.06-.94-2.06-.94L8.5 2.5l-.94 2.06-2.06.94zm10 10l.94 2.06.94-2.06 2.06-.94-2.06-.94-.94-2.06-.94 2.06-2.06.94z\"/><path d=\"M17.41 7.96l-1.37-1.37c-.4-.4-.92-.59-1.43-.59-.52 0-1.04.2-1.43.59L10.3 9.45l-7.72 7.72c-.78.78-.78 2.05 0 2.83L4 21.41c.39.39.9.59 1.41.59.51 0 1.02-.2 1.41-.59l7.78-7.78 2.81-2.81c.8-.78.8-2.07 0-2.86zM5.41 20L4 18.59l7.72-7.72 1.47 1.35L5.41 20z\"/>\n",
       "  </svg>\n",
       "      </button>\n",
       "      \n",
       "  <style>\n",
       "    .colab-df-container {\n",
       "      display:flex;\n",
       "      flex-wrap:wrap;\n",
       "      gap: 12px;\n",
       "    }\n",
       "\n",
       "    .colab-df-convert {\n",
       "      background-color: #E8F0FE;\n",
       "      border: none;\n",
       "      border-radius: 50%;\n",
       "      cursor: pointer;\n",
       "      display: none;\n",
       "      fill: #1967D2;\n",
       "      height: 32px;\n",
       "      padding: 0 0 0 0;\n",
       "      width: 32px;\n",
       "    }\n",
       "\n",
       "    .colab-df-convert:hover {\n",
       "      background-color: #E2EBFA;\n",
       "      box-shadow: 0px 1px 2px rgba(60, 64, 67, 0.3), 0px 1px 3px 1px rgba(60, 64, 67, 0.15);\n",
       "      fill: #174EA6;\n",
       "    }\n",
       "\n",
       "    [theme=dark] .colab-df-convert {\n",
       "      background-color: #3B4455;\n",
       "      fill: #D2E3FC;\n",
       "    }\n",
       "\n",
       "    [theme=dark] .colab-df-convert:hover {\n",
       "      background-color: #434B5C;\n",
       "      box-shadow: 0px 1px 3px 1px rgba(0, 0, 0, 0.15);\n",
       "      filter: drop-shadow(0px 1px 2px rgba(0, 0, 0, 0.3));\n",
       "      fill: #FFFFFF;\n",
       "    }\n",
       "  </style>\n",
       "\n",
       "      <script>\n",
       "        const buttonEl =\n",
       "          document.querySelector('#df-e0008a51-ddc2-40d3-bfae-d57d00f8cb48 button.colab-df-convert');\n",
       "        buttonEl.style.display =\n",
       "          google.colab.kernel.accessAllowed ? 'block' : 'none';\n",
       "\n",
       "        async function convertToInteractive(key) {\n",
       "          const element = document.querySelector('#df-e0008a51-ddc2-40d3-bfae-d57d00f8cb48');\n",
       "          const dataTable =\n",
       "            await google.colab.kernel.invokeFunction('convertToInteractive',\n",
       "                                                     [key], {});\n",
       "          if (!dataTable) return;\n",
       "\n",
       "          const docLinkHtml = 'Like what you see? Visit the ' +\n",
       "            '<a target=\"_blank\" href=https://colab.research.google.com/notebooks/data_table.ipynb>data table notebook</a>'\n",
       "            + ' to learn more about interactive tables.';\n",
       "          element.innerHTML = '';\n",
       "          dataTable['output_type'] = 'display_data';\n",
       "          await google.colab.output.renderOutput(dataTable, element);\n",
       "          const docLink = document.createElement('div');\n",
       "          docLink.innerHTML = docLinkHtml;\n",
       "          element.appendChild(docLink);\n",
       "        }\n",
       "      </script>\n",
       "    </div>\n",
       "  </div>\n",
       "  "
      ],
      "text/plain": [
       "           Embedding  Accuracy  F1_score    Recall  Precision\n",
       "0           Fasttext  0.705882  0.700150  0.705882   0.698024\n",
       "1             AraVec  0.695046  0.705721  0.695046   0.719326\n",
       "2  Fasttext + AraVec  0.707430  0.707133  0.707430   0.707220"
      ]
     },
     "execution_count": 76,
     "metadata": {},
     "output_type": "execute_result"
    }
   ],
   "source": [
    "Results"
   ]
  }
 ],
 "metadata": {
  "accelerator": "GPU",
  "colab": {
   "collapsed_sections": [],
   "name": "NLP_fasttext_Aravec-BiGRU_Embedding_TUNISIAN.ipynb",
   "provenance": []
  },
  "kernelspec": {
   "display_name": "Python 3 (ipykernel)",
   "language": "python",
   "name": "python3"
  },
  "language_info": {
   "codemirror_mode": {
    "name": "ipython",
    "version": 3
   },
   "file_extension": ".py",
   "mimetype": "text/x-python",
   "name": "python",
   "nbconvert_exporter": "python",
   "pygments_lexer": "ipython3",
   "version": "3.10.3"
  }
 },
 "nbformat": 4,
 "nbformat_minor": 1
}
