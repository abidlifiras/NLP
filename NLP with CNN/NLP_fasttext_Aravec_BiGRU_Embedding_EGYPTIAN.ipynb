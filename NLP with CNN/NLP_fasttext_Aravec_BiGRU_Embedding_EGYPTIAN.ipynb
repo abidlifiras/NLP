{
 "cells": [
  {
   "cell_type": "markdown",
   "metadata": {
    "id": "Phxed_BSSB7-"
   },
   "source": [
    "# EGYPTIAN Dataset"
   ]
  },
  {
   "cell_type": "code",
   "execution_count": null,
   "metadata": {
    "colab": {
     "base_uri": "https://localhost:8080/"
    },
    "id": "6pkvGyUqqCMG",
    "outputId": "3822bf0c-8b3c-439e-85c8-392ef46d73e6"
   },
   "outputs": [
    {
     "name": "stdout",
     "output_type": "stream",
     "text": [
      "Mounted at /content/drive\n"
     ]
    }
   ],
   "source": [
    "from google.colab import drive\n",
    "drive._mount('/content/drive')"
   ]
  },
  {
   "cell_type": "code",
   "execution_count": null,
   "metadata": {
    "colab": {
     "base_uri": "https://localhost:8080/"
    },
    "id": "fnOwTGAXpLvI",
    "outputId": "0cfbf906-8d8b-4aaa-d506-21be61300337"
   },
   "outputs": [
    {
     "name": "stdout",
     "output_type": "stream",
     "text": [
      "[nltk_data] Downloading package stopwords to /root/nltk_data...\n",
      "[nltk_data]   Unzipping corpora/stopwords.zip.\n",
      "[nltk_data] Downloading package wordnet to /root/nltk_data...\n",
      "[nltk_data]   Unzipping corpora/wordnet.zip.\n"
     ]
    },
    {
     "data": {
      "text/plain": [
       "True"
      ]
     },
     "execution_count": 2,
     "metadata": {},
     "output_type": "execute_result"
    }
   ],
   "source": [
    "from tensorflow import keras\n",
    "import numpy as np\n",
    "import re\n",
    "import nltk\n",
    "from nltk.corpus import stopwords\n",
    "import string\n",
    "import pandas as pd\n",
    "from nltk.stem import WordNetLemmatizer\n",
    "from nltk.corpus import stopwords\n",
    "nltk.download('stopwords')\n",
    "nltk.download('wordnet')"
   ]
  },
  {
   "cell_type": "code",
   "execution_count": null,
   "metadata": {
    "id": "qpYZxDnjpo32"
   },
   "outputs": [],
   "source": [
    "train=pd.read_excel('/content/drive/MyDrive/FastText_Aravec_Arabic_embeddings/D5.xlsx')\n",
    "# test=pd.read_excel('/content/drive/MyDrive/kaggle-nabil-badri/Text Classification Notebooks/BI-GRU/MyArticle-dataset-arabe/dataset1and2.xlsx')\n",
    "label=pd.read_excel('/content/drive/MyDrive/FastText_Aravec_Arabic_embeddings/D5.xlsx',header=None).iloc[:,-1]\n",
    "#OFF=0 \n",
    "#NOT=1"
   ]
  },
  {
   "cell_type": "code",
   "execution_count": null,
   "metadata": {
    "colab": {
     "base_uri": "https://localhost:8080/",
     "height": 423
    },
    "id": "NLkeXb_2qC2T",
    "outputId": "26c7d4a1-4e2f-40fb-df78-20dc33edb454"
   },
   "outputs": [
    {
     "data": {
      "text/html": [
       "\n",
       "  <div id=\"df-581b2bfb-f337-4ed3-8415-d039a51c992d\">\n",
       "    <div class=\"colab-df-container\">\n",
       "      <div>\n",
       "<style scoped>\n",
       "    .dataframe tbody tr th:only-of-type {\n",
       "        vertical-align: middle;\n",
       "    }\n",
       "\n",
       "    .dataframe tbody tr th {\n",
       "        vertical-align: top;\n",
       "    }\n",
       "\n",
       "    .dataframe thead th {\n",
       "        text-align: right;\n",
       "    }\n",
       "</style>\n",
       "<table border=\"1\" class=\"dataframe\">\n",
       "  <thead>\n",
       "    <tr style=\"text-align: right;\">\n",
       "      <th></th>\n",
       "      <th>commentaire</th>\n",
       "      <th>classe</th>\n",
       "      <th>word_count</th>\n",
       "    </tr>\n",
       "  </thead>\n",
       "  <tbody>\n",
       "    <tr>\n",
       "      <th>0</th>\n",
       "      <td>مبروك و سامحونا لعجزنا التام. عقبال اللي جوه. ...</td>\n",
       "      <td>normal</td>\n",
       "      <td>16</td>\n",
       "    </tr>\n",
       "    <tr>\n",
       "      <th>1</th>\n",
       "      <td>كلنا بره ومش هنبطل نزايد على العجايز الي جابون...</td>\n",
       "      <td>hate</td>\n",
       "      <td>10</td>\n",
       "    </tr>\n",
       "    <tr>\n",
       "      <th>2</th>\n",
       "      <td>بدل ما انت قاعد بره كده تعالي ازرع الصحرا</td>\n",
       "      <td>normal</td>\n",
       "      <td>9</td>\n",
       "    </tr>\n",
       "    <tr>\n",
       "      <th>3</th>\n",
       "      <td>قذر اتفووو ماتيجى مصر وتورينا نفسك كدا ياجبان</td>\n",
       "      <td>hate</td>\n",
       "      <td>8</td>\n",
       "    </tr>\n",
       "    <tr>\n",
       "      <th>4</th>\n",
       "      <td>وهكذا رجال الشو اللي محرومين من عمل برنامج الغ...</td>\n",
       "      <td>hate</td>\n",
       "      <td>16</td>\n",
       "    </tr>\n",
       "    <tr>\n",
       "      <th>...</th>\n",
       "      <td>...</td>\n",
       "      <td>...</td>\n",
       "      <td>...</td>\n",
       "    </tr>\n",
       "    <tr>\n",
       "      <th>1095</th>\n",
       "      <td>أستاذنا العزيز بلال فضل يحزنني أن يتم حذف حلقا...</td>\n",
       "      <td>normal</td>\n",
       "      <td>23</td>\n",
       "    </tr>\n",
       "    <tr>\n",
       "      <th>1096</th>\n",
       "      <td>،برنامج يدعو للتفكير أكيد يمنعوه لأنهم خوافون ...</td>\n",
       "      <td>normal</td>\n",
       "      <td>10</td>\n",
       "    </tr>\n",
       "    <tr>\n",
       "      <th>1097</th>\n",
       "      <td>\"#أزهى_عصور_المسخره  هل ضيعت \"شيما\" محافظ بورس...</td>\n",
       "      <td>hate</td>\n",
       "      <td>6</td>\n",
       "    </tr>\n",
       "    <tr>\n",
       "      <th>1098</th>\n",
       "      <td>الله يلعنك و يلعن اللى جابوك يا رمه جايفه</td>\n",
       "      <td>abusive</td>\n",
       "      <td>9</td>\n",
       "    </tr>\n",
       "    <tr>\n",
       "      <th>1099</th>\n",
       "      <td>أنت رجل حيوان</td>\n",
       "      <td>abusive</td>\n",
       "      <td>3</td>\n",
       "    </tr>\n",
       "  </tbody>\n",
       "</table>\n",
       "<p>1100 rows × 3 columns</p>\n",
       "</div>\n",
       "      <button class=\"colab-df-convert\" onclick=\"convertToInteractive('df-581b2bfb-f337-4ed3-8415-d039a51c992d')\"\n",
       "              title=\"Convert this dataframe to an interactive table.\"\n",
       "              style=\"display:none;\">\n",
       "        \n",
       "  <svg xmlns=\"http://www.w3.org/2000/svg\" height=\"24px\"viewBox=\"0 0 24 24\"\n",
       "       width=\"24px\">\n",
       "    <path d=\"M0 0h24v24H0V0z\" fill=\"none\"/>\n",
       "    <path d=\"M18.56 5.44l.94 2.06.94-2.06 2.06-.94-2.06-.94-.94-2.06-.94 2.06-2.06.94zm-11 1L8.5 8.5l.94-2.06 2.06-.94-2.06-.94L8.5 2.5l-.94 2.06-2.06.94zm10 10l.94 2.06.94-2.06 2.06-.94-2.06-.94-.94-2.06-.94 2.06-2.06.94z\"/><path d=\"M17.41 7.96l-1.37-1.37c-.4-.4-.92-.59-1.43-.59-.52 0-1.04.2-1.43.59L10.3 9.45l-7.72 7.72c-.78.78-.78 2.05 0 2.83L4 21.41c.39.39.9.59 1.41.59.51 0 1.02-.2 1.41-.59l7.78-7.78 2.81-2.81c.8-.78.8-2.07 0-2.86zM5.41 20L4 18.59l7.72-7.72 1.47 1.35L5.41 20z\"/>\n",
       "  </svg>\n",
       "      </button>\n",
       "      \n",
       "  <style>\n",
       "    .colab-df-container {\n",
       "      display:flex;\n",
       "      flex-wrap:wrap;\n",
       "      gap: 12px;\n",
       "    }\n",
       "\n",
       "    .colab-df-convert {\n",
       "      background-color: #E8F0FE;\n",
       "      border: none;\n",
       "      border-radius: 50%;\n",
       "      cursor: pointer;\n",
       "      display: none;\n",
       "      fill: #1967D2;\n",
       "      height: 32px;\n",
       "      padding: 0 0 0 0;\n",
       "      width: 32px;\n",
       "    }\n",
       "\n",
       "    .colab-df-convert:hover {\n",
       "      background-color: #E2EBFA;\n",
       "      box-shadow: 0px 1px 2px rgba(60, 64, 67, 0.3), 0px 1px 3px 1px rgba(60, 64, 67, 0.15);\n",
       "      fill: #174EA6;\n",
       "    }\n",
       "\n",
       "    [theme=dark] .colab-df-convert {\n",
       "      background-color: #3B4455;\n",
       "      fill: #D2E3FC;\n",
       "    }\n",
       "\n",
       "    [theme=dark] .colab-df-convert:hover {\n",
       "      background-color: #434B5C;\n",
       "      box-shadow: 0px 1px 3px 1px rgba(0, 0, 0, 0.15);\n",
       "      filter: drop-shadow(0px 1px 2px rgba(0, 0, 0, 0.3));\n",
       "      fill: #FFFFFF;\n",
       "    }\n",
       "  </style>\n",
       "\n",
       "      <script>\n",
       "        const buttonEl =\n",
       "          document.querySelector('#df-581b2bfb-f337-4ed3-8415-d039a51c992d button.colab-df-convert');\n",
       "        buttonEl.style.display =\n",
       "          google.colab.kernel.accessAllowed ? 'block' : 'none';\n",
       "\n",
       "        async function convertToInteractive(key) {\n",
       "          const element = document.querySelector('#df-581b2bfb-f337-4ed3-8415-d039a51c992d');\n",
       "          const dataTable =\n",
       "            await google.colab.kernel.invokeFunction('convertToInteractive',\n",
       "                                                     [key], {});\n",
       "          if (!dataTable) return;\n",
       "\n",
       "          const docLinkHtml = 'Like what you see? Visit the ' +\n",
       "            '<a target=\"_blank\" href=https://colab.research.google.com/notebooks/data_table.ipynb>data table notebook</a>'\n",
       "            + ' to learn more about interactive tables.';\n",
       "          element.innerHTML = '';\n",
       "          dataTable['output_type'] = 'display_data';\n",
       "          await google.colab.output.renderOutput(dataTable, element);\n",
       "          const docLink = document.createElement('div');\n",
       "          docLink.innerHTML = docLinkHtml;\n",
       "          element.appendChild(docLink);\n",
       "        }\n",
       "      </script>\n",
       "    </div>\n",
       "  </div>\n",
       "  "
      ],
      "text/plain": [
       "                                            commentaire   classe  word_count\n",
       "0     مبروك و سامحونا لعجزنا التام. عقبال اللي جوه. ...   normal          16\n",
       "1     كلنا بره ومش هنبطل نزايد على العجايز الي جابون...     hate          10\n",
       "2             بدل ما انت قاعد بره كده تعالي ازرع الصحرا   normal           9\n",
       "3         قذر اتفووو ماتيجى مصر وتورينا نفسك كدا ياجبان     hate           8\n",
       "4     وهكذا رجال الشو اللي محرومين من عمل برنامج الغ...     hate          16\n",
       "...                                                 ...      ...         ...\n",
       "1095  أستاذنا العزيز بلال فضل يحزنني أن يتم حذف حلقا...   normal          23\n",
       "1096  ،برنامج يدعو للتفكير أكيد يمنعوه لأنهم خوافون ...   normal          10\n",
       "1097  \"#أزهى_عصور_المسخره  هل ضيعت \"شيما\" محافظ بورس...     hate           6\n",
       "1098          الله يلعنك و يلعن اللى جابوك يا رمه جايفه  abusive           9\n",
       "1099                                      أنت رجل حيوان  abusive           3\n",
       "\n",
       "[1100 rows x 3 columns]"
      ]
     },
     "execution_count": 4,
     "metadata": {},
     "output_type": "execute_result"
    }
   ],
   "source": [
    "train['word_count'] = train['commentaire'].apply(lambda x : len(x.split()))\n",
    "train"
   ]
  },
  {
   "cell_type": "code",
   "execution_count": null,
   "metadata": {
    "id": "y34AftTfjFPS"
   },
   "outputs": [],
   "source": [
    "# #Encoding\n",
    "# df.label.replace({'normal':0,'abusive':1,'spam':2,'hateful':3},inplace=True)\n",
    "# df.head()"
   ]
  },
  {
   "cell_type": "code",
   "execution_count": null,
   "metadata": {
    "colab": {
     "base_uri": "https://localhost:8080/",
     "height": 81
    },
    "id": "g8D5pStLqgzi",
    "outputId": "6db50381-54c3-434e-962a-2218196d460e"
   },
   "outputs": [
    {
     "data": {
      "text/html": [
       "\n",
       "  <div id=\"df-41fb9708-3e65-4aaf-bdcd-5ebdc6e4a9e0\">\n",
       "    <div class=\"colab-df-container\">\n",
       "      <div>\n",
       "<style scoped>\n",
       "    .dataframe tbody tr th:only-of-type {\n",
       "        vertical-align: middle;\n",
       "    }\n",
       "\n",
       "    .dataframe tbody tr th {\n",
       "        vertical-align: top;\n",
       "    }\n",
       "\n",
       "    .dataframe thead th {\n",
       "        text-align: right;\n",
       "    }\n",
       "</style>\n",
       "<table border=\"1\" class=\"dataframe\">\n",
       "  <thead>\n",
       "    <tr style=\"text-align: right;\">\n",
       "      <th></th>\n",
       "      <th>commentaire</th>\n",
       "      <th>classe</th>\n",
       "      <th>word_count</th>\n",
       "    </tr>\n",
       "  </thead>\n",
       "  <tbody>\n",
       "    <tr>\n",
       "      <th>71</th>\n",
       "      <td>كلك ذوق باسم يوسف .. و متل ما كلن في صبايا هيك...</td>\n",
       "      <td>normal</td>\n",
       "      <td>30</td>\n",
       "    </tr>\n",
       "  </tbody>\n",
       "</table>\n",
       "</div>\n",
       "      <button class=\"colab-df-convert\" onclick=\"convertToInteractive('df-41fb9708-3e65-4aaf-bdcd-5ebdc6e4a9e0')\"\n",
       "              title=\"Convert this dataframe to an interactive table.\"\n",
       "              style=\"display:none;\">\n",
       "        \n",
       "  <svg xmlns=\"http://www.w3.org/2000/svg\" height=\"24px\"viewBox=\"0 0 24 24\"\n",
       "       width=\"24px\">\n",
       "    <path d=\"M0 0h24v24H0V0z\" fill=\"none\"/>\n",
       "    <path d=\"M18.56 5.44l.94 2.06.94-2.06 2.06-.94-2.06-.94-.94-2.06-.94 2.06-2.06.94zm-11 1L8.5 8.5l.94-2.06 2.06-.94-2.06-.94L8.5 2.5l-.94 2.06-2.06.94zm10 10l.94 2.06.94-2.06 2.06-.94-2.06-.94-.94-2.06-.94 2.06-2.06.94z\"/><path d=\"M17.41 7.96l-1.37-1.37c-.4-.4-.92-.59-1.43-.59-.52 0-1.04.2-1.43.59L10.3 9.45l-7.72 7.72c-.78.78-.78 2.05 0 2.83L4 21.41c.39.39.9.59 1.41.59.51 0 1.02-.2 1.41-.59l7.78-7.78 2.81-2.81c.8-.78.8-2.07 0-2.86zM5.41 20L4 18.59l7.72-7.72 1.47 1.35L5.41 20z\"/>\n",
       "  </svg>\n",
       "      </button>\n",
       "      \n",
       "  <style>\n",
       "    .colab-df-container {\n",
       "      display:flex;\n",
       "      flex-wrap:wrap;\n",
       "      gap: 12px;\n",
       "    }\n",
       "\n",
       "    .colab-df-convert {\n",
       "      background-color: #E8F0FE;\n",
       "      border: none;\n",
       "      border-radius: 50%;\n",
       "      cursor: pointer;\n",
       "      display: none;\n",
       "      fill: #1967D2;\n",
       "      height: 32px;\n",
       "      padding: 0 0 0 0;\n",
       "      width: 32px;\n",
       "    }\n",
       "\n",
       "    .colab-df-convert:hover {\n",
       "      background-color: #E2EBFA;\n",
       "      box-shadow: 0px 1px 2px rgba(60, 64, 67, 0.3), 0px 1px 3px 1px rgba(60, 64, 67, 0.15);\n",
       "      fill: #174EA6;\n",
       "    }\n",
       "\n",
       "    [theme=dark] .colab-df-convert {\n",
       "      background-color: #3B4455;\n",
       "      fill: #D2E3FC;\n",
       "    }\n",
       "\n",
       "    [theme=dark] .colab-df-convert:hover {\n",
       "      background-color: #434B5C;\n",
       "      box-shadow: 0px 1px 3px 1px rgba(0, 0, 0, 0.15);\n",
       "      filter: drop-shadow(0px 1px 2px rgba(0, 0, 0, 0.3));\n",
       "      fill: #FFFFFF;\n",
       "    }\n",
       "  </style>\n",
       "\n",
       "      <script>\n",
       "        const buttonEl =\n",
       "          document.querySelector('#df-41fb9708-3e65-4aaf-bdcd-5ebdc6e4a9e0 button.colab-df-convert');\n",
       "        buttonEl.style.display =\n",
       "          google.colab.kernel.accessAllowed ? 'block' : 'none';\n",
       "\n",
       "        async function convertToInteractive(key) {\n",
       "          const element = document.querySelector('#df-41fb9708-3e65-4aaf-bdcd-5ebdc6e4a9e0');\n",
       "          const dataTable =\n",
       "            await google.colab.kernel.invokeFunction('convertToInteractive',\n",
       "                                                     [key], {});\n",
       "          if (!dataTable) return;\n",
       "\n",
       "          const docLinkHtml = 'Like what you see? Visit the ' +\n",
       "            '<a target=\"_blank\" href=https://colab.research.google.com/notebooks/data_table.ipynb>data table notebook</a>'\n",
       "            + ' to learn more about interactive tables.';\n",
       "          element.innerHTML = '';\n",
       "          dataTable['output_type'] = 'display_data';\n",
       "          await google.colab.output.renderOutput(dataTable, element);\n",
       "          const docLink = document.createElement('div');\n",
       "          docLink.innerHTML = docLinkHtml;\n",
       "          element.appendChild(docLink);\n",
       "        }\n",
       "      </script>\n",
       "    </div>\n",
       "  </div>\n",
       "  "
      ],
      "text/plain": [
       "                                          commentaire  classe  word_count\n",
       "71  كلك ذوق باسم يوسف .. و متل ما كلن في صبايا هيك...  normal          30"
      ]
     },
     "execution_count": 6,
     "metadata": {},
     "output_type": "execute_result"
    }
   ],
   "source": [
    "train[train['word_count'] == 30]"
   ]
  },
  {
   "cell_type": "code",
   "execution_count": null,
   "metadata": {
    "colab": {
     "base_uri": "https://localhost:8080/",
     "height": 36
    },
    "id": "N2lLrbnqqsFk",
    "outputId": "d095b594-1bda-4117-99a2-aeeafd73cc20"
   },
   "outputs": [
    {
     "data": {
      "application/vnd.google.colaboratory.intrinsic+json": {
       "type": "string"
      },
      "text/plain": [
       "'قذر اتفووو ماتيجى مصر وتورينا نفسك كدا ياجبان'"
      ]
     },
     "execution_count": 7,
     "metadata": {},
     "output_type": "execute_result"
    }
   ],
   "source": [
    "train['commentaire'][3]"
   ]
  },
  {
   "cell_type": "code",
   "execution_count": null,
   "metadata": {
    "colab": {
     "base_uri": "https://localhost:8080/"
    },
    "id": "reTRftvWpUJk",
    "outputId": "9bb8ffa5-4d87-4db6-d153-66819618f929"
   },
   "outputs": [
    {
     "data": {
      "text/plain": [
       "Counter({0: 453, 1: 444, 2: 203})"
      ]
     },
     "execution_count": 8,
     "metadata": {},
     "output_type": "execute_result"
    }
   ],
   "source": [
    "y_train=train['classe']\n",
    "X_train=train['commentaire']\n",
    "#test=test['comm']\n",
    "y_train=pd.factorize(y_train)[0]\n",
    "# y_test=pd.factorize(y_test)[0]\n",
    "train['labels'] = pd.factorize(y_train)[0]\n",
    "\n",
    "import collections\n",
    "collections.Counter(y_train)\n",
    "\n",
    "#Counter({0: 4400, 1: 8840})"
   ]
  },
  {
   "cell_type": "code",
   "execution_count": null,
   "metadata": {
    "colab": {
     "base_uri": "https://localhost:8080/",
     "height": 423
    },
    "id": "gJDueK0Uh9kN",
    "outputId": "91a5379c-8dd0-40cc-e1bb-007d25d7c2a7"
   },
   "outputs": [
    {
     "data": {
      "text/html": [
       "\n",
       "  <div id=\"df-5aafa041-ee11-4c78-a457-698b86acff31\">\n",
       "    <div class=\"colab-df-container\">\n",
       "      <div>\n",
       "<style scoped>\n",
       "    .dataframe tbody tr th:only-of-type {\n",
       "        vertical-align: middle;\n",
       "    }\n",
       "\n",
       "    .dataframe tbody tr th {\n",
       "        vertical-align: top;\n",
       "    }\n",
       "\n",
       "    .dataframe thead th {\n",
       "        text-align: right;\n",
       "    }\n",
       "</style>\n",
       "<table border=\"1\" class=\"dataframe\">\n",
       "  <thead>\n",
       "    <tr style=\"text-align: right;\">\n",
       "      <th></th>\n",
       "      <th>commentaire</th>\n",
       "      <th>classe</th>\n",
       "      <th>word_count</th>\n",
       "      <th>labels</th>\n",
       "    </tr>\n",
       "  </thead>\n",
       "  <tbody>\n",
       "    <tr>\n",
       "      <th>0</th>\n",
       "      <td>مبروك و سامحونا لعجزنا التام. عقبال اللي جوه. ...</td>\n",
       "      <td>normal</td>\n",
       "      <td>16</td>\n",
       "      <td>0</td>\n",
       "    </tr>\n",
       "    <tr>\n",
       "      <th>1</th>\n",
       "      <td>كلنا بره ومش هنبطل نزايد على العجايز الي جابون...</td>\n",
       "      <td>hate</td>\n",
       "      <td>10</td>\n",
       "      <td>1</td>\n",
       "    </tr>\n",
       "    <tr>\n",
       "      <th>2</th>\n",
       "      <td>بدل ما انت قاعد بره كده تعالي ازرع الصحرا</td>\n",
       "      <td>normal</td>\n",
       "      <td>9</td>\n",
       "      <td>0</td>\n",
       "    </tr>\n",
       "    <tr>\n",
       "      <th>3</th>\n",
       "      <td>قذر اتفووو ماتيجى مصر وتورينا نفسك كدا ياجبان</td>\n",
       "      <td>hate</td>\n",
       "      <td>8</td>\n",
       "      <td>1</td>\n",
       "    </tr>\n",
       "    <tr>\n",
       "      <th>4</th>\n",
       "      <td>وهكذا رجال الشو اللي محرومين من عمل برنامج الغ...</td>\n",
       "      <td>hate</td>\n",
       "      <td>16</td>\n",
       "      <td>1</td>\n",
       "    </tr>\n",
       "    <tr>\n",
       "      <th>...</th>\n",
       "      <td>...</td>\n",
       "      <td>...</td>\n",
       "      <td>...</td>\n",
       "      <td>...</td>\n",
       "    </tr>\n",
       "    <tr>\n",
       "      <th>1095</th>\n",
       "      <td>أستاذنا العزيز بلال فضل يحزنني أن يتم حذف حلقا...</td>\n",
       "      <td>normal</td>\n",
       "      <td>23</td>\n",
       "      <td>0</td>\n",
       "    </tr>\n",
       "    <tr>\n",
       "      <th>1096</th>\n",
       "      <td>،برنامج يدعو للتفكير أكيد يمنعوه لأنهم خوافون ...</td>\n",
       "      <td>normal</td>\n",
       "      <td>10</td>\n",
       "      <td>0</td>\n",
       "    </tr>\n",
       "    <tr>\n",
       "      <th>1097</th>\n",
       "      <td>\"#أزهى_عصور_المسخره  هل ضيعت \"شيما\" محافظ بورس...</td>\n",
       "      <td>hate</td>\n",
       "      <td>6</td>\n",
       "      <td>1</td>\n",
       "    </tr>\n",
       "    <tr>\n",
       "      <th>1098</th>\n",
       "      <td>الله يلعنك و يلعن اللى جابوك يا رمه جايفه</td>\n",
       "      <td>abusive</td>\n",
       "      <td>9</td>\n",
       "      <td>2</td>\n",
       "    </tr>\n",
       "    <tr>\n",
       "      <th>1099</th>\n",
       "      <td>أنت رجل حيوان</td>\n",
       "      <td>abusive</td>\n",
       "      <td>3</td>\n",
       "      <td>2</td>\n",
       "    </tr>\n",
       "  </tbody>\n",
       "</table>\n",
       "<p>1100 rows × 4 columns</p>\n",
       "</div>\n",
       "      <button class=\"colab-df-convert\" onclick=\"convertToInteractive('df-5aafa041-ee11-4c78-a457-698b86acff31')\"\n",
       "              title=\"Convert this dataframe to an interactive table.\"\n",
       "              style=\"display:none;\">\n",
       "        \n",
       "  <svg xmlns=\"http://www.w3.org/2000/svg\" height=\"24px\"viewBox=\"0 0 24 24\"\n",
       "       width=\"24px\">\n",
       "    <path d=\"M0 0h24v24H0V0z\" fill=\"none\"/>\n",
       "    <path d=\"M18.56 5.44l.94 2.06.94-2.06 2.06-.94-2.06-.94-.94-2.06-.94 2.06-2.06.94zm-11 1L8.5 8.5l.94-2.06 2.06-.94-2.06-.94L8.5 2.5l-.94 2.06-2.06.94zm10 10l.94 2.06.94-2.06 2.06-.94-2.06-.94-.94-2.06-.94 2.06-2.06.94z\"/><path d=\"M17.41 7.96l-1.37-1.37c-.4-.4-.92-.59-1.43-.59-.52 0-1.04.2-1.43.59L10.3 9.45l-7.72 7.72c-.78.78-.78 2.05 0 2.83L4 21.41c.39.39.9.59 1.41.59.51 0 1.02-.2 1.41-.59l7.78-7.78 2.81-2.81c.8-.78.8-2.07 0-2.86zM5.41 20L4 18.59l7.72-7.72 1.47 1.35L5.41 20z\"/>\n",
       "  </svg>\n",
       "      </button>\n",
       "      \n",
       "  <style>\n",
       "    .colab-df-container {\n",
       "      display:flex;\n",
       "      flex-wrap:wrap;\n",
       "      gap: 12px;\n",
       "    }\n",
       "\n",
       "    .colab-df-convert {\n",
       "      background-color: #E8F0FE;\n",
       "      border: none;\n",
       "      border-radius: 50%;\n",
       "      cursor: pointer;\n",
       "      display: none;\n",
       "      fill: #1967D2;\n",
       "      height: 32px;\n",
       "      padding: 0 0 0 0;\n",
       "      width: 32px;\n",
       "    }\n",
       "\n",
       "    .colab-df-convert:hover {\n",
       "      background-color: #E2EBFA;\n",
       "      box-shadow: 0px 1px 2px rgba(60, 64, 67, 0.3), 0px 1px 3px 1px rgba(60, 64, 67, 0.15);\n",
       "      fill: #174EA6;\n",
       "    }\n",
       "\n",
       "    [theme=dark] .colab-df-convert {\n",
       "      background-color: #3B4455;\n",
       "      fill: #D2E3FC;\n",
       "    }\n",
       "\n",
       "    [theme=dark] .colab-df-convert:hover {\n",
       "      background-color: #434B5C;\n",
       "      box-shadow: 0px 1px 3px 1px rgba(0, 0, 0, 0.15);\n",
       "      filter: drop-shadow(0px 1px 2px rgba(0, 0, 0, 0.3));\n",
       "      fill: #FFFFFF;\n",
       "    }\n",
       "  </style>\n",
       "\n",
       "      <script>\n",
       "        const buttonEl =\n",
       "          document.querySelector('#df-5aafa041-ee11-4c78-a457-698b86acff31 button.colab-df-convert');\n",
       "        buttonEl.style.display =\n",
       "          google.colab.kernel.accessAllowed ? 'block' : 'none';\n",
       "\n",
       "        async function convertToInteractive(key) {\n",
       "          const element = document.querySelector('#df-5aafa041-ee11-4c78-a457-698b86acff31');\n",
       "          const dataTable =\n",
       "            await google.colab.kernel.invokeFunction('convertToInteractive',\n",
       "                                                     [key], {});\n",
       "          if (!dataTable) return;\n",
       "\n",
       "          const docLinkHtml = 'Like what you see? Visit the ' +\n",
       "            '<a target=\"_blank\" href=https://colab.research.google.com/notebooks/data_table.ipynb>data table notebook</a>'\n",
       "            + ' to learn more about interactive tables.';\n",
       "          element.innerHTML = '';\n",
       "          dataTable['output_type'] = 'display_data';\n",
       "          await google.colab.output.renderOutput(dataTable, element);\n",
       "          const docLink = document.createElement('div');\n",
       "          docLink.innerHTML = docLinkHtml;\n",
       "          element.appendChild(docLink);\n",
       "        }\n",
       "      </script>\n",
       "    </div>\n",
       "  </div>\n",
       "  "
      ],
      "text/plain": [
       "                                            commentaire  ... labels\n",
       "0     مبروك و سامحونا لعجزنا التام. عقبال اللي جوه. ...  ...      0\n",
       "1     كلنا بره ومش هنبطل نزايد على العجايز الي جابون...  ...      1\n",
       "2             بدل ما انت قاعد بره كده تعالي ازرع الصحرا  ...      0\n",
       "3         قذر اتفووو ماتيجى مصر وتورينا نفسك كدا ياجبان  ...      1\n",
       "4     وهكذا رجال الشو اللي محرومين من عمل برنامج الغ...  ...      1\n",
       "...                                                 ...  ...    ...\n",
       "1095  أستاذنا العزيز بلال فضل يحزنني أن يتم حذف حلقا...  ...      0\n",
       "1096  ،برنامج يدعو للتفكير أكيد يمنعوه لأنهم خوافون ...  ...      0\n",
       "1097  \"#أزهى_عصور_المسخره  هل ضيعت \"شيما\" محافظ بورس...  ...      1\n",
       "1098          الله يلعنك و يلعن اللى جابوك يا رمه جايفه  ...      2\n",
       "1099                                      أنت رجل حيوان  ...      2\n",
       "\n",
       "[1100 rows x 4 columns]"
      ]
     },
     "execution_count": 9,
     "metadata": {},
     "output_type": "execute_result"
    }
   ],
   "source": [
    "train"
   ]
  },
  {
   "cell_type": "code",
   "execution_count": null,
   "metadata": {
    "colab": {
     "base_uri": "https://localhost:8080/"
    },
    "id": "oGLoYOBGcQLC",
    "outputId": "0dc56468-4a79-4ecc-fcda-d7e8c112ae75"
   },
   "outputs": [
    {
     "name": "stdout",
     "output_type": "stream",
     "text": [
      "[nltk_data] Downloading package stopwords to /root/nltk_data...\n",
      "[nltk_data]   Package stopwords is already up-to-date!\n",
      "[nltk_data] Downloading package wordnet to /root/nltk_data...\n",
      "[nltk_data]   Package wordnet is already up-to-date!\n"
     ]
    }
   ],
   "source": [
    "import nltk\n",
    "nltk.download('stopwords')\n",
    "nltk.download('wordnet')\n",
    "from nltk.corpus import stopwords\n",
    "stopwords_list = stopwords.words('arabic')"
   ]
  },
  {
   "cell_type": "code",
   "execution_count": null,
   "metadata": {
    "id": "eTokWOWpbiMT"
   },
   "outputs": [],
   "source": [
    "#cleaning data\n",
    "import re\n",
    "from nltk.stem.porter import PorterStemmer\n",
    "tokenizer=nltk.tokenize.WhitespaceTokenizer()\n",
    "from nltk.stem.isri import ISRIStemmer\n",
    "st = ISRIStemmer()\n",
    "from snowballstemmer import stemmer\n",
    "ar_stemmer = stemmer(\"arabic\")\n",
    "def preprocess(review):\n",
    "   review = re.sub('[^ا-ي]', ' ', review)\n",
    " \n",
    "   review = tokenizer.tokenize(review)\n",
    "   review = [ar_stemmer.stemWord(word) for word in review if not word in set(stopwords_list )]\n",
    "   review = ' '.join(review)\n",
    "   return review"
   ]
  },
  {
   "cell_type": "code",
   "execution_count": null,
   "metadata": {
    "id": "0fUSTtv_b2Tj"
   },
   "outputs": [],
   "source": [
    "# X_train = train['commentaire'].apply(preprocess)\n",
    "X_train = X_train.apply(preprocess)\n"
   ]
  },
  {
   "cell_type": "code",
   "execution_count": null,
   "metadata": {
    "colab": {
     "base_uri": "https://localhost:8080/",
     "height": 36
    },
    "id": "pHWUrV9_cchK",
    "outputId": "f8aef9b0-b94a-4474-a34d-2628d7a133fc"
   },
   "outputs": [
    {
     "data": {
      "application/vnd.google.colaboratory.intrinsic+json": {
       "type": "string"
      },
      "text/plain": [
       "'مبر سامح لعجز تام عقبال الل جوه الل بره عاجز يزايد عاجز'"
      ]
     },
     "execution_count": 13,
     "metadata": {},
     "output_type": "execute_result"
    }
   ],
   "source": [
    "X_train[0] ### Après preprocessing"
   ]
  },
  {
   "cell_type": "code",
   "execution_count": null,
   "metadata": {
    "colab": {
     "base_uri": "https://localhost:8080/",
     "height": 36
    },
    "id": "TNY4hgF8dEM6",
    "outputId": "d79c1c27-84fa-4e40-cfa9-ecb0351e21c8"
   },
   "outputs": [
    {
     "data": {
      "application/vnd.google.colaboratory.intrinsic+json": {
       "type": "string"
      },
      "text/plain": [
       "'مبروك و سامحونا لعجزنا التام. عقبال اللي جوه. اللي بره يا عاجز يا بيزايد على العاجز'"
      ]
     },
     "execution_count": 14,
     "metadata": {},
     "output_type": "execute_result"
    }
   ],
   "source": [
    "train['commentaire'][0] ### Originale"
   ]
  },
  {
   "cell_type": "code",
   "execution_count": null,
   "metadata": {
    "id": "qMwojEJFiiBY"
   },
   "outputs": [],
   "source": [
    "# x=train[323].lower().replace('@user','').replace('url','')\n",
    "# x=re.sub('[^A-Za-z]', ' ', x)\n",
    "# re.sub('http[s]?://(?:[a-zA-Z]|[0-9]|[$-_@.&+]|'\n",
    "#         '[!*\\(\\),]|(?:%[0-9a-fA-F][0-9a-fA-F]))+','',x)"
   ]
  },
  {
   "cell_type": "code",
   "execution_count": null,
   "metadata": {
    "id": "0KkTgzF_q4s1"
   },
   "outputs": [],
   "source": [
    "# # Creating the training corpus\n",
    "# stop_words = set(stopwords.words(\"english\")) \n",
    "# lemmatizer = WordNetLemmatizer()\n",
    "# corpus_train = []\n",
    "# for i in train:\n",
    "#     x=i.lower()\n",
    "#     x=x.replace('@user','')\n",
    "#     x=x.replace('@[\\w\\-]+','')\n",
    "#     #x=x.translate(str.maketrans('', '', string.punctuation))\n",
    "#     x = re.sub('[^A-Za-z]', ' ', x)\n",
    "#     #x=re.sub('\\s+',' ',x)\n",
    "#     x=re.sub('http[s]?://(?:[a-zA-Z]|[0-9]|[$-_@.&+]|'\n",
    "#         '[!*\\(\\),]|(?:%[0-9a-fA-F][0-9a-fA-F]))+','',x) #url\n",
    "#     #x = [lemmatizer.lemmatize(token) for token in x.split(\" \")]\n",
    "#     #x = [word for word in x if not word in stop_words]\n",
    "#     #x=\" \".join(x)\n",
    "#     corpus_train.append(x)    \n",
    "# # Creating the training corpus\n",
    "# corpus_test = []\n",
    "# for i in test:\n",
    "#     x=i.lower()\n",
    "#     x=x.replace('@user','')\n",
    "#     x=x.replace('@[\\w\\-]+','')\n",
    "#     #x=x.translate(str.maketrans('', '', string.punctuation))\n",
    "#     x = re.sub('[^A-Za-z]', ' ', x)\n",
    "#     #x=re.sub('\\s+',' ',x)\n",
    "#     x=re.sub('http[s]?://(?:[a-zA-Z]|[0-9]|[$-_@.&+]|'\n",
    "#         '[!*\\(\\),]|(?:%[0-9a-fA-F][0-9a-fA-F]))+','',x) #url\n",
    "#     #x = [lemmatizer.lemmatize(token) for token in x.split(\" \")]\n",
    "#     #x = [word for word in x if not word in stop_words]\n",
    "#     #x=\" \".join(x)\n",
    "#     corpus_test.append(x) "
   ]
  },
  {
   "cell_type": "code",
   "execution_count": null,
   "metadata": {
    "id": "GyyHvozBq7kf"
   },
   "outputs": [],
   "source": [
    "# from keras.preprocessing.text import Tokenizer\n",
    "# from keras.preprocessing import sequence\n",
    "# max_words = 5000 #frequency of words to be kept\n",
    "# max_len = 200\n",
    "# tokenize = Tokenizer(num_words=max_words)\n",
    "# tokenize.fit_on_texts(corpus_train)\n",
    "# sequences = tokenize.texts_to_sequences(corpus_train)\n",
    "# word_index = tokenize.word_index\n",
    "# sequences_matrix = sequence.pad_sequences(sequences,maxlen=max_len)"
   ]
  },
  {
   "cell_type": "code",
   "execution_count": null,
   "metadata": {
    "colab": {
     "base_uri": "https://localhost:8080/"
    },
    "id": "DUs3GSQ9e6lq",
    "outputId": "660be445-2e52-4e8d-a442-1e2a15634d45"
   },
   "outputs": [
    {
     "data": {
      "text/plain": [
       "4510"
      ]
     },
     "execution_count": 18,
     "metadata": {},
     "output_type": "execute_result"
    }
   ],
   "source": [
    "# splitting the data into target and feature\n",
    "from sklearn.model_selection import train_test_split\n",
    "from keras.preprocessing.text import Tokenizer\n",
    "from keras.preprocessing.sequence import pad_sequences \n",
    "\n",
    "X_train, X_test, y_train, y_test = train_test_split(X_train, y_train ,test_size = 0.1, random_state=0)\n",
    "tokenizer = Tokenizer(lower=True)\n",
    "tokenizer.fit_on_texts(X_train)\n",
    "\n",
    "X_train = tokenizer.texts_to_sequences(X_train)\n",
    "X_test = tokenizer.texts_to_sequences(X_test)\n",
    "\n",
    "vocab_size = len(tokenizer.word_index) + 1 \n",
    "vocab_size # Adding 1 because of reserved 0 index"
   ]
  },
  {
   "cell_type": "code",
   "execution_count": null,
   "metadata": {
    "id": "_Ae1X0N6mtK1"
   },
   "outputs": [],
   "source": [
    "word_index = tokenizer.word_index\n"
   ]
  },
  {
   "cell_type": "code",
   "execution_count": null,
   "metadata": {
    "colab": {
     "base_uri": "https://localhost:8080/"
    },
    "id": "gm9MD9MKgew-",
    "outputId": "e418f99a-7e07-4d62-d356-698518352157"
   },
   "outputs": [
    {
     "name": "stdout",
     "output_type": "stream",
     "text": [
      "Max len: 28\n"
     ]
    }
   ],
   "source": [
    "lens_train = [len(i) for i in X_train]\n",
    "lens_test = [len(i) for i in X_test]\n",
    "lens = lens_train + lens_test\n",
    "\n",
    "maxlen = np.max(lens)\n",
    "print('Max len:', maxlen)"
   ]
  },
  {
   "cell_type": "code",
   "execution_count": null,
   "metadata": {
    "id": "MHCkOuIlo0Bc"
   },
   "outputs": [],
   "source": [
    "# len(x.split())\n",
    "\n",
    "# lens_train = [len(i.split()) for i in list(train['commentaire'])]\n",
    "# lens_test = [len(i.split()) for i in X_test]\n",
    "# lens = lens_train + lens_test\n",
    "\n",
    "# maxlen_ = np.max(train['word_count'])\n",
    "# print('Max len:', maxlen_)\n"
   ]
  },
  {
   "cell_type": "code",
   "execution_count": null,
   "metadata": {
    "id": "sYN-06rwkCyJ"
   },
   "outputs": [],
   "source": [
    "# num_words = min(max_words, len(word_index)) + 1\n",
    "# print(num_words)"
   ]
  },
  {
   "cell_type": "code",
   "execution_count": null,
   "metadata": {
    "id": "DO1yndKJiXxl"
   },
   "outputs": [],
   "source": [
    "### AraVec embeddings\n",
    "#!wget https://bakrianoo.ewr1.vultrobjects.com/aravec/full_grams_cbow_300_twitter.zip"
   ]
  },
  {
   "cell_type": "code",
   "execution_count": null,
   "metadata": {
    "id": "N9NhnutckY-C"
   },
   "outputs": [],
   "source": [
    "### FastText Arabic embeddings\n",
    "##!wget https://dl.fbaipublicfiles.com/fasttext/vectors-crawl/cc.ar.300.vec.gz"
   ]
  },
  {
   "cell_type": "code",
   "execution_count": null,
   "metadata": {
    "id": "vNP3UOz1djK_"
   },
   "outputs": [],
   "source": [
    "### Unzip AraVec \n",
    "#!unzip /content/full_grams_cbow_300_twitter.zip"
   ]
  },
  {
   "cell_type": "code",
   "execution_count": null,
   "metadata": {
    "id": "bPzCEayqk0o0"
   },
   "outputs": [],
   "source": [
    "### Unzip FastText Arabic\n",
    "#!gzip -d /content/cc.ar.300.vec.gz"
   ]
  },
  {
   "cell_type": "code",
   "execution_count": null,
   "metadata": {
    "id": "vlMA1Qwfg0EA"
   },
   "outputs": [],
   "source": [
    "embedding_path1 = \"/content/drive/MyDrive/FastText_Aravec_Arabic_embeddings/cc.ar.300.vec\" ### FadText Arabic\n",
    "embedding_path2 = \"/content/drive/MyDrive/FastText_Aravec_Arabic_embeddings/full_grams_cbow_300_twitter.mdl.wv.vectors.npy\" ### AraVec\n",
    "embed_size = 300"
   ]
  },
  {
   "cell_type": "code",
   "execution_count": null,
   "metadata": {
    "id": "TyxVJQ45rSW3"
   },
   "outputs": [],
   "source": [
    "def get_coefs(word,*arr):\n",
    "    return word, np.asarray(arr, dtype='float32')\n",
    "\n",
    "def build_matrix(embedding_path, word_index):\n",
    "    embedding_index = dict(get_coefs(*o.strip().split(\" \")) for o in open(embedding_path))\n",
    "\n",
    "    nb_words = min(maxlen, len(word_index))\n",
    "    # embedding_matrix = np.zeros((nb_words + 1, embed_size))\n",
    "    embedding_matrix = np.zeros((vocab_size + 1, embed_size))\n",
    "    for word, i in word_index.items():\n",
    "        if i >= maxlen:\n",
    "            continue\n",
    "        embedding_vector = embedding_index.get(word)\n",
    "        if embedding_vector is not None:\n",
    "            embedding_matrix[i] = embedding_vector\n",
    "    return embedding_matrix\n"
   ]
  },
  {
   "cell_type": "code",
   "execution_count": null,
   "metadata": {
    "id": "zYUKY8LXkIoK"
   },
   "outputs": [],
   "source": [
    "fasttext_arabic_emb = build_matrix(embedding_path1, word_index)\n",
    "# aravec_emb = build_matrix(embedding_path2, word_index)"
   ]
  },
  {
   "cell_type": "code",
   "execution_count": null,
   "metadata": {
    "colab": {
     "base_uri": "https://localhost:8080/"
    },
    "id": "ujFHFjvZgbri",
    "outputId": "b82d1f51-356c-4a66-efad-81e93149ef62"
   },
   "outputs": [
    {
     "data": {
      "text/plain": [
       "(4511, 300)"
      ]
     },
     "execution_count": 30,
     "metadata": {},
     "output_type": "execute_result"
    }
   ],
   "source": [
    "fasttext_arabic_emb.shape"
   ]
  },
  {
   "cell_type": "code",
   "execution_count": null,
   "metadata": {
    "id": "Tla3YBh1xpBK"
   },
   "outputs": [],
   "source": [
    "import gensim\n",
    "\n",
    "t_model = gensim.models.Word2Vec.load('/content/drive/MyDrive/FastText_Aravec_Arabic_embeddings/full_grams_cbow_300_twitter.mdl')"
   ]
  },
  {
   "cell_type": "code",
   "execution_count": null,
   "metadata": {
    "id": "VPIk72dXx4rz"
   },
   "outputs": [],
   "source": [
    "# word_vector = t_model.wv[ token ]\n",
    "\n",
    "def build_aravec_matrix(embedding_path, word_index):\n",
    "\n",
    "    nb_words = min(maxlen, len(word_index))\n",
    "    # embedding_matrix = np.zeros((nb_words + 1, embed_size))\n",
    "    embedding_matrix = np.zeros((vocab_size + 1, embed_size))\n",
    "    for word, i in word_index.items():\n",
    "        if i >= maxlen:\n",
    "            continue\n",
    "        try:\n",
    "          embedding_vector = t_model.wv[word]\n",
    "        except KeyError:\n",
    "          continue\n",
    "        if embedding_vector is not None:\n",
    "            embedding_matrix[i] = t_model.wv[word]\n",
    "    return embedding_matrix"
   ]
  },
  {
   "cell_type": "code",
   "execution_count": null,
   "metadata": {
    "id": "jPT-r20-vv3L"
   },
   "outputs": [],
   "source": [
    "aravec_emb = build_aravec_matrix(embedding_path2, word_index)"
   ]
  },
  {
   "cell_type": "code",
   "execution_count": null,
   "metadata": {
    "colab": {
     "base_uri": "https://localhost:8080/"
    },
    "id": "-GfJTGLH9GiR",
    "outputId": "4588ae77-79e9-4d81-bb25-dd16499d57e3"
   },
   "outputs": [
    {
     "data": {
      "text/plain": [
       "(4511, 300)"
      ]
     },
     "execution_count": 34,
     "metadata": {},
     "output_type": "execute_result"
    }
   ],
   "source": [
    "aravec_emb.shape"
   ]
  },
  {
   "cell_type": "code",
   "execution_count": null,
   "metadata": {
    "colab": {
     "base_uri": "https://localhost:8080/"
    },
    "id": "ywE3rEY3AvVS",
    "outputId": "20567ded-0307-4580-d869-a298831d43a4"
   },
   "outputs": [
    {
     "data": {
      "text/plain": [
       "array([[ 0.        ,  0.        ,  0.        , ...,  0.        ,\n",
       "         0.        ,  0.        ],\n",
       "       [ 0.68396038,  0.08568496, -1.49492538, ...,  1.19202554,\n",
       "         0.93092334, -0.21510941],\n",
       "       [ 0.16235431, -1.00791025, -0.86719418, ..., -0.01928542,\n",
       "        -1.11376536, -1.04606497],\n",
       "       ...,\n",
       "       [ 0.        ,  0.        ,  0.        , ...,  0.        ,\n",
       "         0.        ,  0.        ],\n",
       "       [ 0.        ,  0.        ,  0.        , ...,  0.        ,\n",
       "         0.        ,  0.        ],\n",
       "       [ 0.        ,  0.        ,  0.        , ...,  0.        ,\n",
       "         0.        ,  0.        ]])"
      ]
     },
     "execution_count": 35,
     "metadata": {},
     "output_type": "execute_result"
    }
   ],
   "source": [
    "aravec_emb"
   ]
  },
  {
   "cell_type": "markdown",
   "metadata": {
    "id": "uiArU6WLwghI"
   },
   "source": [
    "ccombinaison des deux embedding\n"
   ]
  },
  {
   "cell_type": "code",
   "execution_count": null,
   "metadata": {
    "colab": {
     "base_uri": "https://localhost:8080/"
    },
    "id": "v7uZ-HJ4ln2_",
    "outputId": "25b383cf-1d82-421e-dc21-7f3fe33aa8fb"
   },
   "outputs": [
    {
     "data": {
      "text/plain": [
       "(4511, 300)"
      ]
     },
     "execution_count": 36,
     "metadata": {},
     "output_type": "execute_result"
    }
   ],
   "source": [
    "embedding_matrix2=np.mean((fasttext_arabic_emb, aravec_emb),axis=0)\n",
    "embedding_matrix2.shape"
   ]
  },
  {
   "cell_type": "code",
   "execution_count": null,
   "metadata": {
    "id": "dLnt7QKJ8WzH"
   },
   "outputs": [],
   "source": [
    "from keras.preprocessing import sequence\n",
    "\n",
    "# test_sequences = tokenize.texts_to_sequences(corpus_test)\n",
    "X_train_pad = sequence.pad_sequences(X_train, maxlen=maxlen)\n",
    "X_test_pad  = sequence.pad_sequences(X_test, maxlen=maxlen)"
   ]
  },
  {
   "cell_type": "code",
   "execution_count": null,
   "metadata": {
    "id": "EVwNl2COnOTt"
   },
   "outputs": [],
   "source": [
    "from keras import backend as K\n",
    "def f1(y_true, y_pred):\n",
    "    \n",
    "    def recall(y_true, y_pred):\n",
    "        \"\"\"Recall metric.\n",
    "\n",
    "        Only computes a batch-wise average of recall.\n",
    "\n",
    "        Computes the recall, a metric for multi-label classification of\n",
    "        how many relevant items are selected.\n",
    "        \"\"\"\n",
    "        true_positives = K.sum(K.round(K.clip(y_true * y_pred, 0, 1)))\n",
    "        possible_positives = K.sum(K.round(K.clip(y_true, 0, 1)))\n",
    "        recall = true_positives / (possible_positives + K.epsilon())\n",
    "        return recall\n",
    "\n",
    "    def precision(y_true, y_pred):\n",
    "        \"\"\"Precision metric.\n",
    "\n",
    "        Only computes a batch-wise average of precision.\n",
    "\n",
    "        Computes the precision, a metric for multi-label classification of\n",
    "        how many selected items are relevant.\n",
    "        \"\"\"\n",
    "        true_positives = K.sum(K.round(K.clip(y_true * y_pred, 0, 1)))\n",
    "        predicted_positives = K.sum(K.round(K.clip(y_pred, 0, 1)))\n",
    "        precision = true_positives / (predicted_positives + K.epsilon())\n",
    "        return precision\n",
    "    precision = precision(y_true, y_pred)\n",
    "    recall = recall(y_true, y_pred)\n",
    "    return 2*((precision*recall)/(precision+recall+K.epsilon()))"
   ]
  },
  {
   "cell_type": "code",
   "execution_count": null,
   "metadata": {
    "id": "9QwiUz7VFJPz"
   },
   "outputs": [],
   "source": [
    "callbacks = keras.callbacks.EarlyStopping(monitor='val_f1', mode='max', verbose=1,\n",
    "                                          patience=8,restore_best_weights = True)"
   ]
  },
  {
   "cell_type": "code",
   "execution_count": null,
   "metadata": {
    "id": "HkMkKWsJrzeN"
   },
   "outputs": [],
   "source": [
    "from keras.models import Sequential,Model\n",
    "from tensorflow.compat.v1.keras.layers import CuDNNGRU\n",
    "from keras.layers import Embedding,Dense,GRU\n",
    "from keras.layers import Dropout,Bidirectional,GlobalMaxPool1D,GlobalAveragePooling1D\n",
    "from keras.layers import SpatialDropout1D,concatenate,Input\n",
    "# from keras.optimizers import RMSprop\n",
    "from keras.initializers import Constant\n",
    "from sklearn.utils import class_weight\n",
    "from keras.callbacks import ModelCheckpoint\n",
    "import tensorflow as tf\n",
    "#tf.logging.set_verbosity(tf.logging.ERROR)"
   ]
  },
  {
   "cell_type": "code",
   "execution_count": null,
   "metadata": {
    "id": "Il9FI8EkTTBh"
   },
   "outputs": [],
   "source": [
    "from sklearn.metrics import classification_report\n",
    "from sklearn.metrics import confusion_matrix, f1_score, precision_score, recall_score\n",
    "import matplotlib.pyplot as plt\n",
    "import seaborn as sns"
   ]
  },
  {
   "cell_type": "code",
   "execution_count": null,
   "metadata": {
    "id": "fL-leK_jTorh"
   },
   "outputs": [],
   "source": [
    "class_weights = class_weight.compute_class_weight(class_weight='balanced', classes=np.unique(y_train), y=y_train)\n",
    "class_weights=dict(enumerate(class_weights))"
   ]
  },
  {
   "cell_type": "markdown",
   "metadata": {
    "id": "StHob8uHVS2A"
   },
   "source": [
    "# BIGRUs Model"
   ]
  },
  {
   "cell_type": "markdown",
   "metadata": {
    "id": "ZwFFlBGFR2tv"
   },
   "source": [
    "### Training a model with Aravec and Fasttext embedding"
   ]
  },
  {
   "cell_type": "code",
   "execution_count": null,
   "metadata": {
    "id": "EIRQc1aLRhHg"
   },
   "outputs": [],
   "source": [
    "inp=Input((maxlen,))\n",
    "#Embedding Layer \n",
    "x=Embedding(vocab_size + 1,embed_size,embeddings_initializer=Constant(embedding_matrix2),\n",
    "            input_length=maxlen,trainable=True)(inp)\n",
    "x = SpatialDropout1D(0.2)(x)\n",
    "#GRU Bidrirectionnel\n",
    "x=Bidirectional(GRU(150, return_sequences = True))(x)\n",
    "avg_pool = GlobalAveragePooling1D()(x)\n",
    "max_pool = GlobalMaxPool1D()(x)\n",
    "conc = concatenate([avg_pool, max_pool])\n",
    "\n",
    " \n",
    "x=Dropout(0.1)(conc)\n",
    "out=Dense(64, activation=\"relu\")(x)\n",
    "out=Dense(32, activation=\"relu\")(out)\n",
    "\n",
    "out=Dense(3, activation=\"softmax\")(out)\n",
    "\n",
    "model=Model(inp,out)\n",
    "\n",
    "mcp_save = ModelCheckpoint('model.mdl_wts.hdf5', save_best_only=True,\n",
    "                           monitor='val_loss', mode='min',patience = 5)\n",
    "\n"
   ]
  },
  {
   "cell_type": "code",
   "execution_count": null,
   "metadata": {
    "id": "hCVvlC7ARlLY"
   },
   "outputs": [],
   "source": [
    "model.compile(loss=tf.keras.losses.CategoricalCrossentropy(), optimizer=tf.keras.optimizers.Adam(), metrics=[f1])"
   ]
  },
  {
   "cell_type": "code",
   "execution_count": null,
   "metadata": {
    "colab": {
     "base_uri": "https://localhost:8080/"
    },
    "id": "LBDAzDdwRpeJ",
    "outputId": "1b0a7c34-cd63-4012-ac21-375f22dae58a"
   },
   "outputs": [
    {
     "name": "stdout",
     "output_type": "stream",
     "text": [
      "Model: \"model\"\n",
      "__________________________________________________________________________________________________\n",
      " Layer (type)                   Output Shape         Param #     Connected to                     \n",
      "==================================================================================================\n",
      " input_1 (InputLayer)           [(None, 28)]         0           []                               \n",
      "                                                                                                  \n",
      " embedding (Embedding)          (None, 28, 300)      1353300     ['input_1[0][0]']                \n",
      "                                                                                                  \n",
      " spatial_dropout1d (SpatialDrop  (None, 28, 300)     0           ['embedding[0][0]']              \n",
      " out1D)                                                                                           \n",
      "                                                                                                  \n",
      " bidirectional (Bidirectional)  (None, 28, 300)      406800      ['spatial_dropout1d[0][0]']      \n",
      "                                                                                                  \n",
      " global_average_pooling1d (Glob  (None, 300)         0           ['bidirectional[0][0]']          \n",
      " alAveragePooling1D)                                                                              \n",
      "                                                                                                  \n",
      " global_max_pooling1d (GlobalMa  (None, 300)         0           ['bidirectional[0][0]']          \n",
      " xPooling1D)                                                                                      \n",
      "                                                                                                  \n",
      " concatenate (Concatenate)      (None, 600)          0           ['global_average_pooling1d[0][0]'\n",
      "                                                                 , 'global_max_pooling1d[0][0]']  \n",
      "                                                                                                  \n",
      " dropout (Dropout)              (None, 600)          0           ['concatenate[0][0]']            \n",
      "                                                                                                  \n",
      " dense (Dense)                  (None, 64)           38464       ['dropout[0][0]']                \n",
      "                                                                                                  \n",
      " dense_1 (Dense)                (None, 32)           2080        ['dense[0][0]']                  \n",
      "                                                                                                  \n",
      " dense_2 (Dense)                (None, 3)            99          ['dense_1[0][0]']                \n",
      "                                                                                                  \n",
      "==================================================================================================\n",
      "Total params: 1,800,743\n",
      "Trainable params: 1,800,743\n",
      "Non-trainable params: 0\n",
      "__________________________________________________________________________________________________\n"
     ]
    }
   ],
   "source": [
    "model.summary()"
   ]
  },
  {
   "cell_type": "code",
   "execution_count": null,
   "metadata": {
    "colab": {
     "base_uri": "https://localhost:8080/",
     "height": 1000
    },
    "id": "dAjMWY-nmAeL",
    "outputId": "4e85ca21-8ed5-410f-eec1-5c05fd0851be"
   },
   "outputs": [
    {
     "data": {
      "image/png": "[encoded data removed]",
      "text/plain": [
       "<IPython.core.display.Image object>"
      ]
     },
     "execution_count": 46,
     "metadata": {},
     "output_type": "execute_result"
    }
   ],
   "source": [
    "tf.keras.utils.plot_model(model, show_shapes=True)"
   ]
  },
  {
   "cell_type": "code",
   "execution_count": null,
   "metadata": {
    "id": "khxVuHQQENNR"
   },
   "outputs": [],
   "source": [
    "from tensorflow.keras.utils import to_categorical\n",
    "\n",
    "y_train = to_categorical(y_train, 3)\n",
    "y_test  = to_categorical(y_test, 3)"
   ]
  },
  {
   "cell_type": "code",
   "execution_count": null,
   "metadata": {
    "colab": {
     "base_uri": "https://localhost:8080/"
    },
    "id": "SFa5d1PhR__j",
    "outputId": "1f2060ae-5701-491e-ad3f-593c10167e93"
   },
   "outputs": [
    {
     "name": "stdout",
     "output_type": "stream",
     "text": [
      "Epoch 1/30\n",
      "7/7 [==============================] - 10s 238ms/step - loss: 1.0994 - f1: 0.0000e+00 - val_loss: 1.0808 - val_f1: 0.0000e+00\n",
      "Epoch 2/30\n",
      "7/7 [==============================] - 0s 45ms/step - loss: 1.0686 - f1: 0.0151 - val_loss: 1.0750 - val_f1: 0.0442\n",
      "Epoch 3/30\n",
      "7/7 [==============================] - 0s 43ms/step - loss: 1.0335 - f1: 0.1221 - val_loss: 1.0857 - val_f1: 0.1024\n",
      "Epoch 4/30\n",
      "7/7 [==============================] - 0s 44ms/step - loss: 1.0075 - f1: 0.1481 - val_loss: 1.0549 - val_f1: 0.2038\n",
      "Epoch 5/30\n",
      "7/7 [==============================] - 0s 42ms/step - loss: 0.9732 - f1: 0.3038 - val_loss: 1.0635 - val_f1: 0.2054\n",
      "Epoch 6/30\n",
      "7/7 [==============================] - 0s 42ms/step - loss: 0.9297 - f1: 0.3550 - val_loss: 1.0766 - val_f1: 0.3173\n",
      "Epoch 7/30\n",
      "7/7 [==============================] - 0s 42ms/step - loss: 0.8486 - f1: 0.4211 - val_loss: 1.1070 - val_f1: 0.3223\n",
      "Epoch 8/30\n",
      "7/7 [==============================] - 0s 43ms/step - loss: 0.6968 - f1: 0.6551 - val_loss: 1.2104 - val_f1: 0.3733\n",
      "Epoch 9/30\n",
      "7/7 [==============================] - 0s 42ms/step - loss: 0.4666 - f1: 0.8120 - val_loss: 1.3804 - val_f1: 0.4920\n",
      "Epoch 10/30\n",
      "7/7 [==============================] - 0s 40ms/step - loss: 0.2839 - f1: 0.9022 - val_loss: 1.2402 - val_f1: 0.5777\n",
      "Epoch 11/30\n",
      "7/7 [==============================] - 0s 42ms/step - loss: 0.1940 - f1: 0.9269 - val_loss: 1.1864 - val_f1: 0.5682\n",
      "Epoch 12/30\n",
      "7/7 [==============================] - 0s 42ms/step - loss: 0.0902 - f1: 0.9782 - val_loss: 1.5016 - val_f1: 0.5456\n",
      "Epoch 13/30\n",
      "7/7 [==============================] - 0s 37ms/step - loss: 0.0374 - f1: 0.9851 - val_loss: 1.7480 - val_f1: 0.5629\n",
      "Epoch 14/30\n",
      "7/7 [==============================] - 0s 38ms/step - loss: 0.0160 - f1: 0.9925 - val_loss: 2.1582 - val_f1: 0.5093\n",
      "Epoch 15/30\n",
      "7/7 [==============================] - 0s 41ms/step - loss: 0.0178 - f1: 0.9955 - val_loss: 2.1026 - val_f1: 0.5871\n",
      "Epoch 16/30\n",
      "7/7 [==============================] - 0s 38ms/step - loss: 0.0130 - f1: 0.9961 - val_loss: 2.4334 - val_f1: 0.5048\n",
      "Epoch 17/30\n",
      "7/7 [==============================] - 0s 39ms/step - loss: 0.0187 - f1: 0.9944 - val_loss: 2.4372 - val_f1: 0.5344\n",
      "Epoch 18/30\n",
      "7/7 [==============================] - 0s 39ms/step - loss: 0.0048 - f1: 0.9989 - val_loss: 2.3559 - val_f1: 0.5434\n",
      "Epoch 19/30\n",
      "7/7 [==============================] - 0s 39ms/step - loss: 0.0035 - f1: 0.9989 - val_loss: 2.6447 - val_f1: 0.5272\n",
      "Epoch 20/30\n",
      "7/7 [==============================] - 0s 37ms/step - loss: 0.0064 - f1: 0.9929 - val_loss: 2.3516 - val_f1: 0.5084\n",
      "Epoch 21/30\n",
      "7/7 [==============================] - 0s 39ms/step - loss: 0.0218 - f1: 0.9933 - val_loss: 2.1828 - val_f1: 0.5004\n",
      "Epoch 22/30\n",
      "7/7 [==============================] - 0s 39ms/step - loss: 0.0081 - f1: 0.9983 - val_loss: 2.3464 - val_f1: 0.4974\n",
      "Epoch 23/30\n",
      "7/7 [==============================] - ETA: 0s - loss: 0.0052 - f1: 0.9940Restoring model weights from the end of the best epoch: 15.\n",
      "7/7 [==============================] - 0s 41ms/step - loss: 0.0052 - f1: 0.9940 - val_loss: 2.2591 - val_f1: 0.5120\n",
      "Epoch 00023: early stopping\n"
     ]
    },
    {
     "data": {
      "text/plain": [
       "<keras.callbacks.History at 0x7f629ea02910>"
      ]
     },
     "execution_count": 48,
     "metadata": {},
     "output_type": "execute_result"
    }
   ],
   "source": [
    "model.fit(X_train_pad, y_train, batch_size=128, epochs=30, verbose=1, class_weight=class_weights,\n",
    "          validation_split = 0.2, callbacks=[callbacks])"
   ]
  },
  {
   "cell_type": "code",
   "execution_count": null,
   "metadata": {
    "colab": {
     "base_uri": "https://localhost:8080/"
    },
    "id": "1BD-ntr8rznW",
    "outputId": "0cb09a1c-ec3a-45ed-ce21-a7f70bf5d71f"
   },
   "outputs": [
    {
     "name": "stdout",
     "output_type": "stream",
     "text": [
      "4/4 [==============================] - 0s 11ms/step - loss: 2.0628 - f1: 0.5569\n",
      "[2.062809944152832, 0.5569195747375488]\n"
     ]
    }
   ],
   "source": [
    "print(model.evaluate(X_test_pad, y_test))"
   ]
  },
  {
   "cell_type": "code",
   "execution_count": null,
   "metadata": {
    "colab": {
     "base_uri": "https://localhost:8080/"
    },
    "id": "u-fKEe-4rzp4",
    "outputId": "a1e814cf-15c5-41df-fde4-0156f4eaabce"
   },
   "outputs": [
    {
     "name": "stdout",
     "output_type": "stream",
     "text": [
      "1/1 [==============================] - 1s 953ms/step\n",
      "              precision    recall  f1-score   support\n",
      "\n",
      "        Hate       0.53      0.77      0.63        44\n",
      "      Normal       0.54      0.40      0.46        50\n",
      "     Abusive       0.78      0.44      0.56        16\n",
      "\n",
      "   micro avg       0.55      0.55      0.55       110\n",
      "   macro avg       0.62      0.54      0.55       110\n",
      "weighted avg       0.57      0.55      0.54       110\n",
      " samples avg       0.55      0.55      0.55       110\n",
      "\n"
     ]
    }
   ],
   "source": [
    "y_pred = model.predict(X_test_pad, batch_size=128, verbose=1)\n",
    "y_pred_bool = np.argmax(y_pred, axis=1)\n",
    "y_pred = (y_pred > 0.5)\n",
    "\n",
    "print(classification_report(y_test, y_pred, target_names=(['Hate','Normal','Abusive'])))\n"
   ]
  },
  {
   "cell_type": "code",
   "execution_count": null,
   "metadata": {
    "colab": {
     "base_uri": "https://localhost:8080/"
    },
    "id": "4LtnRxVRmNcl",
    "outputId": "4d04a538-0901-4b90-9c07-f44c0c01e963"
   },
   "outputs": [
    {
     "data": {
      "text/plain": [
       "0.542292813189365"
      ]
     },
     "execution_count": 51,
     "metadata": {},
     "output_type": "execute_result"
    }
   ],
   "source": [
    "f1_score(y_test, y_pred, average=\"weighted\")"
   ]
  },
  {
   "cell_type": "code",
   "execution_count": null,
   "metadata": {
    "id": "72QjwwRRrzsu"
   },
   "outputs": [],
   "source": [
    "from tensorflow import keras\n",
    "keras.backend.clear_session()"
   ]
  },
  {
   "cell_type": "code",
   "execution_count": null,
   "metadata": {
    "id": "4o9xT3kjyc7W"
   },
   "outputs": [],
   "source": [
    "from sklearn import metrics\n",
    "metric = metrics.accuracy_score(y_test, y_pred), metrics.f1_score(y_test, y_pred, average='weighted'), metrics.recall_score(y_test, y_pred, average='weighted'), metrics.precision_score(y_test, y_pred, average='weighted')"
   ]
  },
  {
   "cell_type": "code",
   "execution_count": null,
   "metadata": {
    "colab": {
     "base_uri": "https://localhost:8080/",
     "height": 226
    },
    "id": "czSMQdvTQZs_",
    "outputId": "09ae8e60-69b4-48f9-d75b-5c07d17a1284"
   },
   "outputs": [
    {
     "data": {
      "text/plain": [
       "(0.0, 1.0)"
      ]
     },
     "execution_count": 54,
     "metadata": {},
     "output_type": "execute_result"
    },
    {
     "data": {
      "image/png": "[encoded data removed]",
      "text/plain": [
       "<Figure size 576x144 with 1 Axes>"
      ]
     },
     "metadata": {
      "needs_background": "light"
     },
     "output_type": "display_data"
    }
   ],
   "source": [
    "fig = plt.figure()\n",
    "fig.set_size_inches(8,2)\n",
    "ax = fig.add_axes([0,0,1,1])\n",
    "rect1 = ax.bar(0.00,round(metric[0], 2), color = 'b', width = 0.05)\n",
    "rect2 = ax.bar(0.20, round(metric[1], 2), color = 'g', width = 0.05)\n",
    "rect3 = ax.bar(0.40, round(metric[2], 2) , color = 'r', width = 0.05)\n",
    "rect4 = ax.bar(0.60, round(metric[3], 2) , color = (1, 0, 1), width = 0.05)\n",
    "\n",
    "ax.set_ylabel('Scores')\n",
    "ax.set_title('metrics')\n",
    "def autolabel(rects):\n",
    "  \"\"\"Attach a text label above each bar in *rects*, displaying its height.\"\"\"\n",
    "  for rect in rects:\n",
    "      height = rect.get_height()\n",
    "      ax.annotate('{}'.format(height),\n",
    "                  xy=(rect.get_x() + rect.get_width() / 2, height),\n",
    "                  xytext=(0, 3),  # 3 points vertical offset\n",
    "                  textcoords=\"offset points\",\n",
    "                  ha='center', va='bottom')\n",
    "\n",
    "autolabel(rect1)\n",
    "autolabel(rect2)\n",
    "autolabel(rect3)\n",
    "autolabel(rect4)\n",
    "ax.legend(labels=['accuracy', 'f1_score', 'recall', 'precision'],loc='best')\n",
    "plt.ylim(0, 1)"
   ]
  },
  {
   "cell_type": "markdown",
   "metadata": {
    "id": "Bpb35nPlTI1g"
   },
   "source": [
    "### Training on Fasttext Embedding Only"
   ]
  },
  {
   "cell_type": "code",
   "execution_count": null,
   "metadata": {
    "id": "ext78JdGVwvv"
   },
   "outputs": [],
   "source": [
    "keras.backend.clear_session()"
   ]
  },
  {
   "cell_type": "code",
   "execution_count": null,
   "metadata": {
    "id": "dleDGpLYU_3V"
   },
   "outputs": [],
   "source": [
    "inp=Input(shape=(maxlen, ))\n",
    "x=Embedding(vocab_size + 1,embed_size,embeddings_initializer=Constant(fasttext_arabic_emb),#Set Fasttext Embedding\n",
    "            input_length=maxlen,trainable=True)(inp)\n",
    "x = SpatialDropout1D(0.2)(x)\n",
    "x=Bidirectional(GRU(150, return_sequences = True))(x)\n",
    "avg_pool = GlobalAveragePooling1D()(x)\n",
    "max_pool = GlobalMaxPool1D()(x)\n",
    "conc = concatenate([avg_pool, max_pool])\n",
    "\n",
    "\n",
    "x=Dropout(0.1)(conc)\n",
    "out=Dense(64, activation=\"relu\")(x)\n",
    "out=Dense(32, activation=\"relu\")(x)\n",
    "\n",
    "out=Dense(3, activation=\"softmax\")(x)\n",
    "\n",
    "model_ft=Model(inp,out)\n",
    "\n",
    "mcp_save = ModelCheckpoint('model_fasttext.mdl_wts.hdf5', save_best_only=True,\n",
    "                           monitor='val_loss', mode='min',patience = 5)\n"
   ]
  },
  {
   "cell_type": "code",
   "execution_count": null,
   "metadata": {
    "id": "y8TojWn4Tijn"
   },
   "outputs": [],
   "source": [
    "model_ft.compile(loss=tf.keras.losses.CategoricalCrossentropy(), optimizer=tf.keras.optimizers.Adam(), metrics=[f1])"
   ]
  },
  {
   "cell_type": "code",
   "execution_count": null,
   "metadata": {
    "colab": {
     "base_uri": "https://localhost:8080/"
    },
    "id": "NhdxZk9cTm3X",
    "outputId": "f297e566-9576-48e9-80c9-8b40dceb7167"
   },
   "outputs": [
    {
     "name": "stdout",
     "output_type": "stream",
     "text": [
      "Model: \"model\"\n",
      "__________________________________________________________________________________________________\n",
      " Layer (type)                   Output Shape         Param #     Connected to                     \n",
      "==================================================================================================\n",
      " input_1 (InputLayer)           [(None, 28)]         0           []                               \n",
      "                                                                                                  \n",
      " embedding (Embedding)          (None, 28, 300)      1353300     ['input_1[0][0]']                \n",
      "                                                                                                  \n",
      " spatial_dropout1d (SpatialDrop  (None, 28, 300)     0           ['embedding[0][0]']              \n",
      " out1D)                                                                                           \n",
      "                                                                                                  \n",
      " bidirectional (Bidirectional)  (None, 28, 300)      406800      ['spatial_dropout1d[0][0]']      \n",
      "                                                                                                  \n",
      " global_average_pooling1d (Glob  (None, 300)         0           ['bidirectional[0][0]']          \n",
      " alAveragePooling1D)                                                                              \n",
      "                                                                                                  \n",
      " global_max_pooling1d (GlobalMa  (None, 300)         0           ['bidirectional[0][0]']          \n",
      " xPooling1D)                                                                                      \n",
      "                                                                                                  \n",
      " concatenate (Concatenate)      (None, 600)          0           ['global_average_pooling1d[0][0]'\n",
      "                                                                 , 'global_max_pooling1d[0][0]']  \n",
      "                                                                                                  \n",
      " dropout (Dropout)              (None, 600)          0           ['concatenate[0][0]']            \n",
      "                                                                                                  \n",
      " dense_2 (Dense)                (None, 3)            1803        ['dropout[0][0]']                \n",
      "                                                                                                  \n",
      "==================================================================================================\n",
      "Total params: 1,761,903\n",
      "Trainable params: 1,761,903\n",
      "Non-trainable params: 0\n",
      "__________________________________________________________________________________________________\n"
     ]
    }
   ],
   "source": [
    "model_ft.summary()"
   ]
  },
  {
   "cell_type": "code",
   "execution_count": null,
   "metadata": {
    "colab": {
     "base_uri": "https://localhost:8080/"
    },
    "id": "Et2g6vcQT29F",
    "outputId": "2234fe79-4054-4480-e137-210b3d18e5f1"
   },
   "outputs": [
    {
     "name": "stdout",
     "output_type": "stream",
     "text": [
      "Epoch 1/20\n",
      "7/7 [==============================] - 6s 217ms/step - loss: 1.0992 - f1: 0.0000e+00 - val_loss: 1.1020 - val_f1: 0.0000e+00\n",
      "Epoch 2/20\n",
      "7/7 [==============================] - 0s 43ms/step - loss: 1.0595 - f1: 0.0132 - val_loss: 1.0894 - val_f1: 0.0227\n",
      "Epoch 3/20\n",
      "7/7 [==============================] - 0s 40ms/step - loss: 1.0150 - f1: 0.0668 - val_loss: 1.0701 - val_f1: 0.0579\n",
      "Epoch 4/20\n",
      "7/7 [==============================] - 0s 40ms/step - loss: 0.9173 - f1: 0.2202 - val_loss: 1.0606 - val_f1: 0.1873\n",
      "Epoch 5/20\n",
      "7/7 [==============================] - 0s 41ms/step - loss: 0.6155 - f1: 0.5886 - val_loss: 1.2453 - val_f1: 0.5539\n",
      "Epoch 6/20\n",
      "7/7 [==============================] - 0s 40ms/step - loss: 0.4614 - f1: 0.7784 - val_loss: 1.3206 - val_f1: 0.5289\n",
      "Epoch 7/20\n",
      "7/7 [==============================] - 0s 39ms/step - loss: 0.3443 - f1: 0.8278 - val_loss: 1.0627 - val_f1: 0.5218\n",
      "Epoch 8/20\n",
      "7/7 [==============================] - 0s 40ms/step - loss: 0.2132 - f1: 0.9048 - val_loss: 1.3599 - val_f1: 0.5482\n",
      "Epoch 9/20\n",
      "7/7 [==============================] - 0s 44ms/step - loss: 0.1627 - f1: 0.9375 - val_loss: 1.3503 - val_f1: 0.5292\n",
      "Epoch 10/20\n",
      "7/7 [==============================] - 0s 47ms/step - loss: 0.1098 - f1: 0.9790 - val_loss: 1.3572 - val_f1: 0.5662\n",
      "Epoch 11/20\n",
      "7/7 [==============================] - 0s 47ms/step - loss: 0.0640 - f1: 0.9871 - val_loss: 1.6683 - val_f1: 0.5096\n",
      "Epoch 12/20\n",
      "7/7 [==============================] - 0s 40ms/step - loss: 0.0444 - f1: 0.9883 - val_loss: 1.7471 - val_f1: 0.5891\n",
      "Epoch 13/20\n",
      "7/7 [==============================] - 0s 38ms/step - loss: 0.0331 - f1: 0.9933 - val_loss: 1.8650 - val_f1: 0.5331\n",
      "Epoch 14/20\n",
      "7/7 [==============================] - 0s 38ms/step - loss: 0.0229 - f1: 0.9944 - val_loss: 1.9362 - val_f1: 0.5342\n",
      "Epoch 15/20\n",
      "7/7 [==============================] - 0s 36ms/step - loss: 0.0171 - f1: 0.9967 - val_loss: 1.9839 - val_f1: 0.5734\n",
      "Epoch 16/20\n",
      "7/7 [==============================] - 0s 35ms/step - loss: 0.0128 - f1: 0.9978 - val_loss: 2.0946 - val_f1: 0.5221\n",
      "Epoch 17/20\n",
      "7/7 [==============================] - 0s 36ms/step - loss: 0.0096 - f1: 1.0000 - val_loss: 2.1772 - val_f1: 0.5325\n",
      "Epoch 18/20\n",
      "7/7 [==============================] - 0s 37ms/step - loss: 0.0083 - f1: 1.0000 - val_loss: 2.2527 - val_f1: 0.5371\n",
      "Epoch 19/20\n",
      "7/7 [==============================] - 0s 36ms/step - loss: 0.0073 - f1: 0.9989 - val_loss: 2.3756 - val_f1: 0.5156\n",
      "Epoch 20/20\n",
      "7/7 [==============================] - ETA: 0s - loss: 0.0053 - f1: 1.0000Restoring model weights from the end of the best epoch: 12.\n",
      "7/7 [==============================] - 0s 38ms/step - loss: 0.0053 - f1: 1.0000 - val_loss: 2.4572 - val_f1: 0.5000\n",
      "Epoch 00020: early stopping\n"
     ]
    },
    {
     "data": {
      "text/plain": [
       "<keras.callbacks.History at 0x7f629538ef50>"
      ]
     },
     "execution_count": 59,
     "metadata": {},
     "output_type": "execute_result"
    }
   ],
   "source": [
    "model_ft.fit(X_train_pad, \n",
    "             y_train, \n",
    "             batch_size=128,\n",
    "             epochs=20,\n",
    "             verbose=1,\n",
    "             class_weight=class_weights,\n",
    "             validation_split=0.2,\n",
    "             callbacks=[callbacks])"
   ]
  },
  {
   "cell_type": "code",
   "execution_count": null,
   "metadata": {
    "colab": {
     "base_uri": "https://localhost:8080/"
    },
    "id": "wCLLX3EAT4NO",
    "outputId": "17e1c632-711d-4ef3-da0a-62e170b1de4b"
   },
   "outputs": [
    {
     "name": "stdout",
     "output_type": "stream",
     "text": [
      "4/4 [==============================] - 0s 10ms/step - loss: 1.4270 - f1: 0.5751\n",
      "[1.4269672632217407, 0.5751074552536011]\n"
     ]
    }
   ],
   "source": [
    "print(model_ft.evaluate(X_test_pad, y_test))"
   ]
  },
  {
   "cell_type": "code",
   "execution_count": null,
   "metadata": {
    "colab": {
     "base_uri": "https://localhost:8080/"
    },
    "id": "KE9mBrlcUiTH",
    "outputId": "b6394e5e-ad00-40d2-bff7-d5c894e83442"
   },
   "outputs": [
    {
     "name": "stdout",
     "output_type": "stream",
     "text": [
      "1/1 [==============================] - 1s 852ms/step\n",
      "              precision    recall  f1-score   support\n",
      "\n",
      "        Hate       0.57      0.64      0.60        44\n",
      "      Normal       0.60      0.54      0.57        50\n",
      "     Abusive       0.54      0.44      0.48        16\n",
      "\n",
      "   micro avg       0.58      0.56      0.57       110\n",
      "   macro avg       0.57      0.54      0.55       110\n",
      "weighted avg       0.58      0.56      0.57       110\n",
      " samples avg       0.56      0.56      0.56       110\n",
      "\n"
     ]
    },
    {
     "name": "stderr",
     "output_type": "stream",
     "text": [
      "/usr/local/lib/python3.7/dist-packages/sklearn/metrics/_classification.py:1308: UndefinedMetricWarning: Precision and F-score are ill-defined and being set to 0.0 in samples with no predicted labels. Use `zero_division` parameter to control this behavior.\n",
      "  _warn_prf(average, modifier, msg_start, len(result))\n"
     ]
    }
   ],
   "source": [
    "y_pred_ft = model_ft.predict(X_test_pad, batch_size=128, verbose=1)\n",
    "y_pred_bool_ft = np.argmax(y_pred, axis=1)\n",
    "y_pred_ft = (y_pred_ft > 0.5)\n",
    "\n",
    "print(classification_report(y_test, y_pred_ft, target_names=(['Hate','Normal','Abusive'])))\n"
   ]
  },
  {
   "cell_type": "code",
   "execution_count": null,
   "metadata": {
    "id": "sXj5owf2Ut0W"
   },
   "outputs": [],
   "source": [
    "from sklearn import metrics\n",
    "metric_ft = metrics.accuracy_score(y_test, y_pred_ft), metrics.f1_score(y_test, y_pred_ft, average='weighted'), metrics.recall_score(y_test, y_pred_ft, average='weighted'), metrics.precision_score(y_test, y_pred_ft, average='weighted')"
   ]
  },
  {
   "cell_type": "code",
   "execution_count": null,
   "metadata": {
    "colab": {
     "base_uri": "https://localhost:8080/",
     "height": 226
    },
    "id": "N49Fe5YsU7NE",
    "outputId": "73f01d4e-414e-40b4-ef07-f9868324bde6"
   },
   "outputs": [
    {
     "data": {
      "text/plain": [
       "(0.0, 1.0)"
      ]
     },
     "execution_count": 63,
     "metadata": {},
     "output_type": "execute_result"
    },
    {
     "data": {
      "image/png": "[encoded data removed]",
      "text/plain": [
       "<Figure size 576x144 with 1 Axes>"
      ]
     },
     "metadata": {
      "needs_background": "light"
     },
     "output_type": "display_data"
    }
   ],
   "source": [
    "fig = plt.figure()\n",
    "fig.set_size_inches(8,2)\n",
    "ax = fig.add_axes([0,0,1,1])\n",
    "rect1 = ax.bar(0.00,round(metric_ft[0], 2), color = 'b', width = 0.05)\n",
    "rect2 = ax.bar(0.20, round(metric_ft[1], 2), color = 'g', width = 0.05)\n",
    "rect3 = ax.bar(0.40, round(metric_ft[2], 2) , color = 'r', width = 0.05)\n",
    "rect4 = ax.bar(0.60, round(metric_ft[3], 2) , color = (1, 0, 1), width = 0.05)\n",
    "\n",
    "ax.set_ylabel('Scores')\n",
    "ax.set_title('metrics')\n",
    "\n",
    "\n",
    "autolabel(rect1)\n",
    "autolabel(rect2)\n",
    "autolabel(rect3)\n",
    "autolabel(rect4)\n",
    "ax.legend(labels=['accuracy', 'f1_score', 'recall', 'precision'],loc='best')\n",
    "plt.ylim(0, 1)"
   ]
  },
  {
   "cell_type": "markdown",
   "metadata": {
    "id": "HiwoyTsPL1PG"
   },
   "source": [
    "### Training on Aravec Embedding Only"
   ]
  },
  {
   "cell_type": "code",
   "execution_count": null,
   "metadata": {
    "id": "vTBADyXfL1PN"
   },
   "outputs": [],
   "source": [
    "keras.backend.clear_session()"
   ]
  },
  {
   "cell_type": "code",
   "execution_count": null,
   "metadata": {
    "id": "lglZwmCfL1PO"
   },
   "outputs": [],
   "source": [
    "inp=Input(shape=(maxlen, ))\n",
    "x=Embedding(vocab_size + 1,embed_size,embeddings_initializer=Constant(aravec_emb),#Set Fasttext Embedding\n",
    "            input_length=maxlen,trainable=True)(inp)\n",
    "x = SpatialDropout1D(0.2)(x)\n",
    "x=Bidirectional(GRU(150, return_sequences = True))(x)\n",
    "avg_pool = GlobalAveragePooling1D()(x)\n",
    "max_pool = GlobalMaxPool1D()(x)\n",
    "conc = concatenate([avg_pool, max_pool])\n",
    "\n",
    "\n",
    "x=Dropout(0.1)(conc)\n",
    "out=Dense(64, activation=\"relu\")(x)\n",
    "out=Dense(32, activation=\"relu\")(x)\n",
    "\n",
    "out=Dense(3, activation=\"softmax\")(x)\n",
    "\n",
    "model_arav=Model(inp,out)\n",
    "\n",
    "mcp_save = ModelCheckpoint('model_aravec.mdl_wts.hdf5', save_best_only=True,\n",
    "                           monitor='val_loss', mode='min',patience = 5)\n"
   ]
  },
  {
   "cell_type": "code",
   "execution_count": null,
   "metadata": {
    "id": "FvKap_oBL1PO"
   },
   "outputs": [],
   "source": [
    "model_arav.compile(loss=tf.keras.losses.CategoricalCrossentropy(), optimizer=tf.keras.optimizers.Adam(), metrics=[f1])"
   ]
  },
  {
   "cell_type": "code",
   "execution_count": null,
   "metadata": {
    "colab": {
     "base_uri": "https://localhost:8080/"
    },
    "id": "5lo1wLfQL1PO",
    "outputId": "070be970-6dd2-4c8d-ab88-9e3613dc98bc"
   },
   "outputs": [
    {
     "name": "stdout",
     "output_type": "stream",
     "text": [
      "Model: \"model\"\n",
      "__________________________________________________________________________________________________\n",
      " Layer (type)                   Output Shape         Param #     Connected to                     \n",
      "==================================================================================================\n",
      " input_1 (InputLayer)           [(None, 28)]         0           []                               \n",
      "                                                                                                  \n",
      " embedding (Embedding)          (None, 28, 300)      1353300     ['input_1[0][0]']                \n",
      "                                                                                                  \n",
      " spatial_dropout1d (SpatialDrop  (None, 28, 300)     0           ['embedding[0][0]']              \n",
      " out1D)                                                                                           \n",
      "                                                                                                  \n",
      " bidirectional (Bidirectional)  (None, 28, 300)      406800      ['spatial_dropout1d[0][0]']      \n",
      "                                                                                                  \n",
      " global_average_pooling1d (Glob  (None, 300)         0           ['bidirectional[0][0]']          \n",
      " alAveragePooling1D)                                                                              \n",
      "                                                                                                  \n",
      " global_max_pooling1d (GlobalMa  (None, 300)         0           ['bidirectional[0][0]']          \n",
      " xPooling1D)                                                                                      \n",
      "                                                                                                  \n",
      " concatenate (Concatenate)      (None, 600)          0           ['global_average_pooling1d[0][0]'\n",
      "                                                                 , 'global_max_pooling1d[0][0]']  \n",
      "                                                                                                  \n",
      " dropout (Dropout)              (None, 600)          0           ['concatenate[0][0]']            \n",
      "                                                                                                  \n",
      " dense_2 (Dense)                (None, 3)            1803        ['dropout[0][0]']                \n",
      "                                                                                                  \n",
      "==================================================================================================\n",
      "Total params: 1,761,903\n",
      "Trainable params: 1,761,903\n",
      "Non-trainable params: 0\n",
      "__________________________________________________________________________________________________\n"
     ]
    }
   ],
   "source": [
    "model_arav.summary()"
   ]
  },
  {
   "cell_type": "code",
   "execution_count": null,
   "metadata": {
    "colab": {
     "base_uri": "https://localhost:8080/"
    },
    "id": "2OEErZqOL1PO",
    "outputId": "30157058-e382-4986-bd10-130e1388238c"
   },
   "outputs": [
    {
     "name": "stdout",
     "output_type": "stream",
     "text": [
      "Epoch 1/20\n",
      "7/7 [==============================] - 6s 204ms/step - loss: 1.1407 - f1: 0.0814 - val_loss: 1.1181 - val_f1: 0.0877\n",
      "Epoch 2/20\n",
      "7/7 [==============================] - 0s 37ms/step - loss: 1.0202 - f1: 0.2024 - val_loss: 1.0803 - val_f1: 0.2396\n",
      "Epoch 3/20\n",
      "7/7 [==============================] - 0s 36ms/step - loss: 0.9955 - f1: 0.2169 - val_loss: 1.1148 - val_f1: 0.1312\n",
      "Epoch 4/20\n",
      "7/7 [==============================] - 0s 40ms/step - loss: 0.9800 - f1: 0.2625 - val_loss: 1.0821 - val_f1: 0.3138\n",
      "Epoch 5/20\n",
      "7/7 [==============================] - 0s 37ms/step - loss: 0.9415 - f1: 0.3112 - val_loss: 1.0930 - val_f1: 0.2205\n",
      "Epoch 6/20\n",
      "7/7 [==============================] - 0s 38ms/step - loss: 0.9143 - f1: 0.3612 - val_loss: 1.0997 - val_f1: 0.2243\n",
      "Epoch 7/20\n",
      "7/7 [==============================] - 0s 36ms/step - loss: 0.8713 - f1: 0.3768 - val_loss: 1.1208 - val_f1: 0.2633\n",
      "Epoch 8/20\n",
      "7/7 [==============================] - 0s 39ms/step - loss: 0.8308 - f1: 0.4342 - val_loss: 1.0708 - val_f1: 0.2898\n",
      "Epoch 9/20\n",
      "7/7 [==============================] - 0s 38ms/step - loss: 0.7197 - f1: 0.5931 - val_loss: 1.0920 - val_f1: 0.3608\n",
      "Epoch 10/20\n",
      "7/7 [==============================] - 0s 37ms/step - loss: 0.4706 - f1: 0.7923 - val_loss: 1.1820 - val_f1: 0.5115\n",
      "Epoch 11/20\n",
      "7/7 [==============================] - 0s 36ms/step - loss: 0.2479 - f1: 0.9139 - val_loss: 1.5627 - val_f1: 0.5083\n",
      "Epoch 12/20\n",
      "7/7 [==============================] - 0s 40ms/step - loss: 0.1222 - f1: 0.9546 - val_loss: 1.5925 - val_f1: 0.5788\n",
      "Epoch 13/20\n",
      "7/7 [==============================] - 0s 37ms/step - loss: 0.0787 - f1: 0.9745 - val_loss: 1.9867 - val_f1: 0.5046\n",
      "Epoch 14/20\n",
      "7/7 [==============================] - 0s 36ms/step - loss: 0.1763 - f1: 0.9347 - val_loss: 2.1561 - val_f1: 0.5423\n",
      "Epoch 15/20\n",
      "7/7 [==============================] - 0s 36ms/step - loss: 0.1008 - f1: 0.9821 - val_loss: 1.8950 - val_f1: 0.5185\n",
      "Epoch 16/20\n",
      "7/7 [==============================] - 0s 37ms/step - loss: 0.0523 - f1: 0.9916 - val_loss: 1.7514 - val_f1: 0.5201\n",
      "Epoch 17/20\n",
      "7/7 [==============================] - 0s 37ms/step - loss: 0.0402 - f1: 0.9883 - val_loss: 1.6967 - val_f1: 0.5231\n",
      "Epoch 18/20\n",
      "7/7 [==============================] - 0s 35ms/step - loss: 0.0159 - f1: 0.9983 - val_loss: 1.6262 - val_f1: 0.5684\n",
      "Epoch 19/20\n",
      "7/7 [==============================] - 0s 35ms/step - loss: 0.0057 - f1: 0.9989 - val_loss: 1.7168 - val_f1: 0.5597\n",
      "Epoch 20/20\n",
      "7/7 [==============================] - 0s 39ms/step - loss: 0.0032 - f1: 1.0000 - val_loss: 1.8319 - val_f1: 0.5822\n"
     ]
    },
    {
     "data": {
      "text/plain": [
       "<keras.callbacks.History at 0x7f628246ab90>"
      ]
     },
     "execution_count": 68,
     "metadata": {},
     "output_type": "execute_result"
    }
   ],
   "source": [
    "model_arav.fit(X_train_pad, \n",
    "             y_train, \n",
    "             batch_size=128,\n",
    "             epochs=20,\n",
    "             verbose=1,\n",
    "             class_weight=class_weights,\n",
    "             validation_split=0.2,\n",
    "             callbacks=[callbacks])"
   ]
  },
  {
   "cell_type": "code",
   "execution_count": null,
   "metadata": {
    "colab": {
     "base_uri": "https://localhost:8080/"
    },
    "id": "wbfQt6KkL1PO",
    "outputId": "3cddfd6b-78b0-4057-b090-8458cd5971ad"
   },
   "outputs": [
    {
     "name": "stdout",
     "output_type": "stream",
     "text": [
      "4/4 [==============================] - 0s 10ms/step - loss: 1.7997 - f1: 0.5589\n",
      "[1.7996968030929565, 0.558903694152832]\n"
     ]
    }
   ],
   "source": [
    "print(model_arav.evaluate(X_test_pad, y_test))"
   ]
  },
  {
   "cell_type": "code",
   "execution_count": null,
   "metadata": {
    "colab": {
     "base_uri": "https://localhost:8080/"
    },
    "id": "010SEUGvL1PO",
    "outputId": "9b92f61a-c1a4-4530-8cfe-d0a4ed959977"
   },
   "outputs": [
    {
     "name": "stdout",
     "output_type": "stream",
     "text": [
      "1/1 [==============================] - 1s 891ms/step\n",
      "              precision    recall  f1-score   support\n",
      "\n",
      "        Hate       0.55      0.59      0.57        44\n",
      "      Normal       0.61      0.50      0.55        50\n",
      "     Abusive       0.55      0.69      0.61        16\n",
      "\n",
      "   micro avg       0.57      0.56      0.57       110\n",
      "   macro avg       0.57      0.59      0.58       110\n",
      "weighted avg       0.58      0.56      0.57       110\n",
      " samples avg       0.56      0.56      0.56       110\n",
      "\n"
     ]
    },
    {
     "name": "stderr",
     "output_type": "stream",
     "text": [
      "/usr/local/lib/python3.7/dist-packages/sklearn/metrics/_classification.py:1308: UndefinedMetricWarning: Precision and F-score are ill-defined and being set to 0.0 in samples with no predicted labels. Use `zero_division` parameter to control this behavior.\n",
      "  _warn_prf(average, modifier, msg_start, len(result))\n"
     ]
    }
   ],
   "source": [
    "y_pred_arav = model_arav.predict(X_test_pad, batch_size=128, verbose=1)\n",
    "y_pred_bool_ft = np.argmax(y_pred, axis=1)\n",
    "y_pred_arav = (y_pred_arav > 0.5)\n",
    "\n",
    "print(classification_report(y_test, y_pred_arav, target_names=(['Hate','Normal','Abusive'])))\n"
   ]
  },
  {
   "cell_type": "code",
   "execution_count": null,
   "metadata": {
    "id": "2684IryML1PO"
   },
   "outputs": [],
   "source": [
    "from sklearn import metrics\n",
    "metric_arav = metrics.accuracy_score(y_test, y_pred_arav), metrics.f1_score(y_test, y_pred_arav, average='weighted'), metrics.recall_score(y_test, y_pred_arav, average='weighted'), metrics.precision_score(y_test, y_pred_arav, average='weighted')"
   ]
  },
  {
   "cell_type": "code",
   "execution_count": null,
   "metadata": {
    "colab": {
     "base_uri": "https://localhost:8080/",
     "height": 226
    },
    "id": "a969R2UNL1PO",
    "outputId": "679e6d81-3d34-4de1-dd01-e0a197d87668"
   },
   "outputs": [
    {
     "data": {
      "text/plain": [
       "(0.0, 1.0)"
      ]
     },
     "execution_count": 72,
     "metadata": {},
     "output_type": "execute_result"
    },
    {
     "data": {
      "image/png": "[encoded data removed]",
      "text/plain": [
       "<Figure size 576x144 with 1 Axes>"
      ]
     },
     "metadata": {
      "needs_background": "light"
     },
     "output_type": "display_data"
    }
   ],
   "source": [
    "fig = plt.figure()\n",
    "fig.set_size_inches(8,2)\n",
    "ax = fig.add_axes([0,0,1,1])\n",
    "rect1 = ax.bar(0.00,round(metric_arav[0], 2), color = 'b', width = 0.05)\n",
    "rect2 = ax.bar(0.20, round(metric_arav[1], 2), color = 'g', width = 0.05)\n",
    "rect3 = ax.bar(0.40, round(metric_arav[2], 2) , color = 'r', width = 0.05)\n",
    "rect4 = ax.bar(0.60, round(metric_arav[3], 2) , color = (1, 0, 1), width = 0.05)\n",
    "\n",
    "ax.set_ylabel('Scores')\n",
    "ax.set_title('metrics')\n",
    "\n",
    "\n",
    "autolabel(rect1)\n",
    "autolabel(rect2)\n",
    "autolabel(rect3)\n",
    "autolabel(rect4)\n",
    "ax.legend(labels=['accuracy', 'f1_score', 'recall', 'precision'],loc='best')\n",
    "plt.ylim(0, 1)"
   ]
  },
  {
   "cell_type": "markdown",
   "metadata": {
    "id": "l6ud_gVNWd4a"
   },
   "source": [
    "### Comparing the three results"
   ]
  },
  {
   "cell_type": "code",
   "execution_count": null,
   "metadata": {
    "id": "UAPfKBxEYLV5"
   },
   "outputs": [],
   "source": [
    "Data = [('Fasttext',) + metric_ft  ,\n",
    "        ('AraVec',)+ metric_arav ,\n",
    "         ('Fasttext + AraVec',)+ metric ]"
   ]
  },
  {
   "cell_type": "code",
   "execution_count": null,
   "metadata": {
    "id": "d6UM1nPKWkH6"
   },
   "outputs": [],
   "source": [
    "Results = pd.DataFrame(data =  Data , columns=['Embedding','Accuracy','F1_score','Recall','Precision'])"
   ]
  },
  {
   "cell_type": "code",
   "execution_count": null,
   "metadata": {
    "colab": {
     "base_uri": "https://localhost:8080/",
     "height": 143
    },
    "id": "lDLH9XzeXAUp",
    "outputId": "bbe7f3b6-f7c4-4f2b-a259-4aca25d09d74"
   },
   "outputs": [
    {
     "data": {
      "text/html": [
       "\n",
       "  <div id=\"df-170d31d7-b549-45db-aea4-9a2d6b8780af\">\n",
       "    <div class=\"colab-df-container\">\n",
       "      <div>\n",
       "<style scoped>\n",
       "    .dataframe tbody tr th:only-of-type {\n",
       "        vertical-align: middle;\n",
       "    }\n",
       "\n",
       "    .dataframe tbody tr th {\n",
       "        vertical-align: top;\n",
       "    }\n",
       "\n",
       "    .dataframe thead th {\n",
       "        text-align: right;\n",
       "    }\n",
       "</style>\n",
       "<table border=\"1\" class=\"dataframe\">\n",
       "  <thead>\n",
       "    <tr style=\"text-align: right;\">\n",
       "      <th></th>\n",
       "      <th>Embedding</th>\n",
       "      <th>Accuracy</th>\n",
       "      <th>F1_score</th>\n",
       "      <th>Recall</th>\n",
       "      <th>Precision</th>\n",
       "    </tr>\n",
       "  </thead>\n",
       "  <tbody>\n",
       "    <tr>\n",
       "      <th>0</th>\n",
       "      <td>Fasttext</td>\n",
       "      <td>0.563636</td>\n",
       "      <td>0.569453</td>\n",
       "      <td>0.563636</td>\n",
       "      <td>0.579620</td>\n",
       "    </tr>\n",
       "    <tr>\n",
       "      <th>1</th>\n",
       "      <td>AraVec</td>\n",
       "      <td>0.563636</td>\n",
       "      <td>0.567211</td>\n",
       "      <td>0.563636</td>\n",
       "      <td>0.578438</td>\n",
       "    </tr>\n",
       "    <tr>\n",
       "      <th>2</th>\n",
       "      <td>Fasttext + AraVec</td>\n",
       "      <td>0.554545</td>\n",
       "      <td>0.542293</td>\n",
       "      <td>0.554545</td>\n",
       "      <td>0.571332</td>\n",
       "    </tr>\n",
       "  </tbody>\n",
       "</table>\n",
       "</div>\n",
       "      <button class=\"colab-df-convert\" onclick=\"convertToInteractive('df-170d31d7-b549-45db-aea4-9a2d6b8780af')\"\n",
       "              title=\"Convert this dataframe to an interactive table.\"\n",
       "              style=\"display:none;\">\n",
       "        \n",
       "  <svg xmlns=\"http://www.w3.org/2000/svg\" height=\"24px\"viewBox=\"0 0 24 24\"\n",
       "       width=\"24px\">\n",
       "    <path d=\"M0 0h24v24H0V0z\" fill=\"none\"/>\n",
       "    <path d=\"M18.56 5.44l.94 2.06.94-2.06 2.06-.94-2.06-.94-.94-2.06-.94 2.06-2.06.94zm-11 1L8.5 8.5l.94-2.06 2.06-.94-2.06-.94L8.5 2.5l-.94 2.06-2.06.94zm10 10l.94 2.06.94-2.06 2.06-.94-2.06-.94-.94-2.06-.94 2.06-2.06.94z\"/><path d=\"M17.41 7.96l-1.37-1.37c-.4-.4-.92-.59-1.43-.59-.52 0-1.04.2-1.43.59L10.3 9.45l-7.72 7.72c-.78.78-.78 2.05 0 2.83L4 21.41c.39.39.9.59 1.41.59.51 0 1.02-.2 1.41-.59l7.78-7.78 2.81-2.81c.8-.78.8-2.07 0-2.86zM5.41 20L4 18.59l7.72-7.72 1.47 1.35L5.41 20z\"/>\n",
       "  </svg>\n",
       "      </button>\n",
       "      \n",
       "  <style>\n",
       "    .colab-df-container {\n",
       "      display:flex;\n",
       "      flex-wrap:wrap;\n",
       "      gap: 12px;\n",
       "    }\n",
       "\n",
       "    .colab-df-convert {\n",
       "      background-color: #E8F0FE;\n",
       "      border: none;\n",
       "      border-radius: 50%;\n",
       "      cursor: pointer;\n",
       "      display: none;\n",
       "      fill: #1967D2;\n",
       "      height: 32px;\n",
       "      padding: 0 0 0 0;\n",
       "      width: 32px;\n",
       "    }\n",
       "\n",
       "    .colab-df-convert:hover {\n",
       "      background-color: #E2EBFA;\n",
       "      box-shadow: 0px 1px 2px rgba(60, 64, 67, 0.3), 0px 1px 3px 1px rgba(60, 64, 67, 0.15);\n",
       "      fill: #174EA6;\n",
       "    }\n",
       "\n",
       "    [theme=dark] .colab-df-convert {\n",
       "      background-color: #3B4455;\n",
       "      fill: #D2E3FC;\n",
       "    }\n",
       "\n",
       "    [theme=dark] .colab-df-convert:hover {\n",
       "      background-color: #434B5C;\n",
       "      box-shadow: 0px 1px 3px 1px rgba(0, 0, 0, 0.15);\n",
       "      filter: drop-shadow(0px 1px 2px rgba(0, 0, 0, 0.3));\n",
       "      fill: #FFFFFF;\n",
       "    }\n",
       "  </style>\n",
       "\n",
       "      <script>\n",
       "        const buttonEl =\n",
       "          document.querySelector('#df-170d31d7-b549-45db-aea4-9a2d6b8780af button.colab-df-convert');\n",
       "        buttonEl.style.display =\n",
       "          google.colab.kernel.accessAllowed ? 'block' : 'none';\n",
       "\n",
       "        async function convertToInteractive(key) {\n",
       "          const element = document.querySelector('#df-170d31d7-b549-45db-aea4-9a2d6b8780af');\n",
       "          const dataTable =\n",
       "            await google.colab.kernel.invokeFunction('convertToInteractive',\n",
       "                                                     [key], {});\n",
       "          if (!dataTable) return;\n",
       "\n",
       "          const docLinkHtml = 'Like what you see? Visit the ' +\n",
       "            '<a target=\"_blank\" href=https://colab.research.google.com/notebooks/data_table.ipynb>data table notebook</a>'\n",
       "            + ' to learn more about interactive tables.';\n",
       "          element.innerHTML = '';\n",
       "          dataTable['output_type'] = 'display_data';\n",
       "          await google.colab.output.renderOutput(dataTable, element);\n",
       "          const docLink = document.createElement('div');\n",
       "          docLink.innerHTML = docLinkHtml;\n",
       "          element.appendChild(docLink);\n",
       "        }\n",
       "      </script>\n",
       "    </div>\n",
       "  </div>\n",
       "  "
      ],
      "text/plain": [
       "           Embedding  Accuracy  F1_score    Recall  Precision\n",
       "0           Fasttext  0.563636  0.569453  0.563636   0.579620\n",
       "1             AraVec  0.563636  0.567211  0.563636   0.578438\n",
       "2  Fasttext + AraVec  0.554545  0.542293  0.554545   0.571332"
      ]
     },
     "execution_count": 75,
     "metadata": {},
     "output_type": "execute_result"
    }
   ],
   "source": [
    "Results"
   ]
  }
 ],
 "metadata": {
  "accelerator": "GPU",
  "colab": {
   "collapsed_sections": [],
   "name": "NLP_fasttext_Aravec-BiGRU_Embedding_EGYPTIAN.ipynb",
   "provenance": []
  },
  "kernelspec": {
   "display_name": "Python 3 (ipykernel)",
   "language": "python",
   "name": "python3"
  },
  "language_info": {
   "codemirror_mode": {
    "name": "ipython",
    "version": 3
   },
   "file_extension": ".py",
   "mimetype": "text/x-python",
   "name": "python",
   "nbconvert_exporter": "python",
   "pygments_lexer": "ipython3",
   "version": "3.10.3"
  }
 },
 "nbformat": 4,
 "nbformat_minor": 1
}
