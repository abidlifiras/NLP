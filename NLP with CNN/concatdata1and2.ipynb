{
 "cells": [
  {
   "cell_type": "code",
   "execution_count": null,
   "metadata": {
    "colab": {
     "base_uri": "https://localhost:8080/"
    },
    "executionInfo": {
     "elapsed": 19803,
     "status": "ok",
     "timestamp": 1637910440499,
     "user": {
      "displayName": "Hamza Namsi",
      "photoUrl": "https://lh3.googleusercontent.com/a-/AOh14Gi9pKqXZuhR-4anmqKQahjim4OcjwC054brFPSSxg=s64",
      "userId": "08200465033271728938"
     },
     "user_tz": -60
    },
    "id": "qmSjxEZmD3Ut",
    "outputId": "eab6b878-0930-4065-c4fe-cafad5dfceda"
   },
   "outputs": [
    {
     "name": "stdout",
     "output_type": "stream",
     "text": [
      "Mounted at /content/drive\n"
     ]
    }
   ],
   "source": [
    "from google.colab import drive\n",
    "drive.mount('/content/drive')"
   ]
  },
  {
   "cell_type": "code",
   "execution_count": null,
   "metadata": {
    "colab": {
     "base_uri": "https://localhost:8080/"
    },
    "executionInfo": {
     "elapsed": 304,
     "status": "ok",
     "timestamp": 1637911491097,
     "user": {
      "displayName": "Hamza Namsi",
      "photoUrl": "https://lh3.googleusercontent.com/a-/AOh14Gi9pKqXZuhR-4anmqKQahjim4OcjwC054brFPSSxg=s64",
      "userId": "08200465033271728938"
     },
     "user_tz": -60
    },
    "id": "ZInVuOAlIecr",
    "outputId": "fc578d8f-05e3-4bbf-8c71-af59521098ae"
   },
   "outputs": [
    {
     "name": "stdout",
     "output_type": "stream",
     "text": [
      "/content/drive/MyDrive/Simulation-2020-2021\n"
     ]
    }
   ],
   "source": [
    "%cd /content/drive/MyDrive/Simulation-2020-2021"
   ]
  },
  {
   "cell_type": "code",
   "execution_count": null,
   "metadata": {
    "id": "JOB-GH4WEid7"
   },
   "outputs": [],
   "source": [
    "import pandas as pd\n",
    "\n",
    "excel1='/content/drive/MyDrive/Simulation-2020-2021/D1.xlsx'\n",
    "excel2='/content/drive/MyDrive/Simulation-2020-2021/D2.xlsx'"
   ]
  },
  {
   "cell_type": "code",
   "execution_count": null,
   "metadata": {
    "id": "tmdT1eC3EmqZ"
   },
   "outputs": [],
   "source": [
    "df1=pd.read_excel(excel1)\n",
    "df2=pd.read_excel(excel2)"
   ]
  },
  {
   "cell_type": "code",
   "execution_count": null,
   "metadata": {
    "id": "FE3gFAjNEx8F"
   },
   "outputs": [],
   "source": [
    "value1=df1[['commentaire','classe']]\n",
    "value2=df2[['commentaire','classe']]"
   ]
  },
  {
   "cell_type": "code",
   "execution_count": null,
   "metadata": {
    "id": "OXL6Hsi2E1n6"
   },
   "outputs": [],
   "source": [
    "dataframe=[value1,value2]\n",
    "join=pd.concat(dataframe)\n",
    "join.to_excel(\"dataset1and2.xlsx\")"
   ]
  }
 ],
 "metadata": {
  "colab": {
   "name": "concatdata1and2.ipynb",
   "provenance": []
  },
  "kernelspec": {
   "display_name": "Python 3 (ipykernel)",
   "language": "python",
   "name": "python3"
  },
  "language_info": {
   "codemirror_mode": {
    "name": "ipython",
    "version": 3
   },
   "file_extension": ".py",
   "mimetype": "text/x-python",
   "name": "python",
   "nbconvert_exporter": "python",
   "pygments_lexer": "ipython3",
   "version": "3.10.3"
  }
 },
 "nbformat": 4,
 "nbformat_minor": 1
}
