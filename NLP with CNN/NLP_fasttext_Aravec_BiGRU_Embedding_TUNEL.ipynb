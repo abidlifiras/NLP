{
  "cells": [
    {
      "cell_type": "markdown",
      "metadata": {
        "id": "Phxed_BSSB7-"
      },
      "source": [
        "# TUNEL Dataset"
      ]
    },
    {
      "cell_type": "code",
      "execution_count": null,
      "metadata": {
        "colab": {
          "base_uri": "https://localhost:8080/"
        },
        "id": "6pkvGyUqqCMG",
        "outputId": "c062e3cd-0d67-4fda-a6e4-ce7710ab9dd1"
      },
      "outputs": [
        {
          "output_type": "stream",
          "name": "stdout",
          "text": [
            "Mounted at /content/drive\n"
          ]
        }
      ],
      "source": [
        "from google.colab import drive\n",
        "drive._mount('/content/drive')"
      ]
    },
    {
      "cell_type": "code",
      "execution_count": null,
      "metadata": {
        "colab": {
          "base_uri": "https://localhost:8080/"
        },
        "id": "fnOwTGAXpLvI",
        "outputId": "d0423964-0832-43ff-f4d6-af9e36d3f4e5"
      },
      "outputs": [
        {
          "output_type": "stream",
          "name": "stdout",
          "text": [
            "[nltk_data] Downloading package stopwords to /root/nltk_data...\n",
            "[nltk_data]   Unzipping corpora/stopwords.zip.\n",
            "[nltk_data] Downloading package wordnet to /root/nltk_data...\n",
            "[nltk_data]   Unzipping corpora/wordnet.zip.\n"
          ]
        },
        {
          "output_type": "execute_result",
          "data": {
            "text/plain": [
              "True"
            ]
          },
          "metadata": {},
          "execution_count": 2
        }
      ],
      "source": [
        "from tensorflow import keras\n",
        "import numpy as np\n",
        "import re\n",
        "import nltk\n",
        "from nltk.corpus import stopwords\n",
        "import string\n",
        "import pandas as pd\n",
        "from nltk.stem import WordNetLemmatizer\n",
        "from nltk.corpus import stopwords\n",
        "nltk.download('stopwords')\n",
        "nltk.download('wordnet')"
      ]
    },
    {
      "cell_type": "code",
      "execution_count": null,
      "metadata": {
        "id": "qpYZxDnjpo32"
      },
      "outputs": [],
      "source": [
        "train=pd.read_excel( '/content/drive/MyDrive/FastText_Aravec_Arabic_embeddings/final-dataset.xlsx')\n",
        "# test=pd.read_excel('/content/drive/MyDrive/kaggle-nabil-badri/Text Classification Notebooks/BI-GRU/MyArticle-dataset-arabe/dataset1and2.xlsx')\n",
        "label=pd.read_excel('/content/drive/MyDrive/FastText_Aravec_Arabic_embeddings/final-dataset.xlsx',header=None).iloc[:,-1]\n",
        "#OFF=0 \n",
        "#NOT=1"
      ]
    },
    {
      "cell_type": "code",
      "execution_count": null,
      "metadata": {
        "colab": {
          "base_uri": "https://localhost:8080/",
          "height": 423
        },
        "id": "NLkeXb_2qC2T",
        "outputId": "8ead63ec-d9e4-4cc5-8d2e-b07dfbe1f746"
      },
      "outputs": [
        {
          "output_type": "execute_result",
          "data": {
            "text/html": [
              "\n",
              "  <div id=\"df-e49d682b-3079-4be8-8ba2-685f7298ed9c\">\n",
              "    <div class=\"colab-df-container\">\n",
              "      <div>\n",
              "<style scoped>\n",
              "    .dataframe tbody tr th:only-of-type {\n",
              "        vertical-align: middle;\n",
              "    }\n",
              "\n",
              "    .dataframe tbody tr th {\n",
              "        vertical-align: top;\n",
              "    }\n",
              "\n",
              "    .dataframe thead th {\n",
              "        text-align: right;\n",
              "    }\n",
              "</style>\n",
              "<table border=\"1\" class=\"dataframe\">\n",
              "  <thead>\n",
              "    <tr style=\"text-align: right;\">\n",
              "      <th></th>\n",
              "      <th>commentaire</th>\n",
              "      <th>classe</th>\n",
              "      <th>word_count</th>\n",
              "    </tr>\n",
              "  </thead>\n",
              "  <tbody>\n",
              "    <tr>\n",
              "      <th>0</th>\n",
              "      <td>مبروك و سامحونا لعجزنا التام. عقبال اللي جوه. ...</td>\n",
              "      <td>normal</td>\n",
              "      <td>16</td>\n",
              "    </tr>\n",
              "    <tr>\n",
              "      <th>1</th>\n",
              "      <td>كلنا بره ومش هنبطل نزايد على العجايز الي جابون...</td>\n",
              "      <td>hate</td>\n",
              "      <td>10</td>\n",
              "    </tr>\n",
              "    <tr>\n",
              "      <th>2</th>\n",
              "      <td>بدل ما انت قاعد بره كده تعالي ازرع الصحرا</td>\n",
              "      <td>normal</td>\n",
              "      <td>9</td>\n",
              "    </tr>\n",
              "    <tr>\n",
              "      <th>3</th>\n",
              "      <td>قذر اتفووو ماتيجى مصر وتورينا نفسك كدا ياجبان</td>\n",
              "      <td>hate</td>\n",
              "      <td>8</td>\n",
              "    </tr>\n",
              "    <tr>\n",
              "      <th>4</th>\n",
              "      <td>وهكذا رجال الشو اللي محرومين من عمل برنامج الغ...</td>\n",
              "      <td>hate</td>\n",
              "      <td>16</td>\n",
              "    </tr>\n",
              "    <tr>\n",
              "      <th>...</th>\n",
              "      <td>...</td>\n",
              "      <td>...</td>\n",
              "      <td>...</td>\n",
              "    </tr>\n",
              "    <tr>\n",
              "      <th>23028</th>\n",
              "      <td>يلا ولا خنزير الله يرحم صدام حسين لي كان داعسكن</td>\n",
              "      <td>hate</td>\n",
              "      <td>10</td>\n",
              "    </tr>\n",
              "    <tr>\n",
              "      <th>23029</th>\n",
              "      <td>وبلدك سوريا لا تبغي سوا القتل والاجرام</td>\n",
              "      <td>hate</td>\n",
              "      <td>7</td>\n",
              "    </tr>\n",
              "    <tr>\n",
              "      <th>23030</th>\n",
              "      <td>معالي الوزير نؤمن بك دائما لأنك الدرع المنيع ف...</td>\n",
              "      <td>normal</td>\n",
              "      <td>14</td>\n",
              "    </tr>\n",
              "    <tr>\n",
              "      <th>23031</th>\n",
              "      <td>حياة سندي مستشارة امين عام الامم المتحدة بان ك...</td>\n",
              "      <td>normal</td>\n",
              "      <td>13</td>\n",
              "    </tr>\n",
              "    <tr>\n",
              "      <th>23032</th>\n",
              "      <td>انت يا جبران باسيل بعقليتك الفجة النتنة تقولرب...</td>\n",
              "      <td>hate</td>\n",
              "      <td>11</td>\n",
              "    </tr>\n",
              "  </tbody>\n",
              "</table>\n",
              "<p>23033 rows × 3 columns</p>\n",
              "</div>\n",
              "      <button class=\"colab-df-convert\" onclick=\"convertToInteractive('df-e49d682b-3079-4be8-8ba2-685f7298ed9c')\"\n",
              "              title=\"Convert this dataframe to an interactive table.\"\n",
              "              style=\"display:none;\">\n",
              "        \n",
              "  <svg xmlns=\"http://www.w3.org/2000/svg\" height=\"24px\"viewBox=\"0 0 24 24\"\n",
              "       width=\"24px\">\n",
              "    <path d=\"M0 0h24v24H0V0z\" fill=\"none\"/>\n",
              "    <path d=\"M18.56 5.44l.94 2.06.94-2.06 2.06-.94-2.06-.94-.94-2.06-.94 2.06-2.06.94zm-11 1L8.5 8.5l.94-2.06 2.06-.94-2.06-.94L8.5 2.5l-.94 2.06-2.06.94zm10 10l.94 2.06.94-2.06 2.06-.94-2.06-.94-.94-2.06-.94 2.06-2.06.94z\"/><path d=\"M17.41 7.96l-1.37-1.37c-.4-.4-.92-.59-1.43-.59-.52 0-1.04.2-1.43.59L10.3 9.45l-7.72 7.72c-.78.78-.78 2.05 0 2.83L4 21.41c.39.39.9.59 1.41.59.51 0 1.02-.2 1.41-.59l7.78-7.78 2.81-2.81c.8-.78.8-2.07 0-2.86zM5.41 20L4 18.59l7.72-7.72 1.47 1.35L5.41 20z\"/>\n",
              "  </svg>\n",
              "      </button>\n",
              "      \n",
              "  <style>\n",
              "    .colab-df-container {\n",
              "      display:flex;\n",
              "      flex-wrap:wrap;\n",
              "      gap: 12px;\n",
              "    }\n",
              "\n",
              "    .colab-df-convert {\n",
              "      background-color: #E8F0FE;\n",
              "      border: none;\n",
              "      border-radius: 50%;\n",
              "      cursor: pointer;\n",
              "      display: none;\n",
              "      fill: #1967D2;\n",
              "      height: 32px;\n",
              "      padding: 0 0 0 0;\n",
              "      width: 32px;\n",
              "    }\n",
              "\n",
              "    .colab-df-convert:hover {\n",
              "      background-color: #E2EBFA;\n",
              "      box-shadow: 0px 1px 2px rgba(60, 64, 67, 0.3), 0px 1px 3px 1px rgba(60, 64, 67, 0.15);\n",
              "      fill: #174EA6;\n",
              "    }\n",
              "\n",
              "    [theme=dark] .colab-df-convert {\n",
              "      background-color: #3B4455;\n",
              "      fill: #D2E3FC;\n",
              "    }\n",
              "\n",
              "    [theme=dark] .colab-df-convert:hover {\n",
              "      background-color: #434B5C;\n",
              "      box-shadow: 0px 1px 3px 1px rgba(0, 0, 0, 0.15);\n",
              "      filter: drop-shadow(0px 1px 2px rgba(0, 0, 0, 0.3));\n",
              "      fill: #FFFFFF;\n",
              "    }\n",
              "  </style>\n",
              "\n",
              "      <script>\n",
              "        const buttonEl =\n",
              "          document.querySelector('#df-e49d682b-3079-4be8-8ba2-685f7298ed9c button.colab-df-convert');\n",
              "        buttonEl.style.display =\n",
              "          google.colab.kernel.accessAllowed ? 'block' : 'none';\n",
              "\n",
              "        async function convertToInteractive(key) {\n",
              "          const element = document.querySelector('#df-e49d682b-3079-4be8-8ba2-685f7298ed9c');\n",
              "          const dataTable =\n",
              "            await google.colab.kernel.invokeFunction('convertToInteractive',\n",
              "                                                     [key], {});\n",
              "          if (!dataTable) return;\n",
              "\n",
              "          const docLinkHtml = 'Like what you see? Visit the ' +\n",
              "            '<a target=\"_blank\" href=https://colab.research.google.com/notebooks/data_table.ipynb>data table notebook</a>'\n",
              "            + ' to learn more about interactive tables.';\n",
              "          element.innerHTML = '';\n",
              "          dataTable['output_type'] = 'display_data';\n",
              "          await google.colab.output.renderOutput(dataTable, element);\n",
              "          const docLink = document.createElement('div');\n",
              "          docLink.innerHTML = docLinkHtml;\n",
              "          element.appendChild(docLink);\n",
              "        }\n",
              "      </script>\n",
              "    </div>\n",
              "  </div>\n",
              "  "
            ],
            "text/plain": [
              "                                             commentaire  classe  word_count\n",
              "0      مبروك و سامحونا لعجزنا التام. عقبال اللي جوه. ...  normal          16\n",
              "1      كلنا بره ومش هنبطل نزايد على العجايز الي جابون...    hate          10\n",
              "2              بدل ما انت قاعد بره كده تعالي ازرع الصحرا  normal           9\n",
              "3          قذر اتفووو ماتيجى مصر وتورينا نفسك كدا ياجبان    hate           8\n",
              "4      وهكذا رجال الشو اللي محرومين من عمل برنامج الغ...    hate          16\n",
              "...                                                  ...     ...         ...\n",
              "23028    يلا ولا خنزير الله يرحم صدام حسين لي كان داعسكن    hate          10\n",
              "23029            وبلدك سوريا لا تبغي سوا القتل والاجرام     hate           7\n",
              "23030  معالي الوزير نؤمن بك دائما لأنك الدرع المنيع ف...  normal          14\n",
              "23031  حياة سندي مستشارة امين عام الامم المتحدة بان ك...  normal          13\n",
              "23032  انت يا جبران باسيل بعقليتك الفجة النتنة تقولرب...    hate          11\n",
              "\n",
              "[23033 rows x 3 columns]"
            ]
          },
          "metadata": {},
          "execution_count": 4
        }
      ],
      "source": [
        "train['word_count'] = train['commentaire'].apply(lambda x : len(x.split()))\n",
        "train"
      ]
    },
    {
      "cell_type": "code",
      "execution_count": null,
      "metadata": {
        "id": "y34AftTfjFPS"
      },
      "outputs": [],
      "source": [
        "# #Encoding\n",
        "# df.label.replace({'normal':0,'abusive':1,'spam':2,'hateful':3},inplace=True)\n",
        "# df.head()"
      ]
    },
    {
      "cell_type": "code",
      "execution_count": null,
      "metadata": {
        "colab": {
          "base_uri": "https://localhost:8080/",
          "height": 112
        },
        "id": "g8D5pStLqgzi",
        "outputId": "61e7b9b4-aca3-443f-fc89-e65814451ceb"
      },
      "outputs": [
        {
          "output_type": "execute_result",
          "data": {
            "text/html": [
              "\n",
              "  <div id=\"df-bcc849f3-6b96-4d0c-97e4-ccc05a0c257a\">\n",
              "    <div class=\"colab-df-container\">\n",
              "      <div>\n",
              "<style scoped>\n",
              "    .dataframe tbody tr th:only-of-type {\n",
              "        vertical-align: middle;\n",
              "    }\n",
              "\n",
              "    .dataframe tbody tr th {\n",
              "        vertical-align: top;\n",
              "    }\n",
              "\n",
              "    .dataframe thead th {\n",
              "        text-align: right;\n",
              "    }\n",
              "</style>\n",
              "<table border=\"1\" class=\"dataframe\">\n",
              "  <thead>\n",
              "    <tr style=\"text-align: right;\">\n",
              "      <th></th>\n",
              "      <th>commentaire</th>\n",
              "      <th>classe</th>\n",
              "      <th>word_count</th>\n",
              "    </tr>\n",
              "  </thead>\n",
              "  <tbody>\n",
              "    <tr>\n",
              "      <th>8233</th>\n",
              "      <td>صديقتي أمال اقرئي تعليقي سمحتي صدقيني صدقيني ا...</td>\n",
              "      <td>normal</td>\n",
              "      <td>388</td>\n",
              "    </tr>\n",
              "    <tr>\n",
              "      <th>9481</th>\n",
              "      <td>صديقتي أمال اقرئي تعليقي سمحتي صدقيني صدقيني ا...</td>\n",
              "      <td>normal</td>\n",
              "      <td>388</td>\n",
              "    </tr>\n",
              "  </tbody>\n",
              "</table>\n",
              "</div>\n",
              "      <button class=\"colab-df-convert\" onclick=\"convertToInteractive('df-bcc849f3-6b96-4d0c-97e4-ccc05a0c257a')\"\n",
              "              title=\"Convert this dataframe to an interactive table.\"\n",
              "              style=\"display:none;\">\n",
              "        \n",
              "  <svg xmlns=\"http://www.w3.org/2000/svg\" height=\"24px\"viewBox=\"0 0 24 24\"\n",
              "       width=\"24px\">\n",
              "    <path d=\"M0 0h24v24H0V0z\" fill=\"none\"/>\n",
              "    <path d=\"M18.56 5.44l.94 2.06.94-2.06 2.06-.94-2.06-.94-.94-2.06-.94 2.06-2.06.94zm-11 1L8.5 8.5l.94-2.06 2.06-.94-2.06-.94L8.5 2.5l-.94 2.06-2.06.94zm10 10l.94 2.06.94-2.06 2.06-.94-2.06-.94-.94-2.06-.94 2.06-2.06.94z\"/><path d=\"M17.41 7.96l-1.37-1.37c-.4-.4-.92-.59-1.43-.59-.52 0-1.04.2-1.43.59L10.3 9.45l-7.72 7.72c-.78.78-.78 2.05 0 2.83L4 21.41c.39.39.9.59 1.41.59.51 0 1.02-.2 1.41-.59l7.78-7.78 2.81-2.81c.8-.78.8-2.07 0-2.86zM5.41 20L4 18.59l7.72-7.72 1.47 1.35L5.41 20z\"/>\n",
              "  </svg>\n",
              "      </button>\n",
              "      \n",
              "  <style>\n",
              "    .colab-df-container {\n",
              "      display:flex;\n",
              "      flex-wrap:wrap;\n",
              "      gap: 12px;\n",
              "    }\n",
              "\n",
              "    .colab-df-convert {\n",
              "      background-color: #E8F0FE;\n",
              "      border: none;\n",
              "      border-radius: 50%;\n",
              "      cursor: pointer;\n",
              "      display: none;\n",
              "      fill: #1967D2;\n",
              "      height: 32px;\n",
              "      padding: 0 0 0 0;\n",
              "      width: 32px;\n",
              "    }\n",
              "\n",
              "    .colab-df-convert:hover {\n",
              "      background-color: #E2EBFA;\n",
              "      box-shadow: 0px 1px 2px rgba(60, 64, 67, 0.3), 0px 1px 3px 1px rgba(60, 64, 67, 0.15);\n",
              "      fill: #174EA6;\n",
              "    }\n",
              "\n",
              "    [theme=dark] .colab-df-convert {\n",
              "      background-color: #3B4455;\n",
              "      fill: #D2E3FC;\n",
              "    }\n",
              "\n",
              "    [theme=dark] .colab-df-convert:hover {\n",
              "      background-color: #434B5C;\n",
              "      box-shadow: 0px 1px 3px 1px rgba(0, 0, 0, 0.15);\n",
              "      filter: drop-shadow(0px 1px 2px rgba(0, 0, 0, 0.3));\n",
              "      fill: #FFFFFF;\n",
              "    }\n",
              "  </style>\n",
              "\n",
              "      <script>\n",
              "        const buttonEl =\n",
              "          document.querySelector('#df-bcc849f3-6b96-4d0c-97e4-ccc05a0c257a button.colab-df-convert');\n",
              "        buttonEl.style.display =\n",
              "          google.colab.kernel.accessAllowed ? 'block' : 'none';\n",
              "\n",
              "        async function convertToInteractive(key) {\n",
              "          const element = document.querySelector('#df-bcc849f3-6b96-4d0c-97e4-ccc05a0c257a');\n",
              "          const dataTable =\n",
              "            await google.colab.kernel.invokeFunction('convertToInteractive',\n",
              "                                                     [key], {});\n",
              "          if (!dataTable) return;\n",
              "\n",
              "          const docLinkHtml = 'Like what you see? Visit the ' +\n",
              "            '<a target=\"_blank\" href=https://colab.research.google.com/notebooks/data_table.ipynb>data table notebook</a>'\n",
              "            + ' to learn more about interactive tables.';\n",
              "          element.innerHTML = '';\n",
              "          dataTable['output_type'] = 'display_data';\n",
              "          await google.colab.output.renderOutput(dataTable, element);\n",
              "          const docLink = document.createElement('div');\n",
              "          docLink.innerHTML = docLinkHtml;\n",
              "          element.appendChild(docLink);\n",
              "        }\n",
              "      </script>\n",
              "    </div>\n",
              "  </div>\n",
              "  "
            ],
            "text/plain": [
              "                                            commentaire  classe  word_count\n",
              "8233  صديقتي أمال اقرئي تعليقي سمحتي صدقيني صدقيني ا...  normal         388\n",
              "9481  صديقتي أمال اقرئي تعليقي سمحتي صدقيني صدقيني ا...  normal         388"
            ]
          },
          "metadata": {},
          "execution_count": 6
        }
      ],
      "source": [
        "train[train['word_count'] == 388]"
      ]
    },
    {
      "cell_type": "code",
      "execution_count": null,
      "metadata": {
        "colab": {
          "base_uri": "https://localhost:8080/",
          "height": 36
        },
        "id": "N2lLrbnqqsFk",
        "outputId": "1340ece5-5f80-440b-bde8-30d2fae3f998"
      },
      "outputs": [
        {
          "output_type": "execute_result",
          "data": {
            "application/vnd.google.colaboratory.intrinsic+json": {
              "type": "string"
            },
            "text/plain": [
              "'   نعم ، على القول بوجوب النقاب ، لأن التبرج معناه الظهور فلما تكون ساترة لوجهها وتظهره فهذه متبرجة'"
            ]
          },
          "metadata": {},
          "execution_count": 7
        }
      ],
      "source": [
        "train['commentaire'][3335]"
      ]
    },
    {
      "cell_type": "code",
      "execution_count": null,
      "metadata": {
        "colab": {
          "base_uri": "https://localhost:8080/"
        },
        "id": "reTRftvWpUJk",
        "outputId": "27ccf77d-fcb0-4223-bf56-16bac6046ba7"
      },
      "outputs": [
        {
          "output_type": "execute_result",
          "data": {
            "text/plain": [
              "Counter({0: 12353, 1: 6830, 2: 3850})"
            ]
          },
          "metadata": {},
          "execution_count": 8
        }
      ],
      "source": [
        "y_train=train['classe']\n",
        "X_train=train['commentaire']\n",
        "#test=test['comm']\n",
        "y_train=pd.factorize(y_train)[0]\n",
        "# y_test=pd.factorize(y_test)[0]\n",
        "train['labels'] = pd.factorize(y_train)[0]\n",
        "\n",
        "import collections\n",
        "collections.Counter(y_train)\n",
        "\n",
        "#Counter({0: 4400, 1: 8840})"
      ]
    },
    {
      "cell_type": "code",
      "execution_count": null,
      "metadata": {
        "colab": {
          "base_uri": "https://localhost:8080/",
          "height": 423
        },
        "id": "gJDueK0Uh9kN",
        "outputId": "a6177148-50a0-4265-ab5e-4bd6716289f0"
      },
      "outputs": [
        {
          "output_type": "execute_result",
          "data": {
            "text/html": [
              "\n",
              "  <div id=\"df-31964379-417d-4df1-aaa5-ae63f1c46d4c\">\n",
              "    <div class=\"colab-df-container\">\n",
              "      <div>\n",
              "<style scoped>\n",
              "    .dataframe tbody tr th:only-of-type {\n",
              "        vertical-align: middle;\n",
              "    }\n",
              "\n",
              "    .dataframe tbody tr th {\n",
              "        vertical-align: top;\n",
              "    }\n",
              "\n",
              "    .dataframe thead th {\n",
              "        text-align: right;\n",
              "    }\n",
              "</style>\n",
              "<table border=\"1\" class=\"dataframe\">\n",
              "  <thead>\n",
              "    <tr style=\"text-align: right;\">\n",
              "      <th></th>\n",
              "      <th>commentaire</th>\n",
              "      <th>classe</th>\n",
              "      <th>word_count</th>\n",
              "      <th>labels</th>\n",
              "    </tr>\n",
              "  </thead>\n",
              "  <tbody>\n",
              "    <tr>\n",
              "      <th>0</th>\n",
              "      <td>مبروك و سامحونا لعجزنا التام. عقبال اللي جوه. ...</td>\n",
              "      <td>normal</td>\n",
              "      <td>16</td>\n",
              "      <td>0</td>\n",
              "    </tr>\n",
              "    <tr>\n",
              "      <th>1</th>\n",
              "      <td>كلنا بره ومش هنبطل نزايد على العجايز الي جابون...</td>\n",
              "      <td>hate</td>\n",
              "      <td>10</td>\n",
              "      <td>1</td>\n",
              "    </tr>\n",
              "    <tr>\n",
              "      <th>2</th>\n",
              "      <td>بدل ما انت قاعد بره كده تعالي ازرع الصحرا</td>\n",
              "      <td>normal</td>\n",
              "      <td>9</td>\n",
              "      <td>0</td>\n",
              "    </tr>\n",
              "    <tr>\n",
              "      <th>3</th>\n",
              "      <td>قذر اتفووو ماتيجى مصر وتورينا نفسك كدا ياجبان</td>\n",
              "      <td>hate</td>\n",
              "      <td>8</td>\n",
              "      <td>1</td>\n",
              "    </tr>\n",
              "    <tr>\n",
              "      <th>4</th>\n",
              "      <td>وهكذا رجال الشو اللي محرومين من عمل برنامج الغ...</td>\n",
              "      <td>hate</td>\n",
              "      <td>16</td>\n",
              "      <td>1</td>\n",
              "    </tr>\n",
              "    <tr>\n",
              "      <th>...</th>\n",
              "      <td>...</td>\n",
              "      <td>...</td>\n",
              "      <td>...</td>\n",
              "      <td>...</td>\n",
              "    </tr>\n",
              "    <tr>\n",
              "      <th>23028</th>\n",
              "      <td>يلا ولا خنزير الله يرحم صدام حسين لي كان داعسكن</td>\n",
              "      <td>hate</td>\n",
              "      <td>10</td>\n",
              "      <td>1</td>\n",
              "    </tr>\n",
              "    <tr>\n",
              "      <th>23029</th>\n",
              "      <td>وبلدك سوريا لا تبغي سوا القتل والاجرام</td>\n",
              "      <td>hate</td>\n",
              "      <td>7</td>\n",
              "      <td>1</td>\n",
              "    </tr>\n",
              "    <tr>\n",
              "      <th>23030</th>\n",
              "      <td>معالي الوزير نؤمن بك دائما لأنك الدرع المنيع ف...</td>\n",
              "      <td>normal</td>\n",
              "      <td>14</td>\n",
              "      <td>0</td>\n",
              "    </tr>\n",
              "    <tr>\n",
              "      <th>23031</th>\n",
              "      <td>حياة سندي مستشارة امين عام الامم المتحدة بان ك...</td>\n",
              "      <td>normal</td>\n",
              "      <td>13</td>\n",
              "      <td>0</td>\n",
              "    </tr>\n",
              "    <tr>\n",
              "      <th>23032</th>\n",
              "      <td>انت يا جبران باسيل بعقليتك الفجة النتنة تقولرب...</td>\n",
              "      <td>hate</td>\n",
              "      <td>11</td>\n",
              "      <td>1</td>\n",
              "    </tr>\n",
              "  </tbody>\n",
              "</table>\n",
              "<p>23033 rows × 4 columns</p>\n",
              "</div>\n",
              "      <button class=\"colab-df-convert\" onclick=\"convertToInteractive('df-31964379-417d-4df1-aaa5-ae63f1c46d4c')\"\n",
              "              title=\"Convert this dataframe to an interactive table.\"\n",
              "              style=\"display:none;\">\n",
              "        \n",
              "  <svg xmlns=\"http://www.w3.org/2000/svg\" height=\"24px\"viewBox=\"0 0 24 24\"\n",
              "       width=\"24px\">\n",
              "    <path d=\"M0 0h24v24H0V0z\" fill=\"none\"/>\n",
              "    <path d=\"M18.56 5.44l.94 2.06.94-2.06 2.06-.94-2.06-.94-.94-2.06-.94 2.06-2.06.94zm-11 1L8.5 8.5l.94-2.06 2.06-.94-2.06-.94L8.5 2.5l-.94 2.06-2.06.94zm10 10l.94 2.06.94-2.06 2.06-.94-2.06-.94-.94-2.06-.94 2.06-2.06.94z\"/><path d=\"M17.41 7.96l-1.37-1.37c-.4-.4-.92-.59-1.43-.59-.52 0-1.04.2-1.43.59L10.3 9.45l-7.72 7.72c-.78.78-.78 2.05 0 2.83L4 21.41c.39.39.9.59 1.41.59.51 0 1.02-.2 1.41-.59l7.78-7.78 2.81-2.81c.8-.78.8-2.07 0-2.86zM5.41 20L4 18.59l7.72-7.72 1.47 1.35L5.41 20z\"/>\n",
              "  </svg>\n",
              "      </button>\n",
              "      \n",
              "  <style>\n",
              "    .colab-df-container {\n",
              "      display:flex;\n",
              "      flex-wrap:wrap;\n",
              "      gap: 12px;\n",
              "    }\n",
              "\n",
              "    .colab-df-convert {\n",
              "      background-color: #E8F0FE;\n",
              "      border: none;\n",
              "      border-radius: 50%;\n",
              "      cursor: pointer;\n",
              "      display: none;\n",
              "      fill: #1967D2;\n",
              "      height: 32px;\n",
              "      padding: 0 0 0 0;\n",
              "      width: 32px;\n",
              "    }\n",
              "\n",
              "    .colab-df-convert:hover {\n",
              "      background-color: #E2EBFA;\n",
              "      box-shadow: 0px 1px 2px rgba(60, 64, 67, 0.3), 0px 1px 3px 1px rgba(60, 64, 67, 0.15);\n",
              "      fill: #174EA6;\n",
              "    }\n",
              "\n",
              "    [theme=dark] .colab-df-convert {\n",
              "      background-color: #3B4455;\n",
              "      fill: #D2E3FC;\n",
              "    }\n",
              "\n",
              "    [theme=dark] .colab-df-convert:hover {\n",
              "      background-color: #434B5C;\n",
              "      box-shadow: 0px 1px 3px 1px rgba(0, 0, 0, 0.15);\n",
              "      filter: drop-shadow(0px 1px 2px rgba(0, 0, 0, 0.3));\n",
              "      fill: #FFFFFF;\n",
              "    }\n",
              "  </style>\n",
              "\n",
              "      <script>\n",
              "        const buttonEl =\n",
              "          document.querySelector('#df-31964379-417d-4df1-aaa5-ae63f1c46d4c button.colab-df-convert');\n",
              "        buttonEl.style.display =\n",
              "          google.colab.kernel.accessAllowed ? 'block' : 'none';\n",
              "\n",
              "        async function convertToInteractive(key) {\n",
              "          const element = document.querySelector('#df-31964379-417d-4df1-aaa5-ae63f1c46d4c');\n",
              "          const dataTable =\n",
              "            await google.colab.kernel.invokeFunction('convertToInteractive',\n",
              "                                                     [key], {});\n",
              "          if (!dataTable) return;\n",
              "\n",
              "          const docLinkHtml = 'Like what you see? Visit the ' +\n",
              "            '<a target=\"_blank\" href=https://colab.research.google.com/notebooks/data_table.ipynb>data table notebook</a>'\n",
              "            + ' to learn more about interactive tables.';\n",
              "          element.innerHTML = '';\n",
              "          dataTable['output_type'] = 'display_data';\n",
              "          await google.colab.output.renderOutput(dataTable, element);\n",
              "          const docLink = document.createElement('div');\n",
              "          docLink.innerHTML = docLinkHtml;\n",
              "          element.appendChild(docLink);\n",
              "        }\n",
              "      </script>\n",
              "    </div>\n",
              "  </div>\n",
              "  "
            ],
            "text/plain": [
              "                                             commentaire  ... labels\n",
              "0      مبروك و سامحونا لعجزنا التام. عقبال اللي جوه. ...  ...      0\n",
              "1      كلنا بره ومش هنبطل نزايد على العجايز الي جابون...  ...      1\n",
              "2              بدل ما انت قاعد بره كده تعالي ازرع الصحرا  ...      0\n",
              "3          قذر اتفووو ماتيجى مصر وتورينا نفسك كدا ياجبان  ...      1\n",
              "4      وهكذا رجال الشو اللي محرومين من عمل برنامج الغ...  ...      1\n",
              "...                                                  ...  ...    ...\n",
              "23028    يلا ولا خنزير الله يرحم صدام حسين لي كان داعسكن  ...      1\n",
              "23029            وبلدك سوريا لا تبغي سوا القتل والاجرام   ...      1\n",
              "23030  معالي الوزير نؤمن بك دائما لأنك الدرع المنيع ف...  ...      0\n",
              "23031  حياة سندي مستشارة امين عام الامم المتحدة بان ك...  ...      0\n",
              "23032  انت يا جبران باسيل بعقليتك الفجة النتنة تقولرب...  ...      1\n",
              "\n",
              "[23033 rows x 4 columns]"
            ]
          },
          "metadata": {},
          "execution_count": 9
        }
      ],
      "source": [
        "train"
      ]
    },
    {
      "cell_type": "code",
      "execution_count": null,
      "metadata": {
        "colab": {
          "base_uri": "https://localhost:8080/"
        },
        "id": "oGLoYOBGcQLC",
        "outputId": "6fb93494-bfa1-4431-b096-a374b0e08ae7"
      },
      "outputs": [
        {
          "output_type": "stream",
          "name": "stdout",
          "text": [
            "[nltk_data] Downloading package stopwords to /root/nltk_data...\n",
            "[nltk_data]   Package stopwords is already up-to-date!\n",
            "[nltk_data] Downloading package wordnet to /root/nltk_data...\n",
            "[nltk_data]   Package wordnet is already up-to-date!\n"
          ]
        }
      ],
      "source": [
        "import nltk\n",
        "nltk.download('stopwords')\n",
        "nltk.download('wordnet')\n",
        "from nltk.corpus import stopwords\n",
        "stopwords_list = stopwords.words('arabic')"
      ]
    },
    {
      "cell_type": "code",
      "execution_count": null,
      "metadata": {
        "id": "eTokWOWpbiMT"
      },
      "outputs": [],
      "source": [
        "#cleaning data\n",
        "import re\n",
        "from nltk.stem.porter import PorterStemmer\n",
        "tokenizer=nltk.tokenize.WhitespaceTokenizer()\n",
        "from nltk.stem.isri import ISRIStemmer\n",
        "st = ISRIStemmer()\n",
        "from snowballstemmer import stemmer\n",
        "ar_stemmer = stemmer(\"arabic\")\n",
        "def preprocess(review):\n",
        "   review = re.sub('[^ا-ي]', ' ', review)\n",
        " \n",
        "   review = tokenizer.tokenize(review)\n",
        "   review = [ar_stemmer.stemWord(word) for word in review if not word in set(stopwords_list )]\n",
        "   review = ' '.join(review)\n",
        "   return review"
      ]
    },
    {
      "cell_type": "code",
      "execution_count": null,
      "metadata": {
        "id": "0fUSTtv_b2Tj"
      },
      "outputs": [],
      "source": [
        "# X_train = train['commentaire'].apply(preprocess)\n",
        "X_train = X_train.apply(preprocess)\n"
      ]
    },
    {
      "cell_type": "code",
      "execution_count": null,
      "metadata": {
        "colab": {
          "base_uri": "https://localhost:8080/",
          "height": 36
        },
        "id": "pHWUrV9_cchK",
        "outputId": "25a1fc44-6265-4a76-a4e4-d5c4a95ff039"
      },
      "outputs": [
        {
          "output_type": "execute_result",
          "data": {
            "application/vnd.google.colaboratory.intrinsic+json": {
              "type": "string"
            },
            "text/plain": [
              "'مبر سامح لعجز تام عقبال الل جوه الل بره عاجز يزايد عاجز'"
            ]
          },
          "metadata": {},
          "execution_count": 13
        }
      ],
      "source": [
        "X_train[0] ### Après preprocessing"
      ]
    },
    {
      "cell_type": "code",
      "execution_count": null,
      "metadata": {
        "colab": {
          "base_uri": "https://localhost:8080/",
          "height": 36
        },
        "id": "TNY4hgF8dEM6",
        "outputId": "7fa36008-21c1-4ac7-b4aa-a601802fd1e7"
      },
      "outputs": [
        {
          "output_type": "execute_result",
          "data": {
            "application/vnd.google.colaboratory.intrinsic+json": {
              "type": "string"
            },
            "text/plain": [
              "'مبروك و سامحونا لعجزنا التام. عقبال اللي جوه. اللي بره يا عاجز يا بيزايد على العاجز'"
            ]
          },
          "metadata": {},
          "execution_count": 14
        }
      ],
      "source": [
        "train['commentaire'][0] ### Originale"
      ]
    },
    {
      "cell_type": "code",
      "execution_count": null,
      "metadata": {
        "id": "qMwojEJFiiBY"
      },
      "outputs": [],
      "source": [
        "# x=train[323].lower().replace('@user','').replace('url','')\n",
        "# x=re.sub('[^A-Za-z]', ' ', x)\n",
        "# re.sub('http[s]?://(?:[a-zA-Z]|[0-9]|[$-_@.&+]|'\n",
        "#         '[!*\\(\\),]|(?:%[0-9a-fA-F][0-9a-fA-F]))+','',x)"
      ]
    },
    {
      "cell_type": "code",
      "execution_count": null,
      "metadata": {
        "id": "0KkTgzF_q4s1"
      },
      "outputs": [],
      "source": [
        "# # Creating the training corpus\n",
        "# stop_words = set(stopwords.words(\"english\")) \n",
        "# lemmatizer = WordNetLemmatizer()\n",
        "# corpus_train = []\n",
        "# for i in train:\n",
        "#     x=i.lower()\n",
        "#     x=x.replace('@user','')\n",
        "#     x=x.replace('@[\\w\\-]+','')\n",
        "#     #x=x.translate(str.maketrans('', '', string.punctuation))\n",
        "#     x = re.sub('[^A-Za-z]', ' ', x)\n",
        "#     #x=re.sub('\\s+',' ',x)\n",
        "#     x=re.sub('http[s]?://(?:[a-zA-Z]|[0-9]|[$-_@.&+]|'\n",
        "#         '[!*\\(\\),]|(?:%[0-9a-fA-F][0-9a-fA-F]))+','',x) #url\n",
        "#     #x = [lemmatizer.lemmatize(token) for token in x.split(\" \")]\n",
        "#     #x = [word for word in x if not word in stop_words]\n",
        "#     #x=\" \".join(x)\n",
        "#     corpus_train.append(x)    \n",
        "# # Creating the training corpus\n",
        "# corpus_test = []\n",
        "# for i in test:\n",
        "#     x=i.lower()\n",
        "#     x=x.replace('@user','')\n",
        "#     x=x.replace('@[\\w\\-]+','')\n",
        "#     #x=x.translate(str.maketrans('', '', string.punctuation))\n",
        "#     x = re.sub('[^A-Za-z]', ' ', x)\n",
        "#     #x=re.sub('\\s+',' ',x)\n",
        "#     x=re.sub('http[s]?://(?:[a-zA-Z]|[0-9]|[$-_@.&+]|'\n",
        "#         '[!*\\(\\),]|(?:%[0-9a-fA-F][0-9a-fA-F]))+','',x) #url\n",
        "#     #x = [lemmatizer.lemmatize(token) for token in x.split(\" \")]\n",
        "#     #x = [word for word in x if not word in stop_words]\n",
        "#     #x=\" \".join(x)\n",
        "#     corpus_test.append(x) "
      ]
    },
    {
      "cell_type": "code",
      "execution_count": null,
      "metadata": {
        "id": "GyyHvozBq7kf"
      },
      "outputs": [],
      "source": [
        "# from keras.preprocessing.text import Tokenizer\n",
        "# from keras.preprocessing import sequence\n",
        "# max_words = 5000 #frequency of words to be kept\n",
        "# max_len = 200\n",
        "# tokenize = Tokenizer(num_words=max_words)\n",
        "# tokenize.fit_on_texts(corpus_train)\n",
        "# sequences = tokenize.texts_to_sequences(corpus_train)\n",
        "# word_index = tokenize.word_index\n",
        "# sequences_matrix = sequence.pad_sequences(sequences,maxlen=max_len)"
      ]
    },
    {
      "cell_type": "code",
      "execution_count": null,
      "metadata": {
        "colab": {
          "base_uri": "https://localhost:8080/"
        },
        "id": "DUs3GSQ9e6lq",
        "outputId": "78dab252-a05e-4abd-cd3d-08d33f85dc5f"
      },
      "outputs": [
        {
          "output_type": "execute_result",
          "data": {
            "text/plain": [
              "23966"
            ]
          },
          "metadata": {},
          "execution_count": 18
        }
      ],
      "source": [
        "# splitting the data into target and feature\n",
        "from sklearn.model_selection import train_test_split\n",
        "from keras.preprocessing.text import Tokenizer\n",
        "from keras.preprocessing.sequence import pad_sequences \n",
        "\n",
        "X_train, X_test, y_train, y_test = train_test_split(X_train, y_train ,test_size = 0.1, random_state=0)\n",
        "tokenizer = Tokenizer(lower=True)\n",
        "tokenizer.fit_on_texts(X_train)\n",
        "\n",
        "X_train = tokenizer.texts_to_sequences(X_train)\n",
        "X_test = tokenizer.texts_to_sequences(X_test)\n",
        "\n",
        "vocab_size = len(tokenizer.word_index) + 1 \n",
        "vocab_size # Adding 1 because of reserved 0 index"
      ]
    },
    {
      "cell_type": "code",
      "execution_count": null,
      "metadata": {
        "id": "_Ae1X0N6mtK1"
      },
      "outputs": [],
      "source": [
        "word_index = tokenizer.word_index\n"
      ]
    },
    {
      "cell_type": "code",
      "execution_count": null,
      "metadata": {
        "colab": {
          "base_uri": "https://localhost:8080/"
        },
        "id": "gm9MD9MKgew-",
        "outputId": "484fdd25-7107-43e0-8587-b24a6b16538e"
      },
      "outputs": [
        {
          "output_type": "stream",
          "name": "stdout",
          "text": [
            "Max len: 388\n"
          ]
        }
      ],
      "source": [
        "lens_train = [len(i) for i in X_train]\n",
        "lens_test = [len(i) for i in X_test]\n",
        "lens = lens_train + lens_test\n",
        "\n",
        "maxlen = np.max(lens)\n",
        "print('Max len:', maxlen)"
      ]
    },
    {
      "cell_type": "code",
      "execution_count": null,
      "metadata": {
        "id": "MHCkOuIlo0Bc"
      },
      "outputs": [],
      "source": [
        "# len(x.split())\n",
        "\n",
        "# lens_train = [len(i.split()) for i in list(train['commentaire'])]\n",
        "# lens_test = [len(i.split()) for i in X_test]\n",
        "# lens = lens_train + lens_test\n",
        "\n",
        "# maxlen_ = np.max(train['word_count'])\n",
        "# print('Max len:', maxlen_)\n"
      ]
    },
    {
      "cell_type": "code",
      "execution_count": null,
      "metadata": {
        "id": "sYN-06rwkCyJ"
      },
      "outputs": [],
      "source": [
        "# num_words = min(max_words, len(word_index)) + 1\n",
        "# print(num_words)"
      ]
    },
    {
      "cell_type": "code",
      "execution_count": null,
      "metadata": {
        "colab": {
          "base_uri": "https://localhost:8080/"
        },
        "id": "DO1yndKJiXxl",
        "outputId": "4e06c01d-8c39-4e7a-92ca-218e1faec3e9"
      },
      "outputs": [
        {
          "output_type": "stream",
          "name": "stdout",
          "text": [
            "--2022-01-11 09:59:42--  https://bakrianoo.ewr1.vultrobjects.com/aravec/full_grams_cbow_300_twitter.zip\n",
            "Resolving bakrianoo.ewr1.vultrobjects.com (bakrianoo.ewr1.vultrobjects.com)... 108.61.0.122, 2001:19f0:0:22::100\n",
            "Connecting to bakrianoo.ewr1.vultrobjects.com (bakrianoo.ewr1.vultrobjects.com)|108.61.0.122|:443... connected.\n",
            "HTTP request sent, awaiting response... 200 OK\n",
            "Length: 3325529808 (3.1G) [application/zip]\n",
            "Saving to: ‘full_grams_cbow_300_twitter.zip’\n",
            "\n",
            "ow_300_twitter.zip    9%[>                   ] 305.78M  14.1MB/s    eta 4m 5s  ^C\n"
          ]
        }
      ],
      "source": [
        "### AraVec embeddings\n",
        "!wget https://bakrianoo.ewr1.vultrobjects.com/aravec/full_grams_cbow_300_twitter.zip"
      ]
    },
    {
      "cell_type": "code",
      "execution_count": null,
      "metadata": {
        "id": "N9NhnutckY-C"
      },
      "outputs": [],
      "source": [
        "### FastText Arabic embeddings\n",
        "#!wget https://dl.fbaipublicfiles.com/fasttext/vectors-crawl/cc.ar.300.vec.gz"
      ]
    },
    {
      "cell_type": "code",
      "execution_count": null,
      "metadata": {
        "id": "vNP3UOz1djK_"
      },
      "outputs": [],
      "source": [
        "### Unzip AraVec \n",
        "#!unzip /content/full_grams_cbow_300_twitter.zip"
      ]
    },
    {
      "cell_type": "code",
      "execution_count": null,
      "metadata": {
        "id": "bPzCEayqk0o0"
      },
      "outputs": [],
      "source": [
        "### Unzip FastText Arabic\n",
        "#!gzip -d /content/cc.ar.300.vec.gz"
      ]
    },
    {
      "cell_type": "code",
      "execution_count": null,
      "metadata": {
        "id": "vlMA1Qwfg0EA"
      },
      "outputs": [],
      "source": [
        "embedding_path1 = \"/content/drive/MyDrive/FastText_Aravec_Arabic_embeddings/cc.ar.300.vec\" ### FadText Arabic\n",
        "embedding_path2 = \"/content/drive/MyDrive/FastText_Aravec_Arabic_embeddings/full_grams_cbow_300_twitter.mdl.wv.vectors.npy\" ### AraVec\n",
        "embed_size = 300"
      ]
    },
    {
      "cell_type": "code",
      "execution_count": null,
      "metadata": {
        "id": "TyxVJQ45rSW3"
      },
      "outputs": [],
      "source": [
        "def get_coefs(word,*arr):\n",
        "    return word, np.asarray(arr, dtype='float32')\n",
        "\n",
        "def build_matrix(embedding_path, word_index):\n",
        "    embedding_index = dict(get_coefs(*o.strip().split(\" \")) for o in open(embedding_path))\n",
        "\n",
        "    nb_words = min(maxlen, len(word_index))\n",
        "    # embedding_matrix = np.zeros((nb_words + 1, embed_size))\n",
        "    embedding_matrix = np.zeros((vocab_size + 1, embed_size))\n",
        "    for word, i in word_index.items():\n",
        "        if i >= maxlen:\n",
        "            continue\n",
        "        embedding_vector = embedding_index.get(word)\n",
        "        if embedding_vector is not None:\n",
        "            embedding_matrix[i] = embedding_vector\n",
        "    return embedding_matrix\n"
      ]
    },
    {
      "cell_type": "code",
      "execution_count": null,
      "metadata": {
        "id": "zYUKY8LXkIoK"
      },
      "outputs": [],
      "source": [
        "fasttext_arabic_emb = build_matrix(embedding_path1, word_index)\n",
        "# aravec_emb = build_matrix(embedding_path2, word_index)"
      ]
    },
    {
      "cell_type": "code",
      "execution_count": null,
      "metadata": {
        "colab": {
          "base_uri": "https://localhost:8080/"
        },
        "id": "ujFHFjvZgbri",
        "outputId": "0f201694-e888-422f-b29b-9d699ebbc17b"
      },
      "outputs": [
        {
          "output_type": "execute_result",
          "data": {
            "text/plain": [
              "(23967, 300)"
            ]
          },
          "metadata": {},
          "execution_count": 30
        }
      ],
      "source": [
        "fasttext_arabic_emb.shape"
      ]
    },
    {
      "cell_type": "code",
      "execution_count": null,
      "metadata": {
        "id": "Tla3YBh1xpBK"
      },
      "outputs": [],
      "source": [
        "import gensim\n",
        "#/content/drive/MyDrive/FastText_Aravec_Arabic_embeddings/\n",
        "t_model = gensim.models.Word2Vec.load('/content/drive/MyDrive/FastText_Aravec_Arabic_embeddings/full_grams_cbow_300_twitter.mdl')\n",
        "#t_model = gensim.models.Word2Vec.load('/content/full_grams_cbow_300_twitter.mdl')\n",
        "#t_model = gensim.models.Word2Vec.load('full_grams_cbow_300_twitter.mdl')"
      ]
    },
    {
      "cell_type": "code",
      "execution_count": null,
      "metadata": {
        "id": "VPIk72dXx4rz"
      },
      "outputs": [],
      "source": [
        "# word_vector = t_model.wv[ token ]\n",
        "\n",
        "def build_aravec_matrix(embedding_path, word_index):\n",
        "\n",
        "    nb_words = min(maxlen, len(word_index))\n",
        "    # embedding_matrix = np.zeros((nb_words + 1, embed_size))\n",
        "    embedding_matrix = np.zeros((vocab_size + 1, embed_size))\n",
        "    for word, i in word_index.items():\n",
        "        if i >= maxlen:\n",
        "            continue\n",
        "        try:\n",
        "          embedding_vector = t_model.wv[word]\n",
        "        except KeyError:\n",
        "          continue\n",
        "        if embedding_vector is not None:\n",
        "            embedding_matrix[i] = t_model.wv[word]\n",
        "    return embedding_matrix"
      ]
    },
    {
      "cell_type": "code",
      "execution_count": null,
      "metadata": {
        "id": "jPT-r20-vv3L"
      },
      "outputs": [],
      "source": [
        "aravec_emb = build_aravec_matrix(embedding_path2, word_index)"
      ]
    },
    {
      "cell_type": "code",
      "execution_count": null,
      "metadata": {
        "colab": {
          "base_uri": "https://localhost:8080/"
        },
        "id": "-GfJTGLH9GiR",
        "outputId": "21022ae3-5137-4d29-89ac-994ef0b31965"
      },
      "outputs": [
        {
          "output_type": "execute_result",
          "data": {
            "text/plain": [
              "(23967, 300)"
            ]
          },
          "metadata": {},
          "execution_count": 35
        }
      ],
      "source": [
        "aravec_emb.shape"
      ]
    },
    {
      "cell_type": "code",
      "execution_count": null,
      "metadata": {
        "colab": {
          "base_uri": "https://localhost:8080/"
        },
        "id": "ywE3rEY3AvVS",
        "outputId": "062fee20-8d6f-41f4-c06b-250a4e54f452"
      },
      "outputs": [
        {
          "output_type": "execute_result",
          "data": {
            "text/plain": [
              "array([[ 0.        ,  0.        ,  0.        , ...,  0.        ,\n",
              "         0.        ,  0.        ],\n",
              "       [ 0.16235431, -1.00791025, -0.86719418, ..., -0.01928542,\n",
              "        -1.11376536, -1.04606497],\n",
              "       [ 0.14556547,  0.42558247,  0.31349891, ...,  0.99427533,\n",
              "        -0.72583079,  2.37648702],\n",
              "       ...,\n",
              "       [ 0.        ,  0.        ,  0.        , ...,  0.        ,\n",
              "         0.        ,  0.        ],\n",
              "       [ 0.        ,  0.        ,  0.        , ...,  0.        ,\n",
              "         0.        ,  0.        ],\n",
              "       [ 0.        ,  0.        ,  0.        , ...,  0.        ,\n",
              "         0.        ,  0.        ]])"
            ]
          },
          "metadata": {},
          "execution_count": 36
        }
      ],
      "source": [
        "aravec_emb"
      ]
    },
    {
      "cell_type": "markdown",
      "metadata": {
        "id": "uiArU6WLwghI"
      },
      "source": [
        "ccombinaison des deux embedding\n"
      ]
    },
    {
      "cell_type": "code",
      "execution_count": null,
      "metadata": {
        "colab": {
          "base_uri": "https://localhost:8080/"
        },
        "id": "v7uZ-HJ4ln2_",
        "outputId": "05d4a363-175b-41b4-b0eb-0ff357ca7cbb"
      },
      "outputs": [
        {
          "output_type": "execute_result",
          "data": {
            "text/plain": [
              "(23967, 300)"
            ]
          },
          "metadata": {},
          "execution_count": 37
        }
      ],
      "source": [
        "embedding_matrix2=np.mean((fasttext_arabic_emb, aravec_emb),axis=0)\n",
        "embedding_matrix2.shape"
      ]
    },
    {
      "cell_type": "code",
      "execution_count": null,
      "metadata": {
        "id": "dLnt7QKJ8WzH"
      },
      "outputs": [],
      "source": [
        "from keras.preprocessing import sequence\n",
        "\n",
        "# test_sequences = tokenize.texts_to_sequences(corpus_test)\n",
        "X_train_pad = sequence.pad_sequences(X_train, maxlen=maxlen)\n",
        "X_test_pad  = sequence.pad_sequences(X_test, maxlen=maxlen)"
      ]
    },
    {
      "cell_type": "code",
      "execution_count": null,
      "metadata": {
        "id": "EVwNl2COnOTt"
      },
      "outputs": [],
      "source": [
        "from keras import backend as K\n",
        "def f1(y_true, y_pred):\n",
        "    \n",
        "    def recall(y_true, y_pred):\n",
        "        \"\"\"Recall metric.\n",
        "\n",
        "        Only computes a batch-wise average of recall.\n",
        "\n",
        "        Computes the recall, a metric for multi-label classification of\n",
        "        how many relevant items are selected.\n",
        "        \"\"\"\n",
        "        true_positives = K.sum(K.round(K.clip(y_true * y_pred, 0, 1)))\n",
        "        possible_positives = K.sum(K.round(K.clip(y_true, 0, 1)))\n",
        "        recall = true_positives / (possible_positives + K.epsilon())\n",
        "        return recall\n",
        "\n",
        "    def precision(y_true, y_pred):\n",
        "        \"\"\"Precision metric.\n",
        "\n",
        "        Only computes a batch-wise average of precision.\n",
        "\n",
        "        Computes the precision, a metric for multi-label classification of\n",
        "        how many selected items are relevant.\n",
        "        \"\"\"\n",
        "        true_positives = K.sum(K.round(K.clip(y_true * y_pred, 0, 1)))\n",
        "        predicted_positives = K.sum(K.round(K.clip(y_pred, 0, 1)))\n",
        "        precision = true_positives / (predicted_positives + K.epsilon())\n",
        "        return precision\n",
        "    precision = precision(y_true, y_pred)\n",
        "    recall = recall(y_true, y_pred)\n",
        "    return 2*((precision*recall)/(precision+recall+K.epsilon()))"
      ]
    },
    {
      "cell_type": "code",
      "execution_count": null,
      "metadata": {
        "id": "9QwiUz7VFJPz"
      },
      "outputs": [],
      "source": [
        "callbacks = keras.callbacks.EarlyStopping(monitor='val_f1', mode='max', verbose=1,\n",
        "                                          patience=8,restore_best_weights = True)"
      ]
    },
    {
      "cell_type": "code",
      "execution_count": null,
      "metadata": {
        "id": "HkMkKWsJrzeN"
      },
      "outputs": [],
      "source": [
        "from keras.models import Sequential,Model\n",
        "from tensorflow.compat.v1.keras.layers import CuDNNGRU\n",
        "from keras.layers import Embedding,Dense,GRU\n",
        "from keras.layers import Dropout,Bidirectional,GlobalMaxPool1D,GlobalAveragePooling1D\n",
        "from keras.layers import SpatialDropout1D,concatenate,Input\n",
        "# from keras.optimizers import RMSprop\n",
        "from keras.initializers import Constant\n",
        "from sklearn.utils import class_weight\n",
        "from keras.callbacks import ModelCheckpoint\n",
        "import tensorflow as tf\n",
        "#tf.logging.set_verbosity(tf.logging.ERROR)"
      ]
    },
    {
      "cell_type": "code",
      "execution_count": null,
      "metadata": {
        "id": "Il9FI8EkTTBh"
      },
      "outputs": [],
      "source": [
        "from sklearn.metrics import classification_report\n",
        "from sklearn.metrics import confusion_matrix, f1_score, precision_score, recall_score\n",
        "import matplotlib.pyplot as plt\n",
        "import seaborn as sns"
      ]
    },
    {
      "cell_type": "code",
      "execution_count": null,
      "metadata": {
        "id": "fL-leK_jTorh"
      },
      "outputs": [],
      "source": [
        "class_weights = class_weight.compute_class_weight(class_weight='balanced', classes=np.unique(y_train), y=y_train)\n",
        "class_weights=dict(enumerate(class_weights))"
      ]
    },
    {
      "cell_type": "markdown",
      "metadata": {
        "id": "StHob8uHVS2A"
      },
      "source": [
        "# BIGRUs Model"
      ]
    },
    {
      "cell_type": "markdown",
      "metadata": {
        "id": "ZwFFlBGFR2tv"
      },
      "source": [
        "### Training a model with Aravec and Fasttext embedding"
      ]
    },
    {
      "cell_type": "code",
      "execution_count": null,
      "metadata": {
        "id": "EIRQc1aLRhHg"
      },
      "outputs": [],
      "source": [
        "inp=Input((maxlen,))\n",
        "#Embedding Layer \n",
        "x=Embedding(vocab_size + 1,embed_size,embeddings_initializer=Constant(embedding_matrix2),\n",
        "            input_length=maxlen,trainable=True)(inp)\n",
        "x = SpatialDropout1D(0.2)(x)\n",
        "#GRU Bidrirectionnel\n",
        "x=Bidirectional(GRU(150, return_sequences = True))(x)\n",
        "avg_pool = GlobalAveragePooling1D()(x)\n",
        "max_pool = GlobalMaxPool1D()(x)\n",
        "conc = concatenate([avg_pool, max_pool])\n",
        "\n",
        " \n",
        "x=Dropout(0.1)(conc)\n",
        "out=Dense(64, activation=\"relu\")(x)\n",
        "out=Dense(32, activation=\"relu\")(out)\n",
        "\n",
        "out=Dense(3, activation=\"softmax\")(out)\n",
        "\n",
        "model=Model(inp,out)\n",
        "\n",
        "mcp_save = ModelCheckpoint('model.mdl_wts.hdf5', save_best_only=True,\n",
        "                           monitor='val_loss', mode='min',patience = 5)\n",
        "\n"
      ]
    },
    {
      "cell_type": "code",
      "execution_count": null,
      "metadata": {
        "id": "hCVvlC7ARlLY"
      },
      "outputs": [],
      "source": [
        "model.compile(loss=tf.keras.losses.CategoricalCrossentropy(), optimizer=tf.keras.optimizers.Adam(), metrics=[f1])"
      ]
    },
    {
      "cell_type": "code",
      "execution_count": null,
      "metadata": {
        "colab": {
          "base_uri": "https://localhost:8080/"
        },
        "id": "LBDAzDdwRpeJ",
        "outputId": "5280e55f-a52d-4f6c-91f1-d98fd55d595d"
      },
      "outputs": [
        {
          "output_type": "stream",
          "name": "stdout",
          "text": [
            "Model: \"model\"\n",
            "__________________________________________________________________________________________________\n",
            " Layer (type)                   Output Shape         Param #     Connected to                     \n",
            "==================================================================================================\n",
            " input_1 (InputLayer)           [(None, 388)]        0           []                               \n",
            "                                                                                                  \n",
            " embedding (Embedding)          (None, 388, 300)     7190100     ['input_1[0][0]']                \n",
            "                                                                                                  \n",
            " spatial_dropout1d (SpatialDrop  (None, 388, 300)    0           ['embedding[0][0]']              \n",
            " out1D)                                                                                           \n",
            "                                                                                                  \n",
            " bidirectional (Bidirectional)  (None, 388, 300)     406800      ['spatial_dropout1d[0][0]']      \n",
            "                                                                                                  \n",
            " global_average_pooling1d (Glob  (None, 300)         0           ['bidirectional[0][0]']          \n",
            " alAveragePooling1D)                                                                              \n",
            "                                                                                                  \n",
            " global_max_pooling1d (GlobalMa  (None, 300)         0           ['bidirectional[0][0]']          \n",
            " xPooling1D)                                                                                      \n",
            "                                                                                                  \n",
            " concatenate (Concatenate)      (None, 600)          0           ['global_average_pooling1d[0][0]'\n",
            "                                                                 , 'global_max_pooling1d[0][0]']  \n",
            "                                                                                                  \n",
            " dropout (Dropout)              (None, 600)          0           ['concatenate[0][0]']            \n",
            "                                                                                                  \n",
            " dense (Dense)                  (None, 64)           38464       ['dropout[0][0]']                \n",
            "                                                                                                  \n",
            " dense_1 (Dense)                (None, 32)           2080        ['dense[0][0]']                  \n",
            "                                                                                                  \n",
            " dense_2 (Dense)                (None, 3)            99          ['dense_1[0][0]']                \n",
            "                                                                                                  \n",
            "==================================================================================================\n",
            "Total params: 7,637,543\n",
            "Trainable params: 7,637,543\n",
            "Non-trainable params: 0\n",
            "__________________________________________________________________________________________________\n"
          ]
        }
      ],
      "source": [
        "model.summary()"
      ]
    },
    {
      "cell_type": "code",
      "execution_count": null,
      "metadata": {
        "colab": {
          "base_uri": "https://localhost:8080/",
          "height": 1000
        },
        "id": "dAjMWY-nmAeL",
        "outputId": "6b07db17-8682-4b44-acb3-1f23dbaf1a01"
      },
      "outputs": [
        {
          "output_type": "execute_result",
          "data": {
            "image/png": "[encoded data removed]",
            "text/plain": [
              "<IPython.core.display.Image object>"
            ]
          },
          "metadata": {},
          "execution_count": 47
        }
      ],
      "source": [
        "tf.keras.utils.plot_model(model, show_shapes=True)"
      ]
    },
    {
      "cell_type": "code",
      "execution_count": null,
      "metadata": {
        "id": "khxVuHQQENNR"
      },
      "outputs": [],
      "source": [
        "from tensorflow.keras.utils import to_categorical\n",
        "\n",
        "y_train = to_categorical(y_train, 3)\n",
        "y_test  = to_categorical(y_test, 3)"
      ]
    },
    {
      "cell_type": "code",
      "execution_count": null,
      "metadata": {
        "colab": {
          "base_uri": "https://localhost:8080/"
        },
        "id": "SFa5d1PhR__j",
        "outputId": "6e52279a-0030-4e10-b54b-4d072ca3767b"
      },
      "outputs": [
        {
          "output_type": "stream",
          "name": "stdout",
          "text": [
            "Epoch 1/30\n",
            "130/130 [==============================] - 42s 266ms/step - loss: 0.8726 - f1: 0.4950 - val_loss: 0.6777 - val_f1: 0.6897\n",
            "Epoch 2/30\n",
            "130/130 [==============================] - 33s 258ms/step - loss: 0.5321 - f1: 0.7912 - val_loss: 0.5047 - val_f1: 0.8111\n",
            "Epoch 3/30\n",
            "130/130 [==============================] - 33s 256ms/step - loss: 0.2807 - f1: 0.9013 - val_loss: 0.5358 - val_f1: 0.8105\n",
            "Epoch 4/30\n",
            "130/130 [==============================] - 33s 256ms/step - loss: 0.1683 - f1: 0.9430 - val_loss: 0.6497 - val_f1: 0.7992\n",
            "Epoch 5/30\n",
            "130/130 [==============================] - 33s 256ms/step - loss: 0.1240 - f1: 0.9572 - val_loss: 0.7053 - val_f1: 0.7878\n",
            "Epoch 6/30\n",
            "130/130 [==============================] - 33s 256ms/step - loss: 0.0989 - f1: 0.9667 - val_loss: 0.7858 - val_f1: 0.7907\n",
            "Epoch 7/30\n",
            "130/130 [==============================] - 33s 256ms/step - loss: 0.0831 - f1: 0.9710 - val_loss: 0.8854 - val_f1: 0.7712\n",
            "Epoch 8/30\n",
            "130/130 [==============================] - 33s 256ms/step - loss: 0.0756 - f1: 0.9724 - val_loss: 0.8329 - val_f1: 0.7826\n",
            "Epoch 9/30\n",
            "130/130 [==============================] - 33s 256ms/step - loss: 0.0675 - f1: 0.9749 - val_loss: 1.0191 - val_f1: 0.7684\n",
            "Epoch 10/30\n",
            "130/130 [==============================] - ETA: 0s - loss: 0.0660 - f1: 0.9753Restoring model weights from the end of the best epoch: 2.\n",
            "130/130 [==============================] - 33s 257ms/step - loss: 0.0660 - f1: 0.9753 - val_loss: 0.9922 - val_f1: 0.7860\n",
            "Epoch 00010: early stopping\n"
          ]
        },
        {
          "output_type": "execute_result",
          "data": {
            "text/plain": [
              "<keras.callbacks.History at 0x7fa5d38aaa10>"
            ]
          },
          "metadata": {},
          "execution_count": 49
        }
      ],
      "source": [
        "model.fit(X_train_pad, y_train, batch_size=128, epochs=30, verbose=1, class_weight=class_weights,\n",
        "          validation_split = 0.2, callbacks=[callbacks])"
      ]
    },
    {
      "cell_type": "code",
      "execution_count": null,
      "metadata": {
        "colab": {
          "base_uri": "https://localhost:8080/"
        },
        "id": "1BD-ntr8rznW",
        "outputId": "e257a9b9-c9f5-4415-919c-d6554f52a8da"
      },
      "outputs": [
        {
          "output_type": "stream",
          "name": "stdout",
          "text": [
            "72/72 [==============================] - 6s 74ms/step - loss: 0.5508 - f1: 0.7954\n",
            "[0.5508117079734802, 0.7954496145248413]\n"
          ]
        }
      ],
      "source": [
        "print(model.evaluate(X_test_pad, y_test))"
      ]
    },
    {
      "cell_type": "code",
      "execution_count": null,
      "metadata": {
        "colab": {
          "base_uri": "https://localhost:8080/"
        },
        "id": "u-fKEe-4rzp4",
        "outputId": "3e782b4b-7bd0-4e15-ca89-916c7e366565"
      },
      "outputs": [
        {
          "output_type": "stream",
          "name": "stdout",
          "text": [
            "18/18 [==============================] - 2s 80ms/step\n",
            "              precision    recall  f1-score   support\n",
            "\n",
            "        Hate       0.86      0.85      0.85      1231\n",
            "      Normal       0.78      0.62      0.69       680\n",
            "     Abusive       0.74      0.81      0.77       393\n",
            "\n",
            "   micro avg       0.81      0.78      0.80      2304\n",
            "   macro avg       0.79      0.76      0.77      2304\n",
            "weighted avg       0.81      0.78      0.79      2304\n",
            " samples avg       0.78      0.78      0.78      2304\n",
            "\n"
          ]
        },
        {
          "output_type": "stream",
          "name": "stderr",
          "text": [
            "/usr/local/lib/python3.7/dist-packages/sklearn/metrics/_classification.py:1308: UndefinedMetricWarning: Precision and F-score are ill-defined and being set to 0.0 in samples with no predicted labels. Use `zero_division` parameter to control this behavior.\n",
            "  _warn_prf(average, modifier, msg_start, len(result))\n"
          ]
        }
      ],
      "source": [
        "y_pred = model.predict(X_test_pad, batch_size=128, verbose=1)\n",
        "y_pred_bool = np.argmax(y_pred, axis=1)\n",
        "y_pred = (y_pred > 0.5)\n",
        "\n",
        "print(classification_report(y_test, y_pred, target_names=(['Hate','Normal','Abusive'])))\n"
      ]
    },
    {
      "cell_type": "code",
      "execution_count": null,
      "metadata": {
        "colab": {
          "base_uri": "https://localhost:8080/"
        },
        "id": "4LtnRxVRmNcl",
        "outputId": "d5ccd73f-57e5-4f0f-af40-f6535586e40c"
      },
      "outputs": [
        {
          "output_type": "execute_result",
          "data": {
            "text/plain": [
              "0.7929162202939342"
            ]
          },
          "metadata": {},
          "execution_count": 52
        }
      ],
      "source": [
        "f1_score(y_test, y_pred, average=\"weighted\")"
      ]
    },
    {
      "cell_type": "code",
      "execution_count": null,
      "metadata": {
        "id": "72QjwwRRrzsu"
      },
      "outputs": [],
      "source": [
        "from tensorflow import keras\n",
        "keras.backend.clear_session()"
      ]
    },
    {
      "cell_type": "code",
      "execution_count": null,
      "metadata": {
        "id": "4o9xT3kjyc7W"
      },
      "outputs": [],
      "source": [
        "from sklearn import metrics\n",
        "metric = metrics.accuracy_score(y_test, y_pred), metrics.f1_score(y_test, y_pred, average='weighted'), metrics.recall_score(y_test, y_pred, average='weighted'), metrics.precision_score(y_test, y_pred, average='weighted')"
      ]
    },
    {
      "cell_type": "code",
      "execution_count": null,
      "metadata": {
        "colab": {
          "base_uri": "https://localhost:8080/",
          "height": 226
        },
        "id": "czSMQdvTQZs_",
        "outputId": "23963a46-870c-4669-fceb-53d229fc8bfc"
      },
      "outputs": [
        {
          "output_type": "execute_result",
          "data": {
            "text/plain": [
              "(0.0, 1.0)"
            ]
          },
          "metadata": {},
          "execution_count": 55
        },
        {
          "output_type": "display_data",
          "data": {
            "image/png": "[encoded data removed]",
            "text/plain": [
              "<Figure size 576x144 with 1 Axes>"
            ]
          },
          "metadata": {
            "needs_background": "light"
          }
        }
      ],
      "source": [
        "fig = plt.figure()\n",
        "fig.set_size_inches(8,2)\n",
        "ax = fig.add_axes([0,0,1,1])\n",
        "rect1 = ax.bar(0.00,round(metric[0], 2), color = 'b', width = 0.05)\n",
        "rect2 = ax.bar(0.20, round(metric[1], 2), color = 'g', width = 0.05)\n",
        "rect3 = ax.bar(0.40, round(metric[2], 2) , color = 'r', width = 0.05)\n",
        "rect4 = ax.bar(0.60, round(metric[3], 2) , color = (1, 0, 1), width = 0.05)\n",
        "\n",
        "ax.set_ylabel('Scores')\n",
        "ax.set_title('metrics')\n",
        "def autolabel(rects):\n",
        "  \"\"\"Attach a text label above each bar in *rects*, displaying its height.\"\"\"\n",
        "  for rect in rects:\n",
        "      height = rect.get_height()\n",
        "      ax.annotate('{}'.format(height),\n",
        "                  xy=(rect.get_x() + rect.get_width() / 2, height),\n",
        "                  xytext=(0, 3),  # 3 points vertical offset\n",
        "                  textcoords=\"offset points\",\n",
        "                  ha='center', va='bottom')\n",
        "\n",
        "autolabel(rect1)\n",
        "autolabel(rect2)\n",
        "autolabel(rect3)\n",
        "autolabel(rect4)\n",
        "ax.legend(labels=['accuracy', 'f1_score', 'recall', 'precision'],loc='best')\n",
        "plt.ylim(0, 1)"
      ]
    },
    {
      "cell_type": "markdown",
      "metadata": {
        "id": "Bpb35nPlTI1g"
      },
      "source": [
        "### Training on Fasttext Embedding Only"
      ]
    },
    {
      "cell_type": "code",
      "execution_count": null,
      "metadata": {
        "id": "ext78JdGVwvv"
      },
      "outputs": [],
      "source": [
        "keras.backend.clear_session()"
      ]
    },
    {
      "cell_type": "code",
      "execution_count": null,
      "metadata": {
        "id": "dleDGpLYU_3V"
      },
      "outputs": [],
      "source": [
        "inp=Input(shape=(maxlen, ))\n",
        "x=Embedding(vocab_size + 1,embed_size,embeddings_initializer=Constant(fasttext_arabic_emb),#Set Fasttext Embedding\n",
        "            input_length=maxlen,trainable=True)(inp)\n",
        "x = SpatialDropout1D(0.2)(x)\n",
        "x=Bidirectional(GRU(150, return_sequences = True))(x)\n",
        "avg_pool = GlobalAveragePooling1D()(x)\n",
        "max_pool = GlobalMaxPool1D()(x)\n",
        "conc = concatenate([avg_pool, max_pool])\n",
        "\n",
        "\n",
        "x=Dropout(0.1)(conc)\n",
        "out=Dense(64, activation=\"relu\")(x)\n",
        "out=Dense(32, activation=\"relu\")(x)\n",
        "\n",
        "out=Dense(3, activation=\"softmax\")(x)\n",
        "\n",
        "model_ft=Model(inp,out)\n",
        "\n",
        "mcp_save = ModelCheckpoint('model_fasttext.mdl_wts.hdf5', save_best_only=True,\n",
        "                           monitor='val_loss', mode='min',patience = 5)\n"
      ]
    },
    {
      "cell_type": "code",
      "execution_count": null,
      "metadata": {
        "id": "y8TojWn4Tijn"
      },
      "outputs": [],
      "source": [
        "model_ft.compile(loss=tf.keras.losses.CategoricalCrossentropy(), optimizer=tf.keras.optimizers.Adam(), metrics=[f1])"
      ]
    },
    {
      "cell_type": "code",
      "execution_count": null,
      "metadata": {
        "colab": {
          "base_uri": "https://localhost:8080/"
        },
        "id": "NhdxZk9cTm3X",
        "outputId": "a1e3afb0-03f1-4978-9cb5-e5ffe1403287"
      },
      "outputs": [
        {
          "output_type": "stream",
          "name": "stdout",
          "text": [
            "Model: \"model\"\n",
            "__________________________________________________________________________________________________\n",
            " Layer (type)                   Output Shape         Param #     Connected to                     \n",
            "==================================================================================================\n",
            " input_1 (InputLayer)           [(None, 388)]        0           []                               \n",
            "                                                                                                  \n",
            " embedding (Embedding)          (None, 388, 300)     7190100     ['input_1[0][0]']                \n",
            "                                                                                                  \n",
            " spatial_dropout1d (SpatialDrop  (None, 388, 300)    0           ['embedding[0][0]']              \n",
            " out1D)                                                                                           \n",
            "                                                                                                  \n",
            " bidirectional (Bidirectional)  (None, 388, 300)     406800      ['spatial_dropout1d[0][0]']      \n",
            "                                                                                                  \n",
            " global_average_pooling1d (Glob  (None, 300)         0           ['bidirectional[0][0]']          \n",
            " alAveragePooling1D)                                                                              \n",
            "                                                                                                  \n",
            " global_max_pooling1d (GlobalMa  (None, 300)         0           ['bidirectional[0][0]']          \n",
            " xPooling1D)                                                                                      \n",
            "                                                                                                  \n",
            " concatenate (Concatenate)      (None, 600)          0           ['global_average_pooling1d[0][0]'\n",
            "                                                                 , 'global_max_pooling1d[0][0]']  \n",
            "                                                                                                  \n",
            " dropout (Dropout)              (None, 600)          0           ['concatenate[0][0]']            \n",
            "                                                                                                  \n",
            " dense_2 (Dense)                (None, 3)            1803        ['dropout[0][0]']                \n",
            "                                                                                                  \n",
            "==================================================================================================\n",
            "Total params: 7,598,703\n",
            "Trainable params: 7,598,703\n",
            "Non-trainable params: 0\n",
            "__________________________________________________________________________________________________\n"
          ]
        }
      ],
      "source": [
        "model_ft.summary()"
      ]
    },
    {
      "cell_type": "code",
      "execution_count": null,
      "metadata": {
        "colab": {
          "base_uri": "https://localhost:8080/"
        },
        "id": "Et2g6vcQT29F",
        "outputId": "1e8b6542-0551-42e6-e65e-4685bd0f53a2"
      },
      "outputs": [
        {
          "output_type": "stream",
          "name": "stdout",
          "text": [
            "Epoch 1/20\n",
            "130/130 [==============================] - 38s 263ms/step - loss: 0.7995 - f1: 0.5036 - val_loss: 0.5712 - val_f1: 0.7709\n",
            "Epoch 2/20\n",
            "130/130 [==============================] - 33s 256ms/step - loss: 0.4150 - f1: 0.8451 - val_loss: 0.5431 - val_f1: 0.7997\n",
            "Epoch 3/20\n",
            "130/130 [==============================] - 33s 257ms/step - loss: 0.2191 - f1: 0.9246 - val_loss: 0.6014 - val_f1: 0.8007\n",
            "Epoch 4/20\n",
            "130/130 [==============================] - 33s 257ms/step - loss: 0.1435 - f1: 0.9514 - val_loss: 0.6264 - val_f1: 0.8057\n",
            "Epoch 5/20\n",
            "130/130 [==============================] - 33s 256ms/step - loss: 0.1118 - f1: 0.9637 - val_loss: 0.7387 - val_f1: 0.7898\n",
            "Epoch 6/20\n",
            "130/130 [==============================] - 33s 255ms/step - loss: 0.0939 - f1: 0.9698 - val_loss: 0.7541 - val_f1: 0.7961\n",
            "Epoch 7/20\n",
            "130/130 [==============================] - 33s 255ms/step - loss: 0.0831 - f1: 0.9714 - val_loss: 0.8004 - val_f1: 0.7885\n",
            "Epoch 8/20\n",
            "130/130 [==============================] - 33s 256ms/step - loss: 0.0746 - f1: 0.9740 - val_loss: 0.8259 - val_f1: 0.7848\n",
            "Epoch 9/20\n",
            "130/130 [==============================] - 33s 256ms/step - loss: 0.0686 - f1: 0.9753 - val_loss: 0.8769 - val_f1: 0.7933\n",
            "Epoch 10/20\n",
            "130/130 [==============================] - 33s 256ms/step - loss: 0.0634 - f1: 0.9769 - val_loss: 0.8772 - val_f1: 0.7878\n",
            "Epoch 11/20\n",
            "130/130 [==============================] - 33s 255ms/step - loss: 0.0593 - f1: 0.9769 - val_loss: 0.8908 - val_f1: 0.7813\n",
            "Epoch 12/20\n",
            "130/130 [==============================] - ETA: 0s - loss: 0.0579 - f1: 0.9778Restoring model weights from the end of the best epoch: 4.\n",
            "130/130 [==============================] - 33s 255ms/step - loss: 0.0579 - f1: 0.9778 - val_loss: 0.9444 - val_f1: 0.7773\n",
            "Epoch 00012: early stopping\n"
          ]
        },
        {
          "output_type": "execute_result",
          "data": {
            "text/plain": [
              "<keras.callbacks.History at 0x7fa5c8f6d350>"
            ]
          },
          "metadata": {},
          "execution_count": 60
        }
      ],
      "source": [
        "model_ft.fit(X_train_pad, \n",
        "             y_train, \n",
        "             batch_size=128,\n",
        "             epochs=20,\n",
        "             verbose=1,\n",
        "             class_weight=class_weights,\n",
        "             validation_split=0.2,\n",
        "             callbacks=[callbacks])"
      ]
    },
    {
      "cell_type": "code",
      "execution_count": null,
      "metadata": {
        "id": "wCLLX3EAT4NO",
        "colab": {
          "base_uri": "https://localhost:8080/"
        },
        "outputId": "4b8f3dd8-cf05-4024-ae68-a864c9fecd13"
      },
      "outputs": [
        {
          "output_type": "stream",
          "name": "stdout",
          "text": [
            "72/72 [==============================] - 5s 64ms/step - loss: 0.6826 - f1: 0.7963\n",
            "[0.6825708150863647, 0.7962825894355774]\n"
          ]
        }
      ],
      "source": [
        "print(model_ft.evaluate(X_test_pad, y_test))"
      ]
    },
    {
      "cell_type": "code",
      "execution_count": null,
      "metadata": {
        "id": "KE9mBrlcUiTH",
        "colab": {
          "base_uri": "https://localhost:8080/"
        },
        "outputId": "99798571-3869-4c27-a6af-5e19adcd8a3a"
      },
      "outputs": [
        {
          "output_type": "stream",
          "name": "stdout",
          "text": [
            "18/18 [==============================] - 2s 74ms/step\n",
            "              precision    recall  f1-score   support\n",
            "\n",
            "        Hate       0.85      0.86      0.85      1231\n",
            "      Normal       0.73      0.66      0.69       680\n",
            "     Abusive       0.78      0.78      0.78       393\n",
            "\n",
            "   micro avg       0.80      0.79      0.80      2304\n",
            "   macro avg       0.79      0.77      0.78      2304\n",
            "weighted avg       0.80      0.79      0.79      2304\n",
            " samples avg       0.79      0.79      0.79      2304\n",
            "\n"
          ]
        },
        {
          "output_type": "stream",
          "name": "stderr",
          "text": [
            "/usr/local/lib/python3.7/dist-packages/sklearn/metrics/_classification.py:1308: UndefinedMetricWarning: Precision and F-score are ill-defined and being set to 0.0 in samples with no predicted labels. Use `zero_division` parameter to control this behavior.\n",
            "  _warn_prf(average, modifier, msg_start, len(result))\n"
          ]
        }
      ],
      "source": [
        "y_pred_ft = model_ft.predict(X_test_pad, batch_size=128, verbose=1)\n",
        "y_pred_bool_ft = np.argmax(y_pred, axis=1)\n",
        "y_pred_ft = (y_pred_ft > 0.5)\n",
        "\n",
        "print(classification_report(y_test, y_pred_ft, target_names=(['Hate','Normal','Abusive'])))\n"
      ]
    },
    {
      "cell_type": "code",
      "execution_count": null,
      "metadata": {
        "id": "sXj5owf2Ut0W"
      },
      "outputs": [],
      "source": [
        "from sklearn import metrics\n",
        "metric_ft = metrics.accuracy_score(y_test, y_pred_ft), metrics.f1_score(y_test, y_pred_ft, average='weighted'), metrics.recall_score(y_test, y_pred_ft, average='weighted'), metrics.precision_score(y_test, y_pred_ft, average='weighted')"
      ]
    },
    {
      "cell_type": "code",
      "execution_count": null,
      "metadata": {
        "id": "N49Fe5YsU7NE",
        "colab": {
          "base_uri": "https://localhost:8080/",
          "height": 226
        },
        "outputId": "3cfb24f9-5692-4f20-d6f6-87325fda1af9"
      },
      "outputs": [
        {
          "output_type": "execute_result",
          "data": {
            "text/plain": [
              "(0.0, 1.0)"
            ]
          },
          "metadata": {},
          "execution_count": 64
        },
        {
          "output_type": "display_data",
          "data": {
            "image/png": "[encoded data removed]",
            "text/plain": [
              "<Figure size 576x144 with 1 Axes>"
            ]
          },
          "metadata": {
            "needs_background": "light"
          }
        }
      ],
      "source": [
        "fig = plt.figure()\n",
        "fig.set_size_inches(8,2)\n",
        "ax = fig.add_axes([0,0,1,1])\n",
        "rect1 = ax.bar(0.00,round(metric_ft[0], 2), color = 'b', width = 0.05)\n",
        "rect2 = ax.bar(0.20, round(metric_ft[1], 2), color = 'g', width = 0.05)\n",
        "rect3 = ax.bar(0.40, round(metric_ft[2], 2) , color = 'r', width = 0.05)\n",
        "rect4 = ax.bar(0.60, round(metric_ft[3], 2) , color = (1, 0, 1), width = 0.05)\n",
        "\n",
        "ax.set_ylabel('Scores')\n",
        "ax.set_title('metrics')\n",
        "\n",
        "\n",
        "autolabel(rect1)\n",
        "autolabel(rect2)\n",
        "autolabel(rect3)\n",
        "autolabel(rect4)\n",
        "ax.legend(labels=['accuracy', 'f1_score', 'recall', 'precision'],loc='best')\n",
        "plt.ylim(0, 1)"
      ]
    },
    {
      "cell_type": "markdown",
      "metadata": {
        "id": "HiwoyTsPL1PG"
      },
      "source": [
        "### Training on Aravec Embedding Only"
      ]
    },
    {
      "cell_type": "code",
      "execution_count": null,
      "metadata": {
        "id": "vTBADyXfL1PN"
      },
      "outputs": [],
      "source": [
        "keras.backend.clear_session()"
      ]
    },
    {
      "cell_type": "code",
      "execution_count": null,
      "metadata": {
        "id": "lglZwmCfL1PO"
      },
      "outputs": [],
      "source": [
        "inp=Input(shape=(maxlen, ))\n",
        "x=Embedding(vocab_size + 1,embed_size,embeddings_initializer=Constant(aravec_emb),#Set Fasttext Embedding\n",
        "            input_length=maxlen,trainable=True)(inp)\n",
        "x = SpatialDropout1D(0.2)(x)\n",
        "x=Bidirectional(GRU(150, return_sequences = True))(x)\n",
        "avg_pool = GlobalAveragePooling1D()(x)\n",
        "max_pool = GlobalMaxPool1D()(x)\n",
        "conc = concatenate([avg_pool, max_pool])\n",
        "\n",
        "\n",
        "x=Dropout(0.1)(conc)\n",
        "out=Dense(64, activation=\"relu\")(x)\n",
        "out=Dense(32, activation=\"relu\")(x)\n",
        "\n",
        "out=Dense(3, activation=\"softmax\")(x)\n",
        "\n",
        "model_arav=Model(inp,out)\n",
        "\n",
        "mcp_save = ModelCheckpoint('model_aravec.mdl_wts.hdf5', save_best_only=True,\n",
        "                           monitor='val_loss', mode='min',patience = 5)\n"
      ]
    },
    {
      "cell_type": "code",
      "execution_count": null,
      "metadata": {
        "id": "FvKap_oBL1PO"
      },
      "outputs": [],
      "source": [
        "model_arav.compile(loss=tf.keras.losses.CategoricalCrossentropy(), optimizer=tf.keras.optimizers.Adam(), metrics=[f1])"
      ]
    },
    {
      "cell_type": "code",
      "execution_count": null,
      "metadata": {
        "id": "5lo1wLfQL1PO",
        "colab": {
          "base_uri": "https://localhost:8080/"
        },
        "outputId": "d82eeb5b-daf6-49f5-db1a-5d522b6cd195"
      },
      "outputs": [
        {
          "output_type": "stream",
          "name": "stdout",
          "text": [
            "Model: \"model\"\n",
            "__________________________________________________________________________________________________\n",
            " Layer (type)                   Output Shape         Param #     Connected to                     \n",
            "==================================================================================================\n",
            " input_1 (InputLayer)           [(None, 388)]        0           []                               \n",
            "                                                                                                  \n",
            " embedding (Embedding)          (None, 388, 300)     7190100     ['input_1[0][0]']                \n",
            "                                                                                                  \n",
            " spatial_dropout1d (SpatialDrop  (None, 388, 300)    0           ['embedding[0][0]']              \n",
            " out1D)                                                                                           \n",
            "                                                                                                  \n",
            " bidirectional (Bidirectional)  (None, 388, 300)     406800      ['spatial_dropout1d[0][0]']      \n",
            "                                                                                                  \n",
            " global_average_pooling1d (Glob  (None, 300)         0           ['bidirectional[0][0]']          \n",
            " alAveragePooling1D)                                                                              \n",
            "                                                                                                  \n",
            " global_max_pooling1d (GlobalMa  (None, 300)         0           ['bidirectional[0][0]']          \n",
            " xPooling1D)                                                                                      \n",
            "                                                                                                  \n",
            " concatenate (Concatenate)      (None, 600)          0           ['global_average_pooling1d[0][0]'\n",
            "                                                                 , 'global_max_pooling1d[0][0]']  \n",
            "                                                                                                  \n",
            " dropout (Dropout)              (None, 600)          0           ['concatenate[0][0]']            \n",
            "                                                                                                  \n",
            " dense_2 (Dense)                (None, 3)            1803        ['dropout[0][0]']                \n",
            "                                                                                                  \n",
            "==================================================================================================\n",
            "Total params: 7,598,703\n",
            "Trainable params: 7,598,703\n",
            "Non-trainable params: 0\n",
            "__________________________________________________________________________________________________\n"
          ]
        }
      ],
      "source": [
        "model_arav.summary()"
      ]
    },
    {
      "cell_type": "code",
      "execution_count": null,
      "metadata": {
        "id": "2OEErZqOL1PO",
        "colab": {
          "base_uri": "https://localhost:8080/"
        },
        "outputId": "52fa66ca-7d2e-41e2-bbaf-fe171f7382b1"
      },
      "outputs": [
        {
          "output_type": "stream",
          "name": "stdout",
          "text": [
            "Epoch 1/20\n",
            "130/130 [==============================] - 38s 263ms/step - loss: 0.8603 - f1: 0.5302 - val_loss: 0.7311 - val_f1: 0.6459\n",
            "Epoch 2/20\n",
            "130/130 [==============================] - 33s 255ms/step - loss: 0.6225 - f1: 0.7292 - val_loss: 0.5580 - val_f1: 0.7779\n",
            "Epoch 3/20\n",
            "130/130 [==============================] - 33s 256ms/step - loss: 0.3412 - f1: 0.8772 - val_loss: 0.5460 - val_f1: 0.8060\n",
            "Epoch 4/20\n",
            "130/130 [==============================] - 33s 255ms/step - loss: 0.1934 - f1: 0.9324 - val_loss: 0.6096 - val_f1: 0.8061\n",
            "Epoch 5/20\n",
            "130/130 [==============================] - 33s 255ms/step - loss: 0.1343 - f1: 0.9561 - val_loss: 0.6405 - val_f1: 0.8080\n",
            "Epoch 6/20\n",
            "130/130 [==============================] - 33s 255ms/step - loss: 0.1076 - f1: 0.9633 - val_loss: 0.7317 - val_f1: 0.7925\n",
            "Epoch 7/20\n",
            "130/130 [==============================] - 33s 255ms/step - loss: 0.0920 - f1: 0.9694 - val_loss: 0.7595 - val_f1: 0.7956\n",
            "Epoch 8/20\n",
            "130/130 [==============================] - 33s 255ms/step - loss: 0.0791 - f1: 0.9726 - val_loss: 0.7812 - val_f1: 0.7941\n",
            "Epoch 9/20\n",
            "130/130 [==============================] - 33s 255ms/step - loss: 0.0724 - f1: 0.9728 - val_loss: 0.7993 - val_f1: 0.7948\n",
            "Epoch 10/20\n",
            "130/130 [==============================] - 33s 255ms/step - loss: 0.0678 - f1: 0.9757 - val_loss: 0.8886 - val_f1: 0.7797\n",
            "Epoch 11/20\n",
            "130/130 [==============================] - 33s 255ms/step - loss: 0.0636 - f1: 0.9769 - val_loss: 0.8833 - val_f1: 0.7908\n",
            "Epoch 12/20\n",
            "130/130 [==============================] - 33s 255ms/step - loss: 0.0615 - f1: 0.9776 - val_loss: 0.8833 - val_f1: 0.7884\n",
            "Epoch 13/20\n",
            "130/130 [==============================] - ETA: 0s - loss: 0.0575 - f1: 0.9773Restoring model weights from the end of the best epoch: 5.\n",
            "130/130 [==============================] - 33s 256ms/step - loss: 0.0575 - f1: 0.9773 - val_loss: 0.9861 - val_f1: 0.7896\n",
            "Epoch 00013: early stopping\n"
          ]
        },
        {
          "output_type": "execute_result",
          "data": {
            "text/plain": [
              "<keras.callbacks.History at 0x7fa5ae08c2d0>"
            ]
          },
          "metadata": {},
          "execution_count": 69
        }
      ],
      "source": [
        "model_arav.fit(X_train_pad, \n",
        "             y_train, \n",
        "             batch_size=128,\n",
        "             epochs=20,\n",
        "             verbose=1,\n",
        "             class_weight=class_weights,\n",
        "             validation_split=0.2,\n",
        "             callbacks=[callbacks])"
      ]
    },
    {
      "cell_type": "code",
      "execution_count": null,
      "metadata": {
        "id": "wbfQt6KkL1PO",
        "colab": {
          "base_uri": "https://localhost:8080/"
        },
        "outputId": "f8295d34-419c-4cec-9fad-e9bc2c9b65b9"
      },
      "outputs": [
        {
          "output_type": "stream",
          "name": "stdout",
          "text": [
            "72/72 [==============================] - 6s 66ms/step - loss: 0.6893 - f1: 0.7925\n",
            "[0.6892539858818054, 0.7925275564193726]\n"
          ]
        }
      ],
      "source": [
        "print(model_arav.evaluate(X_test_pad, y_test))"
      ]
    },
    {
      "cell_type": "code",
      "execution_count": null,
      "metadata": {
        "id": "010SEUGvL1PO",
        "colab": {
          "base_uri": "https://localhost:8080/"
        },
        "outputId": "07368a4b-9419-4bdc-c1af-b7992900e5c1"
      },
      "outputs": [
        {
          "output_type": "stream",
          "name": "stdout",
          "text": [
            "18/18 [==============================] - 2s 75ms/step\n",
            "              precision    recall  f1-score   support\n",
            "\n",
            "        Hate       0.85      0.86      0.85      1231\n",
            "      Normal       0.72      0.68      0.70       680\n",
            "     Abusive       0.77      0.77      0.77       393\n",
            "\n",
            "   micro avg       0.80      0.79      0.79      2304\n",
            "   macro avg       0.78      0.77      0.77      2304\n",
            "weighted avg       0.80      0.79      0.79      2304\n",
            " samples avg       0.79      0.79      0.79      2304\n",
            "\n"
          ]
        },
        {
          "output_type": "stream",
          "name": "stderr",
          "text": [
            "/usr/local/lib/python3.7/dist-packages/sklearn/metrics/_classification.py:1308: UndefinedMetricWarning: Precision and F-score are ill-defined and being set to 0.0 in samples with no predicted labels. Use `zero_division` parameter to control this behavior.\n",
            "  _warn_prf(average, modifier, msg_start, len(result))\n"
          ]
        }
      ],
      "source": [
        "y_pred_arav = model_arav.predict(X_test_pad, batch_size=128, verbose=1)\n",
        "y_pred_bool_ft = np.argmax(y_pred, axis=1)\n",
        "y_pred_arav = (y_pred_arav > 0.5)\n",
        "\n",
        "print(classification_report(y_test, y_pred_arav, target_names=(['Hate','Normal','Abusive'])))\n"
      ]
    },
    {
      "cell_type": "code",
      "execution_count": null,
      "metadata": {
        "id": "2684IryML1PO"
      },
      "outputs": [],
      "source": [
        "from sklearn import metrics\n",
        "metric_arav = metrics.accuracy_score(y_test, y_pred_arav), metrics.f1_score(y_test, y_pred_arav, average='weighted'), metrics.recall_score(y_test, y_pred_arav, average='weighted'), metrics.precision_score(y_test, y_pred_arav, average='weighted')"
      ]
    },
    {
      "cell_type": "code",
      "execution_count": null,
      "metadata": {
        "id": "a969R2UNL1PO",
        "colab": {
          "base_uri": "https://localhost:8080/",
          "height": 226
        },
        "outputId": "e4728385-fae9-4854-ce6b-acac5fb9ae1c"
      },
      "outputs": [
        {
          "output_type": "execute_result",
          "data": {
            "text/plain": [
              "(0.0, 1.0)"
            ]
          },
          "metadata": {},
          "execution_count": 73
        },
        {
          "output_type": "display_data",
          "data": {
            "image/png": "[encoded data removed]",
            "text/plain": [
              "<Figure size 576x144 with 1 Axes>"
            ]
          },
          "metadata": {
            "needs_background": "light"
          }
        }
      ],
      "source": [
        "fig = plt.figure()\n",
        "fig.set_size_inches(8,2)\n",
        "ax = fig.add_axes([0,0,1,1])\n",
        "rect1 = ax.bar(0.00,round(metric_arav[0], 2), color = 'b', width = 0.05)\n",
        "rect2 = ax.bar(0.20, round(metric_arav[1], 2), color = 'g', width = 0.05)\n",
        "rect3 = ax.bar(0.40, round(metric_arav[2], 2) , color = 'r', width = 0.05)\n",
        "rect4 = ax.bar(0.60, round(metric_arav[3], 2) , color = (1, 0, 1), width = 0.05)\n",
        "\n",
        "ax.set_ylabel('Scores')\n",
        "ax.set_title('metrics')\n",
        "\n",
        "\n",
        "autolabel(rect1)\n",
        "autolabel(rect2)\n",
        "autolabel(rect3)\n",
        "autolabel(rect4)\n",
        "ax.legend(labels=['accuracy', 'f1_score', 'recall', 'precision'],loc='best')\n",
        "plt.ylim(0, 1)"
      ]
    },
    {
      "cell_type": "markdown",
      "metadata": {
        "id": "l6ud_gVNWd4a"
      },
      "source": [
        "### Comparing the three results"
      ]
    },
    {
      "cell_type": "code",
      "execution_count": null,
      "metadata": {
        "id": "UAPfKBxEYLV5"
      },
      "outputs": [],
      "source": [
        "Data = [('Fasttext',) + metric_ft  ,\n",
        "        ('AraVec',)+ metric_arav ,\n",
        "         ('Fasttext + AraVec',)+ metric ]"
      ]
    },
    {
      "cell_type": "code",
      "execution_count": null,
      "metadata": {
        "id": "d6UM1nPKWkH6"
      },
      "outputs": [],
      "source": [
        "Results = pd.DataFrame(data =  Data , columns=['Embedding','Accuracy','F1_score','Recall','Precision'])"
      ]
    },
    {
      "cell_type": "code",
      "execution_count": null,
      "metadata": {
        "id": "lDLH9XzeXAUp",
        "colab": {
          "base_uri": "https://localhost:8080/",
          "height": 143
        },
        "outputId": "d6fa1fd5-98d6-4574-c23c-53ac9f44eee9"
      },
      "outputs": [
        {
          "output_type": "execute_result",
          "data": {
            "text/html": [
              "\n",
              "  <div id=\"df-83e82b82-3dd7-4e6c-b596-a1293a1c1542\">\n",
              "    <div class=\"colab-df-container\">\n",
              "      <div>\n",
              "<style scoped>\n",
              "    .dataframe tbody tr th:only-of-type {\n",
              "        vertical-align: middle;\n",
              "    }\n",
              "\n",
              "    .dataframe tbody tr th {\n",
              "        vertical-align: top;\n",
              "    }\n",
              "\n",
              "    .dataframe thead th {\n",
              "        text-align: right;\n",
              "    }\n",
              "</style>\n",
              "<table border=\"1\" class=\"dataframe\">\n",
              "  <thead>\n",
              "    <tr style=\"text-align: right;\">\n",
              "      <th></th>\n",
              "      <th>Embedding</th>\n",
              "      <th>Accuracy</th>\n",
              "      <th>F1_score</th>\n",
              "      <th>Recall</th>\n",
              "      <th>Precision</th>\n",
              "    </tr>\n",
              "  </thead>\n",
              "  <tbody>\n",
              "    <tr>\n",
              "      <th>0</th>\n",
              "      <td>Fasttext</td>\n",
              "      <td>0.789497</td>\n",
              "      <td>0.794750</td>\n",
              "      <td>0.789497</td>\n",
              "      <td>0.801038</td>\n",
              "    </tr>\n",
              "    <tr>\n",
              "      <th>1</th>\n",
              "      <td>AraVec</td>\n",
              "      <td>0.786892</td>\n",
              "      <td>0.791708</td>\n",
              "      <td>0.786892</td>\n",
              "      <td>0.796964</td>\n",
              "    </tr>\n",
              "    <tr>\n",
              "      <th>2</th>\n",
              "      <td>Fasttext + AraVec</td>\n",
              "      <td>0.777778</td>\n",
              "      <td>0.792916</td>\n",
              "      <td>0.777778</td>\n",
              "      <td>0.813872</td>\n",
              "    </tr>\n",
              "  </tbody>\n",
              "</table>\n",
              "</div>\n",
              "      <button class=\"colab-df-convert\" onclick=\"convertToInteractive('df-83e82b82-3dd7-4e6c-b596-a1293a1c1542')\"\n",
              "              title=\"Convert this dataframe to an interactive table.\"\n",
              "              style=\"display:none;\">\n",
              "        \n",
              "  <svg xmlns=\"http://www.w3.org/2000/svg\" height=\"24px\"viewBox=\"0 0 24 24\"\n",
              "       width=\"24px\">\n",
              "    <path d=\"M0 0h24v24H0V0z\" fill=\"none\"/>\n",
              "    <path d=\"M18.56 5.44l.94 2.06.94-2.06 2.06-.94-2.06-.94-.94-2.06-.94 2.06-2.06.94zm-11 1L8.5 8.5l.94-2.06 2.06-.94-2.06-.94L8.5 2.5l-.94 2.06-2.06.94zm10 10l.94 2.06.94-2.06 2.06-.94-2.06-.94-.94-2.06-.94 2.06-2.06.94z\"/><path d=\"M17.41 7.96l-1.37-1.37c-.4-.4-.92-.59-1.43-.59-.52 0-1.04.2-1.43.59L10.3 9.45l-7.72 7.72c-.78.78-.78 2.05 0 2.83L4 21.41c.39.39.9.59 1.41.59.51 0 1.02-.2 1.41-.59l7.78-7.78 2.81-2.81c.8-.78.8-2.07 0-2.86zM5.41 20L4 18.59l7.72-7.72 1.47 1.35L5.41 20z\"/>\n",
              "  </svg>\n",
              "      </button>\n",
              "      \n",
              "  <style>\n",
              "    .colab-df-container {\n",
              "      display:flex;\n",
              "      flex-wrap:wrap;\n",
              "      gap: 12px;\n",
              "    }\n",
              "\n",
              "    .colab-df-convert {\n",
              "      background-color: #E8F0FE;\n",
              "      border: none;\n",
              "      border-radius: 50%;\n",
              "      cursor: pointer;\n",
              "      display: none;\n",
              "      fill: #1967D2;\n",
              "      height: 32px;\n",
              "      padding: 0 0 0 0;\n",
              "      width: 32px;\n",
              "    }\n",
              "\n",
              "    .colab-df-convert:hover {\n",
              "      background-color: #E2EBFA;\n",
              "      box-shadow: 0px 1px 2px rgba(60, 64, 67, 0.3), 0px 1px 3px 1px rgba(60, 64, 67, 0.15);\n",
              "      fill: #174EA6;\n",
              "    }\n",
              "\n",
              "    [theme=dark] .colab-df-convert {\n",
              "      background-color: #3B4455;\n",
              "      fill: #D2E3FC;\n",
              "    }\n",
              "\n",
              "    [theme=dark] .colab-df-convert:hover {\n",
              "      background-color: #434B5C;\n",
              "      box-shadow: 0px 1px 3px 1px rgba(0, 0, 0, 0.15);\n",
              "      filter: drop-shadow(0px 1px 2px rgba(0, 0, 0, 0.3));\n",
              "      fill: #FFFFFF;\n",
              "    }\n",
              "  </style>\n",
              "\n",
              "      <script>\n",
              "        const buttonEl =\n",
              "          document.querySelector('#df-83e82b82-3dd7-4e6c-b596-a1293a1c1542 button.colab-df-convert');\n",
              "        buttonEl.style.display =\n",
              "          google.colab.kernel.accessAllowed ? 'block' : 'none';\n",
              "\n",
              "        async function convertToInteractive(key) {\n",
              "          const element = document.querySelector('#df-83e82b82-3dd7-4e6c-b596-a1293a1c1542');\n",
              "          const dataTable =\n",
              "            await google.colab.kernel.invokeFunction('convertToInteractive',\n",
              "                                                     [key], {});\n",
              "          if (!dataTable) return;\n",
              "\n",
              "          const docLinkHtml = 'Like what you see? Visit the ' +\n",
              "            '<a target=\"_blank\" href=https://colab.research.google.com/notebooks/data_table.ipynb>data table notebook</a>'\n",
              "            + ' to learn more about interactive tables.';\n",
              "          element.innerHTML = '';\n",
              "          dataTable['output_type'] = 'display_data';\n",
              "          await google.colab.output.renderOutput(dataTable, element);\n",
              "          const docLink = document.createElement('div');\n",
              "          docLink.innerHTML = docLinkHtml;\n",
              "          element.appendChild(docLink);\n",
              "        }\n",
              "      </script>\n",
              "    </div>\n",
              "  </div>\n",
              "  "
            ],
            "text/plain": [
              "           Embedding  Accuracy  F1_score    Recall  Precision\n",
              "0           Fasttext  0.789497  0.794750  0.789497   0.801038\n",
              "1             AraVec  0.786892  0.791708  0.786892   0.796964\n",
              "2  Fasttext + AraVec  0.777778  0.792916  0.777778   0.813872"
            ]
          },
          "metadata": {},
          "execution_count": 76
        }
      ],
      "source": [
        "Results"
      ]
    }
  ],
  "metadata": {
    "accelerator": "GPU",
    "colab": {
      "collapsed_sections": [],
      "name": "NLP_fasttext_Aravec-BiGRU_Embedding_TUNEL.ipynb",
      "provenance": []
    },
    "kernelspec": {
      "display_name": "Python 3",
      "name": "python3"
    }
  },
  "nbformat": 4,
  "nbformat_minor": 0
}