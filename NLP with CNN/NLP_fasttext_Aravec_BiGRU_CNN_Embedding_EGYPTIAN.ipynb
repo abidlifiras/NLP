{
 "cells": [
  {
   "cell_type": "markdown",
   "metadata": {
    "id": "Phxed_BSSB7-"
   },
   "source": [
    "# Egyptian Dataset"
   ]
  },
  {
   "cell_type": "code",
   "execution_count": null,
   "metadata": {
    "colab": {
     "base_uri": "https://localhost:8080/"
    },
    "id": "6pkvGyUqqCMG",
    "outputId": "1d8ccb27-3529-437e-b80c-16cbbf56522d"
   },
   "outputs": [
    {
     "name": "stdout",
     "output_type": "stream",
     "text": [
      "Mounted at /content/drive\n"
     ]
    }
   ],
   "source": [
    "from google.colab import drive\n",
    "drive._mount('/content/drive')"
   ]
  },
  {
   "cell_type": "code",
   "execution_count": null,
   "metadata": {
    "colab": {
     "base_uri": "https://localhost:8080/"
    },
    "id": "fnOwTGAXpLvI",
    "outputId": "653ddf67-7287-47cc-a1c9-de63be0f0e35"
   },
   "outputs": [
    {
     "name": "stdout",
     "output_type": "stream",
     "text": [
      "[nltk_data] Downloading package stopwords to /root/nltk_data...\n",
      "[nltk_data]   Unzipping corpora/stopwords.zip.\n",
      "[nltk_data] Downloading package wordnet to /root/nltk_data...\n",
      "[nltk_data]   Unzipping corpora/wordnet.zip.\n"
     ]
    },
    {
     "data": {
      "text/plain": [
       "True"
      ]
     },
     "execution_count": 2,
     "metadata": {},
     "output_type": "execute_result"
    }
   ],
   "source": [
    "from tensorflow import keras\n",
    "import numpy as np\n",
    "import re\n",
    "import nltk\n",
    "from nltk.corpus import stopwords\n",
    "import string\n",
    "import pandas as pd\n",
    "from nltk.stem import WordNetLemmatizer\n",
    "from nltk.corpus import stopwords\n",
    "nltk.download('stopwords')\n",
    "nltk.download('wordnet')"
   ]
  },
  {
   "cell_type": "code",
   "execution_count": null,
   "metadata": {
    "id": "qpYZxDnjpo32"
   },
   "outputs": [],
   "source": [
    "train=pd.read_excel('/content/drive/MyDrive/FastText_Aravec_Arabic_embeddings/D5.xlsx')\n",
    "# test=pd.read_excel('/content/drive/MyDrive/kaggle-nabil-badri/Text Classification Notebooks/BI-GRU/MyArticle-dataset-arabe/dataset1and2.xlsx')\n",
    "label=pd.read_excel('/content/drive/MyDrive/FastText_Aravec_Arabic_embeddings/D5.xlsx',header=None).iloc[:,-1]\n",
    "#OFF=0 \n",
    "#NOT=1"
   ]
  },
  {
   "cell_type": "code",
   "execution_count": null,
   "metadata": {
    "colab": {
     "base_uri": "https://localhost:8080/",
     "height": 423
    },
    "id": "NLkeXb_2qC2T",
    "outputId": "1af56501-aa59-4ca1-cc23-ea28cb73de7e"
   },
   "outputs": [
    {
     "data": {
      "text/html": [
       "\n",
       "  <div id=\"df-35e9472f-c07d-4a9f-bd11-4e89901ade6a\">\n",
       "    <div class=\"colab-df-container\">\n",
       "      <div>\n",
       "<style scoped>\n",
       "    .dataframe tbody tr th:only-of-type {\n",
       "        vertical-align: middle;\n",
       "    }\n",
       "\n",
       "    .dataframe tbody tr th {\n",
       "        vertical-align: top;\n",
       "    }\n",
       "\n",
       "    .dataframe thead th {\n",
       "        text-align: right;\n",
       "    }\n",
       "</style>\n",
       "<table border=\"1\" class=\"dataframe\">\n",
       "  <thead>\n",
       "    <tr style=\"text-align: right;\">\n",
       "      <th></th>\n",
       "      <th>commentaire</th>\n",
       "      <th>classe</th>\n",
       "      <th>word_count</th>\n",
       "    </tr>\n",
       "  </thead>\n",
       "  <tbody>\n",
       "    <tr>\n",
       "      <th>0</th>\n",
       "      <td>مبروك و سامحونا لعجزنا التام. عقبال اللي جوه. ...</td>\n",
       "      <td>normal</td>\n",
       "      <td>16</td>\n",
       "    </tr>\n",
       "    <tr>\n",
       "      <th>1</th>\n",
       "      <td>كلنا بره ومش هنبطل نزايد على العجايز الي جابون...</td>\n",
       "      <td>hate</td>\n",
       "      <td>10</td>\n",
       "    </tr>\n",
       "    <tr>\n",
       "      <th>2</th>\n",
       "      <td>بدل ما انت قاعد بره كده تعالي ازرع الصحرا</td>\n",
       "      <td>normal</td>\n",
       "      <td>9</td>\n",
       "    </tr>\n",
       "    <tr>\n",
       "      <th>3</th>\n",
       "      <td>قذر اتفووو ماتيجى مصر وتورينا نفسك كدا ياجبان</td>\n",
       "      <td>hate</td>\n",
       "      <td>8</td>\n",
       "    </tr>\n",
       "    <tr>\n",
       "      <th>4</th>\n",
       "      <td>وهكذا رجال الشو اللي محرومين من عمل برنامج الغ...</td>\n",
       "      <td>hate</td>\n",
       "      <td>16</td>\n",
       "    </tr>\n",
       "    <tr>\n",
       "      <th>...</th>\n",
       "      <td>...</td>\n",
       "      <td>...</td>\n",
       "      <td>...</td>\n",
       "    </tr>\n",
       "    <tr>\n",
       "      <th>1095</th>\n",
       "      <td>أستاذنا العزيز بلال فضل يحزنني أن يتم حذف حلقا...</td>\n",
       "      <td>normal</td>\n",
       "      <td>23</td>\n",
       "    </tr>\n",
       "    <tr>\n",
       "      <th>1096</th>\n",
       "      <td>،برنامج يدعو للتفكير أكيد يمنعوه لأنهم خوافون ...</td>\n",
       "      <td>normal</td>\n",
       "      <td>10</td>\n",
       "    </tr>\n",
       "    <tr>\n",
       "      <th>1097</th>\n",
       "      <td>\"#أزهى_عصور_المسخره  هل ضيعت \"شيما\" محافظ بورس...</td>\n",
       "      <td>hate</td>\n",
       "      <td>6</td>\n",
       "    </tr>\n",
       "    <tr>\n",
       "      <th>1098</th>\n",
       "      <td>الله يلعنك و يلعن اللى جابوك يا رمه جايفه</td>\n",
       "      <td>abusive</td>\n",
       "      <td>9</td>\n",
       "    </tr>\n",
       "    <tr>\n",
       "      <th>1099</th>\n",
       "      <td>أنت رجل حيوان</td>\n",
       "      <td>abusive</td>\n",
       "      <td>3</td>\n",
       "    </tr>\n",
       "  </tbody>\n",
       "</table>\n",
       "<p>1100 rows × 3 columns</p>\n",
       "</div>\n",
       "      <button class=\"colab-df-convert\" onclick=\"convertToInteractive('df-35e9472f-c07d-4a9f-bd11-4e89901ade6a')\"\n",
       "              title=\"Convert this dataframe to an interactive table.\"\n",
       "              style=\"display:none;\">\n",
       "        \n",
       "  <svg xmlns=\"http://www.w3.org/2000/svg\" height=\"24px\"viewBox=\"0 0 24 24\"\n",
       "       width=\"24px\">\n",
       "    <path d=\"M0 0h24v24H0V0z\" fill=\"none\"/>\n",
       "    <path d=\"M18.56 5.44l.94 2.06.94-2.06 2.06-.94-2.06-.94-.94-2.06-.94 2.06-2.06.94zm-11 1L8.5 8.5l.94-2.06 2.06-.94-2.06-.94L8.5 2.5l-.94 2.06-2.06.94zm10 10l.94 2.06.94-2.06 2.06-.94-2.06-.94-.94-2.06-.94 2.06-2.06.94z\"/><path d=\"M17.41 7.96l-1.37-1.37c-.4-.4-.92-.59-1.43-.59-.52 0-1.04.2-1.43.59L10.3 9.45l-7.72 7.72c-.78.78-.78 2.05 0 2.83L4 21.41c.39.39.9.59 1.41.59.51 0 1.02-.2 1.41-.59l7.78-7.78 2.81-2.81c.8-.78.8-2.07 0-2.86zM5.41 20L4 18.59l7.72-7.72 1.47 1.35L5.41 20z\"/>\n",
       "  </svg>\n",
       "      </button>\n",
       "      \n",
       "  <style>\n",
       "    .colab-df-container {\n",
       "      display:flex;\n",
       "      flex-wrap:wrap;\n",
       "      gap: 12px;\n",
       "    }\n",
       "\n",
       "    .colab-df-convert {\n",
       "      background-color: #E8F0FE;\n",
       "      border: none;\n",
       "      border-radius: 50%;\n",
       "      cursor: pointer;\n",
       "      display: none;\n",
       "      fill: #1967D2;\n",
       "      height: 32px;\n",
       "      padding: 0 0 0 0;\n",
       "      width: 32px;\n",
       "    }\n",
       "\n",
       "    .colab-df-convert:hover {\n",
       "      background-color: #E2EBFA;\n",
       "      box-shadow: 0px 1px 2px rgba(60, 64, 67, 0.3), 0px 1px 3px 1px rgba(60, 64, 67, 0.15);\n",
       "      fill: #174EA6;\n",
       "    }\n",
       "\n",
       "    [theme=dark] .colab-df-convert {\n",
       "      background-color: #3B4455;\n",
       "      fill: #D2E3FC;\n",
       "    }\n",
       "\n",
       "    [theme=dark] .colab-df-convert:hover {\n",
       "      background-color: #434B5C;\n",
       "      box-shadow: 0px 1px 3px 1px rgba(0, 0, 0, 0.15);\n",
       "      filter: drop-shadow(0px 1px 2px rgba(0, 0, 0, 0.3));\n",
       "      fill: #FFFFFF;\n",
       "    }\n",
       "  </style>\n",
       "\n",
       "      <script>\n",
       "        const buttonEl =\n",
       "          document.querySelector('#df-35e9472f-c07d-4a9f-bd11-4e89901ade6a button.colab-df-convert');\n",
       "        buttonEl.style.display =\n",
       "          google.colab.kernel.accessAllowed ? 'block' : 'none';\n",
       "\n",
       "        async function convertToInteractive(key) {\n",
       "          const element = document.querySelector('#df-35e9472f-c07d-4a9f-bd11-4e89901ade6a');\n",
       "          const dataTable =\n",
       "            await google.colab.kernel.invokeFunction('convertToInteractive',\n",
       "                                                     [key], {});\n",
       "          if (!dataTable) return;\n",
       "\n",
       "          const docLinkHtml = 'Like what you see? Visit the ' +\n",
       "            '<a target=\"_blank\" href=https://colab.research.google.com/notebooks/data_table.ipynb>data table notebook</a>'\n",
       "            + ' to learn more about interactive tables.';\n",
       "          element.innerHTML = '';\n",
       "          dataTable['output_type'] = 'display_data';\n",
       "          await google.colab.output.renderOutput(dataTable, element);\n",
       "          const docLink = document.createElement('div');\n",
       "          docLink.innerHTML = docLinkHtml;\n",
       "          element.appendChild(docLink);\n",
       "        }\n",
       "      </script>\n",
       "    </div>\n",
       "  </div>\n",
       "  "
      ],
      "text/plain": [
       "                                            commentaire   classe  word_count\n",
       "0     مبروك و سامحونا لعجزنا التام. عقبال اللي جوه. ...   normal          16\n",
       "1     كلنا بره ومش هنبطل نزايد على العجايز الي جابون...     hate          10\n",
       "2             بدل ما انت قاعد بره كده تعالي ازرع الصحرا   normal           9\n",
       "3         قذر اتفووو ماتيجى مصر وتورينا نفسك كدا ياجبان     hate           8\n",
       "4     وهكذا رجال الشو اللي محرومين من عمل برنامج الغ...     hate          16\n",
       "...                                                 ...      ...         ...\n",
       "1095  أستاذنا العزيز بلال فضل يحزنني أن يتم حذف حلقا...   normal          23\n",
       "1096  ،برنامج يدعو للتفكير أكيد يمنعوه لأنهم خوافون ...   normal          10\n",
       "1097  \"#أزهى_عصور_المسخره  هل ضيعت \"شيما\" محافظ بورس...     hate           6\n",
       "1098          الله يلعنك و يلعن اللى جابوك يا رمه جايفه  abusive           9\n",
       "1099                                      أنت رجل حيوان  abusive           3\n",
       "\n",
       "[1100 rows x 3 columns]"
      ]
     },
     "execution_count": 4,
     "metadata": {},
     "output_type": "execute_result"
    }
   ],
   "source": [
    "train['word_count'] = train['commentaire'].apply(lambda x : len(x.split()))\n",
    "train"
   ]
  },
  {
   "cell_type": "code",
   "execution_count": null,
   "metadata": {
    "id": "y34AftTfjFPS"
   },
   "outputs": [],
   "source": [
    "# #Encoding\n",
    "# df.label.replace({'normal':0,'abusive':1,'spam':2,'hateful':3},inplace=True)\n",
    "# df.head()"
   ]
  },
  {
   "cell_type": "code",
   "execution_count": null,
   "metadata": {
    "colab": {
     "base_uri": "https://localhost:8080/",
     "height": 50
    },
    "id": "g8D5pStLqgzi",
    "outputId": "cfdb5210-46c9-48ea-aa3c-fcdafad7f2d6"
   },
   "outputs": [
    {
     "data": {
      "text/html": [
       "\n",
       "  <div id=\"df-7321f8a2-7b9c-4bce-8411-64fbdb0c9d1e\">\n",
       "    <div class=\"colab-df-container\">\n",
       "      <div>\n",
       "<style scoped>\n",
       "    .dataframe tbody tr th:only-of-type {\n",
       "        vertical-align: middle;\n",
       "    }\n",
       "\n",
       "    .dataframe tbody tr th {\n",
       "        vertical-align: top;\n",
       "    }\n",
       "\n",
       "    .dataframe thead th {\n",
       "        text-align: right;\n",
       "    }\n",
       "</style>\n",
       "<table border=\"1\" class=\"dataframe\">\n",
       "  <thead>\n",
       "    <tr style=\"text-align: right;\">\n",
       "      <th></th>\n",
       "      <th>commentaire</th>\n",
       "      <th>classe</th>\n",
       "      <th>word_count</th>\n",
       "    </tr>\n",
       "  </thead>\n",
       "  <tbody>\n",
       "  </tbody>\n",
       "</table>\n",
       "</div>\n",
       "      <button class=\"colab-df-convert\" onclick=\"convertToInteractive('df-7321f8a2-7b9c-4bce-8411-64fbdb0c9d1e')\"\n",
       "              title=\"Convert this dataframe to an interactive table.\"\n",
       "              style=\"display:none;\">\n",
       "        \n",
       "  <svg xmlns=\"http://www.w3.org/2000/svg\" height=\"24px\"viewBox=\"0 0 24 24\"\n",
       "       width=\"24px\">\n",
       "    <path d=\"M0 0h24v24H0V0z\" fill=\"none\"/>\n",
       "    <path d=\"M18.56 5.44l.94 2.06.94-2.06 2.06-.94-2.06-.94-.94-2.06-.94 2.06-2.06.94zm-11 1L8.5 8.5l.94-2.06 2.06-.94-2.06-.94L8.5 2.5l-.94 2.06-2.06.94zm10 10l.94 2.06.94-2.06 2.06-.94-2.06-.94-.94-2.06-.94 2.06-2.06.94z\"/><path d=\"M17.41 7.96l-1.37-1.37c-.4-.4-.92-.59-1.43-.59-.52 0-1.04.2-1.43.59L10.3 9.45l-7.72 7.72c-.78.78-.78 2.05 0 2.83L4 21.41c.39.39.9.59 1.41.59.51 0 1.02-.2 1.41-.59l7.78-7.78 2.81-2.81c.8-.78.8-2.07 0-2.86zM5.41 20L4 18.59l7.72-7.72 1.47 1.35L5.41 20z\"/>\n",
       "  </svg>\n",
       "      </button>\n",
       "      \n",
       "  <style>\n",
       "    .colab-df-container {\n",
       "      display:flex;\n",
       "      flex-wrap:wrap;\n",
       "      gap: 12px;\n",
       "    }\n",
       "\n",
       "    .colab-df-convert {\n",
       "      background-color: #E8F0FE;\n",
       "      border: none;\n",
       "      border-radius: 50%;\n",
       "      cursor: pointer;\n",
       "      display: none;\n",
       "      fill: #1967D2;\n",
       "      height: 32px;\n",
       "      padding: 0 0 0 0;\n",
       "      width: 32px;\n",
       "    }\n",
       "\n",
       "    .colab-df-convert:hover {\n",
       "      background-color: #E2EBFA;\n",
       "      box-shadow: 0px 1px 2px rgba(60, 64, 67, 0.3), 0px 1px 3px 1px rgba(60, 64, 67, 0.15);\n",
       "      fill: #174EA6;\n",
       "    }\n",
       "\n",
       "    [theme=dark] .colab-df-convert {\n",
       "      background-color: #3B4455;\n",
       "      fill: #D2E3FC;\n",
       "    }\n",
       "\n",
       "    [theme=dark] .colab-df-convert:hover {\n",
       "      background-color: #434B5C;\n",
       "      box-shadow: 0px 1px 3px 1px rgba(0, 0, 0, 0.15);\n",
       "      filter: drop-shadow(0px 1px 2px rgba(0, 0, 0, 0.3));\n",
       "      fill: #FFFFFF;\n",
       "    }\n",
       "  </style>\n",
       "\n",
       "      <script>\n",
       "        const buttonEl =\n",
       "          document.querySelector('#df-7321f8a2-7b9c-4bce-8411-64fbdb0c9d1e button.colab-df-convert');\n",
       "        buttonEl.style.display =\n",
       "          google.colab.kernel.accessAllowed ? 'block' : 'none';\n",
       "\n",
       "        async function convertToInteractive(key) {\n",
       "          const element = document.querySelector('#df-7321f8a2-7b9c-4bce-8411-64fbdb0c9d1e');\n",
       "          const dataTable =\n",
       "            await google.colab.kernel.invokeFunction('convertToInteractive',\n",
       "                                                     [key], {});\n",
       "          if (!dataTable) return;\n",
       "\n",
       "          const docLinkHtml = 'Like what you see? Visit the ' +\n",
       "            '<a target=\"_blank\" href=https://colab.research.google.com/notebooks/data_table.ipynb>data table notebook</a>'\n",
       "            + ' to learn more about interactive tables.';\n",
       "          element.innerHTML = '';\n",
       "          dataTable['output_type'] = 'display_data';\n",
       "          await google.colab.output.renderOutput(dataTable, element);\n",
       "          const docLink = document.createElement('div');\n",
       "          docLink.innerHTML = docLinkHtml;\n",
       "          element.appendChild(docLink);\n",
       "        }\n",
       "      </script>\n",
       "    </div>\n",
       "  </div>\n",
       "  "
      ],
      "text/plain": [
       "Empty DataFrame\n",
       "Columns: [commentaire, classe, word_count]\n",
       "Index: []"
      ]
     },
     "execution_count": 6,
     "metadata": {},
     "output_type": "execute_result"
    }
   ],
   "source": [
    "train[train['word_count'] == 388]"
   ]
  },
  {
   "cell_type": "code",
   "execution_count": null,
   "metadata": {
    "colab": {
     "base_uri": "https://localhost:8080/",
     "height": 36
    },
    "id": "N2lLrbnqqsFk",
    "outputId": "5509e262-9504-45ea-f784-f34972703b1d"
   },
   "outputs": [
    {
     "data": {
      "application/vnd.google.colaboratory.intrinsic+json": {
       "type": "string"
      },
      "text/plain": [
       "'متوقعك زملكاوي  يلا خير الله يسامحك\"'"
      ]
     },
     "execution_count": 8,
     "metadata": {},
     "output_type": "execute_result"
    }
   ],
   "source": [
    "train['commentaire'][30]"
   ]
  },
  {
   "cell_type": "code",
   "execution_count": null,
   "metadata": {
    "colab": {
     "base_uri": "https://localhost:8080/"
    },
    "id": "reTRftvWpUJk",
    "outputId": "c5ededa4-1cde-4549-cfbe-cbb44fb28c6f"
   },
   "outputs": [
    {
     "data": {
      "text/plain": [
       "Counter({0: 453, 1: 444, 2: 203})"
      ]
     },
     "execution_count": 9,
     "metadata": {},
     "output_type": "execute_result"
    }
   ],
   "source": [
    "y_train=train['classe']\n",
    "X_train=train['commentaire']\n",
    "#test=test['comm']\n",
    "y_train=pd.factorize(y_train)[0]\n",
    "# y_test=pd.factorize(y_test)[0]\n",
    "train['labels'] = pd.factorize(y_train)[0]\n",
    "\n",
    "import collections\n",
    "collections.Counter(y_train)\n",
    "\n",
    "#Counter({0: 4400, 1: 8840})"
   ]
  },
  {
   "cell_type": "code",
   "execution_count": null,
   "metadata": {
    "colab": {
     "base_uri": "https://localhost:8080/",
     "height": 423
    },
    "id": "gJDueK0Uh9kN",
    "outputId": "e9cdbe4e-31fe-4e2d-e462-9421fd21572a"
   },
   "outputs": [
    {
     "data": {
      "text/html": [
       "\n",
       "  <div id=\"df-ac1b8325-1c17-4d9b-9c4f-27e76cc27476\">\n",
       "    <div class=\"colab-df-container\">\n",
       "      <div>\n",
       "<style scoped>\n",
       "    .dataframe tbody tr th:only-of-type {\n",
       "        vertical-align: middle;\n",
       "    }\n",
       "\n",
       "    .dataframe tbody tr th {\n",
       "        vertical-align: top;\n",
       "    }\n",
       "\n",
       "    .dataframe thead th {\n",
       "        text-align: right;\n",
       "    }\n",
       "</style>\n",
       "<table border=\"1\" class=\"dataframe\">\n",
       "  <thead>\n",
       "    <tr style=\"text-align: right;\">\n",
       "      <th></th>\n",
       "      <th>commentaire</th>\n",
       "      <th>classe</th>\n",
       "      <th>word_count</th>\n",
       "      <th>labels</th>\n",
       "    </tr>\n",
       "  </thead>\n",
       "  <tbody>\n",
       "    <tr>\n",
       "      <th>0</th>\n",
       "      <td>مبروك و سامحونا لعجزنا التام. عقبال اللي جوه. ...</td>\n",
       "      <td>normal</td>\n",
       "      <td>16</td>\n",
       "      <td>0</td>\n",
       "    </tr>\n",
       "    <tr>\n",
       "      <th>1</th>\n",
       "      <td>كلنا بره ومش هنبطل نزايد على العجايز الي جابون...</td>\n",
       "      <td>hate</td>\n",
       "      <td>10</td>\n",
       "      <td>1</td>\n",
       "    </tr>\n",
       "    <tr>\n",
       "      <th>2</th>\n",
       "      <td>بدل ما انت قاعد بره كده تعالي ازرع الصحرا</td>\n",
       "      <td>normal</td>\n",
       "      <td>9</td>\n",
       "      <td>0</td>\n",
       "    </tr>\n",
       "    <tr>\n",
       "      <th>3</th>\n",
       "      <td>قذر اتفووو ماتيجى مصر وتورينا نفسك كدا ياجبان</td>\n",
       "      <td>hate</td>\n",
       "      <td>8</td>\n",
       "      <td>1</td>\n",
       "    </tr>\n",
       "    <tr>\n",
       "      <th>4</th>\n",
       "      <td>وهكذا رجال الشو اللي محرومين من عمل برنامج الغ...</td>\n",
       "      <td>hate</td>\n",
       "      <td>16</td>\n",
       "      <td>1</td>\n",
       "    </tr>\n",
       "    <tr>\n",
       "      <th>...</th>\n",
       "      <td>...</td>\n",
       "      <td>...</td>\n",
       "      <td>...</td>\n",
       "      <td>...</td>\n",
       "    </tr>\n",
       "    <tr>\n",
       "      <th>1095</th>\n",
       "      <td>أستاذنا العزيز بلال فضل يحزنني أن يتم حذف حلقا...</td>\n",
       "      <td>normal</td>\n",
       "      <td>23</td>\n",
       "      <td>0</td>\n",
       "    </tr>\n",
       "    <tr>\n",
       "      <th>1096</th>\n",
       "      <td>،برنامج يدعو للتفكير أكيد يمنعوه لأنهم خوافون ...</td>\n",
       "      <td>normal</td>\n",
       "      <td>10</td>\n",
       "      <td>0</td>\n",
       "    </tr>\n",
       "    <tr>\n",
       "      <th>1097</th>\n",
       "      <td>\"#أزهى_عصور_المسخره  هل ضيعت \"شيما\" محافظ بورس...</td>\n",
       "      <td>hate</td>\n",
       "      <td>6</td>\n",
       "      <td>1</td>\n",
       "    </tr>\n",
       "    <tr>\n",
       "      <th>1098</th>\n",
       "      <td>الله يلعنك و يلعن اللى جابوك يا رمه جايفه</td>\n",
       "      <td>abusive</td>\n",
       "      <td>9</td>\n",
       "      <td>2</td>\n",
       "    </tr>\n",
       "    <tr>\n",
       "      <th>1099</th>\n",
       "      <td>أنت رجل حيوان</td>\n",
       "      <td>abusive</td>\n",
       "      <td>3</td>\n",
       "      <td>2</td>\n",
       "    </tr>\n",
       "  </tbody>\n",
       "</table>\n",
       "<p>1100 rows × 4 columns</p>\n",
       "</div>\n",
       "      <button class=\"colab-df-convert\" onclick=\"convertToInteractive('df-ac1b8325-1c17-4d9b-9c4f-27e76cc27476')\"\n",
       "              title=\"Convert this dataframe to an interactive table.\"\n",
       "              style=\"display:none;\">\n",
       "        \n",
       "  <svg xmlns=\"http://www.w3.org/2000/svg\" height=\"24px\"viewBox=\"0 0 24 24\"\n",
       "       width=\"24px\">\n",
       "    <path d=\"M0 0h24v24H0V0z\" fill=\"none\"/>\n",
       "    <path d=\"M18.56 5.44l.94 2.06.94-2.06 2.06-.94-2.06-.94-.94-2.06-.94 2.06-2.06.94zm-11 1L8.5 8.5l.94-2.06 2.06-.94-2.06-.94L8.5 2.5l-.94 2.06-2.06.94zm10 10l.94 2.06.94-2.06 2.06-.94-2.06-.94-.94-2.06-.94 2.06-2.06.94z\"/><path d=\"M17.41 7.96l-1.37-1.37c-.4-.4-.92-.59-1.43-.59-.52 0-1.04.2-1.43.59L10.3 9.45l-7.72 7.72c-.78.78-.78 2.05 0 2.83L4 21.41c.39.39.9.59 1.41.59.51 0 1.02-.2 1.41-.59l7.78-7.78 2.81-2.81c.8-.78.8-2.07 0-2.86zM5.41 20L4 18.59l7.72-7.72 1.47 1.35L5.41 20z\"/>\n",
       "  </svg>\n",
       "      </button>\n",
       "      \n",
       "  <style>\n",
       "    .colab-df-container {\n",
       "      display:flex;\n",
       "      flex-wrap:wrap;\n",
       "      gap: 12px;\n",
       "    }\n",
       "\n",
       "    .colab-df-convert {\n",
       "      background-color: #E8F0FE;\n",
       "      border: none;\n",
       "      border-radius: 50%;\n",
       "      cursor: pointer;\n",
       "      display: none;\n",
       "      fill: #1967D2;\n",
       "      height: 32px;\n",
       "      padding: 0 0 0 0;\n",
       "      width: 32px;\n",
       "    }\n",
       "\n",
       "    .colab-df-convert:hover {\n",
       "      background-color: #E2EBFA;\n",
       "      box-shadow: 0px 1px 2px rgba(60, 64, 67, 0.3), 0px 1px 3px 1px rgba(60, 64, 67, 0.15);\n",
       "      fill: #174EA6;\n",
       "    }\n",
       "\n",
       "    [theme=dark] .colab-df-convert {\n",
       "      background-color: #3B4455;\n",
       "      fill: #D2E3FC;\n",
       "    }\n",
       "\n",
       "    [theme=dark] .colab-df-convert:hover {\n",
       "      background-color: #434B5C;\n",
       "      box-shadow: 0px 1px 3px 1px rgba(0, 0, 0, 0.15);\n",
       "      filter: drop-shadow(0px 1px 2px rgba(0, 0, 0, 0.3));\n",
       "      fill: #FFFFFF;\n",
       "    }\n",
       "  </style>\n",
       "\n",
       "      <script>\n",
       "        const buttonEl =\n",
       "          document.querySelector('#df-ac1b8325-1c17-4d9b-9c4f-27e76cc27476 button.colab-df-convert');\n",
       "        buttonEl.style.display =\n",
       "          google.colab.kernel.accessAllowed ? 'block' : 'none';\n",
       "\n",
       "        async function convertToInteractive(key) {\n",
       "          const element = document.querySelector('#df-ac1b8325-1c17-4d9b-9c4f-27e76cc27476');\n",
       "          const dataTable =\n",
       "            await google.colab.kernel.invokeFunction('convertToInteractive',\n",
       "                                                     [key], {});\n",
       "          if (!dataTable) return;\n",
       "\n",
       "          const docLinkHtml = 'Like what you see? Visit the ' +\n",
       "            '<a target=\"_blank\" href=https://colab.research.google.com/notebooks/data_table.ipynb>data table notebook</a>'\n",
       "            + ' to learn more about interactive tables.';\n",
       "          element.innerHTML = '';\n",
       "          dataTable['output_type'] = 'display_data';\n",
       "          await google.colab.output.renderOutput(dataTable, element);\n",
       "          const docLink = document.createElement('div');\n",
       "          docLink.innerHTML = docLinkHtml;\n",
       "          element.appendChild(docLink);\n",
       "        }\n",
       "      </script>\n",
       "    </div>\n",
       "  </div>\n",
       "  "
      ],
      "text/plain": [
       "                                            commentaire  ... labels\n",
       "0     مبروك و سامحونا لعجزنا التام. عقبال اللي جوه. ...  ...      0\n",
       "1     كلنا بره ومش هنبطل نزايد على العجايز الي جابون...  ...      1\n",
       "2             بدل ما انت قاعد بره كده تعالي ازرع الصحرا  ...      0\n",
       "3         قذر اتفووو ماتيجى مصر وتورينا نفسك كدا ياجبان  ...      1\n",
       "4     وهكذا رجال الشو اللي محرومين من عمل برنامج الغ...  ...      1\n",
       "...                                                 ...  ...    ...\n",
       "1095  أستاذنا العزيز بلال فضل يحزنني أن يتم حذف حلقا...  ...      0\n",
       "1096  ،برنامج يدعو للتفكير أكيد يمنعوه لأنهم خوافون ...  ...      0\n",
       "1097  \"#أزهى_عصور_المسخره  هل ضيعت \"شيما\" محافظ بورس...  ...      1\n",
       "1098          الله يلعنك و يلعن اللى جابوك يا رمه جايفه  ...      2\n",
       "1099                                      أنت رجل حيوان  ...      2\n",
       "\n",
       "[1100 rows x 4 columns]"
      ]
     },
     "execution_count": 10,
     "metadata": {},
     "output_type": "execute_result"
    }
   ],
   "source": [
    "train"
   ]
  },
  {
   "cell_type": "code",
   "execution_count": null,
   "metadata": {
    "colab": {
     "base_uri": "https://localhost:8080/"
    },
    "id": "oGLoYOBGcQLC",
    "outputId": "0df59bc7-7e89-4f35-942c-d5ff3e4a5907"
   },
   "outputs": [
    {
     "name": "stdout",
     "output_type": "stream",
     "text": [
      "[nltk_data] Downloading package stopwords to /root/nltk_data...\n",
      "[nltk_data]   Package stopwords is already up-to-date!\n",
      "[nltk_data] Downloading package wordnet to /root/nltk_data...\n",
      "[nltk_data]   Package wordnet is already up-to-date!\n"
     ]
    }
   ],
   "source": [
    "import nltk\n",
    "nltk.download('stopwords')\n",
    "nltk.download('wordnet')\n",
    "from nltk.corpus import stopwords\n",
    "stopwords_list = stopwords.words('arabic')"
   ]
  },
  {
   "cell_type": "code",
   "execution_count": null,
   "metadata": {
    "id": "eTokWOWpbiMT"
   },
   "outputs": [],
   "source": [
    "#cleaning data\n",
    "import re\n",
    "from nltk.stem.porter import PorterStemmer\n",
    "tokenizer=nltk.tokenize.WhitespaceTokenizer()\n",
    "from nltk.stem.isri import ISRIStemmer\n",
    "st = ISRIStemmer()\n",
    "from snowballstemmer import stemmer\n",
    "ar_stemmer = stemmer(\"arabic\")\n",
    "\n",
    "def preprocess(review):\n",
    "   review = re.sub('[^ا-ي]', ' ', review)\n",
    " \n",
    "   review = tokenizer.tokenize(review)\n",
    "   review = [ar_stemmer.stemWord(word) for word in review if not word in set(stopwords_list )]\n",
    "   review = ' '.join(review)\n",
    "   return review"
   ]
  },
  {
   "cell_type": "code",
   "execution_count": null,
   "metadata": {
    "id": "0fUSTtv_b2Tj"
   },
   "outputs": [],
   "source": [
    "# X_train = train['commentaire'].apply(preprocess)\n",
    "X_train = X_train.apply(preprocess)\n"
   ]
  },
  {
   "cell_type": "code",
   "execution_count": null,
   "metadata": {
    "colab": {
     "base_uri": "https://localhost:8080/",
     "height": 36
    },
    "id": "pHWUrV9_cchK",
    "outputId": "d6736714-62a6-4fd9-812a-b1e6ca4fe10d"
   },
   "outputs": [
    {
     "data": {
      "application/vnd.google.colaboratory.intrinsic+json": {
       "type": "string"
      },
      "text/plain": [
       "'مبر سامح لعجز تام عقبال الل جوه الل بره عاجز يزايد عاجز'"
      ]
     },
     "execution_count": 14,
     "metadata": {},
     "output_type": "execute_result"
    }
   ],
   "source": [
    "X_train[0] ### Après preprocessing"
   ]
  },
  {
   "cell_type": "code",
   "execution_count": null,
   "metadata": {
    "colab": {
     "base_uri": "https://localhost:8080/",
     "height": 36
    },
    "id": "TNY4hgF8dEM6",
    "outputId": "46beadb0-f459-4519-a361-5de833475549"
   },
   "outputs": [
    {
     "data": {
      "application/vnd.google.colaboratory.intrinsic+json": {
       "type": "string"
      },
      "text/plain": [
       "'مبروك و سامحونا لعجزنا التام. عقبال اللي جوه. اللي بره يا عاجز يا بيزايد على العاجز'"
      ]
     },
     "execution_count": 15,
     "metadata": {},
     "output_type": "execute_result"
    }
   ],
   "source": [
    "train['commentaire'][0] ### Originale"
   ]
  },
  {
   "cell_type": "code",
   "execution_count": null,
   "metadata": {
    "id": "qMwojEJFiiBY"
   },
   "outputs": [],
   "source": [
    "# x=train[323].lower().replace('@user','').replace('url','')\n",
    "# x=re.sub('[^A-Za-z]', ' ', x)\n",
    "# re.sub('http[s]?://(?:[a-zA-Z]|[0-9]|[$-_@.&+]|'\n",
    "#         '[!*\\(\\),]|(?:%[0-9a-fA-F][0-9a-fA-F]))+','',x)"
   ]
  },
  {
   "cell_type": "code",
   "execution_count": null,
   "metadata": {
    "id": "0KkTgzF_q4s1"
   },
   "outputs": [],
   "source": [
    "# # Creating the training corpus\n",
    "# stop_words = set(stopwords.words(\"english\")) \n",
    "# lemmatizer = WordNetLemmatizer()\n",
    "# corpus_train = []\n",
    "# for i in train:\n",
    "#     x=i.lower()\n",
    "#     x=x.replace('@user','')\n",
    "#     x=x.replace('@[\\w\\-]+','')\n",
    "#     #x=x.translate(str.maketrans('', '', string.punctuation))\n",
    "#     x = re.sub('[^A-Za-z]', ' ', x)\n",
    "#     #x=re.sub('\\s+',' ',x)\n",
    "#     x=re.sub('http[s]?://(?:[a-zA-Z]|[0-9]|[$-_@.&+]|'\n",
    "#         '[!*\\(\\),]|(?:%[0-9a-fA-F][0-9a-fA-F]))+','',x) #url\n",
    "#     #x = [lemmatizer.lemmatize(token) for token in x.split(\" \")]\n",
    "#     #x = [word for word in x if not word in stop_words]\n",
    "#     #x=\" \".join(x)\n",
    "#     corpus_train.append(x)    \n",
    "# # Creating the training corpus\n",
    "# corpus_test = []\n",
    "# for i in test:\n",
    "#     x=i.lower()\n",
    "#     x=x.replace('@user','')\n",
    "#     x=x.replace('@[\\w\\-]+','')\n",
    "#     #x=x.translate(str.maketrans('', '', string.punctuation))\n",
    "#     x = re.sub('[^A-Za-z]', ' ', x)\n",
    "#     #x=re.sub('\\s+',' ',x)\n",
    "#     x=re.sub('http[s]?://(?:[a-zA-Z]|[0-9]|[$-_@.&+]|'\n",
    "#         '[!*\\(\\),]|(?:%[0-9a-fA-F][0-9a-fA-F]))+','',x) #url\n",
    "#     #x = [lemmatizer.lemmatize(token) for token in x.split(\" \")]\n",
    "#     #x = [word for word in x if not word in stop_words]\n",
    "#     #x=\" \".join(x)\n",
    "#     corpus_test.append(x) "
   ]
  },
  {
   "cell_type": "code",
   "execution_count": null,
   "metadata": {
    "id": "GyyHvozBq7kf"
   },
   "outputs": [],
   "source": [
    "# from keras.preprocessing.text import Tokenizer\n",
    "# from keras.preprocessing import sequence\n",
    "# max_words = 5000 #frequency of words to be kept\n",
    "# max_len = 200\n",
    "# tokenize = Tokenizer(num_words=max_words)\n",
    "# tokenize.fit_on_texts(corpus_train)\n",
    "# sequences = tokenize.texts_to_sequences(corpus_train)\n",
    "# word_index = tokenize.word_index\n",
    "# sequences_matrix = sequence.pad_sequences(sequences,maxlen=max_len)"
   ]
  },
  {
   "cell_type": "code",
   "execution_count": null,
   "metadata": {
    "colab": {
     "base_uri": "https://localhost:8080/"
    },
    "id": "DUs3GSQ9e6lq",
    "outputId": "27ffbd46-5196-4b65-f52c-9ca69a91b38d"
   },
   "outputs": [
    {
     "data": {
      "text/plain": [
       "4510"
      ]
     },
     "execution_count": 19,
     "metadata": {},
     "output_type": "execute_result"
    }
   ],
   "source": [
    "# splitting the data into target and feature\n",
    "from sklearn.model_selection import train_test_split\n",
    "from keras.preprocessing.text import Tokenizer\n",
    "from keras.preprocessing.sequence import pad_sequences \n",
    "\n",
    "X_train, X_test, y_train, y_test = train_test_split(X_train, y_train ,test_size = 0.1, random_state=0)\n",
    "tokenizer = Tokenizer(lower=True)\n",
    "tokenizer.fit_on_texts(X_train)\n",
    "\n",
    "X_train = tokenizer.texts_to_sequences(X_train)\n",
    "X_test = tokenizer.texts_to_sequences(X_test)\n",
    "\n",
    "vocab_size = len(tokenizer.word_index) + 1 \n",
    "vocab_size # Adding 1 because of reserved 0 index"
   ]
  },
  {
   "cell_type": "code",
   "execution_count": null,
   "metadata": {
    "id": "_Ae1X0N6mtK1"
   },
   "outputs": [],
   "source": [
    "word_index = tokenizer.word_index\n"
   ]
  },
  {
   "cell_type": "code",
   "execution_count": null,
   "metadata": {
    "colab": {
     "base_uri": "https://localhost:8080/"
    },
    "id": "gm9MD9MKgew-",
    "outputId": "8d5ea997-06da-4cb1-90f7-45186d48666f"
   },
   "outputs": [
    {
     "name": "stdout",
     "output_type": "stream",
     "text": [
      "Max len: 28\n"
     ]
    }
   ],
   "source": [
    "lens_train = [len(i) for i in X_train]\n",
    "lens_test = [len(i) for i in X_test]\n",
    "lens = lens_train + lens_test\n",
    "\n",
    "maxlen = np.max(lens)\n",
    "print('Max len:', maxlen)"
   ]
  },
  {
   "cell_type": "code",
   "execution_count": null,
   "metadata": {
    "id": "MHCkOuIlo0Bc"
   },
   "outputs": [],
   "source": [
    "# len(x.split())\n",
    "\n",
    "# lens_train = [len(i.split()) for i in list(train['commentaire'])]\n",
    "# lens_test = [len(i.split()) for i in X_test]\n",
    "# lens = lens_train + lens_test\n",
    "\n",
    "# maxlen_ = np.max(train['word_count'])\n",
    "# print('Max len:', maxlen_)\n"
   ]
  },
  {
   "cell_type": "code",
   "execution_count": null,
   "metadata": {
    "id": "sYN-06rwkCyJ"
   },
   "outputs": [],
   "source": [
    "# num_words = min(max_words, len(word_index)) + 1\n",
    "# print(num_words)"
   ]
  },
  {
   "cell_type": "code",
   "execution_count": null,
   "metadata": {
    "id": "DO1yndKJiXxl"
   },
   "outputs": [],
   "source": [
    "### AraVec embeddings\n",
    "# !wget https://bakrianoo.ewr1.vultrobjects.com/aravec/full_grams_cbow_300_twitter.zip"
   ]
  },
  {
   "cell_type": "code",
   "execution_count": null,
   "metadata": {
    "id": "vNP3UOz1djK_"
   },
   "outputs": [],
   "source": [
    "### Unzip AraVec \n",
    "# !unzip /content/full_grams_cbow_300_twitter.zip"
   ]
  },
  {
   "cell_type": "code",
   "execution_count": null,
   "metadata": {
    "id": "N4cXkMapTl0M"
   },
   "outputs": [],
   "source": [
    "# !mv /content/full_grams_cbow_300_twitter.mdl.trainables.syn1neg.npy /content/drive/MyDrive/FastText_Aravec_Arabic_embeddings/full_grams_cbow_300_twitter.mdl.trainables.syn1neg.npy\n",
    "# !mv /content/full_grams_cbow_300_twitter.mdl.wv.vectors.npy /content/drive/MyDrive/FastText_Aravec_Arabic_embeddings/full_grams_cbow_300_twitter.mdl.wv.vectors.npy"
   ]
  },
  {
   "cell_type": "code",
   "execution_count": null,
   "metadata": {
    "id": "N9NhnutckY-C"
   },
   "outputs": [],
   "source": [
    "### FastText Arabic embeddings\n",
    "# !wget https://dl.fbaipublicfiles.com/fasttext/vectors-crawl/cc.ar.300.vec.gz"
   ]
  },
  {
   "cell_type": "code",
   "execution_count": null,
   "metadata": {
    "id": "bPzCEayqk0o0"
   },
   "outputs": [],
   "source": [
    "### Unzip FastText Arabic\n",
    "# !gzip -d /content/cc.ar.300.vec.gz"
   ]
  },
  {
   "cell_type": "code",
   "execution_count": null,
   "metadata": {
    "id": "vlMA1Qwfg0EA"
   },
   "outputs": [],
   "source": [
    "embedding_path1 = \"/content/drive/MyDrive/FastText_Aravec_Arabic_embeddings/cc.ar.300.vec\" ### FadText Arabic\n",
    "embedding_path2 = \"/content/drive/MyDrive/FastText_Aravec_Arabic_embeddings/full_grams_cbow_300_twitter.mdl.wv.vectors.npy\" ### AraVec\n",
    "#embedding_path2 = \"/content/full_grams_cbow_300_twitter.mdl.wv.vectors.npy\" ### AraVec\n",
    "\n",
    "embed_size = 300"
   ]
  },
  {
   "cell_type": "code",
   "execution_count": null,
   "metadata": {
    "id": "TyxVJQ45rSW3"
   },
   "outputs": [],
   "source": [
    "def get_coefs(word,*arr):\n",
    "    return word, np.asarray(arr, dtype='float32')\n",
    "\n",
    "def build_matrix(embedding_path, word_index):\n",
    "    embedding_index = dict(get_coefs(*o.strip().split(\" \")) for o in open(embedding_path))\n",
    "\n",
    "    nb_words = min(maxlen, len(word_index))\n",
    "    # embedding_matrix = np.zeros((nb_words + 1, embed_size))\n",
    "    embedding_matrix = np.zeros((vocab_size + 1, embed_size))\n",
    "    for word, i in word_index.items():\n",
    "        if i >= maxlen:\n",
    "            continue\n",
    "        embedding_vector = embedding_index.get(word)\n",
    "        if embedding_vector is not None:\n",
    "            embedding_matrix[i] = embedding_vector\n",
    "    return embedding_matrix\n"
   ]
  },
  {
   "cell_type": "code",
   "execution_count": null,
   "metadata": {
    "id": "zYUKY8LXkIoK"
   },
   "outputs": [],
   "source": [
    "fasttext_arabic_emb = build_matrix(embedding_path1, word_index)\n",
    "# aravec_emb = build_matrix(embedding_path2, word_index)"
   ]
  },
  {
   "cell_type": "code",
   "execution_count": null,
   "metadata": {
    "colab": {
     "base_uri": "https://localhost:8080/"
    },
    "id": "ujFHFjvZgbri",
    "outputId": "deed0d99-9445-4af1-9666-e754cfc99b7b"
   },
   "outputs": [
    {
     "data": {
      "text/plain": [
       "(4511, 300)"
      ]
     },
     "execution_count": 32,
     "metadata": {},
     "output_type": "execute_result"
    }
   ],
   "source": [
    "fasttext_arabic_emb.shape"
   ]
  },
  {
   "cell_type": "code",
   "execution_count": null,
   "metadata": {
    "id": "Tla3YBh1xpBK"
   },
   "outputs": [],
   "source": [
    "import gensim\n",
    "\n",
    "t_model = gensim.models.Word2Vec.load('/content/drive/MyDrive/FastText_Aravec_Arabic_embeddings/full_grams_cbow_300_twitter.mdl')"
   ]
  },
  {
   "cell_type": "code",
   "execution_count": null,
   "metadata": {
    "id": "VPIk72dXx4rz"
   },
   "outputs": [],
   "source": [
    "# word_vector = t_model.wv[ token ]\n",
    "\n",
    "def build_aravec_matrix(embedding_path, word_index):\n",
    "\n",
    "    nb_words = min(maxlen, len(word_index))\n",
    "    # embedding_matrix = np.zeros((nb_words + 1, embed_size))\n",
    "    embedding_matrix = np.zeros((vocab_size + 1, embed_size))\n",
    "    for word, i in word_index.items():\n",
    "        if i >= maxlen:\n",
    "            continue\n",
    "        try:\n",
    "          embedding_vector = t_model.wv[word]\n",
    "        except KeyError:\n",
    "          continue\n",
    "        if embedding_vector is not None:\n",
    "            embedding_matrix[i] = t_model.wv[word]\n",
    "    return embedding_matrix"
   ]
  },
  {
   "cell_type": "code",
   "execution_count": null,
   "metadata": {
    "id": "jPT-r20-vv3L"
   },
   "outputs": [],
   "source": [
    "aravec_emb = build_aravec_matrix(embedding_path2, word_index)"
   ]
  },
  {
   "cell_type": "code",
   "execution_count": null,
   "metadata": {
    "colab": {
     "base_uri": "https://localhost:8080/"
    },
    "id": "-GfJTGLH9GiR",
    "outputId": "de17c4a5-c561-4a7b-9ddb-c4cc36f0b22e"
   },
   "outputs": [
    {
     "data": {
      "text/plain": [
       "(4511, 300)"
      ]
     },
     "execution_count": 36,
     "metadata": {},
     "output_type": "execute_result"
    }
   ],
   "source": [
    "aravec_emb.shape"
   ]
  },
  {
   "cell_type": "code",
   "execution_count": null,
   "metadata": {
    "colab": {
     "base_uri": "https://localhost:8080/"
    },
    "id": "ywE3rEY3AvVS",
    "outputId": "c9dbf5ff-2bc0-435c-86d6-69898db8016c"
   },
   "outputs": [
    {
     "data": {
      "text/plain": [
       "array([[ 0.        ,  0.        ,  0.        , ...,  0.        ,\n",
       "         0.        ,  0.        ],\n",
       "       [ 0.68396038,  0.08568496, -1.49492538, ...,  1.19202554,\n",
       "         0.93092334, -0.21510941],\n",
       "       [ 0.16235431, -1.00791025, -0.86719418, ..., -0.01928542,\n",
       "        -1.11376536, -1.04606497],\n",
       "       ...,\n",
       "       [ 0.        ,  0.        ,  0.        , ...,  0.        ,\n",
       "         0.        ,  0.        ],\n",
       "       [ 0.        ,  0.        ,  0.        , ...,  0.        ,\n",
       "         0.        ,  0.        ],\n",
       "       [ 0.        ,  0.        ,  0.        , ...,  0.        ,\n",
       "         0.        ,  0.        ]])"
      ]
     },
     "execution_count": 37,
     "metadata": {},
     "output_type": "execute_result"
    }
   ],
   "source": [
    "aravec_emb"
   ]
  },
  {
   "cell_type": "markdown",
   "metadata": {
    "id": "uiArU6WLwghI"
   },
   "source": [
    "ccombinaison des deux embedding\n"
   ]
  },
  {
   "cell_type": "code",
   "execution_count": null,
   "metadata": {
    "colab": {
     "base_uri": "https://localhost:8080/"
    },
    "id": "v7uZ-HJ4ln2_",
    "outputId": "1a934b3c-9e3b-4235-bffa-59be58c3ec8e"
   },
   "outputs": [
    {
     "data": {
      "text/plain": [
       "(4511, 300)"
      ]
     },
     "execution_count": 38,
     "metadata": {},
     "output_type": "execute_result"
    }
   ],
   "source": [
    "embedding_matrix2=np.mean((fasttext_arabic_emb, aravec_emb),axis=0)\n",
    "embedding_matrix2.shape"
   ]
  },
  {
   "cell_type": "code",
   "execution_count": null,
   "metadata": {
    "id": "dLnt7QKJ8WzH"
   },
   "outputs": [],
   "source": [
    "from keras.preprocessing import sequence\n",
    "\n",
    "# test_sequences = tokenize.texts_to_sequences(corpus_test)\n",
    "X_train_pad = sequence.pad_sequences(X_train, maxlen=maxlen)\n",
    "X_test_pad  = sequence.pad_sequences(X_test, maxlen=maxlen)"
   ]
  },
  {
   "cell_type": "code",
   "execution_count": null,
   "metadata": {
    "id": "EVwNl2COnOTt"
   },
   "outputs": [],
   "source": [
    "from keras import backend as K\n",
    "def f1(y_true, y_pred):\n",
    "    \n",
    "    def recall(y_true, y_pred):\n",
    "        \"\"\"Recall metric.\n",
    "\n",
    "        Only computes a batch-wise average of recall.\n",
    "\n",
    "        Computes the recall, a metric for multi-label classification of\n",
    "        how many relevant items are selected.\n",
    "        \"\"\"\n",
    "        true_positives = K.sum(K.round(K.clip(y_true * y_pred, 0, 1)))\n",
    "        possible_positives = K.sum(K.round(K.clip(y_true, 0, 1)))\n",
    "        recall = true_positives / (possible_positives + K.epsilon())\n",
    "        return recall\n",
    "\n",
    "    def precision(y_true, y_pred):\n",
    "        \"\"\"Precision metric.\n",
    "\n",
    "        Only computes a batch-wise average of precision.\n",
    "\n",
    "        Computes the precision, a metric for multi-label classification of\n",
    "        how many selected items are relevant.\n",
    "        \"\"\"\n",
    "        true_positives = K.sum(K.round(K.clip(y_true * y_pred, 0, 1)))\n",
    "        predicted_positives = K.sum(K.round(K.clip(y_pred, 0, 1)))\n",
    "        precision = true_positives / (predicted_positives + K.epsilon())\n",
    "        return precision\n",
    "    precision = precision(y_true, y_pred)\n",
    "    recall = recall(y_true, y_pred)\n",
    "    return 2*((precision*recall)/(precision+recall+K.epsilon()))"
   ]
  },
  {
   "cell_type": "code",
   "execution_count": null,
   "metadata": {
    "id": "9QwiUz7VFJPz"
   },
   "outputs": [],
   "source": [
    "callbacks = keras.callbacks.EarlyStopping(monitor='val_f1', mode='max', verbose=1,\n",
    "                                          patience=8,restore_best_weights = True)"
   ]
  },
  {
   "cell_type": "code",
   "execution_count": null,
   "metadata": {
    "id": "HkMkKWsJrzeN"
   },
   "outputs": [],
   "source": [
    "from keras.models import Sequential,Model\n",
    "from tensorflow.compat.v1.keras.layers import CuDNNGRU\n",
    "from keras.layers import Embedding,Dense,GRU, Conv1D\n",
    "from keras.layers import Dropout,Bidirectional,GlobalMaxPool1D,GlobalAveragePooling1D\n",
    "from keras.layers import SpatialDropout1D,concatenate,Input\n",
    "# from keras.optimizers import RMSprop\n",
    "from keras.initializers import Constant\n",
    "from sklearn.utils import class_weight\n",
    "from keras.callbacks import ModelCheckpoint\n",
    "import tensorflow as tf\n",
    "#tf.logging.set_verbosity(tf.logging.ERROR)"
   ]
  },
  {
   "cell_type": "code",
   "execution_count": null,
   "metadata": {
    "id": "Il9FI8EkTTBh"
   },
   "outputs": [],
   "source": [
    "from sklearn.metrics import classification_report\n",
    "from sklearn.metrics import confusion_matrix, f1_score, precision_score, recall_score\n",
    "import matplotlib.pyplot as plt\n",
    "import seaborn as sns"
   ]
  },
  {
   "cell_type": "code",
   "execution_count": null,
   "metadata": {
    "id": "fL-leK_jTorh"
   },
   "outputs": [],
   "source": [
    "class_weights = class_weight.compute_class_weight(class_weight='balanced', classes=np.unique(y_train), y=y_train)\n",
    "class_weights=dict(enumerate(class_weights))"
   ]
  },
  {
   "cell_type": "code",
   "execution_count": null,
   "metadata": {
    "id": "khxVuHQQENNR"
   },
   "outputs": [],
   "source": [
    "from tensorflow.keras.utils import to_categorical\n",
    "\n",
    "y_train = to_categorical(y_train, 3)\n",
    "y_test  = to_categorical(y_test, 3)"
   ]
  },
  {
   "cell_type": "markdown",
   "metadata": {
    "id": "StHob8uHVS2A"
   },
   "source": [
    "# CNN Model and BiGRU Model"
   ]
  },
  {
   "cell_type": "markdown",
   "metadata": {
    "id": "ZwFFlBGFR2tv"
   },
   "source": [
    "### Training a model with aravec and Fasttext embedding"
   ]
  },
  {
   "cell_type": "code",
   "execution_count": null,
   "metadata": {
    "id": "EIRQc1aLRhHg"
   },
   "outputs": [],
   "source": [
    "inp=Input((maxlen,))\n",
    "#Embedding Layer \n",
    "x=Embedding(vocab_size + 1,embed_size,embeddings_initializer=Constant(embedding_matrix2),\n",
    "            input_length=maxlen,trainable=True)(inp)\n",
    "x = SpatialDropout1D(0.2)(x)\n",
    "### Couche CNN-BiGRU \n",
    "x=Conv1D(filters=32, kernel_size=3, padding='valid', activation='relu')(x) \n",
    "x=Bidirectional(GRU(150, return_sequences = True))(x)\n",
    "\n",
    "avg_pool = GlobalAveragePooling1D()(x)\n",
    "max_pool = GlobalMaxPool1D()(x)\n",
    "conc = concatenate([avg_pool, max_pool])\n",
    "\n",
    " \n",
    "x=Dropout(0.2)(conc)\n",
    "out=Dense(16, activation=\"relu\")(x)\n",
    "out=Dense(8, activation=\"relu\")(out)\n",
    "\n",
    "out=Dense(3, activation=\"softmax\")(out)\n",
    "\n",
    "model=Model(inp,out)\n",
    "\n",
    "mcp_save = ModelCheckpoint('model.mdl_wts.hdf5', save_best_only=True,\n",
    "                           monitor='val_loss', mode='min',patience = 5)\n",
    "\n"
   ]
  },
  {
   "cell_type": "code",
   "execution_count": null,
   "metadata": {
    "id": "hCVvlC7ARlLY"
   },
   "outputs": [],
   "source": [
    "model.compile(loss=tf.keras.losses.CategoricalCrossentropy(), optimizer=tf.keras.optimizers.Adam(), metrics=[f1])"
   ]
  },
  {
   "cell_type": "code",
   "execution_count": null,
   "metadata": {
    "colab": {
     "base_uri": "https://localhost:8080/"
    },
    "id": "LBDAzDdwRpeJ",
    "outputId": "d5859ae7-0800-42a5-d79e-011cc516bc48"
   },
   "outputs": [
    {
     "name": "stdout",
     "output_type": "stream",
     "text": [
      "Model: \"model\"\n",
      "__________________________________________________________________________________________________\n",
      " Layer (type)                   Output Shape         Param #     Connected to                     \n",
      "==================================================================================================\n",
      " input_1 (InputLayer)           [(None, 28)]         0           []                               \n",
      "                                                                                                  \n",
      " embedding (Embedding)          (None, 28, 300)      1353300     ['input_1[0][0]']                \n",
      "                                                                                                  \n",
      " spatial_dropout1d (SpatialDrop  (None, 28, 300)     0           ['embedding[0][0]']              \n",
      " out1D)                                                                                           \n",
      "                                                                                                  \n",
      " conv1d (Conv1D)                (None, 26, 32)       28832       ['spatial_dropout1d[0][0]']      \n",
      "                                                                                                  \n",
      " bidirectional (Bidirectional)  (None, 26, 300)      165600      ['conv1d[0][0]']                 \n",
      "                                                                                                  \n",
      " global_average_pooling1d (Glob  (None, 300)         0           ['bidirectional[0][0]']          \n",
      " alAveragePooling1D)                                                                              \n",
      "                                                                                                  \n",
      " global_max_pooling1d (GlobalMa  (None, 300)         0           ['bidirectional[0][0]']          \n",
      " xPooling1D)                                                                                      \n",
      "                                                                                                  \n",
      " concatenate (Concatenate)      (None, 600)          0           ['global_average_pooling1d[0][0]'\n",
      "                                                                 , 'global_max_pooling1d[0][0]']  \n",
      "                                                                                                  \n",
      " dropout (Dropout)              (None, 600)          0           ['concatenate[0][0]']            \n",
      "                                                                                                  \n",
      " dense (Dense)                  (None, 16)           9616        ['dropout[0][0]']                \n",
      "                                                                                                  \n",
      " dense_1 (Dense)                (None, 8)            136         ['dense[0][0]']                  \n",
      "                                                                                                  \n",
      " dense_2 (Dense)                (None, 3)            27          ['dense_1[0][0]']                \n",
      "                                                                                                  \n",
      "==================================================================================================\n",
      "Total params: 1,557,511\n",
      "Trainable params: 1,557,511\n",
      "Non-trainable params: 0\n",
      "__________________________________________________________________________________________________\n"
     ]
    }
   ],
   "source": [
    "model.summary()"
   ]
  },
  {
   "cell_type": "code",
   "execution_count": null,
   "metadata": {
    "colab": {
     "base_uri": "https://localhost:8080/",
     "height": 1000
    },
    "id": "dAjMWY-nmAeL",
    "outputId": "df621fb9-a311-4585-d4d1-7f6a37fde0c1"
   },
   "outputs": [
    {
     "data": {
      "image/png": "[encoded data removed]",
      "text/plain": [
       "<IPython.core.display.Image object>"
      ]
     },
     "execution_count": 49,
     "metadata": {},
     "output_type": "execute_result"
    }
   ],
   "source": [
    "tf.keras.utils.plot_model(model, show_shapes=True)"
   ]
  },
  {
   "cell_type": "code",
   "execution_count": null,
   "metadata": {
    "colab": {
     "base_uri": "https://localhost:8080/"
    },
    "id": "SFa5d1PhR__j",
    "outputId": "66e8d80e-2f6a-420f-f94f-3b2de8a9cc46"
   },
   "outputs": [
    {
     "name": "stdout",
     "output_type": "stream",
     "text": [
      "Epoch 1/30\n",
      "7/7 [==============================] - 15s 210ms/step - loss: 1.1070 - f1: 0.0000e+00 - val_loss: 1.0963 - val_f1: 0.0000e+00\n",
      "Epoch 2/30\n",
      "7/7 [==============================] - 0s 37ms/step - loss: 1.1036 - f1: 0.0000e+00 - val_loss: 1.1008 - val_f1: 0.0000e+00\n",
      "Epoch 3/30\n",
      "7/7 [==============================] - 0s 37ms/step - loss: 1.1006 - f1: 0.0000e+00 - val_loss: 1.0820 - val_f1: 0.0000e+00\n",
      "Epoch 4/30\n",
      "7/7 [==============================] - 0s 38ms/step - loss: 1.0913 - f1: 0.0136 - val_loss: 1.0841 - val_f1: 0.0078\n",
      "Epoch 5/30\n",
      "7/7 [==============================] - 0s 39ms/step - loss: 1.0703 - f1: 0.0363 - val_loss: 1.0944 - val_f1: 0.0152\n",
      "Epoch 6/30\n",
      "7/7 [==============================] - 0s 37ms/step - loss: 1.0391 - f1: 0.0911 - val_loss: 1.0623 - val_f1: 0.1645\n",
      "Epoch 7/30\n",
      "7/7 [==============================] - 0s 36ms/step - loss: 0.9717 - f1: 0.3083 - val_loss: 1.1806 - val_f1: 0.1408\n",
      "Epoch 8/30\n",
      "7/7 [==============================] - 0s 37ms/step - loss: 0.8421 - f1: 0.4475 - val_loss: 1.1930 - val_f1: 0.3306\n",
      "Epoch 9/30\n",
      "7/7 [==============================] - 0s 44ms/step - loss: 0.6013 - f1: 0.6585 - val_loss: 1.2331 - val_f1: 0.3337\n",
      "Epoch 10/30\n",
      "7/7 [==============================] - 0s 37ms/step - loss: 0.4821 - f1: 0.7590 - val_loss: 1.1479 - val_f1: 0.4888\n",
      "Epoch 11/30\n",
      "7/7 [==============================] - 0s 36ms/step - loss: 0.3360 - f1: 0.8378 - val_loss: 1.4523 - val_f1: 0.4404\n",
      "Epoch 12/30\n",
      "7/7 [==============================] - 0s 34ms/step - loss: 0.2669 - f1: 0.8862 - val_loss: 1.4154 - val_f1: 0.5247\n",
      "Epoch 13/30\n",
      "7/7 [==============================] - 0s 36ms/step - loss: 0.1907 - f1: 0.9317 - val_loss: 1.5874 - val_f1: 0.5289\n",
      "Epoch 14/30\n",
      "7/7 [==============================] - 0s 32ms/step - loss: 0.1304 - f1: 0.9555 - val_loss: 1.8169 - val_f1: 0.5051\n",
      "Epoch 15/30\n",
      "7/7 [==============================] - 0s 32ms/step - loss: 0.1109 - f1: 0.9566 - val_loss: 1.8166 - val_f1: 0.5214\n",
      "Epoch 16/30\n",
      "7/7 [==============================] - 0s 35ms/step - loss: 0.0985 - f1: 0.9661 - val_loss: 2.0203 - val_f1: 0.5357\n",
      "Epoch 17/30\n",
      "7/7 [==============================] - 0s 33ms/step - loss: 0.0446 - f1: 0.9888 - val_loss: 2.0517 - val_f1: 0.5253\n",
      "Epoch 18/30\n",
      "7/7 [==============================] - 0s 34ms/step - loss: 0.0411 - f1: 0.9900 - val_loss: 2.3642 - val_f1: 0.4863\n",
      "Epoch 19/30\n",
      "7/7 [==============================] - 0s 31ms/step - loss: 0.0380 - f1: 0.9900 - val_loss: 2.2419 - val_f1: 0.5357\n",
      "Epoch 20/30\n",
      "7/7 [==============================] - 0s 33ms/step - loss: 0.0306 - f1: 0.9911 - val_loss: 2.2649 - val_f1: 0.5403\n",
      "Epoch 21/30\n",
      "7/7 [==============================] - 0s 33ms/step - loss: 0.0288 - f1: 0.9944 - val_loss: 2.7054 - val_f1: 0.4694\n",
      "Epoch 22/30\n",
      "7/7 [==============================] - 0s 33ms/step - loss: 0.0149 - f1: 0.9955 - val_loss: 2.4465 - val_f1: 0.5143\n",
      "Epoch 23/30\n",
      "7/7 [==============================] - 0s 33ms/step - loss: 0.0117 - f1: 0.9978 - val_loss: 2.6026 - val_f1: 0.4908\n",
      "Epoch 24/30\n",
      "7/7 [==============================] - 0s 33ms/step - loss: 0.0137 - f1: 0.9967 - val_loss: 2.6305 - val_f1: 0.5364\n",
      "Epoch 25/30\n",
      "7/7 [==============================] - 0s 32ms/step - loss: 0.0100 - f1: 0.9967 - val_loss: 2.7647 - val_f1: 0.4980\n",
      "Epoch 26/30\n",
      "7/7 [==============================] - 0s 31ms/step - loss: 0.0063 - f1: 1.0000 - val_loss: 2.8030 - val_f1: 0.4961\n",
      "Epoch 27/30\n",
      "7/7 [==============================] - 0s 33ms/step - loss: 0.0156 - f1: 0.9907 - val_loss: 2.7822 - val_f1: 0.5702\n",
      "Epoch 28/30\n",
      "7/7 [==============================] - 0s 31ms/step - loss: 0.0800 - f1: 0.9688 - val_loss: 3.5222 - val_f1: 0.4577\n",
      "Epoch 29/30\n",
      "7/7 [==============================] - 0s 32ms/step - loss: 0.2210 - f1: 0.9033 - val_loss: 3.5024 - val_f1: 0.4460\n",
      "Epoch 30/30\n",
      "7/7 [==============================] - 0s 33ms/step - loss: 0.1557 - f1: 0.9412 - val_loss: 2.7129 - val_f1: 0.5090\n"
     ]
    },
    {
     "data": {
      "text/plain": [
       "<keras.callbacks.History at 0x7f893a672310>"
      ]
     },
     "execution_count": 50,
     "metadata": {},
     "output_type": "execute_result"
    }
   ],
   "source": [
    "model.fit(X_train_pad, y_train, batch_size=128, epochs=30, verbose=1, class_weight=class_weights,\n",
    "          validation_split = 0.2, callbacks=[callbacks])"
   ]
  },
  {
   "cell_type": "code",
   "execution_count": null,
   "metadata": {
    "colab": {
     "base_uri": "https://localhost:8080/"
    },
    "id": "1BD-ntr8rznW",
    "outputId": "b0c3918b-9ffc-4928-9ab6-3dd51d548443"
   },
   "outputs": [
    {
     "name": "stdout",
     "output_type": "stream",
     "text": [
      "4/4 [==============================] - 0s 14ms/step - loss: 2.3275 - f1: 0.5815\n",
      "[2.3274669647216797, 0.5814731121063232]\n"
     ]
    }
   ],
   "source": [
    "print(model.evaluate(X_test_pad, y_test))"
   ]
  },
  {
   "cell_type": "code",
   "execution_count": null,
   "metadata": {
    "colab": {
     "base_uri": "https://localhost:8080/"
    },
    "id": "u-fKEe-4rzp4",
    "outputId": "87182d85-5a07-4ea4-e20d-d58f56f3fecf"
   },
   "outputs": [
    {
     "name": "stdout",
     "output_type": "stream",
     "text": [
      "1/1 [==============================] - 1s 822ms/step\n",
      "              precision    recall  f1-score   support\n",
      "\n",
      "        Hate       0.65      0.50      0.56        44\n",
      "      Normal       0.52      0.64      0.57        50\n",
      "     Abusive       0.36      0.31      0.33        16\n",
      "\n",
      "   micro avg       0.54      0.54      0.54       110\n",
      "   macro avg       0.51      0.48      0.49       110\n",
      "weighted avg       0.55      0.54      0.53       110\n",
      " samples avg       0.54      0.54      0.54       110\n",
      "\n"
     ]
    }
   ],
   "source": [
    "y_pred = model.predict(X_test_pad, batch_size=128, verbose=1)\n",
    "y_pred_bool = np.argmax(y_pred, axis=1)\n",
    "y_pred = (y_pred > 0.5)\n",
    "\n",
    "print(classification_report(y_test, y_pred, target_names=(['Hate','Normal','Abusive'])))\n"
   ]
  },
  {
   "cell_type": "code",
   "execution_count": null,
   "metadata": {
    "colab": {
     "base_uri": "https://localhost:8080/"
    },
    "id": "4LtnRxVRmNcl",
    "outputId": "0e389055-c08f-490c-82d0-92aaaa290d23"
   },
   "outputs": [
    {
     "data": {
      "text/plain": [
       "0.5338661338661339"
      ]
     },
     "execution_count": 53,
     "metadata": {},
     "output_type": "execute_result"
    }
   ],
   "source": [
    "f1_score(y_test, y_pred, average=\"weighted\")"
   ]
  },
  {
   "cell_type": "code",
   "execution_count": null,
   "metadata": {
    "id": "72QjwwRRrzsu"
   },
   "outputs": [],
   "source": [
    "from tensorflow import keras\n",
    "keras.backend.clear_session()"
   ]
  },
  {
   "cell_type": "code",
   "execution_count": null,
   "metadata": {
    "id": "4o9xT3kjyc7W"
   },
   "outputs": [],
   "source": [
    "from sklearn import metrics\n",
    "metric = metrics.accuracy_score(y_test, y_pred), metrics.f1_score(y_test, y_pred, average='weighted'), metrics.recall_score(y_test, y_pred, average='weighted'), metrics.precision_score(y_test, y_pred, average='weighted')"
   ]
  },
  {
   "cell_type": "code",
   "execution_count": null,
   "metadata": {
    "colab": {
     "base_uri": "https://localhost:8080/",
     "height": 226
    },
    "id": "czSMQdvTQZs_",
    "outputId": "c0e173da-d755-4618-b1f3-69514fdbbc8b"
   },
   "outputs": [
    {
     "data": {
      "text/plain": [
       "(0.0, 1.0)"
      ]
     },
     "execution_count": 56,
     "metadata": {},
     "output_type": "execute_result"
    },
    {
     "data": {
      "image/png": "[encoded data removed]",
      "text/plain": [
       "<Figure size 576x144 with 1 Axes>"
      ]
     },
     "metadata": {
      "needs_background": "light"
     },
     "output_type": "display_data"
    }
   ],
   "source": [
    "fig = plt.figure()\n",
    "fig.set_size_inches(8,2)\n",
    "ax = fig.add_axes([0,0,1,1])\n",
    "rect1 = ax.bar(0.00,round(metric[0], 2), color = 'b', width = 0.05)\n",
    "rect2 = ax.bar(0.20, round(metric[1], 2), color = 'g', width = 0.05)\n",
    "rect3 = ax.bar(0.40, round(metric[2], 2) , color = 'r', width = 0.05)\n",
    "rect4 = ax.bar(0.60, round(metric[3], 2) , color = (1, 0, 1), width = 0.05)\n",
    "\n",
    "ax.set_ylabel('Scores')\n",
    "ax.set_title('metrics')\n",
    "def autolabel(rects):\n",
    "  \"\"\"Attach a text label above each bar in *rects*, displaying its height.\"\"\"\n",
    "  for rect in rects:\n",
    "      height = rect.get_height()\n",
    "      ax.annotate('{}'.format(height),\n",
    "                  xy=(rect.get_x() + rect.get_width() / 2, height),\n",
    "                  xytext=(0, 3),  # 3 points vertical offset\n",
    "                  textcoords=\"offset points\",\n",
    "                  ha='center', va='bottom')\n",
    "\n",
    "autolabel(rect1)\n",
    "autolabel(rect2)\n",
    "autolabel(rect3)\n",
    "autolabel(rect4)\n",
    "ax.legend(labels=['accuracy', 'f1_score', 'recall', 'precision'],loc='best')\n",
    "plt.ylim(0, 1)"
   ]
  },
  {
   "cell_type": "markdown",
   "metadata": {
    "id": "Bpb35nPlTI1g"
   },
   "source": [
    "### Training on Fasttext Embedding Only"
   ]
  },
  {
   "cell_type": "code",
   "execution_count": null,
   "metadata": {
    "id": "ext78JdGVwvv"
   },
   "outputs": [],
   "source": [
    "keras.backend.clear_session()"
   ]
  },
  {
   "cell_type": "code",
   "execution_count": null,
   "metadata": {
    "id": "dleDGpLYU_3V"
   },
   "outputs": [],
   "source": [
    "inp=Input(shape=(maxlen, ))\n",
    "x=Embedding(vocab_size + 1,embed_size,embeddings_initializer=Constant(fasttext_arabic_emb),#Set Fasttext Embedding\n",
    "            input_length=maxlen,trainable=True)(inp)\n",
    "x = SpatialDropout1D(0.2)(x)\n",
    "### Couche CNN-BiGRU \n",
    "x=Conv1D(filters=32, kernel_size=3, padding='valid', activation='relu')(x) \n",
    "x=Bidirectional(GRU(150, return_sequences = True))(x)\n",
    "avg_pool = GlobalAveragePooling1D()(x)\n",
    "max_pool = GlobalMaxPool1D()(x)\n",
    "conc = concatenate([avg_pool, max_pool])\n",
    "\n",
    "\n",
    "x=Dropout(0.1)(conc)\n",
    "out=Dense(64, activation=\"relu\")(x)\n",
    "out=Dense(32, activation=\"relu\")(x)\n",
    "\n",
    "out=Dense(3, activation=\"softmax\")(x)\n",
    "\n",
    "model_ft=Model(inp,out)\n",
    "\n",
    "mcp_save = ModelCheckpoint('model_fasttext.mdl_wts.hdf5', save_best_only=True,\n",
    "                           monitor='val_loss', mode='min',patience = 5)\n"
   ]
  },
  {
   "cell_type": "code",
   "execution_count": null,
   "metadata": {
    "id": "y8TojWn4Tijn"
   },
   "outputs": [],
   "source": [
    "model_ft.compile(loss=tf.keras.losses.CategoricalCrossentropy(), optimizer=tf.keras.optimizers.Adam(), metrics=[f1])"
   ]
  },
  {
   "cell_type": "code",
   "execution_count": null,
   "metadata": {
    "colab": {
     "base_uri": "https://localhost:8080/"
    },
    "id": "NhdxZk9cTm3X",
    "outputId": "433938b2-4278-416d-e817-fa0d8f96e07c"
   },
   "outputs": [
    {
     "name": "stdout",
     "output_type": "stream",
     "text": [
      "Model: \"model\"\n",
      "__________________________________________________________________________________________________\n",
      " Layer (type)                   Output Shape         Param #     Connected to                     \n",
      "==================================================================================================\n",
      " input_1 (InputLayer)           [(None, 28)]         0           []                               \n",
      "                                                                                                  \n",
      " embedding (Embedding)          (None, 28, 300)      1353300     ['input_1[0][0]']                \n",
      "                                                                                                  \n",
      " spatial_dropout1d (SpatialDrop  (None, 28, 300)     0           ['embedding[0][0]']              \n",
      " out1D)                                                                                           \n",
      "                                                                                                  \n",
      " conv1d (Conv1D)                (None, 26, 32)       28832       ['spatial_dropout1d[0][0]']      \n",
      "                                                                                                  \n",
      " bidirectional (Bidirectional)  (None, 26, 300)      165600      ['conv1d[0][0]']                 \n",
      "                                                                                                  \n",
      " global_average_pooling1d (Glob  (None, 300)         0           ['bidirectional[0][0]']          \n",
      " alAveragePooling1D)                                                                              \n",
      "                                                                                                  \n",
      " global_max_pooling1d (GlobalMa  (None, 300)         0           ['bidirectional[0][0]']          \n",
      " xPooling1D)                                                                                      \n",
      "                                                                                                  \n",
      " concatenate (Concatenate)      (None, 600)          0           ['global_average_pooling1d[0][0]'\n",
      "                                                                 , 'global_max_pooling1d[0][0]']  \n",
      "                                                                                                  \n",
      " dropout (Dropout)              (None, 600)          0           ['concatenate[0][0]']            \n",
      "                                                                                                  \n",
      " dense_2 (Dense)                (None, 3)            1803        ['dropout[0][0]']                \n",
      "                                                                                                  \n",
      "==================================================================================================\n",
      "Total params: 1,549,535\n",
      "Trainable params: 1,549,535\n",
      "Non-trainable params: 0\n",
      "__________________________________________________________________________________________________\n"
     ]
    }
   ],
   "source": [
    "model_ft.summary()"
   ]
  },
  {
   "cell_type": "code",
   "execution_count": null,
   "metadata": {
    "colab": {
     "base_uri": "https://localhost:8080/"
    },
    "id": "Et2g6vcQT29F",
    "outputId": "6b2d8907-f75a-4767-f749-30eae0a56a57"
   },
   "outputs": [
    {
     "name": "stdout",
     "output_type": "stream",
     "text": [
      "Epoch 1/20\n",
      "7/7 [==============================] - 5s 204ms/step - loss: 1.1053 - f1: 0.0000e+00 - val_loss: 1.1146 - val_f1: 0.0000e+00\n",
      "Epoch 2/20\n",
      "7/7 [==============================] - 0s 37ms/step - loss: 1.0915 - f1: 0.0000e+00 - val_loss: 1.1144 - val_f1: 0.0000e+00\n",
      "Epoch 3/20\n",
      "7/7 [==============================] - 0s 36ms/step - loss: 1.0706 - f1: 0.0136 - val_loss: 1.0981 - val_f1: 0.0000e+00\n",
      "Epoch 4/20\n",
      "7/7 [==============================] - 0s 38ms/step - loss: 1.0138 - f1: 0.0671 - val_loss: 1.1011 - val_f1: 0.0495\n",
      "Epoch 5/20\n",
      "7/7 [==============================] - 0s 38ms/step - loss: 0.8277 - f1: 0.3125 - val_loss: 1.2768 - val_f1: 0.3479\n",
      "Epoch 6/20\n",
      "7/7 [==============================] - 0s 37ms/step - loss: 0.5198 - f1: 0.7498 - val_loss: 1.2782 - val_f1: 0.3736\n",
      "Epoch 7/20\n",
      "7/7 [==============================] - 0s 35ms/step - loss: 0.3649 - f1: 0.8025 - val_loss: 1.0675 - val_f1: 0.5882\n",
      "Epoch 8/20\n",
      "7/7 [==============================] - 0s 33ms/step - loss: 0.2132 - f1: 0.9210 - val_loss: 1.2875 - val_f1: 0.5105\n",
      "Epoch 9/20\n",
      "7/7 [==============================] - 0s 34ms/step - loss: 0.1176 - f1: 0.9629 - val_loss: 1.4186 - val_f1: 0.5984\n",
      "Epoch 10/20\n",
      "7/7 [==============================] - 0s 33ms/step - loss: 0.0597 - f1: 0.9844 - val_loss: 1.6111 - val_f1: 0.5902\n",
      "Epoch 11/20\n",
      "7/7 [==============================] - 0s 35ms/step - loss: 0.0332 - f1: 0.9933 - val_loss: 1.8305 - val_f1: 0.5806\n",
      "Epoch 12/20\n",
      "7/7 [==============================] - 0s 32ms/step - loss: 0.0232 - f1: 0.9955 - val_loss: 1.9800 - val_f1: 0.5644\n",
      "Epoch 13/20\n",
      "7/7 [==============================] - 0s 32ms/step - loss: 0.0148 - f1: 0.9989 - val_loss: 1.9890 - val_f1: 0.5628\n",
      "Epoch 14/20\n",
      "7/7 [==============================] - 0s 31ms/step - loss: 0.0107 - f1: 0.9978 - val_loss: 2.0466 - val_f1: 0.5659\n",
      "Epoch 15/20\n",
      "7/7 [==============================] - 0s 32ms/step - loss: 0.0122 - f1: 0.9967 - val_loss: 2.0900 - val_f1: 0.5639\n",
      "Epoch 16/20\n",
      "7/7 [==============================] - 0s 31ms/step - loss: 0.0077 - f1: 0.9989 - val_loss: 2.1529 - val_f1: 0.5528\n",
      "Epoch 17/20\n",
      "5/7 [====================>.........] - ETA: 0s - loss: 0.0049 - f1: 1.0000Restoring model weights from the end of the best epoch: 9.\n",
      "7/7 [==============================] - 0s 32ms/step - loss: 0.0056 - f1: 1.0000 - val_loss: 2.2229 - val_f1: 0.5628\n",
      "Epoch 00017: early stopping\n"
     ]
    },
    {
     "data": {
      "text/plain": [
       "<keras.callbacks.History at 0x7f8931dcaf10>"
      ]
     },
     "execution_count": 61,
     "metadata": {},
     "output_type": "execute_result"
    }
   ],
   "source": [
    "model_ft.fit(X_train_pad, \n",
    "             y_train, \n",
    "             batch_size=128,\n",
    "             epochs=20,\n",
    "             verbose=1,\n",
    "             class_weight=class_weights,\n",
    "             validation_split=0.2,\n",
    "             callbacks=[callbacks])"
   ]
  },
  {
   "cell_type": "code",
   "execution_count": null,
   "metadata": {
    "colab": {
     "base_uri": "https://localhost:8080/"
    },
    "id": "wCLLX3EAT4NO",
    "outputId": "d9a64a96-b400-4201-c086-8083144aa674"
   },
   "outputs": [
    {
     "name": "stdout",
     "output_type": "stream",
     "text": [
      "4/4 [==============================] - 0s 10ms/step - loss: 0.9990 - f1: 0.6452\n",
      "[0.9989542961120605, 0.64521324634552]\n"
     ]
    }
   ],
   "source": [
    "print(model_ft.evaluate(X_test_pad, y_test))"
   ]
  },
  {
   "cell_type": "code",
   "execution_count": null,
   "metadata": {
    "colab": {
     "base_uri": "https://localhost:8080/"
    },
    "id": "KE9mBrlcUiTH",
    "outputId": "bbafb3df-b161-41c4-a34a-09c2109e31bd"
   },
   "outputs": [
    {
     "name": "stdout",
     "output_type": "stream",
     "text": [
      "1/1 [==============================] - 1s 736ms/step\n",
      "              precision    recall  f1-score   support\n",
      "\n",
      "        Hate       0.64      0.68      0.66        44\n",
      "      Normal       0.63      0.58      0.60        50\n",
      "     Abusive       0.67      0.62      0.65        16\n",
      "\n",
      "   micro avg       0.64      0.63      0.63       110\n",
      "   macro avg       0.65      0.63      0.64       110\n",
      "weighted avg       0.64      0.63      0.63       110\n",
      " samples avg       0.63      0.63      0.63       110\n",
      "\n"
     ]
    },
    {
     "name": "stderr",
     "output_type": "stream",
     "text": [
      "/usr/local/lib/python3.7/dist-packages/sklearn/metrics/_classification.py:1308: UndefinedMetricWarning: Precision and F-score are ill-defined and being set to 0.0 in samples with no predicted labels. Use `zero_division` parameter to control this behavior.\n",
      "  _warn_prf(average, modifier, msg_start, len(result))\n"
     ]
    }
   ],
   "source": [
    "y_pred_ft = model_ft.predict(X_test_pad, batch_size=128, verbose=1)\n",
    "y_pred_bool_ft = np.argmax(y_pred, axis=1)\n",
    "y_pred_ft = (y_pred_ft > 0.5)\n",
    "\n",
    "print(classification_report(y_test, y_pred_ft, target_names=(['Hate','Normal','Abusive'])))\n"
   ]
  },
  {
   "cell_type": "code",
   "execution_count": null,
   "metadata": {
    "id": "sXj5owf2Ut0W"
   },
   "outputs": [],
   "source": [
    "from sklearn import metrics\n",
    "metric_ft = metrics.accuracy_score(y_test, y_pred_ft), metrics.f1_score(y_test, y_pred_ft, average='weighted'), metrics.recall_score(y_test, y_pred_ft, average='weighted'), metrics.precision_score(y_test, y_pred_ft, average='weighted')"
   ]
  },
  {
   "cell_type": "code",
   "execution_count": null,
   "metadata": {
    "colab": {
     "base_uri": "https://localhost:8080/",
     "height": 226
    },
    "id": "N49Fe5YsU7NE",
    "outputId": "d0efc870-9bf8-4471-b1cb-5498642d4e2d"
   },
   "outputs": [
    {
     "data": {
      "text/plain": [
       "(0.0, 1.0)"
      ]
     },
     "execution_count": 65,
     "metadata": {},
     "output_type": "execute_result"
    },
    {
     "data": {
      "image/png": "[encoded data removed]",
      "text/plain": [
       "<Figure size 576x144 with 1 Axes>"
      ]
     },
     "metadata": {
      "needs_background": "light"
     },
     "output_type": "display_data"
    }
   ],
   "source": [
    "fig = plt.figure()\n",
    "fig.set_size_inches(8,2)\n",
    "ax = fig.add_axes([0,0,1,1])\n",
    "rect1 = ax.bar(0.00,round(metric_ft[0], 2), color = 'b', width = 0.05)\n",
    "rect2 = ax.bar(0.20, round(metric_ft[1], 2), color = 'g', width = 0.05)\n",
    "rect3 = ax.bar(0.40, round(metric_ft[2], 2) , color = 'r', width = 0.05)\n",
    "rect4 = ax.bar(0.60, round(metric_ft[3], 2) , color = (1, 0, 1), width = 0.05)\n",
    "\n",
    "ax.set_ylabel('Scores')\n",
    "ax.set_title('metrics')\n",
    "\n",
    "\n",
    "autolabel(rect1)\n",
    "autolabel(rect2)\n",
    "autolabel(rect3)\n",
    "autolabel(rect4)\n",
    "ax.legend(labels=['accuracy', 'f1_score', 'recall', 'precision'],loc='best')\n",
    "plt.ylim(0, 1)"
   ]
  },
  {
   "cell_type": "markdown",
   "metadata": {
    "id": "HiwoyTsPL1PG"
   },
   "source": [
    "### Training on Aravec Embedding Only"
   ]
  },
  {
   "cell_type": "code",
   "execution_count": null,
   "metadata": {
    "id": "vTBADyXfL1PN"
   },
   "outputs": [],
   "source": [
    "keras.backend.clear_session()"
   ]
  },
  {
   "cell_type": "code",
   "execution_count": null,
   "metadata": {
    "id": "lglZwmCfL1PO"
   },
   "outputs": [],
   "source": [
    "inp=Input(shape=(maxlen, ))\n",
    "x=Embedding(vocab_size + 1,embed_size,embeddings_initializer=Constant(aravec_emb),#Set Fasttext Embedding\n",
    "            input_length=maxlen,trainable=True)(inp)\n",
    "x = SpatialDropout1D(0.2)(x)\n",
    "### Couche CNN-BiGRU \n",
    "x=Conv1D(filters=32, kernel_size=3, padding='valid', activation='relu')(x) \n",
    "x=Bidirectional(GRU(150, return_sequences = True))(x)\n",
    "avg_pool = GlobalAveragePooling1D()(x)\n",
    "max_pool = GlobalMaxPool1D()(x)\n",
    "conc = concatenate([avg_pool, max_pool])\n",
    "\n",
    "\n",
    "x=Dropout(0.1)(conc)\n",
    "out=Dense(64, activation=\"relu\")(x)\n",
    "out=Dense(32, activation=\"relu\")(x)\n",
    "\n",
    "out=Dense(3, activation=\"softmax\")(x)\n",
    "\n",
    "model_arav=Model(inp,out)\n",
    "\n",
    "mcp_save = ModelCheckpoint('model_aravec.mdl_wts.hdf5', save_best_only=True,\n",
    "                           monitor='val_loss', mode='min',patience = 5)\n"
   ]
  },
  {
   "cell_type": "code",
   "execution_count": null,
   "metadata": {
    "id": "FvKap_oBL1PO"
   },
   "outputs": [],
   "source": [
    "model_arav.compile(loss=tf.keras.losses.CategoricalCrossentropy(), optimizer=tf.keras.optimizers.Adam(), metrics=[f1])"
   ]
  },
  {
   "cell_type": "code",
   "execution_count": null,
   "metadata": {
    "colab": {
     "base_uri": "https://localhost:8080/"
    },
    "id": "5lo1wLfQL1PO",
    "outputId": "bc8c6ba3-f96f-431c-9c4a-945f9d512a70"
   },
   "outputs": [
    {
     "name": "stdout",
     "output_type": "stream",
     "text": [
      "Model: \"model\"\n",
      "__________________________________________________________________________________________________\n",
      " Layer (type)                   Output Shape         Param #     Connected to                     \n",
      "==================================================================================================\n",
      " input_1 (InputLayer)           [(None, 28)]         0           []                               \n",
      "                                                                                                  \n",
      " embedding (Embedding)          (None, 28, 300)      1353300     ['input_1[0][0]']                \n",
      "                                                                                                  \n",
      " spatial_dropout1d (SpatialDrop  (None, 28, 300)     0           ['embedding[0][0]']              \n",
      " out1D)                                                                                           \n",
      "                                                                                                  \n",
      " conv1d (Conv1D)                (None, 26, 32)       28832       ['spatial_dropout1d[0][0]']      \n",
      "                                                                                                  \n",
      " bidirectional (Bidirectional)  (None, 26, 300)      165600      ['conv1d[0][0]']                 \n",
      "                                                                                                  \n",
      " global_average_pooling1d (Glob  (None, 300)         0           ['bidirectional[0][0]']          \n",
      " alAveragePooling1D)                                                                              \n",
      "                                                                                                  \n",
      " global_max_pooling1d (GlobalMa  (None, 300)         0           ['bidirectional[0][0]']          \n",
      " xPooling1D)                                                                                      \n",
      "                                                                                                  \n",
      " concatenate (Concatenate)      (None, 600)          0           ['global_average_pooling1d[0][0]'\n",
      "                                                                 , 'global_max_pooling1d[0][0]']  \n",
      "                                                                                                  \n",
      " dropout (Dropout)              (None, 600)          0           ['concatenate[0][0]']            \n",
      "                                                                                                  \n",
      " dense_2 (Dense)                (None, 3)            1803        ['dropout[0][0]']                \n",
      "                                                                                                  \n",
      "==================================================================================================\n",
      "Total params: 1,549,535\n",
      "Trainable params: 1,549,535\n",
      "Non-trainable params: 0\n",
      "__________________________________________________________________________________________________\n"
     ]
    }
   ],
   "source": [
    "model_arav.summary()"
   ]
  },
  {
   "cell_type": "code",
   "execution_count": null,
   "metadata": {
    "colab": {
     "base_uri": "https://localhost:8080/"
    },
    "id": "2OEErZqOL1PO",
    "outputId": "66a3042d-25bd-4dd3-d09e-772e8f6a41cd"
   },
   "outputs": [
    {
     "name": "stdout",
     "output_type": "stream",
     "text": [
      "Epoch 1/20\n",
      "7/7 [==============================] - 5s 195ms/step - loss: 1.0973 - f1: 0.0022 - val_loss: 1.0978 - val_f1: 0.0154\n",
      "Epoch 2/20\n",
      "7/7 [==============================] - 0s 39ms/step - loss: 1.0603 - f1: 0.0486 - val_loss: 1.0785 - val_f1: 0.0497\n",
      "Epoch 3/20\n",
      "7/7 [==============================] - 0s 37ms/step - loss: 1.0364 - f1: 0.1788 - val_loss: 1.0786 - val_f1: 0.1030\n",
      "Epoch 4/20\n",
      "7/7 [==============================] - 0s 37ms/step - loss: 1.0027 - f1: 0.1483 - val_loss: 1.0768 - val_f1: 0.1697\n",
      "Epoch 5/20\n",
      "7/7 [==============================] - 0s 36ms/step - loss: 0.9819 - f1: 0.3457 - val_loss: 1.0935 - val_f1: 0.2287\n",
      "Epoch 6/20\n",
      "7/7 [==============================] - 0s 35ms/step - loss: 0.9478 - f1: 0.3079 - val_loss: 1.0710 - val_f1: 0.3403\n",
      "Epoch 7/20\n",
      "7/7 [==============================] - 0s 32ms/step - loss: 0.9184 - f1: 0.4481 - val_loss: 1.1106 - val_f1: 0.2700\n",
      "Epoch 8/20\n",
      "7/7 [==============================] - 0s 34ms/step - loss: 0.8335 - f1: 0.4731 - val_loss: 1.1089 - val_f1: 0.3584\n",
      "Epoch 9/20\n",
      "7/7 [==============================] - 0s 36ms/step - loss: 0.6756 - f1: 0.6151 - val_loss: 1.1761 - val_f1: 0.4744\n",
      "Epoch 10/20\n",
      "7/7 [==============================] - 0s 34ms/step - loss: 0.5090 - f1: 0.7425 - val_loss: 1.2999 - val_f1: 0.5049\n",
      "Epoch 11/20\n",
      "7/7 [==============================] - 0s 34ms/step - loss: 0.4256 - f1: 0.8270 - val_loss: 1.1623 - val_f1: 0.5294\n",
      "Epoch 12/20\n",
      "7/7 [==============================] - 0s 31ms/step - loss: 0.3138 - f1: 0.8798 - val_loss: 1.7442 - val_f1: 0.4077\n",
      "Epoch 13/20\n",
      "7/7 [==============================] - 0s 33ms/step - loss: 0.2144 - f1: 0.9192 - val_loss: 1.4831 - val_f1: 0.5316\n",
      "Epoch 14/20\n",
      "7/7 [==============================] - 0s 33ms/step - loss: 0.1094 - f1: 0.9560 - val_loss: 1.6832 - val_f1: 0.4677\n",
      "Epoch 15/20\n",
      "7/7 [==============================] - 0s 33ms/step - loss: 0.0920 - f1: 0.9693 - val_loss: 1.6152 - val_f1: 0.5531\n",
      "Epoch 16/20\n",
      "7/7 [==============================] - 0s 35ms/step - loss: 0.0866 - f1: 0.9704 - val_loss: 1.6017 - val_f1: 0.5716\n",
      "Epoch 17/20\n",
      "7/7 [==============================] - 0s 32ms/step - loss: 0.0420 - f1: 0.9829 - val_loss: 1.6904 - val_f1: 0.5562\n",
      "Epoch 18/20\n",
      "7/7 [==============================] - 0s 35ms/step - loss: 0.0610 - f1: 0.9740 - val_loss: 1.9056 - val_f1: 0.5260\n",
      "Epoch 19/20\n",
      "7/7 [==============================] - 0s 34ms/step - loss: 0.0612 - f1: 0.9761 - val_loss: 2.1186 - val_f1: 0.4424\n",
      "Epoch 20/20\n",
      "7/7 [==============================] - 0s 35ms/step - loss: 0.1263 - f1: 0.9468 - val_loss: 1.7514 - val_f1: 0.6162\n"
     ]
    },
    {
     "data": {
      "text/plain": [
       "<keras.callbacks.History at 0x7f891cd7c090>"
      ]
     },
     "execution_count": 70,
     "metadata": {},
     "output_type": "execute_result"
    }
   ],
   "source": [
    "model_arav.fit(X_train_pad, \n",
    "             y_train, \n",
    "             batch_size=128,\n",
    "             epochs=20,\n",
    "             verbose=1,\n",
    "             class_weight=class_weights,\n",
    "             validation_split=0.2,\n",
    "             callbacks=[callbacks])"
   ]
  },
  {
   "cell_type": "code",
   "execution_count": null,
   "metadata": {
    "colab": {
     "base_uri": "https://localhost:8080/"
    },
    "id": "wbfQt6KkL1PO",
    "outputId": "fd20f4be-248d-4ed6-feba-d79b44bdc2f9"
   },
   "outputs": [
    {
     "name": "stdout",
     "output_type": "stream",
     "text": [
      "4/4 [==============================] - 0s 10ms/step - loss: 1.9990 - f1: 0.5180\n",
      "[1.9990277290344238, 0.5179811120033264]\n"
     ]
    }
   ],
   "source": [
    "print(model_arav.evaluate(X_test_pad, y_test))"
   ]
  },
  {
   "cell_type": "code",
   "execution_count": null,
   "metadata": {
    "colab": {
     "base_uri": "https://localhost:8080/"
    },
    "id": "010SEUGvL1PO",
    "outputId": "a5390143-acd6-46b8-9b5d-92c577a7cd3c"
   },
   "outputs": [
    {
     "name": "stdout",
     "output_type": "stream",
     "text": [
      "1/1 [==============================] - 1s 739ms/step\n",
      "              precision    recall  f1-score   support\n",
      "\n",
      "        Hate       0.52      0.70      0.60        44\n",
      "      Normal       0.54      0.40      0.46        50\n",
      "     Abusive       0.64      0.44      0.52        16\n",
      "\n",
      "   micro avg       0.54      0.53      0.53       110\n",
      "   macro avg       0.56      0.51      0.52       110\n",
      "weighted avg       0.54      0.53      0.52       110\n",
      " samples avg       0.53      0.53      0.53       110\n",
      "\n"
     ]
    },
    {
     "name": "stderr",
     "output_type": "stream",
     "text": [
      "/usr/local/lib/python3.7/dist-packages/sklearn/metrics/_classification.py:1308: UndefinedMetricWarning: Precision and F-score are ill-defined and being set to 0.0 in samples with no predicted labels. Use `zero_division` parameter to control this behavior.\n",
      "  _warn_prf(average, modifier, msg_start, len(result))\n"
     ]
    }
   ],
   "source": [
    "y_pred_arav = model_arav.predict(X_test_pad, batch_size=128, verbose=1)\n",
    "y_pred_bool_ft = np.argmax(y_pred, axis=1)\n",
    "y_pred_arav = (y_pred_arav > 0.5)\n",
    "\n",
    "print(classification_report(y_test, y_pred_arav, target_names=(['Hate','Normal','Abusive'])))\n"
   ]
  },
  {
   "cell_type": "code",
   "execution_count": null,
   "metadata": {
    "id": "2684IryML1PO"
   },
   "outputs": [],
   "source": [
    "from sklearn import metrics\n",
    "metric_arav = metrics.accuracy_score(y_test, y_pred_arav), metrics.f1_score(y_test, y_pred_arav, average='weighted'), metrics.recall_score(y_test, y_pred_arav, average='weighted'), metrics.precision_score(y_test, y_pred_arav, average='weighted')"
   ]
  },
  {
   "cell_type": "code",
   "execution_count": null,
   "metadata": {
    "colab": {
     "base_uri": "https://localhost:8080/",
     "height": 226
    },
    "id": "a969R2UNL1PO",
    "outputId": "39e16474-2b05-4025-e748-1bef2fa412b2"
   },
   "outputs": [
    {
     "data": {
      "text/plain": [
       "(0.0, 1.0)"
      ]
     },
     "execution_count": 74,
     "metadata": {},
     "output_type": "execute_result"
    },
    {
     "data": {
      "image/png": "[encoded data removed]",
      "text/plain": [
       "<Figure size 576x144 with 1 Axes>"
      ]
     },
     "metadata": {
      "needs_background": "light"
     },
     "output_type": "display_data"
    }
   ],
   "source": [
    "fig = plt.figure()\n",
    "fig.set_size_inches(8,2)\n",
    "ax = fig.add_axes([0,0,1,1])\n",
    "rect1 = ax.bar(0.00,round(metric_arav[0], 2), color = 'b', width = 0.05)\n",
    "rect2 = ax.bar(0.20, round(metric_arav[1], 2), color = 'g', width = 0.05)\n",
    "rect3 = ax.bar(0.40, round(metric_arav[2], 2) , color = 'r', width = 0.05)\n",
    "rect4 = ax.bar(0.60, round(metric_arav[3], 2) , color = (1, 0, 1), width = 0.05)\n",
    "\n",
    "ax.set_ylabel('Scores')\n",
    "ax.set_title('metrics')\n",
    "\n",
    "\n",
    "autolabel(rect1)\n",
    "autolabel(rect2)\n",
    "autolabel(rect3)\n",
    "autolabel(rect4)\n",
    "ax.legend(labels=['accuracy', 'f1_score', 'recall', 'precision'],loc='best')\n",
    "plt.ylim(0, 1)"
   ]
  },
  {
   "cell_type": "markdown",
   "metadata": {
    "id": "l6ud_gVNWd4a"
   },
   "source": [
    "### Comparing the three results"
   ]
  },
  {
   "cell_type": "code",
   "execution_count": null,
   "metadata": {
    "id": "UAPfKBxEYLV5"
   },
   "outputs": [],
   "source": [
    "Data = [('Fasttext',) + metric_ft  ,\n",
    "        ('AraVec',)+ metric_arav ,\n",
    "         ('Fasttext + AraVec',)+ metric ]"
   ]
  },
  {
   "cell_type": "code",
   "execution_count": null,
   "metadata": {
    "id": "d6UM1nPKWkH6"
   },
   "outputs": [],
   "source": [
    "Results = pd.DataFrame(data =  Data , columns=['Embedding','Accuracy','F1_score','Recall','Precision'])"
   ]
  },
  {
   "cell_type": "code",
   "execution_count": null,
   "metadata": {
    "colab": {
     "base_uri": "https://localhost:8080/",
     "height": 143
    },
    "id": "lDLH9XzeXAUp",
    "outputId": "60679617-cd21-4760-a845-844d34287fb6"
   },
   "outputs": [
    {
     "data": {
      "text/html": [
       "\n",
       "  <div id=\"df-a3205276-0528-4cea-ae7c-89b52e0b569d\">\n",
       "    <div class=\"colab-df-container\">\n",
       "      <div>\n",
       "<style scoped>\n",
       "    .dataframe tbody tr th:only-of-type {\n",
       "        vertical-align: middle;\n",
       "    }\n",
       "\n",
       "    .dataframe tbody tr th {\n",
       "        vertical-align: top;\n",
       "    }\n",
       "\n",
       "    .dataframe thead th {\n",
       "        text-align: right;\n",
       "    }\n",
       "</style>\n",
       "<table border=\"1\" class=\"dataframe\">\n",
       "  <thead>\n",
       "    <tr style=\"text-align: right;\">\n",
       "      <th></th>\n",
       "      <th>Embedding</th>\n",
       "      <th>Accuracy</th>\n",
       "      <th>F1_score</th>\n",
       "      <th>Recall</th>\n",
       "      <th>Precision</th>\n",
       "    </tr>\n",
       "  </thead>\n",
       "  <tbody>\n",
       "    <tr>\n",
       "      <th>0</th>\n",
       "      <td>Fasttext</td>\n",
       "      <td>0.627273</td>\n",
       "      <td>0.632199</td>\n",
       "      <td>0.627273</td>\n",
       "      <td>0.638850</td>\n",
       "    </tr>\n",
       "    <tr>\n",
       "      <th>1</th>\n",
       "      <td>AraVec</td>\n",
       "      <td>0.527273</td>\n",
       "      <td>0.522869</td>\n",
       "      <td>0.527273</td>\n",
       "      <td>0.544929</td>\n",
       "    </tr>\n",
       "    <tr>\n",
       "      <th>2</th>\n",
       "      <td>Fasttext + AraVec</td>\n",
       "      <td>0.536364</td>\n",
       "      <td>0.533866</td>\n",
       "      <td>0.536364</td>\n",
       "      <td>0.545376</td>\n",
       "    </tr>\n",
       "  </tbody>\n",
       "</table>\n",
       "</div>\n",
       "      <button class=\"colab-df-convert\" onclick=\"convertToInteractive('df-a3205276-0528-4cea-ae7c-89b52e0b569d')\"\n",
       "              title=\"Convert this dataframe to an interactive table.\"\n",
       "              style=\"display:none;\">\n",
       "        \n",
       "  <svg xmlns=\"http://www.w3.org/2000/svg\" height=\"24px\"viewBox=\"0 0 24 24\"\n",
       "       width=\"24px\">\n",
       "    <path d=\"M0 0h24v24H0V0z\" fill=\"none\"/>\n",
       "    <path d=\"M18.56 5.44l.94 2.06.94-2.06 2.06-.94-2.06-.94-.94-2.06-.94 2.06-2.06.94zm-11 1L8.5 8.5l.94-2.06 2.06-.94-2.06-.94L8.5 2.5l-.94 2.06-2.06.94zm10 10l.94 2.06.94-2.06 2.06-.94-2.06-.94-.94-2.06-.94 2.06-2.06.94z\"/><path d=\"M17.41 7.96l-1.37-1.37c-.4-.4-.92-.59-1.43-.59-.52 0-1.04.2-1.43.59L10.3 9.45l-7.72 7.72c-.78.78-.78 2.05 0 2.83L4 21.41c.39.39.9.59 1.41.59.51 0 1.02-.2 1.41-.59l7.78-7.78 2.81-2.81c.8-.78.8-2.07 0-2.86zM5.41 20L4 18.59l7.72-7.72 1.47 1.35L5.41 20z\"/>\n",
       "  </svg>\n",
       "      </button>\n",
       "      \n",
       "  <style>\n",
       "    .colab-df-container {\n",
       "      display:flex;\n",
       "      flex-wrap:wrap;\n",
       "      gap: 12px;\n",
       "    }\n",
       "\n",
       "    .colab-df-convert {\n",
       "      background-color: #E8F0FE;\n",
       "      border: none;\n",
       "      border-radius: 50%;\n",
       "      cursor: pointer;\n",
       "      display: none;\n",
       "      fill: #1967D2;\n",
       "      height: 32px;\n",
       "      padding: 0 0 0 0;\n",
       "      width: 32px;\n",
       "    }\n",
       "\n",
       "    .colab-df-convert:hover {\n",
       "      background-color: #E2EBFA;\n",
       "      box-shadow: 0px 1px 2px rgba(60, 64, 67, 0.3), 0px 1px 3px 1px rgba(60, 64, 67, 0.15);\n",
       "      fill: #174EA6;\n",
       "    }\n",
       "\n",
       "    [theme=dark] .colab-df-convert {\n",
       "      background-color: #3B4455;\n",
       "      fill: #D2E3FC;\n",
       "    }\n",
       "\n",
       "    [theme=dark] .colab-df-convert:hover {\n",
       "      background-color: #434B5C;\n",
       "      box-shadow: 0px 1px 3px 1px rgba(0, 0, 0, 0.15);\n",
       "      filter: drop-shadow(0px 1px 2px rgba(0, 0, 0, 0.3));\n",
       "      fill: #FFFFFF;\n",
       "    }\n",
       "  </style>\n",
       "\n",
       "      <script>\n",
       "        const buttonEl =\n",
       "          document.querySelector('#df-a3205276-0528-4cea-ae7c-89b52e0b569d button.colab-df-convert');\n",
       "        buttonEl.style.display =\n",
       "          google.colab.kernel.accessAllowed ? 'block' : 'none';\n",
       "\n",
       "        async function convertToInteractive(key) {\n",
       "          const element = document.querySelector('#df-a3205276-0528-4cea-ae7c-89b52e0b569d');\n",
       "          const dataTable =\n",
       "            await google.colab.kernel.invokeFunction('convertToInteractive',\n",
       "                                                     [key], {});\n",
       "          if (!dataTable) return;\n",
       "\n",
       "          const docLinkHtml = 'Like what you see? Visit the ' +\n",
       "            '<a target=\"_blank\" href=https://colab.research.google.com/notebooks/data_table.ipynb>data table notebook</a>'\n",
       "            + ' to learn more about interactive tables.';\n",
       "          element.innerHTML = '';\n",
       "          dataTable['output_type'] = 'display_data';\n",
       "          await google.colab.output.renderOutput(dataTable, element);\n",
       "          const docLink = document.createElement('div');\n",
       "          docLink.innerHTML = docLinkHtml;\n",
       "          element.appendChild(docLink);\n",
       "        }\n",
       "      </script>\n",
       "    </div>\n",
       "  </div>\n",
       "  "
      ],
      "text/plain": [
       "           Embedding  Accuracy  F1_score    Recall  Precision\n",
       "0           Fasttext  0.627273  0.632199  0.627273   0.638850\n",
       "1             AraVec  0.527273  0.522869  0.527273   0.544929\n",
       "2  Fasttext + AraVec  0.536364  0.533866  0.536364   0.545376"
      ]
     },
     "execution_count": 77,
     "metadata": {},
     "output_type": "execute_result"
    }
   ],
   "source": [
    "Results"
   ]
  }
 ],
 "metadata": {
  "accelerator": "GPU",
  "colab": {
   "collapsed_sections": [
    "ZwFFlBGFR2tv",
    "Bpb35nPlTI1g",
    "HiwoyTsPL1PG"
   ],
   "name": "NLP_fasttext_Aravec-BiGRU-CNN_Embedding_EGYPTIAN.ipynb",
   "provenance": []
  },
  "kernelspec": {
   "display_name": "Python 3 (ipykernel)",
   "language": "python",
   "name": "python3"
  },
  "language_info": {
   "codemirror_mode": {
    "name": "ipython",
    "version": 3
   },
   "file_extension": ".py",
   "mimetype": "text/x-python",
   "name": "python",
   "nbconvert_exporter": "python",
   "pygments_lexer": "ipython3",
   "version": "3.10.3"
  }
 },
 "nbformat": 4,
 "nbformat_minor": 1
}
