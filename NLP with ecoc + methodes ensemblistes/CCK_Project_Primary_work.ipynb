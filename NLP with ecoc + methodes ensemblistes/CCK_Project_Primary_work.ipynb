{
 "cells": [
  {
   "cell_type": "markdown",
   "metadata": {
    "colab_type": "text",
    "id": "view-in-github"
   },
   "source": [
    "<a href=\"https://colab.research.google.com/github/ImenMasmoudiEm/CCKInternshipProject/blob/main/CCK_Project_Primary_work.ipynb\" target=\"_parent\"><img src=\"https://colab.research.google.com/assets/colab-badge.svg\" alt=\"Open In Colab\"/></a>"
   ]
  },
  {
   "cell_type": "markdown",
   "metadata": {
    "id": "Iiruy8t57ISt"
   },
   "source": [
    "# Text Classification: Primary work"
   ]
  },
  {
   "cell_type": "markdown",
   "metadata": {
    "id": "6A7gIEXP7oqV"
   },
   "source": [
    "##Connecting to drive & importing data"
   ]
  },
  {
   "cell_type": "code",
   "execution_count": 1,
   "metadata": {
    "colab": {
     "base_uri": "https://localhost:8080/"
    },
    "id": "KwJf5Jnk9iw8",
    "outputId": "c781b116-1b8d-4388-f5c0-9eccf8d7d90c"
   },
   "outputs": [
    {
     "name": "stdout",
     "output_type": "stream",
     "text": [
      "Mounted at /content/drive\n"
     ]
    }
   ],
   "source": [
    "from google.colab import drive\n",
    "drive.mount('/content/drive')"
   ]
  },
  {
   "cell_type": "code",
   "execution_count": 2,
   "metadata": {
    "id": "u6Xmp6Sf7Ay4"
   },
   "outputs": [],
   "source": [
    "import os \n",
    "os.chdir('/content/drive/MyDrive/All/Projects/Ing Internship/Data')"
   ]
  },
  {
   "cell_type": "code",
   "execution_count": 3,
   "metadata": {
    "colab": {
     "base_uri": "https://localhost:8080/",
     "height": 424
    },
    "id": "hjV2FNxa-FDa",
    "outputId": "6bc5b696-2035-4b43-cad2-130052585326"
   },
   "outputs": [
    {
     "data": {
      "text/html": [
       "\n",
       "  <div id=\"df-5bd7d1df-ff4f-4545-b228-66c1ada04790\">\n",
       "    <div class=\"colab-df-container\">\n",
       "      <div>\n",
       "<style scoped>\n",
       "    .dataframe tbody tr th:only-of-type {\n",
       "        vertical-align: middle;\n",
       "    }\n",
       "\n",
       "    .dataframe tbody tr th {\n",
       "        vertical-align: top;\n",
       "    }\n",
       "\n",
       "    .dataframe thead th {\n",
       "        text-align: right;\n",
       "    }\n",
       "</style>\n",
       "<table border=\"1\" class=\"dataframe\">\n",
       "  <thead>\n",
       "    <tr style=\"text-align: right;\">\n",
       "      <th></th>\n",
       "      <th>commentaire</th>\n",
       "      <th>classe</th>\n",
       "    </tr>\n",
       "  </thead>\n",
       "  <tbody>\n",
       "    <tr>\n",
       "      <th>0</th>\n",
       "      <td>مبروك و سامحونا لعجزنا التام. عقبال اللي جوه. ...</td>\n",
       "      <td>normal</td>\n",
       "    </tr>\n",
       "    <tr>\n",
       "      <th>1</th>\n",
       "      <td>كلنا بره ومش هنبطل نزايد على العجايز الي جابون...</td>\n",
       "      <td>hate</td>\n",
       "    </tr>\n",
       "    <tr>\n",
       "      <th>2</th>\n",
       "      <td>بدل ما انت قاعد بره كده تعالي ازرع الصحرا</td>\n",
       "      <td>normal</td>\n",
       "    </tr>\n",
       "    <tr>\n",
       "      <th>3</th>\n",
       "      <td>قذر اتفووو ماتيجى مصر وتورينا نفسك كدا ياجبان</td>\n",
       "      <td>hate</td>\n",
       "    </tr>\n",
       "    <tr>\n",
       "      <th>4</th>\n",
       "      <td>وهكذا رجال الشو اللي محرومين من عمل برنامج الغ...</td>\n",
       "      <td>hate</td>\n",
       "    </tr>\n",
       "    <tr>\n",
       "      <th>...</th>\n",
       "      <td>...</td>\n",
       "      <td>...</td>\n",
       "    </tr>\n",
       "    <tr>\n",
       "      <th>23028</th>\n",
       "      <td>يلا ولا خنزير الله يرحم صدام حسين لي كان داعسكن</td>\n",
       "      <td>hate</td>\n",
       "    </tr>\n",
       "    <tr>\n",
       "      <th>23029</th>\n",
       "      <td>وبلدك سوريا لا تبغي سوا القتل والاجرام</td>\n",
       "      <td>hate</td>\n",
       "    </tr>\n",
       "    <tr>\n",
       "      <th>23030</th>\n",
       "      <td>معالي الوزير نؤمن بك دائما لأنك الدرع المنيع ف...</td>\n",
       "      <td>normal</td>\n",
       "    </tr>\n",
       "    <tr>\n",
       "      <th>23031</th>\n",
       "      <td>حياة سندي مستشارة امين عام الامم المتحدة بان ك...</td>\n",
       "      <td>normal</td>\n",
       "    </tr>\n",
       "    <tr>\n",
       "      <th>23032</th>\n",
       "      <td>انت يا جبران باسيل بعقليتك الفجة النتنة تقولرب...</td>\n",
       "      <td>hate</td>\n",
       "    </tr>\n",
       "  </tbody>\n",
       "</table>\n",
       "<p>23033 rows × 2 columns</p>\n",
       "</div>\n",
       "      <button class=\"colab-df-convert\" onclick=\"convertToInteractive('df-5bd7d1df-ff4f-4545-b228-66c1ada04790')\"\n",
       "              title=\"Convert this dataframe to an interactive table.\"\n",
       "              style=\"display:none;\">\n",
       "        \n",
       "  <svg xmlns=\"http://www.w3.org/2000/svg\" height=\"24px\"viewBox=\"0 0 24 24\"\n",
       "       width=\"24px\">\n",
       "    <path d=\"M0 0h24v24H0V0z\" fill=\"none\"/>\n",
       "    <path d=\"M18.56 5.44l.94 2.06.94-2.06 2.06-.94-2.06-.94-.94-2.06-.94 2.06-2.06.94zm-11 1L8.5 8.5l.94-2.06 2.06-.94-2.06-.94L8.5 2.5l-.94 2.06-2.06.94zm10 10l.94 2.06.94-2.06 2.06-.94-2.06-.94-.94-2.06-.94 2.06-2.06.94z\"/><path d=\"M17.41 7.96l-1.37-1.37c-.4-.4-.92-.59-1.43-.59-.52 0-1.04.2-1.43.59L10.3 9.45l-7.72 7.72c-.78.78-.78 2.05 0 2.83L4 21.41c.39.39.9.59 1.41.59.51 0 1.02-.2 1.41-.59l7.78-7.78 2.81-2.81c.8-.78.8-2.07 0-2.86zM5.41 20L4 18.59l7.72-7.72 1.47 1.35L5.41 20z\"/>\n",
       "  </svg>\n",
       "      </button>\n",
       "      \n",
       "  <style>\n",
       "    .colab-df-container {\n",
       "      display:flex;\n",
       "      flex-wrap:wrap;\n",
       "      gap: 12px;\n",
       "    }\n",
       "\n",
       "    .colab-df-convert {\n",
       "      background-color: #E8F0FE;\n",
       "      border: none;\n",
       "      border-radius: 50%;\n",
       "      cursor: pointer;\n",
       "      display: none;\n",
       "      fill: #1967D2;\n",
       "      height: 32px;\n",
       "      padding: 0 0 0 0;\n",
       "      width: 32px;\n",
       "    }\n",
       "\n",
       "    .colab-df-convert:hover {\n",
       "      background-color: #E2EBFA;\n",
       "      box-shadow: 0px 1px 2px rgba(60, 64, 67, 0.3), 0px 1px 3px 1px rgba(60, 64, 67, 0.15);\n",
       "      fill: #174EA6;\n",
       "    }\n",
       "\n",
       "    [theme=dark] .colab-df-convert {\n",
       "      background-color: #3B4455;\n",
       "      fill: #D2E3FC;\n",
       "    }\n",
       "\n",
       "    [theme=dark] .colab-df-convert:hover {\n",
       "      background-color: #434B5C;\n",
       "      box-shadow: 0px 1px 3px 1px rgba(0, 0, 0, 0.15);\n",
       "      filter: drop-shadow(0px 1px 2px rgba(0, 0, 0, 0.3));\n",
       "      fill: #FFFFFF;\n",
       "    }\n",
       "  </style>\n",
       "\n",
       "      <script>\n",
       "        const buttonEl =\n",
       "          document.querySelector('#df-5bd7d1df-ff4f-4545-b228-66c1ada04790 button.colab-df-convert');\n",
       "        buttonEl.style.display =\n",
       "          google.colab.kernel.accessAllowed ? 'block' : 'none';\n",
       "\n",
       "        async function convertToInteractive(key) {\n",
       "          const element = document.querySelector('#df-5bd7d1df-ff4f-4545-b228-66c1ada04790');\n",
       "          const dataTable =\n",
       "            await google.colab.kernel.invokeFunction('convertToInteractive',\n",
       "                                                     [key], {});\n",
       "          if (!dataTable) return;\n",
       "\n",
       "          const docLinkHtml = 'Like what you see? Visit the ' +\n",
       "            '<a target=\"_blank\" href=https://colab.research.google.com/notebooks/data_table.ipynb>data table notebook</a>'\n",
       "            + ' to learn more about interactive tables.';\n",
       "          element.innerHTML = '';\n",
       "          dataTable['output_type'] = 'display_data';\n",
       "          await google.colab.output.renderOutput(dataTable, element);\n",
       "          const docLink = document.createElement('div');\n",
       "          docLink.innerHTML = docLinkHtml;\n",
       "          element.appendChild(docLink);\n",
       "        }\n",
       "      </script>\n",
       "    </div>\n",
       "  </div>\n",
       "  "
      ],
      "text/plain": [
       "                                             commentaire  classe\n",
       "0      مبروك و سامحونا لعجزنا التام. عقبال اللي جوه. ...  normal\n",
       "1      كلنا بره ومش هنبطل نزايد على العجايز الي جابون...    hate\n",
       "2              بدل ما انت قاعد بره كده تعالي ازرع الصحرا  normal\n",
       "3          قذر اتفووو ماتيجى مصر وتورينا نفسك كدا ياجبان    hate\n",
       "4      وهكذا رجال الشو اللي محرومين من عمل برنامج الغ...    hate\n",
       "...                                                  ...     ...\n",
       "23028    يلا ولا خنزير الله يرحم صدام حسين لي كان داعسكن    hate\n",
       "23029            وبلدك سوريا لا تبغي سوا القتل والاجرام     hate\n",
       "23030  معالي الوزير نؤمن بك دائما لأنك الدرع المنيع ف...  normal\n",
       "23031  حياة سندي مستشارة امين عام الامم المتحدة بان ك...  normal\n",
       "23032  انت يا جبران باسيل بعقليتك الفجة النتنة تقولرب...    hate\n",
       "\n",
       "[23033 rows x 2 columns]"
      ]
     },
     "execution_count": 3,
     "metadata": {},
     "output_type": "execute_result"
    }
   ],
   "source": [
    "import pandas as pd\n",
    "data=pd.read_excel(\"/content/drive/MyDrive/All/Projects/Ing Internship/Data/final-dataset.xlsx\")\n",
    "data"
   ]
  },
  {
   "cell_type": "markdown",
   "metadata": {
    "id": "E78jh1K4ATql"
   },
   "source": [
    "##Data Preprocessing"
   ]
  },
  {
   "cell_type": "markdown",
   "metadata": {
    "id": "4WPH66dgAsdv"
   },
   "source": [
    "1/ Changing the Class into bin"
   ]
  },
  {
   "cell_type": "code",
   "execution_count": 4,
   "metadata": {
    "id": "g0G8MT47A3Z_"
   },
   "outputs": [],
   "source": [
    "data['classe']=data['classe'].replace(\"hate\", int(2))\n",
    "data['classe']=data['classe'].replace(\"normal\", int(0)) \n",
    "data['classe']=data['classe'].replace(\"abusive\", int(1))"
   ]
  },
  {
   "cell_type": "code",
   "execution_count": 5,
   "metadata": {
    "colab": {
     "base_uri": "https://localhost:8080/",
     "height": 424
    },
    "id": "1Ml3TDjMBley",
    "outputId": "61fb6b2e-fc24-48de-a66a-4eb1d784360f"
   },
   "outputs": [
    {
     "data": {
      "text/html": [
       "\n",
       "  <div id=\"df-4303887f-74f2-46ca-9430-b146460f6120\">\n",
       "    <div class=\"colab-df-container\">\n",
       "      <div>\n",
       "<style scoped>\n",
       "    .dataframe tbody tr th:only-of-type {\n",
       "        vertical-align: middle;\n",
       "    }\n",
       "\n",
       "    .dataframe tbody tr th {\n",
       "        vertical-align: top;\n",
       "    }\n",
       "\n",
       "    .dataframe thead th {\n",
       "        text-align: right;\n",
       "    }\n",
       "</style>\n",
       "<table border=\"1\" class=\"dataframe\">\n",
       "  <thead>\n",
       "    <tr style=\"text-align: right;\">\n",
       "      <th></th>\n",
       "      <th>commentaire</th>\n",
       "      <th>classe</th>\n",
       "    </tr>\n",
       "  </thead>\n",
       "  <tbody>\n",
       "    <tr>\n",
       "      <th>0</th>\n",
       "      <td>مبروك و سامحونا لعجزنا التام. عقبال اللي جوه. ...</td>\n",
       "      <td>0</td>\n",
       "    </tr>\n",
       "    <tr>\n",
       "      <th>1</th>\n",
       "      <td>كلنا بره ومش هنبطل نزايد على العجايز الي جابون...</td>\n",
       "      <td>2</td>\n",
       "    </tr>\n",
       "    <tr>\n",
       "      <th>2</th>\n",
       "      <td>بدل ما انت قاعد بره كده تعالي ازرع الصحرا</td>\n",
       "      <td>0</td>\n",
       "    </tr>\n",
       "    <tr>\n",
       "      <th>3</th>\n",
       "      <td>قذر اتفووو ماتيجى مصر وتورينا نفسك كدا ياجبان</td>\n",
       "      <td>2</td>\n",
       "    </tr>\n",
       "    <tr>\n",
       "      <th>4</th>\n",
       "      <td>وهكذا رجال الشو اللي محرومين من عمل برنامج الغ...</td>\n",
       "      <td>2</td>\n",
       "    </tr>\n",
       "    <tr>\n",
       "      <th>...</th>\n",
       "      <td>...</td>\n",
       "      <td>...</td>\n",
       "    </tr>\n",
       "    <tr>\n",
       "      <th>23028</th>\n",
       "      <td>يلا ولا خنزير الله يرحم صدام حسين لي كان داعسكن</td>\n",
       "      <td>2</td>\n",
       "    </tr>\n",
       "    <tr>\n",
       "      <th>23029</th>\n",
       "      <td>وبلدك سوريا لا تبغي سوا القتل والاجرام</td>\n",
       "      <td>2</td>\n",
       "    </tr>\n",
       "    <tr>\n",
       "      <th>23030</th>\n",
       "      <td>معالي الوزير نؤمن بك دائما لأنك الدرع المنيع ف...</td>\n",
       "      <td>0</td>\n",
       "    </tr>\n",
       "    <tr>\n",
       "      <th>23031</th>\n",
       "      <td>حياة سندي مستشارة امين عام الامم المتحدة بان ك...</td>\n",
       "      <td>0</td>\n",
       "    </tr>\n",
       "    <tr>\n",
       "      <th>23032</th>\n",
       "      <td>انت يا جبران باسيل بعقليتك الفجة النتنة تقولرب...</td>\n",
       "      <td>2</td>\n",
       "    </tr>\n",
       "  </tbody>\n",
       "</table>\n",
       "<p>23033 rows × 2 columns</p>\n",
       "</div>\n",
       "      <button class=\"colab-df-convert\" onclick=\"convertToInteractive('df-4303887f-74f2-46ca-9430-b146460f6120')\"\n",
       "              title=\"Convert this dataframe to an interactive table.\"\n",
       "              style=\"display:none;\">\n",
       "        \n",
       "  <svg xmlns=\"http://www.w3.org/2000/svg\" height=\"24px\"viewBox=\"0 0 24 24\"\n",
       "       width=\"24px\">\n",
       "    <path d=\"M0 0h24v24H0V0z\" fill=\"none\"/>\n",
       "    <path d=\"M18.56 5.44l.94 2.06.94-2.06 2.06-.94-2.06-.94-.94-2.06-.94 2.06-2.06.94zm-11 1L8.5 8.5l.94-2.06 2.06-.94-2.06-.94L8.5 2.5l-.94 2.06-2.06.94zm10 10l.94 2.06.94-2.06 2.06-.94-2.06-.94-.94-2.06-.94 2.06-2.06.94z\"/><path d=\"M17.41 7.96l-1.37-1.37c-.4-.4-.92-.59-1.43-.59-.52 0-1.04.2-1.43.59L10.3 9.45l-7.72 7.72c-.78.78-.78 2.05 0 2.83L4 21.41c.39.39.9.59 1.41.59.51 0 1.02-.2 1.41-.59l7.78-7.78 2.81-2.81c.8-.78.8-2.07 0-2.86zM5.41 20L4 18.59l7.72-7.72 1.47 1.35L5.41 20z\"/>\n",
       "  </svg>\n",
       "      </button>\n",
       "      \n",
       "  <style>\n",
       "    .colab-df-container {\n",
       "      display:flex;\n",
       "      flex-wrap:wrap;\n",
       "      gap: 12px;\n",
       "    }\n",
       "\n",
       "    .colab-df-convert {\n",
       "      background-color: #E8F0FE;\n",
       "      border: none;\n",
       "      border-radius: 50%;\n",
       "      cursor: pointer;\n",
       "      display: none;\n",
       "      fill: #1967D2;\n",
       "      height: 32px;\n",
       "      padding: 0 0 0 0;\n",
       "      width: 32px;\n",
       "    }\n",
       "\n",
       "    .colab-df-convert:hover {\n",
       "      background-color: #E2EBFA;\n",
       "      box-shadow: 0px 1px 2px rgba(60, 64, 67, 0.3), 0px 1px 3px 1px rgba(60, 64, 67, 0.15);\n",
       "      fill: #174EA6;\n",
       "    }\n",
       "\n",
       "    [theme=dark] .colab-df-convert {\n",
       "      background-color: #3B4455;\n",
       "      fill: #D2E3FC;\n",
       "    }\n",
       "\n",
       "    [theme=dark] .colab-df-convert:hover {\n",
       "      background-color: #434B5C;\n",
       "      box-shadow: 0px 1px 3px 1px rgba(0, 0, 0, 0.15);\n",
       "      filter: drop-shadow(0px 1px 2px rgba(0, 0, 0, 0.3));\n",
       "      fill: #FFFFFF;\n",
       "    }\n",
       "  </style>\n",
       "\n",
       "      <script>\n",
       "        const buttonEl =\n",
       "          document.querySelector('#df-4303887f-74f2-46ca-9430-b146460f6120 button.colab-df-convert');\n",
       "        buttonEl.style.display =\n",
       "          google.colab.kernel.accessAllowed ? 'block' : 'none';\n",
       "\n",
       "        async function convertToInteractive(key) {\n",
       "          const element = document.querySelector('#df-4303887f-74f2-46ca-9430-b146460f6120');\n",
       "          const dataTable =\n",
       "            await google.colab.kernel.invokeFunction('convertToInteractive',\n",
       "                                                     [key], {});\n",
       "          if (!dataTable) return;\n",
       "\n",
       "          const docLinkHtml = 'Like what you see? Visit the ' +\n",
       "            '<a target=\"_blank\" href=https://colab.research.google.com/notebooks/data_table.ipynb>data table notebook</a>'\n",
       "            + ' to learn more about interactive tables.';\n",
       "          element.innerHTML = '';\n",
       "          dataTable['output_type'] = 'display_data';\n",
       "          await google.colab.output.renderOutput(dataTable, element);\n",
       "          const docLink = document.createElement('div');\n",
       "          docLink.innerHTML = docLinkHtml;\n",
       "          element.appendChild(docLink);\n",
       "        }\n",
       "      </script>\n",
       "    </div>\n",
       "  </div>\n",
       "  "
      ],
      "text/plain": [
       "                                             commentaire  classe\n",
       "0      مبروك و سامحونا لعجزنا التام. عقبال اللي جوه. ...       0\n",
       "1      كلنا بره ومش هنبطل نزايد على العجايز الي جابون...       2\n",
       "2              بدل ما انت قاعد بره كده تعالي ازرع الصحرا       0\n",
       "3          قذر اتفووو ماتيجى مصر وتورينا نفسك كدا ياجبان       2\n",
       "4      وهكذا رجال الشو اللي محرومين من عمل برنامج الغ...       2\n",
       "...                                                  ...     ...\n",
       "23028    يلا ولا خنزير الله يرحم صدام حسين لي كان داعسكن       2\n",
       "23029            وبلدك سوريا لا تبغي سوا القتل والاجرام        2\n",
       "23030  معالي الوزير نؤمن بك دائما لأنك الدرع المنيع ف...       0\n",
       "23031  حياة سندي مستشارة امين عام الامم المتحدة بان ك...       0\n",
       "23032  انت يا جبران باسيل بعقليتك الفجة النتنة تقولرب...       2\n",
       "\n",
       "[23033 rows x 2 columns]"
      ]
     },
     "execution_count": 5,
     "metadata": {},
     "output_type": "execute_result"
    }
   ],
   "source": [
    "data"
   ]
  },
  {
   "cell_type": "code",
   "execution_count": 6,
   "metadata": {
    "colab": {
     "base_uri": "https://localhost:8080/",
     "height": 334
    },
    "id": "QWAQiWYVAzQN",
    "outputId": "351df913-0af3-4bb8-8e7b-aab8dfa9e793"
   },
   "outputs": [
    {
     "data": {
      "image/png": "[encoded data removed]",
      "text/plain": [
       "<Figure size 1080x360 with 1 Axes>"
      ]
     },
     "metadata": {
      "needs_background": "light"
     },
     "output_type": "display_data"
    }
   ],
   "source": [
    "import matplotlib.pyplot as plt\n",
    "import seaborn as sns\n",
    "plt.figure(1 , figsize = (15 , 5))\n",
    "sns.countplot(y = 'classe' , data = data)\n",
    "plt.show()"
   ]
  },
  {
   "cell_type": "code",
   "execution_count": 7,
   "metadata": {
    "colab": {
     "base_uri": "https://localhost:8080/"
    },
    "id": "mWndFEOiC4pP",
    "outputId": "dc8c8f52-d003-41ef-bf6b-4306e51a625c"
   },
   "outputs": [
    {
     "name": "stdout",
     "output_type": "stream",
     "text": [
      "classe\n",
      "0    12353\n",
      "Name: classe, dtype: int64\n",
      "classe\n",
      "1    3850\n",
      "Name: classe, dtype: int64\n",
      "classe\n",
      "2    6830\n",
      "Name: classe, dtype: int64\n"
     ]
    }
   ],
   "source": [
    "print(data.loc[data.classe==0].groupby('classe')[\"classe\"].count())\n",
    "print(data.loc[data.classe==1].groupby('classe')[\"classe\"].count())\n",
    "print(data.loc[data.classe==2].groupby('classe')[\"classe\"].count())"
   ]
  },
  {
   "cell_type": "markdown",
   "metadata": {
    "id": "nWDDcwDwA32H"
   },
   "source": [
    "2/ NLP Data Preparations: Data Balancing"
   ]
  },
  {
   "cell_type": "code",
   "execution_count": 8,
   "metadata": {
    "id": "BgMfbCVpBAOB"
   },
   "outputs": [],
   "source": [
    "from tensorflow.keras.preprocessing.text import Tokenizer\n",
    "from tensorflow.keras.preprocessing.sequence import pad_sequences\n",
    "import numpy as np\n",
    "\n",
    "sentences = data['commentaire']\n",
    "labels = data['classe']\n",
    "\n",
    "labels = [int(i) for i in labels]"
   ]
  },
  {
   "cell_type": "code",
   "execution_count": 9,
   "metadata": {
    "id": "Vp_qjUMwT6PI"
   },
   "outputs": [],
   "source": [
    "i=0\n",
    "c=0\n",
    "Nlables=[]\n",
    "Nsentences=[]\n",
    "\n",
    "while (c<5500):\n",
    "  if (labels[i]!= 0):\n",
    "    Nlables.append(labels[i])\n",
    "    Nsentences.append(sentences[i])\n",
    "  else:\n",
    "    c+=1\n",
    "  i+=1\n",
    "while (i<len(labels)):\n",
    "  Nlables.append(labels[i])\n",
    "  Nsentences.append(sentences[i])\n",
    "  i+=1\n",
    "\n",
    "sentences=[str(i) for i in sentences]\n",
    "\n",
    "i=0\n",
    "c=0\n",
    "\n",
    "while (c<3000):\n",
    "  if (Nlables[i]==1):\n",
    "    Nlables.append(Nlables[i])\n",
    "    Nsentences.append(Nsentences[i])\n",
    "    c+=1\n",
    "  i+=1"
   ]
  },
  {
   "cell_type": "code",
   "execution_count": 10,
   "metadata": {
    "colab": {
     "base_uri": "https://localhost:8080/",
     "height": 424
    },
    "id": "zQgP6WSIbrNm",
    "outputId": "8fbc0969-a2de-4a30-9694-80f27ada0515"
   },
   "outputs": [
    {
     "data": {
      "text/html": [
       "\n",
       "  <div id=\"df-a44d7012-2bc9-4a02-81c3-4534be17f722\">\n",
       "    <div class=\"colab-df-container\">\n",
       "      <div>\n",
       "<style scoped>\n",
       "    .dataframe tbody tr th:only-of-type {\n",
       "        vertical-align: middle;\n",
       "    }\n",
       "\n",
       "    .dataframe tbody tr th {\n",
       "        vertical-align: top;\n",
       "    }\n",
       "\n",
       "    .dataframe thead th {\n",
       "        text-align: right;\n",
       "    }\n",
       "</style>\n",
       "<table border=\"1\" class=\"dataframe\">\n",
       "  <thead>\n",
       "    <tr style=\"text-align: right;\">\n",
       "      <th></th>\n",
       "      <th>sentences</th>\n",
       "      <th>classe</th>\n",
       "    </tr>\n",
       "  </thead>\n",
       "  <tbody>\n",
       "    <tr>\n",
       "      <th>0</th>\n",
       "      <td>كلنا بره ومش هنبطل نزايد على العجايز الي جابون...</td>\n",
       "      <td>2</td>\n",
       "    </tr>\n",
       "    <tr>\n",
       "      <th>1</th>\n",
       "      <td>قذر اتفووو ماتيجى مصر وتورينا نفسك كدا ياجبان</td>\n",
       "      <td>2</td>\n",
       "    </tr>\n",
       "    <tr>\n",
       "      <th>2</th>\n",
       "      <td>وهكذا رجال الشو اللي محرومين من عمل برنامج الغ...</td>\n",
       "      <td>2</td>\n",
       "    </tr>\n",
       "    <tr>\n",
       "      <th>3</th>\n",
       "      <td>أنت أزاي لبؤة كدة ؟</td>\n",
       "      <td>1</td>\n",
       "    </tr>\n",
       "    <tr>\n",
       "      <th>4</th>\n",
       "      <td>دول عبيد باسم !! انت ما تعرفش غير ستات كده يعن...</td>\n",
       "      <td>2</td>\n",
       "    </tr>\n",
       "    <tr>\n",
       "      <th>...</th>\n",
       "      <td>...</td>\n",
       "      <td>...</td>\n",
       "    </tr>\n",
       "    <tr>\n",
       "      <th>20528</th>\n",
       "      <td>انت حمار وابن حمار وابن ابن حمار</td>\n",
       "      <td>1</td>\n",
       "    </tr>\n",
       "    <tr>\n",
       "      <th>20529</th>\n",
       "      <td>يلعن روحك يا هنية على هالتصريح الصرّحتو</td>\n",
       "      <td>1</td>\n",
       "    </tr>\n",
       "    <tr>\n",
       "      <th>20530</th>\n",
       "      <td>بيكفيكن عهر</td>\n",
       "      <td>1</td>\n",
       "    </tr>\n",
       "    <tr>\n",
       "      <th>20531</th>\n",
       "      <td>كل عمري إسمع عن أعور الدجيل و حمار</td>\n",
       "      <td>1</td>\n",
       "    </tr>\n",
       "    <tr>\n",
       "      <th>20532</th>\n",
       "      <td>انت الزمن الخرى لجابك كلب ابن كلب</td>\n",
       "      <td>1</td>\n",
       "    </tr>\n",
       "  </tbody>\n",
       "</table>\n",
       "<p>20533 rows × 2 columns</p>\n",
       "</div>\n",
       "      <button class=\"colab-df-convert\" onclick=\"convertToInteractive('df-a44d7012-2bc9-4a02-81c3-4534be17f722')\"\n",
       "              title=\"Convert this dataframe to an interactive table.\"\n",
       "              style=\"display:none;\">\n",
       "        \n",
       "  <svg xmlns=\"http://www.w3.org/2000/svg\" height=\"24px\"viewBox=\"0 0 24 24\"\n",
       "       width=\"24px\">\n",
       "    <path d=\"M0 0h24v24H0V0z\" fill=\"none\"/>\n",
       "    <path d=\"M18.56 5.44l.94 2.06.94-2.06 2.06-.94-2.06-.94-.94-2.06-.94 2.06-2.06.94zm-11 1L8.5 8.5l.94-2.06 2.06-.94-2.06-.94L8.5 2.5l-.94 2.06-2.06.94zm10 10l.94 2.06.94-2.06 2.06-.94-2.06-.94-.94-2.06-.94 2.06-2.06.94z\"/><path d=\"M17.41 7.96l-1.37-1.37c-.4-.4-.92-.59-1.43-.59-.52 0-1.04.2-1.43.59L10.3 9.45l-7.72 7.72c-.78.78-.78 2.05 0 2.83L4 21.41c.39.39.9.59 1.41.59.51 0 1.02-.2 1.41-.59l7.78-7.78 2.81-2.81c.8-.78.8-2.07 0-2.86zM5.41 20L4 18.59l7.72-7.72 1.47 1.35L5.41 20z\"/>\n",
       "  </svg>\n",
       "      </button>\n",
       "      \n",
       "  <style>\n",
       "    .colab-df-container {\n",
       "      display:flex;\n",
       "      flex-wrap:wrap;\n",
       "      gap: 12px;\n",
       "    }\n",
       "\n",
       "    .colab-df-convert {\n",
       "      background-color: #E8F0FE;\n",
       "      border: none;\n",
       "      border-radius: 50%;\n",
       "      cursor: pointer;\n",
       "      display: none;\n",
       "      fill: #1967D2;\n",
       "      height: 32px;\n",
       "      padding: 0 0 0 0;\n",
       "      width: 32px;\n",
       "    }\n",
       "\n",
       "    .colab-df-convert:hover {\n",
       "      background-color: #E2EBFA;\n",
       "      box-shadow: 0px 1px 2px rgba(60, 64, 67, 0.3), 0px 1px 3px 1px rgba(60, 64, 67, 0.15);\n",
       "      fill: #174EA6;\n",
       "    }\n",
       "\n",
       "    [theme=dark] .colab-df-convert {\n",
       "      background-color: #3B4455;\n",
       "      fill: #D2E3FC;\n",
       "    }\n",
       "\n",
       "    [theme=dark] .colab-df-convert:hover {\n",
       "      background-color: #434B5C;\n",
       "      box-shadow: 0px 1px 3px 1px rgba(0, 0, 0, 0.15);\n",
       "      filter: drop-shadow(0px 1px 2px rgba(0, 0, 0, 0.3));\n",
       "      fill: #FFFFFF;\n",
       "    }\n",
       "  </style>\n",
       "\n",
       "      <script>\n",
       "        const buttonEl =\n",
       "          document.querySelector('#df-a44d7012-2bc9-4a02-81c3-4534be17f722 button.colab-df-convert');\n",
       "        buttonEl.style.display =\n",
       "          google.colab.kernel.accessAllowed ? 'block' : 'none';\n",
       "\n",
       "        async function convertToInteractive(key) {\n",
       "          const element = document.querySelector('#df-a44d7012-2bc9-4a02-81c3-4534be17f722');\n",
       "          const dataTable =\n",
       "            await google.colab.kernel.invokeFunction('convertToInteractive',\n",
       "                                                     [key], {});\n",
       "          if (!dataTable) return;\n",
       "\n",
       "          const docLinkHtml = 'Like what you see? Visit the ' +\n",
       "            '<a target=\"_blank\" href=https://colab.research.google.com/notebooks/data_table.ipynb>data table notebook</a>'\n",
       "            + ' to learn more about interactive tables.';\n",
       "          element.innerHTML = '';\n",
       "          dataTable['output_type'] = 'display_data';\n",
       "          await google.colab.output.renderOutput(dataTable, element);\n",
       "          const docLink = document.createElement('div');\n",
       "          docLink.innerHTML = docLinkHtml;\n",
       "          element.appendChild(docLink);\n",
       "        }\n",
       "      </script>\n",
       "    </div>\n",
       "  </div>\n",
       "  "
      ],
      "text/plain": [
       "                                               sentences  classe\n",
       "0      كلنا بره ومش هنبطل نزايد على العجايز الي جابون...       2\n",
       "1          قذر اتفووو ماتيجى مصر وتورينا نفسك كدا ياجبان       2\n",
       "2      وهكذا رجال الشو اللي محرومين من عمل برنامج الغ...       2\n",
       "3                                   أنت أزاي لبؤة كدة ؟        1\n",
       "4      دول عبيد باسم !! انت ما تعرفش غير ستات كده يعن...       2\n",
       "...                                                  ...     ...\n",
       "20528                   انت حمار وابن حمار وابن ابن حمار       1\n",
       "20529            يلعن روحك يا هنية على هالتصريح الصرّحتو       1\n",
       "20530                                        بيكفيكن عهر       1\n",
       "20531                 كل عمري إسمع عن أعور الدجيل و حمار       1\n",
       "20532                  انت الزمن الخرى لجابك كلب ابن كلب       1\n",
       "\n",
       "[20533 rows x 2 columns]"
      ]
     },
     "execution_count": 10,
     "metadata": {},
     "output_type": "execute_result"
    }
   ],
   "source": [
    "import pandas as pd\n",
    "\n",
    "data=[[i,j] for i,j in zip(Nsentences , Nlables)]\n",
    "\n",
    "data=pd.DataFrame(data,columns=[\"sentences\",\"classe\"])\n",
    "\n",
    "data"
   ]
  },
  {
   "cell_type": "code",
   "execution_count": 11,
   "metadata": {
    "colab": {
     "base_uri": "https://localhost:8080/",
     "height": 334
    },
    "id": "Fz8P60LwbLjI",
    "outputId": "9382adee-1443-426a-ac90-0215cc8c5e6d"
   },
   "outputs": [
    {
     "data": {
      "image/png": "[encoded data removed]",
      "text/plain": [
       "<Figure size 1080x360 with 1 Axes>"
      ]
     },
     "metadata": {
      "needs_background": "light"
     },
     "output_type": "display_data"
    }
   ],
   "source": [
    "import matplotlib.pyplot as plt\n",
    "import seaborn as sns\n",
    "plt.figure(1 , figsize = (15 , 5))\n",
    "sns.countplot(y = 'classe' , data = data)\n",
    "plt.show()"
   ]
  },
  {
   "cell_type": "code",
   "execution_count": 12,
   "metadata": {
    "colab": {
     "base_uri": "https://localhost:8080/"
    },
    "id": "A37mvaVcD-ji",
    "outputId": "f755b96a-f930-4ee1-d5ec-9198a3ca0be7"
   },
   "outputs": [
    {
     "data": {
      "text/plain": [
       "207"
      ]
     },
     "execution_count": 12,
     "metadata": {},
     "output_type": "execute_result"
    }
   ],
   "source": [
    "#Figure out the longest comment\n",
    "\n",
    "def count_words(input):\n",
    "  return len(input.split())\n",
    "max_length=count_words(max(Nsentences,key=count_words))\n",
    "max_length"
   ]
  },
  {
   "cell_type": "markdown",
   "metadata": {
    "id": "cCJNbJcEzes_"
   },
   "source": [
    "#Importing extra data"
   ]
  },
  {
   "cell_type": "code",
   "execution_count": 13,
   "metadata": {
    "id": "lJ4ViTx6zc-7"
   },
   "outputs": [],
   "source": [
    "data12=pd.read_excel(\"/content/drive/MyDrive/All/Projects/Ing Internship/Data/dataset1and2.xlsx\")\n",
    "data34=pd.read_excel(\"/content/drive/MyDrive/All/Projects/Ing Internship/Data/dataset3and4.xlsx\")\n",
    "data5=pd.read_excel(\"/content/drive/MyDrive/All/Projects/Ing Internship/Data/D5.xlsx\")\n",
    "\n",
    "data12['classe']=data12['classe'].replace(\"hate\", int(2))\n",
    "data12['classe']=data12['classe'].replace(\"normal\", int(0)) \n",
    "data12['classe']=data12['classe'].replace(\"abusive\", int(1))\n",
    "\n",
    "data34['classe']=data34['classe'].replace(\"hate\", int(2))\n",
    "data34['classe']=data34['classe'].replace(\"normal\", int(0)) \n",
    "data34['classe']=data34['classe'].replace(\"abusive\", int(1))\n",
    "\n",
    "\n",
    "data5['classe']=data5['classe'].replace(\"hate\", int(2))\n",
    "data5['classe']=data5['classe'].replace(\"normal\", int(0)) \n",
    "data5['classe']=data5['classe'].replace(\"abusive\", int(1))\n",
    "\n",
    "\n",
    "C1=data12[\"commentaire\"]\n",
    "C2=data34[\"commentaire\"]\n",
    "C3=data5[\"commentaire\"]\n",
    "L1=data12[\"classe\"]\n",
    "L2=data34[\"classe\"]\n",
    "L3=data5[\"classe\"]\n",
    "\n",
    "\n",
    "data12=[[i,j] for i,j in zip(C1 , L1)]\n",
    "data34=[[i,j] for i,j in zip(C2 , L2)]\n",
    "data5=[[i,j] for i,j in zip(C3 , L3)]\n",
    "\n",
    "data12=pd.DataFrame(data12,columns=[\"sentences\",\"classe\"])\n",
    "data34=pd.DataFrame(data34,columns=[\"sentences\",\"classe\"])\n",
    "data5=pd.DataFrame(data5,columns=[\"sentences\",\"classe\"])"
   ]
  },
  {
   "cell_type": "code",
   "execution_count": 14,
   "metadata": {
    "id": "YEFxuA6H0gMb"
   },
   "outputs": [],
   "source": [
    "data5[\"sentences\"]=data5[\"sentences\"].str.replace(\"_\",\" \")"
   ]
  },
  {
   "cell_type": "code",
   "execution_count": 15,
   "metadata": {
    "colab": {
     "base_uri": "https://localhost:8080/",
     "height": 36
    },
    "id": "IhOSM1XP17Oy",
    "outputId": "c1e9164b-7a61-4f99-e58d-3519d1fb3f95"
   },
   "outputs": [
    {
     "data": {
      "application/vnd.google.colaboratory.intrinsic+json": {
       "type": "string"
      },
      "text/plain": [
       "'\"#أزهى عصور المسخره  هل ضيعت \"شيما\" محافظ بورسعيد؟\"'"
      ]
     },
     "execution_count": 15,
     "metadata": {},
     "output_type": "execute_result"
    }
   ],
   "source": [
    "data5[\"sentences\"][1097]"
   ]
  },
  {
   "cell_type": "code",
   "execution_count": 16,
   "metadata": {
    "colab": {
     "base_uri": "https://localhost:8080/",
     "height": 490
    },
    "id": "15BM6cRP0Wrl",
    "outputId": "4fffd94d-1842-4dd4-8092-bb9a5b4f9101"
   },
   "outputs": [
    {
     "data": {
      "image/png": "[encoded data removed]",
      "text/plain": [
       "<Figure size 1080x360 with 1 Axes>"
      ]
     },
     "metadata": {
      "needs_background": "light"
     },
     "output_type": "display_data"
    },
    {
     "name": "stdout",
     "output_type": "stream",
     "text": [
      "classe\n",
      "0    3857\n",
      "Name: classe, dtype: int64\n",
      "classe\n",
      "1    1204\n",
      "Name: classe, dtype: int64\n",
      "classe\n",
      "2    1399\n",
      "Name: classe, dtype: int64\n"
     ]
    }
   ],
   "source": [
    "plt.figure(1 , figsize = (15 , 5))\n",
    "sns.countplot(y = 'classe' , data = data12)\n",
    "plt.show()\n",
    "print(data12.loc[data12.classe==0].groupby('classe')[\"classe\"].count())\n",
    "print(data12.loc[data12.classe==1].groupby('classe')[\"classe\"].count())\n",
    "print(data12.loc[data12.classe==2].groupby('classe')[\"classe\"].count())"
   ]
  },
  {
   "cell_type": "code",
   "execution_count": 17,
   "metadata": {
    "colab": {
     "base_uri": "https://localhost:8080/",
     "height": 490
    },
    "id": "OOiCKJ4y1I5T",
    "outputId": "355e9877-33cd-4336-a336-3a79dcf81373"
   },
   "outputs": [
    {
     "data": {
      "image/png": "[encoded data removed]",
      "text/plain": [
       "<Figure size 1080x360 with 1 Axes>"
      ]
     },
     "metadata": {
      "needs_background": "light"
     },
     "output_type": "display_data"
    },
    {
     "name": "stdout",
     "output_type": "stream",
     "text": [
      "classe\n",
      "0    4565\n",
      "Name: classe, dtype: int64\n",
      "classe\n",
      "1    1746\n",
      "Name: classe, dtype: int64\n",
      "classe\n",
      "2    2885\n",
      "Name: classe, dtype: int64\n"
     ]
    }
   ],
   "source": [
    "plt.figure(1 , figsize = (15 , 5))\n",
    "sns.countplot(y = 'classe' , data = data34)\n",
    "plt.show()\n",
    "print(data34.loc[data34.classe==0].groupby('classe')[\"classe\"].count())\n",
    "print(data34.loc[data34.classe==1].groupby('classe')[\"classe\"].count())\n",
    "print(data34.loc[data34.classe==2].groupby('classe')[\"classe\"].count())"
   ]
  },
  {
   "cell_type": "markdown",
   "metadata": {
    "id": "qbiHzGSbw8sE"
   },
   "source": [
    "##The way that the computers percieve words and phrases is diffrent from the way that we preceve it as human beings. There are a veriety of ways for us that we can utilise to program the data type that we have and to make it numerical so that the model can get some meaning out of it. We call this part encoding text.\n",
    "##we can transfor each alphabet and caracter to it's ASCII Code, but this approach wasn't proven to give great results [To Research] !!!\n",
    "#What I did in the code was: Continus or distributed Embeddings Vectors representation:\n",
    "* First: Build a dictionary of tokens: I defined a dictionnary That has the words as keys and a unique number as a value\n",
    "* I then changed all of the phrases into Lists that has integers that indicate which word is in that particular place\n",
    "* Use One-Hot Vector\n",
    "\n",
    "##After doing this process, we have a numerical data that the model can use to get some meaning out of the labels"
   ]
  },
  {
   "cell_type": "code",
   "execution_count": 18,
   "metadata": {
    "id": "FrNFMsATGjbL"
   },
   "outputs": [],
   "source": [
    "training_size=int(len(Nsentences)*0.8)   #Experimenting setup\n",
    "\n",
    "training_sentences = Nsentences[0:training_size]\n",
    "testing_sentences = Nsentences[training_size:]\n",
    "training_labels = Nlables[0:training_size]\n",
    "testing_labels = Nlables[training_size:]\n",
    "\n",
    "embedding_dim = 16\n",
    "\n",
    "tokenizer = Tokenizer(num_words=3000, oov_token=\"<OOV>\")\n",
    "tokenizer.fit_on_texts(training_sentences)\n",
    "\n",
    "vocab_size = len(tokenizer.word_index) + 1 \n",
    "\n",
    "word_index = tokenizer.word_index\n",
    "\n",
    "training_sequences = tokenizer.texts_to_sequences(training_sentences)\n",
    "training_padded = pad_sequences(training_sequences, maxlen=max_length, padding='post', truncating='post')\n",
    "\n",
    "testing_sequences = tokenizer.texts_to_sequences(testing_sentences)\n",
    "testing_padded = pad_sequences(testing_sequences, maxlen=max_length, padding='post', truncating='post')"
   ]
  },
  {
   "cell_type": "code",
   "execution_count": 19,
   "metadata": {
    "colab": {
     "base_uri": "https://localhost:8080/"
    },
    "id": "GCD5XHrK8HaL",
    "outputId": "b8ddabb3-d9b4-4ac0-a228-46828176b105"
   },
   "outputs": [
    {
     "data": {
      "text/plain": [
       "39925"
      ]
     },
     "execution_count": 19,
     "metadata": {},
     "output_type": "execute_result"
    }
   ],
   "source": [
    "vocab_size"
   ]
  },
  {
   "cell_type": "code",
   "execution_count": 20,
   "metadata": {
    "colab": {
     "base_uri": "https://localhost:8080/"
    },
    "id": "PB3wZKaR8MXq",
    "outputId": "c4d02801-2de0-42c5-f65f-59d09f032bed"
   },
   "outputs": [
    {
     "data": {
      "text/plain": [
       "39924"
      ]
     },
     "execution_count": 20,
     "metadata": {},
     "output_type": "execute_result"
    }
   ],
   "source": [
    "len(word_index)"
   ]
  },
  {
   "cell_type": "code",
   "execution_count": 21,
   "metadata": {
    "id": "mkUjHchx4FaT"
   },
   "outputs": [],
   "source": [
    "Nsentences12=data12[\"sentences\"]\n",
    "Nlabels12=data12[\"classe\"]\n",
    "\n",
    "training_size12=int(len(Nsentences12)*0.8)\n",
    "\n",
    "testing_sentences12 = Nsentences12[training_size12:]\n",
    "testing_labels12 = Nlabels12[training_size12:]\n",
    "\n",
    "##########\n",
    "\n",
    "Nsentences34=data34[\"sentences\"]\n",
    "Nlabels34=data34[\"classe\"]\n",
    "\n",
    "training_size34=int(len(Nsentences34)*0.8)\n",
    "\n",
    "testing_sentences34 = Nsentences34[training_size34:]\n",
    "testing_labels34 = Nlabels34[training_size34:]\n",
    "\n",
    "##########\n",
    "\n",
    "Nsentences5=data5[\"sentences\"]\n",
    "Nlabels5=data5[\"classe\"]\n",
    "\n",
    "training_size5=int(len(Nsentences5)*0.8)\n",
    "\n",
    "testing_sentences5 = Nsentences34[training_size5:]\n",
    "testing_labels5 = Nlabels34[training_size5:]"
   ]
  },
  {
   "cell_type": "code",
   "execution_count": 22,
   "metadata": {
    "colab": {
     "base_uri": "https://localhost:8080/"
    },
    "id": "NPn7XcNo5qUy",
    "outputId": "a0e1ca8b-7ae2-4422-ad41-927de5c431d3"
   },
   "outputs": [
    {
     "data": {
      "text/plain": [
       "206"
      ]
     },
     "execution_count": 22,
     "metadata": {},
     "output_type": "execute_result"
    }
   ],
   "source": [
    "max_length12=count_words(max(testing_sentences12,key=count_words))\n",
    "max_length12"
   ]
  },
  {
   "cell_type": "code",
   "execution_count": 23,
   "metadata": {
    "colab": {
     "base_uri": "https://localhost:8080/"
    },
    "id": "5FkaUBXI60-_",
    "outputId": "b5cefbdf-c6a1-430b-dc60-935f105a2c0f"
   },
   "outputs": [
    {
     "data": {
      "text/plain": [
       "29"
      ]
     },
     "execution_count": 23,
     "metadata": {},
     "output_type": "execute_result"
    }
   ],
   "source": [
    "max_length34=count_words(max(testing_sentences34,key=count_words))\n",
    "max_length34"
   ]
  },
  {
   "cell_type": "code",
   "execution_count": 24,
   "metadata": {
    "colab": {
     "base_uri": "https://localhost:8080/"
    },
    "id": "BzkNojMI17FG",
    "outputId": "9e5d7afe-f055-4d64-cb3f-0404230011d7"
   },
   "outputs": [
    {
     "data": {
      "text/plain": [
       "52"
      ]
     },
     "execution_count": 24,
     "metadata": {},
     "output_type": "execute_result"
    }
   ],
   "source": [
    "max_length5=count_words(max(testing_sentences5,key=count_words))\n",
    "max_length5"
   ]
  },
  {
   "cell_type": "markdown",
   "metadata": {
    "id": "AFubPmEL7Qrh"
   },
   "source": [
    "###The Maximum length in the new data is less than 207, so we can padd them without losing information."
   ]
  },
  {
   "cell_type": "code",
   "execution_count": 25,
   "metadata": {
    "id": "e0p6r_d_7O58"
   },
   "outputs": [],
   "source": [
    "testing_sequences12 = tokenizer.texts_to_sequences(testing_sentences12)\n",
    "testing_padded12 = pad_sequences(testing_sequences12, maxlen=max_length, padding='post', truncating='post')\n",
    "\n",
    "###########\n",
    "\n",
    "testing_sequences34 = tokenizer.texts_to_sequences(testing_sentences34)\n",
    "testing_padded34 = pad_sequences(testing_sequences34, maxlen=max_length, padding='post', truncating='post')\n",
    "\n",
    "###########\n",
    "\n",
    "testing_sequences5 = tokenizer.texts_to_sequences(testing_sentences5)\n",
    "testing_padded5 = pad_sequences(testing_sequences5, maxlen=max_length, padding='post', truncating='post')"
   ]
  },
  {
   "cell_type": "markdown",
   "metadata": {
    "id": "TzmCjIfYBA8G"
   },
   "source": [
    "#Modelling"
   ]
  },
  {
   "cell_type": "markdown",
   "metadata": {
    "id": "-CRh9Gqc7KxQ"
   },
   "source": [
    "##For The First Model"
   ]
  },
  {
   "cell_type": "code",
   "execution_count": 27,
   "metadata": {
    "colab": {
     "base_uri": "https://localhost:8080/"
    },
    "id": "attb9Ze4BGlm",
    "outputId": "f2e85afa-550c-45e7-80ce-662993cd3adc"
   },
   "outputs": [
    {
     "name": "stdout",
     "output_type": "stream",
     "text": [
      "Model: \"sequential_1\"\n",
      "_________________________________________________________________\n",
      " Layer (type)                Output Shape              Param #   \n",
      "=================================================================\n",
      " embedding_1 (Embedding)     (None, 207, 16)           638800    \n",
      "                                                                 \n",
      " conv1d_2 (Conv1D)           (None, 203, 128)          10368     \n",
      "                                                                 \n",
      " conv1d_3 (Conv1D)           (None, 203, 32)           4128      \n",
      "                                                                 \n",
      " bidirectional_3 (Bidirectio  (None, 203, 64)          16640     \n",
      " nal)                                                            \n",
      "                                                                 \n",
      " bidirectional_4 (Bidirectio  (None, 203, 64)          24832     \n",
      " nal)                                                            \n",
      "                                                                 \n",
      " bidirectional_5 (Bidirectio  (None, 203, 32)          10368     \n",
      " nal)                                                            \n",
      "                                                                 \n",
      " flatten_1 (Flatten)         (None, 6496)              0         \n",
      "                                                                 \n",
      " dense_2 (Dense)             (None, 24)                155928    \n",
      "                                                                 \n",
      " dense_3 (Dense)             (None, 3)                 75        \n",
      "                                                                 \n",
      "=================================================================\n",
      "Total params: 861,139\n",
      "Trainable params: 861,139\n",
      "Non-trainable params: 0\n",
      "_________________________________________________________________\n"
     ]
    }
   ],
   "source": [
    "import tensorflow as tf\n",
    "\n",
    "model=tf.keras.models.Sequential ([\n",
    "                                   tf.keras.layers.Embedding(vocab_size, embedding_dim, input_length=max_length),\n",
    "                                   tf.keras.layers.Conv1D(128, 5, activation='relu'),\n",
    "                                   tf.keras.layers.Conv1D(filters=32, kernel_size=1, activation='selu'),\n",
    "                                   tf.keras.layers.Bidirectional(tf.keras.layers.LSTM(32,return_sequences=True)),\n",
    "                                   tf.keras.layers.Bidirectional(tf.keras.layers.LSTM(32,return_sequences=True)),\n",
    "                                   tf.keras.layers.Bidirectional(tf.keras.layers.LSTM(16,return_sequences=True)),\n",
    "                                   tf.keras.layers.Flatten(),\n",
    "                                   tf.keras.layers.Dense(units=24,activation='relu'),\n",
    "                                   tf.keras.layers.Dense(units=3, activation='softmax')])\n",
    "model.summary()"
   ]
  },
  {
   "cell_type": "code",
   "execution_count": 28,
   "metadata": {
    "colab": {
     "base_uri": "https://localhost:8080/"
    },
    "id": "YK8y9kQFL5T5",
    "outputId": "7ce18594-bf7c-486f-bc89-b53c0dc6c10c"
   },
   "outputs": [
    {
     "name": "stdout",
     "output_type": "stream",
     "text": [
      "Epoch 1/50\n"
     ]
    },
    {
     "name": "stderr",
     "output_type": "stream",
     "text": [
      "/usr/local/lib/python3.7/dist-packages/ipykernel_launcher.py:4: DeprecationWarning: `np.int` is a deprecated alias for the builtin `int`. To silence this warning, use `int` by itself. Doing this will not modify any behavior and is safe. When replacing `np.int`, you may wish to use e.g. `np.int64` or `np.int32` to specify the precision. If you wish to review your current use, check the release note link for additional information.\n",
      "Deprecated in NumPy 1.20; for more details and guidance: https://numpy.org/devdocs/release/1.20.0-notes.html#deprecations\n",
      "  after removing the cwd from sys.path.\n",
      "/usr/local/lib/python3.7/dist-packages/ipykernel_launcher.py:5: DeprecationWarning: `np.int` is a deprecated alias for the builtin `int`. To silence this warning, use `int` by itself. Doing this will not modify any behavior and is safe. When replacing `np.int`, you may wish to use e.g. `np.int64` or `np.int32` to specify the precision. If you wish to review your current use, check the release note link for additional information.\n",
      "Deprecated in NumPy 1.20; for more details and guidance: https://numpy.org/devdocs/release/1.20.0-notes.html#deprecations\n",
      "  \"\"\"\n",
      "/usr/local/lib/python3.7/dist-packages/ipykernel_launcher.py:6: DeprecationWarning: `np.int` is a deprecated alias for the builtin `int`. To silence this warning, use `int` by itself. Doing this will not modify any behavior and is safe. When replacing `np.int`, you may wish to use e.g. `np.int64` or `np.int32` to specify the precision. If you wish to review your current use, check the release note link for additional information.\n",
      "Deprecated in NumPy 1.20; for more details and guidance: https://numpy.org/devdocs/release/1.20.0-notes.html#deprecations\n",
      "  \n",
      "/usr/local/lib/python3.7/dist-packages/ipykernel_launcher.py:7: DeprecationWarning: `np.int` is a deprecated alias for the builtin `int`. To silence this warning, use `int` by itself. Doing this will not modify any behavior and is safe. When replacing `np.int`, you may wish to use e.g. `np.int64` or `np.int32` to specify the precision. If you wish to review your current use, check the release note link for additional information.\n",
      "Deprecated in NumPy 1.20; for more details and guidance: https://numpy.org/devdocs/release/1.20.0-notes.html#deprecations\n",
      "  import sys\n"
     ]
    },
    {
     "name": "stdout",
     "output_type": "stream",
     "text": [
      "129/129 [==============================] - 29s 133ms/step - loss: 0.9498 - accuracy: 0.5093 - val_loss: 0.8640 - val_accuracy: 0.6138\n",
      "Epoch 2/50\n",
      "129/129 [==============================] - 15s 118ms/step - loss: 0.6549 - accuracy: 0.7263 - val_loss: 0.5840 - val_accuracy: 0.7558\n",
      "Epoch 3/50\n",
      "129/129 [==============================] - 15s 117ms/step - loss: 0.4905 - accuracy: 0.8096 - val_loss: 0.5030 - val_accuracy: 0.7904\n",
      "Epoch 4/50\n",
      "129/129 [==============================] - 15s 113ms/step - loss: 0.4127 - accuracy: 0.8456 - val_loss: 0.4841 - val_accuracy: 0.7979\n",
      "Epoch 5/50\n",
      "129/129 [==============================] - 16s 121ms/step - loss: 0.3668 - accuracy: 0.8624 - val_loss: 0.4767 - val_accuracy: 0.7964\n",
      "Epoch 6/50\n",
      "129/129 [==============================] - 14s 112ms/step - loss: 0.3285 - accuracy: 0.8781 - val_loss: 0.4668 - val_accuracy: 0.7972\n",
      "Epoch 7/50\n",
      "129/129 [==============================] - 15s 120ms/step - loss: 0.3044 - accuracy: 0.8854 - val_loss: 0.3666 - val_accuracy: 0.8515\n",
      "Epoch 8/50\n",
      "129/129 [==============================] - 15s 120ms/step - loss: 0.2775 - accuracy: 0.8978 - val_loss: 0.2947 - val_accuracy: 0.8731\n",
      "Epoch 9/50\n",
      "129/129 [==============================] - 15s 120ms/step - loss: 0.2518 - accuracy: 0.9061 - val_loss: 0.2775 - val_accuracy: 0.8972\n",
      "Epoch 10/50\n",
      "129/129 [==============================] - 16s 125ms/step - loss: 0.2323 - accuracy: 0.9123 - val_loss: 0.2589 - val_accuracy: 0.8895\n",
      "Epoch 11/50\n",
      "129/129 [==============================] - 14s 112ms/step - loss: 0.2123 - accuracy: 0.9184 - val_loss: 0.1888 - val_accuracy: 0.9340\n",
      "Epoch 12/50\n",
      "129/129 [==============================] - 16s 120ms/step - loss: 0.1940 - accuracy: 0.9266 - val_loss: 0.1966 - val_accuracy: 0.9223\n",
      "Epoch 13/50\n",
      "129/129 [==============================] - 15s 120ms/step - loss: 0.1828 - accuracy: 0.9270 - val_loss: 0.2343 - val_accuracy: 0.8997\n",
      "Epoch 14/50\n",
      "129/129 [==============================] - 16s 121ms/step - loss: 0.1699 - accuracy: 0.9323 - val_loss: 0.2108 - val_accuracy: 0.9043\n",
      "Epoch 15/50\n",
      "129/129 [==============================] - 15s 113ms/step - loss: 0.1606 - accuracy: 0.9383 - val_loss: 0.1582 - val_accuracy: 0.9530\n",
      "Epoch 16/50\n",
      "129/129 [==============================] - 16s 121ms/step - loss: 0.1493 - accuracy: 0.9364 - val_loss: 0.1504 - val_accuracy: 0.9330\n",
      "Epoch 17/50\n",
      "129/129 [==============================] - 15s 120ms/step - loss: 0.1439 - accuracy: 0.9389 - val_loss: 0.1850 - val_accuracy: 0.9250\n",
      "Epoch 18/50\n",
      "129/129 [==============================] - 16s 127ms/step - loss: 0.1397 - accuracy: 0.9405 - val_loss: 0.2018 - val_accuracy: 0.9109\n",
      "Epoch 19/50\n",
      "129/129 [==============================] - 15s 113ms/step - loss: 0.1327 - accuracy: 0.9431 - val_loss: 0.1430 - val_accuracy: 0.9301\n",
      "Epoch 20/50\n",
      "129/129 [==============================] - 16s 121ms/step - loss: 0.1316 - accuracy: 0.9433 - val_loss: 0.1712 - val_accuracy: 0.9233\n",
      "Epoch 21/50\n",
      "129/129 [==============================] - 16s 120ms/step - loss: 0.1239 - accuracy: 0.9446 - val_loss: 0.1252 - val_accuracy: 0.9608\n",
      "Epoch 22/50\n",
      "129/129 [==============================] - 14s 112ms/step - loss: 0.1201 - accuracy: 0.9467 - val_loss: 0.1428 - val_accuracy: 0.9384\n",
      "Epoch 23/50\n",
      "129/129 [==============================] - 15s 120ms/step - loss: 0.1160 - accuracy: 0.9479 - val_loss: 0.1444 - val_accuracy: 0.9481\n",
      "Epoch 24/50\n",
      "129/129 [==============================] - 15s 113ms/step - loss: 0.1149 - accuracy: 0.9467 - val_loss: 0.1451 - val_accuracy: 0.9347\n",
      "Epoch 25/50\n",
      "129/129 [==============================] - 15s 113ms/step - loss: 0.1113 - accuracy: 0.9492 - val_loss: 0.1349 - val_accuracy: 0.9430\n",
      "Epoch 26/50\n",
      "129/129 [==============================] - 16s 121ms/step - loss: 0.1069 - accuracy: 0.9477 - val_loss: 0.1308 - val_accuracy: 0.9396\n",
      "Epoch 27/50\n",
      "129/129 [==============================] - 16s 127ms/step - loss: 0.1044 - accuracy: 0.9511 - val_loss: 0.1676 - val_accuracy: 0.9270\n",
      "Epoch 28/50\n",
      "129/129 [==============================] - 16s 120ms/step - loss: 0.1011 - accuracy: 0.9490 - val_loss: 0.1233 - val_accuracy: 0.9586\n",
      "Epoch 29/50\n",
      "129/129 [==============================] - 15s 120ms/step - loss: 0.0997 - accuracy: 0.9516 - val_loss: 0.1478 - val_accuracy: 0.9352\n",
      "Epoch 30/50\n",
      "129/129 [==============================] - 15s 113ms/step - loss: 0.0976 - accuracy: 0.9502 - val_loss: 0.1399 - val_accuracy: 0.9321\n",
      "Epoch 31/50\n",
      "129/129 [==============================] - 14s 112ms/step - loss: 0.0969 - accuracy: 0.9501 - val_loss: 0.1747 - val_accuracy: 0.9116\n",
      "Epoch 32/50\n",
      "129/129 [==============================] - 16s 121ms/step - loss: 0.0960 - accuracy: 0.9515 - val_loss: 0.1482 - val_accuracy: 0.9296\n",
      "Epoch 33/50\n",
      "129/129 [==============================] - 15s 120ms/step - loss: 0.1004 - accuracy: 0.9508 - val_loss: 0.1502 - val_accuracy: 0.9335\n",
      "Epoch 34/50\n",
      "129/129 [==============================] - 15s 120ms/step - loss: 0.0983 - accuracy: 0.9493 - val_loss: 0.1353 - val_accuracy: 0.9547\n",
      "Epoch 35/50\n",
      "129/129 [==============================] - 16s 128ms/step - loss: 0.0927 - accuracy: 0.9519 - val_loss: 0.1645 - val_accuracy: 0.9231\n",
      "Epoch 36/50\n",
      "129/129 [==============================] - 14s 112ms/step - loss: 0.0934 - accuracy: 0.9528 - val_loss: 0.1309 - val_accuracy: 0.9498\n",
      "Epoch 37/50\n",
      "129/129 [==============================] - 14s 112ms/step - loss: 0.0900 - accuracy: 0.9516 - val_loss: 0.1375 - val_accuracy: 0.9347\n",
      "Epoch 38/50\n",
      "129/129 [==============================] - 15s 120ms/step - loss: 0.0904 - accuracy: 0.9522 - val_loss: 0.1702 - val_accuracy: 0.9165\n",
      "Epoch 39/50\n",
      "129/129 [==============================] - 14s 112ms/step - loss: 0.0947 - accuracy: 0.9515 - val_loss: 0.1582 - val_accuracy: 0.9291\n",
      "Epoch 40/50\n",
      "129/129 [==============================] - 15s 120ms/step - loss: 0.0996 - accuracy: 0.9502 - val_loss: 0.1516 - val_accuracy: 0.9308\n",
      "Epoch 41/50\n",
      "129/129 [==============================] - 14s 112ms/step - loss: 0.0920 - accuracy: 0.9514 - val_loss: 0.1572 - val_accuracy: 0.9270\n",
      "Epoch 42/50\n",
      "129/129 [==============================] - 16s 120ms/step - loss: 0.0857 - accuracy: 0.9549 - val_loss: 0.1634 - val_accuracy: 0.9235\n",
      "Epoch 43/50\n",
      "129/129 [==============================] - 15s 113ms/step - loss: 0.0860 - accuracy: 0.9553 - val_loss: 0.1418 - val_accuracy: 0.9352\n",
      "Epoch 44/50\n",
      "129/129 [==============================] - 16s 128ms/step - loss: 0.0844 - accuracy: 0.9531 - val_loss: 0.1425 - val_accuracy: 0.9396\n",
      "Epoch 45/50\n",
      "129/129 [==============================] - 16s 121ms/step - loss: 0.0842 - accuracy: 0.9542 - val_loss: 0.1519 - val_accuracy: 0.9326\n",
      "Epoch 46/50\n",
      "129/129 [==============================] - 15s 114ms/step - loss: 0.0822 - accuracy: 0.9545 - val_loss: 0.1335 - val_accuracy: 0.9399\n",
      "Epoch 47/50\n",
      "129/129 [==============================] - 16s 121ms/step - loss: 0.0806 - accuracy: 0.9568 - val_loss: 0.1927 - val_accuracy: 0.9097\n",
      "Epoch 48/50\n",
      "129/129 [==============================] - 16s 120ms/step - loss: 0.0867 - accuracy: 0.9528 - val_loss: 0.1551 - val_accuracy: 0.9148\n",
      "Epoch 49/50\n",
      "129/129 [==============================] - 16s 127ms/step - loss: 0.0813 - accuracy: 0.9556 - val_loss: 0.1528 - val_accuracy: 0.9262\n",
      "Epoch 50/50\n",
      "129/129 [==============================] - 17s 131ms/step - loss: 0.0800 - accuracy: 0.9551 - val_loss: 0.1488 - val_accuracy: 0.9221\n"
     ]
    }
   ],
   "source": [
    "#For the First Model\n",
    "model.compile(loss=\"sparse_categorical_crossentropy\",optimizer='adam',metrics=['accuracy'],run_eagerly=True)\n",
    "\n",
    "training_padded = np.asarray(training_padded).astype(np.int)\n",
    "training_labels = np.asarray(training_labels).astype(np.int)\n",
    "testing_padded = np.asarray(testing_padded).astype(np.int)\n",
    "testing_labels = np.asarray(testing_labels).astype(np.int)\n",
    "\n",
    "#training_padded = np.expand_dims(training_padded, axis=1)\n",
    "training_labels = np.expand_dims(training_labels, axis=1)\n",
    "#testing_padded = np.expand_dims(testing_padded, axis=1)\n",
    "testing_labels = np.expand_dims(testing_labels, axis=1)\n",
    "\n",
    "history = model.fit(training_padded, training_labels, batch_size=128, epochs=50, validation_data=(testing_padded, testing_labels), verbose=1)"
   ]
  },
  {
   "cell_type": "code",
   "execution_count": null,
   "metadata": {
    "id": "87O-L-vRBuy-"
   },
   "outputs": [],
   "source": [
    "#Epoch 50/50\n",
    "#129/129 [==============================] - 17s 131ms/step - loss: 0.0800 - accuracy: 0.9551 - val_loss: 0.1488 - val_accuracy: 0.9221\n",
    "#Epoch 2/2\n",
    "#129/129 [==============================] - 14s 111ms/step - loss: 0.0793 - accuracy: 0.9576 - val_loss: 0.1594 - val_accuracy: 0.9425"
   ]
  },
  {
   "cell_type": "code",
   "execution_count": 58,
   "metadata": {
    "id": "vFcGBuccVWcd"
   },
   "outputs": [],
   "source": [
    "model.save('Model1Balanced08.h5')"
   ]
  },
  {
   "cell_type": "code",
   "execution_count": 57,
   "metadata": {
    "colab": {
     "base_uri": "https://localhost:8080/"
    },
    "id": "ARtVuoWqY5Fn",
    "outputId": "5f36c2b3-eab5-480e-cdd9-cccc7ff3f935"
   },
   "outputs": [
    {
     "name": "stdout",
     "output_type": "stream",
     "text": [
      "Epoch 1/2\n",
      "129/129 [==============================] - 15s 119ms/step - loss: 0.0821 - accuracy: 0.9550 - val_loss: 0.1520 - val_accuracy: 0.9128\n",
      "Epoch 2/2\n",
      "129/129 [==============================] - 14s 111ms/step - loss: 0.0793 - accuracy: 0.9576 - val_loss: 0.1594 - val_accuracy: 0.9425\n"
     ]
    }
   ],
   "source": [
    "history = model.fit(training_padded, training_labels, batch_size=128, epochs=2, validation_data=(testing_padded, testing_labels), verbose=1)"
   ]
  },
  {
   "cell_type": "code",
   "execution_count": 29,
   "metadata": {
    "colab": {
     "base_uri": "https://localhost:8080/",
     "height": 1000
    },
    "id": "fpzHswneMSZv",
    "outputId": "0b45e2f5-e88f-4695-c86c-98e223490c29"
   },
   "outputs": [
    {
     "data": {
      "image/png": "[encoded data removed]",
      "text/plain": [
       "<IPython.core.display.Image object>"
      ]
     },
     "execution_count": 29,
     "metadata": {},
     "output_type": "execute_result"
    }
   ],
   "source": [
    "tf.keras.utils.plot_model(model, show_shapes=True)"
   ]
  },
  {
   "cell_type": "code",
   "execution_count": 59,
   "metadata": {
    "colab": {
     "base_uri": "https://localhost:8080/"
    },
    "id": "ctfA3AV-NbFv",
    "outputId": "0650c6c4-65bd-440c-9e7c-cbaccc0ce334"
   },
   "outputs": [
    {
     "name": "stdout",
     "output_type": "stream",
     "text": [
      "[[ 693   18   27]\n",
      " [  23 2956  161]\n",
      " [   4    3  222]]\n",
      "              precision    recall  f1-score   support\n",
      "\n",
      "           0       0.96      0.94      0.95       738\n",
      "           1       0.99      0.94      0.97      3140\n",
      "           2       0.54      0.97      0.69       229\n",
      "\n",
      "    accuracy                           0.94      4107\n",
      "   macro avg       0.83      0.95      0.87      4107\n",
      "weighted avg       0.96      0.94      0.95      4107\n",
      "\n"
     ]
    }
   ],
   "source": [
    "from sklearn.metrics import confusion_matrix\n",
    "from sklearn.metrics import classification_report\n",
    "import numpy as np\n",
    "\n",
    "pred=model.predict(testing_padded)\n",
    "rounded_labels1=np.argmax(pred, axis=1).astype(int)\n",
    "cm = confusion_matrix(testing_labels, rounded_labels1)\n",
    "print(cm)\n",
    "print(classification_report(testing_labels, rounded_labels1, labels=[0,1,2]))"
   ]
  },
  {
   "cell_type": "code",
   "execution_count": 64,
   "metadata": {
    "colab": {
     "base_uri": "https://localhost:8080/"
    },
    "id": "XP0QbLyyJiJl",
    "outputId": "f402786c-307e-4a8d-8afe-d02cc21e7554"
   },
   "outputs": [
    {
     "name": "stdout",
     "output_type": "stream",
     "text": [
      "[[251 181 155]\n",
      " [  9 213  31]\n",
      " [  8 186 258]]\n",
      "              precision    recall  f1-score   support\n",
      "\n",
      "           0       0.94      0.43      0.59       587\n",
      "           1       0.37      0.84      0.51       253\n",
      "           2       0.58      0.57      0.58       452\n",
      "\n",
      "    accuracy                           0.56      1292\n",
      "   macro avg       0.63      0.61      0.56      1292\n",
      "weighted avg       0.70      0.56      0.57      1292\n",
      "\n"
     ]
    }
   ],
   "source": [
    "pred12=model.predict(testing_padded12)\n",
    "rounded_labels112=np.argmax(pred12, axis=1).astype(int)\n",
    "cm12 = confusion_matrix(testing_labels12, rounded_labels112)\n",
    "print(cm12)\n",
    "print(classification_report(testing_labels12, rounded_labels112, labels=[0,1,2]))"
   ]
  },
  {
   "cell_type": "code",
   "execution_count": 63,
   "metadata": {
    "colab": {
     "base_uri": "https://localhost:8080/"
    },
    "id": "xKHQnnggJ3PJ",
    "outputId": "d589f80d-5756-4611-c1f1-1224b9ad667f"
   },
   "outputs": [
    {
     "name": "stdout",
     "output_type": "stream",
     "text": [
      "[[  64    6  456]\n",
      " [   0    7    0]\n",
      " [   0    6 1301]]\n",
      "              precision    recall  f1-score   support\n",
      "\n",
      "           0       1.00      0.12      0.22       526\n",
      "           1       0.37      1.00      0.54         7\n",
      "           2       0.74      1.00      0.85      1307\n",
      "\n",
      "    accuracy                           0.75      1840\n",
      "   macro avg       0.70      0.71      0.53      1840\n",
      "weighted avg       0.81      0.75      0.67      1840\n",
      "\n"
     ]
    }
   ],
   "source": [
    "pred34=model.predict(testing_padded34)\n",
    "rounded_labels134=np.argmax(pred34, axis=1).astype(int)\n",
    "cm34 = confusion_matrix(testing_labels34, rounded_labels134)\n",
    "print(cm34)\n",
    "print(classification_report(testing_labels34, rounded_labels134, labels=[0,1,2]))"
   ]
  },
  {
   "cell_type": "code",
   "execution_count": 62,
   "metadata": {
    "colab": {
     "base_uri": "https://localhost:8080/"
    },
    "id": "8noH9-BkMA7s",
    "outputId": "e2dba23d-19fc-419d-8c98-9cda508e1c1b"
   },
   "outputs": [
    {
     "name": "stdout",
     "output_type": "stream",
     "text": [
      "[[2872  138 1025]\n",
      " [ 268  507  679]\n",
      " [  57  136 2634]]\n",
      "              precision    recall  f1-score   support\n",
      "\n",
      "           0       0.90      0.71      0.79      4035\n",
      "           1       0.65      0.35      0.45      1454\n",
      "           2       0.61      0.93      0.74      2827\n",
      "\n",
      "    accuracy                           0.72      8316\n",
      "   macro avg       0.72      0.66      0.66      8316\n",
      "weighted avg       0.76      0.72      0.71      8316\n",
      "\n"
     ]
    }
   ],
   "source": [
    "pred5=model.predict(testing_padded5)\n",
    "rounded_labels15=np.argmax(pred5, axis=1).astype(int)\n",
    "cm5 = confusion_matrix(testing_labels5, rounded_labels15)\n",
    "print(cm5)\n",
    "print(classification_report(testing_labels5, rounded_labels15, labels=[0,1,2]))"
   ]
  },
  {
   "cell_type": "code",
   "execution_count": 65,
   "metadata": {
    "colab": {
     "base_uri": "https://localhost:8080/",
     "height": 573
    },
    "id": "QXLyKWWv58Qd",
    "outputId": "e827152a-db53-4d76-8136-ca1039c01fed"
   },
   "outputs": [
    {
     "data": {
      "image/png": "[encoded data removed]",
      "text/plain": [
       "<Figure size 432x288 with 1 Axes>"
      ]
     },
     "metadata": {
      "needs_background": "light"
     },
     "output_type": "display_data"
    },
    {
     "data": {
      "image/png": "[encoded data removed]",
      "text/plain": [
       "<Figure size 432x288 with 1 Axes>"
      ]
     },
     "metadata": {
      "needs_background": "light"
     },
     "output_type": "display_data"
    }
   ],
   "source": [
    "import matplotlib.pyplot as plt\n",
    "import numpy\n",
    "# summarize history for accuracy\n",
    "plt.plot(history.history['loss'])\n",
    "plt.plot(history.history['val_loss'])\n",
    "plt.title('model loss')\n",
    "plt.ylabel('loss')\n",
    "plt.xlabel('epoch')\n",
    "plt.legend(['train', 'test'], loc='upper left')\n",
    "plt.show()\n",
    "# summarize history for loss\n",
    "plt.plot(history.history['accuracy'])\n",
    "plt.plot(history.history['val_accuracy'])\n",
    "plt.title('model accuracy')\n",
    "plt.ylabel('accuracy')\n",
    "plt.xlabel('epoch')\n",
    "plt.legend(['train', 'test'], loc='upper left')\n",
    "plt.show()"
   ]
  },
  {
   "cell_type": "markdown",
   "metadata": {
    "id": "2DGrTNt17GKc"
   },
   "source": [
    "##For the Second Model"
   ]
  },
  {
   "cell_type": "code",
   "execution_count": 36,
   "metadata": {
    "colab": {
     "base_uri": "https://localhost:8080/"
    },
    "id": "Vsv2gTUcITR-",
    "outputId": "bf2f7a05-dc4c-4923-bb1f-404c5f1597b0"
   },
   "outputs": [
    {
     "name": "stdout",
     "output_type": "stream",
     "text": [
      "Model: \"sequential_2\"\n",
      "_________________________________________________________________\n",
      " Layer (type)                Output Shape              Param #   \n",
      "=================================================================\n",
      " embedding_2 (Embedding)     (None, 207, 16)           638800    \n",
      "                                                                 \n",
      " conv1d_4 (Conv1D)           (None, 203, 128)          10368     \n",
      "                                                                 \n",
      " global_max_pooling1d (Globa  (None, 128)              0         \n",
      " lMaxPooling1D)                                                  \n",
      "                                                                 \n",
      " flatten_2 (Flatten)         (None, 128)               0         \n",
      "                                                                 \n",
      " dense_4 (Dense)             (None, 24)                3096      \n",
      "                                                                 \n",
      " dense_5 (Dense)             (None, 3)                 75        \n",
      "                                                                 \n",
      "=================================================================\n",
      "Total params: 652,339\n",
      "Trainable params: 652,339\n",
      "Non-trainable params: 0\n",
      "_________________________________________________________________\n"
     ]
    }
   ],
   "source": [
    "import tensorflow as tf\n",
    "model2 = tf.keras.Sequential([\n",
    "    tf.keras.layers.Embedding(vocab_size, embedding_dim, input_length=max_length),\n",
    "    tf.keras.layers.Conv1D(128, 5, activation='relu'),\n",
    "    tf.keras.layers.GlobalMaxPooling1D(),\n",
    "    tf.keras.layers.Flatten(),\n",
    "    tf.keras.layers.Dense(24, activation='relu'),\n",
    "    tf.keras.layers.Dense(units=3, activation='softmax')\n",
    "])\n",
    "model2.summary()"
   ]
  },
  {
   "cell_type": "code",
   "execution_count": 37,
   "metadata": {
    "colab": {
     "base_uri": "https://localhost:8080/"
    },
    "id": "-edaUQlH57pA",
    "outputId": "a3881979-1c1e-4def-e90f-0760b26537d5"
   },
   "outputs": [
    {
     "name": "stdout",
     "output_type": "stream",
     "text": [
      "Epoch 1/50\n",
      "129/129 [==============================] - 2s 13ms/step - loss: 0.9264 - accuracy: 0.5531 - val_loss: 1.0778 - val_accuracy: 0.2552\n",
      "Epoch 2/50\n",
      "129/129 [==============================] - 1s 8ms/step - loss: 0.5720 - accuracy: 0.7614 - val_loss: 0.6411 - val_accuracy: 0.7385\n",
      "Epoch 3/50\n",
      "129/129 [==============================] - 1s 7ms/step - loss: 0.4306 - accuracy: 0.8329 - val_loss: 0.4982 - val_accuracy: 0.7831\n",
      "Epoch 4/50\n",
      "129/129 [==============================] - 1s 7ms/step - loss: 0.3735 - accuracy: 0.8567 - val_loss: 0.4181 - val_accuracy: 0.8412\n",
      "Epoch 5/50\n",
      "129/129 [==============================] - 1s 7ms/step - loss: 0.3332 - accuracy: 0.8701 - val_loss: 0.5301 - val_accuracy: 0.7682\n",
      "Epoch 6/50\n",
      "129/129 [==============================] - 1s 7ms/step - loss: 0.3037 - accuracy: 0.8819 - val_loss: 0.3145 - val_accuracy: 0.8763\n",
      "Epoch 7/50\n",
      "129/129 [==============================] - 1s 7ms/step - loss: 0.2734 - accuracy: 0.8946 - val_loss: 0.2322 - val_accuracy: 0.9265\n",
      "Epoch 8/50\n",
      "129/129 [==============================] - 1s 7ms/step - loss: 0.2522 - accuracy: 0.8992 - val_loss: 0.2450 - val_accuracy: 0.9206\n",
      "Epoch 9/50\n",
      "129/129 [==============================] - 1s 7ms/step - loss: 0.2309 - accuracy: 0.9111 - val_loss: 0.2727 - val_accuracy: 0.8916\n",
      "Epoch 10/50\n",
      "129/129 [==============================] - 1s 7ms/step - loss: 0.2135 - accuracy: 0.9165 - val_loss: 0.2672 - val_accuracy: 0.8958\n",
      "Epoch 11/50\n",
      "129/129 [==============================] - 1s 6ms/step - loss: 0.1947 - accuracy: 0.9249 - val_loss: 0.2209 - val_accuracy: 0.9221\n",
      "Epoch 12/50\n",
      "129/129 [==============================] - 1s 7ms/step - loss: 0.1829 - accuracy: 0.9290 - val_loss: 0.2608 - val_accuracy: 0.8863\n",
      "Epoch 13/50\n",
      "129/129 [==============================] - 1s 6ms/step - loss: 0.1710 - accuracy: 0.9304 - val_loss: 0.2207 - val_accuracy: 0.9092\n",
      "Epoch 14/50\n",
      "129/129 [==============================] - 1s 6ms/step - loss: 0.1594 - accuracy: 0.9361 - val_loss: 0.2547 - val_accuracy: 0.8943\n",
      "Epoch 15/50\n",
      "129/129 [==============================] - 1s 7ms/step - loss: 0.1554 - accuracy: 0.9364 - val_loss: 0.2460 - val_accuracy: 0.8887\n",
      "Epoch 16/50\n",
      "129/129 [==============================] - 1s 6ms/step - loss: 0.1472 - accuracy: 0.9391 - val_loss: 0.1775 - val_accuracy: 0.9248\n",
      "Epoch 17/50\n",
      "129/129 [==============================] - 1s 6ms/step - loss: 0.1415 - accuracy: 0.9412 - val_loss: 0.1991 - val_accuracy: 0.9153\n",
      "Epoch 18/50\n",
      "129/129 [==============================] - 1s 7ms/step - loss: 0.1365 - accuracy: 0.9428 - val_loss: 0.1411 - val_accuracy: 0.9425\n",
      "Epoch 19/50\n",
      "129/129 [==============================] - 1s 7ms/step - loss: 0.1311 - accuracy: 0.9442 - val_loss: 0.1511 - val_accuracy: 0.9396\n",
      "Epoch 20/50\n",
      "129/129 [==============================] - 1s 6ms/step - loss: 0.1276 - accuracy: 0.9452 - val_loss: 0.1782 - val_accuracy: 0.9233\n",
      "Epoch 21/50\n",
      "129/129 [==============================] - 1s 7ms/step - loss: 0.1260 - accuracy: 0.9452 - val_loss: 0.1480 - val_accuracy: 0.9360\n",
      "Epoch 22/50\n",
      "129/129 [==============================] - 1s 7ms/step - loss: 0.1194 - accuracy: 0.9470 - val_loss: 0.1553 - val_accuracy: 0.9403\n",
      "Epoch 23/50\n",
      "129/129 [==============================] - 1s 6ms/step - loss: 0.1186 - accuracy: 0.9484 - val_loss: 0.1453 - val_accuracy: 0.9347\n",
      "Epoch 24/50\n",
      "129/129 [==============================] - 1s 7ms/step - loss: 0.1157 - accuracy: 0.9484 - val_loss: 0.1205 - val_accuracy: 0.9535\n",
      "Epoch 25/50\n",
      "129/129 [==============================] - 1s 7ms/step - loss: 0.1169 - accuracy: 0.9475 - val_loss: 0.1302 - val_accuracy: 0.9496\n",
      "Epoch 26/50\n",
      "129/129 [==============================] - 1s 6ms/step - loss: 0.1094 - accuracy: 0.9489 - val_loss: 0.1276 - val_accuracy: 0.9511\n",
      "Epoch 27/50\n",
      "129/129 [==============================] - 1s 7ms/step - loss: 0.1113 - accuracy: 0.9503 - val_loss: 0.1218 - val_accuracy: 0.9494\n",
      "Epoch 28/50\n",
      "129/129 [==============================] - 1s 7ms/step - loss: 0.1108 - accuracy: 0.9500 - val_loss: 0.1170 - val_accuracy: 0.9547\n",
      "Epoch 29/50\n",
      "129/129 [==============================] - 1s 7ms/step - loss: 0.1083 - accuracy: 0.9507 - val_loss: 0.1626 - val_accuracy: 0.9299\n",
      "Epoch 30/50\n",
      "129/129 [==============================] - 1s 6ms/step - loss: 0.1070 - accuracy: 0.9511 - val_loss: 0.1546 - val_accuracy: 0.9369\n",
      "Epoch 31/50\n",
      "129/129 [==============================] - 1s 7ms/step - loss: 0.1053 - accuracy: 0.9502 - val_loss: 0.1610 - val_accuracy: 0.9294\n",
      "Epoch 32/50\n",
      "129/129 [==============================] - 1s 6ms/step - loss: 0.1061 - accuracy: 0.9498 - val_loss: 0.1319 - val_accuracy: 0.9486\n",
      "Epoch 33/50\n",
      "129/129 [==============================] - 1s 6ms/step - loss: 0.1050 - accuracy: 0.9517 - val_loss: 0.1089 - val_accuracy: 0.9640\n",
      "Epoch 34/50\n",
      "129/129 [==============================] - 1s 6ms/step - loss: 0.1046 - accuracy: 0.9508 - val_loss: 0.1264 - val_accuracy: 0.9442\n",
      "Epoch 35/50\n",
      "129/129 [==============================] - 1s 7ms/step - loss: 0.1018 - accuracy: 0.9511 - val_loss: 0.1453 - val_accuracy: 0.9364\n",
      "Epoch 36/50\n",
      "129/129 [==============================] - 1s 7ms/step - loss: 0.0999 - accuracy: 0.9533 - val_loss: 0.1450 - val_accuracy: 0.9374\n",
      "Epoch 37/50\n",
      "129/129 [==============================] - 1s 7ms/step - loss: 0.1000 - accuracy: 0.9523 - val_loss: 0.1244 - val_accuracy: 0.9494\n",
      "Epoch 38/50\n",
      "129/129 [==============================] - 1s 8ms/step - loss: 0.0999 - accuracy: 0.9526 - val_loss: 0.1619 - val_accuracy: 0.9294\n",
      "Epoch 39/50\n",
      "129/129 [==============================] - 1s 9ms/step - loss: 0.0984 - accuracy: 0.9523 - val_loss: 0.1270 - val_accuracy: 0.9459\n",
      "Epoch 40/50\n",
      "129/129 [==============================] - 1s 8ms/step - loss: 0.1013 - accuracy: 0.9517 - val_loss: 0.1431 - val_accuracy: 0.9355\n",
      "Epoch 41/50\n",
      "129/129 [==============================] - 1s 6ms/step - loss: 0.0962 - accuracy: 0.9525 - val_loss: 0.1374 - val_accuracy: 0.9406\n",
      "Epoch 42/50\n",
      "129/129 [==============================] - 1s 7ms/step - loss: 0.0952 - accuracy: 0.9540 - val_loss: 0.1361 - val_accuracy: 0.9382\n",
      "Epoch 43/50\n",
      "129/129 [==============================] - 1s 7ms/step - loss: 0.0962 - accuracy: 0.9529 - val_loss: 0.1116 - val_accuracy: 0.9557\n",
      "Epoch 44/50\n",
      "129/129 [==============================] - 1s 7ms/step - loss: 0.0956 - accuracy: 0.9530 - val_loss: 0.1303 - val_accuracy: 0.9411\n",
      "Epoch 45/50\n",
      "129/129 [==============================] - 1s 6ms/step - loss: 0.0953 - accuracy: 0.9534 - val_loss: 0.1975 - val_accuracy: 0.9175\n",
      "Epoch 46/50\n",
      "129/129 [==============================] - 1s 6ms/step - loss: 0.0958 - accuracy: 0.9533 - val_loss: 0.1345 - val_accuracy: 0.9357\n",
      "Epoch 47/50\n",
      "129/129 [==============================] - 1s 6ms/step - loss: 0.0944 - accuracy: 0.9533 - val_loss: 0.1903 - val_accuracy: 0.9209\n",
      "Epoch 48/50\n",
      "129/129 [==============================] - 1s 7ms/step - loss: 0.0935 - accuracy: 0.9520 - val_loss: 0.1283 - val_accuracy: 0.9511\n",
      "Epoch 49/50\n",
      "129/129 [==============================] - 1s 7ms/step - loss: 0.0934 - accuracy: 0.9535 - val_loss: 0.1184 - val_accuracy: 0.9486\n",
      "Epoch 50/50\n",
      "129/129 [==============================] - 1s 6ms/step - loss: 0.0928 - accuracy: 0.9549 - val_loss: 0.1237 - val_accuracy: 0.9445\n"
     ]
    }
   ],
   "source": [
    "model2.compile(loss=\"sparse_categorical_crossentropy\",optimizer='adam',metrics=['accuracy'])\n",
    "\n",
    "history = model2.fit(training_padded, training_labels, batch_size=128, epochs=50, validation_data=(testing_padded, testing_labels), verbose=1)"
   ]
  },
  {
   "cell_type": "code",
   "execution_count": null,
   "metadata": {
    "id": "ELYuX4V6V9HC"
   },
   "outputs": [],
   "source": [
    "#Epoch 50/50\n",
    "#129/129 [==============================] - 1s 6ms/step - loss: 0.0928 - accuracy: 0.9549 - val_loss: 0.1237 - val_accuracy: 0.9445"
   ]
  },
  {
   "cell_type": "code",
   "execution_count": 38,
   "metadata": {
    "id": "qV2xI0z5V6_Q"
   },
   "outputs": [],
   "source": [
    "model.save('Model2Balanced08.h5')"
   ]
  },
  {
   "cell_type": "code",
   "execution_count": 39,
   "metadata": {
    "colab": {
     "base_uri": "https://localhost:8080/",
     "height": 754
    },
    "id": "Djs_EiWq6Sc1",
    "outputId": "68ab65fd-bac4-42b7-804c-d1034152106f"
   },
   "outputs": [
    {
     "data": {
      "image/png": "[encoded data removed]",
      "text/plain": [
       "<IPython.core.display.Image object>"
      ]
     },
     "execution_count": 39,
     "metadata": {},
     "output_type": "execute_result"
    }
   ],
   "source": [
    "tf.keras.utils.plot_model(model2, show_shapes=True)"
   ]
  },
  {
   "cell_type": "code",
   "execution_count": 40,
   "metadata": {
    "colab": {
     "base_uri": "https://localhost:8080/"
    },
    "id": "5RAIZlNi58Ht",
    "outputId": "30ed3190-0589-45d0-c9eb-651aac6ad6e2"
   },
   "outputs": [
    {
     "name": "stdout",
     "output_type": "stream",
     "text": [
      "[[ 709    9   20]\n",
      " [ 100 2970   70]\n",
      " [  23    6  200]]\n",
      "              precision    recall  f1-score   support\n",
      "\n",
      "           0       0.85      0.96      0.90       738\n",
      "           1       0.99      0.95      0.97      3140\n",
      "           2       0.69      0.87      0.77       229\n",
      "\n",
      "    accuracy                           0.94      4107\n",
      "   macro avg       0.85      0.93      0.88      4107\n",
      "weighted avg       0.95      0.94      0.95      4107\n",
      "\n"
     ]
    }
   ],
   "source": [
    "pred1=model2.predict(testing_padded)\n",
    "\n",
    "pred11=[]\n",
    "for i in pred1:\n",
    "  if i[0]==max(i):\n",
    "    pred11.append(0)\n",
    "  elif i[1]==max(i):\n",
    "    pred11.append(1)\n",
    "  else:\n",
    "    pred11.append(2)\n",
    "#rounded_labels11=np.argmax(pred11, axis=1).astype(int)\n",
    "cm = confusion_matrix(testing_labels, pred11)\n",
    "print(cm)\n",
    "print(classification_report(testing_labels, pred11, labels=[0,1,2]))"
   ]
  },
  {
   "cell_type": "code",
   "execution_count": 41,
   "metadata": {
    "colab": {
     "base_uri": "https://localhost:8080/"
    },
    "id": "p7iWnGdoKkHJ",
    "outputId": "d19315f6-70d1-43d1-a4ce-26daad186dcc"
   },
   "outputs": [
    {
     "name": "stdout",
     "output_type": "stream",
     "text": [
      "[[337 128 122]\n",
      " [ 18 217  18]\n",
      " [ 41 164 247]]\n",
      "              precision    recall  f1-score   support\n",
      "\n",
      "           0       0.85      0.57      0.69       587\n",
      "           1       0.43      0.86      0.57       253\n",
      "           2       0.64      0.55      0.59       452\n",
      "\n",
      "    accuracy                           0.62      1292\n",
      "   macro avg       0.64      0.66      0.61      1292\n",
      "weighted avg       0.69      0.62      0.63      1292\n",
      "\n"
     ]
    }
   ],
   "source": [
    "pred12=model2.predict(testing_padded12)\n",
    "rounded_labels212=np.argmax(pred12, axis=1).astype(int)\n",
    "cm12 = confusion_matrix(testing_labels12, rounded_labels212)\n",
    "print(cm12)\n",
    "print(classification_report(testing_labels12, rounded_labels212, labels=[0,1,2]))"
   ]
  },
  {
   "cell_type": "code",
   "execution_count": 42,
   "metadata": {
    "colab": {
     "base_uri": "https://localhost:8080/"
    },
    "id": "t3trQk4OKw0Q",
    "outputId": "c7a4ac6a-df15-47ac-bf4c-a9f4b21db9d6"
   },
   "outputs": [
    {
     "name": "stdout",
     "output_type": "stream",
     "text": [
      "[[  96   13  417]\n",
      " [   0    7    0]\n",
      " [   4    2 1301]]\n",
      "              precision    recall  f1-score   support\n",
      "\n",
      "           0       0.96      0.18      0.31       526\n",
      "           1       0.32      1.00      0.48         7\n",
      "           2       0.76      1.00      0.86      1307\n",
      "\n",
      "    accuracy                           0.76      1840\n",
      "   macro avg       0.68      0.73      0.55      1840\n",
      "weighted avg       0.81      0.76      0.70      1840\n",
      "\n"
     ]
    }
   ],
   "source": [
    "pred34=model2.predict(testing_padded34)\n",
    "rounded_labels234=np.argmax(pred34, axis=1).astype(int)\n",
    "cm34 = confusion_matrix(testing_labels34, rounded_labels234)\n",
    "print(cm34)\n",
    "print(classification_report(testing_labels34, rounded_labels234, labels=[0,1,2]))"
   ]
  },
  {
   "cell_type": "code",
   "execution_count": 43,
   "metadata": {
    "colab": {
     "base_uri": "https://localhost:8080/"
    },
    "id": "YMHiBV5cMN_r",
    "outputId": "fab24aaf-3cb1-4829-ed04-c8560ca772f7"
   },
   "outputs": [
    {
     "name": "stdout",
     "output_type": "stream",
     "text": [
      "[[3059   87  889]\n",
      " [ 373  526  555]\n",
      " [  92  157 2578]]\n",
      "              precision    recall  f1-score   support\n",
      "\n",
      "           0       0.87      0.76      0.81      4035\n",
      "           1       0.68      0.36      0.47      1454\n",
      "           2       0.64      0.91      0.75      2827\n",
      "\n",
      "    accuracy                           0.74      8316\n",
      "   macro avg       0.73      0.68      0.68      8316\n",
      "weighted avg       0.76      0.74      0.73      8316\n",
      "\n"
     ]
    }
   ],
   "source": [
    "pred5=model2.predict(testing_padded5)\n",
    "rounded_labels25=np.argmax(pred5, axis=1).astype(int)\n",
    "cm5 = confusion_matrix(testing_labels5, rounded_labels25)\n",
    "print(cm5)\n",
    "print(classification_report(testing_labels5, rounded_labels25, labels=[0,1,2]))"
   ]
  },
  {
   "cell_type": "code",
   "execution_count": 44,
   "metadata": {
    "colab": {
     "base_uri": "https://localhost:8080/",
     "height": 573
    },
    "id": "R2WgOyeb_PHC",
    "outputId": "0bfe4e5f-795d-4c20-b5b1-2fc4147d9478"
   },
   "outputs": [
    {
     "data": {
      "image/png": "[encoded data removed]",
      "text/plain": [
       "<Figure size 432x288 with 1 Axes>"
      ]
     },
     "metadata": {
      "needs_background": "light"
     },
     "output_type": "display_data"
    },
    {
     "data": {
      "image/png": "[encoded data removed]",
      "text/plain": [
       "<Figure size 432x288 with 1 Axes>"
      ]
     },
     "metadata": {
      "needs_background": "light"
     },
     "output_type": "display_data"
    }
   ],
   "source": [
    "import matplotlib.pyplot as plt\n",
    "import numpy\n",
    "# summarize history for accuracy\n",
    "plt.plot(history.history['loss'])\n",
    "plt.plot(history.history['val_loss'])\n",
    "plt.title('model loss')\n",
    "plt.ylabel('loss')\n",
    "plt.xlabel('epoch')\n",
    "plt.legend(['train', 'test'], loc='upper left')\n",
    "plt.show()\n",
    "# summarize history for loss\n",
    "plt.plot(history.history['accuracy'])\n",
    "plt.plot(history.history['val_accuracy'])\n",
    "plt.title('model accuracy')\n",
    "plt.ylabel('accuracy')\n",
    "plt.xlabel('epoch')\n",
    "plt.legend(['train', 'test'], loc='upper left')\n",
    "plt.show()"
   ]
  },
  {
   "cell_type": "markdown",
   "metadata": {
    "id": "FRfELBgw7A3Z"
   },
   "source": [
    "##For The Third Model"
   ]
  },
  {
   "cell_type": "code",
   "execution_count": 45,
   "metadata": {
    "colab": {
     "base_uri": "https://localhost:8080/"
    },
    "id": "JvX2b2nORvKS",
    "outputId": "482d266e-a15f-4c69-d989-6fb9c9f6da83"
   },
   "outputs": [
    {
     "name": "stdout",
     "output_type": "stream",
     "text": [
      "Model: \"sequential_3\"\n",
      "_________________________________________________________________\n",
      " Layer (type)                Output Shape              Param #   \n",
      "=================================================================\n",
      " embedding_3 (Embedding)     (None, 207, 16)           638800    \n",
      "                                                                 \n",
      " bidirectional_6 (Bidirectio  (None, 64)               12544     \n",
      " nal)                                                            \n",
      "                                                                 \n",
      " flatten_3 (Flatten)         (None, 64)                0         \n",
      "                                                                 \n",
      " dense_6 (Dense)             (None, 24)                1560      \n",
      "                                                                 \n",
      " dense_7 (Dense)             (None, 3)                 75        \n",
      "                                                                 \n",
      "=================================================================\n",
      "Total params: 652,979\n",
      "Trainable params: 652,979\n",
      "Non-trainable params: 0\n",
      "_________________________________________________________________\n"
     ]
    }
   ],
   "source": [
    "model3 = tf.keras.Sequential([\n",
    "    tf.keras.layers.Embedding(vocab_size, embedding_dim, input_length=max_length),\n",
    "    tf.keras.layers.Bidirectional(tf.keras.layers.LSTM(32)),\n",
    "    tf.keras.layers.Flatten(),\n",
    "    tf.keras.layers.Dense(24, activation='relu'),\n",
    "    tf.keras.layers.Dense(3, activation='softmax')\n",
    "])\n",
    "model3.summary()"
   ]
  },
  {
   "cell_type": "code",
   "execution_count": 46,
   "metadata": {
    "colab": {
     "base_uri": "https://localhost:8080/"
    },
    "id": "El4d_GRU6x2l",
    "outputId": "1fe9de2a-b706-4e58-b672-e6688aab5ef6"
   },
   "outputs": [
    {
     "name": "stdout",
     "output_type": "stream",
     "text": [
      "Epoch 1/50\n",
      "129/129 [==============================] - 7s 28ms/step - loss: 0.9433 - accuracy: 0.5197 - val_loss: 0.9507 - val_accuracy: 0.2255\n",
      "Epoch 2/50\n",
      "129/129 [==============================] - 2s 19ms/step - loss: 0.6660 - accuracy: 0.7041 - val_loss: 0.7213 - val_accuracy: 0.6779\n",
      "Epoch 3/50\n",
      "129/129 [==============================] - 2s 19ms/step - loss: 0.5045 - accuracy: 0.8033 - val_loss: 0.6065 - val_accuracy: 0.7485\n",
      "Epoch 4/50\n",
      "129/129 [==============================] - 2s 19ms/step - loss: 0.4209 - accuracy: 0.8379 - val_loss: 0.5707 - val_accuracy: 0.7589\n",
      "Epoch 5/50\n",
      "129/129 [==============================] - 2s 19ms/step - loss: 0.3784 - accuracy: 0.8546 - val_loss: 0.4680 - val_accuracy: 0.7960\n",
      "Epoch 6/50\n",
      "129/129 [==============================] - 2s 19ms/step - loss: 0.3511 - accuracy: 0.8625 - val_loss: 0.3965 - val_accuracy: 0.8503\n",
      "Epoch 7/50\n",
      "129/129 [==============================] - 2s 19ms/step - loss: 0.3312 - accuracy: 0.8739 - val_loss: 0.4617 - val_accuracy: 0.8028\n",
      "Epoch 8/50\n",
      "129/129 [==============================] - 2s 19ms/step - loss: 0.3185 - accuracy: 0.8767 - val_loss: 0.3881 - val_accuracy: 0.8320\n",
      "Epoch 9/50\n",
      "129/129 [==============================] - 2s 19ms/step - loss: 0.3036 - accuracy: 0.8821 - val_loss: 0.3482 - val_accuracy: 0.8561\n",
      "Epoch 10/50\n",
      "129/129 [==============================] - 2s 19ms/step - loss: 0.2893 - accuracy: 0.8880 - val_loss: 0.3550 - val_accuracy: 0.8503\n",
      "Epoch 11/50\n",
      "129/129 [==============================] - 2s 19ms/step - loss: 0.2785 - accuracy: 0.8914 - val_loss: 0.2925 - val_accuracy: 0.8873\n",
      "Epoch 12/50\n",
      "129/129 [==============================] - 3s 23ms/step - loss: 0.2695 - accuracy: 0.8958 - val_loss: 0.2990 - val_accuracy: 0.8707\n",
      "Epoch 13/50\n",
      "129/129 [==============================] - 2s 19ms/step - loss: 0.2565 - accuracy: 0.9008 - val_loss: 0.3783 - val_accuracy: 0.8325\n",
      "Epoch 14/50\n",
      "129/129 [==============================] - 2s 19ms/step - loss: 0.2477 - accuracy: 0.9045 - val_loss: 0.3477 - val_accuracy: 0.8498\n",
      "Epoch 15/50\n",
      "129/129 [==============================] - 3s 19ms/step - loss: 0.2404 - accuracy: 0.9049 - val_loss: 0.2526 - val_accuracy: 0.9102\n",
      "Epoch 16/50\n",
      "129/129 [==============================] - 3s 19ms/step - loss: 0.2357 - accuracy: 0.9080 - val_loss: 0.2530 - val_accuracy: 0.9004\n",
      "Epoch 17/50\n",
      "129/129 [==============================] - 3s 19ms/step - loss: 0.2261 - accuracy: 0.9101 - val_loss: 0.2379 - val_accuracy: 0.9067\n",
      "Epoch 18/50\n",
      "129/129 [==============================] - 3s 20ms/step - loss: 0.2133 - accuracy: 0.9165 - val_loss: 0.2364 - val_accuracy: 0.9063\n",
      "Epoch 19/50\n",
      "129/129 [==============================] - 2s 19ms/step - loss: 0.2088 - accuracy: 0.9185 - val_loss: 0.2259 - val_accuracy: 0.9255\n",
      "Epoch 20/50\n",
      "129/129 [==============================] - 3s 19ms/step - loss: 0.2012 - accuracy: 0.9192 - val_loss: 0.2655 - val_accuracy: 0.8841\n",
      "Epoch 21/50\n",
      "129/129 [==============================] - 3s 20ms/step - loss: 0.1949 - accuracy: 0.9235 - val_loss: 0.2945 - val_accuracy: 0.8707\n",
      "Epoch 22/50\n",
      "129/129 [==============================] - 2s 19ms/step - loss: 0.1909 - accuracy: 0.9237 - val_loss: 0.2236 - val_accuracy: 0.9060\n",
      "Epoch 23/50\n",
      "129/129 [==============================] - 2s 19ms/step - loss: 0.1847 - accuracy: 0.9252 - val_loss: 0.2865 - val_accuracy: 0.8787\n",
      "Epoch 24/50\n",
      "129/129 [==============================] - 3s 19ms/step - loss: 0.1827 - accuracy: 0.9266 - val_loss: 0.3189 - val_accuracy: 0.8619\n",
      "Epoch 25/50\n",
      "129/129 [==============================] - 3s 20ms/step - loss: 0.1777 - accuracy: 0.9274 - val_loss: 0.2324 - val_accuracy: 0.9002\n",
      "Epoch 26/50\n",
      "129/129 [==============================] - 3s 19ms/step - loss: 0.1741 - accuracy: 0.9296 - val_loss: 0.2567 - val_accuracy: 0.8907\n",
      "Epoch 27/50\n",
      "129/129 [==============================] - 3s 20ms/step - loss: 0.1717 - accuracy: 0.9310 - val_loss: 0.2052 - val_accuracy: 0.9313\n",
      "Epoch 28/50\n",
      "129/129 [==============================] - 3s 19ms/step - loss: 0.1659 - accuracy: 0.9308 - val_loss: 0.2130 - val_accuracy: 0.9082\n",
      "Epoch 29/50\n",
      "129/129 [==============================] - 2s 19ms/step - loss: 0.1643 - accuracy: 0.9301 - val_loss: 0.1892 - val_accuracy: 0.9170\n",
      "Epoch 30/50\n",
      "129/129 [==============================] - 2s 19ms/step - loss: 0.1608 - accuracy: 0.9318 - val_loss: 0.2343 - val_accuracy: 0.8968\n",
      "Epoch 31/50\n",
      "129/129 [==============================] - 3s 19ms/step - loss: 0.1610 - accuracy: 0.9316 - val_loss: 0.1981 - val_accuracy: 0.9133\n",
      "Epoch 32/50\n",
      "129/129 [==============================] - 2s 19ms/step - loss: 0.1549 - accuracy: 0.9349 - val_loss: 0.2284 - val_accuracy: 0.8987\n",
      "Epoch 33/50\n",
      "129/129 [==============================] - 4s 35ms/step - loss: 0.1567 - accuracy: 0.9342 - val_loss: 0.1903 - val_accuracy: 0.9367\n",
      "Epoch 34/50\n",
      "129/129 [==============================] - 4s 31ms/step - loss: 0.1500 - accuracy: 0.9351 - val_loss: 0.2422 - val_accuracy: 0.8987\n",
      "Epoch 35/50\n",
      "129/129 [==============================] - 3s 24ms/step - loss: 0.1493 - accuracy: 0.9363 - val_loss: 0.2222 - val_accuracy: 0.9024\n",
      "Epoch 36/50\n",
      "129/129 [==============================] - 2s 19ms/step - loss: 0.1482 - accuracy: 0.9352 - val_loss: 0.1852 - val_accuracy: 0.9158\n",
      "Epoch 37/50\n",
      "129/129 [==============================] - 3s 20ms/step - loss: 0.1452 - accuracy: 0.9361 - val_loss: 0.2154 - val_accuracy: 0.9133\n",
      "Epoch 38/50\n",
      "129/129 [==============================] - 3s 20ms/step - loss: 0.1434 - accuracy: 0.9386 - val_loss: 0.2185 - val_accuracy: 0.9019\n",
      "Epoch 39/50\n",
      "129/129 [==============================] - 3s 19ms/step - loss: 0.1381 - accuracy: 0.9389 - val_loss: 0.1894 - val_accuracy: 0.9116\n",
      "Epoch 40/50\n",
      "129/129 [==============================] - 3s 20ms/step - loss: 0.1396 - accuracy: 0.9377 - val_loss: 0.1506 - val_accuracy: 0.9450\n",
      "Epoch 41/50\n",
      "129/129 [==============================] - 3s 20ms/step - loss: 0.1377 - accuracy: 0.9380 - val_loss: 0.1673 - val_accuracy: 0.9296\n",
      "Epoch 42/50\n",
      "129/129 [==============================] - 3s 20ms/step - loss: 0.1349 - accuracy: 0.9400 - val_loss: 0.2130 - val_accuracy: 0.9053\n",
      "Epoch 43/50\n",
      "129/129 [==============================] - 3s 19ms/step - loss: 0.1323 - accuracy: 0.9401 - val_loss: 0.1649 - val_accuracy: 0.9450\n",
      "Epoch 44/50\n",
      "129/129 [==============================] - 2s 19ms/step - loss: 0.1345 - accuracy: 0.9392 - val_loss: 0.1557 - val_accuracy: 0.9537\n",
      "Epoch 45/50\n",
      "129/129 [==============================] - 2s 19ms/step - loss: 0.1322 - accuracy: 0.9393 - val_loss: 0.1996 - val_accuracy: 0.9102\n",
      "Epoch 46/50\n",
      "129/129 [==============================] - 2s 19ms/step - loss: 0.1293 - accuracy: 0.9400 - val_loss: 0.1447 - val_accuracy: 0.9550\n",
      "Epoch 47/50\n",
      "129/129 [==============================] - 3s 19ms/step - loss: 0.1288 - accuracy: 0.9394 - val_loss: 0.1736 - val_accuracy: 0.9179\n",
      "Epoch 48/50\n",
      "129/129 [==============================] - 2s 19ms/step - loss: 0.1304 - accuracy: 0.9422 - val_loss: 0.2089 - val_accuracy: 0.9055\n",
      "Epoch 49/50\n",
      "129/129 [==============================] - 4s 28ms/step - loss: 0.1265 - accuracy: 0.9426 - val_loss: 0.1544 - val_accuracy: 0.9294\n",
      "Epoch 50/50\n",
      "129/129 [==============================] - 2s 19ms/step - loss: 0.1259 - accuracy: 0.9401 - val_loss: 0.1715 - val_accuracy: 0.9209\n"
     ]
    }
   ],
   "source": [
    "model3.compile(loss=\"sparse_categorical_crossentropy\",optimizer='adam',metrics=['accuracy'])\n",
    "history = model3.fit(training_padded, training_labels, batch_size=128, epochs=50, validation_data=(testing_padded, testing_labels), verbose=1)"
   ]
  },
  {
   "cell_type": "code",
   "execution_count": null,
   "metadata": {
    "id": "BHRXgvpCoku9"
   },
   "outputs": [],
   "source": [
    "#Epoch 50/50\n",
    "#129/129 [==============================] - 2s 19ms/step - loss: 0.1259 - accuracy: 0.9401 - val_loss: 0.1715 - val_accuracy: 0.9209"
   ]
  },
  {
   "cell_type": "code",
   "execution_count": 48,
   "metadata": {
    "id": "xac47tKAXYJT"
   },
   "outputs": [],
   "source": [
    "model.save('Model3Balanced08.h5')"
   ]
  },
  {
   "cell_type": "code",
   "execution_count": 47,
   "metadata": {
    "colab": {
     "base_uri": "https://localhost:8080/",
     "height": 644
    },
    "id": "1dVvLzBo61G8",
    "outputId": "9e5894c0-16a2-4c82-9e83-2cf103302726"
   },
   "outputs": [
    {
     "data": {
      "image/png": "[encoded data removed]",
      "text/plain": [
       "<IPython.core.display.Image object>"
      ]
     },
     "execution_count": 47,
     "metadata": {},
     "output_type": "execute_result"
    }
   ],
   "source": [
    "tf.keras.utils.plot_model(model3, show_shapes=True)"
   ]
  },
  {
   "cell_type": "code",
   "execution_count": 49,
   "metadata": {
    "colab": {
     "base_uri": "https://localhost:8080/"
    },
    "id": "Vg0RP9_k63Ri",
    "outputId": "e96b2b7f-49c7-4bae-84fd-0c5a0f00852b"
   },
   "outputs": [
    {
     "name": "stdout",
     "output_type": "stream",
     "text": [
      "[[ 691   15   32]\n",
      " [  91 2880  169]\n",
      " [  14    4  211]]\n",
      "              precision    recall  f1-score   support\n",
      "\n",
      "           0       0.87      0.94      0.90       738\n",
      "           1       0.99      0.92      0.95      3140\n",
      "           2       0.51      0.92      0.66       229\n",
      "\n",
      "    accuracy                           0.92      4107\n",
      "   macro avg       0.79      0.92      0.84      4107\n",
      "weighted avg       0.94      0.92      0.93      4107\n",
      "\n"
     ]
    }
   ],
   "source": [
    "pred3=model3.predict(testing_padded)\n",
    "rounded_labels3=np.argmax(pred3, axis=1).astype(int)\n",
    "cm2 = confusion_matrix(testing_labels, rounded_labels3)\n",
    "print(cm2)\n",
    "print(classification_report(testing_labels, rounded_labels3, labels=[0,1,2]))"
   ]
  },
  {
   "cell_type": "code",
   "execution_count": 50,
   "metadata": {
    "colab": {
     "base_uri": "https://localhost:8080/"
    },
    "id": "MfclteTGK-_x",
    "outputId": "1930ec46-3ded-4a25-af37-675af571cd33"
   },
   "outputs": [
    {
     "name": "stdout",
     "output_type": "stream",
     "text": [
      "[[301 112 174]\n",
      " [ 15 210  28]\n",
      " [ 25 145 282]]\n",
      "              precision    recall  f1-score   support\n",
      "\n",
      "           0       0.88      0.51      0.65       587\n",
      "           1       0.45      0.83      0.58       253\n",
      "           2       0.58      0.62      0.60       452\n",
      "\n",
      "    accuracy                           0.61      1292\n",
      "   macro avg       0.64      0.66      0.61      1292\n",
      "weighted avg       0.69      0.61      0.62      1292\n",
      "\n"
     ]
    }
   ],
   "source": [
    "pred12=model3.predict(testing_padded12)\n",
    "rounded_labels312=np.argmax(pred12, axis=1).astype(int)\n",
    "cm12 = confusion_matrix(testing_labels12, rounded_labels312)\n",
    "print(cm12)\n",
    "print(classification_report(testing_labels12, rounded_labels312, labels=[0,1,2]))"
   ]
  },
  {
   "cell_type": "code",
   "execution_count": 51,
   "metadata": {
    "colab": {
     "base_uri": "https://localhost:8080/"
    },
    "id": "zYydjCkILMG-",
    "outputId": "d16e5828-2a36-4859-bfd6-03ce4b8aa9ee"
   },
   "outputs": [
    {
     "name": "stdout",
     "output_type": "stream",
     "text": [
      "[[  85   20  421]\n",
      " [   0    7    0]\n",
      " [   4    2 1301]]\n",
      "              precision    recall  f1-score   support\n",
      "\n",
      "           0       0.96      0.16      0.28       526\n",
      "           1       0.24      1.00      0.39         7\n",
      "           2       0.76      1.00      0.86      1307\n",
      "\n",
      "    accuracy                           0.76      1840\n",
      "   macro avg       0.65      0.72      0.51      1840\n",
      "weighted avg       0.81      0.76      0.69      1840\n",
      "\n"
     ]
    }
   ],
   "source": [
    "pred34=model3.predict(testing_padded34)\n",
    "rounded_labels334=np.argmax(pred34, axis=1).astype(int)\n",
    "cm34 = confusion_matrix(testing_labels34, rounded_labels334)\n",
    "print(cm34)\n",
    "print(classification_report(testing_labels34, rounded_labels334, labels=[0,1,2]))"
   ]
  },
  {
   "cell_type": "code",
   "execution_count": 52,
   "metadata": {
    "colab": {
     "base_uri": "https://localhost:8080/"
    },
    "id": "WEXdC3JtMXBu",
    "outputId": "f86a315f-aa8b-4312-fbeb-59a96ae91a71"
   },
   "outputs": [
    {
     "name": "stdout",
     "output_type": "stream",
     "text": [
      "[[2967   89  979]\n",
      " [ 311  520  623]\n",
      " [  79  153 2595]]\n",
      "              precision    recall  f1-score   support\n",
      "\n",
      "           0       0.88      0.74      0.80      4035\n",
      "           1       0.68      0.36      0.47      1454\n",
      "           2       0.62      0.92      0.74      2827\n",
      "\n",
      "    accuracy                           0.73      8316\n",
      "   macro avg       0.73      0.67      0.67      8316\n",
      "weighted avg       0.76      0.73      0.72      8316\n",
      "\n"
     ]
    }
   ],
   "source": [
    "pred5=model3.predict(testing_padded5)\n",
    "rounded_labels35=np.argmax(pred5, axis=1).astype(int)\n",
    "cm5 = confusion_matrix(testing_labels5, rounded_labels35)\n",
    "print(cm5)\n",
    "print(classification_report(testing_labels5, rounded_labels35, labels=[0,1,2]))"
   ]
  },
  {
   "cell_type": "code",
   "execution_count": 53,
   "metadata": {
    "colab": {
     "base_uri": "https://localhost:8080/",
     "height": 573
    },
    "id": "ddbAtRKXatG3",
    "outputId": "abdc7688-cec4-4a3d-ca54-801813bcd1cd"
   },
   "outputs": [
    {
     "data": {
      "image/png": "[encoded data removed]",
      "text/plain": [
       "<Figure size 432x288 with 1 Axes>"
      ]
     },
     "metadata": {
      "needs_background": "light"
     },
     "output_type": "display_data"
    },
    {
     "data": {
      "image/png": "[encoded data removed]",
      "text/plain": [
       "<Figure size 432x288 with 1 Axes>"
      ]
     },
     "metadata": {
      "needs_background": "light"
     },
     "output_type": "display_data"
    }
   ],
   "source": [
    "import matplotlib.pyplot as plt\n",
    "import numpy\n",
    "# summarize history for accuracy\n",
    "plt.plot(history.history['loss'])\n",
    "plt.plot(history.history['val_loss'])\n",
    "plt.title('model loss')\n",
    "plt.ylabel('loss')\n",
    "plt.xlabel('epoch')\n",
    "plt.legend(['train', 'test'], loc='upper left')\n",
    "plt.show()\n",
    "# summarize history for loss\n",
    "plt.plot(history.history['accuracy'])\n",
    "plt.plot(history.history['val_accuracy'])\n",
    "plt.title('model accuracy')\n",
    "plt.ylabel('accuracy')\n",
    "plt.xlabel('epoch')\n",
    "plt.legend(['train', 'test'], loc='upper left')\n",
    "plt.show()"
   ]
  },
  {
   "cell_type": "markdown",
   "metadata": {
    "id": "__2IcBnQa-4Y"
   },
   "source": [
    "##Conclusion\n",
    "###The accuracy for the three models is 58% yet the complexity varies. The first model has 690 579 trainale parameters which makes it the most complex amongs the three of them with the second having 618 083 trainable parameters and the third having 618 739 trainable parameters.\n",
    "###After giving the problem a first look, we can suspect that:\n",
    "* This is a deep Learning Problem where we need more data and a bigger model so we can track the pattern and better the model's accuracy\n",
    "* Te model is not getting the pattern in the data well so this can be due to some data imbalence \n",
    "* We need to further explore our data and to create a bigger model"
   ]
  },
  {
   "cell_type": "markdown",
   "metadata": {
    "id": "5SNCH0-6Eq4I"
   },
   "source": [
    "#Terms\n",
    "##BURT: is a transformar model\n",
    "##Sentiment Classification: A prabability distrubution over two classes\n",
    "##Text Encoding: How to encode the texts into a numerical presentation that we can be handled by the machine learning model\n",
    "##Transformers: The State-Of-The-Art architecture for language modeling\n",
    "#Word2vec: 2013, The Model that introduced distributed representations for language modeling"
   ]
  }
 ],
 "metadata": {
  "accelerator": "GPU",
  "colab": {
   "collapsed_sections": [
    "-CRh9Gqc7KxQ",
    "2DGrTNt17GKc",
    "FRfELBgw7A3Z"
   ],
   "include_colab_link": true,
   "name": "CCK Project Primary work.ipynb",
   "provenance": []
  },
  "gpuClass": "standard",
  "kernelspec": {
   "display_name": "Python 3 (ipykernel)",
   "language": "python",
   "name": "python3"
  },
  "language_info": {
   "codemirror_mode": {
    "name": "ipython",
    "version": 3
   },
   "file_extension": ".py",
   "mimetype": "text/x-python",
   "name": "python",
   "nbconvert_exporter": "python",
   "pygments_lexer": "ipython3",
   "version": "3.10.3"
  }
 },
 "nbformat": 4,
 "nbformat_minor": 1
}
