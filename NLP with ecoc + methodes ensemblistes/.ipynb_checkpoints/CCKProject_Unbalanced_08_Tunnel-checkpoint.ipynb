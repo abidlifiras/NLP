{
 "cells": [
  {
   "cell_type": "markdown",
   "metadata": {
    "colab_type": "text",
    "id": "view-in-github"
   },
   "source": [
    "<a href=\"https://colab.research.google.com/github/ImenMasmoudiEm/CCKInternshipProject/blob/main/CCKProject_Unbalanced_08_Tunnel.ipynb\" target=\"_parent\"><img src=\"https://colab.research.google.com/assets/colab-badge.svg\" alt=\"Open In Colab\"/></a>"
   ]
  },
  {
   "cell_type": "markdown",
   "metadata": {
    "id": "Iiruy8t57ISt"
   },
   "source": [
    "# Text Classification: Primary work"
   ]
  },
  {
   "cell_type": "markdown",
   "metadata": {
    "id": "6A7gIEXP7oqV"
   },
   "source": [
    "##Connecting to drive & importing data"
   ]
  },
  {
   "cell_type": "code",
   "execution_count": 1,
   "metadata": {
    "colab": {
     "base_uri": "https://localhost:8080/"
    },
    "id": "KwJf5Jnk9iw8",
    "outputId": "acc2006d-d022-41da-cc6a-9ac1c397f00e"
   },
   "outputs": [
    {
     "name": "stdout",
     "output_type": "stream",
     "text": [
      "Mounted at /content/drive\n"
     ]
    }
   ],
   "source": [
    "from google.colab import drive\n",
    "drive.mount('/content/drive')"
   ]
  },
  {
   "cell_type": "code",
   "execution_count": 2,
   "metadata": {
    "id": "u6Xmp6Sf7Ay4"
   },
   "outputs": [],
   "source": [
    "import os \n",
    "os.chdir('/content/drive/MyDrive/All/Projects/Ing Internship/Data')"
   ]
  },
  {
   "cell_type": "code",
   "execution_count": 3,
   "metadata": {
    "colab": {
     "base_uri": "https://localhost:8080/",
     "height": 0
    },
    "id": "hjV2FNxa-FDa",
    "outputId": "7cac20eb-ccd0-404c-90ac-51bddb261cfc"
   },
   "outputs": [
    {
     "data": {
      "text/html": [
       "\n",
       "  <div id=\"df-7beb740b-e6b6-4353-a612-902c3512e2e4\">\n",
       "    <div class=\"colab-df-container\">\n",
       "      <div>\n",
       "<style scoped>\n",
       "    .dataframe tbody tr th:only-of-type {\n",
       "        vertical-align: middle;\n",
       "    }\n",
       "\n",
       "    .dataframe tbody tr th {\n",
       "        vertical-align: top;\n",
       "    }\n",
       "\n",
       "    .dataframe thead th {\n",
       "        text-align: right;\n",
       "    }\n",
       "</style>\n",
       "<table border=\"1\" class=\"dataframe\">\n",
       "  <thead>\n",
       "    <tr style=\"text-align: right;\">\n",
       "      <th></th>\n",
       "      <th>commentaire</th>\n",
       "      <th>classe</th>\n",
       "    </tr>\n",
       "  </thead>\n",
       "  <tbody>\n",
       "    <tr>\n",
       "      <th>0</th>\n",
       "      <td>مبروك و سامحونا لعجزنا التام. عقبال اللي جوه. ...</td>\n",
       "      <td>normal</td>\n",
       "    </tr>\n",
       "    <tr>\n",
       "      <th>1</th>\n",
       "      <td>كلنا بره ومش هنبطل نزايد على العجايز الي جابون...</td>\n",
       "      <td>hate</td>\n",
       "    </tr>\n",
       "    <tr>\n",
       "      <th>2</th>\n",
       "      <td>بدل ما انت قاعد بره كده تعالي ازرع الصحرا</td>\n",
       "      <td>normal</td>\n",
       "    </tr>\n",
       "    <tr>\n",
       "      <th>3</th>\n",
       "      <td>قذر اتفووو ماتيجى مصر وتورينا نفسك كدا ياجبان</td>\n",
       "      <td>hate</td>\n",
       "    </tr>\n",
       "    <tr>\n",
       "      <th>4</th>\n",
       "      <td>وهكذا رجال الشو اللي محرومين من عمل برنامج الغ...</td>\n",
       "      <td>hate</td>\n",
       "    </tr>\n",
       "    <tr>\n",
       "      <th>...</th>\n",
       "      <td>...</td>\n",
       "      <td>...</td>\n",
       "    </tr>\n",
       "    <tr>\n",
       "      <th>23028</th>\n",
       "      <td>يلا ولا خنزير الله يرحم صدام حسين لي كان داعسكن</td>\n",
       "      <td>hate</td>\n",
       "    </tr>\n",
       "    <tr>\n",
       "      <th>23029</th>\n",
       "      <td>وبلدك سوريا لا تبغي سوا القتل والاجرام</td>\n",
       "      <td>hate</td>\n",
       "    </tr>\n",
       "    <tr>\n",
       "      <th>23030</th>\n",
       "      <td>معالي الوزير نؤمن بك دائما لأنك الدرع المنيع ف...</td>\n",
       "      <td>normal</td>\n",
       "    </tr>\n",
       "    <tr>\n",
       "      <th>23031</th>\n",
       "      <td>حياة سندي مستشارة امين عام الامم المتحدة بان ك...</td>\n",
       "      <td>normal</td>\n",
       "    </tr>\n",
       "    <tr>\n",
       "      <th>23032</th>\n",
       "      <td>انت يا جبران باسيل بعقليتك الفجة النتنة تقولرب...</td>\n",
       "      <td>hate</td>\n",
       "    </tr>\n",
       "  </tbody>\n",
       "</table>\n",
       "<p>23033 rows × 2 columns</p>\n",
       "</div>\n",
       "      <button class=\"colab-df-convert\" onclick=\"convertToInteractive('df-7beb740b-e6b6-4353-a612-902c3512e2e4')\"\n",
       "              title=\"Convert this dataframe to an interactive table.\"\n",
       "              style=\"display:none;\">\n",
       "        \n",
       "  <svg xmlns=\"http://www.w3.org/2000/svg\" height=\"24px\"viewBox=\"0 0 24 24\"\n",
       "       width=\"24px\">\n",
       "    <path d=\"M0 0h24v24H0V0z\" fill=\"none\"/>\n",
       "    <path d=\"M18.56 5.44l.94 2.06.94-2.06 2.06-.94-2.06-.94-.94-2.06-.94 2.06-2.06.94zm-11 1L8.5 8.5l.94-2.06 2.06-.94-2.06-.94L8.5 2.5l-.94 2.06-2.06.94zm10 10l.94 2.06.94-2.06 2.06-.94-2.06-.94-.94-2.06-.94 2.06-2.06.94z\"/><path d=\"M17.41 7.96l-1.37-1.37c-.4-.4-.92-.59-1.43-.59-.52 0-1.04.2-1.43.59L10.3 9.45l-7.72 7.72c-.78.78-.78 2.05 0 2.83L4 21.41c.39.39.9.59 1.41.59.51 0 1.02-.2 1.41-.59l7.78-7.78 2.81-2.81c.8-.78.8-2.07 0-2.86zM5.41 20L4 18.59l7.72-7.72 1.47 1.35L5.41 20z\"/>\n",
       "  </svg>\n",
       "      </button>\n",
       "      \n",
       "  <style>\n",
       "    .colab-df-container {\n",
       "      display:flex;\n",
       "      flex-wrap:wrap;\n",
       "      gap: 12px;\n",
       "    }\n",
       "\n",
       "    .colab-df-convert {\n",
       "      background-color: #E8F0FE;\n",
       "      border: none;\n",
       "      border-radius: 50%;\n",
       "      cursor: pointer;\n",
       "      display: none;\n",
       "      fill: #1967D2;\n",
       "      height: 32px;\n",
       "      padding: 0 0 0 0;\n",
       "      width: 32px;\n",
       "    }\n",
       "\n",
       "    .colab-df-convert:hover {\n",
       "      background-color: #E2EBFA;\n",
       "      box-shadow: 0px 1px 2px rgba(60, 64, 67, 0.3), 0px 1px 3px 1px rgba(60, 64, 67, 0.15);\n",
       "      fill: #174EA6;\n",
       "    }\n",
       "\n",
       "    [theme=dark] .colab-df-convert {\n",
       "      background-color: #3B4455;\n",
       "      fill: #D2E3FC;\n",
       "    }\n",
       "\n",
       "    [theme=dark] .colab-df-convert:hover {\n",
       "      background-color: #434B5C;\n",
       "      box-shadow: 0px 1px 3px 1px rgba(0, 0, 0, 0.15);\n",
       "      filter: drop-shadow(0px 1px 2px rgba(0, 0, 0, 0.3));\n",
       "      fill: #FFFFFF;\n",
       "    }\n",
       "  </style>\n",
       "\n",
       "      <script>\n",
       "        const buttonEl =\n",
       "          document.querySelector('#df-7beb740b-e6b6-4353-a612-902c3512e2e4 button.colab-df-convert');\n",
       "        buttonEl.style.display =\n",
       "          google.colab.kernel.accessAllowed ? 'block' : 'none';\n",
       "\n",
       "        async function convertToInteractive(key) {\n",
       "          const element = document.querySelector('#df-7beb740b-e6b6-4353-a612-902c3512e2e4');\n",
       "          const dataTable =\n",
       "            await google.colab.kernel.invokeFunction('convertToInteractive',\n",
       "                                                     [key], {});\n",
       "          if (!dataTable) return;\n",
       "\n",
       "          const docLinkHtml = 'Like what you see? Visit the ' +\n",
       "            '<a target=\"_blank\" href=https://colab.research.google.com/notebooks/data_table.ipynb>data table notebook</a>'\n",
       "            + ' to learn more about interactive tables.';\n",
       "          element.innerHTML = '';\n",
       "          dataTable['output_type'] = 'display_data';\n",
       "          await google.colab.output.renderOutput(dataTable, element);\n",
       "          const docLink = document.createElement('div');\n",
       "          docLink.innerHTML = docLinkHtml;\n",
       "          element.appendChild(docLink);\n",
       "        }\n",
       "      </script>\n",
       "    </div>\n",
       "  </div>\n",
       "  "
      ],
      "text/plain": [
       "                                             commentaire  classe\n",
       "0      مبروك و سامحونا لعجزنا التام. عقبال اللي جوه. ...  normal\n",
       "1      كلنا بره ومش هنبطل نزايد على العجايز الي جابون...    hate\n",
       "2              بدل ما انت قاعد بره كده تعالي ازرع الصحرا  normal\n",
       "3          قذر اتفووو ماتيجى مصر وتورينا نفسك كدا ياجبان    hate\n",
       "4      وهكذا رجال الشو اللي محرومين من عمل برنامج الغ...    hate\n",
       "...                                                  ...     ...\n",
       "23028    يلا ولا خنزير الله يرحم صدام حسين لي كان داعسكن    hate\n",
       "23029            وبلدك سوريا لا تبغي سوا القتل والاجرام     hate\n",
       "23030  معالي الوزير نؤمن بك دائما لأنك الدرع المنيع ف...  normal\n",
       "23031  حياة سندي مستشارة امين عام الامم المتحدة بان ك...  normal\n",
       "23032  انت يا جبران باسيل بعقليتك الفجة النتنة تقولرب...    hate\n",
       "\n",
       "[23033 rows x 2 columns]"
      ]
     },
     "execution_count": 3,
     "metadata": {},
     "output_type": "execute_result"
    }
   ],
   "source": [
    "import pandas as pd\n",
    "data=pd.read_excel(\"/content/drive/MyDrive/All/Projects/Ing Internship/Data/final-dataset.xlsx\")\n",
    "data"
   ]
  },
  {
   "cell_type": "markdown",
   "metadata": {
    "id": "E78jh1K4ATql"
   },
   "source": [
    "##Data Preprocessing"
   ]
  },
  {
   "cell_type": "markdown",
   "metadata": {
    "id": "4WPH66dgAsdv"
   },
   "source": [
    "1/ Changing the Class into bin"
   ]
  },
  {
   "cell_type": "code",
   "execution_count": 4,
   "metadata": {
    "id": "g0G8MT47A3Z_"
   },
   "outputs": [],
   "source": [
    "data['classe']=data['classe'].replace(\"hate\", int(2))\n",
    "data['classe']=data['classe'].replace(\"normal\", int(0)) \n",
    "data['classe']=data['classe'].replace(\"abusive\", int(1))"
   ]
  },
  {
   "cell_type": "code",
   "execution_count": 5,
   "metadata": {
    "colab": {
     "base_uri": "https://localhost:8080/",
     "height": 0
    },
    "id": "1Ml3TDjMBley",
    "outputId": "1d0fe11e-71a5-40b0-9dc3-b963c1dd7266"
   },
   "outputs": [
    {
     "data": {
      "text/html": [
       "\n",
       "  <div id=\"df-cd1581c4-8b24-4dff-a125-5f5a80ae787a\">\n",
       "    <div class=\"colab-df-container\">\n",
       "      <div>\n",
       "<style scoped>\n",
       "    .dataframe tbody tr th:only-of-type {\n",
       "        vertical-align: middle;\n",
       "    }\n",
       "\n",
       "    .dataframe tbody tr th {\n",
       "        vertical-align: top;\n",
       "    }\n",
       "\n",
       "    .dataframe thead th {\n",
       "        text-align: right;\n",
       "    }\n",
       "</style>\n",
       "<table border=\"1\" class=\"dataframe\">\n",
       "  <thead>\n",
       "    <tr style=\"text-align: right;\">\n",
       "      <th></th>\n",
       "      <th>commentaire</th>\n",
       "      <th>classe</th>\n",
       "    </tr>\n",
       "  </thead>\n",
       "  <tbody>\n",
       "    <tr>\n",
       "      <th>0</th>\n",
       "      <td>مبروك و سامحونا لعجزنا التام. عقبال اللي جوه. ...</td>\n",
       "      <td>0</td>\n",
       "    </tr>\n",
       "    <tr>\n",
       "      <th>1</th>\n",
       "      <td>كلنا بره ومش هنبطل نزايد على العجايز الي جابون...</td>\n",
       "      <td>2</td>\n",
       "    </tr>\n",
       "    <tr>\n",
       "      <th>2</th>\n",
       "      <td>بدل ما انت قاعد بره كده تعالي ازرع الصحرا</td>\n",
       "      <td>0</td>\n",
       "    </tr>\n",
       "    <tr>\n",
       "      <th>3</th>\n",
       "      <td>قذر اتفووو ماتيجى مصر وتورينا نفسك كدا ياجبان</td>\n",
       "      <td>2</td>\n",
       "    </tr>\n",
       "    <tr>\n",
       "      <th>4</th>\n",
       "      <td>وهكذا رجال الشو اللي محرومين من عمل برنامج الغ...</td>\n",
       "      <td>2</td>\n",
       "    </tr>\n",
       "    <tr>\n",
       "      <th>...</th>\n",
       "      <td>...</td>\n",
       "      <td>...</td>\n",
       "    </tr>\n",
       "    <tr>\n",
       "      <th>23028</th>\n",
       "      <td>يلا ولا خنزير الله يرحم صدام حسين لي كان داعسكن</td>\n",
       "      <td>2</td>\n",
       "    </tr>\n",
       "    <tr>\n",
       "      <th>23029</th>\n",
       "      <td>وبلدك سوريا لا تبغي سوا القتل والاجرام</td>\n",
       "      <td>2</td>\n",
       "    </tr>\n",
       "    <tr>\n",
       "      <th>23030</th>\n",
       "      <td>معالي الوزير نؤمن بك دائما لأنك الدرع المنيع ف...</td>\n",
       "      <td>0</td>\n",
       "    </tr>\n",
       "    <tr>\n",
       "      <th>23031</th>\n",
       "      <td>حياة سندي مستشارة امين عام الامم المتحدة بان ك...</td>\n",
       "      <td>0</td>\n",
       "    </tr>\n",
       "    <tr>\n",
       "      <th>23032</th>\n",
       "      <td>انت يا جبران باسيل بعقليتك الفجة النتنة تقولرب...</td>\n",
       "      <td>2</td>\n",
       "    </tr>\n",
       "  </tbody>\n",
       "</table>\n",
       "<p>23033 rows × 2 columns</p>\n",
       "</div>\n",
       "      <button class=\"colab-df-convert\" onclick=\"convertToInteractive('df-cd1581c4-8b24-4dff-a125-5f5a80ae787a')\"\n",
       "              title=\"Convert this dataframe to an interactive table.\"\n",
       "              style=\"display:none;\">\n",
       "        \n",
       "  <svg xmlns=\"http://www.w3.org/2000/svg\" height=\"24px\"viewBox=\"0 0 24 24\"\n",
       "       width=\"24px\">\n",
       "    <path d=\"M0 0h24v24H0V0z\" fill=\"none\"/>\n",
       "    <path d=\"M18.56 5.44l.94 2.06.94-2.06 2.06-.94-2.06-.94-.94-2.06-.94 2.06-2.06.94zm-11 1L8.5 8.5l.94-2.06 2.06-.94-2.06-.94L8.5 2.5l-.94 2.06-2.06.94zm10 10l.94 2.06.94-2.06 2.06-.94-2.06-.94-.94-2.06-.94 2.06-2.06.94z\"/><path d=\"M17.41 7.96l-1.37-1.37c-.4-.4-.92-.59-1.43-.59-.52 0-1.04.2-1.43.59L10.3 9.45l-7.72 7.72c-.78.78-.78 2.05 0 2.83L4 21.41c.39.39.9.59 1.41.59.51 0 1.02-.2 1.41-.59l7.78-7.78 2.81-2.81c.8-.78.8-2.07 0-2.86zM5.41 20L4 18.59l7.72-7.72 1.47 1.35L5.41 20z\"/>\n",
       "  </svg>\n",
       "      </button>\n",
       "      \n",
       "  <style>\n",
       "    .colab-df-container {\n",
       "      display:flex;\n",
       "      flex-wrap:wrap;\n",
       "      gap: 12px;\n",
       "    }\n",
       "\n",
       "    .colab-df-convert {\n",
       "      background-color: #E8F0FE;\n",
       "      border: none;\n",
       "      border-radius: 50%;\n",
       "      cursor: pointer;\n",
       "      display: none;\n",
       "      fill: #1967D2;\n",
       "      height: 32px;\n",
       "      padding: 0 0 0 0;\n",
       "      width: 32px;\n",
       "    }\n",
       "\n",
       "    .colab-df-convert:hover {\n",
       "      background-color: #E2EBFA;\n",
       "      box-shadow: 0px 1px 2px rgba(60, 64, 67, 0.3), 0px 1px 3px 1px rgba(60, 64, 67, 0.15);\n",
       "      fill: #174EA6;\n",
       "    }\n",
       "\n",
       "    [theme=dark] .colab-df-convert {\n",
       "      background-color: #3B4455;\n",
       "      fill: #D2E3FC;\n",
       "    }\n",
       "\n",
       "    [theme=dark] .colab-df-convert:hover {\n",
       "      background-color: #434B5C;\n",
       "      box-shadow: 0px 1px 3px 1px rgba(0, 0, 0, 0.15);\n",
       "      filter: drop-shadow(0px 1px 2px rgba(0, 0, 0, 0.3));\n",
       "      fill: #FFFFFF;\n",
       "    }\n",
       "  </style>\n",
       "\n",
       "      <script>\n",
       "        const buttonEl =\n",
       "          document.querySelector('#df-cd1581c4-8b24-4dff-a125-5f5a80ae787a button.colab-df-convert');\n",
       "        buttonEl.style.display =\n",
       "          google.colab.kernel.accessAllowed ? 'block' : 'none';\n",
       "\n",
       "        async function convertToInteractive(key) {\n",
       "          const element = document.querySelector('#df-cd1581c4-8b24-4dff-a125-5f5a80ae787a');\n",
       "          const dataTable =\n",
       "            await google.colab.kernel.invokeFunction('convertToInteractive',\n",
       "                                                     [key], {});\n",
       "          if (!dataTable) return;\n",
       "\n",
       "          const docLinkHtml = 'Like what you see? Visit the ' +\n",
       "            '<a target=\"_blank\" href=https://colab.research.google.com/notebooks/data_table.ipynb>data table notebook</a>'\n",
       "            + ' to learn more about interactive tables.';\n",
       "          element.innerHTML = '';\n",
       "          dataTable['output_type'] = 'display_data';\n",
       "          await google.colab.output.renderOutput(dataTable, element);\n",
       "          const docLink = document.createElement('div');\n",
       "          docLink.innerHTML = docLinkHtml;\n",
       "          element.appendChild(docLink);\n",
       "        }\n",
       "      </script>\n",
       "    </div>\n",
       "  </div>\n",
       "  "
      ],
      "text/plain": [
       "                                             commentaire  classe\n",
       "0      مبروك و سامحونا لعجزنا التام. عقبال اللي جوه. ...       0\n",
       "1      كلنا بره ومش هنبطل نزايد على العجايز الي جابون...       2\n",
       "2              بدل ما انت قاعد بره كده تعالي ازرع الصحرا       0\n",
       "3          قذر اتفووو ماتيجى مصر وتورينا نفسك كدا ياجبان       2\n",
       "4      وهكذا رجال الشو اللي محرومين من عمل برنامج الغ...       2\n",
       "...                                                  ...     ...\n",
       "23028    يلا ولا خنزير الله يرحم صدام حسين لي كان داعسكن       2\n",
       "23029            وبلدك سوريا لا تبغي سوا القتل والاجرام        2\n",
       "23030  معالي الوزير نؤمن بك دائما لأنك الدرع المنيع ف...       0\n",
       "23031  حياة سندي مستشارة امين عام الامم المتحدة بان ك...       0\n",
       "23032  انت يا جبران باسيل بعقليتك الفجة النتنة تقولرب...       2\n",
       "\n",
       "[23033 rows x 2 columns]"
      ]
     },
     "execution_count": 5,
     "metadata": {},
     "output_type": "execute_result"
    }
   ],
   "source": [
    "data"
   ]
  },
  {
   "cell_type": "code",
   "execution_count": 6,
   "metadata": {
    "colab": {
     "base_uri": "https://localhost:8080/",
     "height": 0
    },
    "id": "QWAQiWYVAzQN",
    "outputId": "42d06b46-edb9-437b-af6b-2d55096c1072"
   },
   "outputs": [
    {
     "data": {
      "image/png": "[encoded data removed]",
      "text/plain": [
       "<Figure size 1080x360 with 1 Axes>"
      ]
     },
     "metadata": {
      "needs_background": "light"
     },
     "output_type": "display_data"
    }
   ],
   "source": [
    "import matplotlib.pyplot as plt\n",
    "import seaborn as sns\n",
    "plt.figure(1 , figsize = (15 , 5))\n",
    "sns.countplot(y = 'classe' , data = data)\n",
    "plt.show()"
   ]
  },
  {
   "cell_type": "code",
   "execution_count": 7,
   "metadata": {
    "colab": {
     "base_uri": "https://localhost:8080/"
    },
    "id": "mWndFEOiC4pP",
    "outputId": "41b65522-5e61-48c9-842b-ccc6090bb47f"
   },
   "outputs": [
    {
     "name": "stdout",
     "output_type": "stream",
     "text": [
      "classe\n",
      "0    12353\n",
      "Name: classe, dtype: int64\n",
      "classe\n",
      "1    3850\n",
      "Name: classe, dtype: int64\n",
      "classe\n",
      "2    6830\n",
      "Name: classe, dtype: int64\n"
     ]
    }
   ],
   "source": [
    "print(data.loc[data.classe==0].groupby('classe')[\"classe\"].count())\n",
    "print(data.loc[data.classe==1].groupby('classe')[\"classe\"].count())\n",
    "print(data.loc[data.classe==2].groupby('classe')[\"classe\"].count())"
   ]
  },
  {
   "cell_type": "markdown",
   "metadata": {
    "id": "nWDDcwDwA32H"
   },
   "source": [
    "2/ NLP Data Preparations: Data Balancing"
   ]
  },
  {
   "cell_type": "code",
   "execution_count": 8,
   "metadata": {
    "id": "BgMfbCVpBAOB"
   },
   "outputs": [],
   "source": [
    "from tensorflow.keras.preprocessing.text import Tokenizer\n",
    "from tensorflow.keras.preprocessing.sequence import pad_sequences\n",
    "import numpy as np\n",
    "\n",
    "sentences = data['commentaire']\n",
    "labels = data['classe']\n",
    "\n",
    "labels = [int(i) for i in labels]"
   ]
  },
  {
   "cell_type": "code",
   "execution_count": 9,
   "metadata": {
    "colab": {
     "base_uri": "https://localhost:8080/",
     "height": 0
    },
    "id": "zQgP6WSIbrNm",
    "outputId": "9cabdb05-bd05-4dd1-cd0b-1d9b24cf225d"
   },
   "outputs": [
    {
     "data": {
      "text/html": [
       "\n",
       "  <div id=\"df-efd0d1a1-06cd-4940-a61f-10ff8d787495\">\n",
       "    <div class=\"colab-df-container\">\n",
       "      <div>\n",
       "<style scoped>\n",
       "    .dataframe tbody tr th:only-of-type {\n",
       "        vertical-align: middle;\n",
       "    }\n",
       "\n",
       "    .dataframe tbody tr th {\n",
       "        vertical-align: top;\n",
       "    }\n",
       "\n",
       "    .dataframe thead th {\n",
       "        text-align: right;\n",
       "    }\n",
       "</style>\n",
       "<table border=\"1\" class=\"dataframe\">\n",
       "  <thead>\n",
       "    <tr style=\"text-align: right;\">\n",
       "      <th></th>\n",
       "      <th>sentences</th>\n",
       "      <th>classe</th>\n",
       "    </tr>\n",
       "  </thead>\n",
       "  <tbody>\n",
       "    <tr>\n",
       "      <th>0</th>\n",
       "      <td>مبروك و سامحونا لعجزنا التام. عقبال اللي جوه. ...</td>\n",
       "      <td>0</td>\n",
       "    </tr>\n",
       "    <tr>\n",
       "      <th>1</th>\n",
       "      <td>كلنا بره ومش هنبطل نزايد على العجايز الي جابون...</td>\n",
       "      <td>2</td>\n",
       "    </tr>\n",
       "    <tr>\n",
       "      <th>2</th>\n",
       "      <td>بدل ما انت قاعد بره كده تعالي ازرع الصحرا</td>\n",
       "      <td>0</td>\n",
       "    </tr>\n",
       "    <tr>\n",
       "      <th>3</th>\n",
       "      <td>قذر اتفووو ماتيجى مصر وتورينا نفسك كدا ياجبان</td>\n",
       "      <td>2</td>\n",
       "    </tr>\n",
       "    <tr>\n",
       "      <th>4</th>\n",
       "      <td>وهكذا رجال الشو اللي محرومين من عمل برنامج الغ...</td>\n",
       "      <td>2</td>\n",
       "    </tr>\n",
       "    <tr>\n",
       "      <th>...</th>\n",
       "      <td>...</td>\n",
       "      <td>...</td>\n",
       "    </tr>\n",
       "    <tr>\n",
       "      <th>23028</th>\n",
       "      <td>يلا ولا خنزير الله يرحم صدام حسين لي كان داعسكن</td>\n",
       "      <td>2</td>\n",
       "    </tr>\n",
       "    <tr>\n",
       "      <th>23029</th>\n",
       "      <td>وبلدك سوريا لا تبغي سوا القتل والاجرام</td>\n",
       "      <td>2</td>\n",
       "    </tr>\n",
       "    <tr>\n",
       "      <th>23030</th>\n",
       "      <td>معالي الوزير نؤمن بك دائما لأنك الدرع المنيع ف...</td>\n",
       "      <td>0</td>\n",
       "    </tr>\n",
       "    <tr>\n",
       "      <th>23031</th>\n",
       "      <td>حياة سندي مستشارة امين عام الامم المتحدة بان ك...</td>\n",
       "      <td>0</td>\n",
       "    </tr>\n",
       "    <tr>\n",
       "      <th>23032</th>\n",
       "      <td>انت يا جبران باسيل بعقليتك الفجة النتنة تقولرب...</td>\n",
       "      <td>2</td>\n",
       "    </tr>\n",
       "  </tbody>\n",
       "</table>\n",
       "<p>23033 rows × 2 columns</p>\n",
       "</div>\n",
       "      <button class=\"colab-df-convert\" onclick=\"convertToInteractive('df-efd0d1a1-06cd-4940-a61f-10ff8d787495')\"\n",
       "              title=\"Convert this dataframe to an interactive table.\"\n",
       "              style=\"display:none;\">\n",
       "        \n",
       "  <svg xmlns=\"http://www.w3.org/2000/svg\" height=\"24px\"viewBox=\"0 0 24 24\"\n",
       "       width=\"24px\">\n",
       "    <path d=\"M0 0h24v24H0V0z\" fill=\"none\"/>\n",
       "    <path d=\"M18.56 5.44l.94 2.06.94-2.06 2.06-.94-2.06-.94-.94-2.06-.94 2.06-2.06.94zm-11 1L8.5 8.5l.94-2.06 2.06-.94-2.06-.94L8.5 2.5l-.94 2.06-2.06.94zm10 10l.94 2.06.94-2.06 2.06-.94-2.06-.94-.94-2.06-.94 2.06-2.06.94z\"/><path d=\"M17.41 7.96l-1.37-1.37c-.4-.4-.92-.59-1.43-.59-.52 0-1.04.2-1.43.59L10.3 9.45l-7.72 7.72c-.78.78-.78 2.05 0 2.83L4 21.41c.39.39.9.59 1.41.59.51 0 1.02-.2 1.41-.59l7.78-7.78 2.81-2.81c.8-.78.8-2.07 0-2.86zM5.41 20L4 18.59l7.72-7.72 1.47 1.35L5.41 20z\"/>\n",
       "  </svg>\n",
       "      </button>\n",
       "      \n",
       "  <style>\n",
       "    .colab-df-container {\n",
       "      display:flex;\n",
       "      flex-wrap:wrap;\n",
       "      gap: 12px;\n",
       "    }\n",
       "\n",
       "    .colab-df-convert {\n",
       "      background-color: #E8F0FE;\n",
       "      border: none;\n",
       "      border-radius: 50%;\n",
       "      cursor: pointer;\n",
       "      display: none;\n",
       "      fill: #1967D2;\n",
       "      height: 32px;\n",
       "      padding: 0 0 0 0;\n",
       "      width: 32px;\n",
       "    }\n",
       "\n",
       "    .colab-df-convert:hover {\n",
       "      background-color: #E2EBFA;\n",
       "      box-shadow: 0px 1px 2px rgba(60, 64, 67, 0.3), 0px 1px 3px 1px rgba(60, 64, 67, 0.15);\n",
       "      fill: #174EA6;\n",
       "    }\n",
       "\n",
       "    [theme=dark] .colab-df-convert {\n",
       "      background-color: #3B4455;\n",
       "      fill: #D2E3FC;\n",
       "    }\n",
       "\n",
       "    [theme=dark] .colab-df-convert:hover {\n",
       "      background-color: #434B5C;\n",
       "      box-shadow: 0px 1px 3px 1px rgba(0, 0, 0, 0.15);\n",
       "      filter: drop-shadow(0px 1px 2px rgba(0, 0, 0, 0.3));\n",
       "      fill: #FFFFFF;\n",
       "    }\n",
       "  </style>\n",
       "\n",
       "      <script>\n",
       "        const buttonEl =\n",
       "          document.querySelector('#df-efd0d1a1-06cd-4940-a61f-10ff8d787495 button.colab-df-convert');\n",
       "        buttonEl.style.display =\n",
       "          google.colab.kernel.accessAllowed ? 'block' : 'none';\n",
       "\n",
       "        async function convertToInteractive(key) {\n",
       "          const element = document.querySelector('#df-efd0d1a1-06cd-4940-a61f-10ff8d787495');\n",
       "          const dataTable =\n",
       "            await google.colab.kernel.invokeFunction('convertToInteractive',\n",
       "                                                     [key], {});\n",
       "          if (!dataTable) return;\n",
       "\n",
       "          const docLinkHtml = 'Like what you see? Visit the ' +\n",
       "            '<a target=\"_blank\" href=https://colab.research.google.com/notebooks/data_table.ipynb>data table notebook</a>'\n",
       "            + ' to learn more about interactive tables.';\n",
       "          element.innerHTML = '';\n",
       "          dataTable['output_type'] = 'display_data';\n",
       "          await google.colab.output.renderOutput(dataTable, element);\n",
       "          const docLink = document.createElement('div');\n",
       "          docLink.innerHTML = docLinkHtml;\n",
       "          element.appendChild(docLink);\n",
       "        }\n",
       "      </script>\n",
       "    </div>\n",
       "  </div>\n",
       "  "
      ],
      "text/plain": [
       "                                               sentences  classe\n",
       "0      مبروك و سامحونا لعجزنا التام. عقبال اللي جوه. ...       0\n",
       "1      كلنا بره ومش هنبطل نزايد على العجايز الي جابون...       2\n",
       "2              بدل ما انت قاعد بره كده تعالي ازرع الصحرا       0\n",
       "3          قذر اتفووو ماتيجى مصر وتورينا نفسك كدا ياجبان       2\n",
       "4      وهكذا رجال الشو اللي محرومين من عمل برنامج الغ...       2\n",
       "...                                                  ...     ...\n",
       "23028    يلا ولا خنزير الله يرحم صدام حسين لي كان داعسكن       2\n",
       "23029            وبلدك سوريا لا تبغي سوا القتل والاجرام        2\n",
       "23030  معالي الوزير نؤمن بك دائما لأنك الدرع المنيع ف...       0\n",
       "23031  حياة سندي مستشارة امين عام الامم المتحدة بان ك...       0\n",
       "23032  انت يا جبران باسيل بعقليتك الفجة النتنة تقولرب...       2\n",
       "\n",
       "[23033 rows x 2 columns]"
      ]
     },
     "execution_count": 9,
     "metadata": {},
     "output_type": "execute_result"
    }
   ],
   "source": [
    "import pandas as pd\n",
    "\n",
    "data=[[i,j] for i,j in zip(sentences , labels)]\n",
    "\n",
    "data=pd.DataFrame(data,columns=[\"sentences\",\"classe\"])\n",
    "\n",
    "data"
   ]
  },
  {
   "cell_type": "code",
   "execution_count": 10,
   "metadata": {
    "colab": {
     "base_uri": "https://localhost:8080/",
     "height": 0
    },
    "id": "Fz8P60LwbLjI",
    "outputId": "b3b36c65-aa23-42ff-efd9-abf2bebb65f5"
   },
   "outputs": [
    {
     "data": {
      "image/png": "[encoded data removed]",
      "text/plain": [
       "<Figure size 1080x360 with 1 Axes>"
      ]
     },
     "metadata": {
      "needs_background": "light"
     },
     "output_type": "display_data"
    }
   ],
   "source": [
    "import matplotlib.pyplot as plt\n",
    "import seaborn as sns\n",
    "plt.figure(1 , figsize = (15 , 5))\n",
    "sns.countplot(y = 'classe' , data = data)\n",
    "plt.show()"
   ]
  },
  {
   "cell_type": "code",
   "execution_count": 11,
   "metadata": {
    "colab": {
     "base_uri": "https://localhost:8080/"
    },
    "id": "A37mvaVcD-ji",
    "outputId": "2482d3a5-ac2a-4ef1-f007-a53fc6ce2e91"
   },
   "outputs": [
    {
     "data": {
      "text/plain": [
       "388"
      ]
     },
     "execution_count": 11,
     "metadata": {},
     "output_type": "execute_result"
    }
   ],
   "source": [
    "#Figure out the longest comment\n",
    "\n",
    "def count_words(input):\n",
    "  return len(input.split())\n",
    "max_length=count_words(max(sentences,key=count_words))\n",
    "max_length"
   ]
  },
  {
   "cell_type": "markdown",
   "metadata": {
    "id": "cCJNbJcEzes_"
   },
   "source": [
    "#Importing extra data"
   ]
  },
  {
   "cell_type": "code",
   "execution_count": 12,
   "metadata": {
    "id": "lJ4ViTx6zc-7"
   },
   "outputs": [],
   "source": [
    "data12=pd.read_excel(\"/content/drive/MyDrive/All/Projects/Ing Internship/Data/dataset1and2.xlsx\")\n",
    "data34=pd.read_excel(\"/content/drive/MyDrive/All/Projects/Ing Internship/Data/dataset3and4.xlsx\")\n",
    "data5=pd.read_excel(\"/content/drive/MyDrive/All/Projects/Ing Internship/Data/D5.xlsx\")\n",
    "\n",
    "data12['classe']=data12['classe'].replace(\"hate\", int(2))\n",
    "data12['classe']=data12['classe'].replace(\"normal\", int(0)) \n",
    "data12['classe']=data12['classe'].replace(\"abusive\", int(1))\n",
    "\n",
    "data34['classe']=data34['classe'].replace(\"hate\", int(2))\n",
    "data34['classe']=data34['classe'].replace(\"normal\", int(0)) \n",
    "data34['classe']=data34['classe'].replace(\"abusive\", int(1))\n",
    "\n",
    "\n",
    "data5['classe']=data5['classe'].replace(\"hate\", int(2))\n",
    "data5['classe']=data5['classe'].replace(\"normal\", int(0)) \n",
    "data5['classe']=data5['classe'].replace(\"abusive\", int(1))\n",
    "\n",
    "\n",
    "C1=data12[\"commentaire\"]\n",
    "C2=data34[\"commentaire\"]\n",
    "C3=data5[\"commentaire\"]\n",
    "L1=data12[\"classe\"]\n",
    "L2=data34[\"classe\"]\n",
    "L3=data5[\"classe\"]\n",
    "\n",
    "\n",
    "data12=[[i,j] for i,j in zip(C1 , L1)]\n",
    "data34=[[i,j] for i,j in zip(C2 , L2)]\n",
    "data5=[[i,j] for i,j in zip(C3 , L3)]\n",
    "\n",
    "data12=pd.DataFrame(data12,columns=[\"sentences\",\"classe\"])\n",
    "data34=pd.DataFrame(data34,columns=[\"sentences\",\"classe\"])\n",
    "data5=pd.DataFrame(data5,columns=[\"sentences\",\"classe\"])"
   ]
  },
  {
   "cell_type": "code",
   "execution_count": 13,
   "metadata": {
    "id": "YEFxuA6H0gMb"
   },
   "outputs": [],
   "source": [
    "data5[\"sentences\"]=data5[\"sentences\"].str.replace(\"_\",\" \")"
   ]
  },
  {
   "cell_type": "code",
   "execution_count": 14,
   "metadata": {
    "colab": {
     "base_uri": "https://localhost:8080/",
     "height": 0
    },
    "id": "IhOSM1XP17Oy",
    "outputId": "d142efd2-7642-4fc3-cd95-2b4db33ef4d4"
   },
   "outputs": [
    {
     "data": {
      "application/vnd.google.colaboratory.intrinsic+json": {
       "type": "string"
      },
      "text/plain": [
       "'\"#أزهى عصور المسخره  هل ضيعت \"شيما\" محافظ بورسعيد؟\"'"
      ]
     },
     "execution_count": 14,
     "metadata": {},
     "output_type": "execute_result"
    }
   ],
   "source": [
    "data5[\"sentences\"][1097]"
   ]
  },
  {
   "cell_type": "code",
   "execution_count": 15,
   "metadata": {
    "colab": {
     "base_uri": "https://localhost:8080/",
     "height": 0
    },
    "id": "15BM6cRP0Wrl",
    "outputId": "242842aa-549c-4999-968c-a1d0fa96ff30"
   },
   "outputs": [
    {
     "data": {
      "image/png": "[encoded data removed]",
      "text/plain": [
       "<Figure size 1080x360 with 1 Axes>"
      ]
     },
     "metadata": {
      "needs_background": "light"
     },
     "output_type": "display_data"
    },
    {
     "name": "stdout",
     "output_type": "stream",
     "text": [
      "classe\n",
      "0    3857\n",
      "Name: classe, dtype: int64\n",
      "classe\n",
      "1    1204\n",
      "Name: classe, dtype: int64\n",
      "classe\n",
      "2    1399\n",
      "Name: classe, dtype: int64\n"
     ]
    }
   ],
   "source": [
    "plt.figure(1 , figsize = (15 , 5))\n",
    "sns.countplot(y = 'classe' , data = data12)\n",
    "plt.show()\n",
    "print(data12.loc[data12.classe==0].groupby('classe')[\"classe\"].count())\n",
    "print(data12.loc[data12.classe==1].groupby('classe')[\"classe\"].count())\n",
    "print(data12.loc[data12.classe==2].groupby('classe')[\"classe\"].count())"
   ]
  },
  {
   "cell_type": "code",
   "execution_count": 16,
   "metadata": {
    "colab": {
     "base_uri": "https://localhost:8080/",
     "height": 0
    },
    "id": "OOiCKJ4y1I5T",
    "outputId": "8ccc7d64-40a5-46e1-c052-29e0ade166c3"
   },
   "outputs": [
    {
     "data": {
      "image/png": "[encoded data removed]",
      "text/plain": [
       "<Figure size 1080x360 with 1 Axes>"
      ]
     },
     "metadata": {
      "needs_background": "light"
     },
     "output_type": "display_data"
    },
    {
     "name": "stdout",
     "output_type": "stream",
     "text": [
      "classe\n",
      "0    4565\n",
      "Name: classe, dtype: int64\n",
      "classe\n",
      "1    1746\n",
      "Name: classe, dtype: int64\n",
      "classe\n",
      "2    2885\n",
      "Name: classe, dtype: int64\n"
     ]
    }
   ],
   "source": [
    "plt.figure(1 , figsize = (15 , 5))\n",
    "sns.countplot(y = 'classe' , data = data34)\n",
    "plt.show()\n",
    "print(data34.loc[data34.classe==0].groupby('classe')[\"classe\"].count())\n",
    "print(data34.loc[data34.classe==1].groupby('classe')[\"classe\"].count())\n",
    "print(data34.loc[data34.classe==2].groupby('classe')[\"classe\"].count())"
   ]
  },
  {
   "cell_type": "markdown",
   "metadata": {
    "id": "qbiHzGSbw8sE"
   },
   "source": [
    "##The way that the computers percieve words and phrases is diffrent from the way that we preceve it as human beings. There are a veriety of ways for us that we can utilise to program the data type that we have and to make it numerical so that the model can get some meaning out of it. We call this part encoding text.\n",
    "##we can transfor each alphabet and caracter to it's ASCII Code, but this approach wasn't proven to give great results [To Research] !!!\n",
    "#What I did in the code was: Continus or distributed Embeddings Vectors representation:\n",
    "* First: Build a dictionary of tokens: I defined a dictionnary That has the words as keys and a unique number as a value\n",
    "* I then changed all of the phrases into Lists that has integers that indicate which word is in that particular place\n",
    "* Use One-Hot Vector\n",
    "\n",
    "##After doing this process, we have a numerical data that the model can use to get some meaning out of the labels"
   ]
  },
  {
   "cell_type": "code",
   "execution_count": 17,
   "metadata": {
    "id": "FrNFMsATGjbL"
   },
   "outputs": [],
   "source": [
    "training_size=int(len(sentences)*0.8)   #Experimenting setup\n",
    "\n",
    "training_sentences = sentences[0:training_size]\n",
    "testing_sentences = sentences[training_size:]\n",
    "training_labels = labels[0:training_size]\n",
    "testing_labels = labels[training_size:]\n",
    "\n",
    "embedding_dim = 16\n",
    "\n",
    "tokenizer = Tokenizer(num_words=3000, oov_token=\"<OOV>\")\n",
    "tokenizer.fit_on_texts(training_sentences)\n",
    "\n",
    "vocab_size = len(tokenizer.word_index) + 1 \n",
    "\n",
    "word_index = tokenizer.word_index\n",
    "\n",
    "training_sequences = tokenizer.texts_to_sequences(training_sentences)\n",
    "training_padded = pad_sequences(training_sequences, maxlen=max_length, padding='post', truncating='post')\n",
    "\n",
    "testing_sequences = tokenizer.texts_to_sequences(testing_sentences)\n",
    "testing_padded = pad_sequences(testing_sequences, maxlen=max_length, padding='post', truncating='post')"
   ]
  },
  {
   "cell_type": "code",
   "execution_count": 18,
   "metadata": {
    "colab": {
     "base_uri": "https://localhost:8080/"
    },
    "id": "GCD5XHrK8HaL",
    "outputId": "61d682fe-4ed9-4d28-ffb7-ff3b311ac998"
   },
   "outputs": [
    {
     "data": {
      "text/plain": [
       "52168"
      ]
     },
     "execution_count": 18,
     "metadata": {},
     "output_type": "execute_result"
    }
   ],
   "source": [
    "vocab_size"
   ]
  },
  {
   "cell_type": "code",
   "execution_count": 19,
   "metadata": {
    "colab": {
     "base_uri": "https://localhost:8080/"
    },
    "id": "PB3wZKaR8MXq",
    "outputId": "40a33cfd-163f-4216-c86f-40a2d5d23a72"
   },
   "outputs": [
    {
     "data": {
      "text/plain": [
       "52167"
      ]
     },
     "execution_count": 19,
     "metadata": {},
     "output_type": "execute_result"
    }
   ],
   "source": [
    "len(word_index)"
   ]
  },
  {
   "cell_type": "code",
   "execution_count": 20,
   "metadata": {
    "id": "mkUjHchx4FaT"
   },
   "outputs": [],
   "source": [
    "Nsentences12=data12[\"sentences\"]\n",
    "Nlabels12=data12[\"classe\"]\n",
    "\n",
    "training_size12=int(len(Nsentences12)*0.8)\n",
    "\n",
    "testing_sentences12 = Nsentences12[training_size12:]\n",
    "testing_labels12 = Nlabels12[training_size12:]\n",
    "\n",
    "##########\n",
    "\n",
    "Nsentences34=data34[\"sentences\"]\n",
    "Nlabels34=data34[\"classe\"]\n",
    "\n",
    "training_size34=int(len(Nsentences34)*0.8)\n",
    "\n",
    "testing_sentences34 = Nsentences34[training_size34:]\n",
    "testing_labels34 = Nlabels34[training_size34:]\n",
    "\n",
    "##########\n",
    "\n",
    "Nsentences5=data5[\"sentences\"]\n",
    "Nlabels5=data5[\"classe\"]\n",
    "\n",
    "training_size5=int(len(Nsentences5)*0.8)\n",
    "\n",
    "testing_sentences5 = Nsentences34[training_size5:]\n",
    "testing_labels5 = Nlabels34[training_size5:]"
   ]
  },
  {
   "cell_type": "code",
   "execution_count": 21,
   "metadata": {
    "colab": {
     "base_uri": "https://localhost:8080/"
    },
    "id": "NPn7XcNo5qUy",
    "outputId": "1ddc9c21-04af-4b6d-b89d-6c60193b1135"
   },
   "outputs": [
    {
     "data": {
      "text/plain": [
       "206"
      ]
     },
     "execution_count": 21,
     "metadata": {},
     "output_type": "execute_result"
    }
   ],
   "source": [
    "max_length12=count_words(max(testing_sentences12,key=count_words))\n",
    "max_length12"
   ]
  },
  {
   "cell_type": "code",
   "execution_count": 22,
   "metadata": {
    "colab": {
     "base_uri": "https://localhost:8080/"
    },
    "id": "5FkaUBXI60-_",
    "outputId": "33475a60-1fbc-42e3-9310-cdb41d1b3cb9"
   },
   "outputs": [
    {
     "data": {
      "text/plain": [
       "29"
      ]
     },
     "execution_count": 22,
     "metadata": {},
     "output_type": "execute_result"
    }
   ],
   "source": [
    "max_length34=count_words(max(testing_sentences34,key=count_words))\n",
    "max_length34"
   ]
  },
  {
   "cell_type": "code",
   "execution_count": 23,
   "metadata": {
    "colab": {
     "base_uri": "https://localhost:8080/"
    },
    "id": "BzkNojMI17FG",
    "outputId": "543ace36-4570-40ed-9098-cbc093b6135a"
   },
   "outputs": [
    {
     "data": {
      "text/plain": [
       "52"
      ]
     },
     "execution_count": 23,
     "metadata": {},
     "output_type": "execute_result"
    }
   ],
   "source": [
    "max_length5=count_words(max(testing_sentences5,key=count_words))\n",
    "max_length5"
   ]
  },
  {
   "cell_type": "markdown",
   "metadata": {
    "id": "AFubPmEL7Qrh"
   },
   "source": [
    "###The Maximum length in the new data is less than 207, so we can padd them without losing information."
   ]
  },
  {
   "cell_type": "code",
   "execution_count": 24,
   "metadata": {
    "id": "e0p6r_d_7O58"
   },
   "outputs": [],
   "source": [
    "testing_sequences12 = tokenizer.texts_to_sequences(testing_sentences12)\n",
    "testing_padded12 = pad_sequences(testing_sequences12, maxlen=max_length, padding='post', truncating='post')\n",
    "\n",
    "###########\n",
    "\n",
    "testing_sequences34 = tokenizer.texts_to_sequences(testing_sentences34)\n",
    "testing_padded34 = pad_sequences(testing_sequences34, maxlen=max_length, padding='post', truncating='post')\n",
    "\n",
    "###########\n",
    "\n",
    "testing_sequences5 = tokenizer.texts_to_sequences(testing_sentences5)\n",
    "testing_padded5 = pad_sequences(testing_sequences5, maxlen=max_length, padding='post', truncating='post')"
   ]
  },
  {
   "cell_type": "markdown",
   "metadata": {
    "id": "TzmCjIfYBA8G"
   },
   "source": [
    "#Modelling"
   ]
  },
  {
   "cell_type": "markdown",
   "metadata": {
    "id": "-CRh9Gqc7KxQ"
   },
   "source": [
    "##For The First Model"
   ]
  },
  {
   "cell_type": "code",
   "execution_count": 32,
   "metadata": {
    "colab": {
     "base_uri": "https://localhost:8080/"
    },
    "id": "attb9Ze4BGlm",
    "outputId": "86b12094-a982-4df2-ce4c-02b6ea5057c0"
   },
   "outputs": [
    {
     "name": "stdout",
     "output_type": "stream",
     "text": [
      "Model: \"sequential\"\n",
      "_________________________________________________________________\n",
      " Layer (type)                Output Shape              Param #   \n",
      "=================================================================\n",
      " embedding (Embedding)       (None, 388, 16)           834688    \n",
      "                                                                 \n",
      " conv1d (Conv1D)             (None, 384, 128)          10368     \n",
      "                                                                 \n",
      " conv1d_1 (Conv1D)           (None, 384, 32)           4128      \n",
      "                                                                 \n",
      " bidirectional (Bidirectiona  (None, 384, 64)          16640     \n",
      " l)                                                              \n",
      "                                                                 \n",
      " bidirectional_1 (Bidirectio  (None, 384, 64)          24832     \n",
      " nal)                                                            \n",
      "                                                                 \n",
      " bidirectional_2 (Bidirectio  (None, 384, 32)          10368     \n",
      " nal)                                                            \n",
      "                                                                 \n",
      " flatten (Flatten)           (None, 12288)             0         \n",
      "                                                                 \n",
      " dense (Dense)               (None, 24)                294936    \n",
      "                                                                 \n",
      " dense_1 (Dense)             (None, 3)                 75        \n",
      "                                                                 \n",
      "=================================================================\n",
      "Total params: 1,196,035\n",
      "Trainable params: 1,196,035\n",
      "Non-trainable params: 0\n",
      "_________________________________________________________________\n"
     ]
    }
   ],
   "source": [
    "import tensorflow as tf\n",
    "\n",
    "model=tf.keras.models.Sequential ([\n",
    "                                   tf.keras.layers.Embedding(vocab_size, embedding_dim, input_length=max_length),\n",
    "                                   tf.keras.layers.Conv1D(128, 5, activation='relu'),\n",
    "                                   tf.keras.layers.Conv1D(filters=32, kernel_size=1, activation='selu'),\n",
    "                                   tf.keras.layers.Bidirectional(tf.keras.layers.LSTM(32,return_sequences=True)),\n",
    "                                   tf.keras.layers.Bidirectional(tf.keras.layers.LSTM(32,return_sequences=True)),\n",
    "                                   tf.keras.layers.Bidirectional(tf.keras.layers.LSTM(16,return_sequences=True)),\n",
    "                                   tf.keras.layers.Flatten(),\n",
    "                                   tf.keras.layers.Dense(units=24,activation='relu'),\n",
    "                                   tf.keras.layers.Dense(units=3, activation='softmax')])\n",
    "model.summary()"
   ]
  },
  {
   "cell_type": "code",
   "execution_count": 33,
   "metadata": {
    "colab": {
     "base_uri": "https://localhost:8080/"
    },
    "id": "YK8y9kQFL5T5",
    "outputId": "3d677e7a-1cd2-4c4c-86da-e426ee3368a0"
   },
   "outputs": [
    {
     "name": "stdout",
     "output_type": "stream",
     "text": [
      "Epoch 1/55\n"
     ]
    },
    {
     "name": "stderr",
     "output_type": "stream",
     "text": [
      "/usr/local/lib/python3.7/dist-packages/ipykernel_launcher.py:4: DeprecationWarning: `np.int` is a deprecated alias for the builtin `int`. To silence this warning, use `int` by itself. Doing this will not modify any behavior and is safe. When replacing `np.int`, you may wish to use e.g. `np.int64` or `np.int32` to specify the precision. If you wish to review your current use, check the release note link for additional information.\n",
      "Deprecated in NumPy 1.20; for more details and guidance: https://numpy.org/devdocs/release/1.20.0-notes.html#deprecations\n",
      "  after removing the cwd from sys.path.\n",
      "/usr/local/lib/python3.7/dist-packages/ipykernel_launcher.py:5: DeprecationWarning: `np.int` is a deprecated alias for the builtin `int`. To silence this warning, use `int` by itself. Doing this will not modify any behavior and is safe. When replacing `np.int`, you may wish to use e.g. `np.int64` or `np.int32` to specify the precision. If you wish to review your current use, check the release note link for additional information.\n",
      "Deprecated in NumPy 1.20; for more details and guidance: https://numpy.org/devdocs/release/1.20.0-notes.html#deprecations\n",
      "  \"\"\"\n",
      "/usr/local/lib/python3.7/dist-packages/ipykernel_launcher.py:6: DeprecationWarning: `np.int` is a deprecated alias for the builtin `int`. To silence this warning, use `int` by itself. Doing this will not modify any behavior and is safe. When replacing `np.int`, you may wish to use e.g. `np.int64` or `np.int32` to specify the precision. If you wish to review your current use, check the release note link for additional information.\n",
      "Deprecated in NumPy 1.20; for more details and guidance: https://numpy.org/devdocs/release/1.20.0-notes.html#deprecations\n",
      "  \n",
      "/usr/local/lib/python3.7/dist-packages/ipykernel_launcher.py:7: DeprecationWarning: `np.int` is a deprecated alias for the builtin `int`. To silence this warning, use `int` by itself. Doing this will not modify any behavior and is safe. When replacing `np.int`, you may wish to use e.g. `np.int64` or `np.int32` to specify the precision. If you wish to review your current use, check the release note link for additional information.\n",
      "Deprecated in NumPy 1.20; for more details and guidance: https://numpy.org/devdocs/release/1.20.0-notes.html#deprecations\n",
      "  import sys\n"
     ]
    },
    {
     "name": "stdout",
     "output_type": "stream",
     "text": [
      "144/144 [==============================] - 24s 150ms/step - loss: 0.9329 - accuracy: 0.5692 - val_loss: 0.6970 - val_accuracy: 0.6942\n",
      "Epoch 2/55\n",
      "144/144 [==============================] - 21s 147ms/step - loss: 0.7236 - accuracy: 0.6872 - val_loss: 0.5636 - val_accuracy: 0.7656\n",
      "Epoch 3/55\n",
      "144/144 [==============================] - 23s 159ms/step - loss: 0.6022 - accuracy: 0.7657 - val_loss: 0.5116 - val_accuracy: 0.8135\n",
      "Epoch 4/55\n",
      "144/144 [==============================] - 21s 147ms/step - loss: 0.5183 - accuracy: 0.8047 - val_loss: 0.4639 - val_accuracy: 0.8194\n",
      "Epoch 5/55\n",
      "144/144 [==============================] - 22s 153ms/step - loss: 0.4633 - accuracy: 0.8246 - val_loss: 0.4303 - val_accuracy: 0.8442\n",
      "Epoch 6/55\n",
      "144/144 [==============================] - 21s 146ms/step - loss: 0.4213 - accuracy: 0.8397 - val_loss: 0.3976 - val_accuracy: 0.8520\n",
      "Epoch 7/55\n",
      "144/144 [==============================] - 21s 145ms/step - loss: 0.3671 - accuracy: 0.8641 - val_loss: 0.3809 - val_accuracy: 0.8583\n",
      "Epoch 8/55\n",
      "144/144 [==============================] - 21s 146ms/step - loss: 0.3261 - accuracy: 0.8801 - val_loss: 0.3756 - val_accuracy: 0.8652\n",
      "Epoch 9/55\n",
      "144/144 [==============================] - 22s 153ms/step - loss: 0.2912 - accuracy: 0.8945 - val_loss: 0.3778 - val_accuracy: 0.8722\n",
      "Epoch 10/55\n",
      "144/144 [==============================] - 21s 145ms/step - loss: 0.2634 - accuracy: 0.9046 - val_loss: 0.3695 - val_accuracy: 0.8700\n",
      "Epoch 11/55\n",
      "144/144 [==============================] - 21s 148ms/step - loss: 0.2457 - accuracy: 0.9115 - val_loss: 0.3803 - val_accuracy: 0.8758\n",
      "Epoch 12/55\n",
      "144/144 [==============================] - 21s 148ms/step - loss: 0.2177 - accuracy: 0.9230 - val_loss: 0.3761 - val_accuracy: 0.8811\n",
      "Epoch 13/55\n",
      "144/144 [==============================] - 21s 146ms/step - loss: 0.2027 - accuracy: 0.9281 - val_loss: 0.3942 - val_accuracy: 0.8776\n",
      "Epoch 14/55\n",
      "144/144 [==============================] - 24s 167ms/step - loss: 0.1911 - accuracy: 0.9329 - val_loss: 0.3873 - val_accuracy: 0.8819\n",
      "Epoch 15/55\n",
      "144/144 [==============================] - 21s 146ms/step - loss: 0.1816 - accuracy: 0.9367 - val_loss: 0.3925 - val_accuracy: 0.8845\n",
      "Epoch 16/55\n",
      "144/144 [==============================] - 21s 149ms/step - loss: 0.1710 - accuracy: 0.9396 - val_loss: 0.3859 - val_accuracy: 0.8847\n",
      "Epoch 17/55\n",
      "144/144 [==============================] - 22s 150ms/step - loss: 0.1593 - accuracy: 0.9433 - val_loss: 0.3943 - val_accuracy: 0.8841\n",
      "Epoch 18/55\n",
      "144/144 [==============================] - 21s 149ms/step - loss: 0.1574 - accuracy: 0.9424 - val_loss: 0.4054 - val_accuracy: 0.8882\n",
      "Epoch 19/55\n",
      "144/144 [==============================] - 21s 148ms/step - loss: 0.1451 - accuracy: 0.9488 - val_loss: 0.4293 - val_accuracy: 0.8852\n",
      "Epoch 20/55\n",
      "144/144 [==============================] - 22s 153ms/step - loss: 0.1371 - accuracy: 0.9491 - val_loss: 0.4461 - val_accuracy: 0.8824\n",
      "Epoch 21/55\n",
      "144/144 [==============================] - 21s 148ms/step - loss: 0.1372 - accuracy: 0.9506 - val_loss: 0.4655 - val_accuracy: 0.8797\n",
      "Epoch 22/55\n",
      "144/144 [==============================] - 21s 145ms/step - loss: 0.1319 - accuracy: 0.9502 - val_loss: 0.4583 - val_accuracy: 0.8893\n",
      "Epoch 23/55\n",
      "144/144 [==============================] - 21s 148ms/step - loss: 0.1286 - accuracy: 0.9517 - val_loss: 0.4606 - val_accuracy: 0.8771\n",
      "Epoch 24/55\n",
      "144/144 [==============================] - 21s 148ms/step - loss: 0.1224 - accuracy: 0.9523 - val_loss: 0.5478 - val_accuracy: 0.8873\n",
      "Epoch 25/55\n",
      "144/144 [==============================] - 21s 148ms/step - loss: 0.1212 - accuracy: 0.9521 - val_loss: 0.4748 - val_accuracy: 0.8882\n",
      "Epoch 26/55\n",
      "144/144 [==============================] - 22s 155ms/step - loss: 0.1139 - accuracy: 0.9554 - val_loss: 0.4973 - val_accuracy: 0.8904\n",
      "Epoch 27/55\n",
      "144/144 [==============================] - 21s 148ms/step - loss: 0.1096 - accuracy: 0.9551 - val_loss: 0.4640 - val_accuracy: 0.8867\n",
      "Epoch 28/55\n",
      "144/144 [==============================] - 21s 146ms/step - loss: 0.1135 - accuracy: 0.9545 - val_loss: 0.5457 - val_accuracy: 0.8886\n",
      "Epoch 29/55\n",
      "144/144 [==============================] - 21s 147ms/step - loss: 0.1070 - accuracy: 0.9556 - val_loss: 0.5375 - val_accuracy: 0.8876\n",
      "Epoch 30/55\n",
      "144/144 [==============================] - 21s 145ms/step - loss: 0.1098 - accuracy: 0.9545 - val_loss: 0.5242 - val_accuracy: 0.8880\n",
      "Epoch 31/55\n",
      "144/144 [==============================] - 21s 147ms/step - loss: 0.1052 - accuracy: 0.9573 - val_loss: 0.5396 - val_accuracy: 0.8882\n",
      "Epoch 32/55\n",
      "144/144 [==============================] - 22s 155ms/step - loss: 0.1011 - accuracy: 0.9568 - val_loss: 0.5736 - val_accuracy: 0.8828\n",
      "Epoch 33/55\n",
      "144/144 [==============================] - 21s 145ms/step - loss: 0.0963 - accuracy: 0.9577 - val_loss: 0.5980 - val_accuracy: 0.8867\n",
      "Epoch 34/55\n",
      "144/144 [==============================] - 21s 146ms/step - loss: 0.0930 - accuracy: 0.9576 - val_loss: 0.5677 - val_accuracy: 0.8893\n",
      "Epoch 35/55\n",
      "144/144 [==============================] - 21s 149ms/step - loss: 0.0928 - accuracy: 0.9582 - val_loss: 0.5751 - val_accuracy: 0.8867\n",
      "Epoch 36/55\n",
      "144/144 [==============================] - 21s 148ms/step - loss: 0.0911 - accuracy: 0.9596 - val_loss: 0.6264 - val_accuracy: 0.8904\n",
      "Epoch 37/55\n",
      "144/144 [==============================] - 21s 145ms/step - loss: 0.0879 - accuracy: 0.9589 - val_loss: 0.5874 - val_accuracy: 0.8891\n",
      "Epoch 38/55\n",
      "144/144 [==============================] - 22s 152ms/step - loss: 0.0931 - accuracy: 0.9582 - val_loss: 0.6631 - val_accuracy: 0.8921\n",
      "Epoch 39/55\n",
      "144/144 [==============================] - 21s 147ms/step - loss: 0.0899 - accuracy: 0.9591 - val_loss: 0.6489 - val_accuracy: 0.8891\n",
      "Epoch 40/55\n",
      "144/144 [==============================] - 21s 145ms/step - loss: 0.0930 - accuracy: 0.9581 - val_loss: 0.6322 - val_accuracy: 0.8893\n",
      "Epoch 41/55\n",
      "144/144 [==============================] - 21s 145ms/step - loss: 0.0939 - accuracy: 0.9576 - val_loss: 0.6250 - val_accuracy: 0.8873\n",
      "Epoch 42/55\n",
      "144/144 [==============================] - 21s 146ms/step - loss: 0.0868 - accuracy: 0.9592 - val_loss: 0.7119 - val_accuracy: 0.8897\n",
      "Epoch 43/55\n",
      "144/144 [==============================] - 21s 148ms/step - loss: 0.0880 - accuracy: 0.9599 - val_loss: 0.6578 - val_accuracy: 0.8880\n",
      "Epoch 44/55\n",
      "144/144 [==============================] - 22s 155ms/step - loss: 0.0859 - accuracy: 0.9607 - val_loss: 0.6471 - val_accuracy: 0.8871\n",
      "Epoch 45/55\n",
      "144/144 [==============================] - 21s 146ms/step - loss: 0.0860 - accuracy: 0.9606 - val_loss: 0.6155 - val_accuracy: 0.8865\n",
      "Epoch 46/55\n",
      "144/144 [==============================] - 21s 149ms/step - loss: 0.0888 - accuracy: 0.9590 - val_loss: 0.6331 - val_accuracy: 0.8906\n",
      "Epoch 47/55\n",
      "144/144 [==============================] - 21s 146ms/step - loss: 0.0938 - accuracy: 0.9583 - val_loss: 0.6596 - val_accuracy: 0.8895\n",
      "Epoch 48/55\n",
      "144/144 [==============================] - 21s 148ms/step - loss: 0.0879 - accuracy: 0.9599 - val_loss: 0.6941 - val_accuracy: 0.8897\n",
      "Epoch 49/55\n",
      "144/144 [==============================] - 21s 148ms/step - loss: 0.0786 - accuracy: 0.9613 - val_loss: 0.7930 - val_accuracy: 0.8845\n",
      "Epoch 50/55\n",
      "144/144 [==============================] - 22s 155ms/step - loss: 0.0765 - accuracy: 0.9620 - val_loss: 0.7237 - val_accuracy: 0.8891\n",
      "Epoch 51/55\n",
      "144/144 [==============================] - 21s 145ms/step - loss: 0.0759 - accuracy: 0.9627 - val_loss: 0.7411 - val_accuracy: 0.8828\n",
      "Epoch 52/55\n",
      "144/144 [==============================] - 21s 147ms/step - loss: 0.0779 - accuracy: 0.9620 - val_loss: 0.6789 - val_accuracy: 0.8856\n",
      "Epoch 53/55\n",
      "144/144 [==============================] - 21s 145ms/step - loss: 0.0867 - accuracy: 0.9589 - val_loss: 0.6838 - val_accuracy: 0.8873\n",
      "Epoch 54/55\n",
      "144/144 [==============================] - 21s 148ms/step - loss: 0.0883 - accuracy: 0.9614 - val_loss: 0.6506 - val_accuracy: 0.8895\n",
      "Epoch 55/55\n",
      "144/144 [==============================] - 21s 145ms/step - loss: 0.0819 - accuracy: 0.9604 - val_loss: 0.7086 - val_accuracy: 0.8906\n"
     ]
    }
   ],
   "source": [
    "#For the First Model\n",
    "model.compile(loss=\"sparse_categorical_crossentropy\",optimizer='adam',metrics=['accuracy'],run_eagerly=True)\n",
    "\n",
    "training_padded = np.asarray(training_padded).astype(np.int)\n",
    "training_labels = np.asarray(training_labels).astype(np.int)\n",
    "testing_padded = np.asarray(testing_padded).astype(np.int)\n",
    "testing_labels = np.asarray(testing_labels).astype(np.int)\n",
    "\n",
    "#training_padded = np.expand_dims(training_padded, axis=1)\n",
    "training_labels = np.expand_dims(training_labels, axis=1)\n",
    "#testing_padded = np.expand_dims(testing_padded, axis=1)\n",
    "testing_labels = np.expand_dims(testing_labels, axis=1)\n",
    "\n",
    "history = model.fit(training_padded, training_labels, batch_size=128, epochs=55, validation_data=(testing_padded, testing_labels), verbose=1)"
   ]
  },
  {
   "cell_type": "code",
   "execution_count": null,
   "metadata": {
    "id": "87O-L-vRBuy-"
   },
   "outputs": [],
   "source": [
    "#Epoch 50/50\n",
    "#129/129 [==============================] - 17s 131ms/step - loss: 0.0800 - accuracy: 0.9551 - val_loss: 0.1488 - val_accuracy: 0.9221\n",
    "#Epoch 2/2\n",
    "#129/129 [==============================] - 14s 111ms/step - loss: 0.0793 - accuracy: 0.9576 - val_loss: 0.1594 - val_accuracy: 0.9425"
   ]
  },
  {
   "cell_type": "code",
   "execution_count": 31,
   "metadata": {
    "id": "vFcGBuccVWcd"
   },
   "outputs": [],
   "source": [
    "model.save('Model1Unbalanced08.h5')"
   ]
  },
  {
   "cell_type": "code",
   "execution_count": 27,
   "metadata": {
    "id": "qGUVfM0kUzwD"
   },
   "outputs": [],
   "source": [
    "import tensorflow as tf\n",
    "model=tf.keras.models.load_model('Model1Unbalanced08.h5')"
   ]
  },
  {
   "cell_type": "code",
   "execution_count": null,
   "metadata": {
    "colab": {
     "base_uri": "https://localhost:8080/"
    },
    "id": "ARtVuoWqY5Fn",
    "outputId": "5f36c2b3-eab5-480e-cdd9-cccc7ff3f935"
   },
   "outputs": [
    {
     "name": "stdout",
     "output_type": "stream",
     "text": [
      "Epoch 1/2\n",
      "129/129 [==============================] - 15s 119ms/step - loss: 0.0821 - accuracy: 0.9550 - val_loss: 0.1520 - val_accuracy: 0.9128\n",
      "Epoch 2/2\n",
      "129/129 [==============================] - 14s 111ms/step - loss: 0.0793 - accuracy: 0.9576 - val_loss: 0.1594 - val_accuracy: 0.9425\n"
     ]
    }
   ],
   "source": [
    "history = model.fit(training_padded, training_labels, batch_size=128, epochs=2, validation_data=(testing_padded, testing_labels), verbose=1)"
   ]
  },
  {
   "cell_type": "code",
   "execution_count": 32,
   "metadata": {
    "colab": {
     "base_uri": "https://localhost:8080/",
     "height": 1000
    },
    "id": "fpzHswneMSZv",
    "outputId": "631c30a7-1135-4e33-b97b-0a5f27eb6eff"
   },
   "outputs": [
    {
     "data": {
      "image/png": "[encoded data removed]",
      "text/plain": [
       "<IPython.core.display.Image object>"
      ]
     },
     "execution_count": 32,
     "metadata": {},
     "output_type": "execute_result"
    }
   ],
   "source": [
    "tf.keras.utils.plot_model(model, show_shapes=True)"
   ]
  },
  {
   "cell_type": "code",
   "execution_count": 28,
   "metadata": {
    "colab": {
     "base_uri": "https://localhost:8080/"
    },
    "id": "ctfA3AV-NbFv",
    "outputId": "faff3ffc-5077-41b0-a484-f57491411217"
   },
   "outputs": [
    {
     "name": "stdout",
     "output_type": "stream",
     "text": [
      "[[2573   35   87]\n",
      " [  63  666   69]\n",
      " [ 163   94  857]]\n",
      "              precision    recall  f1-score   support\n",
      "\n",
      "           0       0.92      0.95      0.94      2695\n",
      "           1       0.84      0.83      0.84       798\n",
      "           2       0.85      0.77      0.81      1114\n",
      "\n",
      "    accuracy                           0.89      4607\n",
      "   macro avg       0.87      0.85      0.86      4607\n",
      "weighted avg       0.89      0.89      0.89      4607\n",
      "\n"
     ]
    }
   ],
   "source": [
    "from sklearn.metrics import confusion_matrix\n",
    "from sklearn.metrics import classification_report\n",
    "import numpy as np\n",
    "\n",
    "pred=model.predict(testing_padded)\n",
    "rounded_labels1=np.argmax(pred, axis=1).astype(int)\n",
    "cm = confusion_matrix(testing_labels, rounded_labels1)\n",
    "print(cm)\n",
    "print(classification_report(testing_labels, rounded_labels1, labels=[0,1,2]))"
   ]
  },
  {
   "cell_type": "code",
   "execution_count": 29,
   "metadata": {
    "colab": {
     "base_uri": "https://localhost:8080/"
    },
    "id": "XP0QbLyyJiJl",
    "outputId": "91ed7127-0527-4251-dd2d-de7d25d9c8b3"
   },
   "outputs": [
    {
     "name": "stdout",
     "output_type": "stream",
     "text": [
      "[[507  31  49]\n",
      " [ 51 193   9]\n",
      " [ 80 135 237]]\n",
      "              precision    recall  f1-score   support\n",
      "\n",
      "           0       0.79      0.86      0.83       587\n",
      "           1       0.54      0.76      0.63       253\n",
      "           2       0.80      0.52      0.63       452\n",
      "\n",
      "    accuracy                           0.73      1292\n",
      "   macro avg       0.71      0.72      0.70      1292\n",
      "weighted avg       0.75      0.73      0.72      1292\n",
      "\n"
     ]
    }
   ],
   "source": [
    "pred12=model.predict(testing_padded12)\n",
    "rounded_labels112=np.argmax(pred12, axis=1).astype(int)\n",
    "cm12 = confusion_matrix(testing_labels12, rounded_labels112)\n",
    "print(cm12)\n",
    "print(classification_report(testing_labels12, rounded_labels112, labels=[0,1,2]))"
   ]
  },
  {
   "cell_type": "code",
   "execution_count": 30,
   "metadata": {
    "colab": {
     "base_uri": "https://localhost:8080/"
    },
    "id": "xKHQnnggJ3PJ",
    "outputId": "58466e0b-86dd-4396-958c-4a0e3f20bbb3"
   },
   "outputs": [
    {
     "name": "stdout",
     "output_type": "stream",
     "text": [
      "[[ 523    0    3]\n",
      " [   0    7    0]\n",
      " [  22    3 1282]]\n",
      "              precision    recall  f1-score   support\n",
      "\n",
      "           0       0.96      0.99      0.98       526\n",
      "           1       0.70      1.00      0.82         7\n",
      "           2       1.00      0.98      0.99      1307\n",
      "\n",
      "    accuracy                           0.98      1840\n",
      "   macro avg       0.89      0.99      0.93      1840\n",
      "weighted avg       0.99      0.98      0.98      1840\n",
      "\n"
     ]
    }
   ],
   "source": [
    "pred34=model.predict(testing_padded34)\n",
    "rounded_labels134=np.argmax(pred34, axis=1).astype(int)\n",
    "cm34 = confusion_matrix(testing_labels34, rounded_labels134)\n",
    "print(cm34)\n",
    "print(classification_report(testing_labels34, rounded_labels134, labels=[0,1,2]))"
   ]
  },
  {
   "cell_type": "code",
   "execution_count": 31,
   "metadata": {
    "colab": {
     "base_uri": "https://localhost:8080/"
    },
    "id": "8noH9-BkMA7s",
    "outputId": "7765d1de-fdcc-4b12-ea11-fe7b8d839435"
   },
   "outputs": [
    {
     "name": "stdout",
     "output_type": "stream",
     "text": [
      "[[3762   67  206]\n",
      " [ 356  507  591]\n",
      " [ 138  150 2539]]\n",
      "              precision    recall  f1-score   support\n",
      "\n",
      "           0       0.88      0.93      0.91      4035\n",
      "           1       0.70      0.35      0.47      1454\n",
      "           2       0.76      0.90      0.82      2827\n",
      "\n",
      "    accuracy                           0.82      8316\n",
      "   macro avg       0.78      0.73      0.73      8316\n",
      "weighted avg       0.81      0.82      0.80      8316\n",
      "\n"
     ]
    }
   ],
   "source": [
    "pred5=model.predict(testing_padded5)\n",
    "rounded_labels15=np.argmax(pred5, axis=1).astype(int)\n",
    "cm5 = confusion_matrix(testing_labels5, rounded_labels15)\n",
    "print(cm5)\n",
    "print(classification_report(testing_labels5, rounded_labels15, labels=[0,1,2]))"
   ]
  },
  {
   "cell_type": "code",
   "execution_count": 34,
   "metadata": {
    "colab": {
     "base_uri": "https://localhost:8080/",
     "height": 573
    },
    "id": "QXLyKWWv58Qd",
    "outputId": "96635d3f-6afb-42b7-91bf-43a2da2fa0e8"
   },
   "outputs": [
    {
     "data": {
      "image/png": "[encoded data removed]",
      "text/plain": [
       "<Figure size 432x288 with 1 Axes>"
      ]
     },
     "metadata": {
      "needs_background": "light"
     },
     "output_type": "display_data"
    },
    {
     "data": {
      "image/png": "[encoded data removed]",
      "text/plain": [
       "<Figure size 432x288 with 1 Axes>"
      ]
     },
     "metadata": {
      "needs_background": "light"
     },
     "output_type": "display_data"
    }
   ],
   "source": [
    "import matplotlib.pyplot as plt\n",
    "import numpy\n",
    "# summarize history for accuracy\n",
    "plt.plot(history.history['loss'])\n",
    "plt.plot(history.history['val_loss'])\n",
    "plt.title('model loss')\n",
    "plt.ylabel('loss')\n",
    "plt.xlabel('epoch')\n",
    "plt.legend(['train', 'test'], loc='upper left')\n",
    "plt.show()\n",
    "# summarize history for loss\n",
    "plt.plot(history.history['accuracy'])\n",
    "plt.plot(history.history['val_accuracy'])\n",
    "plt.title('model accuracy')\n",
    "plt.ylabel('accuracy')\n",
    "plt.xlabel('epoch')\n",
    "plt.legend(['train', 'test'], loc='upper left')\n",
    "plt.show()"
   ]
  },
  {
   "cell_type": "markdown",
   "metadata": {
    "id": "2DGrTNt17GKc"
   },
   "source": [
    "##For the Second Model"
   ]
  },
  {
   "cell_type": "code",
   "execution_count": 35,
   "metadata": {
    "colab": {
     "base_uri": "https://localhost:8080/"
    },
    "id": "Vsv2gTUcITR-",
    "outputId": "a4af918f-3067-4466-efaf-fbe784c023ef"
   },
   "outputs": [
    {
     "name": "stdout",
     "output_type": "stream",
     "text": [
      "Model: \"sequential_1\"\n",
      "_________________________________________________________________\n",
      " Layer (type)                Output Shape              Param #   \n",
      "=================================================================\n",
      " embedding_1 (Embedding)     (None, 388, 16)           834688    \n",
      "                                                                 \n",
      " conv1d_2 (Conv1D)           (None, 384, 128)          10368     \n",
      "                                                                 \n",
      " global_max_pooling1d (Globa  (None, 128)              0         \n",
      " lMaxPooling1D)                                                  \n",
      "                                                                 \n",
      " flatten_1 (Flatten)         (None, 128)               0         \n",
      "                                                                 \n",
      " dense_2 (Dense)             (None, 24)                3096      \n",
      "                                                                 \n",
      " dense_3 (Dense)             (None, 3)                 75        \n",
      "                                                                 \n",
      "=================================================================\n",
      "Total params: 848,227\n",
      "Trainable params: 848,227\n",
      "Non-trainable params: 0\n",
      "_________________________________________________________________\n"
     ]
    }
   ],
   "source": [
    "import tensorflow as tf\n",
    "model2 = tf.keras.Sequential([\n",
    "    tf.keras.layers.Embedding(vocab_size, embedding_dim, input_length=max_length),\n",
    "    tf.keras.layers.Conv1D(128, 5, activation='relu'),\n",
    "    tf.keras.layers.GlobalMaxPooling1D(),\n",
    "    tf.keras.layers.Flatten(),\n",
    "    tf.keras.layers.Dense(24, activation='relu'),\n",
    "    tf.keras.layers.Dense(units=3, activation='softmax')\n",
    "])\n",
    "model2.summary()"
   ]
  },
  {
   "cell_type": "code",
   "execution_count": 36,
   "metadata": {
    "colab": {
     "base_uri": "https://localhost:8080/"
    },
    "id": "-edaUQlH57pA",
    "outputId": "d709f1fd-5864-4010-9e44-ff59edffb1bc"
   },
   "outputs": [
    {
     "name": "stdout",
     "output_type": "stream",
     "text": [
      "Epoch 1/50\n",
      "144/144 [==============================] - 2s 10ms/step - loss: 0.9405 - accuracy: 0.5641 - val_loss: 0.7260 - val_accuracy: 0.6816\n",
      "Epoch 2/50\n",
      "144/144 [==============================] - 1s 8ms/step - loss: 0.6497 - accuracy: 0.7384 - val_loss: 0.5000 - val_accuracy: 0.8144\n",
      "Epoch 3/50\n",
      "144/144 [==============================] - 1s 8ms/step - loss: 0.5248 - accuracy: 0.7955 - val_loss: 0.4491 - val_accuracy: 0.8359\n",
      "Epoch 4/50\n",
      "144/144 [==============================] - 1s 8ms/step - loss: 0.4682 - accuracy: 0.8178 - val_loss: 0.4232 - val_accuracy: 0.8444\n",
      "Epoch 5/50\n",
      "144/144 [==============================] - 1s 9ms/step - loss: 0.4269 - accuracy: 0.8359 - val_loss: 0.4043 - val_accuracy: 0.8483\n",
      "Epoch 6/50\n",
      "144/144 [==============================] - 1s 8ms/step - loss: 0.3878 - accuracy: 0.8538 - val_loss: 0.3951 - val_accuracy: 0.8550\n",
      "Epoch 7/50\n",
      "144/144 [==============================] - 1s 9ms/step - loss: 0.3513 - accuracy: 0.8670 - val_loss: 0.3820 - val_accuracy: 0.8659\n",
      "Epoch 8/50\n",
      "144/144 [==============================] - 1s 8ms/step - loss: 0.3138 - accuracy: 0.8838 - val_loss: 0.3687 - val_accuracy: 0.8698\n",
      "Epoch 9/50\n",
      "144/144 [==============================] - 1s 8ms/step - loss: 0.2793 - accuracy: 0.8995 - val_loss: 0.3854 - val_accuracy: 0.8674\n",
      "Epoch 10/50\n",
      "144/144 [==============================] - 1s 9ms/step - loss: 0.2514 - accuracy: 0.9108 - val_loss: 0.3760 - val_accuracy: 0.8761\n",
      "Epoch 11/50\n",
      "144/144 [==============================] - 1s 9ms/step - loss: 0.2254 - accuracy: 0.9209 - val_loss: 0.3710 - val_accuracy: 0.8819\n",
      "Epoch 12/50\n",
      "144/144 [==============================] - 1s 8ms/step - loss: 0.2003 - accuracy: 0.9293 - val_loss: 0.3724 - val_accuracy: 0.8821\n",
      "Epoch 13/50\n",
      "144/144 [==============================] - 1s 8ms/step - loss: 0.1846 - accuracy: 0.9338 - val_loss: 0.3723 - val_accuracy: 0.8845\n",
      "Epoch 14/50\n",
      "144/144 [==============================] - 1s 9ms/step - loss: 0.1718 - accuracy: 0.9379 - val_loss: 0.3886 - val_accuracy: 0.8841\n",
      "Epoch 15/50\n",
      "144/144 [==============================] - 1s 8ms/step - loss: 0.1586 - accuracy: 0.9418 - val_loss: 0.3876 - val_accuracy: 0.8845\n",
      "Epoch 16/50\n",
      "144/144 [==============================] - 1s 8ms/step - loss: 0.1520 - accuracy: 0.9446 - val_loss: 0.3980 - val_accuracy: 0.8852\n",
      "Epoch 17/50\n",
      "144/144 [==============================] - 1s 9ms/step - loss: 0.1436 - accuracy: 0.9461 - val_loss: 0.4057 - val_accuracy: 0.8880\n",
      "Epoch 18/50\n",
      "144/144 [==============================] - 1s 8ms/step - loss: 0.1380 - accuracy: 0.9483 - val_loss: 0.4144 - val_accuracy: 0.8843\n",
      "Epoch 19/50\n",
      "144/144 [==============================] - 1s 8ms/step - loss: 0.1339 - accuracy: 0.9500 - val_loss: 0.4256 - val_accuracy: 0.8826\n",
      "Epoch 20/50\n",
      "144/144 [==============================] - 1s 9ms/step - loss: 0.1279 - accuracy: 0.9518 - val_loss: 0.4245 - val_accuracy: 0.8824\n",
      "Epoch 21/50\n",
      "144/144 [==============================] - 1s 9ms/step - loss: 0.1244 - accuracy: 0.9531 - val_loss: 0.4191 - val_accuracy: 0.8915\n",
      "Epoch 22/50\n",
      "144/144 [==============================] - 1s 9ms/step - loss: 0.1207 - accuracy: 0.9531 - val_loss: 0.4251 - val_accuracy: 0.8895\n",
      "Epoch 23/50\n",
      "144/144 [==============================] - 1s 9ms/step - loss: 0.1165 - accuracy: 0.9544 - val_loss: 0.4364 - val_accuracy: 0.8908\n",
      "Epoch 24/50\n",
      "144/144 [==============================] - 1s 9ms/step - loss: 0.1146 - accuracy: 0.9542 - val_loss: 0.4299 - val_accuracy: 0.8886\n",
      "Epoch 25/50\n",
      "144/144 [==============================] - 1s 8ms/step - loss: 0.1110 - accuracy: 0.9557 - val_loss: 0.4424 - val_accuracy: 0.8856\n",
      "Epoch 26/50\n",
      "144/144 [==============================] - 1s 8ms/step - loss: 0.1114 - accuracy: 0.9556 - val_loss: 0.4414 - val_accuracy: 0.8867\n",
      "Epoch 27/50\n",
      "144/144 [==============================] - 1s 8ms/step - loss: 0.1099 - accuracy: 0.9560 - val_loss: 0.4422 - val_accuracy: 0.8873\n",
      "Epoch 28/50\n",
      "144/144 [==============================] - 1s 8ms/step - loss: 0.1064 - accuracy: 0.9564 - val_loss: 0.4543 - val_accuracy: 0.8860\n",
      "Epoch 29/50\n",
      "144/144 [==============================] - 1s 8ms/step - loss: 0.1054 - accuracy: 0.9572 - val_loss: 0.4505 - val_accuracy: 0.8895\n",
      "Epoch 30/50\n",
      "144/144 [==============================] - 1s 9ms/step - loss: 0.1046 - accuracy: 0.9575 - val_loss: 0.4652 - val_accuracy: 0.8819\n",
      "Epoch 31/50\n",
      "144/144 [==============================] - 1s 8ms/step - loss: 0.1038 - accuracy: 0.9585 - val_loss: 0.4639 - val_accuracy: 0.8867\n",
      "Epoch 32/50\n",
      "144/144 [==============================] - 1s 8ms/step - loss: 0.1007 - accuracy: 0.9578 - val_loss: 0.4627 - val_accuracy: 0.8867\n",
      "Epoch 33/50\n",
      "144/144 [==============================] - 1s 8ms/step - loss: 0.1004 - accuracy: 0.9587 - val_loss: 0.4613 - val_accuracy: 0.8850\n",
      "Epoch 34/50\n",
      "144/144 [==============================] - 1s 8ms/step - loss: 0.0992 - accuracy: 0.9586 - val_loss: 0.4588 - val_accuracy: 0.8884\n",
      "Epoch 35/50\n",
      "144/144 [==============================] - 1s 9ms/step - loss: 0.1000 - accuracy: 0.9577 - val_loss: 0.4703 - val_accuracy: 0.8869\n",
      "Epoch 36/50\n",
      "144/144 [==============================] - 1s 8ms/step - loss: 0.0972 - accuracy: 0.9591 - val_loss: 0.4615 - val_accuracy: 0.8893\n",
      "Epoch 37/50\n",
      "144/144 [==============================] - 1s 8ms/step - loss: 0.0957 - accuracy: 0.9597 - val_loss: 0.4637 - val_accuracy: 0.8904\n",
      "Epoch 38/50\n",
      "144/144 [==============================] - 1s 8ms/step - loss: 0.0939 - accuracy: 0.9599 - val_loss: 0.4690 - val_accuracy: 0.8928\n",
      "Epoch 39/50\n",
      "144/144 [==============================] - 1s 9ms/step - loss: 0.0952 - accuracy: 0.9597 - val_loss: 0.4919 - val_accuracy: 0.8880\n",
      "Epoch 40/50\n",
      "144/144 [==============================] - 1s 8ms/step - loss: 0.0958 - accuracy: 0.9576 - val_loss: 0.4786 - val_accuracy: 0.8884\n",
      "Epoch 41/50\n",
      "144/144 [==============================] - 1s 9ms/step - loss: 0.0924 - accuracy: 0.9604 - val_loss: 0.4759 - val_accuracy: 0.8906\n",
      "Epoch 42/50\n",
      "144/144 [==============================] - 1s 9ms/step - loss: 0.0921 - accuracy: 0.9597 - val_loss: 0.4763 - val_accuracy: 0.8891\n",
      "Epoch 43/50\n",
      "144/144 [==============================] - 1s 9ms/step - loss: 0.0930 - accuracy: 0.9586 - val_loss: 0.4721 - val_accuracy: 0.8889\n",
      "Epoch 44/50\n",
      "144/144 [==============================] - 1s 9ms/step - loss: 0.0922 - accuracy: 0.9603 - val_loss: 0.4827 - val_accuracy: 0.8873\n",
      "Epoch 45/50\n",
      "144/144 [==============================] - 1s 9ms/step - loss: 0.0915 - accuracy: 0.9592 - val_loss: 0.4850 - val_accuracy: 0.8904\n",
      "Epoch 46/50\n",
      "144/144 [==============================] - 1s 8ms/step - loss: 0.0906 - accuracy: 0.9598 - val_loss: 0.4821 - val_accuracy: 0.8891\n",
      "Epoch 47/50\n",
      "144/144 [==============================] - 1s 8ms/step - loss: 0.0902 - accuracy: 0.9602 - val_loss: 0.4982 - val_accuracy: 0.8873\n",
      "Epoch 48/50\n",
      "144/144 [==============================] - 1s 8ms/step - loss: 0.0902 - accuracy: 0.9599 - val_loss: 0.4921 - val_accuracy: 0.8882\n",
      "Epoch 49/50\n",
      "144/144 [==============================] - 1s 9ms/step - loss: 0.0895 - accuracy: 0.9609 - val_loss: 0.4782 - val_accuracy: 0.8917\n",
      "Epoch 50/50\n",
      "144/144 [==============================] - 1s 8ms/step - loss: 0.0880 - accuracy: 0.9603 - val_loss: 0.4818 - val_accuracy: 0.8936\n"
     ]
    }
   ],
   "source": [
    "model2.compile(loss=\"sparse_categorical_crossentropy\",optimizer='adam',metrics=['accuracy'])\n",
    "\n",
    "history = model2.fit(training_padded, training_labels, batch_size=128, epochs=50, validation_data=(testing_padded, testing_labels), verbose=1)"
   ]
  },
  {
   "cell_type": "code",
   "execution_count": null,
   "metadata": {
    "id": "ELYuX4V6V9HC"
   },
   "outputs": [],
   "source": [
    "#Epoch 50/50\n",
    "#129/129 [==============================] - 1s 6ms/step - loss: 0.0928 - accuracy: 0.9549 - val_loss: 0.1237 - val_accuracy: 0.9445"
   ]
  },
  {
   "cell_type": "code",
   "execution_count": 37,
   "metadata": {
    "id": "qV2xI0z5V6_Q"
   },
   "outputs": [],
   "source": [
    "model.save('Model2Unbalanced08.h5')"
   ]
  },
  {
   "cell_type": "code",
   "execution_count": 38,
   "metadata": {
    "colab": {
     "base_uri": "https://localhost:8080/",
     "height": 754
    },
    "id": "Djs_EiWq6Sc1",
    "outputId": "ea921f93-3399-435e-c472-acab0de481de"
   },
   "outputs": [
    {
     "data": {
      "image/png": "[encoded data removed]",
      "text/plain": [
       "<IPython.core.display.Image object>"
      ]
     },
     "execution_count": 38,
     "metadata": {},
     "output_type": "execute_result"
    }
   ],
   "source": [
    "tf.keras.utils.plot_model(model2, show_shapes=True)"
   ]
  },
  {
   "cell_type": "code",
   "execution_count": 39,
   "metadata": {
    "colab": {
     "base_uri": "https://localhost:8080/"
    },
    "id": "5RAIZlNi58Ht",
    "outputId": "d8e9288f-6110-457b-8af2-e59d8e0bc34f"
   },
   "outputs": [
    {
     "name": "stdout",
     "output_type": "stream",
     "text": [
      "[[2580   32   83]\n",
      " [  64  664   70]\n",
      " [ 147   94  873]]\n",
      "              precision    recall  f1-score   support\n",
      "\n",
      "           0       0.92      0.96      0.94      2695\n",
      "           1       0.84      0.83      0.84       798\n",
      "           2       0.85      0.78      0.82      1114\n",
      "\n",
      "    accuracy                           0.89      4607\n",
      "   macro avg       0.87      0.86      0.86      4607\n",
      "weighted avg       0.89      0.89      0.89      4607\n",
      "\n"
     ]
    }
   ],
   "source": [
    "pred1=model2.predict(testing_padded)\n",
    "\n",
    "pred11=[]\n",
    "for i in pred1:\n",
    "  if i[0]==max(i):\n",
    "    pred11.append(0)\n",
    "  elif i[1]==max(i):\n",
    "    pred11.append(1)\n",
    "  else:\n",
    "    pred11.append(2)\n",
    "#rounded_labels11=np.argmax(pred11, axis=1).astype(int)\n",
    "cm = confusion_matrix(testing_labels, pred11)\n",
    "print(cm)\n",
    "print(classification_report(testing_labels, pred11, labels=[0,1,2]))"
   ]
  },
  {
   "cell_type": "code",
   "execution_count": 40,
   "metadata": {
    "colab": {
     "base_uri": "https://localhost:8080/"
    },
    "id": "p7iWnGdoKkHJ",
    "outputId": "50bea440-85d4-496a-ba6c-b3abef066e39"
   },
   "outputs": [
    {
     "name": "stdout",
     "output_type": "stream",
     "text": [
      "[[519  30  38]\n",
      " [ 51 192  10]\n",
      " [ 85 137 230]]\n",
      "              precision    recall  f1-score   support\n",
      "\n",
      "           0       0.79      0.88      0.84       587\n",
      "           1       0.53      0.76      0.63       253\n",
      "           2       0.83      0.51      0.63       452\n",
      "\n",
      "    accuracy                           0.73      1292\n",
      "   macro avg       0.72      0.72      0.70      1292\n",
      "weighted avg       0.75      0.73      0.72      1292\n",
      "\n"
     ]
    }
   ],
   "source": [
    "pred12=model2.predict(testing_padded12)\n",
    "rounded_labels212=np.argmax(pred12, axis=1).astype(int)\n",
    "cm12 = confusion_matrix(testing_labels12, rounded_labels212)\n",
    "print(cm12)\n",
    "print(classification_report(testing_labels12, rounded_labels212, labels=[0,1,2]))"
   ]
  },
  {
   "cell_type": "code",
   "execution_count": 41,
   "metadata": {
    "colab": {
     "base_uri": "https://localhost:8080/"
    },
    "id": "t3trQk4OKw0Q",
    "outputId": "ed45d3a8-448c-41e6-ba1e-565c5ab6f51d"
   },
   "outputs": [
    {
     "name": "stdout",
     "output_type": "stream",
     "text": [
      "[[ 518    0    8]\n",
      " [   0    7    0]\n",
      " [  13    1 1293]]\n",
      "              precision    recall  f1-score   support\n",
      "\n",
      "           0       0.98      0.98      0.98       526\n",
      "           1       0.88      1.00      0.93         7\n",
      "           2       0.99      0.99      0.99      1307\n",
      "\n",
      "    accuracy                           0.99      1840\n",
      "   macro avg       0.95      0.99      0.97      1840\n",
      "weighted avg       0.99      0.99      0.99      1840\n",
      "\n"
     ]
    }
   ],
   "source": [
    "pred34=model2.predict(testing_padded34)\n",
    "rounded_labels234=np.argmax(pred34, axis=1).astype(int)\n",
    "cm34 = confusion_matrix(testing_labels34, rounded_labels234)\n",
    "print(cm34)\n",
    "print(classification_report(testing_labels34, rounded_labels234, labels=[0,1,2]))"
   ]
  },
  {
   "cell_type": "code",
   "execution_count": 42,
   "metadata": {
    "colab": {
     "base_uri": "https://localhost:8080/"
    },
    "id": "YMHiBV5cMN_r",
    "outputId": "b4c98996-aa70-448c-c21e-357845709b8f"
   },
   "outputs": [
    {
     "name": "stdout",
     "output_type": "stream",
     "text": [
      "[[3759   64  212]\n",
      " [ 351  494  609]\n",
      " [ 120  141 2566]]\n",
      "              precision    recall  f1-score   support\n",
      "\n",
      "           0       0.89      0.93      0.91      4035\n",
      "           1       0.71      0.34      0.46      1454\n",
      "           2       0.76      0.91      0.83      2827\n",
      "\n",
      "    accuracy                           0.82      8316\n",
      "   macro avg       0.78      0.73      0.73      8316\n",
      "weighted avg       0.81      0.82      0.80      8316\n",
      "\n"
     ]
    }
   ],
   "source": [
    "pred5=model2.predict(testing_padded5)\n",
    "rounded_labels25=np.argmax(pred5, axis=1).astype(int)\n",
    "cm5 = confusion_matrix(testing_labels5, rounded_labels25)\n",
    "print(cm5)\n",
    "print(classification_report(testing_labels5, rounded_labels25, labels=[0,1,2]))"
   ]
  },
  {
   "cell_type": "code",
   "execution_count": 43,
   "metadata": {
    "colab": {
     "base_uri": "https://localhost:8080/",
     "height": 573
    },
    "id": "R2WgOyeb_PHC",
    "outputId": "926f3dda-b852-4272-f34d-d3efe92b32f4"
   },
   "outputs": [
    {
     "data": {
      "image/png": "[encoded data removed]",
      "text/plain": [
       "<Figure size 432x288 with 1 Axes>"
      ]
     },
     "metadata": {
      "needs_background": "light"
     },
     "output_type": "display_data"
    },
    {
     "data": {
      "image/png": "[encoded data removed]",
      "text/plain": [
       "<Figure size 432x288 with 1 Axes>"
      ]
     },
     "metadata": {
      "needs_background": "light"
     },
     "output_type": "display_data"
    }
   ],
   "source": [
    "import matplotlib.pyplot as plt\n",
    "import numpy\n",
    "# summarize history for accuracy\n",
    "plt.plot(history.history['loss'])\n",
    "plt.plot(history.history['val_loss'])\n",
    "plt.title('model loss')\n",
    "plt.ylabel('loss')\n",
    "plt.xlabel('epoch')\n",
    "plt.legend(['train', 'test'], loc='upper left')\n",
    "plt.show()\n",
    "# summarize history for loss\n",
    "plt.plot(history.history['accuracy'])\n",
    "plt.plot(history.history['val_accuracy'])\n",
    "plt.title('model accuracy')\n",
    "plt.ylabel('accuracy')\n",
    "plt.xlabel('epoch')\n",
    "plt.legend(['train', 'test'], loc='upper left')\n",
    "plt.show()"
   ]
  },
  {
   "cell_type": "markdown",
   "metadata": {
    "id": "FRfELBgw7A3Z"
   },
   "source": [
    "##For The Third Model"
   ]
  },
  {
   "cell_type": "code",
   "execution_count": 44,
   "metadata": {
    "colab": {
     "base_uri": "https://localhost:8080/"
    },
    "id": "JvX2b2nORvKS",
    "outputId": "6ac1456a-7af9-4638-fe8e-8201f66b5278"
   },
   "outputs": [
    {
     "name": "stdout",
     "output_type": "stream",
     "text": [
      "Model: \"sequential_2\"\n",
      "_________________________________________________________________\n",
      " Layer (type)                Output Shape              Param #   \n",
      "=================================================================\n",
      " embedding_2 (Embedding)     (None, 388, 16)           834688    \n",
      "                                                                 \n",
      " bidirectional_3 (Bidirectio  (None, 64)               12544     \n",
      " nal)                                                            \n",
      "                                                                 \n",
      " flatten_2 (Flatten)         (None, 64)                0         \n",
      "                                                                 \n",
      " dense_4 (Dense)             (None, 24)                1560      \n",
      "                                                                 \n",
      " dense_5 (Dense)             (None, 3)                 75        \n",
      "                                                                 \n",
      "=================================================================\n",
      "Total params: 848,867\n",
      "Trainable params: 848,867\n",
      "Non-trainable params: 0\n",
      "_________________________________________________________________\n"
     ]
    }
   ],
   "source": [
    "model3 = tf.keras.Sequential([\n",
    "    tf.keras.layers.Embedding(vocab_size, embedding_dim, input_length=max_length),\n",
    "    tf.keras.layers.Bidirectional(tf.keras.layers.LSTM(32)),\n",
    "    tf.keras.layers.Flatten(),\n",
    "    tf.keras.layers.Dense(24, activation='relu'),\n",
    "    tf.keras.layers.Dense(3, activation='softmax')\n",
    "])\n",
    "model3.summary()"
   ]
  },
  {
   "cell_type": "code",
   "execution_count": 45,
   "metadata": {
    "colab": {
     "base_uri": "https://localhost:8080/"
    },
    "id": "El4d_GRU6x2l",
    "outputId": "53a5bd16-3b40-4a18-f362-fa0ec84b01d1"
   },
   "outputs": [
    {
     "name": "stdout",
     "output_type": "stream",
     "text": [
      "Epoch 1/50\n",
      "144/144 [==============================] - 8s 37ms/step - loss: 0.9547 - accuracy: 0.5582 - val_loss: 0.7261 - val_accuracy: 0.6753\n",
      "Epoch 2/50\n",
      "144/144 [==============================] - 5s 33ms/step - loss: 0.7416 - accuracy: 0.6806 - val_loss: 0.5953 - val_accuracy: 0.7384\n",
      "Epoch 3/50\n",
      "144/144 [==============================] - 5s 35ms/step - loss: 0.6309 - accuracy: 0.7449 - val_loss: 0.5330 - val_accuracy: 0.7899\n",
      "Epoch 4/50\n",
      "144/144 [==============================] - 4s 31ms/step - loss: 0.5469 - accuracy: 0.7875 - val_loss: 0.4881 - val_accuracy: 0.8168\n",
      "Epoch 5/50\n",
      "144/144 [==============================] - 4s 31ms/step - loss: 0.5198 - accuracy: 0.7981 - val_loss: 0.4703 - val_accuracy: 0.8214\n",
      "Epoch 6/50\n",
      "144/144 [==============================] - 4s 30ms/step - loss: 0.4802 - accuracy: 0.8135 - val_loss: 0.4627 - val_accuracy: 0.8203\n",
      "Epoch 7/50\n",
      "144/144 [==============================] - 4s 30ms/step - loss: 0.4594 - accuracy: 0.8235 - val_loss: 0.4435 - val_accuracy: 0.8277\n",
      "Epoch 8/50\n",
      "144/144 [==============================] - 4s 31ms/step - loss: 0.4466 - accuracy: 0.8293 - val_loss: 0.4438 - val_accuracy: 0.8277\n",
      "Epoch 9/50\n",
      "144/144 [==============================] - 4s 31ms/step - loss: 0.4360 - accuracy: 0.8301 - val_loss: 0.4419 - val_accuracy: 0.8303\n",
      "Epoch 10/50\n",
      "144/144 [==============================] - 4s 31ms/step - loss: 0.4265 - accuracy: 0.8367 - val_loss: 0.4258 - val_accuracy: 0.8359\n",
      "Epoch 11/50\n",
      "144/144 [==============================] - 4s 31ms/step - loss: 0.4147 - accuracy: 0.8421 - val_loss: 0.4351 - val_accuracy: 0.8344\n",
      "Epoch 12/50\n",
      "144/144 [==============================] - 4s 31ms/step - loss: 0.4040 - accuracy: 0.8468 - val_loss: 0.4260 - val_accuracy: 0.8428\n",
      "Epoch 13/50\n",
      "144/144 [==============================] - 4s 31ms/step - loss: 0.3912 - accuracy: 0.8545 - val_loss: 0.4167 - val_accuracy: 0.8437\n",
      "Epoch 14/50\n",
      "144/144 [==============================] - 4s 31ms/step - loss: 0.3789 - accuracy: 0.8578 - val_loss: 0.4148 - val_accuracy: 0.8439\n",
      "Epoch 15/50\n",
      "144/144 [==============================] - 4s 31ms/step - loss: 0.3659 - accuracy: 0.8645 - val_loss: 0.4107 - val_accuracy: 0.8491\n",
      "Epoch 16/50\n",
      "144/144 [==============================] - 4s 31ms/step - loss: 0.3619 - accuracy: 0.8657 - val_loss: 0.4097 - val_accuracy: 0.8487\n",
      "Epoch 17/50\n",
      "144/144 [==============================] - 4s 31ms/step - loss: 0.3418 - accuracy: 0.8748 - val_loss: 0.4001 - val_accuracy: 0.8563\n",
      "Epoch 18/50\n",
      "144/144 [==============================] - 4s 31ms/step - loss: 0.3342 - accuracy: 0.8792 - val_loss: 0.3986 - val_accuracy: 0.8561\n",
      "Epoch 19/50\n",
      "144/144 [==============================] - 4s 31ms/step - loss: 0.3203 - accuracy: 0.8842 - val_loss: 0.3984 - val_accuracy: 0.8596\n",
      "Epoch 20/50\n",
      "144/144 [==============================] - 4s 31ms/step - loss: 0.3134 - accuracy: 0.8845 - val_loss: 0.3984 - val_accuracy: 0.8615\n",
      "Epoch 21/50\n",
      "144/144 [==============================] - 4s 31ms/step - loss: 0.3034 - accuracy: 0.8898 - val_loss: 0.3890 - val_accuracy: 0.8622\n",
      "Epoch 22/50\n",
      "144/144 [==============================] - 4s 31ms/step - loss: 0.2947 - accuracy: 0.8931 - val_loss: 0.4020 - val_accuracy: 0.8604\n",
      "Epoch 23/50\n",
      "144/144 [==============================] - 4s 31ms/step - loss: 0.2845 - accuracy: 0.8973 - val_loss: 0.3975 - val_accuracy: 0.8669\n",
      "Epoch 24/50\n",
      "144/144 [==============================] - 4s 31ms/step - loss: 0.2753 - accuracy: 0.9008 - val_loss: 0.4100 - val_accuracy: 0.8689\n",
      "Epoch 25/50\n",
      "144/144 [==============================] - 4s 31ms/step - loss: 0.2704 - accuracy: 0.9014 - val_loss: 0.4084 - val_accuracy: 0.8685\n",
      "Epoch 26/50\n",
      "144/144 [==============================] - 5s 31ms/step - loss: 0.2637 - accuracy: 0.9058 - val_loss: 0.3984 - val_accuracy: 0.8706\n",
      "Epoch 27/50\n",
      "144/144 [==============================] - 4s 31ms/step - loss: 0.2566 - accuracy: 0.9078 - val_loss: 0.4125 - val_accuracy: 0.8656\n",
      "Epoch 28/50\n",
      "144/144 [==============================] - 4s 31ms/step - loss: 0.2533 - accuracy: 0.9083 - val_loss: 0.4084 - val_accuracy: 0.8706\n",
      "Epoch 29/50\n",
      "144/144 [==============================] - 4s 31ms/step - loss: 0.2465 - accuracy: 0.9109 - val_loss: 0.4051 - val_accuracy: 0.8667\n",
      "Epoch 30/50\n",
      "144/144 [==============================] - 4s 31ms/step - loss: 0.2390 - accuracy: 0.9145 - val_loss: 0.4168 - val_accuracy: 0.8695\n",
      "Epoch 31/50\n",
      "144/144 [==============================] - 5s 38ms/step - loss: 0.2346 - accuracy: 0.9152 - val_loss: 0.4084 - val_accuracy: 0.8702\n",
      "Epoch 32/50\n",
      "144/144 [==============================] - 5s 31ms/step - loss: 0.2377 - accuracy: 0.9155 - val_loss: 0.4170 - val_accuracy: 0.8698\n",
      "Epoch 33/50\n",
      "144/144 [==============================] - 4s 31ms/step - loss: 0.2247 - accuracy: 0.9171 - val_loss: 0.4291 - val_accuracy: 0.8665\n",
      "Epoch 34/50\n",
      "144/144 [==============================] - 5s 31ms/step - loss: 0.2252 - accuracy: 0.9191 - val_loss: 0.4126 - val_accuracy: 0.8739\n",
      "Epoch 35/50\n",
      "144/144 [==============================] - 4s 31ms/step - loss: 0.2189 - accuracy: 0.9217 - val_loss: 0.4305 - val_accuracy: 0.8680\n",
      "Epoch 36/50\n",
      "144/144 [==============================] - 4s 31ms/step - loss: 0.2154 - accuracy: 0.9226 - val_loss: 0.4360 - val_accuracy: 0.8665\n",
      "Epoch 37/50\n",
      "144/144 [==============================] - 4s 31ms/step - loss: 0.2102 - accuracy: 0.9248 - val_loss: 0.4452 - val_accuracy: 0.8711\n",
      "Epoch 38/50\n",
      "144/144 [==============================] - 4s 31ms/step - loss: 0.2031 - accuracy: 0.9264 - val_loss: 0.4508 - val_accuracy: 0.8702\n",
      "Epoch 39/50\n",
      "144/144 [==============================] - 4s 31ms/step - loss: 0.2031 - accuracy: 0.9267 - val_loss: 0.4605 - val_accuracy: 0.8648\n",
      "Epoch 40/50\n",
      "144/144 [==============================] - 4s 31ms/step - loss: 0.2104 - accuracy: 0.9239 - val_loss: 0.4335 - val_accuracy: 0.8715\n",
      "Epoch 41/50\n",
      "144/144 [==============================] - 4s 31ms/step - loss: 0.2008 - accuracy: 0.9254 - val_loss: 0.4614 - val_accuracy: 0.8713\n",
      "Epoch 42/50\n",
      "144/144 [==============================] - 4s 31ms/step - loss: 0.1961 - accuracy: 0.9265 - val_loss: 0.4488 - val_accuracy: 0.8713\n",
      "Epoch 43/50\n",
      "144/144 [==============================] - 4s 31ms/step - loss: 0.1933 - accuracy: 0.9285 - val_loss: 0.4309 - val_accuracy: 0.8732\n",
      "Epoch 44/50\n",
      "144/144 [==============================] - 4s 31ms/step - loss: 0.1886 - accuracy: 0.9287 - val_loss: 0.4555 - val_accuracy: 0.8719\n",
      "Epoch 45/50\n",
      "144/144 [==============================] - 4s 31ms/step - loss: 0.1854 - accuracy: 0.9305 - val_loss: 0.4441 - val_accuracy: 0.8763\n",
      "Epoch 46/50\n",
      "144/144 [==============================] - 5s 31ms/step - loss: 0.1843 - accuracy: 0.9302 - val_loss: 0.4410 - val_accuracy: 0.8708\n",
      "Epoch 47/50\n",
      "144/144 [==============================] - 4s 31ms/step - loss: 0.1804 - accuracy: 0.9328 - val_loss: 0.4597 - val_accuracy: 0.8750\n",
      "Epoch 48/50\n",
      "144/144 [==============================] - 4s 31ms/step - loss: 0.1750 - accuracy: 0.9341 - val_loss: 0.4415 - val_accuracy: 0.8765\n",
      "Epoch 49/50\n",
      "144/144 [==============================] - 4s 31ms/step - loss: 0.1714 - accuracy: 0.9347 - val_loss: 0.4676 - val_accuracy: 0.8722\n",
      "Epoch 50/50\n",
      "144/144 [==============================] - 5s 31ms/step - loss: 0.1694 - accuracy: 0.9339 - val_loss: 0.4671 - val_accuracy: 0.8745\n"
     ]
    }
   ],
   "source": [
    "model3.compile(loss=\"sparse_categorical_crossentropy\",optimizer='adam',metrics=['accuracy'])\n",
    "history = model3.fit(training_padded, training_labels, batch_size=128, epochs=50, validation_data=(testing_padded, testing_labels), verbose=1)"
   ]
  },
  {
   "cell_type": "code",
   "execution_count": null,
   "metadata": {
    "id": "BHRXgvpCoku9"
   },
   "outputs": [],
   "source": [
    "#Epoch 50/50\n",
    "#129/129 [==============================] - 2s 19ms/step - loss: 0.1259 - accuracy: 0.9401 - val_loss: 0.1715 - val_accuracy: 0.9209"
   ]
  },
  {
   "cell_type": "code",
   "execution_count": 46,
   "metadata": {
    "id": "xac47tKAXYJT"
   },
   "outputs": [],
   "source": [
    "model.save('Model3Unbalanced08.h5')"
   ]
  },
  {
   "cell_type": "code",
   "execution_count": 47,
   "metadata": {
    "colab": {
     "base_uri": "https://localhost:8080/",
     "height": 644
    },
    "id": "1dVvLzBo61G8",
    "outputId": "f2a52de6-32df-4939-e04c-4a3423e6463e"
   },
   "outputs": [
    {
     "data": {
      "image/png": "[encoded data removed]",
      "text/plain": [
       "<IPython.core.display.Image object>"
      ]
     },
     "execution_count": 47,
     "metadata": {},
     "output_type": "execute_result"
    }
   ],
   "source": [
    "tf.keras.utils.plot_model(model3, show_shapes=True)"
   ]
  },
  {
   "cell_type": "code",
   "execution_count": 48,
   "metadata": {
    "colab": {
     "base_uri": "https://localhost:8080/"
    },
    "id": "Vg0RP9_k63Ri",
    "outputId": "f1b9128b-05e6-4647-c827-2bf6da03b83f"
   },
   "outputs": [
    {
     "name": "stdout",
     "output_type": "stream",
     "text": [
      "[[2514   45  136]\n",
      " [  73  633   92]\n",
      " [ 135   97  882]]\n",
      "              precision    recall  f1-score   support\n",
      "\n",
      "           0       0.92      0.93      0.93      2695\n",
      "           1       0.82      0.79      0.80       798\n",
      "           2       0.79      0.79      0.79      1114\n",
      "\n",
      "    accuracy                           0.87      4607\n",
      "   macro avg       0.84      0.84      0.84      4607\n",
      "weighted avg       0.87      0.87      0.87      4607\n",
      "\n"
     ]
    }
   ],
   "source": [
    "pred3=model3.predict(testing_padded)\n",
    "rounded_labels3=np.argmax(pred3, axis=1).astype(int)\n",
    "cm2 = confusion_matrix(testing_labels, rounded_labels3)\n",
    "print(cm2)\n",
    "print(classification_report(testing_labels, rounded_labels3, labels=[0,1,2]))"
   ]
  },
  {
   "cell_type": "code",
   "execution_count": 49,
   "metadata": {
    "colab": {
     "base_uri": "https://localhost:8080/"
    },
    "id": "MfclteTGK-_x",
    "outputId": "8d36cc02-65b7-4f15-a64a-6d46755c40f7"
   },
   "outputs": [
    {
     "name": "stdout",
     "output_type": "stream",
     "text": [
      "[[496  38  53]\n",
      " [ 51 183  19]\n",
      " [ 84 130 238]]\n",
      "              precision    recall  f1-score   support\n",
      "\n",
      "           0       0.79      0.84      0.81       587\n",
      "           1       0.52      0.72      0.61       253\n",
      "           2       0.77      0.53      0.62       452\n",
      "\n",
      "    accuracy                           0.71      1292\n",
      "   macro avg       0.69      0.70      0.68      1292\n",
      "weighted avg       0.73      0.71      0.71      1292\n",
      "\n"
     ]
    }
   ],
   "source": [
    "pred12=model3.predict(testing_padded12)\n",
    "rounded_labels312=np.argmax(pred12, axis=1).astype(int)\n",
    "cm12 = confusion_matrix(testing_labels12, rounded_labels312)\n",
    "print(cm12)\n",
    "print(classification_report(testing_labels12, rounded_labels312, labels=[0,1,2]))"
   ]
  },
  {
   "cell_type": "code",
   "execution_count": 50,
   "metadata": {
    "colab": {
     "base_uri": "https://localhost:8080/"
    },
    "id": "zYydjCkILMG-",
    "outputId": "e1af52ff-4d89-4a38-ebec-052b7553e89e"
   },
   "outputs": [
    {
     "name": "stdout",
     "output_type": "stream",
     "text": [
      "[[ 454    0   72]\n",
      " [   0    6    1]\n",
      " [  15    1 1291]]\n",
      "              precision    recall  f1-score   support\n",
      "\n",
      "           0       0.97      0.86      0.91       526\n",
      "           1       0.86      0.86      0.86         7\n",
      "           2       0.95      0.99      0.97      1307\n",
      "\n",
      "    accuracy                           0.95      1840\n",
      "   macro avg       0.92      0.90      0.91      1840\n",
      "weighted avg       0.95      0.95      0.95      1840\n",
      "\n"
     ]
    }
   ],
   "source": [
    "pred34=model3.predict(testing_padded34)\n",
    "rounded_labels334=np.argmax(pred34, axis=1).astype(int)\n",
    "cm34 = confusion_matrix(testing_labels34, rounded_labels334)\n",
    "print(cm34)\n",
    "print(classification_report(testing_labels34, rounded_labels334, labels=[0,1,2]))"
   ]
  },
  {
   "cell_type": "code",
   "execution_count": 51,
   "metadata": {
    "colab": {
     "base_uri": "https://localhost:8080/"
    },
    "id": "WEXdC3JtMXBu",
    "outputId": "d1684213-bfbd-4174-ba79-7b2800ee41df"
   },
   "outputs": [
    {
     "name": "stdout",
     "output_type": "stream",
     "text": [
      "[[3562   77  396]\n",
      " [ 317  506  631]\n",
      " [  98  147 2582]]\n",
      "              precision    recall  f1-score   support\n",
      "\n",
      "           0       0.90      0.88      0.89      4035\n",
      "           1       0.69      0.35      0.46      1454\n",
      "           2       0.72      0.91      0.80      2827\n",
      "\n",
      "    accuracy                           0.80      8316\n",
      "   macro avg       0.77      0.71      0.72      8316\n",
      "weighted avg       0.80      0.80      0.79      8316\n",
      "\n"
     ]
    }
   ],
   "source": [
    "pred5=model3.predict(testing_padded5)\n",
    "rounded_labels35=np.argmax(pred5, axis=1).astype(int)\n",
    "cm5 = confusion_matrix(testing_labels5, rounded_labels35)\n",
    "print(cm5)\n",
    "print(classification_report(testing_labels5, rounded_labels35, labels=[0,1,2]))"
   ]
  },
  {
   "cell_type": "code",
   "execution_count": 52,
   "metadata": {
    "colab": {
     "base_uri": "https://localhost:8080/",
     "height": 573
    },
    "id": "ddbAtRKXatG3",
    "outputId": "8b3af61d-670a-44ca-df8c-f7bac03950ac"
   },
   "outputs": [
    {
     "data": {
      "image/png": "[encoded data removed]",
      "text/plain": [
       "<Figure size 432x288 with 1 Axes>"
      ]
     },
     "metadata": {
      "needs_background": "light"
     },
     "output_type": "display_data"
    },
    {
     "data": {
      "image/png": "[encoded data removed]",
      "text/plain": [
       "<Figure size 432x288 with 1 Axes>"
      ]
     },
     "metadata": {
      "needs_background": "light"
     },
     "output_type": "display_data"
    }
   ],
   "source": [
    "import matplotlib.pyplot as plt\n",
    "import numpy\n",
    "# summarize history for accuracy\n",
    "plt.plot(history.history['loss'])\n",
    "plt.plot(history.history['val_loss'])\n",
    "plt.title('model loss')\n",
    "plt.ylabel('loss')\n",
    "plt.xlabel('epoch')\n",
    "plt.legend(['train', 'test'], loc='upper left')\n",
    "plt.show()\n",
    "# summarize history for loss\n",
    "plt.plot(history.history['accuracy'])\n",
    "plt.plot(history.history['val_accuracy'])\n",
    "plt.title('model accuracy')\n",
    "plt.ylabel('accuracy')\n",
    "plt.xlabel('epoch')\n",
    "plt.legend(['train', 'test'], loc='upper left')\n",
    "plt.show()"
   ]
  },
  {
   "cell_type": "markdown",
   "metadata": {
    "id": "__2IcBnQa-4Y"
   },
   "source": [
    "##Conclusion\n",
    "###The accuracy for the three models is 58% yet the complexity varies. The first model has 690 579 trainale parameters which makes it the most complex amongs the three of them with the second having 618 083 trainable parameters and the third having 618 739 trainable parameters.\n",
    "###After giving the problem a first look, we can suspect that:\n",
    "* This is a deep Learning Problem where we need more data and a bigger model so we can track the pattern and better the model's accuracy\n",
    "* Te model is not getting the pattern in the data well so this can be due to some data imbalence \n",
    "* We need to further explore our data and to create a bigger model"
   ]
  },
  {
   "cell_type": "markdown",
   "metadata": {
    "id": "5SNCH0-6Eq4I"
   },
   "source": [
    "#Terms\n",
    "##BURT: is a transformar model\n",
    "##Sentiment Classification: A prabability distrubution over two classes\n",
    "##Text Encoding: How to encode the texts into a numerical presentation that we can be handled by the machine learning model\n",
    "##Transformers: The State-Of-The-Art architecture for language modeling\n",
    "#Word2vec: 2013, The Model that introduced distributed representations for language modeling"
   ]
  }
 ],
 "metadata": {
  "accelerator": "GPU",
  "colab": {
   "collapsed_sections": [
    "2DGrTNt17GKc",
    "FRfELBgw7A3Z"
   ],
   "include_colab_link": true,
   "name": "CCKProject_Unbalanced_08_Tunnel.ipynb",
   "provenance": []
  },
  "gpuClass": "standard",
  "kernelspec": {
   "display_name": "Python 3 (ipykernel)",
   "language": "python",
   "name": "python3"
  },
  "language_info": {
   "codemirror_mode": {
    "name": "ipython",
    "version": 3
   },
   "file_extension": ".py",
   "mimetype": "text/x-python",
   "name": "python",
   "nbconvert_exporter": "python",
   "pygments_lexer": "ipython3",
   "version": "3.10.3"
  }
 },
 "nbformat": 4,
 "nbformat_minor": 1
}
