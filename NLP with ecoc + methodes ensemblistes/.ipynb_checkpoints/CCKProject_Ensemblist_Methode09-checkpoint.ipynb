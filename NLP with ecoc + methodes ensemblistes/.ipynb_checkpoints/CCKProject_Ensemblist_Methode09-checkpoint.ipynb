{
 "cells": [
  {
   "cell_type": "markdown",
   "metadata": {
    "colab_type": "text",
    "id": "view-in-github"
   },
   "source": [
    "<a href=\"https://colab.research.google.com/github/ImenMasmoudiEm/CCKInternshipProject/blob/main/CCKProject_Ensemblist_Methode09.ipynb\" target=\"_parent\"><img src=\"https://colab.research.google.com/assets/colab-badge.svg\" alt=\"Open In Colab\"/></a>"
   ]
  },
  {
   "cell_type": "code",
   "execution_count": null,
   "metadata": {
    "colab": {
     "base_uri": "https://localhost:8080/"
    },
    "id": "eGu-CKtm0mh3",
    "outputId": "f0b30d20-faeb-480b-f152-3452a8bd2f24"
   },
   "outputs": [
    {
     "name": "stdout",
     "output_type": "stream",
     "text": [
      "Mounted at /content/drive\n"
     ]
    }
   ],
   "source": [
    "from google.colab import drive\n",
    "drive.mount('/content/drive')"
   ]
  },
  {
   "cell_type": "code",
   "execution_count": null,
   "metadata": {
    "id": "BZi4L6aE1NlZ"
   },
   "outputs": [],
   "source": [
    "import os \n",
    "import pandas as pd\n",
    "\n",
    "os.chdir('/content/drive/MyDrive/All/Projects/Ing Internship/Data')\n",
    "data=pd.read_excel(\"/content/drive/MyDrive/All/Projects/Ing Internship/Data/final-dataset.xlsx\")\n",
    "data['classe']=data['classe'].replace(\"hate\", int(2))\n",
    "data['classe']=data['classe'].replace(\"normal\", int(0)) \n",
    "data['classe']=data['classe'].replace(\"abusive\", int(1))"
   ]
  },
  {
   "cell_type": "code",
   "execution_count": null,
   "metadata": {
    "colab": {
     "base_uri": "https://localhost:8080/"
    },
    "id": "KEtxjGnn1gOr",
    "outputId": "4bbb54b8-2a14-4e6d-dd2a-1cb1ce297b07"
   },
   "outputs": [
    {
     "data": {
      "text/plain": [
       "388"
      ]
     },
     "execution_count": 3,
     "metadata": {},
     "output_type": "execute_result"
    }
   ],
   "source": [
    "from tensorflow.keras.preprocessing.text import Tokenizer\n",
    "from tensorflow.keras.preprocessing.sequence import pad_sequences\n",
    "import numpy as np\n",
    "\n",
    "sentences = data['commentaire']\n",
    "labels = data['classe']\n",
    "\n",
    "labels = [int(i) for i in labels]\n",
    "\n",
    "def count_words(input):\n",
    "  return len(input.split())\n",
    "max_length=count_words(max(sentences,key=count_words))\n",
    "max_length"
   ]
  },
  {
   "cell_type": "code",
   "execution_count": null,
   "metadata": {
    "id": "P3-FuA1k1uG7"
   },
   "outputs": [],
   "source": [
    "data12=pd.read_excel(\"/content/drive/MyDrive/All/Projects/Ing Internship/Data/dataset1and2.xlsx\")\n",
    "data34=pd.read_excel(\"/content/drive/MyDrive/All/Projects/Ing Internship/Data/dataset3and4.xlsx\")\n",
    "\n",
    "data12['classe']=data12['classe'].replace(\"hate\", int(2))\n",
    "data12['classe']=data12['classe'].replace(\"normal\", int(0)) \n",
    "data12['classe']=data12['classe'].replace(\"abusive\", int(1))\n",
    "\n",
    "data34['classe']=data34['classe'].replace(\"hate\", int(2))\n",
    "data34['classe']=data34['classe'].replace(\"normal\", int(0)) \n",
    "data34['classe']=data34['classe'].replace(\"abusive\", int(1))\n",
    "\n",
    "\n",
    "C1=data12[\"commentaire\"]\n",
    "C2=data34[\"commentaire\"]\n",
    "L1=data12[\"classe\"]\n",
    "L2=data34[\"classe\"]\n",
    "\n",
    "\n",
    "data12=[[i,j] for i,j in zip(C1 , L1)]\n",
    "data34=[[i,j] for i,j in zip(C2 , L2)]\n",
    "\n",
    "data12=pd.DataFrame(data12,columns=[\"sentences\",\"classe\"])\n",
    "data34=pd.DataFrame(data34,columns=[\"sentences\",\"classe\"])"
   ]
  },
  {
   "cell_type": "code",
   "execution_count": null,
   "metadata": {
    "id": "N3re3K0q11cA"
   },
   "outputs": [],
   "source": [
    "training_size=int(len(sentences)*0.8)   #Experimenting setup\n",
    "\n",
    "training_sentences = sentences[0:training_size]\n",
    "testing_sentences = sentences[training_size:]\n",
    "training_labels = labels[0:training_size]\n",
    "testing_labels = labels[training_size:]\n",
    "\n",
    "embedding_dim = 16\n",
    "\n",
    "tokenizer = Tokenizer(num_words=3000, oov_token=\"<OOV>\")\n",
    "tokenizer.fit_on_texts(training_sentences)\n",
    "\n",
    "vocab_size = len(tokenizer.word_index) + 1 \n",
    "\n",
    "word_index = tokenizer.word_index\n",
    "\n",
    "training_sequences = tokenizer.texts_to_sequences(training_sentences)\n",
    "training_padded = pad_sequences(training_sequences, maxlen=max_length, padding='post', truncating='post')\n",
    "\n",
    "testing_sequences = tokenizer.texts_to_sequences(testing_sentences)\n",
    "testing_padded = pad_sequences(testing_sequences, maxlen=max_length, padding='post', truncating='post')"
   ]
  },
  {
   "cell_type": "code",
   "execution_count": null,
   "metadata": {
    "colab": {
     "base_uri": "https://localhost:8080/"
    },
    "id": "iibkoyk733f5",
    "outputId": "596af867-17b0-46ae-a6ee-bf995bf54800"
   },
   "outputs": [
    {
     "name": "stdout",
     "output_type": "stream",
     "text": [
      "Maximum length in the data12:  206\n",
      "Maximum length in the data34:  29\n"
     ]
    }
   ],
   "source": [
    "Nsentences12=data12[\"sentences\"]\n",
    "Nlabels12=data12[\"classe\"]\n",
    "\n",
    "training_size12=int(len(Nsentences12)*0.8)\n",
    "\n",
    "testing_sentences12 = Nsentences12[training_size12:]\n",
    "testing_labels12 = Nlabels12[training_size12:]\n",
    "\n",
    "Nsentences34=data34[\"sentences\"]\n",
    "Nlabels34=data34[\"classe\"]\n",
    "\n",
    "training_size34=int(len(Nsentences34)*0.8)\n",
    "\n",
    "testing_sentences34 = Nsentences34[training_size34:]\n",
    "testing_labels34 = Nlabels34[training_size34:]\n",
    "\n",
    "max_length12=count_words(max(testing_sentences12,key=count_words))\n",
    "print('Maximum length in the data12: ',max_length12)\n",
    "\n",
    "max_length34=count_words(max(testing_sentences34,key=count_words))\n",
    "print('Maximum length in the data34: ',max_length34)\n",
    "\n",
    "testing_sequences12 = tokenizer.texts_to_sequences(testing_sentences12)\n",
    "testing_padded12 = pad_sequences(testing_sequences12, maxlen=max_length, padding='post', truncating='post')\n",
    "\n",
    "testing_sequences34 = tokenizer.texts_to_sequences(testing_sentences34)\n",
    "testing_padded34 = pad_sequences(testing_sequences34, maxlen=max_length, padding='post', truncating='post')"
   ]
  },
  {
   "cell_type": "markdown",
   "metadata": {
    "id": "rMG43cmjmmTK"
   },
   "source": [
    "#ECOC Algorithm: Classification multi-classes"
   ]
  },
  {
   "cell_type": "markdown",
   "metadata": {
    "id": "5a4wf7rTpi-i"
   },
   "source": [
    "##First Decomposition: A=0+1 , B=2\n",
    "##Second Decomposition: A=0+2 , B=1\n",
    "##Third Decomposition: A=1+2 , B=0\n",
    "##A-->1 , B-->0"
   ]
  },
  {
   "cell_type": "code",
   "execution_count": null,
   "metadata": {
    "colab": {
     "base_uri": "https://localhost:8080/"
    },
    "id": "CNqvL7lJpdE2",
    "outputId": "cdfe91c4-80b7-4d46-df8f-1436137ccc52"
   },
   "outputs": [
    {
     "name": "stderr",
     "output_type": "stream",
     "text": [
      "/usr/local/lib/python3.7/dist-packages/ipykernel_launcher.py:1: DeprecationWarning: `np.int` is a deprecated alias for the builtin `int`. To silence this warning, use `int` by itself. Doing this will not modify any behavior and is safe. When replacing `np.int`, you may wish to use e.g. `np.int64` or `np.int32` to specify the precision. If you wish to review your current use, check the release note link for additional information.\n",
      "Deprecated in NumPy 1.20; for more details and guidance: https://numpy.org/devdocs/release/1.20.0-notes.html#deprecations\n",
      "  \"\"\"Entry point for launching an IPython kernel.\n",
      "/usr/local/lib/python3.7/dist-packages/ipykernel_launcher.py:2: DeprecationWarning: `np.int` is a deprecated alias for the builtin `int`. To silence this warning, use `int` by itself. Doing this will not modify any behavior and is safe. When replacing `np.int`, you may wish to use e.g. `np.int64` or `np.int32` to specify the precision. If you wish to review your current use, check the release note link for additional information.\n",
      "Deprecated in NumPy 1.20; for more details and guidance: https://numpy.org/devdocs/release/1.20.0-notes.html#deprecations\n",
      "  \n",
      "/usr/local/lib/python3.7/dist-packages/ipykernel_launcher.py:3: DeprecationWarning: `np.int` is a deprecated alias for the builtin `int`. To silence this warning, use `int` by itself. Doing this will not modify any behavior and is safe. When replacing `np.int`, you may wish to use e.g. `np.int64` or `np.int32` to specify the precision. If you wish to review your current use, check the release note link for additional information.\n",
      "Deprecated in NumPy 1.20; for more details and guidance: https://numpy.org/devdocs/release/1.20.0-notes.html#deprecations\n",
      "  This is separate from the ipykernel package so we can avoid doing imports until\n",
      "/usr/local/lib/python3.7/dist-packages/ipykernel_launcher.py:4: DeprecationWarning: `np.int` is a deprecated alias for the builtin `int`. To silence this warning, use `int` by itself. Doing this will not modify any behavior and is safe. When replacing `np.int`, you may wish to use e.g. `np.int64` or `np.int32` to specify the precision. If you wish to review your current use, check the release note link for additional information.\n",
      "Deprecated in NumPy 1.20; for more details and guidance: https://numpy.org/devdocs/release/1.20.0-notes.html#deprecations\n",
      "  after removing the cwd from sys.path.\n",
      "/usr/local/lib/python3.7/dist-packages/ipykernel_launcher.py:25: DeprecationWarning: `np.int` is a deprecated alias for the builtin `int`. To silence this warning, use `int` by itself. Doing this will not modify any behavior and is safe. When replacing `np.int`, you may wish to use e.g. `np.int64` or `np.int32` to specify the precision. If you wish to review your current use, check the release note link for additional information.\n",
      "Deprecated in NumPy 1.20; for more details and guidance: https://numpy.org/devdocs/release/1.20.0-notes.html#deprecations\n",
      "/usr/local/lib/python3.7/dist-packages/ipykernel_launcher.py:27: DeprecationWarning: `np.int` is a deprecated alias for the builtin `int`. To silence this warning, use `int` by itself. Doing this will not modify any behavior and is safe. When replacing `np.int`, you may wish to use e.g. `np.int64` or `np.int32` to specify the precision. If you wish to review your current use, check the release note link for additional information.\n",
      "Deprecated in NumPy 1.20; for more details and guidance: https://numpy.org/devdocs/release/1.20.0-notes.html#deprecations\n",
      "/usr/local/lib/python3.7/dist-packages/ipykernel_launcher.py:49: DeprecationWarning: `np.int` is a deprecated alias for the builtin `int`. To silence this warning, use `int` by itself. Doing this will not modify any behavior and is safe. When replacing `np.int`, you may wish to use e.g. `np.int64` or `np.int32` to specify the precision. If you wish to review your current use, check the release note link for additional information.\n",
      "Deprecated in NumPy 1.20; for more details and guidance: https://numpy.org/devdocs/release/1.20.0-notes.html#deprecations\n",
      "/usr/local/lib/python3.7/dist-packages/ipykernel_launcher.py:51: DeprecationWarning: `np.int` is a deprecated alias for the builtin `int`. To silence this warning, use `int` by itself. Doing this will not modify any behavior and is safe. When replacing `np.int`, you may wish to use e.g. `np.int64` or `np.int32` to specify the precision. If you wish to review your current use, check the release note link for additional information.\n",
      "Deprecated in NumPy 1.20; for more details and guidance: https://numpy.org/devdocs/release/1.20.0-notes.html#deprecations\n"
     ]
    }
   ],
   "source": [
    "training_padded1 = np.asarray(training_padded).astype(np.int)\n",
    "training_labels1 = np.asarray(training_labels).astype(np.int)\n",
    "testing_padded1 = np.asarray(testing_padded).astype(np.int)\n",
    "testing_labels1 = np.asarray(testing_labels).astype(np.int)\n",
    "\n",
    "training_labels1 = np.expand_dims(training_labels, axis=1)\n",
    "testing_labels1 = np.expand_dims(testing_labels, axis=1)\n",
    "\n",
    "\n",
    "for i in range(len(training_labels1)):\n",
    "  if training_labels1[i]==0:\n",
    "    training_labels1[i]=1\n",
    "  elif training_labels1[i]==2:\n",
    "    training_labels1[i]=0\n",
    "\n",
    "for i in range(len(testing_labels1)):\n",
    "  if testing_labels1[i]==0:\n",
    "    testing_labels1[i]=1\n",
    "  elif testing_labels1[i]==2:\n",
    "    testing_labels1[i]=0\n",
    " \n",
    "#**********\n",
    "\n",
    "training_padded2 = training_padded1 \n",
    "training_labels2 = np.asarray(training_labels).astype(np.int)\n",
    "testing_padded2 = testing_padded1\n",
    "testing_labels2 = np.asarray(testing_labels).astype(np.int)\n",
    "\n",
    "training_labels2 = np.expand_dims(training_labels, axis=1)\n",
    "testing_labels2 = np.expand_dims(testing_labels, axis=1)\n",
    "\n",
    "\n",
    "for i in range(len(training_labels2)):\n",
    "  if training_labels2[i]==1:\n",
    "    training_labels2[i]=0\n",
    "  else:\n",
    "    training_labels2[i]=1\n",
    "\n",
    "\n",
    "for i in range(len(testing_labels2)):\n",
    "  if testing_labels2[i]==1:\n",
    "    testing_labels2[i]=0\n",
    "  else:\n",
    "    testing_labels2[i]=1\n",
    "\n",
    "#**********\n",
    "\n",
    "training_padded3 = training_padded1 \n",
    "training_labels3 = np.asarray(training_labels).astype(np.int)\n",
    "testing_padded3 = testing_padded1\n",
    "testing_labels3 = np.asarray(testing_labels).astype(np.int)\n",
    "\n",
    "training_labels3 = np.expand_dims(training_labels, axis=1)\n",
    "testing_labels3 = np.expand_dims(testing_labels, axis=1)\n",
    "\n",
    "\n",
    "for i in range(len(training_labels3)):\n",
    "  if training_labels3[i]==2:\n",
    "    training_labels3[i]=1\n",
    "\n",
    "for i in range(len(testing_labels3)):\n",
    "  if testing_labels3[i]==2:\n",
    "    testing_labels3[i]=1"
   ]
  },
  {
   "cell_type": "code",
   "execution_count": null,
   "metadata": {
    "colab": {
     "base_uri": "https://localhost:8080/"
    },
    "id": "6doHB9-omN9b",
    "outputId": "48aa4c81-153a-40c2-ad13-464d6d32a46d"
   },
   "outputs": [
    {
     "name": "stdout",
     "output_type": "stream",
     "text": [
      "Model: \"sequential_3\"\n",
      "_________________________________________________________________\n",
      " Layer (type)                Output Shape              Param #   \n",
      "=================================================================\n",
      " embedding_3 (Embedding)     (None, 388, 16)           845584    \n",
      "                                                                 \n",
      " conv1d_6 (Conv1D)           (None, 384, 128)          10368     \n",
      "                                                                 \n",
      " conv1d_7 (Conv1D)           (None, 384, 32)           4128      \n",
      "                                                                 \n",
      " bidirectional_9 (Bidirectio  (None, 384, 64)          16640     \n",
      " nal)                                                            \n",
      "                                                                 \n",
      " bidirectional_10 (Bidirecti  (None, 384, 64)          24832     \n",
      " onal)                                                           \n",
      "                                                                 \n",
      " bidirectional_11 (Bidirecti  (None, 384, 32)          10368     \n",
      " onal)                                                           \n",
      "                                                                 \n",
      " flatten_3 (Flatten)         (None, 12288)             0         \n",
      "                                                                 \n",
      " dense_3 (Dense)             (None, 1)                 12289     \n",
      "                                                                 \n",
      "=================================================================\n",
      "Total params: 924,209\n",
      "Trainable params: 924,209\n",
      "Non-trainable params: 0\n",
      "_________________________________________________________________\n"
     ]
    }
   ],
   "source": [
    "import tensorflow as tf\n",
    "\n",
    "model1=tf.keras.models.Sequential ([\n",
    "                                   tf.keras.layers.Embedding(vocab_size, embedding_dim, input_length=max_length),\n",
    "                                   tf.keras.layers.Conv1D(128, 5, activation='relu'),\n",
    "                                   tf.keras.layers.Conv1D(filters=32, kernel_size=1, activation='selu'),\n",
    "                                   tf.keras.layers.Bidirectional(tf.keras.layers.LSTM(32,return_sequences=True)),\n",
    "                                   tf.keras.layers.Bidirectional(tf.keras.layers.LSTM(32,return_sequences=True)),\n",
    "                                   tf.keras.layers.Bidirectional(tf.keras.layers.LSTM(16,return_sequences=True)),\n",
    "                                   tf.keras.layers.Flatten(),\n",
    "                                   tf.keras.layers.Dense(units=1, activation='sigmoid')])\n",
    "\n",
    "model2=tf.keras.models.Sequential ([\n",
    "                                   tf.keras.layers.Embedding(vocab_size, embedding_dim, input_length=max_length),\n",
    "                                   tf.keras.layers.Conv1D(128, 5, activation='relu'),\n",
    "                                   tf.keras.layers.Conv1D(filters=32, kernel_size=1, activation='selu'),\n",
    "                                   tf.keras.layers.Bidirectional(tf.keras.layers.LSTM(32,return_sequences=True)),\n",
    "                                   tf.keras.layers.Bidirectional(tf.keras.layers.LSTM(32,return_sequences=True)),\n",
    "                                   tf.keras.layers.Bidirectional(tf.keras.layers.LSTM(16,return_sequences=True)),\n",
    "                                   tf.keras.layers.Flatten(),\n",
    "                                   tf.keras.layers.Dense(units=1, activation='sigmoid')])\n",
    "\n",
    "model3=tf.keras.models.Sequential ([\n",
    "                                   tf.keras.layers.Embedding(vocab_size, embedding_dim, input_length=max_length),\n",
    "                                   tf.keras.layers.Conv1D(128, 5, activation='relu'),\n",
    "                                   tf.keras.layers.Conv1D(filters=32, kernel_size=1, activation='selu'),\n",
    "                                   tf.keras.layers.Bidirectional(tf.keras.layers.LSTM(32,return_sequences=True)),\n",
    "                                   tf.keras.layers.Bidirectional(tf.keras.layers.LSTM(32,return_sequences=True)),\n",
    "                                   tf.keras.layers.Bidirectional(tf.keras.layers.LSTM(16,return_sequences=True)),\n",
    "                                   tf.keras.layers.Flatten(),\n",
    "                                   tf.keras.layers.Dense(units=1, activation='sigmoid')])\n",
    "\n",
    "model1.summary()"
   ]
  },
  {
   "cell_type": "code",
   "execution_count": null,
   "metadata": {
    "colab": {
     "base_uri": "https://localhost:8080/"
    },
    "id": "p7Q5vrb5nOSU",
    "outputId": "3071e2d8-6a52-43a8-ac16-e1b7d0ab6a05"
   },
   "outputs": [
    {
     "name": "stdout",
     "output_type": "stream",
     "text": [
      "Epoch 1/50\n",
      "162/162 [==============================] - 37s 210ms/step - loss: 0.5508 - accuracy: 0.7361 - val_loss: 0.4379 - val_accuracy: 0.8103\n",
      "Epoch 2/50\n",
      "162/162 [==============================] - 21s 131ms/step - loss: 0.4105 - accuracy: 0.8238 - val_loss: 0.3594 - val_accuracy: 0.8568\n",
      "Epoch 3/50\n",
      "162/162 [==============================] - 22s 133ms/step - loss: 0.3688 - accuracy: 0.8435 - val_loss: 0.3280 - val_accuracy: 0.8581\n",
      "Epoch 4/50\n",
      "162/162 [==============================] - 22s 139ms/step - loss: 0.3369 - accuracy: 0.8602 - val_loss: 0.2837 - val_accuracy: 0.8798\n",
      "Epoch 5/50\n",
      "162/162 [==============================] - 22s 138ms/step - loss: 0.3003 - accuracy: 0.8772 - val_loss: 0.2357 - val_accuracy: 0.9141\n",
      "Epoch 6/50\n",
      "162/162 [==============================] - 21s 131ms/step - loss: 0.2570 - accuracy: 0.8995 - val_loss: 0.1920 - val_accuracy: 0.9280\n",
      "Epoch 7/50\n",
      "162/162 [==============================] - 21s 129ms/step - loss: 0.2197 - accuracy: 0.9156 - val_loss: 0.1597 - val_accuracy: 0.9414\n",
      "Epoch 8/50\n",
      "162/162 [==============================] - 23s 143ms/step - loss: 0.1940 - accuracy: 0.9274 - val_loss: 0.1495 - val_accuracy: 0.9414\n",
      "Epoch 9/50\n",
      "162/162 [==============================] - 21s 131ms/step - loss: 0.1755 - accuracy: 0.9352 - val_loss: 0.1344 - val_accuracy: 0.9544\n",
      "Epoch 10/50\n",
      "162/162 [==============================] - 21s 130ms/step - loss: 0.1586 - accuracy: 0.9414 - val_loss: 0.1212 - val_accuracy: 0.9557\n",
      "Epoch 11/50\n",
      "162/162 [==============================] - 21s 131ms/step - loss: 0.1450 - accuracy: 0.9477 - val_loss: 0.1150 - val_accuracy: 0.9566\n",
      "Epoch 12/50\n",
      "162/162 [==============================] - 22s 136ms/step - loss: 0.1358 - accuracy: 0.9507 - val_loss: 0.1248 - val_accuracy: 0.9514\n",
      "Epoch 13/50\n",
      "162/162 [==============================] - 21s 130ms/step - loss: 0.1289 - accuracy: 0.9531 - val_loss: 0.1160 - val_accuracy: 0.9527\n",
      "Epoch 14/50\n",
      "162/162 [==============================] - 21s 130ms/step - loss: 0.1216 - accuracy: 0.9564 - val_loss: 0.1129 - val_accuracy: 0.9553\n",
      "Epoch 15/50\n",
      "162/162 [==============================] - 21s 130ms/step - loss: 0.1164 - accuracy: 0.9560 - val_loss: 0.0968 - val_accuracy: 0.9640\n",
      "Epoch 16/50\n",
      "162/162 [==============================] - 22s 136ms/step - loss: 0.1096 - accuracy: 0.9573 - val_loss: 0.0931 - val_accuracy: 0.9622\n",
      "Epoch 17/50\n",
      "162/162 [==============================] - 21s 130ms/step - loss: 0.1062 - accuracy: 0.9595 - val_loss: 0.0933 - val_accuracy: 0.9614\n",
      "Epoch 18/50\n",
      "162/162 [==============================] - 21s 131ms/step - loss: 0.1018 - accuracy: 0.9600 - val_loss: 0.0826 - val_accuracy: 0.9657\n",
      "Epoch 19/50\n",
      "162/162 [==============================] - 21s 129ms/step - loss: 0.0983 - accuracy: 0.9604 - val_loss: 0.0797 - val_accuracy: 0.9644\n",
      "Epoch 20/50\n",
      "162/162 [==============================] - 22s 135ms/step - loss: 0.0951 - accuracy: 0.9597 - val_loss: 0.0822 - val_accuracy: 0.9622\n",
      "Epoch 21/50\n",
      "162/162 [==============================] - 21s 130ms/step - loss: 0.0894 - accuracy: 0.9610 - val_loss: 0.0776 - val_accuracy: 0.9653\n",
      "Epoch 22/50\n",
      "162/162 [==============================] - 22s 133ms/step - loss: 0.0859 - accuracy: 0.9626 - val_loss: 0.0841 - val_accuracy: 0.9635\n",
      "Epoch 23/50\n",
      "162/162 [==============================] - 21s 132ms/step - loss: 0.0820 - accuracy: 0.9637 - val_loss: 0.0712 - val_accuracy: 0.9661\n",
      "Epoch 24/50\n",
      "162/162 [==============================] - 22s 136ms/step - loss: 0.0841 - accuracy: 0.9602 - val_loss: 0.0737 - val_accuracy: 0.9627\n",
      "Epoch 25/50\n",
      "162/162 [==============================] - 21s 131ms/step - loss: 0.0777 - accuracy: 0.9639 - val_loss: 0.0737 - val_accuracy: 0.9635\n",
      "Epoch 26/50\n",
      "162/162 [==============================] - 21s 129ms/step - loss: 0.0803 - accuracy: 0.9634 - val_loss: 0.0867 - val_accuracy: 0.9614\n",
      "Epoch 27/50\n",
      "162/162 [==============================] - 21s 131ms/step - loss: 0.0782 - accuracy: 0.9661 - val_loss: 0.0796 - val_accuracy: 0.9609\n",
      "Epoch 28/50\n",
      "162/162 [==============================] - 21s 131ms/step - loss: 0.0737 - accuracy: 0.9651 - val_loss: 0.0693 - val_accuracy: 0.9674\n",
      "Epoch 29/50\n",
      "162/162 [==============================] - 22s 135ms/step - loss: 0.0746 - accuracy: 0.9658 - val_loss: 0.0653 - val_accuracy: 0.9683\n",
      "Epoch 30/50\n",
      "162/162 [==============================] - 21s 131ms/step - loss: 0.0689 - accuracy: 0.9669 - val_loss: 0.0758 - val_accuracy: 0.9653\n",
      "Epoch 31/50\n",
      "162/162 [==============================] - 21s 132ms/step - loss: 0.0661 - accuracy: 0.9677 - val_loss: 0.0669 - val_accuracy: 0.9631\n",
      "Epoch 32/50\n",
      "162/162 [==============================] - 21s 132ms/step - loss: 0.0703 - accuracy: 0.9661 - val_loss: 0.0757 - val_accuracy: 0.9653\n",
      "Epoch 33/50\n",
      "162/162 [==============================] - 22s 138ms/step - loss: 0.0713 - accuracy: 0.9657 - val_loss: 0.0649 - val_accuracy: 0.9679\n",
      "Epoch 34/50\n",
      "162/162 [==============================] - 21s 131ms/step - loss: 0.0687 - accuracy: 0.9670 - val_loss: 0.0792 - val_accuracy: 0.9614\n",
      "Epoch 35/50\n",
      "162/162 [==============================] - 21s 131ms/step - loss: 0.0652 - accuracy: 0.9670 - val_loss: 0.0613 - val_accuracy: 0.9688\n",
      "Epoch 36/50\n",
      "162/162 [==============================] - 21s 129ms/step - loss: 0.0596 - accuracy: 0.9684 - val_loss: 0.0618 - val_accuracy: 0.9696\n",
      "Epoch 37/50\n",
      "162/162 [==============================] - 22s 137ms/step - loss: 0.0631 - accuracy: 0.9685 - val_loss: 0.0654 - val_accuracy: 0.9709\n",
      "Epoch 38/50\n",
      "162/162 [==============================] - 21s 129ms/step - loss: 0.0634 - accuracy: 0.9677 - val_loss: 0.0601 - val_accuracy: 0.9679\n",
      "Epoch 39/50\n",
      "162/162 [==============================] - 21s 131ms/step - loss: 0.0624 - accuracy: 0.9682 - val_loss: 0.0651 - val_accuracy: 0.9657\n",
      "Epoch 40/50\n",
      "162/162 [==============================] - 21s 130ms/step - loss: 0.0642 - accuracy: 0.9684 - val_loss: 0.0734 - val_accuracy: 0.9575\n",
      "Epoch 41/50\n",
      "162/162 [==============================] - 22s 136ms/step - loss: 0.0653 - accuracy: 0.9663 - val_loss: 0.0657 - val_accuracy: 0.9622\n",
      "Epoch 42/50\n",
      "162/162 [==============================] - 21s 130ms/step - loss: 0.0637 - accuracy: 0.9672 - val_loss: 0.0643 - val_accuracy: 0.9592\n",
      "Epoch 43/50\n",
      "162/162 [==============================] - 21s 130ms/step - loss: 0.0587 - accuracy: 0.9692 - val_loss: 0.0582 - val_accuracy: 0.9661\n",
      "Epoch 44/50\n",
      "162/162 [==============================] - 21s 130ms/step - loss: 0.0573 - accuracy: 0.9698 - val_loss: 0.0880 - val_accuracy: 0.9544\n",
      "Epoch 45/50\n",
      "162/162 [==============================] - 22s 138ms/step - loss: 0.0625 - accuracy: 0.9681 - val_loss: 0.0638 - val_accuracy: 0.9618\n",
      "Epoch 46/50\n",
      "162/162 [==============================] - 21s 128ms/step - loss: 0.0583 - accuracy: 0.9692 - val_loss: 0.0634 - val_accuracy: 0.9648\n",
      "Epoch 47/50\n",
      "162/162 [==============================] - 21s 130ms/step - loss: 0.0564 - accuracy: 0.9697 - val_loss: 0.0621 - val_accuracy: 0.9666\n",
      "Epoch 48/50\n",
      "162/162 [==============================] - 21s 128ms/step - loss: 0.0541 - accuracy: 0.9711 - val_loss: 0.0571 - val_accuracy: 0.9631\n",
      "Epoch 49/50\n",
      "162/162 [==============================] - 22s 136ms/step - loss: 0.0535 - accuracy: 0.9704 - val_loss: 0.0576 - val_accuracy: 0.9692\n",
      "Epoch 50/50\n",
      "162/162 [==============================] - 21s 128ms/step - loss: 0.0529 - accuracy: 0.9706 - val_loss: 0.0555 - val_accuracy: 0.9631\n",
      "Epoch 1/50\n",
      "162/162 [==============================] - 21s 130ms/step - loss: 0.3937 - accuracy: 0.8515 - val_loss: 0.2575 - val_accuracy: 0.9006\n",
      "Epoch 2/50\n",
      "162/162 [==============================] - 21s 129ms/step - loss: 0.2437 - accuracy: 0.9119 - val_loss: 0.2059 - val_accuracy: 0.9249\n",
      "Epoch 3/50\n",
      "162/162 [==============================] - 22s 135ms/step - loss: 0.2128 - accuracy: 0.9231 - val_loss: 0.1907 - val_accuracy: 0.9362\n",
      "Epoch 4/50\n",
      "162/162 [==============================] - 21s 130ms/step - loss: 0.1849 - accuracy: 0.9308 - val_loss: 0.1424 - val_accuracy: 0.9492\n",
      "Epoch 5/50\n",
      "162/162 [==============================] - 21s 129ms/step - loss: 0.1635 - accuracy: 0.9381 - val_loss: 0.1308 - val_accuracy: 0.9527\n",
      "Epoch 6/50\n",
      "162/162 [==============================] - 21s 129ms/step - loss: 0.1419 - accuracy: 0.9465 - val_loss: 0.1195 - val_accuracy: 0.9575\n",
      "Epoch 7/50\n",
      "162/162 [==============================] - 21s 130ms/step - loss: 0.1276 - accuracy: 0.9503 - val_loss: 0.1042 - val_accuracy: 0.9588\n",
      "Epoch 8/50\n",
      "162/162 [==============================] - 22s 136ms/step - loss: 0.1127 - accuracy: 0.9565 - val_loss: 0.1017 - val_accuracy: 0.9605\n",
      "Epoch 9/50\n",
      "162/162 [==============================] - 21s 129ms/step - loss: 0.1021 - accuracy: 0.9600 - val_loss: 0.0863 - val_accuracy: 0.9648\n",
      "Epoch 10/50\n",
      "162/162 [==============================] - 21s 129ms/step - loss: 0.0938 - accuracy: 0.9640 - val_loss: 0.0927 - val_accuracy: 0.9631\n",
      "Epoch 11/50\n",
      "162/162 [==============================] - 21s 129ms/step - loss: 0.0857 - accuracy: 0.9655 - val_loss: 0.0811 - val_accuracy: 0.9640\n",
      "Epoch 12/50\n",
      "162/162 [==============================] - 22s 136ms/step - loss: 0.0786 - accuracy: 0.9693 - val_loss: 0.0723 - val_accuracy: 0.9692\n",
      "Epoch 13/50\n",
      "162/162 [==============================] - 21s 127ms/step - loss: 0.0773 - accuracy: 0.9690 - val_loss: 0.0661 - val_accuracy: 0.9714\n",
      "Epoch 14/50\n",
      "162/162 [==============================] - 21s 129ms/step - loss: 0.0707 - accuracy: 0.9726 - val_loss: 0.0738 - val_accuracy: 0.9701\n",
      "Epoch 15/50\n",
      "162/162 [==============================] - 21s 129ms/step - loss: 0.0680 - accuracy: 0.9728 - val_loss: 0.0667 - val_accuracy: 0.9696\n",
      "Epoch 16/50\n",
      "162/162 [==============================] - 22s 134ms/step - loss: 0.0660 - accuracy: 0.9726 - val_loss: 0.0573 - val_accuracy: 0.9761\n",
      "Epoch 17/50\n",
      "162/162 [==============================] - 21s 129ms/step - loss: 0.0624 - accuracy: 0.9739 - val_loss: 0.0576 - val_accuracy: 0.9722\n",
      "Epoch 18/50\n",
      "162/162 [==============================] - 21s 130ms/step - loss: 0.0608 - accuracy: 0.9743 - val_loss: 0.0552 - val_accuracy: 0.9761\n",
      "Epoch 19/50\n",
      "162/162 [==============================] - 21s 130ms/step - loss: 0.0592 - accuracy: 0.9740 - val_loss: 0.0574 - val_accuracy: 0.9740\n",
      "Epoch 20/50\n",
      "162/162 [==============================] - 22s 136ms/step - loss: 0.0559 - accuracy: 0.9767 - val_loss: 0.0520 - val_accuracy: 0.9766\n",
      "Epoch 21/50\n",
      "162/162 [==============================] - 21s 130ms/step - loss: 0.0563 - accuracy: 0.9753 - val_loss: 0.0518 - val_accuracy: 0.9766\n",
      "Epoch 22/50\n",
      "162/162 [==============================] - 21s 132ms/step - loss: 0.0549 - accuracy: 0.9753 - val_loss: 0.0565 - val_accuracy: 0.9714\n",
      "Epoch 23/50\n",
      "162/162 [==============================] - 21s 130ms/step - loss: 0.0526 - accuracy: 0.9769 - val_loss: 0.0541 - val_accuracy: 0.9735\n",
      "Epoch 24/50\n",
      "162/162 [==============================] - 21s 130ms/step - loss: 0.0504 - accuracy: 0.9769 - val_loss: 0.0550 - val_accuracy: 0.9735\n",
      "Epoch 25/50\n",
      "162/162 [==============================] - 22s 136ms/step - loss: 0.0510 - accuracy: 0.9767 - val_loss: 0.0542 - val_accuracy: 0.9753\n",
      "Epoch 26/50\n",
      "162/162 [==============================] - 21s 131ms/step - loss: 0.0513 - accuracy: 0.9766 - val_loss: 0.0469 - val_accuracy: 0.9735\n",
      "Epoch 27/50\n",
      "162/162 [==============================] - 21s 130ms/step - loss: 0.0501 - accuracy: 0.9768 - val_loss: 0.0485 - val_accuracy: 0.9744\n",
      "Epoch 28/50\n",
      "162/162 [==============================] - 21s 129ms/step - loss: 0.0483 - accuracy: 0.9782 - val_loss: 0.0473 - val_accuracy: 0.9766\n",
      "Epoch 29/50\n",
      "162/162 [==============================] - 22s 136ms/step - loss: 0.0496 - accuracy: 0.9762 - val_loss: 0.0595 - val_accuracy: 0.9727\n",
      "Epoch 30/50\n",
      "162/162 [==============================] - 21s 129ms/step - loss: 0.0509 - accuracy: 0.9767 - val_loss: 0.0486 - val_accuracy: 0.9761\n",
      "Epoch 31/50\n",
      "162/162 [==============================] - 21s 129ms/step - loss: 0.0452 - accuracy: 0.9774 - val_loss: 0.0445 - val_accuracy: 0.9744\n",
      "Epoch 32/50\n",
      "162/162 [==============================] - 21s 127ms/step - loss: 0.0439 - accuracy: 0.9788 - val_loss: 0.0498 - val_accuracy: 0.9727\n",
      "Epoch 33/50\n",
      "162/162 [==============================] - 22s 134ms/step - loss: 0.0425 - accuracy: 0.9784 - val_loss: 0.0460 - val_accuracy: 0.9753\n",
      "Epoch 34/50\n",
      "162/162 [==============================] - 21s 128ms/step - loss: 0.0424 - accuracy: 0.9788 - val_loss: 0.0434 - val_accuracy: 0.9748\n",
      "Epoch 35/50\n",
      "162/162 [==============================] - 21s 129ms/step - loss: 0.0446 - accuracy: 0.9785 - val_loss: 0.0454 - val_accuracy: 0.9753\n",
      "Epoch 36/50\n",
      "162/162 [==============================] - 21s 130ms/step - loss: 0.0453 - accuracy: 0.9789 - val_loss: 0.0471 - val_accuracy: 0.9753\n",
      "Epoch 37/50\n",
      "162/162 [==============================] - 22s 135ms/step - loss: 0.0428 - accuracy: 0.9783 - val_loss: 0.0458 - val_accuracy: 0.9761\n",
      "Epoch 38/50\n",
      "162/162 [==============================] - 22s 133ms/step - loss: 0.0426 - accuracy: 0.9786 - val_loss: 0.0539 - val_accuracy: 0.9770\n",
      "Epoch 39/50\n",
      "162/162 [==============================] - 21s 132ms/step - loss: 0.0497 - accuracy: 0.9775 - val_loss: 0.0473 - val_accuracy: 0.9766\n",
      "Epoch 40/50\n",
      "162/162 [==============================] - 22s 133ms/step - loss: 0.0411 - accuracy: 0.9793 - val_loss: 0.0465 - val_accuracy: 0.9714\n",
      "Epoch 41/50\n",
      "162/162 [==============================] - 22s 135ms/step - loss: 0.0444 - accuracy: 0.9776 - val_loss: 0.0495 - val_accuracy: 0.9761\n",
      "Epoch 42/50\n",
      "162/162 [==============================] - 22s 136ms/step - loss: 0.0415 - accuracy: 0.9786 - val_loss: 0.0422 - val_accuracy: 0.9748\n",
      "Epoch 43/50\n",
      "162/162 [==============================] - 21s 130ms/step - loss: 0.0391 - accuracy: 0.9801 - val_loss: 0.0423 - val_accuracy: 0.9761\n",
      "Epoch 44/50\n",
      "162/162 [==============================] - 21s 128ms/step - loss: 0.0382 - accuracy: 0.9796 - val_loss: 0.0428 - val_accuracy: 0.9740\n",
      "Epoch 45/50\n",
      "162/162 [==============================] - 21s 130ms/step - loss: 0.0378 - accuracy: 0.9802 - val_loss: 0.0410 - val_accuracy: 0.9748\n",
      "Epoch 46/50\n",
      "162/162 [==============================] - 22s 136ms/step - loss: 0.0413 - accuracy: 0.9800 - val_loss: 0.0449 - val_accuracy: 0.9735\n",
      "Epoch 47/50\n",
      "162/162 [==============================] - 21s 128ms/step - loss: 0.0415 - accuracy: 0.9785 - val_loss: 0.0425 - val_accuracy: 0.9753\n",
      "Epoch 48/50\n",
      "162/162 [==============================] - 21s 130ms/step - loss: 0.0404 - accuracy: 0.9795 - val_loss: 0.0421 - val_accuracy: 0.9757\n",
      "Epoch 49/50\n",
      "162/162 [==============================] - 21s 130ms/step - loss: 0.0393 - accuracy: 0.9799 - val_loss: 0.0408 - val_accuracy: 0.9792\n",
      "Epoch 50/50\n",
      "162/162 [==============================] - 22s 137ms/step - loss: 0.0382 - accuracy: 0.9810 - val_loss: 0.0411 - val_accuracy: 0.9740\n",
      "Epoch 1/50\n",
      "162/162 [==============================] - 21s 130ms/step - loss: 0.5759 - accuracy: 0.6748 - val_loss: 0.3854 - val_accuracy: 0.8346\n",
      "Epoch 2/50\n",
      "162/162 [==============================] - 21s 129ms/step - loss: 0.3982 - accuracy: 0.8254 - val_loss: 0.3366 - val_accuracy: 0.8637\n",
      "Epoch 3/50\n",
      "162/162 [==============================] - 22s 136ms/step - loss: 0.3603 - accuracy: 0.8441 - val_loss: 0.2747 - val_accuracy: 0.8854\n",
      "Epoch 4/50\n",
      "162/162 [==============================] - 21s 130ms/step - loss: 0.3267 - accuracy: 0.8590 - val_loss: 0.2301 - val_accuracy: 0.9023\n",
      "Epoch 5/50\n",
      "162/162 [==============================] - 21s 130ms/step - loss: 0.2907 - accuracy: 0.8772 - val_loss: 0.2070 - val_accuracy: 0.9271\n",
      "Epoch 6/50\n",
      "162/162 [==============================] - 21s 128ms/step - loss: 0.2516 - accuracy: 0.8947 - val_loss: 0.1580 - val_accuracy: 0.9453\n",
      "Epoch 7/50\n",
      "162/162 [==============================] - 22s 134ms/step - loss: 0.2103 - accuracy: 0.9151 - val_loss: 0.1238 - val_accuracy: 0.9566\n",
      "Epoch 8/50\n",
      "162/162 [==============================] - 21s 128ms/step - loss: 0.1841 - accuracy: 0.9261 - val_loss: 0.1029 - val_accuracy: 0.9605\n",
      "Epoch 9/50\n",
      "162/162 [==============================] - 21s 127ms/step - loss: 0.1619 - accuracy: 0.9368 - val_loss: 0.0938 - val_accuracy: 0.9674\n",
      "Epoch 10/50\n",
      "162/162 [==============================] - 21s 129ms/step - loss: 0.1429 - accuracy: 0.9449 - val_loss: 0.0870 - val_accuracy: 0.9631\n",
      "Epoch 11/50\n",
      "162/162 [==============================] - 22s 135ms/step - loss: 0.1342 - accuracy: 0.9478 - val_loss: 0.0997 - val_accuracy: 0.9588\n",
      "Epoch 12/50\n",
      "162/162 [==============================] - 21s 129ms/step - loss: 0.1266 - accuracy: 0.9492 - val_loss: 0.0844 - val_accuracy: 0.9688\n",
      "Epoch 13/50\n",
      "162/162 [==============================] - 21s 129ms/step - loss: 0.1122 - accuracy: 0.9540 - val_loss: 0.0862 - val_accuracy: 0.9661\n",
      "Epoch 14/50\n",
      "162/162 [==============================] - 21s 128ms/step - loss: 0.1092 - accuracy: 0.9552 - val_loss: 0.0712 - val_accuracy: 0.9714\n",
      "Epoch 15/50\n",
      "162/162 [==============================] - 21s 129ms/step - loss: 0.1068 - accuracy: 0.9560 - val_loss: 0.0552 - val_accuracy: 0.9779\n",
      "Epoch 16/50\n",
      "162/162 [==============================] - 22s 136ms/step - loss: 0.0975 - accuracy: 0.9594 - val_loss: 0.0543 - val_accuracy: 0.9792\n",
      "Epoch 17/50\n",
      "162/162 [==============================] - 21s 128ms/step - loss: 0.0961 - accuracy: 0.9588 - val_loss: 0.0738 - val_accuracy: 0.9727\n",
      "Epoch 18/50\n",
      "162/162 [==============================] - 21s 130ms/step - loss: 0.0903 - accuracy: 0.9616 - val_loss: 0.0471 - val_accuracy: 0.9792\n",
      "Epoch 19/50\n",
      "162/162 [==============================] - 21s 128ms/step - loss: 0.0862 - accuracy: 0.9623 - val_loss: 0.0500 - val_accuracy: 0.9774\n",
      "Epoch 20/50\n",
      "162/162 [==============================] - 22s 136ms/step - loss: 0.0823 - accuracy: 0.9628 - val_loss: 0.0613 - val_accuracy: 0.9740\n",
      "Epoch 21/50\n",
      "162/162 [==============================] - 21s 129ms/step - loss: 0.0814 - accuracy: 0.9635 - val_loss: 0.0553 - val_accuracy: 0.9748\n",
      "Epoch 22/50\n",
      "162/162 [==============================] - 21s 127ms/step - loss: 0.0800 - accuracy: 0.9627 - val_loss: 0.0514 - val_accuracy: 0.9770\n",
      "Epoch 23/50\n",
      "162/162 [==============================] - 21s 129ms/step - loss: 0.0779 - accuracy: 0.9636 - val_loss: 0.0496 - val_accuracy: 0.9774\n",
      "Epoch 24/50\n",
      "162/162 [==============================] - 22s 136ms/step - loss: 0.0742 - accuracy: 0.9644 - val_loss: 0.0495 - val_accuracy: 0.9774\n",
      "Epoch 25/50\n",
      "162/162 [==============================] - 21s 128ms/step - loss: 0.0735 - accuracy: 0.9642 - val_loss: 0.0501 - val_accuracy: 0.9748\n",
      "Epoch 26/50\n",
      "162/162 [==============================] - 21s 130ms/step - loss: 0.0727 - accuracy: 0.9650 - val_loss: 0.0472 - val_accuracy: 0.9757\n",
      "Epoch 27/50\n",
      "162/162 [==============================] - 21s 130ms/step - loss: 0.0777 - accuracy: 0.9646 - val_loss: 0.0492 - val_accuracy: 0.9744\n",
      "Epoch 28/50\n",
      "162/162 [==============================] - 21s 128ms/step - loss: 0.0737 - accuracy: 0.9640 - val_loss: 0.0500 - val_accuracy: 0.9757\n",
      "Epoch 29/50\n",
      "162/162 [==============================] - 22s 134ms/step - loss: 0.0721 - accuracy: 0.9656 - val_loss: 0.0506 - val_accuracy: 0.9740\n",
      "Epoch 30/50\n",
      "162/162 [==============================] - 21s 128ms/step - loss: 0.0699 - accuracy: 0.9652 - val_loss: 0.0509 - val_accuracy: 0.9740\n",
      "Epoch 31/50\n",
      "162/162 [==============================] - 21s 128ms/step - loss: 0.0725 - accuracy: 0.9653 - val_loss: 0.0480 - val_accuracy: 0.9757\n",
      "Epoch 32/50\n",
      "162/162 [==============================] - 21s 129ms/step - loss: 0.0670 - accuracy: 0.9658 - val_loss: 0.0468 - val_accuracy: 0.9774\n",
      "Epoch 33/50\n",
      "162/162 [==============================] - 22s 137ms/step - loss: 0.0666 - accuracy: 0.9649 - val_loss: 0.0465 - val_accuracy: 0.9744\n",
      "Epoch 34/50\n",
      "162/162 [==============================] - 21s 131ms/step - loss: 0.0633 - accuracy: 0.9675 - val_loss: 0.0419 - val_accuracy: 0.9809\n",
      "Epoch 35/50\n",
      "162/162 [==============================] - 21s 128ms/step - loss: 0.0622 - accuracy: 0.9671 - val_loss: 0.0442 - val_accuracy: 0.9766\n",
      "Epoch 36/50\n",
      "162/162 [==============================] - 21s 128ms/step - loss: 0.0618 - accuracy: 0.9682 - val_loss: 0.0416 - val_accuracy: 0.9792\n",
      "Epoch 37/50\n",
      "162/162 [==============================] - 22s 134ms/step - loss: 0.0629 - accuracy: 0.9671 - val_loss: 0.0535 - val_accuracy: 0.9688\n",
      "Epoch 38/50\n",
      "162/162 [==============================] - 21s 128ms/step - loss: 0.0700 - accuracy: 0.9642 - val_loss: 0.0459 - val_accuracy: 0.9753\n",
      "Epoch 39/50\n",
      "162/162 [==============================] - 21s 130ms/step - loss: 0.0628 - accuracy: 0.9671 - val_loss: 0.0460 - val_accuracy: 0.9770\n",
      "Epoch 40/50\n",
      "162/162 [==============================] - 21s 130ms/step - loss: 0.0594 - accuracy: 0.9679 - val_loss: 0.0408 - val_accuracy: 0.9800\n",
      "Epoch 41/50\n",
      "162/162 [==============================] - 21s 129ms/step - loss: 0.0595 - accuracy: 0.9678 - val_loss: 0.0457 - val_accuracy: 0.9740\n",
      "Epoch 42/50\n",
      "162/162 [==============================] - 22s 134ms/step - loss: 0.0612 - accuracy: 0.9680 - val_loss: 0.0431 - val_accuracy: 0.9796\n",
      "Epoch 43/50\n",
      "162/162 [==============================] - 21s 130ms/step - loss: 0.0645 - accuracy: 0.9651 - val_loss: 0.0521 - val_accuracy: 0.9718\n",
      "Epoch 44/50\n",
      "162/162 [==============================] - 21s 127ms/step - loss: 0.0655 - accuracy: 0.9664 - val_loss: 0.0468 - val_accuracy: 0.9761\n",
      "Epoch 45/50\n",
      "162/162 [==============================] - 21s 127ms/step - loss: 0.0575 - accuracy: 0.9676 - val_loss: 0.0432 - val_accuracy: 0.9753\n",
      "Epoch 46/50\n",
      "162/162 [==============================] - 22s 136ms/step - loss: 0.0539 - accuracy: 0.9695 - val_loss: 0.0428 - val_accuracy: 0.9779\n",
      "Epoch 47/50\n",
      "162/162 [==============================] - 21s 128ms/step - loss: 0.0541 - accuracy: 0.9686 - val_loss: 0.0477 - val_accuracy: 0.9722\n",
      "Epoch 48/50\n",
      "162/162 [==============================] - 21s 129ms/step - loss: 0.0554 - accuracy: 0.9688 - val_loss: 0.0542 - val_accuracy: 0.9692\n",
      "Epoch 49/50\n",
      "162/162 [==============================] - 21s 129ms/step - loss: 0.0598 - accuracy: 0.9673 - val_loss: 0.0420 - val_accuracy: 0.9753\n",
      "Epoch 50/50\n",
      "162/162 [==============================] - 21s 129ms/step - loss: 0.0560 - accuracy: 0.9686 - val_loss: 0.0413 - val_accuracy: 0.9757\n"
     ]
    }
   ],
   "source": [
    "model1.compile(loss=\"binary_crossentropy\",optimizer='adam',metrics=['accuracy'],run_eagerly=True)\n",
    "history1 = model1.fit(training_padded1, training_labels1, batch_size=128, epochs=50, validation_data=(testing_padded1, testing_labels1), verbose=1)\n",
    "\n",
    "model2.compile(loss=\"binary_crossentropy\",optimizer='adam',metrics=['accuracy'],run_eagerly=True)\n",
    "history2 = model2.fit(training_padded2, training_labels2, batch_size=128, epochs=50, validation_data=(testing_padded2, testing_labels2), verbose=1)\n",
    "\n",
    "model3.compile(loss=\"binary_crossentropy\",optimizer='adam',metrics=['accuracy'],run_eagerly=True)\n",
    "history3 = model3.fit(training_padded3, training_labels3, batch_size=128, epochs=50, validation_data=(testing_padded3, testing_labels3), verbose=1)"
   ]
  },
  {
   "cell_type": "code",
   "execution_count": null,
   "metadata": {
    "colab": {
     "base_uri": "https://localhost:8080/",
     "height": 1000
    },
    "id": "Zq20o1oq2Yc7",
    "outputId": "54bcf238-94c0-4afe-dd4a-4f1642fe092c"
   },
   "outputs": [
    {
     "data": {
      "image/png": "[encoded data removed]",
      "text/plain": [
       "<Figure size 432x288 with 1 Axes>"
      ]
     },
     "metadata": {
      "needs_background": "light"
     },
     "output_type": "display_data"
    },
    {
     "data": {
      "image/png": "[encoded data removed]",
      "text/plain": [
       "<Figure size 432x288 with 1 Axes>"
      ]
     },
     "metadata": {
      "needs_background": "light"
     },
     "output_type": "display_data"
    },
    {
     "data": {
      "image/png": "[encoded data removed]",
      "text/plain": [
       "<Figure size 432x288 with 1 Axes>"
      ]
     },
     "metadata": {
      "needs_background": "light"
     },
     "output_type": "display_data"
    },
    {
     "data": {
      "image/png": "[encoded data removed]",
      "text/plain": [
       "<Figure size 432x288 with 1 Axes>"
      ]
     },
     "metadata": {
      "needs_background": "light"
     },
     "output_type": "display_data"
    },
    {
     "data": {
      "image/png": "[encoded data removed]",
      "text/plain": [
       "<Figure size 432x288 with 1 Axes>"
      ]
     },
     "metadata": {
      "needs_background": "light"
     },
     "output_type": "display_data"
    },
    {
     "data": {
      "image/png": "[encoded data removed]",
      "text/plain": [
       "<Figure size 432x288 with 1 Axes>"
      ]
     },
     "metadata": {
      "needs_background": "light"
     },
     "output_type": "display_data"
    }
   ],
   "source": [
    "import matplotlib.pyplot as plt\n",
    "import numpy\n",
    "# summarize history for accuracy\n",
    "plt.plot(history1.history['loss'])\n",
    "plt.plot(history1.history['val_loss'])\n",
    "plt.title('model loss')\n",
    "plt.ylabel('loss')\n",
    "plt.xlabel('epoch')\n",
    "plt.legend(['train', 'test'], loc='upper left')\n",
    "plt.show()\n",
    "# summarize history for loss\n",
    "plt.plot(history1.history['accuracy'])\n",
    "plt.plot(history1.history['val_accuracy'])\n",
    "plt.title('model accuracy')\n",
    "plt.ylabel('accuracy')\n",
    "plt.xlabel('epoch')\n",
    "plt.legend(['train', 'test'], loc='upper left')\n",
    "plt.show()\n",
    "\n",
    "# summarize history for accuracy\n",
    "plt.plot(history2.history['loss'])\n",
    "plt.plot(history2.history['val_loss'])\n",
    "plt.title('model loss')\n",
    "plt.ylabel('loss')\n",
    "plt.xlabel('epoch')\n",
    "plt.legend(['train', 'test'], loc='upper left')\n",
    "plt.show()\n",
    "# summarize history for loss\n",
    "plt.plot(history2.history['accuracy'])\n",
    "plt.plot(history2.history['val_accuracy'])\n",
    "plt.title('model accuracy')\n",
    "plt.ylabel('accuracy')\n",
    "plt.xlabel('epoch')\n",
    "plt.legend(['train', 'test'], loc='upper left')\n",
    "plt.show()\n",
    "\n",
    "# summarize history for accuracy\n",
    "plt.plot(history3.history['loss'])\n",
    "plt.plot(history3.history['val_loss'])\n",
    "plt.title('model loss')\n",
    "plt.ylabel('loss')\n",
    "plt.xlabel('epoch')\n",
    "plt.legend(['train', 'test'], loc='upper left')\n",
    "plt.show()\n",
    "# summarize history for loss\n",
    "plt.plot(history3.history['accuracy'])\n",
    "plt.plot(history3.history['val_accuracy'])\n",
    "plt.title('model accuracy')\n",
    "plt.ylabel('accuracy')\n",
    "plt.xlabel('epoch')\n",
    "plt.legend(['train', 'test'], loc='upper left')\n",
    "plt.show()"
   ]
  },
  {
   "cell_type": "code",
   "execution_count": null,
   "metadata": {
    "colab": {
     "base_uri": "https://localhost:8080/"
    },
    "id": "GJM_EkfzxRYD",
    "outputId": "34b80a8d-088f-46bd-85fc-6c32747ba503"
   },
   "outputs": [
    {
     "name": "stdout",
     "output_type": "stream",
     "text": [
      "110\n"
     ]
    }
   ],
   "source": [
    "L1=model1.predict(testing_padded)\n",
    "L2=model2.predict(testing_padded)\n",
    "L3=model3.predict(testing_padded)\n",
    "\n",
    "for i in range(len(L1)):\n",
    "  if (L1[i]<0.5):\n",
    "    L1[i]=0\n",
    "  else:\n",
    "    L1[i]=1\n",
    "  if (L2[i]<0.5):\n",
    "    L2[i]=0\n",
    "  else:\n",
    "    L2[i]=1\n",
    "  if (L3[i]<0.5):\n",
    "    L3[i]=0\n",
    "  else:\n",
    "    L3[i]=1\n",
    "P=[]\n",
    "for i in range(len(L1)):\n",
    "  P.append(str(int(L1[i][0]))+str(int(L2[i][0]))+str(int(L3[i][0])))\n",
    "\n",
    "print(P[2])"
   ]
  },
  {
   "cell_type": "code",
   "execution_count": null,
   "metadata": {
    "id": "ci_yxTAFEIf6"
   },
   "outputs": [],
   "source": [
    "def hamming_distance(string1, string2):\n",
    "\tdist_counter = 0\n",
    "\tfor n in range(len(string1)):\n",
    "\t\tif string1[n] != string2[n]:\n",
    "\t\t\tdist_counter += 1\n",
    "\treturn dist_counter\n",
    "\n",
    "pred=[]\n",
    "for i in range(len(P)):\n",
    "  if (min(min(hamming_distance(P[i],'110'),hamming_distance(P[i],'101')),hamming_distance(P[i],'011'))==hamming_distance(P[i],'110')):\n",
    "    pred.append(0)\n",
    "  elif (min(min(hamming_distance(P[i],'110'),hamming_distance(P[i],'101')),hamming_distance(P[i],'011'))==hamming_distance(P[i],'101')):\n",
    "    pred.append(1)\n",
    "  else:\n",
    "    pred.append(2)"
   ]
  },
  {
   "cell_type": "code",
   "execution_count": null,
   "metadata": {
    "colab": {
     "base_uri": "https://localhost:8080/"
    },
    "id": "-XzjG5nC0qit",
    "outputId": "890f083c-92d3-4591-a82c-853f7fc88e36"
   },
   "outputs": [
    {
     "name": "stdout",
     "output_type": "stream",
     "text": [
      "For the Ensemblist methode: \n",
      " [[1263    1    1]\n",
      " [  26  378   10]\n",
      " [  49   24  552]]\n",
      "              precision    recall  f1-score   support\n",
      "\n",
      "           0       0.94      1.00      0.97      1265\n",
      "           1       0.94      0.91      0.93       414\n",
      "           2       0.98      0.88      0.93       625\n",
      "\n",
      "    accuracy                           0.95      2304\n",
      "   macro avg       0.95      0.93      0.94      2304\n",
      "weighted avg       0.95      0.95      0.95      2304\n",
      "\n"
     ]
    }
   ],
   "source": [
    "cm = confusion_matrix(testing_labels, pred)\n",
    "print(\"For the Ensemblist methode: \\n\",cm)\n",
    "print(classification_report(testing_labels, pred, labels=[0,1,2]))"
   ]
  },
  {
   "cell_type": "code",
   "execution_count": null,
   "metadata": {
    "id": "wx2M3CgDHenT"
   },
   "outputs": [],
   "source": [
    "model1.save(\"Ensemblistmodel1.h5\")\n",
    "model2.save(\"Ensemblistmodel2.h5\")\n",
    "model3.save(\"Ensemblistmodel3.h5\")"
   ]
  },
  {
   "cell_type": "code",
   "execution_count": null,
   "metadata": {
    "colab": {
     "base_uri": "https://localhost:8080/"
    },
    "id": "vEoKfNMZLHK9",
    "outputId": "ce91ae88-e9d0-4f87-c4d5-e5f56aa37830"
   },
   "outputs": [
    {
     "name": "stdout",
     "output_type": "stream",
     "text": [
      "For the Ensemblist methode: \n",
      " [[553  15  19]\n",
      " [ 77 174   2]\n",
      " [104 125 223]]\n",
      "              precision    recall  f1-score   support\n",
      "\n",
      "           0       0.75      0.94      0.84       587\n",
      "           1       0.55      0.69      0.61       253\n",
      "           2       0.91      0.49      0.64       452\n",
      "\n",
      "    accuracy                           0.74      1292\n",
      "   macro avg       0.74      0.71      0.70      1292\n",
      "weighted avg       0.77      0.74      0.72      1292\n",
      "\n"
     ]
    }
   ],
   "source": [
    "L1=model1.predict(testing_padded12)\n",
    "L2=model2.predict(testing_padded12)\n",
    "L3=model3.predict(testing_padded12)\n",
    "\n",
    "for i in range(len(L1)):\n",
    "  if (L1[i]<0.5):\n",
    "    L1[i]=0\n",
    "  else:\n",
    "    L1[i]=1\n",
    "  if (L2[i]<0.5):\n",
    "    L2[i]=0\n",
    "  else:\n",
    "    L2[i]=1\n",
    "  if (L3[i]<0.5):\n",
    "    L3[i]=0\n",
    "  else:\n",
    "    L3[i]=1\n",
    "P=[]\n",
    "for i in range(len(L1)):\n",
    "  P.append(str(int(L1[i][0]))+str(int(L2[i][0]))+str(int(L3[i][0])))\n",
    "\n",
    "pred=[]\n",
    "for i in range(len(P)):\n",
    "  if (min(min(hamming_distance(P[i],'110'),hamming_distance(P[i],'101')),hamming_distance(P[i],'011'))==hamming_distance(P[i],'110')):\n",
    "    pred.append(0)\n",
    "  elif (min(min(hamming_distance(P[i],'110'),hamming_distance(P[i],'101')),hamming_distance(P[i],'011'))==hamming_distance(P[i],'101')):\n",
    "    pred.append(1)\n",
    "  else:\n",
    "    pred.append(2)\n",
    "\n",
    "\n",
    "cm = confusion_matrix(testing_labels12, pred)\n",
    "print(\"For the Ensemblist methode: \\n\",cm)\n",
    "print(classification_report(testing_labels12, pred, labels=[0,1,2]))"
   ]
  },
  {
   "cell_type": "code",
   "execution_count": null,
   "metadata": {
    "colab": {
     "base_uri": "https://localhost:8080/"
    },
    "id": "y3z0RzeILVi8",
    "outputId": "b6278345-d639-492c-8d4d-ca95a05d89f5"
   },
   "outputs": [
    {
     "name": "stdout",
     "output_type": "stream",
     "text": [
      "For the Ensemblist methode: \n",
      " [[ 516    0   10]\n",
      " [   0    7    0]\n",
      " [  16    1 1290]]\n",
      "              precision    recall  f1-score   support\n",
      "\n",
      "           0       0.97      0.98      0.98       526\n",
      "           1       0.88      1.00      0.93         7\n",
      "           2       0.99      0.99      0.99      1307\n",
      "\n",
      "    accuracy                           0.99      1840\n",
      "   macro avg       0.95      0.99      0.97      1840\n",
      "weighted avg       0.99      0.99      0.99      1840\n",
      "\n"
     ]
    }
   ],
   "source": [
    "L1=model1.predict(testing_padded34)\n",
    "L2=model2.predict(testing_padded34)\n",
    "L3=model3.predict(testing_padded34)\n",
    "\n",
    "for i in range(len(L1)):\n",
    "  if (L1[i]<0.5):\n",
    "    L1[i]=0\n",
    "  else:\n",
    "    L1[i]=1\n",
    "  if (L2[i]<0.5):\n",
    "    L2[i]=0\n",
    "  else:\n",
    "    L2[i]=1\n",
    "  if (L3[i]<0.5):\n",
    "    L3[i]=0\n",
    "  else:\n",
    "    L3[i]=1\n",
    "P=[]\n",
    "for i in range(len(L1)):\n",
    "  P.append(str(int(L1[i][0]))+str(int(L2[i][0]))+str(int(L3[i][0])))\n",
    "\n",
    "pred=[]\n",
    "for i in range(len(P)):\n",
    "  if (min(min(hamming_distance(P[i],'110'),hamming_distance(P[i],'101')),hamming_distance(P[i],'011'))==hamming_distance(P[i],'110')):\n",
    "    pred.append(0)\n",
    "  elif (min(min(hamming_distance(P[i],'110'),hamming_distance(P[i],'101')),hamming_distance(P[i],'011'))==hamming_distance(P[i],'101')):\n",
    "    pred.append(1)\n",
    "  else:\n",
    "    pred.append(2)\n",
    "\n",
    "\n",
    "cm = confusion_matrix(testing_labels34, pred)\n",
    "print(\"For the Ensemblist methode: \\n\",cm)\n",
    "print(classification_report(testing_labels34, pred, labels=[0,1,2]))"
   ]
  }
 ],
 "metadata": {
  "accelerator": "GPU",
  "colab": {
   "authorship_tag": "ABX9TyMKNP2kaSYG4L5z14hHFSXw",
   "include_colab_link": true,
   "name": "CCKProject Ensemblist Methode09.ipynb",
   "provenance": []
  },
  "gpuClass": "standard",
  "kernelspec": {
   "display_name": "Python 3 (ipykernel)",
   "language": "python",
   "name": "python3"
  },
  "language_info": {
   "codemirror_mode": {
    "name": "ipython",
    "version": 3
   },
   "file_extension": ".py",
   "mimetype": "text/x-python",
   "name": "python",
   "nbconvert_exporter": "python",
   "pygments_lexer": "ipython3",
   "version": "3.10.3"
  }
 },
 "nbformat": 4,
 "nbformat_minor": 1
}
