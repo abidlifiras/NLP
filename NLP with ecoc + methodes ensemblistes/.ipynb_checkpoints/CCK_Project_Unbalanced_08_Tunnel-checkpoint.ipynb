{
 "cells": [
  {
   "cell_type": "markdown",
   "metadata": {
    "colab_type": "text",
    "id": "view-in-github"
   },
   "source": [
    "<a href=\"https://colab.research.google.com/github/ImenMasmoudiEm/CCKInternshipProject/blob/main/CCK_Project_Unbalanced_08_Tunnel.ipynb\" target=\"_parent\"><img src=\"https://colab.research.google.com/assets/colab-badge.svg\" alt=\"Open In Colab\"/></a>"
   ]
  },
  {
   "cell_type": "markdown",
   "metadata": {
    "id": "Iiruy8t57ISt"
   },
   "source": [
    "# Text Classification: Primary work"
   ]
  },
  {
   "cell_type": "markdown",
   "metadata": {
    "id": "6A7gIEXP7oqV"
   },
   "source": [
    "##Connecting to drive & importing data"
   ]
  },
  {
   "cell_type": "code",
   "execution_count": null,
   "metadata": {
    "colab": {
     "base_uri": "https://localhost:8080/"
    },
    "id": "KwJf5Jnk9iw8",
    "outputId": "c25f7f84-e8dc-4530-e97c-153831702f83"
   },
   "outputs": [
    {
     "name": "stdout",
     "output_type": "stream",
     "text": [
      "Mounted at /content/drive\n"
     ]
    }
   ],
   "source": [
    "from google.colab import drive\n",
    "drive.mount('/content/drive')"
   ]
  },
  {
   "cell_type": "code",
   "execution_count": null,
   "metadata": {
    "id": "u6Xmp6Sf7Ay4"
   },
   "outputs": [],
   "source": [
    "import os \n",
    "os.chdir('/content/drive/MyDrive/All/Projects/Ing Internship/Data')"
   ]
  },
  {
   "cell_type": "code",
   "execution_count": null,
   "metadata": {
    "colab": {
     "base_uri": "https://localhost:8080/",
     "height": 424
    },
    "id": "hjV2FNxa-FDa",
    "outputId": "f427cc7e-b7bc-4035-efaf-990c4358d59a"
   },
   "outputs": [
    {
     "data": {
      "text/html": [
       "\n",
       "  <div id=\"df-3c2e53fe-0c8e-40c1-b878-f0b9af51b85e\">\n",
       "    <div class=\"colab-df-container\">\n",
       "      <div>\n",
       "<style scoped>\n",
       "    .dataframe tbody tr th:only-of-type {\n",
       "        vertical-align: middle;\n",
       "    }\n",
       "\n",
       "    .dataframe tbody tr th {\n",
       "        vertical-align: top;\n",
       "    }\n",
       "\n",
       "    .dataframe thead th {\n",
       "        text-align: right;\n",
       "    }\n",
       "</style>\n",
       "<table border=\"1\" class=\"dataframe\">\n",
       "  <thead>\n",
       "    <tr style=\"text-align: right;\">\n",
       "      <th></th>\n",
       "      <th>commentaire</th>\n",
       "      <th>classe</th>\n",
       "    </tr>\n",
       "  </thead>\n",
       "  <tbody>\n",
       "    <tr>\n",
       "      <th>0</th>\n",
       "      <td>مبروك و سامحونا لعجزنا التام. عقبال اللي جوه. ...</td>\n",
       "      <td>normal</td>\n",
       "    </tr>\n",
       "    <tr>\n",
       "      <th>1</th>\n",
       "      <td>كلنا بره ومش هنبطل نزايد على العجايز الي جابون...</td>\n",
       "      <td>hate</td>\n",
       "    </tr>\n",
       "    <tr>\n",
       "      <th>2</th>\n",
       "      <td>بدل ما انت قاعد بره كده تعالي ازرع الصحرا</td>\n",
       "      <td>normal</td>\n",
       "    </tr>\n",
       "    <tr>\n",
       "      <th>3</th>\n",
       "      <td>قذر اتفووو ماتيجى مصر وتورينا نفسك كدا ياجبان</td>\n",
       "      <td>hate</td>\n",
       "    </tr>\n",
       "    <tr>\n",
       "      <th>4</th>\n",
       "      <td>وهكذا رجال الشو اللي محرومين من عمل برنامج الغ...</td>\n",
       "      <td>hate</td>\n",
       "    </tr>\n",
       "    <tr>\n",
       "      <th>...</th>\n",
       "      <td>...</td>\n",
       "      <td>...</td>\n",
       "    </tr>\n",
       "    <tr>\n",
       "      <th>23028</th>\n",
       "      <td>يلا ولا خنزير الله يرحم صدام حسين لي كان داعسكن</td>\n",
       "      <td>hate</td>\n",
       "    </tr>\n",
       "    <tr>\n",
       "      <th>23029</th>\n",
       "      <td>وبلدك سوريا لا تبغي سوا القتل والاجرام</td>\n",
       "      <td>hate</td>\n",
       "    </tr>\n",
       "    <tr>\n",
       "      <th>23030</th>\n",
       "      <td>معالي الوزير نؤمن بك دائما لأنك الدرع المنيع ف...</td>\n",
       "      <td>normal</td>\n",
       "    </tr>\n",
       "    <tr>\n",
       "      <th>23031</th>\n",
       "      <td>حياة سندي مستشارة امين عام الامم المتحدة بان ك...</td>\n",
       "      <td>normal</td>\n",
       "    </tr>\n",
       "    <tr>\n",
       "      <th>23032</th>\n",
       "      <td>انت يا جبران باسيل بعقليتك الفجة النتنة تقولرب...</td>\n",
       "      <td>hate</td>\n",
       "    </tr>\n",
       "  </tbody>\n",
       "</table>\n",
       "<p>23033 rows × 2 columns</p>\n",
       "</div>\n",
       "      <button class=\"colab-df-convert\" onclick=\"convertToInteractive('df-3c2e53fe-0c8e-40c1-b878-f0b9af51b85e')\"\n",
       "              title=\"Convert this dataframe to an interactive table.\"\n",
       "              style=\"display:none;\">\n",
       "        \n",
       "  <svg xmlns=\"http://www.w3.org/2000/svg\" height=\"24px\"viewBox=\"0 0 24 24\"\n",
       "       width=\"24px\">\n",
       "    <path d=\"M0 0h24v24H0V0z\" fill=\"none\"/>\n",
       "    <path d=\"M18.56 5.44l.94 2.06.94-2.06 2.06-.94-2.06-.94-.94-2.06-.94 2.06-2.06.94zm-11 1L8.5 8.5l.94-2.06 2.06-.94-2.06-.94L8.5 2.5l-.94 2.06-2.06.94zm10 10l.94 2.06.94-2.06 2.06-.94-2.06-.94-.94-2.06-.94 2.06-2.06.94z\"/><path d=\"M17.41 7.96l-1.37-1.37c-.4-.4-.92-.59-1.43-.59-.52 0-1.04.2-1.43.59L10.3 9.45l-7.72 7.72c-.78.78-.78 2.05 0 2.83L4 21.41c.39.39.9.59 1.41.59.51 0 1.02-.2 1.41-.59l7.78-7.78 2.81-2.81c.8-.78.8-2.07 0-2.86zM5.41 20L4 18.59l7.72-7.72 1.47 1.35L5.41 20z\"/>\n",
       "  </svg>\n",
       "      </button>\n",
       "      \n",
       "  <style>\n",
       "    .colab-df-container {\n",
       "      display:flex;\n",
       "      flex-wrap:wrap;\n",
       "      gap: 12px;\n",
       "    }\n",
       "\n",
       "    .colab-df-convert {\n",
       "      background-color: #E8F0FE;\n",
       "      border: none;\n",
       "      border-radius: 50%;\n",
       "      cursor: pointer;\n",
       "      display: none;\n",
       "      fill: #1967D2;\n",
       "      height: 32px;\n",
       "      padding: 0 0 0 0;\n",
       "      width: 32px;\n",
       "    }\n",
       "\n",
       "    .colab-df-convert:hover {\n",
       "      background-color: #E2EBFA;\n",
       "      box-shadow: 0px 1px 2px rgba(60, 64, 67, 0.3), 0px 1px 3px 1px rgba(60, 64, 67, 0.15);\n",
       "      fill: #174EA6;\n",
       "    }\n",
       "\n",
       "    [theme=dark] .colab-df-convert {\n",
       "      background-color: #3B4455;\n",
       "      fill: #D2E3FC;\n",
       "    }\n",
       "\n",
       "    [theme=dark] .colab-df-convert:hover {\n",
       "      background-color: #434B5C;\n",
       "      box-shadow: 0px 1px 3px 1px rgba(0, 0, 0, 0.15);\n",
       "      filter: drop-shadow(0px 1px 2px rgba(0, 0, 0, 0.3));\n",
       "      fill: #FFFFFF;\n",
       "    }\n",
       "  </style>\n",
       "\n",
       "      <script>\n",
       "        const buttonEl =\n",
       "          document.querySelector('#df-3c2e53fe-0c8e-40c1-b878-f0b9af51b85e button.colab-df-convert');\n",
       "        buttonEl.style.display =\n",
       "          google.colab.kernel.accessAllowed ? 'block' : 'none';\n",
       "\n",
       "        async function convertToInteractive(key) {\n",
       "          const element = document.querySelector('#df-3c2e53fe-0c8e-40c1-b878-f0b9af51b85e');\n",
       "          const dataTable =\n",
       "            await google.colab.kernel.invokeFunction('convertToInteractive',\n",
       "                                                     [key], {});\n",
       "          if (!dataTable) return;\n",
       "\n",
       "          const docLinkHtml = 'Like what you see? Visit the ' +\n",
       "            '<a target=\"_blank\" href=https://colab.research.google.com/notebooks/data_table.ipynb>data table notebook</a>'\n",
       "            + ' to learn more about interactive tables.';\n",
       "          element.innerHTML = '';\n",
       "          dataTable['output_type'] = 'display_data';\n",
       "          await google.colab.output.renderOutput(dataTable, element);\n",
       "          const docLink = document.createElement('div');\n",
       "          docLink.innerHTML = docLinkHtml;\n",
       "          element.appendChild(docLink);\n",
       "        }\n",
       "      </script>\n",
       "    </div>\n",
       "  </div>\n",
       "  "
      ],
      "text/plain": [
       "                                             commentaire  classe\n",
       "0      مبروك و سامحونا لعجزنا التام. عقبال اللي جوه. ...  normal\n",
       "1      كلنا بره ومش هنبطل نزايد على العجايز الي جابون...    hate\n",
       "2              بدل ما انت قاعد بره كده تعالي ازرع الصحرا  normal\n",
       "3          قذر اتفووو ماتيجى مصر وتورينا نفسك كدا ياجبان    hate\n",
       "4      وهكذا رجال الشو اللي محرومين من عمل برنامج الغ...    hate\n",
       "...                                                  ...     ...\n",
       "23028    يلا ولا خنزير الله يرحم صدام حسين لي كان داعسكن    hate\n",
       "23029            وبلدك سوريا لا تبغي سوا القتل والاجرام     hate\n",
       "23030  معالي الوزير نؤمن بك دائما لأنك الدرع المنيع ف...  normal\n",
       "23031  حياة سندي مستشارة امين عام الامم المتحدة بان ك...  normal\n",
       "23032  انت يا جبران باسيل بعقليتك الفجة النتنة تقولرب...    hate\n",
       "\n",
       "[23033 rows x 2 columns]"
      ]
     },
     "execution_count": 3,
     "metadata": {},
     "output_type": "execute_result"
    }
   ],
   "source": [
    "import pandas as pd\n",
    "data=pd.read_excel(\"/content/drive/MyDrive/All/Projects/Ing Internship/Data/final-dataset.xlsx\")\n",
    "data"
   ]
  },
  {
   "cell_type": "markdown",
   "metadata": {
    "id": "E78jh1K4ATql"
   },
   "source": [
    "##Data Preprocessing"
   ]
  },
  {
   "cell_type": "markdown",
   "metadata": {
    "id": "4WPH66dgAsdv"
   },
   "source": [
    "1/ Changing the Class into bin"
   ]
  },
  {
   "cell_type": "code",
   "execution_count": null,
   "metadata": {
    "id": "g0G8MT47A3Z_"
   },
   "outputs": [],
   "source": [
    "data['classe']=data['classe'].replace(\"hate\", int(2))\n",
    "data['classe']=data['classe'].replace(\"normal\", int(0)) \n",
    "data['classe']=data['classe'].replace(\"abusive\", int(1))"
   ]
  },
  {
   "cell_type": "code",
   "execution_count": null,
   "metadata": {
    "colab": {
     "base_uri": "https://localhost:8080/",
     "height": 424
    },
    "id": "1Ml3TDjMBley",
    "outputId": "6cdb9b8b-04af-4b88-f5d1-779b9b4e6ca5"
   },
   "outputs": [
    {
     "data": {
      "text/html": [
       "\n",
       "  <div id=\"df-00f80947-0587-4b6a-b7b3-0acdb748835a\">\n",
       "    <div class=\"colab-df-container\">\n",
       "      <div>\n",
       "<style scoped>\n",
       "    .dataframe tbody tr th:only-of-type {\n",
       "        vertical-align: middle;\n",
       "    }\n",
       "\n",
       "    .dataframe tbody tr th {\n",
       "        vertical-align: top;\n",
       "    }\n",
       "\n",
       "    .dataframe thead th {\n",
       "        text-align: right;\n",
       "    }\n",
       "</style>\n",
       "<table border=\"1\" class=\"dataframe\">\n",
       "  <thead>\n",
       "    <tr style=\"text-align: right;\">\n",
       "      <th></th>\n",
       "      <th>commentaire</th>\n",
       "      <th>classe</th>\n",
       "    </tr>\n",
       "  </thead>\n",
       "  <tbody>\n",
       "    <tr>\n",
       "      <th>0</th>\n",
       "      <td>مبروك و سامحونا لعجزنا التام. عقبال اللي جوه. ...</td>\n",
       "      <td>0</td>\n",
       "    </tr>\n",
       "    <tr>\n",
       "      <th>1</th>\n",
       "      <td>كلنا بره ومش هنبطل نزايد على العجايز الي جابون...</td>\n",
       "      <td>2</td>\n",
       "    </tr>\n",
       "    <tr>\n",
       "      <th>2</th>\n",
       "      <td>بدل ما انت قاعد بره كده تعالي ازرع الصحرا</td>\n",
       "      <td>0</td>\n",
       "    </tr>\n",
       "    <tr>\n",
       "      <th>3</th>\n",
       "      <td>قذر اتفووو ماتيجى مصر وتورينا نفسك كدا ياجبان</td>\n",
       "      <td>2</td>\n",
       "    </tr>\n",
       "    <tr>\n",
       "      <th>4</th>\n",
       "      <td>وهكذا رجال الشو اللي محرومين من عمل برنامج الغ...</td>\n",
       "      <td>2</td>\n",
       "    </tr>\n",
       "    <tr>\n",
       "      <th>...</th>\n",
       "      <td>...</td>\n",
       "      <td>...</td>\n",
       "    </tr>\n",
       "    <tr>\n",
       "      <th>23028</th>\n",
       "      <td>يلا ولا خنزير الله يرحم صدام حسين لي كان داعسكن</td>\n",
       "      <td>2</td>\n",
       "    </tr>\n",
       "    <tr>\n",
       "      <th>23029</th>\n",
       "      <td>وبلدك سوريا لا تبغي سوا القتل والاجرام</td>\n",
       "      <td>2</td>\n",
       "    </tr>\n",
       "    <tr>\n",
       "      <th>23030</th>\n",
       "      <td>معالي الوزير نؤمن بك دائما لأنك الدرع المنيع ف...</td>\n",
       "      <td>0</td>\n",
       "    </tr>\n",
       "    <tr>\n",
       "      <th>23031</th>\n",
       "      <td>حياة سندي مستشارة امين عام الامم المتحدة بان ك...</td>\n",
       "      <td>0</td>\n",
       "    </tr>\n",
       "    <tr>\n",
       "      <th>23032</th>\n",
       "      <td>انت يا جبران باسيل بعقليتك الفجة النتنة تقولرب...</td>\n",
       "      <td>2</td>\n",
       "    </tr>\n",
       "  </tbody>\n",
       "</table>\n",
       "<p>23033 rows × 2 columns</p>\n",
       "</div>\n",
       "      <button class=\"colab-df-convert\" onclick=\"convertToInteractive('df-00f80947-0587-4b6a-b7b3-0acdb748835a')\"\n",
       "              title=\"Convert this dataframe to an interactive table.\"\n",
       "              style=\"display:none;\">\n",
       "        \n",
       "  <svg xmlns=\"http://www.w3.org/2000/svg\" height=\"24px\"viewBox=\"0 0 24 24\"\n",
       "       width=\"24px\">\n",
       "    <path d=\"M0 0h24v24H0V0z\" fill=\"none\"/>\n",
       "    <path d=\"M18.56 5.44l.94 2.06.94-2.06 2.06-.94-2.06-.94-.94-2.06-.94 2.06-2.06.94zm-11 1L8.5 8.5l.94-2.06 2.06-.94-2.06-.94L8.5 2.5l-.94 2.06-2.06.94zm10 10l.94 2.06.94-2.06 2.06-.94-2.06-.94-.94-2.06-.94 2.06-2.06.94z\"/><path d=\"M17.41 7.96l-1.37-1.37c-.4-.4-.92-.59-1.43-.59-.52 0-1.04.2-1.43.59L10.3 9.45l-7.72 7.72c-.78.78-.78 2.05 0 2.83L4 21.41c.39.39.9.59 1.41.59.51 0 1.02-.2 1.41-.59l7.78-7.78 2.81-2.81c.8-.78.8-2.07 0-2.86zM5.41 20L4 18.59l7.72-7.72 1.47 1.35L5.41 20z\"/>\n",
       "  </svg>\n",
       "      </button>\n",
       "      \n",
       "  <style>\n",
       "    .colab-df-container {\n",
       "      display:flex;\n",
       "      flex-wrap:wrap;\n",
       "      gap: 12px;\n",
       "    }\n",
       "\n",
       "    .colab-df-convert {\n",
       "      background-color: #E8F0FE;\n",
       "      border: none;\n",
       "      border-radius: 50%;\n",
       "      cursor: pointer;\n",
       "      display: none;\n",
       "      fill: #1967D2;\n",
       "      height: 32px;\n",
       "      padding: 0 0 0 0;\n",
       "      width: 32px;\n",
       "    }\n",
       "\n",
       "    .colab-df-convert:hover {\n",
       "      background-color: #E2EBFA;\n",
       "      box-shadow: 0px 1px 2px rgba(60, 64, 67, 0.3), 0px 1px 3px 1px rgba(60, 64, 67, 0.15);\n",
       "      fill: #174EA6;\n",
       "    }\n",
       "\n",
       "    [theme=dark] .colab-df-convert {\n",
       "      background-color: #3B4455;\n",
       "      fill: #D2E3FC;\n",
       "    }\n",
       "\n",
       "    [theme=dark] .colab-df-convert:hover {\n",
       "      background-color: #434B5C;\n",
       "      box-shadow: 0px 1px 3px 1px rgba(0, 0, 0, 0.15);\n",
       "      filter: drop-shadow(0px 1px 2px rgba(0, 0, 0, 0.3));\n",
       "      fill: #FFFFFF;\n",
       "    }\n",
       "  </style>\n",
       "\n",
       "      <script>\n",
       "        const buttonEl =\n",
       "          document.querySelector('#df-00f80947-0587-4b6a-b7b3-0acdb748835a button.colab-df-convert');\n",
       "        buttonEl.style.display =\n",
       "          google.colab.kernel.accessAllowed ? 'block' : 'none';\n",
       "\n",
       "        async function convertToInteractive(key) {\n",
       "          const element = document.querySelector('#df-00f80947-0587-4b6a-b7b3-0acdb748835a');\n",
       "          const dataTable =\n",
       "            await google.colab.kernel.invokeFunction('convertToInteractive',\n",
       "                                                     [key], {});\n",
       "          if (!dataTable) return;\n",
       "\n",
       "          const docLinkHtml = 'Like what you see? Visit the ' +\n",
       "            '<a target=\"_blank\" href=https://colab.research.google.com/notebooks/data_table.ipynb>data table notebook</a>'\n",
       "            + ' to learn more about interactive tables.';\n",
       "          element.innerHTML = '';\n",
       "          dataTable['output_type'] = 'display_data';\n",
       "          await google.colab.output.renderOutput(dataTable, element);\n",
       "          const docLink = document.createElement('div');\n",
       "          docLink.innerHTML = docLinkHtml;\n",
       "          element.appendChild(docLink);\n",
       "        }\n",
       "      </script>\n",
       "    </div>\n",
       "  </div>\n",
       "  "
      ],
      "text/plain": [
       "                                             commentaire  classe\n",
       "0      مبروك و سامحونا لعجزنا التام. عقبال اللي جوه. ...       0\n",
       "1      كلنا بره ومش هنبطل نزايد على العجايز الي جابون...       2\n",
       "2              بدل ما انت قاعد بره كده تعالي ازرع الصحرا       0\n",
       "3          قذر اتفووو ماتيجى مصر وتورينا نفسك كدا ياجبان       2\n",
       "4      وهكذا رجال الشو اللي محرومين من عمل برنامج الغ...       2\n",
       "...                                                  ...     ...\n",
       "23028    يلا ولا خنزير الله يرحم صدام حسين لي كان داعسكن       2\n",
       "23029            وبلدك سوريا لا تبغي سوا القتل والاجرام        2\n",
       "23030  معالي الوزير نؤمن بك دائما لأنك الدرع المنيع ف...       0\n",
       "23031  حياة سندي مستشارة امين عام الامم المتحدة بان ك...       0\n",
       "23032  انت يا جبران باسيل بعقليتك الفجة النتنة تقولرب...       2\n",
       "\n",
       "[23033 rows x 2 columns]"
      ]
     },
     "execution_count": 5,
     "metadata": {},
     "output_type": "execute_result"
    }
   ],
   "source": [
    "data"
   ]
  },
  {
   "cell_type": "code",
   "execution_count": null,
   "metadata": {
    "colab": {
     "base_uri": "https://localhost:8080/",
     "height": 334
    },
    "id": "QWAQiWYVAzQN",
    "outputId": "3e7b261f-158d-4497-d222-d16e0a666f2b"
   },
   "outputs": [
    {
     "data": {
      "image/png": "[encoded data removed]",
      "text/plain": [
       "<Figure size 1080x360 with 1 Axes>"
      ]
     },
     "metadata": {
      "needs_background": "light"
     },
     "output_type": "display_data"
    }
   ],
   "source": [
    "import matplotlib.pyplot as plt\n",
    "import seaborn as sns\n",
    "plt.figure(1 , figsize = (15 , 5))\n",
    "sns.countplot(y = 'classe' , data = data)\n",
    "plt.show()"
   ]
  },
  {
   "cell_type": "code",
   "execution_count": null,
   "metadata": {
    "colab": {
     "base_uri": "https://localhost:8080/"
    },
    "id": "mWndFEOiC4pP",
    "outputId": "ec57bbfd-67f7-49a2-9030-ad84349f1e54"
   },
   "outputs": [
    {
     "name": "stdout",
     "output_type": "stream",
     "text": [
      "classe\n",
      "0    12353\n",
      "Name: classe, dtype: int64\n",
      "classe\n",
      "1    3850\n",
      "Name: classe, dtype: int64\n",
      "classe\n",
      "2    6830\n",
      "Name: classe, dtype: int64\n"
     ]
    }
   ],
   "source": [
    "print(data.loc[data.classe==0].groupby('classe')[\"classe\"].count())\n",
    "print(data.loc[data.classe==1].groupby('classe')[\"classe\"].count())\n",
    "print(data.loc[data.classe==2].groupby('classe')[\"classe\"].count())"
   ]
  },
  {
   "cell_type": "markdown",
   "metadata": {
    "id": "nWDDcwDwA32H"
   },
   "source": [
    "2/ NLP Data Preparations: Data Balancing"
   ]
  },
  {
   "cell_type": "code",
   "execution_count": null,
   "metadata": {
    "id": "BgMfbCVpBAOB"
   },
   "outputs": [],
   "source": [
    "from tensorflow.keras.preprocessing.text import Tokenizer\n",
    "from tensorflow.keras.preprocessing.sequence import pad_sequences\n",
    "import numpy as np\n",
    "\n",
    "sentences = []\n",
    "labels = []\n",
    "\n",
    "sentences = data['commentaire']\n",
    "labels = data['classe']\n",
    "L=[]\n",
    "#for i in labels:\n",
    "#  if (i != '1') and (i != '0'):\n",
    "#    L.append(i)\n",
    "\n",
    "labels = [int(i) for i in labels]\n",
    "#L"
   ]
  },
  {
   "cell_type": "code",
   "execution_count": null,
   "metadata": {
    "colab": {
     "base_uri": "https://localhost:8080/",
     "height": 334
    },
    "id": "Fz8P60LwbLjI",
    "outputId": "1bc94e49-d220-45b9-db67-896245d9c9be"
   },
   "outputs": [
    {
     "data": {
      "image/png": "[encoded data removed]",
      "text/plain": [
       "<Figure size 1080x360 with 1 Axes>"
      ]
     },
     "metadata": {
      "needs_background": "light"
     },
     "output_type": "display_data"
    }
   ],
   "source": [
    "import matplotlib.pyplot as plt\n",
    "import seaborn as sns\n",
    "plt.figure(1 , figsize = (15 , 5))\n",
    "sns.countplot(y = 'classe' , data = data)\n",
    "plt.show()"
   ]
  },
  {
   "cell_type": "code",
   "execution_count": null,
   "metadata": {
    "colab": {
     "base_uri": "https://localhost:8080/"
    },
    "id": "A37mvaVcD-ji",
    "outputId": "b85f93fd-153f-49ae-9c20-2ff884384eca"
   },
   "outputs": [
    {
     "data": {
      "text/plain": [
       "388"
      ]
     },
     "execution_count": 11,
     "metadata": {},
     "output_type": "execute_result"
    }
   ],
   "source": [
    "#Figure out the longest comment\n",
    "\n",
    "def count_words(input):\n",
    "  return len(input.split())\n",
    "max_length=count_words(max(sentences,key=count_words))\n",
    "max_length"
   ]
  },
  {
   "cell_type": "markdown",
   "metadata": {
    "id": "cCJNbJcEzes_"
   },
   "source": [
    "#Importing extra data"
   ]
  },
  {
   "cell_type": "code",
   "execution_count": null,
   "metadata": {
    "id": "lJ4ViTx6zc-7"
   },
   "outputs": [],
   "source": [
    "data12=pd.read_excel(\"/content/drive/MyDrive/All/Projects/Ing Internship/Data/dataset1and2.xlsx\")\n",
    "data34=pd.read_excel(\"/content/drive/MyDrive/All/Projects/Ing Internship/Data/dataset3and4.xlsx\")\n",
    "\n",
    "data12['classe']=data12['classe'].replace(\"hate\", int(2))\n",
    "data12['classe']=data12['classe'].replace(\"normal\", int(0)) \n",
    "data12['classe']=data12['classe'].replace(\"abusive\", int(1))\n",
    "\n",
    "data34['classe']=data34['classe'].replace(\"hate\", int(2))\n",
    "data34['classe']=data34['classe'].replace(\"normal\", int(0)) \n",
    "data34['classe']=data34['classe'].replace(\"abusive\", int(1))\n",
    "\n",
    "\n",
    "C1=data12[\"commentaire\"]\n",
    "C2=data34[\"commentaire\"]\n",
    "L1=data12[\"classe\"]\n",
    "L2=data34[\"classe\"]\n",
    "\n",
    "\n",
    "data12=[[i,j] for i,j in zip(C1 , L1)]\n",
    "data34=[[i,j] for i,j in zip(C2 , L2)]\n",
    "\n",
    "data12=pd.DataFrame(data12,columns=[\"sentences\",\"classe\"])\n",
    "data34=pd.DataFrame(data34,columns=[\"sentences\",\"classe\"])"
   ]
  },
  {
   "cell_type": "code",
   "execution_count": null,
   "metadata": {
    "colab": {
     "base_uri": "https://localhost:8080/",
     "height": 424
    },
    "id": "IhOSM1XP17Oy",
    "outputId": "5c5cb6d0-33f1-4432-a751-19bf69f5c20d"
   },
   "outputs": [
    {
     "data": {
      "text/html": [
       "\n",
       "  <div id=\"df-e63edcf2-c7c0-4f78-86e1-bf4cf27dbfaf\">\n",
       "    <div class=\"colab-df-container\">\n",
       "      <div>\n",
       "<style scoped>\n",
       "    .dataframe tbody tr th:only-of-type {\n",
       "        vertical-align: middle;\n",
       "    }\n",
       "\n",
       "    .dataframe tbody tr th {\n",
       "        vertical-align: top;\n",
       "    }\n",
       "\n",
       "    .dataframe thead th {\n",
       "        text-align: right;\n",
       "    }\n",
       "</style>\n",
       "<table border=\"1\" class=\"dataframe\">\n",
       "  <thead>\n",
       "    <tr style=\"text-align: right;\">\n",
       "      <th></th>\n",
       "      <th>sentences</th>\n",
       "      <th>classe</th>\n",
       "    </tr>\n",
       "  </thead>\n",
       "  <tbody>\n",
       "    <tr>\n",
       "      <th>0</th>\n",
       "      <td>اسغي ياشعب تونس تدعوا بالاسلام كفار الحمدلله ن...</td>\n",
       "      <td>2</td>\n",
       "    </tr>\n",
       "    <tr>\n",
       "      <th>1</th>\n",
       "      <td>قطع يد السارق توفرت الشروط شرط الحد الأدنى قيم...</td>\n",
       "      <td>0</td>\n",
       "    </tr>\n",
       "    <tr>\n",
       "      <th>2</th>\n",
       "      <td>تلوموش لطفي لعبدلي شرف</td>\n",
       "      <td>0</td>\n",
       "    </tr>\n",
       "    <tr>\n",
       "      <th>3</th>\n",
       "      <td>مستغرب شعب يسمع تفاهة شانو لى الدرجة الشعب تاف...</td>\n",
       "      <td>0</td>\n",
       "    </tr>\n",
       "    <tr>\n",
       "      <th>4</th>\n",
       "      <td>هههخ غزلتني مافهمتش شمدخلها الموضوع تتنطر وحده...</td>\n",
       "      <td>0</td>\n",
       "    </tr>\n",
       "    <tr>\n",
       "      <th>...</th>\n",
       "      <td>...</td>\n",
       "      <td>...</td>\n",
       "    </tr>\n",
       "    <tr>\n",
       "      <th>6455</th>\n",
       "      <td>وجهو وجه الطحين ورخس</td>\n",
       "      <td>1</td>\n",
       "    </tr>\n",
       "    <tr>\n",
       "      <th>6456</th>\n",
       "      <td>الله لا يبارك فيكم و في الي تزرعوا فيه اليوم ل...</td>\n",
       "      <td>2</td>\n",
       "    </tr>\n",
       "    <tr>\n",
       "      <th>6457</th>\n",
       "      <td>ملا حثالة مستدعيه ، قواد ولحاس ، طيح مستوى الب...</td>\n",
       "      <td>2</td>\n",
       "    </tr>\n",
       "    <tr>\n",
       "      <th>6458</th>\n",
       "      <td>شبعة خمج.اينما يقيم الجهل</td>\n",
       "      <td>2</td>\n",
       "    </tr>\n",
       "    <tr>\n",
       "      <th>6459</th>\n",
       "      <td>عدم إحترام المشاهد من جميع الأطراف هي قلة حياء</td>\n",
       "      <td>2</td>\n",
       "    </tr>\n",
       "  </tbody>\n",
       "</table>\n",
       "<p>6460 rows × 2 columns</p>\n",
       "</div>\n",
       "      <button class=\"colab-df-convert\" onclick=\"convertToInteractive('df-e63edcf2-c7c0-4f78-86e1-bf4cf27dbfaf')\"\n",
       "              title=\"Convert this dataframe to an interactive table.\"\n",
       "              style=\"display:none;\">\n",
       "        \n",
       "  <svg xmlns=\"http://www.w3.org/2000/svg\" height=\"24px\"viewBox=\"0 0 24 24\"\n",
       "       width=\"24px\">\n",
       "    <path d=\"M0 0h24v24H0V0z\" fill=\"none\"/>\n",
       "    <path d=\"M18.56 5.44l.94 2.06.94-2.06 2.06-.94-2.06-.94-.94-2.06-.94 2.06-2.06.94zm-11 1L8.5 8.5l.94-2.06 2.06-.94-2.06-.94L8.5 2.5l-.94 2.06-2.06.94zm10 10l.94 2.06.94-2.06 2.06-.94-2.06-.94-.94-2.06-.94 2.06-2.06.94z\"/><path d=\"M17.41 7.96l-1.37-1.37c-.4-.4-.92-.59-1.43-.59-.52 0-1.04.2-1.43.59L10.3 9.45l-7.72 7.72c-.78.78-.78 2.05 0 2.83L4 21.41c.39.39.9.59 1.41.59.51 0 1.02-.2 1.41-.59l7.78-7.78 2.81-2.81c.8-.78.8-2.07 0-2.86zM5.41 20L4 18.59l7.72-7.72 1.47 1.35L5.41 20z\"/>\n",
       "  </svg>\n",
       "      </button>\n",
       "      \n",
       "  <style>\n",
       "    .colab-df-container {\n",
       "      display:flex;\n",
       "      flex-wrap:wrap;\n",
       "      gap: 12px;\n",
       "    }\n",
       "\n",
       "    .colab-df-convert {\n",
       "      background-color: #E8F0FE;\n",
       "      border: none;\n",
       "      border-radius: 50%;\n",
       "      cursor: pointer;\n",
       "      display: none;\n",
       "      fill: #1967D2;\n",
       "      height: 32px;\n",
       "      padding: 0 0 0 0;\n",
       "      width: 32px;\n",
       "    }\n",
       "\n",
       "    .colab-df-convert:hover {\n",
       "      background-color: #E2EBFA;\n",
       "      box-shadow: 0px 1px 2px rgba(60, 64, 67, 0.3), 0px 1px 3px 1px rgba(60, 64, 67, 0.15);\n",
       "      fill: #174EA6;\n",
       "    }\n",
       "\n",
       "    [theme=dark] .colab-df-convert {\n",
       "      background-color: #3B4455;\n",
       "      fill: #D2E3FC;\n",
       "    }\n",
       "\n",
       "    [theme=dark] .colab-df-convert:hover {\n",
       "      background-color: #434B5C;\n",
       "      box-shadow: 0px 1px 3px 1px rgba(0, 0, 0, 0.15);\n",
       "      filter: drop-shadow(0px 1px 2px rgba(0, 0, 0, 0.3));\n",
       "      fill: #FFFFFF;\n",
       "    }\n",
       "  </style>\n",
       "\n",
       "      <script>\n",
       "        const buttonEl =\n",
       "          document.querySelector('#df-e63edcf2-c7c0-4f78-86e1-bf4cf27dbfaf button.colab-df-convert');\n",
       "        buttonEl.style.display =\n",
       "          google.colab.kernel.accessAllowed ? 'block' : 'none';\n",
       "\n",
       "        async function convertToInteractive(key) {\n",
       "          const element = document.querySelector('#df-e63edcf2-c7c0-4f78-86e1-bf4cf27dbfaf');\n",
       "          const dataTable =\n",
       "            await google.colab.kernel.invokeFunction('convertToInteractive',\n",
       "                                                     [key], {});\n",
       "          if (!dataTable) return;\n",
       "\n",
       "          const docLinkHtml = 'Like what you see? Visit the ' +\n",
       "            '<a target=\"_blank\" href=https://colab.research.google.com/notebooks/data_table.ipynb>data table notebook</a>'\n",
       "            + ' to learn more about interactive tables.';\n",
       "          element.innerHTML = '';\n",
       "          dataTable['output_type'] = 'display_data';\n",
       "          await google.colab.output.renderOutput(dataTable, element);\n",
       "          const docLink = document.createElement('div');\n",
       "          docLink.innerHTML = docLinkHtml;\n",
       "          element.appendChild(docLink);\n",
       "        }\n",
       "      </script>\n",
       "    </div>\n",
       "  </div>\n",
       "  "
      ],
      "text/plain": [
       "                                              sentences  classe\n",
       "0     اسغي ياشعب تونس تدعوا بالاسلام كفار الحمدلله ن...       2\n",
       "1     قطع يد السارق توفرت الشروط شرط الحد الأدنى قيم...       0\n",
       "2                                تلوموش لطفي لعبدلي شرف       0\n",
       "3     مستغرب شعب يسمع تفاهة شانو لى الدرجة الشعب تاف...       0\n",
       "4     هههخ غزلتني مافهمتش شمدخلها الموضوع تتنطر وحده...       0\n",
       "...                                                 ...     ...\n",
       "6455                               وجهو وجه الطحين ورخس       1\n",
       "6456  الله لا يبارك فيكم و في الي تزرعوا فيه اليوم ل...       2\n",
       "6457  ملا حثالة مستدعيه ، قواد ولحاس ، طيح مستوى الب...       2\n",
       "6458                          شبعة خمج.اينما يقيم الجهل       2\n",
       "6459     عدم إحترام المشاهد من جميع الأطراف هي قلة حياء       2\n",
       "\n",
       "[6460 rows x 2 columns]"
      ]
     },
     "execution_count": 42,
     "metadata": {},
     "output_type": "execute_result"
    }
   ],
   "source": [
    "data12"
   ]
  },
  {
   "cell_type": "code",
   "execution_count": null,
   "metadata": {
    "colab": {
     "base_uri": "https://localhost:8080/",
     "height": 490
    },
    "id": "15BM6cRP0Wrl",
    "outputId": "c79f35f2-605c-411c-9e9f-68650111f27c"
   },
   "outputs": [
    {
     "data": {
      "image/png": "[encoded data removed]",
      "text/plain": [
       "<Figure size 1080x360 with 1 Axes>"
      ]
     },
     "metadata": {
      "needs_background": "light"
     },
     "output_type": "display_data"
    },
    {
     "name": "stdout",
     "output_type": "stream",
     "text": [
      "classe\n",
      "0    3857\n",
      "Name: classe, dtype: int64\n",
      "classe\n",
      "1    1204\n",
      "Name: classe, dtype: int64\n",
      "classe\n",
      "2    1399\n",
      "Name: classe, dtype: int64\n"
     ]
    }
   ],
   "source": [
    "plt.figure(1 , figsize = (15 , 5))\n",
    "sns.countplot(y = 'classe' , data = data12)\n",
    "plt.show()\n",
    "print(data12.loc[data12.classe==0].groupby('classe')[\"classe\"].count())\n",
    "print(data12.loc[data12.classe==1].groupby('classe')[\"classe\"].count())\n",
    "print(data12.loc[data12.classe==2].groupby('classe')[\"classe\"].count())"
   ]
  },
  {
   "cell_type": "code",
   "execution_count": null,
   "metadata": {
    "colab": {
     "base_uri": "https://localhost:8080/",
     "height": 490
    },
    "id": "OOiCKJ4y1I5T",
    "outputId": "bb8e6cd1-1f3a-4487-df9e-446d847ec9a6"
   },
   "outputs": [
    {
     "data": {
      "image/png": "[encoded data removed]",
      "text/plain": [
       "<Figure size 1080x360 with 1 Axes>"
      ]
     },
     "metadata": {
      "needs_background": "light"
     },
     "output_type": "display_data"
    },
    {
     "name": "stdout",
     "output_type": "stream",
     "text": [
      "classe\n",
      "0    4565\n",
      "Name: classe, dtype: int64\n",
      "classe\n",
      "1    1746\n",
      "Name: classe, dtype: int64\n",
      "classe\n",
      "2    2885\n",
      "Name: classe, dtype: int64\n"
     ]
    }
   ],
   "source": [
    "plt.figure(1 , figsize = (15 , 5))\n",
    "sns.countplot(y = 'classe' , data = data34)\n",
    "plt.show()\n",
    "print(data34.loc[data34.classe==0].groupby('classe')[\"classe\"].count())\n",
    "print(data34.loc[data34.classe==1].groupby('classe')[\"classe\"].count())\n",
    "print(data34.loc[data34.classe==2].groupby('classe')[\"classe\"].count())"
   ]
  },
  {
   "cell_type": "markdown",
   "metadata": {
    "id": "qbiHzGSbw8sE"
   },
   "source": [
    "##The way that the computers percieve words and phrases is diffrent from the way that we preceve it as human beings. There are a veriety of ways for us that we can utilise to program the data type that we have and to make it numerical so that the model can get some meaning out of it. We call this part encoding text.\n",
    "##we can transfor each alphabet and caracter to it's ASCII Code, but this approach wasn't proven to give great results [To Research] !!!\n",
    "#What I did in the code was: Continus or distributed Embeddings Vectors representation:\n",
    "* First: Build a dictionary of tokens: I defined a dictionnary That has the words as keys and a unique number as a value\n",
    "* I then changed all of the phrases into Lists that has integers that indicate which word is in that particular place\n",
    "* Use One-Hot Vector\n",
    "\n",
    "##After doing this process, we have a numerical data that the model can use to get some meaning out of the labels"
   ]
  },
  {
   "cell_type": "code",
   "execution_count": null,
   "metadata": {
    "id": "FrNFMsATGjbL"
   },
   "outputs": [],
   "source": [
    "training_size=int(len(sentences)*0.8)   #Experimenting setup\n",
    "\n",
    "training_sentences = sentences[0:training_size]\n",
    "testing_sentences = sentences[training_size:]\n",
    "training_labels = labels[0:training_size]\n",
    "testing_labels = labels[training_size:]\n",
    "\n",
    "embedding_dim = 16\n",
    "\n",
    "tokenizer = Tokenizer(num_words=3000, oov_token=\"<OOV>\")\n",
    "tokenizer.fit_on_texts(training_sentences)\n",
    "\n",
    "vocab_size = len(tokenizer.word_index) + 1 \n",
    "\n",
    "word_index = tokenizer.word_index\n",
    "\n",
    "training_sequences = tokenizer.texts_to_sequences(training_sentences)\n",
    "training_padded = pad_sequences(training_sequences, maxlen=max_length, padding='post', truncating='post')\n",
    "\n",
    "testing_sequences = tokenizer.texts_to_sequences(testing_sentences)\n",
    "testing_padded = pad_sequences(testing_sequences, maxlen=max_length, padding='post', truncating='post')"
   ]
  },
  {
   "cell_type": "code",
   "execution_count": null,
   "metadata": {
    "colab": {
     "base_uri": "https://localhost:8080/"
    },
    "id": "GCD5XHrK8HaL",
    "outputId": "b2bdc429-667d-4af2-b76d-190783de7993"
   },
   "outputs": [
    {
     "data": {
      "text/plain": [
       "52168"
      ]
     },
     "execution_count": 17,
     "metadata": {},
     "output_type": "execute_result"
    }
   ],
   "source": [
    "vocab_size"
   ]
  },
  {
   "cell_type": "code",
   "execution_count": null,
   "metadata": {
    "colab": {
     "base_uri": "https://localhost:8080/"
    },
    "id": "PB3wZKaR8MXq",
    "outputId": "cabf6c6a-4e28-4aa7-e9db-cb2e1aa240b7"
   },
   "outputs": [
    {
     "data": {
      "text/plain": [
       "52167"
      ]
     },
     "execution_count": 18,
     "metadata": {},
     "output_type": "execute_result"
    }
   ],
   "source": [
    "len(word_index)"
   ]
  },
  {
   "cell_type": "code",
   "execution_count": null,
   "metadata": {
    "id": "mkUjHchx4FaT"
   },
   "outputs": [],
   "source": [
    "Nsentences12=data12[\"sentences\"]\n",
    "Nlabels12=data12[\"classe\"]\n",
    "\n",
    "training_size12=int(len(Nsentences12)*0.8)\n",
    "\n",
    "testing_sentences12 = Nsentences12[training_size12:]\n",
    "testing_labels12 = Nlabels12[training_size12:]\n",
    "\n",
    "Nsentences34=data34[\"sentences\"]\n",
    "Nlabels34=data34[\"classe\"]\n",
    "\n",
    "training_size34=int(len(Nsentences34)*0.8)\n",
    "\n",
    "testing_sentences34 = Nsentences34[training_size34:]\n",
    "testing_labels34 = Nlabels34[training_size34:]"
   ]
  },
  {
   "cell_type": "code",
   "execution_count": null,
   "metadata": {
    "colab": {
     "base_uri": "https://localhost:8080/"
    },
    "id": "NPn7XcNo5qUy",
    "outputId": "38d3cefd-2c3b-4ac5-d1cf-1e8e7d2ae79b"
   },
   "outputs": [
    {
     "data": {
      "text/plain": [
       "206"
      ]
     },
     "execution_count": 26,
     "metadata": {},
     "output_type": "execute_result"
    }
   ],
   "source": [
    "max_length12=count_words(max(testing_sentences12,key=count_words))\n",
    "max_length12"
   ]
  },
  {
   "cell_type": "code",
   "execution_count": null,
   "metadata": {
    "colab": {
     "base_uri": "https://localhost:8080/"
    },
    "id": "5FkaUBXI60-_",
    "outputId": "f1cb61f7-44af-47d8-b012-39436521b7b3"
   },
   "outputs": [
    {
     "data": {
      "text/plain": [
       "29"
      ]
     },
     "execution_count": 27,
     "metadata": {},
     "output_type": "execute_result"
    }
   ],
   "source": [
    "max_length34=count_words(max(testing_sentences34,key=count_words))\n",
    "max_length34"
   ]
  },
  {
   "cell_type": "markdown",
   "metadata": {
    "id": "AFubPmEL7Qrh"
   },
   "source": [
    "###The Maximum length in the new data is less than 207, so we can padd them without losing information."
   ]
  },
  {
   "cell_type": "code",
   "execution_count": null,
   "metadata": {
    "id": "e0p6r_d_7O58"
   },
   "outputs": [],
   "source": [
    "testing_sequences12 = tokenizer.texts_to_sequences(testing_sentences12)\n",
    "testing_padded12 = pad_sequences(testing_sequences12, maxlen=max_length, padding='post', truncating='post')\n",
    "\n",
    "testing_sequences34 = tokenizer.texts_to_sequences(testing_sentences34)\n",
    "testing_padded34 = pad_sequences(testing_sequences34, maxlen=max_length, padding='post', truncating='post')"
   ]
  },
  {
   "cell_type": "markdown",
   "metadata": {
    "id": "TzmCjIfYBA8G"
   },
   "source": [
    "#Modelling"
   ]
  },
  {
   "cell_type": "markdown",
   "metadata": {
    "id": "-CRh9Gqc7KxQ"
   },
   "source": [
    "##For The First Model"
   ]
  },
  {
   "cell_type": "code",
   "execution_count": null,
   "metadata": {
    "colab": {
     "base_uri": "https://localhost:8080/"
    },
    "id": "attb9Ze4BGlm",
    "outputId": "761ac431-c471-4a18-eeaa-6437c50c5ed0"
   },
   "outputs": [
    {
     "name": "stdout",
     "output_type": "stream",
     "text": [
      "Model: \"sequential\"\n",
      "_________________________________________________________________\n",
      " Layer (type)                Output Shape              Param #   \n",
      "=================================================================\n",
      " embedding (Embedding)       (None, 388, 16)           834688    \n",
      "                                                                 \n",
      " conv1d (Conv1D)             (None, 384, 128)          10368     \n",
      "                                                                 \n",
      " conv1d_1 (Conv1D)           (None, 384, 32)           4128      \n",
      "                                                                 \n",
      " bidirectional (Bidirectiona  (None, 384, 64)          16640     \n",
      " l)                                                              \n",
      "                                                                 \n",
      " bidirectional_1 (Bidirectio  (None, 384, 64)          24832     \n",
      " nal)                                                            \n",
      "                                                                 \n",
      " bidirectional_2 (Bidirectio  (None, 384, 32)          10368     \n",
      " nal)                                                            \n",
      "                                                                 \n",
      " flatten (Flatten)           (None, 12288)             0         \n",
      "                                                                 \n",
      " dense (Dense)               (None, 3)                 36867     \n",
      "                                                                 \n",
      "=================================================================\n",
      "Total params: 937,891\n",
      "Trainable params: 937,891\n",
      "Non-trainable params: 0\n",
      "_________________________________________________________________\n"
     ]
    }
   ],
   "source": [
    "import tensorflow as tf\n",
    "\n",
    "model=tf.keras.models.Sequential ([\n",
    "                                   tf.keras.layers.Embedding(vocab_size, embedding_dim, input_length=max_length),\n",
    "                                   tf.keras.layers.Conv1D(128, 5, activation='relu'),\n",
    "                                   tf.keras.layers.Conv1D(filters=32, kernel_size=1, activation='selu'),\n",
    "                                   tf.keras.layers.Bidirectional(tf.keras.layers.LSTM(32,return_sequences=True)),\n",
    "                                   tf.keras.layers.Bidirectional(tf.keras.layers.LSTM(32,return_sequences=True)),\n",
    "                                   tf.keras.layers.Bidirectional(tf.keras.layers.LSTM(16,return_sequences=True)),\n",
    "                                   tf.keras.layers.Flatten(),\n",
    "                                   tf.keras.layers.Dense(units=3, activation='softmax')])\n",
    "model.summary()"
   ]
  },
  {
   "cell_type": "code",
   "execution_count": null,
   "metadata": {
    "colab": {
     "base_uri": "https://localhost:8080/"
    },
    "id": "YK8y9kQFL5T5",
    "outputId": "2b725f5e-3df8-4040-aac2-d1654c0bc8fe"
   },
   "outputs": [
    {
     "name": "stdout",
     "output_type": "stream",
     "text": [
      "Epoch 1/50\n"
     ]
    },
    {
     "name": "stderr",
     "output_type": "stream",
     "text": [
      "/usr/local/lib/python3.7/dist-packages/ipykernel_launcher.py:4: DeprecationWarning: `np.int` is a deprecated alias for the builtin `int`. To silence this warning, use `int` by itself. Doing this will not modify any behavior and is safe. When replacing `np.int`, you may wish to use e.g. `np.int64` or `np.int32` to specify the precision. If you wish to review your current use, check the release note link for additional information.\n",
      "Deprecated in NumPy 1.20; for more details and guidance: https://numpy.org/devdocs/release/1.20.0-notes.html#deprecations\n",
      "  after removing the cwd from sys.path.\n",
      "/usr/local/lib/python3.7/dist-packages/ipykernel_launcher.py:5: DeprecationWarning: `np.int` is a deprecated alias for the builtin `int`. To silence this warning, use `int` by itself. Doing this will not modify any behavior and is safe. When replacing `np.int`, you may wish to use e.g. `np.int64` or `np.int32` to specify the precision. If you wish to review your current use, check the release note link for additional information.\n",
      "Deprecated in NumPy 1.20; for more details and guidance: https://numpy.org/devdocs/release/1.20.0-notes.html#deprecations\n",
      "  \"\"\"\n",
      "/usr/local/lib/python3.7/dist-packages/ipykernel_launcher.py:6: DeprecationWarning: `np.int` is a deprecated alias for the builtin `int`. To silence this warning, use `int` by itself. Doing this will not modify any behavior and is safe. When replacing `np.int`, you may wish to use e.g. `np.int64` or `np.int32` to specify the precision. If you wish to review your current use, check the release note link for additional information.\n",
      "Deprecated in NumPy 1.20; for more details and guidance: https://numpy.org/devdocs/release/1.20.0-notes.html#deprecations\n",
      "  \n",
      "/usr/local/lib/python3.7/dist-packages/ipykernel_launcher.py:7: DeprecationWarning: `np.int` is a deprecated alias for the builtin `int`. To silence this warning, use `int` by itself. Doing this will not modify any behavior and is safe. When replacing `np.int`, you may wish to use e.g. `np.int64` or `np.int32` to specify the precision. If you wish to review your current use, check the release note link for additional information.\n",
      "Deprecated in NumPy 1.20; for more details and guidance: https://numpy.org/devdocs/release/1.20.0-notes.html#deprecations\n",
      "  import sys\n"
     ]
    },
    {
     "name": "stdout",
     "output_type": "stream",
     "text": [
      "144/144 [==============================] - 32s 141ms/step - loss: 0.9177 - accuracy: 0.5675 - val_loss: 0.6237 - val_accuracy: 0.7237\n",
      "Epoch 2/50\n",
      "144/144 [==============================] - 21s 144ms/step - loss: 0.6806 - accuracy: 0.7206 - val_loss: 0.5482 - val_accuracy: 0.7895\n",
      "Epoch 3/50\n",
      "144/144 [==============================] - 20s 142ms/step - loss: 0.5589 - accuracy: 0.7835 - val_loss: 0.4673 - val_accuracy: 0.8244\n",
      "Epoch 4/50\n",
      "144/144 [==============================] - 20s 142ms/step - loss: 0.4960 - accuracy: 0.8071 - val_loss: 0.4360 - val_accuracy: 0.8376\n",
      "Epoch 5/50\n",
      "144/144 [==============================] - 21s 144ms/step - loss: 0.4445 - accuracy: 0.8293 - val_loss: 0.4080 - val_accuracy: 0.8483\n",
      "Epoch 6/50\n",
      "144/144 [==============================] - 20s 141ms/step - loss: 0.4003 - accuracy: 0.8486 - val_loss: 0.4213 - val_accuracy: 0.8446\n",
      "Epoch 7/50\n",
      "144/144 [==============================] - 21s 145ms/step - loss: 0.3503 - accuracy: 0.8668 - val_loss: 0.3944 - val_accuracy: 0.8546\n",
      "Epoch 8/50\n",
      "144/144 [==============================] - 20s 142ms/step - loss: 0.3068 - accuracy: 0.8864 - val_loss: 0.3732 - val_accuracy: 0.8643\n",
      "Epoch 9/50\n",
      "144/144 [==============================] - 20s 140ms/step - loss: 0.2702 - accuracy: 0.9004 - val_loss: 0.3779 - val_accuracy: 0.8719\n",
      "Epoch 10/50\n",
      "144/144 [==============================] - 21s 143ms/step - loss: 0.2424 - accuracy: 0.9124 - val_loss: 0.3811 - val_accuracy: 0.8767\n",
      "Epoch 11/50\n",
      "144/144 [==============================] - 20s 142ms/step - loss: 0.2207 - accuracy: 0.9226 - val_loss: 0.3773 - val_accuracy: 0.8791\n",
      "Epoch 12/50\n",
      "144/144 [==============================] - 21s 145ms/step - loss: 0.2013 - accuracy: 0.9297 - val_loss: 0.3925 - val_accuracy: 0.8797\n",
      "Epoch 13/50\n",
      "144/144 [==============================] - 20s 141ms/step - loss: 0.1903 - accuracy: 0.9322 - val_loss: 0.3907 - val_accuracy: 0.8793\n",
      "Epoch 14/50\n",
      "144/144 [==============================] - 21s 144ms/step - loss: 0.1796 - accuracy: 0.9361 - val_loss: 0.3970 - val_accuracy: 0.8834\n",
      "Epoch 15/50\n",
      "144/144 [==============================] - 21s 144ms/step - loss: 0.1683 - accuracy: 0.9393 - val_loss: 0.4023 - val_accuracy: 0.8834\n",
      "Epoch 16/50\n",
      "144/144 [==============================] - 21s 145ms/step - loss: 0.1577 - accuracy: 0.9432 - val_loss: 0.4203 - val_accuracy: 0.8832\n",
      "Epoch 17/50\n",
      "144/144 [==============================] - 21s 144ms/step - loss: 0.1502 - accuracy: 0.9457 - val_loss: 0.4347 - val_accuracy: 0.8871\n",
      "Epoch 18/50\n",
      "144/144 [==============================] - 20s 141ms/step - loss: 0.1446 - accuracy: 0.9471 - val_loss: 0.3889 - val_accuracy: 0.8830\n",
      "Epoch 19/50\n",
      "144/144 [==============================] - 20s 141ms/step - loss: 0.1378 - accuracy: 0.9488 - val_loss: 0.4175 - val_accuracy: 0.8839\n",
      "Epoch 20/50\n",
      "144/144 [==============================] - 20s 140ms/step - loss: 0.1350 - accuracy: 0.9504 - val_loss: 0.4336 - val_accuracy: 0.8863\n",
      "Epoch 21/50\n",
      "144/144 [==============================] - 20s 138ms/step - loss: 0.1308 - accuracy: 0.9505 - val_loss: 0.4265 - val_accuracy: 0.8884\n",
      "Epoch 22/50\n",
      "144/144 [==============================] - 21s 145ms/step - loss: 0.1257 - accuracy: 0.9522 - val_loss: 0.4395 - val_accuracy: 0.8828\n",
      "Epoch 23/50\n",
      "144/144 [==============================] - 21s 144ms/step - loss: 0.1228 - accuracy: 0.9535 - val_loss: 0.4567 - val_accuracy: 0.8904\n",
      "Epoch 24/50\n",
      "144/144 [==============================] - 21s 145ms/step - loss: 0.1237 - accuracy: 0.9524 - val_loss: 0.4693 - val_accuracy: 0.8789\n",
      "Epoch 25/50\n",
      "144/144 [==============================] - 20s 142ms/step - loss: 0.1199 - accuracy: 0.9551 - val_loss: 0.4539 - val_accuracy: 0.8865\n",
      "Epoch 26/50\n",
      "144/144 [==============================] - 21s 145ms/step - loss: 0.1118 - accuracy: 0.9565 - val_loss: 0.4756 - val_accuracy: 0.8854\n",
      "Epoch 27/50\n",
      "144/144 [==============================] - 21s 145ms/step - loss: 0.1117 - accuracy: 0.9552 - val_loss: 0.4336 - val_accuracy: 0.8876\n",
      "Epoch 28/50\n",
      "144/144 [==============================] - 21s 143ms/step - loss: 0.1141 - accuracy: 0.9550 - val_loss: 0.4928 - val_accuracy: 0.8819\n",
      "Epoch 29/50\n",
      "144/144 [==============================] - 20s 142ms/step - loss: 0.1117 - accuracy: 0.9544 - val_loss: 0.4751 - val_accuracy: 0.8876\n",
      "Epoch 30/50\n",
      "144/144 [==============================] - 20s 142ms/step - loss: 0.1120 - accuracy: 0.9553 - val_loss: 0.4617 - val_accuracy: 0.8889\n",
      "Epoch 31/50\n",
      "144/144 [==============================] - 21s 146ms/step - loss: 0.1057 - accuracy: 0.9558 - val_loss: 0.5054 - val_accuracy: 0.8902\n",
      "Epoch 32/50\n",
      "144/144 [==============================] - 21s 145ms/step - loss: 0.1031 - accuracy: 0.9579 - val_loss: 0.5102 - val_accuracy: 0.8828\n",
      "Epoch 33/50\n",
      "144/144 [==============================] - 21s 148ms/step - loss: 0.1043 - accuracy: 0.9565 - val_loss: 0.4525 - val_accuracy: 0.8884\n",
      "Epoch 34/50\n",
      "144/144 [==============================] - 21s 143ms/step - loss: 0.1027 - accuracy: 0.9561 - val_loss: 0.5340 - val_accuracy: 0.8897\n",
      "Epoch 35/50\n",
      "144/144 [==============================] - 20s 142ms/step - loss: 0.0993 - accuracy: 0.9568 - val_loss: 0.5269 - val_accuracy: 0.8876\n",
      "Epoch 36/50\n",
      "144/144 [==============================] - 21s 145ms/step - loss: 0.1047 - accuracy: 0.9550 - val_loss: 0.4458 - val_accuracy: 0.8802\n",
      "Epoch 37/50\n",
      "144/144 [==============================] - 21s 148ms/step - loss: 0.1075 - accuracy: 0.9542 - val_loss: 0.4886 - val_accuracy: 0.8871\n",
      "Epoch 38/50\n",
      "144/144 [==============================] - 21s 149ms/step - loss: 0.0989 - accuracy: 0.9564 - val_loss: 0.5413 - val_accuracy: 0.8880\n",
      "Epoch 39/50\n",
      "144/144 [==============================] - 21s 146ms/step - loss: 0.0962 - accuracy: 0.9591 - val_loss: 0.5407 - val_accuracy: 0.8915\n",
      "Epoch 40/50\n",
      "144/144 [==============================] - 20s 140ms/step - loss: 0.0911 - accuracy: 0.9593 - val_loss: 0.5508 - val_accuracy: 0.8882\n",
      "Epoch 41/50\n",
      "144/144 [==============================] - 20s 140ms/step - loss: 0.0900 - accuracy: 0.9589 - val_loss: 0.6508 - val_accuracy: 0.8900\n",
      "Epoch 42/50\n",
      "144/144 [==============================] - 20s 137ms/step - loss: 0.0923 - accuracy: 0.9584 - val_loss: 0.5747 - val_accuracy: 0.8915\n",
      "Epoch 43/50\n",
      "144/144 [==============================] - 20s 141ms/step - loss: 0.0992 - accuracy: 0.9584 - val_loss: 0.5431 - val_accuracy: 0.8871\n",
      "Epoch 44/50\n",
      "144/144 [==============================] - 20s 138ms/step - loss: 0.0945 - accuracy: 0.9574 - val_loss: 0.5735 - val_accuracy: 0.8847\n",
      "Epoch 45/50\n",
      "144/144 [==============================] - 20s 136ms/step - loss: 0.0929 - accuracy: 0.9592 - val_loss: 0.5511 - val_accuracy: 0.8871\n",
      "Epoch 46/50\n",
      "144/144 [==============================] - 20s 137ms/step - loss: 0.0935 - accuracy: 0.9566 - val_loss: 0.5991 - val_accuracy: 0.8878\n",
      "Epoch 47/50\n",
      "144/144 [==============================] - 20s 140ms/step - loss: 0.0891 - accuracy: 0.9582 - val_loss: 0.5690 - val_accuracy: 0.8845\n",
      "Epoch 48/50\n",
      "144/144 [==============================] - 20s 137ms/step - loss: 0.0825 - accuracy: 0.9610 - val_loss: 0.6358 - val_accuracy: 0.8865\n",
      "Epoch 49/50\n",
      "144/144 [==============================] - 20s 139ms/step - loss: 0.0834 - accuracy: 0.9601 - val_loss: 0.6164 - val_accuracy: 0.8865\n",
      "Epoch 50/50\n",
      "144/144 [==============================] - 20s 136ms/step - loss: 0.0813 - accuracy: 0.9614 - val_loss: 0.6606 - val_accuracy: 0.8817\n"
     ]
    }
   ],
   "source": [
    "#For the First Model\n",
    "model.compile(loss=\"sparse_categorical_crossentropy\",optimizer='adam',metrics=['accuracy'],run_eagerly=True)\n",
    "\n",
    "training_padded = np.asarray(training_padded).astype(np.int)\n",
    "training_labels = np.asarray(training_labels).astype(np.int)\n",
    "testing_padded = np.asarray(testing_padded).astype(np.int)\n",
    "testing_labels = np.asarray(testing_labels).astype(np.int)\n",
    "\n",
    "#training_padded = np.expand_dims(training_padded, axis=1)\n",
    "training_labels = np.expand_dims(training_labels, axis=1)\n",
    "#testing_padded = np.expand_dims(testing_padded, axis=1)\n",
    "testing_labels = np.expand_dims(testing_labels, axis=1)\n",
    "\n",
    "history = model.fit(training_padded, training_labels, batch_size=128, epochs=50, validation_data=(testing_padded, testing_labels), verbose=1)"
   ]
  },
  {
   "cell_type": "code",
   "execution_count": null,
   "metadata": {
    "id": "rOOxcWJXQq2F"
   },
   "outputs": [],
   "source": [
    "model.save(\"greatmodel1.h5\")"
   ]
  },
  {
   "cell_type": "code",
   "execution_count": null,
   "metadata": {
    "id": "87O-L-vRBuy-"
   },
   "outputs": [],
   "source": [
    "#Epoch 50/50\n",
    "#144/144 [==============================] - 20s 136ms/step - loss: 0.0813 - accuracy: 0.9614 - val_loss: 0.6606 - val_accuracy: 0.8817"
   ]
  },
  {
   "cell_type": "code",
   "execution_count": null,
   "metadata": {
    "colab": {
     "base_uri": "https://localhost:8080/",
     "height": 976
    },
    "id": "fpzHswneMSZv",
    "outputId": "c0415a38-f39e-40f6-a4b4-d124de628727"
   },
   "outputs": [
    {
     "data": {
      "image/png": "[encoded data removed]",
      "text/plain": [
       "<IPython.core.display.Image object>"
      ]
     },
     "execution_count": 32,
     "metadata": {},
     "output_type": "execute_result"
    }
   ],
   "source": [
    "tf.keras.utils.plot_model(model, show_shapes=True)"
   ]
  },
  {
   "cell_type": "code",
   "execution_count": null,
   "metadata": {
    "colab": {
     "base_uri": "https://localhost:8080/"
    },
    "id": "ctfA3AV-NbFv",
    "outputId": "71bfd36b-07b1-4d7b-895a-881e1d043d3d"
   },
   "outputs": [
    {
     "name": "stdout",
     "output_type": "stream",
     "text": [
      "[[2532   51  112]\n",
      " [  55  692   51]\n",
      " [ 109  167  838]]\n"
     ]
    }
   ],
   "source": [
    "from sklearn.metrics import confusion_matrix\n",
    "import numpy as np\n",
    "pred=model.predict(testing_padded)\n",
    "rounded_labels1=np.argmax(pred, axis=1).astype(int)\n",
    "cm = confusion_matrix(testing_labels, rounded_labels1)\n",
    "print(cm)"
   ]
  },
  {
   "cell_type": "code",
   "execution_count": null,
   "metadata": {
    "colab": {
     "base_uri": "https://localhost:8080/"
    },
    "id": "aHeRqiyHPrxY",
    "outputId": "a174524e-9c86-4fa1-bad7-578ec65df70a"
   },
   "outputs": [
    {
     "name": "stdout",
     "output_type": "stream",
     "text": [
      "              precision    recall  f1-score   support\n",
      "\n",
      "           0       0.94      0.94      0.94      2695\n",
      "           1       0.76      0.87      0.81       798\n",
      "           2       0.84      0.75      0.79      1114\n",
      "\n",
      "    accuracy                           0.88      4607\n",
      "   macro avg       0.85      0.85      0.85      4607\n",
      "weighted avg       0.88      0.88      0.88      4607\n",
      "\n"
     ]
    }
   ],
   "source": [
    "from sklearn.metrics import classification_report\n",
    "print(classification_report(testing_labels, rounded_labels1, labels=[0,1,2]))"
   ]
  },
  {
   "cell_type": "code",
   "execution_count": null,
   "metadata": {
    "colab": {
     "base_uri": "https://localhost:8080/"
    },
    "id": "XP0QbLyyJiJl",
    "outputId": "328ea5cc-b5f8-42f7-ef6f-d3a346741b65"
   },
   "outputs": [
    {
     "name": "stdout",
     "output_type": "stream",
     "text": [
      "[[486  44  57]\n",
      " [ 50 195   8]\n",
      " [ 72 146 234]]\n",
      "              precision    recall  f1-score   support\n",
      "\n",
      "           0       0.80      0.83      0.81       587\n",
      "           1       0.51      0.77      0.61       253\n",
      "           2       0.78      0.52      0.62       452\n",
      "\n",
      "    accuracy                           0.71      1292\n",
      "   macro avg       0.70      0.71      0.68      1292\n",
      "weighted avg       0.74      0.71      0.71      1292\n",
      "\n"
     ]
    }
   ],
   "source": [
    "pred12=model.predict(testing_padded12)\n",
    "rounded_labels112=np.argmax(pred12, axis=1).astype(int)\n",
    "cm12 = confusion_matrix(testing_labels12, rounded_labels112)\n",
    "print(cm12)\n",
    "print(classification_report(testing_labels12, rounded_labels112, labels=[0,1,2]))"
   ]
  },
  {
   "cell_type": "code",
   "execution_count": null,
   "metadata": {
    "colab": {
     "base_uri": "https://localhost:8080/"
    },
    "id": "xKHQnnggJ3PJ",
    "outputId": "e0847118-dd05-485c-fe0e-e39c7dc59d60"
   },
   "outputs": [
    {
     "name": "stdout",
     "output_type": "stream",
     "text": [
      "[[ 506    1   19]\n",
      " [   0    7    0]\n",
      " [   8    6 1293]]\n",
      "              precision    recall  f1-score   support\n",
      "\n",
      "           0       0.98      0.96      0.97       526\n",
      "           1       0.50      1.00      0.67         7\n",
      "           2       0.99      0.99      0.99      1307\n",
      "\n",
      "    accuracy                           0.98      1840\n",
      "   macro avg       0.82      0.98      0.88      1840\n",
      "weighted avg       0.98      0.98      0.98      1840\n",
      "\n"
     ]
    }
   ],
   "source": [
    "pred34=model.predict(testing_padded34)\n",
    "rounded_labels134=np.argmax(pred34, axis=1).astype(int)\n",
    "cm34 = confusion_matrix(testing_labels34, rounded_labels134)\n",
    "print(cm34)\n",
    "print(classification_report(testing_labels34, rounded_labels134, labels=[0,1,2]))"
   ]
  },
  {
   "cell_type": "code",
   "execution_count": null,
   "metadata": {
    "colab": {
     "base_uri": "https://localhost:8080/",
     "height": 573
    },
    "id": "QXLyKWWv58Qd",
    "outputId": "d0dccc71-dec2-4778-c004-0cb2f6c2b9c6"
   },
   "outputs": [
    {
     "data": {
      "image/png": "[encoded data removed]",
      "text/plain": [
       "<Figure size 432x288 with 1 Axes>"
      ]
     },
     "metadata": {
      "needs_background": "light"
     },
     "output_type": "display_data"
    },
    {
     "data": {
      "image/png": "[encoded data removed]",
      "text/plain": [
       "<Figure size 432x288 with 1 Axes>"
      ]
     },
     "metadata": {
      "needs_background": "light"
     },
     "output_type": "display_data"
    }
   ],
   "source": [
    "import matplotlib.pyplot as plt\n",
    "import numpy\n",
    "# summarize history for accuracy\n",
    "plt.plot(history.history['loss'])\n",
    "plt.plot(history.history['val_loss'])\n",
    "plt.title('model loss')\n",
    "plt.ylabel('loss')\n",
    "plt.xlabel('epoch')\n",
    "plt.legend(['train', 'test'], loc='upper left')\n",
    "plt.show()\n",
    "# summarize history for loss\n",
    "plt.plot(history.history['accuracy'])\n",
    "plt.plot(history.history['val_accuracy'])\n",
    "plt.title('model accuracy')\n",
    "plt.ylabel('accuracy')\n",
    "plt.xlabel('epoch')\n",
    "plt.legend(['train', 'test'], loc='upper left')\n",
    "plt.show()"
   ]
  },
  {
   "cell_type": "markdown",
   "metadata": {
    "id": "2DGrTNt17GKc"
   },
   "source": [
    "##For the Second Model"
   ]
  },
  {
   "cell_type": "code",
   "execution_count": null,
   "metadata": {
    "colab": {
     "base_uri": "https://localhost:8080/"
    },
    "id": "Vsv2gTUcITR-",
    "outputId": "ad90aba0-6b4d-4150-d003-83111d6ca46e"
   },
   "outputs": [
    {
     "name": "stdout",
     "output_type": "stream",
     "text": [
      "Model: \"sequential_1\"\n",
      "_________________________________________________________________\n",
      " Layer (type)                Output Shape              Param #   \n",
      "=================================================================\n",
      " embedding_1 (Embedding)     (None, 388, 16)           834688    \n",
      "                                                                 \n",
      " conv1d_2 (Conv1D)           (None, 384, 128)          10368     \n",
      "                                                                 \n",
      " global_max_pooling1d (Globa  (None, 128)              0         \n",
      " lMaxPooling1D)                                                  \n",
      "                                                                 \n",
      " flatten_1 (Flatten)         (None, 128)               0         \n",
      "                                                                 \n",
      " dense_1 (Dense)             (None, 24)                3096      \n",
      "                                                                 \n",
      " dense_2 (Dense)             (None, 2)                 50        \n",
      "                                                                 \n",
      " dense_3 (Dense)             (None, 3)                 9         \n",
      "                                                                 \n",
      "=================================================================\n",
      "Total params: 848,211\n",
      "Trainable params: 848,211\n",
      "Non-trainable params: 0\n",
      "_________________________________________________________________\n"
     ]
    }
   ],
   "source": [
    "import tensorflow as tf\n",
    "model2 = tf.keras.Sequential([\n",
    "    tf.keras.layers.Embedding(vocab_size, embedding_dim, input_length=max_length),\n",
    "    tf.keras.layers.Conv1D(128, 5, activation='relu'),\n",
    "    tf.keras.layers.GlobalMaxPooling1D(),\n",
    "    tf.keras.layers.Flatten(),\n",
    "    tf.keras.layers.Dense(24, activation='relu'),\n",
    "    tf.keras.layers.Dense(2, activation='softmax'),\n",
    "    tf.keras.layers.Dense(units=3, activation='softmax')\n",
    "])\n",
    "model2.summary()"
   ]
  },
  {
   "cell_type": "code",
   "execution_count": null,
   "metadata": {
    "colab": {
     "base_uri": "https://localhost:8080/"
    },
    "id": "-edaUQlH57pA",
    "outputId": "f4a17621-d150-4812-9fcb-afe0e7cae138"
   },
   "outputs": [
    {
     "name": "stdout",
     "output_type": "stream",
     "text": [
      "Epoch 1/50\n",
      "144/144 [==============================] - 2s 12ms/step - loss: 1.2096 - accuracy: 0.2940 - val_loss: 1.1509 - val_accuracy: 0.2418\n",
      "Epoch 2/50\n",
      "144/144 [==============================] - 1s 8ms/step - loss: 1.0811 - accuracy: 0.3428 - val_loss: 1.0452 - val_accuracy: 0.5850\n",
      "Epoch 3/50\n",
      "144/144 [==============================] - 1s 9ms/step - loss: 1.0274 - accuracy: 0.5242 - val_loss: 0.9982 - val_accuracy: 0.5850\n",
      "Epoch 4/50\n",
      "144/144 [==============================] - 1s 9ms/step - loss: 1.0078 - accuracy: 0.5242 - val_loss: 0.9785 - val_accuracy: 0.5850\n",
      "Epoch 5/50\n",
      "144/144 [==============================] - 1s 9ms/step - loss: 0.9346 - accuracy: 0.5896 - val_loss: 0.8464 - val_accuracy: 0.6970\n",
      "Epoch 6/50\n",
      "144/144 [==============================] - 1s 9ms/step - loss: 0.8659 - accuracy: 0.6286 - val_loss: 0.8021 - val_accuracy: 0.7091\n",
      "Epoch 7/50\n",
      "144/144 [==============================] - 1s 8ms/step - loss: 0.8296 - accuracy: 0.6389 - val_loss: 0.7758 - val_accuracy: 0.7135\n",
      "Epoch 8/50\n",
      "144/144 [==============================] - 1s 9ms/step - loss: 0.8058 - accuracy: 0.6430 - val_loss: 0.7561 - val_accuracy: 0.7161\n",
      "Epoch 9/50\n",
      "144/144 [==============================] - 1s 9ms/step - loss: 0.7879 - accuracy: 0.6461 - val_loss: 0.7454 - val_accuracy: 0.7174\n",
      "Epoch 10/50\n",
      "144/144 [==============================] - 1s 8ms/step - loss: 0.7716 - accuracy: 0.6496 - val_loss: 0.7345 - val_accuracy: 0.7193\n",
      "Epoch 11/50\n",
      "144/144 [==============================] - 1s 9ms/step - loss: 0.7618 - accuracy: 0.6502 - val_loss: 0.7314 - val_accuracy: 0.7176\n",
      "Epoch 12/50\n",
      "144/144 [==============================] - 1s 8ms/step - loss: 0.7534 - accuracy: 0.6516 - val_loss: 0.7235 - val_accuracy: 0.7202\n",
      "Epoch 13/50\n",
      "144/144 [==============================] - 1s 9ms/step - loss: 0.7455 - accuracy: 0.6530 - val_loss: 0.7202 - val_accuracy: 0.7187\n",
      "Epoch 14/50\n",
      "144/144 [==============================] - 1s 9ms/step - loss: 0.7386 - accuracy: 0.6538 - val_loss: 0.7163 - val_accuracy: 0.7189\n",
      "Epoch 15/50\n",
      "144/144 [==============================] - 1s 8ms/step - loss: 0.7337 - accuracy: 0.6545 - val_loss: 0.7119 - val_accuracy: 0.7206\n",
      "Epoch 16/50\n",
      "144/144 [==============================] - 1s 8ms/step - loss: 0.7292 - accuracy: 0.6552 - val_loss: 0.7122 - val_accuracy: 0.7202\n",
      "Epoch 17/50\n",
      "144/144 [==============================] - 1s 8ms/step - loss: 0.7262 - accuracy: 0.6560 - val_loss: 0.7106 - val_accuracy: 0.7200\n",
      "Epoch 18/50\n",
      "144/144 [==============================] - 1s 9ms/step - loss: 0.7213 - accuracy: 0.6574 - val_loss: 0.7108 - val_accuracy: 0.7191\n",
      "Epoch 19/50\n",
      "144/144 [==============================] - 1s 9ms/step - loss: 0.7182 - accuracy: 0.6577 - val_loss: 0.7068 - val_accuracy: 0.7191\n",
      "Epoch 20/50\n",
      "144/144 [==============================] - 1s 9ms/step - loss: 0.7139 - accuracy: 0.6598 - val_loss: 0.7029 - val_accuracy: 0.7252\n",
      "Epoch 21/50\n",
      "144/144 [==============================] - 1s 8ms/step - loss: 0.7104 - accuracy: 0.6616 - val_loss: 0.6972 - val_accuracy: 0.7224\n",
      "Epoch 22/50\n",
      "144/144 [==============================] - 1s 8ms/step - loss: 0.7070 - accuracy: 0.6638 - val_loss: 0.6965 - val_accuracy: 0.7274\n",
      "Epoch 23/50\n",
      "144/144 [==============================] - 1s 9ms/step - loss: 0.7031 - accuracy: 0.6655 - val_loss: 0.6941 - val_accuracy: 0.7389\n",
      "Epoch 24/50\n",
      "144/144 [==============================] - 1s 9ms/step - loss: 0.6991 - accuracy: 0.6687 - val_loss: 0.6846 - val_accuracy: 0.7354\n",
      "Epoch 25/50\n",
      "144/144 [==============================] - 1s 8ms/step - loss: 0.6927 - accuracy: 0.6739 - val_loss: 0.6811 - val_accuracy: 0.7486\n",
      "Epoch 26/50\n",
      "144/144 [==============================] - 1s 9ms/step - loss: 0.6872 - accuracy: 0.6828 - val_loss: 0.6756 - val_accuracy: 0.7610\n",
      "Epoch 27/50\n",
      "144/144 [==============================] - 1s 8ms/step - loss: 0.6800 - accuracy: 0.6945 - val_loss: 0.6654 - val_accuracy: 0.7756\n",
      "Epoch 28/50\n",
      "144/144 [==============================] - 1s 8ms/step - loss: 0.6728 - accuracy: 0.7053 - val_loss: 0.6607 - val_accuracy: 0.7769\n",
      "Epoch 29/50\n",
      "144/144 [==============================] - 1s 8ms/step - loss: 0.6627 - accuracy: 0.7232 - val_loss: 0.6436 - val_accuracy: 0.7786\n",
      "Epoch 30/50\n",
      "144/144 [==============================] - 1s 8ms/step - loss: 0.6512 - accuracy: 0.7383 - val_loss: 0.6336 - val_accuracy: 0.7960\n",
      "Epoch 31/50\n",
      "144/144 [==============================] - 1s 8ms/step - loss: 0.6364 - accuracy: 0.7552 - val_loss: 0.6161 - val_accuracy: 0.7973\n",
      "Epoch 32/50\n",
      "144/144 [==============================] - 1s 9ms/step - loss: 0.6179 - accuracy: 0.7711 - val_loss: 0.6014 - val_accuracy: 0.8155\n",
      "Epoch 33/50\n",
      "144/144 [==============================] - 1s 9ms/step - loss: 0.5945 - accuracy: 0.7934 - val_loss: 0.5786 - val_accuracy: 0.8287\n",
      "Epoch 34/50\n",
      "144/144 [==============================] - 1s 9ms/step - loss: 0.5658 - accuracy: 0.8184 - val_loss: 0.5536 - val_accuracy: 0.8387\n",
      "Epoch 35/50\n",
      "144/144 [==============================] - 1s 8ms/step - loss: 0.5374 - accuracy: 0.8359 - val_loss: 0.5423 - val_accuracy: 0.8413\n",
      "Epoch 36/50\n",
      "144/144 [==============================] - 1s 8ms/step - loss: 0.5103 - accuracy: 0.8562 - val_loss: 0.5271 - val_accuracy: 0.8487\n",
      "Epoch 37/50\n",
      "144/144 [==============================] - 1s 9ms/step - loss: 0.4836 - accuracy: 0.8706 - val_loss: 0.5124 - val_accuracy: 0.8535\n",
      "Epoch 38/50\n",
      "144/144 [==============================] - 1s 8ms/step - loss: 0.4612 - accuracy: 0.8802 - val_loss: 0.5033 - val_accuracy: 0.8530\n",
      "Epoch 39/50\n",
      "144/144 [==============================] - 1s 8ms/step - loss: 0.4403 - accuracy: 0.8935 - val_loss: 0.4878 - val_accuracy: 0.8587\n",
      "Epoch 40/50\n",
      "144/144 [==============================] - 1s 8ms/step - loss: 0.4233 - accuracy: 0.9024 - val_loss: 0.4780 - val_accuracy: 0.8615\n",
      "Epoch 41/50\n",
      "144/144 [==============================] - 1s 8ms/step - loss: 0.4080 - accuracy: 0.9065 - val_loss: 0.4708 - val_accuracy: 0.8609\n",
      "Epoch 42/50\n",
      "144/144 [==============================] - 1s 8ms/step - loss: 0.3968 - accuracy: 0.9116 - val_loss: 0.4706 - val_accuracy: 0.8622\n",
      "Epoch 43/50\n",
      "144/144 [==============================] - 1s 8ms/step - loss: 0.3842 - accuracy: 0.9141 - val_loss: 0.4596 - val_accuracy: 0.8659\n",
      "Epoch 44/50\n",
      "144/144 [==============================] - 1s 9ms/step - loss: 0.3718 - accuracy: 0.9201 - val_loss: 0.4560 - val_accuracy: 0.8663\n",
      "Epoch 45/50\n",
      "144/144 [==============================] - 1s 8ms/step - loss: 0.3610 - accuracy: 0.9231 - val_loss: 0.4542 - val_accuracy: 0.8722\n",
      "Epoch 46/50\n",
      "144/144 [==============================] - 1s 9ms/step - loss: 0.3537 - accuracy: 0.9241 - val_loss: 0.4542 - val_accuracy: 0.8700\n",
      "Epoch 47/50\n",
      "144/144 [==============================] - 1s 9ms/step - loss: 0.3445 - accuracy: 0.9267 - val_loss: 0.4555 - val_accuracy: 0.8737\n",
      "Epoch 48/50\n",
      "144/144 [==============================] - 1s 8ms/step - loss: 0.3384 - accuracy: 0.9284 - val_loss: 0.4486 - val_accuracy: 0.8722\n",
      "Epoch 49/50\n",
      "144/144 [==============================] - 1s 8ms/step - loss: 0.3330 - accuracy: 0.9279 - val_loss: 0.4515 - val_accuracy: 0.8722\n",
      "Epoch 50/50\n",
      "144/144 [==============================] - 1s 8ms/step - loss: 0.3237 - accuracy: 0.9319 - val_loss: 0.4529 - val_accuracy: 0.8728\n"
     ]
    }
   ],
   "source": [
    "model2.compile(loss=\"sparse_categorical_crossentropy\",optimizer='adam',metrics=['accuracy'])\n",
    "\n",
    "\n",
    "history = model2.fit(training_padded, training_labels, batch_size=128, epochs=50, validation_data=(testing_padded, testing_labels), verbose=1)"
   ]
  },
  {
   "cell_type": "code",
   "execution_count": null,
   "metadata": {
    "id": "tTwMZGybUWZf"
   },
   "outputs": [],
   "source": [
    "model2.save(\"AnotherGreatModel.h5\")"
   ]
  },
  {
   "cell_type": "code",
   "execution_count": null,
   "metadata": {
    "colab": {
     "base_uri": "https://localhost:8080/",
     "height": 865
    },
    "id": "Djs_EiWq6Sc1",
    "outputId": "45e6aa96-0fff-4097-eca4-9cd86a879cbd"
   },
   "outputs": [
    {
     "data": {
      "image/png": "[encoded data removed]",
      "text/plain": [
       "<IPython.core.display.Image object>"
      ]
     },
     "execution_count": 40,
     "metadata": {},
     "output_type": "execute_result"
    }
   ],
   "source": [
    "tf.keras.utils.plot_model(model2, show_shapes=True)"
   ]
  },
  {
   "cell_type": "code",
   "execution_count": null,
   "metadata": {
    "colab": {
     "base_uri": "https://localhost:8080/"
    },
    "id": "5RAIZlNi58Ht",
    "outputId": "53963892-9ae7-4a94-ac01-1cc30da3133e"
   },
   "outputs": [
    {
     "data": {
      "text/plain": [
       "array([[2588,   16,   91],\n",
       "       [  59,  636,  103],\n",
       "       [ 211,  106,  797]])"
      ]
     },
     "execution_count": 41,
     "metadata": {},
     "output_type": "execute_result"
    }
   ],
   "source": [
    "pred1=model2.predict(testing_padded)\n",
    "\n",
    "pred11=[]\n",
    "for i in pred1:\n",
    "  if i[0]==max(i):\n",
    "    pred11.append(0)\n",
    "  elif i[1]==max(i):\n",
    "    pred11.append(1)\n",
    "  else:\n",
    "    pred11.append(2)\n",
    "#rounded_labels11=np.argmax(pred11, axis=1).astype(int)\n",
    "cm = confusion_matrix(testing_labels, pred11)\n",
    "cm"
   ]
  },
  {
   "cell_type": "code",
   "execution_count": null,
   "metadata": {
    "id": "ygLUBjc6meLZ"
   },
   "outputs": [],
   "source": [
    "#Epoch 50/50\n",
    "#144/144 [==============================] - 1s 8ms/step - loss: 0.3237 - accuracy: 0.9319 - val_loss: 0.4529 - val_accuracy: 0.8728"
   ]
  },
  {
   "cell_type": "code",
   "execution_count": null,
   "metadata": {
    "colab": {
     "base_uri": "https://localhost:8080/"
    },
    "id": "kZ3sDFpUbw9j",
    "outputId": "8b3589a9-ba1e-4b4d-d068-6e20b17a774d"
   },
   "outputs": [
    {
     "name": "stdout",
     "output_type": "stream",
     "text": [
      "              precision    recall  f1-score   support\n",
      "\n",
      "           0       0.91      0.96      0.93      2695\n",
      "           1       0.84      0.80      0.82       798\n",
      "           2       0.80      0.72      0.76      1114\n",
      "\n",
      "    accuracy                           0.87      4607\n",
      "   macro avg       0.85      0.82      0.84      4607\n",
      "weighted avg       0.87      0.87      0.87      4607\n",
      "\n"
     ]
    }
   ],
   "source": [
    "print(classification_report(testing_labels, pred11, labels=[0,1,2]))"
   ]
  },
  {
   "cell_type": "code",
   "execution_count": null,
   "metadata": {
    "colab": {
     "base_uri": "https://localhost:8080/"
    },
    "id": "p7iWnGdoKkHJ",
    "outputId": "2fd67207-1073-428c-806d-ccc70751a7a4"
   },
   "outputs": [
    {
     "name": "stdout",
     "output_type": "stream",
     "text": [
      "[[514  16  57]\n",
      " [ 46 175  32]\n",
      " [ 90 135 227]]\n",
      "              precision    recall  f1-score   support\n",
      "\n",
      "           0       0.79      0.88      0.83       587\n",
      "           1       0.54      0.69      0.60       253\n",
      "           2       0.72      0.50      0.59       452\n",
      "\n",
      "    accuracy                           0.71      1292\n",
      "   macro avg       0.68      0.69      0.68      1292\n",
      "weighted avg       0.72      0.71      0.70      1292\n",
      "\n"
     ]
    }
   ],
   "source": [
    "pred12=model2.predict(testing_padded12)\n",
    "rounded_labels212=np.argmax(pred12, axis=1).astype(int)\n",
    "cm12 = confusion_matrix(testing_labels12, rounded_labels212)\n",
    "print(cm12)\n",
    "print(classification_report(testing_labels12, rounded_labels212, labels=[0,1,2]))"
   ]
  },
  {
   "cell_type": "code",
   "execution_count": null,
   "metadata": {
    "colab": {
     "base_uri": "https://localhost:8080/"
    },
    "id": "t3trQk4OKw0Q",
    "outputId": "eafce65c-34d7-4dd5-f7d3-e15e53ee4aa8"
   },
   "outputs": [
    {
     "name": "stdout",
     "output_type": "stream",
     "text": [
      "[[ 522    1    3]\n",
      " [   0    6    1]\n",
      " [ 106   11 1190]]\n",
      "              precision    recall  f1-score   support\n",
      "\n",
      "           0       0.83      0.99      0.90       526\n",
      "           1       0.33      0.86      0.48         7\n",
      "           2       1.00      0.91      0.95      1307\n",
      "\n",
      "    accuracy                           0.93      1840\n",
      "   macro avg       0.72      0.92      0.78      1840\n",
      "weighted avg       0.95      0.93      0.94      1840\n",
      "\n"
     ]
    }
   ],
   "source": [
    "pred34=model2.predict(testing_padded34)\n",
    "rounded_labels234=np.argmax(pred34, axis=1).astype(int)\n",
    "cm34 = confusion_matrix(testing_labels34, rounded_labels234)\n",
    "print(cm34)\n",
    "print(classification_report(testing_labels34, rounded_labels234, labels=[0,1,2]))"
   ]
  },
  {
   "cell_type": "code",
   "execution_count": null,
   "metadata": {
    "colab": {
     "base_uri": "https://localhost:8080/",
     "height": 573
    },
    "id": "R2WgOyeb_PHC",
    "outputId": "dc3ab8f9-0939-4004-a75e-0e1b482c9fc7"
   },
   "outputs": [
    {
     "data": {
      "image/png": "[encoded data removed]",
      "text/plain": [
       "<Figure size 432x288 with 1 Axes>"
      ]
     },
     "metadata": {
      "needs_background": "light"
     },
     "output_type": "display_data"
    },
    {
     "data": {
      "image/png": "[encoded data removed]",
      "text/plain": [
       "<Figure size 432x288 with 1 Axes>"
      ]
     },
     "metadata": {
      "needs_background": "light"
     },
     "output_type": "display_data"
    }
   ],
   "source": [
    "import matplotlib.pyplot as plt\n",
    "import numpy\n",
    "# summarize history for accuracy\n",
    "plt.plot(history.history['loss'])\n",
    "plt.plot(history.history['val_loss'])\n",
    "plt.title('model loss')\n",
    "plt.ylabel('loss')\n",
    "plt.xlabel('epoch')\n",
    "plt.legend(['train', 'test'], loc='upper left')\n",
    "plt.show()\n",
    "# summarize history for loss\n",
    "plt.plot(history.history['accuracy'])\n",
    "plt.plot(history.history['val_accuracy'])\n",
    "plt.title('model accuracy')\n",
    "plt.ylabel('accuracy')\n",
    "plt.xlabel('epoch')\n",
    "plt.legend(['train', 'test'], loc='upper left')\n",
    "plt.show()"
   ]
  },
  {
   "cell_type": "markdown",
   "metadata": {
    "id": "FRfELBgw7A3Z"
   },
   "source": [
    "##For The Third Model"
   ]
  },
  {
   "cell_type": "code",
   "execution_count": null,
   "metadata": {
    "colab": {
     "base_uri": "https://localhost:8080/"
    },
    "id": "JvX2b2nORvKS",
    "outputId": "1e3b11c3-43e0-4ecd-be1b-bb743cd12394"
   },
   "outputs": [
    {
     "name": "stdout",
     "output_type": "stream",
     "text": [
      "Model: \"sequential_2\"\n",
      "_________________________________________________________________\n",
      " Layer (type)                Output Shape              Param #   \n",
      "=================================================================\n",
      " embedding_2 (Embedding)     (None, 388, 16)           834688    \n",
      "                                                                 \n",
      " bidirectional_3 (Bidirectio  (None, 64)               12544     \n",
      " nal)                                                            \n",
      "                                                                 \n",
      " flatten_2 (Flatten)         (None, 64)                0         \n",
      "                                                                 \n",
      " dense_4 (Dense)             (None, 24)                1560      \n",
      "                                                                 \n",
      " dense_5 (Dense)             (None, 3)                 75        \n",
      "                                                                 \n",
      "=================================================================\n",
      "Total params: 848,867\n",
      "Trainable params: 848,867\n",
      "Non-trainable params: 0\n",
      "_________________________________________________________________\n"
     ]
    }
   ],
   "source": [
    "model3 = tf.keras.Sequential([\n",
    "    tf.keras.layers.Embedding(vocab_size, embedding_dim, input_length=max_length),\n",
    "    tf.keras.layers.Bidirectional(tf.keras.layers.LSTM(32)),\n",
    "    tf.keras.layers.Flatten(),\n",
    "    tf.keras.layers.Dense(24, activation='relu'),\n",
    "    tf.keras.layers.Dense(3, activation='softmax')\n",
    "])\n",
    "model3.summary()"
   ]
  },
  {
   "cell_type": "code",
   "execution_count": null,
   "metadata": {
    "colab": {
     "base_uri": "https://localhost:8080/"
    },
    "id": "El4d_GRU6x2l",
    "outputId": "57a7a1af-942c-4b54-b5c2-4a0188fc98b0"
   },
   "outputs": [
    {
     "name": "stdout",
     "output_type": "stream",
     "text": [
      "Epoch 1/50\n",
      "144/144 [==============================] - 8s 36ms/step - loss: 0.9858 - accuracy: 0.5277 - val_loss: 0.8340 - val_accuracy: 0.6245\n",
      "Epoch 2/50\n",
      "144/144 [==============================] - 4s 30ms/step - loss: 0.7130 - accuracy: 0.7040 - val_loss: 0.5584 - val_accuracy: 0.7855\n",
      "Epoch 3/50\n",
      "144/144 [==============================] - 4s 30ms/step - loss: 0.5561 - accuracy: 0.7848 - val_loss: 0.4862 - val_accuracy: 0.8107\n",
      "Epoch 4/50\n",
      "144/144 [==============================] - 4s 31ms/step - loss: 0.5317 - accuracy: 0.7896 - val_loss: 0.4750 - val_accuracy: 0.8203\n",
      "Epoch 5/50\n",
      "144/144 [==============================] - 4s 30ms/step - loss: 0.4788 - accuracy: 0.8104 - val_loss: 0.4497 - val_accuracy: 0.8307\n",
      "Epoch 6/50\n",
      "144/144 [==============================] - 4s 30ms/step - loss: 0.4619 - accuracy: 0.8198 - val_loss: 0.4558 - val_accuracy: 0.8266\n",
      "Epoch 7/50\n",
      "144/144 [==============================] - 4s 30ms/step - loss: 0.4435 - accuracy: 0.8269 - val_loss: 0.4446 - val_accuracy: 0.8322\n",
      "Epoch 8/50\n",
      "144/144 [==============================] - 4s 30ms/step - loss: 0.4368 - accuracy: 0.8295 - val_loss: 0.4442 - val_accuracy: 0.8324\n",
      "Epoch 9/50\n",
      "144/144 [==============================] - 4s 30ms/step - loss: 0.4222 - accuracy: 0.8362 - val_loss: 0.4565 - val_accuracy: 0.8274\n",
      "Epoch 10/50\n",
      "144/144 [==============================] - 4s 30ms/step - loss: 0.4158 - accuracy: 0.8384 - val_loss: 0.4330 - val_accuracy: 0.8368\n",
      "Epoch 11/50\n",
      "144/144 [==============================] - 4s 30ms/step - loss: 0.4066 - accuracy: 0.8427 - val_loss: 0.4378 - val_accuracy: 0.8379\n",
      "Epoch 12/50\n",
      "144/144 [==============================] - 4s 30ms/step - loss: 0.3955 - accuracy: 0.8460 - val_loss: 0.4312 - val_accuracy: 0.8376\n",
      "Epoch 13/50\n",
      "144/144 [==============================] - 4s 30ms/step - loss: 0.3901 - accuracy: 0.8493 - val_loss: 0.4371 - val_accuracy: 0.8313\n",
      "Epoch 14/50\n",
      "144/144 [==============================] - 4s 30ms/step - loss: 0.3788 - accuracy: 0.8548 - val_loss: 0.4280 - val_accuracy: 0.8424\n",
      "Epoch 15/50\n",
      "144/144 [==============================] - 4s 30ms/step - loss: 0.3691 - accuracy: 0.8595 - val_loss: 0.4283 - val_accuracy: 0.8381\n",
      "Epoch 16/50\n",
      "144/144 [==============================] - 4s 30ms/step - loss: 0.3582 - accuracy: 0.8643 - val_loss: 0.4217 - val_accuracy: 0.8444\n",
      "Epoch 17/50\n",
      "144/144 [==============================] - 4s 30ms/step - loss: 0.3478 - accuracy: 0.8684 - val_loss: 0.4122 - val_accuracy: 0.8476\n",
      "Epoch 18/50\n",
      "144/144 [==============================] - 4s 30ms/step - loss: 0.3387 - accuracy: 0.8734 - val_loss: 0.4146 - val_accuracy: 0.8504\n",
      "Epoch 19/50\n",
      "144/144 [==============================] - 4s 30ms/step - loss: 0.3291 - accuracy: 0.8770 - val_loss: 0.4101 - val_accuracy: 0.8520\n",
      "Epoch 20/50\n",
      "144/144 [==============================] - 4s 30ms/step - loss: 0.3246 - accuracy: 0.8791 - val_loss: 0.4035 - val_accuracy: 0.8507\n",
      "Epoch 21/50\n",
      "144/144 [==============================] - 4s 30ms/step - loss: 0.3137 - accuracy: 0.8830 - val_loss: 0.4105 - val_accuracy: 0.8513\n",
      "Epoch 22/50\n",
      "144/144 [==============================] - 4s 30ms/step - loss: 0.3048 - accuracy: 0.8877 - val_loss: 0.4122 - val_accuracy: 0.8515\n",
      "Epoch 23/50\n",
      "144/144 [==============================] - 4s 30ms/step - loss: 0.2999 - accuracy: 0.8901 - val_loss: 0.4057 - val_accuracy: 0.8567\n",
      "Epoch 24/50\n",
      "144/144 [==============================] - 4s 30ms/step - loss: 0.2955 - accuracy: 0.8927 - val_loss: 0.4137 - val_accuracy: 0.8474\n",
      "Epoch 25/50\n",
      "144/144 [==============================] - 4s 30ms/step - loss: 0.2894 - accuracy: 0.8929 - val_loss: 0.4175 - val_accuracy: 0.8502\n",
      "Epoch 26/50\n",
      "144/144 [==============================] - 4s 30ms/step - loss: 0.2866 - accuracy: 0.8955 - val_loss: 0.4145 - val_accuracy: 0.8593\n",
      "Epoch 27/50\n",
      "144/144 [==============================] - 4s 30ms/step - loss: 0.2872 - accuracy: 0.8967 - val_loss: 0.3969 - val_accuracy: 0.8585\n",
      "Epoch 28/50\n",
      "144/144 [==============================] - 4s 30ms/step - loss: 0.2730 - accuracy: 0.9013 - val_loss: 0.4153 - val_accuracy: 0.8554\n",
      "Epoch 29/50\n",
      "144/144 [==============================] - 4s 30ms/step - loss: 0.2663 - accuracy: 0.9041 - val_loss: 0.4195 - val_accuracy: 0.8593\n",
      "Epoch 30/50\n",
      "144/144 [==============================] - 4s 30ms/step - loss: 0.2623 - accuracy: 0.9061 - val_loss: 0.4207 - val_accuracy: 0.8574\n",
      "Epoch 31/50\n",
      "144/144 [==============================] - 4s 30ms/step - loss: 0.2567 - accuracy: 0.9080 - val_loss: 0.4038 - val_accuracy: 0.8630\n",
      "Epoch 32/50\n",
      "144/144 [==============================] - 4s 30ms/step - loss: 0.2498 - accuracy: 0.9109 - val_loss: 0.4091 - val_accuracy: 0.8656\n",
      "Epoch 33/50\n",
      "144/144 [==============================] - 4s 30ms/step - loss: 0.2484 - accuracy: 0.9097 - val_loss: 0.4170 - val_accuracy: 0.8633\n",
      "Epoch 34/50\n",
      "144/144 [==============================] - 4s 30ms/step - loss: 0.2446 - accuracy: 0.9133 - val_loss: 0.4142 - val_accuracy: 0.8648\n",
      "Epoch 35/50\n",
      "144/144 [==============================] - 4s 30ms/step - loss: 0.2443 - accuracy: 0.9134 - val_loss: 0.4133 - val_accuracy: 0.8641\n",
      "Epoch 36/50\n",
      "144/144 [==============================] - 4s 30ms/step - loss: 0.2391 - accuracy: 0.9127 - val_loss: 0.4339 - val_accuracy: 0.8661\n",
      "Epoch 37/50\n",
      "144/144 [==============================] - 4s 30ms/step - loss: 0.2303 - accuracy: 0.9162 - val_loss: 0.4279 - val_accuracy: 0.8648\n",
      "Epoch 38/50\n",
      "144/144 [==============================] - 4s 30ms/step - loss: 0.2384 - accuracy: 0.9140 - val_loss: 0.4167 - val_accuracy: 0.8665\n",
      "Epoch 39/50\n",
      "144/144 [==============================] - 4s 30ms/step - loss: 0.2287 - accuracy: 0.9177 - val_loss: 0.4451 - val_accuracy: 0.8611\n",
      "Epoch 40/50\n",
      "144/144 [==============================] - 4s 30ms/step - loss: 0.2196 - accuracy: 0.9199 - val_loss: 0.4326 - val_accuracy: 0.8652\n",
      "Epoch 41/50\n",
      "144/144 [==============================] - 4s 30ms/step - loss: 0.2176 - accuracy: 0.9205 - val_loss: 0.4276 - val_accuracy: 0.8732\n",
      "Epoch 42/50\n",
      "144/144 [==============================] - 4s 30ms/step - loss: 0.2127 - accuracy: 0.9221 - val_loss: 0.4446 - val_accuracy: 0.8680\n",
      "Epoch 43/50\n",
      "144/144 [==============================] - 4s 30ms/step - loss: 0.2192 - accuracy: 0.9205 - val_loss: 0.4364 - val_accuracy: 0.8702\n",
      "Epoch 44/50\n",
      "144/144 [==============================] - 4s 30ms/step - loss: 0.2108 - accuracy: 0.9243 - val_loss: 0.4309 - val_accuracy: 0.8711\n",
      "Epoch 45/50\n",
      "144/144 [==============================] - 4s 30ms/step - loss: 0.2075 - accuracy: 0.9247 - val_loss: 0.4438 - val_accuracy: 0.8650\n",
      "Epoch 46/50\n",
      "144/144 [==============================] - 4s 30ms/step - loss: 0.2058 - accuracy: 0.9263 - val_loss: 0.4607 - val_accuracy: 0.8561\n",
      "Epoch 47/50\n",
      "144/144 [==============================] - 4s 30ms/step - loss: 0.2015 - accuracy: 0.9259 - val_loss: 0.4555 - val_accuracy: 0.8689\n",
      "Epoch 48/50\n",
      "144/144 [==============================] - 4s 30ms/step - loss: 0.1958 - accuracy: 0.9278 - val_loss: 0.4457 - val_accuracy: 0.8702\n",
      "Epoch 49/50\n",
      "144/144 [==============================] - 4s 30ms/step - loss: 0.1912 - accuracy: 0.9290 - val_loss: 0.4453 - val_accuracy: 0.8715\n",
      "Epoch 50/50\n",
      "144/144 [==============================] - 4s 30ms/step - loss: 0.1877 - accuracy: 0.9307 - val_loss: 0.4655 - val_accuracy: 0.8715\n"
     ]
    }
   ],
   "source": [
    "model3.compile(loss=\"sparse_categorical_crossentropy\",optimizer='adam',metrics=['accuracy'])\n",
    "history = model3.fit(training_padded, training_labels, batch_size=128, epochs=50, validation_data=(testing_padded, testing_labels), verbose=1)"
   ]
  },
  {
   "cell_type": "code",
   "execution_count": null,
   "metadata": {
    "id": "tIAN-r0MVoMB"
   },
   "outputs": [],
   "source": [
    "model3.save(\"AnotherThirdGreatModel.h5\")"
   ]
  },
  {
   "cell_type": "code",
   "execution_count": null,
   "metadata": {
    "id": "BHRXgvpCoku9"
   },
   "outputs": [],
   "source": [
    "#Epoch 50/50\n",
    "#144/144 [==============================] - 4s 30ms/step - loss: 0.1877 - accuracy: 0.9307 - val_loss: 0.4655 - val_accuracy: 0.8715"
   ]
  },
  {
   "cell_type": "code",
   "execution_count": null,
   "metadata": {
    "colab": {
     "base_uri": "https://localhost:8080/",
     "height": 644
    },
    "id": "1dVvLzBo61G8",
    "outputId": "01cb3293-5a15-4089-a04b-cf679b86cf1c"
   },
   "outputs": [
    {
     "data": {
      "image/png": "[encoded data removed]",
      "text/plain": [
       "<IPython.core.display.Image object>"
      ]
     },
     "execution_count": 49,
     "metadata": {},
     "output_type": "execute_result"
    }
   ],
   "source": [
    "tf.keras.utils.plot_model(model3, show_shapes=True)"
   ]
  },
  {
   "cell_type": "code",
   "execution_count": null,
   "metadata": {
    "colab": {
     "base_uri": "https://localhost:8080/"
    },
    "id": "Vg0RP9_k63Ri",
    "outputId": "8dd0d663-d063-4325-ff1d-7bd4db07e4aa"
   },
   "outputs": [
    {
     "data": {
      "text/plain": [
       "array([[2532,   44,  119],\n",
       "       [  86,  631,   81],\n",
       "       [ 167,   95,  852]])"
      ]
     },
     "execution_count": 51,
     "metadata": {},
     "output_type": "execute_result"
    }
   ],
   "source": [
    "pred3=model3.predict(testing_padded)\n",
    "rounded_labels3=np.argmax(pred3, axis=1).astype(int)\n",
    "cm2 = confusion_matrix(testing_labels, rounded_labels3)\n",
    "cm2"
   ]
  },
  {
   "cell_type": "code",
   "execution_count": null,
   "metadata": {
    "colab": {
     "base_uri": "https://localhost:8080/"
    },
    "id": "r-QZWcpDdy6N",
    "outputId": "0edf5373-e03c-4cfa-b468-b9cc6205b5bb"
   },
   "outputs": [
    {
     "name": "stdout",
     "output_type": "stream",
     "text": [
      "              precision    recall  f1-score   support\n",
      "\n",
      "           0       0.91      0.94      0.92      2695\n",
      "           1       0.82      0.79      0.80       798\n",
      "           2       0.81      0.76      0.79      1114\n",
      "\n",
      "    accuracy                           0.87      4607\n",
      "   macro avg       0.85      0.83      0.84      4607\n",
      "weighted avg       0.87      0.87      0.87      4607\n",
      "\n"
     ]
    }
   ],
   "source": [
    "print(classification_report(testing_labels, rounded_labels3, labels=[0,1,2]))"
   ]
  },
  {
   "cell_type": "code",
   "execution_count": null,
   "metadata": {
    "colab": {
     "base_uri": "https://localhost:8080/"
    },
    "id": "MfclteTGK-_x",
    "outputId": "b46e795a-c9b3-42e9-944a-9f617562c0ca"
   },
   "outputs": [
    {
     "name": "stdout",
     "output_type": "stream",
     "text": [
      "[[492  45  50]\n",
      " [ 55 181  17]\n",
      " [101 124 227]]\n",
      "              precision    recall  f1-score   support\n",
      "\n",
      "           0       0.76      0.84      0.80       587\n",
      "           1       0.52      0.72      0.60       253\n",
      "           2       0.77      0.50      0.61       452\n",
      "\n",
      "    accuracy                           0.70      1292\n",
      "   macro avg       0.68      0.69      0.67      1292\n",
      "weighted avg       0.72      0.70      0.69      1292\n",
      "\n"
     ]
    }
   ],
   "source": [
    "pred12=model3.predict(testing_padded12)\n",
    "rounded_labels312=np.argmax(pred12, axis=1).astype(int)\n",
    "cm12 = confusion_matrix(testing_labels12, rounded_labels312)\n",
    "print(cm12)\n",
    "print(classification_report(testing_labels12, rounded_labels312, labels=[0,1,2]))"
   ]
  },
  {
   "cell_type": "code",
   "execution_count": null,
   "metadata": {
    "colab": {
     "base_uri": "https://localhost:8080/"
    },
    "id": "zYydjCkILMG-",
    "outputId": "90fc60d0-0d19-48d5-d51f-dc9ec994e57e"
   },
   "outputs": [
    {
     "name": "stdout",
     "output_type": "stream",
     "text": [
      "[[ 448    1   77]\n",
      " [   0    6    1]\n",
      " [  20    3 1284]]\n",
      "              precision    recall  f1-score   support\n",
      "\n",
      "           0       0.96      0.85      0.90       526\n",
      "           1       0.60      0.86      0.71         7\n",
      "           2       0.94      0.98      0.96      1307\n",
      "\n",
      "    accuracy                           0.94      1840\n",
      "   macro avg       0.83      0.90      0.86      1840\n",
      "weighted avg       0.95      0.94      0.94      1840\n",
      "\n"
     ]
    }
   ],
   "source": [
    "pred34=model3.predict(testing_padded34)\n",
    "rounded_labels334=np.argmax(pred34, axis=1).astype(int)\n",
    "cm34 = confusion_matrix(testing_labels34, rounded_labels334)\n",
    "print(cm34)\n",
    "print(classification_report(testing_labels34, rounded_labels334, labels=[0,1,2]))"
   ]
  },
  {
   "cell_type": "code",
   "execution_count": null,
   "metadata": {
    "colab": {
     "base_uri": "https://localhost:8080/",
     "height": 573
    },
    "id": "ddbAtRKXatG3",
    "outputId": "0138fe53-f04f-43fe-ae11-9444e8fc1a15"
   },
   "outputs": [
    {
     "data": {
      "image/png": "[encoded data removed]",
      "text/plain": [
       "<Figure size 432x288 with 1 Axes>"
      ]
     },
     "metadata": {
      "needs_background": "light"
     },
     "output_type": "display_data"
    },
    {
     "data": {
      "image/png": "[encoded data removed]",
      "text/plain": [
       "<Figure size 432x288 with 1 Axes>"
      ]
     },
     "metadata": {
      "needs_background": "light"
     },
     "output_type": "display_data"
    }
   ],
   "source": [
    "import matplotlib.pyplot as plt\n",
    "import numpy\n",
    "# summarize history for accuracy\n",
    "plt.plot(history.history['loss'])\n",
    "plt.plot(history.history['val_loss'])\n",
    "plt.title('model loss')\n",
    "plt.ylabel('loss')\n",
    "plt.xlabel('epoch')\n",
    "plt.legend(['train', 'test'], loc='upper left')\n",
    "plt.show()\n",
    "# summarize history for loss\n",
    "plt.plot(history.history['accuracy'])\n",
    "plt.plot(history.history['val_accuracy'])\n",
    "plt.title('model accuracy')\n",
    "plt.ylabel('accuracy')\n",
    "plt.xlabel('epoch')\n",
    "plt.legend(['train', 'test'], loc='upper left')\n",
    "plt.show()"
   ]
  },
  {
   "cell_type": "markdown",
   "metadata": {
    "id": "__2IcBnQa-4Y"
   },
   "source": [
    "##Conclusion\n",
    "###The accuracy for the three models is 88%, 87% and 87%. The complexity varies between them too. The first model has 937 891 trainale parameters which makes it the most complex amongs the three of them with the second having 618 083 trainable parameters and the third having 618 739 trainable parameters.\n"
   ]
  },
  {
   "cell_type": "markdown",
   "metadata": {
    "id": "5SNCH0-6Eq4I"
   },
   "source": [
    "#Terms\n",
    "##BURT: is a transformar model\n",
    "##Sentiment Classification: A prabability distrubution over two classes\n",
    "##Text Encoding: How to encode the texts into a numerical presentation that we can be handled by the machine learning model\n",
    "##Transformers: The State-Of-The-Art architecture for language modeling\n",
    "#Word2vec: 2013, The Model that introduced distributed representations for language modeling"
   ]
  }
 ],
 "metadata": {
  "accelerator": "GPU",
  "colab": {
   "collapsed_sections": [
    "-CRh9Gqc7KxQ",
    "2DGrTNt17GKc",
    "FRfELBgw7A3Z"
   ],
   "include_colab_link": true,
   "name": "CCK Project Unbalanced-08-Tunnel.ipynb",
   "provenance": []
  },
  "gpuClass": "standard",
  "kernelspec": {
   "display_name": "Python 3 (ipykernel)",
   "language": "python",
   "name": "python3"
  },
  "language_info": {
   "codemirror_mode": {
    "name": "ipython",
    "version": 3
   },
   "file_extension": ".py",
   "mimetype": "text/x-python",
   "name": "python",
   "nbconvert_exporter": "python",
   "pygments_lexer": "ipython3",
   "version": "3.10.3"
  }
 },
 "nbformat": 4,
 "nbformat_minor": 1
}
