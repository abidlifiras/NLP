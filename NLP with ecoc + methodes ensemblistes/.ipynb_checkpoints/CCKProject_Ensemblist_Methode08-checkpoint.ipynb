{
 "cells": [
  {
   "cell_type": "markdown",
   "metadata": {
    "colab_type": "text",
    "id": "view-in-github"
   },
   "source": [
    "<a href=\"https://colab.research.google.com/github/ImenMasmoudiEm/CCKInternshipProject/blob/main/CCKProject_Ensemblist_Methode08.ipynb\" target=\"_parent\"><img src=\"https://colab.research.google.com/assets/colab-badge.svg\" alt=\"Open In Colab\"/></a>"
   ]
  },
  {
   "cell_type": "code",
   "execution_count": 1,
   "metadata": {
    "colab": {
     "base_uri": "https://localhost:8080/"
    },
    "id": "eGu-CKtm0mh3",
    "outputId": "208f4c9a-e43f-4978-ca1a-dbf1345635ec"
   },
   "outputs": [
    {
     "name": "stdout",
     "output_type": "stream",
     "text": [
      "Mounted at /content/drive\n"
     ]
    }
   ],
   "source": [
    "from google.colab import drive\n",
    "drive.mount('/content/drive')"
   ]
  },
  {
   "cell_type": "code",
   "execution_count": 2,
   "metadata": {
    "id": "BZi4L6aE1NlZ"
   },
   "outputs": [],
   "source": [
    "import os \n",
    "import pandas as pd\n",
    "\n",
    "os.chdir('/content/drive/MyDrive/All/Projects/Ing Internship/Data')\n",
    "data=pd.read_excel(\"/content/drive/MyDrive/All/Projects/Ing Internship/Data/final-dataset.xlsx\")\n",
    "data['classe']=data['classe'].replace(\"hate\", int(2))\n",
    "data['classe']=data['classe'].replace(\"normal\", int(0)) \n",
    "data['classe']=data['classe'].replace(\"abusive\", int(1))"
   ]
  },
  {
   "cell_type": "code",
   "execution_count": 3,
   "metadata": {
    "colab": {
     "base_uri": "https://localhost:8080/"
    },
    "id": "KEtxjGnn1gOr",
    "outputId": "96a9e0a9-f47a-4fbd-b592-33cec875f422"
   },
   "outputs": [
    {
     "data": {
      "text/plain": [
       "388"
      ]
     },
     "execution_count": 3,
     "metadata": {},
     "output_type": "execute_result"
    }
   ],
   "source": [
    "from tensorflow.keras.preprocessing.text import Tokenizer\n",
    "from tensorflow.keras.preprocessing.sequence import pad_sequences\n",
    "import numpy as np\n",
    "\n",
    "sentences = data['commentaire']\n",
    "labels = data['classe']\n",
    "\n",
    "labels = [int(i) for i in labels]\n",
    "\n",
    "def count_words(input):\n",
    "  return len(input.split())\n",
    "max_length=count_words(max(sentences,key=count_words))\n",
    "max_length"
   ]
  },
  {
   "cell_type": "code",
   "execution_count": 4,
   "metadata": {
    "id": "P3-FuA1k1uG7"
   },
   "outputs": [],
   "source": [
    "data12=pd.read_excel(\"/content/drive/MyDrive/All/Projects/Ing Internship/Data/dataset1and2.xlsx\")\n",
    "data34=pd.read_excel(\"/content/drive/MyDrive/All/Projects/Ing Internship/Data/dataset3and4.xlsx\")\n",
    "\n",
    "data12['classe']=data12['classe'].replace(\"hate\", int(2))\n",
    "data12['classe']=data12['classe'].replace(\"normal\", int(0)) \n",
    "data12['classe']=data12['classe'].replace(\"abusive\", int(1))\n",
    "\n",
    "data34['classe']=data34['classe'].replace(\"hate\", int(2))\n",
    "data34['classe']=data34['classe'].replace(\"normal\", int(0)) \n",
    "data34['classe']=data34['classe'].replace(\"abusive\", int(1))\n",
    "\n",
    "\n",
    "C1=data12[\"commentaire\"]\n",
    "C2=data34[\"commentaire\"]\n",
    "L1=data12[\"classe\"]\n",
    "L2=data34[\"classe\"]\n",
    "\n",
    "\n",
    "data12=[[i,j] for i,j in zip(C1 , L1)]\n",
    "data34=[[i,j] for i,j in zip(C2 , L2)]\n",
    "\n",
    "data12=pd.DataFrame(data12,columns=[\"sentences\",\"classe\"])\n",
    "data34=pd.DataFrame(data34,columns=[\"sentences\",\"classe\"])"
   ]
  },
  {
   "cell_type": "code",
   "execution_count": 5,
   "metadata": {
    "id": "N3re3K0q11cA"
   },
   "outputs": [],
   "source": [
    "training_size=int(len(sentences)*0.8)   #Experimenting setup\n",
    "\n",
    "training_sentences = sentences[0:training_size]\n",
    "testing_sentences = sentences[training_size:]\n",
    "training_labels = labels[0:training_size]\n",
    "testing_labels = labels[training_size:]\n",
    "\n",
    "embedding_dim = 16\n",
    "\n",
    "tokenizer = Tokenizer(num_words=3000, oov_token=\"<OOV>\")\n",
    "tokenizer.fit_on_texts(training_sentences)\n",
    "\n",
    "vocab_size = len(tokenizer.word_index) + 1 \n",
    "\n",
    "word_index = tokenizer.word_index\n",
    "\n",
    "training_sequences = tokenizer.texts_to_sequences(training_sentences)\n",
    "training_padded = pad_sequences(training_sequences, maxlen=max_length, padding='post', truncating='post')\n",
    "\n",
    "testing_sequences = tokenizer.texts_to_sequences(testing_sentences)\n",
    "testing_padded = pad_sequences(testing_sequences, maxlen=max_length, padding='post', truncating='post')"
   ]
  },
  {
   "cell_type": "code",
   "execution_count": 6,
   "metadata": {
    "colab": {
     "base_uri": "https://localhost:8080/"
    },
    "id": "iibkoyk733f5",
    "outputId": "a138e449-74c8-4555-c932-6446979fbadf"
   },
   "outputs": [
    {
     "name": "stdout",
     "output_type": "stream",
     "text": [
      "Maximum length in the data12:  206\n",
      "Maximum length in the data34:  29\n"
     ]
    }
   ],
   "source": [
    "Nsentences12=data12[\"sentences\"]\n",
    "Nlabels12=data12[\"classe\"]\n",
    "\n",
    "training_size12=int(len(Nsentences12)*0.8)\n",
    "\n",
    "testing_sentences12 = Nsentences12[training_size12:]\n",
    "testing_labels12 = Nlabels12[training_size12:]\n",
    "\n",
    "Nsentences34=data34[\"sentences\"]\n",
    "Nlabels34=data34[\"classe\"]\n",
    "\n",
    "training_size34=int(len(Nsentences34)*0.8)\n",
    "\n",
    "testing_sentences34 = Nsentences34[training_size34:]\n",
    "testing_labels34 = Nlabels34[training_size34:]\n",
    "\n",
    "max_length12=count_words(max(testing_sentences12,key=count_words))\n",
    "print('Maximum length in the data12: ',max_length12)\n",
    "\n",
    "max_length34=count_words(max(testing_sentences34,key=count_words))\n",
    "print('Maximum length in the data34: ',max_length34)\n",
    "\n",
    "testing_sequences12 = tokenizer.texts_to_sequences(testing_sentences12)\n",
    "testing_padded12 = pad_sequences(testing_sequences12, maxlen=max_length, padding='post', truncating='post')\n",
    "\n",
    "testing_sequences34 = tokenizer.texts_to_sequences(testing_sentences34)\n",
    "testing_padded34 = pad_sequences(testing_sequences34, maxlen=max_length, padding='post', truncating='post')"
   ]
  },
  {
   "cell_type": "markdown",
   "metadata": {
    "id": "rMG43cmjmmTK"
   },
   "source": [
    "#ECOC Algorithm: Classification multi-classes"
   ]
  },
  {
   "cell_type": "markdown",
   "metadata": {
    "id": "5a4wf7rTpi-i"
   },
   "source": [
    "##First Decomposition: A=0+1 , B=2\n",
    "##Second Decomposition: A=0+2 , B=1\n",
    "##Third Decomposition: A=1+2 , B=0\n",
    "##A-->1 , B-->0"
   ]
  },
  {
   "cell_type": "code",
   "execution_count": 7,
   "metadata": {
    "colab": {
     "base_uri": "https://localhost:8080/"
    },
    "id": "CNqvL7lJpdE2",
    "outputId": "9e4f3fd2-fb4a-4f30-eb38-65fc4db667af"
   },
   "outputs": [
    {
     "name": "stderr",
     "output_type": "stream",
     "text": [
      "/usr/local/lib/python3.7/dist-packages/ipykernel_launcher.py:1: DeprecationWarning: `np.int` is a deprecated alias for the builtin `int`. To silence this warning, use `int` by itself. Doing this will not modify any behavior and is safe. When replacing `np.int`, you may wish to use e.g. `np.int64` or `np.int32` to specify the precision. If you wish to review your current use, check the release note link for additional information.\n",
      "Deprecated in NumPy 1.20; for more details and guidance: https://numpy.org/devdocs/release/1.20.0-notes.html#deprecations\n",
      "  \"\"\"Entry point for launching an IPython kernel.\n",
      "/usr/local/lib/python3.7/dist-packages/ipykernel_launcher.py:2: DeprecationWarning: `np.int` is a deprecated alias for the builtin `int`. To silence this warning, use `int` by itself. Doing this will not modify any behavior and is safe. When replacing `np.int`, you may wish to use e.g. `np.int64` or `np.int32` to specify the precision. If you wish to review your current use, check the release note link for additional information.\n",
      "Deprecated in NumPy 1.20; for more details and guidance: https://numpy.org/devdocs/release/1.20.0-notes.html#deprecations\n",
      "  \n",
      "/usr/local/lib/python3.7/dist-packages/ipykernel_launcher.py:3: DeprecationWarning: `np.int` is a deprecated alias for the builtin `int`. To silence this warning, use `int` by itself. Doing this will not modify any behavior and is safe. When replacing `np.int`, you may wish to use e.g. `np.int64` or `np.int32` to specify the precision. If you wish to review your current use, check the release note link for additional information.\n",
      "Deprecated in NumPy 1.20; for more details and guidance: https://numpy.org/devdocs/release/1.20.0-notes.html#deprecations\n",
      "  This is separate from the ipykernel package so we can avoid doing imports until\n",
      "/usr/local/lib/python3.7/dist-packages/ipykernel_launcher.py:4: DeprecationWarning: `np.int` is a deprecated alias for the builtin `int`. To silence this warning, use `int` by itself. Doing this will not modify any behavior and is safe. When replacing `np.int`, you may wish to use e.g. `np.int64` or `np.int32` to specify the precision. If you wish to review your current use, check the release note link for additional information.\n",
      "Deprecated in NumPy 1.20; for more details and guidance: https://numpy.org/devdocs/release/1.20.0-notes.html#deprecations\n",
      "  after removing the cwd from sys.path.\n",
      "/usr/local/lib/python3.7/dist-packages/ipykernel_launcher.py:25: DeprecationWarning: `np.int` is a deprecated alias for the builtin `int`. To silence this warning, use `int` by itself. Doing this will not modify any behavior and is safe. When replacing `np.int`, you may wish to use e.g. `np.int64` or `np.int32` to specify the precision. If you wish to review your current use, check the release note link for additional information.\n",
      "Deprecated in NumPy 1.20; for more details and guidance: https://numpy.org/devdocs/release/1.20.0-notes.html#deprecations\n",
      "/usr/local/lib/python3.7/dist-packages/ipykernel_launcher.py:27: DeprecationWarning: `np.int` is a deprecated alias for the builtin `int`. To silence this warning, use `int` by itself. Doing this will not modify any behavior and is safe. When replacing `np.int`, you may wish to use e.g. `np.int64` or `np.int32` to specify the precision. If you wish to review your current use, check the release note link for additional information.\n",
      "Deprecated in NumPy 1.20; for more details and guidance: https://numpy.org/devdocs/release/1.20.0-notes.html#deprecations\n",
      "/usr/local/lib/python3.7/dist-packages/ipykernel_launcher.py:49: DeprecationWarning: `np.int` is a deprecated alias for the builtin `int`. To silence this warning, use `int` by itself. Doing this will not modify any behavior and is safe. When replacing `np.int`, you may wish to use e.g. `np.int64` or `np.int32` to specify the precision. If you wish to review your current use, check the release note link for additional information.\n",
      "Deprecated in NumPy 1.20; for more details and guidance: https://numpy.org/devdocs/release/1.20.0-notes.html#deprecations\n",
      "/usr/local/lib/python3.7/dist-packages/ipykernel_launcher.py:51: DeprecationWarning: `np.int` is a deprecated alias for the builtin `int`. To silence this warning, use `int` by itself. Doing this will not modify any behavior and is safe. When replacing `np.int`, you may wish to use e.g. `np.int64` or `np.int32` to specify the precision. If you wish to review your current use, check the release note link for additional information.\n",
      "Deprecated in NumPy 1.20; for more details and guidance: https://numpy.org/devdocs/release/1.20.0-notes.html#deprecations\n"
     ]
    }
   ],
   "source": [
    "training_padded1 = np.asarray(training_padded).astype(np.int)\n",
    "training_labels1 = np.asarray(training_labels).astype(np.int)\n",
    "testing_padded1 = np.asarray(testing_padded).astype(np.int)\n",
    "testing_labels1 = np.asarray(testing_labels).astype(np.int)\n",
    "\n",
    "training_labels1 = np.expand_dims(training_labels, axis=1)\n",
    "testing_labels1 = np.expand_dims(testing_labels, axis=1)\n",
    "\n",
    "\n",
    "for i in range(len(training_labels1)):\n",
    "  if training_labels1[i]==0:\n",
    "    training_labels1[i]=1\n",
    "  elif training_labels1[i]==2:\n",
    "    training_labels1[i]=0\n",
    "\n",
    "for i in range(len(testing_labels1)):\n",
    "  if testing_labels1[i]==0:\n",
    "    testing_labels1[i]=1\n",
    "  elif testing_labels1[i]==2:\n",
    "    testing_labels1[i]=0\n",
    " \n",
    "#**********\n",
    "\n",
    "training_padded2 = training_padded1 \n",
    "training_labels2 = np.asarray(training_labels).astype(np.int)\n",
    "testing_padded2 = testing_padded1\n",
    "testing_labels2 = np.asarray(testing_labels).astype(np.int)\n",
    "\n",
    "training_labels2 = np.expand_dims(training_labels, axis=1)\n",
    "testing_labels2 = np.expand_dims(testing_labels, axis=1)\n",
    "\n",
    "\n",
    "for i in range(len(training_labels2)):\n",
    "  if training_labels2[i]==1:\n",
    "    training_labels2[i]=0\n",
    "  else:\n",
    "    training_labels2[i]=1\n",
    "\n",
    "\n",
    "for i in range(len(testing_labels2)):\n",
    "  if testing_labels2[i]==1:\n",
    "    testing_labels2[i]=0\n",
    "  else:\n",
    "    testing_labels2[i]=1\n",
    "\n",
    "#**********\n",
    "\n",
    "training_padded3 = training_padded1 \n",
    "training_labels3 = np.asarray(training_labels).astype(np.int)\n",
    "testing_padded3 = testing_padded1\n",
    "testing_labels3 = np.asarray(testing_labels).astype(np.int)\n",
    "\n",
    "training_labels3 = np.expand_dims(training_labels, axis=1)\n",
    "testing_labels3 = np.expand_dims(testing_labels, axis=1)\n",
    "\n",
    "\n",
    "for i in range(len(training_labels3)):\n",
    "  if training_labels3[i]==2:\n",
    "    training_labels3[i]=1\n",
    "\n",
    "for i in range(len(testing_labels3)):\n",
    "  if testing_labels3[i]==2:\n",
    "    testing_labels3[i]=1"
   ]
  },
  {
   "cell_type": "code",
   "execution_count": 25,
   "metadata": {
    "id": "aGEU0giwztF8"
   },
   "outputs": [],
   "source": [
    "training_labels1Y=training_labels1.reshape(18426)\n",
    "training_labels2Y=training_labels2.reshape(18426)\n",
    "training_labels3Y=training_labels3.reshape(18426)"
   ]
  },
  {
   "cell_type": "code",
   "execution_count": 26,
   "metadata": {
    "id": "tGYX6NRcyMqk"
   },
   "outputs": [],
   "source": [
    "import pandas as pd\n",
    "\n",
    "data1=[[i,j] for i,j in zip(training_padded1  , training_labels1Y)]\n",
    "data2=[[i,j] for i,j in zip(training_padded1  , training_labels2Y)]\n",
    "data3=[[i,j] for i,j in zip(training_padded1  , training_labels3Y)]\n",
    "\n",
    "data1=pd.DataFrame(data1,columns=[\"sentences\",\"classe\"])\n",
    "data2=pd.DataFrame(data2,columns=[\"sentences\",\"classe\"])\n",
    "data3=pd.DataFrame(data3,columns=[\"sentences\",\"classe\"])"
   ]
  },
  {
   "cell_type": "code",
   "execution_count": 27,
   "metadata": {
    "colab": {
     "base_uri": "https://localhost:8080/",
     "height": 438
    },
    "id": "GqrN0VQbze2L",
    "outputId": "6c56eecf-bb52-4ad7-f3ab-14f928804a23"
   },
   "outputs": [
    {
     "data": {
      "image/png": "[encoded data removed]",
      "text/plain": [
       "<Figure size 1080x360 with 1 Axes>"
      ]
     },
     "metadata": {
      "needs_background": "light"
     },
     "output_type": "display_data"
    },
    {
     "name": "stdout",
     "output_type": "stream",
     "text": [
      "classe\n",
      "0    5716\n",
      "Name: classe, dtype: int64\n",
      "classe\n",
      "1    12710\n",
      "Name: classe, dtype: int64\n"
     ]
    }
   ],
   "source": [
    "import matplotlib.pyplot as plt\n",
    "import seaborn as sns\n",
    "plt.figure(1 , figsize = (15 , 5))\n",
    "sns.countplot(y = 'classe' , data = data1)\n",
    "plt.show()\n",
    "print(data1.loc[data1.classe==0].groupby('classe')[\"classe\"].count())\n",
    "print(data1.loc[data1.classe==1].groupby('classe')[\"classe\"].count())"
   ]
  },
  {
   "cell_type": "code",
   "execution_count": 28,
   "metadata": {
    "colab": {
     "base_uri": "https://localhost:8080/",
     "height": 438
    },
    "id": "KKzaOl4Nzvfz",
    "outputId": "6bfaee58-d98e-4b76-870e-0b04e2399a28"
   },
   "outputs": [
    {
     "data": {
      "image/png": "[encoded data removed]",
      "text/plain": [
       "<Figure size 1080x360 with 1 Axes>"
      ]
     },
     "metadata": {
      "needs_background": "light"
     },
     "output_type": "display_data"
    },
    {
     "name": "stdout",
     "output_type": "stream",
     "text": [
      "classe\n",
      "0    3052\n",
      "Name: classe, dtype: int64\n",
      "classe\n",
      "1    15374\n",
      "Name: classe, dtype: int64\n"
     ]
    }
   ],
   "source": [
    "plt.figure(1 , figsize = (15 , 5))\n",
    "sns.countplot(y = 'classe' , data = data2)\n",
    "plt.show()\n",
    "print(data2.loc[data2.classe==0].groupby('classe')[\"classe\"].count())\n",
    "print(data2.loc[data2.classe==1].groupby('classe')[\"classe\"].count())"
   ]
  },
  {
   "cell_type": "code",
   "execution_count": 29,
   "metadata": {
    "colab": {
     "base_uri": "https://localhost:8080/",
     "height": 438
    },
    "id": "p54ZQycbz1BF",
    "outputId": "6fe687d8-48e9-4c29-8c8c-084364bfc6c1"
   },
   "outputs": [
    {
     "data": {
      "image/png": "[encoded data removed]",
      "text/plain": [
       "<Figure size 1080x360 with 1 Axes>"
      ]
     },
     "metadata": {
      "needs_background": "light"
     },
     "output_type": "display_data"
    },
    {
     "name": "stdout",
     "output_type": "stream",
     "text": [
      "classe\n",
      "0    9658\n",
      "Name: classe, dtype: int64\n",
      "classe\n",
      "1    8768\n",
      "Name: classe, dtype: int64\n"
     ]
    }
   ],
   "source": [
    "plt.figure(1 , figsize = (15 , 5))\n",
    "sns.countplot(y = 'classe' , data = data3)\n",
    "plt.show()\n",
    "print(data3.loc[data3.classe==0].groupby('classe')[\"classe\"].count())\n",
    "print(data3.loc[data3.classe==1].groupby('classe')[\"classe\"].count())"
   ]
  },
  {
   "cell_type": "code",
   "execution_count": 30,
   "metadata": {
    "colab": {
     "base_uri": "https://localhost:8080/"
    },
    "id": "6doHB9-omN9b",
    "outputId": "5584a56d-cc0e-409b-f616-aac5424295a4"
   },
   "outputs": [
    {
     "name": "stdout",
     "output_type": "stream",
     "text": [
      "Model: \"sequential\"\n",
      "_________________________________________________________________\n",
      " Layer (type)                Output Shape              Param #   \n",
      "=================================================================\n",
      " embedding (Embedding)       (None, 388, 16)           834688    \n",
      "                                                                 \n",
      " conv1d (Conv1D)             (None, 384, 128)          10368     \n",
      "                                                                 \n",
      " conv1d_1 (Conv1D)           (None, 384, 32)           4128      \n",
      "                                                                 \n",
      " bidirectional (Bidirectiona  (None, 384, 64)          16640     \n",
      " l)                                                              \n",
      "                                                                 \n",
      " bidirectional_1 (Bidirectio  (None, 384, 64)          24832     \n",
      " nal)                                                            \n",
      "                                                                 \n",
      " bidirectional_2 (Bidirectio  (None, 384, 32)          10368     \n",
      " nal)                                                            \n",
      "                                                                 \n",
      " flatten (Flatten)           (None, 12288)             0         \n",
      "                                                                 \n",
      " dense (Dense)               (None, 24)                294936    \n",
      "                                                                 \n",
      " dense_1 (Dense)             (None, 1)                 25        \n",
      "                                                                 \n",
      "=================================================================\n",
      "Total params: 1,195,985\n",
      "Trainable params: 1,195,985\n",
      "Non-trainable params: 0\n",
      "_________________________________________________________________\n"
     ]
    }
   ],
   "source": [
    "import tensorflow as tf\n",
    "\n",
    "model1=tf.keras.models.Sequential ([\n",
    "                                   tf.keras.layers.Embedding(vocab_size, embedding_dim, input_length=max_length),\n",
    "                                   tf.keras.layers.Conv1D(128, 5, activation='relu'),\n",
    "                                   tf.keras.layers.Conv1D(filters=32, kernel_size=1, activation='selu'),\n",
    "                                   tf.keras.layers.Bidirectional(tf.keras.layers.LSTM(32,return_sequences=True)),\n",
    "                                   tf.keras.layers.Bidirectional(tf.keras.layers.LSTM(32,return_sequences=True)),\n",
    "                                   tf.keras.layers.Bidirectional(tf.keras.layers.LSTM(16,return_sequences=True)),\n",
    "                                   tf.keras.layers.Flatten(),\n",
    "                                   tf.keras.layers.Dense(units=24,activation='relu'),\n",
    "                                   tf.keras.layers.Dense(units=1, activation='sigmoid')])\n",
    "\n",
    "model2=tf.keras.models.Sequential ([\n",
    "                                   tf.keras.layers.Embedding(vocab_size, embedding_dim, input_length=max_length),\n",
    "                                   tf.keras.layers.Conv1D(128, 5, activation='relu'),\n",
    "                                   tf.keras.layers.Conv1D(filters=32, kernel_size=1, activation='selu'),\n",
    "                                   tf.keras.layers.Bidirectional(tf.keras.layers.LSTM(32,return_sequences=True)),\n",
    "                                   tf.keras.layers.Bidirectional(tf.keras.layers.LSTM(32,return_sequences=True)),\n",
    "                                   tf.keras.layers.Bidirectional(tf.keras.layers.LSTM(16,return_sequences=True)),\n",
    "                                   tf.keras.layers.Flatten(),\n",
    "                                   tf.keras.layers.Dense(units=24,activation='relu'),\n",
    "                                   tf.keras.layers.Dense(units=1, activation='sigmoid')])\n",
    "\n",
    "model3=tf.keras.models.Sequential ([\n",
    "                                   tf.keras.layers.Embedding(vocab_size, embedding_dim, input_length=max_length),\n",
    "                                   tf.keras.layers.Conv1D(128, 5, activation='relu'),\n",
    "                                   tf.keras.layers.Conv1D(filters=32, kernel_size=1, activation='selu'),\n",
    "                                   tf.keras.layers.Bidirectional(tf.keras.layers.LSTM(32,return_sequences=True)),\n",
    "                                   tf.keras.layers.Bidirectional(tf.keras.layers.LSTM(32,return_sequences=True)),\n",
    "                                   tf.keras.layers.Bidirectional(tf.keras.layers.LSTM(16,return_sequences=True)),\n",
    "                                   tf.keras.layers.Flatten(),\n",
    "                                   tf.keras.layers.Dense(units=24,activation='relu'),\n",
    "                                   tf.keras.layers.Dense(units=1, activation='sigmoid')])\n",
    "\n",
    "model1.summary()"
   ]
  },
  {
   "cell_type": "code",
   "execution_count": 31,
   "metadata": {
    "colab": {
     "base_uri": "https://localhost:8080/"
    },
    "id": "p7Q5vrb5nOSU",
    "outputId": "74b28e71-f92c-4ab4-cbfe-5c5aa9766673"
   },
   "outputs": [
    {
     "name": "stdout",
     "output_type": "stream",
     "text": [
      "Epoch 1/35\n",
      "144/144 [==============================] - 35s 151ms/step - loss: 0.5805 - accuracy: 0.7152 - val_loss: 0.4465 - val_accuracy: 0.8062\n",
      "Epoch 2/35\n",
      "144/144 [==============================] - 20s 138ms/step - loss: 0.4313 - accuracy: 0.8101 - val_loss: 0.3811 - val_accuracy: 0.8333\n",
      "Epoch 3/35\n",
      "144/144 [==============================] - 27s 189ms/step - loss: 0.3796 - accuracy: 0.8379 - val_loss: 0.3560 - val_accuracy: 0.8602\n",
      "Epoch 4/35\n",
      "144/144 [==============================] - 29s 202ms/step - loss: 0.3474 - accuracy: 0.8559 - val_loss: 0.3353 - val_accuracy: 0.8652\n",
      "Epoch 5/35\n",
      "144/144 [==============================] - 20s 139ms/step - loss: 0.3083 - accuracy: 0.8763 - val_loss: 0.2968 - val_accuracy: 0.8813\n",
      "Epoch 6/35\n",
      "144/144 [==============================] - 19s 135ms/step - loss: 0.2639 - accuracy: 0.8979 - val_loss: 0.2854 - val_accuracy: 0.8913\n",
      "Epoch 7/35\n",
      "144/144 [==============================] - 20s 142ms/step - loss: 0.2263 - accuracy: 0.9128 - val_loss: 0.2614 - val_accuracy: 0.8997\n",
      "Epoch 8/35\n",
      "144/144 [==============================] - 21s 147ms/step - loss: 0.1931 - accuracy: 0.9287 - val_loss: 0.2709 - val_accuracy: 0.8999\n",
      "Epoch 9/35\n",
      "144/144 [==============================] - 19s 134ms/step - loss: 0.1800 - accuracy: 0.9343 - val_loss: 0.2645 - val_accuracy: 0.9095\n",
      "Epoch 10/35\n",
      "144/144 [==============================] - 20s 138ms/step - loss: 0.1564 - accuracy: 0.9422 - val_loss: 0.2909 - val_accuracy: 0.9041\n",
      "Epoch 11/35\n",
      "144/144 [==============================] - 19s 135ms/step - loss: 0.1405 - accuracy: 0.9499 - val_loss: 0.2816 - val_accuracy: 0.9025\n",
      "Epoch 12/35\n",
      "144/144 [==============================] - 21s 146ms/step - loss: 0.1310 - accuracy: 0.9545 - val_loss: 0.2771 - val_accuracy: 0.9060\n",
      "Epoch 13/35\n",
      "144/144 [==============================] - 20s 139ms/step - loss: 0.1265 - accuracy: 0.9565 - val_loss: 0.2774 - val_accuracy: 0.9045\n",
      "Epoch 14/35\n",
      "144/144 [==============================] - 20s 139ms/step - loss: 0.1224 - accuracy: 0.9568 - val_loss: 0.2557 - val_accuracy: 0.9080\n",
      "Epoch 15/35\n",
      "144/144 [==============================] - 20s 139ms/step - loss: 0.1108 - accuracy: 0.9605 - val_loss: 0.2760 - val_accuracy: 0.9099\n",
      "Epoch 16/35\n",
      "144/144 [==============================] - 20s 137ms/step - loss: 0.1064 - accuracy: 0.9622 - val_loss: 0.2682 - val_accuracy: 0.9130\n",
      "Epoch 17/35\n",
      "144/144 [==============================] - 21s 145ms/step - loss: 0.1013 - accuracy: 0.9640 - val_loss: 0.3139 - val_accuracy: 0.9125\n",
      "Epoch 18/35\n",
      "144/144 [==============================] - 20s 141ms/step - loss: 0.1016 - accuracy: 0.9629 - val_loss: 0.2947 - val_accuracy: 0.9106\n",
      "Epoch 19/35\n",
      "144/144 [==============================] - 20s 138ms/step - loss: 0.0953 - accuracy: 0.9633 - val_loss: 0.3164 - val_accuracy: 0.9127\n",
      "Epoch 20/35\n",
      "144/144 [==============================] - 20s 140ms/step - loss: 0.0884 - accuracy: 0.9659 - val_loss: 0.2961 - val_accuracy: 0.9140\n",
      "Epoch 21/35\n",
      "144/144 [==============================] - 21s 143ms/step - loss: 0.0874 - accuracy: 0.9656 - val_loss: 0.2886 - val_accuracy: 0.9121\n",
      "Epoch 22/35\n",
      "144/144 [==============================] - 22s 150ms/step - loss: 0.0835 - accuracy: 0.9658 - val_loss: 0.3533 - val_accuracy: 0.9095\n",
      "Epoch 23/35\n",
      "144/144 [==============================] - 20s 139ms/step - loss: 0.0792 - accuracy: 0.9669 - val_loss: 0.3378 - val_accuracy: 0.9123\n",
      "Epoch 24/35\n",
      "144/144 [==============================] - 20s 140ms/step - loss: 0.0743 - accuracy: 0.9669 - val_loss: 0.3407 - val_accuracy: 0.9051\n",
      "Epoch 25/35\n",
      "144/144 [==============================] - 20s 141ms/step - loss: 0.0767 - accuracy: 0.9679 - val_loss: 0.3324 - val_accuracy: 0.9134\n",
      "Epoch 26/35\n",
      "144/144 [==============================] - 21s 144ms/step - loss: 0.0724 - accuracy: 0.9674 - val_loss: 0.4224 - val_accuracy: 0.9099\n",
      "Epoch 27/35\n",
      "144/144 [==============================] - 20s 137ms/step - loss: 0.0782 - accuracy: 0.9658 - val_loss: 0.3367 - val_accuracy: 0.9073\n",
      "Epoch 28/35\n",
      "144/144 [==============================] - 20s 141ms/step - loss: 0.0733 - accuracy: 0.9672 - val_loss: 0.3752 - val_accuracy: 0.9095\n",
      "Epoch 29/35\n",
      "144/144 [==============================] - 20s 138ms/step - loss: 0.0696 - accuracy: 0.9685 - val_loss: 0.4014 - val_accuracy: 0.9084\n",
      "Epoch 30/35\n",
      "144/144 [==============================] - 21s 143ms/step - loss: 0.0617 - accuracy: 0.9710 - val_loss: 0.3875 - val_accuracy: 0.9097\n",
      "Epoch 31/35\n",
      "144/144 [==============================] - 21s 148ms/step - loss: 0.0648 - accuracy: 0.9702 - val_loss: 0.3677 - val_accuracy: 0.9058\n",
      "Epoch 32/35\n",
      "144/144 [==============================] - 21s 143ms/step - loss: 0.0664 - accuracy: 0.9699 - val_loss: 0.4416 - val_accuracy: 0.9049\n",
      "Epoch 33/35\n",
      "144/144 [==============================] - 20s 141ms/step - loss: 0.0649 - accuracy: 0.9696 - val_loss: 0.3946 - val_accuracy: 0.9051\n",
      "Epoch 34/35\n",
      "144/144 [==============================] - 20s 138ms/step - loss: 0.0588 - accuracy: 0.9707 - val_loss: 0.5252 - val_accuracy: 0.9028\n",
      "Epoch 35/35\n",
      "144/144 [==============================] - 20s 139ms/step - loss: 0.0605 - accuracy: 0.9711 - val_loss: 0.4307 - val_accuracy: 0.9067\n",
      "Epoch 1/35\n",
      "144/144 [==============================] - 21s 144ms/step - loss: 0.3944 - accuracy: 0.8477 - val_loss: 0.2514 - val_accuracy: 0.9021\n",
      "Epoch 2/35\n",
      "144/144 [==============================] - 20s 139ms/step - loss: 0.2468 - accuracy: 0.9115 - val_loss: 0.2366 - val_accuracy: 0.9219\n",
      "Epoch 3/35\n",
      "144/144 [==============================] - 20s 142ms/step - loss: 0.2054 - accuracy: 0.9246 - val_loss: 0.2125 - val_accuracy: 0.9275\n",
      "Epoch 4/35\n",
      "144/144 [==============================] - 20s 139ms/step - loss: 0.1879 - accuracy: 0.9308 - val_loss: 0.2035 - val_accuracy: 0.9308\n",
      "Epoch 5/35\n",
      "144/144 [==============================] - 23s 159ms/step - loss: 0.1630 - accuracy: 0.9389 - val_loss: 0.2038 - val_accuracy: 0.9327\n",
      "Epoch 6/35\n",
      "144/144 [==============================] - 21s 142ms/step - loss: 0.1428 - accuracy: 0.9474 - val_loss: 0.1866 - val_accuracy: 0.9318\n",
      "Epoch 7/35\n",
      "144/144 [==============================] - 20s 141ms/step - loss: 0.1268 - accuracy: 0.9519 - val_loss: 0.1853 - val_accuracy: 0.9340\n",
      "Epoch 8/35\n",
      "144/144 [==============================] - 19s 134ms/step - loss: 0.1122 - accuracy: 0.9585 - val_loss: 0.2046 - val_accuracy: 0.9264\n",
      "Epoch 9/35\n",
      "144/144 [==============================] - 20s 138ms/step - loss: 0.1098 - accuracy: 0.9585 - val_loss: 0.2033 - val_accuracy: 0.9316\n",
      "Epoch 10/35\n",
      "144/144 [==============================] - 20s 142ms/step - loss: 0.0948 - accuracy: 0.9645 - val_loss: 0.2122 - val_accuracy: 0.9334\n",
      "Epoch 11/35\n",
      "144/144 [==============================] - 20s 138ms/step - loss: 0.0889 - accuracy: 0.9671 - val_loss: 0.2012 - val_accuracy: 0.9375\n",
      "Epoch 12/35\n",
      "144/144 [==============================] - 20s 138ms/step - loss: 0.0809 - accuracy: 0.9702 - val_loss: 0.2040 - val_accuracy: 0.9357\n",
      "Epoch 13/35\n",
      "144/144 [==============================] - 20s 136ms/step - loss: 0.0735 - accuracy: 0.9728 - val_loss: 0.2056 - val_accuracy: 0.9429\n",
      "Epoch 14/35\n",
      "144/144 [==============================] - 20s 138ms/step - loss: 0.0776 - accuracy: 0.9718 - val_loss: 0.1930 - val_accuracy: 0.9401\n",
      "Epoch 15/35\n",
      "144/144 [==============================] - 21s 145ms/step - loss: 0.0699 - accuracy: 0.9732 - val_loss: 0.2196 - val_accuracy: 0.9340\n",
      "Epoch 16/35\n",
      "144/144 [==============================] - 19s 135ms/step - loss: 0.0656 - accuracy: 0.9756 - val_loss: 0.2293 - val_accuracy: 0.9379\n",
      "Epoch 17/35\n",
      "144/144 [==============================] - 20s 138ms/step - loss: 0.0614 - accuracy: 0.9760 - val_loss: 0.2128 - val_accuracy: 0.9366\n",
      "Epoch 18/35\n",
      "144/144 [==============================] - 20s 138ms/step - loss: 0.0620 - accuracy: 0.9762 - val_loss: 0.2116 - val_accuracy: 0.9349\n",
      "Epoch 19/35\n",
      "144/144 [==============================] - 20s 138ms/step - loss: 0.0576 - accuracy: 0.9772 - val_loss: 0.2273 - val_accuracy: 0.9442\n",
      "Epoch 20/35\n",
      "144/144 [==============================] - 21s 145ms/step - loss: 0.0565 - accuracy: 0.9773 - val_loss: 0.2188 - val_accuracy: 0.9390\n",
      "Epoch 21/35\n",
      "144/144 [==============================] - 19s 134ms/step - loss: 0.0524 - accuracy: 0.9779 - val_loss: 0.2387 - val_accuracy: 0.9388\n",
      "Epoch 22/35\n",
      "144/144 [==============================] - 20s 138ms/step - loss: 0.0524 - accuracy: 0.9778 - val_loss: 0.2557 - val_accuracy: 0.9431\n",
      "Epoch 23/35\n",
      "144/144 [==============================] - 20s 138ms/step - loss: 0.0515 - accuracy: 0.9782 - val_loss: 0.2423 - val_accuracy: 0.9416\n",
      "Epoch 24/35\n",
      "144/144 [==============================] - 19s 134ms/step - loss: 0.0490 - accuracy: 0.9785 - val_loss: 0.2692 - val_accuracy: 0.9427\n",
      "Epoch 25/35\n",
      "144/144 [==============================] - 20s 142ms/step - loss: 0.0462 - accuracy: 0.9791 - val_loss: 0.2891 - val_accuracy: 0.9405\n",
      "Epoch 26/35\n",
      "144/144 [==============================] - 20s 138ms/step - loss: 0.0457 - accuracy: 0.9799 - val_loss: 0.2958 - val_accuracy: 0.9436\n",
      "Epoch 27/35\n",
      "144/144 [==============================] - 20s 138ms/step - loss: 0.0498 - accuracy: 0.9781 - val_loss: 0.2856 - val_accuracy: 0.9405\n",
      "Epoch 28/35\n",
      "144/144 [==============================] - 19s 135ms/step - loss: 0.0449 - accuracy: 0.9795 - val_loss: 0.2821 - val_accuracy: 0.9403\n",
      "Epoch 29/35\n",
      "144/144 [==============================] - 22s 156ms/step - loss: 0.0467 - accuracy: 0.9797 - val_loss: 0.2911 - val_accuracy: 0.9427\n",
      "Epoch 30/35\n",
      "144/144 [==============================] - 20s 138ms/step - loss: 0.0426 - accuracy: 0.9808 - val_loss: 0.2831 - val_accuracy: 0.9410\n",
      "Epoch 31/35\n",
      "144/144 [==============================] - 20s 139ms/step - loss: 0.0421 - accuracy: 0.9808 - val_loss: 0.2855 - val_accuracy: 0.9416\n",
      "Epoch 32/35\n",
      "144/144 [==============================] - 19s 134ms/step - loss: 0.0433 - accuracy: 0.9796 - val_loss: 0.3041 - val_accuracy: 0.9401\n",
      "Epoch 33/35\n",
      "144/144 [==============================] - 19s 134ms/step - loss: 0.0408 - accuracy: 0.9808 - val_loss: 0.2835 - val_accuracy: 0.9438\n",
      "Epoch 34/35\n",
      "144/144 [==============================] - 21s 143ms/step - loss: 0.0398 - accuracy: 0.9813 - val_loss: 0.2852 - val_accuracy: 0.9407\n",
      "Epoch 35/35\n",
      "144/144 [==============================] - 20s 139ms/step - loss: 0.0377 - accuracy: 0.9810 - val_loss: 0.3492 - val_accuracy: 0.9438\n",
      "Epoch 1/35\n",
      "144/144 [==============================] - 20s 135ms/step - loss: 0.6692 - accuracy: 0.5638 - val_loss: 0.4965 - val_accuracy: 0.7643\n",
      "Epoch 2/35\n",
      "144/144 [==============================] - 21s 145ms/step - loss: 0.4562 - accuracy: 0.7903 - val_loss: 0.3468 - val_accuracy: 0.8561\n",
      "Epoch 3/35\n",
      "144/144 [==============================] - 20s 138ms/step - loss: 0.3877 - accuracy: 0.8343 - val_loss: 0.3389 - val_accuracy: 0.8630\n",
      "Epoch 4/35\n",
      "144/144 [==============================] - 20s 137ms/step - loss: 0.3581 - accuracy: 0.8476 - val_loss: 0.3004 - val_accuracy: 0.8771\n",
      "Epoch 5/35\n",
      "144/144 [==============================] - 19s 135ms/step - loss: 0.3354 - accuracy: 0.8617 - val_loss: 0.2748 - val_accuracy: 0.8802\n",
      "Epoch 6/35\n",
      "144/144 [==============================] - 19s 135ms/step - loss: 0.3089 - accuracy: 0.8694 - val_loss: 0.2692 - val_accuracy: 0.8906\n",
      "Epoch 7/35\n",
      "144/144 [==============================] - 21s 145ms/step - loss: 0.2744 - accuracy: 0.8867 - val_loss: 0.2463 - val_accuracy: 0.8995\n",
      "Epoch 8/35\n",
      "144/144 [==============================] - 20s 138ms/step - loss: 0.2370 - accuracy: 0.9043 - val_loss: 0.2413 - val_accuracy: 0.8956\n",
      "Epoch 9/35\n",
      "144/144 [==============================] - 19s 135ms/step - loss: 0.2085 - accuracy: 0.9156 - val_loss: 0.2256 - val_accuracy: 0.9125\n",
      "Epoch 10/35\n",
      "144/144 [==============================] - 20s 139ms/step - loss: 0.1867 - accuracy: 0.9261 - val_loss: 0.2347 - val_accuracy: 0.9123\n",
      "Epoch 11/35\n",
      "144/144 [==============================] - 20s 137ms/step - loss: 0.1690 - accuracy: 0.9349 - val_loss: 0.2316 - val_accuracy: 0.9114\n",
      "Epoch 12/35\n",
      "144/144 [==============================] - 21s 144ms/step - loss: 0.1550 - accuracy: 0.9404 - val_loss: 0.2464 - val_accuracy: 0.9093\n",
      "Epoch 13/35\n",
      "144/144 [==============================] - 20s 140ms/step - loss: 0.1440 - accuracy: 0.9420 - val_loss: 0.2476 - val_accuracy: 0.9151\n",
      "Epoch 14/35\n",
      "144/144 [==============================] - 20s 142ms/step - loss: 0.1295 - accuracy: 0.9490 - val_loss: 0.2400 - val_accuracy: 0.9225\n",
      "Epoch 15/35\n",
      "144/144 [==============================] - 20s 137ms/step - loss: 0.1224 - accuracy: 0.9513 - val_loss: 0.2400 - val_accuracy: 0.9245\n",
      "Epoch 16/35\n",
      "144/144 [==============================] - 21s 144ms/step - loss: 0.1132 - accuracy: 0.9558 - val_loss: 0.2547 - val_accuracy: 0.9242\n",
      "Epoch 17/35\n",
      "144/144 [==============================] - 20s 140ms/step - loss: 0.1082 - accuracy: 0.9576 - val_loss: 0.2548 - val_accuracy: 0.9297\n",
      "Epoch 18/35\n",
      "144/144 [==============================] - 20s 140ms/step - loss: 0.1007 - accuracy: 0.9582 - val_loss: 0.2760 - val_accuracy: 0.9240\n",
      "Epoch 19/35\n",
      "144/144 [==============================] - 20s 139ms/step - loss: 0.0975 - accuracy: 0.9609 - val_loss: 0.2627 - val_accuracy: 0.9242\n",
      "Epoch 20/35\n",
      "144/144 [==============================] - 20s 138ms/step - loss: 0.1024 - accuracy: 0.9581 - val_loss: 0.2618 - val_accuracy: 0.9266\n",
      "Epoch 21/35\n",
      "144/144 [==============================] - 20s 142ms/step - loss: 0.0898 - accuracy: 0.9630 - val_loss: 0.2606 - val_accuracy: 0.9275\n",
      "Epoch 22/35\n",
      "144/144 [==============================] - 20s 139ms/step - loss: 0.0857 - accuracy: 0.9623 - val_loss: 0.2884 - val_accuracy: 0.9297\n",
      "Epoch 23/35\n",
      "144/144 [==============================] - 20s 137ms/step - loss: 0.0800 - accuracy: 0.9643 - val_loss: 0.2991 - val_accuracy: 0.9284\n",
      "Epoch 24/35\n",
      "144/144 [==============================] - 20s 137ms/step - loss: 0.0765 - accuracy: 0.9658 - val_loss: 0.3241 - val_accuracy: 0.9282\n",
      "Epoch 25/35\n",
      "144/144 [==============================] - 19s 134ms/step - loss: 0.0782 - accuracy: 0.9652 - val_loss: 0.2757 - val_accuracy: 0.9245\n",
      "Epoch 26/35\n",
      "144/144 [==============================] - 21s 147ms/step - loss: 0.0782 - accuracy: 0.9640 - val_loss: 0.3329 - val_accuracy: 0.9290\n",
      "Epoch 27/35\n",
      "144/144 [==============================] - 20s 137ms/step - loss: 0.0736 - accuracy: 0.9645 - val_loss: 0.3237 - val_accuracy: 0.9255\n",
      "Epoch 28/35\n",
      "144/144 [==============================] - 20s 140ms/step - loss: 0.0777 - accuracy: 0.9631 - val_loss: 0.3408 - val_accuracy: 0.9273\n",
      "Epoch 29/35\n",
      "144/144 [==============================] - 20s 136ms/step - loss: 0.0673 - accuracy: 0.9665 - val_loss: 0.3764 - val_accuracy: 0.9227\n",
      "Epoch 30/35\n",
      "144/144 [==============================] - 20s 138ms/step - loss: 0.0689 - accuracy: 0.9662 - val_loss: 0.3398 - val_accuracy: 0.9282\n",
      "Epoch 31/35\n",
      "144/144 [==============================] - 21s 148ms/step - loss: 0.0663 - accuracy: 0.9661 - val_loss: 0.3525 - val_accuracy: 0.9271\n",
      "Epoch 32/35\n",
      "144/144 [==============================] - 20s 141ms/step - loss: 0.0637 - accuracy: 0.9676 - val_loss: 0.4375 - val_accuracy: 0.9255\n",
      "Epoch 33/35\n",
      "144/144 [==============================] - 21s 143ms/step - loss: 0.0631 - accuracy: 0.9680 - val_loss: 0.3744 - val_accuracy: 0.9240\n",
      "Epoch 34/35\n",
      "144/144 [==============================] - 20s 141ms/step - loss: 0.0607 - accuracy: 0.9691 - val_loss: 0.3971 - val_accuracy: 0.9253\n",
      "Epoch 35/35\n",
      "144/144 [==============================] - 20s 142ms/step - loss: 0.0680 - accuracy: 0.9658 - val_loss: 0.3656 - val_accuracy: 0.9245\n"
     ]
    }
   ],
   "source": [
    "model1.compile(loss=\"binary_crossentropy\",optimizer='adam',metrics=['accuracy'],run_eagerly=True)\n",
    "history1 = model1.fit(training_padded1, training_labels1, batch_size=128, epochs=35, validation_data=(testing_padded1, testing_labels1), verbose=1)\n",
    "\n",
    "model2.compile(loss=\"binary_crossentropy\",optimizer='adam',metrics=['accuracy'],run_eagerly=True)\n",
    "history2 = model2.fit(training_padded2, training_labels2, batch_size=128, epochs=35, validation_data=(testing_padded2, testing_labels2), verbose=1)\n",
    "\n",
    "model3.compile(loss=\"binary_crossentropy\",optimizer='adam',metrics=['accuracy'],run_eagerly=True)\n",
    "history3 = model3.fit(training_padded3, training_labels3, batch_size=128, epochs=35, validation_data=(testing_padded3, testing_labels3), verbose=1)"
   ]
  },
  {
   "cell_type": "code",
   "execution_count": 33,
   "metadata": {
    "colab": {
     "base_uri": "https://localhost:8080/",
     "height": 1000
    },
    "id": "Zq20o1oq2Yc7",
    "outputId": "dd684fe2-45fd-4888-8540-f9f70da44ab8"
   },
   "outputs": [
    {
     "data": {
      "image/png": "[encoded data removed]",
      "text/plain": [
       "<Figure size 432x288 with 1 Axes>"
      ]
     },
     "metadata": {
      "needs_background": "light"
     },
     "output_type": "display_data"
    },
    {
     "data": {
      "image/png": "[encoded data removed]",
      "text/plain": [
       "<Figure size 432x288 with 1 Axes>"
      ]
     },
     "metadata": {
      "needs_background": "light"
     },
     "output_type": "display_data"
    },
    {
     "data": {
      "image/png": "[encoded data removed]",
      "text/plain": [
       "<Figure size 432x288 with 1 Axes>"
      ]
     },
     "metadata": {
      "needs_background": "light"
     },
     "output_type": "display_data"
    },
    {
     "data": {
      "image/png": "[encoded data removed]",
      "text/plain": [
       "<Figure size 432x288 with 1 Axes>"
      ]
     },
     "metadata": {
      "needs_background": "light"
     },
     "output_type": "display_data"
    },
    {
     "data": {
      "image/png": "[encoded data removed]",
      "text/plain": [
       "<Figure size 432x288 with 1 Axes>"
      ]
     },
     "metadata": {
      "needs_background": "light"
     },
     "output_type": "display_data"
    },
    {
     "data": {
      "image/png": "[encoded data removed]",
      "text/plain": [
       "<Figure size 432x288 with 1 Axes>"
      ]
     },
     "metadata": {
      "needs_background": "light"
     },
     "output_type": "display_data"
    }
   ],
   "source": [
    "import matplotlib.pyplot as plt\n",
    "import numpy\n",
    "# summarize history for accuracy\n",
    "plt.plot(history1.history['loss'])\n",
    "plt.plot(history1.history['val_loss'])\n",
    "plt.title('model loss')\n",
    "plt.ylabel('loss')\n",
    "plt.xlabel('epoch')\n",
    "plt.legend(['train', 'test'], loc='upper left')\n",
    "plt.show()\n",
    "# summarize history for loss\n",
    "plt.plot(history1.history['accuracy'])\n",
    "plt.plot(history1.history['val_accuracy'])\n",
    "plt.title('model accuracy')\n",
    "plt.ylabel('accuracy')\n",
    "plt.xlabel('epoch')\n",
    "plt.legend(['train', 'test'], loc='upper left')\n",
    "plt.show()\n",
    "\n",
    "# summarize history for accuracy\n",
    "plt.plot(history2.history['loss'])\n",
    "plt.plot(history2.history['val_loss'])\n",
    "plt.title('model loss')\n",
    "plt.ylabel('loss')\n",
    "plt.xlabel('epoch')\n",
    "plt.legend(['train', 'test'], loc='upper left')\n",
    "plt.show()\n",
    "# summarize history for loss\n",
    "plt.plot(history2.history['accuracy'])\n",
    "plt.plot(history2.history['val_accuracy'])\n",
    "plt.title('model accuracy')\n",
    "plt.ylabel('accuracy')\n",
    "plt.xlabel('epoch')\n",
    "plt.legend(['train', 'test'], loc='upper left')\n",
    "plt.show()\n",
    "\n",
    "# summarize history for accuracy\n",
    "plt.plot(history3.history['loss'])\n",
    "plt.plot(history3.history['val_loss'])\n",
    "plt.title('model loss')\n",
    "plt.ylabel('loss')\n",
    "plt.xlabel('epoch')\n",
    "plt.legend(['train', 'test'], loc='upper left')\n",
    "plt.show()\n",
    "# summarize history for loss\n",
    "plt.plot(history3.history['accuracy'])\n",
    "plt.plot(history3.history['val_accuracy'])\n",
    "plt.title('model accuracy')\n",
    "plt.ylabel('accuracy')\n",
    "plt.xlabel('epoch')\n",
    "plt.legend(['train', 'test'], loc='upper left')\n",
    "plt.show()"
   ]
  },
  {
   "cell_type": "code",
   "execution_count": 34,
   "metadata": {
    "colab": {
     "base_uri": "https://localhost:8080/"
    },
    "id": "GJM_EkfzxRYD",
    "outputId": "404b3437-dbe2-4f95-8a9d-0d02a7eed651"
   },
   "outputs": [
    {
     "name": "stdout",
     "output_type": "stream",
     "text": [
      "110\n"
     ]
    }
   ],
   "source": [
    "L1=model1.predict(testing_padded)\n",
    "L2=model2.predict(testing_padded)\n",
    "L3=model3.predict(testing_padded)\n",
    "\n",
    "for i in range(len(L1)):\n",
    "  if (L1[i]<0.5):\n",
    "    L1[i]=0\n",
    "  else:\n",
    "    L1[i]=1\n",
    "  if (L2[i]<0.5):\n",
    "    L2[i]=0\n",
    "  else:\n",
    "    L2[i]=1\n",
    "  if (L3[i]<0.5):\n",
    "    L3[i]=0\n",
    "  else:\n",
    "    L3[i]=1\n",
    "P=[]\n",
    "for i in range(len(L1)):\n",
    "  P.append(str(int(L1[i][0]))+str(int(L2[i][0]))+str(int(L3[i][0])))\n",
    "\n",
    "print(P[2])"
   ]
  },
  {
   "cell_type": "code",
   "execution_count": 35,
   "metadata": {
    "id": "ci_yxTAFEIf6"
   },
   "outputs": [],
   "source": [
    "def hamming_distance(string1, string2):\n",
    "\tdist_counter = 0\n",
    "\tfor n in range(len(string1)):\n",
    "\t\tif string1[n] != string2[n]:\n",
    "\t\t\tdist_counter += 1\n",
    "\treturn dist_counter\n",
    "\n",
    "pred=[]\n",
    "for i in range(len(P)):\n",
    "  if (min(min(hamming_distance(P[i],'110'),hamming_distance(P[i],'101')),hamming_distance(P[i],'011'))==hamming_distance(P[i],'110')):\n",
    "    pred.append(0)\n",
    "  elif (min(min(hamming_distance(P[i],'110'),hamming_distance(P[i],'101')),hamming_distance(P[i],'011'))==hamming_distance(P[i],'101')):\n",
    "    pred.append(1)\n",
    "  else:\n",
    "    pred.append(2)"
   ]
  },
  {
   "cell_type": "code",
   "execution_count": 36,
   "metadata": {
    "colab": {
     "base_uri": "https://localhost:8080/"
    },
    "id": "-XzjG5nC0qit",
    "outputId": "6a69ea2f-2292-4712-94d8-a097cce49010"
   },
   "outputs": [
    {
     "name": "stdout",
     "output_type": "stream",
     "text": [
      "For the Ensemblist methode: \n",
      " [[2623   18   54]\n",
      " [ 115  643   40]\n",
      " [ 234   75  805]]\n",
      "              precision    recall  f1-score   support\n",
      "\n",
      "           0       0.88      0.97      0.93      2695\n",
      "           1       0.87      0.81      0.84       798\n",
      "           2       0.90      0.72      0.80      1114\n",
      "\n",
      "    accuracy                           0.88      4607\n",
      "   macro avg       0.88      0.83      0.85      4607\n",
      "weighted avg       0.88      0.88      0.88      4607\n",
      "\n"
     ]
    }
   ],
   "source": [
    "from sklearn.metrics import confusion_matrix\n",
    "from sklearn.metrics import classification_report\n",
    "cm = confusion_matrix(testing_labels, pred)\n",
    "print(\"For the Ensemblist methode: \\n\",cm)\n",
    "print(classification_report(testing_labels, pred, labels=[0,1,2]))"
   ]
  },
  {
   "cell_type": "code",
   "execution_count": 39,
   "metadata": {
    "id": "dF-1-vSOJrC0"
   },
   "outputs": [],
   "source": [
    "model1.save(\"UnalancedEnsemblistModel108.h5\")\n",
    "model2.save(\"UnalancedEnsemblistModel208.h5\")\n",
    "model3.save(\"UnalancedEnsemblistModel308.h5\")"
   ]
  },
  {
   "cell_type": "code",
   "execution_count": 37,
   "metadata": {
    "colab": {
     "base_uri": "https://localhost:8080/"
    },
    "id": "vEoKfNMZLHK9",
    "outputId": "6e60752c-2117-4ae8-c3be-6254ffcd0cbd"
   },
   "outputs": [
    {
     "name": "stdout",
     "output_type": "stream",
     "text": [
      "For the Ensemblist methode: \n",
      " [[545  23  19]\n",
      " [ 69 183   1]\n",
      " [103 136 213]]\n",
      "              precision    recall  f1-score   support\n",
      "\n",
      "           0       0.76      0.93      0.84       587\n",
      "           1       0.54      0.72      0.62       253\n",
      "           2       0.91      0.47      0.62       452\n",
      "\n",
      "    accuracy                           0.73      1292\n",
      "   macro avg       0.74      0.71      0.69      1292\n",
      "weighted avg       0.77      0.73      0.72      1292\n",
      "\n"
     ]
    }
   ],
   "source": [
    "L1=model1.predict(testing_padded12)\n",
    "L2=model2.predict(testing_padded12)\n",
    "L3=model3.predict(testing_padded12)\n",
    "\n",
    "for i in range(len(L1)):\n",
    "  if (L1[i]<0.5):\n",
    "    L1[i]=0\n",
    "  else:\n",
    "    L1[i]=1\n",
    "  if (L2[i]<0.5):\n",
    "    L2[i]=0\n",
    "  else:\n",
    "    L2[i]=1\n",
    "  if (L3[i]<0.5):\n",
    "    L3[i]=0\n",
    "  else:\n",
    "    L3[i]=1\n",
    "P=[]\n",
    "for i in range(len(L1)):\n",
    "  P.append(str(int(L1[i][0]))+str(int(L2[i][0]))+str(int(L3[i][0])))\n",
    "\n",
    "pred=[]\n",
    "for i in range(len(P)):\n",
    "  if (min(min(hamming_distance(P[i],'110'),hamming_distance(P[i],'101')),hamming_distance(P[i],'011'))==hamming_distance(P[i],'110')):\n",
    "    pred.append(0)\n",
    "  elif (min(min(hamming_distance(P[i],'110'),hamming_distance(P[i],'101')),hamming_distance(P[i],'011'))==hamming_distance(P[i],'101')):\n",
    "    pred.append(1)\n",
    "  else:\n",
    "    pred.append(2)\n",
    "\n",
    "\n",
    "cm = confusion_matrix(testing_labels12, pred)\n",
    "print(\"For the Ensemblist methode: \\n\",cm)\n",
    "print(classification_report(testing_labels12, pred, labels=[0,1,2]))"
   ]
  },
  {
   "cell_type": "code",
   "execution_count": 38,
   "metadata": {
    "colab": {
     "base_uri": "https://localhost:8080/"
    },
    "id": "y3z0RzeILVi8",
    "outputId": "ae7d7d04-1955-4ae0-fe79-623c7f4a7be9"
   },
   "outputs": [
    {
     "name": "stdout",
     "output_type": "stream",
     "text": [
      "For the Ensemblist methode: \n",
      " [[ 519    0    7]\n",
      " [   0    7    0]\n",
      " [  30    1 1276]]\n",
      "              precision    recall  f1-score   support\n",
      "\n",
      "           0       0.95      0.99      0.97       526\n",
      "           1       0.88      1.00      0.93         7\n",
      "           2       0.99      0.98      0.99      1307\n",
      "\n",
      "    accuracy                           0.98      1840\n",
      "   macro avg       0.94      0.99      0.96      1840\n",
      "weighted avg       0.98      0.98      0.98      1840\n",
      "\n"
     ]
    }
   ],
   "source": [
    "L1=model1.predict(testing_padded34)\n",
    "L2=model2.predict(testing_padded34)\n",
    "L3=model3.predict(testing_padded34)\n",
    "\n",
    "for i in range(len(L1)):\n",
    "  if (L1[i]<0.5):\n",
    "    L1[i]=0\n",
    "  else:\n",
    "    L1[i]=1\n",
    "  if (L2[i]<0.5):\n",
    "    L2[i]=0\n",
    "  else:\n",
    "    L2[i]=1\n",
    "  if (L3[i]<0.5):\n",
    "    L3[i]=0\n",
    "  else:\n",
    "    L3[i]=1\n",
    "P=[]\n",
    "for i in range(len(L1)):\n",
    "  P.append(str(int(L1[i][0]))+str(int(L2[i][0]))+str(int(L3[i][0])))\n",
    "\n",
    "pred=[]\n",
    "for i in range(len(P)):\n",
    "  if (min(min(hamming_distance(P[i],'110'),hamming_distance(P[i],'101')),hamming_distance(P[i],'011'))==hamming_distance(P[i],'110')):\n",
    "    pred.append(0)\n",
    "  elif (min(min(hamming_distance(P[i],'110'),hamming_distance(P[i],'101')),hamming_distance(P[i],'011'))==hamming_distance(P[i],'101')):\n",
    "    pred.append(1)\n",
    "  else:\n",
    "    pred.append(2)\n",
    "\n",
    "\n",
    "cm = confusion_matrix(testing_labels34, pred)\n",
    "print(\"For the Ensemblist methode: \\n\",cm)\n",
    "print(classification_report(testing_labels34, pred, labels=[0,1,2]))"
   ]
  }
 ],
 "metadata": {
  "accelerator": "GPU",
  "colab": {
   "authorship_tag": "ABX9TyOe14tI71IEDXailGdwiqia",
   "include_colab_link": true,
   "name": "CCKProject Ensemblist Methode08.ipynb",
   "provenance": []
  },
  "gpuClass": "standard",
  "kernelspec": {
   "display_name": "Python 3 (ipykernel)",
   "language": "python",
   "name": "python3"
  },
  "language_info": {
   "codemirror_mode": {
    "name": "ipython",
    "version": 3
   },
   "file_extension": ".py",
   "mimetype": "text/x-python",
   "name": "python",
   "nbconvert_exporter": "python",
   "pygments_lexer": "ipython3",
   "version": "3.10.3"
  }
 },
 "nbformat": 4,
 "nbformat_minor": 1
}
