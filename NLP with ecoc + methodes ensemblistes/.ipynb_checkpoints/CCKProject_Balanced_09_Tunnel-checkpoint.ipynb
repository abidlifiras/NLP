{
 "cells": [
  {
   "cell_type": "markdown",
   "metadata": {
    "colab_type": "text",
    "id": "view-in-github"
   },
   "source": [
    "<a href=\"https://colab.research.google.com/github/ImenMasmoudiEm/CCKInternshipProject/blob/main/CCKProject_Balanced_09_Tunnel.ipynb\" target=\"_parent\"><img src=\"https://colab.research.google.com/assets/colab-badge.svg\" alt=\"Open In Colab\"/></a>"
   ]
  },
  {
   "cell_type": "markdown",
   "metadata": {
    "id": "Iiruy8t57ISt"
   },
   "source": [
    "# Text Classification: Primary work"
   ]
  },
  {
   "cell_type": "markdown",
   "metadata": {
    "id": "6A7gIEXP7oqV"
   },
   "source": [
    "##Connecting to drive & importing data"
   ]
  },
  {
   "cell_type": "code",
   "execution_count": 4,
   "metadata": {
    "colab": {
     "base_uri": "https://localhost:8080/"
    },
    "id": "KwJf5Jnk9iw8",
    "outputId": "c61fbe1f-10f3-47bf-a609-69648e0de212"
   },
   "outputs": [
    {
     "name": "stdout",
     "output_type": "stream",
     "text": [
      "Mounted at /content/drive\n"
     ]
    }
   ],
   "source": [
    "from google.colab import drive\n",
    "drive.mount('/content/drive')"
   ]
  },
  {
   "cell_type": "code",
   "execution_count": 5,
   "metadata": {
    "id": "u6Xmp6Sf7Ay4"
   },
   "outputs": [],
   "source": [
    "import os \n",
    "os.chdir('/content/drive/MyDrive/All/Projects/Ing Internship/Data')"
   ]
  },
  {
   "cell_type": "code",
   "execution_count": 6,
   "metadata": {
    "colab": {
     "base_uri": "https://localhost:8080/",
     "height": 424
    },
    "id": "hjV2FNxa-FDa",
    "outputId": "67aaa9a4-7a89-4863-a295-cdafc3d44af1"
   },
   "outputs": [
    {
     "data": {
      "text/html": [
       "\n",
       "  <div id=\"df-fe1c0213-479f-44c0-97b4-9d4e8167d95e\">\n",
       "    <div class=\"colab-df-container\">\n",
       "      <div>\n",
       "<style scoped>\n",
       "    .dataframe tbody tr th:only-of-type {\n",
       "        vertical-align: middle;\n",
       "    }\n",
       "\n",
       "    .dataframe tbody tr th {\n",
       "        vertical-align: top;\n",
       "    }\n",
       "\n",
       "    .dataframe thead th {\n",
       "        text-align: right;\n",
       "    }\n",
       "</style>\n",
       "<table border=\"1\" class=\"dataframe\">\n",
       "  <thead>\n",
       "    <tr style=\"text-align: right;\">\n",
       "      <th></th>\n",
       "      <th>commentaire</th>\n",
       "      <th>classe</th>\n",
       "    </tr>\n",
       "  </thead>\n",
       "  <tbody>\n",
       "    <tr>\n",
       "      <th>0</th>\n",
       "      <td>مبروك و سامحونا لعجزنا التام. عقبال اللي جوه. ...</td>\n",
       "      <td>normal</td>\n",
       "    </tr>\n",
       "    <tr>\n",
       "      <th>1</th>\n",
       "      <td>كلنا بره ومش هنبطل نزايد على العجايز الي جابون...</td>\n",
       "      <td>hate</td>\n",
       "    </tr>\n",
       "    <tr>\n",
       "      <th>2</th>\n",
       "      <td>بدل ما انت قاعد بره كده تعالي ازرع الصحرا</td>\n",
       "      <td>normal</td>\n",
       "    </tr>\n",
       "    <tr>\n",
       "      <th>3</th>\n",
       "      <td>قذر اتفووو ماتيجى مصر وتورينا نفسك كدا ياجبان</td>\n",
       "      <td>hate</td>\n",
       "    </tr>\n",
       "    <tr>\n",
       "      <th>4</th>\n",
       "      <td>وهكذا رجال الشو اللي محرومين من عمل برنامج الغ...</td>\n",
       "      <td>hate</td>\n",
       "    </tr>\n",
       "    <tr>\n",
       "      <th>...</th>\n",
       "      <td>...</td>\n",
       "      <td>...</td>\n",
       "    </tr>\n",
       "    <tr>\n",
       "      <th>23028</th>\n",
       "      <td>يلا ولا خنزير الله يرحم صدام حسين لي كان داعسكن</td>\n",
       "      <td>hate</td>\n",
       "    </tr>\n",
       "    <tr>\n",
       "      <th>23029</th>\n",
       "      <td>وبلدك سوريا لا تبغي سوا القتل والاجرام</td>\n",
       "      <td>hate</td>\n",
       "    </tr>\n",
       "    <tr>\n",
       "      <th>23030</th>\n",
       "      <td>معالي الوزير نؤمن بك دائما لأنك الدرع المنيع ف...</td>\n",
       "      <td>normal</td>\n",
       "    </tr>\n",
       "    <tr>\n",
       "      <th>23031</th>\n",
       "      <td>حياة سندي مستشارة امين عام الامم المتحدة بان ك...</td>\n",
       "      <td>normal</td>\n",
       "    </tr>\n",
       "    <tr>\n",
       "      <th>23032</th>\n",
       "      <td>انت يا جبران باسيل بعقليتك الفجة النتنة تقولرب...</td>\n",
       "      <td>hate</td>\n",
       "    </tr>\n",
       "  </tbody>\n",
       "</table>\n",
       "<p>23033 rows × 2 columns</p>\n",
       "</div>\n",
       "      <button class=\"colab-df-convert\" onclick=\"convertToInteractive('df-fe1c0213-479f-44c0-97b4-9d4e8167d95e')\"\n",
       "              title=\"Convert this dataframe to an interactive table.\"\n",
       "              style=\"display:none;\">\n",
       "        \n",
       "  <svg xmlns=\"http://www.w3.org/2000/svg\" height=\"24px\"viewBox=\"0 0 24 24\"\n",
       "       width=\"24px\">\n",
       "    <path d=\"M0 0h24v24H0V0z\" fill=\"none\"/>\n",
       "    <path d=\"M18.56 5.44l.94 2.06.94-2.06 2.06-.94-2.06-.94-.94-2.06-.94 2.06-2.06.94zm-11 1L8.5 8.5l.94-2.06 2.06-.94-2.06-.94L8.5 2.5l-.94 2.06-2.06.94zm10 10l.94 2.06.94-2.06 2.06-.94-2.06-.94-.94-2.06-.94 2.06-2.06.94z\"/><path d=\"M17.41 7.96l-1.37-1.37c-.4-.4-.92-.59-1.43-.59-.52 0-1.04.2-1.43.59L10.3 9.45l-7.72 7.72c-.78.78-.78 2.05 0 2.83L4 21.41c.39.39.9.59 1.41.59.51 0 1.02-.2 1.41-.59l7.78-7.78 2.81-2.81c.8-.78.8-2.07 0-2.86zM5.41 20L4 18.59l7.72-7.72 1.47 1.35L5.41 20z\"/>\n",
       "  </svg>\n",
       "      </button>\n",
       "      \n",
       "  <style>\n",
       "    .colab-df-container {\n",
       "      display:flex;\n",
       "      flex-wrap:wrap;\n",
       "      gap: 12px;\n",
       "    }\n",
       "\n",
       "    .colab-df-convert {\n",
       "      background-color: #E8F0FE;\n",
       "      border: none;\n",
       "      border-radius: 50%;\n",
       "      cursor: pointer;\n",
       "      display: none;\n",
       "      fill: #1967D2;\n",
       "      height: 32px;\n",
       "      padding: 0 0 0 0;\n",
       "      width: 32px;\n",
       "    }\n",
       "\n",
       "    .colab-df-convert:hover {\n",
       "      background-color: #E2EBFA;\n",
       "      box-shadow: 0px 1px 2px rgba(60, 64, 67, 0.3), 0px 1px 3px 1px rgba(60, 64, 67, 0.15);\n",
       "      fill: #174EA6;\n",
       "    }\n",
       "\n",
       "    [theme=dark] .colab-df-convert {\n",
       "      background-color: #3B4455;\n",
       "      fill: #D2E3FC;\n",
       "    }\n",
       "\n",
       "    [theme=dark] .colab-df-convert:hover {\n",
       "      background-color: #434B5C;\n",
       "      box-shadow: 0px 1px 3px 1px rgba(0, 0, 0, 0.15);\n",
       "      filter: drop-shadow(0px 1px 2px rgba(0, 0, 0, 0.3));\n",
       "      fill: #FFFFFF;\n",
       "    }\n",
       "  </style>\n",
       "\n",
       "      <script>\n",
       "        const buttonEl =\n",
       "          document.querySelector('#df-fe1c0213-479f-44c0-97b4-9d4e8167d95e button.colab-df-convert');\n",
       "        buttonEl.style.display =\n",
       "          google.colab.kernel.accessAllowed ? 'block' : 'none';\n",
       "\n",
       "        async function convertToInteractive(key) {\n",
       "          const element = document.querySelector('#df-fe1c0213-479f-44c0-97b4-9d4e8167d95e');\n",
       "          const dataTable =\n",
       "            await google.colab.kernel.invokeFunction('convertToInteractive',\n",
       "                                                     [key], {});\n",
       "          if (!dataTable) return;\n",
       "\n",
       "          const docLinkHtml = 'Like what you see? Visit the ' +\n",
       "            '<a target=\"_blank\" href=https://colab.research.google.com/notebooks/data_table.ipynb>data table notebook</a>'\n",
       "            + ' to learn more about interactive tables.';\n",
       "          element.innerHTML = '';\n",
       "          dataTable['output_type'] = 'display_data';\n",
       "          await google.colab.output.renderOutput(dataTable, element);\n",
       "          const docLink = document.createElement('div');\n",
       "          docLink.innerHTML = docLinkHtml;\n",
       "          element.appendChild(docLink);\n",
       "        }\n",
       "      </script>\n",
       "    </div>\n",
       "  </div>\n",
       "  "
      ],
      "text/plain": [
       "                                             commentaire  classe\n",
       "0      مبروك و سامحونا لعجزنا التام. عقبال اللي جوه. ...  normal\n",
       "1      كلنا بره ومش هنبطل نزايد على العجايز الي جابون...    hate\n",
       "2              بدل ما انت قاعد بره كده تعالي ازرع الصحرا  normal\n",
       "3          قذر اتفووو ماتيجى مصر وتورينا نفسك كدا ياجبان    hate\n",
       "4      وهكذا رجال الشو اللي محرومين من عمل برنامج الغ...    hate\n",
       "...                                                  ...     ...\n",
       "23028    يلا ولا خنزير الله يرحم صدام حسين لي كان داعسكن    hate\n",
       "23029            وبلدك سوريا لا تبغي سوا القتل والاجرام     hate\n",
       "23030  معالي الوزير نؤمن بك دائما لأنك الدرع المنيع ف...  normal\n",
       "23031  حياة سندي مستشارة امين عام الامم المتحدة بان ك...  normal\n",
       "23032  انت يا جبران باسيل بعقليتك الفجة النتنة تقولرب...    hate\n",
       "\n",
       "[23033 rows x 2 columns]"
      ]
     },
     "execution_count": 6,
     "metadata": {},
     "output_type": "execute_result"
    }
   ],
   "source": [
    "import pandas as pd\n",
    "data=pd.read_excel(\"/content/drive/MyDrive/All/Projects/Ing Internship/Data/final-dataset.xlsx\")\n",
    "data"
   ]
  },
  {
   "cell_type": "markdown",
   "metadata": {
    "id": "E78jh1K4ATql"
   },
   "source": [
    "##Data Preprocessing"
   ]
  },
  {
   "cell_type": "markdown",
   "metadata": {
    "id": "4WPH66dgAsdv"
   },
   "source": [
    "1/ Changing the Class into bin"
   ]
  },
  {
   "cell_type": "code",
   "execution_count": 7,
   "metadata": {
    "id": "g0G8MT47A3Z_"
   },
   "outputs": [],
   "source": [
    "data['classe']=data['classe'].replace(\"hate\", int(2))\n",
    "data['classe']=data['classe'].replace(\"normal\", int(0)) \n",
    "data['classe']=data['classe'].replace(\"abusive\", int(1))"
   ]
  },
  {
   "cell_type": "code",
   "execution_count": 8,
   "metadata": {
    "colab": {
     "base_uri": "https://localhost:8080/",
     "height": 0
    },
    "id": "1Ml3TDjMBley",
    "outputId": "68410a24-ea0e-4364-8bba-a944a3907182"
   },
   "outputs": [
    {
     "data": {
      "text/html": [
       "\n",
       "  <div id=\"df-597d2978-afef-4fa7-946c-164584da4292\">\n",
       "    <div class=\"colab-df-container\">\n",
       "      <div>\n",
       "<style scoped>\n",
       "    .dataframe tbody tr th:only-of-type {\n",
       "        vertical-align: middle;\n",
       "    }\n",
       "\n",
       "    .dataframe tbody tr th {\n",
       "        vertical-align: top;\n",
       "    }\n",
       "\n",
       "    .dataframe thead th {\n",
       "        text-align: right;\n",
       "    }\n",
       "</style>\n",
       "<table border=\"1\" class=\"dataframe\">\n",
       "  <thead>\n",
       "    <tr style=\"text-align: right;\">\n",
       "      <th></th>\n",
       "      <th>commentaire</th>\n",
       "      <th>classe</th>\n",
       "    </tr>\n",
       "  </thead>\n",
       "  <tbody>\n",
       "    <tr>\n",
       "      <th>0</th>\n",
       "      <td>مبروك و سامحونا لعجزنا التام. عقبال اللي جوه. ...</td>\n",
       "      <td>0</td>\n",
       "    </tr>\n",
       "    <tr>\n",
       "      <th>1</th>\n",
       "      <td>كلنا بره ومش هنبطل نزايد على العجايز الي جابون...</td>\n",
       "      <td>2</td>\n",
       "    </tr>\n",
       "    <tr>\n",
       "      <th>2</th>\n",
       "      <td>بدل ما انت قاعد بره كده تعالي ازرع الصحرا</td>\n",
       "      <td>0</td>\n",
       "    </tr>\n",
       "    <tr>\n",
       "      <th>3</th>\n",
       "      <td>قذر اتفووو ماتيجى مصر وتورينا نفسك كدا ياجبان</td>\n",
       "      <td>2</td>\n",
       "    </tr>\n",
       "    <tr>\n",
       "      <th>4</th>\n",
       "      <td>وهكذا رجال الشو اللي محرومين من عمل برنامج الغ...</td>\n",
       "      <td>2</td>\n",
       "    </tr>\n",
       "    <tr>\n",
       "      <th>...</th>\n",
       "      <td>...</td>\n",
       "      <td>...</td>\n",
       "    </tr>\n",
       "    <tr>\n",
       "      <th>23028</th>\n",
       "      <td>يلا ولا خنزير الله يرحم صدام حسين لي كان داعسكن</td>\n",
       "      <td>2</td>\n",
       "    </tr>\n",
       "    <tr>\n",
       "      <th>23029</th>\n",
       "      <td>وبلدك سوريا لا تبغي سوا القتل والاجرام</td>\n",
       "      <td>2</td>\n",
       "    </tr>\n",
       "    <tr>\n",
       "      <th>23030</th>\n",
       "      <td>معالي الوزير نؤمن بك دائما لأنك الدرع المنيع ف...</td>\n",
       "      <td>0</td>\n",
       "    </tr>\n",
       "    <tr>\n",
       "      <th>23031</th>\n",
       "      <td>حياة سندي مستشارة امين عام الامم المتحدة بان ك...</td>\n",
       "      <td>0</td>\n",
       "    </tr>\n",
       "    <tr>\n",
       "      <th>23032</th>\n",
       "      <td>انت يا جبران باسيل بعقليتك الفجة النتنة تقولرب...</td>\n",
       "      <td>2</td>\n",
       "    </tr>\n",
       "  </tbody>\n",
       "</table>\n",
       "<p>23033 rows × 2 columns</p>\n",
       "</div>\n",
       "      <button class=\"colab-df-convert\" onclick=\"convertToInteractive('df-597d2978-afef-4fa7-946c-164584da4292')\"\n",
       "              title=\"Convert this dataframe to an interactive table.\"\n",
       "              style=\"display:none;\">\n",
       "        \n",
       "  <svg xmlns=\"http://www.w3.org/2000/svg\" height=\"24px\"viewBox=\"0 0 24 24\"\n",
       "       width=\"24px\">\n",
       "    <path d=\"M0 0h24v24H0V0z\" fill=\"none\"/>\n",
       "    <path d=\"M18.56 5.44l.94 2.06.94-2.06 2.06-.94-2.06-.94-.94-2.06-.94 2.06-2.06.94zm-11 1L8.5 8.5l.94-2.06 2.06-.94-2.06-.94L8.5 2.5l-.94 2.06-2.06.94zm10 10l.94 2.06.94-2.06 2.06-.94-2.06-.94-.94-2.06-.94 2.06-2.06.94z\"/><path d=\"M17.41 7.96l-1.37-1.37c-.4-.4-.92-.59-1.43-.59-.52 0-1.04.2-1.43.59L10.3 9.45l-7.72 7.72c-.78.78-.78 2.05 0 2.83L4 21.41c.39.39.9.59 1.41.59.51 0 1.02-.2 1.41-.59l7.78-7.78 2.81-2.81c.8-.78.8-2.07 0-2.86zM5.41 20L4 18.59l7.72-7.72 1.47 1.35L5.41 20z\"/>\n",
       "  </svg>\n",
       "      </button>\n",
       "      \n",
       "  <style>\n",
       "    .colab-df-container {\n",
       "      display:flex;\n",
       "      flex-wrap:wrap;\n",
       "      gap: 12px;\n",
       "    }\n",
       "\n",
       "    .colab-df-convert {\n",
       "      background-color: #E8F0FE;\n",
       "      border: none;\n",
       "      border-radius: 50%;\n",
       "      cursor: pointer;\n",
       "      display: none;\n",
       "      fill: #1967D2;\n",
       "      height: 32px;\n",
       "      padding: 0 0 0 0;\n",
       "      width: 32px;\n",
       "    }\n",
       "\n",
       "    .colab-df-convert:hover {\n",
       "      background-color: #E2EBFA;\n",
       "      box-shadow: 0px 1px 2px rgba(60, 64, 67, 0.3), 0px 1px 3px 1px rgba(60, 64, 67, 0.15);\n",
       "      fill: #174EA6;\n",
       "    }\n",
       "\n",
       "    [theme=dark] .colab-df-convert {\n",
       "      background-color: #3B4455;\n",
       "      fill: #D2E3FC;\n",
       "    }\n",
       "\n",
       "    [theme=dark] .colab-df-convert:hover {\n",
       "      background-color: #434B5C;\n",
       "      box-shadow: 0px 1px 3px 1px rgba(0, 0, 0, 0.15);\n",
       "      filter: drop-shadow(0px 1px 2px rgba(0, 0, 0, 0.3));\n",
       "      fill: #FFFFFF;\n",
       "    }\n",
       "  </style>\n",
       "\n",
       "      <script>\n",
       "        const buttonEl =\n",
       "          document.querySelector('#df-597d2978-afef-4fa7-946c-164584da4292 button.colab-df-convert');\n",
       "        buttonEl.style.display =\n",
       "          google.colab.kernel.accessAllowed ? 'block' : 'none';\n",
       "\n",
       "        async function convertToInteractive(key) {\n",
       "          const element = document.querySelector('#df-597d2978-afef-4fa7-946c-164584da4292');\n",
       "          const dataTable =\n",
       "            await google.colab.kernel.invokeFunction('convertToInteractive',\n",
       "                                                     [key], {});\n",
       "          if (!dataTable) return;\n",
       "\n",
       "          const docLinkHtml = 'Like what you see? Visit the ' +\n",
       "            '<a target=\"_blank\" href=https://colab.research.google.com/notebooks/data_table.ipynb>data table notebook</a>'\n",
       "            + ' to learn more about interactive tables.';\n",
       "          element.innerHTML = '';\n",
       "          dataTable['output_type'] = 'display_data';\n",
       "          await google.colab.output.renderOutput(dataTable, element);\n",
       "          const docLink = document.createElement('div');\n",
       "          docLink.innerHTML = docLinkHtml;\n",
       "          element.appendChild(docLink);\n",
       "        }\n",
       "      </script>\n",
       "    </div>\n",
       "  </div>\n",
       "  "
      ],
      "text/plain": [
       "                                             commentaire  classe\n",
       "0      مبروك و سامحونا لعجزنا التام. عقبال اللي جوه. ...       0\n",
       "1      كلنا بره ومش هنبطل نزايد على العجايز الي جابون...       2\n",
       "2              بدل ما انت قاعد بره كده تعالي ازرع الصحرا       0\n",
       "3          قذر اتفووو ماتيجى مصر وتورينا نفسك كدا ياجبان       2\n",
       "4      وهكذا رجال الشو اللي محرومين من عمل برنامج الغ...       2\n",
       "...                                                  ...     ...\n",
       "23028    يلا ولا خنزير الله يرحم صدام حسين لي كان داعسكن       2\n",
       "23029            وبلدك سوريا لا تبغي سوا القتل والاجرام        2\n",
       "23030  معالي الوزير نؤمن بك دائما لأنك الدرع المنيع ف...       0\n",
       "23031  حياة سندي مستشارة امين عام الامم المتحدة بان ك...       0\n",
       "23032  انت يا جبران باسيل بعقليتك الفجة النتنة تقولرب...       2\n",
       "\n",
       "[23033 rows x 2 columns]"
      ]
     },
     "execution_count": 8,
     "metadata": {},
     "output_type": "execute_result"
    }
   ],
   "source": [
    "data"
   ]
  },
  {
   "cell_type": "code",
   "execution_count": 9,
   "metadata": {
    "colab": {
     "base_uri": "https://localhost:8080/",
     "height": 0
    },
    "id": "QWAQiWYVAzQN",
    "outputId": "aa5dc4f1-6720-4b87-be56-f0ec5c679dd9"
   },
   "outputs": [
    {
     "data": {
      "image/png": "[encoded data removed]",
      "text/plain": [
       "<Figure size 1080x360 with 1 Axes>"
      ]
     },
     "metadata": {
      "needs_background": "light"
     },
     "output_type": "display_data"
    }
   ],
   "source": [
    "import matplotlib.pyplot as plt\n",
    "import seaborn as sns\n",
    "plt.figure(1 , figsize = (15 , 5))\n",
    "sns.countplot(y = 'classe' , data = data)\n",
    "plt.show()"
   ]
  },
  {
   "cell_type": "code",
   "execution_count": 10,
   "metadata": {
    "colab": {
     "base_uri": "https://localhost:8080/"
    },
    "id": "mWndFEOiC4pP",
    "outputId": "be611ec7-e490-4328-b7bb-cd8159f3d925"
   },
   "outputs": [
    {
     "name": "stdout",
     "output_type": "stream",
     "text": [
      "classe\n",
      "0    12353\n",
      "Name: classe, dtype: int64\n",
      "classe\n",
      "1    3850\n",
      "Name: classe, dtype: int64\n",
      "classe\n",
      "2    6830\n",
      "Name: classe, dtype: int64\n"
     ]
    }
   ],
   "source": [
    "print(data.loc[data.classe==0].groupby('classe')[\"classe\"].count())\n",
    "print(data.loc[data.classe==1].groupby('classe')[\"classe\"].count())\n",
    "print(data.loc[data.classe==2].groupby('classe')[\"classe\"].count())"
   ]
  },
  {
   "cell_type": "markdown",
   "metadata": {
    "id": "nWDDcwDwA32H"
   },
   "source": [
    "2/ NLP Data Preparations: Data Balancing"
   ]
  },
  {
   "cell_type": "code",
   "execution_count": 11,
   "metadata": {
    "id": "BgMfbCVpBAOB"
   },
   "outputs": [],
   "source": [
    "from tensorflow.keras.preprocessing.text import Tokenizer\n",
    "from tensorflow.keras.preprocessing.sequence import pad_sequences\n",
    "import numpy as np\n",
    "\n",
    "sentences = data['commentaire']\n",
    "labels = data['classe']\n",
    "\n",
    "labels = [int(i) for i in labels]"
   ]
  },
  {
   "cell_type": "code",
   "execution_count": 12,
   "metadata": {
    "id": "Vp_qjUMwT6PI"
   },
   "outputs": [],
   "source": [
    "i=0\n",
    "c=0\n",
    "Nlables=[]\n",
    "Nsentences=[]\n",
    "\n",
    "while (c<5500):\n",
    "  if (labels[i]!= 0):\n",
    "    Nlables.append(labels[i])\n",
    "    Nsentences.append(sentences[i])\n",
    "  else:\n",
    "    c+=1\n",
    "  i+=1\n",
    "while (i<len(labels)):\n",
    "  Nlables.append(labels[i])\n",
    "  Nsentences.append(sentences[i])\n",
    "  i+=1\n",
    "\n",
    "sentences=[str(i) for i in sentences]\n",
    "\n",
    "i=0\n",
    "c=0\n",
    "\n",
    "while (c<3000):\n",
    "  if (Nlables[i]==1):\n",
    "    Nlables.append(Nlables[i])\n",
    "    Nsentences.append(Nsentences[i])\n",
    "    c+=1\n",
    "  i+=1"
   ]
  },
  {
   "cell_type": "code",
   "execution_count": 13,
   "metadata": {
    "colab": {
     "base_uri": "https://localhost:8080/",
     "height": 0
    },
    "id": "zQgP6WSIbrNm",
    "outputId": "e869a1be-f2d7-4eb4-dbed-a1281cc19419"
   },
   "outputs": [
    {
     "data": {
      "text/html": [
       "\n",
       "  <div id=\"df-55ca455b-2758-4bcf-a9d0-97090a15876e\">\n",
       "    <div class=\"colab-df-container\">\n",
       "      <div>\n",
       "<style scoped>\n",
       "    .dataframe tbody tr th:only-of-type {\n",
       "        vertical-align: middle;\n",
       "    }\n",
       "\n",
       "    .dataframe tbody tr th {\n",
       "        vertical-align: top;\n",
       "    }\n",
       "\n",
       "    .dataframe thead th {\n",
       "        text-align: right;\n",
       "    }\n",
       "</style>\n",
       "<table border=\"1\" class=\"dataframe\">\n",
       "  <thead>\n",
       "    <tr style=\"text-align: right;\">\n",
       "      <th></th>\n",
       "      <th>sentences</th>\n",
       "      <th>classe</th>\n",
       "    </tr>\n",
       "  </thead>\n",
       "  <tbody>\n",
       "    <tr>\n",
       "      <th>0</th>\n",
       "      <td>كلنا بره ومش هنبطل نزايد على العجايز الي جابون...</td>\n",
       "      <td>2</td>\n",
       "    </tr>\n",
       "    <tr>\n",
       "      <th>1</th>\n",
       "      <td>قذر اتفووو ماتيجى مصر وتورينا نفسك كدا ياجبان</td>\n",
       "      <td>2</td>\n",
       "    </tr>\n",
       "    <tr>\n",
       "      <th>2</th>\n",
       "      <td>وهكذا رجال الشو اللي محرومين من عمل برنامج الغ...</td>\n",
       "      <td>2</td>\n",
       "    </tr>\n",
       "    <tr>\n",
       "      <th>3</th>\n",
       "      <td>أنت أزاي لبؤة كدة ؟</td>\n",
       "      <td>1</td>\n",
       "    </tr>\n",
       "    <tr>\n",
       "      <th>4</th>\n",
       "      <td>دول عبيد باسم !! انت ما تعرفش غير ستات كده يعن...</td>\n",
       "      <td>2</td>\n",
       "    </tr>\n",
       "    <tr>\n",
       "      <th>...</th>\n",
       "      <td>...</td>\n",
       "      <td>...</td>\n",
       "    </tr>\n",
       "    <tr>\n",
       "      <th>20528</th>\n",
       "      <td>انت حمار وابن حمار وابن ابن حمار</td>\n",
       "      <td>1</td>\n",
       "    </tr>\n",
       "    <tr>\n",
       "      <th>20529</th>\n",
       "      <td>يلعن روحك يا هنية على هالتصريح الصرّحتو</td>\n",
       "      <td>1</td>\n",
       "    </tr>\n",
       "    <tr>\n",
       "      <th>20530</th>\n",
       "      <td>بيكفيكن عهر</td>\n",
       "      <td>1</td>\n",
       "    </tr>\n",
       "    <tr>\n",
       "      <th>20531</th>\n",
       "      <td>كل عمري إسمع عن أعور الدجيل و حمار</td>\n",
       "      <td>1</td>\n",
       "    </tr>\n",
       "    <tr>\n",
       "      <th>20532</th>\n",
       "      <td>انت الزمن الخرى لجابك كلب ابن كلب</td>\n",
       "      <td>1</td>\n",
       "    </tr>\n",
       "  </tbody>\n",
       "</table>\n",
       "<p>20533 rows × 2 columns</p>\n",
       "</div>\n",
       "      <button class=\"colab-df-convert\" onclick=\"convertToInteractive('df-55ca455b-2758-4bcf-a9d0-97090a15876e')\"\n",
       "              title=\"Convert this dataframe to an interactive table.\"\n",
       "              style=\"display:none;\">\n",
       "        \n",
       "  <svg xmlns=\"http://www.w3.org/2000/svg\" height=\"24px\"viewBox=\"0 0 24 24\"\n",
       "       width=\"24px\">\n",
       "    <path d=\"M0 0h24v24H0V0z\" fill=\"none\"/>\n",
       "    <path d=\"M18.56 5.44l.94 2.06.94-2.06 2.06-.94-2.06-.94-.94-2.06-.94 2.06-2.06.94zm-11 1L8.5 8.5l.94-2.06 2.06-.94-2.06-.94L8.5 2.5l-.94 2.06-2.06.94zm10 10l.94 2.06.94-2.06 2.06-.94-2.06-.94-.94-2.06-.94 2.06-2.06.94z\"/><path d=\"M17.41 7.96l-1.37-1.37c-.4-.4-.92-.59-1.43-.59-.52 0-1.04.2-1.43.59L10.3 9.45l-7.72 7.72c-.78.78-.78 2.05 0 2.83L4 21.41c.39.39.9.59 1.41.59.51 0 1.02-.2 1.41-.59l7.78-7.78 2.81-2.81c.8-.78.8-2.07 0-2.86zM5.41 20L4 18.59l7.72-7.72 1.47 1.35L5.41 20z\"/>\n",
       "  </svg>\n",
       "      </button>\n",
       "      \n",
       "  <style>\n",
       "    .colab-df-container {\n",
       "      display:flex;\n",
       "      flex-wrap:wrap;\n",
       "      gap: 12px;\n",
       "    }\n",
       "\n",
       "    .colab-df-convert {\n",
       "      background-color: #E8F0FE;\n",
       "      border: none;\n",
       "      border-radius: 50%;\n",
       "      cursor: pointer;\n",
       "      display: none;\n",
       "      fill: #1967D2;\n",
       "      height: 32px;\n",
       "      padding: 0 0 0 0;\n",
       "      width: 32px;\n",
       "    }\n",
       "\n",
       "    .colab-df-convert:hover {\n",
       "      background-color: #E2EBFA;\n",
       "      box-shadow: 0px 1px 2px rgba(60, 64, 67, 0.3), 0px 1px 3px 1px rgba(60, 64, 67, 0.15);\n",
       "      fill: #174EA6;\n",
       "    }\n",
       "\n",
       "    [theme=dark] .colab-df-convert {\n",
       "      background-color: #3B4455;\n",
       "      fill: #D2E3FC;\n",
       "    }\n",
       "\n",
       "    [theme=dark] .colab-df-convert:hover {\n",
       "      background-color: #434B5C;\n",
       "      box-shadow: 0px 1px 3px 1px rgba(0, 0, 0, 0.15);\n",
       "      filter: drop-shadow(0px 1px 2px rgba(0, 0, 0, 0.3));\n",
       "      fill: #FFFFFF;\n",
       "    }\n",
       "  </style>\n",
       "\n",
       "      <script>\n",
       "        const buttonEl =\n",
       "          document.querySelector('#df-55ca455b-2758-4bcf-a9d0-97090a15876e button.colab-df-convert');\n",
       "        buttonEl.style.display =\n",
       "          google.colab.kernel.accessAllowed ? 'block' : 'none';\n",
       "\n",
       "        async function convertToInteractive(key) {\n",
       "          const element = document.querySelector('#df-55ca455b-2758-4bcf-a9d0-97090a15876e');\n",
       "          const dataTable =\n",
       "            await google.colab.kernel.invokeFunction('convertToInteractive',\n",
       "                                                     [key], {});\n",
       "          if (!dataTable) return;\n",
       "\n",
       "          const docLinkHtml = 'Like what you see? Visit the ' +\n",
       "            '<a target=\"_blank\" href=https://colab.research.google.com/notebooks/data_table.ipynb>data table notebook</a>'\n",
       "            + ' to learn more about interactive tables.';\n",
       "          element.innerHTML = '';\n",
       "          dataTable['output_type'] = 'display_data';\n",
       "          await google.colab.output.renderOutput(dataTable, element);\n",
       "          const docLink = document.createElement('div');\n",
       "          docLink.innerHTML = docLinkHtml;\n",
       "          element.appendChild(docLink);\n",
       "        }\n",
       "      </script>\n",
       "    </div>\n",
       "  </div>\n",
       "  "
      ],
      "text/plain": [
       "                                               sentences  classe\n",
       "0      كلنا بره ومش هنبطل نزايد على العجايز الي جابون...       2\n",
       "1          قذر اتفووو ماتيجى مصر وتورينا نفسك كدا ياجبان       2\n",
       "2      وهكذا رجال الشو اللي محرومين من عمل برنامج الغ...       2\n",
       "3                                   أنت أزاي لبؤة كدة ؟        1\n",
       "4      دول عبيد باسم !! انت ما تعرفش غير ستات كده يعن...       2\n",
       "...                                                  ...     ...\n",
       "20528                   انت حمار وابن حمار وابن ابن حمار       1\n",
       "20529            يلعن روحك يا هنية على هالتصريح الصرّحتو       1\n",
       "20530                                        بيكفيكن عهر       1\n",
       "20531                 كل عمري إسمع عن أعور الدجيل و حمار       1\n",
       "20532                  انت الزمن الخرى لجابك كلب ابن كلب       1\n",
       "\n",
       "[20533 rows x 2 columns]"
      ]
     },
     "execution_count": 13,
     "metadata": {},
     "output_type": "execute_result"
    }
   ],
   "source": [
    "import pandas as pd\n",
    "\n",
    "data=[[i,j] for i,j in zip(Nsentences , Nlables)]\n",
    "\n",
    "data=pd.DataFrame(data,columns=[\"sentences\",\"classe\"])\n",
    "\n",
    "data"
   ]
  },
  {
   "cell_type": "code",
   "execution_count": 14,
   "metadata": {
    "colab": {
     "base_uri": "https://localhost:8080/",
     "height": 0
    },
    "id": "Fz8P60LwbLjI",
    "outputId": "d7d7fcad-98d9-4820-b61e-1ae978680a21"
   },
   "outputs": [
    {
     "data": {
      "image/png": "[encoded data removed]",
      "text/plain": [
       "<Figure size 1080x360 with 1 Axes>"
      ]
     },
     "metadata": {
      "needs_background": "light"
     },
     "output_type": "display_data"
    }
   ],
   "source": [
    "import matplotlib.pyplot as plt\n",
    "import seaborn as sns\n",
    "plt.figure(1 , figsize = (15 , 5))\n",
    "sns.countplot(y = 'classe' , data = data)\n",
    "plt.show()"
   ]
  },
  {
   "cell_type": "code",
   "execution_count": 15,
   "metadata": {
    "colab": {
     "base_uri": "https://localhost:8080/"
    },
    "id": "A37mvaVcD-ji",
    "outputId": "a0e0f9d2-4aa8-40ea-85e1-13037a143b77"
   },
   "outputs": [
    {
     "data": {
      "text/plain": [
       "207"
      ]
     },
     "execution_count": 15,
     "metadata": {},
     "output_type": "execute_result"
    }
   ],
   "source": [
    "#Figure out the longest comment\n",
    "\n",
    "def count_words(input):\n",
    "  return len(input.split())\n",
    "max_length=count_words(max(Nsentences,key=count_words))\n",
    "max_length"
   ]
  },
  {
   "cell_type": "markdown",
   "metadata": {
    "id": "cCJNbJcEzes_"
   },
   "source": [
    "#Importing extra data"
   ]
  },
  {
   "cell_type": "code",
   "execution_count": 16,
   "metadata": {
    "id": "lJ4ViTx6zc-7"
   },
   "outputs": [],
   "source": [
    "data12=pd.read_excel(\"/content/drive/MyDrive/All/Projects/Ing Internship/Data/dataset1and2.xlsx\")\n",
    "data34=pd.read_excel(\"/content/drive/MyDrive/All/Projects/Ing Internship/Data/dataset3and4.xlsx\")\n",
    "data5=pd.read_excel(\"/content/drive/MyDrive/All/Projects/Ing Internship/Data/D5.xlsx\")\n",
    "\n",
    "data12['classe']=data12['classe'].replace(\"hate\", int(2))\n",
    "data12['classe']=data12['classe'].replace(\"normal\", int(0)) \n",
    "data12['classe']=data12['classe'].replace(\"abusive\", int(1))\n",
    "\n",
    "data34['classe']=data34['classe'].replace(\"hate\", int(2))\n",
    "data34['classe']=data34['classe'].replace(\"normal\", int(0)) \n",
    "data34['classe']=data34['classe'].replace(\"abusive\", int(1))\n",
    "\n",
    "\n",
    "data5['classe']=data5['classe'].replace(\"hate\", int(2))\n",
    "data5['classe']=data5['classe'].replace(\"normal\", int(0)) \n",
    "data5['classe']=data5['classe'].replace(\"abusive\", int(1))\n",
    "\n",
    "\n",
    "C1=data12[\"commentaire\"]\n",
    "C2=data34[\"commentaire\"]\n",
    "C3=data5[\"commentaire\"]\n",
    "L1=data12[\"classe\"]\n",
    "L2=data34[\"classe\"]\n",
    "L3=data5[\"classe\"]\n",
    "\n",
    "\n",
    "data12=[[i,j] for i,j in zip(C1 , L1)]\n",
    "data34=[[i,j] for i,j in zip(C2 , L2)]\n",
    "data5=[[i,j] for i,j in zip(C3 , L3)]\n",
    "\n",
    "data12=pd.DataFrame(data12,columns=[\"sentences\",\"classe\"])\n",
    "data34=pd.DataFrame(data34,columns=[\"sentences\",\"classe\"])\n",
    "data5=pd.DataFrame(data5,columns=[\"sentences\",\"classe\"])"
   ]
  },
  {
   "cell_type": "code",
   "execution_count": 17,
   "metadata": {
    "id": "YEFxuA6H0gMb"
   },
   "outputs": [],
   "source": [
    "data5[\"sentences\"]=data5[\"sentences\"].str.replace(\"_\",\" \")"
   ]
  },
  {
   "cell_type": "code",
   "execution_count": 18,
   "metadata": {
    "colab": {
     "base_uri": "https://localhost:8080/",
     "height": 0
    },
    "id": "IhOSM1XP17Oy",
    "outputId": "d128e4e4-80d3-4340-94a5-577397a97b22"
   },
   "outputs": [
    {
     "data": {
      "application/vnd.google.colaboratory.intrinsic+json": {
       "type": "string"
      },
      "text/plain": [
       "'\"#أزهى عصور المسخره  هل ضيعت \"شيما\" محافظ بورسعيد؟\"'"
      ]
     },
     "execution_count": 18,
     "metadata": {},
     "output_type": "execute_result"
    }
   ],
   "source": [
    "data5[\"sentences\"][1097]"
   ]
  },
  {
   "cell_type": "code",
   "execution_count": 19,
   "metadata": {
    "colab": {
     "base_uri": "https://localhost:8080/",
     "height": 0
    },
    "id": "15BM6cRP0Wrl",
    "outputId": "301a119f-5def-4f21-97eb-b339028996d3"
   },
   "outputs": [
    {
     "data": {
      "image/png": "[encoded data removed]",
      "text/plain": [
       "<Figure size 1080x360 with 1 Axes>"
      ]
     },
     "metadata": {
      "needs_background": "light"
     },
     "output_type": "display_data"
    },
    {
     "name": "stdout",
     "output_type": "stream",
     "text": [
      "classe\n",
      "0    3857\n",
      "Name: classe, dtype: int64\n",
      "classe\n",
      "1    1204\n",
      "Name: classe, dtype: int64\n",
      "classe\n",
      "2    1399\n",
      "Name: classe, dtype: int64\n"
     ]
    }
   ],
   "source": [
    "plt.figure(1 , figsize = (15 , 5))\n",
    "sns.countplot(y = 'classe' , data = data12)\n",
    "plt.show()\n",
    "print(data12.loc[data12.classe==0].groupby('classe')[\"classe\"].count())\n",
    "print(data12.loc[data12.classe==1].groupby('classe')[\"classe\"].count())\n",
    "print(data12.loc[data12.classe==2].groupby('classe')[\"classe\"].count())"
   ]
  },
  {
   "cell_type": "code",
   "execution_count": 20,
   "metadata": {
    "colab": {
     "base_uri": "https://localhost:8080/",
     "height": 0
    },
    "id": "OOiCKJ4y1I5T",
    "outputId": "86bfef19-2a82-43ea-d788-4e6c3879238b"
   },
   "outputs": [
    {
     "data": {
      "image/png": "[encoded data removed]",
      "text/plain": [
       "<Figure size 1080x360 with 1 Axes>"
      ]
     },
     "metadata": {
      "needs_background": "light"
     },
     "output_type": "display_data"
    },
    {
     "name": "stdout",
     "output_type": "stream",
     "text": [
      "classe\n",
      "0    4565\n",
      "Name: classe, dtype: int64\n",
      "classe\n",
      "1    1746\n",
      "Name: classe, dtype: int64\n",
      "classe\n",
      "2    2885\n",
      "Name: classe, dtype: int64\n"
     ]
    }
   ],
   "source": [
    "plt.figure(1 , figsize = (15 , 5))\n",
    "sns.countplot(y = 'classe' , data = data34)\n",
    "plt.show()\n",
    "print(data34.loc[data34.classe==0].groupby('classe')[\"classe\"].count())\n",
    "print(data34.loc[data34.classe==1].groupby('classe')[\"classe\"].count())\n",
    "print(data34.loc[data34.classe==2].groupby('classe')[\"classe\"].count())"
   ]
  },
  {
   "cell_type": "markdown",
   "metadata": {
    "id": "qbiHzGSbw8sE"
   },
   "source": [
    "##The way that the computers percieve words and phrases is diffrent from the way that we preceve it as human beings. There are a veriety of ways for us that we can utilise to program the data type that we have and to make it numerical so that the model can get some meaning out of it. We call this part encoding text.\n",
    "##we can transfor each alphabet and caracter to it's ASCII Code, but this approach wasn't proven to give great results [To Research] !!!\n",
    "#What I did in the code was: Continus or distributed Embeddings Vectors representation:\n",
    "* First: Build a dictionary of tokens: I defined a dictionnary That has the words as keys and a unique number as a value\n",
    "* I then changed all of the phrases into Lists that has integers that indicate which word is in that particular place\n",
    "* Use One-Hot Vector\n",
    "\n",
    "##After doing this process, we have a numerical data that the model can use to get some meaning out of the labels"
   ]
  },
  {
   "cell_type": "code",
   "execution_count": 21,
   "metadata": {
    "id": "FrNFMsATGjbL"
   },
   "outputs": [],
   "source": [
    "training_size=int(len(Nsentences)*0.9)   #Experimenting setup\n",
    "\n",
    "training_sentences = Nsentences[0:training_size]\n",
    "testing_sentences = Nsentences[training_size:]\n",
    "training_labels = Nlables[0:training_size]\n",
    "testing_labels = Nlables[training_size:]\n",
    "\n",
    "embedding_dim = 16\n",
    "\n",
    "tokenizer = Tokenizer(num_words=3000, oov_token=\"<OOV>\")\n",
    "tokenizer.fit_on_texts(training_sentences)\n",
    "\n",
    "vocab_size = len(tokenizer.word_index) + 1 \n",
    "\n",
    "word_index = tokenizer.word_index\n",
    "\n",
    "training_sequences = tokenizer.texts_to_sequences(training_sentences)\n",
    "training_padded = pad_sequences(training_sequences, maxlen=max_length, padding='post', truncating='post')\n",
    "\n",
    "testing_sequences = tokenizer.texts_to_sequences(testing_sentences)\n",
    "testing_padded = pad_sequences(testing_sequences, maxlen=max_length, padding='post', truncating='post')"
   ]
  },
  {
   "cell_type": "code",
   "execution_count": 22,
   "metadata": {
    "colab": {
     "base_uri": "https://localhost:8080/"
    },
    "id": "GCD5XHrK8HaL",
    "outputId": "1f1e87d2-a219-432c-f1b3-047a9c6165ef"
   },
   "outputs": [
    {
     "data": {
      "text/plain": [
       "40175"
      ]
     },
     "execution_count": 22,
     "metadata": {},
     "output_type": "execute_result"
    }
   ],
   "source": [
    "vocab_size"
   ]
  },
  {
   "cell_type": "code",
   "execution_count": 23,
   "metadata": {
    "colab": {
     "base_uri": "https://localhost:8080/"
    },
    "id": "PB3wZKaR8MXq",
    "outputId": "b58c156a-66f7-453f-d96f-000f5f5f612b"
   },
   "outputs": [
    {
     "data": {
      "text/plain": [
       "40174"
      ]
     },
     "execution_count": 23,
     "metadata": {},
     "output_type": "execute_result"
    }
   ],
   "source": [
    "len(word_index)"
   ]
  },
  {
   "cell_type": "code",
   "execution_count": 24,
   "metadata": {
    "id": "mkUjHchx4FaT"
   },
   "outputs": [],
   "source": [
    "Nsentences12=data12[\"sentences\"]\n",
    "Nlabels12=data12[\"classe\"]\n",
    "\n",
    "training_size12=int(len(Nsentences12)*0.8)\n",
    "\n",
    "testing_sentences12 = Nsentences12[training_size12:]\n",
    "testing_labels12 = Nlabels12[training_size12:]\n",
    "\n",
    "##########\n",
    "\n",
    "Nsentences34=data34[\"sentences\"]\n",
    "Nlabels34=data34[\"classe\"]\n",
    "\n",
    "training_size34=int(len(Nsentences34)*0.8)\n",
    "\n",
    "testing_sentences34 = Nsentences34[training_size34:]\n",
    "testing_labels34 = Nlabels34[training_size34:]\n",
    "\n",
    "##########\n",
    "\n",
    "Nsentences5=data5[\"sentences\"]\n",
    "Nlabels5=data5[\"classe\"]\n",
    "\n",
    "training_size5=int(len(Nsentences5)*0.8)\n",
    "\n",
    "testing_sentences5 = Nsentences34[training_size5:]\n",
    "testing_labels5 = Nlabels34[training_size5:]"
   ]
  },
  {
   "cell_type": "code",
   "execution_count": 25,
   "metadata": {
    "colab": {
     "base_uri": "https://localhost:8080/"
    },
    "id": "NPn7XcNo5qUy",
    "outputId": "85ec611c-98e1-4f0f-f369-97e9d02570c4"
   },
   "outputs": [
    {
     "data": {
      "text/plain": [
       "206"
      ]
     },
     "execution_count": 25,
     "metadata": {},
     "output_type": "execute_result"
    }
   ],
   "source": [
    "max_length12=count_words(max(testing_sentences12,key=count_words))\n",
    "max_length12"
   ]
  },
  {
   "cell_type": "code",
   "execution_count": 26,
   "metadata": {
    "colab": {
     "base_uri": "https://localhost:8080/"
    },
    "id": "5FkaUBXI60-_",
    "outputId": "2491dd37-0eff-4a21-d4b4-c9a3ab18fee7"
   },
   "outputs": [
    {
     "data": {
      "text/plain": [
       "29"
      ]
     },
     "execution_count": 26,
     "metadata": {},
     "output_type": "execute_result"
    }
   ],
   "source": [
    "max_length34=count_words(max(testing_sentences34,key=count_words))\n",
    "max_length34"
   ]
  },
  {
   "cell_type": "code",
   "execution_count": 27,
   "metadata": {
    "colab": {
     "base_uri": "https://localhost:8080/"
    },
    "id": "BzkNojMI17FG",
    "outputId": "0584bdcc-44ee-4a2b-d2ba-9715ae247d13"
   },
   "outputs": [
    {
     "data": {
      "text/plain": [
       "52"
      ]
     },
     "execution_count": 27,
     "metadata": {},
     "output_type": "execute_result"
    }
   ],
   "source": [
    "max_length5=count_words(max(testing_sentences5,key=count_words))\n",
    "max_length5"
   ]
  },
  {
   "cell_type": "markdown",
   "metadata": {
    "id": "AFubPmEL7Qrh"
   },
   "source": [
    "###The Maximum length in the new data is less than 207, so we can padd them without losing information."
   ]
  },
  {
   "cell_type": "code",
   "execution_count": 28,
   "metadata": {
    "id": "e0p6r_d_7O58"
   },
   "outputs": [],
   "source": [
    "testing_sequences12 = tokenizer.texts_to_sequences(testing_sentences12)\n",
    "testing_padded12 = pad_sequences(testing_sequences12, maxlen=max_length, padding='post', truncating='post')\n",
    "\n",
    "###########\n",
    "\n",
    "testing_sequences34 = tokenizer.texts_to_sequences(testing_sentences34)\n",
    "testing_padded34 = pad_sequences(testing_sequences34, maxlen=max_length, padding='post', truncating='post')\n",
    "\n",
    "###########\n",
    "\n",
    "testing_sequences5 = tokenizer.texts_to_sequences(testing_sentences5)\n",
    "testing_padded5 = pad_sequences(testing_sequences5, maxlen=max_length, padding='post', truncating='post')"
   ]
  },
  {
   "cell_type": "markdown",
   "metadata": {
    "id": "TzmCjIfYBA8G"
   },
   "source": [
    "#Modelling"
   ]
  },
  {
   "cell_type": "markdown",
   "metadata": {
    "id": "-CRh9Gqc7KxQ"
   },
   "source": [
    "##For The First Model"
   ]
  },
  {
   "cell_type": "code",
   "execution_count": 64,
   "metadata": {
    "colab": {
     "base_uri": "https://localhost:8080/"
    },
    "id": "attb9Ze4BGlm",
    "outputId": "048705aa-ffa7-4daf-af7d-a4dbb029d4e9"
   },
   "outputs": [
    {
     "name": "stdout",
     "output_type": "stream",
     "text": [
      "Model: \"sequential_4\"\n",
      "_________________________________________________________________\n",
      " Layer (type)                Output Shape              Param #   \n",
      "=================================================================\n",
      " embedding_4 (Embedding)     (None, 207, 16)           642800    \n",
      "                                                                 \n",
      " conv1d_3 (Conv1D)           (None, 203, 128)          10368     \n",
      "                                                                 \n",
      " conv1d_4 (Conv1D)           (None, 203, 32)           4128      \n",
      "                                                                 \n",
      " bidirectional_5 (Bidirectio  (None, 203, 64)          16640     \n",
      " nal)                                                            \n",
      "                                                                 \n",
      " bidirectional_6 (Bidirectio  (None, 203, 64)          24832     \n",
      " nal)                                                            \n",
      "                                                                 \n",
      " bidirectional_7 (Bidirectio  (None, 203, 32)          10368     \n",
      " nal)                                                            \n",
      "                                                                 \n",
      " flatten_4 (Flatten)         (None, 6496)              0         \n",
      "                                                                 \n",
      " dense_8 (Dense)             (None, 24)                155928    \n",
      "                                                                 \n",
      " dense_9 (Dense)             (None, 3)                 75        \n",
      "                                                                 \n",
      "=================================================================\n",
      "Total params: 865,139\n",
      "Trainable params: 865,139\n",
      "Non-trainable params: 0\n",
      "_________________________________________________________________\n"
     ]
    }
   ],
   "source": [
    "import tensorflow as tf\n",
    "\n",
    "model=tf.keras.models.Sequential ([\n",
    "                                   tf.keras.layers.Embedding(vocab_size, embedding_dim, input_length=max_length),\n",
    "                                   tf.keras.layers.Conv1D(128, 5, activation='relu'),\n",
    "                                   tf.keras.layers.Conv1D(filters=32, kernel_size=1, activation='selu'),\n",
    "                                   tf.keras.layers.Bidirectional(tf.keras.layers.LSTM(32,return_sequences=True)),\n",
    "                                   tf.keras.layers.Bidirectional(tf.keras.layers.LSTM(32,return_sequences=True)),\n",
    "                                   tf.keras.layers.Bidirectional(tf.keras.layers.LSTM(16,return_sequences=True)),\n",
    "                                   tf.keras.layers.Flatten(),\n",
    "                                   tf.keras.layers.Dense(units=24,activation='relu'),\n",
    "                                   tf.keras.layers.Dense(units=3, activation='softmax')])\n",
    "model.summary()"
   ]
  },
  {
   "cell_type": "code",
   "execution_count": 65,
   "metadata": {
    "colab": {
     "base_uri": "https://localhost:8080/"
    },
    "id": "YK8y9kQFL5T5",
    "outputId": "5961dcd0-a6f3-47de-9422-a5859a524fd7"
   },
   "outputs": [
    {
     "name": "stdout",
     "output_type": "stream",
     "text": [
      "Epoch 1/50\n"
     ]
    },
    {
     "name": "stderr",
     "output_type": "stream",
     "text": [
      "/usr/local/lib/python3.7/dist-packages/ipykernel_launcher.py:4: DeprecationWarning: `np.int` is a deprecated alias for the builtin `int`. To silence this warning, use `int` by itself. Doing this will not modify any behavior and is safe. When replacing `np.int`, you may wish to use e.g. `np.int64` or `np.int32` to specify the precision. If you wish to review your current use, check the release note link for additional information.\n",
      "Deprecated in NumPy 1.20; for more details and guidance: https://numpy.org/devdocs/release/1.20.0-notes.html#deprecations\n",
      "  after removing the cwd from sys.path.\n",
      "/usr/local/lib/python3.7/dist-packages/ipykernel_launcher.py:5: DeprecationWarning: `np.int` is a deprecated alias for the builtin `int`. To silence this warning, use `int` by itself. Doing this will not modify any behavior and is safe. When replacing `np.int`, you may wish to use e.g. `np.int64` or `np.int32` to specify the precision. If you wish to review your current use, check the release note link for additional information.\n",
      "Deprecated in NumPy 1.20; for more details and guidance: https://numpy.org/devdocs/release/1.20.0-notes.html#deprecations\n",
      "  \"\"\"\n",
      "/usr/local/lib/python3.7/dist-packages/ipykernel_launcher.py:6: DeprecationWarning: `np.int` is a deprecated alias for the builtin `int`. To silence this warning, use `int` by itself. Doing this will not modify any behavior and is safe. When replacing `np.int`, you may wish to use e.g. `np.int64` or `np.int32` to specify the precision. If you wish to review your current use, check the release note link for additional information.\n",
      "Deprecated in NumPy 1.20; for more details and guidance: https://numpy.org/devdocs/release/1.20.0-notes.html#deprecations\n",
      "  \n",
      "/usr/local/lib/python3.7/dist-packages/ipykernel_launcher.py:7: DeprecationWarning: `np.int` is a deprecated alias for the builtin `int`. To silence this warning, use `int` by itself. Doing this will not modify any behavior and is safe. When replacing `np.int`, you may wish to use e.g. `np.int64` or `np.int32` to specify the precision. If you wish to review your current use, check the release note link for additional information.\n",
      "Deprecated in NumPy 1.20; for more details and guidance: https://numpy.org/devdocs/release/1.20.0-notes.html#deprecations\n",
      "  import sys\n"
     ]
    },
    {
     "name": "stdout",
     "output_type": "stream",
     "text": [
      "145/145 [==============================] - 15s 103ms/step - loss: 0.9065 - accuracy: 0.5372 - val_loss: 1.0243 - val_accuracy: 0.5175\n",
      "Epoch 2/50\n",
      "145/145 [==============================] - 16s 110ms/step - loss: 0.6090 - accuracy: 0.7520 - val_loss: 0.8391 - val_accuracy: 0.6290\n",
      "Epoch 3/50\n",
      "145/145 [==============================] - 16s 107ms/step - loss: 0.4628 - accuracy: 0.8198 - val_loss: 0.7141 - val_accuracy: 0.6938\n",
      "Epoch 4/50\n",
      "145/145 [==============================] - 15s 107ms/step - loss: 0.3838 - accuracy: 0.8528 - val_loss: 0.5125 - val_accuracy: 0.8053\n",
      "Epoch 5/50\n",
      "145/145 [==============================] - 15s 106ms/step - loss: 0.3332 - accuracy: 0.8787 - val_loss: 0.3120 - val_accuracy: 0.8982\n",
      "Epoch 6/50\n",
      "145/145 [==============================] - 15s 103ms/step - loss: 0.2880 - accuracy: 0.8921 - val_loss: 0.3231 - val_accuracy: 0.8729\n",
      "Epoch 7/50\n",
      "145/145 [==============================] - 15s 105ms/step - loss: 0.2616 - accuracy: 0.9046 - val_loss: 0.3660 - val_accuracy: 0.8574\n",
      "Epoch 8/50\n",
      "145/145 [==============================] - 15s 103ms/step - loss: 0.2329 - accuracy: 0.9149 - val_loss: 0.4904 - val_accuracy: 0.8033\n",
      "Epoch 9/50\n",
      "145/145 [==============================] - 15s 107ms/step - loss: 0.2091 - accuracy: 0.9221 - val_loss: 0.2880 - val_accuracy: 0.8783\n",
      "Epoch 10/50\n",
      "145/145 [==============================] - 15s 105ms/step - loss: 0.1943 - accuracy: 0.9291 - val_loss: 0.2506 - val_accuracy: 0.8934\n",
      "Epoch 11/50\n",
      "145/145 [==============================] - 16s 108ms/step - loss: 0.1825 - accuracy: 0.9309 - val_loss: 0.1930 - val_accuracy: 0.9445\n",
      "Epoch 12/50\n",
      "145/145 [==============================] - 16s 111ms/step - loss: 0.1660 - accuracy: 0.9357 - val_loss: 0.1990 - val_accuracy: 0.9104\n",
      "Epoch 13/50\n",
      "145/145 [==============================] - 16s 110ms/step - loss: 0.1597 - accuracy: 0.9378 - val_loss: 0.1596 - val_accuracy: 0.9387\n",
      "Epoch 14/50\n",
      "145/145 [==============================] - 16s 108ms/step - loss: 0.1527 - accuracy: 0.9411 - val_loss: 0.1535 - val_accuracy: 0.9562\n",
      "Epoch 15/50\n",
      "145/145 [==============================] - 15s 104ms/step - loss: 0.1444 - accuracy: 0.9411 - val_loss: 0.2350 - val_accuracy: 0.9129\n",
      "Epoch 16/50\n",
      "145/145 [==============================] - 15s 103ms/step - loss: 0.1343 - accuracy: 0.9450 - val_loss: 0.2045 - val_accuracy: 0.9343\n",
      "Epoch 17/50\n",
      "145/145 [==============================] - 15s 105ms/step - loss: 0.1292 - accuracy: 0.9451 - val_loss: 0.1523 - val_accuracy: 0.9289\n",
      "Epoch 18/50\n",
      "145/145 [==============================] - 16s 107ms/step - loss: 0.1256 - accuracy: 0.9461 - val_loss: 0.1242 - val_accuracy: 0.9328\n",
      "Epoch 19/50\n",
      "145/145 [==============================] - 16s 111ms/step - loss: 0.1242 - accuracy: 0.9470 - val_loss: 0.2298 - val_accuracy: 0.8929\n",
      "Epoch 20/50\n",
      "145/145 [==============================] - 15s 105ms/step - loss: 0.1249 - accuracy: 0.9471 - val_loss: 0.2283 - val_accuracy: 0.9070\n",
      "Epoch 21/50\n",
      "145/145 [==============================] - 16s 108ms/step - loss: 0.1172 - accuracy: 0.9494 - val_loss: 0.1587 - val_accuracy: 0.9177\n",
      "Epoch 22/50\n",
      "145/145 [==============================] - 16s 108ms/step - loss: 0.1148 - accuracy: 0.9482 - val_loss: 0.1842 - val_accuracy: 0.9299\n",
      "Epoch 23/50\n",
      "145/145 [==============================] - 16s 108ms/step - loss: 0.1171 - accuracy: 0.9470 - val_loss: 0.1222 - val_accuracy: 0.9542\n",
      "Epoch 24/50\n",
      "145/145 [==============================] - 15s 106ms/step - loss: 0.1095 - accuracy: 0.9495 - val_loss: 0.1252 - val_accuracy: 0.9382\n",
      "Epoch 25/50\n",
      "145/145 [==============================] - 15s 105ms/step - loss: 0.1093 - accuracy: 0.9508 - val_loss: 0.1542 - val_accuracy: 0.9474\n",
      "Epoch 26/50\n",
      "145/145 [==============================] - 16s 108ms/step - loss: 0.1059 - accuracy: 0.9502 - val_loss: 0.1059 - val_accuracy: 0.9581\n",
      "Epoch 27/50\n",
      "145/145 [==============================] - 17s 115ms/step - loss: 0.1051 - accuracy: 0.9523 - val_loss: 0.1094 - val_accuracy: 0.9508\n",
      "Epoch 28/50\n",
      "145/145 [==============================] - 15s 104ms/step - loss: 0.1034 - accuracy: 0.9519 - val_loss: 0.1343 - val_accuracy: 0.9518\n",
      "Epoch 29/50\n",
      "145/145 [==============================] - 16s 109ms/step - loss: 0.0983 - accuracy: 0.9534 - val_loss: 0.1159 - val_accuracy: 0.9455\n",
      "Epoch 30/50\n",
      "145/145 [==============================] - 15s 104ms/step - loss: 0.0963 - accuracy: 0.9537 - val_loss: 0.1585 - val_accuracy: 0.9221\n",
      "Epoch 31/50\n",
      "145/145 [==============================] - 16s 108ms/step - loss: 0.0930 - accuracy: 0.9538 - val_loss: 0.1347 - val_accuracy: 0.9294\n",
      "Epoch 32/50\n",
      "145/145 [==============================] - 15s 104ms/step - loss: 0.0928 - accuracy: 0.9548 - val_loss: 0.1028 - val_accuracy: 0.9513\n",
      "Epoch 33/50\n",
      "145/145 [==============================] - 15s 105ms/step - loss: 0.0965 - accuracy: 0.9537 - val_loss: 0.1276 - val_accuracy: 0.9416\n",
      "Epoch 34/50\n",
      "145/145 [==============================] - 16s 108ms/step - loss: 0.1094 - accuracy: 0.9485 - val_loss: 0.2498 - val_accuracy: 0.8846\n",
      "Epoch 35/50\n",
      "145/145 [==============================] - 16s 114ms/step - loss: 0.0950 - accuracy: 0.9523 - val_loss: 0.1122 - val_accuracy: 0.9464\n",
      "Epoch 36/50\n",
      "145/145 [==============================] - 15s 103ms/step - loss: 0.1012 - accuracy: 0.9505 - val_loss: 0.1414 - val_accuracy: 0.9391\n",
      "Epoch 37/50\n",
      "145/145 [==============================] - 16s 108ms/step - loss: 0.0878 - accuracy: 0.9558 - val_loss: 0.0961 - val_accuracy: 0.9586\n",
      "Epoch 38/50\n",
      "145/145 [==============================] - 15s 104ms/step - loss: 0.0835 - accuracy: 0.9576 - val_loss: 0.1445 - val_accuracy: 0.9167\n",
      "Epoch 39/50\n",
      "145/145 [==============================] - 15s 105ms/step - loss: 0.0853 - accuracy: 0.9555 - val_loss: 0.1122 - val_accuracy: 0.9435\n",
      "Epoch 40/50\n",
      "145/145 [==============================] - 16s 107ms/step - loss: 0.0849 - accuracy: 0.9545 - val_loss: 0.1034 - val_accuracy: 0.9630\n",
      "Epoch 41/50\n",
      "145/145 [==============================] - 16s 108ms/step - loss: 0.0855 - accuracy: 0.9547 - val_loss: 0.1124 - val_accuracy: 0.9508\n",
      "Epoch 42/50\n",
      "145/145 [==============================] - 16s 107ms/step - loss: 0.0844 - accuracy: 0.9554 - val_loss: 0.1279 - val_accuracy: 0.9255\n",
      "Epoch 43/50\n",
      "145/145 [==============================] - 16s 111ms/step - loss: 0.0857 - accuracy: 0.9558 - val_loss: 0.1174 - val_accuracy: 0.9411\n",
      "Epoch 44/50\n",
      "145/145 [==============================] - 16s 108ms/step - loss: 0.0823 - accuracy: 0.9568 - val_loss: 0.1131 - val_accuracy: 0.9338\n",
      "Epoch 45/50\n",
      "145/145 [==============================] - 16s 109ms/step - loss: 0.0826 - accuracy: 0.9559 - val_loss: 0.1198 - val_accuracy: 0.9362\n",
      "Epoch 46/50\n",
      "145/145 [==============================] - 15s 104ms/step - loss: 0.0779 - accuracy: 0.9586 - val_loss: 0.1068 - val_accuracy: 0.9430\n",
      "Epoch 47/50\n",
      "145/145 [==============================] - 15s 104ms/step - loss: 0.0774 - accuracy: 0.9588 - val_loss: 0.1072 - val_accuracy: 0.9494\n",
      "Epoch 48/50\n",
      "145/145 [==============================] - 15s 103ms/step - loss: 0.0763 - accuracy: 0.9578 - val_loss: 0.1062 - val_accuracy: 0.9523\n",
      "Epoch 49/50\n",
      "145/145 [==============================] - 16s 107ms/step - loss: 0.0798 - accuracy: 0.9572 - val_loss: 0.1254 - val_accuracy: 0.9372\n",
      "Epoch 50/50\n",
      "145/145 [==============================] - 16s 108ms/step - loss: 0.0808 - accuracy: 0.9568 - val_loss: 0.0951 - val_accuracy: 0.9533\n"
     ]
    }
   ],
   "source": [
    "#For the First Model\n",
    "model.compile(loss=\"sparse_categorical_crossentropy\",optimizer='adam',metrics=['accuracy'],run_eagerly=True)\n",
    "\n",
    "training_padded = np.asarray(training_padded).astype(np.int)\n",
    "training_labels = np.asarray(training_labels).astype(np.int)\n",
    "testing_padded = np.asarray(testing_padded).astype(np.int)\n",
    "testing_labels = np.asarray(testing_labels).astype(np.int)\n",
    "\n",
    "#training_padded = np.expand_dims(training_padded, axis=1)\n",
    "training_labels = np.expand_dims(training_labels, axis=1)\n",
    "#testing_padded = np.expand_dims(testing_padded, axis=1)\n",
    "testing_labels = np.expand_dims(testing_labels, axis=1)\n",
    "\n",
    "history = model.fit(training_padded, training_labels, batch_size=128, epochs=50, validation_data=(testing_padded, testing_labels), verbose=1)"
   ]
  },
  {
   "cell_type": "code",
   "execution_count": null,
   "metadata": {
    "id": "87O-L-vRBuy-"
   },
   "outputs": [],
   "source": [
    "#Epoch 50/50\n",
    "#129/129 [==============================] - 17s 131ms/step - loss: 0.0800 - accuracy: 0.9551 - val_loss: 0.1488 - val_accuracy: 0.9221\n",
    "#Epoch 2/2\n",
    "#129/129 [==============================] - 14s 111ms/step - loss: 0.0793 - accuracy: 0.9576 - val_loss: 0.1594 - val_accuracy: 0.9425"
   ]
  },
  {
   "cell_type": "code",
   "execution_count": 67,
   "metadata": {
    "id": "vFcGBuccVWcd"
   },
   "outputs": [],
   "source": [
    "model.save('Model1Balanced09.h5')"
   ]
  },
  {
   "cell_type": "code",
   "execution_count": 29,
   "metadata": {
    "id": "DOVHd3BrErUO"
   },
   "outputs": [],
   "source": [
    "import tensorflow as tf\n",
    "model=tf.keras.models.load_model(\"/content/drive/MyDrive/All/Projects/Ing Internship/Data/Model1Balanced09.h5\")"
   ]
  },
  {
   "cell_type": "code",
   "execution_count": 28,
   "metadata": {
    "colab": {
     "base_uri": "https://localhost:8080/",
     "height": 1000
    },
    "id": "fpzHswneMSZv",
    "outputId": "3e8d1c7c-06ef-4d5d-8df6-55904f745120"
   },
   "outputs": [
    {
     "data": {
      "image/png": "[encoded data removed]",
      "text/plain": [
       "<IPython.core.display.Image object>"
      ]
     },
     "execution_count": 28,
     "metadata": {},
     "output_type": "execute_result"
    }
   ],
   "source": [
    "tf.keras.utils.plot_model(model, show_shapes=True)"
   ]
  },
  {
   "cell_type": "code",
   "execution_count": 30,
   "metadata": {
    "colab": {
     "base_uri": "https://localhost:8080/"
    },
    "id": "ctfA3AV-NbFv",
    "outputId": "e61d5c1f-72b2-4f2f-ff55-3f4fde69824a"
   },
   "outputs": [
    {
     "name": "stdout",
     "output_type": "stream",
     "text": [
      "[[   0    0    0]\n",
      " [  29 1958   67]\n",
      " [   0    0    0]]\n",
      "              precision    recall  f1-score   support\n",
      "\n",
      "           0       0.00      0.00      0.00         0\n",
      "           1       1.00      0.95      0.98      2054\n",
      "           2       0.00      0.00      0.00         0\n",
      "\n",
      "    accuracy                           0.95      2054\n",
      "   macro avg       0.33      0.32      0.33      2054\n",
      "weighted avg       1.00      0.95      0.98      2054\n",
      "\n"
     ]
    },
    {
     "name": "stderr",
     "output_type": "stream",
     "text": [
      "/usr/local/lib/python3.7/dist-packages/sklearn/metrics/_classification.py:1318: UndefinedMetricWarning: Recall and F-score are ill-defined and being set to 0.0 in labels with no true samples. Use `zero_division` parameter to control this behavior.\n",
      "  _warn_prf(average, modifier, msg_start, len(result))\n",
      "/usr/local/lib/python3.7/dist-packages/sklearn/metrics/_classification.py:1318: UndefinedMetricWarning: Recall and F-score are ill-defined and being set to 0.0 in labels with no true samples. Use `zero_division` parameter to control this behavior.\n",
      "  _warn_prf(average, modifier, msg_start, len(result))\n",
      "/usr/local/lib/python3.7/dist-packages/sklearn/metrics/_classification.py:1318: UndefinedMetricWarning: Recall and F-score are ill-defined and being set to 0.0 in labels with no true samples. Use `zero_division` parameter to control this behavior.\n",
      "  _warn_prf(average, modifier, msg_start, len(result))\n"
     ]
    }
   ],
   "source": [
    "from sklearn.metrics import confusion_matrix\n",
    "from sklearn.metrics import classification_report\n",
    "import numpy as np\n",
    "\n",
    "pred=model.predict(testing_padded)\n",
    "rounded_labels1=np.argmax(pred, axis=1).astype(int)\n",
    "cm = confusion_matrix(testing_labels, rounded_labels1)\n",
    "print(cm)\n",
    "print(classification_report(testing_labels, rounded_labels1, labels=[0,1,2]))"
   ]
  },
  {
   "cell_type": "code",
   "execution_count": 62,
   "metadata": {
    "colab": {
     "base_uri": "https://localhost:8080/"
    },
    "id": "XP0QbLyyJiJl",
    "outputId": "5b1c22fa-a2b2-4311-8f47-d0e8fe975798"
   },
   "outputs": [
    {
     "name": "stdout",
     "output_type": "stream",
     "text": [
      "[[260 141 186]\n",
      " [  5 223  25]\n",
      " [  8 181 263]]\n",
      "              precision    recall  f1-score   support\n",
      "\n",
      "           0       0.95      0.44      0.60       587\n",
      "           1       0.41      0.88      0.56       253\n",
      "           2       0.55      0.58      0.57       452\n",
      "\n",
      "    accuracy                           0.58      1292\n",
      "   macro avg       0.64      0.64      0.58      1292\n",
      "weighted avg       0.71      0.58      0.58      1292\n",
      "\n"
     ]
    }
   ],
   "source": [
    "pred12=model.predict(testing_padded12)\n",
    "rounded_labels112=np.argmax(pred12, axis=1).astype(int)\n",
    "cm12 = confusion_matrix(testing_labels12, rounded_labels112)\n",
    "print(cm12)\n",
    "print(classification_report(testing_labels12, rounded_labels112, labels=[0,1,2]))"
   ]
  },
  {
   "cell_type": "code",
   "execution_count": 31,
   "metadata": {
    "colab": {
     "base_uri": "https://localhost:8080/"
    },
    "id": "xKHQnnggJ3PJ",
    "outputId": "75032a45-7d6b-44b3-9ff2-e85d969c155d"
   },
   "outputs": [
    {
     "name": "stdout",
     "output_type": "stream",
     "text": [
      "[[  69   16  441]\n",
      " [   0    7    0]\n",
      " [   1    3 1303]]\n",
      "              precision    recall  f1-score   support\n",
      "\n",
      "           0       0.99      0.13      0.23       526\n",
      "           1       0.27      1.00      0.42         7\n",
      "           2       0.75      1.00      0.85      1307\n",
      "\n",
      "    accuracy                           0.75      1840\n",
      "   macro avg       0.67      0.71      0.50      1840\n",
      "weighted avg       0.81      0.75      0.67      1840\n",
      "\n"
     ]
    }
   ],
   "source": [
    "pred34=model.predict(testing_padded34)\n",
    "rounded_labels134=np.argmax(pred34, axis=1).astype(int)\n",
    "cm34 = confusion_matrix(testing_labels34, rounded_labels134)\n",
    "print(cm34)\n",
    "print(classification_report(testing_labels34, rounded_labels134, labels=[0,1,2]))"
   ]
  },
  {
   "cell_type": "code",
   "execution_count": 32,
   "metadata": {
    "colab": {
     "base_uri": "https://localhost:8080/"
    },
    "id": "8noH9-BkMA7s",
    "outputId": "ee5cc654-dd61-41ec-a9e6-de5a243808bf"
   },
   "outputs": [
    {
     "name": "stdout",
     "output_type": "stream",
     "text": [
      "[[2894  119 1022]\n",
      " [ 279  532  643]\n",
      " [  62  143 2622]]\n",
      "              precision    recall  f1-score   support\n",
      "\n",
      "           0       0.89      0.72      0.80      4035\n",
      "           1       0.67      0.37      0.47      1454\n",
      "           2       0.61      0.93      0.74      2827\n",
      "\n",
      "    accuracy                           0.73      8316\n",
      "   macro avg       0.73      0.67      0.67      8316\n",
      "weighted avg       0.76      0.73      0.72      8316\n",
      "\n"
     ]
    }
   ],
   "source": [
    "pred5=model.predict(testing_padded5)\n",
    "rounded_labels15=np.argmax(pred5, axis=1).astype(int)\n",
    "cm5 = confusion_matrix(testing_labels5, rounded_labels15)\n",
    "print(cm5)\n",
    "print(classification_report(testing_labels5, rounded_labels15, labels=[0,1,2]))"
   ]
  },
  {
   "cell_type": "code",
   "execution_count": 36,
   "metadata": {
    "colab": {
     "base_uri": "https://localhost:8080/",
     "height": 573
    },
    "id": "QXLyKWWv58Qd",
    "outputId": "8a485e70-2406-4622-81f8-5424b06e9331"
   },
   "outputs": [
    {
     "data": {
      "image/png": "[encoded data removed]",
      "text/plain": [
       "<Figure size 432x288 with 1 Axes>"
      ]
     },
     "metadata": {
      "needs_background": "light"
     },
     "output_type": "display_data"
    },
    {
     "data": {
      "image/png": "[encoded data removed]",
      "text/plain": [
       "<Figure size 432x288 with 1 Axes>"
      ]
     },
     "metadata": {
      "needs_background": "light"
     },
     "output_type": "display_data"
    }
   ],
   "source": [
    "import matplotlib.pyplot as plt\n",
    "import numpy\n",
    "# summarize history for accuracy\n",
    "plt.plot(history.history['loss'])\n",
    "plt.plot(history.history['val_loss'])\n",
    "plt.title('model loss')\n",
    "plt.ylabel('loss')\n",
    "plt.xlabel('epoch')\n",
    "plt.legend(['train', 'test'], loc='upper left')\n",
    "plt.show()\n",
    "# summarize history for loss\n",
    "plt.plot(history.history['accuracy'])\n",
    "plt.plot(history.history['val_accuracy'])\n",
    "plt.title('model accuracy')\n",
    "plt.ylabel('accuracy')\n",
    "plt.xlabel('epoch')\n",
    "plt.legend(['train', 'test'], loc='upper left')\n",
    "plt.show()"
   ]
  },
  {
   "cell_type": "markdown",
   "metadata": {
    "id": "2DGrTNt17GKc"
   },
   "source": [
    "##For the Second Model"
   ]
  },
  {
   "cell_type": "code",
   "execution_count": 37,
   "metadata": {
    "colab": {
     "base_uri": "https://localhost:8080/"
    },
    "id": "Vsv2gTUcITR-",
    "outputId": "62aa0ccc-d58a-46ff-b7d3-a2dc6338a1a0"
   },
   "outputs": [
    {
     "name": "stdout",
     "output_type": "stream",
     "text": [
      "Model: \"sequential_1\"\n",
      "_________________________________________________________________\n",
      " Layer (type)                Output Shape              Param #   \n",
      "=================================================================\n",
      " embedding_1 (Embedding)     (None, 207, 16)           642800    \n",
      "                                                                 \n",
      " conv1d_2 (Conv1D)           (None, 203, 128)          10368     \n",
      "                                                                 \n",
      " global_max_pooling1d (Globa  (None, 128)              0         \n",
      " lMaxPooling1D)                                                  \n",
      "                                                                 \n",
      " flatten_1 (Flatten)         (None, 128)               0         \n",
      "                                                                 \n",
      " dense_2 (Dense)             (None, 24)                3096      \n",
      "                                                                 \n",
      " dense_3 (Dense)             (None, 3)                 75        \n",
      "                                                                 \n",
      "=================================================================\n",
      "Total params: 656,339\n",
      "Trainable params: 656,339\n",
      "Non-trainable params: 0\n",
      "_________________________________________________________________\n"
     ]
    }
   ],
   "source": [
    "import tensorflow as tf\n",
    "model2 = tf.keras.Sequential([\n",
    "    tf.keras.layers.Embedding(vocab_size, embedding_dim, input_length=max_length),\n",
    "    tf.keras.layers.Conv1D(128, 5, activation='relu'),\n",
    "    tf.keras.layers.GlobalMaxPooling1D(),\n",
    "    tf.keras.layers.Flatten(),\n",
    "    tf.keras.layers.Dense(24, activation='relu'),\n",
    "    tf.keras.layers.Dense(units=3, activation='softmax')\n",
    "])\n",
    "model2.summary()"
   ]
  },
  {
   "cell_type": "code",
   "execution_count": 38,
   "metadata": {
    "colab": {
     "base_uri": "https://localhost:8080/"
    },
    "id": "-edaUQlH57pA",
    "outputId": "17306059-9171-4a77-f336-cfe41e46b726"
   },
   "outputs": [
    {
     "name": "stdout",
     "output_type": "stream",
     "text": [
      "Epoch 1/50\n",
      "145/145 [==============================] - 2s 8ms/step - loss: 0.9326 - accuracy: 0.5318 - val_loss: 1.1893 - val_accuracy: 0.3262\n",
      "Epoch 2/50\n",
      "145/145 [==============================] - 1s 6ms/step - loss: 0.5504 - accuracy: 0.7864 - val_loss: 0.4950 - val_accuracy: 0.8320\n",
      "Epoch 3/50\n",
      "145/145 [==============================] - 1s 6ms/step - loss: 0.4003 - accuracy: 0.8454 - val_loss: 0.5103 - val_accuracy: 0.7887\n",
      "Epoch 4/50\n",
      "145/145 [==============================] - 1s 6ms/step - loss: 0.3389 - accuracy: 0.8735 - val_loss: 0.5025 - val_accuracy: 0.7863\n",
      "Epoch 5/50\n",
      "145/145 [==============================] - 1s 6ms/step - loss: 0.2997 - accuracy: 0.8875 - val_loss: 0.3795 - val_accuracy: 0.8432\n",
      "Epoch 6/50\n",
      "145/145 [==============================] - 1s 6ms/step - loss: 0.2682 - accuracy: 0.8995 - val_loss: 0.3650 - val_accuracy: 0.8486\n",
      "Epoch 7/50\n",
      "145/145 [==============================] - 1s 6ms/step - loss: 0.2400 - accuracy: 0.9088 - val_loss: 0.3469 - val_accuracy: 0.8637\n",
      "Epoch 8/50\n",
      "145/145 [==============================] - 1s 6ms/step - loss: 0.2163 - accuracy: 0.9176 - val_loss: 0.2741 - val_accuracy: 0.8948\n",
      "Epoch 9/50\n",
      "145/145 [==============================] - 1s 6ms/step - loss: 0.1963 - accuracy: 0.9254 - val_loss: 0.1988 - val_accuracy: 0.9284\n",
      "Epoch 10/50\n",
      "145/145 [==============================] - 1s 6ms/step - loss: 0.1807 - accuracy: 0.9318 - val_loss: 0.1920 - val_accuracy: 0.9387\n",
      "Epoch 11/50\n",
      "145/145 [==============================] - 1s 6ms/step - loss: 0.1707 - accuracy: 0.9357 - val_loss: 0.2525 - val_accuracy: 0.9012\n",
      "Epoch 12/50\n",
      "145/145 [==============================] - 1s 6ms/step - loss: 0.1563 - accuracy: 0.9370 - val_loss: 0.1747 - val_accuracy: 0.9250\n",
      "Epoch 13/50\n",
      "145/145 [==============================] - 1s 6ms/step - loss: 0.1462 - accuracy: 0.9414 - val_loss: 0.2151 - val_accuracy: 0.9158\n",
      "Epoch 14/50\n",
      "145/145 [==============================] - 1s 6ms/step - loss: 0.1406 - accuracy: 0.9422 - val_loss: 0.1511 - val_accuracy: 0.9333\n",
      "Epoch 15/50\n",
      "145/145 [==============================] - 1s 6ms/step - loss: 0.1374 - accuracy: 0.9452 - val_loss: 0.2279 - val_accuracy: 0.9060\n",
      "Epoch 16/50\n",
      "145/145 [==============================] - 1s 6ms/step - loss: 0.1297 - accuracy: 0.9464 - val_loss: 0.1190 - val_accuracy: 0.9499\n",
      "Epoch 17/50\n",
      "145/145 [==============================] - 1s 6ms/step - loss: 0.1253 - accuracy: 0.9470 - val_loss: 0.2049 - val_accuracy: 0.9138\n",
      "Epoch 18/50\n",
      "145/145 [==============================] - 1s 6ms/step - loss: 0.1224 - accuracy: 0.9491 - val_loss: 0.1782 - val_accuracy: 0.9202\n",
      "Epoch 19/50\n",
      "145/145 [==============================] - 1s 6ms/step - loss: 0.1193 - accuracy: 0.9486 - val_loss: 0.1845 - val_accuracy: 0.9163\n",
      "Epoch 20/50\n",
      "145/145 [==============================] - 1s 6ms/step - loss: 0.1174 - accuracy: 0.9498 - val_loss: 0.1836 - val_accuracy: 0.9158\n",
      "Epoch 21/50\n",
      "145/145 [==============================] - 1s 6ms/step - loss: 0.1131 - accuracy: 0.9518 - val_loss: 0.1044 - val_accuracy: 0.9576\n",
      "Epoch 22/50\n",
      "145/145 [==============================] - 1s 6ms/step - loss: 0.1109 - accuracy: 0.9506 - val_loss: 0.1112 - val_accuracy: 0.9581\n",
      "Epoch 23/50\n",
      "145/145 [==============================] - 1s 6ms/step - loss: 0.1082 - accuracy: 0.9515 - val_loss: 0.1470 - val_accuracy: 0.9309\n",
      "Epoch 24/50\n",
      "145/145 [==============================] - 1s 6ms/step - loss: 0.1061 - accuracy: 0.9536 - val_loss: 0.1630 - val_accuracy: 0.9284\n",
      "Epoch 25/50\n",
      "145/145 [==============================] - 1s 6ms/step - loss: 0.1058 - accuracy: 0.9525 - val_loss: 0.2278 - val_accuracy: 0.9060\n",
      "Epoch 26/50\n",
      "145/145 [==============================] - 1s 6ms/step - loss: 0.1050 - accuracy: 0.9536 - val_loss: 0.1369 - val_accuracy: 0.9372\n",
      "Epoch 27/50\n",
      "145/145 [==============================] - 1s 6ms/step - loss: 0.1033 - accuracy: 0.9526 - val_loss: 0.1272 - val_accuracy: 0.9401\n",
      "Epoch 28/50\n",
      "145/145 [==============================] - 1s 6ms/step - loss: 0.1029 - accuracy: 0.9539 - val_loss: 0.1109 - val_accuracy: 0.9518\n",
      "Epoch 29/50\n",
      "145/145 [==============================] - 1s 6ms/step - loss: 0.1008 - accuracy: 0.9545 - val_loss: 0.1209 - val_accuracy: 0.9411\n",
      "Epoch 30/50\n",
      "145/145 [==============================] - 1s 6ms/step - loss: 0.0990 - accuracy: 0.9545 - val_loss: 0.1399 - val_accuracy: 0.9314\n",
      "Epoch 31/50\n",
      "145/145 [==============================] - 1s 6ms/step - loss: 0.0985 - accuracy: 0.9548 - val_loss: 0.1156 - val_accuracy: 0.9411\n",
      "Epoch 32/50\n",
      "145/145 [==============================] - 1s 6ms/step - loss: 0.0994 - accuracy: 0.9546 - val_loss: 0.1381 - val_accuracy: 0.9377\n",
      "Epoch 33/50\n",
      "145/145 [==============================] - 1s 6ms/step - loss: 0.0992 - accuracy: 0.9543 - val_loss: 0.1415 - val_accuracy: 0.9318\n",
      "Epoch 34/50\n",
      "145/145 [==============================] - 1s 6ms/step - loss: 0.0963 - accuracy: 0.9547 - val_loss: 0.1588 - val_accuracy: 0.9216\n",
      "Epoch 35/50\n",
      "145/145 [==============================] - 1s 6ms/step - loss: 0.0963 - accuracy: 0.9549 - val_loss: 0.1571 - val_accuracy: 0.9279\n",
      "Epoch 36/50\n",
      "145/145 [==============================] - 1s 6ms/step - loss: 0.0946 - accuracy: 0.9549 - val_loss: 0.1174 - val_accuracy: 0.9406\n",
      "Epoch 37/50\n",
      "145/145 [==============================] - 1s 6ms/step - loss: 0.0950 - accuracy: 0.9563 - val_loss: 0.1336 - val_accuracy: 0.9421\n",
      "Epoch 38/50\n",
      "145/145 [==============================] - 1s 6ms/step - loss: 0.0949 - accuracy: 0.9544 - val_loss: 0.1378 - val_accuracy: 0.9352\n",
      "Epoch 39/50\n",
      "145/145 [==============================] - 1s 6ms/step - loss: 0.0935 - accuracy: 0.9548 - val_loss: 0.1806 - val_accuracy: 0.9187\n",
      "Epoch 40/50\n",
      "145/145 [==============================] - 1s 6ms/step - loss: 0.0937 - accuracy: 0.9554 - val_loss: 0.1047 - val_accuracy: 0.9508\n",
      "Epoch 41/50\n",
      "145/145 [==============================] - 1s 6ms/step - loss: 0.0939 - accuracy: 0.9541 - val_loss: 0.0725 - val_accuracy: 0.9669\n",
      "Epoch 42/50\n",
      "145/145 [==============================] - 1s 6ms/step - loss: 0.0932 - accuracy: 0.9563 - val_loss: 0.0801 - val_accuracy: 0.9615\n",
      "Epoch 43/50\n",
      "145/145 [==============================] - 1s 6ms/step - loss: 0.0927 - accuracy: 0.9549 - val_loss: 0.1357 - val_accuracy: 0.9328\n",
      "Epoch 44/50\n",
      "145/145 [==============================] - 1s 6ms/step - loss: 0.0903 - accuracy: 0.9561 - val_loss: 0.0824 - val_accuracy: 0.9625\n",
      "Epoch 45/50\n",
      "145/145 [==============================] - 1s 6ms/step - loss: 0.0908 - accuracy: 0.9556 - val_loss: 0.0968 - val_accuracy: 0.9542\n",
      "Epoch 46/50\n",
      "145/145 [==============================] - 1s 6ms/step - loss: 0.0918 - accuracy: 0.9561 - val_loss: 0.1474 - val_accuracy: 0.9304\n",
      "Epoch 47/50\n",
      "145/145 [==============================] - 1s 6ms/step - loss: 0.0900 - accuracy: 0.9546 - val_loss: 0.1157 - val_accuracy: 0.9426\n",
      "Epoch 48/50\n",
      "145/145 [==============================] - 1s 6ms/step - loss: 0.0901 - accuracy: 0.9562 - val_loss: 0.1475 - val_accuracy: 0.9304\n",
      "Epoch 49/50\n",
      "145/145 [==============================] - 1s 6ms/step - loss: 0.0897 - accuracy: 0.9556 - val_loss: 0.0917 - val_accuracy: 0.9562\n",
      "Epoch 50/50\n",
      "145/145 [==============================] - 1s 6ms/step - loss: 0.0891 - accuracy: 0.9567 - val_loss: 0.1549 - val_accuracy: 0.9226\n"
     ]
    }
   ],
   "source": [
    "model2.compile(loss=\"sparse_categorical_crossentropy\",optimizer='adam',metrics=['accuracy'])\n",
    "\n",
    "history = model2.fit(training_padded, training_labels, batch_size=128, epochs=50, validation_data=(testing_padded, testing_labels), verbose=1)"
   ]
  },
  {
   "cell_type": "code",
   "execution_count": null,
   "metadata": {
    "id": "ELYuX4V6V9HC"
   },
   "outputs": [],
   "source": [
    "#Epoch 50/50\n",
    "#129/129 [==============================] - 1s 6ms/step - loss: 0.0928 - accuracy: 0.9549 - val_loss: 0.1237 - val_accuracy: 0.9445"
   ]
  },
  {
   "cell_type": "code",
   "execution_count": 39,
   "metadata": {
    "id": "qV2xI0z5V6_Q"
   },
   "outputs": [],
   "source": [
    "model.save('Model2Balanced09.h5')"
   ]
  },
  {
   "cell_type": "code",
   "execution_count": 40,
   "metadata": {
    "colab": {
     "base_uri": "https://localhost:8080/",
     "height": 754
    },
    "id": "Djs_EiWq6Sc1",
    "outputId": "e75f7221-a453-4ec3-b5a1-b665bdda3484"
   },
   "outputs": [
    {
     "data": {
      "image/png": "[encoded data removed]",
      "text/plain": [
       "<IPython.core.display.Image object>"
      ]
     },
     "execution_count": 40,
     "metadata": {},
     "output_type": "execute_result"
    }
   ],
   "source": [
    "tf.keras.utils.plot_model(model2, show_shapes=True)"
   ]
  },
  {
   "cell_type": "code",
   "execution_count": 41,
   "metadata": {
    "colab": {
     "base_uri": "https://localhost:8080/"
    },
    "id": "5RAIZlNi58Ht",
    "outputId": "58c55643-3c3e-4875-ce21-6469ff5dcf91"
   },
   "outputs": [
    {
     "name": "stdout",
     "output_type": "stream",
     "text": [
      "[[   0    0    0]\n",
      " [  29 1895  130]\n",
      " [   0    0    0]]\n",
      "              precision    recall  f1-score   support\n",
      "\n",
      "           0       0.00      0.00      0.00         0\n",
      "           1       1.00      0.92      0.96      2054\n",
      "           2       0.00      0.00      0.00         0\n",
      "\n",
      "    accuracy                           0.92      2054\n",
      "   macro avg       0.33      0.31      0.32      2054\n",
      "weighted avg       1.00      0.92      0.96      2054\n",
      "\n"
     ]
    },
    {
     "name": "stderr",
     "output_type": "stream",
     "text": [
      "/usr/local/lib/python3.7/dist-packages/sklearn/metrics/_classification.py:1318: UndefinedMetricWarning: Recall and F-score are ill-defined and being set to 0.0 in labels with no true samples. Use `zero_division` parameter to control this behavior.\n",
      "  _warn_prf(average, modifier, msg_start, len(result))\n",
      "/usr/local/lib/python3.7/dist-packages/sklearn/metrics/_classification.py:1318: UndefinedMetricWarning: Recall and F-score are ill-defined and being set to 0.0 in labels with no true samples. Use `zero_division` parameter to control this behavior.\n",
      "  _warn_prf(average, modifier, msg_start, len(result))\n",
      "/usr/local/lib/python3.7/dist-packages/sklearn/metrics/_classification.py:1318: UndefinedMetricWarning: Recall and F-score are ill-defined and being set to 0.0 in labels with no true samples. Use `zero_division` parameter to control this behavior.\n",
      "  _warn_prf(average, modifier, msg_start, len(result))\n"
     ]
    }
   ],
   "source": [
    "pred1=model2.predict(testing_padded)\n",
    "\n",
    "pred11=[]\n",
    "for i in pred1:\n",
    "  if i[0]==max(i):\n",
    "    pred11.append(0)\n",
    "  elif i[1]==max(i):\n",
    "    pred11.append(1)\n",
    "  else:\n",
    "    pred11.append(2)\n",
    "#rounded_labels11=np.argmax(pred11, axis=1).astype(int)\n",
    "cm = confusion_matrix(testing_labels, pred11)\n",
    "print(cm)\n",
    "print(classification_report(testing_labels, pred11, labels=[0,1,2]))"
   ]
  },
  {
   "cell_type": "code",
   "execution_count": 42,
   "metadata": {
    "colab": {
     "base_uri": "https://localhost:8080/"
    },
    "id": "p7iWnGdoKkHJ",
    "outputId": "e29052ab-98a6-4f5b-db00-1399445c7cb1"
   },
   "outputs": [
    {
     "name": "stdout",
     "output_type": "stream",
     "text": [
      "[[277 113 197]\n",
      " [ 13 211  29]\n",
      " [ 11 171 270]]\n",
      "              precision    recall  f1-score   support\n",
      "\n",
      "           0       0.92      0.47      0.62       587\n",
      "           1       0.43      0.83      0.56       253\n",
      "           2       0.54      0.60      0.57       452\n",
      "\n",
      "    accuracy                           0.59      1292\n",
      "   macro avg       0.63      0.63      0.59      1292\n",
      "weighted avg       0.69      0.59      0.59      1292\n",
      "\n"
     ]
    }
   ],
   "source": [
    "pred12=model2.predict(testing_padded12)\n",
    "rounded_labels212=np.argmax(pred12, axis=1).astype(int)\n",
    "cm12 = confusion_matrix(testing_labels12, rounded_labels212)\n",
    "print(cm12)\n",
    "print(classification_report(testing_labels12, rounded_labels212, labels=[0,1,2]))"
   ]
  },
  {
   "cell_type": "code",
   "execution_count": 43,
   "metadata": {
    "colab": {
     "base_uri": "https://localhost:8080/"
    },
    "id": "t3trQk4OKw0Q",
    "outputId": "096c7aec-128c-4850-a578-f4258a450081"
   },
   "outputs": [
    {
     "name": "stdout",
     "output_type": "stream",
     "text": [
      "[[  73   15  438]\n",
      " [   0    7    0]\n",
      " [   4    1 1302]]\n",
      "              precision    recall  f1-score   support\n",
      "\n",
      "           0       0.95      0.14      0.24       526\n",
      "           1       0.30      1.00      0.47         7\n",
      "           2       0.75      1.00      0.85      1307\n",
      "\n",
      "    accuracy                           0.75      1840\n",
      "   macro avg       0.67      0.71      0.52      1840\n",
      "weighted avg       0.80      0.75      0.68      1840\n",
      "\n"
     ]
    }
   ],
   "source": [
    "pred34=model2.predict(testing_padded34)\n",
    "rounded_labels234=np.argmax(pred34, axis=1).astype(int)\n",
    "cm34 = confusion_matrix(testing_labels34, rounded_labels234)\n",
    "print(cm34)\n",
    "print(classification_report(testing_labels34, rounded_labels234, labels=[0,1,2]))"
   ]
  },
  {
   "cell_type": "code",
   "execution_count": 44,
   "metadata": {
    "colab": {
     "base_uri": "https://localhost:8080/"
    },
    "id": "YMHiBV5cMN_r",
    "outputId": "313799c8-c877-4dbe-8eff-ff008af0171b"
   },
   "outputs": [
    {
     "name": "stdout",
     "output_type": "stream",
     "text": [
      "[[2905   95 1035]\n",
      " [ 283  483  688]\n",
      " [  63  134 2630]]\n",
      "              precision    recall  f1-score   support\n",
      "\n",
      "           0       0.89      0.72      0.80      4035\n",
      "           1       0.68      0.33      0.45      1454\n",
      "           2       0.60      0.93      0.73      2827\n",
      "\n",
      "    accuracy                           0.72      8316\n",
      "   macro avg       0.73      0.66      0.66      8316\n",
      "weighted avg       0.76      0.72      0.71      8316\n",
      "\n"
     ]
    }
   ],
   "source": [
    "pred5=model2.predict(testing_padded5)\n",
    "rounded_labels25=np.argmax(pred5, axis=1).astype(int)\n",
    "cm5 = confusion_matrix(testing_labels5, rounded_labels25)\n",
    "print(cm5)\n",
    "print(classification_report(testing_labels5, rounded_labels25, labels=[0,1,2]))"
   ]
  },
  {
   "cell_type": "code",
   "execution_count": 45,
   "metadata": {
    "colab": {
     "base_uri": "https://localhost:8080/",
     "height": 573
    },
    "id": "R2WgOyeb_PHC",
    "outputId": "b33cf443-fb01-4627-a7e5-56049c7ec4ad"
   },
   "outputs": [
    {
     "data": {
      "image/png": "[encoded data removed]",
      "text/plain": [
       "<Figure size 432x288 with 1 Axes>"
      ]
     },
     "metadata": {
      "needs_background": "light"
     },
     "output_type": "display_data"
    },
    {
     "data": {
      "image/png": "[encoded data removed]",
      "text/plain": [
       "<Figure size 432x288 with 1 Axes>"
      ]
     },
     "metadata": {
      "needs_background": "light"
     },
     "output_type": "display_data"
    }
   ],
   "source": [
    "import matplotlib.pyplot as plt\n",
    "import numpy\n",
    "# summarize history for accuracy\n",
    "plt.plot(history.history['loss'])\n",
    "plt.plot(history.history['val_loss'])\n",
    "plt.title('model loss')\n",
    "plt.ylabel('loss')\n",
    "plt.xlabel('epoch')\n",
    "plt.legend(['train', 'test'], loc='upper left')\n",
    "plt.show()\n",
    "# summarize history for loss\n",
    "plt.plot(history.history['accuracy'])\n",
    "plt.plot(history.history['val_accuracy'])\n",
    "plt.title('model accuracy')\n",
    "plt.ylabel('accuracy')\n",
    "plt.xlabel('epoch')\n",
    "plt.legend(['train', 'test'], loc='upper left')\n",
    "plt.show()"
   ]
  },
  {
   "cell_type": "markdown",
   "metadata": {
    "id": "FRfELBgw7A3Z"
   },
   "source": [
    "##For The Third Model"
   ]
  },
  {
   "cell_type": "code",
   "execution_count": 58,
   "metadata": {
    "colab": {
     "base_uri": "https://localhost:8080/"
    },
    "id": "JvX2b2nORvKS",
    "outputId": "c08ae736-9050-4265-e664-6586da20a55a"
   },
   "outputs": [
    {
     "name": "stdout",
     "output_type": "stream",
     "text": [
      "Model: \"sequential_3\"\n",
      "_________________________________________________________________\n",
      " Layer (type)                Output Shape              Param #   \n",
      "=================================================================\n",
      " embedding_3 (Embedding)     (None, 207, 16)           642800    \n",
      "                                                                 \n",
      " bidirectional_4 (Bidirectio  (None, 64)               12544     \n",
      " nal)                                                            \n",
      "                                                                 \n",
      " flatten_3 (Flatten)         (None, 64)                0         \n",
      "                                                                 \n",
      " dense_6 (Dense)             (None, 24)                1560      \n",
      "                                                                 \n",
      " dense_7 (Dense)             (None, 3)                 75        \n",
      "                                                                 \n",
      "=================================================================\n",
      "Total params: 656,979\n",
      "Trainable params: 656,979\n",
      "Non-trainable params: 0\n",
      "_________________________________________________________________\n"
     ]
    }
   ],
   "source": [
    "model3 = tf.keras.Sequential([\n",
    "    tf.keras.layers.Embedding(vocab_size, embedding_dim, input_length=max_length),\n",
    "    tf.keras.layers.Bidirectional(tf.keras.layers.LSTM(32)),\n",
    "    tf.keras.layers.Flatten(),\n",
    "    tf.keras.layers.Dense(24, activation='relu'),\n",
    "    tf.keras.layers.Dense(3, activation='softmax')\n",
    "])\n",
    "model3.summary()"
   ]
  },
  {
   "cell_type": "code",
   "execution_count": 59,
   "metadata": {
    "colab": {
     "base_uri": "https://localhost:8080/"
    },
    "id": "El4d_GRU6x2l",
    "outputId": "e59a97da-ccc1-43e6-d260-d30df6418cb3"
   },
   "outputs": [
    {
     "name": "stdout",
     "output_type": "stream",
     "text": [
      "Epoch 1/50\n",
      "145/145 [==============================] - 6s 24ms/step - loss: 0.9375 - accuracy: 0.5216 - val_loss: 1.0036 - val_accuracy: 0.5677\n",
      "Epoch 2/50\n",
      "145/145 [==============================] - 3s 18ms/step - loss: 0.6772 - accuracy: 0.7118 - val_loss: 0.9794 - val_accuracy: 0.5667\n",
      "Epoch 3/50\n",
      "145/145 [==============================] - 3s 18ms/step - loss: 0.5976 - accuracy: 0.7551 - val_loss: 0.7497 - val_accuracy: 0.6738\n",
      "Epoch 4/50\n",
      "145/145 [==============================] - 3s 18ms/step - loss: 0.5486 - accuracy: 0.7812 - val_loss: 0.6384 - val_accuracy: 0.7162\n",
      "Epoch 5/50\n",
      "145/145 [==============================] - 3s 18ms/step - loss: 0.4854 - accuracy: 0.8061 - val_loss: 0.6014 - val_accuracy: 0.7610\n",
      "Epoch 6/50\n",
      "145/145 [==============================] - 3s 19ms/step - loss: 0.4157 - accuracy: 0.8404 - val_loss: 0.5344 - val_accuracy: 0.7833\n",
      "Epoch 7/50\n",
      "145/145 [==============================] - 3s 18ms/step - loss: 0.3720 - accuracy: 0.8548 - val_loss: 0.4993 - val_accuracy: 0.7965\n",
      "Epoch 8/50\n",
      "145/145 [==============================] - 3s 18ms/step - loss: 0.3460 - accuracy: 0.8647 - val_loss: 0.4183 - val_accuracy: 0.8150\n",
      "Epoch 9/50\n",
      "145/145 [==============================] - 3s 18ms/step - loss: 0.3213 - accuracy: 0.8750 - val_loss: 0.3756 - val_accuracy: 0.8666\n",
      "Epoch 10/50\n",
      "145/145 [==============================] - 3s 18ms/step - loss: 0.3058 - accuracy: 0.8808 - val_loss: 0.3950 - val_accuracy: 0.8389\n",
      "Epoch 11/50\n",
      "145/145 [==============================] - 3s 18ms/step - loss: 0.2960 - accuracy: 0.8846 - val_loss: 0.3745 - val_accuracy: 0.8651\n",
      "Epoch 12/50\n",
      "145/145 [==============================] - 3s 18ms/step - loss: 0.2821 - accuracy: 0.8899 - val_loss: 0.2541 - val_accuracy: 0.9163\n",
      "Epoch 13/50\n",
      "145/145 [==============================] - 3s 18ms/step - loss: 0.2678 - accuracy: 0.8929 - val_loss: 0.3815 - val_accuracy: 0.8325\n",
      "Epoch 14/50\n",
      "145/145 [==============================] - 3s 18ms/step - loss: 0.2541 - accuracy: 0.8991 - val_loss: 0.2526 - val_accuracy: 0.9060\n",
      "Epoch 15/50\n",
      "145/145 [==============================] - 3s 18ms/step - loss: 0.2459 - accuracy: 0.9017 - val_loss: 0.2394 - val_accuracy: 0.9250\n",
      "Epoch 16/50\n",
      "145/145 [==============================] - 3s 18ms/step - loss: 0.2353 - accuracy: 0.9051 - val_loss: 0.3128 - val_accuracy: 0.8598\n",
      "Epoch 17/50\n",
      "145/145 [==============================] - 3s 18ms/step - loss: 0.2329 - accuracy: 0.9093 - val_loss: 0.2231 - val_accuracy: 0.9260\n",
      "Epoch 18/50\n",
      "145/145 [==============================] - 3s 18ms/step - loss: 0.2196 - accuracy: 0.9127 - val_loss: 0.2395 - val_accuracy: 0.9002\n",
      "Epoch 19/50\n",
      "145/145 [==============================] - 3s 18ms/step - loss: 0.2110 - accuracy: 0.9179 - val_loss: 0.2593 - val_accuracy: 0.8817\n",
      "Epoch 20/50\n",
      "145/145 [==============================] - 3s 18ms/step - loss: 0.2019 - accuracy: 0.9201 - val_loss: 0.1909 - val_accuracy: 0.9411\n",
      "Epoch 21/50\n",
      "145/145 [==============================] - 3s 18ms/step - loss: 0.1985 - accuracy: 0.9204 - val_loss: 0.1876 - val_accuracy: 0.9367\n",
      "Epoch 22/50\n",
      "145/145 [==============================] - 3s 18ms/step - loss: 0.1913 - accuracy: 0.9234 - val_loss: 0.2444 - val_accuracy: 0.8851\n",
      "Epoch 23/50\n",
      "145/145 [==============================] - 3s 18ms/step - loss: 0.1856 - accuracy: 0.9254 - val_loss: 0.2472 - val_accuracy: 0.8978\n",
      "Epoch 24/50\n",
      "145/145 [==============================] - 3s 18ms/step - loss: 0.1807 - accuracy: 0.9278 - val_loss: 0.2184 - val_accuracy: 0.9124\n",
      "Epoch 25/50\n",
      "145/145 [==============================] - 3s 18ms/step - loss: 0.1759 - accuracy: 0.9296 - val_loss: 0.1579 - val_accuracy: 0.9479\n",
      "Epoch 26/50\n",
      "145/145 [==============================] - 3s 18ms/step - loss: 0.1725 - accuracy: 0.9321 - val_loss: 0.2174 - val_accuracy: 0.9021\n",
      "Epoch 27/50\n",
      "145/145 [==============================] - 3s 18ms/step - loss: 0.1687 - accuracy: 0.9322 - val_loss: 0.1877 - val_accuracy: 0.9362\n",
      "Epoch 28/50\n",
      "145/145 [==============================] - 3s 18ms/step - loss: 0.1620 - accuracy: 0.9339 - val_loss: 0.2918 - val_accuracy: 0.8724\n",
      "Epoch 29/50\n",
      "145/145 [==============================] - 3s 18ms/step - loss: 0.1575 - accuracy: 0.9334 - val_loss: 0.1847 - val_accuracy: 0.9314\n",
      "Epoch 30/50\n",
      "145/145 [==============================] - 3s 18ms/step - loss: 0.1588 - accuracy: 0.9335 - val_loss: 0.1835 - val_accuracy: 0.9133\n",
      "Epoch 31/50\n",
      "145/145 [==============================] - 3s 18ms/step - loss: 0.1555 - accuracy: 0.9348 - val_loss: 0.1937 - val_accuracy: 0.9075\n",
      "Epoch 32/50\n",
      "145/145 [==============================] - 3s 18ms/step - loss: 0.1500 - accuracy: 0.9379 - val_loss: 0.1541 - val_accuracy: 0.9221\n",
      "Epoch 33/50\n",
      "145/145 [==============================] - 3s 18ms/step - loss: 0.1482 - accuracy: 0.9387 - val_loss: 0.1631 - val_accuracy: 0.9401\n",
      "Epoch 34/50\n",
      "145/145 [==============================] - 3s 18ms/step - loss: 0.1457 - accuracy: 0.9378 - val_loss: 0.1336 - val_accuracy: 0.9576\n",
      "Epoch 35/50\n",
      "145/145 [==============================] - 3s 18ms/step - loss: 0.1430 - accuracy: 0.9380 - val_loss: 0.1442 - val_accuracy: 0.9523\n",
      "Epoch 36/50\n",
      "145/145 [==============================] - 3s 18ms/step - loss: 0.1410 - accuracy: 0.9383 - val_loss: 0.1679 - val_accuracy: 0.9133\n",
      "Epoch 37/50\n",
      "145/145 [==============================] - 3s 18ms/step - loss: 0.1425 - accuracy: 0.9398 - val_loss: 0.1745 - val_accuracy: 0.9187\n",
      "Epoch 38/50\n",
      "145/145 [==============================] - 4s 25ms/step - loss: 0.1407 - accuracy: 0.9379 - val_loss: 0.2228 - val_accuracy: 0.8939\n",
      "Epoch 39/50\n",
      "145/145 [==============================] - 3s 19ms/step - loss: 0.1370 - accuracy: 0.9381 - val_loss: 0.1214 - val_accuracy: 0.9401\n",
      "Epoch 40/50\n",
      "145/145 [==============================] - 3s 18ms/step - loss: 0.1348 - accuracy: 0.9412 - val_loss: 0.2086 - val_accuracy: 0.9080\n",
      "Epoch 41/50\n",
      "145/145 [==============================] - 3s 18ms/step - loss: 0.1326 - accuracy: 0.9410 - val_loss: 0.1340 - val_accuracy: 0.9445\n",
      "Epoch 42/50\n",
      "145/145 [==============================] - 3s 18ms/step - loss: 0.1307 - accuracy: 0.9422 - val_loss: 0.1402 - val_accuracy: 0.9445\n",
      "Epoch 43/50\n",
      "145/145 [==============================] - 3s 18ms/step - loss: 0.1281 - accuracy: 0.9427 - val_loss: 0.1873 - val_accuracy: 0.9026\n",
      "Epoch 44/50\n",
      "145/145 [==============================] - 3s 18ms/step - loss: 0.1284 - accuracy: 0.9413 - val_loss: 0.1713 - val_accuracy: 0.9250\n",
      "Epoch 45/50\n",
      "145/145 [==============================] - 3s 18ms/step - loss: 0.1292 - accuracy: 0.9430 - val_loss: 0.2592 - val_accuracy: 0.8729\n",
      "Epoch 46/50\n",
      "145/145 [==============================] - 3s 18ms/step - loss: 0.1243 - accuracy: 0.9436 - val_loss: 0.2478 - val_accuracy: 0.8817\n",
      "Epoch 47/50\n",
      "145/145 [==============================] - 3s 18ms/step - loss: 0.1223 - accuracy: 0.9437 - val_loss: 0.2287 - val_accuracy: 0.8997\n",
      "Epoch 48/50\n",
      "145/145 [==============================] - 3s 18ms/step - loss: 0.1221 - accuracy: 0.9443 - val_loss: 0.1386 - val_accuracy: 0.9440\n",
      "Epoch 49/50\n",
      "145/145 [==============================] - 3s 18ms/step - loss: 0.1188 - accuracy: 0.9453 - val_loss: 0.1386 - val_accuracy: 0.9508\n",
      "Epoch 50/50\n",
      "145/145 [==============================] - 3s 18ms/step - loss: 0.1209 - accuracy: 0.9443 - val_loss: 0.1581 - val_accuracy: 0.9357\n"
     ]
    }
   ],
   "source": [
    "model3.compile(loss=\"sparse_categorical_crossentropy\",optimizer='adam',metrics=['accuracy'])\n",
    "history = model3.fit(training_padded, training_labels, batch_size=128, epochs=50, validation_data=(testing_padded, testing_labels), verbose=1)"
   ]
  },
  {
   "cell_type": "code",
   "execution_count": 48,
   "metadata": {
    "colab": {
     "base_uri": "https://localhost:8080/"
    },
    "id": "Qng8Tyd6yvMd",
    "outputId": "6cd6d355-b314-4bb5-dc77-f7be58bc6062"
   },
   "outputs": [
    {
     "name": "stdout",
     "output_type": "stream",
     "text": [
      "Epoch 1/2\n",
      "145/145 [==============================] - 4s 24ms/step - loss: 0.1188 - accuracy: 0.9430 - val_loss: 0.1602 - val_accuracy: 0.9284\n",
      "Epoch 2/2\n",
      "145/145 [==============================] - 3s 19ms/step - loss: 0.1173 - accuracy: 0.9445 - val_loss: 0.1305 - val_accuracy: 0.9537\n"
     ]
    }
   ],
   "source": [
    "history = model3.fit(training_padded, training_labels, batch_size=128, epochs=2, validation_data=(testing_padded, testing_labels), verbose=1)"
   ]
  },
  {
   "cell_type": "code",
   "execution_count": null,
   "metadata": {
    "id": "BHRXgvpCoku9"
   },
   "outputs": [],
   "source": [
    "#Epoch 50/50\n",
    "#129/129 [==============================] - 2s 19ms/step - loss: 0.1259 - accuracy: 0.9401 - val_loss: 0.1715 - val_accuracy: 0.9209"
   ]
  },
  {
   "cell_type": "code",
   "execution_count": 53,
   "metadata": {
    "id": "xac47tKAXYJT"
   },
   "outputs": [],
   "source": [
    "model.save('Model3Balanced09.h5')"
   ]
  },
  {
   "cell_type": "code",
   "execution_count": 50,
   "metadata": {
    "colab": {
     "base_uri": "https://localhost:8080/",
     "height": 644
    },
    "id": "1dVvLzBo61G8",
    "outputId": "57eff52c-8b87-4a15-cc82-2a162c6cf23e"
   },
   "outputs": [
    {
     "data": {
      "image/png": "[encoded data removed]",
      "text/plain": [
       "<IPython.core.display.Image object>"
      ]
     },
     "execution_count": 50,
     "metadata": {},
     "output_type": "execute_result"
    }
   ],
   "source": [
    "tf.keras.utils.plot_model(model3, show_shapes=True)"
   ]
  },
  {
   "cell_type": "code",
   "execution_count": 51,
   "metadata": {
    "colab": {
     "base_uri": "https://localhost:8080/"
    },
    "id": "Vg0RP9_k63Ri",
    "outputId": "e5eb8805-cff8-41c4-f70e-e8ec9083fc77"
   },
   "outputs": [
    {
     "name": "stdout",
     "output_type": "stream",
     "text": [
      "[[   0    0    0]\n",
      " [  28 1959   67]\n",
      " [   0    0    0]]\n",
      "              precision    recall  f1-score   support\n",
      "\n",
      "           0       0.00      0.00      0.00         0\n",
      "           1       1.00      0.95      0.98      2054\n",
      "           2       0.00      0.00      0.00         0\n",
      "\n",
      "    accuracy                           0.95      2054\n",
      "   macro avg       0.33      0.32      0.33      2054\n",
      "weighted avg       1.00      0.95      0.98      2054\n",
      "\n"
     ]
    },
    {
     "name": "stderr",
     "output_type": "stream",
     "text": [
      "/usr/local/lib/python3.7/dist-packages/sklearn/metrics/_classification.py:1318: UndefinedMetricWarning: Recall and F-score are ill-defined and being set to 0.0 in labels with no true samples. Use `zero_division` parameter to control this behavior.\n",
      "  _warn_prf(average, modifier, msg_start, len(result))\n",
      "/usr/local/lib/python3.7/dist-packages/sklearn/metrics/_classification.py:1318: UndefinedMetricWarning: Recall and F-score are ill-defined and being set to 0.0 in labels with no true samples. Use `zero_division` parameter to control this behavior.\n",
      "  _warn_prf(average, modifier, msg_start, len(result))\n",
      "/usr/local/lib/python3.7/dist-packages/sklearn/metrics/_classification.py:1318: UndefinedMetricWarning: Recall and F-score are ill-defined and being set to 0.0 in labels with no true samples. Use `zero_division` parameter to control this behavior.\n",
      "  _warn_prf(average, modifier, msg_start, len(result))\n"
     ]
    }
   ],
   "source": [
    "pred3=model3.predict(testing_padded)\n",
    "rounded_labels3=np.argmax(pred3, axis=1).astype(int)\n",
    "cm2 = confusion_matrix(testing_labels, rounded_labels3)\n",
    "print(cm2)\n",
    "print(classification_report(testing_labels, rounded_labels3, labels=[0,1,2]))"
   ]
  },
  {
   "cell_type": "code",
   "execution_count": 54,
   "metadata": {
    "colab": {
     "base_uri": "https://localhost:8080/"
    },
    "id": "MfclteTGK-_x",
    "outputId": "18e8251d-e15e-4ecb-ae9d-7b07e8b513f3"
   },
   "outputs": [
    {
     "name": "stdout",
     "output_type": "stream",
     "text": [
      "[[252 212 123]\n",
      " [ 10 227  16]\n",
      " [ 19 198 235]]\n",
      "              precision    recall  f1-score   support\n",
      "\n",
      "           0       0.90      0.43      0.58       587\n",
      "           1       0.36      0.90      0.51       253\n",
      "           2       0.63      0.52      0.57       452\n",
      "\n",
      "    accuracy                           0.55      1292\n",
      "   macro avg       0.63      0.62      0.55      1292\n",
      "weighted avg       0.70      0.55      0.56      1292\n",
      "\n"
     ]
    }
   ],
   "source": [
    "pred12=model3.predict(testing_padded12)\n",
    "rounded_labels312=np.argmax(pred12, axis=1).astype(int)\n",
    "cm12 = confusion_matrix(testing_labels12, rounded_labels312)\n",
    "print(cm12)\n",
    "print(classification_report(testing_labels12, rounded_labels312, labels=[0,1,2]))"
   ]
  },
  {
   "cell_type": "code",
   "execution_count": 55,
   "metadata": {
    "colab": {
     "base_uri": "https://localhost:8080/"
    },
    "id": "zYydjCkILMG-",
    "outputId": "71de3fdd-2733-48bb-d5ec-96bb3d187551"
   },
   "outputs": [
    {
     "name": "stdout",
     "output_type": "stream",
     "text": [
      "[[  80   19  427]\n",
      " [   0    7    0]\n",
      " [   1    8 1298]]\n",
      "              precision    recall  f1-score   support\n",
      "\n",
      "           0       0.99      0.15      0.26       526\n",
      "           1       0.21      1.00      0.34         7\n",
      "           2       0.75      0.99      0.86      1307\n",
      "\n",
      "    accuracy                           0.75      1840\n",
      "   macro avg       0.65      0.72      0.49      1840\n",
      "weighted avg       0.82      0.75      0.68      1840\n",
      "\n"
     ]
    }
   ],
   "source": [
    "pred34=model3.predict(testing_padded34)\n",
    "rounded_labels334=np.argmax(pred34, axis=1).astype(int)\n",
    "cm34 = confusion_matrix(testing_labels34, rounded_labels334)\n",
    "print(cm34)\n",
    "print(classification_report(testing_labels34, rounded_labels334, labels=[0,1,2]))"
   ]
  },
  {
   "cell_type": "code",
   "execution_count": 56,
   "metadata": {
    "colab": {
     "base_uri": "https://localhost:8080/"
    },
    "id": "WEXdC3JtMXBu",
    "outputId": "c0e9b7b9-be8e-4518-d233-febf8510257d"
   },
   "outputs": [
    {
     "name": "stdout",
     "output_type": "stream",
     "text": [
      "[[2910  184  941]\n",
      " [ 294  559  601]\n",
      " [  80  153 2594]]\n",
      "              precision    recall  f1-score   support\n",
      "\n",
      "           0       0.89      0.72      0.80      4035\n",
      "           1       0.62      0.38      0.48      1454\n",
      "           2       0.63      0.92      0.75      2827\n",
      "\n",
      "    accuracy                           0.73      8316\n",
      "   macro avg       0.71      0.67      0.67      8316\n",
      "weighted avg       0.75      0.73      0.72      8316\n",
      "\n"
     ]
    }
   ],
   "source": [
    "pred5=model3.predict(testing_padded5)\n",
    "rounded_labels35=np.argmax(pred5, axis=1).astype(int)\n",
    "cm5 = confusion_matrix(testing_labels5, rounded_labels35)\n",
    "print(cm5)\n",
    "print(classification_report(testing_labels5, rounded_labels35, labels=[0,1,2]))"
   ]
  },
  {
   "cell_type": "code",
   "execution_count": 60,
   "metadata": {
    "colab": {
     "base_uri": "https://localhost:8080/",
     "height": 573
    },
    "id": "ddbAtRKXatG3",
    "outputId": "25bd23d5-3d8e-4c64-b284-50a65c9ac003"
   },
   "outputs": [
    {
     "data": {
      "image/png": "[encoded data removed]",
      "text/plain": [
       "<Figure size 432x288 with 1 Axes>"
      ]
     },
     "metadata": {
      "needs_background": "light"
     },
     "output_type": "display_data"
    },
    {
     "data": {
      "image/png": "[encoded data removed]",
      "text/plain": [
       "<Figure size 432x288 with 1 Axes>"
      ]
     },
     "metadata": {
      "needs_background": "light"
     },
     "output_type": "display_data"
    }
   ],
   "source": [
    "import matplotlib.pyplot as plt\n",
    "import numpy\n",
    "# summarize history for accuracy\n",
    "plt.plot(history.history['loss'])\n",
    "plt.plot(history.history['val_loss'])\n",
    "plt.title('model loss')\n",
    "plt.ylabel('loss')\n",
    "plt.xlabel('epoch')\n",
    "plt.legend(['train', 'test'], loc='upper left')\n",
    "plt.show()\n",
    "# summarize history for loss\n",
    "plt.plot(history.history['accuracy'])\n",
    "plt.plot(history.history['val_accuracy'])\n",
    "plt.title('model accuracy')\n",
    "plt.ylabel('accuracy')\n",
    "plt.xlabel('epoch')\n",
    "plt.legend(['train', 'test'], loc='upper left')\n",
    "plt.show()"
   ]
  },
  {
   "cell_type": "markdown",
   "metadata": {
    "id": "__2IcBnQa-4Y"
   },
   "source": [
    "##Conclusion\n",
    "###The accuracy for the three models is 58% yet the complexity varies. The first model has 690 579 trainale parameters which makes it the most complex amongs the three of them with the second having 618 083 trainable parameters and the third having 618 739 trainable parameters.\n",
    "###After giving the problem a first look, we can suspect that:\n",
    "* This is a deep Learning Problem where we need more data and a bigger model so we can track the pattern and better the model's accuracy\n",
    "* Te model is not getting the pattern in the data well so this can be due to some data imbalence \n",
    "* We need to further explore our data and to create a bigger model"
   ]
  },
  {
   "cell_type": "markdown",
   "metadata": {
    "id": "5SNCH0-6Eq4I"
   },
   "source": [
    "#Terms\n",
    "##BURT: is a transformar model\n",
    "##Sentiment Classification: A prabability distrubution over two classes\n",
    "##Text Encoding: How to encode the texts into a numerical presentation that we can be handled by the machine learning model\n",
    "##Transformers: The State-Of-The-Art architecture for language modeling\n",
    "#Word2vec: 2013, The Model that introduced distributed representations for language modeling"
   ]
  }
 ],
 "metadata": {
  "accelerator": "GPU",
  "colab": {
   "collapsed_sections": [
    "-CRh9Gqc7KxQ",
    "2DGrTNt17GKc",
    "FRfELBgw7A3Z"
   ],
   "include_colab_link": true,
   "name": "CCKProject_Balanced_09_Tunnel.ipynb",
   "provenance": []
  },
  "gpuClass": "standard",
  "kernelspec": {
   "display_name": "Python 3 (ipykernel)",
   "language": "python",
   "name": "python3"
  },
  "language_info": {
   "codemirror_mode": {
    "name": "ipython",
    "version": 3
   },
   "file_extension": ".py",
   "mimetype": "text/x-python",
   "name": "python",
   "nbconvert_exporter": "python",
   "pygments_lexer": "ipython3",
   "version": "3.10.3"
  }
 },
 "nbformat": 4,
 "nbformat_minor": 1
}
