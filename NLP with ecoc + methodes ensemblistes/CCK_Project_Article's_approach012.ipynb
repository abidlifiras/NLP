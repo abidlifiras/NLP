{
 "cells": [
  {
   "cell_type": "markdown",
   "metadata": {
    "colab_type": "text",
    "id": "view-in-github"
   },
   "source": [
    "<a href=\"https://colab.research.google.com/github/ImenMasmoudiEm/CCKInternshipProject/blob/main/CCK_Project_Article's_approach012.ipynb\" target=\"_parent\"><img src=\"https://colab.research.google.com/assets/colab-badge.svg\" alt=\"Open In Colab\"/></a>"
   ]
  },
  {
   "cell_type": "markdown",
   "metadata": {
    "id": "Iiruy8t57ISt"
   },
   "source": [
    "# Text Classification"
   ]
  },
  {
   "cell_type": "markdown",
   "metadata": {
    "id": "6A7gIEXP7oqV"
   },
   "source": [
    "##Connecting to drive & importing data"
   ]
  },
  {
   "cell_type": "code",
   "execution_count": null,
   "metadata": {
    "colab": {
     "base_uri": "https://localhost:8080/"
    },
    "id": "KwJf5Jnk9iw8",
    "outputId": "95b23130-ef74-4859-bb36-6d6632de304d"
   },
   "outputs": [
    {
     "name": "stdout",
     "output_type": "stream",
     "text": [
      "Mounted at /content/drive\n"
     ]
    }
   ],
   "source": [
    "from google.colab import drive\n",
    "drive.mount('/content/drive')"
   ]
  },
  {
   "cell_type": "code",
   "execution_count": null,
   "metadata": {
    "id": "u6Xmp6Sf7Ay4"
   },
   "outputs": [],
   "source": [
    "import os \n",
    "os.chdir('/content/drive/MyDrive/All/Projects/Ing Internship/Data')"
   ]
  },
  {
   "cell_type": "code",
   "execution_count": null,
   "metadata": {
    "colab": {
     "base_uri": "https://localhost:8080/",
     "height": 424
    },
    "id": "hjV2FNxa-FDa",
    "outputId": "436a3f1a-ecac-44a8-8880-5a013f36e18c"
   },
   "outputs": [
    {
     "data": {
      "text/html": [
       "\n",
       "  <div id=\"df-982774b8-25ae-4a5d-ae7a-502c859aef4f\">\n",
       "    <div class=\"colab-df-container\">\n",
       "      <div>\n",
       "<style scoped>\n",
       "    .dataframe tbody tr th:only-of-type {\n",
       "        vertical-align: middle;\n",
       "    }\n",
       "\n",
       "    .dataframe tbody tr th {\n",
       "        vertical-align: top;\n",
       "    }\n",
       "\n",
       "    .dataframe thead th {\n",
       "        text-align: right;\n",
       "    }\n",
       "</style>\n",
       "<table border=\"1\" class=\"dataframe\">\n",
       "  <thead>\n",
       "    <tr style=\"text-align: right;\">\n",
       "      <th></th>\n",
       "      <th>commentaire</th>\n",
       "      <th>classe</th>\n",
       "    </tr>\n",
       "  </thead>\n",
       "  <tbody>\n",
       "    <tr>\n",
       "      <th>0</th>\n",
       "      <td>مبروك و سامحونا لعجزنا التام. عقبال اللي جوه. ...</td>\n",
       "      <td>normal</td>\n",
       "    </tr>\n",
       "    <tr>\n",
       "      <th>1</th>\n",
       "      <td>كلنا بره ومش هنبطل نزايد على العجايز الي جابون...</td>\n",
       "      <td>hate</td>\n",
       "    </tr>\n",
       "    <tr>\n",
       "      <th>2</th>\n",
       "      <td>بدل ما انت قاعد بره كده تعالي ازرع الصحرا</td>\n",
       "      <td>normal</td>\n",
       "    </tr>\n",
       "    <tr>\n",
       "      <th>3</th>\n",
       "      <td>قذر اتفووو ماتيجى مصر وتورينا نفسك كدا ياجبان</td>\n",
       "      <td>hate</td>\n",
       "    </tr>\n",
       "    <tr>\n",
       "      <th>4</th>\n",
       "      <td>وهكذا رجال الشو اللي محرومين من عمل برنامج الغ...</td>\n",
       "      <td>hate</td>\n",
       "    </tr>\n",
       "    <tr>\n",
       "      <th>...</th>\n",
       "      <td>...</td>\n",
       "      <td>...</td>\n",
       "    </tr>\n",
       "    <tr>\n",
       "      <th>23028</th>\n",
       "      <td>يلا ولا خنزير الله يرحم صدام حسين لي كان داعسكن</td>\n",
       "      <td>hate</td>\n",
       "    </tr>\n",
       "    <tr>\n",
       "      <th>23029</th>\n",
       "      <td>وبلدك سوريا لا تبغي سوا القتل والاجرام</td>\n",
       "      <td>hate</td>\n",
       "    </tr>\n",
       "    <tr>\n",
       "      <th>23030</th>\n",
       "      <td>معالي الوزير نؤمن بك دائما لأنك الدرع المنيع ف...</td>\n",
       "      <td>normal</td>\n",
       "    </tr>\n",
       "    <tr>\n",
       "      <th>23031</th>\n",
       "      <td>حياة سندي مستشارة امين عام الامم المتحدة بان ك...</td>\n",
       "      <td>normal</td>\n",
       "    </tr>\n",
       "    <tr>\n",
       "      <th>23032</th>\n",
       "      <td>انت يا جبران باسيل بعقليتك الفجة النتنة تقولرب...</td>\n",
       "      <td>hate</td>\n",
       "    </tr>\n",
       "  </tbody>\n",
       "</table>\n",
       "<p>23033 rows × 2 columns</p>\n",
       "</div>\n",
       "      <button class=\"colab-df-convert\" onclick=\"convertToInteractive('df-982774b8-25ae-4a5d-ae7a-502c859aef4f')\"\n",
       "              title=\"Convert this dataframe to an interactive table.\"\n",
       "              style=\"display:none;\">\n",
       "        \n",
       "  <svg xmlns=\"http://www.w3.org/2000/svg\" height=\"24px\"viewBox=\"0 0 24 24\"\n",
       "       width=\"24px\">\n",
       "    <path d=\"M0 0h24v24H0V0z\" fill=\"none\"/>\n",
       "    <path d=\"M18.56 5.44l.94 2.06.94-2.06 2.06-.94-2.06-.94-.94-2.06-.94 2.06-2.06.94zm-11 1L8.5 8.5l.94-2.06 2.06-.94-2.06-.94L8.5 2.5l-.94 2.06-2.06.94zm10 10l.94 2.06.94-2.06 2.06-.94-2.06-.94-.94-2.06-.94 2.06-2.06.94z\"/><path d=\"M17.41 7.96l-1.37-1.37c-.4-.4-.92-.59-1.43-.59-.52 0-1.04.2-1.43.59L10.3 9.45l-7.72 7.72c-.78.78-.78 2.05 0 2.83L4 21.41c.39.39.9.59 1.41.59.51 0 1.02-.2 1.41-.59l7.78-7.78 2.81-2.81c.8-.78.8-2.07 0-2.86zM5.41 20L4 18.59l7.72-7.72 1.47 1.35L5.41 20z\"/>\n",
       "  </svg>\n",
       "      </button>\n",
       "      \n",
       "  <style>\n",
       "    .colab-df-container {\n",
       "      display:flex;\n",
       "      flex-wrap:wrap;\n",
       "      gap: 12px;\n",
       "    }\n",
       "\n",
       "    .colab-df-convert {\n",
       "      background-color: #E8F0FE;\n",
       "      border: none;\n",
       "      border-radius: 50%;\n",
       "      cursor: pointer;\n",
       "      display: none;\n",
       "      fill: #1967D2;\n",
       "      height: 32px;\n",
       "      padding: 0 0 0 0;\n",
       "      width: 32px;\n",
       "    }\n",
       "\n",
       "    .colab-df-convert:hover {\n",
       "      background-color: #E2EBFA;\n",
       "      box-shadow: 0px 1px 2px rgba(60, 64, 67, 0.3), 0px 1px 3px 1px rgba(60, 64, 67, 0.15);\n",
       "      fill: #174EA6;\n",
       "    }\n",
       "\n",
       "    [theme=dark] .colab-df-convert {\n",
       "      background-color: #3B4455;\n",
       "      fill: #D2E3FC;\n",
       "    }\n",
       "\n",
       "    [theme=dark] .colab-df-convert:hover {\n",
       "      background-color: #434B5C;\n",
       "      box-shadow: 0px 1px 3px 1px rgba(0, 0, 0, 0.15);\n",
       "      filter: drop-shadow(0px 1px 2px rgba(0, 0, 0, 0.3));\n",
       "      fill: #FFFFFF;\n",
       "    }\n",
       "  </style>\n",
       "\n",
       "      <script>\n",
       "        const buttonEl =\n",
       "          document.querySelector('#df-982774b8-25ae-4a5d-ae7a-502c859aef4f button.colab-df-convert');\n",
       "        buttonEl.style.display =\n",
       "          google.colab.kernel.accessAllowed ? 'block' : 'none';\n",
       "\n",
       "        async function convertToInteractive(key) {\n",
       "          const element = document.querySelector('#df-982774b8-25ae-4a5d-ae7a-502c859aef4f');\n",
       "          const dataTable =\n",
       "            await google.colab.kernel.invokeFunction('convertToInteractive',\n",
       "                                                     [key], {});\n",
       "          if (!dataTable) return;\n",
       "\n",
       "          const docLinkHtml = 'Like what you see? Visit the ' +\n",
       "            '<a target=\"_blank\" href=https://colab.research.google.com/notebooks/data_table.ipynb>data table notebook</a>'\n",
       "            + ' to learn more about interactive tables.';\n",
       "          element.innerHTML = '';\n",
       "          dataTable['output_type'] = 'display_data';\n",
       "          await google.colab.output.renderOutput(dataTable, element);\n",
       "          const docLink = document.createElement('div');\n",
       "          docLink.innerHTML = docLinkHtml;\n",
       "          element.appendChild(docLink);\n",
       "        }\n",
       "      </script>\n",
       "    </div>\n",
       "  </div>\n",
       "  "
      ],
      "text/plain": [
       "                                             commentaire  classe\n",
       "0      مبروك و سامحونا لعجزنا التام. عقبال اللي جوه. ...  normal\n",
       "1      كلنا بره ومش هنبطل نزايد على العجايز الي جابون...    hate\n",
       "2              بدل ما انت قاعد بره كده تعالي ازرع الصحرا  normal\n",
       "3          قذر اتفووو ماتيجى مصر وتورينا نفسك كدا ياجبان    hate\n",
       "4      وهكذا رجال الشو اللي محرومين من عمل برنامج الغ...    hate\n",
       "...                                                  ...     ...\n",
       "23028    يلا ولا خنزير الله يرحم صدام حسين لي كان داعسكن    hate\n",
       "23029            وبلدك سوريا لا تبغي سوا القتل والاجرام     hate\n",
       "23030  معالي الوزير نؤمن بك دائما لأنك الدرع المنيع ف...  normal\n",
       "23031  حياة سندي مستشارة امين عام الامم المتحدة بان ك...  normal\n",
       "23032  انت يا جبران باسيل بعقليتك الفجة النتنة تقولرب...    hate\n",
       "\n",
       "[23033 rows x 2 columns]"
      ]
     },
     "execution_count": 3,
     "metadata": {},
     "output_type": "execute_result"
    }
   ],
   "source": [
    "import pandas as pd\n",
    "data=pd.read_excel(\"/content/drive/MyDrive/All/Projects/Ing Internship/Data/final-dataset.xlsx\")\n",
    "data"
   ]
  },
  {
   "cell_type": "markdown",
   "metadata": {
    "id": "E78jh1K4ATql"
   },
   "source": [
    "##Data Preprocessing"
   ]
  },
  {
   "cell_type": "markdown",
   "metadata": {
    "id": "4WPH66dgAsdv"
   },
   "source": [
    "1/ Changing the Class into bin"
   ]
  },
  {
   "cell_type": "code",
   "execution_count": null,
   "metadata": {
    "id": "g0G8MT47A3Z_"
   },
   "outputs": [],
   "source": [
    "data['classe']=data['classe'].replace(\"hate\", int(2)) #Change it to 2\n",
    "data['classe']=data['classe'].replace(\"normal\", int(0)) \n",
    "data['classe']=data['classe'].replace(\"abusive\", int(1))"
   ]
  },
  {
   "cell_type": "code",
   "execution_count": null,
   "metadata": {
    "colab": {
     "base_uri": "https://localhost:8080/",
     "height": 424
    },
    "id": "1Ml3TDjMBley",
    "outputId": "e55308f7-0c57-4e0f-8e77-76000a19a71a"
   },
   "outputs": [
    {
     "data": {
      "text/html": [
       "\n",
       "  <div id=\"df-f7328441-f552-4336-a360-f039e6845e2c\">\n",
       "    <div class=\"colab-df-container\">\n",
       "      <div>\n",
       "<style scoped>\n",
       "    .dataframe tbody tr th:only-of-type {\n",
       "        vertical-align: middle;\n",
       "    }\n",
       "\n",
       "    .dataframe tbody tr th {\n",
       "        vertical-align: top;\n",
       "    }\n",
       "\n",
       "    .dataframe thead th {\n",
       "        text-align: right;\n",
       "    }\n",
       "</style>\n",
       "<table border=\"1\" class=\"dataframe\">\n",
       "  <thead>\n",
       "    <tr style=\"text-align: right;\">\n",
       "      <th></th>\n",
       "      <th>commentaire</th>\n",
       "      <th>classe</th>\n",
       "    </tr>\n",
       "  </thead>\n",
       "  <tbody>\n",
       "    <tr>\n",
       "      <th>0</th>\n",
       "      <td>مبروك و سامحونا لعجزنا التام. عقبال اللي جوه. ...</td>\n",
       "      <td>0</td>\n",
       "    </tr>\n",
       "    <tr>\n",
       "      <th>1</th>\n",
       "      <td>كلنا بره ومش هنبطل نزايد على العجايز الي جابون...</td>\n",
       "      <td>2</td>\n",
       "    </tr>\n",
       "    <tr>\n",
       "      <th>2</th>\n",
       "      <td>بدل ما انت قاعد بره كده تعالي ازرع الصحرا</td>\n",
       "      <td>0</td>\n",
       "    </tr>\n",
       "    <tr>\n",
       "      <th>3</th>\n",
       "      <td>قذر اتفووو ماتيجى مصر وتورينا نفسك كدا ياجبان</td>\n",
       "      <td>2</td>\n",
       "    </tr>\n",
       "    <tr>\n",
       "      <th>4</th>\n",
       "      <td>وهكذا رجال الشو اللي محرومين من عمل برنامج الغ...</td>\n",
       "      <td>2</td>\n",
       "    </tr>\n",
       "    <tr>\n",
       "      <th>...</th>\n",
       "      <td>...</td>\n",
       "      <td>...</td>\n",
       "    </tr>\n",
       "    <tr>\n",
       "      <th>23028</th>\n",
       "      <td>يلا ولا خنزير الله يرحم صدام حسين لي كان داعسكن</td>\n",
       "      <td>2</td>\n",
       "    </tr>\n",
       "    <tr>\n",
       "      <th>23029</th>\n",
       "      <td>وبلدك سوريا لا تبغي سوا القتل والاجرام</td>\n",
       "      <td>2</td>\n",
       "    </tr>\n",
       "    <tr>\n",
       "      <th>23030</th>\n",
       "      <td>معالي الوزير نؤمن بك دائما لأنك الدرع المنيع ف...</td>\n",
       "      <td>0</td>\n",
       "    </tr>\n",
       "    <tr>\n",
       "      <th>23031</th>\n",
       "      <td>حياة سندي مستشارة امين عام الامم المتحدة بان ك...</td>\n",
       "      <td>0</td>\n",
       "    </tr>\n",
       "    <tr>\n",
       "      <th>23032</th>\n",
       "      <td>انت يا جبران باسيل بعقليتك الفجة النتنة تقولرب...</td>\n",
       "      <td>2</td>\n",
       "    </tr>\n",
       "  </tbody>\n",
       "</table>\n",
       "<p>23033 rows × 2 columns</p>\n",
       "</div>\n",
       "      <button class=\"colab-df-convert\" onclick=\"convertToInteractive('df-f7328441-f552-4336-a360-f039e6845e2c')\"\n",
       "              title=\"Convert this dataframe to an interactive table.\"\n",
       "              style=\"display:none;\">\n",
       "        \n",
       "  <svg xmlns=\"http://www.w3.org/2000/svg\" height=\"24px\"viewBox=\"0 0 24 24\"\n",
       "       width=\"24px\">\n",
       "    <path d=\"M0 0h24v24H0V0z\" fill=\"none\"/>\n",
       "    <path d=\"M18.56 5.44l.94 2.06.94-2.06 2.06-.94-2.06-.94-.94-2.06-.94 2.06-2.06.94zm-11 1L8.5 8.5l.94-2.06 2.06-.94-2.06-.94L8.5 2.5l-.94 2.06-2.06.94zm10 10l.94 2.06.94-2.06 2.06-.94-2.06-.94-.94-2.06-.94 2.06-2.06.94z\"/><path d=\"M17.41 7.96l-1.37-1.37c-.4-.4-.92-.59-1.43-.59-.52 0-1.04.2-1.43.59L10.3 9.45l-7.72 7.72c-.78.78-.78 2.05 0 2.83L4 21.41c.39.39.9.59 1.41.59.51 0 1.02-.2 1.41-.59l7.78-7.78 2.81-2.81c.8-.78.8-2.07 0-2.86zM5.41 20L4 18.59l7.72-7.72 1.47 1.35L5.41 20z\"/>\n",
       "  </svg>\n",
       "      </button>\n",
       "      \n",
       "  <style>\n",
       "    .colab-df-container {\n",
       "      display:flex;\n",
       "      flex-wrap:wrap;\n",
       "      gap: 12px;\n",
       "    }\n",
       "\n",
       "    .colab-df-convert {\n",
       "      background-color: #E8F0FE;\n",
       "      border: none;\n",
       "      border-radius: 50%;\n",
       "      cursor: pointer;\n",
       "      display: none;\n",
       "      fill: #1967D2;\n",
       "      height: 32px;\n",
       "      padding: 0 0 0 0;\n",
       "      width: 32px;\n",
       "    }\n",
       "\n",
       "    .colab-df-convert:hover {\n",
       "      background-color: #E2EBFA;\n",
       "      box-shadow: 0px 1px 2px rgba(60, 64, 67, 0.3), 0px 1px 3px 1px rgba(60, 64, 67, 0.15);\n",
       "      fill: #174EA6;\n",
       "    }\n",
       "\n",
       "    [theme=dark] .colab-df-convert {\n",
       "      background-color: #3B4455;\n",
       "      fill: #D2E3FC;\n",
       "    }\n",
       "\n",
       "    [theme=dark] .colab-df-convert:hover {\n",
       "      background-color: #434B5C;\n",
       "      box-shadow: 0px 1px 3px 1px rgba(0, 0, 0, 0.15);\n",
       "      filter: drop-shadow(0px 1px 2px rgba(0, 0, 0, 0.3));\n",
       "      fill: #FFFFFF;\n",
       "    }\n",
       "  </style>\n",
       "\n",
       "      <script>\n",
       "        const buttonEl =\n",
       "          document.querySelector('#df-f7328441-f552-4336-a360-f039e6845e2c button.colab-df-convert');\n",
       "        buttonEl.style.display =\n",
       "          google.colab.kernel.accessAllowed ? 'block' : 'none';\n",
       "\n",
       "        async function convertToInteractive(key) {\n",
       "          const element = document.querySelector('#df-f7328441-f552-4336-a360-f039e6845e2c');\n",
       "          const dataTable =\n",
       "            await google.colab.kernel.invokeFunction('convertToInteractive',\n",
       "                                                     [key], {});\n",
       "          if (!dataTable) return;\n",
       "\n",
       "          const docLinkHtml = 'Like what you see? Visit the ' +\n",
       "            '<a target=\"_blank\" href=https://colab.research.google.com/notebooks/data_table.ipynb>data table notebook</a>'\n",
       "            + ' to learn more about interactive tables.';\n",
       "          element.innerHTML = '';\n",
       "          dataTable['output_type'] = 'display_data';\n",
       "          await google.colab.output.renderOutput(dataTable, element);\n",
       "          const docLink = document.createElement('div');\n",
       "          docLink.innerHTML = docLinkHtml;\n",
       "          element.appendChild(docLink);\n",
       "        }\n",
       "      </script>\n",
       "    </div>\n",
       "  </div>\n",
       "  "
      ],
      "text/plain": [
       "                                             commentaire  classe\n",
       "0      مبروك و سامحونا لعجزنا التام. عقبال اللي جوه. ...       0\n",
       "1      كلنا بره ومش هنبطل نزايد على العجايز الي جابون...       2\n",
       "2              بدل ما انت قاعد بره كده تعالي ازرع الصحرا       0\n",
       "3          قذر اتفووو ماتيجى مصر وتورينا نفسك كدا ياجبان       2\n",
       "4      وهكذا رجال الشو اللي محرومين من عمل برنامج الغ...       2\n",
       "...                                                  ...     ...\n",
       "23028    يلا ولا خنزير الله يرحم صدام حسين لي كان داعسكن       2\n",
       "23029            وبلدك سوريا لا تبغي سوا القتل والاجرام        2\n",
       "23030  معالي الوزير نؤمن بك دائما لأنك الدرع المنيع ف...       0\n",
       "23031  حياة سندي مستشارة امين عام الامم المتحدة بان ك...       0\n",
       "23032  انت يا جبران باسيل بعقليتك الفجة النتنة تقولرب...       2\n",
       "\n",
       "[23033 rows x 2 columns]"
      ]
     },
     "execution_count": 5,
     "metadata": {},
     "output_type": "execute_result"
    }
   ],
   "source": [
    "data"
   ]
  },
  {
   "cell_type": "code",
   "execution_count": null,
   "metadata": {
    "colab": {
     "base_uri": "https://localhost:8080/",
     "height": 334
    },
    "id": "QWAQiWYVAzQN",
    "outputId": "0cee5c65-f40e-4462-ee0f-a421735ee25f"
   },
   "outputs": [
    {
     "data": {
      "image/png": "[encoded data removed]",
      "text/plain": [
       "<Figure size 1080x360 with 1 Axes>"
      ]
     },
     "metadata": {
      "needs_background": "light"
     },
     "output_type": "display_data"
    }
   ],
   "source": [
    "import matplotlib.pyplot as plt\n",
    "import seaborn as sns\n",
    "plt.figure(1 , figsize = (15 , 5))\n",
    "sns.countplot(y = 'classe' , data = data)\n",
    "plt.show()"
   ]
  },
  {
   "cell_type": "code",
   "execution_count": null,
   "metadata": {
    "colab": {
     "base_uri": "https://localhost:8080/"
    },
    "id": "mWndFEOiC4pP",
    "outputId": "7ebb8474-0253-47bc-e901-fa369e3b6737"
   },
   "outputs": [
    {
     "name": "stdout",
     "output_type": "stream",
     "text": [
      "classe\n",
      "0    12353\n",
      "Name: classe, dtype: int64\n",
      "classe\n",
      "1    3850\n",
      "Name: classe, dtype: int64\n",
      "classe\n",
      "2    6830\n",
      "Name: classe, dtype: int64\n"
     ]
    }
   ],
   "source": [
    "print(data.loc[data.classe==0].groupby('classe')[\"classe\"].count())\n",
    "print(data.loc[data.classe==1].groupby('classe')[\"classe\"].count())\n",
    "print(data.loc[data.classe==2].groupby('classe')[\"classe\"].count())"
   ]
  },
  {
   "cell_type": "markdown",
   "metadata": {
    "id": "nWDDcwDwA32H"
   },
   "source": [
    "2/ NLP Data Preparations"
   ]
  },
  {
   "cell_type": "code",
   "execution_count": null,
   "metadata": {
    "id": "BgMfbCVpBAOB"
   },
   "outputs": [],
   "source": [
    "from tensorflow.keras.preprocessing.text import Tokenizer\n",
    "from tensorflow.keras.preprocessing.sequence import pad_sequences\n",
    "import numpy as np\n",
    "\n",
    "sentences = []\n",
    "labels = []\n",
    "\n",
    "sentences = data['commentaire']\n",
    "labels = data['classe']\n",
    "L=[]\n",
    "#for i in labels:\n",
    "#  if (i != '1') and (i != '0'):\n",
    "#    L.append(i)\n",
    "\n",
    "labels = [int(i) for i in labels]\n",
    "#L"
   ]
  },
  {
   "cell_type": "code",
   "execution_count": null,
   "metadata": {
    "id": "Vp_qjUMwT6PI"
   },
   "outputs": [],
   "source": [
    "i=0\n",
    "c=0\n",
    "Nlables=[]\n",
    "Nsentences=[]\n",
    "while (c<6000):\n",
    "  if (labels[i]!= 0):\n",
    "    Nlables.append(labels[i])\n",
    "    Nsentences.append(sentences[i])\n",
    "  else:\n",
    "    c+=1\n",
    "  i+=1\n",
    "while (i<len(labels)):\n",
    "  Nlables.append(labels[i])\n",
    "  Nsentences.append(sentences[i])\n",
    "  i+=1\n"
   ]
  },
  {
   "cell_type": "code",
   "execution_count": null,
   "metadata": {
    "colab": {
     "base_uri": "https://localhost:8080/",
     "height": 424
    },
    "id": "zQgP6WSIbrNm",
    "outputId": "694a2332-47da-4051-99c0-968fb1ad04c2"
   },
   "outputs": [
    {
     "data": {
      "text/html": [
       "\n",
       "  <div id=\"df-c4ef28a1-5252-456d-a952-346645bafb11\">\n",
       "    <div class=\"colab-df-container\">\n",
       "      <div>\n",
       "<style scoped>\n",
       "    .dataframe tbody tr th:only-of-type {\n",
       "        vertical-align: middle;\n",
       "    }\n",
       "\n",
       "    .dataframe tbody tr th {\n",
       "        vertical-align: top;\n",
       "    }\n",
       "\n",
       "    .dataframe thead th {\n",
       "        text-align: right;\n",
       "    }\n",
       "</style>\n",
       "<table border=\"1\" class=\"dataframe\">\n",
       "  <thead>\n",
       "    <tr style=\"text-align: right;\">\n",
       "      <th></th>\n",
       "      <th>sentences</th>\n",
       "      <th>classe</th>\n",
       "    </tr>\n",
       "  </thead>\n",
       "  <tbody>\n",
       "    <tr>\n",
       "      <th>0</th>\n",
       "      <td>كلنا بره ومش هنبطل نزايد على العجايز الي جابون...</td>\n",
       "      <td>2</td>\n",
       "    </tr>\n",
       "    <tr>\n",
       "      <th>1</th>\n",
       "      <td>قذر اتفووو ماتيجى مصر وتورينا نفسك كدا ياجبان</td>\n",
       "      <td>2</td>\n",
       "    </tr>\n",
       "    <tr>\n",
       "      <th>2</th>\n",
       "      <td>وهكذا رجال الشو اللي محرومين من عمل برنامج الغ...</td>\n",
       "      <td>2</td>\n",
       "    </tr>\n",
       "    <tr>\n",
       "      <th>3</th>\n",
       "      <td>أنت أزاي لبؤة كدة ؟</td>\n",
       "      <td>1</td>\n",
       "    </tr>\n",
       "    <tr>\n",
       "      <th>4</th>\n",
       "      <td>دول عبيد باسم !! انت ما تعرفش غير ستات كده يعن...</td>\n",
       "      <td>2</td>\n",
       "    </tr>\n",
       "    <tr>\n",
       "      <th>...</th>\n",
       "      <td>...</td>\n",
       "      <td>...</td>\n",
       "    </tr>\n",
       "    <tr>\n",
       "      <th>17028</th>\n",
       "      <td>يلا ولا خنزير الله يرحم صدام حسين لي كان داعسكن</td>\n",
       "      <td>2</td>\n",
       "    </tr>\n",
       "    <tr>\n",
       "      <th>17029</th>\n",
       "      <td>وبلدك سوريا لا تبغي سوا القتل والاجرام</td>\n",
       "      <td>2</td>\n",
       "    </tr>\n",
       "    <tr>\n",
       "      <th>17030</th>\n",
       "      <td>معالي الوزير نؤمن بك دائما لأنك الدرع المنيع ف...</td>\n",
       "      <td>0</td>\n",
       "    </tr>\n",
       "    <tr>\n",
       "      <th>17031</th>\n",
       "      <td>حياة سندي مستشارة امين عام الامم المتحدة بان ك...</td>\n",
       "      <td>0</td>\n",
       "    </tr>\n",
       "    <tr>\n",
       "      <th>17032</th>\n",
       "      <td>انت يا جبران باسيل بعقليتك الفجة النتنة تقولرب...</td>\n",
       "      <td>2</td>\n",
       "    </tr>\n",
       "  </tbody>\n",
       "</table>\n",
       "<p>17033 rows × 2 columns</p>\n",
       "</div>\n",
       "      <button class=\"colab-df-convert\" onclick=\"convertToInteractive('df-c4ef28a1-5252-456d-a952-346645bafb11')\"\n",
       "              title=\"Convert this dataframe to an interactive table.\"\n",
       "              style=\"display:none;\">\n",
       "        \n",
       "  <svg xmlns=\"http://www.w3.org/2000/svg\" height=\"24px\"viewBox=\"0 0 24 24\"\n",
       "       width=\"24px\">\n",
       "    <path d=\"M0 0h24v24H0V0z\" fill=\"none\"/>\n",
       "    <path d=\"M18.56 5.44l.94 2.06.94-2.06 2.06-.94-2.06-.94-.94-2.06-.94 2.06-2.06.94zm-11 1L8.5 8.5l.94-2.06 2.06-.94-2.06-.94L8.5 2.5l-.94 2.06-2.06.94zm10 10l.94 2.06.94-2.06 2.06-.94-2.06-.94-.94-2.06-.94 2.06-2.06.94z\"/><path d=\"M17.41 7.96l-1.37-1.37c-.4-.4-.92-.59-1.43-.59-.52 0-1.04.2-1.43.59L10.3 9.45l-7.72 7.72c-.78.78-.78 2.05 0 2.83L4 21.41c.39.39.9.59 1.41.59.51 0 1.02-.2 1.41-.59l7.78-7.78 2.81-2.81c.8-.78.8-2.07 0-2.86zM5.41 20L4 18.59l7.72-7.72 1.47 1.35L5.41 20z\"/>\n",
       "  </svg>\n",
       "      </button>\n",
       "      \n",
       "  <style>\n",
       "    .colab-df-container {\n",
       "      display:flex;\n",
       "      flex-wrap:wrap;\n",
       "      gap: 12px;\n",
       "    }\n",
       "\n",
       "    .colab-df-convert {\n",
       "      background-color: #E8F0FE;\n",
       "      border: none;\n",
       "      border-radius: 50%;\n",
       "      cursor: pointer;\n",
       "      display: none;\n",
       "      fill: #1967D2;\n",
       "      height: 32px;\n",
       "      padding: 0 0 0 0;\n",
       "      width: 32px;\n",
       "    }\n",
       "\n",
       "    .colab-df-convert:hover {\n",
       "      background-color: #E2EBFA;\n",
       "      box-shadow: 0px 1px 2px rgba(60, 64, 67, 0.3), 0px 1px 3px 1px rgba(60, 64, 67, 0.15);\n",
       "      fill: #174EA6;\n",
       "    }\n",
       "\n",
       "    [theme=dark] .colab-df-convert {\n",
       "      background-color: #3B4455;\n",
       "      fill: #D2E3FC;\n",
       "    }\n",
       "\n",
       "    [theme=dark] .colab-df-convert:hover {\n",
       "      background-color: #434B5C;\n",
       "      box-shadow: 0px 1px 3px 1px rgba(0, 0, 0, 0.15);\n",
       "      filter: drop-shadow(0px 1px 2px rgba(0, 0, 0, 0.3));\n",
       "      fill: #FFFFFF;\n",
       "    }\n",
       "  </style>\n",
       "\n",
       "      <script>\n",
       "        const buttonEl =\n",
       "          document.querySelector('#df-c4ef28a1-5252-456d-a952-346645bafb11 button.colab-df-convert');\n",
       "        buttonEl.style.display =\n",
       "          google.colab.kernel.accessAllowed ? 'block' : 'none';\n",
       "\n",
       "        async function convertToInteractive(key) {\n",
       "          const element = document.querySelector('#df-c4ef28a1-5252-456d-a952-346645bafb11');\n",
       "          const dataTable =\n",
       "            await google.colab.kernel.invokeFunction('convertToInteractive',\n",
       "                                                     [key], {});\n",
       "          if (!dataTable) return;\n",
       "\n",
       "          const docLinkHtml = 'Like what you see? Visit the ' +\n",
       "            '<a target=\"_blank\" href=https://colab.research.google.com/notebooks/data_table.ipynb>data table notebook</a>'\n",
       "            + ' to learn more about interactive tables.';\n",
       "          element.innerHTML = '';\n",
       "          dataTable['output_type'] = 'display_data';\n",
       "          await google.colab.output.renderOutput(dataTable, element);\n",
       "          const docLink = document.createElement('div');\n",
       "          docLink.innerHTML = docLinkHtml;\n",
       "          element.appendChild(docLink);\n",
       "        }\n",
       "      </script>\n",
       "    </div>\n",
       "  </div>\n",
       "  "
      ],
      "text/plain": [
       "                                               sentences  classe\n",
       "0      كلنا بره ومش هنبطل نزايد على العجايز الي جابون...       2\n",
       "1          قذر اتفووو ماتيجى مصر وتورينا نفسك كدا ياجبان       2\n",
       "2      وهكذا رجال الشو اللي محرومين من عمل برنامج الغ...       2\n",
       "3                                   أنت أزاي لبؤة كدة ؟        1\n",
       "4      دول عبيد باسم !! انت ما تعرفش غير ستات كده يعن...       2\n",
       "...                                                  ...     ...\n",
       "17028    يلا ولا خنزير الله يرحم صدام حسين لي كان داعسكن       2\n",
       "17029            وبلدك سوريا لا تبغي سوا القتل والاجرام        2\n",
       "17030  معالي الوزير نؤمن بك دائما لأنك الدرع المنيع ف...       0\n",
       "17031  حياة سندي مستشارة امين عام الامم المتحدة بان ك...       0\n",
       "17032  انت يا جبران باسيل بعقليتك الفجة النتنة تقولرب...       2\n",
       "\n",
       "[17033 rows x 2 columns]"
      ]
     },
     "execution_count": 10,
     "metadata": {},
     "output_type": "execute_result"
    }
   ],
   "source": [
    "import pandas as pd\n",
    "\n",
    "data=[[i,j] for i,j in zip(Nsentences , Nlables)]\n",
    "\n",
    "data=pd.DataFrame(data,columns=[\"sentences\",\"classe\"])\n",
    "\n",
    "data"
   ]
  },
  {
   "cell_type": "code",
   "execution_count": null,
   "metadata": {
    "colab": {
     "base_uri": "https://localhost:8080/",
     "height": 334
    },
    "id": "Fz8P60LwbLjI",
    "outputId": "82b1e448-9f8f-42a7-ee72-ec403379798d"
   },
   "outputs": [
    {
     "data": {
      "image/png": "[encoded data removed]",
      "text/plain": [
       "<Figure size 1080x360 with 1 Axes>"
      ]
     },
     "metadata": {
      "needs_background": "light"
     },
     "output_type": "display_data"
    }
   ],
   "source": [
    "import matplotlib.pyplot as plt\n",
    "import seaborn as sns\n",
    "plt.figure(1 , figsize = (15 , 5))\n",
    "sns.countplot(y = 'classe' , data = data)\n",
    "plt.show()"
   ]
  },
  {
   "cell_type": "code",
   "execution_count": null,
   "metadata": {
    "colab": {
     "base_uri": "https://localhost:8080/"
    },
    "id": "A37mvaVcD-ji",
    "outputId": "4da65f3b-620a-4900-a144-e636bf4103bf"
   },
   "outputs": [
    {
     "data": {
      "text/plain": [
       "209"
      ]
     },
     "execution_count": 12,
     "metadata": {},
     "output_type": "execute_result"
    }
   ],
   "source": [
    "#Figure out the longest comment\n",
    "\n",
    "def count_words(input):\n",
    "  return len(input.split())\n",
    "max_length=count_words(max(Nsentences,key=count_words))\n",
    "max_length+=2\n",
    "max_length"
   ]
  },
  {
   "cell_type": "markdown",
   "metadata": {
    "id": "qbiHzGSbw8sE"
   },
   "source": [
    "##The way that the computers percieve words and phrases is diffrent from the way that we preceve it as human beings. There are a veriety of ways for us that we can utilise to program the data type that we have and to make it numerical so that the model can get some meaning out of it. We call this part encoding text.\n",
    "##we can transfor each alphabet and caracter to it's ASCII Code, but this approach wasn't proven to give great results [To Research] !!!\n",
    "#What I did in the code was: Continus or distributed Embeddings Vectors representation:\n",
    "* First: Build a dictionary of tokens: I defined a dictionnary That has the words as keys and a unique number as a value\n",
    "* I then changed all of the phrases into Lists that has integers that indicate which word is in that particular place\n",
    "* Use One-Hot Vector\n",
    "\n",
    "##After doing this process, we have a numerical data that the model can use to get some meaning out of the labels"
   ]
  },
  {
   "cell_type": "code",
   "execution_count": null,
   "metadata": {
    "id": "FrNFMsATGjbL"
   },
   "outputs": [],
   "source": [
    "training_size=int(len(Nsentences)*0.9)   #Experimenting setup\n",
    "\n",
    "training_sentences = Nsentences[0:training_size]\n",
    "testing_sentences = Nsentences[training_size:]\n",
    "training_labels = Nlables[0:training_size]\n",
    "testing_labels = Nlables[training_size:]\n",
    "\n",
    "embedding_dim = 16\n",
    "\n",
    "tokenizer = Tokenizer(num_words=2000, oov_token=\"<OOV>\")\n",
    "tokenizer.fit_on_texts(training_sentences)\n",
    "\n",
    "vocab_size = len(tokenizer.word_index) + 1 \n",
    "\n",
    "word_index = tokenizer.word_index\n",
    "\n",
    "training_sequences = tokenizer.texts_to_sequences(training_sentences)\n",
    "training_padded = pad_sequences(training_sequences, maxlen=max_length, padding='post', truncating='post')\n",
    "\n",
    "testing_sequences = tokenizer.texts_to_sequences(testing_sentences)\n",
    "testing_padded = pad_sequences(testing_sequences, maxlen=max_length, padding='post', truncating='post')"
   ]
  },
  {
   "cell_type": "markdown",
   "metadata": {
    "id": "TzmCjIfYBA8G"
   },
   "source": [
    "#Modelling"
   ]
  },
  {
   "cell_type": "markdown",
   "metadata": {
    "id": "v0BlOOeb6UGS"
   },
   "source": [
    "##Article's Approach"
   ]
  },
  {
   "cell_type": "code",
   "execution_count": null,
   "metadata": {
    "colab": {
     "base_uri": "https://localhost:8080/"
    },
    "id": "K1LdRz7xEkiM",
    "outputId": "941db704-1f70-43e9-ff9d-81f979441470"
   },
   "outputs": [
    {
     "data": {
      "text/plain": [
       "(15329, 209, 1)"
      ]
     },
     "execution_count": 15,
     "metadata": {},
     "output_type": "execute_result"
    }
   ],
   "source": [
    "import numpy as np\n",
    "EDtraining_padded=np.expand_dims(np.array(training_padded), axis=-1)\n",
    "EDtesting_padded=np.expand_dims(np.array(testing_padded), axis=-1)\n",
    "EDtraining_padded.shape"
   ]
  },
  {
   "cell_type": "code",
   "execution_count": null,
   "metadata": {
    "colab": {
     "base_uri": "https://localhost:8080/"
    },
    "id": "-v3w4dSB6X48",
    "outputId": "5a73f2be-6110-4ba0-b302-678229318eb3"
   },
   "outputs": [
    {
     "name": "stdout",
     "output_type": "stream",
     "text": [
      "Model: \"sequential\"\n",
      "_________________________________________________________________\n",
      " Layer (type)                Output Shape              Param #   \n",
      "=================================================================\n",
      " conv1d (Conv1D)             (None, 209, 32)           96        \n",
      "                                                                 \n",
      " batch_normalization (BatchN  (None, 209, 32)          128       \n",
      " ormalization)                                                   \n",
      "                                                                 \n",
      " conv1d_1 (Conv1D)           (None, 209, 32)           2080      \n",
      "                                                                 \n",
      " batch_normalization_1 (Batc  (None, 209, 32)          128       \n",
      " hNormalization)                                                 \n",
      "                                                                 \n",
      " max_pooling1d (MaxPooling1D  (None, 105, 32)          0         \n",
      " )                                                               \n",
      "                                                                 \n",
      " conv1d_2 (Conv1D)           (None, 105, 64)           4160      \n",
      "                                                                 \n",
      " batch_normalization_2 (Batc  (None, 105, 64)          256       \n",
      " hNormalization)                                                 \n",
      "                                                                 \n",
      " conv1d_3 (Conv1D)           (None, 105, 64)           8256      \n",
      "                                                                 \n",
      " batch_normalization_3 (Batc  (None, 105, 64)          256       \n",
      " hNormalization)                                                 \n",
      "                                                                 \n",
      " max_pooling1d_1 (MaxPooling  (None, 53, 64)           0         \n",
      " 1D)                                                             \n",
      "                                                                 \n",
      " conv1d_4 (Conv1D)           (None, 53, 128)           16512     \n",
      "                                                                 \n",
      " batch_normalization_4 (Batc  (None, 53, 128)          512       \n",
      " hNormalization)                                                 \n",
      "                                                                 \n",
      " conv1d_5 (Conv1D)           (None, 53, 128)           32896     \n",
      "                                                                 \n",
      " batch_normalization_5 (Batc  (None, 53, 128)          512       \n",
      " hNormalization)                                                 \n",
      "                                                                 \n",
      " conv1d_6 (Conv1D)           (None, 53, 256)           65792     \n",
      "                                                                 \n",
      " batch_normalization_6 (Batc  (None, 53, 256)          1024      \n",
      " hNormalization)                                                 \n",
      "                                                                 \n",
      " conv1d_7 (Conv1D)           (None, 53, 256)           131328    \n",
      "                                                                 \n",
      " batch_normalization_7 (Batc  (None, 53, 256)          1024      \n",
      " hNormalization)                                                 \n",
      "                                                                 \n",
      " conv1d_8 (Conv1D)           (None, 53, 128)           65664     \n",
      "                                                                 \n",
      " batch_normalization_8 (Batc  (None, 53, 128)          512       \n",
      " hNormalization)                                                 \n",
      "                                                                 \n",
      " conv1d_9 (Conv1D)           (None, 53, 128)           32896     \n",
      "                                                                 \n",
      " batch_normalization_9 (Batc  (None, 53, 128)          512       \n",
      " hNormalization)                                                 \n",
      "                                                                 \n",
      " conv1d_10 (Conv1D)          (None, 53, 64)            16448     \n",
      "                                                                 \n",
      " batch_normalization_10 (Bat  (None, 53, 64)           256       \n",
      " chNormalization)                                                \n",
      "                                                                 \n",
      " conv1d_11 (Conv1D)          (None, 53, 64)            8256      \n",
      "                                                                 \n",
      " batch_normalization_11 (Bat  (None, 53, 64)           256       \n",
      " chNormalization)                                                \n",
      "                                                                 \n",
      " up_sampling1d (UpSampling1D  (None, 106, 64)          0         \n",
      " )                                                               \n",
      "                                                                 \n",
      " conv1d_12 (Conv1D)          (None, 106, 32)           4128      \n",
      "                                                                 \n",
      " batch_normalization_12 (Bat  (None, 106, 32)          128       \n",
      " chNormalization)                                                \n",
      "                                                                 \n",
      " conv1d_13 (Conv1D)          (None, 106, 32)           2080      \n",
      "                                                                 \n",
      " batch_normalization_13 (Bat  (None, 106, 32)          128       \n",
      " chNormalization)                                                \n",
      "                                                                 \n",
      " up_sampling1d_1 (UpSampling  (None, 212, 32)          0         \n",
      " 1D)                                                             \n",
      "                                                                 \n",
      " conv1d_14 (Conv1D)          (None, 209, 1)            129       \n",
      "                                                                 \n",
      "=================================================================\n",
      "Total params: 396,353\n",
      "Trainable params: 393,537\n",
      "Non-trainable params: 2,816\n",
      "_________________________________________________________________\n",
      "Epoch 1/60\n",
      "480/480 [==============================] - 94s 181ms/step - loss: 12739.1084 - accuracy: 0.9431 - val_loss: 13189.3174 - val_accuracy: 0.1126\n",
      "Epoch 2/60\n",
      "480/480 [==============================] - 84s 174ms/step - loss: 12739.0420 - accuracy: 0.9651 - val_loss: 13190.9092 - val_accuracy: 0.2034\n",
      "Epoch 3/60\n",
      "480/480 [==============================] - 85s 176ms/step - loss: 12739.0322 - accuracy: 0.9689 - val_loss: 13191.8379 - val_accuracy: 0.9601\n",
      "Epoch 4/60\n",
      "480/480 [==============================] - 87s 181ms/step - loss: 12739.0273 - accuracy: 0.9702 - val_loss: 13189.5684 - val_accuracy: 0.2020\n",
      "Epoch 5/60\n",
      "480/480 [==============================] - 84s 175ms/step - loss: 12739.0283 - accuracy: 0.9703 - val_loss: 13189.6240 - val_accuracy: 0.0789\n",
      "Epoch 6/60\n",
      "480/480 [==============================] - 87s 182ms/step - loss: 12739.0225 - accuracy: 0.9703 - val_loss: 13189.1963 - val_accuracy: 0.1751\n",
      "Epoch 7/60\n",
      "480/480 [==============================] - 87s 181ms/step - loss: 12739.0234 - accuracy: 0.9704 - val_loss: 13189.3037 - val_accuracy: 0.0601\n",
      "Epoch 8/60\n",
      "480/480 [==============================] - 90s 187ms/step - loss: 12739.0283 - accuracy: 0.9704 - val_loss: 13189.1611 - val_accuracy: 0.2099\n",
      "Epoch 9/60\n",
      "480/480 [==============================] - 92s 191ms/step - loss: 12739.0225 - accuracy: 0.9704 - val_loss: 13189.2988 - val_accuracy: 0.0649\n",
      "Epoch 10/60\n",
      "480/480 [==============================] - 91s 190ms/step - loss: 12739.0293 - accuracy: 0.9704 - val_loss: 13194.2793 - val_accuracy: 0.9620\n",
      "Epoch 11/60\n",
      "480/480 [==============================] - 91s 190ms/step - loss: 12739.0303 - accuracy: 0.9704 - val_loss: 13189.2510 - val_accuracy: 0.9681\n",
      "Epoch 12/60\n",
      "480/480 [==============================] - 89s 186ms/step - loss: 12739.0195 - accuracy: 0.9704 - val_loss: 13188.4131 - val_accuracy: 0.9691\n",
      "Epoch 13/60\n",
      "480/480 [==============================] - 91s 190ms/step - loss: 12739.0293 - accuracy: 0.9704 - val_loss: 13191.5156 - val_accuracy: 0.9651\n",
      "Epoch 14/60\n",
      "480/480 [==============================] - 91s 190ms/step - loss: 12739.0273 - accuracy: 0.9704 - val_loss: 13190.9092 - val_accuracy: 0.0588\n",
      "Epoch 15/60\n",
      "480/480 [==============================] - 89s 185ms/step - loss: 12739.0283 - accuracy: 0.9704 - val_loss: 13189.1865 - val_accuracy: 0.1738\n",
      "Epoch 16/60\n",
      "480/480 [==============================] - 91s 189ms/step - loss: 12739.0186 - accuracy: 0.9704 - val_loss: 13205.6387 - val_accuracy: 0.9451\n",
      "Epoch 17/60\n",
      "480/480 [==============================] - 92s 191ms/step - loss: 12739.0312 - accuracy: 0.9704 - val_loss: 13189.6455 - val_accuracy: 0.1266\n",
      "Epoch 18/60\n",
      "480/480 [==============================] - 92s 191ms/step - loss: 12739.0205 - accuracy: 0.9704 - val_loss: 13188.4014 - val_accuracy: 0.9691\n",
      "Epoch 19/60\n",
      "480/480 [==============================] - 90s 188ms/step - loss: 12739.0303 - accuracy: 0.9704 - val_loss: 13194.3848 - val_accuracy: 0.9610\n",
      "Epoch 20/60\n",
      "480/480 [==============================] - 93s 195ms/step - loss: 12739.0322 - accuracy: 0.9704 - val_loss: 13188.4014 - val_accuracy: 0.9691\n",
      "Epoch 21/60\n",
      "480/480 [==============================] - 93s 194ms/step - loss: 12739.0195 - accuracy: 0.9704 - val_loss: 13194.5098 - val_accuracy: 0.9613\n",
      "Epoch 22/60\n",
      "480/480 [==============================] - 92s 192ms/step - loss: 12739.0244 - accuracy: 0.9704 - val_loss: 13193.7832 - val_accuracy: 0.9614\n",
      "Epoch 23/60\n",
      "480/480 [==============================] - 91s 189ms/step - loss: 12739.0264 - accuracy: 0.9704 - val_loss: 13188.4014 - val_accuracy: 0.9691\n",
      "Epoch 24/60\n",
      "480/480 [==============================] - 92s 192ms/step - loss: 12739.0234 - accuracy: 0.9704 - val_loss: 13188.4014 - val_accuracy: 0.9691\n",
      "Epoch 25/60\n",
      "480/480 [==============================] - 92s 191ms/step - loss: 12739.0234 - accuracy: 0.9704 - val_loss: 13188.9600 - val_accuracy: 0.9684\n",
      "Epoch 26/60\n",
      "480/480 [==============================] - 90s 187ms/step - loss: 12739.0303 - accuracy: 0.9704 - val_loss: 13188.4014 - val_accuracy: 0.9691\n",
      "Epoch 27/60\n",
      "480/480 [==============================] - 84s 175ms/step - loss: 12739.0264 - accuracy: 0.9704 - val_loss: 13191.8105 - val_accuracy: 0.9646\n",
      "Epoch 28/60\n",
      "480/480 [==============================] - 88s 183ms/step - loss: 12739.0303 - accuracy: 0.9704 - val_loss: 13189.3320 - val_accuracy: 0.9669\n",
      "Epoch 29/60\n",
      "480/480 [==============================] - 92s 192ms/step - loss: 12739.0312 - accuracy: 0.9704 - val_loss: 13191.5195 - val_accuracy: 0.9647\n",
      "Epoch 30/60\n",
      "480/480 [==============================] - 91s 189ms/step - loss: 12739.0244 - accuracy: 0.9704 - val_loss: 13195.9932 - val_accuracy: 0.9591\n",
      "Epoch 31/60\n",
      "480/480 [==============================] - 86s 179ms/step - loss: 12739.0303 - accuracy: 0.9704 - val_loss: 13192.3096 - val_accuracy: 0.9630\n",
      "Epoch 32/60\n",
      "480/480 [==============================] - 86s 180ms/step - loss: 12739.0264 - accuracy: 0.9704 - val_loss: 13202.1055 - val_accuracy: 0.9534\n",
      "Epoch 33/60\n",
      "480/480 [==============================] - 86s 180ms/step - loss: 12739.0322 - accuracy: 0.9704 - val_loss: 13201.5479 - val_accuracy: 0.9539\n",
      "Epoch 34/60\n",
      "480/480 [==============================] - 85s 176ms/step - loss: 12739.0332 - accuracy: 0.9704 - val_loss: 13188.4014 - val_accuracy: 0.9691\n",
      "Epoch 35/60\n",
      "480/480 [==============================] - 87s 181ms/step - loss: 12739.0293 - accuracy: 0.9704 - val_loss: 13188.4609 - val_accuracy: 0.9691\n",
      "Epoch 36/60\n",
      "480/480 [==============================] - 87s 181ms/step - loss: 12739.0215 - accuracy: 0.9704 - val_loss: 13203.2373 - val_accuracy: 0.9522\n",
      "Epoch 37/60\n",
      "480/480 [==============================] - 86s 178ms/step - loss: 12739.0312 - accuracy: 0.9704 - val_loss: 13188.4033 - val_accuracy: 0.9691\n",
      "Epoch 38/60\n",
      "480/480 [==============================] - 86s 180ms/step - loss: 12739.0312 - accuracy: 0.9704 - val_loss: 13192.4453 - val_accuracy: 0.9635\n",
      "Epoch 39/60\n",
      "480/480 [==============================] - 86s 180ms/step - loss: 12739.0312 - accuracy: 0.9704 - val_loss: 13188.4111 - val_accuracy: 0.9691\n",
      "Epoch 40/60\n",
      "480/480 [==============================] - 109s 228ms/step - loss: 12739.0264 - accuracy: 0.9704 - val_loss: 13201.0742 - val_accuracy: 0.9566\n",
      "Epoch 41/60\n",
      "480/480 [==============================] - 95s 197ms/step - loss: 12739.0400 - accuracy: 0.9704 - val_loss: 13190.6553 - val_accuracy: 0.9662\n",
      "Epoch 42/60\n",
      "480/480 [==============================] - 89s 185ms/step - loss: 12739.0303 - accuracy: 0.9704 - val_loss: 13189.2363 - val_accuracy: 0.1320\n",
      "Epoch 43/60\n",
      "480/480 [==============================] - 88s 182ms/step - loss: 12739.0225 - accuracy: 0.9704 - val_loss: 13188.4014 - val_accuracy: 0.9691\n",
      "Epoch 44/60\n",
      "480/480 [==============================] - 83s 173ms/step - loss: 12739.0234 - accuracy: 0.9704 - val_loss: 13188.4014 - val_accuracy: 0.9691\n",
      "Epoch 45/60\n",
      "480/480 [==============================] - 83s 174ms/step - loss: 12739.0293 - accuracy: 0.9704 - val_loss: 13188.4014 - val_accuracy: 0.9691\n",
      "Epoch 46/60\n",
      "480/480 [==============================] - 84s 176ms/step - loss: 12739.0225 - accuracy: 0.9704 - val_loss: 13191.9375 - val_accuracy: 0.9631\n",
      "Epoch 47/60\n",
      "480/480 [==============================] - 83s 172ms/step - loss: 12739.0244 - accuracy: 0.9704 - val_loss: 13188.4707 - val_accuracy: 0.9691\n",
      "Epoch 48/60\n",
      "480/480 [==============================] - 85s 176ms/step - loss: 12739.0273 - accuracy: 0.9704 - val_loss: 13200.9463 - val_accuracy: 0.9542\n",
      "Epoch 49/60\n",
      "480/480 [==============================] - 84s 176ms/step - loss: 12739.0293 - accuracy: 0.9704 - val_loss: 13188.4014 - val_accuracy: 0.9691\n",
      "Epoch 50/60\n",
      "480/480 [==============================] - 84s 174ms/step - loss: 12739.0225 - accuracy: 0.9704 - val_loss: 13190.2803 - val_accuracy: 0.9657\n",
      "Epoch 51/60\n",
      "480/480 [==============================] - 84s 174ms/step - loss: 12739.0244 - accuracy: 0.9704 - val_loss: 13189.7578 - val_accuracy: 0.9673\n",
      "Epoch 52/60\n",
      "480/480 [==============================] - 84s 175ms/step - loss: 12739.0176 - accuracy: 0.9704 - val_loss: 13188.4014 - val_accuracy: 0.9691\n",
      "Epoch 53/60\n",
      "480/480 [==============================] - 82s 171ms/step - loss: 12739.0264 - accuracy: 0.9704 - val_loss: 13188.7539 - val_accuracy: 0.9671\n",
      "Epoch 54/60\n",
      "480/480 [==============================] - 85s 177ms/step - loss: 12739.0293 - accuracy: 0.9704 - val_loss: 13188.4072 - val_accuracy: 0.9686\n",
      "Epoch 55/60\n",
      "480/480 [==============================] - 86s 178ms/step - loss: 12739.0205 - accuracy: 0.9704 - val_loss: 13188.4014 - val_accuracy: 0.9691\n",
      "Epoch 56/60\n",
      "480/480 [==============================] - 84s 176ms/step - loss: 12739.0234 - accuracy: 0.9704 - val_loss: 13188.4014 - val_accuracy: 0.9691\n",
      "Epoch 57/60\n",
      "480/480 [==============================] - 86s 178ms/step - loss: 12739.0312 - accuracy: 0.9704 - val_loss: 13188.4014 - val_accuracy: 0.9691\n",
      "Epoch 58/60\n",
      "480/480 [==============================] - 88s 184ms/step - loss: 12739.0195 - accuracy: 0.9704 - val_loss: 13189.2324 - val_accuracy: 0.1319\n",
      "Epoch 59/60\n",
      "480/480 [==============================] - 95s 198ms/step - loss: 12739.0342 - accuracy: 0.9704 - val_loss: 13188.8594 - val_accuracy: 0.9684\n",
      "Epoch 60/60\n",
      "480/480 [==============================] - 88s 184ms/step - loss: 12739.0293 - accuracy: 0.9704 - val_loss: 13188.4014 - val_accuracy: 0.9691\n"
     ]
    }
   ],
   "source": [
    "import tensorflow as tf\n",
    "from tensorflow.keras.optimizers import RMSprop\n",
    "EncoModel = tf.keras.Sequential([\n",
    "    tf.keras.layers.Input(shape=(209,1)),                             \n",
    "    tf.keras.layers.Conv1D(32, 2, activation='relu', padding='same'),#Start Encoder\n",
    "    tf.keras.layers.BatchNormalization(),\n",
    "    tf.keras.layers.Conv1D(32, 2, activation='relu', padding='same'),\n",
    "    tf.keras.layers.BatchNormalization(),\n",
    "    tf.keras.layers.MaxPooling1D(pool_size=1, strides=2),\n",
    "    tf.keras.layers.Conv1D(64, 2, activation='relu', padding='same'),\n",
    "    tf.keras.layers.BatchNormalization(),\n",
    "    tf.keras.layers.Conv1D(64, 2, activation='relu', padding='same'),\n",
    "    tf.keras.layers.BatchNormalization(),\n",
    "    tf.keras.layers.MaxPooling1D(pool_size=1, strides=2),\n",
    "    tf.keras.layers.Conv1D(128, 2, activation='relu', padding='same'),\n",
    "    tf.keras.layers.BatchNormalization(),\n",
    "    tf.keras.layers.Conv1D(128, 2, activation='relu', padding='same'),\n",
    "    tf.keras.layers.BatchNormalization(),\n",
    "    tf.keras.layers.Conv1D(256, 2, activation='relu', padding='same'),\n",
    "    tf.keras.layers.BatchNormalization(),\n",
    "    tf.keras.layers.Conv1D(256, 2, activation='relu', padding='same'),\n",
    "    tf.keras.layers.BatchNormalization(), #End Encoder\n",
    "    tf.keras.layers.Conv1D(128, 2, activation='relu', padding='same'),\n",
    "    tf.keras.layers.BatchNormalization(),\n",
    "    tf.keras.layers.Conv1D(128, 2, activation='relu', padding='same'),\n",
    "    tf.keras.layers.BatchNormalization(),\n",
    "    tf.keras.layers.Conv1D(64, 2, activation='relu', padding='same'),\n",
    "    tf.keras.layers.BatchNormalization(),\n",
    "    tf.keras.layers.Conv1D(64, 2, activation='relu', padding='same'),\n",
    "    tf.keras.layers.BatchNormalization(),\n",
    "    tf.keras.layers.UpSampling1D(2),\n",
    "    tf.keras.layers.Conv1D(32, 2, activation='relu', padding='same'),\n",
    "    tf.keras.layers.BatchNormalization(),\n",
    "    tf.keras.layers.Conv1D(32, 2, activation='relu', padding='same'),\n",
    "    tf.keras.layers.BatchNormalization(),\n",
    "    tf.keras.layers.UpSampling1D(2),\n",
    "    tf.keras.layers.Conv1D(1, 4, activation='sigmoid')\n",
    "])\n",
    "EncoModel.summary()\n",
    "\n",
    "EncoModel.compile(loss='mean_squared_error', optimizer = RMSprop(),metrics=['accuracy'])\n",
    "\n",
    "EncoModel_train = EncoModel.fit(EDtraining_padded, EDtraining_padded, batch_size=32, epochs=25, verbose=1, validation_data=(EDtesting_padded, EDtesting_padded))"
   ]
  },
  {
   "cell_type": "code",
   "execution_count": null,
   "metadata": {
    "colab": {
     "base_uri": "https://localhost:8080/",
     "height": 573
    },
    "id": "hWTHcVtSUfbE",
    "outputId": "8c22c212-6654-4769-ee65-653eeae10831"
   },
   "outputs": [
    {
     "data": {
      "image/png": "[encoded data removed]",
      "text/plain": [
       "<Figure size 432x288 with 1 Axes>"
      ]
     },
     "metadata": {
      "needs_background": "light"
     },
     "output_type": "display_data"
    },
    {
     "data": {
      "image/png": "[encoded data removed]",
      "text/plain": [
       "<Figure size 432x288 with 1 Axes>"
      ]
     },
     "metadata": {
      "needs_background": "light"
     },
     "output_type": "display_data"
    }
   ],
   "source": [
    "import matplotlib.pyplot as plt\n",
    "import numpy\n",
    "# summarize history for accuracy\n",
    "plt.plot(EncoModel_train.history['loss'])\n",
    "plt.plot(EncoModel_train.history['val_loss'])\n",
    "plt.title('model loss')\n",
    "plt.ylabel('loss')\n",
    "plt.xlabel('epoch')\n",
    "plt.legend(['train', 'test'], loc='upper left')\n",
    "plt.show()\n",
    "# summarize history for loss\n",
    "plt.plot(EncoModel_train.history['accuracy'])\n",
    "plt.plot(EncoModel_train.history['val_accuracy'])\n",
    "plt.title('model accuracy')\n",
    "plt.ylabel('accuracy')\n",
    "plt.xlabel('epoch')\n",
    "plt.legend(['train', 'test'], loc='upper left')\n",
    "plt.show()"
   ]
  },
  {
   "cell_type": "code",
   "execution_count": null,
   "metadata": {
    "colab": {
     "base_uri": "https://localhost:8080/",
     "height": 573
    },
    "id": "dtyjCPA2kExS",
    "outputId": "fbc08c77-4651-4b94-af2d-46fb1a9acbf9"
   },
   "outputs": [
    {
     "data": {
      "image/png": "[encoded data removed]",
      "text/plain": [
       "<Figure size 432x288 with 1 Axes>"
      ]
     },
     "metadata": {
      "needs_background": "light"
     },
     "output_type": "display_data"
    },
    {
     "data": {
      "image/png": "[encoded data removed]",
      "text/plain": [
       "<Figure size 432x288 with 1 Axes>"
      ]
     },
     "metadata": {
      "needs_background": "light"
     },
     "output_type": "display_data"
    }
   ],
   "source": [
    "# summarize history for accuracy\n",
    "plt.plot(EncoModel_train.history['loss'])\n",
    "plt.plot(EncoModel_train.history['val_loss'])\n",
    "plt.title('model loss')\n",
    "plt.ylabel('loss')\n",
    "plt.xlabel('epoch')\n",
    "plt.legend(['train', 'test'], loc='upper left')\n",
    "plt.show()\n",
    "# summarize history for loss\n",
    "plt.plot(EncoModel_train.history['accuracy'])\n",
    "plt.plot(EncoModel_train.history['val_accuracy'])\n",
    "plt.title('model accuracy')\n",
    "plt.ylabel('accuracy')\n",
    "plt.xlabel('epoch')\n",
    "plt.legend(['train', 'test'], loc='upper left')\n",
    "plt.show()"
   ]
  },
  {
   "cell_type": "code",
   "execution_count": null,
   "metadata": {
    "colab": {
     "base_uri": "https://localhost:8080/"
    },
    "id": "36tdNqumAo_o",
    "outputId": "593eb4a9-0e16-447b-a15f-6e984e6cf766"
   },
   "outputs": [
    {
     "name": "stdout",
     "output_type": "stream",
     "text": [
      "Model: \"sequential_1\"\n",
      "_________________________________________________________________\n",
      " Layer (type)                Output Shape              Param #   \n",
      "=================================================================\n",
      " conv1d_15 (Conv1D)          (None, 209, 32)           96        \n",
      "                                                                 \n",
      " batch_normalization_14 (Bat  (None, 209, 32)          128       \n",
      " chNormalization)                                                \n",
      "                                                                 \n",
      " conv1d_16 (Conv1D)          (None, 209, 32)           2080      \n",
      "                                                                 \n",
      " batch_normalization_15 (Bat  (None, 209, 32)          128       \n",
      " chNormalization)                                                \n",
      "                                                                 \n",
      " max_pooling1d_2 (MaxPooling  (None, 105, 32)          0         \n",
      " 1D)                                                             \n",
      "                                                                 \n",
      " conv1d_17 (Conv1D)          (None, 105, 64)           4160      \n",
      "                                                                 \n",
      " batch_normalization_16 (Bat  (None, 105, 64)          256       \n",
      " chNormalization)                                                \n",
      "                                                                 \n",
      " conv1d_18 (Conv1D)          (None, 105, 64)           8256      \n",
      "                                                                 \n",
      " batch_normalization_17 (Bat  (None, 105, 64)          256       \n",
      " chNormalization)                                                \n",
      "                                                                 \n",
      " max_pooling1d_3 (MaxPooling  (None, 53, 64)           0         \n",
      " 1D)                                                             \n",
      "                                                                 \n",
      " conv1d_19 (Conv1D)          (None, 53, 128)           16512     \n",
      "                                                                 \n",
      " batch_normalization_18 (Bat  (None, 53, 128)          512       \n",
      " chNormalization)                                                \n",
      "                                                                 \n",
      " conv1d_20 (Conv1D)          (None, 53, 128)           32896     \n",
      "                                                                 \n",
      " batch_normalization_19 (Bat  (None, 53, 128)          512       \n",
      " chNormalization)                                                \n",
      "                                                                 \n",
      " conv1d_21 (Conv1D)          (None, 53, 256)           65792     \n",
      "                                                                 \n",
      " batch_normalization_20 (Bat  (None, 53, 256)          1024      \n",
      " chNormalization)                                                \n",
      "                                                                 \n",
      " conv1d_22 (Conv1D)          (None, 53, 256)           131328    \n",
      "                                                                 \n",
      " batch_normalization_21 (Bat  (None, 53, 256)          1024      \n",
      " chNormalization)                                                \n",
      "                                                                 \n",
      " flatten (Flatten)           (None, 13568)             0         \n",
      "                                                                 \n",
      " dense (Dense)               (None, 128)               1736832   \n",
      "                                                                 \n",
      " dense_1 (Dense)             (None, 3)                 387       \n",
      "                                                                 \n",
      "=================================================================\n",
      "Total params: 2,002,179\n",
      "Trainable params: 2,000,259\n",
      "Non-trainable params: 1,920\n",
      "_________________________________________________________________\n",
      "Epoch 1/60\n"
     ]
    },
    {
     "name": "stderr",
     "output_type": "stream",
     "text": [
      "/usr/local/lib/python3.7/dist-packages/ipykernel_launcher.py:51: DeprecationWarning: `np.int` is a deprecated alias for the builtin `int`. To silence this warning, use `int` by itself. Doing this will not modify any behavior and is safe. When replacing `np.int`, you may wish to use e.g. `np.int64` or `np.int32` to specify the precision. If you wish to review your current use, check the release note link for additional information.\n",
      "Deprecated in NumPy 1.20; for more details and guidance: https://numpy.org/devdocs/release/1.20.0-notes.html#deprecations\n",
      "/usr/local/lib/python3.7/dist-packages/ipykernel_launcher.py:52: DeprecationWarning: `np.int` is a deprecated alias for the builtin `int`. To silence this warning, use `int` by itself. Doing this will not modify any behavior and is safe. When replacing `np.int`, you may wish to use e.g. `np.int64` or `np.int32` to specify the precision. If you wish to review your current use, check the release note link for additional information.\n",
      "Deprecated in NumPy 1.20; for more details and guidance: https://numpy.org/devdocs/release/1.20.0-notes.html#deprecations\n"
     ]
    },
    {
     "name": "stdout",
     "output_type": "stream",
     "text": [
      "120/120 [==============================] - 17s 127ms/step - loss: 0.7918 - accuracy: 0.4095 - val_loss: 0.6408 - val_accuracy: 0.4396\n",
      "Epoch 2/60\n",
      "120/120 [==============================] - 16s 138ms/step - loss: 0.6467 - accuracy: 0.4176 - val_loss: 0.6249 - val_accuracy: 0.4002\n",
      "Epoch 3/60\n",
      "120/120 [==============================] - 15s 122ms/step - loss: 0.6218 - accuracy: 0.4296 - val_loss: 0.6119 - val_accuracy: 0.4272\n",
      "Epoch 4/60\n",
      "120/120 [==============================] - 15s 123ms/step - loss: 0.6217 - accuracy: 0.4269 - val_loss: 0.6318 - val_accuracy: 0.3938\n",
      "Epoch 5/60\n",
      "120/120 [==============================] - 15s 124ms/step - loss: 0.6180 - accuracy: 0.4339 - val_loss: 0.6357 - val_accuracy: 0.3897\n",
      "Epoch 6/60\n",
      "120/120 [==============================] - 15s 123ms/step - loss: 0.6178 - accuracy: 0.4318 - val_loss: 0.6177 - val_accuracy: 0.4208\n",
      "Epoch 7/60\n",
      "120/120 [==============================] - 15s 122ms/step - loss: 0.6135 - accuracy: 0.4354 - val_loss: 0.6449 - val_accuracy: 0.3110\n",
      "Epoch 8/60\n",
      "120/120 [==============================] - 15s 123ms/step - loss: 0.6149 - accuracy: 0.4355 - val_loss: 0.6062 - val_accuracy: 0.4619\n",
      "Epoch 9/60\n",
      "120/120 [==============================] - 15s 123ms/step - loss: 0.6088 - accuracy: 0.4363 - val_loss: 0.6416 - val_accuracy: 0.3656\n",
      "Epoch 10/60\n",
      "120/120 [==============================] - 17s 138ms/step - loss: 0.6083 - accuracy: 0.4407 - val_loss: 0.6688 - val_accuracy: 0.2723\n",
      "Epoch 11/60\n",
      "120/120 [==============================] - 15s 123ms/step - loss: 0.6090 - accuracy: 0.4380 - val_loss: 0.6295 - val_accuracy: 0.3445\n",
      "Epoch 12/60\n",
      "120/120 [==============================] - 15s 124ms/step - loss: 0.6085 - accuracy: 0.4445 - val_loss: 0.6347 - val_accuracy: 0.3550\n",
      "Epoch 13/60\n",
      "120/120 [==============================] - 15s 123ms/step - loss: 0.6094 - accuracy: 0.4415 - val_loss: 0.6046 - val_accuracy: 0.4413\n",
      "Epoch 14/60\n",
      "120/120 [==============================] - 15s 124ms/step - loss: 0.6076 - accuracy: 0.4394 - val_loss: 0.6249 - val_accuracy: 0.3908\n",
      "Epoch 15/60\n",
      "120/120 [==============================] - 15s 124ms/step - loss: 0.6072 - accuracy: 0.4368 - val_loss: 0.6355 - val_accuracy: 0.3973\n",
      "Epoch 16/60\n",
      "120/120 [==============================] - 15s 124ms/step - loss: 0.6075 - accuracy: 0.4429 - val_loss: 0.6337 - val_accuracy: 0.3803\n",
      "Epoch 17/60\n",
      "120/120 [==============================] - 15s 124ms/step - loss: 0.6074 - accuracy: 0.4383 - val_loss: 0.6310 - val_accuracy: 0.4014\n",
      "Epoch 18/60\n",
      "120/120 [==============================] - 15s 124ms/step - loss: 0.6070 - accuracy: 0.4392 - val_loss: 0.6249 - val_accuracy: 0.4090\n",
      "Epoch 19/60\n",
      "120/120 [==============================] - 17s 139ms/step - loss: 0.6068 - accuracy: 0.4398 - val_loss: 0.6285 - val_accuracy: 0.3838\n",
      "Epoch 20/60\n",
      "120/120 [==============================] - 15s 124ms/step - loss: 0.6077 - accuracy: 0.4396 - val_loss: 0.6118 - val_accuracy: 0.4583\n",
      "Epoch 21/60\n",
      "120/120 [==============================] - 15s 124ms/step - loss: 0.6069 - accuracy: 0.4404 - val_loss: 0.6357 - val_accuracy: 0.3785\n",
      "Epoch 22/60\n",
      "120/120 [==============================] - 15s 123ms/step - loss: 0.6063 - accuracy: 0.4416 - val_loss: 0.6305 - val_accuracy: 0.3955\n",
      "Epoch 23/60\n",
      "120/120 [==============================] - 15s 124ms/step - loss: 0.6070 - accuracy: 0.4388 - val_loss: 0.6436 - val_accuracy: 0.3498\n",
      "Epoch 24/60\n",
      "120/120 [==============================] - 15s 124ms/step - loss: 0.6068 - accuracy: 0.4401 - val_loss: 0.6403 - val_accuracy: 0.3815\n",
      "Epoch 25/60\n",
      "120/120 [==============================] - 15s 123ms/step - loss: 0.6065 - accuracy: 0.4420 - val_loss: 0.6334 - val_accuracy: 0.3926\n",
      "Epoch 26/60\n",
      "120/120 [==============================] - 15s 123ms/step - loss: 0.6072 - accuracy: 0.4378 - val_loss: 0.6207 - val_accuracy: 0.4266\n",
      "Epoch 27/60\n",
      "120/120 [==============================] - 16s 136ms/step - loss: 0.6063 - accuracy: 0.4405 - val_loss: 0.6380 - val_accuracy: 0.3457\n",
      "Epoch 28/60\n",
      "120/120 [==============================] - 15s 123ms/step - loss: 0.6061 - accuracy: 0.4425 - val_loss: 0.6114 - val_accuracy: 0.4448\n",
      "Epoch 29/60\n",
      "120/120 [==============================] - 15s 123ms/step - loss: 0.6065 - accuracy: 0.4421 - val_loss: 0.6340 - val_accuracy: 0.3797\n",
      "Epoch 30/60\n",
      "120/120 [==============================] - 15s 123ms/step - loss: 0.6068 - accuracy: 0.4375 - val_loss: 0.6283 - val_accuracy: 0.3950\n",
      "Epoch 31/60\n",
      "120/120 [==============================] - 15s 122ms/step - loss: 0.6060 - accuracy: 0.4449 - val_loss: 0.6267 - val_accuracy: 0.4038\n",
      "Epoch 32/60\n",
      "120/120 [==============================] - 15s 123ms/step - loss: 0.6056 - accuracy: 0.4467 - val_loss: 0.6283 - val_accuracy: 0.4366\n",
      "Epoch 33/60\n",
      "120/120 [==============================] - 15s 124ms/step - loss: 0.6061 - accuracy: 0.4463 - val_loss: 0.6325 - val_accuracy: 0.3926\n",
      "Epoch 34/60\n",
      "120/120 [==============================] - 15s 124ms/step - loss: 0.6069 - accuracy: 0.4430 - val_loss: 0.6193 - val_accuracy: 0.4384\n",
      "Epoch 35/60\n",
      "120/120 [==============================] - 15s 122ms/step - loss: 0.6065 - accuracy: 0.4429 - val_loss: 0.6087 - val_accuracy: 0.4507\n",
      "Epoch 36/60\n",
      "120/120 [==============================] - 16s 137ms/step - loss: 0.6064 - accuracy: 0.4416 - val_loss: 0.6206 - val_accuracy: 0.4536\n",
      "Epoch 37/60\n",
      "120/120 [==============================] - 15s 123ms/step - loss: 0.6061 - accuracy: 0.4431 - val_loss: 0.6267 - val_accuracy: 0.3903\n",
      "Epoch 38/60\n",
      "120/120 [==============================] - 15s 122ms/step - loss: 0.6057 - accuracy: 0.4418 - val_loss: 0.6203 - val_accuracy: 0.4331\n",
      "Epoch 39/60\n",
      "120/120 [==============================] - 15s 124ms/step - loss: 0.6062 - accuracy: 0.4420 - val_loss: 0.6244 - val_accuracy: 0.4560\n",
      "Epoch 40/60\n",
      "120/120 [==============================] - 15s 123ms/step - loss: 0.6053 - accuracy: 0.4473 - val_loss: 0.6529 - val_accuracy: 0.3633\n",
      "Epoch 41/60\n",
      "120/120 [==============================] - 15s 124ms/step - loss: 0.6062 - accuracy: 0.4415 - val_loss: 0.6223 - val_accuracy: 0.4378\n",
      "Epoch 42/60\n",
      "120/120 [==============================] - 15s 123ms/step - loss: 0.6056 - accuracy: 0.4416 - val_loss: 0.6419 - val_accuracy: 0.3820\n",
      "Epoch 43/60\n",
      "120/120 [==============================] - 15s 122ms/step - loss: 0.6058 - accuracy: 0.4416 - val_loss: 0.6481 - val_accuracy: 0.3410\n",
      "Epoch 44/60\n",
      "120/120 [==============================] - 15s 124ms/step - loss: 0.6062 - accuracy: 0.4445 - val_loss: 0.6357 - val_accuracy: 0.3879\n",
      "Epoch 45/60\n",
      "120/120 [==============================] - 16s 137ms/step - loss: 0.6060 - accuracy: 0.4439 - val_loss: 0.6369 - val_accuracy: 0.4284\n",
      "Epoch 46/60\n",
      "120/120 [==============================] - 14s 121ms/step - loss: 0.6054 - accuracy: 0.4441 - val_loss: 0.6079 - val_accuracy: 0.4730\n",
      "Epoch 47/60\n",
      "120/120 [==============================] - 15s 122ms/step - loss: 0.6063 - accuracy: 0.4413 - val_loss: 0.6389 - val_accuracy: 0.3908\n",
      "Epoch 48/60\n",
      "120/120 [==============================] - 15s 123ms/step - loss: 0.6060 - accuracy: 0.4423 - val_loss: 0.6561 - val_accuracy: 0.3697\n",
      "Epoch 49/60\n",
      "120/120 [==============================] - 15s 123ms/step - loss: 0.6060 - accuracy: 0.4407 - val_loss: 0.6220 - val_accuracy: 0.4073\n",
      "Epoch 50/60\n",
      "120/120 [==============================] - 15s 123ms/step - loss: 0.6062 - accuracy: 0.4435 - val_loss: 0.6393 - val_accuracy: 0.3627\n",
      "Epoch 51/60\n",
      "120/120 [==============================] - 15s 123ms/step - loss: 0.6054 - accuracy: 0.4434 - val_loss: 0.6368 - val_accuracy: 0.3744\n",
      "Epoch 52/60\n",
      "120/120 [==============================] - 15s 123ms/step - loss: 0.6060 - accuracy: 0.4458 - val_loss: 0.6305 - val_accuracy: 0.4548\n",
      "Epoch 53/60\n",
      "120/120 [==============================] - 15s 125ms/step - loss: 0.6058 - accuracy: 0.4448 - val_loss: 0.6331 - val_accuracy: 0.4337\n",
      "Epoch 54/60\n",
      "120/120 [==============================] - 16s 135ms/step - loss: 0.6061 - accuracy: 0.4424 - val_loss: 0.6441 - val_accuracy: 0.3685\n",
      "Epoch 55/60\n",
      "120/120 [==============================] - 15s 122ms/step - loss: 0.6053 - accuracy: 0.4451 - val_loss: 0.6250 - val_accuracy: 0.3908\n",
      "Epoch 56/60\n",
      "120/120 [==============================] - 15s 123ms/step - loss: 0.6055 - accuracy: 0.4470 - val_loss: 0.6531 - val_accuracy: 0.3750\n",
      "Epoch 57/60\n",
      "120/120 [==============================] - 15s 124ms/step - loss: 0.6054 - accuracy: 0.4434 - val_loss: 0.6334 - val_accuracy: 0.4108\n",
      "Epoch 58/60\n",
      "120/120 [==============================] - 15s 123ms/step - loss: 0.6071 - accuracy: 0.4405 - val_loss: 0.6376 - val_accuracy: 0.3844\n",
      "Epoch 59/60\n",
      "120/120 [==============================] - 15s 122ms/step - loss: 0.6055 - accuracy: 0.4452 - val_loss: 0.6409 - val_accuracy: 0.3967\n",
      "Epoch 60/60\n",
      "120/120 [==============================] - 15s 124ms/step - loss: 0.6065 - accuracy: 0.4413 - val_loss: 0.6188 - val_accuracy: 0.4548\n"
     ]
    }
   ],
   "source": [
    "FullModel = tf.keras.Sequential([\n",
    "    tf.keras.layers.Input(shape=(209,1)),                             \n",
    "    tf.keras.layers.Conv1D(32, 2, activation='relu', padding='same'),#Start Encoder\n",
    "    tf.keras.layers.BatchNormalization(),\n",
    "    tf.keras.layers.Conv1D(32, 2, activation='relu', padding='same'),\n",
    "    tf.keras.layers.BatchNormalization(),\n",
    "    tf.keras.layers.MaxPooling1D(pool_size=1, strides=2),\n",
    "    tf.keras.layers.Conv1D(64, 2, activation='relu', padding='same'),\n",
    "    tf.keras.layers.BatchNormalization(),\n",
    "    tf.keras.layers.Conv1D(64, 2, activation='relu', padding='same'),\n",
    "    tf.keras.layers.BatchNormalization(),\n",
    "    tf.keras.layers.MaxPooling1D(pool_size=1, strides=2),\n",
    "    tf.keras.layers.Conv1D(128, 2, activation='relu', padding='same'),\n",
    "    tf.keras.layers.BatchNormalization(),\n",
    "    tf.keras.layers.Conv1D(128, 2, activation='relu', padding='same'),\n",
    "    tf.keras.layers.BatchNormalization(),\n",
    "    tf.keras.layers.Conv1D(256, 2, activation='relu', padding='same'),\n",
    "    tf.keras.layers.BatchNormalization(),\n",
    "    tf.keras.layers.Conv1D(256, 2, activation='relu', padding='same'),\n",
    "    tf.keras.layers.BatchNormalization(), #End Encoder \n",
    "    #Add LSTM + Embedding\n",
    "    tf.keras.layers.Flatten(),\n",
    "    tf.keras.layers.Dense(128, activation='relu'),\n",
    "    tf.keras.layers.Dense(3, activation='softmax')\n",
    "])\n",
    "FullModel.summary()\n",
    "training_labels1=[]\n",
    "testing_labels1=[]\n",
    "for i in training_labels:\n",
    "  if i == 0:\n",
    "    training_labels1.append([1,0,0])\n",
    "  elif i == 1:\n",
    "    training_labels1.append([0,1,0])\n",
    "  else:\n",
    "    training_labels1.append([0,0,1])\n",
    "for i in testing_labels:\n",
    "  if i == 0:\n",
    "    testing_labels1.append([1,0,0])\n",
    "  elif i == 1:\n",
    "    testing_labels1.append([0,1,0])\n",
    "  else:\n",
    "    testing_labels1.append([0,0,1])\n",
    "for l1,l2 in zip(FullModel.layers[:18],EncoModel.layers[0:18]):\n",
    "    l1.set_weights(l2.get_weights())\n",
    "#First we train only the last three layers\n",
    "for layer in FullModel.layers[0:18]:\n",
    "    layer.trainable = False\n",
    "    \n",
    "FullModel.compile(loss='binary_crossentropy', optimizer=tf.keras.optimizers.Adam(),metrics=['accuracy'])\n",
    "\n",
    "training_labels1 = np.asarray(training_labels1).astype(np.int)\n",
    "testing_labels1 = np.asarray(testing_labels1).astype(np.int)\n",
    "\n",
    "history = FullModel.fit(EDtraining_padded, training_labels1, batch_size=128, epochs=60, validation_data=(EDtesting_padded, testing_labels1), verbose=1)"
   ]
  },
  {
   "cell_type": "code",
   "execution_count": null,
   "metadata": {
    "colab": {
     "base_uri": "https://localhost:8080/"
    },
    "id": "BtM4tlzRrm33",
    "outputId": "6d9e70d7-7e3c-4fe8-cc0c-76328ddfe606"
   },
   "outputs": [
    {
     "data": {
      "text/plain": [
       "array([[564,  36, 422],\n",
       "       [102,  20, 155],\n",
       "       [204,  10, 191]])"
      ]
     },
     "execution_count": 20,
     "metadata": {},
     "output_type": "execute_result"
    }
   ],
   "source": [
    "from sklearn.metrics import confusion_matrix\n",
    "import numpy as np\n",
    "pred1=FullModel.predict(testing_padded)\n",
    "pred11=[]\n",
    "for i in pred1:\n",
    "  if i[0]==max(i):\n",
    "    pred11.append(0)\n",
    "  elif i[1]==max(i):\n",
    "    pred11.append(1)\n",
    "  else:\n",
    "    pred11.append(2)\n",
    "#rounded_labels11=np.argmax(pred11, axis=1).astype(int)\n",
    "cm = confusion_matrix(testing_labels, pred11)\n",
    "cm"
   ]
  },
  {
   "cell_type": "code",
   "execution_count": null,
   "metadata": {
    "colab": {
     "base_uri": "https://localhost:8080/"
    },
    "id": "WTRO3ftvWBbi",
    "outputId": "d4e083e8-fb1a-4d34-87c7-8fee352748bc"
   },
   "outputs": [
    {
     "name": "stdout",
     "output_type": "stream",
     "text": [
      "              precision    recall  f1-score   support\n",
      "\n",
      "           0       0.65      0.55      0.60      1022\n",
      "           1       0.30      0.07      0.12       277\n",
      "           2       0.25      0.47      0.33       405\n",
      "\n",
      "    accuracy                           0.45      1704\n",
      "   macro avg       0.40      0.37      0.35      1704\n",
      "weighted avg       0.50      0.45      0.45      1704\n",
      "\n"
     ]
    }
   ],
   "source": [
    "from sklearn.metrics import classification_report\n",
    "print(classification_report(testing_labels, pred11, labels=[0,1,2]))"
   ]
  },
  {
   "cell_type": "code",
   "execution_count": null,
   "metadata": {
    "colab": {
     "base_uri": "https://localhost:8080/",
     "height": 573
    },
    "id": "LL9YiJC0Ujc0",
    "outputId": "89b330a9-d43e-410e-dfe0-374216992e5f"
   },
   "outputs": [
    {
     "data": {
      "image/png": "[encoded data removed]",
      "text/plain": [
       "<Figure size 432x288 with 1 Axes>"
      ]
     },
     "metadata": {
      "needs_background": "light"
     },
     "output_type": "display_data"
    },
    {
     "data": {
      "image/png": "[encoded data removed]",
      "text/plain": [
       "<Figure size 432x288 with 1 Axes>"
      ]
     },
     "metadata": {
      "needs_background": "light"
     },
     "output_type": "display_data"
    }
   ],
   "source": [
    "import matplotlib.pyplot as plt\n",
    "import numpy\n",
    "# summarize history for accuracy\n",
    "plt.plot(history.history['loss'])\n",
    "plt.plot(history.history['val_loss'])\n",
    "plt.title('model loss')\n",
    "plt.ylabel('loss')\n",
    "plt.xlabel('epoch')\n",
    "plt.legend(['train', 'test'], loc='upper left')\n",
    "plt.show()\n",
    "# summarize history for loss\n",
    "plt.plot(history.history['accuracy'])\n",
    "plt.plot(history.history['val_accuracy'])\n",
    "plt.title('model accuracy')\n",
    "plt.ylabel('accuracy')\n",
    "plt.xlabel('epoch')\n",
    "plt.legend(['train', 'test'], loc='upper left')\n",
    "plt.show()"
   ]
  },
  {
   "cell_type": "code",
   "execution_count": null,
   "metadata": {
    "colab": {
     "base_uri": "https://localhost:8080/"
    },
    "id": "7geXPvtOCWLG",
    "outputId": "59fd7881-94c0-419f-b5f6-6a96b33bc3ae"
   },
   "outputs": [
    {
     "name": "stdout",
     "output_type": "stream",
     "text": [
      "Epoch 1/70\n",
      "120/120 [==============================] - 57s 450ms/step - loss: 0.6110 - accuracy: 0.4420 - val_loss: 6.9516 - val_accuracy: 0.1626\n",
      "Epoch 2/70\n",
      "120/120 [==============================] - 55s 456ms/step - loss: 0.6124 - accuracy: 0.4412 - val_loss: 1.5532 - val_accuracy: 0.1614\n",
      "Epoch 3/70\n",
      "120/120 [==============================] - 53s 442ms/step - loss: 0.6061 - accuracy: 0.4451 - val_loss: 7.9303 - val_accuracy: 0.1608\n",
      "Epoch 4/70\n",
      "120/120 [==============================] - 53s 438ms/step - loss: 0.6057 - accuracy: 0.4458 - val_loss: 0.6409 - val_accuracy: 0.3345\n",
      "Epoch 5/70\n",
      "120/120 [==============================] - 55s 461ms/step - loss: 0.6029 - accuracy: 0.4463 - val_loss: 0.7297 - val_accuracy: 0.3339\n",
      "Epoch 6/70\n",
      "120/120 [==============================] - 52s 435ms/step - loss: 0.6029 - accuracy: 0.4520 - val_loss: 0.6509 - val_accuracy: 0.3462\n",
      "Epoch 7/70\n",
      "120/120 [==============================] - 53s 443ms/step - loss: 0.6013 - accuracy: 0.4559 - val_loss: 0.6662 - val_accuracy: 0.3327\n",
      "Epoch 8/70\n",
      "120/120 [==============================] - 53s 443ms/step - loss: 0.5985 - accuracy: 0.4563 - val_loss: 4.6493 - val_accuracy: 0.2388\n",
      "Epoch 9/70\n",
      "120/120 [==============================] - 52s 436ms/step - loss: 0.5971 - accuracy: 0.4621 - val_loss: 8.1558 - val_accuracy: 0.1626\n",
      "Epoch 10/70\n",
      "120/120 [==============================] - 54s 447ms/step - loss: 0.6237 - accuracy: 0.4467 - val_loss: 0.6087 - val_accuracy: 0.4460\n",
      "Epoch 11/70\n",
      "120/120 [==============================] - 54s 450ms/step - loss: 0.6059 - accuracy: 0.4442 - val_loss: 0.6488 - val_accuracy: 0.3234\n",
      "Epoch 12/70\n",
      "120/120 [==============================] - 56s 470ms/step - loss: 0.6009 - accuracy: 0.4578 - val_loss: 0.7112 - val_accuracy: 0.2735\n",
      "Epoch 13/70\n",
      "120/120 [==============================] - 55s 455ms/step - loss: 0.5957 - accuracy: 0.4654 - val_loss: 0.7200 - val_accuracy: 0.2430\n",
      "Epoch 14/70\n",
      "120/120 [==============================] - 56s 469ms/step - loss: 0.5899 - accuracy: 0.4790 - val_loss: 0.7421 - val_accuracy: 0.2406\n",
      "Epoch 15/70\n",
      "120/120 [==============================] - 55s 455ms/step - loss: 0.5840 - accuracy: 0.4863 - val_loss: 0.7104 - val_accuracy: 0.2471\n",
      "Epoch 16/70\n",
      "120/120 [==============================] - 55s 455ms/step - loss: 0.5741 - accuracy: 0.4985 - val_loss: 8.9872 - val_accuracy: 0.1626\n",
      "Epoch 17/70\n",
      "120/120 [==============================] - 56s 470ms/step - loss: 0.5662 - accuracy: 0.5098 - val_loss: 0.6858 - val_accuracy: 0.4237\n",
      "Epoch 18/70\n",
      "120/120 [==============================] - 54s 453ms/step - loss: 0.5590 - accuracy: 0.5231 - val_loss: 0.6346 - val_accuracy: 0.3433\n",
      "Epoch 19/70\n",
      "120/120 [==============================] - 56s 468ms/step - loss: 0.5533 - accuracy: 0.5321 - val_loss: 6.0530 - val_accuracy: 0.1626\n",
      "Epoch 20/70\n",
      "120/120 [==============================] - 54s 453ms/step - loss: 0.5425 - accuracy: 0.5443 - val_loss: 3.6961 - val_accuracy: 0.3474\n",
      "Epoch 21/70\n",
      "120/120 [==============================] - 54s 454ms/step - loss: 0.5305 - accuracy: 0.5608 - val_loss: 7.1251 - val_accuracy: 0.1626\n",
      "Epoch 22/70\n",
      "120/120 [==============================] - 56s 468ms/step - loss: 0.5167 - accuracy: 0.5791 - val_loss: 0.8965 - val_accuracy: 0.2899\n",
      "Epoch 23/70\n",
      "120/120 [==============================] - 54s 453ms/step - loss: 0.5035 - accuracy: 0.5923 - val_loss: 16.9970 - val_accuracy: 0.1626\n",
      "Epoch 24/70\n",
      "120/120 [==============================] - 56s 467ms/step - loss: 0.4875 - accuracy: 0.6072 - val_loss: 2.2442 - val_accuracy: 0.2459\n",
      "Epoch 25/70\n",
      "120/120 [==============================] - 54s 454ms/step - loss: 0.4722 - accuracy: 0.6254 - val_loss: 12.9296 - val_accuracy: 0.1626\n",
      "Epoch 26/70\n",
      "120/120 [==============================] - 56s 468ms/step - loss: 0.4544 - accuracy: 0.6432 - val_loss: 14.4051 - val_accuracy: 0.1626\n",
      "Epoch 27/70\n",
      "120/120 [==============================] - 52s 436ms/step - loss: 0.4429 - accuracy: 0.6579 - val_loss: 2.6194 - val_accuracy: 0.2999\n",
      "Epoch 28/70\n",
      "120/120 [==============================] - 52s 436ms/step - loss: 0.4228 - accuracy: 0.6739 - val_loss: 24.0832 - val_accuracy: 0.1626\n",
      "Epoch 29/70\n",
      "120/120 [==============================] - 54s 451ms/step - loss: 0.4184 - accuracy: 0.6840 - val_loss: 0.9895 - val_accuracy: 0.4249\n",
      "Epoch 30/70\n",
      "120/120 [==============================] - 53s 439ms/step - loss: 0.3916 - accuracy: 0.7043 - val_loss: 3.4349 - val_accuracy: 0.2459\n",
      "Epoch 31/70\n",
      "120/120 [==============================] - 53s 443ms/step - loss: 0.3821 - accuracy: 0.7096 - val_loss: 0.7235 - val_accuracy: 0.5012\n",
      "Epoch 32/70\n",
      "120/120 [==============================] - 54s 452ms/step - loss: 0.3739 - accuracy: 0.7164 - val_loss: 0.5791 - val_accuracy: 0.5998\n",
      "Epoch 33/70\n",
      "120/120 [==============================] - 53s 442ms/step - loss: 0.3533 - accuracy: 0.7336 - val_loss: 1.2682 - val_accuracy: 0.4560\n",
      "Epoch 34/70\n",
      "120/120 [==============================] - 54s 448ms/step - loss: 0.3466 - accuracy: 0.7406 - val_loss: 0.6245 - val_accuracy: 0.6338\n",
      "Epoch 35/70\n",
      "120/120 [==============================] - 53s 440ms/step - loss: 0.3341 - accuracy: 0.7505 - val_loss: 0.9623 - val_accuracy: 0.4977\n",
      "Epoch 36/70\n",
      "120/120 [==============================] - 53s 438ms/step - loss: 0.3292 - accuracy: 0.7565 - val_loss: 0.8352 - val_accuracy: 0.5141\n",
      "Epoch 37/70\n",
      "120/120 [==============================] - 54s 453ms/step - loss: 0.3094 - accuracy: 0.7700 - val_loss: 0.8367 - val_accuracy: 0.5170\n",
      "Epoch 38/70\n",
      "120/120 [==============================] - 52s 432ms/step - loss: 0.3052 - accuracy: 0.7747 - val_loss: 0.6188 - val_accuracy: 0.6579\n",
      "Epoch 39/70\n",
      "120/120 [==============================] - 54s 447ms/step - loss: 0.3027 - accuracy: 0.7779 - val_loss: 66.5303 - val_accuracy: 0.2377\n",
      "Epoch 40/70\n",
      "120/120 [==============================] - 53s 441ms/step - loss: 0.2966 - accuracy: 0.7807 - val_loss: 1.5408 - val_accuracy: 0.4020\n",
      "Epoch 41/70\n",
      "120/120 [==============================] - 52s 434ms/step - loss: 0.2853 - accuracy: 0.7900 - val_loss: 0.6625 - val_accuracy: 0.5646\n",
      "Epoch 42/70\n",
      "120/120 [==============================] - 55s 456ms/step - loss: 0.2762 - accuracy: 0.7972 - val_loss: 0.6392 - val_accuracy: 0.6655\n",
      "Epoch 43/70\n",
      "120/120 [==============================] - 53s 439ms/step - loss: 0.2727 - accuracy: 0.7962 - val_loss: 0.6944 - val_accuracy: 0.6009\n",
      "Epoch 44/70\n",
      "120/120 [==============================] - 52s 437ms/step - loss: 0.2641 - accuracy: 0.8060 - val_loss: 1.0019 - val_accuracy: 0.4742\n",
      "Epoch 45/70\n",
      "120/120 [==============================] - 55s 456ms/step - loss: 0.2644 - accuracy: 0.8046 - val_loss: 1.0314 - val_accuracy: 0.5217\n",
      "Epoch 46/70\n",
      "120/120 [==============================] - 53s 441ms/step - loss: 0.2604 - accuracy: 0.8086 - val_loss: 0.6832 - val_accuracy: 0.5968\n",
      "Epoch 47/70\n",
      "120/120 [==============================] - 55s 463ms/step - loss: 0.2501 - accuracy: 0.8147 - val_loss: 1.4510 - val_accuracy: 0.5188\n",
      "Epoch 48/70\n",
      "120/120 [==============================] - 54s 448ms/step - loss: 0.2450 - accuracy: 0.8204 - val_loss: 10.9932 - val_accuracy: 0.2559\n",
      "Epoch 49/70\n",
      "120/120 [==============================] - 54s 446ms/step - loss: 0.2423 - accuracy: 0.8202 - val_loss: 0.5609 - val_accuracy: 0.7048\n",
      "Epoch 50/70\n",
      "120/120 [==============================] - 56s 463ms/step - loss: 0.2426 - accuracy: 0.8212 - val_loss: 0.5853 - val_accuracy: 0.6942\n",
      "Epoch 51/70\n",
      "120/120 [==============================] - 58s 483ms/step - loss: 0.2474 - accuracy: 0.8179 - val_loss: 6.5462 - val_accuracy: 0.2923\n",
      "Epoch 52/70\n",
      "120/120 [==============================] - 67s 556ms/step - loss: 0.2327 - accuracy: 0.8272 - val_loss: 0.6013 - val_accuracy: 0.7259\n",
      "Epoch 53/70\n",
      "120/120 [==============================] - 54s 446ms/step - loss: 0.2258 - accuracy: 0.8329 - val_loss: 0.7364 - val_accuracy: 0.6866\n",
      "Epoch 54/70\n",
      "120/120 [==============================] - 54s 452ms/step - loss: 0.2245 - accuracy: 0.8331 - val_loss: 3.2749 - val_accuracy: 0.3867\n",
      "Epoch 55/70\n",
      "120/120 [==============================] - 55s 460ms/step - loss: 0.2223 - accuracy: 0.8366 - val_loss: 33.8292 - val_accuracy: 0.2383\n",
      "Epoch 56/70\n",
      "120/120 [==============================] - 54s 454ms/step - loss: 0.2223 - accuracy: 0.8380 - val_loss: 0.6184 - val_accuracy: 0.6725\n",
      "Epoch 57/70\n",
      "120/120 [==============================] - 55s 460ms/step - loss: 0.2177 - accuracy: 0.8386 - val_loss: 6.1459 - val_accuracy: 0.2336\n",
      "Epoch 58/70\n",
      "120/120 [==============================] - 54s 453ms/step - loss: 0.2157 - accuracy: 0.8400 - val_loss: 0.6681 - val_accuracy: 0.7013\n",
      "Epoch 59/70\n",
      "120/120 [==============================] - 54s 446ms/step - loss: 0.2108 - accuracy: 0.8457 - val_loss: 11.3710 - val_accuracy: 0.1772\n",
      "Epoch 60/70\n",
      "120/120 [==============================] - 56s 464ms/step - loss: 0.2085 - accuracy: 0.8441 - val_loss: 7.7080 - val_accuracy: 0.2811\n",
      "Epoch 61/70\n",
      "120/120 [==============================] - 54s 448ms/step - loss: 0.2105 - accuracy: 0.8445 - val_loss: 1.1057 - val_accuracy: 0.5675\n",
      "Epoch 62/70\n",
      "120/120 [==============================] - 56s 467ms/step - loss: 0.2092 - accuracy: 0.8453 - val_loss: 10.0491 - val_accuracy: 0.2617\n",
      "Epoch 63/70\n",
      "120/120 [==============================] - 54s 450ms/step - loss: 0.2075 - accuracy: 0.8461 - val_loss: 1.5022 - val_accuracy: 0.5323\n",
      "Epoch 64/70\n",
      "120/120 [==============================] - 53s 439ms/step - loss: 0.1988 - accuracy: 0.8556 - val_loss: 0.7659 - val_accuracy: 0.6790\n",
      "Epoch 65/70\n",
      "120/120 [==============================] - 54s 452ms/step - loss: 0.1976 - accuracy: 0.8547 - val_loss: 53.3945 - val_accuracy: 0.2377\n",
      "Epoch 66/70\n",
      "120/120 [==============================] - 53s 440ms/step - loss: 0.2022 - accuracy: 0.8497 - val_loss: 1.5449 - val_accuracy: 0.5000\n",
      "Epoch 67/70\n",
      "120/120 [==============================] - 55s 459ms/step - loss: 0.2033 - accuracy: 0.8503 - val_loss: 16.3704 - val_accuracy: 0.1661\n",
      "Epoch 68/70\n",
      "120/120 [==============================] - 53s 444ms/step - loss: 0.1937 - accuracy: 0.8554 - val_loss: 34.6565 - val_accuracy: 0.2388\n",
      "Epoch 69/70\n",
      "120/120 [==============================] - 53s 443ms/step - loss: 0.1882 - accuracy: 0.8577 - val_loss: 11.7677 - val_accuracy: 0.2606\n",
      "Epoch 70/70\n",
      "120/120 [==============================] - 55s 457ms/step - loss: 0.1933 - accuracy: 0.8554 - val_loss: 6.8633 - val_accuracy: 0.1954\n"
     ]
    }
   ],
   "source": [
    "#Second we train the whole model's layers\n",
    "\n",
    "for layer in FullModel.layers[0:19]:\n",
    "    layer.trainable = True\n",
    "\n",
    "FullModel.compile(loss='binary_crossentropy', optimizer=tf.keras.optimizers.Adam(),metrics=['accuracy'])\n",
    "\n",
    "\n",
    "history = FullModel.fit(EDtraining_padded, training_labels1, batch_size=128, epochs=70, validation_data=(EDtesting_padded, testing_labels1), verbose=1)"
   ]
  },
  {
   "cell_type": "code",
   "execution_count": null,
   "metadata": {
    "colab": {
     "base_uri": "https://localhost:8080/"
    },
    "id": "hwU4wVe_WHuC",
    "outputId": "53a3e7cb-e857-4295-ab06-c4b5b3a9162b"
   },
   "outputs": [
    {
     "data": {
      "text/plain": [
       "array([[ 23, 983,  16],\n",
       "       [  0, 277,   0],\n",
       "       [  0, 372,  33]])"
      ]
     },
     "execution_count": 26,
     "metadata": {},
     "output_type": "execute_result"
    }
   ],
   "source": [
    "pred1=FullModel.predict(testing_padded)\n",
    "pred11=[]\n",
    "for i in pred1:\n",
    "  if i[0]==max(i):\n",
    "    pred11.append(0)\n",
    "  elif i[1]==max(i):\n",
    "    pred11.append(1)\n",
    "  else:\n",
    "    pred11.append(2)\n",
    "#rounded_labels11=np.argmax(pred11, axis=1).astype(int)\n",
    "cm = confusion_matrix(testing_labels, pred11)\n",
    "cm"
   ]
  },
  {
   "cell_type": "code",
   "execution_count": null,
   "metadata": {
    "colab": {
     "base_uri": "https://localhost:8080/"
    },
    "id": "tR9aLX8w2__a",
    "outputId": "a995c895-7882-470f-f88b-18f9905c481d"
   },
   "outputs": [
    {
     "name": "stdout",
     "output_type": "stream",
     "text": [
      "              precision    recall  f1-score   support\n",
      "\n",
      "           0       1.00      0.02      0.04      1022\n",
      "           1       0.17      1.00      0.29       277\n",
      "           2       0.67      0.08      0.15       405\n",
      "\n",
      "    accuracy                           0.20      1704\n",
      "   macro avg       0.61      0.37      0.16      1704\n",
      "weighted avg       0.79      0.20      0.11      1704\n",
      "\n"
     ]
    }
   ],
   "source": [
    "from sklearn.metrics import classification_report\n",
    "print(classification_report(testing_labels, pred11, labels=[0,1,2]))"
   ]
  },
  {
   "cell_type": "code",
   "execution_count": null,
   "metadata": {
    "colab": {
     "base_uri": "https://localhost:8080/",
     "height": 573
    },
    "id": "YvVjgnSqUnRv",
    "outputId": "11209c3d-a4b3-433e-e53a-9988b2f9cde6"
   },
   "outputs": [
    {
     "data": {
      "image/png": "[encoded data removed]",
      "text/plain": [
       "<Figure size 432x288 with 1 Axes>"
      ]
     },
     "metadata": {
      "needs_background": "light"
     },
     "output_type": "display_data"
    },
    {
     "data": {
      "image/png": "[encoded data removed]",
      "text/plain": [
       "<Figure size 432x288 with 1 Axes>"
      ]
     },
     "metadata": {
      "needs_background": "light"
     },
     "output_type": "display_data"
    }
   ],
   "source": [
    "import matplotlib.pyplot as plt\n",
    "import numpy\n",
    "# summarize history for accuracy\n",
    "plt.plot(history.history['loss'])\n",
    "plt.plot(history.history['val_loss'])\n",
    "plt.title('model loss')\n",
    "plt.ylabel('loss')\n",
    "plt.xlabel('epoch')\n",
    "plt.legend(['train', 'test'], loc='upper left')\n",
    "plt.show()\n",
    "# summarize history for loss\n",
    "plt.plot(history.history['accuracy'])\n",
    "plt.plot(history.history['val_accuracy'])\n",
    "plt.title('model accuracy')\n",
    "plt.ylabel('accuracy')\n",
    "plt.xlabel('epoch')\n",
    "plt.legend(['train', 'test'], loc='upper left')\n",
    "plt.show()"
   ]
  },
  {
   "cell_type": "code",
   "execution_count": null,
   "metadata": {
    "id": "Yq2ZbecCP9YY"
   },
   "outputs": [],
   "source": [
    "EncoModel.save('AutoEncoderModelBalanced.h5')\n",
    "FullModel.save('FullModelArticleApproachBalanced.h5')"
   ]
  },
  {
   "cell_type": "code",
   "execution_count": null,
   "metadata": {
    "id": "dFDkipuSCcM4"
   },
   "outputs": [],
   "source": [
    "#Then we save the model\n",
    "FullModel.save_weights('autoencoder_classification.h5')"
   ]
  },
  {
   "cell_type": "markdown",
   "metadata": {
    "id": "5SNCH0-6Eq4I"
   },
   "source": [
    "#Terms\n",
    "##BURT: is a transformar model\n",
    "##Sentiment Classification: A prabability distrubution over two classes\n",
    "##Text Encoding: How to encode the texts into a numerical presentation that we can be handled by the machine learning model\n",
    "##Transformers: The State-Of-The-Art architecture for language modeling\n",
    "#Word2vec: 2013, The Model that introduced distributed representations for language modeling"
   ]
  }
 ],
 "metadata": {
  "accelerator": "GPU",
  "colab": {
   "collapsed_sections": [
    "-CRh9Gqc7KxQ",
    "2DGrTNt17GKc",
    "FRfELBgw7A3Z"
   ],
   "include_colab_link": true,
   "name": "CCK Project Article's approach012.ipynb",
   "provenance": []
  },
  "gpuClass": "standard",
  "kernelspec": {
   "display_name": "Python 3 (ipykernel)",
   "language": "python",
   "name": "python3"
  },
  "language_info": {
   "codemirror_mode": {
    "name": "ipython",
    "version": 3
   },
   "file_extension": ".py",
   "mimetype": "text/x-python",
   "name": "python",
   "nbconvert_exporter": "python",
   "pygments_lexer": "ipython3",
   "version": "3.10.3"
  }
 },
 "nbformat": 4,
 "nbformat_minor": 1
}
