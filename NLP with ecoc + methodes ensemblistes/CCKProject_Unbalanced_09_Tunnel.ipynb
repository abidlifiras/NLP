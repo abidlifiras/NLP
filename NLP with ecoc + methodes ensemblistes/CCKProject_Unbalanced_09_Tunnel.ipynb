{
  "nbformat": 4,
  "nbformat_minor": 0,
  "metadata": {
    "colab": {
      "name": "CCKProject_Unbalanced_09_Tunnel.ipynb",
      "provenance": [],
      "collapsed_sections": [
        "2DGrTNt17GKc",
        "FRfELBgw7A3Z"
      ],
      "include_colab_link": true
    },
    "kernelspec": {
      "name": "python3",
      "display_name": "Python 3"
    },
    "language_info": {
      "name": "python"
    },
    "gpuClass": "standard",
    "accelerator": "GPU"
  },
  "cells": [
    {
      "cell_type": "markdown",
      "metadata": {
        "id": "view-in-github",
        "colab_type": "text"
      },
      "source": [
        "<a href=\"https://colab.research.google.com/github/ImenMasmoudiEm/CCKInternshipProject/blob/main/CCKProject_Unbalanced_09_Tunnel.ipynb\" target=\"_parent\"><img src=\"https://colab.research.google.com/assets/colab-badge.svg\" alt=\"Open In Colab\"/></a>"
      ]
    },
    {
      "cell_type": "markdown",
      "source": [
        "# Text Classification: Primary work"
      ],
      "metadata": {
        "id": "Iiruy8t57ISt"
      }
    },
    {
      "cell_type": "markdown",
      "source": [
        "##Connecting to drive & importing data"
      ],
      "metadata": {
        "id": "6A7gIEXP7oqV"
      }
    },
    {
      "cell_type": "code",
      "source": [
        "from google.colab import drive\n",
        "drive.mount('/content/drive')"
      ],
      "metadata": {
        "colab": {
          "base_uri": "https://localhost:8080/"
        },
        "id": "KwJf5Jnk9iw8",
        "outputId": "823b7cd0-d25a-423a-eb50-c1c92d857b55"
      },
      "execution_count": null,
      "outputs": [
        {
          "output_type": "stream",
          "name": "stdout",
          "text": [
            "Mounted at /content/drive\n"
          ]
        }
      ]
    },
    {
      "cell_type": "code",
      "execution_count": null,
      "metadata": {
        "id": "u6Xmp6Sf7Ay4"
      },
      "outputs": [],
      "source": [
        "import os \n",
        "os.chdir('/content/drive/MyDrive/All/Projects/Ing Internship/Data')"
      ]
    },
    {
      "cell_type": "code",
      "source": [
        "import pandas as pd\n",
        "data=pd.read_excel(\"/content/drive/MyDrive/All/Projects/Ing Internship/Data/final-dataset.xlsx\")\n",
        "data"
      ],
      "metadata": {
        "colab": {
          "base_uri": "https://localhost:8080/",
          "height": 424
        },
        "id": "hjV2FNxa-FDa",
        "outputId": "53a6d9cb-954e-4f55-c3f0-178a46355dd1"
      },
      "execution_count": null,
      "outputs": [
        {
          "output_type": "execute_result",
          "data": {
            "text/plain": [
              "                                             commentaire  classe\n",
              "0      مبروك و سامحونا لعجزنا التام. عقبال اللي جوه. ...  normal\n",
              "1      كلنا بره ومش هنبطل نزايد على العجايز الي جابون...    hate\n",
              "2              بدل ما انت قاعد بره كده تعالي ازرع الصحرا  normal\n",
              "3          قذر اتفووو ماتيجى مصر وتورينا نفسك كدا ياجبان    hate\n",
              "4      وهكذا رجال الشو اللي محرومين من عمل برنامج الغ...    hate\n",
              "...                                                  ...     ...\n",
              "23028    يلا ولا خنزير الله يرحم صدام حسين لي كان داعسكن    hate\n",
              "23029            وبلدك سوريا لا تبغي سوا القتل والاجرام     hate\n",
              "23030  معالي الوزير نؤمن بك دائما لأنك الدرع المنيع ف...  normal\n",
              "23031  حياة سندي مستشارة امين عام الامم المتحدة بان ك...  normal\n",
              "23032  انت يا جبران باسيل بعقليتك الفجة النتنة تقولرب...    hate\n",
              "\n",
              "[23033 rows x 2 columns]"
            ],
            "text/html": [
              "\n",
              "  <div id=\"df-d12035a1-0c42-4a89-a8fc-6bc49d2c006b\">\n",
              "    <div class=\"colab-df-container\">\n",
              "      <div>\n",
              "<style scoped>\n",
              "    .dataframe tbody tr th:only-of-type {\n",
              "        vertical-align: middle;\n",
              "    }\n",
              "\n",
              "    .dataframe tbody tr th {\n",
              "        vertical-align: top;\n",
              "    }\n",
              "\n",
              "    .dataframe thead th {\n",
              "        text-align: right;\n",
              "    }\n",
              "</style>\n",
              "<table border=\"1\" class=\"dataframe\">\n",
              "  <thead>\n",
              "    <tr style=\"text-align: right;\">\n",
              "      <th></th>\n",
              "      <th>commentaire</th>\n",
              "      <th>classe</th>\n",
              "    </tr>\n",
              "  </thead>\n",
              "  <tbody>\n",
              "    <tr>\n",
              "      <th>0</th>\n",
              "      <td>مبروك و سامحونا لعجزنا التام. عقبال اللي جوه. ...</td>\n",
              "      <td>normal</td>\n",
              "    </tr>\n",
              "    <tr>\n",
              "      <th>1</th>\n",
              "      <td>كلنا بره ومش هنبطل نزايد على العجايز الي جابون...</td>\n",
              "      <td>hate</td>\n",
              "    </tr>\n",
              "    <tr>\n",
              "      <th>2</th>\n",
              "      <td>بدل ما انت قاعد بره كده تعالي ازرع الصحرا</td>\n",
              "      <td>normal</td>\n",
              "    </tr>\n",
              "    <tr>\n",
              "      <th>3</th>\n",
              "      <td>قذر اتفووو ماتيجى مصر وتورينا نفسك كدا ياجبان</td>\n",
              "      <td>hate</td>\n",
              "    </tr>\n",
              "    <tr>\n",
              "      <th>4</th>\n",
              "      <td>وهكذا رجال الشو اللي محرومين من عمل برنامج الغ...</td>\n",
              "      <td>hate</td>\n",
              "    </tr>\n",
              "    <tr>\n",
              "      <th>...</th>\n",
              "      <td>...</td>\n",
              "      <td>...</td>\n",
              "    </tr>\n",
              "    <tr>\n",
              "      <th>23028</th>\n",
              "      <td>يلا ولا خنزير الله يرحم صدام حسين لي كان داعسكن</td>\n",
              "      <td>hate</td>\n",
              "    </tr>\n",
              "    <tr>\n",
              "      <th>23029</th>\n",
              "      <td>وبلدك سوريا لا تبغي سوا القتل والاجرام</td>\n",
              "      <td>hate</td>\n",
              "    </tr>\n",
              "    <tr>\n",
              "      <th>23030</th>\n",
              "      <td>معالي الوزير نؤمن بك دائما لأنك الدرع المنيع ف...</td>\n",
              "      <td>normal</td>\n",
              "    </tr>\n",
              "    <tr>\n",
              "      <th>23031</th>\n",
              "      <td>حياة سندي مستشارة امين عام الامم المتحدة بان ك...</td>\n",
              "      <td>normal</td>\n",
              "    </tr>\n",
              "    <tr>\n",
              "      <th>23032</th>\n",
              "      <td>انت يا جبران باسيل بعقليتك الفجة النتنة تقولرب...</td>\n",
              "      <td>hate</td>\n",
              "    </tr>\n",
              "  </tbody>\n",
              "</table>\n",
              "<p>23033 rows × 2 columns</p>\n",
              "</div>\n",
              "      <button class=\"colab-df-convert\" onclick=\"convertToInteractive('df-d12035a1-0c42-4a89-a8fc-6bc49d2c006b')\"\n",
              "              title=\"Convert this dataframe to an interactive table.\"\n",
              "              style=\"display:none;\">\n",
              "        \n",
              "  <svg xmlns=\"http://www.w3.org/2000/svg\" height=\"24px\"viewBox=\"0 0 24 24\"\n",
              "       width=\"24px\">\n",
              "    <path d=\"M0 0h24v24H0V0z\" fill=\"none\"/>\n",
              "    <path d=\"M18.56 5.44l.94 2.06.94-2.06 2.06-.94-2.06-.94-.94-2.06-.94 2.06-2.06.94zm-11 1L8.5 8.5l.94-2.06 2.06-.94-2.06-.94L8.5 2.5l-.94 2.06-2.06.94zm10 10l.94 2.06.94-2.06 2.06-.94-2.06-.94-.94-2.06-.94 2.06-2.06.94z\"/><path d=\"M17.41 7.96l-1.37-1.37c-.4-.4-.92-.59-1.43-.59-.52 0-1.04.2-1.43.59L10.3 9.45l-7.72 7.72c-.78.78-.78 2.05 0 2.83L4 21.41c.39.39.9.59 1.41.59.51 0 1.02-.2 1.41-.59l7.78-7.78 2.81-2.81c.8-.78.8-2.07 0-2.86zM5.41 20L4 18.59l7.72-7.72 1.47 1.35L5.41 20z\"/>\n",
              "  </svg>\n",
              "      </button>\n",
              "      \n",
              "  <style>\n",
              "    .colab-df-container {\n",
              "      display:flex;\n",
              "      flex-wrap:wrap;\n",
              "      gap: 12px;\n",
              "    }\n",
              "\n",
              "    .colab-df-convert {\n",
              "      background-color: #E8F0FE;\n",
              "      border: none;\n",
              "      border-radius: 50%;\n",
              "      cursor: pointer;\n",
              "      display: none;\n",
              "      fill: #1967D2;\n",
              "      height: 32px;\n",
              "      padding: 0 0 0 0;\n",
              "      width: 32px;\n",
              "    }\n",
              "\n",
              "    .colab-df-convert:hover {\n",
              "      background-color: #E2EBFA;\n",
              "      box-shadow: 0px 1px 2px rgba(60, 64, 67, 0.3), 0px 1px 3px 1px rgba(60, 64, 67, 0.15);\n",
              "      fill: #174EA6;\n",
              "    }\n",
              "\n",
              "    [theme=dark] .colab-df-convert {\n",
              "      background-color: #3B4455;\n",
              "      fill: #D2E3FC;\n",
              "    }\n",
              "\n",
              "    [theme=dark] .colab-df-convert:hover {\n",
              "      background-color: #434B5C;\n",
              "      box-shadow: 0px 1px 3px 1px rgba(0, 0, 0, 0.15);\n",
              "      filter: drop-shadow(0px 1px 2px rgba(0, 0, 0, 0.3));\n",
              "      fill: #FFFFFF;\n",
              "    }\n",
              "  </style>\n",
              "\n",
              "      <script>\n",
              "        const buttonEl =\n",
              "          document.querySelector('#df-d12035a1-0c42-4a89-a8fc-6bc49d2c006b button.colab-df-convert');\n",
              "        buttonEl.style.display =\n",
              "          google.colab.kernel.accessAllowed ? 'block' : 'none';\n",
              "\n",
              "        async function convertToInteractive(key) {\n",
              "          const element = document.querySelector('#df-d12035a1-0c42-4a89-a8fc-6bc49d2c006b');\n",
              "          const dataTable =\n",
              "            await google.colab.kernel.invokeFunction('convertToInteractive',\n",
              "                                                     [key], {});\n",
              "          if (!dataTable) return;\n",
              "\n",
              "          const docLinkHtml = 'Like what you see? Visit the ' +\n",
              "            '<a target=\"_blank\" href=https://colab.research.google.com/notebooks/data_table.ipynb>data table notebook</a>'\n",
              "            + ' to learn more about interactive tables.';\n",
              "          element.innerHTML = '';\n",
              "          dataTable['output_type'] = 'display_data';\n",
              "          await google.colab.output.renderOutput(dataTable, element);\n",
              "          const docLink = document.createElement('div');\n",
              "          docLink.innerHTML = docLinkHtml;\n",
              "          element.appendChild(docLink);\n",
              "        }\n",
              "      </script>\n",
              "    </div>\n",
              "  </div>\n",
              "  "
            ]
          },
          "metadata": {},
          "execution_count": 4
        }
      ]
    },
    {
      "cell_type": "markdown",
      "source": [
        "##Data Preprocessing"
      ],
      "metadata": {
        "id": "E78jh1K4ATql"
      }
    },
    {
      "cell_type": "markdown",
      "source": [
        "1/ Changing the Class into bin"
      ],
      "metadata": {
        "id": "4WPH66dgAsdv"
      }
    },
    {
      "cell_type": "code",
      "source": [
        "data['classe']=data['classe'].replace(\"hate\", int(2))\n",
        "data['classe']=data['classe'].replace(\"normal\", int(0)) \n",
        "data['classe']=data['classe'].replace(\"abusive\", int(1))"
      ],
      "metadata": {
        "id": "g0G8MT47A3Z_"
      },
      "execution_count": null,
      "outputs": []
    },
    {
      "cell_type": "code",
      "source": [
        "data"
      ],
      "metadata": {
        "colab": {
          "base_uri": "https://localhost:8080/",
          "height": 424
        },
        "id": "1Ml3TDjMBley",
        "outputId": "59b7f17a-d2f3-4156-c80b-b503e2a1afe1"
      },
      "execution_count": null,
      "outputs": [
        {
          "output_type": "execute_result",
          "data": {
            "text/plain": [
              "                                             commentaire  classe\n",
              "0      مبروك و سامحونا لعجزنا التام. عقبال اللي جوه. ...       0\n",
              "1      كلنا بره ومش هنبطل نزايد على العجايز الي جابون...       2\n",
              "2              بدل ما انت قاعد بره كده تعالي ازرع الصحرا       0\n",
              "3          قذر اتفووو ماتيجى مصر وتورينا نفسك كدا ياجبان       2\n",
              "4      وهكذا رجال الشو اللي محرومين من عمل برنامج الغ...       2\n",
              "...                                                  ...     ...\n",
              "23028    يلا ولا خنزير الله يرحم صدام حسين لي كان داعسكن       2\n",
              "23029            وبلدك سوريا لا تبغي سوا القتل والاجرام        2\n",
              "23030  معالي الوزير نؤمن بك دائما لأنك الدرع المنيع ف...       0\n",
              "23031  حياة سندي مستشارة امين عام الامم المتحدة بان ك...       0\n",
              "23032  انت يا جبران باسيل بعقليتك الفجة النتنة تقولرب...       2\n",
              "\n",
              "[23033 rows x 2 columns]"
            ],
            "text/html": [
              "\n",
              "  <div id=\"df-3a0b3f25-be49-4044-a704-246992444444\">\n",
              "    <div class=\"colab-df-container\">\n",
              "      <div>\n",
              "<style scoped>\n",
              "    .dataframe tbody tr th:only-of-type {\n",
              "        vertical-align: middle;\n",
              "    }\n",
              "\n",
              "    .dataframe tbody tr th {\n",
              "        vertical-align: top;\n",
              "    }\n",
              "\n",
              "    .dataframe thead th {\n",
              "        text-align: right;\n",
              "    }\n",
              "</style>\n",
              "<table border=\"1\" class=\"dataframe\">\n",
              "  <thead>\n",
              "    <tr style=\"text-align: right;\">\n",
              "      <th></th>\n",
              "      <th>commentaire</th>\n",
              "      <th>classe</th>\n",
              "    </tr>\n",
              "  </thead>\n",
              "  <tbody>\n",
              "    <tr>\n",
              "      <th>0</th>\n",
              "      <td>مبروك و سامحونا لعجزنا التام. عقبال اللي جوه. ...</td>\n",
              "      <td>0</td>\n",
              "    </tr>\n",
              "    <tr>\n",
              "      <th>1</th>\n",
              "      <td>كلنا بره ومش هنبطل نزايد على العجايز الي جابون...</td>\n",
              "      <td>2</td>\n",
              "    </tr>\n",
              "    <tr>\n",
              "      <th>2</th>\n",
              "      <td>بدل ما انت قاعد بره كده تعالي ازرع الصحرا</td>\n",
              "      <td>0</td>\n",
              "    </tr>\n",
              "    <tr>\n",
              "      <th>3</th>\n",
              "      <td>قذر اتفووو ماتيجى مصر وتورينا نفسك كدا ياجبان</td>\n",
              "      <td>2</td>\n",
              "    </tr>\n",
              "    <tr>\n",
              "      <th>4</th>\n",
              "      <td>وهكذا رجال الشو اللي محرومين من عمل برنامج الغ...</td>\n",
              "      <td>2</td>\n",
              "    </tr>\n",
              "    <tr>\n",
              "      <th>...</th>\n",
              "      <td>...</td>\n",
              "      <td>...</td>\n",
              "    </tr>\n",
              "    <tr>\n",
              "      <th>23028</th>\n",
              "      <td>يلا ولا خنزير الله يرحم صدام حسين لي كان داعسكن</td>\n",
              "      <td>2</td>\n",
              "    </tr>\n",
              "    <tr>\n",
              "      <th>23029</th>\n",
              "      <td>وبلدك سوريا لا تبغي سوا القتل والاجرام</td>\n",
              "      <td>2</td>\n",
              "    </tr>\n",
              "    <tr>\n",
              "      <th>23030</th>\n",
              "      <td>معالي الوزير نؤمن بك دائما لأنك الدرع المنيع ف...</td>\n",
              "      <td>0</td>\n",
              "    </tr>\n",
              "    <tr>\n",
              "      <th>23031</th>\n",
              "      <td>حياة سندي مستشارة امين عام الامم المتحدة بان ك...</td>\n",
              "      <td>0</td>\n",
              "    </tr>\n",
              "    <tr>\n",
              "      <th>23032</th>\n",
              "      <td>انت يا جبران باسيل بعقليتك الفجة النتنة تقولرب...</td>\n",
              "      <td>2</td>\n",
              "    </tr>\n",
              "  </tbody>\n",
              "</table>\n",
              "<p>23033 rows × 2 columns</p>\n",
              "</div>\n",
              "      <button class=\"colab-df-convert\" onclick=\"convertToInteractive('df-3a0b3f25-be49-4044-a704-246992444444')\"\n",
              "              title=\"Convert this dataframe to an interactive table.\"\n",
              "              style=\"display:none;\">\n",
              "        \n",
              "  <svg xmlns=\"http://www.w3.org/2000/svg\" height=\"24px\"viewBox=\"0 0 24 24\"\n",
              "       width=\"24px\">\n",
              "    <path d=\"M0 0h24v24H0V0z\" fill=\"none\"/>\n",
              "    <path d=\"M18.56 5.44l.94 2.06.94-2.06 2.06-.94-2.06-.94-.94-2.06-.94 2.06-2.06.94zm-11 1L8.5 8.5l.94-2.06 2.06-.94-2.06-.94L8.5 2.5l-.94 2.06-2.06.94zm10 10l.94 2.06.94-2.06 2.06-.94-2.06-.94-.94-2.06-.94 2.06-2.06.94z\"/><path d=\"M17.41 7.96l-1.37-1.37c-.4-.4-.92-.59-1.43-.59-.52 0-1.04.2-1.43.59L10.3 9.45l-7.72 7.72c-.78.78-.78 2.05 0 2.83L4 21.41c.39.39.9.59 1.41.59.51 0 1.02-.2 1.41-.59l7.78-7.78 2.81-2.81c.8-.78.8-2.07 0-2.86zM5.41 20L4 18.59l7.72-7.72 1.47 1.35L5.41 20z\"/>\n",
              "  </svg>\n",
              "      </button>\n",
              "      \n",
              "  <style>\n",
              "    .colab-df-container {\n",
              "      display:flex;\n",
              "      flex-wrap:wrap;\n",
              "      gap: 12px;\n",
              "    }\n",
              "\n",
              "    .colab-df-convert {\n",
              "      background-color: #E8F0FE;\n",
              "      border: none;\n",
              "      border-radius: 50%;\n",
              "      cursor: pointer;\n",
              "      display: none;\n",
              "      fill: #1967D2;\n",
              "      height: 32px;\n",
              "      padding: 0 0 0 0;\n",
              "      width: 32px;\n",
              "    }\n",
              "\n",
              "    .colab-df-convert:hover {\n",
              "      background-color: #E2EBFA;\n",
              "      box-shadow: 0px 1px 2px rgba(60, 64, 67, 0.3), 0px 1px 3px 1px rgba(60, 64, 67, 0.15);\n",
              "      fill: #174EA6;\n",
              "    }\n",
              "\n",
              "    [theme=dark] .colab-df-convert {\n",
              "      background-color: #3B4455;\n",
              "      fill: #D2E3FC;\n",
              "    }\n",
              "\n",
              "    [theme=dark] .colab-df-convert:hover {\n",
              "      background-color: #434B5C;\n",
              "      box-shadow: 0px 1px 3px 1px rgba(0, 0, 0, 0.15);\n",
              "      filter: drop-shadow(0px 1px 2px rgba(0, 0, 0, 0.3));\n",
              "      fill: #FFFFFF;\n",
              "    }\n",
              "  </style>\n",
              "\n",
              "      <script>\n",
              "        const buttonEl =\n",
              "          document.querySelector('#df-3a0b3f25-be49-4044-a704-246992444444 button.colab-df-convert');\n",
              "        buttonEl.style.display =\n",
              "          google.colab.kernel.accessAllowed ? 'block' : 'none';\n",
              "\n",
              "        async function convertToInteractive(key) {\n",
              "          const element = document.querySelector('#df-3a0b3f25-be49-4044-a704-246992444444');\n",
              "          const dataTable =\n",
              "            await google.colab.kernel.invokeFunction('convertToInteractive',\n",
              "                                                     [key], {});\n",
              "          if (!dataTable) return;\n",
              "\n",
              "          const docLinkHtml = 'Like what you see? Visit the ' +\n",
              "            '<a target=\"_blank\" href=https://colab.research.google.com/notebooks/data_table.ipynb>data table notebook</a>'\n",
              "            + ' to learn more about interactive tables.';\n",
              "          element.innerHTML = '';\n",
              "          dataTable['output_type'] = 'display_data';\n",
              "          await google.colab.output.renderOutput(dataTable, element);\n",
              "          const docLink = document.createElement('div');\n",
              "          docLink.innerHTML = docLinkHtml;\n",
              "          element.appendChild(docLink);\n",
              "        }\n",
              "      </script>\n",
              "    </div>\n",
              "  </div>\n",
              "  "
            ]
          },
          "metadata": {},
          "execution_count": 6
        }
      ]
    },
    {
      "cell_type": "code",
      "source": [
        "import matplotlib.pyplot as plt\n",
        "import seaborn as sns\n",
        "plt.figure(1 , figsize = (15 , 5))\n",
        "sns.countplot(y = 'classe' , data = data)\n",
        "plt.show()"
      ],
      "metadata": {
        "colab": {
          "base_uri": "https://localhost:8080/",
          "height": 334
        },
        "id": "QWAQiWYVAzQN",
        "outputId": "7267ebcf-9db0-4be4-e928-5a47e9476a39"
      },
      "execution_count": null,
      "outputs": [
        {
          "output_type": "display_data",
          "data": {
            "text/plain": [
              "<Figure size 1080x360 with 1 Axes>"
            ],
            "image/png": "[encoded data removed]"
          },
          "metadata": {
            "needs_background": "light"
          }
        }
      ]
    },
    {
      "cell_type": "code",
      "source": [
        "print(data.loc[data.classe==0].groupby('classe')[\"classe\"].count())\n",
        "print(data.loc[data.classe==1].groupby('classe')[\"classe\"].count())\n",
        "print(data.loc[data.classe==2].groupby('classe')[\"classe\"].count())"
      ],
      "metadata": {
        "colab": {
          "base_uri": "https://localhost:8080/"
        },
        "id": "mWndFEOiC4pP",
        "outputId": "c5d6802a-ecb6-4674-9c45-da3746150634"
      },
      "execution_count": null,
      "outputs": [
        {
          "output_type": "stream",
          "name": "stdout",
          "text": [
            "classe\n",
            "0    12353\n",
            "Name: classe, dtype: int64\n",
            "classe\n",
            "1    3850\n",
            "Name: classe, dtype: int64\n",
            "classe\n",
            "2    6830\n",
            "Name: classe, dtype: int64\n"
          ]
        }
      ]
    },
    {
      "cell_type": "markdown",
      "source": [
        "2/ NLP Data Preparations: Data Balancing"
      ],
      "metadata": {
        "id": "nWDDcwDwA32H"
      }
    },
    {
      "cell_type": "code",
      "source": [
        "from tensorflow.keras.preprocessing.text import Tokenizer\n",
        "from tensorflow.keras.preprocessing.sequence import pad_sequences\n",
        "import numpy as np\n",
        "\n",
        "sentences = data['commentaire']\n",
        "labels = data['classe']\n",
        "\n",
        "labels = [int(i) for i in labels]"
      ],
      "metadata": {
        "id": "BgMfbCVpBAOB"
      },
      "execution_count": null,
      "outputs": []
    },
    {
      "cell_type": "code",
      "source": [
        "import pandas as pd\n",
        "\n",
        "data=[[i,j] for i,j in zip(sentences , labels)]\n",
        "\n",
        "data=pd.DataFrame(data,columns=[\"sentences\",\"classe\"])\n",
        "\n",
        "data"
      ],
      "metadata": {
        "colab": {
          "base_uri": "https://localhost:8080/",
          "height": 424
        },
        "id": "zQgP6WSIbrNm",
        "outputId": "fd7f9058-7dae-42de-d4f4-6ee606da3a1f"
      },
      "execution_count": null,
      "outputs": [
        {
          "output_type": "execute_result",
          "data": {
            "text/plain": [
              "                                               sentences  classe\n",
              "0      مبروك و سامحونا لعجزنا التام. عقبال اللي جوه. ...       0\n",
              "1      كلنا بره ومش هنبطل نزايد على العجايز الي جابون...       2\n",
              "2              بدل ما انت قاعد بره كده تعالي ازرع الصحرا       0\n",
              "3          قذر اتفووو ماتيجى مصر وتورينا نفسك كدا ياجبان       2\n",
              "4      وهكذا رجال الشو اللي محرومين من عمل برنامج الغ...       2\n",
              "...                                                  ...     ...\n",
              "23028    يلا ولا خنزير الله يرحم صدام حسين لي كان داعسكن       2\n",
              "23029            وبلدك سوريا لا تبغي سوا القتل والاجرام        2\n",
              "23030  معالي الوزير نؤمن بك دائما لأنك الدرع المنيع ف...       0\n",
              "23031  حياة سندي مستشارة امين عام الامم المتحدة بان ك...       0\n",
              "23032  انت يا جبران باسيل بعقليتك الفجة النتنة تقولرب...       2\n",
              "\n",
              "[23033 rows x 2 columns]"
            ],
            "text/html": [
              "\n",
              "  <div id=\"df-008e8812-e28a-43b4-821e-7b56d862f04e\">\n",
              "    <div class=\"colab-df-container\">\n",
              "      <div>\n",
              "<style scoped>\n",
              "    .dataframe tbody tr th:only-of-type {\n",
              "        vertical-align: middle;\n",
              "    }\n",
              "\n",
              "    .dataframe tbody tr th {\n",
              "        vertical-align: top;\n",
              "    }\n",
              "\n",
              "    .dataframe thead th {\n",
              "        text-align: right;\n",
              "    }\n",
              "</style>\n",
              "<table border=\"1\" class=\"dataframe\">\n",
              "  <thead>\n",
              "    <tr style=\"text-align: right;\">\n",
              "      <th></th>\n",
              "      <th>sentences</th>\n",
              "      <th>classe</th>\n",
              "    </tr>\n",
              "  </thead>\n",
              "  <tbody>\n",
              "    <tr>\n",
              "      <th>0</th>\n",
              "      <td>مبروك و سامحونا لعجزنا التام. عقبال اللي جوه. ...</td>\n",
              "      <td>0</td>\n",
              "    </tr>\n",
              "    <tr>\n",
              "      <th>1</th>\n",
              "      <td>كلنا بره ومش هنبطل نزايد على العجايز الي جابون...</td>\n",
              "      <td>2</td>\n",
              "    </tr>\n",
              "    <tr>\n",
              "      <th>2</th>\n",
              "      <td>بدل ما انت قاعد بره كده تعالي ازرع الصحرا</td>\n",
              "      <td>0</td>\n",
              "    </tr>\n",
              "    <tr>\n",
              "      <th>3</th>\n",
              "      <td>قذر اتفووو ماتيجى مصر وتورينا نفسك كدا ياجبان</td>\n",
              "      <td>2</td>\n",
              "    </tr>\n",
              "    <tr>\n",
              "      <th>4</th>\n",
              "      <td>وهكذا رجال الشو اللي محرومين من عمل برنامج الغ...</td>\n",
              "      <td>2</td>\n",
              "    </tr>\n",
              "    <tr>\n",
              "      <th>...</th>\n",
              "      <td>...</td>\n",
              "      <td>...</td>\n",
              "    </tr>\n",
              "    <tr>\n",
              "      <th>23028</th>\n",
              "      <td>يلا ولا خنزير الله يرحم صدام حسين لي كان داعسكن</td>\n",
              "      <td>2</td>\n",
              "    </tr>\n",
              "    <tr>\n",
              "      <th>23029</th>\n",
              "      <td>وبلدك سوريا لا تبغي سوا القتل والاجرام</td>\n",
              "      <td>2</td>\n",
              "    </tr>\n",
              "    <tr>\n",
              "      <th>23030</th>\n",
              "      <td>معالي الوزير نؤمن بك دائما لأنك الدرع المنيع ف...</td>\n",
              "      <td>0</td>\n",
              "    </tr>\n",
              "    <tr>\n",
              "      <th>23031</th>\n",
              "      <td>حياة سندي مستشارة امين عام الامم المتحدة بان ك...</td>\n",
              "      <td>0</td>\n",
              "    </tr>\n",
              "    <tr>\n",
              "      <th>23032</th>\n",
              "      <td>انت يا جبران باسيل بعقليتك الفجة النتنة تقولرب...</td>\n",
              "      <td>2</td>\n",
              "    </tr>\n",
              "  </tbody>\n",
              "</table>\n",
              "<p>23033 rows × 2 columns</p>\n",
              "</div>\n",
              "      <button class=\"colab-df-convert\" onclick=\"convertToInteractive('df-008e8812-e28a-43b4-821e-7b56d862f04e')\"\n",
              "              title=\"Convert this dataframe to an interactive table.\"\n",
              "              style=\"display:none;\">\n",
              "        \n",
              "  <svg xmlns=\"http://www.w3.org/2000/svg\" height=\"24px\"viewBox=\"0 0 24 24\"\n",
              "       width=\"24px\">\n",
              "    <path d=\"M0 0h24v24H0V0z\" fill=\"none\"/>\n",
              "    <path d=\"M18.56 5.44l.94 2.06.94-2.06 2.06-.94-2.06-.94-.94-2.06-.94 2.06-2.06.94zm-11 1L8.5 8.5l.94-2.06 2.06-.94-2.06-.94L8.5 2.5l-.94 2.06-2.06.94zm10 10l.94 2.06.94-2.06 2.06-.94-2.06-.94-.94-2.06-.94 2.06-2.06.94z\"/><path d=\"M17.41 7.96l-1.37-1.37c-.4-.4-.92-.59-1.43-.59-.52 0-1.04.2-1.43.59L10.3 9.45l-7.72 7.72c-.78.78-.78 2.05 0 2.83L4 21.41c.39.39.9.59 1.41.59.51 0 1.02-.2 1.41-.59l7.78-7.78 2.81-2.81c.8-.78.8-2.07 0-2.86zM5.41 20L4 18.59l7.72-7.72 1.47 1.35L5.41 20z\"/>\n",
              "  </svg>\n",
              "      </button>\n",
              "      \n",
              "  <style>\n",
              "    .colab-df-container {\n",
              "      display:flex;\n",
              "      flex-wrap:wrap;\n",
              "      gap: 12px;\n",
              "    }\n",
              "\n",
              "    .colab-df-convert {\n",
              "      background-color: #E8F0FE;\n",
              "      border: none;\n",
              "      border-radius: 50%;\n",
              "      cursor: pointer;\n",
              "      display: none;\n",
              "      fill: #1967D2;\n",
              "      height: 32px;\n",
              "      padding: 0 0 0 0;\n",
              "      width: 32px;\n",
              "    }\n",
              "\n",
              "    .colab-df-convert:hover {\n",
              "      background-color: #E2EBFA;\n",
              "      box-shadow: 0px 1px 2px rgba(60, 64, 67, 0.3), 0px 1px 3px 1px rgba(60, 64, 67, 0.15);\n",
              "      fill: #174EA6;\n",
              "    }\n",
              "\n",
              "    [theme=dark] .colab-df-convert {\n",
              "      background-color: #3B4455;\n",
              "      fill: #D2E3FC;\n",
              "    }\n",
              "\n",
              "    [theme=dark] .colab-df-convert:hover {\n",
              "      background-color: #434B5C;\n",
              "      box-shadow: 0px 1px 3px 1px rgba(0, 0, 0, 0.15);\n",
              "      filter: drop-shadow(0px 1px 2px rgba(0, 0, 0, 0.3));\n",
              "      fill: #FFFFFF;\n",
              "    }\n",
              "  </style>\n",
              "\n",
              "      <script>\n",
              "        const buttonEl =\n",
              "          document.querySelector('#df-008e8812-e28a-43b4-821e-7b56d862f04e button.colab-df-convert');\n",
              "        buttonEl.style.display =\n",
              "          google.colab.kernel.accessAllowed ? 'block' : 'none';\n",
              "\n",
              "        async function convertToInteractive(key) {\n",
              "          const element = document.querySelector('#df-008e8812-e28a-43b4-821e-7b56d862f04e');\n",
              "          const dataTable =\n",
              "            await google.colab.kernel.invokeFunction('convertToInteractive',\n",
              "                                                     [key], {});\n",
              "          if (!dataTable) return;\n",
              "\n",
              "          const docLinkHtml = 'Like what you see? Visit the ' +\n",
              "            '<a target=\"_blank\" href=https://colab.research.google.com/notebooks/data_table.ipynb>data table notebook</a>'\n",
              "            + ' to learn more about interactive tables.';\n",
              "          element.innerHTML = '';\n",
              "          dataTable['output_type'] = 'display_data';\n",
              "          await google.colab.output.renderOutput(dataTable, element);\n",
              "          const docLink = document.createElement('div');\n",
              "          docLink.innerHTML = docLinkHtml;\n",
              "          element.appendChild(docLink);\n",
              "        }\n",
              "      </script>\n",
              "    </div>\n",
              "  </div>\n",
              "  "
            ]
          },
          "metadata": {},
          "execution_count": 10
        }
      ]
    },
    {
      "cell_type": "code",
      "source": [
        "import matplotlib.pyplot as plt\n",
        "import seaborn as sns\n",
        "plt.figure(1 , figsize = (15 , 5))\n",
        "sns.countplot(y = 'classe' , data = data)\n",
        "plt.show()"
      ],
      "metadata": {
        "colab": {
          "base_uri": "https://localhost:8080/",
          "height": 334
        },
        "id": "Fz8P60LwbLjI",
        "outputId": "7c97d6ee-9530-4a02-e0ad-ce1553e2210f"
      },
      "execution_count": null,
      "outputs": [
        {
          "output_type": "display_data",
          "data": {
            "text/plain": [
              "<Figure size 1080x360 with 1 Axes>"
            ],
            "image/png": "[encoded data removed]"
          },
          "metadata": {
            "needs_background": "light"
          }
        }
      ]
    },
    {
      "cell_type": "code",
      "source": [
        "#Figure out the longest comment\n",
        "\n",
        "def count_words(input):\n",
        "  return len(input.split())\n",
        "max_length=count_words(max(sentences,key=count_words))\n",
        "max_length"
      ],
      "metadata": {
        "colab": {
          "base_uri": "https://localhost:8080/"
        },
        "id": "A37mvaVcD-ji",
        "outputId": "52c4bd25-884c-4f94-de9c-6a0d820b5bb9"
      },
      "execution_count": null,
      "outputs": [
        {
          "output_type": "execute_result",
          "data": {
            "text/plain": [
              "388"
            ]
          },
          "metadata": {},
          "execution_count": 13
        }
      ]
    },
    {
      "cell_type": "markdown",
      "source": [
        "#Importing extra data"
      ],
      "metadata": {
        "id": "cCJNbJcEzes_"
      }
    },
    {
      "cell_type": "code",
      "source": [
        "data12=pd.read_excel(\"/content/drive/MyDrive/All/Projects/Ing Internship/Data/dataset1and2.xlsx\")\n",
        "data34=pd.read_excel(\"/content/drive/MyDrive/All/Projects/Ing Internship/Data/dataset3and4.xlsx\")\n",
        "data5=pd.read_excel(\"/content/drive/MyDrive/All/Projects/Ing Internship/Data/D5.xlsx\")\n",
        "\n",
        "data12['classe']=data12['classe'].replace(\"hate\", int(2))\n",
        "data12['classe']=data12['classe'].replace(\"normal\", int(0)) \n",
        "data12['classe']=data12['classe'].replace(\"abusive\", int(1))\n",
        "\n",
        "data34['classe']=data34['classe'].replace(\"hate\", int(2))\n",
        "data34['classe']=data34['classe'].replace(\"normal\", int(0)) \n",
        "data34['classe']=data34['classe'].replace(\"abusive\", int(1))\n",
        "\n",
        "\n",
        "data5['classe']=data5['classe'].replace(\"hate\", int(2))\n",
        "data5['classe']=data5['classe'].replace(\"normal\", int(0)) \n",
        "data5['classe']=data5['classe'].replace(\"abusive\", int(1))\n",
        "\n",
        "\n",
        "C1=data12[\"commentaire\"]\n",
        "C2=data34[\"commentaire\"]\n",
        "C3=data5[\"commentaire\"]\n",
        "L1=data12[\"classe\"]\n",
        "L2=data34[\"classe\"]\n",
        "L3=data5[\"classe\"]\n",
        "\n",
        "\n",
        "data12=[[i,j] for i,j in zip(C1 , L1)]\n",
        "data34=[[i,j] for i,j in zip(C2 , L2)]\n",
        "data5=[[i,j] for i,j in zip(C3 , L3)]\n",
        "\n",
        "data12=pd.DataFrame(data12,columns=[\"sentences\",\"classe\"])\n",
        "data34=pd.DataFrame(data34,columns=[\"sentences\",\"classe\"])\n",
        "data5=pd.DataFrame(data5,columns=[\"sentences\",\"classe\"])"
      ],
      "metadata": {
        "id": "lJ4ViTx6zc-7"
      },
      "execution_count": null,
      "outputs": []
    },
    {
      "cell_type": "code",
      "source": [
        "data5[\"sentences\"]=data5[\"sentences\"].str.replace(\"_\",\" \")"
      ],
      "metadata": {
        "id": "YEFxuA6H0gMb"
      },
      "execution_count": null,
      "outputs": []
    },
    {
      "cell_type": "code",
      "source": [
        "data5[\"sentences\"][1097]"
      ],
      "metadata": {
        "colab": {
          "base_uri": "https://localhost:8080/",
          "height": 36
        },
        "id": "IhOSM1XP17Oy",
        "outputId": "9b13d58b-d1f1-4304-84d5-ea19213c2e2e"
      },
      "execution_count": null,
      "outputs": [
        {
          "output_type": "execute_result",
          "data": {
            "text/plain": [
              "'\"#أزهى عصور المسخره  هل ضيعت \"شيما\" محافظ بورسعيد؟\"'"
            ],
            "application/vnd.google.colaboratory.intrinsic+json": {
              "type": "string"
            }
          },
          "metadata": {},
          "execution_count": 16
        }
      ]
    },
    {
      "cell_type": "code",
      "source": [
        "plt.figure(1 , figsize = (15 , 5))\n",
        "sns.countplot(y = 'classe' , data = data12)\n",
        "plt.show()\n",
        "print(data12.loc[data12.classe==0].groupby('classe')[\"classe\"].count())\n",
        "print(data12.loc[data12.classe==1].groupby('classe')[\"classe\"].count())\n",
        "print(data12.loc[data12.classe==2].groupby('classe')[\"classe\"].count())"
      ],
      "metadata": {
        "colab": {
          "base_uri": "https://localhost:8080/",
          "height": 490
        },
        "id": "15BM6cRP0Wrl",
        "outputId": "05cf2e58-3946-4453-c7fe-d236dff0336f"
      },
      "execution_count": null,
      "outputs": [
        {
          "output_type": "display_data",
          "data": {
            "text/plain": [
              "<Figure size 1080x360 with 1 Axes>"
            ],
            "image/png": "[encoded data removed]"
          },
          "metadata": {
            "needs_background": "light"
          }
        },
        {
          "output_type": "stream",
          "name": "stdout",
          "text": [
            "classe\n",
            "0    3857\n",
            "Name: classe, dtype: int64\n",
            "classe\n",
            "1    1204\n",
            "Name: classe, dtype: int64\n",
            "classe\n",
            "2    1399\n",
            "Name: classe, dtype: int64\n"
          ]
        }
      ]
    },
    {
      "cell_type": "code",
      "source": [
        "plt.figure(1 , figsize = (15 , 5))\n",
        "sns.countplot(y = 'classe' , data = data34)\n",
        "plt.show()\n",
        "print(data34.loc[data34.classe==0].groupby('classe')[\"classe\"].count())\n",
        "print(data34.loc[data34.classe==1].groupby('classe')[\"classe\"].count())\n",
        "print(data34.loc[data34.classe==2].groupby('classe')[\"classe\"].count())"
      ],
      "metadata": {
        "colab": {
          "base_uri": "https://localhost:8080/",
          "height": 490
        },
        "id": "OOiCKJ4y1I5T",
        "outputId": "af858867-7362-46f0-8866-9d0bf6107eba"
      },
      "execution_count": null,
      "outputs": [
        {
          "output_type": "display_data",
          "data": {
            "text/plain": [
              "<Figure size 1080x360 with 1 Axes>"
            ],
            "image/png": "[encoded data removed]"
          },
          "metadata": {
            "needs_background": "light"
          }
        },
        {
          "output_type": "stream",
          "name": "stdout",
          "text": [
            "classe\n",
            "0    4565\n",
            "Name: classe, dtype: int64\n",
            "classe\n",
            "1    1746\n",
            "Name: classe, dtype: int64\n",
            "classe\n",
            "2    2885\n",
            "Name: classe, dtype: int64\n"
          ]
        }
      ]
    },
    {
      "cell_type": "markdown",
      "source": [
        "##The way that the computers percieve words and phrases is diffrent from the way that we preceve it as human beings. There are a veriety of ways for us that we can utilise to program the data type that we have and to make it numerical so that the model can get some meaning out of it. We call this part encoding text.\n",
        "##we can transfor each alphabet and caracter to it's ASCII Code, but this approach wasn't proven to give great results [To Research] !!!\n",
        "#What I did in the code was: Continus or distributed Embeddings Vectors representation:\n",
        "* First: Build a dictionary of tokens: I defined a dictionnary That has the words as keys and a unique number as a value\n",
        "* I then changed all of the phrases into Lists that has integers that indicate which word is in that particular place\n",
        "* Use One-Hot Vector\n",
        "\n",
        "##After doing this process, we have a numerical data that the model can use to get some meaning out of the labels"
      ],
      "metadata": {
        "id": "qbiHzGSbw8sE"
      }
    },
    {
      "cell_type": "code",
      "source": [
        "training_size=int(len(sentences)*0.9)   #Experimenting setup\n",
        "\n",
        "training_sentences = sentences[0:training_size]\n",
        "testing_sentences = sentences[training_size:]\n",
        "training_labels = labels[0:training_size]\n",
        "testing_labels = labels[training_size:]\n",
        "\n",
        "embedding_dim = 16\n",
        "\n",
        "tokenizer = Tokenizer(num_words=3000, oov_token=\"<OOV>\")\n",
        "tokenizer.fit_on_texts(training_sentences)\n",
        "\n",
        "vocab_size = len(tokenizer.word_index) + 1 \n",
        "\n",
        "word_index = tokenizer.word_index\n",
        "\n",
        "training_sequences = tokenizer.texts_to_sequences(training_sentences)\n",
        "training_padded = pad_sequences(training_sequences, maxlen=max_length, padding='post', truncating='post')\n",
        "\n",
        "testing_sequences = tokenizer.texts_to_sequences(testing_sentences)\n",
        "testing_padded = pad_sequences(testing_sequences, maxlen=max_length, padding='post', truncating='post')"
      ],
      "metadata": {
        "id": "FrNFMsATGjbL"
      },
      "execution_count": null,
      "outputs": []
    },
    {
      "cell_type": "code",
      "source": [
        "vocab_size"
      ],
      "metadata": {
        "id": "GCD5XHrK8HaL",
        "outputId": "9d50b047-295a-4f63-e63b-6414fea36054",
        "colab": {
          "base_uri": "https://localhost:8080/"
        }
      },
      "execution_count": null,
      "outputs": [
        {
          "output_type": "execute_result",
          "data": {
            "text/plain": [
              "52168"
            ]
          },
          "metadata": {},
          "execution_count": 22
        }
      ]
    },
    {
      "cell_type": "code",
      "source": [
        "len(word_index)"
      ],
      "metadata": {
        "id": "PB3wZKaR8MXq",
        "outputId": "b7f9f4f1-e1b3-4cf2-ffa9-3f72e65e694a",
        "colab": {
          "base_uri": "https://localhost:8080/"
        }
      },
      "execution_count": null,
      "outputs": [
        {
          "output_type": "execute_result",
          "data": {
            "text/plain": [
              "52167"
            ]
          },
          "metadata": {},
          "execution_count": 23
        }
      ]
    },
    {
      "cell_type": "code",
      "source": [
        "Nsentences12=data12[\"sentences\"]\n",
        "Nlabels12=data12[\"classe\"]\n",
        "\n",
        "training_size12=int(len(Nsentences12)*0.8)\n",
        "\n",
        "testing_sentences12 = Nsentences12[training_size12:]\n",
        "testing_labels12 = Nlabels12[training_size12:]\n",
        "\n",
        "##########\n",
        "\n",
        "Nsentences34=data34[\"sentences\"]\n",
        "Nlabels34=data34[\"classe\"]\n",
        "\n",
        "training_size34=int(len(Nsentences34)*0.8)\n",
        "\n",
        "testing_sentences34 = Nsentences34[training_size34:]\n",
        "testing_labels34 = Nlabels34[training_size34:]\n",
        "\n",
        "##########\n",
        "\n",
        "Nsentences5=data5[\"sentences\"]\n",
        "Nlabels5=data5[\"classe\"]\n",
        "\n",
        "training_size5=int(len(Nsentences5)*0.8)\n",
        "\n",
        "testing_sentences5 = Nsentences34[training_size5:]\n",
        "testing_labels5 = Nlabels34[training_size5:]"
      ],
      "metadata": {
        "id": "mkUjHchx4FaT"
      },
      "execution_count": null,
      "outputs": []
    },
    {
      "cell_type": "code",
      "source": [
        "max_length12=count_words(max(testing_sentences12,key=count_words))\n",
        "max_length12"
      ],
      "metadata": {
        "id": "NPn7XcNo5qUy",
        "outputId": "bdc13bbc-f0d2-4197-902d-f8d35bee7c10",
        "colab": {
          "base_uri": "https://localhost:8080/"
        }
      },
      "execution_count": null,
      "outputs": [
        {
          "output_type": "execute_result",
          "data": {
            "text/plain": [
              "206"
            ]
          },
          "metadata": {},
          "execution_count": 31
        }
      ]
    },
    {
      "cell_type": "code",
      "source": [
        "max_length34=count_words(max(testing_sentences34,key=count_words))\n",
        "max_length34"
      ],
      "metadata": {
        "id": "5FkaUBXI60-_",
        "outputId": "003fcc6c-016f-4bc9-d26f-7619323e61f7",
        "colab": {
          "base_uri": "https://localhost:8080/"
        }
      },
      "execution_count": null,
      "outputs": [
        {
          "output_type": "execute_result",
          "data": {
            "text/plain": [
              "29"
            ]
          },
          "metadata": {},
          "execution_count": 32
        }
      ]
    },
    {
      "cell_type": "code",
      "source": [
        "max_length5=count_words(max(testing_sentences5,key=count_words))\n",
        "max_length5"
      ],
      "metadata": {
        "id": "BzkNojMI17FG",
        "outputId": "b1200578-1e85-4a7f-fc27-41694408ebaf",
        "colab": {
          "base_uri": "https://localhost:8080/"
        }
      },
      "execution_count": null,
      "outputs": [
        {
          "output_type": "execute_result",
          "data": {
            "text/plain": [
              "52"
            ]
          },
          "metadata": {},
          "execution_count": 33
        }
      ]
    },
    {
      "cell_type": "markdown",
      "source": [
        "###The Maximum length in the new data is less than 207, so we can padd them without losing information."
      ],
      "metadata": {
        "id": "AFubPmEL7Qrh"
      }
    },
    {
      "cell_type": "code",
      "source": [
        "testing_sequences12 = tokenizer.texts_to_sequences(testing_sentences12)\n",
        "testing_padded12 = pad_sequences(testing_sequences12, maxlen=max_length, padding='post', truncating='post')\n",
        "\n",
        "###########\n",
        "\n",
        "testing_sequences34 = tokenizer.texts_to_sequences(testing_sentences34)\n",
        "testing_padded34 = pad_sequences(testing_sequences34, maxlen=max_length, padding='post', truncating='post')\n",
        "\n",
        "###########\n",
        "\n",
        "testing_sequences5 = tokenizer.texts_to_sequences(testing_sentences5)\n",
        "testing_padded5 = pad_sequences(testing_sequences5, maxlen=max_length, padding='post', truncating='post')"
      ],
      "metadata": {
        "id": "e0p6r_d_7O58"
      },
      "execution_count": null,
      "outputs": []
    },
    {
      "cell_type": "markdown",
      "source": [
        "#Modelling"
      ],
      "metadata": {
        "id": "TzmCjIfYBA8G"
      }
    },
    {
      "cell_type": "markdown",
      "source": [
        "##For The First Model"
      ],
      "metadata": {
        "id": "-CRh9Gqc7KxQ"
      }
    },
    {
      "cell_type": "code",
      "source": [
        "import tensorflow as tf\n",
        "\n",
        "model=tf.keras.models.Sequential ([\n",
        "                                   tf.keras.layers.Embedding(vocab_size, embedding_dim, input_length=max_length),\n",
        "                                   tf.keras.layers.Conv1D(128, 5, activation='relu'),\n",
        "                                   tf.keras.layers.Conv1D(filters=32, kernel_size=1, activation='selu'),\n",
        "                                   tf.keras.layers.Bidirectional(tf.keras.layers.LSTM(32,return_sequences=True)),\n",
        "                                   tf.keras.layers.Bidirectional(tf.keras.layers.LSTM(32,return_sequences=True)),\n",
        "                                   tf.keras.layers.Bidirectional(tf.keras.layers.LSTM(16,return_sequences=True)),\n",
        "                                   tf.keras.layers.Flatten(),\n",
        "                                   tf.keras.layers.Dense(units=24,activation='relu'),\n",
        "                                   tf.keras.layers.Dense(units=3, activation='softmax')])\n",
        "model.summary()"
      ],
      "metadata": {
        "colab": {
          "base_uri": "https://localhost:8080/"
        },
        "id": "attb9Ze4BGlm",
        "outputId": "ce3ad61f-cbb0-47c7-942b-2c13a77c0d9a"
      },
      "execution_count": null,
      "outputs": [
        {
          "output_type": "stream",
          "name": "stdout",
          "text": [
            "Model: \"sequential\"\n",
            "_________________________________________________________________\n",
            " Layer (type)                Output Shape              Param #   \n",
            "=================================================================\n",
            " embedding (Embedding)       (None, 388, 16)           845584    \n",
            "                                                                 \n",
            " conv1d (Conv1D)             (None, 384, 128)          10368     \n",
            "                                                                 \n",
            " conv1d_1 (Conv1D)           (None, 384, 32)           4128      \n",
            "                                                                 \n",
            " bidirectional (Bidirectiona  (None, 384, 64)          16640     \n",
            " l)                                                              \n",
            "                                                                 \n",
            " bidirectional_1 (Bidirectio  (None, 384, 64)          24832     \n",
            " nal)                                                            \n",
            "                                                                 \n",
            " bidirectional_2 (Bidirectio  (None, 384, 32)          10368     \n",
            " nal)                                                            \n",
            "                                                                 \n",
            " flatten (Flatten)           (None, 12288)             0         \n",
            "                                                                 \n",
            " dense (Dense)               (None, 24)                294936    \n",
            "                                                                 \n",
            " dense_1 (Dense)             (None, 3)                 75        \n",
            "                                                                 \n",
            "=================================================================\n",
            "Total params: 1,206,931\n",
            "Trainable params: 1,206,931\n",
            "Non-trainable params: 0\n",
            "_________________________________________________________________\n"
          ]
        }
      ]
    },
    {
      "cell_type": "code",
      "source": [
        "#For the First Model\n",
        "model.compile(loss=\"sparse_categorical_crossentropy\",optimizer='adam',metrics=['accuracy'],run_eagerly=True)\n",
        "\n",
        "training_padded = np.asarray(training_padded).astype(np.int)\n",
        "training_labels = np.asarray(training_labels).astype(np.int)\n",
        "testing_padded = np.asarray(testing_padded).astype(np.int)\n",
        "testing_labels = np.asarray(testing_labels).astype(np.int)\n",
        "\n",
        "#training_padded = np.expand_dims(training_padded, axis=1)\n",
        "training_labels = np.expand_dims(training_labels, axis=1)\n",
        "#testing_padded = np.expand_dims(testing_padded, axis=1)\n",
        "testing_labels = np.expand_dims(testing_labels, axis=1)\n",
        "\n",
        "history = model.fit(training_padded, training_labels, batch_size=128, epochs=55, validation_data=(testing_padded, testing_labels), verbose=1)"
      ],
      "metadata": {
        "colab": {
          "base_uri": "https://localhost:8080/"
        },
        "id": "YK8y9kQFL5T5",
        "outputId": "62fb71b1-81fc-4290-ddfb-268c647bb7d3"
      },
      "execution_count": null,
      "outputs": [
        {
          "output_type": "stream",
          "name": "stderr",
          "text": [
            "/usr/local/lib/python3.7/dist-packages/ipykernel_launcher.py:4: DeprecationWarning: `np.int` is a deprecated alias for the builtin `int`. To silence this warning, use `int` by itself. Doing this will not modify any behavior and is safe. When replacing `np.int`, you may wish to use e.g. `np.int64` or `np.int32` to specify the precision. If you wish to review your current use, check the release note link for additional information.\n",
            "Deprecated in NumPy 1.20; for more details and guidance: https://numpy.org/devdocs/release/1.20.0-notes.html#deprecations\n",
            "  after removing the cwd from sys.path.\n",
            "/usr/local/lib/python3.7/dist-packages/ipykernel_launcher.py:5: DeprecationWarning: `np.int` is a deprecated alias for the builtin `int`. To silence this warning, use `int` by itself. Doing this will not modify any behavior and is safe. When replacing `np.int`, you may wish to use e.g. `np.int64` or `np.int32` to specify the precision. If you wish to review your current use, check the release note link for additional information.\n",
            "Deprecated in NumPy 1.20; for more details and guidance: https://numpy.org/devdocs/release/1.20.0-notes.html#deprecations\n",
            "  \"\"\"\n",
            "/usr/local/lib/python3.7/dist-packages/ipykernel_launcher.py:6: DeprecationWarning: `np.int` is a deprecated alias for the builtin `int`. To silence this warning, use `int` by itself. Doing this will not modify any behavior and is safe. When replacing `np.int`, you may wish to use e.g. `np.int64` or `np.int32` to specify the precision. If you wish to review your current use, check the release note link for additional information.\n",
            "Deprecated in NumPy 1.20; for more details and guidance: https://numpy.org/devdocs/release/1.20.0-notes.html#deprecations\n",
            "  \n",
            "/usr/local/lib/python3.7/dist-packages/ipykernel_launcher.py:7: DeprecationWarning: `np.int` is a deprecated alias for the builtin `int`. To silence this warning, use `int` by itself. Doing this will not modify any behavior and is safe. When replacing `np.int`, you may wish to use e.g. `np.int64` or `np.int32` to specify the precision. If you wish to review your current use, check the release note link for additional information.\n",
            "Deprecated in NumPy 1.20; for more details and guidance: https://numpy.org/devdocs/release/1.20.0-notes.html#deprecations\n",
            "  import sys\n"
          ]
        },
        {
          "output_type": "stream",
          "name": "stdout",
          "text": [
            "Epoch 1/55\n",
            "162/162 [==============================] - 37s 146ms/step - loss: 0.8952 - accuracy: 0.5853 - val_loss: 0.6794 - val_accuracy: 0.6953\n",
            "Epoch 2/55\n",
            "162/162 [==============================] - 21s 131ms/step - loss: 0.6718 - accuracy: 0.7255 - val_loss: 0.5694 - val_accuracy: 0.7786\n",
            "Epoch 3/55\n",
            "162/162 [==============================] - 21s 131ms/step - loss: 0.5880 - accuracy: 0.7741 - val_loss: 0.4860 - val_accuracy: 0.8181\n",
            "Epoch 4/55\n",
            "162/162 [==============================] - 21s 129ms/step - loss: 0.5195 - accuracy: 0.8047 - val_loss: 0.4646 - val_accuracy: 0.8220\n",
            "Epoch 5/55\n",
            "162/162 [==============================] - 22s 134ms/step - loss: 0.4729 - accuracy: 0.8249 - val_loss: 0.3885 - val_accuracy: 0.8620\n",
            "Epoch 6/55\n",
            "162/162 [==============================] - 22s 138ms/step - loss: 0.4295 - accuracy: 0.8429 - val_loss: 0.3489 - val_accuracy: 0.8767\n",
            "Epoch 7/55\n",
            "162/162 [==============================] - 21s 133ms/step - loss: 0.3969 - accuracy: 0.8509 - val_loss: 0.3483 - val_accuracy: 0.8663\n",
            "Epoch 8/55\n",
            "162/162 [==============================] - 21s 131ms/step - loss: 0.3566 - accuracy: 0.8702 - val_loss: 0.2710 - val_accuracy: 0.9036\n",
            "Epoch 9/55\n",
            "162/162 [==============================] - 21s 131ms/step - loss: 0.3224 - accuracy: 0.8833 - val_loss: 0.2671 - val_accuracy: 0.9023\n",
            "Epoch 10/55\n",
            "162/162 [==============================] - 22s 134ms/step - loss: 0.3017 - accuracy: 0.8903 - val_loss: 0.2213 - val_accuracy: 0.9206\n",
            "Epoch 11/55\n",
            "162/162 [==============================] - 21s 130ms/step - loss: 0.2729 - accuracy: 0.9005 - val_loss: 0.2225 - val_accuracy: 0.9162\n",
            "Epoch 12/55\n",
            "162/162 [==============================] - 21s 130ms/step - loss: 0.2490 - accuracy: 0.9095 - val_loss: 0.1990 - val_accuracy: 0.9271\n",
            "Epoch 13/55\n",
            "162/162 [==============================] - 22s 137ms/step - loss: 0.2309 - accuracy: 0.9167 - val_loss: 0.1759 - val_accuracy: 0.9375\n",
            "Epoch 14/55\n",
            "162/162 [==============================] - 21s 129ms/step - loss: 0.2207 - accuracy: 0.9220 - val_loss: 0.1740 - val_accuracy: 0.9384\n",
            "Epoch 15/55\n",
            "162/162 [==============================] - 22s 134ms/step - loss: 0.2061 - accuracy: 0.9273 - val_loss: 0.1712 - val_accuracy: 0.9384\n",
            "Epoch 16/55\n",
            "162/162 [==============================] - 21s 130ms/step - loss: 0.1931 - accuracy: 0.9311 - val_loss: 0.1504 - val_accuracy: 0.9484\n",
            "Epoch 17/55\n",
            "162/162 [==============================] - 21s 132ms/step - loss: 0.1881 - accuracy: 0.9321 - val_loss: 0.1362 - val_accuracy: 0.9505\n",
            "Epoch 18/55\n",
            "162/162 [==============================] - 21s 131ms/step - loss: 0.1817 - accuracy: 0.9341 - val_loss: 0.1420 - val_accuracy: 0.9492\n",
            "Epoch 19/55\n",
            "162/162 [==============================] - 22s 137ms/step - loss: 0.1744 - accuracy: 0.9369 - val_loss: 0.1428 - val_accuracy: 0.9449\n",
            "Epoch 20/55\n",
            "162/162 [==============================] - 21s 133ms/step - loss: 0.1679 - accuracy: 0.9386 - val_loss: 0.1269 - val_accuracy: 0.9523\n",
            "Epoch 21/55\n",
            "162/162 [==============================] - 21s 130ms/step - loss: 0.1596 - accuracy: 0.9401 - val_loss: 0.1396 - val_accuracy: 0.9484\n",
            "Epoch 22/55\n",
            "162/162 [==============================] - 21s 130ms/step - loss: 0.1569 - accuracy: 0.9405 - val_loss: 0.1178 - val_accuracy: 0.9544\n",
            "Epoch 23/55\n",
            "162/162 [==============================] - 21s 129ms/step - loss: 0.1498 - accuracy: 0.9432 - val_loss: 0.1217 - val_accuracy: 0.9518\n",
            "Epoch 24/55\n",
            "162/162 [==============================] - 21s 132ms/step - loss: 0.1449 - accuracy: 0.9443 - val_loss: 0.1156 - val_accuracy: 0.9557\n",
            "Epoch 25/55\n",
            "162/162 [==============================] - 21s 131ms/step - loss: 0.1376 - accuracy: 0.9465 - val_loss: 0.1112 - val_accuracy: 0.9579\n",
            "Epoch 26/55\n",
            "162/162 [==============================] - 22s 135ms/step - loss: 0.1418 - accuracy: 0.9440 - val_loss: 0.1198 - val_accuracy: 0.9514\n",
            "Epoch 27/55\n",
            "162/162 [==============================] - 21s 128ms/step - loss: 0.1387 - accuracy: 0.9455 - val_loss: 0.1173 - val_accuracy: 0.9527\n",
            "Epoch 28/55\n",
            "162/162 [==============================] - 21s 129ms/step - loss: 0.1317 - accuracy: 0.9474 - val_loss: 0.1105 - val_accuracy: 0.9557\n",
            "Epoch 29/55\n",
            "162/162 [==============================] - 21s 132ms/step - loss: 0.1323 - accuracy: 0.9469 - val_loss: 0.1085 - val_accuracy: 0.9531\n",
            "Epoch 30/55\n",
            "162/162 [==============================] - 21s 130ms/step - loss: 0.1311 - accuracy: 0.9470 - val_loss: 0.0975 - val_accuracy: 0.9583\n",
            "Epoch 31/55\n",
            "162/162 [==============================] - 21s 128ms/step - loss: 0.1283 - accuracy: 0.9470 - val_loss: 0.1069 - val_accuracy: 0.9575\n",
            "Epoch 32/55\n",
            "162/162 [==============================] - 22s 134ms/step - loss: 0.1249 - accuracy: 0.9481 - val_loss: 0.1101 - val_accuracy: 0.9523\n",
            "Epoch 33/55\n",
            "162/162 [==============================] - 21s 128ms/step - loss: 0.1241 - accuracy: 0.9475 - val_loss: 0.1020 - val_accuracy: 0.9531\n",
            "Epoch 34/55\n",
            "162/162 [==============================] - 21s 128ms/step - loss: 0.1189 - accuracy: 0.9510 - val_loss: 0.1006 - val_accuracy: 0.9566\n",
            "Epoch 35/55\n",
            "162/162 [==============================] - 21s 129ms/step - loss: 0.1166 - accuracy: 0.9494 - val_loss: 0.1066 - val_accuracy: 0.9531\n",
            "Epoch 36/55\n",
            "162/162 [==============================] - 21s 128ms/step - loss: 0.1195 - accuracy: 0.9500 - val_loss: 0.1062 - val_accuracy: 0.9566\n",
            "Epoch 37/55\n",
            "162/162 [==============================] - 21s 129ms/step - loss: 0.1193 - accuracy: 0.9505 - val_loss: 0.1024 - val_accuracy: 0.9549\n",
            "Epoch 38/55\n",
            "162/162 [==============================] - 21s 128ms/step - loss: 0.1114 - accuracy: 0.9526 - val_loss: 0.0935 - val_accuracy: 0.9536\n",
            "Epoch 39/55\n",
            "162/162 [==============================] - 22s 136ms/step - loss: 0.1062 - accuracy: 0.9530 - val_loss: 0.0969 - val_accuracy: 0.9553\n",
            "Epoch 40/55\n",
            "162/162 [==============================] - 21s 132ms/step - loss: 0.1098 - accuracy: 0.9528 - val_loss: 0.0927 - val_accuracy: 0.9557\n",
            "Epoch 41/55\n",
            "162/162 [==============================] - 22s 133ms/step - loss: 0.1079 - accuracy: 0.9524 - val_loss: 0.0911 - val_accuracy: 0.9544\n",
            "Epoch 42/55\n",
            "162/162 [==============================] - 21s 128ms/step - loss: 0.1059 - accuracy: 0.9534 - val_loss: 0.0917 - val_accuracy: 0.9553\n",
            "Epoch 43/55\n",
            "162/162 [==============================] - 21s 131ms/step - loss: 0.1053 - accuracy: 0.9534 - val_loss: 0.0906 - val_accuracy: 0.9553\n",
            "Epoch 44/55\n",
            "162/162 [==============================] - 21s 133ms/step - loss: 0.1050 - accuracy: 0.9538 - val_loss: 0.0875 - val_accuracy: 0.9570\n",
            "Epoch 45/55\n",
            "162/162 [==============================] - 22s 138ms/step - loss: 0.1013 - accuracy: 0.9538 - val_loss: 0.0985 - val_accuracy: 0.9549\n",
            "Epoch 46/55\n",
            "162/162 [==============================] - 21s 130ms/step - loss: 0.1008 - accuracy: 0.9557 - val_loss: 0.0969 - val_accuracy: 0.9518\n",
            "Epoch 47/55\n",
            "162/162 [==============================] - 21s 130ms/step - loss: 0.0972 - accuracy: 0.9554 - val_loss: 0.0891 - val_accuracy: 0.9553\n",
            "Epoch 48/55\n",
            "162/162 [==============================] - 21s 129ms/step - loss: 0.0965 - accuracy: 0.9552 - val_loss: 0.0886 - val_accuracy: 0.9557\n",
            "Epoch 49/55\n",
            "162/162 [==============================] - 21s 128ms/step - loss: 0.1010 - accuracy: 0.9523 - val_loss: 0.0828 - val_accuracy: 0.9566\n",
            "Epoch 50/55\n",
            "162/162 [==============================] - 21s 129ms/step - loss: 0.0997 - accuracy: 0.9545 - val_loss: 0.0900 - val_accuracy: 0.9540\n",
            "Epoch 51/55\n",
            "162/162 [==============================] - 21s 129ms/step - loss: 0.0967 - accuracy: 0.9554 - val_loss: 0.0883 - val_accuracy: 0.9575\n",
            "Epoch 52/55\n",
            "162/162 [==============================] - 22s 134ms/step - loss: 0.0916 - accuracy: 0.9565 - val_loss: 0.0977 - val_accuracy: 0.9514\n",
            "Epoch 53/55\n",
            "162/162 [==============================] - 21s 129ms/step - loss: 0.0883 - accuracy: 0.9579 - val_loss: 0.0822 - val_accuracy: 0.9553\n",
            "Epoch 54/55\n",
            "162/162 [==============================] - 21s 129ms/step - loss: 0.0919 - accuracy: 0.9578 - val_loss: 0.0959 - val_accuracy: 0.9514\n",
            "Epoch 55/55\n",
            "162/162 [==============================] - 21s 128ms/step - loss: 0.0937 - accuracy: 0.9557 - val_loss: 0.0785 - val_accuracy: 0.9588\n"
          ]
        }
      ]
    },
    {
      "cell_type": "code",
      "source": [
        "#Epoch 50/50\n",
        "#129/129 [==============================] - 17s 131ms/step - loss: 0.0800 - accuracy: 0.9551 - val_loss: 0.1488 - val_accuracy: 0.9221\n",
        "#Epoch 2/2\n",
        "#129/129 [==============================] - 14s 111ms/step - loss: 0.0793 - accuracy: 0.9576 - val_loss: 0.1594 - val_accuracy: 0.9425"
      ],
      "metadata": {
        "id": "87O-L-vRBuy-"
      },
      "execution_count": null,
      "outputs": []
    },
    {
      "cell_type": "code",
      "source": [
        "model.save('Model1Unbalanced09.h5')"
      ],
      "metadata": {
        "id": "vFcGBuccVWcd"
      },
      "execution_count": null,
      "outputs": []
    },
    {
      "cell_type": "code",
      "source": [
        "history = model.fit(training_padded, training_labels, batch_size=128, epochs=2, validation_data=(testing_padded, testing_labels), verbose=1)"
      ],
      "metadata": {
        "colab": {
          "base_uri": "https://localhost:8080/"
        },
        "id": "ARtVuoWqY5Fn",
        "outputId": "5f36c2b3-eab5-480e-cdd9-cccc7ff3f935"
      },
      "execution_count": null,
      "outputs": [
        {
          "output_type": "stream",
          "name": "stdout",
          "text": [
            "Epoch 1/2\n",
            "129/129 [==============================] - 15s 119ms/step - loss: 0.0821 - accuracy: 0.9550 - val_loss: 0.1520 - val_accuracy: 0.9128\n",
            "Epoch 2/2\n",
            "129/129 [==============================] - 14s 111ms/step - loss: 0.0793 - accuracy: 0.9576 - val_loss: 0.1594 - val_accuracy: 0.9425\n"
          ]
        }
      ]
    },
    {
      "cell_type": "code",
      "source": [
        "tf.keras.utils.plot_model(model, show_shapes=True)"
      ],
      "metadata": {
        "id": "fpzHswneMSZv",
        "colab": {
          "base_uri": "https://localhost:8080/",
          "height": 1000
        },
        "outputId": "befdb181-5648-472f-e2b2-ff0175aba567"
      },
      "execution_count": null,
      "outputs": [
        {
          "output_type": "execute_result",
          "data": {
            "text/plain": [
              "<IPython.core.display.Image object>"
            ],
            "image/png": "[encoded data removed]"
          },
          "metadata": {},
          "execution_count": 38
        }
      ]
    },
    {
      "cell_type": "code",
      "source": [
        "from sklearn.metrics import confusion_matrix\n",
        "from sklearn.metrics import classification_report\n",
        "import numpy as np\n",
        "\n",
        "pred=model.predict(testing_padded)\n",
        "rounded_labels1=np.argmax(pred, axis=1).astype(int)\n",
        "cm = confusion_matrix(testing_labels, rounded_labels1)\n",
        "print(cm)\n",
        "print(classification_report(testing_labels, rounded_labels1, labels=[0,1,2]))"
      ],
      "metadata": {
        "colab": {
          "base_uri": "https://localhost:8080/"
        },
        "id": "ctfA3AV-NbFv",
        "outputId": "225120b4-c845-4154-f996-91221dbc70ae"
      },
      "execution_count": null,
      "outputs": [
        {
          "output_type": "stream",
          "name": "stdout",
          "text": [
            "[[1254    2    9]\n",
            " [  15  375   24]\n",
            " [  33   12  580]]\n",
            "              precision    recall  f1-score   support\n",
            "\n",
            "           0       0.96      0.99      0.98      1265\n",
            "           1       0.96      0.91      0.93       414\n",
            "           2       0.95      0.93      0.94       625\n",
            "\n",
            "    accuracy                           0.96      2304\n",
            "   macro avg       0.96      0.94      0.95      2304\n",
            "weighted avg       0.96      0.96      0.96      2304\n",
            "\n"
          ]
        }
      ]
    },
    {
      "cell_type": "code",
      "source": [
        "pred12=model.predict(testing_padded12)\n",
        "rounded_labels112=np.argmax(pred12, axis=1).astype(int)\n",
        "cm12 = confusion_matrix(testing_labels12, rounded_labels112)\n",
        "print(cm12)\n",
        "print(classification_report(testing_labels12, rounded_labels112, labels=[0,1,2]))"
      ],
      "metadata": {
        "id": "XP0QbLyyJiJl",
        "colab": {
          "base_uri": "https://localhost:8080/"
        },
        "outputId": "0ce0febe-3ba0-4d4d-dc4d-1019631aa9d9"
      },
      "execution_count": null,
      "outputs": [
        {
          "output_type": "stream",
          "name": "stdout",
          "text": [
            "[[492  40  55]\n",
            " [ 49 187  17]\n",
            " [ 73 134 245]]\n",
            "              precision    recall  f1-score   support\n",
            "\n",
            "           0       0.80      0.84      0.82       587\n",
            "           1       0.52      0.74      0.61       253\n",
            "           2       0.77      0.54      0.64       452\n",
            "\n",
            "    accuracy                           0.72      1292\n",
            "   macro avg       0.70      0.71      0.69      1292\n",
            "weighted avg       0.74      0.72      0.71      1292\n",
            "\n"
          ]
        }
      ]
    },
    {
      "cell_type": "code",
      "source": [
        "pred34=model.predict(testing_padded34)\n",
        "rounded_labels134=np.argmax(pred34, axis=1).astype(int)\n",
        "cm34 = confusion_matrix(testing_labels34, rounded_labels134)\n",
        "print(cm34)\n",
        "print(classification_report(testing_labels34, rounded_labels134, labels=[0,1,2]))"
      ],
      "metadata": {
        "id": "xKHQnnggJ3PJ",
        "colab": {
          "base_uri": "https://localhost:8080/"
        },
        "outputId": "d680d7aa-3c82-46ca-f089-f1ec7e2b5c4e"
      },
      "execution_count": null,
      "outputs": [
        {
          "output_type": "stream",
          "name": "stdout",
          "text": [
            "[[ 502    0   24]\n",
            " [   0    6    1]\n",
            " [   7    3 1297]]\n",
            "              precision    recall  f1-score   support\n",
            "\n",
            "           0       0.99      0.95      0.97       526\n",
            "           1       0.67      0.86      0.75         7\n",
            "           2       0.98      0.99      0.99      1307\n",
            "\n",
            "    accuracy                           0.98      1840\n",
            "   macro avg       0.88      0.93      0.90      1840\n",
            "weighted avg       0.98      0.98      0.98      1840\n",
            "\n"
          ]
        }
      ]
    },
    {
      "cell_type": "code",
      "source": [
        "pred5=model.predict(testing_padded5)\n",
        "rounded_labels15=np.argmax(pred5, axis=1).astype(int)\n",
        "cm5 = confusion_matrix(testing_labels5, rounded_labels15)\n",
        "print(cm5)\n",
        "print(classification_report(testing_labels5, rounded_labels15, labels=[0,1,2]))"
      ],
      "metadata": {
        "id": "8noH9-BkMA7s",
        "colab": {
          "base_uri": "https://localhost:8080/"
        },
        "outputId": "c021dffe-ae34-43c2-96ff-14c2cfa5555d"
      },
      "execution_count": null,
      "outputs": [
        {
          "output_type": "stream",
          "name": "stdout",
          "text": [
            "[[3736   54  245]\n",
            " [ 334  487  633]\n",
            " [  92  139 2596]]\n",
            "              precision    recall  f1-score   support\n",
            "\n",
            "           0       0.90      0.93      0.91      4035\n",
            "           1       0.72      0.33      0.46      1454\n",
            "           2       0.75      0.92      0.82      2827\n",
            "\n",
            "    accuracy                           0.82      8316\n",
            "   macro avg       0.79      0.73      0.73      8316\n",
            "weighted avg       0.81      0.82      0.80      8316\n",
            "\n"
          ]
        }
      ]
    },
    {
      "cell_type": "code",
      "source": [
        "import matplotlib.pyplot as plt\n",
        "import numpy\n",
        "# summarize history for accuracy\n",
        "plt.plot(history.history['loss'])\n",
        "plt.plot(history.history['val_loss'])\n",
        "plt.title('model loss')\n",
        "plt.ylabel('loss')\n",
        "plt.xlabel('epoch')\n",
        "plt.legend(['train', 'test'], loc='upper left')\n",
        "plt.show()\n",
        "# summarize history for loss\n",
        "plt.plot(history.history['accuracy'])\n",
        "plt.plot(history.history['val_accuracy'])\n",
        "plt.title('model accuracy')\n",
        "plt.ylabel('accuracy')\n",
        "plt.xlabel('epoch')\n",
        "plt.legend(['train', 'test'], loc='upper left')\n",
        "plt.show()"
      ],
      "metadata": {
        "colab": {
          "base_uri": "https://localhost:8080/",
          "height": 573
        },
        "id": "QXLyKWWv58Qd",
        "outputId": "c2075ed1-a5c4-4004-c515-5b7f63d85034"
      },
      "execution_count": null,
      "outputs": [
        {
          "output_type": "display_data",
          "data": {
            "text/plain": [
              "<Figure size 432x288 with 1 Axes>"
            ],
            "image/png": "[encoded data removed]"
          },
          "metadata": {
            "needs_background": "light"
          }
        },
        {
          "output_type": "display_data",
          "data": {
            "text/plain": [
              "<Figure size 432x288 with 1 Axes>"
            ],
            "image/png": "[encoded data removed]"
          },
          "metadata": {
            "needs_background": "light"
          }
        }
      ]
    },
    {
      "cell_type": "markdown",
      "source": [
        "##For the Second Model"
      ],
      "metadata": {
        "id": "2DGrTNt17GKc"
      }
    },
    {
      "cell_type": "code",
      "source": [
        "import tensorflow as tf\n",
        "model2 = tf.keras.Sequential([\n",
        "    tf.keras.layers.Embedding(vocab_size, embedding_dim, input_length=max_length),\n",
        "    tf.keras.layers.Conv1D(128, 5, activation='relu'),\n",
        "    tf.keras.layers.GlobalMaxPooling1D(),\n",
        "    tf.keras.layers.Flatten(),\n",
        "    tf.keras.layers.Dense(24, activation='relu'),\n",
        "    tf.keras.layers.Dense(units=3, activation='softmax')\n",
        "])\n",
        "model2.summary()"
      ],
      "metadata": {
        "colab": {
          "base_uri": "https://localhost:8080/"
        },
        "id": "Vsv2gTUcITR-",
        "outputId": "fdcf469d-34f6-45e8-815d-77255c578b0a"
      },
      "execution_count": null,
      "outputs": [
        {
          "output_type": "stream",
          "name": "stdout",
          "text": [
            "Model: \"sequential_1\"\n",
            "_________________________________________________________________\n",
            " Layer (type)                Output Shape              Param #   \n",
            "=================================================================\n",
            " embedding_1 (Embedding)     (None, 388, 16)           845584    \n",
            "                                                                 \n",
            " conv1d_2 (Conv1D)           (None, 384, 128)          10368     \n",
            "                                                                 \n",
            " global_max_pooling1d (Globa  (None, 128)              0         \n",
            " lMaxPooling1D)                                                  \n",
            "                                                                 \n",
            " flatten_1 (Flatten)         (None, 128)               0         \n",
            "                                                                 \n",
            " dense_2 (Dense)             (None, 24)                3096      \n",
            "                                                                 \n",
            " dense_3 (Dense)             (None, 3)                 75        \n",
            "                                                                 \n",
            "=================================================================\n",
            "Total params: 859,123\n",
            "Trainable params: 859,123\n",
            "Non-trainable params: 0\n",
            "_________________________________________________________________\n"
          ]
        }
      ]
    },
    {
      "cell_type": "code",
      "source": [
        "model2.compile(loss=\"sparse_categorical_crossentropy\",optimizer='adam',metrics=['accuracy'])\n",
        "\n",
        "history = model2.fit(training_padded, training_labels, batch_size=128, epochs=50, validation_data=(testing_padded, testing_labels), verbose=1)"
      ],
      "metadata": {
        "colab": {
          "base_uri": "https://localhost:8080/"
        },
        "id": "-edaUQlH57pA",
        "outputId": "40dacbfa-a884-4557-f509-2b5cc1aee5a5"
      },
      "execution_count": null,
      "outputs": [
        {
          "output_type": "stream",
          "name": "stdout",
          "text": [
            "Epoch 1/50\n",
            "162/162 [==============================] - 3s 9ms/step - loss: 0.9143 - accuracy: 0.5803 - val_loss: 0.7381 - val_accuracy: 0.6641\n",
            "Epoch 2/50\n",
            "162/162 [==============================] - 1s 8ms/step - loss: 0.6567 - accuracy: 0.7286 - val_loss: 0.5180 - val_accuracy: 0.7969\n",
            "Epoch 3/50\n",
            "162/162 [==============================] - 1s 8ms/step - loss: 0.5192 - accuracy: 0.7968 - val_loss: 0.4275 - val_accuracy: 0.8429\n",
            "Epoch 4/50\n",
            "162/162 [==============================] - 1s 8ms/step - loss: 0.4630 - accuracy: 0.8179 - val_loss: 0.3755 - val_accuracy: 0.8585\n",
            "Epoch 5/50\n",
            "162/162 [==============================] - 1s 8ms/step - loss: 0.4177 - accuracy: 0.8384 - val_loss: 0.3221 - val_accuracy: 0.8867\n",
            "Epoch 6/50\n",
            "162/162 [==============================] - 1s 8ms/step - loss: 0.3788 - accuracy: 0.8551 - val_loss: 0.2824 - val_accuracy: 0.8950\n",
            "Epoch 7/50\n",
            "162/162 [==============================] - 1s 8ms/step - loss: 0.3383 - accuracy: 0.8744 - val_loss: 0.2616 - val_accuracy: 0.9006\n",
            "Epoch 8/50\n",
            "162/162 [==============================] - 1s 8ms/step - loss: 0.3036 - accuracy: 0.8888 - val_loss: 0.2206 - val_accuracy: 0.9223\n",
            "Epoch 9/50\n",
            "162/162 [==============================] - 1s 8ms/step - loss: 0.2738 - accuracy: 0.8994 - val_loss: 0.2076 - val_accuracy: 0.9219\n",
            "Epoch 10/50\n",
            "162/162 [==============================] - 1s 8ms/step - loss: 0.2484 - accuracy: 0.9119 - val_loss: 0.1819 - val_accuracy: 0.9332\n",
            "Epoch 11/50\n",
            "162/162 [==============================] - 1s 8ms/step - loss: 0.2273 - accuracy: 0.9200 - val_loss: 0.1646 - val_accuracy: 0.9410\n",
            "Epoch 12/50\n",
            "162/162 [==============================] - 1s 8ms/step - loss: 0.2090 - accuracy: 0.9251 - val_loss: 0.1463 - val_accuracy: 0.9457\n",
            "Epoch 13/50\n",
            "162/162 [==============================] - 1s 8ms/step - loss: 0.1959 - accuracy: 0.9289 - val_loss: 0.1413 - val_accuracy: 0.9470\n",
            "Epoch 14/50\n",
            "162/162 [==============================] - 1s 8ms/step - loss: 0.1811 - accuracy: 0.9330 - val_loss: 0.1307 - val_accuracy: 0.9518\n",
            "Epoch 15/50\n",
            "162/162 [==============================] - 1s 8ms/step - loss: 0.1691 - accuracy: 0.9383 - val_loss: 0.1309 - val_accuracy: 0.9514\n",
            "Epoch 16/50\n",
            "162/162 [==============================] - 1s 8ms/step - loss: 0.1650 - accuracy: 0.9397 - val_loss: 0.1289 - val_accuracy: 0.9488\n",
            "Epoch 17/50\n",
            "162/162 [==============================] - 1s 8ms/step - loss: 0.1533 - accuracy: 0.9434 - val_loss: 0.1144 - val_accuracy: 0.9549\n",
            "Epoch 18/50\n",
            "162/162 [==============================] - 1s 8ms/step - loss: 0.1505 - accuracy: 0.9444 - val_loss: 0.1127 - val_accuracy: 0.9557\n",
            "Epoch 19/50\n",
            "162/162 [==============================] - 1s 8ms/step - loss: 0.1444 - accuracy: 0.9461 - val_loss: 0.1099 - val_accuracy: 0.9557\n",
            "Epoch 20/50\n",
            "162/162 [==============================] - 2s 10ms/step - loss: 0.1400 - accuracy: 0.9464 - val_loss: 0.1166 - val_accuracy: 0.9518\n",
            "Epoch 21/50\n",
            "162/162 [==============================] - 1s 9ms/step - loss: 0.1382 - accuracy: 0.9474 - val_loss: 0.1093 - val_accuracy: 0.9549\n",
            "Epoch 22/50\n",
            "162/162 [==============================] - 2s 10ms/step - loss: 0.1322 - accuracy: 0.9480 - val_loss: 0.1135 - val_accuracy: 0.9531\n",
            "Epoch 23/50\n",
            "162/162 [==============================] - 2s 10ms/step - loss: 0.1335 - accuracy: 0.9485 - val_loss: 0.1055 - val_accuracy: 0.9557\n",
            "Epoch 24/50\n",
            "162/162 [==============================] - 2s 10ms/step - loss: 0.1272 - accuracy: 0.9502 - val_loss: 0.1009 - val_accuracy: 0.9557\n",
            "Epoch 25/50\n",
            "162/162 [==============================] - 1s 8ms/step - loss: 0.1235 - accuracy: 0.9512 - val_loss: 0.0952 - val_accuracy: 0.9592\n",
            "Epoch 26/50\n",
            "162/162 [==============================] - 1s 8ms/step - loss: 0.1252 - accuracy: 0.9488 - val_loss: 0.0919 - val_accuracy: 0.9609\n",
            "Epoch 27/50\n",
            "162/162 [==============================] - 1s 8ms/step - loss: 0.1185 - accuracy: 0.9521 - val_loss: 0.0960 - val_accuracy: 0.9570\n",
            "Epoch 28/50\n",
            "162/162 [==============================] - 1s 8ms/step - loss: 0.1190 - accuracy: 0.9522 - val_loss: 0.0938 - val_accuracy: 0.9592\n",
            "Epoch 29/50\n",
            "162/162 [==============================] - 1s 8ms/step - loss: 0.1158 - accuracy: 0.9521 - val_loss: 0.0882 - val_accuracy: 0.9614\n",
            "Epoch 30/50\n",
            "162/162 [==============================] - 1s 8ms/step - loss: 0.1172 - accuracy: 0.9511 - val_loss: 0.0900 - val_accuracy: 0.9601\n",
            "Epoch 31/50\n",
            "162/162 [==============================] - 1s 8ms/step - loss: 0.1126 - accuracy: 0.9539 - val_loss: 0.0910 - val_accuracy: 0.9609\n",
            "Epoch 32/50\n",
            "162/162 [==============================] - 1s 8ms/step - loss: 0.1127 - accuracy: 0.9539 - val_loss: 0.0871 - val_accuracy: 0.9640\n",
            "Epoch 33/50\n",
            "162/162 [==============================] - 1s 8ms/step - loss: 0.1093 - accuracy: 0.9549 - val_loss: 0.0805 - val_accuracy: 0.9631\n",
            "Epoch 34/50\n",
            "162/162 [==============================] - 1s 8ms/step - loss: 0.1098 - accuracy: 0.9540 - val_loss: 0.0970 - val_accuracy: 0.9557\n",
            "Epoch 35/50\n",
            "162/162 [==============================] - 1s 8ms/step - loss: 0.1089 - accuracy: 0.9546 - val_loss: 0.0998 - val_accuracy: 0.9553\n",
            "Epoch 36/50\n",
            "162/162 [==============================] - 1s 8ms/step - loss: 0.1086 - accuracy: 0.9548 - val_loss: 0.0897 - val_accuracy: 0.9631\n",
            "Epoch 37/50\n",
            "162/162 [==============================] - 1s 8ms/step - loss: 0.1084 - accuracy: 0.9543 - val_loss: 0.0973 - val_accuracy: 0.9592\n",
            "Epoch 38/50\n",
            "162/162 [==============================] - 1s 8ms/step - loss: 0.1054 - accuracy: 0.9547 - val_loss: 0.0867 - val_accuracy: 0.9592\n",
            "Epoch 39/50\n",
            "162/162 [==============================] - 1s 8ms/step - loss: 0.1037 - accuracy: 0.9551 - val_loss: 0.0835 - val_accuracy: 0.9614\n",
            "Epoch 40/50\n",
            "162/162 [==============================] - 1s 8ms/step - loss: 0.1054 - accuracy: 0.9548 - val_loss: 0.0868 - val_accuracy: 0.9588\n",
            "Epoch 41/50\n",
            "162/162 [==============================] - 1s 8ms/step - loss: 0.1044 - accuracy: 0.9550 - val_loss: 0.0830 - val_accuracy: 0.9627\n",
            "Epoch 42/50\n",
            "162/162 [==============================] - 1s 8ms/step - loss: 0.1020 - accuracy: 0.9563 - val_loss: 0.0894 - val_accuracy: 0.9583\n",
            "Epoch 43/50\n",
            "162/162 [==============================] - 1s 8ms/step - loss: 0.1028 - accuracy: 0.9560 - val_loss: 0.0847 - val_accuracy: 0.9601\n",
            "Epoch 44/50\n",
            "162/162 [==============================] - 1s 8ms/step - loss: 0.1013 - accuracy: 0.9556 - val_loss: 0.0820 - val_accuracy: 0.9609\n",
            "Epoch 45/50\n",
            "162/162 [==============================] - 1s 8ms/step - loss: 0.1013 - accuracy: 0.9557 - val_loss: 0.0807 - val_accuracy: 0.9622\n",
            "Epoch 46/50\n",
            "162/162 [==============================] - 1s 8ms/step - loss: 0.1023 - accuracy: 0.9549 - val_loss: 0.0920 - val_accuracy: 0.9588\n",
            "Epoch 47/50\n",
            "162/162 [==============================] - 1s 8ms/step - loss: 0.0990 - accuracy: 0.9558 - val_loss: 0.0838 - val_accuracy: 0.9640\n",
            "Epoch 48/50\n",
            "162/162 [==============================] - 1s 8ms/step - loss: 0.0985 - accuracy: 0.9561 - val_loss: 0.0820 - val_accuracy: 0.9609\n",
            "Epoch 49/50\n",
            "162/162 [==============================] - 1s 8ms/step - loss: 0.1001 - accuracy: 0.9556 - val_loss: 0.0854 - val_accuracy: 0.9614\n",
            "Epoch 50/50\n",
            "162/162 [==============================] - 1s 8ms/step - loss: 0.0985 - accuracy: 0.9572 - val_loss: 0.0841 - val_accuracy: 0.9622\n"
          ]
        }
      ]
    },
    {
      "cell_type": "code",
      "source": [
        "#Epoch 50/50\n",
        "#129/129 [==============================] - 1s 6ms/step - loss: 0.0928 - accuracy: 0.9549 - val_loss: 0.1237 - val_accuracy: 0.9445"
      ],
      "metadata": {
        "id": "ELYuX4V6V9HC"
      },
      "execution_count": null,
      "outputs": []
    },
    {
      "cell_type": "code",
      "source": [
        "model.save('Model2Unbalanced09.h5')"
      ],
      "metadata": {
        "id": "qV2xI0z5V6_Q"
      },
      "execution_count": null,
      "outputs": []
    },
    {
      "cell_type": "code",
      "source": [
        "tf.keras.utils.plot_model(model2, show_shapes=True)"
      ],
      "metadata": {
        "colab": {
          "base_uri": "https://localhost:8080/",
          "height": 754
        },
        "id": "Djs_EiWq6Sc1",
        "outputId": "a8611ff9-74bc-4589-9d1a-6555ce3480c6"
      },
      "execution_count": null,
      "outputs": [
        {
          "output_type": "execute_result",
          "data": {
            "text/plain": [
              "<IPython.core.display.Image object>"
            ],
            "image/png": "[encoded data removed]"
          },
          "metadata": {},
          "execution_count": 48
        }
      ]
    },
    {
      "cell_type": "code",
      "source": [
        "pred1=model2.predict(testing_padded)\n",
        "\n",
        "pred11=[]\n",
        "for i in pred1:\n",
        "  if i[0]==max(i):\n",
        "    pred11.append(0)\n",
        "  elif i[1]==max(i):\n",
        "    pred11.append(1)\n",
        "  else:\n",
        "    pred11.append(2)\n",
        "#rounded_labels11=np.argmax(pred11, axis=1).astype(int)\n",
        "cm = confusion_matrix(testing_labels, pred11)\n",
        "print(cm)\n",
        "print(classification_report(testing_labels, pred11, labels=[0,1,2]))"
      ],
      "metadata": {
        "colab": {
          "base_uri": "https://localhost:8080/"
        },
        "id": "5RAIZlNi58Ht",
        "outputId": "70439b01-7345-4c50-c235-9622b3fd8d9d"
      },
      "execution_count": null,
      "outputs": [
        {
          "output_type": "stream",
          "name": "stdout",
          "text": [
            "[[1257    2    6]\n",
            " [  13  394    7]\n",
            " [  33   26  566]]\n",
            "              precision    recall  f1-score   support\n",
            "\n",
            "           0       0.96      0.99      0.98      1265\n",
            "           1       0.93      0.95      0.94       414\n",
            "           2       0.98      0.91      0.94       625\n",
            "\n",
            "    accuracy                           0.96      2304\n",
            "   macro avg       0.96      0.95      0.95      2304\n",
            "weighted avg       0.96      0.96      0.96      2304\n",
            "\n"
          ]
        }
      ]
    },
    {
      "cell_type": "code",
      "source": [
        "pred12=model2.predict(testing_padded12)\n",
        "rounded_labels212=np.argmax(pred12, axis=1).astype(int)\n",
        "cm12 = confusion_matrix(testing_labels12, rounded_labels212)\n",
        "print(cm12)\n",
        "print(classification_report(testing_labels12, rounded_labels212, labels=[0,1,2]))"
      ],
      "metadata": {
        "id": "p7iWnGdoKkHJ",
        "colab": {
          "base_uri": "https://localhost:8080/"
        },
        "outputId": "826a79e7-2fcd-4871-b6d1-d7146192685b"
      },
      "execution_count": null,
      "outputs": [
        {
          "output_type": "stream",
          "name": "stdout",
          "text": [
            "[[502  37  48]\n",
            " [ 48 197   8]\n",
            " [ 89 135 228]]\n",
            "              precision    recall  f1-score   support\n",
            "\n",
            "           0       0.79      0.86      0.82       587\n",
            "           1       0.53      0.78      0.63       253\n",
            "           2       0.80      0.50      0.62       452\n",
            "\n",
            "    accuracy                           0.72      1292\n",
            "   macro avg       0.71      0.71      0.69      1292\n",
            "weighted avg       0.74      0.72      0.71      1292\n",
            "\n"
          ]
        }
      ]
    },
    {
      "cell_type": "code",
      "source": [
        "pred34=model2.predict(testing_padded34)\n",
        "rounded_labels234=np.argmax(pred34, axis=1).astype(int)\n",
        "cm34 = confusion_matrix(testing_labels34, rounded_labels234)\n",
        "print(cm34)\n",
        "print(classification_report(testing_labels34, rounded_labels234, labels=[0,1,2]))"
      ],
      "metadata": {
        "id": "t3trQk4OKw0Q",
        "colab": {
          "base_uri": "https://localhost:8080/"
        },
        "outputId": "43ccc22f-989b-4cb1-b5d5-1718d3bc1c4a"
      },
      "execution_count": null,
      "outputs": [
        {
          "output_type": "stream",
          "name": "stdout",
          "text": [
            "[[ 511    0   15]\n",
            " [   0    7    0]\n",
            " [  11    2 1294]]\n",
            "              precision    recall  f1-score   support\n",
            "\n",
            "           0       0.98      0.97      0.98       526\n",
            "           1       0.78      1.00      0.88         7\n",
            "           2       0.99      0.99      0.99      1307\n",
            "\n",
            "    accuracy                           0.98      1840\n",
            "   macro avg       0.92      0.99      0.95      1840\n",
            "weighted avg       0.98      0.98      0.98      1840\n",
            "\n"
          ]
        }
      ]
    },
    {
      "cell_type": "code",
      "source": [
        "pred5=model2.predict(testing_padded5)\n",
        "rounded_labels25=np.argmax(pred5, axis=1).astype(int)\n",
        "cm5 = confusion_matrix(testing_labels5, rounded_labels25)\n",
        "print(cm5)\n",
        "print(classification_report(testing_labels5, rounded_labels25, labels=[0,1,2]))"
      ],
      "metadata": {
        "id": "YMHiBV5cMN_r",
        "colab": {
          "base_uri": "https://localhost:8080/"
        },
        "outputId": "ac2fbb23-b981-4e0a-abc8-1212c5bb2bb7"
      },
      "execution_count": null,
      "outputs": [
        {
          "output_type": "stream",
          "name": "stdout",
          "text": [
            "[[3756   72  207]\n",
            " [ 338  539  577]\n",
            " [  88  155 2584]]\n",
            "              precision    recall  f1-score   support\n",
            "\n",
            "           0       0.90      0.93      0.91      4035\n",
            "           1       0.70      0.37      0.49      1454\n",
            "           2       0.77      0.91      0.83      2827\n",
            "\n",
            "    accuracy                           0.83      8316\n",
            "   macro avg       0.79      0.74      0.74      8316\n",
            "weighted avg       0.82      0.83      0.81      8316\n",
            "\n"
          ]
        }
      ]
    },
    {
      "cell_type": "code",
      "source": [
        "import matplotlib.pyplot as plt\n",
        "import numpy\n",
        "# summarize history for accuracy\n",
        "plt.plot(history.history['loss'])\n",
        "plt.plot(history.history['val_loss'])\n",
        "plt.title('model loss')\n",
        "plt.ylabel('loss')\n",
        "plt.xlabel('epoch')\n",
        "plt.legend(['train', 'test'], loc='upper left')\n",
        "plt.show()\n",
        "# summarize history for loss\n",
        "plt.plot(history.history['accuracy'])\n",
        "plt.plot(history.history['val_accuracy'])\n",
        "plt.title('model accuracy')\n",
        "plt.ylabel('accuracy')\n",
        "plt.xlabel('epoch')\n",
        "plt.legend(['train', 'test'], loc='upper left')\n",
        "plt.show()"
      ],
      "metadata": {
        "colab": {
          "base_uri": "https://localhost:8080/",
          "height": 573
        },
        "id": "R2WgOyeb_PHC",
        "outputId": "b4b10cf7-9b1b-4305-f78c-41759ce1d440"
      },
      "execution_count": null,
      "outputs": [
        {
          "output_type": "display_data",
          "data": {
            "text/plain": [
              "<Figure size 432x288 with 1 Axes>"
            ],
            "image/png": "[encoded data removed]"
          },
          "metadata": {
            "needs_background": "light"
          }
        },
        {
          "output_type": "display_data",
          "data": {
            "text/plain": [
              "<Figure size 432x288 with 1 Axes>"
            ],
            "image/png": "[encoded data removed]"
          },
          "metadata": {
            "needs_background": "light"
          }
        }
      ]
    },
    {
      "cell_type": "markdown",
      "source": [
        "##For The Third Model"
      ],
      "metadata": {
        "id": "FRfELBgw7A3Z"
      }
    },
    {
      "cell_type": "code",
      "source": [
        "model3 = tf.keras.Sequential([\n",
        "    tf.keras.layers.Embedding(vocab_size, embedding_dim, input_length=max_length),\n",
        "    tf.keras.layers.Bidirectional(tf.keras.layers.LSTM(32)),\n",
        "    tf.keras.layers.Flatten(),\n",
        "    tf.keras.layers.Dense(24, activation='relu'),\n",
        "    tf.keras.layers.Dense(3, activation='softmax')\n",
        "])\n",
        "model3.summary()"
      ],
      "metadata": {
        "colab": {
          "base_uri": "https://localhost:8080/"
        },
        "id": "JvX2b2nORvKS",
        "outputId": "b1afc1e8-daad-4c63-b69c-e68e63b15b52"
      },
      "execution_count": null,
      "outputs": [
        {
          "output_type": "stream",
          "name": "stdout",
          "text": [
            "Model: \"sequential_2\"\n",
            "_________________________________________________________________\n",
            " Layer (type)                Output Shape              Param #   \n",
            "=================================================================\n",
            " embedding_2 (Embedding)     (None, 388, 16)           845584    \n",
            "                                                                 \n",
            " bidirectional_3 (Bidirectio  (None, 64)               12544     \n",
            " nal)                                                            \n",
            "                                                                 \n",
            " flatten_2 (Flatten)         (None, 64)                0         \n",
            "                                                                 \n",
            " dense_4 (Dense)             (None, 24)                1560      \n",
            "                                                                 \n",
            " dense_5 (Dense)             (None, 3)                 75        \n",
            "                                                                 \n",
            "=================================================================\n",
            "Total params: 859,763\n",
            "Trainable params: 859,763\n",
            "Non-trainable params: 0\n",
            "_________________________________________________________________\n"
          ]
        }
      ]
    },
    {
      "cell_type": "code",
      "source": [
        "model3.compile(loss=\"sparse_categorical_crossentropy\",optimizer='adam',metrics=['accuracy'])\n",
        "history = model3.fit(training_padded, training_labels, batch_size=128, epochs=50, validation_data=(testing_padded, testing_labels), verbose=1)"
      ],
      "metadata": {
        "colab": {
          "base_uri": "https://localhost:8080/"
        },
        "id": "El4d_GRU6x2l",
        "outputId": "311b7e8d-b1c4-4c23-beba-af74e0a2dcab"
      },
      "execution_count": null,
      "outputs": [
        {
          "output_type": "stream",
          "name": "stdout",
          "text": [
            "Epoch 1/50\n",
            "162/162 [==============================] - 8s 33ms/step - loss: 0.9563 - accuracy: 0.5544 - val_loss: 0.7890 - val_accuracy: 0.6311\n",
            "Epoch 2/50\n",
            "162/162 [==============================] - 5s 28ms/step - loss: 0.6998 - accuracy: 0.7074 - val_loss: 0.5595 - val_accuracy: 0.7912\n",
            "Epoch 3/50\n",
            "162/162 [==============================] - 5s 28ms/step - loss: 0.5539 - accuracy: 0.7863 - val_loss: 0.4748 - val_accuracy: 0.8212\n",
            "Epoch 4/50\n",
            "162/162 [==============================] - 5s 28ms/step - loss: 0.5029 - accuracy: 0.8049 - val_loss: 0.4352 - val_accuracy: 0.8359\n",
            "Epoch 5/50\n",
            "162/162 [==============================] - 5s 28ms/step - loss: 0.4774 - accuracy: 0.8165 - val_loss: 0.4120 - val_accuracy: 0.8472\n",
            "Epoch 6/50\n",
            "162/162 [==============================] - 5s 28ms/step - loss: 0.4561 - accuracy: 0.8238 - val_loss: 0.3957 - val_accuracy: 0.8546\n",
            "Epoch 7/50\n",
            "162/162 [==============================] - 5s 28ms/step - loss: 0.4492 - accuracy: 0.8282 - val_loss: 0.3870 - val_accuracy: 0.8511\n",
            "Epoch 8/50\n",
            "162/162 [==============================] - 5s 32ms/step - loss: 0.4304 - accuracy: 0.8356 - val_loss: 0.3736 - val_accuracy: 0.8572\n",
            "Epoch 9/50\n",
            "162/162 [==============================] - 5s 30ms/step - loss: 0.4171 - accuracy: 0.8408 - val_loss: 0.3600 - val_accuracy: 0.8676\n",
            "Epoch 10/50\n",
            "162/162 [==============================] - 5s 28ms/step - loss: 0.4052 - accuracy: 0.8451 - val_loss: 0.3469 - val_accuracy: 0.8728\n",
            "Epoch 11/50\n",
            "162/162 [==============================] - 5s 28ms/step - loss: 0.3893 - accuracy: 0.8536 - val_loss: 0.3246 - val_accuracy: 0.8832\n",
            "Epoch 12/50\n",
            "162/162 [==============================] - 5s 31ms/step - loss: 0.3747 - accuracy: 0.8579 - val_loss: 0.3065 - val_accuracy: 0.8906\n",
            "Epoch 13/50\n",
            "162/162 [==============================] - 5s 28ms/step - loss: 0.3624 - accuracy: 0.8648 - val_loss: 0.2975 - val_accuracy: 0.8902\n",
            "Epoch 14/50\n",
            "162/162 [==============================] - 5s 28ms/step - loss: 0.3482 - accuracy: 0.8701 - val_loss: 0.2975 - val_accuracy: 0.8932\n",
            "Epoch 15/50\n",
            "162/162 [==============================] - 5s 28ms/step - loss: 0.3398 - accuracy: 0.8724 - val_loss: 0.2746 - val_accuracy: 0.9041\n",
            "Epoch 16/50\n",
            "162/162 [==============================] - 5s 31ms/step - loss: 0.3294 - accuracy: 0.8781 - val_loss: 0.2715 - val_accuracy: 0.9028\n",
            "Epoch 17/50\n",
            "162/162 [==============================] - 5s 34ms/step - loss: 0.3176 - accuracy: 0.8825 - val_loss: 0.2502 - val_accuracy: 0.9102\n",
            "Epoch 18/50\n",
            "162/162 [==============================] - 5s 28ms/step - loss: 0.3105 - accuracy: 0.8853 - val_loss: 0.2473 - val_accuracy: 0.9119\n",
            "Epoch 19/50\n",
            "162/162 [==============================] - 5s 28ms/step - loss: 0.2984 - accuracy: 0.8916 - val_loss: 0.2324 - val_accuracy: 0.9171\n",
            "Epoch 20/50\n",
            "162/162 [==============================] - 5s 28ms/step - loss: 0.2887 - accuracy: 0.8945 - val_loss: 0.2319 - val_accuracy: 0.9145\n",
            "Epoch 21/50\n",
            "162/162 [==============================] - 5s 29ms/step - loss: 0.2809 - accuracy: 0.8982 - val_loss: 0.2076 - val_accuracy: 0.9227\n",
            "Epoch 22/50\n",
            "162/162 [==============================] - 5s 28ms/step - loss: 0.2753 - accuracy: 0.8989 - val_loss: 0.2252 - val_accuracy: 0.9188\n",
            "Epoch 23/50\n",
            "162/162 [==============================] - 5s 28ms/step - loss: 0.2717 - accuracy: 0.8989 - val_loss: 0.2203 - val_accuracy: 0.9158\n",
            "Epoch 24/50\n",
            "162/162 [==============================] - 5s 28ms/step - loss: 0.2620 - accuracy: 0.9027 - val_loss: 0.1981 - val_accuracy: 0.9293\n",
            "Epoch 25/50\n",
            "162/162 [==============================] - 5s 28ms/step - loss: 0.2521 - accuracy: 0.9073 - val_loss: 0.2010 - val_accuracy: 0.9232\n",
            "Epoch 26/50\n",
            "162/162 [==============================] - 5s 28ms/step - loss: 0.2464 - accuracy: 0.9089 - val_loss: 0.1867 - val_accuracy: 0.9301\n",
            "Epoch 27/50\n",
            "162/162 [==============================] - 5s 29ms/step - loss: 0.2422 - accuracy: 0.9119 - val_loss: 0.1923 - val_accuracy: 0.9297\n",
            "Epoch 28/50\n",
            "162/162 [==============================] - 5s 29ms/step - loss: 0.2352 - accuracy: 0.9113 - val_loss: 0.1710 - val_accuracy: 0.9345\n",
            "Epoch 29/50\n",
            "162/162 [==============================] - 5s 29ms/step - loss: 0.2335 - accuracy: 0.9128 - val_loss: 0.1731 - val_accuracy: 0.9319\n",
            "Epoch 30/50\n",
            "162/162 [==============================] - 5s 28ms/step - loss: 0.2237 - accuracy: 0.9163 - val_loss: 0.1781 - val_accuracy: 0.9288\n",
            "Epoch 31/50\n",
            "162/162 [==============================] - 5s 28ms/step - loss: 0.2204 - accuracy: 0.9163 - val_loss: 0.1680 - val_accuracy: 0.9388\n",
            "Epoch 32/50\n",
            "162/162 [==============================] - 5s 28ms/step - loss: 0.2148 - accuracy: 0.9196 - val_loss: 0.1624 - val_accuracy: 0.9397\n",
            "Epoch 33/50\n",
            "162/162 [==============================] - 5s 28ms/step - loss: 0.2106 - accuracy: 0.9204 - val_loss: 0.1583 - val_accuracy: 0.9397\n",
            "Epoch 34/50\n",
            "162/162 [==============================] - 5s 29ms/step - loss: 0.2051 - accuracy: 0.9220 - val_loss: 0.1533 - val_accuracy: 0.9384\n",
            "Epoch 35/50\n",
            "162/162 [==============================] - 5s 32ms/step - loss: 0.2001 - accuracy: 0.9217 - val_loss: 0.1521 - val_accuracy: 0.9423\n",
            "Epoch 36/50\n",
            "162/162 [==============================] - 5s 28ms/step - loss: 0.1975 - accuracy: 0.9245 - val_loss: 0.1475 - val_accuracy: 0.9444\n",
            "Epoch 37/50\n",
            "162/162 [==============================] - 5s 32ms/step - loss: 0.1943 - accuracy: 0.9247 - val_loss: 0.1437 - val_accuracy: 0.9440\n",
            "Epoch 38/50\n",
            "162/162 [==============================] - 5s 31ms/step - loss: 0.1905 - accuracy: 0.9252 - val_loss: 0.1490 - val_accuracy: 0.9401\n",
            "Epoch 39/50\n",
            "162/162 [==============================] - 5s 29ms/step - loss: 0.1901 - accuracy: 0.9257 - val_loss: 0.1444 - val_accuracy: 0.9449\n",
            "Epoch 40/50\n",
            "162/162 [==============================] - 8s 47ms/step - loss: 0.1831 - accuracy: 0.9290 - val_loss: 0.1393 - val_accuracy: 0.9436\n",
            "Epoch 41/50\n",
            "162/162 [==============================] - 6s 35ms/step - loss: 0.1771 - accuracy: 0.9298 - val_loss: 0.1407 - val_accuracy: 0.9440\n",
            "Epoch 42/50\n",
            "162/162 [==============================] - 5s 28ms/step - loss: 0.1753 - accuracy: 0.9299 - val_loss: 0.1420 - val_accuracy: 0.9462\n",
            "Epoch 43/50\n",
            "162/162 [==============================] - 5s 28ms/step - loss: 0.1768 - accuracy: 0.9308 - val_loss: 0.1426 - val_accuracy: 0.9431\n",
            "Epoch 44/50\n",
            "162/162 [==============================] - 5s 28ms/step - loss: 0.1702 - accuracy: 0.9315 - val_loss: 0.1353 - val_accuracy: 0.9449\n",
            "Epoch 45/50\n",
            "162/162 [==============================] - 5s 28ms/step - loss: 0.1669 - accuracy: 0.9328 - val_loss: 0.1329 - val_accuracy: 0.9466\n",
            "Epoch 46/50\n",
            "162/162 [==============================] - 5s 29ms/step - loss: 0.1658 - accuracy: 0.9317 - val_loss: 0.1286 - val_accuracy: 0.9492\n",
            "Epoch 47/50\n",
            "162/162 [==============================] - 5s 29ms/step - loss: 0.1636 - accuracy: 0.9346 - val_loss: 0.1320 - val_accuracy: 0.9457\n",
            "Epoch 48/50\n",
            "162/162 [==============================] - 5s 29ms/step - loss: 0.1593 - accuracy: 0.9361 - val_loss: 0.1302 - val_accuracy: 0.9497\n",
            "Epoch 49/50\n",
            "162/162 [==============================] - 5s 29ms/step - loss: 0.1570 - accuracy: 0.9368 - val_loss: 0.1270 - val_accuracy: 0.9457\n",
            "Epoch 50/50\n",
            "162/162 [==============================] - 5s 28ms/step - loss: 0.1544 - accuracy: 0.9372 - val_loss: 0.1363 - val_accuracy: 0.9418\n"
          ]
        }
      ]
    },
    {
      "cell_type": "code",
      "source": [
        "#Epoch 50/50\n",
        "#129/129 [==============================] - 2s 19ms/step - loss: 0.1259 - accuracy: 0.9401 - val_loss: 0.1715 - val_accuracy: 0.9209"
      ],
      "metadata": {
        "id": "BHRXgvpCoku9"
      },
      "execution_count": null,
      "outputs": []
    },
    {
      "cell_type": "code",
      "source": [
        "model.save('Model3Unbalanced09.h5')"
      ],
      "metadata": {
        "id": "xac47tKAXYJT"
      },
      "execution_count": null,
      "outputs": []
    },
    {
      "cell_type": "code",
      "source": [
        "tf.keras.utils.plot_model(model3, show_shapes=True)"
      ],
      "metadata": {
        "colab": {
          "base_uri": "https://localhost:8080/",
          "height": 644
        },
        "id": "1dVvLzBo61G8",
        "outputId": "147eaeb0-c623-4387-c837-7c96b889291d"
      },
      "execution_count": null,
      "outputs": [
        {
          "output_type": "execute_result",
          "data": {
            "text/plain": [
              "<IPython.core.display.Image object>"
            ],
            "image/png": "[encoded data removed]"
          },
          "metadata": {},
          "execution_count": 57
        }
      ]
    },
    {
      "cell_type": "code",
      "source": [
        "pred3=model3.predict(testing_padded)\n",
        "rounded_labels3=np.argmax(pred3, axis=1).astype(int)\n",
        "cm2 = confusion_matrix(testing_labels, rounded_labels3)\n",
        "print(cm2)\n",
        "print(classification_report(testing_labels, rounded_labels3, labels=[0,1,2]))"
      ],
      "metadata": {
        "colab": {
          "base_uri": "https://localhost:8080/"
        },
        "id": "Vg0RP9_k63Ri",
        "outputId": "c5970dca-8cc8-4c53-c0ee-09fe9ee60334"
      },
      "execution_count": null,
      "outputs": [
        {
          "output_type": "stream",
          "name": "stdout",
          "text": [
            "[[1253    3    9]\n",
            " [  23  353   38]\n",
            " [  51   10  564]]\n",
            "              precision    recall  f1-score   support\n",
            "\n",
            "           0       0.94      0.99      0.97      1265\n",
            "           1       0.96      0.85      0.91       414\n",
            "           2       0.92      0.90      0.91       625\n",
            "\n",
            "    accuracy                           0.94      2304\n",
            "   macro avg       0.94      0.92      0.93      2304\n",
            "weighted avg       0.94      0.94      0.94      2304\n",
            "\n"
          ]
        }
      ]
    },
    {
      "cell_type": "code",
      "source": [
        "pred12=model3.predict(testing_padded12)\n",
        "rounded_labels312=np.argmax(pred12, axis=1).astype(int)\n",
        "cm12 = confusion_matrix(testing_labels12, rounded_labels312)\n",
        "print(cm12)\n",
        "print(classification_report(testing_labels12, rounded_labels312, labels=[0,1,2]))"
      ],
      "metadata": {
        "id": "MfclteTGK-_x",
        "colab": {
          "base_uri": "https://localhost:8080/"
        },
        "outputId": "4e8f9a70-e83f-46ab-a1b6-82df9ea17aa1"
      },
      "execution_count": null,
      "outputs": [
        {
          "output_type": "stream",
          "name": "stdout",
          "text": [
            "[[497  45  45]\n",
            " [ 62 174  17]\n",
            " [ 96 124 232]]\n",
            "              precision    recall  f1-score   support\n",
            "\n",
            "           0       0.76      0.85      0.80       587\n",
            "           1       0.51      0.69      0.58       253\n",
            "           2       0.79      0.51      0.62       452\n",
            "\n",
            "    accuracy                           0.70      1292\n",
            "   macro avg       0.69      0.68      0.67      1292\n",
            "weighted avg       0.72      0.70      0.70      1292\n",
            "\n"
          ]
        }
      ]
    },
    {
      "cell_type": "code",
      "source": [
        "pred34=model3.predict(testing_padded34)\n",
        "rounded_labels334=np.argmax(pred34, axis=1).astype(int)\n",
        "cm34 = confusion_matrix(testing_labels34, rounded_labels334)\n",
        "print(cm34)\n",
        "print(classification_report(testing_labels34, rounded_labels334, labels=[0,1,2]))"
      ],
      "metadata": {
        "id": "zYydjCkILMG-",
        "colab": {
          "base_uri": "https://localhost:8080/"
        },
        "outputId": "47a24d75-25f6-40c8-af96-bd84a7e433b7"
      },
      "execution_count": null,
      "outputs": [
        {
          "output_type": "stream",
          "name": "stdout",
          "text": [
            "[[ 489    0   37]\n",
            " [   0    5    2]\n",
            " [  27    1 1279]]\n",
            "              precision    recall  f1-score   support\n",
            "\n",
            "           0       0.95      0.93      0.94       526\n",
            "           1       0.83      0.71      0.77         7\n",
            "           2       0.97      0.98      0.97      1307\n",
            "\n",
            "    accuracy                           0.96      1840\n",
            "   macro avg       0.92      0.87      0.89      1840\n",
            "weighted avg       0.96      0.96      0.96      1840\n",
            "\n"
          ]
        }
      ]
    },
    {
      "cell_type": "code",
      "source": [
        "pred5=model3.predict(testing_padded5)\n",
        "rounded_labels35=np.argmax(pred5, axis=1).astype(int)\n",
        "cm5 = confusion_matrix(testing_labels5, rounded_labels35)\n",
        "print(cm5)\n",
        "print(classification_report(testing_labels5, rounded_labels35, labels=[0,1,2]))"
      ],
      "metadata": {
        "id": "WEXdC3JtMXBu",
        "colab": {
          "base_uri": "https://localhost:8080/"
        },
        "outputId": "8dc6f3e5-d0f6-494a-edf0-5389ed34c4ac"
      },
      "execution_count": null,
      "outputs": [
        {
          "output_type": "stream",
          "name": "stdout",
          "text": [
            "[[3729   57  249]\n",
            " [ 345  472  637]\n",
            " [ 131  135 2561]]\n",
            "              precision    recall  f1-score   support\n",
            "\n",
            "           0       0.89      0.92      0.91      4035\n",
            "           1       0.71      0.32      0.45      1454\n",
            "           2       0.74      0.91      0.82      2827\n",
            "\n",
            "    accuracy                           0.81      8316\n",
            "   macro avg       0.78      0.72      0.72      8316\n",
            "weighted avg       0.81      0.81      0.79      8316\n",
            "\n"
          ]
        }
      ]
    },
    {
      "cell_type": "code",
      "source": [
        "import matplotlib.pyplot as plt\n",
        "import numpy\n",
        "# summarize history for accuracy\n",
        "plt.plot(history.history['loss'])\n",
        "plt.plot(history.history['val_loss'])\n",
        "plt.title('model loss')\n",
        "plt.ylabel('loss')\n",
        "plt.xlabel('epoch')\n",
        "plt.legend(['train', 'test'], loc='upper left')\n",
        "plt.show()\n",
        "# summarize history for loss\n",
        "plt.plot(history.history['accuracy'])\n",
        "plt.plot(history.history['val_accuracy'])\n",
        "plt.title('model accuracy')\n",
        "plt.ylabel('accuracy')\n",
        "plt.xlabel('epoch')\n",
        "plt.legend(['train', 'test'], loc='upper left')\n",
        "plt.show()"
      ],
      "metadata": {
        "colab": {
          "base_uri": "https://localhost:8080/",
          "height": 573
        },
        "id": "ddbAtRKXatG3",
        "outputId": "0ae92ff3-15b4-48f7-ae80-bfeb3889a742"
      },
      "execution_count": null,
      "outputs": [
        {
          "output_type": "display_data",
          "data": {
            "text/plain": [
              "<Figure size 432x288 with 1 Axes>"
            ],
            "image/png": "[encoded data removed]"
          },
          "metadata": {
            "needs_background": "light"
          }
        },
        {
          "output_type": "display_data",
          "data": {
            "text/plain": [
              "<Figure size 432x288 with 1 Axes>"
            ],
            "image/png": "[encoded data removed]"
          },
          "metadata": {
            "needs_background": "light"
          }
        }
      ]
    },
    {
      "cell_type": "markdown",
      "source": [
        "##Conclusion\n",
        "###The accuracy for the three models is 58% yet the complexity varies. The first model has 690 579 trainale parameters which makes it the most complex amongs the three of them with the second having 618 083 trainable parameters and the third having 618 739 trainable parameters.\n",
        "###After giving the problem a first look, we can suspect that:\n",
        "* This is a deep Learning Problem where we need more data and a bigger model so we can track the pattern and better the model's accuracy\n",
        "* Te model is not getting the pattern in the data well so this can be due to some data imbalence \n",
        "* We need to further explore our data and to create a bigger model"
      ],
      "metadata": {
        "id": "__2IcBnQa-4Y"
      }
    },
    {
      "cell_type": "markdown",
      "source": [
        "#Terms\n",
        "##BURT: is a transformar model\n",
        "##Sentiment Classification: A prabability distrubution over two classes\n",
        "##Text Encoding: How to encode the texts into a numerical presentation that we can be handled by the machine learning model\n",
        "##Transformers: The State-Of-The-Art architecture for language modeling\n",
        "#Word2vec: 2013, The Model that introduced distributed representations for language modeling"
      ],
      "metadata": {
        "id": "5SNCH0-6Eq4I"
      }
    }
  ]
}